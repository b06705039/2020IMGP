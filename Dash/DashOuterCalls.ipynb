{
 "cells": [
  {
   "cell_type": "code",
   "execution_count": 4,
   "metadata": {},
   "outputs": [
    {
     "data": {
      "text/html": [
       "        <script type=\"text/javascript\">\n",
       "        window.PlotlyConfig = {MathJaxConfig: 'local'};\n",
       "        if (window.MathJax) {MathJax.Hub.Config({SVG: {font: \"STIX-Web\"}});}\n",
       "        if (typeof require !== 'undefined') {\n",
       "        require.undef(\"plotly\");\n",
       "        requirejs.config({\n",
       "            paths: {\n",
       "                'plotly': ['https://cdn.plot.ly/plotly-latest.min']\n",
       "            }\n",
       "        });\n",
       "        require(['plotly'], function(Plotly) {\n",
       "            window._Plotly = Plotly;\n",
       "        });\n",
       "        }\n",
       "        </script>\n",
       "        "
      ]
     },
     "metadata": {},
     "output_type": "display_data"
    }
   ],
   "source": [
    "import pandas as pd\n",
    "import numpy as np\n",
    "import plotly\n",
    "from plotly.offline import download_plotlyjs, init_notebook_mode, plot, iplot\n",
    "init_notebook_mode(connected=True)"
   ]
  },
  {
   "cell_type": "markdown",
   "metadata": {},
   "source": [
    "# Plotly Express\n"
   ]
  },
  {
   "cell_type": "code",
   "execution_count": 5,
   "metadata": {},
   "outputs": [],
   "source": [
    "import plotly.express as px"
   ]
  },
  {
   "cell_type": "code",
   "execution_count": 6,
   "metadata": {},
   "outputs": [
    {
     "name": "stdout",
     "output_type": "stream",
     "text": [
      "     hour floor direction  count\n",
      "860    19    B4        up    121\n",
      "861    20    B4        up     82\n",
      "862    21    B4        up     81\n",
      "863    22    B4        up     13\n",
      "864    23    B4        up     34\n"
     ]
    }
   ],
   "source": [
    "df_s = pd.read_csv('南棟電梯.csv',index_col = 0)  \n",
    "print(df_s.tail())"
   ]
  },
  {
   "cell_type": "markdown",
   "metadata": {},
   "source": [
    "plotly express 有點像是 ggplot in R，<br>\n",
    "只要指定x,y,color等就能自動幫你分類，<br>\n",
    "下面的圖表以南棟電梯的外部電梯呼叫資料為例，<br>\n",
    "x軸為樓層、以方向分開並上色，最後以時間(小時)作為動畫影格。"
   ]
  },
  {
   "cell_type": "code",
   "execution_count": 7,
   "metadata": {},
   "outputs": [
    {
     "data": {
      "application/vnd.plotly.v1+json": {
       "config": {
        "plotlyServerURL": "https://plot.ly"
       },
       "data": [
        {
         "alignmentgroup": "True",
         "hovertemplate": "direction=down<br>Local Time=0<br>floor=%{x}<br>Frequency=%{y}<extra></extra>",
         "legendgroup": "down",
         "marker": {
          "color": "#636efa"
         },
         "name": "down",
         "offsetgroup": "down",
         "orientation": "v",
         "showlegend": true,
         "textposition": "auto",
         "type": "bar",
         "x": [
          "01",
          "02",
          "03",
          "04",
          "05",
          "06",
          "07",
          "08",
          "09",
          "10",
          "11",
          "12",
          "13",
          "14",
          "15",
          "B1",
          "B3",
          "B4"
         ],
         "xaxis": "x",
         "y": [
          47,
          1,
          132,
          257,
          69,
          93,
          96,
          182,
          90,
          11,
          77,
          108,
          64,
          74,
          47,
          8,
          1,
          0
         ],
         "yaxis": "y"
        },
        {
         "alignmentgroup": "True",
         "hovertemplate": "direction=up<br>Local Time=0<br>floor=%{x}<br>Frequency=%{y}<extra></extra>",
         "legendgroup": "up",
         "marker": {
          "color": "#EF553B"
         },
         "name": "up",
         "offsetgroup": "up",
         "orientation": "v",
         "showlegend": true,
         "textposition": "auto",
         "type": "bar",
         "x": [
          "01",
          "02",
          "03",
          "04",
          "05",
          "06",
          "07",
          "08",
          "09",
          "10",
          "11",
          "12",
          "13",
          "14",
          "15",
          "B1",
          "B3",
          "B4"
         ],
         "xaxis": "x2",
         "y": [
          496,
          0,
          10,
          8,
          10,
          7,
          7,
          2,
          3,
          0,
          1,
          3,
          3,
          2,
          0,
          55,
          2,
          12
         ],
         "yaxis": "y2"
        }
       ],
       "frames": [
        {
         "data": [
          {
           "alignmentgroup": "True",
           "hovertemplate": "direction=down<br>Local Time=0<br>floor=%{x}<br>Frequency=%{y}<extra></extra>",
           "legendgroup": "down",
           "marker": {
            "color": "#636efa"
           },
           "name": "down",
           "offsetgroup": "down",
           "orientation": "v",
           "showlegend": true,
           "textposition": "auto",
           "type": "bar",
           "x": [
            "01",
            "02",
            "03",
            "04",
            "05",
            "06",
            "07",
            "08",
            "09",
            "10",
            "11",
            "12",
            "13",
            "14",
            "15",
            "B1",
            "B3",
            "B4"
           ],
           "xaxis": "x",
           "y": [
            47,
            1,
            132,
            257,
            69,
            93,
            96,
            182,
            90,
            11,
            77,
            108,
            64,
            74,
            47,
            8,
            1,
            0
           ],
           "yaxis": "y"
          },
          {
           "alignmentgroup": "True",
           "hovertemplate": "direction=up<br>Local Time=0<br>floor=%{x}<br>Frequency=%{y}<extra></extra>",
           "legendgroup": "up",
           "marker": {
            "color": "#EF553B"
           },
           "name": "up",
           "offsetgroup": "up",
           "orientation": "v",
           "showlegend": true,
           "textposition": "auto",
           "type": "bar",
           "x": [
            "01",
            "02",
            "03",
            "04",
            "05",
            "06",
            "07",
            "08",
            "09",
            "10",
            "11",
            "12",
            "13",
            "14",
            "15",
            "B1",
            "B3",
            "B4"
           ],
           "xaxis": "x2",
           "y": [
            496,
            0,
            10,
            8,
            10,
            7,
            7,
            2,
            3,
            0,
            1,
            3,
            3,
            2,
            0,
            55,
            2,
            12
           ],
           "yaxis": "y2"
          }
         ],
         "name": "0"
        },
        {
         "data": [
          {
           "alignmentgroup": "True",
           "hovertemplate": "direction=down<br>Local Time=1<br>floor=%{x}<br>Frequency=%{y}<extra></extra>",
           "legendgroup": "down",
           "marker": {
            "color": "#636efa"
           },
           "name": "down",
           "offsetgroup": "down",
           "orientation": "v",
           "showlegend": true,
           "textposition": "auto",
           "type": "bar",
           "x": [
            "01",
            "02",
            "03",
            "04",
            "05",
            "06",
            "07",
            "08",
            "09",
            "10",
            "11",
            "12",
            "13",
            "14",
            "15",
            "B1",
            "B3",
            "B4"
           ],
           "xaxis": "x",
           "y": [
            20,
            2,
            58,
            61,
            70,
            70,
            74,
            57,
            76,
            7,
            37,
            83,
            28,
            107,
            17,
            21,
            0,
            0
           ],
           "yaxis": "y"
          },
          {
           "alignmentgroup": "True",
           "hovertemplate": "direction=up<br>Local Time=1<br>floor=%{x}<br>Frequency=%{y}<extra></extra>",
           "legendgroup": "up",
           "marker": {
            "color": "#EF553B"
           },
           "name": "up",
           "offsetgroup": "up",
           "orientation": "v",
           "showlegend": true,
           "textposition": "auto",
           "type": "bar",
           "x": [
            "01",
            "02",
            "03",
            "04",
            "05",
            "06",
            "07",
            "08",
            "09",
            "10",
            "11",
            "12",
            "13",
            "14",
            "15",
            "B1",
            "B3",
            "B4"
           ],
           "xaxis": "x2",
           "y": [
            299,
            5,
            14,
            4,
            5,
            5,
            4,
            5,
            2,
            0,
            0,
            2,
            2,
            2,
            0,
            53,
            2,
            4
           ],
           "yaxis": "y2"
          }
         ],
         "name": "1"
        },
        {
         "data": [
          {
           "alignmentgroup": "True",
           "hovertemplate": "direction=down<br>Local Time=2<br>floor=%{x}<br>Frequency=%{y}<extra></extra>",
           "legendgroup": "down",
           "marker": {
            "color": "#636efa"
           },
           "name": "down",
           "offsetgroup": "down",
           "orientation": "v",
           "showlegend": true,
           "textposition": "auto",
           "type": "bar",
           "x": [
            "01",
            "02",
            "03",
            "04",
            "05",
            "06",
            "07",
            "08",
            "09",
            "10",
            "11",
            "12",
            "13",
            "14",
            "15",
            "B1",
            "B3",
            "B4"
           ],
           "xaxis": "x",
           "y": [
            5,
            1,
            19,
            16,
            38,
            26,
            72,
            31,
            20,
            5,
            18,
            54,
            24,
            31,
            2,
            1,
            0,
            0
           ],
           "yaxis": "y"
          },
          {
           "alignmentgroup": "True",
           "hovertemplate": "direction=up<br>Local Time=2<br>floor=%{x}<br>Frequency=%{y}<extra></extra>",
           "legendgroup": "up",
           "marker": {
            "color": "#EF553B"
           },
           "name": "up",
           "offsetgroup": "up",
           "orientation": "v",
           "showlegend": true,
           "textposition": "auto",
           "type": "bar",
           "x": [
            "01",
            "02",
            "03",
            "04",
            "05",
            "06",
            "07",
            "08",
            "09",
            "10",
            "11",
            "12",
            "13",
            "14",
            "15",
            "B1",
            "B3",
            "B4"
           ],
           "xaxis": "x2",
           "y": [
            173,
            1,
            12,
            4,
            7,
            3,
            0,
            0,
            1,
            1,
            1,
            0,
            1,
            0,
            0,
            29,
            0,
            4
           ],
           "yaxis": "y2"
          }
         ],
         "name": "2"
        },
        {
         "data": [
          {
           "alignmentgroup": "True",
           "hovertemplate": "direction=down<br>Local Time=3<br>floor=%{x}<br>Frequency=%{y}<extra></extra>",
           "legendgroup": "down",
           "marker": {
            "color": "#636efa"
           },
           "name": "down",
           "offsetgroup": "down",
           "orientation": "v",
           "showlegend": true,
           "textposition": "auto",
           "type": "bar",
           "x": [
            "01",
            "02",
            "03",
            "04",
            "05",
            "06",
            "07",
            "08",
            "09",
            "10",
            "11",
            "12",
            "13",
            "14",
            "15",
            "B1",
            "B3",
            "B4"
           ],
           "xaxis": "x",
           "y": [
            14,
            2,
            13,
            11,
            18,
            28,
            41,
            14,
            9,
            4,
            11,
            22,
            25,
            19,
            6,
            1,
            0,
            0
           ],
           "yaxis": "y"
          },
          {
           "alignmentgroup": "True",
           "hovertemplate": "direction=up<br>Local Time=3<br>floor=%{x}<br>Frequency=%{y}<extra></extra>",
           "legendgroup": "up",
           "marker": {
            "color": "#EF553B"
           },
           "name": "up",
           "offsetgroup": "up",
           "orientation": "v",
           "showlegend": true,
           "textposition": "auto",
           "type": "bar",
           "x": [
            "01",
            "02",
            "03",
            "04",
            "05",
            "06",
            "07",
            "08",
            "09",
            "10",
            "11",
            "12",
            "13",
            "14",
            "15",
            "B1",
            "B3",
            "B4"
           ],
           "xaxis": "x2",
           "y": [
            113,
            5,
            6,
            4,
            4,
            2,
            4,
            0,
            1,
            0,
            1,
            1,
            0,
            1,
            0,
            32,
            0,
            6
           ],
           "yaxis": "y2"
          }
         ],
         "name": "3"
        },
        {
         "data": [
          {
           "alignmentgroup": "True",
           "hovertemplate": "direction=down<br>Local Time=4<br>floor=%{x}<br>Frequency=%{y}<extra></extra>",
           "legendgroup": "down",
           "marker": {
            "color": "#636efa"
           },
           "name": "down",
           "offsetgroup": "down",
           "orientation": "v",
           "showlegend": true,
           "textposition": "auto",
           "type": "bar",
           "x": [
            "01",
            "02",
            "03",
            "04",
            "05",
            "06",
            "07",
            "08",
            "09",
            "10",
            "11",
            "12",
            "13",
            "14",
            "15",
            "B1",
            "B3",
            "B4"
           ],
           "xaxis": "x",
           "y": [
            25,
            4,
            12,
            14,
            16,
            29,
            27,
            21,
            16,
            5,
            9,
            27,
            21,
            21,
            0,
            0,
            0,
            0
           ],
           "yaxis": "y"
          },
          {
           "alignmentgroup": "True",
           "hovertemplate": "direction=up<br>Local Time=4<br>floor=%{x}<br>Frequency=%{y}<extra></extra>",
           "legendgroup": "up",
           "marker": {
            "color": "#EF553B"
           },
           "name": "up",
           "offsetgroup": "up",
           "orientation": "v",
           "showlegend": true,
           "textposition": "auto",
           "type": "bar",
           "x": [
            "01",
            "02",
            "03",
            "04",
            "05",
            "06",
            "07",
            "08",
            "09",
            "10",
            "11",
            "12",
            "13",
            "14",
            "15",
            "B1",
            "B3",
            "B4"
           ],
           "xaxis": "x2",
           "y": [
            151,
            0,
            8,
            4,
            5,
            1,
            4,
            0,
            0,
            0,
            0,
            0,
            0,
            0,
            0,
            32,
            3,
            6
           ],
           "yaxis": "y2"
          }
         ],
         "name": "4"
        },
        {
         "data": [
          {
           "alignmentgroup": "True",
           "hovertemplate": "direction=down<br>Local Time=5<br>floor=%{x}<br>Frequency=%{y}<extra></extra>",
           "legendgroup": "down",
           "marker": {
            "color": "#636efa"
           },
           "name": "down",
           "offsetgroup": "down",
           "orientation": "v",
           "showlegend": true,
           "textposition": "auto",
           "type": "bar",
           "x": [
            "01",
            "02",
            "03",
            "04",
            "05",
            "06",
            "07",
            "08",
            "09",
            "10",
            "11",
            "12",
            "13",
            "14",
            "15",
            "B1",
            "B3",
            "B4"
           ],
           "xaxis": "x",
           "y": [
            26,
            0,
            11,
            11,
            36,
            81,
            77,
            40,
            40,
            3,
            60,
            79,
            56,
            62,
            5,
            0,
            0,
            0
           ],
           "yaxis": "y"
          },
          {
           "alignmentgroup": "True",
           "hovertemplate": "direction=up<br>Local Time=5<br>floor=%{x}<br>Frequency=%{y}<extra></extra>",
           "legendgroup": "up",
           "marker": {
            "color": "#EF553B"
           },
           "name": "up",
           "offsetgroup": "up",
           "orientation": "v",
           "showlegend": true,
           "textposition": "auto",
           "type": "bar",
           "x": [
            "01",
            "02",
            "03",
            "04",
            "05",
            "06",
            "07",
            "08",
            "09",
            "10",
            "11",
            "12",
            "13",
            "14",
            "15",
            "B1",
            "B3",
            "B4"
           ],
           "xaxis": "x2",
           "y": [
            339,
            0,
            6,
            4,
            2,
            6,
            1,
            2,
            3,
            0,
            2,
            3,
            5,
            1,
            0,
            60,
            4,
            16
           ],
           "yaxis": "y2"
          }
         ],
         "name": "5"
        },
        {
         "data": [
          {
           "alignmentgroup": "True",
           "hovertemplate": "direction=down<br>Local Time=6<br>floor=%{x}<br>Frequency=%{y}<extra></extra>",
           "legendgroup": "down",
           "marker": {
            "color": "#636efa"
           },
           "name": "down",
           "offsetgroup": "down",
           "orientation": "v",
           "showlegend": true,
           "textposition": "auto",
           "type": "bar",
           "x": [
            "01",
            "02",
            "03",
            "04",
            "05",
            "06",
            "07",
            "08",
            "09",
            "10",
            "11",
            "12",
            "13",
            "14",
            "15",
            "B1",
            "B3",
            "B4"
           ],
           "xaxis": "x",
           "y": [
            126,
            23,
            134,
            39,
            108,
            279,
            241,
            204,
            146,
            0,
            208,
            157,
            217,
            274,
            12,
            45,
            1,
            0
           ],
           "yaxis": "y"
          },
          {
           "alignmentgroup": "True",
           "hovertemplate": "direction=up<br>Local Time=6<br>floor=%{x}<br>Frequency=%{y}<extra></extra>",
           "legendgroup": "up",
           "marker": {
            "color": "#EF553B"
           },
           "name": "up",
           "offsetgroup": "up",
           "orientation": "v",
           "showlegend": true,
           "textposition": "auto",
           "type": "bar",
           "x": [
            "01",
            "02",
            "03",
            "04",
            "05",
            "06",
            "07",
            "08",
            "09",
            "10",
            "11",
            "12",
            "13",
            "14",
            "15",
            "B1",
            "B3",
            "B4"
           ],
           "xaxis": "x2",
           "y": [
            1270,
            1,
            9,
            14,
            19,
            84,
            6,
            10,
            5,
            3,
            3,
            8,
            19,
            14,
            0,
            521,
            36,
            88
           ],
           "yaxis": "y2"
          }
         ],
         "name": "6"
        },
        {
         "data": [
          {
           "alignmentgroup": "True",
           "hovertemplate": "direction=down<br>Local Time=7<br>floor=%{x}<br>Frequency=%{y}<extra></extra>",
           "legendgroup": "down",
           "marker": {
            "color": "#636efa"
           },
           "name": "down",
           "offsetgroup": "down",
           "orientation": "v",
           "showlegend": true,
           "textposition": "auto",
           "type": "bar",
           "x": [
            "01",
            "02",
            "03",
            "04",
            "05",
            "06",
            "07",
            "08",
            "09",
            "10",
            "11",
            "12",
            "13",
            "14",
            "15",
            "B1",
            "B3",
            "B4"
           ],
           "xaxis": "x",
           "y": [
            216,
            21,
            165,
            101,
            192,
            348,
            334,
            371,
            309,
            15,
            373,
            365,
            370,
            362,
            96,
            85,
            19,
            0
           ],
           "yaxis": "y"
          },
          {
           "alignmentgroup": "True",
           "hovertemplate": "direction=up<br>Local Time=7<br>floor=%{x}<br>Frequency=%{y}<extra></extra>",
           "legendgroup": "up",
           "marker": {
            "color": "#EF553B"
           },
           "name": "up",
           "offsetgroup": "up",
           "orientation": "v",
           "showlegend": true,
           "textposition": "auto",
           "type": "bar",
           "x": [
            "01",
            "02",
            "03",
            "04",
            "05",
            "06",
            "07",
            "08",
            "09",
            "10",
            "11",
            "12",
            "13",
            "14",
            "15",
            "B1",
            "B3",
            "B4"
           ],
           "xaxis": "x2",
           "y": [
            1028,
            45,
            100,
            80,
            47,
            95,
            34,
            30,
            55,
            3,
            15,
            18,
            41,
            12,
            0,
            858,
            245,
            344
           ],
           "yaxis": "y2"
          }
         ],
         "name": "7"
        },
        {
         "data": [
          {
           "alignmentgroup": "True",
           "hovertemplate": "direction=down<br>Local Time=8<br>floor=%{x}<br>Frequency=%{y}<extra></extra>",
           "legendgroup": "down",
           "marker": {
            "color": "#636efa"
           },
           "name": "down",
           "offsetgroup": "down",
           "orientation": "v",
           "showlegend": true,
           "textposition": "auto",
           "type": "bar",
           "x": [
            "01",
            "02",
            "03",
            "04",
            "05",
            "06",
            "07",
            "08",
            "09",
            "10",
            "11",
            "12",
            "13",
            "14",
            "15",
            "B1",
            "B3",
            "B4"
           ],
           "xaxis": "x",
           "y": [
            254,
            32,
            270,
            247,
            245,
            424,
            374,
            450,
            474,
            60,
            451,
            396,
            432,
            386,
            170,
            110,
            15,
            0
           ],
           "yaxis": "y"
          },
          {
           "alignmentgroup": "True",
           "hovertemplate": "direction=up<br>Local Time=8<br>floor=%{x}<br>Frequency=%{y}<extra></extra>",
           "legendgroup": "up",
           "marker": {
            "color": "#EF553B"
           },
           "name": "up",
           "offsetgroup": "up",
           "orientation": "v",
           "showlegend": true,
           "textposition": "auto",
           "type": "bar",
           "x": [
            "01",
            "02",
            "03",
            "04",
            "05",
            "06",
            "07",
            "08",
            "09",
            "10",
            "11",
            "12",
            "13",
            "14",
            "15",
            "B1",
            "B3",
            "B4"
           ],
           "xaxis": "x2",
           "y": [
            944,
            68,
            163,
            117,
            64,
            53,
            45,
            23,
            30,
            10,
            9,
            18,
            11,
            18,
            0,
            791,
            197,
            330
           ],
           "yaxis": "y2"
          }
         ],
         "name": "8"
        },
        {
         "data": [
          {
           "alignmentgroup": "True",
           "hovertemplate": "direction=down<br>Local Time=9<br>floor=%{x}<br>Frequency=%{y}<extra></extra>",
           "legendgroup": "down",
           "marker": {
            "color": "#636efa"
           },
           "name": "down",
           "offsetgroup": "down",
           "orientation": "v",
           "showlegend": true,
           "textposition": "auto",
           "type": "bar",
           "x": [
            "01",
            "02",
            "03",
            "04",
            "05",
            "06",
            "07",
            "08",
            "09",
            "10",
            "11",
            "12",
            "13",
            "14",
            "15",
            "B1",
            "B3",
            "B4"
           ],
           "xaxis": "x",
           "y": [
            208,
            62,
            247,
            223,
            303,
            419,
            389,
            411,
            413,
            146,
            405,
            392,
            447,
            451,
            195,
            116,
            18,
            0
           ],
           "yaxis": "y"
          },
          {
           "alignmentgroup": "True",
           "hovertemplate": "direction=up<br>Local Time=9<br>floor=%{x}<br>Frequency=%{y}<extra></extra>",
           "legendgroup": "up",
           "marker": {
            "color": "#EF553B"
           },
           "name": "up",
           "offsetgroup": "up",
           "orientation": "v",
           "showlegend": true,
           "textposition": "auto",
           "type": "bar",
           "x": [
            "01",
            "02",
            "03",
            "04",
            "05",
            "06",
            "07",
            "08",
            "09",
            "10",
            "11",
            "12",
            "13",
            "14",
            "15",
            "B1",
            "B3",
            "B4"
           ],
           "xaxis": "x2",
           "y": [
            877,
            125,
            151,
            197,
            104,
            49,
            72,
            55,
            58,
            12,
            16,
            16,
            23,
            12,
            0,
            681,
            174,
            298
           ],
           "yaxis": "y2"
          }
         ],
         "name": "9"
        },
        {
         "data": [
          {
           "alignmentgroup": "True",
           "hovertemplate": "direction=down<br>Local Time=10<br>floor=%{x}<br>Frequency=%{y}<extra></extra>",
           "legendgroup": "down",
           "marker": {
            "color": "#636efa"
           },
           "name": "down",
           "offsetgroup": "down",
           "orientation": "v",
           "showlegend": true,
           "textposition": "auto",
           "type": "bar",
           "x": [
            "01",
            "02",
            "03",
            "04",
            "05",
            "06",
            "07",
            "08",
            "09",
            "10",
            "11",
            "12",
            "13",
            "14",
            "15",
            "B1",
            "B3",
            "B4"
           ],
           "xaxis": "x",
           "y": [
            238,
            56,
            263,
            226,
            302,
            427,
            398,
            432,
            413,
            171,
            406,
            388,
            403,
            412,
            177,
            117,
            31,
            0
           ],
           "yaxis": "y"
          },
          {
           "alignmentgroup": "True",
           "hovertemplate": "direction=up<br>Local Time=10<br>floor=%{x}<br>Frequency=%{y}<extra></extra>",
           "legendgroup": "up",
           "marker": {
            "color": "#EF553B"
           },
           "name": "up",
           "offsetgroup": "up",
           "orientation": "v",
           "showlegend": true,
           "textposition": "auto",
           "type": "bar",
           "x": [
            "01",
            "02",
            "03",
            "04",
            "05",
            "06",
            "07",
            "08",
            "09",
            "10",
            "11",
            "12",
            "13",
            "14",
            "15",
            "B1",
            "B3",
            "B4"
           ],
           "xaxis": "x2",
           "y": [
            777,
            92,
            162,
            143,
            91,
            94,
            89,
            86,
            41,
            29,
            34,
            40,
            16,
            9,
            0,
            607,
            138,
            285
           ],
           "yaxis": "y2"
          }
         ],
         "name": "10"
        },
        {
         "data": [
          {
           "alignmentgroup": "True",
           "hovertemplate": "direction=down<br>Local Time=11<br>floor=%{x}<br>Frequency=%{y}<extra></extra>",
           "legendgroup": "down",
           "marker": {
            "color": "#636efa"
           },
           "name": "down",
           "offsetgroup": "down",
           "orientation": "v",
           "showlegend": true,
           "textposition": "auto",
           "type": "bar",
           "x": [
            "01",
            "02",
            "03",
            "04",
            "05",
            "06",
            "07",
            "08",
            "09",
            "10",
            "11",
            "12",
            "13",
            "14",
            "15",
            "B1",
            "B3",
            "B4"
           ],
           "xaxis": "x",
           "y": [
            253,
            66,
            310,
            276,
            266,
            362,
            427,
            425,
            416,
            160,
            420,
            452,
            457,
            458,
            266,
            148,
            32,
            0
           ],
           "yaxis": "y"
          },
          {
           "alignmentgroup": "True",
           "hovertemplate": "direction=up<br>Local Time=11<br>floor=%{x}<br>Frequency=%{y}<extra></extra>",
           "legendgroup": "up",
           "marker": {
            "color": "#EF553B"
           },
           "name": "up",
           "offsetgroup": "up",
           "orientation": "v",
           "showlegend": true,
           "textposition": "auto",
           "type": "bar",
           "x": [
            "01",
            "02",
            "03",
            "04",
            "05",
            "06",
            "07",
            "08",
            "09",
            "10",
            "11",
            "12",
            "13",
            "14",
            "15",
            "B1",
            "B3",
            "B4"
           ],
           "xaxis": "x2",
           "y": [
            655,
            119,
            175,
            172,
            98,
            91,
            95,
            71,
            58,
            32,
            39,
            57,
            38,
            18,
            0,
            674,
            148,
            298
           ],
           "yaxis": "y2"
          }
         ],
         "name": "11"
        },
        {
         "data": [
          {
           "alignmentgroup": "True",
           "hovertemplate": "direction=down<br>Local Time=12<br>floor=%{x}<br>Frequency=%{y}<extra></extra>",
           "legendgroup": "down",
           "marker": {
            "color": "#636efa"
           },
           "name": "down",
           "offsetgroup": "down",
           "orientation": "v",
           "showlegend": true,
           "textposition": "auto",
           "type": "bar",
           "x": [
            "01",
            "02",
            "03",
            "04",
            "05",
            "06",
            "07",
            "08",
            "09",
            "10",
            "11",
            "12",
            "13",
            "14",
            "15",
            "B1",
            "B3",
            "B4"
           ],
           "xaxis": "x",
           "y": [
            232,
            45,
            296,
            318,
            290,
            366,
            429,
            431,
            425,
            165,
            425,
            466,
            461,
            483,
            234,
            164,
            31,
            0
           ],
           "yaxis": "y"
          },
          {
           "alignmentgroup": "True",
           "hovertemplate": "direction=up<br>Local Time=12<br>floor=%{x}<br>Frequency=%{y}<extra></extra>",
           "legendgroup": "up",
           "marker": {
            "color": "#EF553B"
           },
           "name": "up",
           "offsetgroup": "up",
           "orientation": "v",
           "showlegend": true,
           "textposition": "auto",
           "type": "bar",
           "x": [
            "01",
            "02",
            "03",
            "04",
            "05",
            "06",
            "07",
            "08",
            "09",
            "10",
            "11",
            "12",
            "13",
            "14",
            "15",
            "B1",
            "B3",
            "B4"
           ],
           "xaxis": "x2",
           "y": [
            723,
            92,
            151,
            114,
            96,
            70,
            125,
            58,
            38,
            17,
            19,
            30,
            15,
            16,
            0,
            720,
            132,
            232
           ],
           "yaxis": "y2"
          }
         ],
         "name": "12"
        },
        {
         "data": [
          {
           "alignmentgroup": "True",
           "hovertemplate": "direction=down<br>Local Time=13<br>floor=%{x}<br>Frequency=%{y}<extra></extra>",
           "legendgroup": "down",
           "marker": {
            "color": "#636efa"
           },
           "name": "down",
           "offsetgroup": "down",
           "orientation": "v",
           "showlegend": true,
           "textposition": "auto",
           "type": "bar",
           "x": [
            "01",
            "02",
            "03",
            "04",
            "05",
            "06",
            "07",
            "08",
            "09",
            "10",
            "11",
            "12",
            "13",
            "14",
            "15",
            "B1",
            "B3",
            "B4"
           ],
           "xaxis": "x",
           "y": [
            238,
            73,
            282,
            232,
            273,
            355,
            434,
            440,
            392,
            166,
            438,
            467,
            413,
            433,
            188,
            158,
            18,
            0
           ],
           "yaxis": "y"
          },
          {
           "alignmentgroup": "True",
           "hovertemplate": "direction=up<br>Local Time=13<br>floor=%{x}<br>Frequency=%{y}<extra></extra>",
           "legendgroup": "up",
           "marker": {
            "color": "#EF553B"
           },
           "name": "up",
           "offsetgroup": "up",
           "orientation": "v",
           "showlegend": true,
           "textposition": "auto",
           "type": "bar",
           "x": [
            "01",
            "02",
            "03",
            "04",
            "05",
            "06",
            "07",
            "08",
            "09",
            "10",
            "11",
            "12",
            "13",
            "14",
            "15",
            "B1",
            "B3",
            "B4"
           ],
           "xaxis": "x2",
           "y": [
            795,
            102,
            210,
            157,
            107,
            59,
            101,
            55,
            39,
            28,
            32,
            34,
            22,
            24,
            0,
            689,
            122,
            288
           ],
           "yaxis": "y2"
          }
         ],
         "name": "13"
        },
        {
         "data": [
          {
           "alignmentgroup": "True",
           "hovertemplate": "direction=down<br>Local Time=14<br>floor=%{x}<br>Frequency=%{y}<extra></extra>",
           "legendgroup": "down",
           "marker": {
            "color": "#636efa"
           },
           "name": "down",
           "offsetgroup": "down",
           "orientation": "v",
           "showlegend": true,
           "textposition": "auto",
           "type": "bar",
           "x": [
            "01",
            "02",
            "03",
            "04",
            "05",
            "06",
            "07",
            "08",
            "09",
            "10",
            "11",
            "12",
            "13",
            "14",
            "15",
            "B1",
            "B3",
            "B4"
           ],
           "xaxis": "x",
           "y": [
            214,
            54,
            303,
            328,
            298,
            388,
            422,
            408,
            406,
            184,
            384,
            429,
            430,
            405,
            179,
            137,
            30,
            0
           ],
           "yaxis": "y"
          },
          {
           "alignmentgroup": "True",
           "hovertemplate": "direction=up<br>Local Time=14<br>floor=%{x}<br>Frequency=%{y}<extra></extra>",
           "legendgroup": "up",
           "marker": {
            "color": "#EF553B"
           },
           "name": "up",
           "offsetgroup": "up",
           "orientation": "v",
           "showlegend": true,
           "textposition": "auto",
           "type": "bar",
           "x": [
            "01",
            "02",
            "03",
            "04",
            "05",
            "06",
            "07",
            "08",
            "09",
            "10",
            "11",
            "12",
            "13",
            "14",
            "15",
            "B1",
            "B3",
            "B4"
           ],
           "xaxis": "x2",
           "y": [
            819,
            90,
            210,
            205,
            145,
            110,
            82,
            78,
            50,
            19,
            21,
            32,
            15,
            18,
            0,
            666,
            125,
            329
           ],
           "yaxis": "y2"
          }
         ],
         "name": "14"
        },
        {
         "data": [
          {
           "alignmentgroup": "True",
           "hovertemplate": "direction=down<br>Local Time=15<br>floor=%{x}<br>Frequency=%{y}<extra></extra>",
           "legendgroup": "down",
           "marker": {
            "color": "#636efa"
           },
           "name": "down",
           "offsetgroup": "down",
           "orientation": "v",
           "showlegend": true,
           "textposition": "auto",
           "type": "bar",
           "x": [
            "01",
            "02",
            "03",
            "04",
            "05",
            "06",
            "07",
            "08",
            "09",
            "10",
            "11",
            "12",
            "13",
            "14",
            "15",
            "B1",
            "B3",
            "B4"
           ],
           "xaxis": "x",
           "y": [
            254,
            63,
            399,
            389,
            295,
            421,
            424,
            438,
            421,
            213,
            408,
            432,
            440,
            434,
            213,
            111,
            38,
            0
           ],
           "yaxis": "y"
          },
          {
           "alignmentgroup": "True",
           "hovertemplate": "direction=up<br>Local Time=15<br>floor=%{x}<br>Frequency=%{y}<extra></extra>",
           "legendgroup": "up",
           "marker": {
            "color": "#EF553B"
           },
           "name": "up",
           "offsetgroup": "up",
           "orientation": "v",
           "showlegend": true,
           "textposition": "auto",
           "type": "bar",
           "x": [
            "01",
            "02",
            "03",
            "04",
            "05",
            "06",
            "07",
            "08",
            "09",
            "10",
            "11",
            "12",
            "13",
            "14",
            "15",
            "B1",
            "B3",
            "B4"
           ],
           "xaxis": "x2",
           "y": [
            844,
            109,
            192,
            157,
            118,
            89,
            104,
            85,
            61,
            35,
            24,
            40,
            24,
            10,
            0,
            624,
            129,
            332
           ],
           "yaxis": "y2"
          }
         ],
         "name": "15"
        },
        {
         "data": [
          {
           "alignmentgroup": "True",
           "hovertemplate": "direction=down<br>Local Time=16<br>floor=%{x}<br>Frequency=%{y}<extra></extra>",
           "legendgroup": "down",
           "marker": {
            "color": "#636efa"
           },
           "name": "down",
           "offsetgroup": "down",
           "orientation": "v",
           "showlegend": true,
           "textposition": "auto",
           "type": "bar",
           "x": [
            "01",
            "02",
            "03",
            "04",
            "05",
            "06",
            "07",
            "08",
            "09",
            "10",
            "11",
            "12",
            "13",
            "14",
            "15",
            "B1",
            "B3",
            "B4"
           ],
           "xaxis": "x",
           "y": [
            240,
            62,
            343,
            366,
            344,
            420,
            439,
            513,
            469,
            198,
            431,
            470,
            485,
            477,
            260,
            147,
            37,
            0
           ],
           "yaxis": "y"
          },
          {
           "alignmentgroup": "True",
           "hovertemplate": "direction=up<br>Local Time=16<br>floor=%{x}<br>Frequency=%{y}<extra></extra>",
           "legendgroup": "up",
           "marker": {
            "color": "#EF553B"
           },
           "name": "up",
           "offsetgroup": "up",
           "orientation": "v",
           "showlegend": true,
           "textposition": "auto",
           "type": "bar",
           "x": [
            "01",
            "02",
            "03",
            "04",
            "05",
            "06",
            "07",
            "08",
            "09",
            "10",
            "11",
            "12",
            "13",
            "14",
            "15",
            "B1",
            "B3",
            "B4"
           ],
           "xaxis": "x2",
           "y": [
            827,
            124,
            169,
            177,
            125,
            96,
            94,
            78,
            76,
            42,
            19,
            25,
            29,
            25,
            0,
            657,
            103,
            340
           ],
           "yaxis": "y2"
          }
         ],
         "name": "16"
        },
        {
         "data": [
          {
           "alignmentgroup": "True",
           "hovertemplate": "direction=down<br>Local Time=17<br>floor=%{x}<br>Frequency=%{y}<extra></extra>",
           "legendgroup": "down",
           "marker": {
            "color": "#636efa"
           },
           "name": "down",
           "offsetgroup": "down",
           "orientation": "v",
           "showlegend": true,
           "textposition": "auto",
           "type": "bar",
           "x": [
            "01",
            "02",
            "03",
            "04",
            "05",
            "06",
            "07",
            "08",
            "09",
            "10",
            "11",
            "12",
            "13",
            "14",
            "15",
            "B1",
            "B3",
            "B4"
           ],
           "xaxis": "x",
           "y": [
            209,
            35,
            359,
            229,
            333,
            433,
            494,
            506,
            511,
            230,
            519,
            549,
            526,
            528,
            269,
            137,
            8,
            0
           ],
           "yaxis": "y"
          },
          {
           "alignmentgroup": "True",
           "hovertemplate": "direction=up<br>Local Time=17<br>floor=%{x}<br>Frequency=%{y}<extra></extra>",
           "legendgroup": "up",
           "marker": {
            "color": "#EF553B"
           },
           "name": "up",
           "offsetgroup": "up",
           "orientation": "v",
           "showlegend": true,
           "textposition": "auto",
           "type": "bar",
           "x": [
            "01",
            "02",
            "03",
            "04",
            "05",
            "06",
            "07",
            "08",
            "09",
            "10",
            "11",
            "12",
            "13",
            "14",
            "15",
            "B1",
            "B3",
            "B4"
           ],
           "xaxis": "x2",
           "y": [
            830,
            72,
            168,
            124,
            100,
            69,
            93,
            37,
            54,
            36,
            22,
            26,
            21,
            17,
            0,
            755,
            77,
            299
           ],
           "yaxis": "y2"
          }
         ],
         "name": "17"
        },
        {
         "data": [
          {
           "alignmentgroup": "True",
           "hovertemplate": "direction=down<br>Local Time=18<br>floor=%{x}<br>Frequency=%{y}<extra></extra>",
           "legendgroup": "down",
           "marker": {
            "color": "#636efa"
           },
           "name": "down",
           "offsetgroup": "down",
           "orientation": "v",
           "showlegend": true,
           "textposition": "auto",
           "type": "bar",
           "x": [
            "01",
            "02",
            "03",
            "04",
            "05",
            "06",
            "07",
            "08",
            "09",
            "10",
            "11",
            "12",
            "13",
            "14",
            "15",
            "B1",
            "B3",
            "B4"
           ],
           "xaxis": "x",
           "y": [
            179,
            34,
            303,
            169,
            328,
            466,
            507,
            519,
            526,
            161,
            507,
            533,
            502,
            531,
            139,
            91,
            2,
            0
           ],
           "yaxis": "y"
          },
          {
           "alignmentgroup": "True",
           "hovertemplate": "direction=up<br>Local Time=18<br>floor=%{x}<br>Frequency=%{y}<extra></extra>",
           "legendgroup": "up",
           "marker": {
            "color": "#EF553B"
           },
           "name": "up",
           "offsetgroup": "up",
           "orientation": "v",
           "showlegend": true,
           "textposition": "auto",
           "type": "bar",
           "x": [
            "01",
            "02",
            "03",
            "04",
            "05",
            "06",
            "07",
            "08",
            "09",
            "10",
            "11",
            "12",
            "13",
            "14",
            "15",
            "B1",
            "B3",
            "B4"
           ],
           "xaxis": "x2",
           "y": [
            876,
            27,
            94,
            61,
            92,
            47,
            70,
            34,
            28,
            12,
            11,
            15,
            13,
            5,
            0,
            789,
            50,
            185
           ],
           "yaxis": "y2"
          }
         ],
         "name": "18"
        },
        {
         "data": [
          {
           "alignmentgroup": "True",
           "hovertemplate": "direction=down<br>Local Time=19<br>floor=%{x}<br>Frequency=%{y}<extra></extra>",
           "legendgroup": "down",
           "marker": {
            "color": "#636efa"
           },
           "name": "down",
           "offsetgroup": "down",
           "orientation": "v",
           "showlegend": true,
           "textposition": "auto",
           "type": "bar",
           "x": [
            "01",
            "02",
            "03",
            "04",
            "05",
            "06",
            "07",
            "08",
            "09",
            "10",
            "11",
            "12",
            "13",
            "14",
            "15",
            "B1",
            "B3",
            "B4"
           ],
           "xaxis": "x",
           "y": [
            160,
            24,
            276,
            169,
            329,
            450,
            547,
            502,
            466,
            109,
            444,
            435,
            442,
            482,
            108,
            77,
            4,
            0
           ],
           "yaxis": "y"
          },
          {
           "alignmentgroup": "True",
           "hovertemplate": "direction=up<br>Local Time=19<br>floor=%{x}<br>Frequency=%{y}<extra></extra>",
           "legendgroup": "up",
           "marker": {
            "color": "#EF553B"
           },
           "name": "up",
           "offsetgroup": "up",
           "orientation": "v",
           "showlegend": true,
           "textposition": "auto",
           "type": "bar",
           "x": [
            "01",
            "02",
            "03",
            "04",
            "05",
            "06",
            "07",
            "08",
            "09",
            "10",
            "11",
            "12",
            "13",
            "14",
            "15",
            "B1",
            "B3",
            "B4"
           ],
           "xaxis": "x2",
           "y": [
            992,
            7,
            100,
            44,
            83,
            41,
            53,
            26,
            19,
            19,
            11,
            17,
            18,
            8,
            0,
            750,
            50,
            121
           ],
           "yaxis": "y2"
          }
         ],
         "name": "19"
        },
        {
         "data": [
          {
           "alignmentgroup": "True",
           "hovertemplate": "direction=down<br>Local Time=20<br>floor=%{x}<br>Frequency=%{y}<extra></extra>",
           "legendgroup": "down",
           "marker": {
            "color": "#636efa"
           },
           "name": "down",
           "offsetgroup": "down",
           "orientation": "v",
           "showlegend": true,
           "textposition": "auto",
           "type": "bar",
           "x": [
            "01",
            "02",
            "03",
            "04",
            "05",
            "06",
            "07",
            "08",
            "09",
            "10",
            "11",
            "12",
            "13",
            "14",
            "15",
            "B1",
            "B3",
            "B4"
           ],
           "xaxis": "x",
           "y": [
            96,
            19,
            402,
            464,
            268,
            434,
            517,
            482,
            397,
            59,
            398,
            395,
            374,
            415,
            81,
            58,
            0,
            0
           ],
           "yaxis": "y"
          },
          {
           "alignmentgroup": "True",
           "hovertemplate": "direction=up<br>Local Time=20<br>floor=%{x}<br>Frequency=%{y}<extra></extra>",
           "legendgroup": "up",
           "marker": {
            "color": "#EF553B"
           },
           "name": "up",
           "offsetgroup": "up",
           "orientation": "v",
           "showlegend": true,
           "textposition": "auto",
           "type": "bar",
           "x": [
            "01",
            "02",
            "03",
            "04",
            "05",
            "06",
            "07",
            "08",
            "09",
            "10",
            "11",
            "12",
            "13",
            "14",
            "15",
            "B1",
            "B3",
            "B4"
           ],
           "xaxis": "x2",
           "y": [
            1175,
            5,
            59,
            46,
            26,
            20,
            39,
            14,
            22,
            6,
            10,
            14,
            12,
            7,
            0,
            705,
            19,
            82
           ],
           "yaxis": "y2"
          }
         ],
         "name": "20"
        },
        {
         "data": [
          {
           "alignmentgroup": "True",
           "hovertemplate": "direction=down<br>Local Time=21<br>floor=%{x}<br>Frequency=%{y}<extra></extra>",
           "legendgroup": "down",
           "marker": {
            "color": "#636efa"
           },
           "name": "down",
           "offsetgroup": "down",
           "orientation": "v",
           "showlegend": true,
           "textposition": "auto",
           "type": "bar",
           "x": [
            "01",
            "02",
            "03",
            "04",
            "05",
            "06",
            "07",
            "08",
            "09",
            "10",
            "11",
            "12",
            "13",
            "14",
            "15",
            "B1",
            "B3",
            "B4"
           ],
           "xaxis": "x",
           "y": [
            81,
            7,
            199,
            138,
            206,
            363,
            439,
            407,
            361,
            33,
            320,
            265,
            285,
            317,
            57,
            37,
            4,
            0
           ],
           "yaxis": "y"
          },
          {
           "alignmentgroup": "True",
           "hovertemplate": "direction=up<br>Local Time=21<br>floor=%{x}<br>Frequency=%{y}<extra></extra>",
           "legendgroup": "up",
           "marker": {
            "color": "#EF553B"
           },
           "name": "up",
           "offsetgroup": "up",
           "orientation": "v",
           "showlegend": true,
           "textposition": "auto",
           "type": "bar",
           "x": [
            "01",
            "02",
            "03",
            "04",
            "05",
            "06",
            "07",
            "08",
            "09",
            "10",
            "11",
            "12",
            "13",
            "14",
            "15",
            "B1",
            "B3",
            "B4"
           ],
           "xaxis": "x2",
           "y": [
            1319,
            3,
            49,
            30,
            59,
            18,
            42,
            12,
            21,
            2,
            6,
            14,
            8,
            17,
            0,
            450,
            27,
            81
           ],
           "yaxis": "y2"
          }
         ],
         "name": "21"
        },
        {
         "data": [
          {
           "alignmentgroup": "True",
           "hovertemplate": "direction=down<br>Local Time=22<br>floor=%{x}<br>Frequency=%{y}<extra></extra>",
           "legendgroup": "down",
           "marker": {
            "color": "#636efa"
           },
           "name": "down",
           "offsetgroup": "down",
           "orientation": "v",
           "showlegend": true,
           "textposition": "auto",
           "type": "bar",
           "x": [
            "01",
            "02",
            "03",
            "04",
            "05",
            "06",
            "07",
            "08",
            "09",
            "10",
            "11",
            "12",
            "13",
            "14",
            "15",
            "B1",
            "B3",
            "B4"
           ],
           "xaxis": "x",
           "y": [
            57,
            6,
            325,
            75,
            122,
            196,
            242,
            265,
            171,
            23,
            193,
            160,
            172,
            248,
            31,
            16,
            4,
            0
           ],
           "yaxis": "y"
          },
          {
           "alignmentgroup": "True",
           "hovertemplate": "direction=up<br>Local Time=22<br>floor=%{x}<br>Frequency=%{y}<extra></extra>",
           "legendgroup": "up",
           "marker": {
            "color": "#EF553B"
           },
           "name": "up",
           "offsetgroup": "up",
           "orientation": "v",
           "showlegend": true,
           "textposition": "auto",
           "type": "bar",
           "x": [
            "01",
            "02",
            "03",
            "04",
            "05",
            "06",
            "07",
            "08",
            "09",
            "10",
            "11",
            "12",
            "13",
            "14",
            "15",
            "B1",
            "B3",
            "B4"
           ],
           "xaxis": "x2",
           "y": [
            1217,
            0,
            28,
            16,
            19,
            19,
            18,
            5,
            9,
            4,
            6,
            11,
            2,
            8,
            0,
            313,
            30,
            13
           ],
           "yaxis": "y2"
          }
         ],
         "name": "22"
        },
        {
         "data": [
          {
           "alignmentgroup": "True",
           "hovertemplate": "direction=down<br>Local Time=23<br>floor=%{x}<br>Frequency=%{y}<extra></extra>",
           "legendgroup": "down",
           "marker": {
            "color": "#636efa"
           },
           "name": "down",
           "offsetgroup": "down",
           "orientation": "v",
           "showlegend": true,
           "textposition": "auto",
           "type": "bar",
           "x": [
            "01",
            "02",
            "03",
            "04",
            "05",
            "06",
            "07",
            "08",
            "09",
            "10",
            "11",
            "12",
            "13",
            "14",
            "15",
            "B1",
            "B3",
            "B4"
           ],
           "xaxis": "x",
           "y": [
            51,
            2,
            281,
            82,
            48,
            98,
            137,
            111,
            71,
            11,
            96,
            66,
            98,
            94,
            33,
            11,
            0,
            0
           ],
           "yaxis": "y"
          },
          {
           "alignmentgroup": "True",
           "hovertemplate": "direction=up<br>Local Time=23<br>floor=%{x}<br>Frequency=%{y}<extra></extra>",
           "legendgroup": "up",
           "marker": {
            "color": "#EF553B"
           },
           "name": "up",
           "offsetgroup": "up",
           "orientation": "v",
           "showlegend": true,
           "textposition": "auto",
           "type": "bar",
           "x": [
            "01",
            "02",
            "03",
            "04",
            "05",
            "06",
            "07",
            "08",
            "09",
            "10",
            "11",
            "12",
            "13",
            "14",
            "15",
            "B1",
            "B3",
            "B4"
           ],
           "xaxis": "x2",
           "y": [
            910,
            5,
            14,
            12,
            20,
            30,
            9,
            3,
            1,
            0,
            4,
            8,
            2,
            1,
            0,
            237,
            20,
            34
           ],
           "yaxis": "y2"
          }
         ],
         "name": "23"
        }
       ],
       "layout": {
        "annotations": [
         {
          "font": {},
          "showarrow": false,
          "text": "direction=down",
          "x": 0.245,
          "xanchor": "center",
          "xref": "paper",
          "y": 1,
          "yanchor": "bottom",
          "yref": "paper"
         },
         {
          "font": {},
          "showarrow": false,
          "text": "direction=up",
          "x": 0.755,
          "xanchor": "center",
          "xref": "paper",
          "y": 1,
          "yanchor": "bottom",
          "yref": "paper"
         }
        ],
        "barmode": "relative",
        "legend": {
         "title": {
          "text": "direction"
         },
         "tracegroupgap": 0
        },
        "margin": {
         "t": 60
        },
        "sliders": [
         {
          "active": 0,
          "currentvalue": {
           "prefix": "Local Time="
          },
          "len": 0.9,
          "pad": {
           "b": 10,
           "t": 60
          },
          "steps": [
           {
            "args": [
             [
              "0"
             ],
             {
              "frame": {
               "duration": 0,
               "redraw": true
              },
              "fromcurrent": true,
              "mode": "immediate",
              "transition": {
               "duration": 0,
               "easing": "linear"
              }
             }
            ],
            "label": "0",
            "method": "animate"
           },
           {
            "args": [
             [
              "1"
             ],
             {
              "frame": {
               "duration": 0,
               "redraw": true
              },
              "fromcurrent": true,
              "mode": "immediate",
              "transition": {
               "duration": 0,
               "easing": "linear"
              }
             }
            ],
            "label": "1",
            "method": "animate"
           },
           {
            "args": [
             [
              "2"
             ],
             {
              "frame": {
               "duration": 0,
               "redraw": true
              },
              "fromcurrent": true,
              "mode": "immediate",
              "transition": {
               "duration": 0,
               "easing": "linear"
              }
             }
            ],
            "label": "2",
            "method": "animate"
           },
           {
            "args": [
             [
              "3"
             ],
             {
              "frame": {
               "duration": 0,
               "redraw": true
              },
              "fromcurrent": true,
              "mode": "immediate",
              "transition": {
               "duration": 0,
               "easing": "linear"
              }
             }
            ],
            "label": "3",
            "method": "animate"
           },
           {
            "args": [
             [
              "4"
             ],
             {
              "frame": {
               "duration": 0,
               "redraw": true
              },
              "fromcurrent": true,
              "mode": "immediate",
              "transition": {
               "duration": 0,
               "easing": "linear"
              }
             }
            ],
            "label": "4",
            "method": "animate"
           },
           {
            "args": [
             [
              "5"
             ],
             {
              "frame": {
               "duration": 0,
               "redraw": true
              },
              "fromcurrent": true,
              "mode": "immediate",
              "transition": {
               "duration": 0,
               "easing": "linear"
              }
             }
            ],
            "label": "5",
            "method": "animate"
           },
           {
            "args": [
             [
              "6"
             ],
             {
              "frame": {
               "duration": 0,
               "redraw": true
              },
              "fromcurrent": true,
              "mode": "immediate",
              "transition": {
               "duration": 0,
               "easing": "linear"
              }
             }
            ],
            "label": "6",
            "method": "animate"
           },
           {
            "args": [
             [
              "7"
             ],
             {
              "frame": {
               "duration": 0,
               "redraw": true
              },
              "fromcurrent": true,
              "mode": "immediate",
              "transition": {
               "duration": 0,
               "easing": "linear"
              }
             }
            ],
            "label": "7",
            "method": "animate"
           },
           {
            "args": [
             [
              "8"
             ],
             {
              "frame": {
               "duration": 0,
               "redraw": true
              },
              "fromcurrent": true,
              "mode": "immediate",
              "transition": {
               "duration": 0,
               "easing": "linear"
              }
             }
            ],
            "label": "8",
            "method": "animate"
           },
           {
            "args": [
             [
              "9"
             ],
             {
              "frame": {
               "duration": 0,
               "redraw": true
              },
              "fromcurrent": true,
              "mode": "immediate",
              "transition": {
               "duration": 0,
               "easing": "linear"
              }
             }
            ],
            "label": "9",
            "method": "animate"
           },
           {
            "args": [
             [
              "10"
             ],
             {
              "frame": {
               "duration": 0,
               "redraw": true
              },
              "fromcurrent": true,
              "mode": "immediate",
              "transition": {
               "duration": 0,
               "easing": "linear"
              }
             }
            ],
            "label": "10",
            "method": "animate"
           },
           {
            "args": [
             [
              "11"
             ],
             {
              "frame": {
               "duration": 0,
               "redraw": true
              },
              "fromcurrent": true,
              "mode": "immediate",
              "transition": {
               "duration": 0,
               "easing": "linear"
              }
             }
            ],
            "label": "11",
            "method": "animate"
           },
           {
            "args": [
             [
              "12"
             ],
             {
              "frame": {
               "duration": 0,
               "redraw": true
              },
              "fromcurrent": true,
              "mode": "immediate",
              "transition": {
               "duration": 0,
               "easing": "linear"
              }
             }
            ],
            "label": "12",
            "method": "animate"
           },
           {
            "args": [
             [
              "13"
             ],
             {
              "frame": {
               "duration": 0,
               "redraw": true
              },
              "fromcurrent": true,
              "mode": "immediate",
              "transition": {
               "duration": 0,
               "easing": "linear"
              }
             }
            ],
            "label": "13",
            "method": "animate"
           },
           {
            "args": [
             [
              "14"
             ],
             {
              "frame": {
               "duration": 0,
               "redraw": true
              },
              "fromcurrent": true,
              "mode": "immediate",
              "transition": {
               "duration": 0,
               "easing": "linear"
              }
             }
            ],
            "label": "14",
            "method": "animate"
           },
           {
            "args": [
             [
              "15"
             ],
             {
              "frame": {
               "duration": 0,
               "redraw": true
              },
              "fromcurrent": true,
              "mode": "immediate",
              "transition": {
               "duration": 0,
               "easing": "linear"
              }
             }
            ],
            "label": "15",
            "method": "animate"
           },
           {
            "args": [
             [
              "16"
             ],
             {
              "frame": {
               "duration": 0,
               "redraw": true
              },
              "fromcurrent": true,
              "mode": "immediate",
              "transition": {
               "duration": 0,
               "easing": "linear"
              }
             }
            ],
            "label": "16",
            "method": "animate"
           },
           {
            "args": [
             [
              "17"
             ],
             {
              "frame": {
               "duration": 0,
               "redraw": true
              },
              "fromcurrent": true,
              "mode": "immediate",
              "transition": {
               "duration": 0,
               "easing": "linear"
              }
             }
            ],
            "label": "17",
            "method": "animate"
           },
           {
            "args": [
             [
              "18"
             ],
             {
              "frame": {
               "duration": 0,
               "redraw": true
              },
              "fromcurrent": true,
              "mode": "immediate",
              "transition": {
               "duration": 0,
               "easing": "linear"
              }
             }
            ],
            "label": "18",
            "method": "animate"
           },
           {
            "args": [
             [
              "19"
             ],
             {
              "frame": {
               "duration": 0,
               "redraw": true
              },
              "fromcurrent": true,
              "mode": "immediate",
              "transition": {
               "duration": 0,
               "easing": "linear"
              }
             }
            ],
            "label": "19",
            "method": "animate"
           },
           {
            "args": [
             [
              "20"
             ],
             {
              "frame": {
               "duration": 0,
               "redraw": true
              },
              "fromcurrent": true,
              "mode": "immediate",
              "transition": {
               "duration": 0,
               "easing": "linear"
              }
             }
            ],
            "label": "20",
            "method": "animate"
           },
           {
            "args": [
             [
              "21"
             ],
             {
              "frame": {
               "duration": 0,
               "redraw": true
              },
              "fromcurrent": true,
              "mode": "immediate",
              "transition": {
               "duration": 0,
               "easing": "linear"
              }
             }
            ],
            "label": "21",
            "method": "animate"
           },
           {
            "args": [
             [
              "22"
             ],
             {
              "frame": {
               "duration": 0,
               "redraw": true
              },
              "fromcurrent": true,
              "mode": "immediate",
              "transition": {
               "duration": 0,
               "easing": "linear"
              }
             }
            ],
            "label": "22",
            "method": "animate"
           },
           {
            "args": [
             [
              "23"
             ],
             {
              "frame": {
               "duration": 0,
               "redraw": true
              },
              "fromcurrent": true,
              "mode": "immediate",
              "transition": {
               "duration": 0,
               "easing": "linear"
              }
             }
            ],
            "label": "23",
            "method": "animate"
           }
          ],
          "x": 0.1,
          "xanchor": "left",
          "y": 0,
          "yanchor": "top"
         }
        ],
        "template": {
         "data": {
          "bar": [
           {
            "error_x": {
             "color": "#2a3f5f"
            },
            "error_y": {
             "color": "#2a3f5f"
            },
            "marker": {
             "line": {
              "color": "#E5ECF6",
              "width": 0.5
             }
            },
            "type": "bar"
           }
          ],
          "barpolar": [
           {
            "marker": {
             "line": {
              "color": "#E5ECF6",
              "width": 0.5
             }
            },
            "type": "barpolar"
           }
          ],
          "carpet": [
           {
            "aaxis": {
             "endlinecolor": "#2a3f5f",
             "gridcolor": "white",
             "linecolor": "white",
             "minorgridcolor": "white",
             "startlinecolor": "#2a3f5f"
            },
            "baxis": {
             "endlinecolor": "#2a3f5f",
             "gridcolor": "white",
             "linecolor": "white",
             "minorgridcolor": "white",
             "startlinecolor": "#2a3f5f"
            },
            "type": "carpet"
           }
          ],
          "choropleth": [
           {
            "colorbar": {
             "outlinewidth": 0,
             "ticks": ""
            },
            "type": "choropleth"
           }
          ],
          "contour": [
           {
            "colorbar": {
             "outlinewidth": 0,
             "ticks": ""
            },
            "colorscale": [
             [
              0,
              "#0d0887"
             ],
             [
              0.1111111111111111,
              "#46039f"
             ],
             [
              0.2222222222222222,
              "#7201a8"
             ],
             [
              0.3333333333333333,
              "#9c179e"
             ],
             [
              0.4444444444444444,
              "#bd3786"
             ],
             [
              0.5555555555555556,
              "#d8576b"
             ],
             [
              0.6666666666666666,
              "#ed7953"
             ],
             [
              0.7777777777777778,
              "#fb9f3a"
             ],
             [
              0.8888888888888888,
              "#fdca26"
             ],
             [
              1,
              "#f0f921"
             ]
            ],
            "type": "contour"
           }
          ],
          "contourcarpet": [
           {
            "colorbar": {
             "outlinewidth": 0,
             "ticks": ""
            },
            "type": "contourcarpet"
           }
          ],
          "heatmap": [
           {
            "colorbar": {
             "outlinewidth": 0,
             "ticks": ""
            },
            "colorscale": [
             [
              0,
              "#0d0887"
             ],
             [
              0.1111111111111111,
              "#46039f"
             ],
             [
              0.2222222222222222,
              "#7201a8"
             ],
             [
              0.3333333333333333,
              "#9c179e"
             ],
             [
              0.4444444444444444,
              "#bd3786"
             ],
             [
              0.5555555555555556,
              "#d8576b"
             ],
             [
              0.6666666666666666,
              "#ed7953"
             ],
             [
              0.7777777777777778,
              "#fb9f3a"
             ],
             [
              0.8888888888888888,
              "#fdca26"
             ],
             [
              1,
              "#f0f921"
             ]
            ],
            "type": "heatmap"
           }
          ],
          "heatmapgl": [
           {
            "colorbar": {
             "outlinewidth": 0,
             "ticks": ""
            },
            "colorscale": [
             [
              0,
              "#0d0887"
             ],
             [
              0.1111111111111111,
              "#46039f"
             ],
             [
              0.2222222222222222,
              "#7201a8"
             ],
             [
              0.3333333333333333,
              "#9c179e"
             ],
             [
              0.4444444444444444,
              "#bd3786"
             ],
             [
              0.5555555555555556,
              "#d8576b"
             ],
             [
              0.6666666666666666,
              "#ed7953"
             ],
             [
              0.7777777777777778,
              "#fb9f3a"
             ],
             [
              0.8888888888888888,
              "#fdca26"
             ],
             [
              1,
              "#f0f921"
             ]
            ],
            "type": "heatmapgl"
           }
          ],
          "histogram": [
           {
            "marker": {
             "colorbar": {
              "outlinewidth": 0,
              "ticks": ""
             }
            },
            "type": "histogram"
           }
          ],
          "histogram2d": [
           {
            "colorbar": {
             "outlinewidth": 0,
             "ticks": ""
            },
            "colorscale": [
             [
              0,
              "#0d0887"
             ],
             [
              0.1111111111111111,
              "#46039f"
             ],
             [
              0.2222222222222222,
              "#7201a8"
             ],
             [
              0.3333333333333333,
              "#9c179e"
             ],
             [
              0.4444444444444444,
              "#bd3786"
             ],
             [
              0.5555555555555556,
              "#d8576b"
             ],
             [
              0.6666666666666666,
              "#ed7953"
             ],
             [
              0.7777777777777778,
              "#fb9f3a"
             ],
             [
              0.8888888888888888,
              "#fdca26"
             ],
             [
              1,
              "#f0f921"
             ]
            ],
            "type": "histogram2d"
           }
          ],
          "histogram2dcontour": [
           {
            "colorbar": {
             "outlinewidth": 0,
             "ticks": ""
            },
            "colorscale": [
             [
              0,
              "#0d0887"
             ],
             [
              0.1111111111111111,
              "#46039f"
             ],
             [
              0.2222222222222222,
              "#7201a8"
             ],
             [
              0.3333333333333333,
              "#9c179e"
             ],
             [
              0.4444444444444444,
              "#bd3786"
             ],
             [
              0.5555555555555556,
              "#d8576b"
             ],
             [
              0.6666666666666666,
              "#ed7953"
             ],
             [
              0.7777777777777778,
              "#fb9f3a"
             ],
             [
              0.8888888888888888,
              "#fdca26"
             ],
             [
              1,
              "#f0f921"
             ]
            ],
            "type": "histogram2dcontour"
           }
          ],
          "mesh3d": [
           {
            "colorbar": {
             "outlinewidth": 0,
             "ticks": ""
            },
            "type": "mesh3d"
           }
          ],
          "parcoords": [
           {
            "line": {
             "colorbar": {
              "outlinewidth": 0,
              "ticks": ""
             }
            },
            "type": "parcoords"
           }
          ],
          "pie": [
           {
            "automargin": true,
            "type": "pie"
           }
          ],
          "scatter": [
           {
            "marker": {
             "colorbar": {
              "outlinewidth": 0,
              "ticks": ""
             }
            },
            "type": "scatter"
           }
          ],
          "scatter3d": [
           {
            "line": {
             "colorbar": {
              "outlinewidth": 0,
              "ticks": ""
             }
            },
            "marker": {
             "colorbar": {
              "outlinewidth": 0,
              "ticks": ""
             }
            },
            "type": "scatter3d"
           }
          ],
          "scattercarpet": [
           {
            "marker": {
             "colorbar": {
              "outlinewidth": 0,
              "ticks": ""
             }
            },
            "type": "scattercarpet"
           }
          ],
          "scattergeo": [
           {
            "marker": {
             "colorbar": {
              "outlinewidth": 0,
              "ticks": ""
             }
            },
            "type": "scattergeo"
           }
          ],
          "scattergl": [
           {
            "marker": {
             "colorbar": {
              "outlinewidth": 0,
              "ticks": ""
             }
            },
            "type": "scattergl"
           }
          ],
          "scattermapbox": [
           {
            "marker": {
             "colorbar": {
              "outlinewidth": 0,
              "ticks": ""
             }
            },
            "type": "scattermapbox"
           }
          ],
          "scatterpolar": [
           {
            "marker": {
             "colorbar": {
              "outlinewidth": 0,
              "ticks": ""
             }
            },
            "type": "scatterpolar"
           }
          ],
          "scatterpolargl": [
           {
            "marker": {
             "colorbar": {
              "outlinewidth": 0,
              "ticks": ""
             }
            },
            "type": "scatterpolargl"
           }
          ],
          "scatterternary": [
           {
            "marker": {
             "colorbar": {
              "outlinewidth": 0,
              "ticks": ""
             }
            },
            "type": "scatterternary"
           }
          ],
          "surface": [
           {
            "colorbar": {
             "outlinewidth": 0,
             "ticks": ""
            },
            "colorscale": [
             [
              0,
              "#0d0887"
             ],
             [
              0.1111111111111111,
              "#46039f"
             ],
             [
              0.2222222222222222,
              "#7201a8"
             ],
             [
              0.3333333333333333,
              "#9c179e"
             ],
             [
              0.4444444444444444,
              "#bd3786"
             ],
             [
              0.5555555555555556,
              "#d8576b"
             ],
             [
              0.6666666666666666,
              "#ed7953"
             ],
             [
              0.7777777777777778,
              "#fb9f3a"
             ],
             [
              0.8888888888888888,
              "#fdca26"
             ],
             [
              1,
              "#f0f921"
             ]
            ],
            "type": "surface"
           }
          ],
          "table": [
           {
            "cells": {
             "fill": {
              "color": "#EBF0F8"
             },
             "line": {
              "color": "white"
             }
            },
            "header": {
             "fill": {
              "color": "#C8D4E3"
             },
             "line": {
              "color": "white"
             }
            },
            "type": "table"
           }
          ]
         },
         "layout": {
          "annotationdefaults": {
           "arrowcolor": "#2a3f5f",
           "arrowhead": 0,
           "arrowwidth": 1
          },
          "coloraxis": {
           "colorbar": {
            "outlinewidth": 0,
            "ticks": ""
           }
          },
          "colorscale": {
           "diverging": [
            [
             0,
             "#8e0152"
            ],
            [
             0.1,
             "#c51b7d"
            ],
            [
             0.2,
             "#de77ae"
            ],
            [
             0.3,
             "#f1b6da"
            ],
            [
             0.4,
             "#fde0ef"
            ],
            [
             0.5,
             "#f7f7f7"
            ],
            [
             0.6,
             "#e6f5d0"
            ],
            [
             0.7,
             "#b8e186"
            ],
            [
             0.8,
             "#7fbc41"
            ],
            [
             0.9,
             "#4d9221"
            ],
            [
             1,
             "#276419"
            ]
           ],
           "sequential": [
            [
             0,
             "#0d0887"
            ],
            [
             0.1111111111111111,
             "#46039f"
            ],
            [
             0.2222222222222222,
             "#7201a8"
            ],
            [
             0.3333333333333333,
             "#9c179e"
            ],
            [
             0.4444444444444444,
             "#bd3786"
            ],
            [
             0.5555555555555556,
             "#d8576b"
            ],
            [
             0.6666666666666666,
             "#ed7953"
            ],
            [
             0.7777777777777778,
             "#fb9f3a"
            ],
            [
             0.8888888888888888,
             "#fdca26"
            ],
            [
             1,
             "#f0f921"
            ]
           ],
           "sequentialminus": [
            [
             0,
             "#0d0887"
            ],
            [
             0.1111111111111111,
             "#46039f"
            ],
            [
             0.2222222222222222,
             "#7201a8"
            ],
            [
             0.3333333333333333,
             "#9c179e"
            ],
            [
             0.4444444444444444,
             "#bd3786"
            ],
            [
             0.5555555555555556,
             "#d8576b"
            ],
            [
             0.6666666666666666,
             "#ed7953"
            ],
            [
             0.7777777777777778,
             "#fb9f3a"
            ],
            [
             0.8888888888888888,
             "#fdca26"
            ],
            [
             1,
             "#f0f921"
            ]
           ]
          },
          "colorway": [
           "#636efa",
           "#EF553B",
           "#00cc96",
           "#ab63fa",
           "#FFA15A",
           "#19d3f3",
           "#FF6692",
           "#B6E880",
           "#FF97FF",
           "#FECB52"
          ],
          "font": {
           "color": "#2a3f5f"
          },
          "geo": {
           "bgcolor": "white",
           "lakecolor": "white",
           "landcolor": "#E5ECF6",
           "showlakes": true,
           "showland": true,
           "subunitcolor": "white"
          },
          "hoverlabel": {
           "align": "left"
          },
          "hovermode": "closest",
          "mapbox": {
           "style": "light"
          },
          "paper_bgcolor": "white",
          "plot_bgcolor": "#E5ECF6",
          "polar": {
           "angularaxis": {
            "gridcolor": "white",
            "linecolor": "white",
            "ticks": ""
           },
           "bgcolor": "#E5ECF6",
           "radialaxis": {
            "gridcolor": "white",
            "linecolor": "white",
            "ticks": ""
           }
          },
          "scene": {
           "xaxis": {
            "backgroundcolor": "#E5ECF6",
            "gridcolor": "white",
            "gridwidth": 2,
            "linecolor": "white",
            "showbackground": true,
            "ticks": "",
            "zerolinecolor": "white"
           },
           "yaxis": {
            "backgroundcolor": "#E5ECF6",
            "gridcolor": "white",
            "gridwidth": 2,
            "linecolor": "white",
            "showbackground": true,
            "ticks": "",
            "zerolinecolor": "white"
           },
           "zaxis": {
            "backgroundcolor": "#E5ECF6",
            "gridcolor": "white",
            "gridwidth": 2,
            "linecolor": "white",
            "showbackground": true,
            "ticks": "",
            "zerolinecolor": "white"
           }
          },
          "shapedefaults": {
           "line": {
            "color": "#2a3f5f"
           }
          },
          "ternary": {
           "aaxis": {
            "gridcolor": "white",
            "linecolor": "white",
            "ticks": ""
           },
           "baxis": {
            "gridcolor": "white",
            "linecolor": "white",
            "ticks": ""
           },
           "bgcolor": "#E5ECF6",
           "caxis": {
            "gridcolor": "white",
            "linecolor": "white",
            "ticks": ""
           }
          },
          "title": {
           "x": 0.05
          },
          "xaxis": {
           "automargin": true,
           "gridcolor": "white",
           "linecolor": "white",
           "ticks": "",
           "title": {
            "standoff": 15
           },
           "zerolinecolor": "white",
           "zerolinewidth": 2
          },
          "yaxis": {
           "automargin": true,
           "gridcolor": "white",
           "linecolor": "white",
           "ticks": "",
           "title": {
            "standoff": 15
           },
           "zerolinecolor": "white",
           "zerolinewidth": 2
          }
         }
        },
        "title": {
         "text": "Frequency of Elevator Calls"
        },
        "updatemenus": [
         {
          "buttons": [
           {
            "args": [
             null,
             {
              "frame": {
               "duration": 500,
               "redraw": true
              },
              "fromcurrent": true,
              "mode": "immediate",
              "transition": {
               "duration": 500,
               "easing": "linear"
              }
             }
            ],
            "label": "&#9654;",
            "method": "animate"
           },
           {
            "args": [
             [
              null
             ],
             {
              "frame": {
               "duration": 0,
               "redraw": true
              },
              "fromcurrent": true,
              "mode": "immediate",
              "transition": {
               "duration": 0,
               "easing": "linear"
              }
             }
            ],
            "label": "&#9724;",
            "method": "animate"
           }
          ],
          "direction": "left",
          "pad": {
           "r": 10,
           "t": 70
          },
          "showactive": false,
          "type": "buttons",
          "x": 0.1,
          "xanchor": "right",
          "y": 0,
          "yanchor": "top"
         }
        ],
        "xaxis": {
         "anchor": "y",
         "categoryarray": [
          "B4",
          "B3",
          "B2",
          "B1",
          "01",
          "02",
          "03",
          "04",
          "05",
          "06",
          "07",
          "08",
          "09",
          "10",
          "11",
          "12",
          "13",
          "14",
          "15"
         ],
         "domain": [
          0,
          0.49
         ],
         "nticks": 19,
         "title": {
          "text": "floor"
         },
         "type": "category"
        },
        "xaxis2": {
         "anchor": "y2",
         "categoryarray": [
          "B4",
          "B3",
          "B2",
          "B1",
          "01",
          "02",
          "03",
          "04",
          "05",
          "06",
          "07",
          "08",
          "09",
          "10",
          "11",
          "12",
          "13",
          "14",
          "15"
         ],
         "domain": [
          0.51,
          1
         ],
         "matches": "x",
         "nticks": 19,
         "title": {
          "text": "floor"
         },
         "type": "category"
        },
        "yaxis": {
         "anchor": "x",
         "domain": [
          0,
          1
         ],
         "range": [
          0,
          1000
         ],
         "title": {
          "text": "Frequency"
         }
        },
        "yaxis2": {
         "anchor": "x2",
         "domain": [
          0,
          1
         ],
         "matches": "y",
         "range": [
          0,
          1000
         ],
         "showticklabels": false
        }
       }
      },
      "text/html": [
       "<div>\n",
       "        \n",
       "        \n",
       "            <div id=\"448ddcbc-42c8-4fe6-8d18-989239c6cd6f\" class=\"plotly-graph-div\" style=\"height:525px; width:100%;\"></div>\n",
       "            <script type=\"text/javascript\">\n",
       "                require([\"plotly\"], function(Plotly) {\n",
       "                    window.PLOTLYENV=window.PLOTLYENV || {};\n",
       "                    \n",
       "                if (document.getElementById(\"448ddcbc-42c8-4fe6-8d18-989239c6cd6f\")) {\n",
       "                    Plotly.newPlot(\n",
       "                        '448ddcbc-42c8-4fe6-8d18-989239c6cd6f',\n",
       "                        [{\"alignmentgroup\": \"True\", \"hovertemplate\": \"direction=down<br>Local Time=0<br>floor=%{x}<br>Frequency=%{y}<extra></extra>\", \"legendgroup\": \"down\", \"marker\": {\"color\": \"#636efa\"}, \"name\": \"down\", \"offsetgroup\": \"down\", \"orientation\": \"v\", \"showlegend\": true, \"textposition\": \"auto\", \"type\": \"bar\", \"x\": [\"01\", \"02\", \"03\", \"04\", \"05\", \"06\", \"07\", \"08\", \"09\", \"10\", \"11\", \"12\", \"13\", \"14\", \"15\", \"B1\", \"B3\", \"B4\"], \"xaxis\": \"x\", \"y\": [47, 1, 132, 257, 69, 93, 96, 182, 90, 11, 77, 108, 64, 74, 47, 8, 1, 0], \"yaxis\": \"y\"}, {\"alignmentgroup\": \"True\", \"hovertemplate\": \"direction=up<br>Local Time=0<br>floor=%{x}<br>Frequency=%{y}<extra></extra>\", \"legendgroup\": \"up\", \"marker\": {\"color\": \"#EF553B\"}, \"name\": \"up\", \"offsetgroup\": \"up\", \"orientation\": \"v\", \"showlegend\": true, \"textposition\": \"auto\", \"type\": \"bar\", \"x\": [\"01\", \"02\", \"03\", \"04\", \"05\", \"06\", \"07\", \"08\", \"09\", \"10\", \"11\", \"12\", \"13\", \"14\", \"15\", \"B1\", \"B3\", \"B4\"], \"xaxis\": \"x2\", \"y\": [496, 0, 10, 8, 10, 7, 7, 2, 3, 0, 1, 3, 3, 2, 0, 55, 2, 12], \"yaxis\": \"y2\"}],\n",
       "                        {\"annotations\": [{\"font\": {}, \"showarrow\": false, \"text\": \"direction=down\", \"x\": 0.245, \"xanchor\": \"center\", \"xref\": \"paper\", \"y\": 1.0, \"yanchor\": \"bottom\", \"yref\": \"paper\"}, {\"font\": {}, \"showarrow\": false, \"text\": \"direction=up\", \"x\": 0.755, \"xanchor\": \"center\", \"xref\": \"paper\", \"y\": 1.0, \"yanchor\": \"bottom\", \"yref\": \"paper\"}], \"barmode\": \"relative\", \"legend\": {\"title\": {\"text\": \"direction\"}, \"tracegroupgap\": 0}, \"margin\": {\"t\": 60}, \"sliders\": [{\"active\": 0, \"currentvalue\": {\"prefix\": \"Local Time=\"}, \"len\": 0.9, \"pad\": {\"b\": 10, \"t\": 60}, \"steps\": [{\"args\": [[\"0\"], {\"frame\": {\"duration\": 0, \"redraw\": true}, \"fromcurrent\": true, \"mode\": \"immediate\", \"transition\": {\"duration\": 0, \"easing\": \"linear\"}}], \"label\": \"0\", \"method\": \"animate\"}, {\"args\": [[\"1\"], {\"frame\": {\"duration\": 0, \"redraw\": true}, \"fromcurrent\": true, \"mode\": \"immediate\", \"transition\": {\"duration\": 0, \"easing\": \"linear\"}}], \"label\": \"1\", \"method\": \"animate\"}, {\"args\": [[\"2\"], {\"frame\": {\"duration\": 0, \"redraw\": true}, \"fromcurrent\": true, \"mode\": \"immediate\", \"transition\": {\"duration\": 0, \"easing\": \"linear\"}}], \"label\": \"2\", \"method\": \"animate\"}, {\"args\": [[\"3\"], {\"frame\": {\"duration\": 0, \"redraw\": true}, \"fromcurrent\": true, \"mode\": \"immediate\", \"transition\": {\"duration\": 0, \"easing\": \"linear\"}}], \"label\": \"3\", \"method\": \"animate\"}, {\"args\": [[\"4\"], {\"frame\": {\"duration\": 0, \"redraw\": true}, \"fromcurrent\": true, \"mode\": \"immediate\", \"transition\": {\"duration\": 0, \"easing\": \"linear\"}}], \"label\": \"4\", \"method\": \"animate\"}, {\"args\": [[\"5\"], {\"frame\": {\"duration\": 0, \"redraw\": true}, \"fromcurrent\": true, \"mode\": \"immediate\", \"transition\": {\"duration\": 0, \"easing\": \"linear\"}}], \"label\": \"5\", \"method\": \"animate\"}, {\"args\": [[\"6\"], {\"frame\": {\"duration\": 0, \"redraw\": true}, \"fromcurrent\": true, \"mode\": \"immediate\", \"transition\": {\"duration\": 0, \"easing\": \"linear\"}}], \"label\": \"6\", \"method\": \"animate\"}, {\"args\": [[\"7\"], {\"frame\": {\"duration\": 0, \"redraw\": true}, \"fromcurrent\": true, \"mode\": \"immediate\", \"transition\": {\"duration\": 0, \"easing\": \"linear\"}}], \"label\": \"7\", \"method\": \"animate\"}, {\"args\": [[\"8\"], {\"frame\": {\"duration\": 0, \"redraw\": true}, \"fromcurrent\": true, \"mode\": \"immediate\", \"transition\": {\"duration\": 0, \"easing\": \"linear\"}}], \"label\": \"8\", \"method\": \"animate\"}, {\"args\": [[\"9\"], {\"frame\": {\"duration\": 0, \"redraw\": true}, \"fromcurrent\": true, \"mode\": \"immediate\", \"transition\": {\"duration\": 0, \"easing\": \"linear\"}}], \"label\": \"9\", \"method\": \"animate\"}, {\"args\": [[\"10\"], {\"frame\": {\"duration\": 0, \"redraw\": true}, \"fromcurrent\": true, \"mode\": \"immediate\", \"transition\": {\"duration\": 0, \"easing\": \"linear\"}}], \"label\": \"10\", \"method\": \"animate\"}, {\"args\": [[\"11\"], {\"frame\": {\"duration\": 0, \"redraw\": true}, \"fromcurrent\": true, \"mode\": \"immediate\", \"transition\": {\"duration\": 0, \"easing\": \"linear\"}}], \"label\": \"11\", \"method\": \"animate\"}, {\"args\": [[\"12\"], {\"frame\": {\"duration\": 0, \"redraw\": true}, \"fromcurrent\": true, \"mode\": \"immediate\", \"transition\": {\"duration\": 0, \"easing\": \"linear\"}}], \"label\": \"12\", \"method\": \"animate\"}, {\"args\": [[\"13\"], {\"frame\": {\"duration\": 0, \"redraw\": true}, \"fromcurrent\": true, \"mode\": \"immediate\", \"transition\": {\"duration\": 0, \"easing\": \"linear\"}}], \"label\": \"13\", \"method\": \"animate\"}, {\"args\": [[\"14\"], {\"frame\": {\"duration\": 0, \"redraw\": true}, \"fromcurrent\": true, \"mode\": \"immediate\", \"transition\": {\"duration\": 0, \"easing\": \"linear\"}}], \"label\": \"14\", \"method\": \"animate\"}, {\"args\": [[\"15\"], {\"frame\": {\"duration\": 0, \"redraw\": true}, \"fromcurrent\": true, \"mode\": \"immediate\", \"transition\": {\"duration\": 0, \"easing\": \"linear\"}}], \"label\": \"15\", \"method\": \"animate\"}, {\"args\": [[\"16\"], {\"frame\": {\"duration\": 0, \"redraw\": true}, \"fromcurrent\": true, \"mode\": \"immediate\", \"transition\": {\"duration\": 0, \"easing\": \"linear\"}}], \"label\": \"16\", \"method\": \"animate\"}, {\"args\": [[\"17\"], {\"frame\": {\"duration\": 0, \"redraw\": true}, \"fromcurrent\": true, \"mode\": \"immediate\", \"transition\": {\"duration\": 0, \"easing\": \"linear\"}}], \"label\": \"17\", \"method\": \"animate\"}, {\"args\": [[\"18\"], {\"frame\": {\"duration\": 0, \"redraw\": true}, \"fromcurrent\": true, \"mode\": \"immediate\", \"transition\": {\"duration\": 0, \"easing\": \"linear\"}}], \"label\": \"18\", \"method\": \"animate\"}, {\"args\": [[\"19\"], {\"frame\": {\"duration\": 0, \"redraw\": true}, \"fromcurrent\": true, \"mode\": \"immediate\", \"transition\": {\"duration\": 0, \"easing\": \"linear\"}}], \"label\": \"19\", \"method\": \"animate\"}, {\"args\": [[\"20\"], {\"frame\": {\"duration\": 0, \"redraw\": true}, \"fromcurrent\": true, \"mode\": \"immediate\", \"transition\": {\"duration\": 0, \"easing\": \"linear\"}}], \"label\": \"20\", \"method\": \"animate\"}, {\"args\": [[\"21\"], {\"frame\": {\"duration\": 0, \"redraw\": true}, \"fromcurrent\": true, \"mode\": \"immediate\", \"transition\": {\"duration\": 0, \"easing\": \"linear\"}}], \"label\": \"21\", \"method\": \"animate\"}, {\"args\": [[\"22\"], {\"frame\": {\"duration\": 0, \"redraw\": true}, \"fromcurrent\": true, \"mode\": \"immediate\", \"transition\": {\"duration\": 0, \"easing\": \"linear\"}}], \"label\": \"22\", \"method\": \"animate\"}, {\"args\": [[\"23\"], {\"frame\": {\"duration\": 0, \"redraw\": true}, \"fromcurrent\": true, \"mode\": \"immediate\", \"transition\": {\"duration\": 0, \"easing\": \"linear\"}}], \"label\": \"23\", \"method\": \"animate\"}], \"x\": 0.1, \"xanchor\": \"left\", \"y\": 0, \"yanchor\": \"top\"}], \"template\": {\"data\": {\"bar\": [{\"error_x\": {\"color\": \"#2a3f5f\"}, \"error_y\": {\"color\": \"#2a3f5f\"}, \"marker\": {\"line\": {\"color\": \"#E5ECF6\", \"width\": 0.5}}, \"type\": \"bar\"}], \"barpolar\": [{\"marker\": {\"line\": {\"color\": \"#E5ECF6\", \"width\": 0.5}}, \"type\": \"barpolar\"}], \"carpet\": [{\"aaxis\": {\"endlinecolor\": \"#2a3f5f\", \"gridcolor\": \"white\", \"linecolor\": \"white\", \"minorgridcolor\": \"white\", \"startlinecolor\": \"#2a3f5f\"}, \"baxis\": {\"endlinecolor\": \"#2a3f5f\", \"gridcolor\": \"white\", \"linecolor\": \"white\", \"minorgridcolor\": \"white\", \"startlinecolor\": \"#2a3f5f\"}, \"type\": \"carpet\"}], \"choropleth\": [{\"colorbar\": {\"outlinewidth\": 0, \"ticks\": \"\"}, \"type\": \"choropleth\"}], \"contour\": [{\"colorbar\": {\"outlinewidth\": 0, \"ticks\": \"\"}, \"colorscale\": [[0.0, \"#0d0887\"], [0.1111111111111111, \"#46039f\"], [0.2222222222222222, \"#7201a8\"], [0.3333333333333333, \"#9c179e\"], [0.4444444444444444, \"#bd3786\"], [0.5555555555555556, \"#d8576b\"], [0.6666666666666666, \"#ed7953\"], [0.7777777777777778, \"#fb9f3a\"], [0.8888888888888888, \"#fdca26\"], [1.0, \"#f0f921\"]], \"type\": \"contour\"}], \"contourcarpet\": [{\"colorbar\": {\"outlinewidth\": 0, \"ticks\": \"\"}, \"type\": \"contourcarpet\"}], \"heatmap\": [{\"colorbar\": {\"outlinewidth\": 0, \"ticks\": \"\"}, \"colorscale\": [[0.0, \"#0d0887\"], [0.1111111111111111, \"#46039f\"], [0.2222222222222222, \"#7201a8\"], [0.3333333333333333, \"#9c179e\"], [0.4444444444444444, \"#bd3786\"], [0.5555555555555556, \"#d8576b\"], [0.6666666666666666, \"#ed7953\"], [0.7777777777777778, \"#fb9f3a\"], [0.8888888888888888, \"#fdca26\"], [1.0, \"#f0f921\"]], \"type\": \"heatmap\"}], \"heatmapgl\": [{\"colorbar\": {\"outlinewidth\": 0, \"ticks\": \"\"}, \"colorscale\": [[0.0, \"#0d0887\"], [0.1111111111111111, \"#46039f\"], [0.2222222222222222, \"#7201a8\"], [0.3333333333333333, \"#9c179e\"], [0.4444444444444444, \"#bd3786\"], [0.5555555555555556, \"#d8576b\"], [0.6666666666666666, \"#ed7953\"], [0.7777777777777778, \"#fb9f3a\"], [0.8888888888888888, \"#fdca26\"], [1.0, \"#f0f921\"]], \"type\": \"heatmapgl\"}], \"histogram\": [{\"marker\": {\"colorbar\": {\"outlinewidth\": 0, \"ticks\": \"\"}}, \"type\": \"histogram\"}], \"histogram2d\": [{\"colorbar\": {\"outlinewidth\": 0, \"ticks\": \"\"}, \"colorscale\": [[0.0, \"#0d0887\"], [0.1111111111111111, \"#46039f\"], [0.2222222222222222, \"#7201a8\"], [0.3333333333333333, \"#9c179e\"], [0.4444444444444444, \"#bd3786\"], [0.5555555555555556, \"#d8576b\"], [0.6666666666666666, \"#ed7953\"], [0.7777777777777778, \"#fb9f3a\"], [0.8888888888888888, \"#fdca26\"], [1.0, \"#f0f921\"]], \"type\": \"histogram2d\"}], \"histogram2dcontour\": [{\"colorbar\": {\"outlinewidth\": 0, \"ticks\": \"\"}, \"colorscale\": [[0.0, \"#0d0887\"], [0.1111111111111111, \"#46039f\"], [0.2222222222222222, \"#7201a8\"], [0.3333333333333333, \"#9c179e\"], [0.4444444444444444, \"#bd3786\"], [0.5555555555555556, \"#d8576b\"], [0.6666666666666666, \"#ed7953\"], [0.7777777777777778, \"#fb9f3a\"], [0.8888888888888888, \"#fdca26\"], [1.0, \"#f0f921\"]], \"type\": \"histogram2dcontour\"}], \"mesh3d\": [{\"colorbar\": {\"outlinewidth\": 0, \"ticks\": \"\"}, \"type\": \"mesh3d\"}], \"parcoords\": [{\"line\": {\"colorbar\": {\"outlinewidth\": 0, \"ticks\": \"\"}}, \"type\": \"parcoords\"}], \"pie\": [{\"automargin\": true, \"type\": \"pie\"}], \"scatter\": [{\"marker\": {\"colorbar\": {\"outlinewidth\": 0, \"ticks\": \"\"}}, \"type\": \"scatter\"}], \"scatter3d\": [{\"line\": {\"colorbar\": {\"outlinewidth\": 0, \"ticks\": \"\"}}, \"marker\": {\"colorbar\": {\"outlinewidth\": 0, \"ticks\": \"\"}}, \"type\": \"scatter3d\"}], \"scattercarpet\": [{\"marker\": {\"colorbar\": {\"outlinewidth\": 0, \"ticks\": \"\"}}, \"type\": \"scattercarpet\"}], \"scattergeo\": [{\"marker\": {\"colorbar\": {\"outlinewidth\": 0, \"ticks\": \"\"}}, \"type\": \"scattergeo\"}], \"scattergl\": [{\"marker\": {\"colorbar\": {\"outlinewidth\": 0, \"ticks\": \"\"}}, \"type\": \"scattergl\"}], \"scattermapbox\": [{\"marker\": {\"colorbar\": {\"outlinewidth\": 0, \"ticks\": \"\"}}, \"type\": \"scattermapbox\"}], \"scatterpolar\": [{\"marker\": {\"colorbar\": {\"outlinewidth\": 0, \"ticks\": \"\"}}, \"type\": \"scatterpolar\"}], \"scatterpolargl\": [{\"marker\": {\"colorbar\": {\"outlinewidth\": 0, \"ticks\": \"\"}}, \"type\": \"scatterpolargl\"}], \"scatterternary\": [{\"marker\": {\"colorbar\": {\"outlinewidth\": 0, \"ticks\": \"\"}}, \"type\": \"scatterternary\"}], \"surface\": [{\"colorbar\": {\"outlinewidth\": 0, \"ticks\": \"\"}, \"colorscale\": [[0.0, \"#0d0887\"], [0.1111111111111111, \"#46039f\"], [0.2222222222222222, \"#7201a8\"], [0.3333333333333333, \"#9c179e\"], [0.4444444444444444, \"#bd3786\"], [0.5555555555555556, \"#d8576b\"], [0.6666666666666666, \"#ed7953\"], [0.7777777777777778, \"#fb9f3a\"], [0.8888888888888888, \"#fdca26\"], [1.0, \"#f0f921\"]], \"type\": \"surface\"}], \"table\": [{\"cells\": {\"fill\": {\"color\": \"#EBF0F8\"}, \"line\": {\"color\": \"white\"}}, \"header\": {\"fill\": {\"color\": \"#C8D4E3\"}, \"line\": {\"color\": \"white\"}}, \"type\": \"table\"}]}, \"layout\": {\"annotationdefaults\": {\"arrowcolor\": \"#2a3f5f\", \"arrowhead\": 0, \"arrowwidth\": 1}, \"coloraxis\": {\"colorbar\": {\"outlinewidth\": 0, \"ticks\": \"\"}}, \"colorscale\": {\"diverging\": [[0, \"#8e0152\"], [0.1, \"#c51b7d\"], [0.2, \"#de77ae\"], [0.3, \"#f1b6da\"], [0.4, \"#fde0ef\"], [0.5, \"#f7f7f7\"], [0.6, \"#e6f5d0\"], [0.7, \"#b8e186\"], [0.8, \"#7fbc41\"], [0.9, \"#4d9221\"], [1, \"#276419\"]], \"sequential\": [[0.0, \"#0d0887\"], [0.1111111111111111, \"#46039f\"], [0.2222222222222222, \"#7201a8\"], [0.3333333333333333, \"#9c179e\"], [0.4444444444444444, \"#bd3786\"], [0.5555555555555556, \"#d8576b\"], [0.6666666666666666, \"#ed7953\"], [0.7777777777777778, \"#fb9f3a\"], [0.8888888888888888, \"#fdca26\"], [1.0, \"#f0f921\"]], \"sequentialminus\": [[0.0, \"#0d0887\"], [0.1111111111111111, \"#46039f\"], [0.2222222222222222, \"#7201a8\"], [0.3333333333333333, \"#9c179e\"], [0.4444444444444444, \"#bd3786\"], [0.5555555555555556, \"#d8576b\"], [0.6666666666666666, \"#ed7953\"], [0.7777777777777778, \"#fb9f3a\"], [0.8888888888888888, \"#fdca26\"], [1.0, \"#f0f921\"]]}, \"colorway\": [\"#636efa\", \"#EF553B\", \"#00cc96\", \"#ab63fa\", \"#FFA15A\", \"#19d3f3\", \"#FF6692\", \"#B6E880\", \"#FF97FF\", \"#FECB52\"], \"font\": {\"color\": \"#2a3f5f\"}, \"geo\": {\"bgcolor\": \"white\", \"lakecolor\": \"white\", \"landcolor\": \"#E5ECF6\", \"showlakes\": true, \"showland\": true, \"subunitcolor\": \"white\"}, \"hoverlabel\": {\"align\": \"left\"}, \"hovermode\": \"closest\", \"mapbox\": {\"style\": \"light\"}, \"paper_bgcolor\": \"white\", \"plot_bgcolor\": \"#E5ECF6\", \"polar\": {\"angularaxis\": {\"gridcolor\": \"white\", \"linecolor\": \"white\", \"ticks\": \"\"}, \"bgcolor\": \"#E5ECF6\", \"radialaxis\": {\"gridcolor\": \"white\", \"linecolor\": \"white\", \"ticks\": \"\"}}, \"scene\": {\"xaxis\": {\"backgroundcolor\": \"#E5ECF6\", \"gridcolor\": \"white\", \"gridwidth\": 2, \"linecolor\": \"white\", \"showbackground\": true, \"ticks\": \"\", \"zerolinecolor\": \"white\"}, \"yaxis\": {\"backgroundcolor\": \"#E5ECF6\", \"gridcolor\": \"white\", \"gridwidth\": 2, \"linecolor\": \"white\", \"showbackground\": true, \"ticks\": \"\", \"zerolinecolor\": \"white\"}, \"zaxis\": {\"backgroundcolor\": \"#E5ECF6\", \"gridcolor\": \"white\", \"gridwidth\": 2, \"linecolor\": \"white\", \"showbackground\": true, \"ticks\": \"\", \"zerolinecolor\": \"white\"}}, \"shapedefaults\": {\"line\": {\"color\": \"#2a3f5f\"}}, \"ternary\": {\"aaxis\": {\"gridcolor\": \"white\", \"linecolor\": \"white\", \"ticks\": \"\"}, \"baxis\": {\"gridcolor\": \"white\", \"linecolor\": \"white\", \"ticks\": \"\"}, \"bgcolor\": \"#E5ECF6\", \"caxis\": {\"gridcolor\": \"white\", \"linecolor\": \"white\", \"ticks\": \"\"}}, \"title\": {\"x\": 0.05}, \"xaxis\": {\"automargin\": true, \"gridcolor\": \"white\", \"linecolor\": \"white\", \"ticks\": \"\", \"title\": {\"standoff\": 15}, \"zerolinecolor\": \"white\", \"zerolinewidth\": 2}, \"yaxis\": {\"automargin\": true, \"gridcolor\": \"white\", \"linecolor\": \"white\", \"ticks\": \"\", \"title\": {\"standoff\": 15}, \"zerolinecolor\": \"white\", \"zerolinewidth\": 2}}}, \"title\": {\"text\": \"Frequency of Elevator Calls\"}, \"updatemenus\": [{\"buttons\": [{\"args\": [null, {\"frame\": {\"duration\": 500, \"redraw\": true}, \"fromcurrent\": true, \"mode\": \"immediate\", \"transition\": {\"duration\": 500, \"easing\": \"linear\"}}], \"label\": \"&#9654;\", \"method\": \"animate\"}, {\"args\": [[null], {\"frame\": {\"duration\": 0, \"redraw\": true}, \"fromcurrent\": true, \"mode\": \"immediate\", \"transition\": {\"duration\": 0, \"easing\": \"linear\"}}], \"label\": \"&#9724;\", \"method\": \"animate\"}], \"direction\": \"left\", \"pad\": {\"r\": 10, \"t\": 70}, \"showactive\": false, \"type\": \"buttons\", \"x\": 0.1, \"xanchor\": \"right\", \"y\": 0, \"yanchor\": \"top\"}], \"xaxis\": {\"anchor\": \"y\", \"categoryarray\": [\"B4\", \"B3\", \"B2\", \"B1\", \"01\", \"02\", \"03\", \"04\", \"05\", \"06\", \"07\", \"08\", \"09\", \"10\", \"11\", \"12\", \"13\", \"14\", \"15\"], \"domain\": [0.0, 0.49], \"nticks\": 19, \"title\": {\"text\": \"floor\"}, \"type\": \"category\"}, \"xaxis2\": {\"anchor\": \"y2\", \"categoryarray\": [\"B4\", \"B3\", \"B2\", \"B1\", \"01\", \"02\", \"03\", \"04\", \"05\", \"06\", \"07\", \"08\", \"09\", \"10\", \"11\", \"12\", \"13\", \"14\", \"15\"], \"domain\": [0.51, 1.0], \"matches\": \"x\", \"nticks\": 19, \"title\": {\"text\": \"floor\"}, \"type\": \"category\"}, \"yaxis\": {\"anchor\": \"x\", \"domain\": [0.0, 1.0], \"range\": [0, 1000], \"title\": {\"text\": \"Frequency\"}}, \"yaxis2\": {\"anchor\": \"x2\", \"domain\": [0.0, 1.0], \"matches\": \"y\", \"range\": [0, 1000], \"showticklabels\": false}},\n",
       "                        {\"responsive\": true}\n",
       "                    ).then(function(){\n",
       "                            Plotly.addFrames('448ddcbc-42c8-4fe6-8d18-989239c6cd6f', [{\"data\": [{\"alignmentgroup\": \"True\", \"hovertemplate\": \"direction=down<br>Local Time=0<br>floor=%{x}<br>Frequency=%{y}<extra></extra>\", \"legendgroup\": \"down\", \"marker\": {\"color\": \"#636efa\"}, \"name\": \"down\", \"offsetgroup\": \"down\", \"orientation\": \"v\", \"showlegend\": true, \"textposition\": \"auto\", \"x\": [\"01\", \"02\", \"03\", \"04\", \"05\", \"06\", \"07\", \"08\", \"09\", \"10\", \"11\", \"12\", \"13\", \"14\", \"15\", \"B1\", \"B3\", \"B4\"], \"xaxis\": \"x\", \"y\": [47, 1, 132, 257, 69, 93, 96, 182, 90, 11, 77, 108, 64, 74, 47, 8, 1, 0], \"yaxis\": \"y\", \"type\": \"bar\"}, {\"alignmentgroup\": \"True\", \"hovertemplate\": \"direction=up<br>Local Time=0<br>floor=%{x}<br>Frequency=%{y}<extra></extra>\", \"legendgroup\": \"up\", \"marker\": {\"color\": \"#EF553B\"}, \"name\": \"up\", \"offsetgroup\": \"up\", \"orientation\": \"v\", \"showlegend\": true, \"textposition\": \"auto\", \"x\": [\"01\", \"02\", \"03\", \"04\", \"05\", \"06\", \"07\", \"08\", \"09\", \"10\", \"11\", \"12\", \"13\", \"14\", \"15\", \"B1\", \"B3\", \"B4\"], \"xaxis\": \"x2\", \"y\": [496, 0, 10, 8, 10, 7, 7, 2, 3, 0, 1, 3, 3, 2, 0, 55, 2, 12], \"yaxis\": \"y2\", \"type\": \"bar\"}], \"name\": \"0\"}, {\"data\": [{\"alignmentgroup\": \"True\", \"hovertemplate\": \"direction=down<br>Local Time=1<br>floor=%{x}<br>Frequency=%{y}<extra></extra>\", \"legendgroup\": \"down\", \"marker\": {\"color\": \"#636efa\"}, \"name\": \"down\", \"offsetgroup\": \"down\", \"orientation\": \"v\", \"showlegend\": true, \"textposition\": \"auto\", \"x\": [\"01\", \"02\", \"03\", \"04\", \"05\", \"06\", \"07\", \"08\", \"09\", \"10\", \"11\", \"12\", \"13\", \"14\", \"15\", \"B1\", \"B3\", \"B4\"], \"xaxis\": \"x\", \"y\": [20, 2, 58, 61, 70, 70, 74, 57, 76, 7, 37, 83, 28, 107, 17, 21, 0, 0], \"yaxis\": \"y\", \"type\": \"bar\"}, {\"alignmentgroup\": \"True\", \"hovertemplate\": \"direction=up<br>Local Time=1<br>floor=%{x}<br>Frequency=%{y}<extra></extra>\", \"legendgroup\": \"up\", \"marker\": {\"color\": \"#EF553B\"}, \"name\": \"up\", \"offsetgroup\": \"up\", \"orientation\": \"v\", \"showlegend\": true, \"textposition\": \"auto\", \"x\": [\"01\", \"02\", \"03\", \"04\", \"05\", \"06\", \"07\", \"08\", \"09\", \"10\", \"11\", \"12\", \"13\", \"14\", \"15\", \"B1\", \"B3\", \"B4\"], \"xaxis\": \"x2\", \"y\": [299, 5, 14, 4, 5, 5, 4, 5, 2, 0, 0, 2, 2, 2, 0, 53, 2, 4], \"yaxis\": \"y2\", \"type\": \"bar\"}], \"name\": \"1\"}, {\"data\": [{\"alignmentgroup\": \"True\", \"hovertemplate\": \"direction=down<br>Local Time=2<br>floor=%{x}<br>Frequency=%{y}<extra></extra>\", \"legendgroup\": \"down\", \"marker\": {\"color\": \"#636efa\"}, \"name\": \"down\", \"offsetgroup\": \"down\", \"orientation\": \"v\", \"showlegend\": true, \"textposition\": \"auto\", \"x\": [\"01\", \"02\", \"03\", \"04\", \"05\", \"06\", \"07\", \"08\", \"09\", \"10\", \"11\", \"12\", \"13\", \"14\", \"15\", \"B1\", \"B3\", \"B4\"], \"xaxis\": \"x\", \"y\": [5, 1, 19, 16, 38, 26, 72, 31, 20, 5, 18, 54, 24, 31, 2, 1, 0, 0], \"yaxis\": \"y\", \"type\": \"bar\"}, {\"alignmentgroup\": \"True\", \"hovertemplate\": \"direction=up<br>Local Time=2<br>floor=%{x}<br>Frequency=%{y}<extra></extra>\", \"legendgroup\": \"up\", \"marker\": {\"color\": \"#EF553B\"}, \"name\": \"up\", \"offsetgroup\": \"up\", \"orientation\": \"v\", \"showlegend\": true, \"textposition\": \"auto\", \"x\": [\"01\", \"02\", \"03\", \"04\", \"05\", \"06\", \"07\", \"08\", \"09\", \"10\", \"11\", \"12\", \"13\", \"14\", \"15\", \"B1\", \"B3\", \"B4\"], \"xaxis\": \"x2\", \"y\": [173, 1, 12, 4, 7, 3, 0, 0, 1, 1, 1, 0, 1, 0, 0, 29, 0, 4], \"yaxis\": \"y2\", \"type\": \"bar\"}], \"name\": \"2\"}, {\"data\": [{\"alignmentgroup\": \"True\", \"hovertemplate\": \"direction=down<br>Local Time=3<br>floor=%{x}<br>Frequency=%{y}<extra></extra>\", \"legendgroup\": \"down\", \"marker\": {\"color\": \"#636efa\"}, \"name\": \"down\", \"offsetgroup\": \"down\", \"orientation\": \"v\", \"showlegend\": true, \"textposition\": \"auto\", \"x\": [\"01\", \"02\", \"03\", \"04\", \"05\", \"06\", \"07\", \"08\", \"09\", \"10\", \"11\", \"12\", \"13\", \"14\", \"15\", \"B1\", \"B3\", \"B4\"], \"xaxis\": \"x\", \"y\": [14, 2, 13, 11, 18, 28, 41, 14, 9, 4, 11, 22, 25, 19, 6, 1, 0, 0], \"yaxis\": \"y\", \"type\": \"bar\"}, {\"alignmentgroup\": \"True\", \"hovertemplate\": \"direction=up<br>Local Time=3<br>floor=%{x}<br>Frequency=%{y}<extra></extra>\", \"legendgroup\": \"up\", \"marker\": {\"color\": \"#EF553B\"}, \"name\": \"up\", \"offsetgroup\": \"up\", \"orientation\": \"v\", \"showlegend\": true, \"textposition\": \"auto\", \"x\": [\"01\", \"02\", \"03\", \"04\", \"05\", \"06\", \"07\", \"08\", \"09\", \"10\", \"11\", \"12\", \"13\", \"14\", \"15\", \"B1\", \"B3\", \"B4\"], \"xaxis\": \"x2\", \"y\": [113, 5, 6, 4, 4, 2, 4, 0, 1, 0, 1, 1, 0, 1, 0, 32, 0, 6], \"yaxis\": \"y2\", \"type\": \"bar\"}], \"name\": \"3\"}, {\"data\": [{\"alignmentgroup\": \"True\", \"hovertemplate\": \"direction=down<br>Local Time=4<br>floor=%{x}<br>Frequency=%{y}<extra></extra>\", \"legendgroup\": \"down\", \"marker\": {\"color\": \"#636efa\"}, \"name\": \"down\", \"offsetgroup\": \"down\", \"orientation\": \"v\", \"showlegend\": true, \"textposition\": \"auto\", \"x\": [\"01\", \"02\", \"03\", \"04\", \"05\", \"06\", \"07\", \"08\", \"09\", \"10\", \"11\", \"12\", \"13\", \"14\", \"15\", \"B1\", \"B3\", \"B4\"], \"xaxis\": \"x\", \"y\": [25, 4, 12, 14, 16, 29, 27, 21, 16, 5, 9, 27, 21, 21, 0, 0, 0, 0], \"yaxis\": \"y\", \"type\": \"bar\"}, {\"alignmentgroup\": \"True\", \"hovertemplate\": \"direction=up<br>Local Time=4<br>floor=%{x}<br>Frequency=%{y}<extra></extra>\", \"legendgroup\": \"up\", \"marker\": {\"color\": \"#EF553B\"}, \"name\": \"up\", \"offsetgroup\": \"up\", \"orientation\": \"v\", \"showlegend\": true, \"textposition\": \"auto\", \"x\": [\"01\", \"02\", \"03\", \"04\", \"05\", \"06\", \"07\", \"08\", \"09\", \"10\", \"11\", \"12\", \"13\", \"14\", \"15\", \"B1\", \"B3\", \"B4\"], \"xaxis\": \"x2\", \"y\": [151, 0, 8, 4, 5, 1, 4, 0, 0, 0, 0, 0, 0, 0, 0, 32, 3, 6], \"yaxis\": \"y2\", \"type\": \"bar\"}], \"name\": \"4\"}, {\"data\": [{\"alignmentgroup\": \"True\", \"hovertemplate\": \"direction=down<br>Local Time=5<br>floor=%{x}<br>Frequency=%{y}<extra></extra>\", \"legendgroup\": \"down\", \"marker\": {\"color\": \"#636efa\"}, \"name\": \"down\", \"offsetgroup\": \"down\", \"orientation\": \"v\", \"showlegend\": true, \"textposition\": \"auto\", \"x\": [\"01\", \"02\", \"03\", \"04\", \"05\", \"06\", \"07\", \"08\", \"09\", \"10\", \"11\", \"12\", \"13\", \"14\", \"15\", \"B1\", \"B3\", \"B4\"], \"xaxis\": \"x\", \"y\": [26, 0, 11, 11, 36, 81, 77, 40, 40, 3, 60, 79, 56, 62, 5, 0, 0, 0], \"yaxis\": \"y\", \"type\": \"bar\"}, {\"alignmentgroup\": \"True\", \"hovertemplate\": \"direction=up<br>Local Time=5<br>floor=%{x}<br>Frequency=%{y}<extra></extra>\", \"legendgroup\": \"up\", \"marker\": {\"color\": \"#EF553B\"}, \"name\": \"up\", \"offsetgroup\": \"up\", \"orientation\": \"v\", \"showlegend\": true, \"textposition\": \"auto\", \"x\": [\"01\", \"02\", \"03\", \"04\", \"05\", \"06\", \"07\", \"08\", \"09\", \"10\", \"11\", \"12\", \"13\", \"14\", \"15\", \"B1\", \"B3\", \"B4\"], \"xaxis\": \"x2\", \"y\": [339, 0, 6, 4, 2, 6, 1, 2, 3, 0, 2, 3, 5, 1, 0, 60, 4, 16], \"yaxis\": \"y2\", \"type\": \"bar\"}], \"name\": \"5\"}, {\"data\": [{\"alignmentgroup\": \"True\", \"hovertemplate\": \"direction=down<br>Local Time=6<br>floor=%{x}<br>Frequency=%{y}<extra></extra>\", \"legendgroup\": \"down\", \"marker\": {\"color\": \"#636efa\"}, \"name\": \"down\", \"offsetgroup\": \"down\", \"orientation\": \"v\", \"showlegend\": true, \"textposition\": \"auto\", \"x\": [\"01\", \"02\", \"03\", \"04\", \"05\", \"06\", \"07\", \"08\", \"09\", \"10\", \"11\", \"12\", \"13\", \"14\", \"15\", \"B1\", \"B3\", \"B4\"], \"xaxis\": \"x\", \"y\": [126, 23, 134, 39, 108, 279, 241, 204, 146, 0, 208, 157, 217, 274, 12, 45, 1, 0], \"yaxis\": \"y\", \"type\": \"bar\"}, {\"alignmentgroup\": \"True\", \"hovertemplate\": \"direction=up<br>Local Time=6<br>floor=%{x}<br>Frequency=%{y}<extra></extra>\", \"legendgroup\": \"up\", \"marker\": {\"color\": \"#EF553B\"}, \"name\": \"up\", \"offsetgroup\": \"up\", \"orientation\": \"v\", \"showlegend\": true, \"textposition\": \"auto\", \"x\": [\"01\", \"02\", \"03\", \"04\", \"05\", \"06\", \"07\", \"08\", \"09\", \"10\", \"11\", \"12\", \"13\", \"14\", \"15\", \"B1\", \"B3\", \"B4\"], \"xaxis\": \"x2\", \"y\": [1270, 1, 9, 14, 19, 84, 6, 10, 5, 3, 3, 8, 19, 14, 0, 521, 36, 88], \"yaxis\": \"y2\", \"type\": \"bar\"}], \"name\": \"6\"}, {\"data\": [{\"alignmentgroup\": \"True\", \"hovertemplate\": \"direction=down<br>Local Time=7<br>floor=%{x}<br>Frequency=%{y}<extra></extra>\", \"legendgroup\": \"down\", \"marker\": {\"color\": \"#636efa\"}, \"name\": \"down\", \"offsetgroup\": \"down\", \"orientation\": \"v\", \"showlegend\": true, \"textposition\": \"auto\", \"x\": [\"01\", \"02\", \"03\", \"04\", \"05\", \"06\", \"07\", \"08\", \"09\", \"10\", \"11\", \"12\", \"13\", \"14\", \"15\", \"B1\", \"B3\", \"B4\"], \"xaxis\": \"x\", \"y\": [216, 21, 165, 101, 192, 348, 334, 371, 309, 15, 373, 365, 370, 362, 96, 85, 19, 0], \"yaxis\": \"y\", \"type\": \"bar\"}, {\"alignmentgroup\": \"True\", \"hovertemplate\": \"direction=up<br>Local Time=7<br>floor=%{x}<br>Frequency=%{y}<extra></extra>\", \"legendgroup\": \"up\", \"marker\": {\"color\": \"#EF553B\"}, \"name\": \"up\", \"offsetgroup\": \"up\", \"orientation\": \"v\", \"showlegend\": true, \"textposition\": \"auto\", \"x\": [\"01\", \"02\", \"03\", \"04\", \"05\", \"06\", \"07\", \"08\", \"09\", \"10\", \"11\", \"12\", \"13\", \"14\", \"15\", \"B1\", \"B3\", \"B4\"], \"xaxis\": \"x2\", \"y\": [1028, 45, 100, 80, 47, 95, 34, 30, 55, 3, 15, 18, 41, 12, 0, 858, 245, 344], \"yaxis\": \"y2\", \"type\": \"bar\"}], \"name\": \"7\"}, {\"data\": [{\"alignmentgroup\": \"True\", \"hovertemplate\": \"direction=down<br>Local Time=8<br>floor=%{x}<br>Frequency=%{y}<extra></extra>\", \"legendgroup\": \"down\", \"marker\": {\"color\": \"#636efa\"}, \"name\": \"down\", \"offsetgroup\": \"down\", \"orientation\": \"v\", \"showlegend\": true, \"textposition\": \"auto\", \"x\": [\"01\", \"02\", \"03\", \"04\", \"05\", \"06\", \"07\", \"08\", \"09\", \"10\", \"11\", \"12\", \"13\", \"14\", \"15\", \"B1\", \"B3\", \"B4\"], \"xaxis\": \"x\", \"y\": [254, 32, 270, 247, 245, 424, 374, 450, 474, 60, 451, 396, 432, 386, 170, 110, 15, 0], \"yaxis\": \"y\", \"type\": \"bar\"}, {\"alignmentgroup\": \"True\", \"hovertemplate\": \"direction=up<br>Local Time=8<br>floor=%{x}<br>Frequency=%{y}<extra></extra>\", \"legendgroup\": \"up\", \"marker\": {\"color\": \"#EF553B\"}, \"name\": \"up\", \"offsetgroup\": \"up\", \"orientation\": \"v\", \"showlegend\": true, \"textposition\": \"auto\", \"x\": [\"01\", \"02\", \"03\", \"04\", \"05\", \"06\", \"07\", \"08\", \"09\", \"10\", \"11\", \"12\", \"13\", \"14\", \"15\", \"B1\", \"B3\", \"B4\"], \"xaxis\": \"x2\", \"y\": [944, 68, 163, 117, 64, 53, 45, 23, 30, 10, 9, 18, 11, 18, 0, 791, 197, 330], \"yaxis\": \"y2\", \"type\": \"bar\"}], \"name\": \"8\"}, {\"data\": [{\"alignmentgroup\": \"True\", \"hovertemplate\": \"direction=down<br>Local Time=9<br>floor=%{x}<br>Frequency=%{y}<extra></extra>\", \"legendgroup\": \"down\", \"marker\": {\"color\": \"#636efa\"}, \"name\": \"down\", \"offsetgroup\": \"down\", \"orientation\": \"v\", \"showlegend\": true, \"textposition\": \"auto\", \"x\": [\"01\", \"02\", \"03\", \"04\", \"05\", \"06\", \"07\", \"08\", \"09\", \"10\", \"11\", \"12\", \"13\", \"14\", \"15\", \"B1\", \"B3\", \"B4\"], \"xaxis\": \"x\", \"y\": [208, 62, 247, 223, 303, 419, 389, 411, 413, 146, 405, 392, 447, 451, 195, 116, 18, 0], \"yaxis\": \"y\", \"type\": \"bar\"}, {\"alignmentgroup\": \"True\", \"hovertemplate\": \"direction=up<br>Local Time=9<br>floor=%{x}<br>Frequency=%{y}<extra></extra>\", \"legendgroup\": \"up\", \"marker\": {\"color\": \"#EF553B\"}, \"name\": \"up\", \"offsetgroup\": \"up\", \"orientation\": \"v\", \"showlegend\": true, \"textposition\": \"auto\", \"x\": [\"01\", \"02\", \"03\", \"04\", \"05\", \"06\", \"07\", \"08\", \"09\", \"10\", \"11\", \"12\", \"13\", \"14\", \"15\", \"B1\", \"B3\", \"B4\"], \"xaxis\": \"x2\", \"y\": [877, 125, 151, 197, 104, 49, 72, 55, 58, 12, 16, 16, 23, 12, 0, 681, 174, 298], \"yaxis\": \"y2\", \"type\": \"bar\"}], \"name\": \"9\"}, {\"data\": [{\"alignmentgroup\": \"True\", \"hovertemplate\": \"direction=down<br>Local Time=10<br>floor=%{x}<br>Frequency=%{y}<extra></extra>\", \"legendgroup\": \"down\", \"marker\": {\"color\": \"#636efa\"}, \"name\": \"down\", \"offsetgroup\": \"down\", \"orientation\": \"v\", \"showlegend\": true, \"textposition\": \"auto\", \"x\": [\"01\", \"02\", \"03\", \"04\", \"05\", \"06\", \"07\", \"08\", \"09\", \"10\", \"11\", \"12\", \"13\", \"14\", \"15\", \"B1\", \"B3\", \"B4\"], \"xaxis\": \"x\", \"y\": [238, 56, 263, 226, 302, 427, 398, 432, 413, 171, 406, 388, 403, 412, 177, 117, 31, 0], \"yaxis\": \"y\", \"type\": \"bar\"}, {\"alignmentgroup\": \"True\", \"hovertemplate\": \"direction=up<br>Local Time=10<br>floor=%{x}<br>Frequency=%{y}<extra></extra>\", \"legendgroup\": \"up\", \"marker\": {\"color\": \"#EF553B\"}, \"name\": \"up\", \"offsetgroup\": \"up\", \"orientation\": \"v\", \"showlegend\": true, \"textposition\": \"auto\", \"x\": [\"01\", \"02\", \"03\", \"04\", \"05\", \"06\", \"07\", \"08\", \"09\", \"10\", \"11\", \"12\", \"13\", \"14\", \"15\", \"B1\", \"B3\", \"B4\"], \"xaxis\": \"x2\", \"y\": [777, 92, 162, 143, 91, 94, 89, 86, 41, 29, 34, 40, 16, 9, 0, 607, 138, 285], \"yaxis\": \"y2\", \"type\": \"bar\"}], \"name\": \"10\"}, {\"data\": [{\"alignmentgroup\": \"True\", \"hovertemplate\": \"direction=down<br>Local Time=11<br>floor=%{x}<br>Frequency=%{y}<extra></extra>\", \"legendgroup\": \"down\", \"marker\": {\"color\": \"#636efa\"}, \"name\": \"down\", \"offsetgroup\": \"down\", \"orientation\": \"v\", \"showlegend\": true, \"textposition\": \"auto\", \"x\": [\"01\", \"02\", \"03\", \"04\", \"05\", \"06\", \"07\", \"08\", \"09\", \"10\", \"11\", \"12\", \"13\", \"14\", \"15\", \"B1\", \"B3\", \"B4\"], \"xaxis\": \"x\", \"y\": [253, 66, 310, 276, 266, 362, 427, 425, 416, 160, 420, 452, 457, 458, 266, 148, 32, 0], \"yaxis\": \"y\", \"type\": \"bar\"}, {\"alignmentgroup\": \"True\", \"hovertemplate\": \"direction=up<br>Local Time=11<br>floor=%{x}<br>Frequency=%{y}<extra></extra>\", \"legendgroup\": \"up\", \"marker\": {\"color\": \"#EF553B\"}, \"name\": \"up\", \"offsetgroup\": \"up\", \"orientation\": \"v\", \"showlegend\": true, \"textposition\": \"auto\", \"x\": [\"01\", \"02\", \"03\", \"04\", \"05\", \"06\", \"07\", \"08\", \"09\", \"10\", \"11\", \"12\", \"13\", \"14\", \"15\", \"B1\", \"B3\", \"B4\"], \"xaxis\": \"x2\", \"y\": [655, 119, 175, 172, 98, 91, 95, 71, 58, 32, 39, 57, 38, 18, 0, 674, 148, 298], \"yaxis\": \"y2\", \"type\": \"bar\"}], \"name\": \"11\"}, {\"data\": [{\"alignmentgroup\": \"True\", \"hovertemplate\": \"direction=down<br>Local Time=12<br>floor=%{x}<br>Frequency=%{y}<extra></extra>\", \"legendgroup\": \"down\", \"marker\": {\"color\": \"#636efa\"}, \"name\": \"down\", \"offsetgroup\": \"down\", \"orientation\": \"v\", \"showlegend\": true, \"textposition\": \"auto\", \"x\": [\"01\", \"02\", \"03\", \"04\", \"05\", \"06\", \"07\", \"08\", \"09\", \"10\", \"11\", \"12\", \"13\", \"14\", \"15\", \"B1\", \"B3\", \"B4\"], \"xaxis\": \"x\", \"y\": [232, 45, 296, 318, 290, 366, 429, 431, 425, 165, 425, 466, 461, 483, 234, 164, 31, 0], \"yaxis\": \"y\", \"type\": \"bar\"}, {\"alignmentgroup\": \"True\", \"hovertemplate\": \"direction=up<br>Local Time=12<br>floor=%{x}<br>Frequency=%{y}<extra></extra>\", \"legendgroup\": \"up\", \"marker\": {\"color\": \"#EF553B\"}, \"name\": \"up\", \"offsetgroup\": \"up\", \"orientation\": \"v\", \"showlegend\": true, \"textposition\": \"auto\", \"x\": [\"01\", \"02\", \"03\", \"04\", \"05\", \"06\", \"07\", \"08\", \"09\", \"10\", \"11\", \"12\", \"13\", \"14\", \"15\", \"B1\", \"B3\", \"B4\"], \"xaxis\": \"x2\", \"y\": [723, 92, 151, 114, 96, 70, 125, 58, 38, 17, 19, 30, 15, 16, 0, 720, 132, 232], \"yaxis\": \"y2\", \"type\": \"bar\"}], \"name\": \"12\"}, {\"data\": [{\"alignmentgroup\": \"True\", \"hovertemplate\": \"direction=down<br>Local Time=13<br>floor=%{x}<br>Frequency=%{y}<extra></extra>\", \"legendgroup\": \"down\", \"marker\": {\"color\": \"#636efa\"}, \"name\": \"down\", \"offsetgroup\": \"down\", \"orientation\": \"v\", \"showlegend\": true, \"textposition\": \"auto\", \"x\": [\"01\", \"02\", \"03\", \"04\", \"05\", \"06\", \"07\", \"08\", \"09\", \"10\", \"11\", \"12\", \"13\", \"14\", \"15\", \"B1\", \"B3\", \"B4\"], \"xaxis\": \"x\", \"y\": [238, 73, 282, 232, 273, 355, 434, 440, 392, 166, 438, 467, 413, 433, 188, 158, 18, 0], \"yaxis\": \"y\", \"type\": \"bar\"}, {\"alignmentgroup\": \"True\", \"hovertemplate\": \"direction=up<br>Local Time=13<br>floor=%{x}<br>Frequency=%{y}<extra></extra>\", \"legendgroup\": \"up\", \"marker\": {\"color\": \"#EF553B\"}, \"name\": \"up\", \"offsetgroup\": \"up\", \"orientation\": \"v\", \"showlegend\": true, \"textposition\": \"auto\", \"x\": [\"01\", \"02\", \"03\", \"04\", \"05\", \"06\", \"07\", \"08\", \"09\", \"10\", \"11\", \"12\", \"13\", \"14\", \"15\", \"B1\", \"B3\", \"B4\"], \"xaxis\": \"x2\", \"y\": [795, 102, 210, 157, 107, 59, 101, 55, 39, 28, 32, 34, 22, 24, 0, 689, 122, 288], \"yaxis\": \"y2\", \"type\": \"bar\"}], \"name\": \"13\"}, {\"data\": [{\"alignmentgroup\": \"True\", \"hovertemplate\": \"direction=down<br>Local Time=14<br>floor=%{x}<br>Frequency=%{y}<extra></extra>\", \"legendgroup\": \"down\", \"marker\": {\"color\": \"#636efa\"}, \"name\": \"down\", \"offsetgroup\": \"down\", \"orientation\": \"v\", \"showlegend\": true, \"textposition\": \"auto\", \"x\": [\"01\", \"02\", \"03\", \"04\", \"05\", \"06\", \"07\", \"08\", \"09\", \"10\", \"11\", \"12\", \"13\", \"14\", \"15\", \"B1\", \"B3\", \"B4\"], \"xaxis\": \"x\", \"y\": [214, 54, 303, 328, 298, 388, 422, 408, 406, 184, 384, 429, 430, 405, 179, 137, 30, 0], \"yaxis\": \"y\", \"type\": \"bar\"}, {\"alignmentgroup\": \"True\", \"hovertemplate\": \"direction=up<br>Local Time=14<br>floor=%{x}<br>Frequency=%{y}<extra></extra>\", \"legendgroup\": \"up\", \"marker\": {\"color\": \"#EF553B\"}, \"name\": \"up\", \"offsetgroup\": \"up\", \"orientation\": \"v\", \"showlegend\": true, \"textposition\": \"auto\", \"x\": [\"01\", \"02\", \"03\", \"04\", \"05\", \"06\", \"07\", \"08\", \"09\", \"10\", \"11\", \"12\", \"13\", \"14\", \"15\", \"B1\", \"B3\", \"B4\"], \"xaxis\": \"x2\", \"y\": [819, 90, 210, 205, 145, 110, 82, 78, 50, 19, 21, 32, 15, 18, 0, 666, 125, 329], \"yaxis\": \"y2\", \"type\": \"bar\"}], \"name\": \"14\"}, {\"data\": [{\"alignmentgroup\": \"True\", \"hovertemplate\": \"direction=down<br>Local Time=15<br>floor=%{x}<br>Frequency=%{y}<extra></extra>\", \"legendgroup\": \"down\", \"marker\": {\"color\": \"#636efa\"}, \"name\": \"down\", \"offsetgroup\": \"down\", \"orientation\": \"v\", \"showlegend\": true, \"textposition\": \"auto\", \"x\": [\"01\", \"02\", \"03\", \"04\", \"05\", \"06\", \"07\", \"08\", \"09\", \"10\", \"11\", \"12\", \"13\", \"14\", \"15\", \"B1\", \"B3\", \"B4\"], \"xaxis\": \"x\", \"y\": [254, 63, 399, 389, 295, 421, 424, 438, 421, 213, 408, 432, 440, 434, 213, 111, 38, 0], \"yaxis\": \"y\", \"type\": \"bar\"}, {\"alignmentgroup\": \"True\", \"hovertemplate\": \"direction=up<br>Local Time=15<br>floor=%{x}<br>Frequency=%{y}<extra></extra>\", \"legendgroup\": \"up\", \"marker\": {\"color\": \"#EF553B\"}, \"name\": \"up\", \"offsetgroup\": \"up\", \"orientation\": \"v\", \"showlegend\": true, \"textposition\": \"auto\", \"x\": [\"01\", \"02\", \"03\", \"04\", \"05\", \"06\", \"07\", \"08\", \"09\", \"10\", \"11\", \"12\", \"13\", \"14\", \"15\", \"B1\", \"B3\", \"B4\"], \"xaxis\": \"x2\", \"y\": [844, 109, 192, 157, 118, 89, 104, 85, 61, 35, 24, 40, 24, 10, 0, 624, 129, 332], \"yaxis\": \"y2\", \"type\": \"bar\"}], \"name\": \"15\"}, {\"data\": [{\"alignmentgroup\": \"True\", \"hovertemplate\": \"direction=down<br>Local Time=16<br>floor=%{x}<br>Frequency=%{y}<extra></extra>\", \"legendgroup\": \"down\", \"marker\": {\"color\": \"#636efa\"}, \"name\": \"down\", \"offsetgroup\": \"down\", \"orientation\": \"v\", \"showlegend\": true, \"textposition\": \"auto\", \"x\": [\"01\", \"02\", \"03\", \"04\", \"05\", \"06\", \"07\", \"08\", \"09\", \"10\", \"11\", \"12\", \"13\", \"14\", \"15\", \"B1\", \"B3\", \"B4\"], \"xaxis\": \"x\", \"y\": [240, 62, 343, 366, 344, 420, 439, 513, 469, 198, 431, 470, 485, 477, 260, 147, 37, 0], \"yaxis\": \"y\", \"type\": \"bar\"}, {\"alignmentgroup\": \"True\", \"hovertemplate\": \"direction=up<br>Local Time=16<br>floor=%{x}<br>Frequency=%{y}<extra></extra>\", \"legendgroup\": \"up\", \"marker\": {\"color\": \"#EF553B\"}, \"name\": \"up\", \"offsetgroup\": \"up\", \"orientation\": \"v\", \"showlegend\": true, \"textposition\": \"auto\", \"x\": [\"01\", \"02\", \"03\", \"04\", \"05\", \"06\", \"07\", \"08\", \"09\", \"10\", \"11\", \"12\", \"13\", \"14\", \"15\", \"B1\", \"B3\", \"B4\"], \"xaxis\": \"x2\", \"y\": [827, 124, 169, 177, 125, 96, 94, 78, 76, 42, 19, 25, 29, 25, 0, 657, 103, 340], \"yaxis\": \"y2\", \"type\": \"bar\"}], \"name\": \"16\"}, {\"data\": [{\"alignmentgroup\": \"True\", \"hovertemplate\": \"direction=down<br>Local Time=17<br>floor=%{x}<br>Frequency=%{y}<extra></extra>\", \"legendgroup\": \"down\", \"marker\": {\"color\": \"#636efa\"}, \"name\": \"down\", \"offsetgroup\": \"down\", \"orientation\": \"v\", \"showlegend\": true, \"textposition\": \"auto\", \"x\": [\"01\", \"02\", \"03\", \"04\", \"05\", \"06\", \"07\", \"08\", \"09\", \"10\", \"11\", \"12\", \"13\", \"14\", \"15\", \"B1\", \"B3\", \"B4\"], \"xaxis\": \"x\", \"y\": [209, 35, 359, 229, 333, 433, 494, 506, 511, 230, 519, 549, 526, 528, 269, 137, 8, 0], \"yaxis\": \"y\", \"type\": \"bar\"}, {\"alignmentgroup\": \"True\", \"hovertemplate\": \"direction=up<br>Local Time=17<br>floor=%{x}<br>Frequency=%{y}<extra></extra>\", \"legendgroup\": \"up\", \"marker\": {\"color\": \"#EF553B\"}, \"name\": \"up\", \"offsetgroup\": \"up\", \"orientation\": \"v\", \"showlegend\": true, \"textposition\": \"auto\", \"x\": [\"01\", \"02\", \"03\", \"04\", \"05\", \"06\", \"07\", \"08\", \"09\", \"10\", \"11\", \"12\", \"13\", \"14\", \"15\", \"B1\", \"B3\", \"B4\"], \"xaxis\": \"x2\", \"y\": [830, 72, 168, 124, 100, 69, 93, 37, 54, 36, 22, 26, 21, 17, 0, 755, 77, 299], \"yaxis\": \"y2\", \"type\": \"bar\"}], \"name\": \"17\"}, {\"data\": [{\"alignmentgroup\": \"True\", \"hovertemplate\": \"direction=down<br>Local Time=18<br>floor=%{x}<br>Frequency=%{y}<extra></extra>\", \"legendgroup\": \"down\", \"marker\": {\"color\": \"#636efa\"}, \"name\": \"down\", \"offsetgroup\": \"down\", \"orientation\": \"v\", \"showlegend\": true, \"textposition\": \"auto\", \"x\": [\"01\", \"02\", \"03\", \"04\", \"05\", \"06\", \"07\", \"08\", \"09\", \"10\", \"11\", \"12\", \"13\", \"14\", \"15\", \"B1\", \"B3\", \"B4\"], \"xaxis\": \"x\", \"y\": [179, 34, 303, 169, 328, 466, 507, 519, 526, 161, 507, 533, 502, 531, 139, 91, 2, 0], \"yaxis\": \"y\", \"type\": \"bar\"}, {\"alignmentgroup\": \"True\", \"hovertemplate\": \"direction=up<br>Local Time=18<br>floor=%{x}<br>Frequency=%{y}<extra></extra>\", \"legendgroup\": \"up\", \"marker\": {\"color\": \"#EF553B\"}, \"name\": \"up\", \"offsetgroup\": \"up\", \"orientation\": \"v\", \"showlegend\": true, \"textposition\": \"auto\", \"x\": [\"01\", \"02\", \"03\", \"04\", \"05\", \"06\", \"07\", \"08\", \"09\", \"10\", \"11\", \"12\", \"13\", \"14\", \"15\", \"B1\", \"B3\", \"B4\"], \"xaxis\": \"x2\", \"y\": [876, 27, 94, 61, 92, 47, 70, 34, 28, 12, 11, 15, 13, 5, 0, 789, 50, 185], \"yaxis\": \"y2\", \"type\": \"bar\"}], \"name\": \"18\"}, {\"data\": [{\"alignmentgroup\": \"True\", \"hovertemplate\": \"direction=down<br>Local Time=19<br>floor=%{x}<br>Frequency=%{y}<extra></extra>\", \"legendgroup\": \"down\", \"marker\": {\"color\": \"#636efa\"}, \"name\": \"down\", \"offsetgroup\": \"down\", \"orientation\": \"v\", \"showlegend\": true, \"textposition\": \"auto\", \"x\": [\"01\", \"02\", \"03\", \"04\", \"05\", \"06\", \"07\", \"08\", \"09\", \"10\", \"11\", \"12\", \"13\", \"14\", \"15\", \"B1\", \"B3\", \"B4\"], \"xaxis\": \"x\", \"y\": [160, 24, 276, 169, 329, 450, 547, 502, 466, 109, 444, 435, 442, 482, 108, 77, 4, 0], \"yaxis\": \"y\", \"type\": \"bar\"}, {\"alignmentgroup\": \"True\", \"hovertemplate\": \"direction=up<br>Local Time=19<br>floor=%{x}<br>Frequency=%{y}<extra></extra>\", \"legendgroup\": \"up\", \"marker\": {\"color\": \"#EF553B\"}, \"name\": \"up\", \"offsetgroup\": \"up\", \"orientation\": \"v\", \"showlegend\": true, \"textposition\": \"auto\", \"x\": [\"01\", \"02\", \"03\", \"04\", \"05\", \"06\", \"07\", \"08\", \"09\", \"10\", \"11\", \"12\", \"13\", \"14\", \"15\", \"B1\", \"B3\", \"B4\"], \"xaxis\": \"x2\", \"y\": [992, 7, 100, 44, 83, 41, 53, 26, 19, 19, 11, 17, 18, 8, 0, 750, 50, 121], \"yaxis\": \"y2\", \"type\": \"bar\"}], \"name\": \"19\"}, {\"data\": [{\"alignmentgroup\": \"True\", \"hovertemplate\": \"direction=down<br>Local Time=20<br>floor=%{x}<br>Frequency=%{y}<extra></extra>\", \"legendgroup\": \"down\", \"marker\": {\"color\": \"#636efa\"}, \"name\": \"down\", \"offsetgroup\": \"down\", \"orientation\": \"v\", \"showlegend\": true, \"textposition\": \"auto\", \"x\": [\"01\", \"02\", \"03\", \"04\", \"05\", \"06\", \"07\", \"08\", \"09\", \"10\", \"11\", \"12\", \"13\", \"14\", \"15\", \"B1\", \"B3\", \"B4\"], \"xaxis\": \"x\", \"y\": [96, 19, 402, 464, 268, 434, 517, 482, 397, 59, 398, 395, 374, 415, 81, 58, 0, 0], \"yaxis\": \"y\", \"type\": \"bar\"}, {\"alignmentgroup\": \"True\", \"hovertemplate\": \"direction=up<br>Local Time=20<br>floor=%{x}<br>Frequency=%{y}<extra></extra>\", \"legendgroup\": \"up\", \"marker\": {\"color\": \"#EF553B\"}, \"name\": \"up\", \"offsetgroup\": \"up\", \"orientation\": \"v\", \"showlegend\": true, \"textposition\": \"auto\", \"x\": [\"01\", \"02\", \"03\", \"04\", \"05\", \"06\", \"07\", \"08\", \"09\", \"10\", \"11\", \"12\", \"13\", \"14\", \"15\", \"B1\", \"B3\", \"B4\"], \"xaxis\": \"x2\", \"y\": [1175, 5, 59, 46, 26, 20, 39, 14, 22, 6, 10, 14, 12, 7, 0, 705, 19, 82], \"yaxis\": \"y2\", \"type\": \"bar\"}], \"name\": \"20\"}, {\"data\": [{\"alignmentgroup\": \"True\", \"hovertemplate\": \"direction=down<br>Local Time=21<br>floor=%{x}<br>Frequency=%{y}<extra></extra>\", \"legendgroup\": \"down\", \"marker\": {\"color\": \"#636efa\"}, \"name\": \"down\", \"offsetgroup\": \"down\", \"orientation\": \"v\", \"showlegend\": true, \"textposition\": \"auto\", \"x\": [\"01\", \"02\", \"03\", \"04\", \"05\", \"06\", \"07\", \"08\", \"09\", \"10\", \"11\", \"12\", \"13\", \"14\", \"15\", \"B1\", \"B3\", \"B4\"], \"xaxis\": \"x\", \"y\": [81, 7, 199, 138, 206, 363, 439, 407, 361, 33, 320, 265, 285, 317, 57, 37, 4, 0], \"yaxis\": \"y\", \"type\": \"bar\"}, {\"alignmentgroup\": \"True\", \"hovertemplate\": \"direction=up<br>Local Time=21<br>floor=%{x}<br>Frequency=%{y}<extra></extra>\", \"legendgroup\": \"up\", \"marker\": {\"color\": \"#EF553B\"}, \"name\": \"up\", \"offsetgroup\": \"up\", \"orientation\": \"v\", \"showlegend\": true, \"textposition\": \"auto\", \"x\": [\"01\", \"02\", \"03\", \"04\", \"05\", \"06\", \"07\", \"08\", \"09\", \"10\", \"11\", \"12\", \"13\", \"14\", \"15\", \"B1\", \"B3\", \"B4\"], \"xaxis\": \"x2\", \"y\": [1319, 3, 49, 30, 59, 18, 42, 12, 21, 2, 6, 14, 8, 17, 0, 450, 27, 81], \"yaxis\": \"y2\", \"type\": \"bar\"}], \"name\": \"21\"}, {\"data\": [{\"alignmentgroup\": \"True\", \"hovertemplate\": \"direction=down<br>Local Time=22<br>floor=%{x}<br>Frequency=%{y}<extra></extra>\", \"legendgroup\": \"down\", \"marker\": {\"color\": \"#636efa\"}, \"name\": \"down\", \"offsetgroup\": \"down\", \"orientation\": \"v\", \"showlegend\": true, \"textposition\": \"auto\", \"x\": [\"01\", \"02\", \"03\", \"04\", \"05\", \"06\", \"07\", \"08\", \"09\", \"10\", \"11\", \"12\", \"13\", \"14\", \"15\", \"B1\", \"B3\", \"B4\"], \"xaxis\": \"x\", \"y\": [57, 6, 325, 75, 122, 196, 242, 265, 171, 23, 193, 160, 172, 248, 31, 16, 4, 0], \"yaxis\": \"y\", \"type\": \"bar\"}, {\"alignmentgroup\": \"True\", \"hovertemplate\": \"direction=up<br>Local Time=22<br>floor=%{x}<br>Frequency=%{y}<extra></extra>\", \"legendgroup\": \"up\", \"marker\": {\"color\": \"#EF553B\"}, \"name\": \"up\", \"offsetgroup\": \"up\", \"orientation\": \"v\", \"showlegend\": true, \"textposition\": \"auto\", \"x\": [\"01\", \"02\", \"03\", \"04\", \"05\", \"06\", \"07\", \"08\", \"09\", \"10\", \"11\", \"12\", \"13\", \"14\", \"15\", \"B1\", \"B3\", \"B4\"], \"xaxis\": \"x2\", \"y\": [1217, 0, 28, 16, 19, 19, 18, 5, 9, 4, 6, 11, 2, 8, 0, 313, 30, 13], \"yaxis\": \"y2\", \"type\": \"bar\"}], \"name\": \"22\"}, {\"data\": [{\"alignmentgroup\": \"True\", \"hovertemplate\": \"direction=down<br>Local Time=23<br>floor=%{x}<br>Frequency=%{y}<extra></extra>\", \"legendgroup\": \"down\", \"marker\": {\"color\": \"#636efa\"}, \"name\": \"down\", \"offsetgroup\": \"down\", \"orientation\": \"v\", \"showlegend\": true, \"textposition\": \"auto\", \"x\": [\"01\", \"02\", \"03\", \"04\", \"05\", \"06\", \"07\", \"08\", \"09\", \"10\", \"11\", \"12\", \"13\", \"14\", \"15\", \"B1\", \"B3\", \"B4\"], \"xaxis\": \"x\", \"y\": [51, 2, 281, 82, 48, 98, 137, 111, 71, 11, 96, 66, 98, 94, 33, 11, 0, 0], \"yaxis\": \"y\", \"type\": \"bar\"}, {\"alignmentgroup\": \"True\", \"hovertemplate\": \"direction=up<br>Local Time=23<br>floor=%{x}<br>Frequency=%{y}<extra></extra>\", \"legendgroup\": \"up\", \"marker\": {\"color\": \"#EF553B\"}, \"name\": \"up\", \"offsetgroup\": \"up\", \"orientation\": \"v\", \"showlegend\": true, \"textposition\": \"auto\", \"x\": [\"01\", \"02\", \"03\", \"04\", \"05\", \"06\", \"07\", \"08\", \"09\", \"10\", \"11\", \"12\", \"13\", \"14\", \"15\", \"B1\", \"B3\", \"B4\"], \"xaxis\": \"x2\", \"y\": [910, 5, 14, 12, 20, 30, 9, 3, 1, 0, 4, 8, 2, 1, 0, 237, 20, 34], \"yaxis\": \"y2\", \"type\": \"bar\"}], \"name\": \"23\"}]);\n",
       "                        }).then(function(){\n",
       "                            \n",
       "var gd = document.getElementById('448ddcbc-42c8-4fe6-8d18-989239c6cd6f');\n",
       "var x = new MutationObserver(function (mutations, observer) {{\n",
       "        var display = window.getComputedStyle(gd).display;\n",
       "        if (!display || display === 'none') {{\n",
       "            console.log([gd, 'removed!']);\n",
       "            Plotly.purge(gd);\n",
       "            observer.disconnect();\n",
       "        }}\n",
       "}});\n",
       "\n",
       "// Listen for the removal of the full notebook cells\n",
       "var notebookContainer = gd.closest('#notebook-container');\n",
       "if (notebookContainer) {{\n",
       "    x.observe(notebookContainer, {childList: true});\n",
       "}}\n",
       "\n",
       "// Listen for the clearing of the current output cell\n",
       "var outputEl = gd.closest('.output');\n",
       "if (outputEl) {{\n",
       "    x.observe(outputEl, {childList: true});\n",
       "}}\n",
       "\n",
       "                        })\n",
       "                };\n",
       "                });\n",
       "            </script>\n",
       "        </div>"
      ]
     },
     "metadata": {},
     "output_type": "display_data"
    }
   ],
   "source": [
    "floor_list = ['B4','B3', 'B2','B1','01', '02', '03', '04', '05', '06', '07', '08', '09', '10', '11',\n",
    "       '12', '13', '14', '15']\n",
    "\n",
    "fig = px.bar(data_frame=df_s, \n",
    "             \n",
    "             ## 這裡的data frame都先用 R aggregate過了，以節省運算時間\n",
    "             x = \"floor\", y = \"count\",\n",
    "             \n",
    "             ## 以方向分兩張圖，並上色\n",
    "             facet_col=\"direction\",color=\"direction\",\n",
    "             \n",
    "             ## 自動生成slider\n",
    "             animation_frame=\"hour\",\n",
    "             \n",
    "             \n",
    "             labels={\"count\":\"Frequency\",\n",
    "                     \"hour\":\"Local Time\"})\n",
    "\n",
    "# X axis\n",
    "fig.update_xaxes(nticks=len(floor_list), ##指定breaks的數量\n",
    "                 \n",
    "                 ## 手動將X的類別排序\n",
    "                 type=\"category\",\n",
    "                 categoryarray=floor_list)\n",
    "\n",
    "# Y axis\n",
    "fig.update_yaxes(range=[0, 1000])\n",
    "\n",
    "# Layout\n",
    "fig.update_layout(title_text='Frequency of Elevator Calls')\n",
    "\n",
    "fig.show()"
   ]
  },
  {
   "cell_type": "markdown",
   "metadata": {},
   "source": [
    "## Data"
   ]
  },
  {
   "cell_type": "code",
   "execution_count": 6,
   "metadata": {},
   "outputs": [],
   "source": [
    "import plotly.graph_objects as go\n",
    "from ipywidgets import widgets"
   ]
  },
  {
   "cell_type": "markdown",
   "metadata": {},
   "source": [
    "這裡將不同大樓資料混在一起，最後才能依大樓名稱篩選"
   ]
  },
  {
   "cell_type": "code",
   "execution_count": 16,
   "metadata": {},
   "outputs": [
    {
     "name": "stdout",
     "output_type": "stream",
     "text": [
      "研究大樓\n",
      "(864, 5)\n",
      "北棟病床梯\n",
      "(864, 5)\n",
      "南棟電梯\n",
      "(864, 5)\n",
      "(2592, 5)\n",
      "   hour floor direction  count building\n",
      "0     0    01      down      4     研究大樓\n",
      "1     1    01      down      2     研究大樓\n",
      "2     2    01      down      2     研究大樓\n",
      "3     3    01      down      4     研究大樓\n",
      "4     4    01      down      1     研究大樓\n"
     ]
    }
   ],
   "source": [
    "## 檔案名(註:資料是arregate後的table)\n",
    "\n",
    "files_list = ['研究大樓','北棟病床梯','南棟電梯']\n",
    "\n",
    "df = pd.DataFrame()\n",
    "\n",
    "for i in files_list:\n",
    "    data = pd.read_csv(i+'.csv', index_col = 0)\n",
    "    data['building'] = i\n",
    "    print(i)\n",
    "    print(data.shape)\n",
    "    \n",
    "    df = df.append(data, ignore_index = True) \n",
    "\n",
    "## 請檢查表格的數量是否正確 有些表格有缺失(e.g.北棟客梯)\n",
    "    \n",
    "print(df.shape)\n",
    "print(df.head())"
   ]
  },
  {
   "cell_type": "markdown",
   "metadata": {},
   "source": [
    "## Dash"
   ]
  },
  {
   "cell_type": "code",
   "execution_count": 14,
   "metadata": {},
   "outputs": [
    {
     "name": "stdout",
     "output_type": "stream",
     "text": [
      "Running on http://127.0.0.1:8050/\n",
      "Running on http://127.0.0.1:8050/\n",
      "Running on http://127.0.0.1:8050/\n",
      "Running on http://127.0.0.1:8050/\n",
      "Debugger PIN: 990-974-041\n",
      "Debugger PIN: 990-974-041\n",
      "Debugger PIN: 990-974-041\n",
      "Debugger PIN: 990-974-041\n",
      " * Serving Flask app \"__main__\" (lazy loading)\n",
      " * Environment: production\n",
      "   WARNING: Do not use the development server in a production environment.\n",
      "   Use a production WSGI server instead.\n",
      " * Debug mode: on\n"
     ]
    }
   ],
   "source": [
    "import dash\n",
    "import dash_core_components as dcc\n",
    "import dash_html_components as html\n",
    "from dash.dependencies import Input, Output\n",
    "\n",
    "app = dash.Dash()\n",
    "app.layout = html.Div([\n",
    "    html.H1('Outer calls'),\n",
    "    dcc.Dropdown(\n",
    "        id=\"building\",\n",
    "        options=[\n",
    "            {'label': '研究大樓', 'value': '研究大樓'},\n",
    "            {'label': '北棟病床梯', 'value': '北棟病床梯'},\n",
    "            {'label': '南棟電梯', 'value': '南棟電梯'}\n",
    "        ],\n",
    "        value='研究大樓'\n",
    "    ),\n",
    "    dcc.Graph(id=\"graph\")\n",
    "])\n",
    "\n",
    "@app.callback(\n",
    "    Output('graph', 'figure'),\n",
    "    [Input('building', 'value')])\n",
    "def update_figure(selected_building):\n",
    "    \n",
    "    fig = px.bar(data_frame=df[df.building == selected_building],\n",
    "                 x = \"floor\", y = \"count\",\n",
    "                 facet_col=\"direction\",color=\"direction\",\n",
    "                 animation_frame=\"hour\",\n",
    "                 range_y=[0, 1000],\n",
    "                 labels={\"count\":\"Frequency\",\n",
    "                         \"hour\":\"Local Time\"})\n",
    "    # X axis\n",
    "    fig.update_xaxes(nticks=len(floor_list),\n",
    "                     type=\"category\",\n",
    "                    categoryarray=floor_list)\n",
    "    \n",
    "    fig.update_layout(title_text='Frequency of Elevator Calls in ' + selected_building)\n",
    "    \n",
    "    return fig\n",
    "\n",
    "app.run_server(debug=True, use_reloader=False)"
   ]
  }
 ],
 "metadata": {
  "kernelspec": {
   "display_name": "Python 3",
   "language": "python",
   "name": "python3"
  },
  "language_info": {
   "codemirror_mode": {
    "name": "ipython",
    "version": 3
   },
   "file_extension": ".py",
   "mimetype": "text/x-python",
   "name": "python",
   "nbconvert_exporter": "python",
   "pygments_lexer": "ipython3",
   "version": "3.7.3"
  }
 },
 "nbformat": 4,
 "nbformat_minor": 2
}
