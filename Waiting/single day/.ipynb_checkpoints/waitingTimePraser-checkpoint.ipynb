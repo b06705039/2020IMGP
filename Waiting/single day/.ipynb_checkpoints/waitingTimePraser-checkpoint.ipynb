{
 "cells": [
  {
   "cell_type": "code",
   "execution_count": 1,
   "metadata": {},
   "outputs": [
    {
     "data": {
      "text/html": [
       "        <script type=\"text/javascript\">\n",
       "        window.PlotlyConfig = {MathJaxConfig: 'local'};\n",
       "        if (window.MathJax) {MathJax.Hub.Config({SVG: {font: \"STIX-Web\"}});}\n",
       "        if (typeof require !== 'undefined') {\n",
       "        require.undef(\"plotly\");\n",
       "        requirejs.config({\n",
       "            paths: {\n",
       "                'plotly': ['https://cdn.plot.ly/plotly-latest.min']\n",
       "            }\n",
       "        });\n",
       "        require(['plotly'], function(Plotly) {\n",
       "            window._Plotly = Plotly;\n",
       "        });\n",
       "        }\n",
       "        </script>\n",
       "        "
      ]
     },
     "metadata": {},
     "output_type": "display_data"
    }
   ],
   "source": [
    "import pandas as pd\n",
    "import numpy as np\n",
    "import plotly\n",
    "from plotly.offline import download_plotlyjs, init_notebook_mode, plot, iplot\n",
    "init_notebook_mode(connected=True)"
   ]
  },
  {
   "cell_type": "markdown",
   "metadata": {},
   "source": [
    "# Plotly Express\n"
   ]
  },
  {
   "cell_type": "code",
   "execution_count": 2,
   "metadata": {},
   "outputs": [],
   "source": [
    "import plotly.express as px"
   ]
  },
  {
   "cell_type": "code",
   "execution_count": 3,
   "metadata": {},
   "outputs": [
    {
     "name": "stdout",
     "output_type": "stream",
     "text": [
      "      floor  hour  week direction   total  count  week_avgWait\n",
      "1         1     0     0        up  884.47     39     22.678718\n",
      "2         1     0     1        up  883.98     39     22.666154\n",
      "3         1     0     2        up  922.94     39     23.665128\n",
      "4         1     0     3        up  722.20     31     23.296774\n",
      "5         1     0     4        up  487.13     27     18.041852\n",
      "...     ...   ...   ...       ...     ...    ...           ...\n",
      "2266     15    23     2      down  101.95      3     33.983333\n",
      "2267     15    23     3      down   83.13      6     13.855000\n",
      "2268     15    23     4      down   54.88      2     27.440000\n",
      "2269     15    23     5      down  137.42      6     22.903333\n",
      "2270     15    23     6      down   91.69      6     15.281667\n",
      "\n",
      "[2270 rows x 7 columns]\n"
     ]
    }
   ],
   "source": [
    "building = '景福通道'\n",
    "input_file = building + '.csv'\n",
    "df_s = pd.read_csv(input_file, index_col = 0)  \n",
    "print(df_s)"
   ]
  },
  {
   "cell_type": "code",
   "execution_count": 4,
   "metadata": {},
   "outputs": [
    {
     "name": "stdout",
     "output_type": "stream",
     "text": [
      "['1', '2', '3', '4', '5', '6', '7', '8', '9', '10', '11', '12', '13', '14', '15', 'B1', 'B2', 'B3', 'B4']\n"
     ]
    }
   ],
   "source": [
    "floor = 19 #手動改建築物樓層數\n",
    "floor_name = []\n",
    "\n",
    "for f in range(1,floor+1):\n",
    "    if f <= 15:\n",
    "        floor_name.append(str(f))\n",
    "    else:\n",
    "        floor_name.append(\"B\"+str(f-15))\n",
    "print(floor_name)"
   ]
  },
  {
   "cell_type": "code",
   "execution_count": 5,
   "metadata": {},
   "outputs": [],
   "source": [
    "weekdayCnt = []\n",
    "weekendCnt = []\n",
    "tolWait_weekday = []\n",
    "tolWait_weekend = []\n",
    "avgWait_weekday = []\n",
    "avgWait_weekend = []\n",
    "weekday = [0,1,2,3,4]\n",
    "\n",
    "for i in range(24):\n",
    "    weekdayCnt.append([])\n",
    "    weekendCnt.append([])\n",
    "    tolWait_weekday.append([])\n",
    "    tolWait_weekend.append([])\n",
    "    avgWait_weekday.append([])\n",
    "    avgWait_weekend.append([])\n",
    "    for j in range(floor):\n",
    "        weekdayCnt[i].append([])\n",
    "        weekendCnt[i].append([])\n",
    "        tolWait_weekday[i].append([])\n",
    "        tolWait_weekend[i].append([])\n",
    "        avgWait_weekday[i].append([])\n",
    "        avgWait_weekend[i].append([])\n",
    "        for d in range(2):\n",
    "            weekdayCnt[i][j].append(0)\n",
    "            weekendCnt[i][j].append(0)\n",
    "            tolWait_weekday[i][j].append(0)\n",
    "            tolWait_weekend[i][j].append(0)\n",
    "            avgWait_weekday[i][j].append(0)\n",
    "            avgWait_weekend[i][j].append(0)\n",
    "# print(len(tolWait_weekday),len(tolWait_weekday[0]),len(tolWait_weekday[0][0]))"
   ]
  },
  {
   "cell_type": "code",
   "execution_count": 6,
   "metadata": {
    "scrolled": false
   },
   "outputs": [],
   "source": [
    "for i in range(1,df_s.shape[0]+1):\n",
    "    for j in range(24):\n",
    "        for f in range(floor):\n",
    "#             print(i,df_s['hour'][i],df_s['floor'][i],df_s['direction'][i])\n",
    "#             print('compare with',j,floor_name[f])\n",
    "            if df_s['week'][i] in weekday:\n",
    "                if df_s['hour'][i] == j and str(df_s['floor'][i]) == floor_name[f] and df_s['direction'][i]=='up':\n",
    "#                     print(\"week - success bind with 'up'\")\n",
    "#                     print(\"tolWait_weekday[\",tolWait_weekday[j][f][0])\n",
    "                    weekdayCnt[j][f][0] = weekdayCnt[j][f][0] + df_s['count'][i]\n",
    "                    tolWait_weekday[j][f][0] = tolWait_weekday[j][f][0] + df_s['total'][i]\n",
    "                elif df_s['hour'][i] == j and str(df_s['floor'][i]) == floor_name[f] and df_s['direction'][i]=='down':\n",
    "#                     print(\"success bind with 'down'\")\n",
    "                    weekdayCnt[j][f][1] = weekdayCnt[j][f][1] + df_s['count'][i]\n",
    "                    tolWait_weekday[j][f][1] = tolWait_weekday[j][f][1] + df_s['total'][i]\n",
    "            else:\n",
    "                if df_s['hour'][i] == j and str(df_s['floor'][i]) == floor_name[f] and df_s['direction'][i]=='up':\n",
    "                    weekendCnt[j][f][0] = weekendCnt[j][f][0] + df_s['count'][i]\n",
    "                    tolWait_weekend[j][f][0] = tolWait_weekend[j][f][0] + df_s['total'][i]\n",
    "                elif df_s['hour'][i] == j and str(df_s['floor'][i]) == floor_name[f] and df_s['direction'][i]=='down':\n",
    "                    weekendCnt[j][f][1] = weekendCnt[j][f][1] + df_s['count'][i]\n",
    "                    tolWait_weekend[j][f][1] = tolWait_weekend[j][f][1] + df_s['total'][i]\n",
    "                    \n",
    "# print(\"tolWait_weekday\",tolWait_weekday)"
   ]
  },
  {
   "cell_type": "code",
   "execution_count": 7,
   "metadata": {},
   "outputs": [],
   "source": [
    "for i in range(24):\n",
    "    for f in range(floor):\n",
    "        for d in range(2):\n",
    "            if tolWait_weekday[i][f][d] > 0 and weekdayCnt[i][f][d] != 0:\n",
    "                avgWait_weekday[i][f][d] = tolWait_weekday[i][f][d]/weekdayCnt[i][f][d]\n",
    "            if tolWait_weekend[i][f][d] > 0 and weekendCnt[i][f][d] != 0:\n",
    "                avgWait_weekend[i][f][d] = tolWait_weekend[i][f][d]/weekendCnt[i][f][d]\n",
    "                \n",
    "# print(tolWait_weekend)\n",
    "# print(weekendCnt)\n",
    "# print(avgWait_weekend)"
   ]
  },
  {
   "cell_type": "code",
   "execution_count": 8,
   "metadata": {
    "scrolled": true
   },
   "outputs": [
    {
     "name": "stderr",
     "output_type": "stream",
     "text": [
      "/opt/anaconda3/lib/python3.7/site-packages/ipykernel_launcher.py:2: DeprecationWarning:\n",
      "\n",
      "The default dtype for empty Series will be 'object' instead of 'float64' in a future version. Specify a dtype explicitly to silence this warning.\n",
      "\n",
      "/opt/anaconda3/lib/python3.7/site-packages/ipykernel_launcher.py:3: DeprecationWarning:\n",
      "\n",
      "The default dtype for empty Series will be 'object' instead of 'float64' in a future version. Specify a dtype explicitly to silence this warning.\n",
      "\n"
     ]
    },
    {
     "name": "stdout",
     "output_type": "stream",
     "text": [
      "avgWait_weekendCol: \n",
      " 6       22.039268\n",
      "7       22.039268\n",
      "13      19.084474\n",
      "14      19.084474\n",
      "20      22.612667\n",
      "          ...    \n",
      "2256    10.544615\n",
      "2262    26.358571\n",
      "2263    26.358571\n",
      "2269    19.092500\n",
      "2270    19.092500\n",
      "Length: 643, dtype: float64\n"
     ]
    }
   ],
   "source": [
    "# creating a blank series \n",
    "weekdayCol = pd.Series([]) \n",
    "weekendCol = pd.Series([]) \n",
    "\n",
    "# running a for loop and asigning some values to series \n",
    "for i in range(1, df_s.shape[0]+1):\n",
    "    for j in range(24):\n",
    "        for f in range(floor):\n",
    "            if df_s['week'][i] in weekday:\n",
    "                if df_s['hour'][i] == j and str(df_s['floor'][i]) == floor_name[f] and df_s['direction'][i]=='up':\n",
    "                    weekdayCol[i] = avgWait_weekday[j][f][0]\n",
    "                elif df_s['hour'][i] == j and str(df_s['floor'][i]) == floor_name[f] and df_s['direction'][i]=='down':\n",
    "                    weekdayCol[i] = avgWait_weekday[j][f][1]\n",
    "            else:\n",
    "                if df_s['hour'][i] == j and str(df_s['floor'][i]) == floor_name[f] and df_s['direction'][i]=='up':\n",
    "                    weekendCol[i] = avgWait_weekend[j][f][0]\n",
    "                elif df_s['hour'][i] == j and str(df_s['floor'][i]) == floor_name[f] and df_s['direction'][i]=='down':\n",
    "                    weekendCol[i] = avgWait_weekend[j][f][1]\n",
    "                \n",
    "                \n",
    "# print('avgWait_weekdayCol: \\n', weekdayCol)\n",
    "print('avgWait_weekendCol: \\n', weekendCol)"
   ]
  },
  {
   "cell_type": "code",
   "execution_count": 9,
   "metadata": {},
   "outputs": [
    {
     "name": "stdout",
     "output_type": "stream",
     "text": [
      "      floor  hour  week direction   total  count  week_avgWait\n",
      "2266     15    23     2      down  101.95      3     33.983333\n",
      "2267     15    23     3      down   83.13      6     13.855000\n",
      "2268     15    23     4      down   54.88      2     27.440000\n",
      "2269     15    23     5      down  137.42      6     22.903333\n",
      "2270     15    23     6      down   91.69      6     15.281667\n"
     ]
    }
   ],
   "source": [
    "# inserting new column with values of list made above\n",
    "df_s_weekday = pd.read_csv(input_file,index_col = 0)\n",
    "df_s_weekend = pd.read_csv(input_file,index_col = 0)\n",
    "print(df_s_weekend.tail())\n",
    "\n",
    "df_s_weekday['avgWait_weekday'] = weekdayCol\n",
    "df_s_weekend['avgWait_weekend'] = weekendCol\n",
    "# print(df_s_weekend.tail())"
   ]
  },
  {
   "cell_type": "code",
   "execution_count": 10,
   "metadata": {},
   "outputs": [
    {
     "data": {
      "text/html": [
       "<div>\n",
       "<style scoped>\n",
       "    .dataframe tbody tr th:only-of-type {\n",
       "        vertical-align: middle;\n",
       "    }\n",
       "\n",
       "    .dataframe tbody tr th {\n",
       "        vertical-align: top;\n",
       "    }\n",
       "\n",
       "    .dataframe thead th {\n",
       "        text-align: right;\n",
       "    }\n",
       "</style>\n",
       "<table border=\"1\" class=\"dataframe\">\n",
       "  <thead>\n",
       "    <tr style=\"text-align: right;\">\n",
       "      <th></th>\n",
       "      <th>floor</th>\n",
       "      <th>hour</th>\n",
       "      <th>week</th>\n",
       "      <th>direction</th>\n",
       "      <th>total</th>\n",
       "      <th>count</th>\n",
       "      <th>week_avgWait</th>\n",
       "      <th>avgWait_weekend</th>\n",
       "    </tr>\n",
       "  </thead>\n",
       "  <tbody>\n",
       "    <tr>\n",
       "      <th>6</th>\n",
       "      <td>1</td>\n",
       "      <td>0</td>\n",
       "      <td>5</td>\n",
       "      <td>up</td>\n",
       "      <td>359.85</td>\n",
       "      <td>16</td>\n",
       "      <td>22.490625</td>\n",
       "      <td>22.039268</td>\n",
       "    </tr>\n",
       "    <tr>\n",
       "      <th>7</th>\n",
       "      <td>1</td>\n",
       "      <td>0</td>\n",
       "      <td>6</td>\n",
       "      <td>up</td>\n",
       "      <td>543.76</td>\n",
       "      <td>25</td>\n",
       "      <td>21.750400</td>\n",
       "      <td>22.039268</td>\n",
       "    </tr>\n",
       "    <tr>\n",
       "      <th>13</th>\n",
       "      <td>1</td>\n",
       "      <td>1</td>\n",
       "      <td>5</td>\n",
       "      <td>up</td>\n",
       "      <td>201.17</td>\n",
       "      <td>11</td>\n",
       "      <td>18.288182</td>\n",
       "      <td>19.084474</td>\n",
       "    </tr>\n",
       "    <tr>\n",
       "      <th>14</th>\n",
       "      <td>1</td>\n",
       "      <td>1</td>\n",
       "      <td>6</td>\n",
       "      <td>up</td>\n",
       "      <td>524.04</td>\n",
       "      <td>27</td>\n",
       "      <td>19.408889</td>\n",
       "      <td>19.084474</td>\n",
       "    </tr>\n",
       "    <tr>\n",
       "      <th>20</th>\n",
       "      <td>1</td>\n",
       "      <td>2</td>\n",
       "      <td>5</td>\n",
       "      <td>up</td>\n",
       "      <td>149.23</td>\n",
       "      <td>5</td>\n",
       "      <td>29.846000</td>\n",
       "      <td>22.612667</td>\n",
       "    </tr>\n",
       "    <tr>\n",
       "      <th>...</th>\n",
       "      <td>...</td>\n",
       "      <td>...</td>\n",
       "      <td>...</td>\n",
       "      <td>...</td>\n",
       "      <td>...</td>\n",
       "      <td>...</td>\n",
       "      <td>...</td>\n",
       "      <td>...</td>\n",
       "    </tr>\n",
       "    <tr>\n",
       "      <th>2256</th>\n",
       "      <td>15</td>\n",
       "      <td>21</td>\n",
       "      <td>6</td>\n",
       "      <td>down</td>\n",
       "      <td>41.10</td>\n",
       "      <td>5</td>\n",
       "      <td>8.220000</td>\n",
       "      <td>10.544615</td>\n",
       "    </tr>\n",
       "    <tr>\n",
       "      <th>2262</th>\n",
       "      <td>15</td>\n",
       "      <td>22</td>\n",
       "      <td>5</td>\n",
       "      <td>down</td>\n",
       "      <td>98.18</td>\n",
       "      <td>3</td>\n",
       "      <td>32.726667</td>\n",
       "      <td>26.358571</td>\n",
       "    </tr>\n",
       "    <tr>\n",
       "      <th>2263</th>\n",
       "      <td>15</td>\n",
       "      <td>22</td>\n",
       "      <td>6</td>\n",
       "      <td>down</td>\n",
       "      <td>86.33</td>\n",
       "      <td>4</td>\n",
       "      <td>21.582500</td>\n",
       "      <td>26.358571</td>\n",
       "    </tr>\n",
       "    <tr>\n",
       "      <th>2269</th>\n",
       "      <td>15</td>\n",
       "      <td>23</td>\n",
       "      <td>5</td>\n",
       "      <td>down</td>\n",
       "      <td>137.42</td>\n",
       "      <td>6</td>\n",
       "      <td>22.903333</td>\n",
       "      <td>19.092500</td>\n",
       "    </tr>\n",
       "    <tr>\n",
       "      <th>2270</th>\n",
       "      <td>15</td>\n",
       "      <td>23</td>\n",
       "      <td>6</td>\n",
       "      <td>down</td>\n",
       "      <td>91.69</td>\n",
       "      <td>6</td>\n",
       "      <td>15.281667</td>\n",
       "      <td>19.092500</td>\n",
       "    </tr>\n",
       "  </tbody>\n",
       "</table>\n",
       "<p>643 rows × 8 columns</p>\n",
       "</div>"
      ],
      "text/plain": [
       "      floor  hour  week direction   total  count  week_avgWait  \\\n",
       "6         1     0     5        up  359.85     16     22.490625   \n",
       "7         1     0     6        up  543.76     25     21.750400   \n",
       "13        1     1     5        up  201.17     11     18.288182   \n",
       "14        1     1     6        up  524.04     27     19.408889   \n",
       "20        1     2     5        up  149.23      5     29.846000   \n",
       "...     ...   ...   ...       ...     ...    ...           ...   \n",
       "2256     15    21     6      down   41.10      5      8.220000   \n",
       "2262     15    22     5      down   98.18      3     32.726667   \n",
       "2263     15    22     6      down   86.33      4     21.582500   \n",
       "2269     15    23     5      down  137.42      6     22.903333   \n",
       "2270     15    23     6      down   91.69      6     15.281667   \n",
       "\n",
       "      avgWait_weekend  \n",
       "6           22.039268  \n",
       "7           22.039268  \n",
       "13          19.084474  \n",
       "14          19.084474  \n",
       "20          22.612667  \n",
       "...               ...  \n",
       "2256        10.544615  \n",
       "2262        26.358571  \n",
       "2263        26.358571  \n",
       "2269        19.092500  \n",
       "2270        19.092500  \n",
       "\n",
       "[643 rows x 8 columns]"
      ]
     },
     "execution_count": 10,
     "metadata": {},
     "output_type": "execute_result"
    }
   ],
   "source": [
    "#分開平假日\n",
    "df_s_weekday = df_s_weekday.dropna()\n",
    "df_s_weekend = df_s_weekend.dropna()\n",
    "\n",
    "df_s_weekend"
   ]
  },
  {
   "cell_type": "code",
   "execution_count": 11,
   "metadata": {},
   "outputs": [
    {
     "data": {
      "text/html": [
       "<div>\n",
       "<style scoped>\n",
       "    .dataframe tbody tr th:only-of-type {\n",
       "        vertical-align: middle;\n",
       "    }\n",
       "\n",
       "    .dataframe tbody tr th {\n",
       "        vertical-align: top;\n",
       "    }\n",
       "\n",
       "    .dataframe thead th {\n",
       "        text-align: right;\n",
       "    }\n",
       "</style>\n",
       "<table border=\"1\" class=\"dataframe\">\n",
       "  <thead>\n",
       "    <tr style=\"text-align: right;\">\n",
       "      <th></th>\n",
       "      <th>floor</th>\n",
       "      <th>hour</th>\n",
       "      <th>direction</th>\n",
       "      <th>avgWait_weekend</th>\n",
       "    </tr>\n",
       "  </thead>\n",
       "  <tbody>\n",
       "    <tr>\n",
       "      <th>6</th>\n",
       "      <td>1</td>\n",
       "      <td>0</td>\n",
       "      <td>up</td>\n",
       "      <td>22.039268</td>\n",
       "    </tr>\n",
       "    <tr>\n",
       "      <th>7</th>\n",
       "      <td>1</td>\n",
       "      <td>0</td>\n",
       "      <td>up</td>\n",
       "      <td>22.039268</td>\n",
       "    </tr>\n",
       "    <tr>\n",
       "      <th>13</th>\n",
       "      <td>1</td>\n",
       "      <td>1</td>\n",
       "      <td>up</td>\n",
       "      <td>19.084474</td>\n",
       "    </tr>\n",
       "    <tr>\n",
       "      <th>14</th>\n",
       "      <td>1</td>\n",
       "      <td>1</td>\n",
       "      <td>up</td>\n",
       "      <td>19.084474</td>\n",
       "    </tr>\n",
       "    <tr>\n",
       "      <th>20</th>\n",
       "      <td>1</td>\n",
       "      <td>2</td>\n",
       "      <td>up</td>\n",
       "      <td>22.612667</td>\n",
       "    </tr>\n",
       "    <tr>\n",
       "      <th>...</th>\n",
       "      <td>...</td>\n",
       "      <td>...</td>\n",
       "      <td>...</td>\n",
       "      <td>...</td>\n",
       "    </tr>\n",
       "    <tr>\n",
       "      <th>2256</th>\n",
       "      <td>15</td>\n",
       "      <td>21</td>\n",
       "      <td>down</td>\n",
       "      <td>10.544615</td>\n",
       "    </tr>\n",
       "    <tr>\n",
       "      <th>2262</th>\n",
       "      <td>15</td>\n",
       "      <td>22</td>\n",
       "      <td>down</td>\n",
       "      <td>26.358571</td>\n",
       "    </tr>\n",
       "    <tr>\n",
       "      <th>2263</th>\n",
       "      <td>15</td>\n",
       "      <td>22</td>\n",
       "      <td>down</td>\n",
       "      <td>26.358571</td>\n",
       "    </tr>\n",
       "    <tr>\n",
       "      <th>2269</th>\n",
       "      <td>15</td>\n",
       "      <td>23</td>\n",
       "      <td>down</td>\n",
       "      <td>19.092500</td>\n",
       "    </tr>\n",
       "    <tr>\n",
       "      <th>2270</th>\n",
       "      <td>15</td>\n",
       "      <td>23</td>\n",
       "      <td>down</td>\n",
       "      <td>19.092500</td>\n",
       "    </tr>\n",
       "  </tbody>\n",
       "</table>\n",
       "<p>643 rows × 4 columns</p>\n",
       "</div>"
      ],
      "text/plain": [
       "      floor  hour direction  avgWait_weekend\n",
       "6         1     0        up        22.039268\n",
       "7         1     0        up        22.039268\n",
       "13        1     1        up        19.084474\n",
       "14        1     1        up        19.084474\n",
       "20        1     2        up        22.612667\n",
       "...     ...   ...       ...              ...\n",
       "2256     15    21      down        10.544615\n",
       "2262     15    22      down        26.358571\n",
       "2263     15    22      down        26.358571\n",
       "2269     15    23      down        19.092500\n",
       "2270     15    23      down        19.092500\n",
       "\n",
       "[643 rows x 4 columns]"
      ]
     },
     "execution_count": 11,
     "metadata": {},
     "output_type": "execute_result"
    }
   ],
   "source": [
    "#delete redundenct columes\n",
    "df_s_weekday = df_s_weekday.drop(columns=['week','total', 'count','week_avgWait'])\n",
    "df_s_weekend = df_s_weekend.drop(columns=['week','total', 'count','week_avgWait'])\n",
    "df_s_weekend"
   ]
  },
  {
   "cell_type": "code",
   "execution_count": 12,
   "metadata": {},
   "outputs": [
    {
     "name": "stdout",
     "output_type": "stream",
     "text": [
      "dropped duplicates \n",
      "       floor  hour direction  avgWait_weekday\n",
      "1         1     0        up        22.289829\n",
      "8         1     1        up        23.060177\n",
      "15        1     2        up        23.970000\n",
      "22        1     3        up        22.382308\n",
      "29        1     4        up        10.553333\n",
      "...     ...   ...       ...              ...\n",
      "2236     15    19      down        25.903714\n",
      "2243     15    20      down        18.075294\n",
      "2250     15    21      down        22.328500\n",
      "2257     15    22      down        22.154194\n",
      "2264     15    23      down        23.247273\n",
      "\n",
      "[420 rows x 4 columns]\n",
      "reset_index\n",
      "      floor  hour direction  avgWait_weekday\n",
      "0        1     0        up        22.289829\n",
      "1        1     1        up        23.060177\n",
      "2        1     2        up        23.970000\n",
      "3        1     3        up        22.382308\n",
      "4        1     4        up        10.553333\n",
      "..     ...   ...       ...              ...\n",
      "415     15    19      down        25.903714\n",
      "416     15    20      down        18.075294\n",
      "417     15    21      down        22.328500\n",
      "418     15    22      down        22.154194\n",
      "419     15    23      down        23.247273\n",
      "\n",
      "[420 rows x 4 columns]\n"
     ]
    }
   ],
   "source": [
    "# delete duplicates\n",
    "df_s_weekday = df_s_weekday.drop_duplicates(keep='first', inplace=False)\n",
    "df_s_weekend = df_s_weekend.drop_duplicates(keep='first', inplace=False)\n",
    "print('dropped duplicates \\n', df_s_weekday)\n",
    "# reset_index\n",
    "df_s_weekday = df_s_weekday.reset_index(drop=True)\n",
    "df_s_weekend = df_s_weekend.reset_index(drop=True)\n",
    "print('reset_index\\n',df_s_weekday)"
   ]
  },
  {
   "cell_type": "code",
   "execution_count": 13,
   "metadata": {},
   "outputs": [],
   "source": [
    "output_file_weekday = building+'_weekday.csv'\n",
    "output_file_weekend = building+'_weekend.csv'\n",
    "df_s_weekday.to_csv(output_file_weekday)\n",
    "df_s_weekend.to_csv(output_file_weekend)"
   ]
  },
  {
   "cell_type": "markdown",
   "metadata": {},
   "source": [
    "plotly express 有點像是 ggplot in R，<br>\n",
    "只要指定x,y,color等就能自動幫你分類，<br>\n",
    "下面的圖表以南棟電梯的外部電梯呼叫資料為例，<br>\n",
    "x軸為樓層、以方向分開並上色，最後以時間(小時)作為動畫影格。"
   ]
  },
  {
   "cell_type": "code",
   "execution_count": 14,
   "metadata": {},
   "outputs": [],
   "source": [
    "df_s_weekday = pd.read_csv(output_file_weekday, index_col = 0)\n",
    "df_s_weekend = pd.read_csv(output_file_weekend, index_col = 0)"
   ]
  },
  {
   "cell_type": "code",
   "execution_count": 15,
   "metadata": {},
   "outputs": [
    {
     "data": {
      "application/vnd.plotly.v1+json": {
       "config": {
        "plotlyServerURL": "https://plot.ly"
       },
       "data": [
        {
         "alignmentgroup": "True",
         "hovertemplate": "direction=up<br>Local Time (GMT+8)=0<br>floor=%{x}<br>avgWait_weekday=%{y}<extra></extra>",
         "legendgroup": "up",
         "marker": {
          "color": "#636efa"
         },
         "name": "up",
         "offsetgroup": "up",
         "orientation": "v",
         "showlegend": true,
         "textposition": "auto",
         "type": "bar",
         "x": [
          1,
          6,
          7,
          8,
          13,
          14
         ],
         "xaxis": "x",
         "y": [
          22.289828571428565,
          16.48611111111111,
          11.75,
          23.965,
          27.98333333333333,
          31.1
         ],
         "yaxis": "y"
        },
        {
         "alignmentgroup": "True",
         "hovertemplate": "direction=down<br>Local Time (GMT+8)=0<br>floor=%{x}<br>avgWait_weekday=%{y}<extra></extra>",
         "legendgroup": "down",
         "marker": {
          "color": "#EF553B"
         },
         "name": "down",
         "offsetgroup": "down",
         "orientation": "v",
         "showlegend": true,
         "textposition": "auto",
         "type": "bar",
         "x": [
          6,
          7,
          8,
          9,
          10,
          11,
          12,
          13,
          14,
          15
         ],
         "xaxis": "x2",
         "y": [
          20.393,
          16.706363636363633,
          9.77625,
          11.590909090909092,
          11.348333333333334,
          12.566666666666668,
          9.801666666666668,
          24.06111111111111,
          12.41642857142857,
          7.8660000000000005
         ],
         "yaxis": "y2"
        }
       ],
       "frames": [
        {
         "data": [
          {
           "alignmentgroup": "True",
           "hovertemplate": "direction=up<br>Local Time (GMT+8)=0<br>floor=%{x}<br>avgWait_weekday=%{y}<extra></extra>",
           "legendgroup": "up",
           "marker": {
            "color": "#636efa"
           },
           "name": "up",
           "offsetgroup": "up",
           "orientation": "v",
           "showlegend": true,
           "textposition": "auto",
           "type": "bar",
           "x": [
            1,
            6,
            7,
            8,
            13,
            14
           ],
           "xaxis": "x",
           "y": [
            22.289828571428565,
            16.48611111111111,
            11.75,
            23.965,
            27.98333333333333,
            31.1
           ],
           "yaxis": "y"
          },
          {
           "alignmentgroup": "True",
           "hovertemplate": "direction=down<br>Local Time (GMT+8)=0<br>floor=%{x}<br>avgWait_weekday=%{y}<extra></extra>",
           "legendgroup": "down",
           "marker": {
            "color": "#EF553B"
           },
           "name": "down",
           "offsetgroup": "down",
           "orientation": "v",
           "showlegend": true,
           "textposition": "auto",
           "type": "bar",
           "x": [
            6,
            7,
            8,
            9,
            10,
            11,
            12,
            13,
            14,
            15
           ],
           "xaxis": "x2",
           "y": [
            20.393,
            16.706363636363633,
            9.77625,
            11.590909090909092,
            11.348333333333334,
            12.566666666666668,
            9.801666666666668,
            24.06111111111111,
            12.41642857142857,
            7.8660000000000005
           ],
           "yaxis": "y2"
          }
         ],
         "name": "0"
        },
        {
         "data": [
          {
           "alignmentgroup": "True",
           "hovertemplate": "direction=up<br>Local Time (GMT+8)=1<br>floor=%{x}<br>avgWait_weekday=%{y}<extra></extra>",
           "legendgroup": "up",
           "marker": {
            "color": "#636efa"
           },
           "name": "up",
           "offsetgroup": "up",
           "orientation": "v",
           "showlegend": true,
           "textposition": "auto",
           "type": "bar",
           "x": [
            1,
            6,
            7,
            8,
            13
           ],
           "xaxis": "x",
           "y": [
            23.06017699115045,
            19.591590909090904,
            15.488666666666667,
            10.049285714285716,
            44.14
           ],
           "yaxis": "y"
          },
          {
           "alignmentgroup": "True",
           "hovertemplate": "direction=down<br>Local Time (GMT+8)=1<br>floor=%{x}<br>avgWait_weekday=%{y}<extra></extra>",
           "legendgroup": "down",
           "marker": {
            "color": "#EF553B"
           },
           "name": "down",
           "offsetgroup": "down",
           "orientation": "v",
           "showlegend": true,
           "textposition": "auto",
           "type": "bar",
           "x": [
            6,
            7,
            8,
            9,
            10,
            11,
            12,
            13,
            14,
            15
           ],
           "xaxis": "x2",
           "y": [
            14.911666666666667,
            14.78,
            13.004000000000001,
            10.717,
            9.282222222222222,
            19.665,
            4.644285714285715,
            16.64090909090909,
            9.06,
            3.76
           ],
           "yaxis": "y2"
          }
         ],
         "name": "1"
        },
        {
         "data": [
          {
           "alignmentgroup": "True",
           "hovertemplate": "direction=up<br>Local Time (GMT+8)=2<br>floor=%{x}<br>avgWait_weekday=%{y}<extra></extra>",
           "legendgroup": "up",
           "marker": {
            "color": "#636efa"
           },
           "name": "up",
           "offsetgroup": "up",
           "orientation": "v",
           "showlegend": true,
           "textposition": "auto",
           "type": "bar",
           "x": [
            1,
            6,
            7,
            8,
            9,
            14
           ],
           "xaxis": "x",
           "y": [
            23.97,
            16.70714285714286,
            17.5725,
            5.473333333333333,
            2.72,
            1.335
           ],
           "yaxis": "y"
          },
          {
           "alignmentgroup": "True",
           "hovertemplate": "direction=down<br>Local Time (GMT+8)=2<br>floor=%{x}<br>avgWait_weekday=%{y}<extra></extra>",
           "legendgroup": "down",
           "marker": {
            "color": "#EF553B"
           },
           "name": "down",
           "offsetgroup": "down",
           "orientation": "v",
           "showlegend": true,
           "textposition": "auto",
           "type": "bar",
           "x": [
            6,
            7,
            8,
            9,
            10,
            11,
            12,
            13,
            14,
            15
           ],
           "xaxis": "x2",
           "y": [
            6.065,
            10,
            14.502222222222226,
            11.105714285714289,
            12.0775,
            8.45,
            9.406666666666666,
            7.984,
            11.273333333333332,
            12.589999999999998
           ],
           "yaxis": "y2"
          }
         ],
         "name": "2"
        },
        {
         "data": [
          {
           "alignmentgroup": "True",
           "hovertemplate": "direction=up<br>Local Time (GMT+8)=3<br>floor=%{x}<br>avgWait_weekday=%{y}<extra></extra>",
           "legendgroup": "up",
           "marker": {
            "color": "#636efa"
           },
           "name": "up",
           "offsetgroup": "up",
           "orientation": "v",
           "showlegend": true,
           "textposition": "auto",
           "type": "bar",
           "x": [
            1,
            6,
            7,
            8,
            9,
            10,
            11,
            14
           ],
           "xaxis": "x",
           "y": [
            22.38230769230769,
            15.359000000000002,
            5.41,
            1.59,
            1.175,
            8.88,
            1.3650000000000002,
            16.31
           ],
           "yaxis": "y"
          },
          {
           "alignmentgroup": "True",
           "hovertemplate": "direction=down<br>Local Time (GMT+8)=3<br>floor=%{x}<br>avgWait_weekday=%{y}<extra></extra>",
           "legendgroup": "down",
           "marker": {
            "color": "#EF553B"
           },
           "name": "down",
           "offsetgroup": "down",
           "orientation": "v",
           "showlegend": true,
           "textposition": "auto",
           "type": "bar",
           "x": [
            8,
            10,
            11,
            12,
            13,
            14,
            15
           ],
           "xaxis": "x2",
           "y": [
            4.794,
            20.273333333333333,
            17.09,
            1.36,
            5.7650000000000015,
            9.25,
            15.013333333333335
           ],
           "yaxis": "y2"
          }
         ],
         "name": "3"
        },
        {
         "data": [
          {
           "alignmentgroup": "True",
           "hovertemplate": "direction=up<br>Local Time (GMT+8)=4<br>floor=%{x}<br>avgWait_weekday=%{y}<extra></extra>",
           "legendgroup": "up",
           "marker": {
            "color": "#636efa"
           },
           "name": "up",
           "offsetgroup": "up",
           "orientation": "v",
           "showlegend": true,
           "textposition": "auto",
           "type": "bar",
           "x": [
            1,
            6,
            7,
            13
           ],
           "xaxis": "x",
           "y": [
            10.553333333333333,
            15.560714285714285,
            20.51,
            0.61
           ],
           "yaxis": "y"
          },
          {
           "alignmentgroup": "True",
           "hovertemplate": "direction=down<br>Local Time (GMT+8)=4<br>floor=%{x}<br>avgWait_weekday=%{y}<extra></extra>",
           "legendgroup": "down",
           "marker": {
            "color": "#EF553B"
           },
           "name": "down",
           "offsetgroup": "down",
           "orientation": "v",
           "showlegend": true,
           "textposition": "auto",
           "type": "bar",
           "x": [
            7,
            8,
            9,
            10,
            11,
            12,
            13,
            14,
            15
           ],
           "xaxis": "x2",
           "y": [
            14.010000000000002,
            11.402,
            19.72,
            13.6,
            8.73,
            15.99,
            17.286666666666665,
            7.935,
            2.72
           ],
           "yaxis": "y2"
          }
         ],
         "name": "4"
        },
        {
         "data": [
          {
           "alignmentgroup": "True",
           "hovertemplate": "direction=up<br>Local Time (GMT+8)=5<br>floor=%{x}<br>avgWait_weekday=%{y}<extra></extra>",
           "legendgroup": "up",
           "marker": {
            "color": "#636efa"
           },
           "name": "up",
           "offsetgroup": "up",
           "orientation": "v",
           "showlegend": true,
           "textposition": "auto",
           "type": "bar",
           "x": [
            1,
            6,
            7,
            8,
            10
           ],
           "xaxis": "x",
           "y": [
            9.951666666666666,
            9.56,
            18.407000000000004,
            17.405,
            18.95
           ],
           "yaxis": "y"
          },
          {
           "alignmentgroup": "True",
           "hovertemplate": "direction=down<br>Local Time (GMT+8)=5<br>floor=%{x}<br>avgWait_weekday=%{y}<extra></extra>",
           "legendgroup": "down",
           "marker": {
            "color": "#EF553B"
           },
           "name": "down",
           "offsetgroup": "down",
           "orientation": "v",
           "showlegend": true,
           "textposition": "auto",
           "type": "bar",
           "x": [
            7,
            8,
            9,
            10,
            11,
            12,
            13,
            14,
            15
           ],
           "xaxis": "x2",
           "y": [
            19.635,
            13.659444444444444,
            15.01125,
            15.293,
            21.285,
            13.19,
            27.205,
            16.28,
            21.775
           ],
           "yaxis": "y2"
          }
         ],
         "name": "5"
        },
        {
         "data": [
          {
           "alignmentgroup": "True",
           "hovertemplate": "direction=up<br>Local Time (GMT+8)=6<br>floor=%{x}<br>avgWait_weekday=%{y}<extra></extra>",
           "legendgroup": "up",
           "marker": {
            "color": "#636efa"
           },
           "name": "up",
           "offsetgroup": "up",
           "orientation": "v",
           "showlegend": true,
           "textposition": "auto",
           "type": "bar",
           "x": [
            1,
            6,
            7,
            8,
            9,
            10,
            11,
            12,
            13,
            14
           ],
           "xaxis": "x",
           "y": [
            5.882166666666667,
            20.820263157894736,
            27.04473684210526,
            21.336,
            17.04,
            22.46333333333333,
            30.6425,
            34.64,
            37.48666666666667,
            35.4025
           ],
           "yaxis": "y"
          },
          {
           "alignmentgroup": "True",
           "hovertemplate": "direction=down<br>Local Time (GMT+8)=6<br>floor=%{x}<br>avgWait_weekday=%{y}<extra></extra>",
           "legendgroup": "down",
           "marker": {
            "color": "#EF553B"
           },
           "name": "down",
           "offsetgroup": "down",
           "orientation": "v",
           "showlegend": true,
           "textposition": "auto",
           "type": "bar",
           "x": [
            6,
            7,
            8,
            9,
            10,
            11,
            12,
            13,
            14,
            15
           ],
           "xaxis": "x2",
           "y": [
            23.63636363636364,
            23.26129310344827,
            22.40375,
            18.260300751879694,
            19.415730337078653,
            19.54745098039216,
            24.235476190476195,
            16.00793103448276,
            21.223000000000006,
            24.276136363636365
           ],
           "yaxis": "y2"
          }
         ],
         "name": "6"
        },
        {
         "data": [
          {
           "alignmentgroup": "True",
           "hovertemplate": "direction=up<br>Local Time (GMT+8)=7<br>floor=%{x}<br>avgWait_weekday=%{y}<extra></extra>",
           "legendgroup": "up",
           "marker": {
            "color": "#636efa"
           },
           "name": "up",
           "offsetgroup": "up",
           "orientation": "v",
           "showlegend": true,
           "textposition": "auto",
           "type": "bar",
           "x": [
            1,
            6,
            7,
            8,
            9,
            11,
            12,
            13,
            14
           ],
           "xaxis": "x",
           "y": [
            16.271751824817517,
            15.19783783783784,
            22.2,
            24.348000000000006,
            20.8,
            16.626666666666665,
            17.213333333333335,
            17.777142857142856,
            18.35
           ],
           "yaxis": "y"
          },
          {
           "alignmentgroup": "True",
           "hovertemplate": "direction=down<br>Local Time (GMT+8)=7<br>floor=%{x}<br>avgWait_weekday=%{y}<extra></extra>",
           "legendgroup": "down",
           "marker": {
            "color": "#EF553B"
           },
           "name": "down",
           "offsetgroup": "down",
           "orientation": "v",
           "showlegend": true,
           "textposition": "auto",
           "type": "bar",
           "x": [
            6,
            7,
            8,
            9,
            10,
            11,
            12,
            13,
            14,
            15
           ],
           "xaxis": "x2",
           "y": [
            20.4475,
            26.252033898305086,
            31.671470588235287,
            16.15383838383838,
            15.95768115942029,
            16.52366336633663,
            18.742916666666666,
            18.992604166666666,
            22.289753086419754,
            21.766
           ],
           "yaxis": "y2"
          }
         ],
         "name": "7"
        },
        {
         "data": [
          {
           "alignmentgroup": "True",
           "hovertemplate": "direction=up<br>Local Time (GMT+8)=8<br>floor=%{x}<br>avgWait_weekday=%{y}<extra></extra>",
           "legendgroup": "up",
           "marker": {
            "color": "#636efa"
           },
           "name": "up",
           "offsetgroup": "up",
           "orientation": "v",
           "showlegend": true,
           "textposition": "auto",
           "type": "bar",
           "x": [
            1,
            6,
            7,
            8,
            9,
            10,
            11,
            12,
            13,
            14
           ],
           "xaxis": "x",
           "y": [
            17.164540816326532,
            18.523636363636363,
            18.30125,
            19.911578947368426,
            20.41,
            28.26,
            24.545,
            17.015,
            9.75,
            22.506666666666664
           ],
           "yaxis": "y"
          },
          {
           "alignmentgroup": "True",
           "hovertemplate": "direction=down<br>Local Time (GMT+8)=8<br>floor=%{x}<br>avgWait_weekday=%{y}<extra></extra>",
           "legendgroup": "down",
           "marker": {
            "color": "#EF553B"
           },
           "name": "down",
           "offsetgroup": "down",
           "orientation": "v",
           "showlegend": true,
           "textposition": "auto",
           "type": "bar",
           "x": [
            6,
            7,
            8,
            9,
            10,
            11,
            12,
            13,
            14,
            15
           ],
           "xaxis": "x2",
           "y": [
            22.577936507936506,
            19.47875,
            22.515555555555554,
            16.876756756756755,
            24.23896551724138,
            19.509090909090904,
            21.030571428571434,
            22.796304347826084,
            23.9412676056338,
            19.339454545454547
           ],
           "yaxis": "y2"
          }
         ],
         "name": "8"
        },
        {
         "data": [
          {
           "alignmentgroup": "True",
           "hovertemplate": "direction=up<br>Local Time (GMT+8)=9<br>floor=%{x}<br>avgWait_weekday=%{y}<extra></extra>",
           "legendgroup": "up",
           "marker": {
            "color": "#636efa"
           },
           "name": "up",
           "offsetgroup": "up",
           "orientation": "v",
           "showlegend": true,
           "textposition": "auto",
           "type": "bar",
           "x": [
            1,
            6,
            7,
            8,
            9,
            10,
            11,
            12,
            13,
            14
           ],
           "xaxis": "x",
           "y": [
            15.037892156862746,
            20.15442105263158,
            20.11615384615385,
            23.717857142857138,
            27.58,
            33.160000000000004,
            25.975,
            18.166666666666668,
            11.025,
            2.4833333333333334
           ],
           "yaxis": "y"
          },
          {
           "alignmentgroup": "True",
           "hovertemplate": "direction=down<br>Local Time (GMT+8)=9<br>floor=%{x}<br>avgWait_weekday=%{y}<extra></extra>",
           "legendgroup": "down",
           "marker": {
            "color": "#EF553B"
           },
           "name": "down",
           "offsetgroup": "down",
           "orientation": "v",
           "showlegend": true,
           "textposition": "auto",
           "type": "bar",
           "x": [
            6,
            7,
            8,
            9,
            10,
            11,
            12,
            13,
            14,
            15
           ],
           "xaxis": "x2",
           "y": [
            17.96952380952381,
            19.885,
            22.129069767441862,
            18.935757575757574,
            16.1821875,
            13.068148148148149,
            19.934285714285714,
            19.482916666666668,
            26.082857142857147,
            17.671
           ],
           "yaxis": "y2"
          }
         ],
         "name": "9"
        },
        {
         "data": [
          {
           "alignmentgroup": "True",
           "hovertemplate": "direction=up<br>Local Time (GMT+8)=10<br>floor=%{x}<br>avgWait_weekday=%{y}<extra></extra>",
           "legendgroup": "up",
           "marker": {
            "color": "#636efa"
           },
           "name": "up",
           "offsetgroup": "up",
           "orientation": "v",
           "showlegend": true,
           "textposition": "auto",
           "type": "bar",
           "x": [
            1,
            6,
            7,
            8,
            10,
            14
           ],
           "xaxis": "x",
           "y": [
            12.99259493670886,
            16.906973684210527,
            14.4875,
            6.67,
            52.59,
            10.87
           ],
           "yaxis": "y"
          },
          {
           "alignmentgroup": "True",
           "hovertemplate": "direction=down<br>Local Time (GMT+8)=10<br>floor=%{x}<br>avgWait_weekday=%{y}<extra></extra>",
           "legendgroup": "down",
           "marker": {
            "color": "#EF553B"
           },
           "name": "down",
           "offsetgroup": "down",
           "orientation": "v",
           "showlegend": true,
           "textposition": "auto",
           "type": "bar",
           "x": [
            6,
            7,
            8,
            9,
            10,
            11,
            12,
            13,
            14,
            15
           ],
           "xaxis": "x2",
           "y": [
            20.757333333333328,
            16.833260869565216,
            21.40065217391304,
            18.272820512820516,
            21.16125,
            18.27851851851852,
            18.44,
            14.28125,
            22.91282051282051,
            18.545769230769228
           ],
           "yaxis": "y2"
          }
         ],
         "name": "10"
        },
        {
         "data": [
          {
           "alignmentgroup": "True",
           "hovertemplate": "direction=up<br>Local Time (GMT+8)=11<br>floor=%{x}<br>avgWait_weekday=%{y}<extra></extra>",
           "legendgroup": "up",
           "marker": {
            "color": "#636efa"
           },
           "name": "up",
           "offsetgroup": "up",
           "orientation": "v",
           "showlegend": true,
           "textposition": "auto",
           "type": "bar",
           "x": [
            1,
            6,
            7,
            8,
            9,
            13,
            14
           ],
           "xaxis": "x",
           "y": [
            13.437295918367347,
            18.0202,
            9.385,
            18.9775,
            45.54,
            5.25,
            36.49
           ],
           "yaxis": "y"
          },
          {
           "alignmentgroup": "True",
           "hovertemplate": "direction=down<br>Local Time (GMT+8)=11<br>floor=%{x}<br>avgWait_weekday=%{y}<extra></extra>",
           "legendgroup": "down",
           "marker": {
            "color": "#EF553B"
           },
           "name": "down",
           "offsetgroup": "down",
           "orientation": "v",
           "showlegend": true,
           "textposition": "auto",
           "type": "bar",
           "x": [
            6,
            7,
            8,
            9,
            10,
            11,
            12,
            13,
            14,
            15
           ],
           "xaxis": "x2",
           "y": [
            20.091451612903224,
            19.7003125,
            20.392280701754387,
            18.85272727272727,
            17.60514285714286,
            20.33676470588236,
            20.17571428571428,
            23.09190476190476,
            17.395,
            21.000731707317073
           ],
           "yaxis": "y2"
          }
         ],
         "name": "11"
        },
        {
         "data": [
          {
           "alignmentgroup": "True",
           "hovertemplate": "direction=up<br>Local Time (GMT+8)=12<br>floor=%{x}<br>avgWait_weekday=%{y}<extra></extra>",
           "legendgroup": "up",
           "marker": {
            "color": "#636efa"
           },
           "name": "up",
           "offsetgroup": "up",
           "orientation": "v",
           "showlegend": true,
           "textposition": "auto",
           "type": "bar",
           "x": [
            1,
            6,
            7,
            8,
            12,
            13
           ],
           "xaxis": "x",
           "y": [
            14.334549549549552,
            15.674,
            22.33666666666667,
            16.415714285714284,
            35.75,
            16.37
           ],
           "yaxis": "y"
          },
          {
           "alignmentgroup": "True",
           "hovertemplate": "direction=down<br>Local Time (GMT+8)=12<br>floor=%{x}<br>avgWait_weekday=%{y}<extra></extra>",
           "legendgroup": "down",
           "marker": {
            "color": "#EF553B"
           },
           "name": "down",
           "offsetgroup": "down",
           "orientation": "v",
           "showlegend": true,
           "textposition": "auto",
           "type": "bar",
           "x": [
            6,
            7,
            8,
            9,
            10,
            11,
            12,
            13,
            14,
            15
           ],
           "xaxis": "x2",
           "y": [
            20.40657142857143,
            20.328166666666668,
            18.4425,
            18.76545454545455,
            18.807916666666667,
            19.82292682926829,
            18.318064516129034,
            22.35034482758621,
            15.5559375,
            22.721176470588237
           ],
           "yaxis": "y2"
          }
         ],
         "name": "12"
        },
        {
         "data": [
          {
           "alignmentgroup": "True",
           "hovertemplate": "direction=up<br>Local Time (GMT+8)=13<br>floor=%{x}<br>avgWait_weekday=%{y}<extra></extra>",
           "legendgroup": "up",
           "marker": {
            "color": "#636efa"
           },
           "name": "up",
           "offsetgroup": "up",
           "orientation": "v",
           "showlegend": true,
           "textposition": "auto",
           "type": "bar",
           "x": [
            1,
            6,
            7,
            8,
            9,
            10,
            11,
            12,
            13
           ],
           "xaxis": "x",
           "y": [
            14.567554585152841,
            19.99566265060241,
            16.3675,
            19.379333333333328,
            19.185,
            75.14,
            28.995,
            29.12,
            19.055
           ],
           "yaxis": "y"
          },
          {
           "alignmentgroup": "True",
           "hovertemplate": "direction=down<br>Local Time (GMT+8)=13<br>floor=%{x}<br>avgWait_weekday=%{y}<extra></extra>",
           "legendgroup": "down",
           "marker": {
            "color": "#EF553B"
           },
           "name": "down",
           "offsetgroup": "down",
           "orientation": "v",
           "showlegend": true,
           "textposition": "auto",
           "type": "bar",
           "x": [
            6,
            7,
            8,
            9,
            10,
            11,
            12,
            13,
            14,
            15
           ],
           "xaxis": "x2",
           "y": [
            15.525625,
            20.1082,
            28.05109090909091,
            16.520200000000006,
            22.636969696969697,
            18.941470588235294,
            23.31921052631579,
            21.23409090909091,
            21.2514,
            20.899545454545454
           ],
           "yaxis": "y2"
          }
         ],
         "name": "13"
        },
        {
         "data": [
          {
           "alignmentgroup": "True",
           "hovertemplate": "direction=up<br>Local Time (GMT+8)=14<br>floor=%{x}<br>avgWait_weekday=%{y}<extra></extra>",
           "legendgroup": "up",
           "marker": {
            "color": "#636efa"
           },
           "name": "up",
           "offsetgroup": "up",
           "orientation": "v",
           "showlegend": true,
           "textposition": "auto",
           "type": "bar",
           "x": [
            1,
            6,
            7,
            8,
            9,
            10,
            11,
            12,
            13,
            14
           ],
           "xaxis": "x",
           "y": [
            14.537017543859651,
            21.926923076923078,
            17.768888888888892,
            16.532222222222227,
            18.616666666666667,
            13.61,
            37.54,
            18.025,
            23.9,
            2.4
           ],
           "yaxis": "y"
          },
          {
           "alignmentgroup": "True",
           "hovertemplate": "direction=down<br>Local Time (GMT+8)=14<br>floor=%{x}<br>avgWait_weekday=%{y}<extra></extra>",
           "legendgroup": "down",
           "marker": {
            "color": "#EF553B"
           },
           "name": "down",
           "offsetgroup": "down",
           "orientation": "v",
           "showlegend": true,
           "textposition": "auto",
           "type": "bar",
           "x": [
            6,
            7,
            8,
            9,
            10,
            11,
            12,
            13,
            14,
            15
           ],
           "xaxis": "x2",
           "y": [
            25.519642857142852,
            20.803684210526317,
            19.862244897959183,
            18.147368421052636,
            16.07785714285714,
            19.873720930232558,
            17.155192307692307,
            27.00392857142857,
            18.63379310344828,
            23.288461538461537
           ],
           "yaxis": "y2"
          }
         ],
         "name": "14"
        },
        {
         "data": [
          {
           "alignmentgroup": "True",
           "hovertemplate": "direction=up<br>Local Time (GMT+8)=15<br>floor=%{x}<br>avgWait_weekday=%{y}<extra></extra>",
           "legendgroup": "up",
           "marker": {
            "color": "#636efa"
           },
           "name": "up",
           "offsetgroup": "up",
           "orientation": "v",
           "showlegend": true,
           "textposition": "auto",
           "type": "bar",
           "x": [
            1,
            6,
            7,
            8,
            9,
            10,
            11,
            12,
            13,
            14
           ],
           "xaxis": "x",
           "y": [
            14.498481012658232,
            14.67942857142857,
            14.536,
            12.424,
            20.73,
            14.293333333333333,
            6.59,
            31.34666666666667,
            32.61,
            12.106666666666667
           ],
           "yaxis": "y"
          },
          {
           "alignmentgroup": "True",
           "hovertemplate": "direction=down<br>Local Time (GMT+8)=15<br>floor=%{x}<br>avgWait_weekday=%{y}<extra></extra>",
           "legendgroup": "down",
           "marker": {
            "color": "#EF553B"
           },
           "name": "down",
           "offsetgroup": "down",
           "orientation": "v",
           "showlegend": true,
           "textposition": "auto",
           "type": "bar",
           "x": [
            6,
            7,
            8,
            9,
            10,
            11,
            12,
            13,
            14,
            15
           ],
           "xaxis": "x2",
           "y": [
            16.73033333333333,
            22.219183673469384,
            20.76642857142857,
            17.040128205128205,
            16.304181818181814,
            19.11730769230769,
            13.924102564102563,
            16.414516129032258,
            21.23424242424242,
            23.53113636363636
           ],
           "yaxis": "y2"
          }
         ],
         "name": "15"
        },
        {
         "data": [
          {
           "alignmentgroup": "True",
           "hovertemplate": "direction=up<br>Local Time (GMT+8)=16<br>floor=%{x}<br>avgWait_weekday=%{y}<extra></extra>",
           "legendgroup": "up",
           "marker": {
            "color": "#636efa"
           },
           "name": "up",
           "offsetgroup": "up",
           "orientation": "v",
           "showlegend": true,
           "textposition": "auto",
           "type": "bar",
           "x": [
            1,
            6,
            7,
            8,
            9,
            10,
            13,
            14
           ],
           "xaxis": "x",
           "y": [
            14.375535714285714,
            19.326689655172405,
            12.02,
            18.3425,
            8.15,
            17.685,
            27.06,
            12.25
           ],
           "yaxis": "y"
          },
          {
           "alignmentgroup": "True",
           "hovertemplate": "direction=down<br>Local Time (GMT+8)=16<br>floor=%{x}<br>avgWait_weekday=%{y}<extra></extra>",
           "legendgroup": "down",
           "marker": {
            "color": "#EF553B"
           },
           "name": "down",
           "offsetgroup": "down",
           "orientation": "v",
           "showlegend": true,
           "textposition": "auto",
           "type": "bar",
           "x": [
            6,
            7,
            8,
            9,
            10,
            11,
            12,
            13,
            14,
            15
           ],
           "xaxis": "x2",
           "y": [
            18.98767123287671,
            20.9518,
            18.874,
            17.887249999999995,
            17.853793103448275,
            18.13,
            24.820434782608697,
            17.057666666666666,
            20.587391304347825,
            19.51285714285714
           ],
           "yaxis": "y2"
          }
         ],
         "name": "16"
        },
        {
         "data": [
          {
           "alignmentgroup": "True",
           "hovertemplate": "direction=up<br>Local Time (GMT+8)=17<br>floor=%{x}<br>avgWait_weekday=%{y}<extra></extra>",
           "legendgroup": "up",
           "marker": {
            "color": "#636efa"
           },
           "name": "up",
           "offsetgroup": "up",
           "orientation": "v",
           "showlegend": true,
           "textposition": "auto",
           "type": "bar",
           "x": [
            1,
            6,
            7,
            8,
            9,
            10,
            12,
            13
           ],
           "xaxis": "x",
           "y": [
            19.96963235294118,
            21.367722772277233,
            12.541666666666664,
            22.885555555555552,
            57.14000000000001,
            5.91,
            24.46,
            16.09
           ],
           "yaxis": "y"
          },
          {
           "alignmentgroup": "True",
           "hovertemplate": "direction=down<br>Local Time (GMT+8)=17<br>floor=%{x}<br>avgWait_weekday=%{y}<extra></extra>",
           "legendgroup": "down",
           "marker": {
            "color": "#EF553B"
           },
           "name": "down",
           "offsetgroup": "down",
           "orientation": "v",
           "showlegend": true,
           "textposition": "auto",
           "type": "bar",
           "x": [
            6,
            7,
            8,
            9,
            10,
            11,
            12,
            13,
            14,
            15
           ],
           "xaxis": "x2",
           "y": [
            23.649245283018864,
            27.703725490196074,
            23.864693877551023,
            18.405833333333334,
            19.959090909090904,
            22.501951219512197,
            21.081666666666667,
            24.27425531914893,
            21.77267857142857,
            27.44232142857143
           ],
           "yaxis": "y2"
          }
         ],
         "name": "17"
        },
        {
         "data": [
          {
           "alignmentgroup": "True",
           "hovertemplate": "direction=up<br>Local Time (GMT+8)=18<br>floor=%{x}<br>avgWait_weekday=%{y}<extra></extra>",
           "legendgroup": "up",
           "marker": {
            "color": "#636efa"
           },
           "name": "up",
           "offsetgroup": "up",
           "orientation": "v",
           "showlegend": true,
           "textposition": "auto",
           "type": "bar",
           "x": [
            1,
            6,
            7,
            8,
            10,
            11,
            13,
            14
           ],
           "xaxis": "x",
           "y": [
            16.962409638554217,
            21.007763157894736,
            20.663333333333334,
            13.5644,
            17.68,
            13.61,
            32.04666666666667,
            8.212
           ],
           "yaxis": "y"
          },
          {
           "alignmentgroup": "True",
           "hovertemplate": "direction=down<br>Local Time (GMT+8)=18<br>floor=%{x}<br>avgWait_weekday=%{y}<extra></extra>",
           "legendgroup": "down",
           "marker": {
            "color": "#EF553B"
           },
           "name": "down",
           "offsetgroup": "down",
           "orientation": "v",
           "showlegend": true,
           "textposition": "auto",
           "type": "bar",
           "x": [
            6,
            7,
            8,
            9,
            10,
            11,
            12,
            13,
            14,
            15
           ],
           "xaxis": "x2",
           "y": [
            19.5221875,
            27.328444444444447,
            24.560526315789474,
            17.028035714285714,
            22.74717948717949,
            27.036176470588234,
            14.403571428571427,
            18.109642857142852,
            21.833137254901963,
            19.458181818181817
           ],
           "yaxis": "y2"
          }
         ],
         "name": "18"
        },
        {
         "data": [
          {
           "alignmentgroup": "True",
           "hovertemplate": "direction=up<br>Local Time (GMT+8)=19<br>floor=%{x}<br>avgWait_weekday=%{y}<extra></extra>",
           "legendgroup": "up",
           "marker": {
            "color": "#636efa"
           },
           "name": "up",
           "offsetgroup": "up",
           "orientation": "v",
           "showlegend": true,
           "textposition": "auto",
           "type": "bar",
           "x": [
            1,
            6,
            7,
            8,
            9,
            12,
            14
           ],
           "xaxis": "x",
           "y": [
            17.875589519650656,
            19.264565217391304,
            18.523333333333326,
            18.81111111111111,
            27.255000000000006,
            12.14,
            27.596666666666664
           ],
           "yaxis": "y"
          },
          {
           "alignmentgroup": "True",
           "hovertemplate": "direction=down<br>Local Time (GMT+8)=19<br>floor=%{x}<br>avgWait_weekday=%{y}<extra></extra>",
           "legendgroup": "down",
           "marker": {
            "color": "#EF553B"
           },
           "name": "down",
           "offsetgroup": "down",
           "orientation": "v",
           "showlegend": true,
           "textposition": "auto",
           "type": "bar",
           "x": [
            6,
            7,
            8,
            9,
            10,
            11,
            12,
            13,
            14,
            15
           ],
           "xaxis": "x2",
           "y": [
            25.08703703703704,
            26.13607142857143,
            19.82096774193549,
            18.584102564102565,
            12.3624,
            16.056857142857144,
            19.564666666666668,
            17.1735,
            17.1215625,
            25.903714285714287
           ],
           "yaxis": "y2"
          }
         ],
         "name": "19"
        },
        {
         "data": [
          {
           "alignmentgroup": "True",
           "hovertemplate": "direction=up<br>Local Time (GMT+8)=20<br>floor=%{x}<br>avgWait_weekday=%{y}<extra></extra>",
           "legendgroup": "up",
           "marker": {
            "color": "#636efa"
           },
           "name": "up",
           "offsetgroup": "up",
           "orientation": "v",
           "showlegend": true,
           "textposition": "auto",
           "type": "bar",
           "x": [
            1,
            6,
            7,
            8,
            9,
            10,
            11,
            14
           ],
           "xaxis": "x",
           "y": [
            20.314380530973448,
            17.247272727272726,
            9.818,
            24.44611111111111,
            29.79,
            69.4,
            45.365,
            13.595
           ],
           "yaxis": "y"
          },
          {
           "alignmentgroup": "True",
           "hovertemplate": "direction=down<br>Local Time (GMT+8)=20<br>floor=%{x}<br>avgWait_weekday=%{y}<extra></extra>",
           "legendgroup": "down",
           "marker": {
            "color": "#EF553B"
           },
           "name": "down",
           "offsetgroup": "down",
           "orientation": "v",
           "showlegend": true,
           "textposition": "auto",
           "type": "bar",
           "x": [
            6,
            7,
            8,
            9,
            10,
            11,
            12,
            13,
            14,
            15
           ],
           "xaxis": "x2",
           "y": [
            30.455,
            21.81166666666667,
            15.2925,
            16.043030303030307,
            17.800714285714285,
            23.256666666666664,
            22.176666666666666,
            15.716666666666667,
            19.1708,
            18.075294117647054
           ],
           "yaxis": "y2"
          }
         ],
         "name": "20"
        },
        {
         "data": [
          {
           "alignmentgroup": "True",
           "hovertemplate": "direction=up<br>Local Time (GMT+8)=21<br>floor=%{x}<br>avgWait_weekday=%{y}<extra></extra>",
           "legendgroup": "up",
           "marker": {
            "color": "#636efa"
           },
           "name": "up",
           "offsetgroup": "up",
           "orientation": "v",
           "showlegend": true,
           "textposition": "auto",
           "type": "bar",
           "x": [
            1,
            6,
            7,
            8,
            9,
            10,
            11,
            12,
            13,
            14
           ],
           "xaxis": "x",
           "y": [
            20.909330708661415,
            18.03189473684211,
            15.643333333333334,
            18.126666666666665,
            10.89,
            31.62,
            20.3,
            14.8,
            25.45666666666667,
            10.89
           ],
           "yaxis": "y"
          },
          {
           "alignmentgroup": "True",
           "hovertemplate": "direction=down<br>Local Time (GMT+8)=21<br>floor=%{x}<br>avgWait_weekday=%{y}<extra></extra>",
           "legendgroup": "down",
           "marker": {
            "color": "#EF553B"
           },
           "name": "down",
           "offsetgroup": "down",
           "orientation": "v",
           "showlegend": true,
           "textposition": "auto",
           "type": "bar",
           "x": [
            6,
            7,
            8,
            9,
            10,
            11,
            12,
            13,
            14,
            15
           ],
           "xaxis": "x2",
           "y": [
            29.28142857142857,
            21.8435,
            14.432352941176472,
            22.638636363636365,
            13.46,
            15.222105263157893,
            19.69,
            19.153571428571436,
            22.852,
            22.3285
           ],
           "yaxis": "y2"
          }
         ],
         "name": "21"
        },
        {
         "data": [
          {
           "alignmentgroup": "True",
           "hovertemplate": "direction=up<br>Local Time (GMT+8)=22<br>floor=%{x}<br>avgWait_weekday=%{y}<extra></extra>",
           "legendgroup": "up",
           "marker": {
            "color": "#636efa"
           },
           "name": "up",
           "offsetgroup": "up",
           "orientation": "v",
           "showlegend": true,
           "textposition": "auto",
           "type": "bar",
           "x": [
            1,
            6,
            7,
            8,
            10,
            13,
            14
           ],
           "xaxis": "x",
           "y": [
            17.001761904761903,
            16.419999999999998,
            16.605,
            15.131333333333336,
            24.47,
            34.004999999999995,
            42.605
           ],
           "yaxis": "y"
          },
          {
           "alignmentgroup": "True",
           "hovertemplate": "direction=down<br>Local Time (GMT+8)=22<br>floor=%{x}<br>avgWait_weekday=%{y}<extra></extra>",
           "legendgroup": "down",
           "marker": {
            "color": "#EF553B"
           },
           "name": "down",
           "offsetgroup": "down",
           "orientation": "v",
           "showlegend": true,
           "textposition": "auto",
           "type": "bar",
           "x": [
            6,
            7,
            8,
            9,
            10,
            11,
            12,
            13,
            14,
            15
           ],
           "xaxis": "x2",
           "y": [
            9.543333333333337,
            21.518372093023252,
            20.37357142857143,
            19.55128205128205,
            17.082750000000004,
            18.935555555555556,
            15.7832,
            19.24448275862069,
            21.3,
            22.154193548387095
           ],
           "yaxis": "y2"
          }
         ],
         "name": "22"
        },
        {
         "data": [
          {
           "alignmentgroup": "True",
           "hovertemplate": "direction=up<br>Local Time (GMT+8)=23<br>floor=%{x}<br>avgWait_weekday=%{y}<extra></extra>",
           "legendgroup": "up",
           "marker": {
            "color": "#636efa"
           },
           "name": "up",
           "offsetgroup": "up",
           "orientation": "v",
           "showlegend": true,
           "textposition": "auto",
           "type": "bar",
           "x": [
            1,
            6,
            7,
            8,
            9,
            12,
            13,
            14
           ],
           "xaxis": "x",
           "y": [
            17.43643410852713,
            19.57888888888889,
            11.420000000000002,
            19.174285714285716,
            29.915,
            19.04,
            16.028,
            8.605
           ],
           "yaxis": "y"
          },
          {
           "alignmentgroup": "True",
           "hovertemplate": "direction=down<br>Local Time (GMT+8)=23<br>floor=%{x}<br>avgWait_weekday=%{y}<extra></extra>",
           "legendgroup": "down",
           "marker": {
            "color": "#EF553B"
           },
           "name": "down",
           "offsetgroup": "down",
           "orientation": "v",
           "showlegend": true,
           "textposition": "auto",
           "type": "bar",
           "x": [
            6,
            7,
            8,
            9,
            10,
            11,
            12,
            13,
            14,
            15
           ],
           "xaxis": "x2",
           "y": [
            32.305,
            20.91676470588235,
            18.747,
            17.23131578947369,
            18.36878787878788,
            21.00228571428572,
            16.798636363636362,
            14.5075,
            22.38413793103448,
            23.24727272727273
           ],
           "yaxis": "y2"
          }
         ],
         "name": "23"
        }
       ],
       "layout": {
        "annotations": [
         {
          "font": {},
          "showarrow": false,
          "text": "direction=up",
          "x": 0.245,
          "xanchor": "center",
          "xref": "paper",
          "y": 1,
          "yanchor": "bottom",
          "yref": "paper"
         },
         {
          "font": {},
          "showarrow": false,
          "text": "direction=down",
          "x": 0.755,
          "xanchor": "center",
          "xref": "paper",
          "y": 1,
          "yanchor": "bottom",
          "yref": "paper"
         }
        ],
        "barmode": "relative",
        "legend": {
         "title": {
          "text": "direction"
         },
         "tracegroupgap": 0
        },
        "margin": {
         "t": 60
        },
        "sliders": [
         {
          "active": 0,
          "currentvalue": {
           "prefix": "Local Time (GMT+8)="
          },
          "len": 0.9,
          "pad": {
           "b": 10,
           "t": 60
          },
          "steps": [
           {
            "args": [
             [
              "0"
             ],
             {
              "frame": {
               "duration": 0,
               "redraw": true
              },
              "fromcurrent": true,
              "mode": "immediate",
              "transition": {
               "duration": 0,
               "easing": "linear"
              }
             }
            ],
            "label": "0",
            "method": "animate"
           },
           {
            "args": [
             [
              "1"
             ],
             {
              "frame": {
               "duration": 0,
               "redraw": true
              },
              "fromcurrent": true,
              "mode": "immediate",
              "transition": {
               "duration": 0,
               "easing": "linear"
              }
             }
            ],
            "label": "1",
            "method": "animate"
           },
           {
            "args": [
             [
              "2"
             ],
             {
              "frame": {
               "duration": 0,
               "redraw": true
              },
              "fromcurrent": true,
              "mode": "immediate",
              "transition": {
               "duration": 0,
               "easing": "linear"
              }
             }
            ],
            "label": "2",
            "method": "animate"
           },
           {
            "args": [
             [
              "3"
             ],
             {
              "frame": {
               "duration": 0,
               "redraw": true
              },
              "fromcurrent": true,
              "mode": "immediate",
              "transition": {
               "duration": 0,
               "easing": "linear"
              }
             }
            ],
            "label": "3",
            "method": "animate"
           },
           {
            "args": [
             [
              "4"
             ],
             {
              "frame": {
               "duration": 0,
               "redraw": true
              },
              "fromcurrent": true,
              "mode": "immediate",
              "transition": {
               "duration": 0,
               "easing": "linear"
              }
             }
            ],
            "label": "4",
            "method": "animate"
           },
           {
            "args": [
             [
              "5"
             ],
             {
              "frame": {
               "duration": 0,
               "redraw": true
              },
              "fromcurrent": true,
              "mode": "immediate",
              "transition": {
               "duration": 0,
               "easing": "linear"
              }
             }
            ],
            "label": "5",
            "method": "animate"
           },
           {
            "args": [
             [
              "6"
             ],
             {
              "frame": {
               "duration": 0,
               "redraw": true
              },
              "fromcurrent": true,
              "mode": "immediate",
              "transition": {
               "duration": 0,
               "easing": "linear"
              }
             }
            ],
            "label": "6",
            "method": "animate"
           },
           {
            "args": [
             [
              "7"
             ],
             {
              "frame": {
               "duration": 0,
               "redraw": true
              },
              "fromcurrent": true,
              "mode": "immediate",
              "transition": {
               "duration": 0,
               "easing": "linear"
              }
             }
            ],
            "label": "7",
            "method": "animate"
           },
           {
            "args": [
             [
              "8"
             ],
             {
              "frame": {
               "duration": 0,
               "redraw": true
              },
              "fromcurrent": true,
              "mode": "immediate",
              "transition": {
               "duration": 0,
               "easing": "linear"
              }
             }
            ],
            "label": "8",
            "method": "animate"
           },
           {
            "args": [
             [
              "9"
             ],
             {
              "frame": {
               "duration": 0,
               "redraw": true
              },
              "fromcurrent": true,
              "mode": "immediate",
              "transition": {
               "duration": 0,
               "easing": "linear"
              }
             }
            ],
            "label": "9",
            "method": "animate"
           },
           {
            "args": [
             [
              "10"
             ],
             {
              "frame": {
               "duration": 0,
               "redraw": true
              },
              "fromcurrent": true,
              "mode": "immediate",
              "transition": {
               "duration": 0,
               "easing": "linear"
              }
             }
            ],
            "label": "10",
            "method": "animate"
           },
           {
            "args": [
             [
              "11"
             ],
             {
              "frame": {
               "duration": 0,
               "redraw": true
              },
              "fromcurrent": true,
              "mode": "immediate",
              "transition": {
               "duration": 0,
               "easing": "linear"
              }
             }
            ],
            "label": "11",
            "method": "animate"
           },
           {
            "args": [
             [
              "12"
             ],
             {
              "frame": {
               "duration": 0,
               "redraw": true
              },
              "fromcurrent": true,
              "mode": "immediate",
              "transition": {
               "duration": 0,
               "easing": "linear"
              }
             }
            ],
            "label": "12",
            "method": "animate"
           },
           {
            "args": [
             [
              "13"
             ],
             {
              "frame": {
               "duration": 0,
               "redraw": true
              },
              "fromcurrent": true,
              "mode": "immediate",
              "transition": {
               "duration": 0,
               "easing": "linear"
              }
             }
            ],
            "label": "13",
            "method": "animate"
           },
           {
            "args": [
             [
              "14"
             ],
             {
              "frame": {
               "duration": 0,
               "redraw": true
              },
              "fromcurrent": true,
              "mode": "immediate",
              "transition": {
               "duration": 0,
               "easing": "linear"
              }
             }
            ],
            "label": "14",
            "method": "animate"
           },
           {
            "args": [
             [
              "15"
             ],
             {
              "frame": {
               "duration": 0,
               "redraw": true
              },
              "fromcurrent": true,
              "mode": "immediate",
              "transition": {
               "duration": 0,
               "easing": "linear"
              }
             }
            ],
            "label": "15",
            "method": "animate"
           },
           {
            "args": [
             [
              "16"
             ],
             {
              "frame": {
               "duration": 0,
               "redraw": true
              },
              "fromcurrent": true,
              "mode": "immediate",
              "transition": {
               "duration": 0,
               "easing": "linear"
              }
             }
            ],
            "label": "16",
            "method": "animate"
           },
           {
            "args": [
             [
              "17"
             ],
             {
              "frame": {
               "duration": 0,
               "redraw": true
              },
              "fromcurrent": true,
              "mode": "immediate",
              "transition": {
               "duration": 0,
               "easing": "linear"
              }
             }
            ],
            "label": "17",
            "method": "animate"
           },
           {
            "args": [
             [
              "18"
             ],
             {
              "frame": {
               "duration": 0,
               "redraw": true
              },
              "fromcurrent": true,
              "mode": "immediate",
              "transition": {
               "duration": 0,
               "easing": "linear"
              }
             }
            ],
            "label": "18",
            "method": "animate"
           },
           {
            "args": [
             [
              "19"
             ],
             {
              "frame": {
               "duration": 0,
               "redraw": true
              },
              "fromcurrent": true,
              "mode": "immediate",
              "transition": {
               "duration": 0,
               "easing": "linear"
              }
             }
            ],
            "label": "19",
            "method": "animate"
           },
           {
            "args": [
             [
              "20"
             ],
             {
              "frame": {
               "duration": 0,
               "redraw": true
              },
              "fromcurrent": true,
              "mode": "immediate",
              "transition": {
               "duration": 0,
               "easing": "linear"
              }
             }
            ],
            "label": "20",
            "method": "animate"
           },
           {
            "args": [
             [
              "21"
             ],
             {
              "frame": {
               "duration": 0,
               "redraw": true
              },
              "fromcurrent": true,
              "mode": "immediate",
              "transition": {
               "duration": 0,
               "easing": "linear"
              }
             }
            ],
            "label": "21",
            "method": "animate"
           },
           {
            "args": [
             [
              "22"
             ],
             {
              "frame": {
               "duration": 0,
               "redraw": true
              },
              "fromcurrent": true,
              "mode": "immediate",
              "transition": {
               "duration": 0,
               "easing": "linear"
              }
             }
            ],
            "label": "22",
            "method": "animate"
           },
           {
            "args": [
             [
              "23"
             ],
             {
              "frame": {
               "duration": 0,
               "redraw": true
              },
              "fromcurrent": true,
              "mode": "immediate",
              "transition": {
               "duration": 0,
               "easing": "linear"
              }
             }
            ],
            "label": "23",
            "method": "animate"
           }
          ],
          "x": 0.1,
          "xanchor": "left",
          "y": 0,
          "yanchor": "top"
         }
        ],
        "template": {
         "data": {
          "bar": [
           {
            "error_x": {
             "color": "#2a3f5f"
            },
            "error_y": {
             "color": "#2a3f5f"
            },
            "marker": {
             "line": {
              "color": "#E5ECF6",
              "width": 0.5
             }
            },
            "type": "bar"
           }
          ],
          "barpolar": [
           {
            "marker": {
             "line": {
              "color": "#E5ECF6",
              "width": 0.5
             }
            },
            "type": "barpolar"
           }
          ],
          "carpet": [
           {
            "aaxis": {
             "endlinecolor": "#2a3f5f",
             "gridcolor": "white",
             "linecolor": "white",
             "minorgridcolor": "white",
             "startlinecolor": "#2a3f5f"
            },
            "baxis": {
             "endlinecolor": "#2a3f5f",
             "gridcolor": "white",
             "linecolor": "white",
             "minorgridcolor": "white",
             "startlinecolor": "#2a3f5f"
            },
            "type": "carpet"
           }
          ],
          "choropleth": [
           {
            "colorbar": {
             "outlinewidth": 0,
             "ticks": ""
            },
            "type": "choropleth"
           }
          ],
          "contour": [
           {
            "colorbar": {
             "outlinewidth": 0,
             "ticks": ""
            },
            "colorscale": [
             [
              0,
              "#0d0887"
             ],
             [
              0.1111111111111111,
              "#46039f"
             ],
             [
              0.2222222222222222,
              "#7201a8"
             ],
             [
              0.3333333333333333,
              "#9c179e"
             ],
             [
              0.4444444444444444,
              "#bd3786"
             ],
             [
              0.5555555555555556,
              "#d8576b"
             ],
             [
              0.6666666666666666,
              "#ed7953"
             ],
             [
              0.7777777777777778,
              "#fb9f3a"
             ],
             [
              0.8888888888888888,
              "#fdca26"
             ],
             [
              1,
              "#f0f921"
             ]
            ],
            "type": "contour"
           }
          ],
          "contourcarpet": [
           {
            "colorbar": {
             "outlinewidth": 0,
             "ticks": ""
            },
            "type": "contourcarpet"
           }
          ],
          "heatmap": [
           {
            "colorbar": {
             "outlinewidth": 0,
             "ticks": ""
            },
            "colorscale": [
             [
              0,
              "#0d0887"
             ],
             [
              0.1111111111111111,
              "#46039f"
             ],
             [
              0.2222222222222222,
              "#7201a8"
             ],
             [
              0.3333333333333333,
              "#9c179e"
             ],
             [
              0.4444444444444444,
              "#bd3786"
             ],
             [
              0.5555555555555556,
              "#d8576b"
             ],
             [
              0.6666666666666666,
              "#ed7953"
             ],
             [
              0.7777777777777778,
              "#fb9f3a"
             ],
             [
              0.8888888888888888,
              "#fdca26"
             ],
             [
              1,
              "#f0f921"
             ]
            ],
            "type": "heatmap"
           }
          ],
          "heatmapgl": [
           {
            "colorbar": {
             "outlinewidth": 0,
             "ticks": ""
            },
            "colorscale": [
             [
              0,
              "#0d0887"
             ],
             [
              0.1111111111111111,
              "#46039f"
             ],
             [
              0.2222222222222222,
              "#7201a8"
             ],
             [
              0.3333333333333333,
              "#9c179e"
             ],
             [
              0.4444444444444444,
              "#bd3786"
             ],
             [
              0.5555555555555556,
              "#d8576b"
             ],
             [
              0.6666666666666666,
              "#ed7953"
             ],
             [
              0.7777777777777778,
              "#fb9f3a"
             ],
             [
              0.8888888888888888,
              "#fdca26"
             ],
             [
              1,
              "#f0f921"
             ]
            ],
            "type": "heatmapgl"
           }
          ],
          "histogram": [
           {
            "marker": {
             "colorbar": {
              "outlinewidth": 0,
              "ticks": ""
             }
            },
            "type": "histogram"
           }
          ],
          "histogram2d": [
           {
            "colorbar": {
             "outlinewidth": 0,
             "ticks": ""
            },
            "colorscale": [
             [
              0,
              "#0d0887"
             ],
             [
              0.1111111111111111,
              "#46039f"
             ],
             [
              0.2222222222222222,
              "#7201a8"
             ],
             [
              0.3333333333333333,
              "#9c179e"
             ],
             [
              0.4444444444444444,
              "#bd3786"
             ],
             [
              0.5555555555555556,
              "#d8576b"
             ],
             [
              0.6666666666666666,
              "#ed7953"
             ],
             [
              0.7777777777777778,
              "#fb9f3a"
             ],
             [
              0.8888888888888888,
              "#fdca26"
             ],
             [
              1,
              "#f0f921"
             ]
            ],
            "type": "histogram2d"
           }
          ],
          "histogram2dcontour": [
           {
            "colorbar": {
             "outlinewidth": 0,
             "ticks": ""
            },
            "colorscale": [
             [
              0,
              "#0d0887"
             ],
             [
              0.1111111111111111,
              "#46039f"
             ],
             [
              0.2222222222222222,
              "#7201a8"
             ],
             [
              0.3333333333333333,
              "#9c179e"
             ],
             [
              0.4444444444444444,
              "#bd3786"
             ],
             [
              0.5555555555555556,
              "#d8576b"
             ],
             [
              0.6666666666666666,
              "#ed7953"
             ],
             [
              0.7777777777777778,
              "#fb9f3a"
             ],
             [
              0.8888888888888888,
              "#fdca26"
             ],
             [
              1,
              "#f0f921"
             ]
            ],
            "type": "histogram2dcontour"
           }
          ],
          "mesh3d": [
           {
            "colorbar": {
             "outlinewidth": 0,
             "ticks": ""
            },
            "type": "mesh3d"
           }
          ],
          "parcoords": [
           {
            "line": {
             "colorbar": {
              "outlinewidth": 0,
              "ticks": ""
             }
            },
            "type": "parcoords"
           }
          ],
          "pie": [
           {
            "automargin": true,
            "type": "pie"
           }
          ],
          "scatter": [
           {
            "marker": {
             "colorbar": {
              "outlinewidth": 0,
              "ticks": ""
             }
            },
            "type": "scatter"
           }
          ],
          "scatter3d": [
           {
            "line": {
             "colorbar": {
              "outlinewidth": 0,
              "ticks": ""
             }
            },
            "marker": {
             "colorbar": {
              "outlinewidth": 0,
              "ticks": ""
             }
            },
            "type": "scatter3d"
           }
          ],
          "scattercarpet": [
           {
            "marker": {
             "colorbar": {
              "outlinewidth": 0,
              "ticks": ""
             }
            },
            "type": "scattercarpet"
           }
          ],
          "scattergeo": [
           {
            "marker": {
             "colorbar": {
              "outlinewidth": 0,
              "ticks": ""
             }
            },
            "type": "scattergeo"
           }
          ],
          "scattergl": [
           {
            "marker": {
             "colorbar": {
              "outlinewidth": 0,
              "ticks": ""
             }
            },
            "type": "scattergl"
           }
          ],
          "scattermapbox": [
           {
            "marker": {
             "colorbar": {
              "outlinewidth": 0,
              "ticks": ""
             }
            },
            "type": "scattermapbox"
           }
          ],
          "scatterpolar": [
           {
            "marker": {
             "colorbar": {
              "outlinewidth": 0,
              "ticks": ""
             }
            },
            "type": "scatterpolar"
           }
          ],
          "scatterpolargl": [
           {
            "marker": {
             "colorbar": {
              "outlinewidth": 0,
              "ticks": ""
             }
            },
            "type": "scatterpolargl"
           }
          ],
          "scatterternary": [
           {
            "marker": {
             "colorbar": {
              "outlinewidth": 0,
              "ticks": ""
             }
            },
            "type": "scatterternary"
           }
          ],
          "surface": [
           {
            "colorbar": {
             "outlinewidth": 0,
             "ticks": ""
            },
            "colorscale": [
             [
              0,
              "#0d0887"
             ],
             [
              0.1111111111111111,
              "#46039f"
             ],
             [
              0.2222222222222222,
              "#7201a8"
             ],
             [
              0.3333333333333333,
              "#9c179e"
             ],
             [
              0.4444444444444444,
              "#bd3786"
             ],
             [
              0.5555555555555556,
              "#d8576b"
             ],
             [
              0.6666666666666666,
              "#ed7953"
             ],
             [
              0.7777777777777778,
              "#fb9f3a"
             ],
             [
              0.8888888888888888,
              "#fdca26"
             ],
             [
              1,
              "#f0f921"
             ]
            ],
            "type": "surface"
           }
          ],
          "table": [
           {
            "cells": {
             "fill": {
              "color": "#EBF0F8"
             },
             "line": {
              "color": "white"
             }
            },
            "header": {
             "fill": {
              "color": "#C8D4E3"
             },
             "line": {
              "color": "white"
             }
            },
            "type": "table"
           }
          ]
         },
         "layout": {
          "annotationdefaults": {
           "arrowcolor": "#2a3f5f",
           "arrowhead": 0,
           "arrowwidth": 1
          },
          "coloraxis": {
           "colorbar": {
            "outlinewidth": 0,
            "ticks": ""
           }
          },
          "colorscale": {
           "diverging": [
            [
             0,
             "#8e0152"
            ],
            [
             0.1,
             "#c51b7d"
            ],
            [
             0.2,
             "#de77ae"
            ],
            [
             0.3,
             "#f1b6da"
            ],
            [
             0.4,
             "#fde0ef"
            ],
            [
             0.5,
             "#f7f7f7"
            ],
            [
             0.6,
             "#e6f5d0"
            ],
            [
             0.7,
             "#b8e186"
            ],
            [
             0.8,
             "#7fbc41"
            ],
            [
             0.9,
             "#4d9221"
            ],
            [
             1,
             "#276419"
            ]
           ],
           "sequential": [
            [
             0,
             "#0d0887"
            ],
            [
             0.1111111111111111,
             "#46039f"
            ],
            [
             0.2222222222222222,
             "#7201a8"
            ],
            [
             0.3333333333333333,
             "#9c179e"
            ],
            [
             0.4444444444444444,
             "#bd3786"
            ],
            [
             0.5555555555555556,
             "#d8576b"
            ],
            [
             0.6666666666666666,
             "#ed7953"
            ],
            [
             0.7777777777777778,
             "#fb9f3a"
            ],
            [
             0.8888888888888888,
             "#fdca26"
            ],
            [
             1,
             "#f0f921"
            ]
           ],
           "sequentialminus": [
            [
             0,
             "#0d0887"
            ],
            [
             0.1111111111111111,
             "#46039f"
            ],
            [
             0.2222222222222222,
             "#7201a8"
            ],
            [
             0.3333333333333333,
             "#9c179e"
            ],
            [
             0.4444444444444444,
             "#bd3786"
            ],
            [
             0.5555555555555556,
             "#d8576b"
            ],
            [
             0.6666666666666666,
             "#ed7953"
            ],
            [
             0.7777777777777778,
             "#fb9f3a"
            ],
            [
             0.8888888888888888,
             "#fdca26"
            ],
            [
             1,
             "#f0f921"
            ]
           ]
          },
          "colorway": [
           "#636efa",
           "#EF553B",
           "#00cc96",
           "#ab63fa",
           "#FFA15A",
           "#19d3f3",
           "#FF6692",
           "#B6E880",
           "#FF97FF",
           "#FECB52"
          ],
          "font": {
           "color": "#2a3f5f"
          },
          "geo": {
           "bgcolor": "white",
           "lakecolor": "white",
           "landcolor": "#E5ECF6",
           "showlakes": true,
           "showland": true,
           "subunitcolor": "white"
          },
          "hoverlabel": {
           "align": "left"
          },
          "hovermode": "closest",
          "mapbox": {
           "style": "light"
          },
          "paper_bgcolor": "white",
          "plot_bgcolor": "#E5ECF6",
          "polar": {
           "angularaxis": {
            "gridcolor": "white",
            "linecolor": "white",
            "ticks": ""
           },
           "bgcolor": "#E5ECF6",
           "radialaxis": {
            "gridcolor": "white",
            "linecolor": "white",
            "ticks": ""
           }
          },
          "scene": {
           "xaxis": {
            "backgroundcolor": "#E5ECF6",
            "gridcolor": "white",
            "gridwidth": 2,
            "linecolor": "white",
            "showbackground": true,
            "ticks": "",
            "zerolinecolor": "white"
           },
           "yaxis": {
            "backgroundcolor": "#E5ECF6",
            "gridcolor": "white",
            "gridwidth": 2,
            "linecolor": "white",
            "showbackground": true,
            "ticks": "",
            "zerolinecolor": "white"
           },
           "zaxis": {
            "backgroundcolor": "#E5ECF6",
            "gridcolor": "white",
            "gridwidth": 2,
            "linecolor": "white",
            "showbackground": true,
            "ticks": "",
            "zerolinecolor": "white"
           }
          },
          "shapedefaults": {
           "line": {
            "color": "#2a3f5f"
           }
          },
          "ternary": {
           "aaxis": {
            "gridcolor": "white",
            "linecolor": "white",
            "ticks": ""
           },
           "baxis": {
            "gridcolor": "white",
            "linecolor": "white",
            "ticks": ""
           },
           "bgcolor": "#E5ECF6",
           "caxis": {
            "gridcolor": "white",
            "linecolor": "white",
            "ticks": ""
           }
          },
          "title": {
           "x": 0.05
          },
          "xaxis": {
           "automargin": true,
           "gridcolor": "white",
           "linecolor": "white",
           "ticks": "",
           "title": {
            "standoff": 15
           },
           "zerolinecolor": "white",
           "zerolinewidth": 2
          },
          "yaxis": {
           "automargin": true,
           "gridcolor": "white",
           "linecolor": "white",
           "ticks": "",
           "title": {
            "standoff": 15
           },
           "zerolinecolor": "white",
           "zerolinewidth": 2
          }
         }
        },
        "title": {
         "text": "Average waiting time of Elevator Calls by Floor on weekday"
        },
        "updatemenus": [
         {
          "buttons": [
           {
            "args": [
             null,
             {
              "frame": {
               "duration": 500,
               "redraw": true
              },
              "fromcurrent": true,
              "mode": "immediate",
              "transition": {
               "duration": 500,
               "easing": "linear"
              }
             }
            ],
            "label": "&#9654;",
            "method": "animate"
           },
           {
            "args": [
             [
              null
             ],
             {
              "frame": {
               "duration": 0,
               "redraw": true
              },
              "fromcurrent": true,
              "mode": "immediate",
              "transition": {
               "duration": 0,
               "easing": "linear"
              }
             }
            ],
            "label": "&#9724;",
            "method": "animate"
           }
          ],
          "direction": "left",
          "pad": {
           "r": 10,
           "t": 70
          },
          "showactive": false,
          "type": "buttons",
          "x": 0.1,
          "xanchor": "right",
          "y": 0,
          "yanchor": "top"
         }
        ],
        "xaxis": {
         "anchor": "y",
         "categoryarray": [
          "1",
          "2",
          "3",
          "4",
          "5",
          "6",
          "7",
          "8",
          "9",
          "10",
          "11",
          "12",
          "13",
          "14",
          "15",
          "B1",
          "B2",
          "B3",
          "B4"
         ],
         "domain": [
          0,
          0.49
         ],
         "nticks": 19,
         "title": {
          "text": "floor"
         },
         "type": "category"
        },
        "xaxis2": {
         "anchor": "y2",
         "categoryarray": [
          "1",
          "2",
          "3",
          "4",
          "5",
          "6",
          "7",
          "8",
          "9",
          "10",
          "11",
          "12",
          "13",
          "14",
          "15",
          "B1",
          "B2",
          "B3",
          "B4"
         ],
         "domain": [
          0.51,
          1
         ],
         "matches": "x",
         "nticks": 19,
         "title": {
          "text": "floor"
         },
         "type": "category"
        },
        "yaxis": {
         "anchor": "x",
         "domain": [
          0,
          1
         ],
         "range": [
          0,
          200
         ],
         "title": {
          "text": "avgWait_weekday"
         }
        },
        "yaxis2": {
         "anchor": "x2",
         "domain": [
          0,
          1
         ],
         "matches": "y",
         "range": [
          0,
          200
         ],
         "showticklabels": false
        }
       }
      },
      "text/html": [
       "<div>\n",
       "        \n",
       "        \n",
       "            <div id=\"f0f67a78-5d50-446e-9cea-0c10d8aca3ec\" class=\"plotly-graph-div\" style=\"height:525px; width:100%;\"></div>\n",
       "            <script type=\"text/javascript\">\n",
       "                require([\"plotly\"], function(Plotly) {\n",
       "                    window.PLOTLYENV=window.PLOTLYENV || {};\n",
       "                    \n",
       "                if (document.getElementById(\"f0f67a78-5d50-446e-9cea-0c10d8aca3ec\")) {\n",
       "                    Plotly.newPlot(\n",
       "                        'f0f67a78-5d50-446e-9cea-0c10d8aca3ec',\n",
       "                        [{\"alignmentgroup\": \"True\", \"hovertemplate\": \"direction=up<br>Local Time (GMT+8)=0<br>floor=%{x}<br>avgWait_weekday=%{y}<extra></extra>\", \"legendgroup\": \"up\", \"marker\": {\"color\": \"#636efa\"}, \"name\": \"up\", \"offsetgroup\": \"up\", \"orientation\": \"v\", \"showlegend\": true, \"textposition\": \"auto\", \"type\": \"bar\", \"x\": [1, 6, 7, 8, 13, 14], \"xaxis\": \"x\", \"y\": [22.289828571428565, 16.48611111111111, 11.75, 23.965, 27.98333333333333, 31.1], \"yaxis\": \"y\"}, {\"alignmentgroup\": \"True\", \"hovertemplate\": \"direction=down<br>Local Time (GMT+8)=0<br>floor=%{x}<br>avgWait_weekday=%{y}<extra></extra>\", \"legendgroup\": \"down\", \"marker\": {\"color\": \"#EF553B\"}, \"name\": \"down\", \"offsetgroup\": \"down\", \"orientation\": \"v\", \"showlegend\": true, \"textposition\": \"auto\", \"type\": \"bar\", \"x\": [6, 7, 8, 9, 10, 11, 12, 13, 14, 15], \"xaxis\": \"x2\", \"y\": [20.393, 16.706363636363633, 9.77625, 11.590909090909092, 11.348333333333334, 12.566666666666668, 9.801666666666668, 24.06111111111111, 12.41642857142857, 7.8660000000000005], \"yaxis\": \"y2\"}],\n",
       "                        {\"annotations\": [{\"font\": {}, \"showarrow\": false, \"text\": \"direction=up\", \"x\": 0.245, \"xanchor\": \"center\", \"xref\": \"paper\", \"y\": 1.0, \"yanchor\": \"bottom\", \"yref\": \"paper\"}, {\"font\": {}, \"showarrow\": false, \"text\": \"direction=down\", \"x\": 0.755, \"xanchor\": \"center\", \"xref\": \"paper\", \"y\": 1.0, \"yanchor\": \"bottom\", \"yref\": \"paper\"}], \"barmode\": \"relative\", \"legend\": {\"title\": {\"text\": \"direction\"}, \"tracegroupgap\": 0}, \"margin\": {\"t\": 60}, \"sliders\": [{\"active\": 0, \"currentvalue\": {\"prefix\": \"Local Time (GMT+8)=\"}, \"len\": 0.9, \"pad\": {\"b\": 10, \"t\": 60}, \"steps\": [{\"args\": [[\"0\"], {\"frame\": {\"duration\": 0, \"redraw\": true}, \"fromcurrent\": true, \"mode\": \"immediate\", \"transition\": {\"duration\": 0, \"easing\": \"linear\"}}], \"label\": \"0\", \"method\": \"animate\"}, {\"args\": [[\"1\"], {\"frame\": {\"duration\": 0, \"redraw\": true}, \"fromcurrent\": true, \"mode\": \"immediate\", \"transition\": {\"duration\": 0, \"easing\": \"linear\"}}], \"label\": \"1\", \"method\": \"animate\"}, {\"args\": [[\"2\"], {\"frame\": {\"duration\": 0, \"redraw\": true}, \"fromcurrent\": true, \"mode\": \"immediate\", \"transition\": {\"duration\": 0, \"easing\": \"linear\"}}], \"label\": \"2\", \"method\": \"animate\"}, {\"args\": [[\"3\"], {\"frame\": {\"duration\": 0, \"redraw\": true}, \"fromcurrent\": true, \"mode\": \"immediate\", \"transition\": {\"duration\": 0, \"easing\": \"linear\"}}], \"label\": \"3\", \"method\": \"animate\"}, {\"args\": [[\"4\"], {\"frame\": {\"duration\": 0, \"redraw\": true}, \"fromcurrent\": true, \"mode\": \"immediate\", \"transition\": {\"duration\": 0, \"easing\": \"linear\"}}], \"label\": \"4\", \"method\": \"animate\"}, {\"args\": [[\"5\"], {\"frame\": {\"duration\": 0, \"redraw\": true}, \"fromcurrent\": true, \"mode\": \"immediate\", \"transition\": {\"duration\": 0, \"easing\": \"linear\"}}], \"label\": \"5\", \"method\": \"animate\"}, {\"args\": [[\"6\"], {\"frame\": {\"duration\": 0, \"redraw\": true}, \"fromcurrent\": true, \"mode\": \"immediate\", \"transition\": {\"duration\": 0, \"easing\": \"linear\"}}], \"label\": \"6\", \"method\": \"animate\"}, {\"args\": [[\"7\"], {\"frame\": {\"duration\": 0, \"redraw\": true}, \"fromcurrent\": true, \"mode\": \"immediate\", \"transition\": {\"duration\": 0, \"easing\": \"linear\"}}], \"label\": \"7\", \"method\": \"animate\"}, {\"args\": [[\"8\"], {\"frame\": {\"duration\": 0, \"redraw\": true}, \"fromcurrent\": true, \"mode\": \"immediate\", \"transition\": {\"duration\": 0, \"easing\": \"linear\"}}], \"label\": \"8\", \"method\": \"animate\"}, {\"args\": [[\"9\"], {\"frame\": {\"duration\": 0, \"redraw\": true}, \"fromcurrent\": true, \"mode\": \"immediate\", \"transition\": {\"duration\": 0, \"easing\": \"linear\"}}], \"label\": \"9\", \"method\": \"animate\"}, {\"args\": [[\"10\"], {\"frame\": {\"duration\": 0, \"redraw\": true}, \"fromcurrent\": true, \"mode\": \"immediate\", \"transition\": {\"duration\": 0, \"easing\": \"linear\"}}], \"label\": \"10\", \"method\": \"animate\"}, {\"args\": [[\"11\"], {\"frame\": {\"duration\": 0, \"redraw\": true}, \"fromcurrent\": true, \"mode\": \"immediate\", \"transition\": {\"duration\": 0, \"easing\": \"linear\"}}], \"label\": \"11\", \"method\": \"animate\"}, {\"args\": [[\"12\"], {\"frame\": {\"duration\": 0, \"redraw\": true}, \"fromcurrent\": true, \"mode\": \"immediate\", \"transition\": {\"duration\": 0, \"easing\": \"linear\"}}], \"label\": \"12\", \"method\": \"animate\"}, {\"args\": [[\"13\"], {\"frame\": {\"duration\": 0, \"redraw\": true}, \"fromcurrent\": true, \"mode\": \"immediate\", \"transition\": {\"duration\": 0, \"easing\": \"linear\"}}], \"label\": \"13\", \"method\": \"animate\"}, {\"args\": [[\"14\"], {\"frame\": {\"duration\": 0, \"redraw\": true}, \"fromcurrent\": true, \"mode\": \"immediate\", \"transition\": {\"duration\": 0, \"easing\": \"linear\"}}], \"label\": \"14\", \"method\": \"animate\"}, {\"args\": [[\"15\"], {\"frame\": {\"duration\": 0, \"redraw\": true}, \"fromcurrent\": true, \"mode\": \"immediate\", \"transition\": {\"duration\": 0, \"easing\": \"linear\"}}], \"label\": \"15\", \"method\": \"animate\"}, {\"args\": [[\"16\"], {\"frame\": {\"duration\": 0, \"redraw\": true}, \"fromcurrent\": true, \"mode\": \"immediate\", \"transition\": {\"duration\": 0, \"easing\": \"linear\"}}], \"label\": \"16\", \"method\": \"animate\"}, {\"args\": [[\"17\"], {\"frame\": {\"duration\": 0, \"redraw\": true}, \"fromcurrent\": true, \"mode\": \"immediate\", \"transition\": {\"duration\": 0, \"easing\": \"linear\"}}], \"label\": \"17\", \"method\": \"animate\"}, {\"args\": [[\"18\"], {\"frame\": {\"duration\": 0, \"redraw\": true}, \"fromcurrent\": true, \"mode\": \"immediate\", \"transition\": {\"duration\": 0, \"easing\": \"linear\"}}], \"label\": \"18\", \"method\": \"animate\"}, {\"args\": [[\"19\"], {\"frame\": {\"duration\": 0, \"redraw\": true}, \"fromcurrent\": true, \"mode\": \"immediate\", \"transition\": {\"duration\": 0, \"easing\": \"linear\"}}], \"label\": \"19\", \"method\": \"animate\"}, {\"args\": [[\"20\"], {\"frame\": {\"duration\": 0, \"redraw\": true}, \"fromcurrent\": true, \"mode\": \"immediate\", \"transition\": {\"duration\": 0, \"easing\": \"linear\"}}], \"label\": \"20\", \"method\": \"animate\"}, {\"args\": [[\"21\"], {\"frame\": {\"duration\": 0, \"redraw\": true}, \"fromcurrent\": true, \"mode\": \"immediate\", \"transition\": {\"duration\": 0, \"easing\": \"linear\"}}], \"label\": \"21\", \"method\": \"animate\"}, {\"args\": [[\"22\"], {\"frame\": {\"duration\": 0, \"redraw\": true}, \"fromcurrent\": true, \"mode\": \"immediate\", \"transition\": {\"duration\": 0, \"easing\": \"linear\"}}], \"label\": \"22\", \"method\": \"animate\"}, {\"args\": [[\"23\"], {\"frame\": {\"duration\": 0, \"redraw\": true}, \"fromcurrent\": true, \"mode\": \"immediate\", \"transition\": {\"duration\": 0, \"easing\": \"linear\"}}], \"label\": \"23\", \"method\": \"animate\"}], \"x\": 0.1, \"xanchor\": \"left\", \"y\": 0, \"yanchor\": \"top\"}], \"template\": {\"data\": {\"bar\": [{\"error_x\": {\"color\": \"#2a3f5f\"}, \"error_y\": {\"color\": \"#2a3f5f\"}, \"marker\": {\"line\": {\"color\": \"#E5ECF6\", \"width\": 0.5}}, \"type\": \"bar\"}], \"barpolar\": [{\"marker\": {\"line\": {\"color\": \"#E5ECF6\", \"width\": 0.5}}, \"type\": \"barpolar\"}], \"carpet\": [{\"aaxis\": {\"endlinecolor\": \"#2a3f5f\", \"gridcolor\": \"white\", \"linecolor\": \"white\", \"minorgridcolor\": \"white\", \"startlinecolor\": \"#2a3f5f\"}, \"baxis\": {\"endlinecolor\": \"#2a3f5f\", \"gridcolor\": \"white\", \"linecolor\": \"white\", \"minorgridcolor\": \"white\", \"startlinecolor\": \"#2a3f5f\"}, \"type\": \"carpet\"}], \"choropleth\": [{\"colorbar\": {\"outlinewidth\": 0, \"ticks\": \"\"}, \"type\": \"choropleth\"}], \"contour\": [{\"colorbar\": {\"outlinewidth\": 0, \"ticks\": \"\"}, \"colorscale\": [[0.0, \"#0d0887\"], [0.1111111111111111, \"#46039f\"], [0.2222222222222222, \"#7201a8\"], [0.3333333333333333, \"#9c179e\"], [0.4444444444444444, \"#bd3786\"], [0.5555555555555556, \"#d8576b\"], [0.6666666666666666, \"#ed7953\"], [0.7777777777777778, \"#fb9f3a\"], [0.8888888888888888, \"#fdca26\"], [1.0, \"#f0f921\"]], \"type\": \"contour\"}], \"contourcarpet\": [{\"colorbar\": {\"outlinewidth\": 0, \"ticks\": \"\"}, \"type\": \"contourcarpet\"}], \"heatmap\": [{\"colorbar\": {\"outlinewidth\": 0, \"ticks\": \"\"}, \"colorscale\": [[0.0, \"#0d0887\"], [0.1111111111111111, \"#46039f\"], [0.2222222222222222, \"#7201a8\"], [0.3333333333333333, \"#9c179e\"], [0.4444444444444444, \"#bd3786\"], [0.5555555555555556, \"#d8576b\"], [0.6666666666666666, \"#ed7953\"], [0.7777777777777778, \"#fb9f3a\"], [0.8888888888888888, \"#fdca26\"], [1.0, \"#f0f921\"]], \"type\": \"heatmap\"}], \"heatmapgl\": [{\"colorbar\": {\"outlinewidth\": 0, \"ticks\": \"\"}, \"colorscale\": [[0.0, \"#0d0887\"], [0.1111111111111111, \"#46039f\"], [0.2222222222222222, \"#7201a8\"], [0.3333333333333333, \"#9c179e\"], [0.4444444444444444, \"#bd3786\"], [0.5555555555555556, \"#d8576b\"], [0.6666666666666666, \"#ed7953\"], [0.7777777777777778, \"#fb9f3a\"], [0.8888888888888888, \"#fdca26\"], [1.0, \"#f0f921\"]], \"type\": \"heatmapgl\"}], \"histogram\": [{\"marker\": {\"colorbar\": {\"outlinewidth\": 0, \"ticks\": \"\"}}, \"type\": \"histogram\"}], \"histogram2d\": [{\"colorbar\": {\"outlinewidth\": 0, \"ticks\": \"\"}, \"colorscale\": [[0.0, \"#0d0887\"], [0.1111111111111111, \"#46039f\"], [0.2222222222222222, \"#7201a8\"], [0.3333333333333333, \"#9c179e\"], [0.4444444444444444, \"#bd3786\"], [0.5555555555555556, \"#d8576b\"], [0.6666666666666666, \"#ed7953\"], [0.7777777777777778, \"#fb9f3a\"], [0.8888888888888888, \"#fdca26\"], [1.0, \"#f0f921\"]], \"type\": \"histogram2d\"}], \"histogram2dcontour\": [{\"colorbar\": {\"outlinewidth\": 0, \"ticks\": \"\"}, \"colorscale\": [[0.0, \"#0d0887\"], [0.1111111111111111, \"#46039f\"], [0.2222222222222222, \"#7201a8\"], [0.3333333333333333, \"#9c179e\"], [0.4444444444444444, \"#bd3786\"], [0.5555555555555556, \"#d8576b\"], [0.6666666666666666, \"#ed7953\"], [0.7777777777777778, \"#fb9f3a\"], [0.8888888888888888, \"#fdca26\"], [1.0, \"#f0f921\"]], \"type\": \"histogram2dcontour\"}], \"mesh3d\": [{\"colorbar\": {\"outlinewidth\": 0, \"ticks\": \"\"}, \"type\": \"mesh3d\"}], \"parcoords\": [{\"line\": {\"colorbar\": {\"outlinewidth\": 0, \"ticks\": \"\"}}, \"type\": \"parcoords\"}], \"pie\": [{\"automargin\": true, \"type\": \"pie\"}], \"scatter\": [{\"marker\": {\"colorbar\": {\"outlinewidth\": 0, \"ticks\": \"\"}}, \"type\": \"scatter\"}], \"scatter3d\": [{\"line\": {\"colorbar\": {\"outlinewidth\": 0, \"ticks\": \"\"}}, \"marker\": {\"colorbar\": {\"outlinewidth\": 0, \"ticks\": \"\"}}, \"type\": \"scatter3d\"}], \"scattercarpet\": [{\"marker\": {\"colorbar\": {\"outlinewidth\": 0, \"ticks\": \"\"}}, \"type\": \"scattercarpet\"}], \"scattergeo\": [{\"marker\": {\"colorbar\": {\"outlinewidth\": 0, \"ticks\": \"\"}}, \"type\": \"scattergeo\"}], \"scattergl\": [{\"marker\": {\"colorbar\": {\"outlinewidth\": 0, \"ticks\": \"\"}}, \"type\": \"scattergl\"}], \"scattermapbox\": [{\"marker\": {\"colorbar\": {\"outlinewidth\": 0, \"ticks\": \"\"}}, \"type\": \"scattermapbox\"}], \"scatterpolar\": [{\"marker\": {\"colorbar\": {\"outlinewidth\": 0, \"ticks\": \"\"}}, \"type\": \"scatterpolar\"}], \"scatterpolargl\": [{\"marker\": {\"colorbar\": {\"outlinewidth\": 0, \"ticks\": \"\"}}, \"type\": \"scatterpolargl\"}], \"scatterternary\": [{\"marker\": {\"colorbar\": {\"outlinewidth\": 0, \"ticks\": \"\"}}, \"type\": \"scatterternary\"}], \"surface\": [{\"colorbar\": {\"outlinewidth\": 0, \"ticks\": \"\"}, \"colorscale\": [[0.0, \"#0d0887\"], [0.1111111111111111, \"#46039f\"], [0.2222222222222222, \"#7201a8\"], [0.3333333333333333, \"#9c179e\"], [0.4444444444444444, \"#bd3786\"], [0.5555555555555556, \"#d8576b\"], [0.6666666666666666, \"#ed7953\"], [0.7777777777777778, \"#fb9f3a\"], [0.8888888888888888, \"#fdca26\"], [1.0, \"#f0f921\"]], \"type\": \"surface\"}], \"table\": [{\"cells\": {\"fill\": {\"color\": \"#EBF0F8\"}, \"line\": {\"color\": \"white\"}}, \"header\": {\"fill\": {\"color\": \"#C8D4E3\"}, \"line\": {\"color\": \"white\"}}, \"type\": \"table\"}]}, \"layout\": {\"annotationdefaults\": {\"arrowcolor\": \"#2a3f5f\", \"arrowhead\": 0, \"arrowwidth\": 1}, \"coloraxis\": {\"colorbar\": {\"outlinewidth\": 0, \"ticks\": \"\"}}, \"colorscale\": {\"diverging\": [[0, \"#8e0152\"], [0.1, \"#c51b7d\"], [0.2, \"#de77ae\"], [0.3, \"#f1b6da\"], [0.4, \"#fde0ef\"], [0.5, \"#f7f7f7\"], [0.6, \"#e6f5d0\"], [0.7, \"#b8e186\"], [0.8, \"#7fbc41\"], [0.9, \"#4d9221\"], [1, \"#276419\"]], \"sequential\": [[0.0, \"#0d0887\"], [0.1111111111111111, \"#46039f\"], [0.2222222222222222, \"#7201a8\"], [0.3333333333333333, \"#9c179e\"], [0.4444444444444444, \"#bd3786\"], [0.5555555555555556, \"#d8576b\"], [0.6666666666666666, \"#ed7953\"], [0.7777777777777778, \"#fb9f3a\"], [0.8888888888888888, \"#fdca26\"], [1.0, \"#f0f921\"]], \"sequentialminus\": [[0.0, \"#0d0887\"], [0.1111111111111111, \"#46039f\"], [0.2222222222222222, \"#7201a8\"], [0.3333333333333333, \"#9c179e\"], [0.4444444444444444, \"#bd3786\"], [0.5555555555555556, \"#d8576b\"], [0.6666666666666666, \"#ed7953\"], [0.7777777777777778, \"#fb9f3a\"], [0.8888888888888888, \"#fdca26\"], [1.0, \"#f0f921\"]]}, \"colorway\": [\"#636efa\", \"#EF553B\", \"#00cc96\", \"#ab63fa\", \"#FFA15A\", \"#19d3f3\", \"#FF6692\", \"#B6E880\", \"#FF97FF\", \"#FECB52\"], \"font\": {\"color\": \"#2a3f5f\"}, \"geo\": {\"bgcolor\": \"white\", \"lakecolor\": \"white\", \"landcolor\": \"#E5ECF6\", \"showlakes\": true, \"showland\": true, \"subunitcolor\": \"white\"}, \"hoverlabel\": {\"align\": \"left\"}, \"hovermode\": \"closest\", \"mapbox\": {\"style\": \"light\"}, \"paper_bgcolor\": \"white\", \"plot_bgcolor\": \"#E5ECF6\", \"polar\": {\"angularaxis\": {\"gridcolor\": \"white\", \"linecolor\": \"white\", \"ticks\": \"\"}, \"bgcolor\": \"#E5ECF6\", \"radialaxis\": {\"gridcolor\": \"white\", \"linecolor\": \"white\", \"ticks\": \"\"}}, \"scene\": {\"xaxis\": {\"backgroundcolor\": \"#E5ECF6\", \"gridcolor\": \"white\", \"gridwidth\": 2, \"linecolor\": \"white\", \"showbackground\": true, \"ticks\": \"\", \"zerolinecolor\": \"white\"}, \"yaxis\": {\"backgroundcolor\": \"#E5ECF6\", \"gridcolor\": \"white\", \"gridwidth\": 2, \"linecolor\": \"white\", \"showbackground\": true, \"ticks\": \"\", \"zerolinecolor\": \"white\"}, \"zaxis\": {\"backgroundcolor\": \"#E5ECF6\", \"gridcolor\": \"white\", \"gridwidth\": 2, \"linecolor\": \"white\", \"showbackground\": true, \"ticks\": \"\", \"zerolinecolor\": \"white\"}}, \"shapedefaults\": {\"line\": {\"color\": \"#2a3f5f\"}}, \"ternary\": {\"aaxis\": {\"gridcolor\": \"white\", \"linecolor\": \"white\", \"ticks\": \"\"}, \"baxis\": {\"gridcolor\": \"white\", \"linecolor\": \"white\", \"ticks\": \"\"}, \"bgcolor\": \"#E5ECF6\", \"caxis\": {\"gridcolor\": \"white\", \"linecolor\": \"white\", \"ticks\": \"\"}}, \"title\": {\"x\": 0.05}, \"xaxis\": {\"automargin\": true, \"gridcolor\": \"white\", \"linecolor\": \"white\", \"ticks\": \"\", \"title\": {\"standoff\": 15}, \"zerolinecolor\": \"white\", \"zerolinewidth\": 2}, \"yaxis\": {\"automargin\": true, \"gridcolor\": \"white\", \"linecolor\": \"white\", \"ticks\": \"\", \"title\": {\"standoff\": 15}, \"zerolinecolor\": \"white\", \"zerolinewidth\": 2}}}, \"title\": {\"text\": \"Average waiting time of Elevator Calls by Floor on weekday\"}, \"updatemenus\": [{\"buttons\": [{\"args\": [null, {\"frame\": {\"duration\": 500, \"redraw\": true}, \"fromcurrent\": true, \"mode\": \"immediate\", \"transition\": {\"duration\": 500, \"easing\": \"linear\"}}], \"label\": \"&#9654;\", \"method\": \"animate\"}, {\"args\": [[null], {\"frame\": {\"duration\": 0, \"redraw\": true}, \"fromcurrent\": true, \"mode\": \"immediate\", \"transition\": {\"duration\": 0, \"easing\": \"linear\"}}], \"label\": \"&#9724;\", \"method\": \"animate\"}], \"direction\": \"left\", \"pad\": {\"r\": 10, \"t\": 70}, \"showactive\": false, \"type\": \"buttons\", \"x\": 0.1, \"xanchor\": \"right\", \"y\": 0, \"yanchor\": \"top\"}], \"xaxis\": {\"anchor\": \"y\", \"categoryarray\": [\"1\", \"2\", \"3\", \"4\", \"5\", \"6\", \"7\", \"8\", \"9\", \"10\", \"11\", \"12\", \"13\", \"14\", \"15\", \"B1\", \"B2\", \"B3\", \"B4\"], \"domain\": [0.0, 0.49], \"nticks\": 19, \"title\": {\"text\": \"floor\"}, \"type\": \"category\"}, \"xaxis2\": {\"anchor\": \"y2\", \"categoryarray\": [\"1\", \"2\", \"3\", \"4\", \"5\", \"6\", \"7\", \"8\", \"9\", \"10\", \"11\", \"12\", \"13\", \"14\", \"15\", \"B1\", \"B2\", \"B3\", \"B4\"], \"domain\": [0.51, 1.0], \"matches\": \"x\", \"nticks\": 19, \"title\": {\"text\": \"floor\"}, \"type\": \"category\"}, \"yaxis\": {\"anchor\": \"x\", \"domain\": [0.0, 1.0], \"range\": [0, 200], \"title\": {\"text\": \"avgWait_weekday\"}}, \"yaxis2\": {\"anchor\": \"x2\", \"domain\": [0.0, 1.0], \"matches\": \"y\", \"range\": [0, 200], \"showticklabels\": false}},\n",
       "                        {\"responsive\": true}\n",
       "                    ).then(function(){\n",
       "                            Plotly.addFrames('f0f67a78-5d50-446e-9cea-0c10d8aca3ec', [{\"data\": [{\"alignmentgroup\": \"True\", \"hovertemplate\": \"direction=up<br>Local Time (GMT+8)=0<br>floor=%{x}<br>avgWait_weekday=%{y}<extra></extra>\", \"legendgroup\": \"up\", \"marker\": {\"color\": \"#636efa\"}, \"name\": \"up\", \"offsetgroup\": \"up\", \"orientation\": \"v\", \"showlegend\": true, \"textposition\": \"auto\", \"x\": [1, 6, 7, 8, 13, 14], \"xaxis\": \"x\", \"y\": [22.289828571428565, 16.48611111111111, 11.75, 23.965, 27.98333333333333, 31.1], \"yaxis\": \"y\", \"type\": \"bar\"}, {\"alignmentgroup\": \"True\", \"hovertemplate\": \"direction=down<br>Local Time (GMT+8)=0<br>floor=%{x}<br>avgWait_weekday=%{y}<extra></extra>\", \"legendgroup\": \"down\", \"marker\": {\"color\": \"#EF553B\"}, \"name\": \"down\", \"offsetgroup\": \"down\", \"orientation\": \"v\", \"showlegend\": true, \"textposition\": \"auto\", \"x\": [6, 7, 8, 9, 10, 11, 12, 13, 14, 15], \"xaxis\": \"x2\", \"y\": [20.393, 16.706363636363633, 9.77625, 11.590909090909092, 11.348333333333334, 12.566666666666668, 9.801666666666668, 24.06111111111111, 12.41642857142857, 7.8660000000000005], \"yaxis\": \"y2\", \"type\": \"bar\"}], \"name\": \"0\"}, {\"data\": [{\"alignmentgroup\": \"True\", \"hovertemplate\": \"direction=up<br>Local Time (GMT+8)=1<br>floor=%{x}<br>avgWait_weekday=%{y}<extra></extra>\", \"legendgroup\": \"up\", \"marker\": {\"color\": \"#636efa\"}, \"name\": \"up\", \"offsetgroup\": \"up\", \"orientation\": \"v\", \"showlegend\": true, \"textposition\": \"auto\", \"x\": [1, 6, 7, 8, 13], \"xaxis\": \"x\", \"y\": [23.06017699115045, 19.591590909090904, 15.488666666666667, 10.049285714285716, 44.14], \"yaxis\": \"y\", \"type\": \"bar\"}, {\"alignmentgroup\": \"True\", \"hovertemplate\": \"direction=down<br>Local Time (GMT+8)=1<br>floor=%{x}<br>avgWait_weekday=%{y}<extra></extra>\", \"legendgroup\": \"down\", \"marker\": {\"color\": \"#EF553B\"}, \"name\": \"down\", \"offsetgroup\": \"down\", \"orientation\": \"v\", \"showlegend\": true, \"textposition\": \"auto\", \"x\": [6, 7, 8, 9, 10, 11, 12, 13, 14, 15], \"xaxis\": \"x2\", \"y\": [14.911666666666667, 14.78, 13.004000000000001, 10.717, 9.282222222222222, 19.665, 4.644285714285715, 16.64090909090909, 9.06, 3.76], \"yaxis\": \"y2\", \"type\": \"bar\"}], \"name\": \"1\"}, {\"data\": [{\"alignmentgroup\": \"True\", \"hovertemplate\": \"direction=up<br>Local Time (GMT+8)=2<br>floor=%{x}<br>avgWait_weekday=%{y}<extra></extra>\", \"legendgroup\": \"up\", \"marker\": {\"color\": \"#636efa\"}, \"name\": \"up\", \"offsetgroup\": \"up\", \"orientation\": \"v\", \"showlegend\": true, \"textposition\": \"auto\", \"x\": [1, 6, 7, 8, 9, 14], \"xaxis\": \"x\", \"y\": [23.97, 16.70714285714286, 17.5725, 5.473333333333333, 2.72, 1.335], \"yaxis\": \"y\", \"type\": \"bar\"}, {\"alignmentgroup\": \"True\", \"hovertemplate\": \"direction=down<br>Local Time (GMT+8)=2<br>floor=%{x}<br>avgWait_weekday=%{y}<extra></extra>\", \"legendgroup\": \"down\", \"marker\": {\"color\": \"#EF553B\"}, \"name\": \"down\", \"offsetgroup\": \"down\", \"orientation\": \"v\", \"showlegend\": true, \"textposition\": \"auto\", \"x\": [6, 7, 8, 9, 10, 11, 12, 13, 14, 15], \"xaxis\": \"x2\", \"y\": [6.065, 10.0, 14.502222222222226, 11.105714285714289, 12.0775, 8.45, 9.406666666666666, 7.984, 11.273333333333332, 12.589999999999998], \"yaxis\": \"y2\", \"type\": \"bar\"}], \"name\": \"2\"}, {\"data\": [{\"alignmentgroup\": \"True\", \"hovertemplate\": \"direction=up<br>Local Time (GMT+8)=3<br>floor=%{x}<br>avgWait_weekday=%{y}<extra></extra>\", \"legendgroup\": \"up\", \"marker\": {\"color\": \"#636efa\"}, \"name\": \"up\", \"offsetgroup\": \"up\", \"orientation\": \"v\", \"showlegend\": true, \"textposition\": \"auto\", \"x\": [1, 6, 7, 8, 9, 10, 11, 14], \"xaxis\": \"x\", \"y\": [22.38230769230769, 15.359000000000002, 5.41, 1.59, 1.175, 8.88, 1.3650000000000002, 16.31], \"yaxis\": \"y\", \"type\": \"bar\"}, {\"alignmentgroup\": \"True\", \"hovertemplate\": \"direction=down<br>Local Time (GMT+8)=3<br>floor=%{x}<br>avgWait_weekday=%{y}<extra></extra>\", \"legendgroup\": \"down\", \"marker\": {\"color\": \"#EF553B\"}, \"name\": \"down\", \"offsetgroup\": \"down\", \"orientation\": \"v\", \"showlegend\": true, \"textposition\": \"auto\", \"x\": [8, 10, 11, 12, 13, 14, 15], \"xaxis\": \"x2\", \"y\": [4.794, 20.273333333333333, 17.09, 1.36, 5.7650000000000015, 9.25, 15.013333333333335], \"yaxis\": \"y2\", \"type\": \"bar\"}], \"name\": \"3\"}, {\"data\": [{\"alignmentgroup\": \"True\", \"hovertemplate\": \"direction=up<br>Local Time (GMT+8)=4<br>floor=%{x}<br>avgWait_weekday=%{y}<extra></extra>\", \"legendgroup\": \"up\", \"marker\": {\"color\": \"#636efa\"}, \"name\": \"up\", \"offsetgroup\": \"up\", \"orientation\": \"v\", \"showlegend\": true, \"textposition\": \"auto\", \"x\": [1, 6, 7, 13], \"xaxis\": \"x\", \"y\": [10.553333333333333, 15.560714285714285, 20.51, 0.61], \"yaxis\": \"y\", \"type\": \"bar\"}, {\"alignmentgroup\": \"True\", \"hovertemplate\": \"direction=down<br>Local Time (GMT+8)=4<br>floor=%{x}<br>avgWait_weekday=%{y}<extra></extra>\", \"legendgroup\": \"down\", \"marker\": {\"color\": \"#EF553B\"}, \"name\": \"down\", \"offsetgroup\": \"down\", \"orientation\": \"v\", \"showlegend\": true, \"textposition\": \"auto\", \"x\": [7, 8, 9, 10, 11, 12, 13, 14, 15], \"xaxis\": \"x2\", \"y\": [14.010000000000002, 11.402, 19.72, 13.6, 8.73, 15.99, 17.286666666666665, 7.935, 2.72], \"yaxis\": \"y2\", \"type\": \"bar\"}], \"name\": \"4\"}, {\"data\": [{\"alignmentgroup\": \"True\", \"hovertemplate\": \"direction=up<br>Local Time (GMT+8)=5<br>floor=%{x}<br>avgWait_weekday=%{y}<extra></extra>\", \"legendgroup\": \"up\", \"marker\": {\"color\": \"#636efa\"}, \"name\": \"up\", \"offsetgroup\": \"up\", \"orientation\": \"v\", \"showlegend\": true, \"textposition\": \"auto\", \"x\": [1, 6, 7, 8, 10], \"xaxis\": \"x\", \"y\": [9.951666666666666, 9.56, 18.407000000000004, 17.405, 18.95], \"yaxis\": \"y\", \"type\": \"bar\"}, {\"alignmentgroup\": \"True\", \"hovertemplate\": \"direction=down<br>Local Time (GMT+8)=5<br>floor=%{x}<br>avgWait_weekday=%{y}<extra></extra>\", \"legendgroup\": \"down\", \"marker\": {\"color\": \"#EF553B\"}, \"name\": \"down\", \"offsetgroup\": \"down\", \"orientation\": \"v\", \"showlegend\": true, \"textposition\": \"auto\", \"x\": [7, 8, 9, 10, 11, 12, 13, 14, 15], \"xaxis\": \"x2\", \"y\": [19.635, 13.659444444444444, 15.01125, 15.293, 21.285, 13.19, 27.205, 16.28, 21.775], \"yaxis\": \"y2\", \"type\": \"bar\"}], \"name\": \"5\"}, {\"data\": [{\"alignmentgroup\": \"True\", \"hovertemplate\": \"direction=up<br>Local Time (GMT+8)=6<br>floor=%{x}<br>avgWait_weekday=%{y}<extra></extra>\", \"legendgroup\": \"up\", \"marker\": {\"color\": \"#636efa\"}, \"name\": \"up\", \"offsetgroup\": \"up\", \"orientation\": \"v\", \"showlegend\": true, \"textposition\": \"auto\", \"x\": [1, 6, 7, 8, 9, 10, 11, 12, 13, 14], \"xaxis\": \"x\", \"y\": [5.882166666666667, 20.820263157894736, 27.04473684210526, 21.336, 17.04, 22.46333333333333, 30.6425, 34.64, 37.48666666666667, 35.4025], \"yaxis\": \"y\", \"type\": \"bar\"}, {\"alignmentgroup\": \"True\", \"hovertemplate\": \"direction=down<br>Local Time (GMT+8)=6<br>floor=%{x}<br>avgWait_weekday=%{y}<extra></extra>\", \"legendgroup\": \"down\", \"marker\": {\"color\": \"#EF553B\"}, \"name\": \"down\", \"offsetgroup\": \"down\", \"orientation\": \"v\", \"showlegend\": true, \"textposition\": \"auto\", \"x\": [6, 7, 8, 9, 10, 11, 12, 13, 14, 15], \"xaxis\": \"x2\", \"y\": [23.63636363636364, 23.26129310344827, 22.40375, 18.260300751879694, 19.415730337078653, 19.54745098039216, 24.235476190476195, 16.00793103448276, 21.223000000000006, 24.276136363636365], \"yaxis\": \"y2\", \"type\": \"bar\"}], \"name\": \"6\"}, {\"data\": [{\"alignmentgroup\": \"True\", \"hovertemplate\": \"direction=up<br>Local Time (GMT+8)=7<br>floor=%{x}<br>avgWait_weekday=%{y}<extra></extra>\", \"legendgroup\": \"up\", \"marker\": {\"color\": \"#636efa\"}, \"name\": \"up\", \"offsetgroup\": \"up\", \"orientation\": \"v\", \"showlegend\": true, \"textposition\": \"auto\", \"x\": [1, 6, 7, 8, 9, 11, 12, 13, 14], \"xaxis\": \"x\", \"y\": [16.271751824817517, 15.19783783783784, 22.2, 24.348000000000006, 20.8, 16.626666666666665, 17.213333333333335, 17.777142857142856, 18.35], \"yaxis\": \"y\", \"type\": \"bar\"}, {\"alignmentgroup\": \"True\", \"hovertemplate\": \"direction=down<br>Local Time (GMT+8)=7<br>floor=%{x}<br>avgWait_weekday=%{y}<extra></extra>\", \"legendgroup\": \"down\", \"marker\": {\"color\": \"#EF553B\"}, \"name\": \"down\", \"offsetgroup\": \"down\", \"orientation\": \"v\", \"showlegend\": true, \"textposition\": \"auto\", \"x\": [6, 7, 8, 9, 10, 11, 12, 13, 14, 15], \"xaxis\": \"x2\", \"y\": [20.4475, 26.252033898305086, 31.671470588235287, 16.15383838383838, 15.95768115942029, 16.52366336633663, 18.742916666666666, 18.992604166666666, 22.289753086419754, 21.766], \"yaxis\": \"y2\", \"type\": \"bar\"}], \"name\": \"7\"}, {\"data\": [{\"alignmentgroup\": \"True\", \"hovertemplate\": \"direction=up<br>Local Time (GMT+8)=8<br>floor=%{x}<br>avgWait_weekday=%{y}<extra></extra>\", \"legendgroup\": \"up\", \"marker\": {\"color\": \"#636efa\"}, \"name\": \"up\", \"offsetgroup\": \"up\", \"orientation\": \"v\", \"showlegend\": true, \"textposition\": \"auto\", \"x\": [1, 6, 7, 8, 9, 10, 11, 12, 13, 14], \"xaxis\": \"x\", \"y\": [17.164540816326532, 18.523636363636363, 18.30125, 19.911578947368426, 20.41, 28.26, 24.545, 17.015, 9.75, 22.506666666666664], \"yaxis\": \"y\", \"type\": \"bar\"}, {\"alignmentgroup\": \"True\", \"hovertemplate\": \"direction=down<br>Local Time (GMT+8)=8<br>floor=%{x}<br>avgWait_weekday=%{y}<extra></extra>\", \"legendgroup\": \"down\", \"marker\": {\"color\": \"#EF553B\"}, \"name\": \"down\", \"offsetgroup\": \"down\", \"orientation\": \"v\", \"showlegend\": true, \"textposition\": \"auto\", \"x\": [6, 7, 8, 9, 10, 11, 12, 13, 14, 15], \"xaxis\": \"x2\", \"y\": [22.577936507936506, 19.47875, 22.515555555555554, 16.876756756756755, 24.23896551724138, 19.509090909090904, 21.030571428571434, 22.796304347826084, 23.9412676056338, 19.339454545454547], \"yaxis\": \"y2\", \"type\": \"bar\"}], \"name\": \"8\"}, {\"data\": [{\"alignmentgroup\": \"True\", \"hovertemplate\": \"direction=up<br>Local Time (GMT+8)=9<br>floor=%{x}<br>avgWait_weekday=%{y}<extra></extra>\", \"legendgroup\": \"up\", \"marker\": {\"color\": \"#636efa\"}, \"name\": \"up\", \"offsetgroup\": \"up\", \"orientation\": \"v\", \"showlegend\": true, \"textposition\": \"auto\", \"x\": [1, 6, 7, 8, 9, 10, 11, 12, 13, 14], \"xaxis\": \"x\", \"y\": [15.037892156862746, 20.15442105263158, 20.11615384615385, 23.717857142857138, 27.58, 33.160000000000004, 25.975, 18.166666666666668, 11.025, 2.4833333333333334], \"yaxis\": \"y\", \"type\": \"bar\"}, {\"alignmentgroup\": \"True\", \"hovertemplate\": \"direction=down<br>Local Time (GMT+8)=9<br>floor=%{x}<br>avgWait_weekday=%{y}<extra></extra>\", \"legendgroup\": \"down\", \"marker\": {\"color\": \"#EF553B\"}, \"name\": \"down\", \"offsetgroup\": \"down\", \"orientation\": \"v\", \"showlegend\": true, \"textposition\": \"auto\", \"x\": [6, 7, 8, 9, 10, 11, 12, 13, 14, 15], \"xaxis\": \"x2\", \"y\": [17.96952380952381, 19.885, 22.129069767441862, 18.935757575757574, 16.1821875, 13.068148148148149, 19.934285714285714, 19.482916666666668, 26.082857142857147, 17.671], \"yaxis\": \"y2\", \"type\": \"bar\"}], \"name\": \"9\"}, {\"data\": [{\"alignmentgroup\": \"True\", \"hovertemplate\": \"direction=up<br>Local Time (GMT+8)=10<br>floor=%{x}<br>avgWait_weekday=%{y}<extra></extra>\", \"legendgroup\": \"up\", \"marker\": {\"color\": \"#636efa\"}, \"name\": \"up\", \"offsetgroup\": \"up\", \"orientation\": \"v\", \"showlegend\": true, \"textposition\": \"auto\", \"x\": [1, 6, 7, 8, 10, 14], \"xaxis\": \"x\", \"y\": [12.99259493670886, 16.906973684210527, 14.4875, 6.67, 52.59, 10.87], \"yaxis\": \"y\", \"type\": \"bar\"}, {\"alignmentgroup\": \"True\", \"hovertemplate\": \"direction=down<br>Local Time (GMT+8)=10<br>floor=%{x}<br>avgWait_weekday=%{y}<extra></extra>\", \"legendgroup\": \"down\", \"marker\": {\"color\": \"#EF553B\"}, \"name\": \"down\", \"offsetgroup\": \"down\", \"orientation\": \"v\", \"showlegend\": true, \"textposition\": \"auto\", \"x\": [6, 7, 8, 9, 10, 11, 12, 13, 14, 15], \"xaxis\": \"x2\", \"y\": [20.757333333333328, 16.833260869565216, 21.40065217391304, 18.272820512820516, 21.16125, 18.27851851851852, 18.44, 14.28125, 22.91282051282051, 18.545769230769228], \"yaxis\": \"y2\", \"type\": \"bar\"}], \"name\": \"10\"}, {\"data\": [{\"alignmentgroup\": \"True\", \"hovertemplate\": \"direction=up<br>Local Time (GMT+8)=11<br>floor=%{x}<br>avgWait_weekday=%{y}<extra></extra>\", \"legendgroup\": \"up\", \"marker\": {\"color\": \"#636efa\"}, \"name\": \"up\", \"offsetgroup\": \"up\", \"orientation\": \"v\", \"showlegend\": true, \"textposition\": \"auto\", \"x\": [1, 6, 7, 8, 9, 13, 14], \"xaxis\": \"x\", \"y\": [13.437295918367347, 18.0202, 9.385, 18.9775, 45.54, 5.25, 36.49], \"yaxis\": \"y\", \"type\": \"bar\"}, {\"alignmentgroup\": \"True\", \"hovertemplate\": \"direction=down<br>Local Time (GMT+8)=11<br>floor=%{x}<br>avgWait_weekday=%{y}<extra></extra>\", \"legendgroup\": \"down\", \"marker\": {\"color\": \"#EF553B\"}, \"name\": \"down\", \"offsetgroup\": \"down\", \"orientation\": \"v\", \"showlegend\": true, \"textposition\": \"auto\", \"x\": [6, 7, 8, 9, 10, 11, 12, 13, 14, 15], \"xaxis\": \"x2\", \"y\": [20.091451612903224, 19.7003125, 20.392280701754387, 18.85272727272727, 17.60514285714286, 20.33676470588236, 20.17571428571428, 23.09190476190476, 17.395, 21.000731707317073], \"yaxis\": \"y2\", \"type\": \"bar\"}], \"name\": \"11\"}, {\"data\": [{\"alignmentgroup\": \"True\", \"hovertemplate\": \"direction=up<br>Local Time (GMT+8)=12<br>floor=%{x}<br>avgWait_weekday=%{y}<extra></extra>\", \"legendgroup\": \"up\", \"marker\": {\"color\": \"#636efa\"}, \"name\": \"up\", \"offsetgroup\": \"up\", \"orientation\": \"v\", \"showlegend\": true, \"textposition\": \"auto\", \"x\": [1, 6, 7, 8, 12, 13], \"xaxis\": \"x\", \"y\": [14.334549549549552, 15.674, 22.33666666666667, 16.415714285714284, 35.75, 16.37], \"yaxis\": \"y\", \"type\": \"bar\"}, {\"alignmentgroup\": \"True\", \"hovertemplate\": \"direction=down<br>Local Time (GMT+8)=12<br>floor=%{x}<br>avgWait_weekday=%{y}<extra></extra>\", \"legendgroup\": \"down\", \"marker\": {\"color\": \"#EF553B\"}, \"name\": \"down\", \"offsetgroup\": \"down\", \"orientation\": \"v\", \"showlegend\": true, \"textposition\": \"auto\", \"x\": [6, 7, 8, 9, 10, 11, 12, 13, 14, 15], \"xaxis\": \"x2\", \"y\": [20.40657142857143, 20.328166666666668, 18.4425, 18.76545454545455, 18.807916666666667, 19.82292682926829, 18.318064516129034, 22.35034482758621, 15.5559375, 22.721176470588237], \"yaxis\": \"y2\", \"type\": \"bar\"}], \"name\": \"12\"}, {\"data\": [{\"alignmentgroup\": \"True\", \"hovertemplate\": \"direction=up<br>Local Time (GMT+8)=13<br>floor=%{x}<br>avgWait_weekday=%{y}<extra></extra>\", \"legendgroup\": \"up\", \"marker\": {\"color\": \"#636efa\"}, \"name\": \"up\", \"offsetgroup\": \"up\", \"orientation\": \"v\", \"showlegend\": true, \"textposition\": \"auto\", \"x\": [1, 6, 7, 8, 9, 10, 11, 12, 13], \"xaxis\": \"x\", \"y\": [14.567554585152841, 19.99566265060241, 16.3675, 19.379333333333328, 19.185, 75.14, 28.995, 29.12, 19.055], \"yaxis\": \"y\", \"type\": \"bar\"}, {\"alignmentgroup\": \"True\", \"hovertemplate\": \"direction=down<br>Local Time (GMT+8)=13<br>floor=%{x}<br>avgWait_weekday=%{y}<extra></extra>\", \"legendgroup\": \"down\", \"marker\": {\"color\": \"#EF553B\"}, \"name\": \"down\", \"offsetgroup\": \"down\", \"orientation\": \"v\", \"showlegend\": true, \"textposition\": \"auto\", \"x\": [6, 7, 8, 9, 10, 11, 12, 13, 14, 15], \"xaxis\": \"x2\", \"y\": [15.525625, 20.1082, 28.05109090909091, 16.520200000000006, 22.636969696969697, 18.941470588235294, 23.31921052631579, 21.23409090909091, 21.2514, 20.899545454545454], \"yaxis\": \"y2\", \"type\": \"bar\"}], \"name\": \"13\"}, {\"data\": [{\"alignmentgroup\": \"True\", \"hovertemplate\": \"direction=up<br>Local Time (GMT+8)=14<br>floor=%{x}<br>avgWait_weekday=%{y}<extra></extra>\", \"legendgroup\": \"up\", \"marker\": {\"color\": \"#636efa\"}, \"name\": \"up\", \"offsetgroup\": \"up\", \"orientation\": \"v\", \"showlegend\": true, \"textposition\": \"auto\", \"x\": [1, 6, 7, 8, 9, 10, 11, 12, 13, 14], \"xaxis\": \"x\", \"y\": [14.537017543859651, 21.926923076923078, 17.768888888888892, 16.532222222222227, 18.616666666666667, 13.61, 37.54, 18.025, 23.9, 2.4], \"yaxis\": \"y\", \"type\": \"bar\"}, {\"alignmentgroup\": \"True\", \"hovertemplate\": \"direction=down<br>Local Time (GMT+8)=14<br>floor=%{x}<br>avgWait_weekday=%{y}<extra></extra>\", \"legendgroup\": \"down\", \"marker\": {\"color\": \"#EF553B\"}, \"name\": \"down\", \"offsetgroup\": \"down\", \"orientation\": \"v\", \"showlegend\": true, \"textposition\": \"auto\", \"x\": [6, 7, 8, 9, 10, 11, 12, 13, 14, 15], \"xaxis\": \"x2\", \"y\": [25.519642857142852, 20.803684210526317, 19.862244897959183, 18.147368421052636, 16.07785714285714, 19.873720930232558, 17.155192307692307, 27.00392857142857, 18.63379310344828, 23.288461538461537], \"yaxis\": \"y2\", \"type\": \"bar\"}], \"name\": \"14\"}, {\"data\": [{\"alignmentgroup\": \"True\", \"hovertemplate\": \"direction=up<br>Local Time (GMT+8)=15<br>floor=%{x}<br>avgWait_weekday=%{y}<extra></extra>\", \"legendgroup\": \"up\", \"marker\": {\"color\": \"#636efa\"}, \"name\": \"up\", \"offsetgroup\": \"up\", \"orientation\": \"v\", \"showlegend\": true, \"textposition\": \"auto\", \"x\": [1, 6, 7, 8, 9, 10, 11, 12, 13, 14], \"xaxis\": \"x\", \"y\": [14.498481012658232, 14.67942857142857, 14.536, 12.424, 20.73, 14.293333333333333, 6.59, 31.34666666666667, 32.61, 12.106666666666667], \"yaxis\": \"y\", \"type\": \"bar\"}, {\"alignmentgroup\": \"True\", \"hovertemplate\": \"direction=down<br>Local Time (GMT+8)=15<br>floor=%{x}<br>avgWait_weekday=%{y}<extra></extra>\", \"legendgroup\": \"down\", \"marker\": {\"color\": \"#EF553B\"}, \"name\": \"down\", \"offsetgroup\": \"down\", \"orientation\": \"v\", \"showlegend\": true, \"textposition\": \"auto\", \"x\": [6, 7, 8, 9, 10, 11, 12, 13, 14, 15], \"xaxis\": \"x2\", \"y\": [16.73033333333333, 22.219183673469384, 20.76642857142857, 17.040128205128205, 16.304181818181814, 19.11730769230769, 13.924102564102563, 16.414516129032258, 21.23424242424242, 23.53113636363636], \"yaxis\": \"y2\", \"type\": \"bar\"}], \"name\": \"15\"}, {\"data\": [{\"alignmentgroup\": \"True\", \"hovertemplate\": \"direction=up<br>Local Time (GMT+8)=16<br>floor=%{x}<br>avgWait_weekday=%{y}<extra></extra>\", \"legendgroup\": \"up\", \"marker\": {\"color\": \"#636efa\"}, \"name\": \"up\", \"offsetgroup\": \"up\", \"orientation\": \"v\", \"showlegend\": true, \"textposition\": \"auto\", \"x\": [1, 6, 7, 8, 9, 10, 13, 14], \"xaxis\": \"x\", \"y\": [14.375535714285714, 19.326689655172405, 12.02, 18.3425, 8.15, 17.685, 27.06, 12.25], \"yaxis\": \"y\", \"type\": \"bar\"}, {\"alignmentgroup\": \"True\", \"hovertemplate\": \"direction=down<br>Local Time (GMT+8)=16<br>floor=%{x}<br>avgWait_weekday=%{y}<extra></extra>\", \"legendgroup\": \"down\", \"marker\": {\"color\": \"#EF553B\"}, \"name\": \"down\", \"offsetgroup\": \"down\", \"orientation\": \"v\", \"showlegend\": true, \"textposition\": \"auto\", \"x\": [6, 7, 8, 9, 10, 11, 12, 13, 14, 15], \"xaxis\": \"x2\", \"y\": [18.98767123287671, 20.9518, 18.874, 17.887249999999995, 17.853793103448275, 18.13, 24.820434782608697, 17.057666666666666, 20.587391304347825, 19.51285714285714], \"yaxis\": \"y2\", \"type\": \"bar\"}], \"name\": \"16\"}, {\"data\": [{\"alignmentgroup\": \"True\", \"hovertemplate\": \"direction=up<br>Local Time (GMT+8)=17<br>floor=%{x}<br>avgWait_weekday=%{y}<extra></extra>\", \"legendgroup\": \"up\", \"marker\": {\"color\": \"#636efa\"}, \"name\": \"up\", \"offsetgroup\": \"up\", \"orientation\": \"v\", \"showlegend\": true, \"textposition\": \"auto\", \"x\": [1, 6, 7, 8, 9, 10, 12, 13], \"xaxis\": \"x\", \"y\": [19.96963235294118, 21.367722772277233, 12.541666666666664, 22.885555555555552, 57.14000000000001, 5.91, 24.46, 16.09], \"yaxis\": \"y\", \"type\": \"bar\"}, {\"alignmentgroup\": \"True\", \"hovertemplate\": \"direction=down<br>Local Time (GMT+8)=17<br>floor=%{x}<br>avgWait_weekday=%{y}<extra></extra>\", \"legendgroup\": \"down\", \"marker\": {\"color\": \"#EF553B\"}, \"name\": \"down\", \"offsetgroup\": \"down\", \"orientation\": \"v\", \"showlegend\": true, \"textposition\": \"auto\", \"x\": [6, 7, 8, 9, 10, 11, 12, 13, 14, 15], \"xaxis\": \"x2\", \"y\": [23.649245283018864, 27.703725490196074, 23.864693877551023, 18.405833333333334, 19.959090909090904, 22.501951219512197, 21.081666666666667, 24.27425531914893, 21.77267857142857, 27.44232142857143], \"yaxis\": \"y2\", \"type\": \"bar\"}], \"name\": \"17\"}, {\"data\": [{\"alignmentgroup\": \"True\", \"hovertemplate\": \"direction=up<br>Local Time (GMT+8)=18<br>floor=%{x}<br>avgWait_weekday=%{y}<extra></extra>\", \"legendgroup\": \"up\", \"marker\": {\"color\": \"#636efa\"}, \"name\": \"up\", \"offsetgroup\": \"up\", \"orientation\": \"v\", \"showlegend\": true, \"textposition\": \"auto\", \"x\": [1, 6, 7, 8, 10, 11, 13, 14], \"xaxis\": \"x\", \"y\": [16.962409638554217, 21.007763157894736, 20.663333333333334, 13.5644, 17.68, 13.61, 32.04666666666667, 8.212], \"yaxis\": \"y\", \"type\": \"bar\"}, {\"alignmentgroup\": \"True\", \"hovertemplate\": \"direction=down<br>Local Time (GMT+8)=18<br>floor=%{x}<br>avgWait_weekday=%{y}<extra></extra>\", \"legendgroup\": \"down\", \"marker\": {\"color\": \"#EF553B\"}, \"name\": \"down\", \"offsetgroup\": \"down\", \"orientation\": \"v\", \"showlegend\": true, \"textposition\": \"auto\", \"x\": [6, 7, 8, 9, 10, 11, 12, 13, 14, 15], \"xaxis\": \"x2\", \"y\": [19.5221875, 27.328444444444447, 24.560526315789474, 17.028035714285714, 22.74717948717949, 27.036176470588234, 14.403571428571427, 18.109642857142852, 21.833137254901963, 19.458181818181817], \"yaxis\": \"y2\", \"type\": \"bar\"}], \"name\": \"18\"}, {\"data\": [{\"alignmentgroup\": \"True\", \"hovertemplate\": \"direction=up<br>Local Time (GMT+8)=19<br>floor=%{x}<br>avgWait_weekday=%{y}<extra></extra>\", \"legendgroup\": \"up\", \"marker\": {\"color\": \"#636efa\"}, \"name\": \"up\", \"offsetgroup\": \"up\", \"orientation\": \"v\", \"showlegend\": true, \"textposition\": \"auto\", \"x\": [1, 6, 7, 8, 9, 12, 14], \"xaxis\": \"x\", \"y\": [17.875589519650656, 19.264565217391304, 18.523333333333326, 18.81111111111111, 27.255000000000006, 12.14, 27.596666666666664], \"yaxis\": \"y\", \"type\": \"bar\"}, {\"alignmentgroup\": \"True\", \"hovertemplate\": \"direction=down<br>Local Time (GMT+8)=19<br>floor=%{x}<br>avgWait_weekday=%{y}<extra></extra>\", \"legendgroup\": \"down\", \"marker\": {\"color\": \"#EF553B\"}, \"name\": \"down\", \"offsetgroup\": \"down\", \"orientation\": \"v\", \"showlegend\": true, \"textposition\": \"auto\", \"x\": [6, 7, 8, 9, 10, 11, 12, 13, 14, 15], \"xaxis\": \"x2\", \"y\": [25.08703703703704, 26.13607142857143, 19.82096774193549, 18.584102564102565, 12.3624, 16.056857142857144, 19.564666666666668, 17.1735, 17.1215625, 25.903714285714287], \"yaxis\": \"y2\", \"type\": \"bar\"}], \"name\": \"19\"}, {\"data\": [{\"alignmentgroup\": \"True\", \"hovertemplate\": \"direction=up<br>Local Time (GMT+8)=20<br>floor=%{x}<br>avgWait_weekday=%{y}<extra></extra>\", \"legendgroup\": \"up\", \"marker\": {\"color\": \"#636efa\"}, \"name\": \"up\", \"offsetgroup\": \"up\", \"orientation\": \"v\", \"showlegend\": true, \"textposition\": \"auto\", \"x\": [1, 6, 7, 8, 9, 10, 11, 14], \"xaxis\": \"x\", \"y\": [20.314380530973448, 17.247272727272726, 9.818, 24.44611111111111, 29.79, 69.4, 45.365, 13.595], \"yaxis\": \"y\", \"type\": \"bar\"}, {\"alignmentgroup\": \"True\", \"hovertemplate\": \"direction=down<br>Local Time (GMT+8)=20<br>floor=%{x}<br>avgWait_weekday=%{y}<extra></extra>\", \"legendgroup\": \"down\", \"marker\": {\"color\": \"#EF553B\"}, \"name\": \"down\", \"offsetgroup\": \"down\", \"orientation\": \"v\", \"showlegend\": true, \"textposition\": \"auto\", \"x\": [6, 7, 8, 9, 10, 11, 12, 13, 14, 15], \"xaxis\": \"x2\", \"y\": [30.455, 21.81166666666667, 15.2925, 16.043030303030307, 17.800714285714285, 23.256666666666664, 22.176666666666666, 15.716666666666667, 19.1708, 18.075294117647054], \"yaxis\": \"y2\", \"type\": \"bar\"}], \"name\": \"20\"}, {\"data\": [{\"alignmentgroup\": \"True\", \"hovertemplate\": \"direction=up<br>Local Time (GMT+8)=21<br>floor=%{x}<br>avgWait_weekday=%{y}<extra></extra>\", \"legendgroup\": \"up\", \"marker\": {\"color\": \"#636efa\"}, \"name\": \"up\", \"offsetgroup\": \"up\", \"orientation\": \"v\", \"showlegend\": true, \"textposition\": \"auto\", \"x\": [1, 6, 7, 8, 9, 10, 11, 12, 13, 14], \"xaxis\": \"x\", \"y\": [20.909330708661415, 18.03189473684211, 15.643333333333334, 18.126666666666665, 10.89, 31.62, 20.3, 14.8, 25.45666666666667, 10.89], \"yaxis\": \"y\", \"type\": \"bar\"}, {\"alignmentgroup\": \"True\", \"hovertemplate\": \"direction=down<br>Local Time (GMT+8)=21<br>floor=%{x}<br>avgWait_weekday=%{y}<extra></extra>\", \"legendgroup\": \"down\", \"marker\": {\"color\": \"#EF553B\"}, \"name\": \"down\", \"offsetgroup\": \"down\", \"orientation\": \"v\", \"showlegend\": true, \"textposition\": \"auto\", \"x\": [6, 7, 8, 9, 10, 11, 12, 13, 14, 15], \"xaxis\": \"x2\", \"y\": [29.28142857142857, 21.8435, 14.432352941176472, 22.638636363636365, 13.46, 15.222105263157893, 19.69, 19.153571428571436, 22.852, 22.3285], \"yaxis\": \"y2\", \"type\": \"bar\"}], \"name\": \"21\"}, {\"data\": [{\"alignmentgroup\": \"True\", \"hovertemplate\": \"direction=up<br>Local Time (GMT+8)=22<br>floor=%{x}<br>avgWait_weekday=%{y}<extra></extra>\", \"legendgroup\": \"up\", \"marker\": {\"color\": \"#636efa\"}, \"name\": \"up\", \"offsetgroup\": \"up\", \"orientation\": \"v\", \"showlegend\": true, \"textposition\": \"auto\", \"x\": [1, 6, 7, 8, 10, 13, 14], \"xaxis\": \"x\", \"y\": [17.001761904761903, 16.419999999999998, 16.605, 15.131333333333336, 24.47, 34.004999999999995, 42.605], \"yaxis\": \"y\", \"type\": \"bar\"}, {\"alignmentgroup\": \"True\", \"hovertemplate\": \"direction=down<br>Local Time (GMT+8)=22<br>floor=%{x}<br>avgWait_weekday=%{y}<extra></extra>\", \"legendgroup\": \"down\", \"marker\": {\"color\": \"#EF553B\"}, \"name\": \"down\", \"offsetgroup\": \"down\", \"orientation\": \"v\", \"showlegend\": true, \"textposition\": \"auto\", \"x\": [6, 7, 8, 9, 10, 11, 12, 13, 14, 15], \"xaxis\": \"x2\", \"y\": [9.543333333333337, 21.518372093023252, 20.37357142857143, 19.55128205128205, 17.082750000000004, 18.935555555555556, 15.7832, 19.24448275862069, 21.3, 22.154193548387095], \"yaxis\": \"y2\", \"type\": \"bar\"}], \"name\": \"22\"}, {\"data\": [{\"alignmentgroup\": \"True\", \"hovertemplate\": \"direction=up<br>Local Time (GMT+8)=23<br>floor=%{x}<br>avgWait_weekday=%{y}<extra></extra>\", \"legendgroup\": \"up\", \"marker\": {\"color\": \"#636efa\"}, \"name\": \"up\", \"offsetgroup\": \"up\", \"orientation\": \"v\", \"showlegend\": true, \"textposition\": \"auto\", \"x\": [1, 6, 7, 8, 9, 12, 13, 14], \"xaxis\": \"x\", \"y\": [17.43643410852713, 19.57888888888889, 11.420000000000002, 19.174285714285716, 29.915, 19.04, 16.028, 8.605], \"yaxis\": \"y\", \"type\": \"bar\"}, {\"alignmentgroup\": \"True\", \"hovertemplate\": \"direction=down<br>Local Time (GMT+8)=23<br>floor=%{x}<br>avgWait_weekday=%{y}<extra></extra>\", \"legendgroup\": \"down\", \"marker\": {\"color\": \"#EF553B\"}, \"name\": \"down\", \"offsetgroup\": \"down\", \"orientation\": \"v\", \"showlegend\": true, \"textposition\": \"auto\", \"x\": [6, 7, 8, 9, 10, 11, 12, 13, 14, 15], \"xaxis\": \"x2\", \"y\": [32.305, 20.91676470588235, 18.747, 17.23131578947369, 18.36878787878788, 21.00228571428572, 16.798636363636362, 14.5075, 22.38413793103448, 23.24727272727273], \"yaxis\": \"y2\", \"type\": \"bar\"}], \"name\": \"23\"}]);\n",
       "                        }).then(function(){\n",
       "                            \n",
       "var gd = document.getElementById('f0f67a78-5d50-446e-9cea-0c10d8aca3ec');\n",
       "var x = new MutationObserver(function (mutations, observer) {{\n",
       "        var display = window.getComputedStyle(gd).display;\n",
       "        if (!display || display === 'none') {{\n",
       "            console.log([gd, 'removed!']);\n",
       "            Plotly.purge(gd);\n",
       "            observer.disconnect();\n",
       "        }}\n",
       "}});\n",
       "\n",
       "// Listen for the removal of the full notebook cells\n",
       "var notebookContainer = gd.closest('#notebook-container');\n",
       "if (notebookContainer) {{\n",
       "    x.observe(notebookContainer, {childList: true});\n",
       "}}\n",
       "\n",
       "// Listen for the clearing of the current output cell\n",
       "var outputEl = gd.closest('.output');\n",
       "if (outputEl) {{\n",
       "    x.observe(outputEl, {childList: true});\n",
       "}}\n",
       "\n",
       "                        })\n",
       "                };\n",
       "                });\n",
       "            </script>\n",
       "        </div>"
      ]
     },
     "metadata": {},
     "output_type": "display_data"
    }
   ],
   "source": [
    "# floor_list = ['B4','B3', 'B2','B1','01', '02', '03', '04', '05', '06', '07', '08', '09', '10', '11','12', '13', '14', '15']\n",
    "\n",
    "df_s_weekday.floor.unique()\n",
    "\n",
    "fig = px.bar(data_frame=df_s_weekday, \n",
    "             \n",
    "             ## 這裡的data frame都先用 R aggregate過了，以節省運算時間\n",
    "             x = \"floor\", y = \"avgWait_weekday\",\n",
    "             \n",
    "             ## 以方向分兩張圖，並上色\n",
    "             facet_col=\"direction\",color=\"direction\",\n",
    "             \n",
    "             ## 自動生成slider\n",
    "             animation_frame=\"hour\",\n",
    "             \n",
    "             \n",
    "             labels={\"count\":\"avgWait_weekday\",\n",
    "                     \"hour\":\"Local Time (GMT+8)\"})\n",
    "\n",
    "# X axis\n",
    "fig.update_xaxes(nticks=len(floor_name), ##指定breaks的數量\n",
    "                 \n",
    "                 ## 手動將X的類別排序\n",
    "                 type=\"category\",\n",
    "                 categoryarray=floor_name)\n",
    "\n",
    "# Y axis\n",
    "fig.update_yaxes(range=[0, 200])\n",
    "\n",
    "# Layout\n",
    "fig.update_layout(title_text='Average waiting time of Elevator Calls by Floor on weekday')\n",
    "\n",
    "fig.show()"
   ]
  },
  {
   "cell_type": "code",
   "execution_count": 16,
   "metadata": {},
   "outputs": [
    {
     "data": {
      "application/vnd.plotly.v1+json": {
       "config": {
        "plotlyServerURL": "https://plot.ly"
       },
       "data": [
        {
         "alignmentgroup": "True",
         "hovertemplate": "direction=up<br>Local Time (GMT+8)=0<br>floor=%{x}<br>avgWait_weekend=%{y}<extra></extra>",
         "legendgroup": "up",
         "marker": {
          "color": "#636efa"
         },
         "name": "up",
         "offsetgroup": "up",
         "orientation": "v",
         "showlegend": true,
         "textposition": "auto",
         "type": "bar",
         "x": [
          1,
          6,
          7,
          8,
          9,
          13
         ],
         "xaxis": "x",
         "y": [
          22.039268292682923,
          18.898055555555555,
          17.69,
          45.61,
          33.42,
          9.52
         ],
         "yaxis": "y"
        },
        {
         "alignmentgroup": "True",
         "hovertemplate": "direction=down<br>Local Time (GMT+8)=0<br>floor=%{x}<br>avgWait_weekend=%{y}<extra></extra>",
         "legendgroup": "down",
         "marker": {
          "color": "#EF553B"
         },
         "name": "down",
         "offsetgroup": "down",
         "orientation": "v",
         "showlegend": true,
         "textposition": "auto",
         "type": "bar",
         "x": [
          6,
          7,
          9,
          10,
          11,
          12,
          13,
          14,
          15
         ],
         "xaxis": "x2",
         "y": [
          14.251666666666667,
          8.943333333333333,
          15.746666666666664,
          39.46,
          15.775,
          16.35,
          17.56,
          8.865,
          13.495999999999999
         ],
         "yaxis": "y2"
        }
       ],
       "frames": [
        {
         "data": [
          {
           "alignmentgroup": "True",
           "hovertemplate": "direction=up<br>Local Time (GMT+8)=0<br>floor=%{x}<br>avgWait_weekend=%{y}<extra></extra>",
           "legendgroup": "up",
           "marker": {
            "color": "#636efa"
           },
           "name": "up",
           "offsetgroup": "up",
           "orientation": "v",
           "showlegend": true,
           "textposition": "auto",
           "type": "bar",
           "x": [
            1,
            6,
            7,
            8,
            9,
            13
           ],
           "xaxis": "x",
           "y": [
            22.039268292682923,
            18.898055555555555,
            17.69,
            45.61,
            33.42,
            9.52
           ],
           "yaxis": "y"
          },
          {
           "alignmentgroup": "True",
           "hovertemplate": "direction=down<br>Local Time (GMT+8)=0<br>floor=%{x}<br>avgWait_weekend=%{y}<extra></extra>",
           "legendgroup": "down",
           "marker": {
            "color": "#EF553B"
           },
           "name": "down",
           "offsetgroup": "down",
           "orientation": "v",
           "showlegend": true,
           "textposition": "auto",
           "type": "bar",
           "x": [
            6,
            7,
            9,
            10,
            11,
            12,
            13,
            14,
            15
           ],
           "xaxis": "x2",
           "y": [
            14.251666666666667,
            8.943333333333333,
            15.746666666666664,
            39.46,
            15.775,
            16.35,
            17.56,
            8.865,
            13.495999999999999
           ],
           "yaxis": "y2"
          }
         ],
         "name": "0"
        },
        {
         "data": [
          {
           "alignmentgroup": "True",
           "hovertemplate": "direction=up<br>Local Time (GMT+8)=1<br>floor=%{x}<br>avgWait_weekend=%{y}<extra></extra>",
           "legendgroup": "up",
           "marker": {
            "color": "#636efa"
           },
           "name": "up",
           "offsetgroup": "up",
           "orientation": "v",
           "showlegend": true,
           "textposition": "auto",
           "type": "bar",
           "x": [
            1,
            6,
            7,
            8,
            9
           ],
           "xaxis": "x",
           "y": [
            19.084473684210526,
            16.70485714285714,
            15.53,
            9.6625,
            1.01
           ],
           "yaxis": "y"
          },
          {
           "alignmentgroup": "True",
           "hovertemplate": "direction=down<br>Local Time (GMT+8)=1<br>floor=%{x}<br>avgWait_weekend=%{y}<extra></extra>",
           "legendgroup": "down",
           "marker": {
            "color": "#EF553B"
           },
           "name": "down",
           "offsetgroup": "down",
           "orientation": "v",
           "showlegend": true,
           "textposition": "auto",
           "type": "bar",
           "x": [
            6,
            7,
            8,
            9,
            10,
            11,
            12,
            13,
            14,
            15
           ],
           "xaxis": "x2",
           "y": [
            15.98,
            16.685,
            11.247142857142858,
            12.124,
            17.7,
            8.195,
            9.53,
            12.2075,
            19.81,
            10.136000000000001
           ],
           "yaxis": "y2"
          }
         ],
         "name": "1"
        },
        {
         "data": [
          {
           "alignmentgroup": "True",
           "hovertemplate": "direction=up<br>Local Time (GMT+8)=2<br>floor=%{x}<br>avgWait_weekend=%{y}<extra></extra>",
           "legendgroup": "up",
           "marker": {
            "color": "#636efa"
           },
           "name": "up",
           "offsetgroup": "up",
           "orientation": "v",
           "showlegend": true,
           "textposition": "auto",
           "type": "bar",
           "x": [
            1,
            6,
            8,
            9,
            14
           ],
           "xaxis": "x",
           "y": [
            22.612666666666666,
            14.736666666666665,
            9.55,
            40.78,
            14.94
           ],
           "yaxis": "y"
          },
          {
           "alignmentgroup": "True",
           "hovertemplate": "direction=down<br>Local Time (GMT+8)=2<br>floor=%{x}<br>avgWait_weekend=%{y}<extra></extra>",
           "legendgroup": "down",
           "marker": {
            "color": "#EF553B"
           },
           "name": "down",
           "offsetgroup": "down",
           "orientation": "v",
           "showlegend": true,
           "textposition": "auto",
           "type": "bar",
           "x": [
            6,
            7,
            8,
            9,
            10,
            14,
            15
           ],
           "xaxis": "x2",
           "y": [
            24.57,
            12.14,
            8.0475,
            8.593333333333334,
            9.88,
            16.32,
            13.58
           ],
           "yaxis": "y2"
          }
         ],
         "name": "2"
        },
        {
         "data": [
          {
           "alignmentgroup": "True",
           "hovertemplate": "direction=up<br>Local Time (GMT+8)=3<br>floor=%{x}<br>avgWait_weekend=%{y}<extra></extra>",
           "legendgroup": "up",
           "marker": {
            "color": "#636efa"
           },
           "name": "up",
           "offsetgroup": "up",
           "orientation": "v",
           "showlegend": true,
           "textposition": "auto",
           "type": "bar",
           "x": [
            1,
            6,
            8
           ],
           "xaxis": "x",
           "y": [
            23.6725,
            23.2675,
            42.18
           ],
           "yaxis": "y"
          },
          {
           "alignmentgroup": "True",
           "hovertemplate": "direction=down<br>Local Time (GMT+8)=3<br>floor=%{x}<br>avgWait_weekend=%{y}<extra></extra>",
           "legendgroup": "down",
           "marker": {
            "color": "#EF553B"
           },
           "name": "down",
           "offsetgroup": "down",
           "orientation": "v",
           "showlegend": true,
           "textposition": "auto",
           "type": "bar",
           "x": [
            8,
            9,
            13,
            14,
            15
           ],
           "xaxis": "x2",
           "y": [
            15.75,
            2.72,
            1.38,
            1.37,
            25.74
           ],
           "yaxis": "y2"
          }
         ],
         "name": "3"
        },
        {
         "data": [
          {
           "alignmentgroup": "True",
           "hovertemplate": "direction=up<br>Local Time (GMT+8)=4<br>floor=%{x}<br>avgWait_weekend=%{y}<extra></extra>",
           "legendgroup": "up",
           "marker": {
            "color": "#636efa"
           },
           "name": "up",
           "offsetgroup": "up",
           "orientation": "v",
           "showlegend": true,
           "textposition": "auto",
           "type": "bar",
           "x": [
            1,
            6,
            7,
            8
           ],
           "xaxis": "x",
           "y": [
            10.902,
            10.0225,
            17.093333333333334,
            12.2
           ],
           "yaxis": "y"
          },
          {
           "alignmentgroup": "True",
           "hovertemplate": "direction=down<br>Local Time (GMT+8)=4<br>floor=%{x}<br>avgWait_weekend=%{y}<extra></extra>",
           "legendgroup": "down",
           "marker": {
            "color": "#EF553B"
           },
           "name": "down",
           "offsetgroup": "down",
           "orientation": "v",
           "showlegend": true,
           "textposition": "auto",
           "type": "bar",
           "x": [
            7,
            8,
            9,
            11,
            14
           ],
           "xaxis": "x2",
           "y": [
            9.165,
            1.1766666666666667,
            8.815,
            19.13,
            1.44
           ],
           "yaxis": "y2"
          }
         ],
         "name": "4"
        },
        {
         "data": [
          {
           "alignmentgroup": "True",
           "hovertemplate": "direction=up<br>Local Time (GMT+8)=5<br>floor=%{x}<br>avgWait_weekend=%{y}<extra></extra>",
           "legendgroup": "up",
           "marker": {
            "color": "#636efa"
           },
           "name": "up",
           "offsetgroup": "up",
           "orientation": "v",
           "showlegend": true,
           "textposition": "auto",
           "type": "bar",
           "x": [
            1,
            6,
            7
           ],
           "xaxis": "x",
           "y": [
            12.58,
            13.5675,
            16.276666666666667
           ],
           "yaxis": "y"
          },
          {
           "alignmentgroup": "True",
           "hovertemplate": "direction=down<br>Local Time (GMT+8)=5<br>floor=%{x}<br>avgWait_weekend=%{y}<extra></extra>",
           "legendgroup": "down",
           "marker": {
            "color": "#EF553B"
           },
           "name": "down",
           "offsetgroup": "down",
           "orientation": "v",
           "showlegend": true,
           "textposition": "auto",
           "type": "bar",
           "x": [
            8,
            9,
            10,
            12,
            14
           ],
           "xaxis": "x2",
           "y": [
            19.358,
            14.123333333333333,
            18.57,
            21.72,
            23.95
           ],
           "yaxis": "y2"
          }
         ],
         "name": "5"
        },
        {
         "data": [
          {
           "alignmentgroup": "True",
           "hovertemplate": "direction=up<br>Local Time (GMT+8)=6<br>floor=%{x}<br>avgWait_weekend=%{y}<extra></extra>",
           "legendgroup": "up",
           "marker": {
            "color": "#636efa"
           },
           "name": "up",
           "offsetgroup": "up",
           "orientation": "v",
           "showlegend": true,
           "textposition": "auto",
           "type": "bar",
           "x": [
            1,
            6,
            7,
            8,
            9,
            10,
            11,
            14
           ],
           "xaxis": "x",
           "y": [
            11.291875,
            22.804444444444453,
            26.923333333333336,
            23.10666666666667,
            2.74,
            9.965,
            14.98,
            19.04
           ],
           "yaxis": "y"
          },
          {
           "alignmentgroup": "True",
           "hovertemplate": "direction=down<br>Local Time (GMT+8)=6<br>floor=%{x}<br>avgWait_weekend=%{y}<extra></extra>",
           "legendgroup": "down",
           "marker": {
            "color": "#EF553B"
           },
           "name": "down",
           "offsetgroup": "down",
           "orientation": "v",
           "showlegend": true,
           "textposition": "auto",
           "type": "bar",
           "x": [
            6,
            7,
            8,
            9,
            10,
            11,
            12,
            13,
            14,
            15
           ],
           "xaxis": "x2",
           "y": [
            1.41,
            16.881935483870972,
            21.509259259259263,
            17.660270270270267,
            17.21892857142857,
            16.548666666666666,
            18.823076923076922,
            11.2525,
            20.18,
            18.248
           ],
           "yaxis": "y2"
          }
         ],
         "name": "6"
        },
        {
         "data": [
          {
           "alignmentgroup": "True",
           "hovertemplate": "direction=up<br>Local Time (GMT+8)=7<br>floor=%{x}<br>avgWait_weekend=%{y}<extra></extra>",
           "legendgroup": "up",
           "marker": {
            "color": "#636efa"
           },
           "name": "up",
           "offsetgroup": "up",
           "orientation": "v",
           "showlegend": true,
           "textposition": "auto",
           "type": "bar",
           "x": [
            1,
            6,
            7,
            8,
            10,
            13,
            14
           ],
           "xaxis": "x",
           "y": [
            11.9715625,
            19.635833333333334,
            11.166666666666664,
            17.776249999999994,
            17.665,
            16.93,
            6.79
           ],
           "yaxis": "y"
          },
          {
           "alignmentgroup": "True",
           "hovertemplate": "direction=down<br>Local Time (GMT+8)=7<br>floor=%{x}<br>avgWait_weekend=%{y}<extra></extra>",
           "legendgroup": "down",
           "marker": {
            "color": "#EF553B"
           },
           "name": "down",
           "offsetgroup": "down",
           "orientation": "v",
           "showlegend": true,
           "textposition": "auto",
           "type": "bar",
           "x": [
            6,
            7,
            8,
            9,
            10,
            11,
            12,
            13,
            14,
            15
           ],
           "xaxis": "x2",
           "y": [
            13.34875,
            28.964615384615378,
            25.23416666666667,
            16.7553125,
            18.375,
            15.669615384615385,
            17.025,
            16.955000000000002,
            23.863157894736844,
            25.214
           ],
           "yaxis": "y2"
          }
         ],
         "name": "7"
        },
        {
         "data": [
          {
           "alignmentgroup": "True",
           "hovertemplate": "direction=up<br>Local Time (GMT+8)=8<br>floor=%{x}<br>avgWait_weekend=%{y}<extra></extra>",
           "legendgroup": "up",
           "marker": {
            "color": "#636efa"
           },
           "name": "up",
           "offsetgroup": "up",
           "orientation": "v",
           "showlegend": true,
           "textposition": "auto",
           "type": "bar",
           "x": [
            1,
            6,
            7,
            8,
            9,
            11,
            12,
            13,
            14
           ],
           "xaxis": "x",
           "y": [
            17.700576923076927,
            22.97230769230769,
            30.883333333333336,
            14.002307692307694,
            34.64,
            12.31,
            13.56,
            14.78,
            1.36
           ],
           "yaxis": "y"
          },
          {
           "alignmentgroup": "True",
           "hovertemplate": "direction=down<br>Local Time (GMT+8)=8<br>floor=%{x}<br>avgWait_weekend=%{y}<extra></extra>",
           "legendgroup": "down",
           "marker": {
            "color": "#EF553B"
           },
           "name": "down",
           "offsetgroup": "down",
           "orientation": "v",
           "showlegend": true,
           "textposition": "auto",
           "type": "bar",
           "x": [
            6,
            7,
            8,
            9,
            10,
            11,
            12,
            13,
            14,
            15
           ],
           "xaxis": "x2",
           "y": [
            16.6234375,
            27.13421052631579,
            25.830740740740747,
            21.589285714285715,
            14.3035,
            21.12111111111111,
            21.21392857142857,
            23.407241379310346,
            20.23432432432433,
            18.447586206896556
           ],
           "yaxis": "y2"
          }
         ],
         "name": "8"
        },
        {
         "data": [
          {
           "alignmentgroup": "True",
           "hovertemplate": "direction=up<br>Local Time (GMT+8)=9<br>floor=%{x}<br>avgWait_weekend=%{y}<extra></extra>",
           "legendgroup": "up",
           "marker": {
            "color": "#636efa"
           },
           "name": "up",
           "offsetgroup": "up",
           "orientation": "v",
           "showlegend": true,
           "textposition": "auto",
           "type": "bar",
           "x": [
            1,
            6,
            7,
            8,
            9,
            12
           ],
           "xaxis": "x",
           "y": [
            12.764411764705885,
            20.067924528301887,
            12.835,
            18.645,
            57.07,
            12.04
           ],
           "yaxis": "y"
          },
          {
           "alignmentgroup": "True",
           "hovertemplate": "direction=down<br>Local Time (GMT+8)=9<br>floor=%{x}<br>avgWait_weekend=%{y}<extra></extra>",
           "legendgroup": "down",
           "marker": {
            "color": "#EF553B"
           },
           "name": "down",
           "offsetgroup": "down",
           "orientation": "v",
           "showlegend": true,
           "textposition": "auto",
           "type": "bar",
           "x": [
            6,
            7,
            8,
            9,
            10,
            11,
            12,
            13,
            14,
            15
           ],
           "xaxis": "x2",
           "y": [
            15.89,
            24.45217391304348,
            23.216190476190476,
            16.615263157894738,
            22.419,
            14.339166666666666,
            29.223000000000006,
            17.315555555555555,
            20.104444444444443,
            28.87875
           ],
           "yaxis": "y2"
          }
         ],
         "name": "9"
        },
        {
         "data": [
          {
           "alignmentgroup": "True",
           "hovertemplate": "direction=up<br>Local Time (GMT+8)=10<br>floor=%{x}<br>avgWait_weekend=%{y}<extra></extra>",
           "legendgroup": "up",
           "marker": {
            "color": "#636efa"
           },
           "name": "up",
           "offsetgroup": "up",
           "orientation": "v",
           "showlegend": true,
           "textposition": "auto",
           "type": "bar",
           "x": [
            1,
            6,
            7,
            8,
            9,
            11,
            12,
            13,
            14
           ],
           "xaxis": "x",
           "y": [
            10.526142857142858,
            18.088478260869568,
            24.31333333333333,
            13.992857142857142,
            38.09,
            50.42,
            48.74,
            21.77,
            9.53
           ],
           "yaxis": "y"
          },
          {
           "alignmentgroup": "True",
           "hovertemplate": "direction=down<br>Local Time (GMT+8)=10<br>floor=%{x}<br>avgWait_weekend=%{y}<extra></extra>",
           "legendgroup": "down",
           "marker": {
            "color": "#EF553B"
           },
           "name": "down",
           "offsetgroup": "down",
           "orientation": "v",
           "showlegend": true,
           "textposition": "auto",
           "type": "bar",
           "x": [
            6,
            7,
            8,
            9,
            10,
            11,
            12,
            13,
            14,
            15
           ],
           "xaxis": "x2",
           "y": [
            14.79,
            16.550434782608693,
            23.008235294117647,
            17.430714285714284,
            18.545,
            21.16470588235294,
            18.234615384615385,
            30.376666666666665,
            19.02952380952381,
            20.865384615384613
           ],
           "yaxis": "y2"
          }
         ],
         "name": "10"
        },
        {
         "data": [
          {
           "alignmentgroup": "True",
           "hovertemplate": "direction=up<br>Local Time (GMT+8)=11<br>floor=%{x}<br>avgWait_weekend=%{y}<extra></extra>",
           "legendgroup": "up",
           "marker": {
            "color": "#636efa"
           },
           "name": "up",
           "offsetgroup": "up",
           "orientation": "v",
           "showlegend": true,
           "textposition": "auto",
           "type": "bar",
           "x": [
            1,
            6,
            7,
            8,
            9,
            14
           ],
           "xaxis": "x",
           "y": [
            7.880253164556963,
            21.88,
            4.025,
            15.4175,
            25.7,
            32.57
           ],
           "yaxis": "y"
          },
          {
           "alignmentgroup": "True",
           "hovertemplate": "direction=down<br>Local Time (GMT+8)=11<br>floor=%{x}<br>avgWait_weekend=%{y}<extra></extra>",
           "legendgroup": "down",
           "marker": {
            "color": "#EF553B"
           },
           "name": "down",
           "offsetgroup": "down",
           "orientation": "v",
           "showlegend": true,
           "textposition": "auto",
           "type": "bar",
           "x": [
            6,
            7,
            8,
            9,
            10,
            11,
            12,
            13,
            14,
            15
           ],
           "xaxis": "x2",
           "y": [
            15.003703703703707,
            21.905862068965515,
            16.479,
            18.018709677419352,
            14.967000000000002,
            26.855,
            21.787,
            12.78,
            25.465,
            22.24857142857143
           ],
           "yaxis": "y2"
          }
         ],
         "name": "11"
        },
        {
         "data": [
          {
           "alignmentgroup": "True",
           "hovertemplate": "direction=up<br>Local Time (GMT+8)=12<br>floor=%{x}<br>avgWait_weekend=%{y}<extra></extra>",
           "legendgroup": "up",
           "marker": {
            "color": "#636efa"
           },
           "name": "up",
           "offsetgroup": "up",
           "orientation": "v",
           "showlegend": true,
           "textposition": "auto",
           "type": "bar",
           "x": [
            1,
            6,
            7,
            8,
            10,
            11,
            13,
            14
           ],
           "xaxis": "x",
           "y": [
            16.717916666666667,
            20.97025,
            15.182,
            13.436000000000002,
            49.65,
            45.2,
            22.81,
            19.23
           ],
           "yaxis": "y"
          },
          {
           "alignmentgroup": "True",
           "hovertemplate": "direction=down<br>Local Time (GMT+8)=12<br>floor=%{x}<br>avgWait_weekend=%{y}<extra></extra>",
           "legendgroup": "down",
           "marker": {
            "color": "#EF553B"
           },
           "name": "down",
           "offsetgroup": "down",
           "orientation": "v",
           "showlegend": true,
           "textposition": "auto",
           "type": "bar",
           "x": [
            6,
            7,
            8,
            9,
            10,
            11,
            12,
            13,
            14,
            15
           ],
           "xaxis": "x2",
           "y": [
            18.973333333333336,
            26.387916666666666,
            19.205,
            20.383030303030306,
            18.976428571428574,
            19.930689655172415,
            16.113636363636363,
            24.42388888888889,
            23.652222222222218,
            25.311764705882354
           ],
           "yaxis": "y2"
          }
         ],
         "name": "12"
        },
        {
         "data": [
          {
           "alignmentgroup": "True",
           "hovertemplate": "direction=up<br>Local Time (GMT+8)=13<br>floor=%{x}<br>avgWait_weekend=%{y}<extra></extra>",
           "legendgroup": "up",
           "marker": {
            "color": "#636efa"
           },
           "name": "up",
           "offsetgroup": "up",
           "orientation": "v",
           "showlegend": true,
           "textposition": "auto",
           "type": "bar",
           "x": [
            1,
            6,
            7,
            8,
            10,
            12
           ],
           "xaxis": "x",
           "y": [
            16.699514563106803,
            16.792708333333334,
            13.311666666666667,
            12.304,
            22.97,
            27.23
           ],
           "yaxis": "y"
          },
          {
           "alignmentgroup": "True",
           "hovertemplate": "direction=down<br>Local Time (GMT+8)=13<br>floor=%{x}<br>avgWait_weekend=%{y}<extra></extra>",
           "legendgroup": "down",
           "marker": {
            "color": "#EF553B"
           },
           "name": "down",
           "offsetgroup": "down",
           "orientation": "v",
           "showlegend": true,
           "textposition": "auto",
           "type": "bar",
           "x": [
            6,
            7,
            8,
            9,
            10,
            11,
            12,
            13,
            14,
            15
           ],
           "xaxis": "x2",
           "y": [
            22.90571428571429,
            18.468,
            21.53181818181818,
            20.044117647058822,
            19.102,
            15.192272727272728,
            19.968461538461536,
            16.755000000000006,
            16.345945945945946,
            21.681785714285716
           ],
           "yaxis": "y2"
          }
         ],
         "name": "13"
        },
        {
         "data": [
          {
           "alignmentgroup": "True",
           "hovertemplate": "direction=up<br>Local Time (GMT+8)=14<br>floor=%{x}<br>avgWait_weekend=%{y}<extra></extra>",
           "legendgroup": "up",
           "marker": {
            "color": "#636efa"
           },
           "name": "up",
           "offsetgroup": "up",
           "orientation": "v",
           "showlegend": true,
           "textposition": "auto",
           "type": "bar",
           "x": [
            1,
            6,
            7,
            8,
            9,
            10,
            12,
            13,
            14
           ],
           "xaxis": "x",
           "y": [
            12.785421686746991,
            18.575526315789475,
            15.596470588235292,
            17.087,
            9.52,
            13.44,
            10.78,
            31.36,
            34.495
           ],
           "yaxis": "y"
          },
          {
           "alignmentgroup": "True",
           "hovertemplate": "direction=down<br>Local Time (GMT+8)=14<br>floor=%{x}<br>avgWait_weekend=%{y}<extra></extra>",
           "legendgroup": "down",
           "marker": {
            "color": "#EF553B"
           },
           "name": "down",
           "offsetgroup": "down",
           "orientation": "v",
           "showlegend": true,
           "textposition": "auto",
           "type": "bar",
           "x": [
            6,
            7,
            8,
            9,
            10,
            11,
            12,
            13,
            14,
            15
           ],
           "xaxis": "x2",
           "y": [
            15.179473684210526,
            26.18075,
            20.109473684210524,
            19.444230769230767,
            19.8316,
            18.39190476190476,
            23.93947368421053,
            14.989047619047618,
            19.296190476190482,
            23.9888
           ],
           "yaxis": "y2"
          }
         ],
         "name": "14"
        },
        {
         "data": [
          {
           "alignmentgroup": "True",
           "hovertemplate": "direction=up<br>Local Time (GMT+8)=15<br>floor=%{x}<br>avgWait_weekend=%{y}<extra></extra>",
           "legendgroup": "up",
           "marker": {
            "color": "#636efa"
           },
           "name": "up",
           "offsetgroup": "up",
           "orientation": "v",
           "showlegend": true,
           "textposition": "auto",
           "type": "bar",
           "x": [
            1,
            6,
            7,
            8,
            9
           ],
           "xaxis": "x",
           "y": [
            10.655223880597015,
            13.849318181818182,
            17.65,
            9.86,
            16.845
           ],
           "yaxis": "y"
          },
          {
           "alignmentgroup": "True",
           "hovertemplate": "direction=down<br>Local Time (GMT+8)=15<br>floor=%{x}<br>avgWait_weekend=%{y}<extra></extra>",
           "legendgroup": "down",
           "marker": {
            "color": "#EF553B"
           },
           "name": "down",
           "offsetgroup": "down",
           "orientation": "v",
           "showlegend": true,
           "textposition": "auto",
           "type": "bar",
           "x": [
            6,
            7,
            8,
            9,
            10,
            11,
            12,
            13,
            14,
            15
           ],
           "xaxis": "x2",
           "y": [
            15.232000000000001,
            14.112307692307693,
            21.63416666666667,
            16.517906976744186,
            16.450000000000006,
            17.1052,
            15.616666666666667,
            20.638181818181817,
            21.171666666666667,
            26.5545
           ],
           "yaxis": "y2"
          }
         ],
         "name": "15"
        },
        {
         "data": [
          {
           "alignmentgroup": "True",
           "hovertemplate": "direction=up<br>Local Time (GMT+8)=16<br>floor=%{x}<br>avgWait_weekend=%{y}<extra></extra>",
           "legendgroup": "up",
           "marker": {
            "color": "#636efa"
           },
           "name": "up",
           "offsetgroup": "up",
           "orientation": "v",
           "showlegend": true,
           "textposition": "auto",
           "type": "bar",
           "x": [
            1,
            6,
            7,
            8
           ],
           "xaxis": "x",
           "y": [
            16.56198275862069,
            19.157710843373497,
            6.7250000000000005,
            12.13
           ],
           "yaxis": "y"
          },
          {
           "alignmentgroup": "True",
           "hovertemplate": "direction=down<br>Local Time (GMT+8)=16<br>floor=%{x}<br>avgWait_weekend=%{y}<extra></extra>",
           "legendgroup": "down",
           "marker": {
            "color": "#EF553B"
           },
           "name": "down",
           "offsetgroup": "down",
           "orientation": "v",
           "showlegend": true,
           "textposition": "auto",
           "type": "bar",
           "x": [
            6,
            7,
            8,
            9,
            10,
            11,
            12,
            13,
            14,
            15
           ],
           "xaxis": "x2",
           "y": [
            20.21696969696969,
            19.902083333333334,
            18.949333333333332,
            15.912352941176472,
            18.019375,
            18.059500000000003,
            12.0325,
            23.07533333333333,
            23.844,
            22.64083333333333
           ],
           "yaxis": "y2"
          }
         ],
         "name": "16"
        },
        {
         "data": [
          {
           "alignmentgroup": "True",
           "hovertemplate": "direction=up<br>Local Time (GMT+8)=17<br>floor=%{x}<br>avgWait_weekend=%{y}<extra></extra>",
           "legendgroup": "up",
           "marker": {
            "color": "#636efa"
           },
           "name": "up",
           "offsetgroup": "up",
           "orientation": "v",
           "showlegend": true,
           "textposition": "auto",
           "type": "bar",
           "x": [
            1,
            6,
            7,
            8,
            9,
            10,
            13
           ],
           "xaxis": "x",
           "y": [
            14.814285714285711,
            21.858295454545456,
            10.162727272727274,
            19.302222222222227,
            91.29,
            24.22,
            1.28
           ],
           "yaxis": "y"
          },
          {
           "alignmentgroup": "True",
           "hovertemplate": "direction=down<br>Local Time (GMT+8)=17<br>floor=%{x}<br>avgWait_weekend=%{y}<extra></extra>",
           "legendgroup": "down",
           "marker": {
            "color": "#EF553B"
           },
           "name": "down",
           "offsetgroup": "down",
           "orientation": "v",
           "showlegend": true,
           "textposition": "auto",
           "type": "bar",
           "x": [
            6,
            7,
            8,
            9,
            10,
            11,
            12,
            13,
            14,
            15
           ],
           "xaxis": "x2",
           "y": [
            27.968387096774197,
            26.93133333333333,
            37.2221875,
            18.616129032258065,
            19.145151515151515,
            19.33,
            22.801052631578948,
            18.0212,
            25.81730769230769,
            30.112
           ],
           "yaxis": "y2"
          }
         ],
         "name": "17"
        },
        {
         "data": [
          {
           "alignmentgroup": "True",
           "hovertemplate": "direction=up<br>Local Time (GMT+8)=18<br>floor=%{x}<br>avgWait_weekend=%{y}<extra></extra>",
           "legendgroup": "up",
           "marker": {
            "color": "#636efa"
           },
           "name": "up",
           "offsetgroup": "up",
           "orientation": "v",
           "showlegend": true,
           "textposition": "auto",
           "type": "bar",
           "x": [
            1,
            6,
            8,
            11,
            13
           ],
           "xaxis": "x",
           "y": [
            18.083763440860213,
            24.058571428571426,
            17.98125,
            38.75,
            21.61
           ],
           "yaxis": "y"
          },
          {
           "alignmentgroup": "True",
           "hovertemplate": "direction=down<br>Local Time (GMT+8)=18<br>floor=%{x}<br>avgWait_weekend=%{y}<extra></extra>",
           "legendgroup": "down",
           "marker": {
            "color": "#EF553B"
           },
           "name": "down",
           "offsetgroup": "down",
           "orientation": "v",
           "showlegend": true,
           "textposition": "auto",
           "type": "bar",
           "x": [
            6,
            7,
            8,
            9,
            10,
            11,
            12,
            13,
            14,
            15
           ],
           "xaxis": "x2",
           "y": [
            19.724,
            27.761000000000006,
            17.791428571428572,
            14.9425,
            19.4,
            25.04357142857143,
            16.68125,
            17.685833333333328,
            28.043529411764702,
            22.009047619047614
           ],
           "yaxis": "y2"
          }
         ],
         "name": "18"
        },
        {
         "data": [
          {
           "alignmentgroup": "True",
           "hovertemplate": "direction=up<br>Local Time (GMT+8)=19<br>floor=%{x}<br>avgWait_weekend=%{y}<extra></extra>",
           "legendgroup": "up",
           "marker": {
            "color": "#636efa"
           },
           "name": "up",
           "offsetgroup": "up",
           "orientation": "v",
           "showlegend": true,
           "textposition": "auto",
           "type": "bar",
           "x": [
            1,
            6,
            7,
            8,
            14
           ],
           "xaxis": "x",
           "y": [
            18.03739130434783,
            19.533,
            29.34666666666667,
            17.5175,
            13.34
           ],
           "yaxis": "y"
          },
          {
           "alignmentgroup": "True",
           "hovertemplate": "direction=down<br>Local Time (GMT+8)=19<br>floor=%{x}<br>avgWait_weekend=%{y}<extra></extra>",
           "legendgroup": "down",
           "marker": {
            "color": "#EF553B"
           },
           "name": "down",
           "offsetgroup": "down",
           "orientation": "v",
           "showlegend": true,
           "textposition": "auto",
           "type": "bar",
           "x": [
            6,
            7,
            8,
            9,
            10,
            11,
            12,
            13,
            14,
            15
           ],
           "xaxis": "x2",
           "y": [
            16.738571428571426,
            21.86090909090909,
            24.258000000000006,
            15.6525,
            18.537333333333333,
            20.49,
            19.96363636363636,
            14.414285714285715,
            20.335714285714285,
            16.23894736842105
           ],
           "yaxis": "y2"
          }
         ],
         "name": "19"
        },
        {
         "data": [
          {
           "alignmentgroup": "True",
           "hovertemplate": "direction=up<br>Local Time (GMT+8)=20<br>floor=%{x}<br>avgWait_weekend=%{y}<extra></extra>",
           "legendgroup": "up",
           "marker": {
            "color": "#636efa"
           },
           "name": "up",
           "offsetgroup": "up",
           "orientation": "v",
           "showlegend": true,
           "textposition": "auto",
           "type": "bar",
           "x": [
            1,
            6,
            7,
            8,
            10,
            11,
            13
           ],
           "xaxis": "x",
           "y": [
            17.257261904761904,
            17.91588235294118,
            10.07,
            32.495999999999995,
            1.47,
            38.09,
            40.77
           ],
           "yaxis": "y"
          },
          {
           "alignmentgroup": "True",
           "hovertemplate": "direction=down<br>Local Time (GMT+8)=20<br>floor=%{x}<br>avgWait_weekend=%{y}<extra></extra>",
           "legendgroup": "down",
           "marker": {
            "color": "#EF553B"
           },
           "name": "down",
           "offsetgroup": "down",
           "orientation": "v",
           "showlegend": true,
           "textposition": "auto",
           "type": "bar",
           "x": [
            6,
            7,
            8,
            9,
            10,
            11,
            12,
            13,
            14,
            15
           ],
           "xaxis": "x2",
           "y": [
            20.896,
            17.11,
            25.931176470588237,
            20.432000000000002,
            18.234285714285715,
            22.78,
            20.6325,
            31.23875,
            19.33,
            18.53529411764706
           ],
           "yaxis": "y2"
          }
         ],
         "name": "20"
        },
        {
         "data": [
          {
           "alignmentgroup": "True",
           "hovertemplate": "direction=up<br>Local Time (GMT+8)=21<br>floor=%{x}<br>avgWait_weekend=%{y}<extra></extra>",
           "legendgroup": "up",
           "marker": {
            "color": "#636efa"
           },
           "name": "up",
           "offsetgroup": "up",
           "orientation": "v",
           "showlegend": true,
           "textposition": "auto",
           "type": "bar",
           "x": [
            1,
            6,
            8,
            9,
            14
           ],
           "xaxis": "x",
           "y": [
            18.45131313131313,
            15.66333333333333,
            15.386666666666667,
            40.81,
            1.34
           ],
           "yaxis": "y"
          },
          {
           "alignmentgroup": "True",
           "hovertemplate": "direction=down<br>Local Time (GMT+8)=21<br>floor=%{x}<br>avgWait_weekend=%{y}<extra></extra>",
           "legendgroup": "down",
           "marker": {
            "color": "#EF553B"
           },
           "name": "down",
           "offsetgroup": "down",
           "orientation": "v",
           "showlegend": true,
           "textposition": "auto",
           "type": "bar",
           "x": [
            6,
            7,
            8,
            9,
            10,
            11,
            12,
            13,
            14,
            15
           ],
           "xaxis": "x2",
           "y": [
            40.18,
            12.693333333333333,
            28.57333333333333,
            10.91,
            9.374545454545457,
            16.967777777777773,
            11.149090909090907,
            30.201428571428576,
            13.419999999999998,
            10.544615384615383
           ],
           "yaxis": "y2"
          }
         ],
         "name": "21"
        },
        {
         "data": [
          {
           "alignmentgroup": "True",
           "hovertemplate": "direction=up<br>Local Time (GMT+8)=22<br>floor=%{x}<br>avgWait_weekend=%{y}<extra></extra>",
           "legendgroup": "up",
           "marker": {
            "color": "#636efa"
           },
           "name": "up",
           "offsetgroup": "up",
           "orientation": "v",
           "showlegend": true,
           "textposition": "auto",
           "type": "bar",
           "x": [
            1,
            6,
            7,
            8,
            13
           ],
           "xaxis": "x",
           "y": [
            18.986626506024095,
            17.91272727272727,
            15.7575,
            14.9275,
            12.24
           ],
           "yaxis": "y"
          },
          {
           "alignmentgroup": "True",
           "hovertemplate": "direction=down<br>Local Time (GMT+8)=22<br>floor=%{x}<br>avgWait_weekend=%{y}<extra></extra>",
           "legendgroup": "down",
           "marker": {
            "color": "#EF553B"
           },
           "name": "down",
           "offsetgroup": "down",
           "orientation": "v",
           "showlegend": true,
           "textposition": "auto",
           "type": "bar",
           "x": [
            6,
            7,
            8,
            9,
            10,
            11,
            12,
            13,
            14,
            15
           ],
           "xaxis": "x2",
           "y": [
            13.59,
            21.854761904761904,
            22.00107142857143,
            15.54,
            19.02368421052632,
            22.812857142857148,
            15.729230769230773,
            23.0825,
            14.754166666666665,
            26.35857142857143
           ],
           "yaxis": "y2"
          }
         ],
         "name": "22"
        },
        {
         "data": [
          {
           "alignmentgroup": "True",
           "hovertemplate": "direction=up<br>Local Time (GMT+8)=23<br>floor=%{x}<br>avgWait_weekend=%{y}<extra></extra>",
           "legendgroup": "up",
           "marker": {
            "color": "#636efa"
           },
           "name": "up",
           "offsetgroup": "up",
           "orientation": "v",
           "showlegend": true,
           "textposition": "auto",
           "type": "bar",
           "x": [
            1,
            6,
            7,
            8,
            9,
            10,
            13
           ],
           "xaxis": "x",
           "y": [
            17.182807017543865,
            18.267894736842106,
            12.9,
            14.553333333333333,
            13.69,
            18.305,
            36.71
           ],
           "yaxis": "y"
          },
          {
           "alignmentgroup": "True",
           "hovertemplate": "direction=down<br>Local Time (GMT+8)=23<br>floor=%{x}<br>avgWait_weekend=%{y}<extra></extra>",
           "legendgroup": "down",
           "marker": {
            "color": "#EF553B"
           },
           "name": "down",
           "offsetgroup": "down",
           "orientation": "v",
           "showlegend": true,
           "textposition": "auto",
           "type": "bar",
           "x": [
            6,
            7,
            8,
            9,
            10,
            11,
            12,
            13,
            14,
            15
           ],
           "xaxis": "x2",
           "y": [
            15.645,
            34.654999999999994,
            24.1825,
            17.34,
            17.706470588235298,
            12.304117647058822,
            14.262222222222226,
            21.0775,
            28.69333333333333,
            19.0925
           ],
           "yaxis": "y2"
          }
         ],
         "name": "23"
        }
       ],
       "layout": {
        "annotations": [
         {
          "font": {},
          "showarrow": false,
          "text": "direction=up",
          "x": 0.245,
          "xanchor": "center",
          "xref": "paper",
          "y": 1,
          "yanchor": "bottom",
          "yref": "paper"
         },
         {
          "font": {},
          "showarrow": false,
          "text": "direction=down",
          "x": 0.755,
          "xanchor": "center",
          "xref": "paper",
          "y": 1,
          "yanchor": "bottom",
          "yref": "paper"
         }
        ],
        "barmode": "relative",
        "legend": {
         "title": {
          "text": "direction"
         },
         "tracegroupgap": 0
        },
        "margin": {
         "t": 60
        },
        "sliders": [
         {
          "active": 0,
          "currentvalue": {
           "prefix": "Local Time (GMT+8)="
          },
          "len": 0.9,
          "pad": {
           "b": 10,
           "t": 60
          },
          "steps": [
           {
            "args": [
             [
              "0"
             ],
             {
              "frame": {
               "duration": 0,
               "redraw": true
              },
              "fromcurrent": true,
              "mode": "immediate",
              "transition": {
               "duration": 0,
               "easing": "linear"
              }
             }
            ],
            "label": "0",
            "method": "animate"
           },
           {
            "args": [
             [
              "1"
             ],
             {
              "frame": {
               "duration": 0,
               "redraw": true
              },
              "fromcurrent": true,
              "mode": "immediate",
              "transition": {
               "duration": 0,
               "easing": "linear"
              }
             }
            ],
            "label": "1",
            "method": "animate"
           },
           {
            "args": [
             [
              "2"
             ],
             {
              "frame": {
               "duration": 0,
               "redraw": true
              },
              "fromcurrent": true,
              "mode": "immediate",
              "transition": {
               "duration": 0,
               "easing": "linear"
              }
             }
            ],
            "label": "2",
            "method": "animate"
           },
           {
            "args": [
             [
              "3"
             ],
             {
              "frame": {
               "duration": 0,
               "redraw": true
              },
              "fromcurrent": true,
              "mode": "immediate",
              "transition": {
               "duration": 0,
               "easing": "linear"
              }
             }
            ],
            "label": "3",
            "method": "animate"
           },
           {
            "args": [
             [
              "4"
             ],
             {
              "frame": {
               "duration": 0,
               "redraw": true
              },
              "fromcurrent": true,
              "mode": "immediate",
              "transition": {
               "duration": 0,
               "easing": "linear"
              }
             }
            ],
            "label": "4",
            "method": "animate"
           },
           {
            "args": [
             [
              "5"
             ],
             {
              "frame": {
               "duration": 0,
               "redraw": true
              },
              "fromcurrent": true,
              "mode": "immediate",
              "transition": {
               "duration": 0,
               "easing": "linear"
              }
             }
            ],
            "label": "5",
            "method": "animate"
           },
           {
            "args": [
             [
              "6"
             ],
             {
              "frame": {
               "duration": 0,
               "redraw": true
              },
              "fromcurrent": true,
              "mode": "immediate",
              "transition": {
               "duration": 0,
               "easing": "linear"
              }
             }
            ],
            "label": "6",
            "method": "animate"
           },
           {
            "args": [
             [
              "7"
             ],
             {
              "frame": {
               "duration": 0,
               "redraw": true
              },
              "fromcurrent": true,
              "mode": "immediate",
              "transition": {
               "duration": 0,
               "easing": "linear"
              }
             }
            ],
            "label": "7",
            "method": "animate"
           },
           {
            "args": [
             [
              "8"
             ],
             {
              "frame": {
               "duration": 0,
               "redraw": true
              },
              "fromcurrent": true,
              "mode": "immediate",
              "transition": {
               "duration": 0,
               "easing": "linear"
              }
             }
            ],
            "label": "8",
            "method": "animate"
           },
           {
            "args": [
             [
              "9"
             ],
             {
              "frame": {
               "duration": 0,
               "redraw": true
              },
              "fromcurrent": true,
              "mode": "immediate",
              "transition": {
               "duration": 0,
               "easing": "linear"
              }
             }
            ],
            "label": "9",
            "method": "animate"
           },
           {
            "args": [
             [
              "10"
             ],
             {
              "frame": {
               "duration": 0,
               "redraw": true
              },
              "fromcurrent": true,
              "mode": "immediate",
              "transition": {
               "duration": 0,
               "easing": "linear"
              }
             }
            ],
            "label": "10",
            "method": "animate"
           },
           {
            "args": [
             [
              "11"
             ],
             {
              "frame": {
               "duration": 0,
               "redraw": true
              },
              "fromcurrent": true,
              "mode": "immediate",
              "transition": {
               "duration": 0,
               "easing": "linear"
              }
             }
            ],
            "label": "11",
            "method": "animate"
           },
           {
            "args": [
             [
              "12"
             ],
             {
              "frame": {
               "duration": 0,
               "redraw": true
              },
              "fromcurrent": true,
              "mode": "immediate",
              "transition": {
               "duration": 0,
               "easing": "linear"
              }
             }
            ],
            "label": "12",
            "method": "animate"
           },
           {
            "args": [
             [
              "13"
             ],
             {
              "frame": {
               "duration": 0,
               "redraw": true
              },
              "fromcurrent": true,
              "mode": "immediate",
              "transition": {
               "duration": 0,
               "easing": "linear"
              }
             }
            ],
            "label": "13",
            "method": "animate"
           },
           {
            "args": [
             [
              "14"
             ],
             {
              "frame": {
               "duration": 0,
               "redraw": true
              },
              "fromcurrent": true,
              "mode": "immediate",
              "transition": {
               "duration": 0,
               "easing": "linear"
              }
             }
            ],
            "label": "14",
            "method": "animate"
           },
           {
            "args": [
             [
              "15"
             ],
             {
              "frame": {
               "duration": 0,
               "redraw": true
              },
              "fromcurrent": true,
              "mode": "immediate",
              "transition": {
               "duration": 0,
               "easing": "linear"
              }
             }
            ],
            "label": "15",
            "method": "animate"
           },
           {
            "args": [
             [
              "16"
             ],
             {
              "frame": {
               "duration": 0,
               "redraw": true
              },
              "fromcurrent": true,
              "mode": "immediate",
              "transition": {
               "duration": 0,
               "easing": "linear"
              }
             }
            ],
            "label": "16",
            "method": "animate"
           },
           {
            "args": [
             [
              "17"
             ],
             {
              "frame": {
               "duration": 0,
               "redraw": true
              },
              "fromcurrent": true,
              "mode": "immediate",
              "transition": {
               "duration": 0,
               "easing": "linear"
              }
             }
            ],
            "label": "17",
            "method": "animate"
           },
           {
            "args": [
             [
              "18"
             ],
             {
              "frame": {
               "duration": 0,
               "redraw": true
              },
              "fromcurrent": true,
              "mode": "immediate",
              "transition": {
               "duration": 0,
               "easing": "linear"
              }
             }
            ],
            "label": "18",
            "method": "animate"
           },
           {
            "args": [
             [
              "19"
             ],
             {
              "frame": {
               "duration": 0,
               "redraw": true
              },
              "fromcurrent": true,
              "mode": "immediate",
              "transition": {
               "duration": 0,
               "easing": "linear"
              }
             }
            ],
            "label": "19",
            "method": "animate"
           },
           {
            "args": [
             [
              "20"
             ],
             {
              "frame": {
               "duration": 0,
               "redraw": true
              },
              "fromcurrent": true,
              "mode": "immediate",
              "transition": {
               "duration": 0,
               "easing": "linear"
              }
             }
            ],
            "label": "20",
            "method": "animate"
           },
           {
            "args": [
             [
              "21"
             ],
             {
              "frame": {
               "duration": 0,
               "redraw": true
              },
              "fromcurrent": true,
              "mode": "immediate",
              "transition": {
               "duration": 0,
               "easing": "linear"
              }
             }
            ],
            "label": "21",
            "method": "animate"
           },
           {
            "args": [
             [
              "22"
             ],
             {
              "frame": {
               "duration": 0,
               "redraw": true
              },
              "fromcurrent": true,
              "mode": "immediate",
              "transition": {
               "duration": 0,
               "easing": "linear"
              }
             }
            ],
            "label": "22",
            "method": "animate"
           },
           {
            "args": [
             [
              "23"
             ],
             {
              "frame": {
               "duration": 0,
               "redraw": true
              },
              "fromcurrent": true,
              "mode": "immediate",
              "transition": {
               "duration": 0,
               "easing": "linear"
              }
             }
            ],
            "label": "23",
            "method": "animate"
           }
          ],
          "x": 0.1,
          "xanchor": "left",
          "y": 0,
          "yanchor": "top"
         }
        ],
        "template": {
         "data": {
          "bar": [
           {
            "error_x": {
             "color": "#2a3f5f"
            },
            "error_y": {
             "color": "#2a3f5f"
            },
            "marker": {
             "line": {
              "color": "#E5ECF6",
              "width": 0.5
             }
            },
            "type": "bar"
           }
          ],
          "barpolar": [
           {
            "marker": {
             "line": {
              "color": "#E5ECF6",
              "width": 0.5
             }
            },
            "type": "barpolar"
           }
          ],
          "carpet": [
           {
            "aaxis": {
             "endlinecolor": "#2a3f5f",
             "gridcolor": "white",
             "linecolor": "white",
             "minorgridcolor": "white",
             "startlinecolor": "#2a3f5f"
            },
            "baxis": {
             "endlinecolor": "#2a3f5f",
             "gridcolor": "white",
             "linecolor": "white",
             "minorgridcolor": "white",
             "startlinecolor": "#2a3f5f"
            },
            "type": "carpet"
           }
          ],
          "choropleth": [
           {
            "colorbar": {
             "outlinewidth": 0,
             "ticks": ""
            },
            "type": "choropleth"
           }
          ],
          "contour": [
           {
            "colorbar": {
             "outlinewidth": 0,
             "ticks": ""
            },
            "colorscale": [
             [
              0,
              "#0d0887"
             ],
             [
              0.1111111111111111,
              "#46039f"
             ],
             [
              0.2222222222222222,
              "#7201a8"
             ],
             [
              0.3333333333333333,
              "#9c179e"
             ],
             [
              0.4444444444444444,
              "#bd3786"
             ],
             [
              0.5555555555555556,
              "#d8576b"
             ],
             [
              0.6666666666666666,
              "#ed7953"
             ],
             [
              0.7777777777777778,
              "#fb9f3a"
             ],
             [
              0.8888888888888888,
              "#fdca26"
             ],
             [
              1,
              "#f0f921"
             ]
            ],
            "type": "contour"
           }
          ],
          "contourcarpet": [
           {
            "colorbar": {
             "outlinewidth": 0,
             "ticks": ""
            },
            "type": "contourcarpet"
           }
          ],
          "heatmap": [
           {
            "colorbar": {
             "outlinewidth": 0,
             "ticks": ""
            },
            "colorscale": [
             [
              0,
              "#0d0887"
             ],
             [
              0.1111111111111111,
              "#46039f"
             ],
             [
              0.2222222222222222,
              "#7201a8"
             ],
             [
              0.3333333333333333,
              "#9c179e"
             ],
             [
              0.4444444444444444,
              "#bd3786"
             ],
             [
              0.5555555555555556,
              "#d8576b"
             ],
             [
              0.6666666666666666,
              "#ed7953"
             ],
             [
              0.7777777777777778,
              "#fb9f3a"
             ],
             [
              0.8888888888888888,
              "#fdca26"
             ],
             [
              1,
              "#f0f921"
             ]
            ],
            "type": "heatmap"
           }
          ],
          "heatmapgl": [
           {
            "colorbar": {
             "outlinewidth": 0,
             "ticks": ""
            },
            "colorscale": [
             [
              0,
              "#0d0887"
             ],
             [
              0.1111111111111111,
              "#46039f"
             ],
             [
              0.2222222222222222,
              "#7201a8"
             ],
             [
              0.3333333333333333,
              "#9c179e"
             ],
             [
              0.4444444444444444,
              "#bd3786"
             ],
             [
              0.5555555555555556,
              "#d8576b"
             ],
             [
              0.6666666666666666,
              "#ed7953"
             ],
             [
              0.7777777777777778,
              "#fb9f3a"
             ],
             [
              0.8888888888888888,
              "#fdca26"
             ],
             [
              1,
              "#f0f921"
             ]
            ],
            "type": "heatmapgl"
           }
          ],
          "histogram": [
           {
            "marker": {
             "colorbar": {
              "outlinewidth": 0,
              "ticks": ""
             }
            },
            "type": "histogram"
           }
          ],
          "histogram2d": [
           {
            "colorbar": {
             "outlinewidth": 0,
             "ticks": ""
            },
            "colorscale": [
             [
              0,
              "#0d0887"
             ],
             [
              0.1111111111111111,
              "#46039f"
             ],
             [
              0.2222222222222222,
              "#7201a8"
             ],
             [
              0.3333333333333333,
              "#9c179e"
             ],
             [
              0.4444444444444444,
              "#bd3786"
             ],
             [
              0.5555555555555556,
              "#d8576b"
             ],
             [
              0.6666666666666666,
              "#ed7953"
             ],
             [
              0.7777777777777778,
              "#fb9f3a"
             ],
             [
              0.8888888888888888,
              "#fdca26"
             ],
             [
              1,
              "#f0f921"
             ]
            ],
            "type": "histogram2d"
           }
          ],
          "histogram2dcontour": [
           {
            "colorbar": {
             "outlinewidth": 0,
             "ticks": ""
            },
            "colorscale": [
             [
              0,
              "#0d0887"
             ],
             [
              0.1111111111111111,
              "#46039f"
             ],
             [
              0.2222222222222222,
              "#7201a8"
             ],
             [
              0.3333333333333333,
              "#9c179e"
             ],
             [
              0.4444444444444444,
              "#bd3786"
             ],
             [
              0.5555555555555556,
              "#d8576b"
             ],
             [
              0.6666666666666666,
              "#ed7953"
             ],
             [
              0.7777777777777778,
              "#fb9f3a"
             ],
             [
              0.8888888888888888,
              "#fdca26"
             ],
             [
              1,
              "#f0f921"
             ]
            ],
            "type": "histogram2dcontour"
           }
          ],
          "mesh3d": [
           {
            "colorbar": {
             "outlinewidth": 0,
             "ticks": ""
            },
            "type": "mesh3d"
           }
          ],
          "parcoords": [
           {
            "line": {
             "colorbar": {
              "outlinewidth": 0,
              "ticks": ""
             }
            },
            "type": "parcoords"
           }
          ],
          "pie": [
           {
            "automargin": true,
            "type": "pie"
           }
          ],
          "scatter": [
           {
            "marker": {
             "colorbar": {
              "outlinewidth": 0,
              "ticks": ""
             }
            },
            "type": "scatter"
           }
          ],
          "scatter3d": [
           {
            "line": {
             "colorbar": {
              "outlinewidth": 0,
              "ticks": ""
             }
            },
            "marker": {
             "colorbar": {
              "outlinewidth": 0,
              "ticks": ""
             }
            },
            "type": "scatter3d"
           }
          ],
          "scattercarpet": [
           {
            "marker": {
             "colorbar": {
              "outlinewidth": 0,
              "ticks": ""
             }
            },
            "type": "scattercarpet"
           }
          ],
          "scattergeo": [
           {
            "marker": {
             "colorbar": {
              "outlinewidth": 0,
              "ticks": ""
             }
            },
            "type": "scattergeo"
           }
          ],
          "scattergl": [
           {
            "marker": {
             "colorbar": {
              "outlinewidth": 0,
              "ticks": ""
             }
            },
            "type": "scattergl"
           }
          ],
          "scattermapbox": [
           {
            "marker": {
             "colorbar": {
              "outlinewidth": 0,
              "ticks": ""
             }
            },
            "type": "scattermapbox"
           }
          ],
          "scatterpolar": [
           {
            "marker": {
             "colorbar": {
              "outlinewidth": 0,
              "ticks": ""
             }
            },
            "type": "scatterpolar"
           }
          ],
          "scatterpolargl": [
           {
            "marker": {
             "colorbar": {
              "outlinewidth": 0,
              "ticks": ""
             }
            },
            "type": "scatterpolargl"
           }
          ],
          "scatterternary": [
           {
            "marker": {
             "colorbar": {
              "outlinewidth": 0,
              "ticks": ""
             }
            },
            "type": "scatterternary"
           }
          ],
          "surface": [
           {
            "colorbar": {
             "outlinewidth": 0,
             "ticks": ""
            },
            "colorscale": [
             [
              0,
              "#0d0887"
             ],
             [
              0.1111111111111111,
              "#46039f"
             ],
             [
              0.2222222222222222,
              "#7201a8"
             ],
             [
              0.3333333333333333,
              "#9c179e"
             ],
             [
              0.4444444444444444,
              "#bd3786"
             ],
             [
              0.5555555555555556,
              "#d8576b"
             ],
             [
              0.6666666666666666,
              "#ed7953"
             ],
             [
              0.7777777777777778,
              "#fb9f3a"
             ],
             [
              0.8888888888888888,
              "#fdca26"
             ],
             [
              1,
              "#f0f921"
             ]
            ],
            "type": "surface"
           }
          ],
          "table": [
           {
            "cells": {
             "fill": {
              "color": "#EBF0F8"
             },
             "line": {
              "color": "white"
             }
            },
            "header": {
             "fill": {
              "color": "#C8D4E3"
             },
             "line": {
              "color": "white"
             }
            },
            "type": "table"
           }
          ]
         },
         "layout": {
          "annotationdefaults": {
           "arrowcolor": "#2a3f5f",
           "arrowhead": 0,
           "arrowwidth": 1
          },
          "coloraxis": {
           "colorbar": {
            "outlinewidth": 0,
            "ticks": ""
           }
          },
          "colorscale": {
           "diverging": [
            [
             0,
             "#8e0152"
            ],
            [
             0.1,
             "#c51b7d"
            ],
            [
             0.2,
             "#de77ae"
            ],
            [
             0.3,
             "#f1b6da"
            ],
            [
             0.4,
             "#fde0ef"
            ],
            [
             0.5,
             "#f7f7f7"
            ],
            [
             0.6,
             "#e6f5d0"
            ],
            [
             0.7,
             "#b8e186"
            ],
            [
             0.8,
             "#7fbc41"
            ],
            [
             0.9,
             "#4d9221"
            ],
            [
             1,
             "#276419"
            ]
           ],
           "sequential": [
            [
             0,
             "#0d0887"
            ],
            [
             0.1111111111111111,
             "#46039f"
            ],
            [
             0.2222222222222222,
             "#7201a8"
            ],
            [
             0.3333333333333333,
             "#9c179e"
            ],
            [
             0.4444444444444444,
             "#bd3786"
            ],
            [
             0.5555555555555556,
             "#d8576b"
            ],
            [
             0.6666666666666666,
             "#ed7953"
            ],
            [
             0.7777777777777778,
             "#fb9f3a"
            ],
            [
             0.8888888888888888,
             "#fdca26"
            ],
            [
             1,
             "#f0f921"
            ]
           ],
           "sequentialminus": [
            [
             0,
             "#0d0887"
            ],
            [
             0.1111111111111111,
             "#46039f"
            ],
            [
             0.2222222222222222,
             "#7201a8"
            ],
            [
             0.3333333333333333,
             "#9c179e"
            ],
            [
             0.4444444444444444,
             "#bd3786"
            ],
            [
             0.5555555555555556,
             "#d8576b"
            ],
            [
             0.6666666666666666,
             "#ed7953"
            ],
            [
             0.7777777777777778,
             "#fb9f3a"
            ],
            [
             0.8888888888888888,
             "#fdca26"
            ],
            [
             1,
             "#f0f921"
            ]
           ]
          },
          "colorway": [
           "#636efa",
           "#EF553B",
           "#00cc96",
           "#ab63fa",
           "#FFA15A",
           "#19d3f3",
           "#FF6692",
           "#B6E880",
           "#FF97FF",
           "#FECB52"
          ],
          "font": {
           "color": "#2a3f5f"
          },
          "geo": {
           "bgcolor": "white",
           "lakecolor": "white",
           "landcolor": "#E5ECF6",
           "showlakes": true,
           "showland": true,
           "subunitcolor": "white"
          },
          "hoverlabel": {
           "align": "left"
          },
          "hovermode": "closest",
          "mapbox": {
           "style": "light"
          },
          "paper_bgcolor": "white",
          "plot_bgcolor": "#E5ECF6",
          "polar": {
           "angularaxis": {
            "gridcolor": "white",
            "linecolor": "white",
            "ticks": ""
           },
           "bgcolor": "#E5ECF6",
           "radialaxis": {
            "gridcolor": "white",
            "linecolor": "white",
            "ticks": ""
           }
          },
          "scene": {
           "xaxis": {
            "backgroundcolor": "#E5ECF6",
            "gridcolor": "white",
            "gridwidth": 2,
            "linecolor": "white",
            "showbackground": true,
            "ticks": "",
            "zerolinecolor": "white"
           },
           "yaxis": {
            "backgroundcolor": "#E5ECF6",
            "gridcolor": "white",
            "gridwidth": 2,
            "linecolor": "white",
            "showbackground": true,
            "ticks": "",
            "zerolinecolor": "white"
           },
           "zaxis": {
            "backgroundcolor": "#E5ECF6",
            "gridcolor": "white",
            "gridwidth": 2,
            "linecolor": "white",
            "showbackground": true,
            "ticks": "",
            "zerolinecolor": "white"
           }
          },
          "shapedefaults": {
           "line": {
            "color": "#2a3f5f"
           }
          },
          "ternary": {
           "aaxis": {
            "gridcolor": "white",
            "linecolor": "white",
            "ticks": ""
           },
           "baxis": {
            "gridcolor": "white",
            "linecolor": "white",
            "ticks": ""
           },
           "bgcolor": "#E5ECF6",
           "caxis": {
            "gridcolor": "white",
            "linecolor": "white",
            "ticks": ""
           }
          },
          "title": {
           "x": 0.05
          },
          "xaxis": {
           "automargin": true,
           "gridcolor": "white",
           "linecolor": "white",
           "ticks": "",
           "title": {
            "standoff": 15
           },
           "zerolinecolor": "white",
           "zerolinewidth": 2
          },
          "yaxis": {
           "automargin": true,
           "gridcolor": "white",
           "linecolor": "white",
           "ticks": "",
           "title": {
            "standoff": 15
           },
           "zerolinecolor": "white",
           "zerolinewidth": 2
          }
         }
        },
        "title": {
         "text": "Average waiting time of Elevator Calls by Floor on weekend"
        },
        "updatemenus": [
         {
          "buttons": [
           {
            "args": [
             null,
             {
              "frame": {
               "duration": 500,
               "redraw": true
              },
              "fromcurrent": true,
              "mode": "immediate",
              "transition": {
               "duration": 500,
               "easing": "linear"
              }
             }
            ],
            "label": "&#9654;",
            "method": "animate"
           },
           {
            "args": [
             [
              null
             ],
             {
              "frame": {
               "duration": 0,
               "redraw": true
              },
              "fromcurrent": true,
              "mode": "immediate",
              "transition": {
               "duration": 0,
               "easing": "linear"
              }
             }
            ],
            "label": "&#9724;",
            "method": "animate"
           }
          ],
          "direction": "left",
          "pad": {
           "r": 10,
           "t": 70
          },
          "showactive": false,
          "type": "buttons",
          "x": 0.1,
          "xanchor": "right",
          "y": 0,
          "yanchor": "top"
         }
        ],
        "xaxis": {
         "anchor": "y",
         "categoryarray": [
          "1",
          "2",
          "3",
          "4",
          "5",
          "6",
          "7",
          "8",
          "9",
          "10",
          "11",
          "12",
          "13",
          "14",
          "15",
          "B1",
          "B2",
          "B3",
          "B4"
         ],
         "domain": [
          0,
          0.49
         ],
         "nticks": 19,
         "title": {
          "text": "floor"
         },
         "type": "category"
        },
        "xaxis2": {
         "anchor": "y2",
         "categoryarray": [
          "1",
          "2",
          "3",
          "4",
          "5",
          "6",
          "7",
          "8",
          "9",
          "10",
          "11",
          "12",
          "13",
          "14",
          "15",
          "B1",
          "B2",
          "B3",
          "B4"
         ],
         "domain": [
          0.51,
          1
         ],
         "matches": "x",
         "nticks": 19,
         "title": {
          "text": "floor"
         },
         "type": "category"
        },
        "yaxis": {
         "anchor": "x",
         "domain": [
          0,
          1
         ],
         "range": [
          0,
          200
         ],
         "title": {
          "text": "avgWait_weekend"
         }
        },
        "yaxis2": {
         "anchor": "x2",
         "domain": [
          0,
          1
         ],
         "matches": "y",
         "range": [
          0,
          200
         ],
         "showticklabels": false
        }
       }
      },
      "text/html": [
       "<div>\n",
       "        \n",
       "        \n",
       "            <div id=\"b28056ff-626e-4b4d-8d64-557b1ba4a78c\" class=\"plotly-graph-div\" style=\"height:525px; width:100%;\"></div>\n",
       "            <script type=\"text/javascript\">\n",
       "                require([\"plotly\"], function(Plotly) {\n",
       "                    window.PLOTLYENV=window.PLOTLYENV || {};\n",
       "                    \n",
       "                if (document.getElementById(\"b28056ff-626e-4b4d-8d64-557b1ba4a78c\")) {\n",
       "                    Plotly.newPlot(\n",
       "                        'b28056ff-626e-4b4d-8d64-557b1ba4a78c',\n",
       "                        [{\"alignmentgroup\": \"True\", \"hovertemplate\": \"direction=up<br>Local Time (GMT+8)=0<br>floor=%{x}<br>avgWait_weekend=%{y}<extra></extra>\", \"legendgroup\": \"up\", \"marker\": {\"color\": \"#636efa\"}, \"name\": \"up\", \"offsetgroup\": \"up\", \"orientation\": \"v\", \"showlegend\": true, \"textposition\": \"auto\", \"type\": \"bar\", \"x\": [1, 6, 7, 8, 9, 13], \"xaxis\": \"x\", \"y\": [22.039268292682923, 18.898055555555555, 17.69, 45.61, 33.42, 9.52], \"yaxis\": \"y\"}, {\"alignmentgroup\": \"True\", \"hovertemplate\": \"direction=down<br>Local Time (GMT+8)=0<br>floor=%{x}<br>avgWait_weekend=%{y}<extra></extra>\", \"legendgroup\": \"down\", \"marker\": {\"color\": \"#EF553B\"}, \"name\": \"down\", \"offsetgroup\": \"down\", \"orientation\": \"v\", \"showlegend\": true, \"textposition\": \"auto\", \"type\": \"bar\", \"x\": [6, 7, 9, 10, 11, 12, 13, 14, 15], \"xaxis\": \"x2\", \"y\": [14.251666666666667, 8.943333333333333, 15.746666666666664, 39.46, 15.775, 16.35, 17.56, 8.865, 13.495999999999999], \"yaxis\": \"y2\"}],\n",
       "                        {\"annotations\": [{\"font\": {}, \"showarrow\": false, \"text\": \"direction=up\", \"x\": 0.245, \"xanchor\": \"center\", \"xref\": \"paper\", \"y\": 1.0, \"yanchor\": \"bottom\", \"yref\": \"paper\"}, {\"font\": {}, \"showarrow\": false, \"text\": \"direction=down\", \"x\": 0.755, \"xanchor\": \"center\", \"xref\": \"paper\", \"y\": 1.0, \"yanchor\": \"bottom\", \"yref\": \"paper\"}], \"barmode\": \"relative\", \"legend\": {\"title\": {\"text\": \"direction\"}, \"tracegroupgap\": 0}, \"margin\": {\"t\": 60}, \"sliders\": [{\"active\": 0, \"currentvalue\": {\"prefix\": \"Local Time (GMT+8)=\"}, \"len\": 0.9, \"pad\": {\"b\": 10, \"t\": 60}, \"steps\": [{\"args\": [[\"0\"], {\"frame\": {\"duration\": 0, \"redraw\": true}, \"fromcurrent\": true, \"mode\": \"immediate\", \"transition\": {\"duration\": 0, \"easing\": \"linear\"}}], \"label\": \"0\", \"method\": \"animate\"}, {\"args\": [[\"1\"], {\"frame\": {\"duration\": 0, \"redraw\": true}, \"fromcurrent\": true, \"mode\": \"immediate\", \"transition\": {\"duration\": 0, \"easing\": \"linear\"}}], \"label\": \"1\", \"method\": \"animate\"}, {\"args\": [[\"2\"], {\"frame\": {\"duration\": 0, \"redraw\": true}, \"fromcurrent\": true, \"mode\": \"immediate\", \"transition\": {\"duration\": 0, \"easing\": \"linear\"}}], \"label\": \"2\", \"method\": \"animate\"}, {\"args\": [[\"3\"], {\"frame\": {\"duration\": 0, \"redraw\": true}, \"fromcurrent\": true, \"mode\": \"immediate\", \"transition\": {\"duration\": 0, \"easing\": \"linear\"}}], \"label\": \"3\", \"method\": \"animate\"}, {\"args\": [[\"4\"], {\"frame\": {\"duration\": 0, \"redraw\": true}, \"fromcurrent\": true, \"mode\": \"immediate\", \"transition\": {\"duration\": 0, \"easing\": \"linear\"}}], \"label\": \"4\", \"method\": \"animate\"}, {\"args\": [[\"5\"], {\"frame\": {\"duration\": 0, \"redraw\": true}, \"fromcurrent\": true, \"mode\": \"immediate\", \"transition\": {\"duration\": 0, \"easing\": \"linear\"}}], \"label\": \"5\", \"method\": \"animate\"}, {\"args\": [[\"6\"], {\"frame\": {\"duration\": 0, \"redraw\": true}, \"fromcurrent\": true, \"mode\": \"immediate\", \"transition\": {\"duration\": 0, \"easing\": \"linear\"}}], \"label\": \"6\", \"method\": \"animate\"}, {\"args\": [[\"7\"], {\"frame\": {\"duration\": 0, \"redraw\": true}, \"fromcurrent\": true, \"mode\": \"immediate\", \"transition\": {\"duration\": 0, \"easing\": \"linear\"}}], \"label\": \"7\", \"method\": \"animate\"}, {\"args\": [[\"8\"], {\"frame\": {\"duration\": 0, \"redraw\": true}, \"fromcurrent\": true, \"mode\": \"immediate\", \"transition\": {\"duration\": 0, \"easing\": \"linear\"}}], \"label\": \"8\", \"method\": \"animate\"}, {\"args\": [[\"9\"], {\"frame\": {\"duration\": 0, \"redraw\": true}, \"fromcurrent\": true, \"mode\": \"immediate\", \"transition\": {\"duration\": 0, \"easing\": \"linear\"}}], \"label\": \"9\", \"method\": \"animate\"}, {\"args\": [[\"10\"], {\"frame\": {\"duration\": 0, \"redraw\": true}, \"fromcurrent\": true, \"mode\": \"immediate\", \"transition\": {\"duration\": 0, \"easing\": \"linear\"}}], \"label\": \"10\", \"method\": \"animate\"}, {\"args\": [[\"11\"], {\"frame\": {\"duration\": 0, \"redraw\": true}, \"fromcurrent\": true, \"mode\": \"immediate\", \"transition\": {\"duration\": 0, \"easing\": \"linear\"}}], \"label\": \"11\", \"method\": \"animate\"}, {\"args\": [[\"12\"], {\"frame\": {\"duration\": 0, \"redraw\": true}, \"fromcurrent\": true, \"mode\": \"immediate\", \"transition\": {\"duration\": 0, \"easing\": \"linear\"}}], \"label\": \"12\", \"method\": \"animate\"}, {\"args\": [[\"13\"], {\"frame\": {\"duration\": 0, \"redraw\": true}, \"fromcurrent\": true, \"mode\": \"immediate\", \"transition\": {\"duration\": 0, \"easing\": \"linear\"}}], \"label\": \"13\", \"method\": \"animate\"}, {\"args\": [[\"14\"], {\"frame\": {\"duration\": 0, \"redraw\": true}, \"fromcurrent\": true, \"mode\": \"immediate\", \"transition\": {\"duration\": 0, \"easing\": \"linear\"}}], \"label\": \"14\", \"method\": \"animate\"}, {\"args\": [[\"15\"], {\"frame\": {\"duration\": 0, \"redraw\": true}, \"fromcurrent\": true, \"mode\": \"immediate\", \"transition\": {\"duration\": 0, \"easing\": \"linear\"}}], \"label\": \"15\", \"method\": \"animate\"}, {\"args\": [[\"16\"], {\"frame\": {\"duration\": 0, \"redraw\": true}, \"fromcurrent\": true, \"mode\": \"immediate\", \"transition\": {\"duration\": 0, \"easing\": \"linear\"}}], \"label\": \"16\", \"method\": \"animate\"}, {\"args\": [[\"17\"], {\"frame\": {\"duration\": 0, \"redraw\": true}, \"fromcurrent\": true, \"mode\": \"immediate\", \"transition\": {\"duration\": 0, \"easing\": \"linear\"}}], \"label\": \"17\", \"method\": \"animate\"}, {\"args\": [[\"18\"], {\"frame\": {\"duration\": 0, \"redraw\": true}, \"fromcurrent\": true, \"mode\": \"immediate\", \"transition\": {\"duration\": 0, \"easing\": \"linear\"}}], \"label\": \"18\", \"method\": \"animate\"}, {\"args\": [[\"19\"], {\"frame\": {\"duration\": 0, \"redraw\": true}, \"fromcurrent\": true, \"mode\": \"immediate\", \"transition\": {\"duration\": 0, \"easing\": \"linear\"}}], \"label\": \"19\", \"method\": \"animate\"}, {\"args\": [[\"20\"], {\"frame\": {\"duration\": 0, \"redraw\": true}, \"fromcurrent\": true, \"mode\": \"immediate\", \"transition\": {\"duration\": 0, \"easing\": \"linear\"}}], \"label\": \"20\", \"method\": \"animate\"}, {\"args\": [[\"21\"], {\"frame\": {\"duration\": 0, \"redraw\": true}, \"fromcurrent\": true, \"mode\": \"immediate\", \"transition\": {\"duration\": 0, \"easing\": \"linear\"}}], \"label\": \"21\", \"method\": \"animate\"}, {\"args\": [[\"22\"], {\"frame\": {\"duration\": 0, \"redraw\": true}, \"fromcurrent\": true, \"mode\": \"immediate\", \"transition\": {\"duration\": 0, \"easing\": \"linear\"}}], \"label\": \"22\", \"method\": \"animate\"}, {\"args\": [[\"23\"], {\"frame\": {\"duration\": 0, \"redraw\": true}, \"fromcurrent\": true, \"mode\": \"immediate\", \"transition\": {\"duration\": 0, \"easing\": \"linear\"}}], \"label\": \"23\", \"method\": \"animate\"}], \"x\": 0.1, \"xanchor\": \"left\", \"y\": 0, \"yanchor\": \"top\"}], \"template\": {\"data\": {\"bar\": [{\"error_x\": {\"color\": \"#2a3f5f\"}, \"error_y\": {\"color\": \"#2a3f5f\"}, \"marker\": {\"line\": {\"color\": \"#E5ECF6\", \"width\": 0.5}}, \"type\": \"bar\"}], \"barpolar\": [{\"marker\": {\"line\": {\"color\": \"#E5ECF6\", \"width\": 0.5}}, \"type\": \"barpolar\"}], \"carpet\": [{\"aaxis\": {\"endlinecolor\": \"#2a3f5f\", \"gridcolor\": \"white\", \"linecolor\": \"white\", \"minorgridcolor\": \"white\", \"startlinecolor\": \"#2a3f5f\"}, \"baxis\": {\"endlinecolor\": \"#2a3f5f\", \"gridcolor\": \"white\", \"linecolor\": \"white\", \"minorgridcolor\": \"white\", \"startlinecolor\": \"#2a3f5f\"}, \"type\": \"carpet\"}], \"choropleth\": [{\"colorbar\": {\"outlinewidth\": 0, \"ticks\": \"\"}, \"type\": \"choropleth\"}], \"contour\": [{\"colorbar\": {\"outlinewidth\": 0, \"ticks\": \"\"}, \"colorscale\": [[0.0, \"#0d0887\"], [0.1111111111111111, \"#46039f\"], [0.2222222222222222, \"#7201a8\"], [0.3333333333333333, \"#9c179e\"], [0.4444444444444444, \"#bd3786\"], [0.5555555555555556, \"#d8576b\"], [0.6666666666666666, \"#ed7953\"], [0.7777777777777778, \"#fb9f3a\"], [0.8888888888888888, \"#fdca26\"], [1.0, \"#f0f921\"]], \"type\": \"contour\"}], \"contourcarpet\": [{\"colorbar\": {\"outlinewidth\": 0, \"ticks\": \"\"}, \"type\": \"contourcarpet\"}], \"heatmap\": [{\"colorbar\": {\"outlinewidth\": 0, \"ticks\": \"\"}, \"colorscale\": [[0.0, \"#0d0887\"], [0.1111111111111111, \"#46039f\"], [0.2222222222222222, \"#7201a8\"], [0.3333333333333333, \"#9c179e\"], [0.4444444444444444, \"#bd3786\"], [0.5555555555555556, \"#d8576b\"], [0.6666666666666666, \"#ed7953\"], [0.7777777777777778, \"#fb9f3a\"], [0.8888888888888888, \"#fdca26\"], [1.0, \"#f0f921\"]], \"type\": \"heatmap\"}], \"heatmapgl\": [{\"colorbar\": {\"outlinewidth\": 0, \"ticks\": \"\"}, \"colorscale\": [[0.0, \"#0d0887\"], [0.1111111111111111, \"#46039f\"], [0.2222222222222222, \"#7201a8\"], [0.3333333333333333, \"#9c179e\"], [0.4444444444444444, \"#bd3786\"], [0.5555555555555556, \"#d8576b\"], [0.6666666666666666, \"#ed7953\"], [0.7777777777777778, \"#fb9f3a\"], [0.8888888888888888, \"#fdca26\"], [1.0, \"#f0f921\"]], \"type\": \"heatmapgl\"}], \"histogram\": [{\"marker\": {\"colorbar\": {\"outlinewidth\": 0, \"ticks\": \"\"}}, \"type\": \"histogram\"}], \"histogram2d\": [{\"colorbar\": {\"outlinewidth\": 0, \"ticks\": \"\"}, \"colorscale\": [[0.0, \"#0d0887\"], [0.1111111111111111, \"#46039f\"], [0.2222222222222222, \"#7201a8\"], [0.3333333333333333, \"#9c179e\"], [0.4444444444444444, \"#bd3786\"], [0.5555555555555556, \"#d8576b\"], [0.6666666666666666, \"#ed7953\"], [0.7777777777777778, \"#fb9f3a\"], [0.8888888888888888, \"#fdca26\"], [1.0, \"#f0f921\"]], \"type\": \"histogram2d\"}], \"histogram2dcontour\": [{\"colorbar\": {\"outlinewidth\": 0, \"ticks\": \"\"}, \"colorscale\": [[0.0, \"#0d0887\"], [0.1111111111111111, \"#46039f\"], [0.2222222222222222, \"#7201a8\"], [0.3333333333333333, \"#9c179e\"], [0.4444444444444444, \"#bd3786\"], [0.5555555555555556, \"#d8576b\"], [0.6666666666666666, \"#ed7953\"], [0.7777777777777778, \"#fb9f3a\"], [0.8888888888888888, \"#fdca26\"], [1.0, \"#f0f921\"]], \"type\": \"histogram2dcontour\"}], \"mesh3d\": [{\"colorbar\": {\"outlinewidth\": 0, \"ticks\": \"\"}, \"type\": \"mesh3d\"}], \"parcoords\": [{\"line\": {\"colorbar\": {\"outlinewidth\": 0, \"ticks\": \"\"}}, \"type\": \"parcoords\"}], \"pie\": [{\"automargin\": true, \"type\": \"pie\"}], \"scatter\": [{\"marker\": {\"colorbar\": {\"outlinewidth\": 0, \"ticks\": \"\"}}, \"type\": \"scatter\"}], \"scatter3d\": [{\"line\": {\"colorbar\": {\"outlinewidth\": 0, \"ticks\": \"\"}}, \"marker\": {\"colorbar\": {\"outlinewidth\": 0, \"ticks\": \"\"}}, \"type\": \"scatter3d\"}], \"scattercarpet\": [{\"marker\": {\"colorbar\": {\"outlinewidth\": 0, \"ticks\": \"\"}}, \"type\": \"scattercarpet\"}], \"scattergeo\": [{\"marker\": {\"colorbar\": {\"outlinewidth\": 0, \"ticks\": \"\"}}, \"type\": \"scattergeo\"}], \"scattergl\": [{\"marker\": {\"colorbar\": {\"outlinewidth\": 0, \"ticks\": \"\"}}, \"type\": \"scattergl\"}], \"scattermapbox\": [{\"marker\": {\"colorbar\": {\"outlinewidth\": 0, \"ticks\": \"\"}}, \"type\": \"scattermapbox\"}], \"scatterpolar\": [{\"marker\": {\"colorbar\": {\"outlinewidth\": 0, \"ticks\": \"\"}}, \"type\": \"scatterpolar\"}], \"scatterpolargl\": [{\"marker\": {\"colorbar\": {\"outlinewidth\": 0, \"ticks\": \"\"}}, \"type\": \"scatterpolargl\"}], \"scatterternary\": [{\"marker\": {\"colorbar\": {\"outlinewidth\": 0, \"ticks\": \"\"}}, \"type\": \"scatterternary\"}], \"surface\": [{\"colorbar\": {\"outlinewidth\": 0, \"ticks\": \"\"}, \"colorscale\": [[0.0, \"#0d0887\"], [0.1111111111111111, \"#46039f\"], [0.2222222222222222, \"#7201a8\"], [0.3333333333333333, \"#9c179e\"], [0.4444444444444444, \"#bd3786\"], [0.5555555555555556, \"#d8576b\"], [0.6666666666666666, \"#ed7953\"], [0.7777777777777778, \"#fb9f3a\"], [0.8888888888888888, \"#fdca26\"], [1.0, \"#f0f921\"]], \"type\": \"surface\"}], \"table\": [{\"cells\": {\"fill\": {\"color\": \"#EBF0F8\"}, \"line\": {\"color\": \"white\"}}, \"header\": {\"fill\": {\"color\": \"#C8D4E3\"}, \"line\": {\"color\": \"white\"}}, \"type\": \"table\"}]}, \"layout\": {\"annotationdefaults\": {\"arrowcolor\": \"#2a3f5f\", \"arrowhead\": 0, \"arrowwidth\": 1}, \"coloraxis\": {\"colorbar\": {\"outlinewidth\": 0, \"ticks\": \"\"}}, \"colorscale\": {\"diverging\": [[0, \"#8e0152\"], [0.1, \"#c51b7d\"], [0.2, \"#de77ae\"], [0.3, \"#f1b6da\"], [0.4, \"#fde0ef\"], [0.5, \"#f7f7f7\"], [0.6, \"#e6f5d0\"], [0.7, \"#b8e186\"], [0.8, \"#7fbc41\"], [0.9, \"#4d9221\"], [1, \"#276419\"]], \"sequential\": [[0.0, \"#0d0887\"], [0.1111111111111111, \"#46039f\"], [0.2222222222222222, \"#7201a8\"], [0.3333333333333333, \"#9c179e\"], [0.4444444444444444, \"#bd3786\"], [0.5555555555555556, \"#d8576b\"], [0.6666666666666666, \"#ed7953\"], [0.7777777777777778, \"#fb9f3a\"], [0.8888888888888888, \"#fdca26\"], [1.0, \"#f0f921\"]], \"sequentialminus\": [[0.0, \"#0d0887\"], [0.1111111111111111, \"#46039f\"], [0.2222222222222222, \"#7201a8\"], [0.3333333333333333, \"#9c179e\"], [0.4444444444444444, \"#bd3786\"], [0.5555555555555556, \"#d8576b\"], [0.6666666666666666, \"#ed7953\"], [0.7777777777777778, \"#fb9f3a\"], [0.8888888888888888, \"#fdca26\"], [1.0, \"#f0f921\"]]}, \"colorway\": [\"#636efa\", \"#EF553B\", \"#00cc96\", \"#ab63fa\", \"#FFA15A\", \"#19d3f3\", \"#FF6692\", \"#B6E880\", \"#FF97FF\", \"#FECB52\"], \"font\": {\"color\": \"#2a3f5f\"}, \"geo\": {\"bgcolor\": \"white\", \"lakecolor\": \"white\", \"landcolor\": \"#E5ECF6\", \"showlakes\": true, \"showland\": true, \"subunitcolor\": \"white\"}, \"hoverlabel\": {\"align\": \"left\"}, \"hovermode\": \"closest\", \"mapbox\": {\"style\": \"light\"}, \"paper_bgcolor\": \"white\", \"plot_bgcolor\": \"#E5ECF6\", \"polar\": {\"angularaxis\": {\"gridcolor\": \"white\", \"linecolor\": \"white\", \"ticks\": \"\"}, \"bgcolor\": \"#E5ECF6\", \"radialaxis\": {\"gridcolor\": \"white\", \"linecolor\": \"white\", \"ticks\": \"\"}}, \"scene\": {\"xaxis\": {\"backgroundcolor\": \"#E5ECF6\", \"gridcolor\": \"white\", \"gridwidth\": 2, \"linecolor\": \"white\", \"showbackground\": true, \"ticks\": \"\", \"zerolinecolor\": \"white\"}, \"yaxis\": {\"backgroundcolor\": \"#E5ECF6\", \"gridcolor\": \"white\", \"gridwidth\": 2, \"linecolor\": \"white\", \"showbackground\": true, \"ticks\": \"\", \"zerolinecolor\": \"white\"}, \"zaxis\": {\"backgroundcolor\": \"#E5ECF6\", \"gridcolor\": \"white\", \"gridwidth\": 2, \"linecolor\": \"white\", \"showbackground\": true, \"ticks\": \"\", \"zerolinecolor\": \"white\"}}, \"shapedefaults\": {\"line\": {\"color\": \"#2a3f5f\"}}, \"ternary\": {\"aaxis\": {\"gridcolor\": \"white\", \"linecolor\": \"white\", \"ticks\": \"\"}, \"baxis\": {\"gridcolor\": \"white\", \"linecolor\": \"white\", \"ticks\": \"\"}, \"bgcolor\": \"#E5ECF6\", \"caxis\": {\"gridcolor\": \"white\", \"linecolor\": \"white\", \"ticks\": \"\"}}, \"title\": {\"x\": 0.05}, \"xaxis\": {\"automargin\": true, \"gridcolor\": \"white\", \"linecolor\": \"white\", \"ticks\": \"\", \"title\": {\"standoff\": 15}, \"zerolinecolor\": \"white\", \"zerolinewidth\": 2}, \"yaxis\": {\"automargin\": true, \"gridcolor\": \"white\", \"linecolor\": \"white\", \"ticks\": \"\", \"title\": {\"standoff\": 15}, \"zerolinecolor\": \"white\", \"zerolinewidth\": 2}}}, \"title\": {\"text\": \"Average waiting time of Elevator Calls by Floor on weekend\"}, \"updatemenus\": [{\"buttons\": [{\"args\": [null, {\"frame\": {\"duration\": 500, \"redraw\": true}, \"fromcurrent\": true, \"mode\": \"immediate\", \"transition\": {\"duration\": 500, \"easing\": \"linear\"}}], \"label\": \"&#9654;\", \"method\": \"animate\"}, {\"args\": [[null], {\"frame\": {\"duration\": 0, \"redraw\": true}, \"fromcurrent\": true, \"mode\": \"immediate\", \"transition\": {\"duration\": 0, \"easing\": \"linear\"}}], \"label\": \"&#9724;\", \"method\": \"animate\"}], \"direction\": \"left\", \"pad\": {\"r\": 10, \"t\": 70}, \"showactive\": false, \"type\": \"buttons\", \"x\": 0.1, \"xanchor\": \"right\", \"y\": 0, \"yanchor\": \"top\"}], \"xaxis\": {\"anchor\": \"y\", \"categoryarray\": [\"1\", \"2\", \"3\", \"4\", \"5\", \"6\", \"7\", \"8\", \"9\", \"10\", \"11\", \"12\", \"13\", \"14\", \"15\", \"B1\", \"B2\", \"B3\", \"B4\"], \"domain\": [0.0, 0.49], \"nticks\": 19, \"title\": {\"text\": \"floor\"}, \"type\": \"category\"}, \"xaxis2\": {\"anchor\": \"y2\", \"categoryarray\": [\"1\", \"2\", \"3\", \"4\", \"5\", \"6\", \"7\", \"8\", \"9\", \"10\", \"11\", \"12\", \"13\", \"14\", \"15\", \"B1\", \"B2\", \"B3\", \"B4\"], \"domain\": [0.51, 1.0], \"matches\": \"x\", \"nticks\": 19, \"title\": {\"text\": \"floor\"}, \"type\": \"category\"}, \"yaxis\": {\"anchor\": \"x\", \"domain\": [0.0, 1.0], \"range\": [0, 200], \"title\": {\"text\": \"avgWait_weekend\"}}, \"yaxis2\": {\"anchor\": \"x2\", \"domain\": [0.0, 1.0], \"matches\": \"y\", \"range\": [0, 200], \"showticklabels\": false}},\n",
       "                        {\"responsive\": true}\n",
       "                    ).then(function(){\n",
       "                            Plotly.addFrames('b28056ff-626e-4b4d-8d64-557b1ba4a78c', [{\"data\": [{\"alignmentgroup\": \"True\", \"hovertemplate\": \"direction=up<br>Local Time (GMT+8)=0<br>floor=%{x}<br>avgWait_weekend=%{y}<extra></extra>\", \"legendgroup\": \"up\", \"marker\": {\"color\": \"#636efa\"}, \"name\": \"up\", \"offsetgroup\": \"up\", \"orientation\": \"v\", \"showlegend\": true, \"textposition\": \"auto\", \"x\": [1, 6, 7, 8, 9, 13], \"xaxis\": \"x\", \"y\": [22.039268292682923, 18.898055555555555, 17.69, 45.61, 33.42, 9.52], \"yaxis\": \"y\", \"type\": \"bar\"}, {\"alignmentgroup\": \"True\", \"hovertemplate\": \"direction=down<br>Local Time (GMT+8)=0<br>floor=%{x}<br>avgWait_weekend=%{y}<extra></extra>\", \"legendgroup\": \"down\", \"marker\": {\"color\": \"#EF553B\"}, \"name\": \"down\", \"offsetgroup\": \"down\", \"orientation\": \"v\", \"showlegend\": true, \"textposition\": \"auto\", \"x\": [6, 7, 9, 10, 11, 12, 13, 14, 15], \"xaxis\": \"x2\", \"y\": [14.251666666666667, 8.943333333333333, 15.746666666666664, 39.46, 15.775, 16.35, 17.56, 8.865, 13.495999999999999], \"yaxis\": \"y2\", \"type\": \"bar\"}], \"name\": \"0\"}, {\"data\": [{\"alignmentgroup\": \"True\", \"hovertemplate\": \"direction=up<br>Local Time (GMT+8)=1<br>floor=%{x}<br>avgWait_weekend=%{y}<extra></extra>\", \"legendgroup\": \"up\", \"marker\": {\"color\": \"#636efa\"}, \"name\": \"up\", \"offsetgroup\": \"up\", \"orientation\": \"v\", \"showlegend\": true, \"textposition\": \"auto\", \"x\": [1, 6, 7, 8, 9], \"xaxis\": \"x\", \"y\": [19.084473684210526, 16.70485714285714, 15.53, 9.6625, 1.01], \"yaxis\": \"y\", \"type\": \"bar\"}, {\"alignmentgroup\": \"True\", \"hovertemplate\": \"direction=down<br>Local Time (GMT+8)=1<br>floor=%{x}<br>avgWait_weekend=%{y}<extra></extra>\", \"legendgroup\": \"down\", \"marker\": {\"color\": \"#EF553B\"}, \"name\": \"down\", \"offsetgroup\": \"down\", \"orientation\": \"v\", \"showlegend\": true, \"textposition\": \"auto\", \"x\": [6, 7, 8, 9, 10, 11, 12, 13, 14, 15], \"xaxis\": \"x2\", \"y\": [15.98, 16.685, 11.247142857142858, 12.124, 17.7, 8.195, 9.53, 12.2075, 19.81, 10.136000000000001], \"yaxis\": \"y2\", \"type\": \"bar\"}], \"name\": \"1\"}, {\"data\": [{\"alignmentgroup\": \"True\", \"hovertemplate\": \"direction=up<br>Local Time (GMT+8)=2<br>floor=%{x}<br>avgWait_weekend=%{y}<extra></extra>\", \"legendgroup\": \"up\", \"marker\": {\"color\": \"#636efa\"}, \"name\": \"up\", \"offsetgroup\": \"up\", \"orientation\": \"v\", \"showlegend\": true, \"textposition\": \"auto\", \"x\": [1, 6, 8, 9, 14], \"xaxis\": \"x\", \"y\": [22.612666666666666, 14.736666666666665, 9.55, 40.78, 14.94], \"yaxis\": \"y\", \"type\": \"bar\"}, {\"alignmentgroup\": \"True\", \"hovertemplate\": \"direction=down<br>Local Time (GMT+8)=2<br>floor=%{x}<br>avgWait_weekend=%{y}<extra></extra>\", \"legendgroup\": \"down\", \"marker\": {\"color\": \"#EF553B\"}, \"name\": \"down\", \"offsetgroup\": \"down\", \"orientation\": \"v\", \"showlegend\": true, \"textposition\": \"auto\", \"x\": [6, 7, 8, 9, 10, 14, 15], \"xaxis\": \"x2\", \"y\": [24.57, 12.14, 8.0475, 8.593333333333334, 9.88, 16.32, 13.58], \"yaxis\": \"y2\", \"type\": \"bar\"}], \"name\": \"2\"}, {\"data\": [{\"alignmentgroup\": \"True\", \"hovertemplate\": \"direction=up<br>Local Time (GMT+8)=3<br>floor=%{x}<br>avgWait_weekend=%{y}<extra></extra>\", \"legendgroup\": \"up\", \"marker\": {\"color\": \"#636efa\"}, \"name\": \"up\", \"offsetgroup\": \"up\", \"orientation\": \"v\", \"showlegend\": true, \"textposition\": \"auto\", \"x\": [1, 6, 8], \"xaxis\": \"x\", \"y\": [23.6725, 23.2675, 42.18], \"yaxis\": \"y\", \"type\": \"bar\"}, {\"alignmentgroup\": \"True\", \"hovertemplate\": \"direction=down<br>Local Time (GMT+8)=3<br>floor=%{x}<br>avgWait_weekend=%{y}<extra></extra>\", \"legendgroup\": \"down\", \"marker\": {\"color\": \"#EF553B\"}, \"name\": \"down\", \"offsetgroup\": \"down\", \"orientation\": \"v\", \"showlegend\": true, \"textposition\": \"auto\", \"x\": [8, 9, 13, 14, 15], \"xaxis\": \"x2\", \"y\": [15.75, 2.72, 1.38, 1.37, 25.74], \"yaxis\": \"y2\", \"type\": \"bar\"}], \"name\": \"3\"}, {\"data\": [{\"alignmentgroup\": \"True\", \"hovertemplate\": \"direction=up<br>Local Time (GMT+8)=4<br>floor=%{x}<br>avgWait_weekend=%{y}<extra></extra>\", \"legendgroup\": \"up\", \"marker\": {\"color\": \"#636efa\"}, \"name\": \"up\", \"offsetgroup\": \"up\", \"orientation\": \"v\", \"showlegend\": true, \"textposition\": \"auto\", \"x\": [1, 6, 7, 8], \"xaxis\": \"x\", \"y\": [10.902, 10.0225, 17.093333333333334, 12.2], \"yaxis\": \"y\", \"type\": \"bar\"}, {\"alignmentgroup\": \"True\", \"hovertemplate\": \"direction=down<br>Local Time (GMT+8)=4<br>floor=%{x}<br>avgWait_weekend=%{y}<extra></extra>\", \"legendgroup\": \"down\", \"marker\": {\"color\": \"#EF553B\"}, \"name\": \"down\", \"offsetgroup\": \"down\", \"orientation\": \"v\", \"showlegend\": true, \"textposition\": \"auto\", \"x\": [7, 8, 9, 11, 14], \"xaxis\": \"x2\", \"y\": [9.165, 1.1766666666666667, 8.815, 19.13, 1.44], \"yaxis\": \"y2\", \"type\": \"bar\"}], \"name\": \"4\"}, {\"data\": [{\"alignmentgroup\": \"True\", \"hovertemplate\": \"direction=up<br>Local Time (GMT+8)=5<br>floor=%{x}<br>avgWait_weekend=%{y}<extra></extra>\", \"legendgroup\": \"up\", \"marker\": {\"color\": \"#636efa\"}, \"name\": \"up\", \"offsetgroup\": \"up\", \"orientation\": \"v\", \"showlegend\": true, \"textposition\": \"auto\", \"x\": [1, 6, 7], \"xaxis\": \"x\", \"y\": [12.58, 13.5675, 16.276666666666667], \"yaxis\": \"y\", \"type\": \"bar\"}, {\"alignmentgroup\": \"True\", \"hovertemplate\": \"direction=down<br>Local Time (GMT+8)=5<br>floor=%{x}<br>avgWait_weekend=%{y}<extra></extra>\", \"legendgroup\": \"down\", \"marker\": {\"color\": \"#EF553B\"}, \"name\": \"down\", \"offsetgroup\": \"down\", \"orientation\": \"v\", \"showlegend\": true, \"textposition\": \"auto\", \"x\": [8, 9, 10, 12, 14], \"xaxis\": \"x2\", \"y\": [19.358, 14.123333333333333, 18.57, 21.72, 23.95], \"yaxis\": \"y2\", \"type\": \"bar\"}], \"name\": \"5\"}, {\"data\": [{\"alignmentgroup\": \"True\", \"hovertemplate\": \"direction=up<br>Local Time (GMT+8)=6<br>floor=%{x}<br>avgWait_weekend=%{y}<extra></extra>\", \"legendgroup\": \"up\", \"marker\": {\"color\": \"#636efa\"}, \"name\": \"up\", \"offsetgroup\": \"up\", \"orientation\": \"v\", \"showlegend\": true, \"textposition\": \"auto\", \"x\": [1, 6, 7, 8, 9, 10, 11, 14], \"xaxis\": \"x\", \"y\": [11.291875, 22.804444444444453, 26.923333333333336, 23.10666666666667, 2.74, 9.965, 14.98, 19.04], \"yaxis\": \"y\", \"type\": \"bar\"}, {\"alignmentgroup\": \"True\", \"hovertemplate\": \"direction=down<br>Local Time (GMT+8)=6<br>floor=%{x}<br>avgWait_weekend=%{y}<extra></extra>\", \"legendgroup\": \"down\", \"marker\": {\"color\": \"#EF553B\"}, \"name\": \"down\", \"offsetgroup\": \"down\", \"orientation\": \"v\", \"showlegend\": true, \"textposition\": \"auto\", \"x\": [6, 7, 8, 9, 10, 11, 12, 13, 14, 15], \"xaxis\": \"x2\", \"y\": [1.41, 16.881935483870972, 21.509259259259263, 17.660270270270267, 17.21892857142857, 16.548666666666666, 18.823076923076922, 11.2525, 20.18, 18.248], \"yaxis\": \"y2\", \"type\": \"bar\"}], \"name\": \"6\"}, {\"data\": [{\"alignmentgroup\": \"True\", \"hovertemplate\": \"direction=up<br>Local Time (GMT+8)=7<br>floor=%{x}<br>avgWait_weekend=%{y}<extra></extra>\", \"legendgroup\": \"up\", \"marker\": {\"color\": \"#636efa\"}, \"name\": \"up\", \"offsetgroup\": \"up\", \"orientation\": \"v\", \"showlegend\": true, \"textposition\": \"auto\", \"x\": [1, 6, 7, 8, 10, 13, 14], \"xaxis\": \"x\", \"y\": [11.9715625, 19.635833333333334, 11.166666666666664, 17.776249999999994, 17.665, 16.93, 6.79], \"yaxis\": \"y\", \"type\": \"bar\"}, {\"alignmentgroup\": \"True\", \"hovertemplate\": \"direction=down<br>Local Time (GMT+8)=7<br>floor=%{x}<br>avgWait_weekend=%{y}<extra></extra>\", \"legendgroup\": \"down\", \"marker\": {\"color\": \"#EF553B\"}, \"name\": \"down\", \"offsetgroup\": \"down\", \"orientation\": \"v\", \"showlegend\": true, \"textposition\": \"auto\", \"x\": [6, 7, 8, 9, 10, 11, 12, 13, 14, 15], \"xaxis\": \"x2\", \"y\": [13.34875, 28.964615384615378, 25.23416666666667, 16.7553125, 18.375, 15.669615384615385, 17.025, 16.955000000000002, 23.863157894736844, 25.214], \"yaxis\": \"y2\", \"type\": \"bar\"}], \"name\": \"7\"}, {\"data\": [{\"alignmentgroup\": \"True\", \"hovertemplate\": \"direction=up<br>Local Time (GMT+8)=8<br>floor=%{x}<br>avgWait_weekend=%{y}<extra></extra>\", \"legendgroup\": \"up\", \"marker\": {\"color\": \"#636efa\"}, \"name\": \"up\", \"offsetgroup\": \"up\", \"orientation\": \"v\", \"showlegend\": true, \"textposition\": \"auto\", \"x\": [1, 6, 7, 8, 9, 11, 12, 13, 14], \"xaxis\": \"x\", \"y\": [17.700576923076927, 22.97230769230769, 30.883333333333336, 14.002307692307694, 34.64, 12.31, 13.56, 14.78, 1.36], \"yaxis\": \"y\", \"type\": \"bar\"}, {\"alignmentgroup\": \"True\", \"hovertemplate\": \"direction=down<br>Local Time (GMT+8)=8<br>floor=%{x}<br>avgWait_weekend=%{y}<extra></extra>\", \"legendgroup\": \"down\", \"marker\": {\"color\": \"#EF553B\"}, \"name\": \"down\", \"offsetgroup\": \"down\", \"orientation\": \"v\", \"showlegend\": true, \"textposition\": \"auto\", \"x\": [6, 7, 8, 9, 10, 11, 12, 13, 14, 15], \"xaxis\": \"x2\", \"y\": [16.6234375, 27.13421052631579, 25.830740740740747, 21.589285714285715, 14.3035, 21.12111111111111, 21.21392857142857, 23.407241379310346, 20.23432432432433, 18.447586206896556], \"yaxis\": \"y2\", \"type\": \"bar\"}], \"name\": \"8\"}, {\"data\": [{\"alignmentgroup\": \"True\", \"hovertemplate\": \"direction=up<br>Local Time (GMT+8)=9<br>floor=%{x}<br>avgWait_weekend=%{y}<extra></extra>\", \"legendgroup\": \"up\", \"marker\": {\"color\": \"#636efa\"}, \"name\": \"up\", \"offsetgroup\": \"up\", \"orientation\": \"v\", \"showlegend\": true, \"textposition\": \"auto\", \"x\": [1, 6, 7, 8, 9, 12], \"xaxis\": \"x\", \"y\": [12.764411764705885, 20.067924528301887, 12.835, 18.645, 57.07, 12.04], \"yaxis\": \"y\", \"type\": \"bar\"}, {\"alignmentgroup\": \"True\", \"hovertemplate\": \"direction=down<br>Local Time (GMT+8)=9<br>floor=%{x}<br>avgWait_weekend=%{y}<extra></extra>\", \"legendgroup\": \"down\", \"marker\": {\"color\": \"#EF553B\"}, \"name\": \"down\", \"offsetgroup\": \"down\", \"orientation\": \"v\", \"showlegend\": true, \"textposition\": \"auto\", \"x\": [6, 7, 8, 9, 10, 11, 12, 13, 14, 15], \"xaxis\": \"x2\", \"y\": [15.89, 24.45217391304348, 23.216190476190476, 16.615263157894738, 22.419, 14.339166666666666, 29.223000000000006, 17.315555555555555, 20.104444444444443, 28.87875], \"yaxis\": \"y2\", \"type\": \"bar\"}], \"name\": \"9\"}, {\"data\": [{\"alignmentgroup\": \"True\", \"hovertemplate\": \"direction=up<br>Local Time (GMT+8)=10<br>floor=%{x}<br>avgWait_weekend=%{y}<extra></extra>\", \"legendgroup\": \"up\", \"marker\": {\"color\": \"#636efa\"}, \"name\": \"up\", \"offsetgroup\": \"up\", \"orientation\": \"v\", \"showlegend\": true, \"textposition\": \"auto\", \"x\": [1, 6, 7, 8, 9, 11, 12, 13, 14], \"xaxis\": \"x\", \"y\": [10.526142857142858, 18.088478260869568, 24.31333333333333, 13.992857142857142, 38.09, 50.42, 48.74, 21.77, 9.53], \"yaxis\": \"y\", \"type\": \"bar\"}, {\"alignmentgroup\": \"True\", \"hovertemplate\": \"direction=down<br>Local Time (GMT+8)=10<br>floor=%{x}<br>avgWait_weekend=%{y}<extra></extra>\", \"legendgroup\": \"down\", \"marker\": {\"color\": \"#EF553B\"}, \"name\": \"down\", \"offsetgroup\": \"down\", \"orientation\": \"v\", \"showlegend\": true, \"textposition\": \"auto\", \"x\": [6, 7, 8, 9, 10, 11, 12, 13, 14, 15], \"xaxis\": \"x2\", \"y\": [14.79, 16.550434782608693, 23.008235294117647, 17.430714285714284, 18.545, 21.16470588235294, 18.234615384615385, 30.376666666666665, 19.02952380952381, 20.865384615384613], \"yaxis\": \"y2\", \"type\": \"bar\"}], \"name\": \"10\"}, {\"data\": [{\"alignmentgroup\": \"True\", \"hovertemplate\": \"direction=up<br>Local Time (GMT+8)=11<br>floor=%{x}<br>avgWait_weekend=%{y}<extra></extra>\", \"legendgroup\": \"up\", \"marker\": {\"color\": \"#636efa\"}, \"name\": \"up\", \"offsetgroup\": \"up\", \"orientation\": \"v\", \"showlegend\": true, \"textposition\": \"auto\", \"x\": [1, 6, 7, 8, 9, 14], \"xaxis\": \"x\", \"y\": [7.880253164556963, 21.88, 4.025, 15.4175, 25.7, 32.57], \"yaxis\": \"y\", \"type\": \"bar\"}, {\"alignmentgroup\": \"True\", \"hovertemplate\": \"direction=down<br>Local Time (GMT+8)=11<br>floor=%{x}<br>avgWait_weekend=%{y}<extra></extra>\", \"legendgroup\": \"down\", \"marker\": {\"color\": \"#EF553B\"}, \"name\": \"down\", \"offsetgroup\": \"down\", \"orientation\": \"v\", \"showlegend\": true, \"textposition\": \"auto\", \"x\": [6, 7, 8, 9, 10, 11, 12, 13, 14, 15], \"xaxis\": \"x2\", \"y\": [15.003703703703707, 21.905862068965515, 16.479, 18.018709677419352, 14.967000000000002, 26.855, 21.787, 12.78, 25.465, 22.24857142857143], \"yaxis\": \"y2\", \"type\": \"bar\"}], \"name\": \"11\"}, {\"data\": [{\"alignmentgroup\": \"True\", \"hovertemplate\": \"direction=up<br>Local Time (GMT+8)=12<br>floor=%{x}<br>avgWait_weekend=%{y}<extra></extra>\", \"legendgroup\": \"up\", \"marker\": {\"color\": \"#636efa\"}, \"name\": \"up\", \"offsetgroup\": \"up\", \"orientation\": \"v\", \"showlegend\": true, \"textposition\": \"auto\", \"x\": [1, 6, 7, 8, 10, 11, 13, 14], \"xaxis\": \"x\", \"y\": [16.717916666666667, 20.97025, 15.182, 13.436000000000002, 49.65, 45.2, 22.81, 19.23], \"yaxis\": \"y\", \"type\": \"bar\"}, {\"alignmentgroup\": \"True\", \"hovertemplate\": \"direction=down<br>Local Time (GMT+8)=12<br>floor=%{x}<br>avgWait_weekend=%{y}<extra></extra>\", \"legendgroup\": \"down\", \"marker\": {\"color\": \"#EF553B\"}, \"name\": \"down\", \"offsetgroup\": \"down\", \"orientation\": \"v\", \"showlegend\": true, \"textposition\": \"auto\", \"x\": [6, 7, 8, 9, 10, 11, 12, 13, 14, 15], \"xaxis\": \"x2\", \"y\": [18.973333333333336, 26.387916666666666, 19.205, 20.383030303030306, 18.976428571428574, 19.930689655172415, 16.113636363636363, 24.42388888888889, 23.652222222222218, 25.311764705882354], \"yaxis\": \"y2\", \"type\": \"bar\"}], \"name\": \"12\"}, {\"data\": [{\"alignmentgroup\": \"True\", \"hovertemplate\": \"direction=up<br>Local Time (GMT+8)=13<br>floor=%{x}<br>avgWait_weekend=%{y}<extra></extra>\", \"legendgroup\": \"up\", \"marker\": {\"color\": \"#636efa\"}, \"name\": \"up\", \"offsetgroup\": \"up\", \"orientation\": \"v\", \"showlegend\": true, \"textposition\": \"auto\", \"x\": [1, 6, 7, 8, 10, 12], \"xaxis\": \"x\", \"y\": [16.699514563106803, 16.792708333333334, 13.311666666666667, 12.304, 22.97, 27.23], \"yaxis\": \"y\", \"type\": \"bar\"}, {\"alignmentgroup\": \"True\", \"hovertemplate\": \"direction=down<br>Local Time (GMT+8)=13<br>floor=%{x}<br>avgWait_weekend=%{y}<extra></extra>\", \"legendgroup\": \"down\", \"marker\": {\"color\": \"#EF553B\"}, \"name\": \"down\", \"offsetgroup\": \"down\", \"orientation\": \"v\", \"showlegend\": true, \"textposition\": \"auto\", \"x\": [6, 7, 8, 9, 10, 11, 12, 13, 14, 15], \"xaxis\": \"x2\", \"y\": [22.90571428571429, 18.468, 21.53181818181818, 20.044117647058822, 19.102, 15.192272727272728, 19.968461538461536, 16.755000000000006, 16.345945945945946, 21.681785714285716], \"yaxis\": \"y2\", \"type\": \"bar\"}], \"name\": \"13\"}, {\"data\": [{\"alignmentgroup\": \"True\", \"hovertemplate\": \"direction=up<br>Local Time (GMT+8)=14<br>floor=%{x}<br>avgWait_weekend=%{y}<extra></extra>\", \"legendgroup\": \"up\", \"marker\": {\"color\": \"#636efa\"}, \"name\": \"up\", \"offsetgroup\": \"up\", \"orientation\": \"v\", \"showlegend\": true, \"textposition\": \"auto\", \"x\": [1, 6, 7, 8, 9, 10, 12, 13, 14], \"xaxis\": \"x\", \"y\": [12.785421686746991, 18.575526315789475, 15.596470588235292, 17.087, 9.52, 13.44, 10.78, 31.36, 34.495], \"yaxis\": \"y\", \"type\": \"bar\"}, {\"alignmentgroup\": \"True\", \"hovertemplate\": \"direction=down<br>Local Time (GMT+8)=14<br>floor=%{x}<br>avgWait_weekend=%{y}<extra></extra>\", \"legendgroup\": \"down\", \"marker\": {\"color\": \"#EF553B\"}, \"name\": \"down\", \"offsetgroup\": \"down\", \"orientation\": \"v\", \"showlegend\": true, \"textposition\": \"auto\", \"x\": [6, 7, 8, 9, 10, 11, 12, 13, 14, 15], \"xaxis\": \"x2\", \"y\": [15.179473684210526, 26.18075, 20.109473684210524, 19.444230769230767, 19.8316, 18.39190476190476, 23.93947368421053, 14.989047619047618, 19.296190476190482, 23.9888], \"yaxis\": \"y2\", \"type\": \"bar\"}], \"name\": \"14\"}, {\"data\": [{\"alignmentgroup\": \"True\", \"hovertemplate\": \"direction=up<br>Local Time (GMT+8)=15<br>floor=%{x}<br>avgWait_weekend=%{y}<extra></extra>\", \"legendgroup\": \"up\", \"marker\": {\"color\": \"#636efa\"}, \"name\": \"up\", \"offsetgroup\": \"up\", \"orientation\": \"v\", \"showlegend\": true, \"textposition\": \"auto\", \"x\": [1, 6, 7, 8, 9], \"xaxis\": \"x\", \"y\": [10.655223880597015, 13.849318181818182, 17.65, 9.86, 16.845], \"yaxis\": \"y\", \"type\": \"bar\"}, {\"alignmentgroup\": \"True\", \"hovertemplate\": \"direction=down<br>Local Time (GMT+8)=15<br>floor=%{x}<br>avgWait_weekend=%{y}<extra></extra>\", \"legendgroup\": \"down\", \"marker\": {\"color\": \"#EF553B\"}, \"name\": \"down\", \"offsetgroup\": \"down\", \"orientation\": \"v\", \"showlegend\": true, \"textposition\": \"auto\", \"x\": [6, 7, 8, 9, 10, 11, 12, 13, 14, 15], \"xaxis\": \"x2\", \"y\": [15.232000000000001, 14.112307692307693, 21.63416666666667, 16.517906976744186, 16.450000000000006, 17.1052, 15.616666666666667, 20.638181818181817, 21.171666666666667, 26.5545], \"yaxis\": \"y2\", \"type\": \"bar\"}], \"name\": \"15\"}, {\"data\": [{\"alignmentgroup\": \"True\", \"hovertemplate\": \"direction=up<br>Local Time (GMT+8)=16<br>floor=%{x}<br>avgWait_weekend=%{y}<extra></extra>\", \"legendgroup\": \"up\", \"marker\": {\"color\": \"#636efa\"}, \"name\": \"up\", \"offsetgroup\": \"up\", \"orientation\": \"v\", \"showlegend\": true, \"textposition\": \"auto\", \"x\": [1, 6, 7, 8], \"xaxis\": \"x\", \"y\": [16.56198275862069, 19.157710843373497, 6.7250000000000005, 12.13], \"yaxis\": \"y\", \"type\": \"bar\"}, {\"alignmentgroup\": \"True\", \"hovertemplate\": \"direction=down<br>Local Time (GMT+8)=16<br>floor=%{x}<br>avgWait_weekend=%{y}<extra></extra>\", \"legendgroup\": \"down\", \"marker\": {\"color\": \"#EF553B\"}, \"name\": \"down\", \"offsetgroup\": \"down\", \"orientation\": \"v\", \"showlegend\": true, \"textposition\": \"auto\", \"x\": [6, 7, 8, 9, 10, 11, 12, 13, 14, 15], \"xaxis\": \"x2\", \"y\": [20.21696969696969, 19.902083333333334, 18.949333333333332, 15.912352941176472, 18.019375, 18.059500000000003, 12.0325, 23.07533333333333, 23.844, 22.64083333333333], \"yaxis\": \"y2\", \"type\": \"bar\"}], \"name\": \"16\"}, {\"data\": [{\"alignmentgroup\": \"True\", \"hovertemplate\": \"direction=up<br>Local Time (GMT+8)=17<br>floor=%{x}<br>avgWait_weekend=%{y}<extra></extra>\", \"legendgroup\": \"up\", \"marker\": {\"color\": \"#636efa\"}, \"name\": \"up\", \"offsetgroup\": \"up\", \"orientation\": \"v\", \"showlegend\": true, \"textposition\": \"auto\", \"x\": [1, 6, 7, 8, 9, 10, 13], \"xaxis\": \"x\", \"y\": [14.814285714285711, 21.858295454545456, 10.162727272727274, 19.302222222222227, 91.29, 24.22, 1.28], \"yaxis\": \"y\", \"type\": \"bar\"}, {\"alignmentgroup\": \"True\", \"hovertemplate\": \"direction=down<br>Local Time (GMT+8)=17<br>floor=%{x}<br>avgWait_weekend=%{y}<extra></extra>\", \"legendgroup\": \"down\", \"marker\": {\"color\": \"#EF553B\"}, \"name\": \"down\", \"offsetgroup\": \"down\", \"orientation\": \"v\", \"showlegend\": true, \"textposition\": \"auto\", \"x\": [6, 7, 8, 9, 10, 11, 12, 13, 14, 15], \"xaxis\": \"x2\", \"y\": [27.968387096774197, 26.93133333333333, 37.2221875, 18.616129032258065, 19.145151515151515, 19.33, 22.801052631578948, 18.0212, 25.81730769230769, 30.112], \"yaxis\": \"y2\", \"type\": \"bar\"}], \"name\": \"17\"}, {\"data\": [{\"alignmentgroup\": \"True\", \"hovertemplate\": \"direction=up<br>Local Time (GMT+8)=18<br>floor=%{x}<br>avgWait_weekend=%{y}<extra></extra>\", \"legendgroup\": \"up\", \"marker\": {\"color\": \"#636efa\"}, \"name\": \"up\", \"offsetgroup\": \"up\", \"orientation\": \"v\", \"showlegend\": true, \"textposition\": \"auto\", \"x\": [1, 6, 8, 11, 13], \"xaxis\": \"x\", \"y\": [18.083763440860213, 24.058571428571426, 17.98125, 38.75, 21.61], \"yaxis\": \"y\", \"type\": \"bar\"}, {\"alignmentgroup\": \"True\", \"hovertemplate\": \"direction=down<br>Local Time (GMT+8)=18<br>floor=%{x}<br>avgWait_weekend=%{y}<extra></extra>\", \"legendgroup\": \"down\", \"marker\": {\"color\": \"#EF553B\"}, \"name\": \"down\", \"offsetgroup\": \"down\", \"orientation\": \"v\", \"showlegend\": true, \"textposition\": \"auto\", \"x\": [6, 7, 8, 9, 10, 11, 12, 13, 14, 15], \"xaxis\": \"x2\", \"y\": [19.724, 27.761000000000006, 17.791428571428572, 14.9425, 19.4, 25.04357142857143, 16.68125, 17.685833333333328, 28.043529411764702, 22.009047619047614], \"yaxis\": \"y2\", \"type\": \"bar\"}], \"name\": \"18\"}, {\"data\": [{\"alignmentgroup\": \"True\", \"hovertemplate\": \"direction=up<br>Local Time (GMT+8)=19<br>floor=%{x}<br>avgWait_weekend=%{y}<extra></extra>\", \"legendgroup\": \"up\", \"marker\": {\"color\": \"#636efa\"}, \"name\": \"up\", \"offsetgroup\": \"up\", \"orientation\": \"v\", \"showlegend\": true, \"textposition\": \"auto\", \"x\": [1, 6, 7, 8, 14], \"xaxis\": \"x\", \"y\": [18.03739130434783, 19.533, 29.34666666666667, 17.5175, 13.34], \"yaxis\": \"y\", \"type\": \"bar\"}, {\"alignmentgroup\": \"True\", \"hovertemplate\": \"direction=down<br>Local Time (GMT+8)=19<br>floor=%{x}<br>avgWait_weekend=%{y}<extra></extra>\", \"legendgroup\": \"down\", \"marker\": {\"color\": \"#EF553B\"}, \"name\": \"down\", \"offsetgroup\": \"down\", \"orientation\": \"v\", \"showlegend\": true, \"textposition\": \"auto\", \"x\": [6, 7, 8, 9, 10, 11, 12, 13, 14, 15], \"xaxis\": \"x2\", \"y\": [16.738571428571426, 21.86090909090909, 24.258000000000006, 15.6525, 18.537333333333333, 20.49, 19.96363636363636, 14.414285714285715, 20.335714285714285, 16.23894736842105], \"yaxis\": \"y2\", \"type\": \"bar\"}], \"name\": \"19\"}, {\"data\": [{\"alignmentgroup\": \"True\", \"hovertemplate\": \"direction=up<br>Local Time (GMT+8)=20<br>floor=%{x}<br>avgWait_weekend=%{y}<extra></extra>\", \"legendgroup\": \"up\", \"marker\": {\"color\": \"#636efa\"}, \"name\": \"up\", \"offsetgroup\": \"up\", \"orientation\": \"v\", \"showlegend\": true, \"textposition\": \"auto\", \"x\": [1, 6, 7, 8, 10, 11, 13], \"xaxis\": \"x\", \"y\": [17.257261904761904, 17.91588235294118, 10.07, 32.495999999999995, 1.47, 38.09, 40.77], \"yaxis\": \"y\", \"type\": \"bar\"}, {\"alignmentgroup\": \"True\", \"hovertemplate\": \"direction=down<br>Local Time (GMT+8)=20<br>floor=%{x}<br>avgWait_weekend=%{y}<extra></extra>\", \"legendgroup\": \"down\", \"marker\": {\"color\": \"#EF553B\"}, \"name\": \"down\", \"offsetgroup\": \"down\", \"orientation\": \"v\", \"showlegend\": true, \"textposition\": \"auto\", \"x\": [6, 7, 8, 9, 10, 11, 12, 13, 14, 15], \"xaxis\": \"x2\", \"y\": [20.896, 17.11, 25.931176470588237, 20.432000000000002, 18.234285714285715, 22.78, 20.6325, 31.23875, 19.33, 18.53529411764706], \"yaxis\": \"y2\", \"type\": \"bar\"}], \"name\": \"20\"}, {\"data\": [{\"alignmentgroup\": \"True\", \"hovertemplate\": \"direction=up<br>Local Time (GMT+8)=21<br>floor=%{x}<br>avgWait_weekend=%{y}<extra></extra>\", \"legendgroup\": \"up\", \"marker\": {\"color\": \"#636efa\"}, \"name\": \"up\", \"offsetgroup\": \"up\", \"orientation\": \"v\", \"showlegend\": true, \"textposition\": \"auto\", \"x\": [1, 6, 8, 9, 14], \"xaxis\": \"x\", \"y\": [18.45131313131313, 15.66333333333333, 15.386666666666667, 40.81, 1.34], \"yaxis\": \"y\", \"type\": \"bar\"}, {\"alignmentgroup\": \"True\", \"hovertemplate\": \"direction=down<br>Local Time (GMT+8)=21<br>floor=%{x}<br>avgWait_weekend=%{y}<extra></extra>\", \"legendgroup\": \"down\", \"marker\": {\"color\": \"#EF553B\"}, \"name\": \"down\", \"offsetgroup\": \"down\", \"orientation\": \"v\", \"showlegend\": true, \"textposition\": \"auto\", \"x\": [6, 7, 8, 9, 10, 11, 12, 13, 14, 15], \"xaxis\": \"x2\", \"y\": [40.18, 12.693333333333333, 28.57333333333333, 10.91, 9.374545454545457, 16.967777777777773, 11.149090909090907, 30.201428571428576, 13.419999999999998, 10.544615384615383], \"yaxis\": \"y2\", \"type\": \"bar\"}], \"name\": \"21\"}, {\"data\": [{\"alignmentgroup\": \"True\", \"hovertemplate\": \"direction=up<br>Local Time (GMT+8)=22<br>floor=%{x}<br>avgWait_weekend=%{y}<extra></extra>\", \"legendgroup\": \"up\", \"marker\": {\"color\": \"#636efa\"}, \"name\": \"up\", \"offsetgroup\": \"up\", \"orientation\": \"v\", \"showlegend\": true, \"textposition\": \"auto\", \"x\": [1, 6, 7, 8, 13], \"xaxis\": \"x\", \"y\": [18.986626506024095, 17.91272727272727, 15.7575, 14.9275, 12.24], \"yaxis\": \"y\", \"type\": \"bar\"}, {\"alignmentgroup\": \"True\", \"hovertemplate\": \"direction=down<br>Local Time (GMT+8)=22<br>floor=%{x}<br>avgWait_weekend=%{y}<extra></extra>\", \"legendgroup\": \"down\", \"marker\": {\"color\": \"#EF553B\"}, \"name\": \"down\", \"offsetgroup\": \"down\", \"orientation\": \"v\", \"showlegend\": true, \"textposition\": \"auto\", \"x\": [6, 7, 8, 9, 10, 11, 12, 13, 14, 15], \"xaxis\": \"x2\", \"y\": [13.59, 21.854761904761904, 22.00107142857143, 15.54, 19.02368421052632, 22.812857142857148, 15.729230769230773, 23.0825, 14.754166666666665, 26.35857142857143], \"yaxis\": \"y2\", \"type\": \"bar\"}], \"name\": \"22\"}, {\"data\": [{\"alignmentgroup\": \"True\", \"hovertemplate\": \"direction=up<br>Local Time (GMT+8)=23<br>floor=%{x}<br>avgWait_weekend=%{y}<extra></extra>\", \"legendgroup\": \"up\", \"marker\": {\"color\": \"#636efa\"}, \"name\": \"up\", \"offsetgroup\": \"up\", \"orientation\": \"v\", \"showlegend\": true, \"textposition\": \"auto\", \"x\": [1, 6, 7, 8, 9, 10, 13], \"xaxis\": \"x\", \"y\": [17.182807017543865, 18.267894736842106, 12.9, 14.553333333333333, 13.69, 18.305, 36.71], \"yaxis\": \"y\", \"type\": \"bar\"}, {\"alignmentgroup\": \"True\", \"hovertemplate\": \"direction=down<br>Local Time (GMT+8)=23<br>floor=%{x}<br>avgWait_weekend=%{y}<extra></extra>\", \"legendgroup\": \"down\", \"marker\": {\"color\": \"#EF553B\"}, \"name\": \"down\", \"offsetgroup\": \"down\", \"orientation\": \"v\", \"showlegend\": true, \"textposition\": \"auto\", \"x\": [6, 7, 8, 9, 10, 11, 12, 13, 14, 15], \"xaxis\": \"x2\", \"y\": [15.645, 34.654999999999994, 24.1825, 17.34, 17.706470588235298, 12.304117647058822, 14.262222222222226, 21.0775, 28.69333333333333, 19.0925], \"yaxis\": \"y2\", \"type\": \"bar\"}], \"name\": \"23\"}]);\n",
       "                        }).then(function(){\n",
       "                            \n",
       "var gd = document.getElementById('b28056ff-626e-4b4d-8d64-557b1ba4a78c');\n",
       "var x = new MutationObserver(function (mutations, observer) {{\n",
       "        var display = window.getComputedStyle(gd).display;\n",
       "        if (!display || display === 'none') {{\n",
       "            console.log([gd, 'removed!']);\n",
       "            Plotly.purge(gd);\n",
       "            observer.disconnect();\n",
       "        }}\n",
       "}});\n",
       "\n",
       "// Listen for the removal of the full notebook cells\n",
       "var notebookContainer = gd.closest('#notebook-container');\n",
       "if (notebookContainer) {{\n",
       "    x.observe(notebookContainer, {childList: true});\n",
       "}}\n",
       "\n",
       "// Listen for the clearing of the current output cell\n",
       "var outputEl = gd.closest('.output');\n",
       "if (outputEl) {{\n",
       "    x.observe(outputEl, {childList: true});\n",
       "}}\n",
       "\n",
       "                        })\n",
       "                };\n",
       "                });\n",
       "            </script>\n",
       "        </div>"
      ]
     },
     "metadata": {},
     "output_type": "display_data"
    }
   ],
   "source": [
    "# floor_list = ['B4','B3', 'B2','B1','01', '02', '03', '04', '05', '06', '07', '08', '09', '10', '11','12', '13', '14', '15']\n",
    "\n",
    "df_s_weekend.floor.unique()\n",
    "\n",
    "fig = px.bar(data_frame=df_s_weekend, \n",
    "             \n",
    "             ## 這裡的data frame都先用 R aggregate過了，以節省運算時間\n",
    "             x = \"floor\", y = \"avgWait_weekend\",\n",
    "             \n",
    "             ## 以方向分兩張圖，並上色\n",
    "             facet_col=\"direction\",color=\"direction\",\n",
    "             \n",
    "             ## 自動生成slider\n",
    "             animation_frame=\"hour\",\n",
    "             \n",
    "             \n",
    "             labels={\"count\":\"avgWait_weekend\",\n",
    "                     \"hour\":\"Local Time (GMT+8)\"})\n",
    "\n",
    "# X axis\n",
    "fig.update_xaxes(nticks=len(floor_name), ##指定breaks的數量\n",
    "                 \n",
    "                 ## 手動將X的類別排序\n",
    "                 type=\"category\",\n",
    "                 categoryarray=floor_name)\n",
    "\n",
    "# Y axis\n",
    "fig.update_yaxes(range=[0, 200])\n",
    "\n",
    "# Layout\n",
    "fig.update_layout(title_text='Average waiting time of Elevator Calls by Floor on weekend')\n",
    "\n",
    "fig.show()"
   ]
  },
  {
   "cell_type": "code",
   "execution_count": 17,
   "metadata": {},
   "outputs": [
    {
     "data": {
      "application/vnd.plotly.v1+json": {
       "config": {
        "plotlyServerURL": "https://plot.ly"
       },
       "data": [
        {
         "alignmentgroup": "True",
         "hovertemplate": "direction=up<br>floor=1<br>Local Time (GMT+8)=%{x}<br>avgWait_weekday=%{y}<extra></extra>",
         "legendgroup": "up",
         "marker": {
          "color": "#636efa"
         },
         "name": "up",
         "offsetgroup": "up",
         "orientation": "v",
         "showlegend": true,
         "textposition": "auto",
         "type": "bar",
         "x": [
          0,
          1,
          2,
          3,
          4,
          5,
          6,
          7,
          8,
          9,
          10,
          11,
          12,
          13,
          14,
          15,
          16,
          17,
          18,
          19,
          20,
          21,
          22,
          23
         ],
         "xaxis": "x",
         "y": [
          22.289828571428565,
          23.06017699115045,
          23.97,
          22.38230769230769,
          10.553333333333333,
          9.951666666666666,
          5.882166666666667,
          16.271751824817517,
          17.164540816326532,
          15.037892156862746,
          12.99259493670886,
          13.437295918367347,
          14.334549549549552,
          14.567554585152841,
          14.537017543859651,
          14.498481012658232,
          14.375535714285714,
          19.96963235294118,
          16.962409638554217,
          17.875589519650656,
          20.314380530973448,
          20.909330708661415,
          17.001761904761903,
          17.43643410852713
         ],
         "yaxis": "y"
        }
       ],
       "frames": [
        {
         "data": [
          {
           "alignmentgroup": "True",
           "hovertemplate": "direction=up<br>floor=1<br>Local Time (GMT+8)=%{x}<br>avgWait_weekday=%{y}<extra></extra>",
           "legendgroup": "up",
           "marker": {
            "color": "#636efa"
           },
           "name": "up",
           "offsetgroup": "up",
           "orientation": "v",
           "showlegend": true,
           "textposition": "auto",
           "type": "bar",
           "x": [
            0,
            1,
            2,
            3,
            4,
            5,
            6,
            7,
            8,
            9,
            10,
            11,
            12,
            13,
            14,
            15,
            16,
            17,
            18,
            19,
            20,
            21,
            22,
            23
           ],
           "xaxis": "x",
           "y": [
            22.289828571428565,
            23.06017699115045,
            23.97,
            22.38230769230769,
            10.553333333333333,
            9.951666666666666,
            5.882166666666667,
            16.271751824817517,
            17.164540816326532,
            15.037892156862746,
            12.99259493670886,
            13.437295918367347,
            14.334549549549552,
            14.567554585152841,
            14.537017543859651,
            14.498481012658232,
            14.375535714285714,
            19.96963235294118,
            16.962409638554217,
            17.875589519650656,
            20.314380530973448,
            20.909330708661415,
            17.001761904761903,
            17.43643410852713
           ],
           "yaxis": "y"
          }
         ],
         "name": "1"
        },
        {
         "data": [
          {
           "alignmentgroup": "True",
           "hovertemplate": "direction=up<br>floor=6<br>Local Time (GMT+8)=%{x}<br>avgWait_weekday=%{y}<extra></extra>",
           "legendgroup": "up",
           "marker": {
            "color": "#636efa"
           },
           "name": "up",
           "offsetgroup": "up",
           "orientation": "v",
           "showlegend": true,
           "textposition": "auto",
           "type": "bar",
           "x": [
            0,
            1,
            2,
            3,
            4,
            5,
            6,
            7,
            8,
            9,
            10,
            11,
            12,
            13,
            14,
            15,
            16,
            17,
            18,
            19,
            20,
            21,
            22,
            23
           ],
           "xaxis": "x",
           "y": [
            16.48611111111111,
            19.591590909090904,
            16.70714285714286,
            15.359000000000002,
            15.560714285714285,
            9.56,
            20.820263157894736,
            15.19783783783784,
            18.523636363636363,
            20.15442105263158,
            16.906973684210527,
            18.0202,
            15.674,
            19.99566265060241,
            21.926923076923078,
            14.67942857142857,
            19.326689655172405,
            21.367722772277233,
            21.007763157894736,
            19.264565217391304,
            17.247272727272726,
            18.03189473684211,
            16.419999999999998,
            19.57888888888889
           ],
           "yaxis": "y"
          },
          {
           "alignmentgroup": "True",
           "hovertemplate": "direction=down<br>floor=6<br>Local Time (GMT+8)=%{x}<br>avgWait_weekday=%{y}<extra></extra>",
           "legendgroup": "down",
           "marker": {
            "color": "#EF553B"
           },
           "name": "down",
           "offsetgroup": "down",
           "orientation": "v",
           "showlegend": true,
           "textposition": "auto",
           "type": "bar",
           "x": [
            0,
            1,
            2,
            6,
            7,
            8,
            9,
            10,
            11,
            12,
            13,
            14,
            15,
            16,
            17,
            18,
            19,
            20,
            21,
            22,
            23
           ],
           "xaxis": "x2",
           "y": [
            20.393,
            14.911666666666667,
            6.065,
            23.63636363636364,
            20.4475,
            22.577936507936506,
            17.96952380952381,
            20.757333333333328,
            20.091451612903224,
            20.40657142857143,
            15.525625,
            25.519642857142852,
            16.73033333333333,
            18.98767123287671,
            23.649245283018864,
            19.5221875,
            25.08703703703704,
            30.455,
            29.28142857142857,
            9.543333333333337,
            32.305
           ],
           "yaxis": "y2"
          }
         ],
         "name": "6"
        },
        {
         "data": [
          {
           "alignmentgroup": "True",
           "hovertemplate": "direction=up<br>floor=7<br>Local Time (GMT+8)=%{x}<br>avgWait_weekday=%{y}<extra></extra>",
           "legendgroup": "up",
           "marker": {
            "color": "#636efa"
           },
           "name": "up",
           "offsetgroup": "up",
           "orientation": "v",
           "showlegend": true,
           "textposition": "auto",
           "type": "bar",
           "x": [
            0,
            1,
            2,
            3,
            4,
            5,
            6,
            7,
            8,
            9,
            10,
            11,
            12,
            13,
            14,
            15,
            16,
            17,
            18,
            19,
            20,
            21,
            22,
            23
           ],
           "xaxis": "x",
           "y": [
            11.75,
            15.488666666666667,
            17.5725,
            5.41,
            20.51,
            18.407000000000004,
            27.04473684210526,
            22.2,
            18.30125,
            20.11615384615385,
            14.4875,
            9.385,
            22.33666666666667,
            16.3675,
            17.768888888888892,
            14.536,
            12.02,
            12.541666666666664,
            20.663333333333334,
            18.523333333333326,
            9.818,
            15.643333333333334,
            16.605,
            11.420000000000002
           ],
           "yaxis": "y"
          },
          {
           "alignmentgroup": "True",
           "hovertemplate": "direction=down<br>floor=7<br>Local Time (GMT+8)=%{x}<br>avgWait_weekday=%{y}<extra></extra>",
           "legendgroup": "down",
           "marker": {
            "color": "#EF553B"
           },
           "name": "down",
           "offsetgroup": "down",
           "orientation": "v",
           "showlegend": true,
           "textposition": "auto",
           "type": "bar",
           "x": [
            0,
            1,
            2,
            4,
            5,
            6,
            7,
            8,
            9,
            10,
            11,
            12,
            13,
            14,
            15,
            16,
            17,
            18,
            19,
            20,
            21,
            22,
            23
           ],
           "xaxis": "x2",
           "y": [
            16.706363636363633,
            14.78,
            10,
            14.010000000000002,
            19.635,
            23.26129310344827,
            26.252033898305086,
            19.47875,
            19.885,
            16.833260869565216,
            19.7003125,
            20.328166666666668,
            20.1082,
            20.803684210526317,
            22.219183673469384,
            20.9518,
            27.703725490196074,
            27.328444444444447,
            26.13607142857143,
            21.81166666666667,
            21.8435,
            21.518372093023252,
            20.91676470588235
           ],
           "yaxis": "y2"
          }
         ],
         "name": "7"
        },
        {
         "data": [
          {
           "alignmentgroup": "True",
           "hovertemplate": "direction=up<br>floor=8<br>Local Time (GMT+8)=%{x}<br>avgWait_weekday=%{y}<extra></extra>",
           "legendgroup": "up",
           "marker": {
            "color": "#636efa"
           },
           "name": "up",
           "offsetgroup": "up",
           "orientation": "v",
           "showlegend": true,
           "textposition": "auto",
           "type": "bar",
           "x": [
            0,
            1,
            2,
            3,
            5,
            6,
            7,
            8,
            9,
            10,
            11,
            12,
            13,
            14,
            15,
            16,
            17,
            18,
            19,
            20,
            21,
            22,
            23
           ],
           "xaxis": "x",
           "y": [
            23.965,
            10.049285714285716,
            5.473333333333333,
            1.59,
            17.405,
            21.336,
            24.348000000000006,
            19.911578947368426,
            23.717857142857138,
            6.67,
            18.9775,
            16.415714285714284,
            19.379333333333328,
            16.532222222222227,
            12.424,
            18.3425,
            22.885555555555552,
            13.5644,
            18.81111111111111,
            24.44611111111111,
            18.126666666666665,
            15.131333333333336,
            19.174285714285716
           ],
           "yaxis": "y"
          },
          {
           "alignmentgroup": "True",
           "hovertemplate": "direction=down<br>floor=8<br>Local Time (GMT+8)=%{x}<br>avgWait_weekday=%{y}<extra></extra>",
           "legendgroup": "down",
           "marker": {
            "color": "#EF553B"
           },
           "name": "down",
           "offsetgroup": "down",
           "orientation": "v",
           "showlegend": true,
           "textposition": "auto",
           "type": "bar",
           "x": [
            0,
            1,
            2,
            3,
            4,
            5,
            6,
            7,
            8,
            9,
            10,
            11,
            12,
            13,
            14,
            15,
            16,
            17,
            18,
            19,
            20,
            21,
            22,
            23
           ],
           "xaxis": "x2",
           "y": [
            9.77625,
            13.004000000000001,
            14.502222222222226,
            4.794,
            11.402,
            13.659444444444444,
            22.40375,
            31.671470588235287,
            22.515555555555554,
            22.129069767441862,
            21.40065217391304,
            20.392280701754387,
            18.4425,
            28.05109090909091,
            19.862244897959183,
            20.76642857142857,
            18.874,
            23.864693877551023,
            24.560526315789474,
            19.82096774193549,
            15.2925,
            14.432352941176472,
            20.37357142857143,
            18.747
           ],
           "yaxis": "y2"
          }
         ],
         "name": "8"
        },
        {
         "data": [
          {
           "alignmentgroup": "True",
           "hovertemplate": "direction=up<br>floor=9<br>Local Time (GMT+8)=%{x}<br>avgWait_weekday=%{y}<extra></extra>",
           "legendgroup": "up",
           "marker": {
            "color": "#636efa"
           },
           "name": "up",
           "offsetgroup": "up",
           "orientation": "v",
           "showlegend": true,
           "textposition": "auto",
           "type": "bar",
           "x": [
            2,
            3,
            6,
            7,
            8,
            9,
            11,
            13,
            14,
            15,
            16,
            17,
            19,
            20,
            21,
            23
           ],
           "xaxis": "x",
           "y": [
            2.72,
            1.175,
            17.04,
            20.8,
            20.41,
            27.58,
            45.54,
            19.185,
            18.616666666666667,
            20.73,
            8.15,
            57.14000000000001,
            27.255000000000006,
            29.79,
            10.89,
            29.915
           ],
           "yaxis": "y"
          },
          {
           "alignmentgroup": "True",
           "hovertemplate": "direction=down<br>floor=9<br>Local Time (GMT+8)=%{x}<br>avgWait_weekday=%{y}<extra></extra>",
           "legendgroup": "down",
           "marker": {
            "color": "#EF553B"
           },
           "name": "down",
           "offsetgroup": "down",
           "orientation": "v",
           "showlegend": true,
           "textposition": "auto",
           "type": "bar",
           "x": [
            0,
            1,
            2,
            4,
            5,
            6,
            7,
            8,
            9,
            10,
            11,
            12,
            13,
            14,
            15,
            16,
            17,
            18,
            19,
            20,
            21,
            22,
            23
           ],
           "xaxis": "x2",
           "y": [
            11.590909090909092,
            10.717,
            11.105714285714289,
            19.72,
            15.01125,
            18.260300751879694,
            16.15383838383838,
            16.876756756756755,
            18.935757575757574,
            18.272820512820516,
            18.85272727272727,
            18.76545454545455,
            16.520200000000006,
            18.147368421052636,
            17.040128205128205,
            17.887249999999995,
            18.405833333333334,
            17.028035714285714,
            18.584102564102565,
            16.043030303030307,
            22.638636363636365,
            19.55128205128205,
            17.23131578947369
           ],
           "yaxis": "y2"
          }
         ],
         "name": "9"
        },
        {
         "data": [
          {
           "alignmentgroup": "True",
           "hovertemplate": "direction=up<br>floor=10<br>Local Time (GMT+8)=%{x}<br>avgWait_weekday=%{y}<extra></extra>",
           "legendgroup": "up",
           "marker": {
            "color": "#636efa"
           },
           "name": "up",
           "offsetgroup": "up",
           "orientation": "v",
           "showlegend": true,
           "textposition": "auto",
           "type": "bar",
           "x": [
            3,
            5,
            6,
            8,
            9,
            10,
            13,
            14,
            15,
            16,
            17,
            18,
            20,
            21,
            22
           ],
           "xaxis": "x",
           "y": [
            8.88,
            18.95,
            22.46333333333333,
            28.26,
            33.160000000000004,
            52.59,
            75.14,
            13.61,
            14.293333333333333,
            17.685,
            5.91,
            17.68,
            69.4,
            31.62,
            24.47
           ],
           "yaxis": "y"
          },
          {
           "alignmentgroup": "True",
           "hovertemplate": "direction=down<br>floor=10<br>Local Time (GMT+8)=%{x}<br>avgWait_weekday=%{y}<extra></extra>",
           "legendgroup": "down",
           "marker": {
            "color": "#EF553B"
           },
           "name": "down",
           "offsetgroup": "down",
           "orientation": "v",
           "showlegend": true,
           "textposition": "auto",
           "type": "bar",
           "x": [
            0,
            1,
            2,
            3,
            4,
            5,
            6,
            7,
            8,
            9,
            10,
            11,
            12,
            13,
            14,
            15,
            16,
            17,
            18,
            19,
            20,
            21,
            22,
            23
           ],
           "xaxis": "x2",
           "y": [
            11.348333333333334,
            9.282222222222222,
            12.0775,
            20.273333333333333,
            13.6,
            15.293,
            19.415730337078653,
            15.95768115942029,
            24.23896551724138,
            16.1821875,
            21.16125,
            17.60514285714286,
            18.807916666666667,
            22.636969696969697,
            16.07785714285714,
            16.304181818181814,
            17.853793103448275,
            19.959090909090904,
            22.74717948717949,
            12.3624,
            17.800714285714285,
            13.46,
            17.082750000000004,
            18.36878787878788
           ],
           "yaxis": "y2"
          }
         ],
         "name": "10"
        },
        {
         "data": [
          {
           "alignmentgroup": "True",
           "hovertemplate": "direction=up<br>floor=11<br>Local Time (GMT+8)=%{x}<br>avgWait_weekday=%{y}<extra></extra>",
           "legendgroup": "up",
           "marker": {
            "color": "#636efa"
           },
           "name": "up",
           "offsetgroup": "up",
           "orientation": "v",
           "showlegend": true,
           "textposition": "auto",
           "type": "bar",
           "x": [
            3,
            6,
            7,
            8,
            9,
            13,
            14,
            15,
            18,
            20,
            21
           ],
           "xaxis": "x",
           "y": [
            1.3650000000000002,
            30.6425,
            16.626666666666665,
            24.545,
            25.975,
            28.995,
            37.54,
            6.59,
            13.61,
            45.365,
            20.3
           ],
           "yaxis": "y"
          },
          {
           "alignmentgroup": "True",
           "hovertemplate": "direction=down<br>floor=11<br>Local Time (GMT+8)=%{x}<br>avgWait_weekday=%{y}<extra></extra>",
           "legendgroup": "down",
           "marker": {
            "color": "#EF553B"
           },
           "name": "down",
           "offsetgroup": "down",
           "orientation": "v",
           "showlegend": true,
           "textposition": "auto",
           "type": "bar",
           "x": [
            0,
            1,
            2,
            3,
            4,
            5,
            6,
            7,
            8,
            9,
            10,
            11,
            12,
            13,
            14,
            15,
            16,
            17,
            18,
            19,
            20,
            21,
            22,
            23
           ],
           "xaxis": "x2",
           "y": [
            12.566666666666668,
            19.665,
            8.45,
            17.09,
            8.73,
            21.285,
            19.54745098039216,
            16.52366336633663,
            19.509090909090904,
            13.068148148148149,
            18.27851851851852,
            20.33676470588236,
            19.82292682926829,
            18.941470588235294,
            19.873720930232558,
            19.11730769230769,
            18.13,
            22.501951219512197,
            27.036176470588234,
            16.056857142857144,
            23.256666666666664,
            15.222105263157893,
            18.935555555555556,
            21.00228571428572
           ],
           "yaxis": "y2"
          }
         ],
         "name": "11"
        },
        {
         "data": [
          {
           "alignmentgroup": "True",
           "hovertemplate": "direction=up<br>floor=12<br>Local Time (GMT+8)=%{x}<br>avgWait_weekday=%{y}<extra></extra>",
           "legendgroup": "up",
           "marker": {
            "color": "#636efa"
           },
           "name": "up",
           "offsetgroup": "up",
           "orientation": "v",
           "showlegend": true,
           "textposition": "auto",
           "type": "bar",
           "x": [
            6,
            7,
            8,
            9,
            12,
            13,
            14,
            15,
            17,
            19,
            21,
            23
           ],
           "xaxis": "x",
           "y": [
            34.64,
            17.213333333333335,
            17.015,
            18.166666666666668,
            35.75,
            29.12,
            18.025,
            31.34666666666667,
            24.46,
            12.14,
            14.8,
            19.04
           ],
           "yaxis": "y"
          },
          {
           "alignmentgroup": "True",
           "hovertemplate": "direction=down<br>floor=12<br>Local Time (GMT+8)=%{x}<br>avgWait_weekday=%{y}<extra></extra>",
           "legendgroup": "down",
           "marker": {
            "color": "#EF553B"
           },
           "name": "down",
           "offsetgroup": "down",
           "orientation": "v",
           "showlegend": true,
           "textposition": "auto",
           "type": "bar",
           "x": [
            0,
            1,
            2,
            3,
            4,
            5,
            6,
            7,
            8,
            9,
            10,
            11,
            12,
            13,
            14,
            15,
            16,
            17,
            18,
            19,
            20,
            21,
            22,
            23
           ],
           "xaxis": "x2",
           "y": [
            9.801666666666668,
            4.644285714285715,
            9.406666666666666,
            1.36,
            15.99,
            13.19,
            24.235476190476195,
            18.742916666666666,
            21.030571428571434,
            19.934285714285714,
            18.44,
            20.17571428571428,
            18.318064516129034,
            23.31921052631579,
            17.155192307692307,
            13.924102564102563,
            24.820434782608697,
            21.081666666666667,
            14.403571428571427,
            19.564666666666668,
            22.176666666666666,
            19.69,
            15.7832,
            16.798636363636362
           ],
           "yaxis": "y2"
          }
         ],
         "name": "12"
        },
        {
         "data": [
          {
           "alignmentgroup": "True",
           "hovertemplate": "direction=up<br>floor=13<br>Local Time (GMT+8)=%{x}<br>avgWait_weekday=%{y}<extra></extra>",
           "legendgroup": "up",
           "marker": {
            "color": "#636efa"
           },
           "name": "up",
           "offsetgroup": "up",
           "orientation": "v",
           "showlegend": true,
           "textposition": "auto",
           "type": "bar",
           "x": [
            0,
            1,
            4,
            6,
            7,
            8,
            9,
            11,
            12,
            13,
            14,
            15,
            16,
            17,
            18,
            21,
            22,
            23
           ],
           "xaxis": "x",
           "y": [
            27.98333333333333,
            44.14,
            0.61,
            37.48666666666667,
            17.777142857142856,
            9.75,
            11.025,
            5.25,
            16.37,
            19.055,
            23.9,
            32.61,
            27.06,
            16.09,
            32.04666666666667,
            25.45666666666667,
            34.004999999999995,
            16.028
           ],
           "yaxis": "y"
          },
          {
           "alignmentgroup": "True",
           "hovertemplate": "direction=down<br>floor=13<br>Local Time (GMT+8)=%{x}<br>avgWait_weekday=%{y}<extra></extra>",
           "legendgroup": "down",
           "marker": {
            "color": "#EF553B"
           },
           "name": "down",
           "offsetgroup": "down",
           "orientation": "v",
           "showlegend": true,
           "textposition": "auto",
           "type": "bar",
           "x": [
            0,
            1,
            2,
            3,
            4,
            5,
            6,
            7,
            8,
            9,
            10,
            11,
            12,
            13,
            14,
            15,
            16,
            17,
            18,
            19,
            20,
            21,
            22,
            23
           ],
           "xaxis": "x2",
           "y": [
            24.06111111111111,
            16.64090909090909,
            7.984,
            5.7650000000000015,
            17.286666666666665,
            27.205,
            16.00793103448276,
            18.992604166666666,
            22.796304347826084,
            19.482916666666668,
            14.28125,
            23.09190476190476,
            22.35034482758621,
            21.23409090909091,
            27.00392857142857,
            16.414516129032258,
            17.057666666666666,
            24.27425531914893,
            18.109642857142852,
            17.1735,
            15.716666666666667,
            19.153571428571436,
            19.24448275862069,
            14.5075
           ],
           "yaxis": "y2"
          }
         ],
         "name": "13"
        },
        {
         "data": [
          {
           "alignmentgroup": "True",
           "hovertemplate": "direction=up<br>floor=14<br>Local Time (GMT+8)=%{x}<br>avgWait_weekday=%{y}<extra></extra>",
           "legendgroup": "up",
           "marker": {
            "color": "#636efa"
           },
           "name": "up",
           "offsetgroup": "up",
           "orientation": "v",
           "showlegend": true,
           "textposition": "auto",
           "type": "bar",
           "x": [
            0,
            2,
            3,
            6,
            7,
            8,
            9,
            10,
            11,
            14,
            15,
            16,
            18,
            19,
            20,
            21,
            22,
            23
           ],
           "xaxis": "x",
           "y": [
            31.1,
            1.335,
            16.31,
            35.4025,
            18.35,
            22.506666666666664,
            2.4833333333333334,
            10.87,
            36.49,
            2.4,
            12.106666666666667,
            12.25,
            8.212,
            27.596666666666664,
            13.595,
            10.89,
            42.605,
            8.605
           ],
           "yaxis": "y"
          },
          {
           "alignmentgroup": "True",
           "hovertemplate": "direction=down<br>floor=14<br>Local Time (GMT+8)=%{x}<br>avgWait_weekday=%{y}<extra></extra>",
           "legendgroup": "down",
           "marker": {
            "color": "#EF553B"
           },
           "name": "down",
           "offsetgroup": "down",
           "orientation": "v",
           "showlegend": true,
           "textposition": "auto",
           "type": "bar",
           "x": [
            0,
            1,
            2,
            3,
            4,
            5,
            6,
            7,
            8,
            9,
            10,
            11,
            12,
            13,
            14,
            15,
            16,
            17,
            18,
            19,
            20,
            21,
            22,
            23
           ],
           "xaxis": "x2",
           "y": [
            12.41642857142857,
            9.06,
            11.273333333333332,
            9.25,
            7.935,
            16.28,
            21.223000000000006,
            22.289753086419754,
            23.9412676056338,
            26.082857142857147,
            22.91282051282051,
            17.395,
            15.5559375,
            21.2514,
            18.63379310344828,
            21.23424242424242,
            20.587391304347825,
            21.77267857142857,
            21.833137254901963,
            17.1215625,
            19.1708,
            22.852,
            21.3,
            22.38413793103448
           ],
           "yaxis": "y2"
          }
         ],
         "name": "14"
        },
        {
         "data": [
          {
           "alignmentgroup": "True",
           "hovertemplate": "direction=down<br>floor=15<br>Local Time (GMT+8)=%{x}<br>avgWait_weekday=%{y}<extra></extra>",
           "legendgroup": "down",
           "marker": {
            "color": "#EF553B"
           },
           "name": "down",
           "offsetgroup": "down",
           "orientation": "v",
           "showlegend": true,
           "textposition": "auto",
           "type": "bar",
           "x": [
            0,
            1,
            2,
            3,
            4,
            5,
            6,
            7,
            8,
            9,
            10,
            11,
            12,
            13,
            14,
            15,
            16,
            17,
            18,
            19,
            20,
            21,
            22,
            23
           ],
           "xaxis": "x2",
           "y": [
            7.8660000000000005,
            3.76,
            12.589999999999998,
            15.013333333333335,
            2.72,
            21.775,
            24.276136363636365,
            21.766,
            19.339454545454547,
            17.671,
            18.545769230769228,
            21.000731707317073,
            22.721176470588237,
            20.899545454545454,
            23.288461538461537,
            23.53113636363636,
            19.51285714285714,
            27.44232142857143,
            19.458181818181817,
            25.903714285714287,
            18.075294117647054,
            22.3285,
            22.154193548387095,
            23.24727272727273
           ],
           "yaxis": "y2"
          }
         ],
         "name": "15"
        }
       ],
       "layout": {
        "annotations": [
         {
          "font": {},
          "showarrow": false,
          "text": "direction=up",
          "x": 0.245,
          "xanchor": "center",
          "xref": "paper",
          "y": 1,
          "yanchor": "bottom",
          "yref": "paper"
         },
         {
          "font": {},
          "showarrow": false,
          "text": "direction=down",
          "x": 0.755,
          "xanchor": "center",
          "xref": "paper",
          "y": 1,
          "yanchor": "bottom",
          "yref": "paper"
         }
        ],
        "barmode": "relative",
        "legend": {
         "title": {
          "text": "direction"
         },
         "tracegroupgap": 0
        },
        "margin": {
         "t": 60
        },
        "sliders": [
         {
          "active": 0,
          "currentvalue": {
           "prefix": "floor="
          },
          "len": 0.9,
          "pad": {
           "b": 10,
           "t": 60
          },
          "steps": [
           {
            "args": [
             [
              "1"
             ],
             {
              "frame": {
               "duration": 0,
               "redraw": true
              },
              "fromcurrent": true,
              "mode": "immediate",
              "transition": {
               "duration": 0,
               "easing": "linear"
              }
             }
            ],
            "label": "1",
            "method": "animate"
           },
           {
            "args": [
             [
              "6"
             ],
             {
              "frame": {
               "duration": 0,
               "redraw": true
              },
              "fromcurrent": true,
              "mode": "immediate",
              "transition": {
               "duration": 0,
               "easing": "linear"
              }
             }
            ],
            "label": "6",
            "method": "animate"
           },
           {
            "args": [
             [
              "7"
             ],
             {
              "frame": {
               "duration": 0,
               "redraw": true
              },
              "fromcurrent": true,
              "mode": "immediate",
              "transition": {
               "duration": 0,
               "easing": "linear"
              }
             }
            ],
            "label": "7",
            "method": "animate"
           },
           {
            "args": [
             [
              "8"
             ],
             {
              "frame": {
               "duration": 0,
               "redraw": true
              },
              "fromcurrent": true,
              "mode": "immediate",
              "transition": {
               "duration": 0,
               "easing": "linear"
              }
             }
            ],
            "label": "8",
            "method": "animate"
           },
           {
            "args": [
             [
              "9"
             ],
             {
              "frame": {
               "duration": 0,
               "redraw": true
              },
              "fromcurrent": true,
              "mode": "immediate",
              "transition": {
               "duration": 0,
               "easing": "linear"
              }
             }
            ],
            "label": "9",
            "method": "animate"
           },
           {
            "args": [
             [
              "10"
             ],
             {
              "frame": {
               "duration": 0,
               "redraw": true
              },
              "fromcurrent": true,
              "mode": "immediate",
              "transition": {
               "duration": 0,
               "easing": "linear"
              }
             }
            ],
            "label": "10",
            "method": "animate"
           },
           {
            "args": [
             [
              "11"
             ],
             {
              "frame": {
               "duration": 0,
               "redraw": true
              },
              "fromcurrent": true,
              "mode": "immediate",
              "transition": {
               "duration": 0,
               "easing": "linear"
              }
             }
            ],
            "label": "11",
            "method": "animate"
           },
           {
            "args": [
             [
              "12"
             ],
             {
              "frame": {
               "duration": 0,
               "redraw": true
              },
              "fromcurrent": true,
              "mode": "immediate",
              "transition": {
               "duration": 0,
               "easing": "linear"
              }
             }
            ],
            "label": "12",
            "method": "animate"
           },
           {
            "args": [
             [
              "13"
             ],
             {
              "frame": {
               "duration": 0,
               "redraw": true
              },
              "fromcurrent": true,
              "mode": "immediate",
              "transition": {
               "duration": 0,
               "easing": "linear"
              }
             }
            ],
            "label": "13",
            "method": "animate"
           },
           {
            "args": [
             [
              "14"
             ],
             {
              "frame": {
               "duration": 0,
               "redraw": true
              },
              "fromcurrent": true,
              "mode": "immediate",
              "transition": {
               "duration": 0,
               "easing": "linear"
              }
             }
            ],
            "label": "14",
            "method": "animate"
           },
           {
            "args": [
             [
              "15"
             ],
             {
              "frame": {
               "duration": 0,
               "redraw": true
              },
              "fromcurrent": true,
              "mode": "immediate",
              "transition": {
               "duration": 0,
               "easing": "linear"
              }
             }
            ],
            "label": "15",
            "method": "animate"
           }
          ],
          "x": 0.1,
          "xanchor": "left",
          "y": 0,
          "yanchor": "top"
         }
        ],
        "template": {
         "data": {
          "bar": [
           {
            "error_x": {
             "color": "#2a3f5f"
            },
            "error_y": {
             "color": "#2a3f5f"
            },
            "marker": {
             "line": {
              "color": "#E5ECF6",
              "width": 0.5
             }
            },
            "type": "bar"
           }
          ],
          "barpolar": [
           {
            "marker": {
             "line": {
              "color": "#E5ECF6",
              "width": 0.5
             }
            },
            "type": "barpolar"
           }
          ],
          "carpet": [
           {
            "aaxis": {
             "endlinecolor": "#2a3f5f",
             "gridcolor": "white",
             "linecolor": "white",
             "minorgridcolor": "white",
             "startlinecolor": "#2a3f5f"
            },
            "baxis": {
             "endlinecolor": "#2a3f5f",
             "gridcolor": "white",
             "linecolor": "white",
             "minorgridcolor": "white",
             "startlinecolor": "#2a3f5f"
            },
            "type": "carpet"
           }
          ],
          "choropleth": [
           {
            "colorbar": {
             "outlinewidth": 0,
             "ticks": ""
            },
            "type": "choropleth"
           }
          ],
          "contour": [
           {
            "colorbar": {
             "outlinewidth": 0,
             "ticks": ""
            },
            "colorscale": [
             [
              0,
              "#0d0887"
             ],
             [
              0.1111111111111111,
              "#46039f"
             ],
             [
              0.2222222222222222,
              "#7201a8"
             ],
             [
              0.3333333333333333,
              "#9c179e"
             ],
             [
              0.4444444444444444,
              "#bd3786"
             ],
             [
              0.5555555555555556,
              "#d8576b"
             ],
             [
              0.6666666666666666,
              "#ed7953"
             ],
             [
              0.7777777777777778,
              "#fb9f3a"
             ],
             [
              0.8888888888888888,
              "#fdca26"
             ],
             [
              1,
              "#f0f921"
             ]
            ],
            "type": "contour"
           }
          ],
          "contourcarpet": [
           {
            "colorbar": {
             "outlinewidth": 0,
             "ticks": ""
            },
            "type": "contourcarpet"
           }
          ],
          "heatmap": [
           {
            "colorbar": {
             "outlinewidth": 0,
             "ticks": ""
            },
            "colorscale": [
             [
              0,
              "#0d0887"
             ],
             [
              0.1111111111111111,
              "#46039f"
             ],
             [
              0.2222222222222222,
              "#7201a8"
             ],
             [
              0.3333333333333333,
              "#9c179e"
             ],
             [
              0.4444444444444444,
              "#bd3786"
             ],
             [
              0.5555555555555556,
              "#d8576b"
             ],
             [
              0.6666666666666666,
              "#ed7953"
             ],
             [
              0.7777777777777778,
              "#fb9f3a"
             ],
             [
              0.8888888888888888,
              "#fdca26"
             ],
             [
              1,
              "#f0f921"
             ]
            ],
            "type": "heatmap"
           }
          ],
          "heatmapgl": [
           {
            "colorbar": {
             "outlinewidth": 0,
             "ticks": ""
            },
            "colorscale": [
             [
              0,
              "#0d0887"
             ],
             [
              0.1111111111111111,
              "#46039f"
             ],
             [
              0.2222222222222222,
              "#7201a8"
             ],
             [
              0.3333333333333333,
              "#9c179e"
             ],
             [
              0.4444444444444444,
              "#bd3786"
             ],
             [
              0.5555555555555556,
              "#d8576b"
             ],
             [
              0.6666666666666666,
              "#ed7953"
             ],
             [
              0.7777777777777778,
              "#fb9f3a"
             ],
             [
              0.8888888888888888,
              "#fdca26"
             ],
             [
              1,
              "#f0f921"
             ]
            ],
            "type": "heatmapgl"
           }
          ],
          "histogram": [
           {
            "marker": {
             "colorbar": {
              "outlinewidth": 0,
              "ticks": ""
             }
            },
            "type": "histogram"
           }
          ],
          "histogram2d": [
           {
            "colorbar": {
             "outlinewidth": 0,
             "ticks": ""
            },
            "colorscale": [
             [
              0,
              "#0d0887"
             ],
             [
              0.1111111111111111,
              "#46039f"
             ],
             [
              0.2222222222222222,
              "#7201a8"
             ],
             [
              0.3333333333333333,
              "#9c179e"
             ],
             [
              0.4444444444444444,
              "#bd3786"
             ],
             [
              0.5555555555555556,
              "#d8576b"
             ],
             [
              0.6666666666666666,
              "#ed7953"
             ],
             [
              0.7777777777777778,
              "#fb9f3a"
             ],
             [
              0.8888888888888888,
              "#fdca26"
             ],
             [
              1,
              "#f0f921"
             ]
            ],
            "type": "histogram2d"
           }
          ],
          "histogram2dcontour": [
           {
            "colorbar": {
             "outlinewidth": 0,
             "ticks": ""
            },
            "colorscale": [
             [
              0,
              "#0d0887"
             ],
             [
              0.1111111111111111,
              "#46039f"
             ],
             [
              0.2222222222222222,
              "#7201a8"
             ],
             [
              0.3333333333333333,
              "#9c179e"
             ],
             [
              0.4444444444444444,
              "#bd3786"
             ],
             [
              0.5555555555555556,
              "#d8576b"
             ],
             [
              0.6666666666666666,
              "#ed7953"
             ],
             [
              0.7777777777777778,
              "#fb9f3a"
             ],
             [
              0.8888888888888888,
              "#fdca26"
             ],
             [
              1,
              "#f0f921"
             ]
            ],
            "type": "histogram2dcontour"
           }
          ],
          "mesh3d": [
           {
            "colorbar": {
             "outlinewidth": 0,
             "ticks": ""
            },
            "type": "mesh3d"
           }
          ],
          "parcoords": [
           {
            "line": {
             "colorbar": {
              "outlinewidth": 0,
              "ticks": ""
             }
            },
            "type": "parcoords"
           }
          ],
          "pie": [
           {
            "automargin": true,
            "type": "pie"
           }
          ],
          "scatter": [
           {
            "marker": {
             "colorbar": {
              "outlinewidth": 0,
              "ticks": ""
             }
            },
            "type": "scatter"
           }
          ],
          "scatter3d": [
           {
            "line": {
             "colorbar": {
              "outlinewidth": 0,
              "ticks": ""
             }
            },
            "marker": {
             "colorbar": {
              "outlinewidth": 0,
              "ticks": ""
             }
            },
            "type": "scatter3d"
           }
          ],
          "scattercarpet": [
           {
            "marker": {
             "colorbar": {
              "outlinewidth": 0,
              "ticks": ""
             }
            },
            "type": "scattercarpet"
           }
          ],
          "scattergeo": [
           {
            "marker": {
             "colorbar": {
              "outlinewidth": 0,
              "ticks": ""
             }
            },
            "type": "scattergeo"
           }
          ],
          "scattergl": [
           {
            "marker": {
             "colorbar": {
              "outlinewidth": 0,
              "ticks": ""
             }
            },
            "type": "scattergl"
           }
          ],
          "scattermapbox": [
           {
            "marker": {
             "colorbar": {
              "outlinewidth": 0,
              "ticks": ""
             }
            },
            "type": "scattermapbox"
           }
          ],
          "scatterpolar": [
           {
            "marker": {
             "colorbar": {
              "outlinewidth": 0,
              "ticks": ""
             }
            },
            "type": "scatterpolar"
           }
          ],
          "scatterpolargl": [
           {
            "marker": {
             "colorbar": {
              "outlinewidth": 0,
              "ticks": ""
             }
            },
            "type": "scatterpolargl"
           }
          ],
          "scatterternary": [
           {
            "marker": {
             "colorbar": {
              "outlinewidth": 0,
              "ticks": ""
             }
            },
            "type": "scatterternary"
           }
          ],
          "surface": [
           {
            "colorbar": {
             "outlinewidth": 0,
             "ticks": ""
            },
            "colorscale": [
             [
              0,
              "#0d0887"
             ],
             [
              0.1111111111111111,
              "#46039f"
             ],
             [
              0.2222222222222222,
              "#7201a8"
             ],
             [
              0.3333333333333333,
              "#9c179e"
             ],
             [
              0.4444444444444444,
              "#bd3786"
             ],
             [
              0.5555555555555556,
              "#d8576b"
             ],
             [
              0.6666666666666666,
              "#ed7953"
             ],
             [
              0.7777777777777778,
              "#fb9f3a"
             ],
             [
              0.8888888888888888,
              "#fdca26"
             ],
             [
              1,
              "#f0f921"
             ]
            ],
            "type": "surface"
           }
          ],
          "table": [
           {
            "cells": {
             "fill": {
              "color": "#EBF0F8"
             },
             "line": {
              "color": "white"
             }
            },
            "header": {
             "fill": {
              "color": "#C8D4E3"
             },
             "line": {
              "color": "white"
             }
            },
            "type": "table"
           }
          ]
         },
         "layout": {
          "annotationdefaults": {
           "arrowcolor": "#2a3f5f",
           "arrowhead": 0,
           "arrowwidth": 1
          },
          "coloraxis": {
           "colorbar": {
            "outlinewidth": 0,
            "ticks": ""
           }
          },
          "colorscale": {
           "diverging": [
            [
             0,
             "#8e0152"
            ],
            [
             0.1,
             "#c51b7d"
            ],
            [
             0.2,
             "#de77ae"
            ],
            [
             0.3,
             "#f1b6da"
            ],
            [
             0.4,
             "#fde0ef"
            ],
            [
             0.5,
             "#f7f7f7"
            ],
            [
             0.6,
             "#e6f5d0"
            ],
            [
             0.7,
             "#b8e186"
            ],
            [
             0.8,
             "#7fbc41"
            ],
            [
             0.9,
             "#4d9221"
            ],
            [
             1,
             "#276419"
            ]
           ],
           "sequential": [
            [
             0,
             "#0d0887"
            ],
            [
             0.1111111111111111,
             "#46039f"
            ],
            [
             0.2222222222222222,
             "#7201a8"
            ],
            [
             0.3333333333333333,
             "#9c179e"
            ],
            [
             0.4444444444444444,
             "#bd3786"
            ],
            [
             0.5555555555555556,
             "#d8576b"
            ],
            [
             0.6666666666666666,
             "#ed7953"
            ],
            [
             0.7777777777777778,
             "#fb9f3a"
            ],
            [
             0.8888888888888888,
             "#fdca26"
            ],
            [
             1,
             "#f0f921"
            ]
           ],
           "sequentialminus": [
            [
             0,
             "#0d0887"
            ],
            [
             0.1111111111111111,
             "#46039f"
            ],
            [
             0.2222222222222222,
             "#7201a8"
            ],
            [
             0.3333333333333333,
             "#9c179e"
            ],
            [
             0.4444444444444444,
             "#bd3786"
            ],
            [
             0.5555555555555556,
             "#d8576b"
            ],
            [
             0.6666666666666666,
             "#ed7953"
            ],
            [
             0.7777777777777778,
             "#fb9f3a"
            ],
            [
             0.8888888888888888,
             "#fdca26"
            ],
            [
             1,
             "#f0f921"
            ]
           ]
          },
          "colorway": [
           "#636efa",
           "#EF553B",
           "#00cc96",
           "#ab63fa",
           "#FFA15A",
           "#19d3f3",
           "#FF6692",
           "#B6E880",
           "#FF97FF",
           "#FECB52"
          ],
          "font": {
           "color": "#2a3f5f"
          },
          "geo": {
           "bgcolor": "white",
           "lakecolor": "white",
           "landcolor": "#E5ECF6",
           "showlakes": true,
           "showland": true,
           "subunitcolor": "white"
          },
          "hoverlabel": {
           "align": "left"
          },
          "hovermode": "closest",
          "mapbox": {
           "style": "light"
          },
          "paper_bgcolor": "white",
          "plot_bgcolor": "#E5ECF6",
          "polar": {
           "angularaxis": {
            "gridcolor": "white",
            "linecolor": "white",
            "ticks": ""
           },
           "bgcolor": "#E5ECF6",
           "radialaxis": {
            "gridcolor": "white",
            "linecolor": "white",
            "ticks": ""
           }
          },
          "scene": {
           "xaxis": {
            "backgroundcolor": "#E5ECF6",
            "gridcolor": "white",
            "gridwidth": 2,
            "linecolor": "white",
            "showbackground": true,
            "ticks": "",
            "zerolinecolor": "white"
           },
           "yaxis": {
            "backgroundcolor": "#E5ECF6",
            "gridcolor": "white",
            "gridwidth": 2,
            "linecolor": "white",
            "showbackground": true,
            "ticks": "",
            "zerolinecolor": "white"
           },
           "zaxis": {
            "backgroundcolor": "#E5ECF6",
            "gridcolor": "white",
            "gridwidth": 2,
            "linecolor": "white",
            "showbackground": true,
            "ticks": "",
            "zerolinecolor": "white"
           }
          },
          "shapedefaults": {
           "line": {
            "color": "#2a3f5f"
           }
          },
          "ternary": {
           "aaxis": {
            "gridcolor": "white",
            "linecolor": "white",
            "ticks": ""
           },
           "baxis": {
            "gridcolor": "white",
            "linecolor": "white",
            "ticks": ""
           },
           "bgcolor": "#E5ECF6",
           "caxis": {
            "gridcolor": "white",
            "linecolor": "white",
            "ticks": ""
           }
          },
          "title": {
           "x": 0.05
          },
          "xaxis": {
           "automargin": true,
           "gridcolor": "white",
           "linecolor": "white",
           "ticks": "",
           "title": {
            "standoff": 15
           },
           "zerolinecolor": "white",
           "zerolinewidth": 2
          },
          "yaxis": {
           "automargin": true,
           "gridcolor": "white",
           "linecolor": "white",
           "ticks": "",
           "title": {
            "standoff": 15
           },
           "zerolinecolor": "white",
           "zerolinewidth": 2
          }
         }
        },
        "title": {
         "text": "Average waiting time of Elevator Calls by Time"
        },
        "updatemenus": [
         {
          "buttons": [
           {
            "args": [
             null,
             {
              "frame": {
               "duration": 500,
               "redraw": true
              },
              "fromcurrent": true,
              "mode": "immediate",
              "transition": {
               "duration": 500,
               "easing": "linear"
              }
             }
            ],
            "label": "&#9654;",
            "method": "animate"
           },
           {
            "args": [
             [
              null
             ],
             {
              "frame": {
               "duration": 0,
               "redraw": true
              },
              "fromcurrent": true,
              "mode": "immediate",
              "transition": {
               "duration": 0,
               "easing": "linear"
              }
             }
            ],
            "label": "&#9724;",
            "method": "animate"
           }
          ],
          "direction": "left",
          "pad": {
           "r": 10,
           "t": 70
          },
          "showactive": false,
          "type": "buttons",
          "x": 0.1,
          "xanchor": "right",
          "y": 0,
          "yanchor": "top"
         }
        ],
        "xaxis": {
         "anchor": "y",
         "categoryarray": [
          0,
          24
         ],
         "domain": [
          0,
          0.49
         ],
         "nticks": 19,
         "title": {
          "text": "Local Time (GMT+8)"
         },
         "type": "category"
        },
        "xaxis2": {
         "anchor": "y2",
         "categoryarray": [
          0,
          24
         ],
         "domain": [
          0.51,
          1
         ],
         "matches": "x",
         "nticks": 19,
         "title": {
          "text": "Local Time (GMT+8)"
         },
         "type": "category"
        },
        "yaxis": {
         "anchor": "x",
         "domain": [
          0,
          1
         ],
         "range": [
          0,
          300
         ],
         "title": {
          "text": "avgWait_weekday"
         }
        },
        "yaxis2": {
         "anchor": "x2",
         "domain": [
          0,
          1
         ],
         "matches": "y",
         "range": [
          0,
          300
         ],
         "showticklabels": false
        }
       }
      },
      "text/html": [
       "<div>\n",
       "        \n",
       "        \n",
       "            <div id=\"5cfbf265-22fb-4dda-9870-27a7f77d2904\" class=\"plotly-graph-div\" style=\"height:525px; width:100%;\"></div>\n",
       "            <script type=\"text/javascript\">\n",
       "                require([\"plotly\"], function(Plotly) {\n",
       "                    window.PLOTLYENV=window.PLOTLYENV || {};\n",
       "                    \n",
       "                if (document.getElementById(\"5cfbf265-22fb-4dda-9870-27a7f77d2904\")) {\n",
       "                    Plotly.newPlot(\n",
       "                        '5cfbf265-22fb-4dda-9870-27a7f77d2904',\n",
       "                        [{\"alignmentgroup\": \"True\", \"hovertemplate\": \"direction=up<br>floor=1<br>Local Time (GMT+8)=%{x}<br>avgWait_weekday=%{y}<extra></extra>\", \"legendgroup\": \"up\", \"marker\": {\"color\": \"#636efa\"}, \"name\": \"up\", \"offsetgroup\": \"up\", \"orientation\": \"v\", \"showlegend\": true, \"textposition\": \"auto\", \"type\": \"bar\", \"x\": [0, 1, 2, 3, 4, 5, 6, 7, 8, 9, 10, 11, 12, 13, 14, 15, 16, 17, 18, 19, 20, 21, 22, 23], \"xaxis\": \"x\", \"y\": [22.289828571428565, 23.06017699115045, 23.97, 22.38230769230769, 10.553333333333333, 9.951666666666666, 5.882166666666667, 16.271751824817517, 17.164540816326532, 15.037892156862746, 12.99259493670886, 13.437295918367347, 14.334549549549552, 14.567554585152841, 14.537017543859651, 14.498481012658232, 14.375535714285714, 19.96963235294118, 16.962409638554217, 17.875589519650656, 20.314380530973448, 20.909330708661415, 17.001761904761903, 17.43643410852713], \"yaxis\": \"y\"}],\n",
       "                        {\"annotations\": [{\"font\": {}, \"showarrow\": false, \"text\": \"direction=up\", \"x\": 0.245, \"xanchor\": \"center\", \"xref\": \"paper\", \"y\": 1.0, \"yanchor\": \"bottom\", \"yref\": \"paper\"}, {\"font\": {}, \"showarrow\": false, \"text\": \"direction=down\", \"x\": 0.755, \"xanchor\": \"center\", \"xref\": \"paper\", \"y\": 1.0, \"yanchor\": \"bottom\", \"yref\": \"paper\"}], \"barmode\": \"relative\", \"legend\": {\"title\": {\"text\": \"direction\"}, \"tracegroupgap\": 0}, \"margin\": {\"t\": 60}, \"sliders\": [{\"active\": 0, \"currentvalue\": {\"prefix\": \"floor=\"}, \"len\": 0.9, \"pad\": {\"b\": 10, \"t\": 60}, \"steps\": [{\"args\": [[\"1\"], {\"frame\": {\"duration\": 0, \"redraw\": true}, \"fromcurrent\": true, \"mode\": \"immediate\", \"transition\": {\"duration\": 0, \"easing\": \"linear\"}}], \"label\": \"1\", \"method\": \"animate\"}, {\"args\": [[\"6\"], {\"frame\": {\"duration\": 0, \"redraw\": true}, \"fromcurrent\": true, \"mode\": \"immediate\", \"transition\": {\"duration\": 0, \"easing\": \"linear\"}}], \"label\": \"6\", \"method\": \"animate\"}, {\"args\": [[\"7\"], {\"frame\": {\"duration\": 0, \"redraw\": true}, \"fromcurrent\": true, \"mode\": \"immediate\", \"transition\": {\"duration\": 0, \"easing\": \"linear\"}}], \"label\": \"7\", \"method\": \"animate\"}, {\"args\": [[\"8\"], {\"frame\": {\"duration\": 0, \"redraw\": true}, \"fromcurrent\": true, \"mode\": \"immediate\", \"transition\": {\"duration\": 0, \"easing\": \"linear\"}}], \"label\": \"8\", \"method\": \"animate\"}, {\"args\": [[\"9\"], {\"frame\": {\"duration\": 0, \"redraw\": true}, \"fromcurrent\": true, \"mode\": \"immediate\", \"transition\": {\"duration\": 0, \"easing\": \"linear\"}}], \"label\": \"9\", \"method\": \"animate\"}, {\"args\": [[\"10\"], {\"frame\": {\"duration\": 0, \"redraw\": true}, \"fromcurrent\": true, \"mode\": \"immediate\", \"transition\": {\"duration\": 0, \"easing\": \"linear\"}}], \"label\": \"10\", \"method\": \"animate\"}, {\"args\": [[\"11\"], {\"frame\": {\"duration\": 0, \"redraw\": true}, \"fromcurrent\": true, \"mode\": \"immediate\", \"transition\": {\"duration\": 0, \"easing\": \"linear\"}}], \"label\": \"11\", \"method\": \"animate\"}, {\"args\": [[\"12\"], {\"frame\": {\"duration\": 0, \"redraw\": true}, \"fromcurrent\": true, \"mode\": \"immediate\", \"transition\": {\"duration\": 0, \"easing\": \"linear\"}}], \"label\": \"12\", \"method\": \"animate\"}, {\"args\": [[\"13\"], {\"frame\": {\"duration\": 0, \"redraw\": true}, \"fromcurrent\": true, \"mode\": \"immediate\", \"transition\": {\"duration\": 0, \"easing\": \"linear\"}}], \"label\": \"13\", \"method\": \"animate\"}, {\"args\": [[\"14\"], {\"frame\": {\"duration\": 0, \"redraw\": true}, \"fromcurrent\": true, \"mode\": \"immediate\", \"transition\": {\"duration\": 0, \"easing\": \"linear\"}}], \"label\": \"14\", \"method\": \"animate\"}, {\"args\": [[\"15\"], {\"frame\": {\"duration\": 0, \"redraw\": true}, \"fromcurrent\": true, \"mode\": \"immediate\", \"transition\": {\"duration\": 0, \"easing\": \"linear\"}}], \"label\": \"15\", \"method\": \"animate\"}], \"x\": 0.1, \"xanchor\": \"left\", \"y\": 0, \"yanchor\": \"top\"}], \"template\": {\"data\": {\"bar\": [{\"error_x\": {\"color\": \"#2a3f5f\"}, \"error_y\": {\"color\": \"#2a3f5f\"}, \"marker\": {\"line\": {\"color\": \"#E5ECF6\", \"width\": 0.5}}, \"type\": \"bar\"}], \"barpolar\": [{\"marker\": {\"line\": {\"color\": \"#E5ECF6\", \"width\": 0.5}}, \"type\": \"barpolar\"}], \"carpet\": [{\"aaxis\": {\"endlinecolor\": \"#2a3f5f\", \"gridcolor\": \"white\", \"linecolor\": \"white\", \"minorgridcolor\": \"white\", \"startlinecolor\": \"#2a3f5f\"}, \"baxis\": {\"endlinecolor\": \"#2a3f5f\", \"gridcolor\": \"white\", \"linecolor\": \"white\", \"minorgridcolor\": \"white\", \"startlinecolor\": \"#2a3f5f\"}, \"type\": \"carpet\"}], \"choropleth\": [{\"colorbar\": {\"outlinewidth\": 0, \"ticks\": \"\"}, \"type\": \"choropleth\"}], \"contour\": [{\"colorbar\": {\"outlinewidth\": 0, \"ticks\": \"\"}, \"colorscale\": [[0.0, \"#0d0887\"], [0.1111111111111111, \"#46039f\"], [0.2222222222222222, \"#7201a8\"], [0.3333333333333333, \"#9c179e\"], [0.4444444444444444, \"#bd3786\"], [0.5555555555555556, \"#d8576b\"], [0.6666666666666666, \"#ed7953\"], [0.7777777777777778, \"#fb9f3a\"], [0.8888888888888888, \"#fdca26\"], [1.0, \"#f0f921\"]], \"type\": \"contour\"}], \"contourcarpet\": [{\"colorbar\": {\"outlinewidth\": 0, \"ticks\": \"\"}, \"type\": \"contourcarpet\"}], \"heatmap\": [{\"colorbar\": {\"outlinewidth\": 0, \"ticks\": \"\"}, \"colorscale\": [[0.0, \"#0d0887\"], [0.1111111111111111, \"#46039f\"], [0.2222222222222222, \"#7201a8\"], [0.3333333333333333, \"#9c179e\"], [0.4444444444444444, \"#bd3786\"], [0.5555555555555556, \"#d8576b\"], [0.6666666666666666, \"#ed7953\"], [0.7777777777777778, \"#fb9f3a\"], [0.8888888888888888, \"#fdca26\"], [1.0, \"#f0f921\"]], \"type\": \"heatmap\"}], \"heatmapgl\": [{\"colorbar\": {\"outlinewidth\": 0, \"ticks\": \"\"}, \"colorscale\": [[0.0, \"#0d0887\"], [0.1111111111111111, \"#46039f\"], [0.2222222222222222, \"#7201a8\"], [0.3333333333333333, \"#9c179e\"], [0.4444444444444444, \"#bd3786\"], [0.5555555555555556, \"#d8576b\"], [0.6666666666666666, \"#ed7953\"], [0.7777777777777778, \"#fb9f3a\"], [0.8888888888888888, \"#fdca26\"], [1.0, \"#f0f921\"]], \"type\": \"heatmapgl\"}], \"histogram\": [{\"marker\": {\"colorbar\": {\"outlinewidth\": 0, \"ticks\": \"\"}}, \"type\": \"histogram\"}], \"histogram2d\": [{\"colorbar\": {\"outlinewidth\": 0, \"ticks\": \"\"}, \"colorscale\": [[0.0, \"#0d0887\"], [0.1111111111111111, \"#46039f\"], [0.2222222222222222, \"#7201a8\"], [0.3333333333333333, \"#9c179e\"], [0.4444444444444444, \"#bd3786\"], [0.5555555555555556, \"#d8576b\"], [0.6666666666666666, \"#ed7953\"], [0.7777777777777778, \"#fb9f3a\"], [0.8888888888888888, \"#fdca26\"], [1.0, \"#f0f921\"]], \"type\": \"histogram2d\"}], \"histogram2dcontour\": [{\"colorbar\": {\"outlinewidth\": 0, \"ticks\": \"\"}, \"colorscale\": [[0.0, \"#0d0887\"], [0.1111111111111111, \"#46039f\"], [0.2222222222222222, \"#7201a8\"], [0.3333333333333333, \"#9c179e\"], [0.4444444444444444, \"#bd3786\"], [0.5555555555555556, \"#d8576b\"], [0.6666666666666666, \"#ed7953\"], [0.7777777777777778, \"#fb9f3a\"], [0.8888888888888888, \"#fdca26\"], [1.0, \"#f0f921\"]], \"type\": \"histogram2dcontour\"}], \"mesh3d\": [{\"colorbar\": {\"outlinewidth\": 0, \"ticks\": \"\"}, \"type\": \"mesh3d\"}], \"parcoords\": [{\"line\": {\"colorbar\": {\"outlinewidth\": 0, \"ticks\": \"\"}}, \"type\": \"parcoords\"}], \"pie\": [{\"automargin\": true, \"type\": \"pie\"}], \"scatter\": [{\"marker\": {\"colorbar\": {\"outlinewidth\": 0, \"ticks\": \"\"}}, \"type\": \"scatter\"}], \"scatter3d\": [{\"line\": {\"colorbar\": {\"outlinewidth\": 0, \"ticks\": \"\"}}, \"marker\": {\"colorbar\": {\"outlinewidth\": 0, \"ticks\": \"\"}}, \"type\": \"scatter3d\"}], \"scattercarpet\": [{\"marker\": {\"colorbar\": {\"outlinewidth\": 0, \"ticks\": \"\"}}, \"type\": \"scattercarpet\"}], \"scattergeo\": [{\"marker\": {\"colorbar\": {\"outlinewidth\": 0, \"ticks\": \"\"}}, \"type\": \"scattergeo\"}], \"scattergl\": [{\"marker\": {\"colorbar\": {\"outlinewidth\": 0, \"ticks\": \"\"}}, \"type\": \"scattergl\"}], \"scattermapbox\": [{\"marker\": {\"colorbar\": {\"outlinewidth\": 0, \"ticks\": \"\"}}, \"type\": \"scattermapbox\"}], \"scatterpolar\": [{\"marker\": {\"colorbar\": {\"outlinewidth\": 0, \"ticks\": \"\"}}, \"type\": \"scatterpolar\"}], \"scatterpolargl\": [{\"marker\": {\"colorbar\": {\"outlinewidth\": 0, \"ticks\": \"\"}}, \"type\": \"scatterpolargl\"}], \"scatterternary\": [{\"marker\": {\"colorbar\": {\"outlinewidth\": 0, \"ticks\": \"\"}}, \"type\": \"scatterternary\"}], \"surface\": [{\"colorbar\": {\"outlinewidth\": 0, \"ticks\": \"\"}, \"colorscale\": [[0.0, \"#0d0887\"], [0.1111111111111111, \"#46039f\"], [0.2222222222222222, \"#7201a8\"], [0.3333333333333333, \"#9c179e\"], [0.4444444444444444, \"#bd3786\"], [0.5555555555555556, \"#d8576b\"], [0.6666666666666666, \"#ed7953\"], [0.7777777777777778, \"#fb9f3a\"], [0.8888888888888888, \"#fdca26\"], [1.0, \"#f0f921\"]], \"type\": \"surface\"}], \"table\": [{\"cells\": {\"fill\": {\"color\": \"#EBF0F8\"}, \"line\": {\"color\": \"white\"}}, \"header\": {\"fill\": {\"color\": \"#C8D4E3\"}, \"line\": {\"color\": \"white\"}}, \"type\": \"table\"}]}, \"layout\": {\"annotationdefaults\": {\"arrowcolor\": \"#2a3f5f\", \"arrowhead\": 0, \"arrowwidth\": 1}, \"coloraxis\": {\"colorbar\": {\"outlinewidth\": 0, \"ticks\": \"\"}}, \"colorscale\": {\"diverging\": [[0, \"#8e0152\"], [0.1, \"#c51b7d\"], [0.2, \"#de77ae\"], [0.3, \"#f1b6da\"], [0.4, \"#fde0ef\"], [0.5, \"#f7f7f7\"], [0.6, \"#e6f5d0\"], [0.7, \"#b8e186\"], [0.8, \"#7fbc41\"], [0.9, \"#4d9221\"], [1, \"#276419\"]], \"sequential\": [[0.0, \"#0d0887\"], [0.1111111111111111, \"#46039f\"], [0.2222222222222222, \"#7201a8\"], [0.3333333333333333, \"#9c179e\"], [0.4444444444444444, \"#bd3786\"], [0.5555555555555556, \"#d8576b\"], [0.6666666666666666, \"#ed7953\"], [0.7777777777777778, \"#fb9f3a\"], [0.8888888888888888, \"#fdca26\"], [1.0, \"#f0f921\"]], \"sequentialminus\": [[0.0, \"#0d0887\"], [0.1111111111111111, \"#46039f\"], [0.2222222222222222, \"#7201a8\"], [0.3333333333333333, \"#9c179e\"], [0.4444444444444444, \"#bd3786\"], [0.5555555555555556, \"#d8576b\"], [0.6666666666666666, \"#ed7953\"], [0.7777777777777778, \"#fb9f3a\"], [0.8888888888888888, \"#fdca26\"], [1.0, \"#f0f921\"]]}, \"colorway\": [\"#636efa\", \"#EF553B\", \"#00cc96\", \"#ab63fa\", \"#FFA15A\", \"#19d3f3\", \"#FF6692\", \"#B6E880\", \"#FF97FF\", \"#FECB52\"], \"font\": {\"color\": \"#2a3f5f\"}, \"geo\": {\"bgcolor\": \"white\", \"lakecolor\": \"white\", \"landcolor\": \"#E5ECF6\", \"showlakes\": true, \"showland\": true, \"subunitcolor\": \"white\"}, \"hoverlabel\": {\"align\": \"left\"}, \"hovermode\": \"closest\", \"mapbox\": {\"style\": \"light\"}, \"paper_bgcolor\": \"white\", \"plot_bgcolor\": \"#E5ECF6\", \"polar\": {\"angularaxis\": {\"gridcolor\": \"white\", \"linecolor\": \"white\", \"ticks\": \"\"}, \"bgcolor\": \"#E5ECF6\", \"radialaxis\": {\"gridcolor\": \"white\", \"linecolor\": \"white\", \"ticks\": \"\"}}, \"scene\": {\"xaxis\": {\"backgroundcolor\": \"#E5ECF6\", \"gridcolor\": \"white\", \"gridwidth\": 2, \"linecolor\": \"white\", \"showbackground\": true, \"ticks\": \"\", \"zerolinecolor\": \"white\"}, \"yaxis\": {\"backgroundcolor\": \"#E5ECF6\", \"gridcolor\": \"white\", \"gridwidth\": 2, \"linecolor\": \"white\", \"showbackground\": true, \"ticks\": \"\", \"zerolinecolor\": \"white\"}, \"zaxis\": {\"backgroundcolor\": \"#E5ECF6\", \"gridcolor\": \"white\", \"gridwidth\": 2, \"linecolor\": \"white\", \"showbackground\": true, \"ticks\": \"\", \"zerolinecolor\": \"white\"}}, \"shapedefaults\": {\"line\": {\"color\": \"#2a3f5f\"}}, \"ternary\": {\"aaxis\": {\"gridcolor\": \"white\", \"linecolor\": \"white\", \"ticks\": \"\"}, \"baxis\": {\"gridcolor\": \"white\", \"linecolor\": \"white\", \"ticks\": \"\"}, \"bgcolor\": \"#E5ECF6\", \"caxis\": {\"gridcolor\": \"white\", \"linecolor\": \"white\", \"ticks\": \"\"}}, \"title\": {\"x\": 0.05}, \"xaxis\": {\"automargin\": true, \"gridcolor\": \"white\", \"linecolor\": \"white\", \"ticks\": \"\", \"title\": {\"standoff\": 15}, \"zerolinecolor\": \"white\", \"zerolinewidth\": 2}, \"yaxis\": {\"automargin\": true, \"gridcolor\": \"white\", \"linecolor\": \"white\", \"ticks\": \"\", \"title\": {\"standoff\": 15}, \"zerolinecolor\": \"white\", \"zerolinewidth\": 2}}}, \"title\": {\"text\": \"Average waiting time of Elevator Calls by Time\"}, \"updatemenus\": [{\"buttons\": [{\"args\": [null, {\"frame\": {\"duration\": 500, \"redraw\": true}, \"fromcurrent\": true, \"mode\": \"immediate\", \"transition\": {\"duration\": 500, \"easing\": \"linear\"}}], \"label\": \"&#9654;\", \"method\": \"animate\"}, {\"args\": [[null], {\"frame\": {\"duration\": 0, \"redraw\": true}, \"fromcurrent\": true, \"mode\": \"immediate\", \"transition\": {\"duration\": 0, \"easing\": \"linear\"}}], \"label\": \"&#9724;\", \"method\": \"animate\"}], \"direction\": \"left\", \"pad\": {\"r\": 10, \"t\": 70}, \"showactive\": false, \"type\": \"buttons\", \"x\": 0.1, \"xanchor\": \"right\", \"y\": 0, \"yanchor\": \"top\"}], \"xaxis\": {\"anchor\": \"y\", \"categoryarray\": [0, 24], \"domain\": [0.0, 0.49], \"nticks\": 19, \"title\": {\"text\": \"Local Time (GMT+8)\"}, \"type\": \"category\"}, \"xaxis2\": {\"anchor\": \"y2\", \"categoryarray\": [0, 24], \"domain\": [0.51, 1.0], \"matches\": \"x\", \"nticks\": 19, \"title\": {\"text\": \"Local Time (GMT+8)\"}, \"type\": \"category\"}, \"yaxis\": {\"anchor\": \"x\", \"domain\": [0.0, 1.0], \"range\": [0, 300], \"title\": {\"text\": \"avgWait_weekday\"}}, \"yaxis2\": {\"anchor\": \"x2\", \"domain\": [0.0, 1.0], \"matches\": \"y\", \"range\": [0, 300], \"showticklabels\": false}},\n",
       "                        {\"responsive\": true}\n",
       "                    ).then(function(){\n",
       "                            Plotly.addFrames('5cfbf265-22fb-4dda-9870-27a7f77d2904', [{\"data\": [{\"alignmentgroup\": \"True\", \"hovertemplate\": \"direction=up<br>floor=1<br>Local Time (GMT+8)=%{x}<br>avgWait_weekday=%{y}<extra></extra>\", \"legendgroup\": \"up\", \"marker\": {\"color\": \"#636efa\"}, \"name\": \"up\", \"offsetgroup\": \"up\", \"orientation\": \"v\", \"showlegend\": true, \"textposition\": \"auto\", \"x\": [0, 1, 2, 3, 4, 5, 6, 7, 8, 9, 10, 11, 12, 13, 14, 15, 16, 17, 18, 19, 20, 21, 22, 23], \"xaxis\": \"x\", \"y\": [22.289828571428565, 23.06017699115045, 23.97, 22.38230769230769, 10.553333333333333, 9.951666666666666, 5.882166666666667, 16.271751824817517, 17.164540816326532, 15.037892156862746, 12.99259493670886, 13.437295918367347, 14.334549549549552, 14.567554585152841, 14.537017543859651, 14.498481012658232, 14.375535714285714, 19.96963235294118, 16.962409638554217, 17.875589519650656, 20.314380530973448, 20.909330708661415, 17.001761904761903, 17.43643410852713], \"yaxis\": \"y\", \"type\": \"bar\"}], \"name\": \"1\"}, {\"data\": [{\"alignmentgroup\": \"True\", \"hovertemplate\": \"direction=up<br>floor=6<br>Local Time (GMT+8)=%{x}<br>avgWait_weekday=%{y}<extra></extra>\", \"legendgroup\": \"up\", \"marker\": {\"color\": \"#636efa\"}, \"name\": \"up\", \"offsetgroup\": \"up\", \"orientation\": \"v\", \"showlegend\": true, \"textposition\": \"auto\", \"x\": [0, 1, 2, 3, 4, 5, 6, 7, 8, 9, 10, 11, 12, 13, 14, 15, 16, 17, 18, 19, 20, 21, 22, 23], \"xaxis\": \"x\", \"y\": [16.48611111111111, 19.591590909090904, 16.70714285714286, 15.359000000000002, 15.560714285714285, 9.56, 20.820263157894736, 15.19783783783784, 18.523636363636363, 20.15442105263158, 16.906973684210527, 18.0202, 15.674, 19.99566265060241, 21.926923076923078, 14.67942857142857, 19.326689655172405, 21.367722772277233, 21.007763157894736, 19.264565217391304, 17.247272727272726, 18.03189473684211, 16.419999999999998, 19.57888888888889], \"yaxis\": \"y\", \"type\": \"bar\"}, {\"alignmentgroup\": \"True\", \"hovertemplate\": \"direction=down<br>floor=6<br>Local Time (GMT+8)=%{x}<br>avgWait_weekday=%{y}<extra></extra>\", \"legendgroup\": \"down\", \"marker\": {\"color\": \"#EF553B\"}, \"name\": \"down\", \"offsetgroup\": \"down\", \"orientation\": \"v\", \"showlegend\": true, \"textposition\": \"auto\", \"x\": [0, 1, 2, 6, 7, 8, 9, 10, 11, 12, 13, 14, 15, 16, 17, 18, 19, 20, 21, 22, 23], \"xaxis\": \"x2\", \"y\": [20.393, 14.911666666666667, 6.065, 23.63636363636364, 20.4475, 22.577936507936506, 17.96952380952381, 20.757333333333328, 20.091451612903224, 20.40657142857143, 15.525625, 25.519642857142852, 16.73033333333333, 18.98767123287671, 23.649245283018864, 19.5221875, 25.08703703703704, 30.455, 29.28142857142857, 9.543333333333337, 32.305], \"yaxis\": \"y2\", \"type\": \"bar\"}], \"name\": \"6\"}, {\"data\": [{\"alignmentgroup\": \"True\", \"hovertemplate\": \"direction=up<br>floor=7<br>Local Time (GMT+8)=%{x}<br>avgWait_weekday=%{y}<extra></extra>\", \"legendgroup\": \"up\", \"marker\": {\"color\": \"#636efa\"}, \"name\": \"up\", \"offsetgroup\": \"up\", \"orientation\": \"v\", \"showlegend\": true, \"textposition\": \"auto\", \"x\": [0, 1, 2, 3, 4, 5, 6, 7, 8, 9, 10, 11, 12, 13, 14, 15, 16, 17, 18, 19, 20, 21, 22, 23], \"xaxis\": \"x\", \"y\": [11.75, 15.488666666666667, 17.5725, 5.41, 20.51, 18.407000000000004, 27.04473684210526, 22.2, 18.30125, 20.11615384615385, 14.4875, 9.385, 22.33666666666667, 16.3675, 17.768888888888892, 14.536, 12.02, 12.541666666666664, 20.663333333333334, 18.523333333333326, 9.818, 15.643333333333334, 16.605, 11.420000000000002], \"yaxis\": \"y\", \"type\": \"bar\"}, {\"alignmentgroup\": \"True\", \"hovertemplate\": \"direction=down<br>floor=7<br>Local Time (GMT+8)=%{x}<br>avgWait_weekday=%{y}<extra></extra>\", \"legendgroup\": \"down\", \"marker\": {\"color\": \"#EF553B\"}, \"name\": \"down\", \"offsetgroup\": \"down\", \"orientation\": \"v\", \"showlegend\": true, \"textposition\": \"auto\", \"x\": [0, 1, 2, 4, 5, 6, 7, 8, 9, 10, 11, 12, 13, 14, 15, 16, 17, 18, 19, 20, 21, 22, 23], \"xaxis\": \"x2\", \"y\": [16.706363636363633, 14.78, 10.0, 14.010000000000002, 19.635, 23.26129310344827, 26.252033898305086, 19.47875, 19.885, 16.833260869565216, 19.7003125, 20.328166666666668, 20.1082, 20.803684210526317, 22.219183673469384, 20.9518, 27.703725490196074, 27.328444444444447, 26.13607142857143, 21.81166666666667, 21.8435, 21.518372093023252, 20.91676470588235], \"yaxis\": \"y2\", \"type\": \"bar\"}], \"name\": \"7\"}, {\"data\": [{\"alignmentgroup\": \"True\", \"hovertemplate\": \"direction=up<br>floor=8<br>Local Time (GMT+8)=%{x}<br>avgWait_weekday=%{y}<extra></extra>\", \"legendgroup\": \"up\", \"marker\": {\"color\": \"#636efa\"}, \"name\": \"up\", \"offsetgroup\": \"up\", \"orientation\": \"v\", \"showlegend\": true, \"textposition\": \"auto\", \"x\": [0, 1, 2, 3, 5, 6, 7, 8, 9, 10, 11, 12, 13, 14, 15, 16, 17, 18, 19, 20, 21, 22, 23], \"xaxis\": \"x\", \"y\": [23.965, 10.049285714285716, 5.473333333333333, 1.59, 17.405, 21.336, 24.348000000000006, 19.911578947368426, 23.717857142857138, 6.67, 18.9775, 16.415714285714284, 19.379333333333328, 16.532222222222227, 12.424, 18.3425, 22.885555555555552, 13.5644, 18.81111111111111, 24.44611111111111, 18.126666666666665, 15.131333333333336, 19.174285714285716], \"yaxis\": \"y\", \"type\": \"bar\"}, {\"alignmentgroup\": \"True\", \"hovertemplate\": \"direction=down<br>floor=8<br>Local Time (GMT+8)=%{x}<br>avgWait_weekday=%{y}<extra></extra>\", \"legendgroup\": \"down\", \"marker\": {\"color\": \"#EF553B\"}, \"name\": \"down\", \"offsetgroup\": \"down\", \"orientation\": \"v\", \"showlegend\": true, \"textposition\": \"auto\", \"x\": [0, 1, 2, 3, 4, 5, 6, 7, 8, 9, 10, 11, 12, 13, 14, 15, 16, 17, 18, 19, 20, 21, 22, 23], \"xaxis\": \"x2\", \"y\": [9.77625, 13.004000000000001, 14.502222222222226, 4.794, 11.402, 13.659444444444444, 22.40375, 31.671470588235287, 22.515555555555554, 22.129069767441862, 21.40065217391304, 20.392280701754387, 18.4425, 28.05109090909091, 19.862244897959183, 20.76642857142857, 18.874, 23.864693877551023, 24.560526315789474, 19.82096774193549, 15.2925, 14.432352941176472, 20.37357142857143, 18.747], \"yaxis\": \"y2\", \"type\": \"bar\"}], \"name\": \"8\"}, {\"data\": [{\"alignmentgroup\": \"True\", \"hovertemplate\": \"direction=up<br>floor=9<br>Local Time (GMT+8)=%{x}<br>avgWait_weekday=%{y}<extra></extra>\", \"legendgroup\": \"up\", \"marker\": {\"color\": \"#636efa\"}, \"name\": \"up\", \"offsetgroup\": \"up\", \"orientation\": \"v\", \"showlegend\": true, \"textposition\": \"auto\", \"x\": [2, 3, 6, 7, 8, 9, 11, 13, 14, 15, 16, 17, 19, 20, 21, 23], \"xaxis\": \"x\", \"y\": [2.72, 1.175, 17.04, 20.8, 20.41, 27.58, 45.54, 19.185, 18.616666666666667, 20.73, 8.15, 57.14000000000001, 27.255000000000006, 29.79, 10.89, 29.915], \"yaxis\": \"y\", \"type\": \"bar\"}, {\"alignmentgroup\": \"True\", \"hovertemplate\": \"direction=down<br>floor=9<br>Local Time (GMT+8)=%{x}<br>avgWait_weekday=%{y}<extra></extra>\", \"legendgroup\": \"down\", \"marker\": {\"color\": \"#EF553B\"}, \"name\": \"down\", \"offsetgroup\": \"down\", \"orientation\": \"v\", \"showlegend\": true, \"textposition\": \"auto\", \"x\": [0, 1, 2, 4, 5, 6, 7, 8, 9, 10, 11, 12, 13, 14, 15, 16, 17, 18, 19, 20, 21, 22, 23], \"xaxis\": \"x2\", \"y\": [11.590909090909092, 10.717, 11.105714285714289, 19.72, 15.01125, 18.260300751879694, 16.15383838383838, 16.876756756756755, 18.935757575757574, 18.272820512820516, 18.85272727272727, 18.76545454545455, 16.520200000000006, 18.147368421052636, 17.040128205128205, 17.887249999999995, 18.405833333333334, 17.028035714285714, 18.584102564102565, 16.043030303030307, 22.638636363636365, 19.55128205128205, 17.23131578947369], \"yaxis\": \"y2\", \"type\": \"bar\"}], \"name\": \"9\"}, {\"data\": [{\"alignmentgroup\": \"True\", \"hovertemplate\": \"direction=up<br>floor=10<br>Local Time (GMT+8)=%{x}<br>avgWait_weekday=%{y}<extra></extra>\", \"legendgroup\": \"up\", \"marker\": {\"color\": \"#636efa\"}, \"name\": \"up\", \"offsetgroup\": \"up\", \"orientation\": \"v\", \"showlegend\": true, \"textposition\": \"auto\", \"x\": [3, 5, 6, 8, 9, 10, 13, 14, 15, 16, 17, 18, 20, 21, 22], \"xaxis\": \"x\", \"y\": [8.88, 18.95, 22.46333333333333, 28.26, 33.160000000000004, 52.59, 75.14, 13.61, 14.293333333333333, 17.685, 5.91, 17.68, 69.4, 31.62, 24.47], \"yaxis\": \"y\", \"type\": \"bar\"}, {\"alignmentgroup\": \"True\", \"hovertemplate\": \"direction=down<br>floor=10<br>Local Time (GMT+8)=%{x}<br>avgWait_weekday=%{y}<extra></extra>\", \"legendgroup\": \"down\", \"marker\": {\"color\": \"#EF553B\"}, \"name\": \"down\", \"offsetgroup\": \"down\", \"orientation\": \"v\", \"showlegend\": true, \"textposition\": \"auto\", \"x\": [0, 1, 2, 3, 4, 5, 6, 7, 8, 9, 10, 11, 12, 13, 14, 15, 16, 17, 18, 19, 20, 21, 22, 23], \"xaxis\": \"x2\", \"y\": [11.348333333333334, 9.282222222222222, 12.0775, 20.273333333333333, 13.6, 15.293, 19.415730337078653, 15.95768115942029, 24.23896551724138, 16.1821875, 21.16125, 17.60514285714286, 18.807916666666667, 22.636969696969697, 16.07785714285714, 16.304181818181814, 17.853793103448275, 19.959090909090904, 22.74717948717949, 12.3624, 17.800714285714285, 13.46, 17.082750000000004, 18.36878787878788], \"yaxis\": \"y2\", \"type\": \"bar\"}], \"name\": \"10\"}, {\"data\": [{\"alignmentgroup\": \"True\", \"hovertemplate\": \"direction=up<br>floor=11<br>Local Time (GMT+8)=%{x}<br>avgWait_weekday=%{y}<extra></extra>\", \"legendgroup\": \"up\", \"marker\": {\"color\": \"#636efa\"}, \"name\": \"up\", \"offsetgroup\": \"up\", \"orientation\": \"v\", \"showlegend\": true, \"textposition\": \"auto\", \"x\": [3, 6, 7, 8, 9, 13, 14, 15, 18, 20, 21], \"xaxis\": \"x\", \"y\": [1.3650000000000002, 30.6425, 16.626666666666665, 24.545, 25.975, 28.995, 37.54, 6.59, 13.61, 45.365, 20.3], \"yaxis\": \"y\", \"type\": \"bar\"}, {\"alignmentgroup\": \"True\", \"hovertemplate\": \"direction=down<br>floor=11<br>Local Time (GMT+8)=%{x}<br>avgWait_weekday=%{y}<extra></extra>\", \"legendgroup\": \"down\", \"marker\": {\"color\": \"#EF553B\"}, \"name\": \"down\", \"offsetgroup\": \"down\", \"orientation\": \"v\", \"showlegend\": true, \"textposition\": \"auto\", \"x\": [0, 1, 2, 3, 4, 5, 6, 7, 8, 9, 10, 11, 12, 13, 14, 15, 16, 17, 18, 19, 20, 21, 22, 23], \"xaxis\": \"x2\", \"y\": [12.566666666666668, 19.665, 8.45, 17.09, 8.73, 21.285, 19.54745098039216, 16.52366336633663, 19.509090909090904, 13.068148148148149, 18.27851851851852, 20.33676470588236, 19.82292682926829, 18.941470588235294, 19.873720930232558, 19.11730769230769, 18.13, 22.501951219512197, 27.036176470588234, 16.056857142857144, 23.256666666666664, 15.222105263157893, 18.935555555555556, 21.00228571428572], \"yaxis\": \"y2\", \"type\": \"bar\"}], \"name\": \"11\"}, {\"data\": [{\"alignmentgroup\": \"True\", \"hovertemplate\": \"direction=up<br>floor=12<br>Local Time (GMT+8)=%{x}<br>avgWait_weekday=%{y}<extra></extra>\", \"legendgroup\": \"up\", \"marker\": {\"color\": \"#636efa\"}, \"name\": \"up\", \"offsetgroup\": \"up\", \"orientation\": \"v\", \"showlegend\": true, \"textposition\": \"auto\", \"x\": [6, 7, 8, 9, 12, 13, 14, 15, 17, 19, 21, 23], \"xaxis\": \"x\", \"y\": [34.64, 17.213333333333335, 17.015, 18.166666666666668, 35.75, 29.12, 18.025, 31.34666666666667, 24.46, 12.14, 14.8, 19.04], \"yaxis\": \"y\", \"type\": \"bar\"}, {\"alignmentgroup\": \"True\", \"hovertemplate\": \"direction=down<br>floor=12<br>Local Time (GMT+8)=%{x}<br>avgWait_weekday=%{y}<extra></extra>\", \"legendgroup\": \"down\", \"marker\": {\"color\": \"#EF553B\"}, \"name\": \"down\", \"offsetgroup\": \"down\", \"orientation\": \"v\", \"showlegend\": true, \"textposition\": \"auto\", \"x\": [0, 1, 2, 3, 4, 5, 6, 7, 8, 9, 10, 11, 12, 13, 14, 15, 16, 17, 18, 19, 20, 21, 22, 23], \"xaxis\": \"x2\", \"y\": [9.801666666666668, 4.644285714285715, 9.406666666666666, 1.36, 15.99, 13.19, 24.235476190476195, 18.742916666666666, 21.030571428571434, 19.934285714285714, 18.44, 20.17571428571428, 18.318064516129034, 23.31921052631579, 17.155192307692307, 13.924102564102563, 24.820434782608697, 21.081666666666667, 14.403571428571427, 19.564666666666668, 22.176666666666666, 19.69, 15.7832, 16.798636363636362], \"yaxis\": \"y2\", \"type\": \"bar\"}], \"name\": \"12\"}, {\"data\": [{\"alignmentgroup\": \"True\", \"hovertemplate\": \"direction=up<br>floor=13<br>Local Time (GMT+8)=%{x}<br>avgWait_weekday=%{y}<extra></extra>\", \"legendgroup\": \"up\", \"marker\": {\"color\": \"#636efa\"}, \"name\": \"up\", \"offsetgroup\": \"up\", \"orientation\": \"v\", \"showlegend\": true, \"textposition\": \"auto\", \"x\": [0, 1, 4, 6, 7, 8, 9, 11, 12, 13, 14, 15, 16, 17, 18, 21, 22, 23], \"xaxis\": \"x\", \"y\": [27.98333333333333, 44.14, 0.61, 37.48666666666667, 17.777142857142856, 9.75, 11.025, 5.25, 16.37, 19.055, 23.9, 32.61, 27.06, 16.09, 32.04666666666667, 25.45666666666667, 34.004999999999995, 16.028], \"yaxis\": \"y\", \"type\": \"bar\"}, {\"alignmentgroup\": \"True\", \"hovertemplate\": \"direction=down<br>floor=13<br>Local Time (GMT+8)=%{x}<br>avgWait_weekday=%{y}<extra></extra>\", \"legendgroup\": \"down\", \"marker\": {\"color\": \"#EF553B\"}, \"name\": \"down\", \"offsetgroup\": \"down\", \"orientation\": \"v\", \"showlegend\": true, \"textposition\": \"auto\", \"x\": [0, 1, 2, 3, 4, 5, 6, 7, 8, 9, 10, 11, 12, 13, 14, 15, 16, 17, 18, 19, 20, 21, 22, 23], \"xaxis\": \"x2\", \"y\": [24.06111111111111, 16.64090909090909, 7.984, 5.7650000000000015, 17.286666666666665, 27.205, 16.00793103448276, 18.992604166666666, 22.796304347826084, 19.482916666666668, 14.28125, 23.09190476190476, 22.35034482758621, 21.23409090909091, 27.00392857142857, 16.414516129032258, 17.057666666666666, 24.27425531914893, 18.109642857142852, 17.1735, 15.716666666666667, 19.153571428571436, 19.24448275862069, 14.5075], \"yaxis\": \"y2\", \"type\": \"bar\"}], \"name\": \"13\"}, {\"data\": [{\"alignmentgroup\": \"True\", \"hovertemplate\": \"direction=up<br>floor=14<br>Local Time (GMT+8)=%{x}<br>avgWait_weekday=%{y}<extra></extra>\", \"legendgroup\": \"up\", \"marker\": {\"color\": \"#636efa\"}, \"name\": \"up\", \"offsetgroup\": \"up\", \"orientation\": \"v\", \"showlegend\": true, \"textposition\": \"auto\", \"x\": [0, 2, 3, 6, 7, 8, 9, 10, 11, 14, 15, 16, 18, 19, 20, 21, 22, 23], \"xaxis\": \"x\", \"y\": [31.1, 1.335, 16.31, 35.4025, 18.35, 22.506666666666664, 2.4833333333333334, 10.87, 36.49, 2.4, 12.106666666666667, 12.25, 8.212, 27.596666666666664, 13.595, 10.89, 42.605, 8.605], \"yaxis\": \"y\", \"type\": \"bar\"}, {\"alignmentgroup\": \"True\", \"hovertemplate\": \"direction=down<br>floor=14<br>Local Time (GMT+8)=%{x}<br>avgWait_weekday=%{y}<extra></extra>\", \"legendgroup\": \"down\", \"marker\": {\"color\": \"#EF553B\"}, \"name\": \"down\", \"offsetgroup\": \"down\", \"orientation\": \"v\", \"showlegend\": true, \"textposition\": \"auto\", \"x\": [0, 1, 2, 3, 4, 5, 6, 7, 8, 9, 10, 11, 12, 13, 14, 15, 16, 17, 18, 19, 20, 21, 22, 23], \"xaxis\": \"x2\", \"y\": [12.41642857142857, 9.06, 11.273333333333332, 9.25, 7.935, 16.28, 21.223000000000006, 22.289753086419754, 23.9412676056338, 26.082857142857147, 22.91282051282051, 17.395, 15.5559375, 21.2514, 18.63379310344828, 21.23424242424242, 20.587391304347825, 21.77267857142857, 21.833137254901963, 17.1215625, 19.1708, 22.852, 21.3, 22.38413793103448], \"yaxis\": \"y2\", \"type\": \"bar\"}], \"name\": \"14\"}, {\"data\": [{\"alignmentgroup\": \"True\", \"hovertemplate\": \"direction=down<br>floor=15<br>Local Time (GMT+8)=%{x}<br>avgWait_weekday=%{y}<extra></extra>\", \"legendgroup\": \"down\", \"marker\": {\"color\": \"#EF553B\"}, \"name\": \"down\", \"offsetgroup\": \"down\", \"orientation\": \"v\", \"showlegend\": true, \"textposition\": \"auto\", \"x\": [0, 1, 2, 3, 4, 5, 6, 7, 8, 9, 10, 11, 12, 13, 14, 15, 16, 17, 18, 19, 20, 21, 22, 23], \"xaxis\": \"x2\", \"y\": [7.8660000000000005, 3.76, 12.589999999999998, 15.013333333333335, 2.72, 21.775, 24.276136363636365, 21.766, 19.339454545454547, 17.671, 18.545769230769228, 21.000731707317073, 22.721176470588237, 20.899545454545454, 23.288461538461537, 23.53113636363636, 19.51285714285714, 27.44232142857143, 19.458181818181817, 25.903714285714287, 18.075294117647054, 22.3285, 22.154193548387095, 23.24727272727273], \"yaxis\": \"y2\", \"type\": \"bar\"}], \"name\": \"15\"}]);\n",
       "                        }).then(function(){\n",
       "                            \n",
       "var gd = document.getElementById('5cfbf265-22fb-4dda-9870-27a7f77d2904');\n",
       "var x = new MutationObserver(function (mutations, observer) {{\n",
       "        var display = window.getComputedStyle(gd).display;\n",
       "        if (!display || display === 'none') {{\n",
       "            console.log([gd, 'removed!']);\n",
       "            Plotly.purge(gd);\n",
       "            observer.disconnect();\n",
       "        }}\n",
       "}});\n",
       "\n",
       "// Listen for the removal of the full notebook cells\n",
       "var notebookContainer = gd.closest('#notebook-container');\n",
       "if (notebookContainer) {{\n",
       "    x.observe(notebookContainer, {childList: true});\n",
       "}}\n",
       "\n",
       "// Listen for the clearing of the current output cell\n",
       "var outputEl = gd.closest('.output');\n",
       "if (outputEl) {{\n",
       "    x.observe(outputEl, {childList: true});\n",
       "}}\n",
       "\n",
       "                        })\n",
       "                };\n",
       "                });\n",
       "            </script>\n",
       "        </div>"
      ]
     },
     "metadata": {},
     "output_type": "display_data"
    }
   ],
   "source": [
    "df_s_weekday.floor.unique()\n",
    "fig = px.bar(data_frame=df_s_weekday, \n",
    "             x = \"hour\", y = \"avgWait_weekday\",\n",
    "             facet_col=\"direction\",color=\"direction\",\n",
    "             animation_frame=\"floor\",\n",
    "             labels={\"count\":\"avgWait_weekday\",\n",
    "                     \"hour\":\"Local Time (GMT+8)\"})\n",
    "# X axis\n",
    "fig.update_xaxes(nticks=len(floor_name),\n",
    "                 type=\"category\",\n",
    "                 categoryarray=[0,24])\n",
    "\n",
    "# Y axis\n",
    "fig.update_yaxes(range=[0, 300])\n",
    "\n",
    "# Layout\n",
    "fig.update_layout(title_text='Average waiting time of Elevator Calls by Time')\n",
    "\n",
    "fig.show()"
   ]
  },
  {
   "cell_type": "code",
   "execution_count": 18,
   "metadata": {},
   "outputs": [
    {
     "data": {
      "application/vnd.plotly.v1+json": {
       "config": {
        "plotlyServerURL": "https://plot.ly"
       },
       "data": [
        {
         "alignmentgroup": "True",
         "hovertemplate": "direction=up<br>floor=1<br>Local Time (GMT+8)=%{x}<br>avgWait_weekend=%{y}<extra></extra>",
         "legendgroup": "up",
         "marker": {
          "color": "#636efa"
         },
         "name": "up",
         "offsetgroup": "up",
         "orientation": "v",
         "showlegend": true,
         "textposition": "auto",
         "type": "bar",
         "x": [
          0,
          1,
          2,
          3,
          4,
          5,
          6,
          7,
          8,
          9,
          10,
          11,
          12,
          13,
          14,
          15,
          16,
          17,
          18,
          19,
          20,
          21,
          22,
          23
         ],
         "xaxis": "x",
         "y": [
          22.039268292682923,
          19.084473684210526,
          22.612666666666666,
          23.6725,
          10.902,
          12.58,
          11.291875,
          11.9715625,
          17.700576923076927,
          12.764411764705885,
          10.526142857142858,
          7.880253164556963,
          16.717916666666667,
          16.699514563106803,
          12.785421686746991,
          10.655223880597015,
          16.56198275862069,
          14.814285714285711,
          18.083763440860213,
          18.03739130434783,
          17.257261904761904,
          18.45131313131313,
          18.986626506024095,
          17.182807017543865
         ],
         "yaxis": "y"
        }
       ],
       "frames": [
        {
         "data": [
          {
           "alignmentgroup": "True",
           "hovertemplate": "direction=up<br>floor=1<br>Local Time (GMT+8)=%{x}<br>avgWait_weekend=%{y}<extra></extra>",
           "legendgroup": "up",
           "marker": {
            "color": "#636efa"
           },
           "name": "up",
           "offsetgroup": "up",
           "orientation": "v",
           "showlegend": true,
           "textposition": "auto",
           "type": "bar",
           "x": [
            0,
            1,
            2,
            3,
            4,
            5,
            6,
            7,
            8,
            9,
            10,
            11,
            12,
            13,
            14,
            15,
            16,
            17,
            18,
            19,
            20,
            21,
            22,
            23
           ],
           "xaxis": "x",
           "y": [
            22.039268292682923,
            19.084473684210526,
            22.612666666666666,
            23.6725,
            10.902,
            12.58,
            11.291875,
            11.9715625,
            17.700576923076927,
            12.764411764705885,
            10.526142857142858,
            7.880253164556963,
            16.717916666666667,
            16.699514563106803,
            12.785421686746991,
            10.655223880597015,
            16.56198275862069,
            14.814285714285711,
            18.083763440860213,
            18.03739130434783,
            17.257261904761904,
            18.45131313131313,
            18.986626506024095,
            17.182807017543865
           ],
           "yaxis": "y"
          }
         ],
         "name": "1"
        },
        {
         "data": [
          {
           "alignmentgroup": "True",
           "hovertemplate": "direction=up<br>floor=6<br>Local Time (GMT+8)=%{x}<br>avgWait_weekend=%{y}<extra></extra>",
           "legendgroup": "up",
           "marker": {
            "color": "#636efa"
           },
           "name": "up",
           "offsetgroup": "up",
           "orientation": "v",
           "showlegend": true,
           "textposition": "auto",
           "type": "bar",
           "x": [
            0,
            1,
            2,
            3,
            4,
            5,
            6,
            7,
            8,
            9,
            10,
            11,
            12,
            13,
            14,
            15,
            16,
            17,
            18,
            19,
            20,
            21,
            22,
            23
           ],
           "xaxis": "x",
           "y": [
            18.898055555555555,
            16.70485714285714,
            14.736666666666665,
            23.2675,
            10.0225,
            13.5675,
            22.804444444444453,
            19.635833333333334,
            22.97230769230769,
            20.067924528301887,
            18.088478260869568,
            21.88,
            20.97025,
            16.792708333333334,
            18.575526315789475,
            13.849318181818182,
            19.157710843373497,
            21.858295454545456,
            24.058571428571426,
            19.533,
            17.91588235294118,
            15.66333333333333,
            17.91272727272727,
            18.267894736842106
           ],
           "yaxis": "y"
          },
          {
           "alignmentgroup": "True",
           "hovertemplate": "direction=down<br>floor=6<br>Local Time (GMT+8)=%{x}<br>avgWait_weekend=%{y}<extra></extra>",
           "legendgroup": "down",
           "marker": {
            "color": "#EF553B"
           },
           "name": "down",
           "offsetgroup": "down",
           "orientation": "v",
           "showlegend": true,
           "textposition": "auto",
           "type": "bar",
           "x": [
            0,
            1,
            2,
            6,
            7,
            8,
            9,
            10,
            11,
            12,
            13,
            14,
            15,
            16,
            17,
            18,
            19,
            20,
            21,
            22,
            23
           ],
           "xaxis": "x2",
           "y": [
            14.251666666666667,
            15.98,
            24.57,
            1.41,
            13.34875,
            16.6234375,
            15.89,
            14.79,
            15.003703703703707,
            18.973333333333336,
            22.90571428571429,
            15.179473684210526,
            15.232000000000001,
            20.21696969696969,
            27.968387096774197,
            19.724,
            16.738571428571426,
            20.896,
            40.18,
            13.59,
            15.645
           ],
           "yaxis": "y2"
          }
         ],
         "name": "6"
        },
        {
         "data": [
          {
           "alignmentgroup": "True",
           "hovertemplate": "direction=up<br>floor=7<br>Local Time (GMT+8)=%{x}<br>avgWait_weekend=%{y}<extra></extra>",
           "legendgroup": "up",
           "marker": {
            "color": "#636efa"
           },
           "name": "up",
           "offsetgroup": "up",
           "orientation": "v",
           "showlegend": true,
           "textposition": "auto",
           "type": "bar",
           "x": [
            0,
            1,
            4,
            5,
            6,
            7,
            8,
            9,
            10,
            11,
            12,
            13,
            14,
            15,
            16,
            17,
            19,
            20,
            22,
            23
           ],
           "xaxis": "x",
           "y": [
            17.69,
            15.53,
            17.093333333333334,
            16.276666666666667,
            26.923333333333336,
            11.166666666666664,
            30.883333333333336,
            12.835,
            24.31333333333333,
            4.025,
            15.182,
            13.311666666666667,
            15.596470588235292,
            17.65,
            6.7250000000000005,
            10.162727272727274,
            29.34666666666667,
            10.07,
            15.7575,
            12.9
           ],
           "yaxis": "y"
          },
          {
           "alignmentgroup": "True",
           "hovertemplate": "direction=down<br>floor=7<br>Local Time (GMT+8)=%{x}<br>avgWait_weekend=%{y}<extra></extra>",
           "legendgroup": "down",
           "marker": {
            "color": "#EF553B"
           },
           "name": "down",
           "offsetgroup": "down",
           "orientation": "v",
           "showlegend": true,
           "textposition": "auto",
           "type": "bar",
           "x": [
            0,
            1,
            2,
            4,
            6,
            7,
            8,
            9,
            10,
            11,
            12,
            13,
            14,
            15,
            16,
            17,
            18,
            19,
            20,
            21,
            22,
            23
           ],
           "xaxis": "x2",
           "y": [
            8.943333333333333,
            16.685,
            12.14,
            9.165,
            16.881935483870972,
            28.964615384615378,
            27.13421052631579,
            24.45217391304348,
            16.550434782608693,
            21.905862068965515,
            26.387916666666666,
            18.468,
            26.18075,
            14.112307692307693,
            19.902083333333334,
            26.93133333333333,
            27.761000000000006,
            21.86090909090909,
            17.11,
            12.693333333333333,
            21.854761904761904,
            34.654999999999994
           ],
           "yaxis": "y2"
          }
         ],
         "name": "7"
        },
        {
         "data": [
          {
           "alignmentgroup": "True",
           "hovertemplate": "direction=up<br>floor=8<br>Local Time (GMT+8)=%{x}<br>avgWait_weekend=%{y}<extra></extra>",
           "legendgroup": "up",
           "marker": {
            "color": "#636efa"
           },
           "name": "up",
           "offsetgroup": "up",
           "orientation": "v",
           "showlegend": true,
           "textposition": "auto",
           "type": "bar",
           "x": [
            0,
            1,
            2,
            3,
            4,
            6,
            7,
            8,
            9,
            10,
            11,
            12,
            13,
            14,
            15,
            16,
            17,
            18,
            19,
            20,
            21,
            22,
            23
           ],
           "xaxis": "x",
           "y": [
            45.61,
            9.6625,
            9.55,
            42.18,
            12.2,
            23.10666666666667,
            17.776249999999994,
            14.002307692307694,
            18.645,
            13.992857142857142,
            15.4175,
            13.436000000000002,
            12.304,
            17.087,
            9.86,
            12.13,
            19.302222222222227,
            17.98125,
            17.5175,
            32.495999999999995,
            15.386666666666667,
            14.9275,
            14.553333333333333
           ],
           "yaxis": "y"
          },
          {
           "alignmentgroup": "True",
           "hovertemplate": "direction=down<br>floor=8<br>Local Time (GMT+8)=%{x}<br>avgWait_weekend=%{y}<extra></extra>",
           "legendgroup": "down",
           "marker": {
            "color": "#EF553B"
           },
           "name": "down",
           "offsetgroup": "down",
           "orientation": "v",
           "showlegend": true,
           "textposition": "auto",
           "type": "bar",
           "x": [
            1,
            2,
            3,
            4,
            5,
            6,
            7,
            8,
            9,
            10,
            11,
            12,
            13,
            14,
            15,
            16,
            17,
            18,
            19,
            20,
            21,
            22,
            23
           ],
           "xaxis": "x2",
           "y": [
            11.247142857142858,
            8.0475,
            15.75,
            1.1766666666666667,
            19.358,
            21.509259259259263,
            25.23416666666667,
            25.830740740740747,
            23.216190476190476,
            23.008235294117647,
            16.479,
            19.205,
            21.53181818181818,
            20.109473684210524,
            21.63416666666667,
            18.949333333333332,
            37.2221875,
            17.791428571428572,
            24.258000000000006,
            25.931176470588237,
            28.57333333333333,
            22.00107142857143,
            24.1825
           ],
           "yaxis": "y2"
          }
         ],
         "name": "8"
        },
        {
         "data": [
          {
           "alignmentgroup": "True",
           "hovertemplate": "direction=up<br>floor=9<br>Local Time (GMT+8)=%{x}<br>avgWait_weekend=%{y}<extra></extra>",
           "legendgroup": "up",
           "marker": {
            "color": "#636efa"
           },
           "name": "up",
           "offsetgroup": "up",
           "orientation": "v",
           "showlegend": true,
           "textposition": "auto",
           "type": "bar",
           "x": [
            0,
            1,
            2,
            6,
            8,
            9,
            10,
            11,
            14,
            15,
            17,
            21,
            23
           ],
           "xaxis": "x",
           "y": [
            33.42,
            1.01,
            40.78,
            2.74,
            34.64,
            57.07,
            38.09,
            25.7,
            9.52,
            16.845,
            91.29,
            40.81,
            13.69
           ],
           "yaxis": "y"
          },
          {
           "alignmentgroup": "True",
           "hovertemplate": "direction=down<br>floor=9<br>Local Time (GMT+8)=%{x}<br>avgWait_weekend=%{y}<extra></extra>",
           "legendgroup": "down",
           "marker": {
            "color": "#EF553B"
           },
           "name": "down",
           "offsetgroup": "down",
           "orientation": "v",
           "showlegend": true,
           "textposition": "auto",
           "type": "bar",
           "x": [
            0,
            1,
            2,
            3,
            4,
            5,
            6,
            7,
            8,
            9,
            10,
            11,
            12,
            13,
            14,
            15,
            16,
            17,
            18,
            19,
            20,
            21,
            22,
            23
           ],
           "xaxis": "x2",
           "y": [
            15.746666666666664,
            12.124,
            8.593333333333334,
            2.72,
            8.815,
            14.123333333333333,
            17.660270270270267,
            16.7553125,
            21.589285714285715,
            16.615263157894738,
            17.430714285714284,
            18.018709677419352,
            20.383030303030306,
            20.044117647058822,
            19.444230769230767,
            16.517906976744186,
            15.912352941176472,
            18.616129032258065,
            14.9425,
            15.6525,
            20.432000000000002,
            10.91,
            15.54,
            17.34
           ],
           "yaxis": "y2"
          }
         ],
         "name": "9"
        },
        {
         "data": [
          {
           "alignmentgroup": "True",
           "hovertemplate": "direction=up<br>floor=10<br>Local Time (GMT+8)=%{x}<br>avgWait_weekend=%{y}<extra></extra>",
           "legendgroup": "up",
           "marker": {
            "color": "#636efa"
           },
           "name": "up",
           "offsetgroup": "up",
           "orientation": "v",
           "showlegend": true,
           "textposition": "auto",
           "type": "bar",
           "x": [
            6,
            7,
            12,
            13,
            14,
            17,
            20,
            23
           ],
           "xaxis": "x",
           "y": [
            9.965,
            17.665,
            49.65,
            22.97,
            13.44,
            24.22,
            1.47,
            18.305
           ],
           "yaxis": "y"
          },
          {
           "alignmentgroup": "True",
           "hovertemplate": "direction=down<br>floor=10<br>Local Time (GMT+8)=%{x}<br>avgWait_weekend=%{y}<extra></extra>",
           "legendgroup": "down",
           "marker": {
            "color": "#EF553B"
           },
           "name": "down",
           "offsetgroup": "down",
           "orientation": "v",
           "showlegend": true,
           "textposition": "auto",
           "type": "bar",
           "x": [
            0,
            1,
            2,
            5,
            6,
            7,
            8,
            9,
            10,
            11,
            12,
            13,
            14,
            15,
            16,
            17,
            18,
            19,
            20,
            21,
            22,
            23
           ],
           "xaxis": "x2",
           "y": [
            39.46,
            17.7,
            9.88,
            18.57,
            17.21892857142857,
            18.375,
            14.3035,
            22.419,
            18.545,
            14.967000000000002,
            18.976428571428574,
            19.102,
            19.8316,
            16.450000000000006,
            18.019375,
            19.145151515151515,
            19.4,
            18.537333333333333,
            18.234285714285715,
            9.374545454545457,
            19.02368421052632,
            17.706470588235298
           ],
           "yaxis": "y2"
          }
         ],
         "name": "10"
        },
        {
         "data": [
          {
           "alignmentgroup": "True",
           "hovertemplate": "direction=up<br>floor=11<br>Local Time (GMT+8)=%{x}<br>avgWait_weekend=%{y}<extra></extra>",
           "legendgroup": "up",
           "marker": {
            "color": "#636efa"
           },
           "name": "up",
           "offsetgroup": "up",
           "orientation": "v",
           "showlegend": true,
           "textposition": "auto",
           "type": "bar",
           "x": [
            6,
            8,
            10,
            12,
            18,
            20
           ],
           "xaxis": "x",
           "y": [
            14.98,
            12.31,
            50.42,
            45.2,
            38.75,
            38.09
           ],
           "yaxis": "y"
          },
          {
           "alignmentgroup": "True",
           "hovertemplate": "direction=down<br>floor=11<br>Local Time (GMT+8)=%{x}<br>avgWait_weekend=%{y}<extra></extra>",
           "legendgroup": "down",
           "marker": {
            "color": "#EF553B"
           },
           "name": "down",
           "offsetgroup": "down",
           "orientation": "v",
           "showlegend": true,
           "textposition": "auto",
           "type": "bar",
           "x": [
            0,
            1,
            4,
            6,
            7,
            8,
            9,
            10,
            11,
            12,
            13,
            14,
            15,
            16,
            17,
            18,
            19,
            20,
            21,
            22,
            23
           ],
           "xaxis": "x2",
           "y": [
            15.775,
            8.195,
            19.13,
            16.548666666666666,
            15.669615384615385,
            21.12111111111111,
            14.339166666666666,
            21.16470588235294,
            26.855,
            19.930689655172415,
            15.192272727272728,
            18.39190476190476,
            17.1052,
            18.059500000000003,
            19.33,
            25.04357142857143,
            20.49,
            22.78,
            16.967777777777773,
            22.812857142857148,
            12.304117647058822
           ],
           "yaxis": "y2"
          }
         ],
         "name": "11"
        },
        {
         "data": [
          {
           "alignmentgroup": "True",
           "hovertemplate": "direction=up<br>floor=12<br>Local Time (GMT+8)=%{x}<br>avgWait_weekend=%{y}<extra></extra>",
           "legendgroup": "up",
           "marker": {
            "color": "#636efa"
           },
           "name": "up",
           "offsetgroup": "up",
           "orientation": "v",
           "showlegend": true,
           "textposition": "auto",
           "type": "bar",
           "x": [
            8,
            9,
            10,
            13,
            14
           ],
           "xaxis": "x",
           "y": [
            13.56,
            12.04,
            48.74,
            27.23,
            10.78
           ],
           "yaxis": "y"
          },
          {
           "alignmentgroup": "True",
           "hovertemplate": "direction=down<br>floor=12<br>Local Time (GMT+8)=%{x}<br>avgWait_weekend=%{y}<extra></extra>",
           "legendgroup": "down",
           "marker": {
            "color": "#EF553B"
           },
           "name": "down",
           "offsetgroup": "down",
           "orientation": "v",
           "showlegend": true,
           "textposition": "auto",
           "type": "bar",
           "x": [
            0,
            1,
            5,
            6,
            7,
            8,
            9,
            10,
            11,
            12,
            13,
            14,
            15,
            16,
            17,
            18,
            19,
            20,
            21,
            22,
            23
           ],
           "xaxis": "x2",
           "y": [
            16.35,
            9.53,
            21.72,
            18.823076923076922,
            17.025,
            21.21392857142857,
            29.223000000000006,
            18.234615384615385,
            21.787,
            16.113636363636363,
            19.968461538461536,
            23.93947368421053,
            15.616666666666667,
            12.0325,
            22.801052631578948,
            16.68125,
            19.96363636363636,
            20.6325,
            11.149090909090907,
            15.729230769230773,
            14.262222222222226
           ],
           "yaxis": "y2"
          }
         ],
         "name": "12"
        },
        {
         "data": [
          {
           "alignmentgroup": "True",
           "hovertemplate": "direction=up<br>floor=13<br>Local Time (GMT+8)=%{x}<br>avgWait_weekend=%{y}<extra></extra>",
           "legendgroup": "up",
           "marker": {
            "color": "#636efa"
           },
           "name": "up",
           "offsetgroup": "up",
           "orientation": "v",
           "showlegend": true,
           "textposition": "auto",
           "type": "bar",
           "x": [
            0,
            7,
            8,
            10,
            12,
            14,
            17,
            18,
            20,
            22,
            23
           ],
           "xaxis": "x",
           "y": [
            9.52,
            16.93,
            14.78,
            21.77,
            22.81,
            31.36,
            1.28,
            21.61,
            40.77,
            12.24,
            36.71
           ],
           "yaxis": "y"
          },
          {
           "alignmentgroup": "True",
           "hovertemplate": "direction=down<br>floor=13<br>Local Time (GMT+8)=%{x}<br>avgWait_weekend=%{y}<extra></extra>",
           "legendgroup": "down",
           "marker": {
            "color": "#EF553B"
           },
           "name": "down",
           "offsetgroup": "down",
           "orientation": "v",
           "showlegend": true,
           "textposition": "auto",
           "type": "bar",
           "x": [
            0,
            1,
            3,
            6,
            7,
            8,
            9,
            10,
            11,
            12,
            13,
            14,
            15,
            16,
            17,
            18,
            19,
            20,
            21,
            22,
            23
           ],
           "xaxis": "x2",
           "y": [
            17.56,
            12.2075,
            1.38,
            11.2525,
            16.955000000000002,
            23.407241379310346,
            17.315555555555555,
            30.376666666666665,
            12.78,
            24.42388888888889,
            16.755000000000006,
            14.989047619047618,
            20.638181818181817,
            23.07533333333333,
            18.0212,
            17.685833333333328,
            14.414285714285715,
            31.23875,
            30.201428571428576,
            23.0825,
            21.0775
           ],
           "yaxis": "y2"
          }
         ],
         "name": "13"
        },
        {
         "data": [
          {
           "alignmentgroup": "True",
           "hovertemplate": "direction=up<br>floor=14<br>Local Time (GMT+8)=%{x}<br>avgWait_weekend=%{y}<extra></extra>",
           "legendgroup": "up",
           "marker": {
            "color": "#636efa"
           },
           "name": "up",
           "offsetgroup": "up",
           "orientation": "v",
           "showlegend": true,
           "textposition": "auto",
           "type": "bar",
           "x": [
            2,
            6,
            7,
            8,
            10,
            11,
            12,
            14,
            19,
            21
           ],
           "xaxis": "x",
           "y": [
            14.94,
            19.04,
            6.79,
            1.36,
            9.53,
            32.57,
            19.23,
            34.495,
            13.34,
            1.34
           ],
           "yaxis": "y"
          },
          {
           "alignmentgroup": "True",
           "hovertemplate": "direction=down<br>floor=14<br>Local Time (GMT+8)=%{x}<br>avgWait_weekend=%{y}<extra></extra>",
           "legendgroup": "down",
           "marker": {
            "color": "#EF553B"
           },
           "name": "down",
           "offsetgroup": "down",
           "orientation": "v",
           "showlegend": true,
           "textposition": "auto",
           "type": "bar",
           "x": [
            0,
            1,
            2,
            3,
            4,
            5,
            6,
            7,
            8,
            9,
            10,
            11,
            12,
            13,
            14,
            15,
            16,
            17,
            18,
            19,
            20,
            21,
            22,
            23
           ],
           "xaxis": "x2",
           "y": [
            8.865,
            19.81,
            16.32,
            1.37,
            1.44,
            23.95,
            20.18,
            23.863157894736844,
            20.23432432432433,
            20.104444444444443,
            19.02952380952381,
            25.465,
            23.652222222222218,
            16.345945945945946,
            19.296190476190482,
            21.171666666666667,
            23.844,
            25.81730769230769,
            28.043529411764702,
            20.335714285714285,
            19.33,
            13.419999999999998,
            14.754166666666665,
            28.69333333333333
           ],
           "yaxis": "y2"
          }
         ],
         "name": "14"
        },
        {
         "data": [
          {
           "alignmentgroup": "True",
           "hovertemplate": "direction=down<br>floor=15<br>Local Time (GMT+8)=%{x}<br>avgWait_weekend=%{y}<extra></extra>",
           "legendgroup": "down",
           "marker": {
            "color": "#EF553B"
           },
           "name": "down",
           "offsetgroup": "down",
           "orientation": "v",
           "showlegend": true,
           "textposition": "auto",
           "type": "bar",
           "x": [
            0,
            1,
            2,
            3,
            6,
            7,
            8,
            9,
            10,
            11,
            12,
            13,
            14,
            15,
            16,
            17,
            18,
            19,
            20,
            21,
            22,
            23
           ],
           "xaxis": "x2",
           "y": [
            13.495999999999999,
            10.136000000000001,
            13.58,
            25.74,
            18.248,
            25.214,
            18.447586206896556,
            28.87875,
            20.865384615384613,
            22.24857142857143,
            25.311764705882354,
            21.681785714285716,
            23.9888,
            26.5545,
            22.64083333333333,
            30.112,
            22.009047619047614,
            16.23894736842105,
            18.53529411764706,
            10.544615384615383,
            26.35857142857143,
            19.0925
           ],
           "yaxis": "y2"
          }
         ],
         "name": "15"
        }
       ],
       "layout": {
        "annotations": [
         {
          "font": {},
          "showarrow": false,
          "text": "direction=up",
          "x": 0.245,
          "xanchor": "center",
          "xref": "paper",
          "y": 1,
          "yanchor": "bottom",
          "yref": "paper"
         },
         {
          "font": {},
          "showarrow": false,
          "text": "direction=down",
          "x": 0.755,
          "xanchor": "center",
          "xref": "paper",
          "y": 1,
          "yanchor": "bottom",
          "yref": "paper"
         }
        ],
        "barmode": "relative",
        "legend": {
         "title": {
          "text": "direction"
         },
         "tracegroupgap": 0
        },
        "margin": {
         "t": 60
        },
        "sliders": [
         {
          "active": 0,
          "currentvalue": {
           "prefix": "floor="
          },
          "len": 0.9,
          "pad": {
           "b": 10,
           "t": 60
          },
          "steps": [
           {
            "args": [
             [
              "1"
             ],
             {
              "frame": {
               "duration": 0,
               "redraw": true
              },
              "fromcurrent": true,
              "mode": "immediate",
              "transition": {
               "duration": 0,
               "easing": "linear"
              }
             }
            ],
            "label": "1",
            "method": "animate"
           },
           {
            "args": [
             [
              "6"
             ],
             {
              "frame": {
               "duration": 0,
               "redraw": true
              },
              "fromcurrent": true,
              "mode": "immediate",
              "transition": {
               "duration": 0,
               "easing": "linear"
              }
             }
            ],
            "label": "6",
            "method": "animate"
           },
           {
            "args": [
             [
              "7"
             ],
             {
              "frame": {
               "duration": 0,
               "redraw": true
              },
              "fromcurrent": true,
              "mode": "immediate",
              "transition": {
               "duration": 0,
               "easing": "linear"
              }
             }
            ],
            "label": "7",
            "method": "animate"
           },
           {
            "args": [
             [
              "8"
             ],
             {
              "frame": {
               "duration": 0,
               "redraw": true
              },
              "fromcurrent": true,
              "mode": "immediate",
              "transition": {
               "duration": 0,
               "easing": "linear"
              }
             }
            ],
            "label": "8",
            "method": "animate"
           },
           {
            "args": [
             [
              "9"
             ],
             {
              "frame": {
               "duration": 0,
               "redraw": true
              },
              "fromcurrent": true,
              "mode": "immediate",
              "transition": {
               "duration": 0,
               "easing": "linear"
              }
             }
            ],
            "label": "9",
            "method": "animate"
           },
           {
            "args": [
             [
              "10"
             ],
             {
              "frame": {
               "duration": 0,
               "redraw": true
              },
              "fromcurrent": true,
              "mode": "immediate",
              "transition": {
               "duration": 0,
               "easing": "linear"
              }
             }
            ],
            "label": "10",
            "method": "animate"
           },
           {
            "args": [
             [
              "11"
             ],
             {
              "frame": {
               "duration": 0,
               "redraw": true
              },
              "fromcurrent": true,
              "mode": "immediate",
              "transition": {
               "duration": 0,
               "easing": "linear"
              }
             }
            ],
            "label": "11",
            "method": "animate"
           },
           {
            "args": [
             [
              "12"
             ],
             {
              "frame": {
               "duration": 0,
               "redraw": true
              },
              "fromcurrent": true,
              "mode": "immediate",
              "transition": {
               "duration": 0,
               "easing": "linear"
              }
             }
            ],
            "label": "12",
            "method": "animate"
           },
           {
            "args": [
             [
              "13"
             ],
             {
              "frame": {
               "duration": 0,
               "redraw": true
              },
              "fromcurrent": true,
              "mode": "immediate",
              "transition": {
               "duration": 0,
               "easing": "linear"
              }
             }
            ],
            "label": "13",
            "method": "animate"
           },
           {
            "args": [
             [
              "14"
             ],
             {
              "frame": {
               "duration": 0,
               "redraw": true
              },
              "fromcurrent": true,
              "mode": "immediate",
              "transition": {
               "duration": 0,
               "easing": "linear"
              }
             }
            ],
            "label": "14",
            "method": "animate"
           },
           {
            "args": [
             [
              "15"
             ],
             {
              "frame": {
               "duration": 0,
               "redraw": true
              },
              "fromcurrent": true,
              "mode": "immediate",
              "transition": {
               "duration": 0,
               "easing": "linear"
              }
             }
            ],
            "label": "15",
            "method": "animate"
           }
          ],
          "x": 0.1,
          "xanchor": "left",
          "y": 0,
          "yanchor": "top"
         }
        ],
        "template": {
         "data": {
          "bar": [
           {
            "error_x": {
             "color": "#2a3f5f"
            },
            "error_y": {
             "color": "#2a3f5f"
            },
            "marker": {
             "line": {
              "color": "#E5ECF6",
              "width": 0.5
             }
            },
            "type": "bar"
           }
          ],
          "barpolar": [
           {
            "marker": {
             "line": {
              "color": "#E5ECF6",
              "width": 0.5
             }
            },
            "type": "barpolar"
           }
          ],
          "carpet": [
           {
            "aaxis": {
             "endlinecolor": "#2a3f5f",
             "gridcolor": "white",
             "linecolor": "white",
             "minorgridcolor": "white",
             "startlinecolor": "#2a3f5f"
            },
            "baxis": {
             "endlinecolor": "#2a3f5f",
             "gridcolor": "white",
             "linecolor": "white",
             "minorgridcolor": "white",
             "startlinecolor": "#2a3f5f"
            },
            "type": "carpet"
           }
          ],
          "choropleth": [
           {
            "colorbar": {
             "outlinewidth": 0,
             "ticks": ""
            },
            "type": "choropleth"
           }
          ],
          "contour": [
           {
            "colorbar": {
             "outlinewidth": 0,
             "ticks": ""
            },
            "colorscale": [
             [
              0,
              "#0d0887"
             ],
             [
              0.1111111111111111,
              "#46039f"
             ],
             [
              0.2222222222222222,
              "#7201a8"
             ],
             [
              0.3333333333333333,
              "#9c179e"
             ],
             [
              0.4444444444444444,
              "#bd3786"
             ],
             [
              0.5555555555555556,
              "#d8576b"
             ],
             [
              0.6666666666666666,
              "#ed7953"
             ],
             [
              0.7777777777777778,
              "#fb9f3a"
             ],
             [
              0.8888888888888888,
              "#fdca26"
             ],
             [
              1,
              "#f0f921"
             ]
            ],
            "type": "contour"
           }
          ],
          "contourcarpet": [
           {
            "colorbar": {
             "outlinewidth": 0,
             "ticks": ""
            },
            "type": "contourcarpet"
           }
          ],
          "heatmap": [
           {
            "colorbar": {
             "outlinewidth": 0,
             "ticks": ""
            },
            "colorscale": [
             [
              0,
              "#0d0887"
             ],
             [
              0.1111111111111111,
              "#46039f"
             ],
             [
              0.2222222222222222,
              "#7201a8"
             ],
             [
              0.3333333333333333,
              "#9c179e"
             ],
             [
              0.4444444444444444,
              "#bd3786"
             ],
             [
              0.5555555555555556,
              "#d8576b"
             ],
             [
              0.6666666666666666,
              "#ed7953"
             ],
             [
              0.7777777777777778,
              "#fb9f3a"
             ],
             [
              0.8888888888888888,
              "#fdca26"
             ],
             [
              1,
              "#f0f921"
             ]
            ],
            "type": "heatmap"
           }
          ],
          "heatmapgl": [
           {
            "colorbar": {
             "outlinewidth": 0,
             "ticks": ""
            },
            "colorscale": [
             [
              0,
              "#0d0887"
             ],
             [
              0.1111111111111111,
              "#46039f"
             ],
             [
              0.2222222222222222,
              "#7201a8"
             ],
             [
              0.3333333333333333,
              "#9c179e"
             ],
             [
              0.4444444444444444,
              "#bd3786"
             ],
             [
              0.5555555555555556,
              "#d8576b"
             ],
             [
              0.6666666666666666,
              "#ed7953"
             ],
             [
              0.7777777777777778,
              "#fb9f3a"
             ],
             [
              0.8888888888888888,
              "#fdca26"
             ],
             [
              1,
              "#f0f921"
             ]
            ],
            "type": "heatmapgl"
           }
          ],
          "histogram": [
           {
            "marker": {
             "colorbar": {
              "outlinewidth": 0,
              "ticks": ""
             }
            },
            "type": "histogram"
           }
          ],
          "histogram2d": [
           {
            "colorbar": {
             "outlinewidth": 0,
             "ticks": ""
            },
            "colorscale": [
             [
              0,
              "#0d0887"
             ],
             [
              0.1111111111111111,
              "#46039f"
             ],
             [
              0.2222222222222222,
              "#7201a8"
             ],
             [
              0.3333333333333333,
              "#9c179e"
             ],
             [
              0.4444444444444444,
              "#bd3786"
             ],
             [
              0.5555555555555556,
              "#d8576b"
             ],
             [
              0.6666666666666666,
              "#ed7953"
             ],
             [
              0.7777777777777778,
              "#fb9f3a"
             ],
             [
              0.8888888888888888,
              "#fdca26"
             ],
             [
              1,
              "#f0f921"
             ]
            ],
            "type": "histogram2d"
           }
          ],
          "histogram2dcontour": [
           {
            "colorbar": {
             "outlinewidth": 0,
             "ticks": ""
            },
            "colorscale": [
             [
              0,
              "#0d0887"
             ],
             [
              0.1111111111111111,
              "#46039f"
             ],
             [
              0.2222222222222222,
              "#7201a8"
             ],
             [
              0.3333333333333333,
              "#9c179e"
             ],
             [
              0.4444444444444444,
              "#bd3786"
             ],
             [
              0.5555555555555556,
              "#d8576b"
             ],
             [
              0.6666666666666666,
              "#ed7953"
             ],
             [
              0.7777777777777778,
              "#fb9f3a"
             ],
             [
              0.8888888888888888,
              "#fdca26"
             ],
             [
              1,
              "#f0f921"
             ]
            ],
            "type": "histogram2dcontour"
           }
          ],
          "mesh3d": [
           {
            "colorbar": {
             "outlinewidth": 0,
             "ticks": ""
            },
            "type": "mesh3d"
           }
          ],
          "parcoords": [
           {
            "line": {
             "colorbar": {
              "outlinewidth": 0,
              "ticks": ""
             }
            },
            "type": "parcoords"
           }
          ],
          "pie": [
           {
            "automargin": true,
            "type": "pie"
           }
          ],
          "scatter": [
           {
            "marker": {
             "colorbar": {
              "outlinewidth": 0,
              "ticks": ""
             }
            },
            "type": "scatter"
           }
          ],
          "scatter3d": [
           {
            "line": {
             "colorbar": {
              "outlinewidth": 0,
              "ticks": ""
             }
            },
            "marker": {
             "colorbar": {
              "outlinewidth": 0,
              "ticks": ""
             }
            },
            "type": "scatter3d"
           }
          ],
          "scattercarpet": [
           {
            "marker": {
             "colorbar": {
              "outlinewidth": 0,
              "ticks": ""
             }
            },
            "type": "scattercarpet"
           }
          ],
          "scattergeo": [
           {
            "marker": {
             "colorbar": {
              "outlinewidth": 0,
              "ticks": ""
             }
            },
            "type": "scattergeo"
           }
          ],
          "scattergl": [
           {
            "marker": {
             "colorbar": {
              "outlinewidth": 0,
              "ticks": ""
             }
            },
            "type": "scattergl"
           }
          ],
          "scattermapbox": [
           {
            "marker": {
             "colorbar": {
              "outlinewidth": 0,
              "ticks": ""
             }
            },
            "type": "scattermapbox"
           }
          ],
          "scatterpolar": [
           {
            "marker": {
             "colorbar": {
              "outlinewidth": 0,
              "ticks": ""
             }
            },
            "type": "scatterpolar"
           }
          ],
          "scatterpolargl": [
           {
            "marker": {
             "colorbar": {
              "outlinewidth": 0,
              "ticks": ""
             }
            },
            "type": "scatterpolargl"
           }
          ],
          "scatterternary": [
           {
            "marker": {
             "colorbar": {
              "outlinewidth": 0,
              "ticks": ""
             }
            },
            "type": "scatterternary"
           }
          ],
          "surface": [
           {
            "colorbar": {
             "outlinewidth": 0,
             "ticks": ""
            },
            "colorscale": [
             [
              0,
              "#0d0887"
             ],
             [
              0.1111111111111111,
              "#46039f"
             ],
             [
              0.2222222222222222,
              "#7201a8"
             ],
             [
              0.3333333333333333,
              "#9c179e"
             ],
             [
              0.4444444444444444,
              "#bd3786"
             ],
             [
              0.5555555555555556,
              "#d8576b"
             ],
             [
              0.6666666666666666,
              "#ed7953"
             ],
             [
              0.7777777777777778,
              "#fb9f3a"
             ],
             [
              0.8888888888888888,
              "#fdca26"
             ],
             [
              1,
              "#f0f921"
             ]
            ],
            "type": "surface"
           }
          ],
          "table": [
           {
            "cells": {
             "fill": {
              "color": "#EBF0F8"
             },
             "line": {
              "color": "white"
             }
            },
            "header": {
             "fill": {
              "color": "#C8D4E3"
             },
             "line": {
              "color": "white"
             }
            },
            "type": "table"
           }
          ]
         },
         "layout": {
          "annotationdefaults": {
           "arrowcolor": "#2a3f5f",
           "arrowhead": 0,
           "arrowwidth": 1
          },
          "coloraxis": {
           "colorbar": {
            "outlinewidth": 0,
            "ticks": ""
           }
          },
          "colorscale": {
           "diverging": [
            [
             0,
             "#8e0152"
            ],
            [
             0.1,
             "#c51b7d"
            ],
            [
             0.2,
             "#de77ae"
            ],
            [
             0.3,
             "#f1b6da"
            ],
            [
             0.4,
             "#fde0ef"
            ],
            [
             0.5,
             "#f7f7f7"
            ],
            [
             0.6,
             "#e6f5d0"
            ],
            [
             0.7,
             "#b8e186"
            ],
            [
             0.8,
             "#7fbc41"
            ],
            [
             0.9,
             "#4d9221"
            ],
            [
             1,
             "#276419"
            ]
           ],
           "sequential": [
            [
             0,
             "#0d0887"
            ],
            [
             0.1111111111111111,
             "#46039f"
            ],
            [
             0.2222222222222222,
             "#7201a8"
            ],
            [
             0.3333333333333333,
             "#9c179e"
            ],
            [
             0.4444444444444444,
             "#bd3786"
            ],
            [
             0.5555555555555556,
             "#d8576b"
            ],
            [
             0.6666666666666666,
             "#ed7953"
            ],
            [
             0.7777777777777778,
             "#fb9f3a"
            ],
            [
             0.8888888888888888,
             "#fdca26"
            ],
            [
             1,
             "#f0f921"
            ]
           ],
           "sequentialminus": [
            [
             0,
             "#0d0887"
            ],
            [
             0.1111111111111111,
             "#46039f"
            ],
            [
             0.2222222222222222,
             "#7201a8"
            ],
            [
             0.3333333333333333,
             "#9c179e"
            ],
            [
             0.4444444444444444,
             "#bd3786"
            ],
            [
             0.5555555555555556,
             "#d8576b"
            ],
            [
             0.6666666666666666,
             "#ed7953"
            ],
            [
             0.7777777777777778,
             "#fb9f3a"
            ],
            [
             0.8888888888888888,
             "#fdca26"
            ],
            [
             1,
             "#f0f921"
            ]
           ]
          },
          "colorway": [
           "#636efa",
           "#EF553B",
           "#00cc96",
           "#ab63fa",
           "#FFA15A",
           "#19d3f3",
           "#FF6692",
           "#B6E880",
           "#FF97FF",
           "#FECB52"
          ],
          "font": {
           "color": "#2a3f5f"
          },
          "geo": {
           "bgcolor": "white",
           "lakecolor": "white",
           "landcolor": "#E5ECF6",
           "showlakes": true,
           "showland": true,
           "subunitcolor": "white"
          },
          "hoverlabel": {
           "align": "left"
          },
          "hovermode": "closest",
          "mapbox": {
           "style": "light"
          },
          "paper_bgcolor": "white",
          "plot_bgcolor": "#E5ECF6",
          "polar": {
           "angularaxis": {
            "gridcolor": "white",
            "linecolor": "white",
            "ticks": ""
           },
           "bgcolor": "#E5ECF6",
           "radialaxis": {
            "gridcolor": "white",
            "linecolor": "white",
            "ticks": ""
           }
          },
          "scene": {
           "xaxis": {
            "backgroundcolor": "#E5ECF6",
            "gridcolor": "white",
            "gridwidth": 2,
            "linecolor": "white",
            "showbackground": true,
            "ticks": "",
            "zerolinecolor": "white"
           },
           "yaxis": {
            "backgroundcolor": "#E5ECF6",
            "gridcolor": "white",
            "gridwidth": 2,
            "linecolor": "white",
            "showbackground": true,
            "ticks": "",
            "zerolinecolor": "white"
           },
           "zaxis": {
            "backgroundcolor": "#E5ECF6",
            "gridcolor": "white",
            "gridwidth": 2,
            "linecolor": "white",
            "showbackground": true,
            "ticks": "",
            "zerolinecolor": "white"
           }
          },
          "shapedefaults": {
           "line": {
            "color": "#2a3f5f"
           }
          },
          "ternary": {
           "aaxis": {
            "gridcolor": "white",
            "linecolor": "white",
            "ticks": ""
           },
           "baxis": {
            "gridcolor": "white",
            "linecolor": "white",
            "ticks": ""
           },
           "bgcolor": "#E5ECF6",
           "caxis": {
            "gridcolor": "white",
            "linecolor": "white",
            "ticks": ""
           }
          },
          "title": {
           "x": 0.05
          },
          "xaxis": {
           "automargin": true,
           "gridcolor": "white",
           "linecolor": "white",
           "ticks": "",
           "title": {
            "standoff": 15
           },
           "zerolinecolor": "white",
           "zerolinewidth": 2
          },
          "yaxis": {
           "automargin": true,
           "gridcolor": "white",
           "linecolor": "white",
           "ticks": "",
           "title": {
            "standoff": 15
           },
           "zerolinecolor": "white",
           "zerolinewidth": 2
          }
         }
        },
        "title": {
         "text": "Average waiting time of Elevator Calls by Time"
        },
        "updatemenus": [
         {
          "buttons": [
           {
            "args": [
             null,
             {
              "frame": {
               "duration": 500,
               "redraw": true
              },
              "fromcurrent": true,
              "mode": "immediate",
              "transition": {
               "duration": 500,
               "easing": "linear"
              }
             }
            ],
            "label": "&#9654;",
            "method": "animate"
           },
           {
            "args": [
             [
              null
             ],
             {
              "frame": {
               "duration": 0,
               "redraw": true
              },
              "fromcurrent": true,
              "mode": "immediate",
              "transition": {
               "duration": 0,
               "easing": "linear"
              }
             }
            ],
            "label": "&#9724;",
            "method": "animate"
           }
          ],
          "direction": "left",
          "pad": {
           "r": 10,
           "t": 70
          },
          "showactive": false,
          "type": "buttons",
          "x": 0.1,
          "xanchor": "right",
          "y": 0,
          "yanchor": "top"
         }
        ],
        "xaxis": {
         "anchor": "y",
         "categoryarray": [
          0,
          24
         ],
         "domain": [
          0,
          0.49
         ],
         "nticks": 19,
         "title": {
          "text": "Local Time (GMT+8)"
         },
         "type": "category"
        },
        "xaxis2": {
         "anchor": "y2",
         "categoryarray": [
          0,
          24
         ],
         "domain": [
          0.51,
          1
         ],
         "matches": "x",
         "nticks": 19,
         "title": {
          "text": "Local Time (GMT+8)"
         },
         "type": "category"
        },
        "yaxis": {
         "anchor": "x",
         "domain": [
          0,
          1
         ],
         "range": [
          0,
          300
         ],
         "title": {
          "text": "avgWait_weekend"
         }
        },
        "yaxis2": {
         "anchor": "x2",
         "domain": [
          0,
          1
         ],
         "matches": "y",
         "range": [
          0,
          300
         ],
         "showticklabels": false
        }
       }
      },
      "text/html": [
       "<div>\n",
       "        \n",
       "        \n",
       "            <div id=\"7b711577-98da-4e5f-9ba8-1fe913d0d88d\" class=\"plotly-graph-div\" style=\"height:525px; width:100%;\"></div>\n",
       "            <script type=\"text/javascript\">\n",
       "                require([\"plotly\"], function(Plotly) {\n",
       "                    window.PLOTLYENV=window.PLOTLYENV || {};\n",
       "                    \n",
       "                if (document.getElementById(\"7b711577-98da-4e5f-9ba8-1fe913d0d88d\")) {\n",
       "                    Plotly.newPlot(\n",
       "                        '7b711577-98da-4e5f-9ba8-1fe913d0d88d',\n",
       "                        [{\"alignmentgroup\": \"True\", \"hovertemplate\": \"direction=up<br>floor=1<br>Local Time (GMT+8)=%{x}<br>avgWait_weekend=%{y}<extra></extra>\", \"legendgroup\": \"up\", \"marker\": {\"color\": \"#636efa\"}, \"name\": \"up\", \"offsetgroup\": \"up\", \"orientation\": \"v\", \"showlegend\": true, \"textposition\": \"auto\", \"type\": \"bar\", \"x\": [0, 1, 2, 3, 4, 5, 6, 7, 8, 9, 10, 11, 12, 13, 14, 15, 16, 17, 18, 19, 20, 21, 22, 23], \"xaxis\": \"x\", \"y\": [22.039268292682923, 19.084473684210526, 22.612666666666666, 23.6725, 10.902, 12.58, 11.291875, 11.9715625, 17.700576923076927, 12.764411764705885, 10.526142857142858, 7.880253164556963, 16.717916666666667, 16.699514563106803, 12.785421686746991, 10.655223880597015, 16.56198275862069, 14.814285714285711, 18.083763440860213, 18.03739130434783, 17.257261904761904, 18.45131313131313, 18.986626506024095, 17.182807017543865], \"yaxis\": \"y\"}],\n",
       "                        {\"annotations\": [{\"font\": {}, \"showarrow\": false, \"text\": \"direction=up\", \"x\": 0.245, \"xanchor\": \"center\", \"xref\": \"paper\", \"y\": 1.0, \"yanchor\": \"bottom\", \"yref\": \"paper\"}, {\"font\": {}, \"showarrow\": false, \"text\": \"direction=down\", \"x\": 0.755, \"xanchor\": \"center\", \"xref\": \"paper\", \"y\": 1.0, \"yanchor\": \"bottom\", \"yref\": \"paper\"}], \"barmode\": \"relative\", \"legend\": {\"title\": {\"text\": \"direction\"}, \"tracegroupgap\": 0}, \"margin\": {\"t\": 60}, \"sliders\": [{\"active\": 0, \"currentvalue\": {\"prefix\": \"floor=\"}, \"len\": 0.9, \"pad\": {\"b\": 10, \"t\": 60}, \"steps\": [{\"args\": [[\"1\"], {\"frame\": {\"duration\": 0, \"redraw\": true}, \"fromcurrent\": true, \"mode\": \"immediate\", \"transition\": {\"duration\": 0, \"easing\": \"linear\"}}], \"label\": \"1\", \"method\": \"animate\"}, {\"args\": [[\"6\"], {\"frame\": {\"duration\": 0, \"redraw\": true}, \"fromcurrent\": true, \"mode\": \"immediate\", \"transition\": {\"duration\": 0, \"easing\": \"linear\"}}], \"label\": \"6\", \"method\": \"animate\"}, {\"args\": [[\"7\"], {\"frame\": {\"duration\": 0, \"redraw\": true}, \"fromcurrent\": true, \"mode\": \"immediate\", \"transition\": {\"duration\": 0, \"easing\": \"linear\"}}], \"label\": \"7\", \"method\": \"animate\"}, {\"args\": [[\"8\"], {\"frame\": {\"duration\": 0, \"redraw\": true}, \"fromcurrent\": true, \"mode\": \"immediate\", \"transition\": {\"duration\": 0, \"easing\": \"linear\"}}], \"label\": \"8\", \"method\": \"animate\"}, {\"args\": [[\"9\"], {\"frame\": {\"duration\": 0, \"redraw\": true}, \"fromcurrent\": true, \"mode\": \"immediate\", \"transition\": {\"duration\": 0, \"easing\": \"linear\"}}], \"label\": \"9\", \"method\": \"animate\"}, {\"args\": [[\"10\"], {\"frame\": {\"duration\": 0, \"redraw\": true}, \"fromcurrent\": true, \"mode\": \"immediate\", \"transition\": {\"duration\": 0, \"easing\": \"linear\"}}], \"label\": \"10\", \"method\": \"animate\"}, {\"args\": [[\"11\"], {\"frame\": {\"duration\": 0, \"redraw\": true}, \"fromcurrent\": true, \"mode\": \"immediate\", \"transition\": {\"duration\": 0, \"easing\": \"linear\"}}], \"label\": \"11\", \"method\": \"animate\"}, {\"args\": [[\"12\"], {\"frame\": {\"duration\": 0, \"redraw\": true}, \"fromcurrent\": true, \"mode\": \"immediate\", \"transition\": {\"duration\": 0, \"easing\": \"linear\"}}], \"label\": \"12\", \"method\": \"animate\"}, {\"args\": [[\"13\"], {\"frame\": {\"duration\": 0, \"redraw\": true}, \"fromcurrent\": true, \"mode\": \"immediate\", \"transition\": {\"duration\": 0, \"easing\": \"linear\"}}], \"label\": \"13\", \"method\": \"animate\"}, {\"args\": [[\"14\"], {\"frame\": {\"duration\": 0, \"redraw\": true}, \"fromcurrent\": true, \"mode\": \"immediate\", \"transition\": {\"duration\": 0, \"easing\": \"linear\"}}], \"label\": \"14\", \"method\": \"animate\"}, {\"args\": [[\"15\"], {\"frame\": {\"duration\": 0, \"redraw\": true}, \"fromcurrent\": true, \"mode\": \"immediate\", \"transition\": {\"duration\": 0, \"easing\": \"linear\"}}], \"label\": \"15\", \"method\": \"animate\"}], \"x\": 0.1, \"xanchor\": \"left\", \"y\": 0, \"yanchor\": \"top\"}], \"template\": {\"data\": {\"bar\": [{\"error_x\": {\"color\": \"#2a3f5f\"}, \"error_y\": {\"color\": \"#2a3f5f\"}, \"marker\": {\"line\": {\"color\": \"#E5ECF6\", \"width\": 0.5}}, \"type\": \"bar\"}], \"barpolar\": [{\"marker\": {\"line\": {\"color\": \"#E5ECF6\", \"width\": 0.5}}, \"type\": \"barpolar\"}], \"carpet\": [{\"aaxis\": {\"endlinecolor\": \"#2a3f5f\", \"gridcolor\": \"white\", \"linecolor\": \"white\", \"minorgridcolor\": \"white\", \"startlinecolor\": \"#2a3f5f\"}, \"baxis\": {\"endlinecolor\": \"#2a3f5f\", \"gridcolor\": \"white\", \"linecolor\": \"white\", \"minorgridcolor\": \"white\", \"startlinecolor\": \"#2a3f5f\"}, \"type\": \"carpet\"}], \"choropleth\": [{\"colorbar\": {\"outlinewidth\": 0, \"ticks\": \"\"}, \"type\": \"choropleth\"}], \"contour\": [{\"colorbar\": {\"outlinewidth\": 0, \"ticks\": \"\"}, \"colorscale\": [[0.0, \"#0d0887\"], [0.1111111111111111, \"#46039f\"], [0.2222222222222222, \"#7201a8\"], [0.3333333333333333, \"#9c179e\"], [0.4444444444444444, \"#bd3786\"], [0.5555555555555556, \"#d8576b\"], [0.6666666666666666, \"#ed7953\"], [0.7777777777777778, \"#fb9f3a\"], [0.8888888888888888, \"#fdca26\"], [1.0, \"#f0f921\"]], \"type\": \"contour\"}], \"contourcarpet\": [{\"colorbar\": {\"outlinewidth\": 0, \"ticks\": \"\"}, \"type\": \"contourcarpet\"}], \"heatmap\": [{\"colorbar\": {\"outlinewidth\": 0, \"ticks\": \"\"}, \"colorscale\": [[0.0, \"#0d0887\"], [0.1111111111111111, \"#46039f\"], [0.2222222222222222, \"#7201a8\"], [0.3333333333333333, \"#9c179e\"], [0.4444444444444444, \"#bd3786\"], [0.5555555555555556, \"#d8576b\"], [0.6666666666666666, \"#ed7953\"], [0.7777777777777778, \"#fb9f3a\"], [0.8888888888888888, \"#fdca26\"], [1.0, \"#f0f921\"]], \"type\": \"heatmap\"}], \"heatmapgl\": [{\"colorbar\": {\"outlinewidth\": 0, \"ticks\": \"\"}, \"colorscale\": [[0.0, \"#0d0887\"], [0.1111111111111111, \"#46039f\"], [0.2222222222222222, \"#7201a8\"], [0.3333333333333333, \"#9c179e\"], [0.4444444444444444, \"#bd3786\"], [0.5555555555555556, \"#d8576b\"], [0.6666666666666666, \"#ed7953\"], [0.7777777777777778, \"#fb9f3a\"], [0.8888888888888888, \"#fdca26\"], [1.0, \"#f0f921\"]], \"type\": \"heatmapgl\"}], \"histogram\": [{\"marker\": {\"colorbar\": {\"outlinewidth\": 0, \"ticks\": \"\"}}, \"type\": \"histogram\"}], \"histogram2d\": [{\"colorbar\": {\"outlinewidth\": 0, \"ticks\": \"\"}, \"colorscale\": [[0.0, \"#0d0887\"], [0.1111111111111111, \"#46039f\"], [0.2222222222222222, \"#7201a8\"], [0.3333333333333333, \"#9c179e\"], [0.4444444444444444, \"#bd3786\"], [0.5555555555555556, \"#d8576b\"], [0.6666666666666666, \"#ed7953\"], [0.7777777777777778, \"#fb9f3a\"], [0.8888888888888888, \"#fdca26\"], [1.0, \"#f0f921\"]], \"type\": \"histogram2d\"}], \"histogram2dcontour\": [{\"colorbar\": {\"outlinewidth\": 0, \"ticks\": \"\"}, \"colorscale\": [[0.0, \"#0d0887\"], [0.1111111111111111, \"#46039f\"], [0.2222222222222222, \"#7201a8\"], [0.3333333333333333, \"#9c179e\"], [0.4444444444444444, \"#bd3786\"], [0.5555555555555556, \"#d8576b\"], [0.6666666666666666, \"#ed7953\"], [0.7777777777777778, \"#fb9f3a\"], [0.8888888888888888, \"#fdca26\"], [1.0, \"#f0f921\"]], \"type\": \"histogram2dcontour\"}], \"mesh3d\": [{\"colorbar\": {\"outlinewidth\": 0, \"ticks\": \"\"}, \"type\": \"mesh3d\"}], \"parcoords\": [{\"line\": {\"colorbar\": {\"outlinewidth\": 0, \"ticks\": \"\"}}, \"type\": \"parcoords\"}], \"pie\": [{\"automargin\": true, \"type\": \"pie\"}], \"scatter\": [{\"marker\": {\"colorbar\": {\"outlinewidth\": 0, \"ticks\": \"\"}}, \"type\": \"scatter\"}], \"scatter3d\": [{\"line\": {\"colorbar\": {\"outlinewidth\": 0, \"ticks\": \"\"}}, \"marker\": {\"colorbar\": {\"outlinewidth\": 0, \"ticks\": \"\"}}, \"type\": \"scatter3d\"}], \"scattercarpet\": [{\"marker\": {\"colorbar\": {\"outlinewidth\": 0, \"ticks\": \"\"}}, \"type\": \"scattercarpet\"}], \"scattergeo\": [{\"marker\": {\"colorbar\": {\"outlinewidth\": 0, \"ticks\": \"\"}}, \"type\": \"scattergeo\"}], \"scattergl\": [{\"marker\": {\"colorbar\": {\"outlinewidth\": 0, \"ticks\": \"\"}}, \"type\": \"scattergl\"}], \"scattermapbox\": [{\"marker\": {\"colorbar\": {\"outlinewidth\": 0, \"ticks\": \"\"}}, \"type\": \"scattermapbox\"}], \"scatterpolar\": [{\"marker\": {\"colorbar\": {\"outlinewidth\": 0, \"ticks\": \"\"}}, \"type\": \"scatterpolar\"}], \"scatterpolargl\": [{\"marker\": {\"colorbar\": {\"outlinewidth\": 0, \"ticks\": \"\"}}, \"type\": \"scatterpolargl\"}], \"scatterternary\": [{\"marker\": {\"colorbar\": {\"outlinewidth\": 0, \"ticks\": \"\"}}, \"type\": \"scatterternary\"}], \"surface\": [{\"colorbar\": {\"outlinewidth\": 0, \"ticks\": \"\"}, \"colorscale\": [[0.0, \"#0d0887\"], [0.1111111111111111, \"#46039f\"], [0.2222222222222222, \"#7201a8\"], [0.3333333333333333, \"#9c179e\"], [0.4444444444444444, \"#bd3786\"], [0.5555555555555556, \"#d8576b\"], [0.6666666666666666, \"#ed7953\"], [0.7777777777777778, \"#fb9f3a\"], [0.8888888888888888, \"#fdca26\"], [1.0, \"#f0f921\"]], \"type\": \"surface\"}], \"table\": [{\"cells\": {\"fill\": {\"color\": \"#EBF0F8\"}, \"line\": {\"color\": \"white\"}}, \"header\": {\"fill\": {\"color\": \"#C8D4E3\"}, \"line\": {\"color\": \"white\"}}, \"type\": \"table\"}]}, \"layout\": {\"annotationdefaults\": {\"arrowcolor\": \"#2a3f5f\", \"arrowhead\": 0, \"arrowwidth\": 1}, \"coloraxis\": {\"colorbar\": {\"outlinewidth\": 0, \"ticks\": \"\"}}, \"colorscale\": {\"diverging\": [[0, \"#8e0152\"], [0.1, \"#c51b7d\"], [0.2, \"#de77ae\"], [0.3, \"#f1b6da\"], [0.4, \"#fde0ef\"], [0.5, \"#f7f7f7\"], [0.6, \"#e6f5d0\"], [0.7, \"#b8e186\"], [0.8, \"#7fbc41\"], [0.9, \"#4d9221\"], [1, \"#276419\"]], \"sequential\": [[0.0, \"#0d0887\"], [0.1111111111111111, \"#46039f\"], [0.2222222222222222, \"#7201a8\"], [0.3333333333333333, \"#9c179e\"], [0.4444444444444444, \"#bd3786\"], [0.5555555555555556, \"#d8576b\"], [0.6666666666666666, \"#ed7953\"], [0.7777777777777778, \"#fb9f3a\"], [0.8888888888888888, \"#fdca26\"], [1.0, \"#f0f921\"]], \"sequentialminus\": [[0.0, \"#0d0887\"], [0.1111111111111111, \"#46039f\"], [0.2222222222222222, \"#7201a8\"], [0.3333333333333333, \"#9c179e\"], [0.4444444444444444, \"#bd3786\"], [0.5555555555555556, \"#d8576b\"], [0.6666666666666666, \"#ed7953\"], [0.7777777777777778, \"#fb9f3a\"], [0.8888888888888888, \"#fdca26\"], [1.0, \"#f0f921\"]]}, \"colorway\": [\"#636efa\", \"#EF553B\", \"#00cc96\", \"#ab63fa\", \"#FFA15A\", \"#19d3f3\", \"#FF6692\", \"#B6E880\", \"#FF97FF\", \"#FECB52\"], \"font\": {\"color\": \"#2a3f5f\"}, \"geo\": {\"bgcolor\": \"white\", \"lakecolor\": \"white\", \"landcolor\": \"#E5ECF6\", \"showlakes\": true, \"showland\": true, \"subunitcolor\": \"white\"}, \"hoverlabel\": {\"align\": \"left\"}, \"hovermode\": \"closest\", \"mapbox\": {\"style\": \"light\"}, \"paper_bgcolor\": \"white\", \"plot_bgcolor\": \"#E5ECF6\", \"polar\": {\"angularaxis\": {\"gridcolor\": \"white\", \"linecolor\": \"white\", \"ticks\": \"\"}, \"bgcolor\": \"#E5ECF6\", \"radialaxis\": {\"gridcolor\": \"white\", \"linecolor\": \"white\", \"ticks\": \"\"}}, \"scene\": {\"xaxis\": {\"backgroundcolor\": \"#E5ECF6\", \"gridcolor\": \"white\", \"gridwidth\": 2, \"linecolor\": \"white\", \"showbackground\": true, \"ticks\": \"\", \"zerolinecolor\": \"white\"}, \"yaxis\": {\"backgroundcolor\": \"#E5ECF6\", \"gridcolor\": \"white\", \"gridwidth\": 2, \"linecolor\": \"white\", \"showbackground\": true, \"ticks\": \"\", \"zerolinecolor\": \"white\"}, \"zaxis\": {\"backgroundcolor\": \"#E5ECF6\", \"gridcolor\": \"white\", \"gridwidth\": 2, \"linecolor\": \"white\", \"showbackground\": true, \"ticks\": \"\", \"zerolinecolor\": \"white\"}}, \"shapedefaults\": {\"line\": {\"color\": \"#2a3f5f\"}}, \"ternary\": {\"aaxis\": {\"gridcolor\": \"white\", \"linecolor\": \"white\", \"ticks\": \"\"}, \"baxis\": {\"gridcolor\": \"white\", \"linecolor\": \"white\", \"ticks\": \"\"}, \"bgcolor\": \"#E5ECF6\", \"caxis\": {\"gridcolor\": \"white\", \"linecolor\": \"white\", \"ticks\": \"\"}}, \"title\": {\"x\": 0.05}, \"xaxis\": {\"automargin\": true, \"gridcolor\": \"white\", \"linecolor\": \"white\", \"ticks\": \"\", \"title\": {\"standoff\": 15}, \"zerolinecolor\": \"white\", \"zerolinewidth\": 2}, \"yaxis\": {\"automargin\": true, \"gridcolor\": \"white\", \"linecolor\": \"white\", \"ticks\": \"\", \"title\": {\"standoff\": 15}, \"zerolinecolor\": \"white\", \"zerolinewidth\": 2}}}, \"title\": {\"text\": \"Average waiting time of Elevator Calls by Time\"}, \"updatemenus\": [{\"buttons\": [{\"args\": [null, {\"frame\": {\"duration\": 500, \"redraw\": true}, \"fromcurrent\": true, \"mode\": \"immediate\", \"transition\": {\"duration\": 500, \"easing\": \"linear\"}}], \"label\": \"&#9654;\", \"method\": \"animate\"}, {\"args\": [[null], {\"frame\": {\"duration\": 0, \"redraw\": true}, \"fromcurrent\": true, \"mode\": \"immediate\", \"transition\": {\"duration\": 0, \"easing\": \"linear\"}}], \"label\": \"&#9724;\", \"method\": \"animate\"}], \"direction\": \"left\", \"pad\": {\"r\": 10, \"t\": 70}, \"showactive\": false, \"type\": \"buttons\", \"x\": 0.1, \"xanchor\": \"right\", \"y\": 0, \"yanchor\": \"top\"}], \"xaxis\": {\"anchor\": \"y\", \"categoryarray\": [0, 24], \"domain\": [0.0, 0.49], \"nticks\": 19, \"title\": {\"text\": \"Local Time (GMT+8)\"}, \"type\": \"category\"}, \"xaxis2\": {\"anchor\": \"y2\", \"categoryarray\": [0, 24], \"domain\": [0.51, 1.0], \"matches\": \"x\", \"nticks\": 19, \"title\": {\"text\": \"Local Time (GMT+8)\"}, \"type\": \"category\"}, \"yaxis\": {\"anchor\": \"x\", \"domain\": [0.0, 1.0], \"range\": [0, 300], \"title\": {\"text\": \"avgWait_weekend\"}}, \"yaxis2\": {\"anchor\": \"x2\", \"domain\": [0.0, 1.0], \"matches\": \"y\", \"range\": [0, 300], \"showticklabels\": false}},\n",
       "                        {\"responsive\": true}\n",
       "                    ).then(function(){\n",
       "                            Plotly.addFrames('7b711577-98da-4e5f-9ba8-1fe913d0d88d', [{\"data\": [{\"alignmentgroup\": \"True\", \"hovertemplate\": \"direction=up<br>floor=1<br>Local Time (GMT+8)=%{x}<br>avgWait_weekend=%{y}<extra></extra>\", \"legendgroup\": \"up\", \"marker\": {\"color\": \"#636efa\"}, \"name\": \"up\", \"offsetgroup\": \"up\", \"orientation\": \"v\", \"showlegend\": true, \"textposition\": \"auto\", \"x\": [0, 1, 2, 3, 4, 5, 6, 7, 8, 9, 10, 11, 12, 13, 14, 15, 16, 17, 18, 19, 20, 21, 22, 23], \"xaxis\": \"x\", \"y\": [22.039268292682923, 19.084473684210526, 22.612666666666666, 23.6725, 10.902, 12.58, 11.291875, 11.9715625, 17.700576923076927, 12.764411764705885, 10.526142857142858, 7.880253164556963, 16.717916666666667, 16.699514563106803, 12.785421686746991, 10.655223880597015, 16.56198275862069, 14.814285714285711, 18.083763440860213, 18.03739130434783, 17.257261904761904, 18.45131313131313, 18.986626506024095, 17.182807017543865], \"yaxis\": \"y\", \"type\": \"bar\"}], \"name\": \"1\"}, {\"data\": [{\"alignmentgroup\": \"True\", \"hovertemplate\": \"direction=up<br>floor=6<br>Local Time (GMT+8)=%{x}<br>avgWait_weekend=%{y}<extra></extra>\", \"legendgroup\": \"up\", \"marker\": {\"color\": \"#636efa\"}, \"name\": \"up\", \"offsetgroup\": \"up\", \"orientation\": \"v\", \"showlegend\": true, \"textposition\": \"auto\", \"x\": [0, 1, 2, 3, 4, 5, 6, 7, 8, 9, 10, 11, 12, 13, 14, 15, 16, 17, 18, 19, 20, 21, 22, 23], \"xaxis\": \"x\", \"y\": [18.898055555555555, 16.70485714285714, 14.736666666666665, 23.2675, 10.0225, 13.5675, 22.804444444444453, 19.635833333333334, 22.97230769230769, 20.067924528301887, 18.088478260869568, 21.88, 20.97025, 16.792708333333334, 18.575526315789475, 13.849318181818182, 19.157710843373497, 21.858295454545456, 24.058571428571426, 19.533, 17.91588235294118, 15.66333333333333, 17.91272727272727, 18.267894736842106], \"yaxis\": \"y\", \"type\": \"bar\"}, {\"alignmentgroup\": \"True\", \"hovertemplate\": \"direction=down<br>floor=6<br>Local Time (GMT+8)=%{x}<br>avgWait_weekend=%{y}<extra></extra>\", \"legendgroup\": \"down\", \"marker\": {\"color\": \"#EF553B\"}, \"name\": \"down\", \"offsetgroup\": \"down\", \"orientation\": \"v\", \"showlegend\": true, \"textposition\": \"auto\", \"x\": [0, 1, 2, 6, 7, 8, 9, 10, 11, 12, 13, 14, 15, 16, 17, 18, 19, 20, 21, 22, 23], \"xaxis\": \"x2\", \"y\": [14.251666666666667, 15.98, 24.57, 1.41, 13.34875, 16.6234375, 15.89, 14.79, 15.003703703703707, 18.973333333333336, 22.90571428571429, 15.179473684210526, 15.232000000000001, 20.21696969696969, 27.968387096774197, 19.724, 16.738571428571426, 20.896, 40.18, 13.59, 15.645], \"yaxis\": \"y2\", \"type\": \"bar\"}], \"name\": \"6\"}, {\"data\": [{\"alignmentgroup\": \"True\", \"hovertemplate\": \"direction=up<br>floor=7<br>Local Time (GMT+8)=%{x}<br>avgWait_weekend=%{y}<extra></extra>\", \"legendgroup\": \"up\", \"marker\": {\"color\": \"#636efa\"}, \"name\": \"up\", \"offsetgroup\": \"up\", \"orientation\": \"v\", \"showlegend\": true, \"textposition\": \"auto\", \"x\": [0, 1, 4, 5, 6, 7, 8, 9, 10, 11, 12, 13, 14, 15, 16, 17, 19, 20, 22, 23], \"xaxis\": \"x\", \"y\": [17.69, 15.53, 17.093333333333334, 16.276666666666667, 26.923333333333336, 11.166666666666664, 30.883333333333336, 12.835, 24.31333333333333, 4.025, 15.182, 13.311666666666667, 15.596470588235292, 17.65, 6.7250000000000005, 10.162727272727274, 29.34666666666667, 10.07, 15.7575, 12.9], \"yaxis\": \"y\", \"type\": \"bar\"}, {\"alignmentgroup\": \"True\", \"hovertemplate\": \"direction=down<br>floor=7<br>Local Time (GMT+8)=%{x}<br>avgWait_weekend=%{y}<extra></extra>\", \"legendgroup\": \"down\", \"marker\": {\"color\": \"#EF553B\"}, \"name\": \"down\", \"offsetgroup\": \"down\", \"orientation\": \"v\", \"showlegend\": true, \"textposition\": \"auto\", \"x\": [0, 1, 2, 4, 6, 7, 8, 9, 10, 11, 12, 13, 14, 15, 16, 17, 18, 19, 20, 21, 22, 23], \"xaxis\": \"x2\", \"y\": [8.943333333333333, 16.685, 12.14, 9.165, 16.881935483870972, 28.964615384615378, 27.13421052631579, 24.45217391304348, 16.550434782608693, 21.905862068965515, 26.387916666666666, 18.468, 26.18075, 14.112307692307693, 19.902083333333334, 26.93133333333333, 27.761000000000006, 21.86090909090909, 17.11, 12.693333333333333, 21.854761904761904, 34.654999999999994], \"yaxis\": \"y2\", \"type\": \"bar\"}], \"name\": \"7\"}, {\"data\": [{\"alignmentgroup\": \"True\", \"hovertemplate\": \"direction=up<br>floor=8<br>Local Time (GMT+8)=%{x}<br>avgWait_weekend=%{y}<extra></extra>\", \"legendgroup\": \"up\", \"marker\": {\"color\": \"#636efa\"}, \"name\": \"up\", \"offsetgroup\": \"up\", \"orientation\": \"v\", \"showlegend\": true, \"textposition\": \"auto\", \"x\": [0, 1, 2, 3, 4, 6, 7, 8, 9, 10, 11, 12, 13, 14, 15, 16, 17, 18, 19, 20, 21, 22, 23], \"xaxis\": \"x\", \"y\": [45.61, 9.6625, 9.55, 42.18, 12.2, 23.10666666666667, 17.776249999999994, 14.002307692307694, 18.645, 13.992857142857142, 15.4175, 13.436000000000002, 12.304, 17.087, 9.86, 12.13, 19.302222222222227, 17.98125, 17.5175, 32.495999999999995, 15.386666666666667, 14.9275, 14.553333333333333], \"yaxis\": \"y\", \"type\": \"bar\"}, {\"alignmentgroup\": \"True\", \"hovertemplate\": \"direction=down<br>floor=8<br>Local Time (GMT+8)=%{x}<br>avgWait_weekend=%{y}<extra></extra>\", \"legendgroup\": \"down\", \"marker\": {\"color\": \"#EF553B\"}, \"name\": \"down\", \"offsetgroup\": \"down\", \"orientation\": \"v\", \"showlegend\": true, \"textposition\": \"auto\", \"x\": [1, 2, 3, 4, 5, 6, 7, 8, 9, 10, 11, 12, 13, 14, 15, 16, 17, 18, 19, 20, 21, 22, 23], \"xaxis\": \"x2\", \"y\": [11.247142857142858, 8.0475, 15.75, 1.1766666666666667, 19.358, 21.509259259259263, 25.23416666666667, 25.830740740740747, 23.216190476190476, 23.008235294117647, 16.479, 19.205, 21.53181818181818, 20.109473684210524, 21.63416666666667, 18.949333333333332, 37.2221875, 17.791428571428572, 24.258000000000006, 25.931176470588237, 28.57333333333333, 22.00107142857143, 24.1825], \"yaxis\": \"y2\", \"type\": \"bar\"}], \"name\": \"8\"}, {\"data\": [{\"alignmentgroup\": \"True\", \"hovertemplate\": \"direction=up<br>floor=9<br>Local Time (GMT+8)=%{x}<br>avgWait_weekend=%{y}<extra></extra>\", \"legendgroup\": \"up\", \"marker\": {\"color\": \"#636efa\"}, \"name\": \"up\", \"offsetgroup\": \"up\", \"orientation\": \"v\", \"showlegend\": true, \"textposition\": \"auto\", \"x\": [0, 1, 2, 6, 8, 9, 10, 11, 14, 15, 17, 21, 23], \"xaxis\": \"x\", \"y\": [33.42, 1.01, 40.78, 2.74, 34.64, 57.07, 38.09, 25.7, 9.52, 16.845, 91.29, 40.81, 13.69], \"yaxis\": \"y\", \"type\": \"bar\"}, {\"alignmentgroup\": \"True\", \"hovertemplate\": \"direction=down<br>floor=9<br>Local Time (GMT+8)=%{x}<br>avgWait_weekend=%{y}<extra></extra>\", \"legendgroup\": \"down\", \"marker\": {\"color\": \"#EF553B\"}, \"name\": \"down\", \"offsetgroup\": \"down\", \"orientation\": \"v\", \"showlegend\": true, \"textposition\": \"auto\", \"x\": [0, 1, 2, 3, 4, 5, 6, 7, 8, 9, 10, 11, 12, 13, 14, 15, 16, 17, 18, 19, 20, 21, 22, 23], \"xaxis\": \"x2\", \"y\": [15.746666666666664, 12.124, 8.593333333333334, 2.72, 8.815, 14.123333333333333, 17.660270270270267, 16.7553125, 21.589285714285715, 16.615263157894738, 17.430714285714284, 18.018709677419352, 20.383030303030306, 20.044117647058822, 19.444230769230767, 16.517906976744186, 15.912352941176472, 18.616129032258065, 14.9425, 15.6525, 20.432000000000002, 10.91, 15.54, 17.34], \"yaxis\": \"y2\", \"type\": \"bar\"}], \"name\": \"9\"}, {\"data\": [{\"alignmentgroup\": \"True\", \"hovertemplate\": \"direction=up<br>floor=10<br>Local Time (GMT+8)=%{x}<br>avgWait_weekend=%{y}<extra></extra>\", \"legendgroup\": \"up\", \"marker\": {\"color\": \"#636efa\"}, \"name\": \"up\", \"offsetgroup\": \"up\", \"orientation\": \"v\", \"showlegend\": true, \"textposition\": \"auto\", \"x\": [6, 7, 12, 13, 14, 17, 20, 23], \"xaxis\": \"x\", \"y\": [9.965, 17.665, 49.65, 22.97, 13.44, 24.22, 1.47, 18.305], \"yaxis\": \"y\", \"type\": \"bar\"}, {\"alignmentgroup\": \"True\", \"hovertemplate\": \"direction=down<br>floor=10<br>Local Time (GMT+8)=%{x}<br>avgWait_weekend=%{y}<extra></extra>\", \"legendgroup\": \"down\", \"marker\": {\"color\": \"#EF553B\"}, \"name\": \"down\", \"offsetgroup\": \"down\", \"orientation\": \"v\", \"showlegend\": true, \"textposition\": \"auto\", \"x\": [0, 1, 2, 5, 6, 7, 8, 9, 10, 11, 12, 13, 14, 15, 16, 17, 18, 19, 20, 21, 22, 23], \"xaxis\": \"x2\", \"y\": [39.46, 17.7, 9.88, 18.57, 17.21892857142857, 18.375, 14.3035, 22.419, 18.545, 14.967000000000002, 18.976428571428574, 19.102, 19.8316, 16.450000000000006, 18.019375, 19.145151515151515, 19.4, 18.537333333333333, 18.234285714285715, 9.374545454545457, 19.02368421052632, 17.706470588235298], \"yaxis\": \"y2\", \"type\": \"bar\"}], \"name\": \"10\"}, {\"data\": [{\"alignmentgroup\": \"True\", \"hovertemplate\": \"direction=up<br>floor=11<br>Local Time (GMT+8)=%{x}<br>avgWait_weekend=%{y}<extra></extra>\", \"legendgroup\": \"up\", \"marker\": {\"color\": \"#636efa\"}, \"name\": \"up\", \"offsetgroup\": \"up\", \"orientation\": \"v\", \"showlegend\": true, \"textposition\": \"auto\", \"x\": [6, 8, 10, 12, 18, 20], \"xaxis\": \"x\", \"y\": [14.98, 12.31, 50.42, 45.2, 38.75, 38.09], \"yaxis\": \"y\", \"type\": \"bar\"}, {\"alignmentgroup\": \"True\", \"hovertemplate\": \"direction=down<br>floor=11<br>Local Time (GMT+8)=%{x}<br>avgWait_weekend=%{y}<extra></extra>\", \"legendgroup\": \"down\", \"marker\": {\"color\": \"#EF553B\"}, \"name\": \"down\", \"offsetgroup\": \"down\", \"orientation\": \"v\", \"showlegend\": true, \"textposition\": \"auto\", \"x\": [0, 1, 4, 6, 7, 8, 9, 10, 11, 12, 13, 14, 15, 16, 17, 18, 19, 20, 21, 22, 23], \"xaxis\": \"x2\", \"y\": [15.775, 8.195, 19.13, 16.548666666666666, 15.669615384615385, 21.12111111111111, 14.339166666666666, 21.16470588235294, 26.855, 19.930689655172415, 15.192272727272728, 18.39190476190476, 17.1052, 18.059500000000003, 19.33, 25.04357142857143, 20.49, 22.78, 16.967777777777773, 22.812857142857148, 12.304117647058822], \"yaxis\": \"y2\", \"type\": \"bar\"}], \"name\": \"11\"}, {\"data\": [{\"alignmentgroup\": \"True\", \"hovertemplate\": \"direction=up<br>floor=12<br>Local Time (GMT+8)=%{x}<br>avgWait_weekend=%{y}<extra></extra>\", \"legendgroup\": \"up\", \"marker\": {\"color\": \"#636efa\"}, \"name\": \"up\", \"offsetgroup\": \"up\", \"orientation\": \"v\", \"showlegend\": true, \"textposition\": \"auto\", \"x\": [8, 9, 10, 13, 14], \"xaxis\": \"x\", \"y\": [13.56, 12.04, 48.74, 27.23, 10.78], \"yaxis\": \"y\", \"type\": \"bar\"}, {\"alignmentgroup\": \"True\", \"hovertemplate\": \"direction=down<br>floor=12<br>Local Time (GMT+8)=%{x}<br>avgWait_weekend=%{y}<extra></extra>\", \"legendgroup\": \"down\", \"marker\": {\"color\": \"#EF553B\"}, \"name\": \"down\", \"offsetgroup\": \"down\", \"orientation\": \"v\", \"showlegend\": true, \"textposition\": \"auto\", \"x\": [0, 1, 5, 6, 7, 8, 9, 10, 11, 12, 13, 14, 15, 16, 17, 18, 19, 20, 21, 22, 23], \"xaxis\": \"x2\", \"y\": [16.35, 9.53, 21.72, 18.823076923076922, 17.025, 21.21392857142857, 29.223000000000006, 18.234615384615385, 21.787, 16.113636363636363, 19.968461538461536, 23.93947368421053, 15.616666666666667, 12.0325, 22.801052631578948, 16.68125, 19.96363636363636, 20.6325, 11.149090909090907, 15.729230769230773, 14.262222222222226], \"yaxis\": \"y2\", \"type\": \"bar\"}], \"name\": \"12\"}, {\"data\": [{\"alignmentgroup\": \"True\", \"hovertemplate\": \"direction=up<br>floor=13<br>Local Time (GMT+8)=%{x}<br>avgWait_weekend=%{y}<extra></extra>\", \"legendgroup\": \"up\", \"marker\": {\"color\": \"#636efa\"}, \"name\": \"up\", \"offsetgroup\": \"up\", \"orientation\": \"v\", \"showlegend\": true, \"textposition\": \"auto\", \"x\": [0, 7, 8, 10, 12, 14, 17, 18, 20, 22, 23], \"xaxis\": \"x\", \"y\": [9.52, 16.93, 14.78, 21.77, 22.81, 31.36, 1.28, 21.61, 40.77, 12.24, 36.71], \"yaxis\": \"y\", \"type\": \"bar\"}, {\"alignmentgroup\": \"True\", \"hovertemplate\": \"direction=down<br>floor=13<br>Local Time (GMT+8)=%{x}<br>avgWait_weekend=%{y}<extra></extra>\", \"legendgroup\": \"down\", \"marker\": {\"color\": \"#EF553B\"}, \"name\": \"down\", \"offsetgroup\": \"down\", \"orientation\": \"v\", \"showlegend\": true, \"textposition\": \"auto\", \"x\": [0, 1, 3, 6, 7, 8, 9, 10, 11, 12, 13, 14, 15, 16, 17, 18, 19, 20, 21, 22, 23], \"xaxis\": \"x2\", \"y\": [17.56, 12.2075, 1.38, 11.2525, 16.955000000000002, 23.407241379310346, 17.315555555555555, 30.376666666666665, 12.78, 24.42388888888889, 16.755000000000006, 14.989047619047618, 20.638181818181817, 23.07533333333333, 18.0212, 17.685833333333328, 14.414285714285715, 31.23875, 30.201428571428576, 23.0825, 21.0775], \"yaxis\": \"y2\", \"type\": \"bar\"}], \"name\": \"13\"}, {\"data\": [{\"alignmentgroup\": \"True\", \"hovertemplate\": \"direction=up<br>floor=14<br>Local Time (GMT+8)=%{x}<br>avgWait_weekend=%{y}<extra></extra>\", \"legendgroup\": \"up\", \"marker\": {\"color\": \"#636efa\"}, \"name\": \"up\", \"offsetgroup\": \"up\", \"orientation\": \"v\", \"showlegend\": true, \"textposition\": \"auto\", \"x\": [2, 6, 7, 8, 10, 11, 12, 14, 19, 21], \"xaxis\": \"x\", \"y\": [14.94, 19.04, 6.79, 1.36, 9.53, 32.57, 19.23, 34.495, 13.34, 1.34], \"yaxis\": \"y\", \"type\": \"bar\"}, {\"alignmentgroup\": \"True\", \"hovertemplate\": \"direction=down<br>floor=14<br>Local Time (GMT+8)=%{x}<br>avgWait_weekend=%{y}<extra></extra>\", \"legendgroup\": \"down\", \"marker\": {\"color\": \"#EF553B\"}, \"name\": \"down\", \"offsetgroup\": \"down\", \"orientation\": \"v\", \"showlegend\": true, \"textposition\": \"auto\", \"x\": [0, 1, 2, 3, 4, 5, 6, 7, 8, 9, 10, 11, 12, 13, 14, 15, 16, 17, 18, 19, 20, 21, 22, 23], \"xaxis\": \"x2\", \"y\": [8.865, 19.81, 16.32, 1.37, 1.44, 23.95, 20.18, 23.863157894736844, 20.23432432432433, 20.104444444444443, 19.02952380952381, 25.465, 23.652222222222218, 16.345945945945946, 19.296190476190482, 21.171666666666667, 23.844, 25.81730769230769, 28.043529411764702, 20.335714285714285, 19.33, 13.419999999999998, 14.754166666666665, 28.69333333333333], \"yaxis\": \"y2\", \"type\": \"bar\"}], \"name\": \"14\"}, {\"data\": [{\"alignmentgroup\": \"True\", \"hovertemplate\": \"direction=down<br>floor=15<br>Local Time (GMT+8)=%{x}<br>avgWait_weekend=%{y}<extra></extra>\", \"legendgroup\": \"down\", \"marker\": {\"color\": \"#EF553B\"}, \"name\": \"down\", \"offsetgroup\": \"down\", \"orientation\": \"v\", \"showlegend\": true, \"textposition\": \"auto\", \"x\": [0, 1, 2, 3, 6, 7, 8, 9, 10, 11, 12, 13, 14, 15, 16, 17, 18, 19, 20, 21, 22, 23], \"xaxis\": \"x2\", \"y\": [13.495999999999999, 10.136000000000001, 13.58, 25.74, 18.248, 25.214, 18.447586206896556, 28.87875, 20.865384615384613, 22.24857142857143, 25.311764705882354, 21.681785714285716, 23.9888, 26.5545, 22.64083333333333, 30.112, 22.009047619047614, 16.23894736842105, 18.53529411764706, 10.544615384615383, 26.35857142857143, 19.0925], \"yaxis\": \"y2\", \"type\": \"bar\"}], \"name\": \"15\"}]);\n",
       "                        }).then(function(){\n",
       "                            \n",
       "var gd = document.getElementById('7b711577-98da-4e5f-9ba8-1fe913d0d88d');\n",
       "var x = new MutationObserver(function (mutations, observer) {{\n",
       "        var display = window.getComputedStyle(gd).display;\n",
       "        if (!display || display === 'none') {{\n",
       "            console.log([gd, 'removed!']);\n",
       "            Plotly.purge(gd);\n",
       "            observer.disconnect();\n",
       "        }}\n",
       "}});\n",
       "\n",
       "// Listen for the removal of the full notebook cells\n",
       "var notebookContainer = gd.closest('#notebook-container');\n",
       "if (notebookContainer) {{\n",
       "    x.observe(notebookContainer, {childList: true});\n",
       "}}\n",
       "\n",
       "// Listen for the clearing of the current output cell\n",
       "var outputEl = gd.closest('.output');\n",
       "if (outputEl) {{\n",
       "    x.observe(outputEl, {childList: true});\n",
       "}}\n",
       "\n",
       "                        })\n",
       "                };\n",
       "                });\n",
       "            </script>\n",
       "        </div>"
      ]
     },
     "metadata": {},
     "output_type": "display_data"
    }
   ],
   "source": [
    "df_s_weekend.floor.unique()\n",
    "\n",
    "fig = px.bar(data_frame=df_s_weekend, \n",
    "             x = \"hour\", y = \"avgWait_weekend\",\n",
    "             facet_col=\"direction\",color=\"direction\",\n",
    "             animation_frame=\"floor\",\n",
    "             labels={\"count\":\"avgWait_weekend\",\n",
    "                     \"hour\":\"Local Time (GMT+8)\"})\n",
    "# X axis\n",
    "fig.update_xaxes(nticks=len(floor_name),\n",
    "                 type=\"category\",\n",
    "                 categoryarray=[0,24])\n",
    "\n",
    "# Y axis\n",
    "fig.update_yaxes(range=[0, 300])\n",
    "\n",
    "# Layout\n",
    "fig.update_layout(title_text='Average waiting time of Elevator Calls by Time')\n",
    "\n",
    "fig.show()"
   ]
  },
  {
   "cell_type": "code",
   "execution_count": null,
   "metadata": {},
   "outputs": [],
   "source": []
  }
 ],
 "metadata": {
  "kernelspec": {
   "display_name": "Python 3",
   "language": "python",
   "name": "python3"
  },
  "language_info": {
   "codemirror_mode": {
    "name": "ipython",
    "version": 3
   },
   "file_extension": ".py",
   "mimetype": "text/x-python",
   "name": "python",
   "nbconvert_exporter": "python",
   "pygments_lexer": "ipython3",
   "version": "3.7.6"
  }
 },
 "nbformat": 4,
 "nbformat_minor": 2
}
