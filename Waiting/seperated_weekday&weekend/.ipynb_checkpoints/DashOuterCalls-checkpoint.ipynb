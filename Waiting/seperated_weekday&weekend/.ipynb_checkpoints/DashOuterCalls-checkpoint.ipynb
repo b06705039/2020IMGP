{
 "cells": [
  {
   "cell_type": "code",
   "execution_count": 5,
   "metadata": {},
   "outputs": [
    {
     "data": {
      "text/html": [
       "        <script type=\"text/javascript\">\n",
       "        window.PlotlyConfig = {MathJaxConfig: 'local'};\n",
       "        if (window.MathJax) {MathJax.Hub.Config({SVG: {font: \"STIX-Web\"}});}\n",
       "        if (typeof require !== 'undefined') {\n",
       "        require.undef(\"plotly\");\n",
       "        requirejs.config({\n",
       "            paths: {\n",
       "                'plotly': ['https://cdn.plot.ly/plotly-latest.min']\n",
       "            }\n",
       "        });\n",
       "        require(['plotly'], function(Plotly) {\n",
       "            window._Plotly = Plotly;\n",
       "        });\n",
       "        }\n",
       "        </script>\n",
       "        "
      ]
     },
     "metadata": {},
     "output_type": "display_data"
    }
   ],
   "source": [
    "import pandas as pd\n",
    "import numpy as np\n",
    "import plotly\n",
    "from plotly.offline import download_plotlyjs, init_notebook_mode, plot, iplot\n",
    "init_notebook_mode(connected=True)"
   ]
  },
  {
   "cell_type": "markdown",
   "metadata": {},
   "source": [
    "# Plotly Express\n"
   ]
  },
  {
   "cell_type": "code",
   "execution_count": 6,
   "metadata": {},
   "outputs": [],
   "source": [
    "import plotly.express as px"
   ]
  },
  {
   "cell_type": "code",
   "execution_count": 7,
   "metadata": {},
   "outputs": [
    {
     "name": "stdout",
     "output_type": "stream",
     "text": [
      "    floor  hour direction  avgWait_weekday\n",
      "732     1     4      down         5.337778\n",
      "725     1     0        up         5.323306\n",
      "727     1     1        up         4.967371\n",
      "729     1     2        up         4.861626\n",
      "726     1     1      down         3.704375\n"
     ]
    }
   ],
   "source": [
    "file = '南棟客梯_weekday.csv'\n",
    "df_s = pd.read_csv(file,index_col = 0)  \n",
    "print(df_s.tail())"
   ]
  },
  {
   "cell_type": "markdown",
   "metadata": {},
   "source": [
    "plotly express 有點像是 ggplot in R，<br>\n",
    "只要指定x,y,color等就能自動幫你分類，<br>\n",
    "下面的圖表以南棟電梯的外部電梯呼叫資料為例，<br>\n",
    "x軸為樓層、以方向分開並上色，最後以時間(小時)作為動畫影格。"
   ]
  },
  {
   "cell_type": "code",
   "execution_count": 10,
   "metadata": {},
   "outputs": [
    {
     "data": {
      "application/vnd.plotly.v1+json": {
       "config": {
        "plotlyServerURL": "https://plot.ly"
       },
       "data": [
        {
         "alignmentgroup": "True",
         "hovertemplate": "direction=up<br>Local Time (GMT+8)=11<br>floor=%{x}<br>avgWait_weekday=%{y}<extra></extra>",
         "legendgroup": "up",
         "marker": {
          "color": "#636efa"
         },
         "name": "up",
         "offsetgroup": "up",
         "orientation": "v",
         "showlegend": true,
         "textposition": "auto",
         "type": "bar",
         "x": [
          "B4",
          "B3",
          "B1",
          "14",
          "13",
          "12",
          "11",
          "10",
          "9",
          "8",
          "7",
          "6",
          "5",
          "4",
          "3",
          "2",
          "1"
         ],
         "xaxis": "x",
         "y": [
          49.02057613,
          21.71535088,
          28.9941483,
          65.49533333,
          38.76516129,
          60.13380952,
          43.66769231,
          49.4708,
          58.41840909,
          50.23160714,
          61.0715493,
          71.81855263,
          12.883375,
          13.09392593,
          8.50751938,
          10.49744186,
          13.27246781
         ],
         "yaxis": "y"
        },
        {
         "alignmentgroup": "True",
         "hovertemplate": "direction=down<br>Local Time (GMT+8)=11<br>floor=%{x}<br>avgWait_weekday=%{y}<extra></extra>",
         "legendgroup": "down",
         "marker": {
          "color": "#EF553B"
         },
         "name": "down",
         "offsetgroup": "down",
         "orientation": "v",
         "showlegend": true,
         "textposition": "auto",
         "type": "bar",
         "x": [
          "B3",
          "B1",
          "15",
          "14",
          "13",
          "12",
          "11",
          "10",
          "9",
          "8",
          "7",
          "6",
          "5",
          "4",
          "3",
          "2",
          "1"
         ],
         "xaxis": "x2",
         "y": [
          36.19391304,
          25.9253271,
          77.81405941,
          65.99817109,
          34.95441261,
          18.70092063,
          14.025448499999998,
          12.4034375,
          12.3802649,
          9.987006578999999,
          10.90224422,
          10.91721805,
          65.93203125,
          37.14823529,
          26.92695238,
          22.85469388,
          20.90542105
         ],
         "yaxis": "y2"
        }
       ],
       "frames": [
        {
         "data": [
          {
           "alignmentgroup": "True",
           "hovertemplate": "direction=up<br>Local Time (GMT+8)=11<br>floor=%{x}<br>avgWait_weekday=%{y}<extra></extra>",
           "legendgroup": "up",
           "marker": {
            "color": "#636efa"
           },
           "name": "up",
           "offsetgroup": "up",
           "orientation": "v",
           "showlegend": true,
           "textposition": "auto",
           "type": "bar",
           "x": [
            "B4",
            "B3",
            "B1",
            "14",
            "13",
            "12",
            "11",
            "10",
            "9",
            "8",
            "7",
            "6",
            "5",
            "4",
            "3",
            "2",
            "1"
           ],
           "xaxis": "x",
           "y": [
            49.02057613,
            21.71535088,
            28.9941483,
            65.49533333,
            38.76516129,
            60.13380952,
            43.66769231,
            49.4708,
            58.41840909,
            50.23160714,
            61.0715493,
            71.81855263,
            12.883375,
            13.09392593,
            8.50751938,
            10.49744186,
            13.27246781
           ],
           "yaxis": "y"
          },
          {
           "alignmentgroup": "True",
           "hovertemplate": "direction=down<br>Local Time (GMT+8)=11<br>floor=%{x}<br>avgWait_weekday=%{y}<extra></extra>",
           "legendgroup": "down",
           "marker": {
            "color": "#EF553B"
           },
           "name": "down",
           "offsetgroup": "down",
           "orientation": "v",
           "showlegend": true,
           "textposition": "auto",
           "type": "bar",
           "x": [
            "B3",
            "B1",
            "15",
            "14",
            "13",
            "12",
            "11",
            "10",
            "9",
            "8",
            "7",
            "6",
            "5",
            "4",
            "3",
            "2",
            "1"
           ],
           "xaxis": "x2",
           "y": [
            36.19391304,
            25.9253271,
            77.81405941,
            65.99817109,
            34.95441261,
            18.70092063,
            14.025448499999998,
            12.4034375,
            12.3802649,
            9.987006578999999,
            10.90224422,
            10.91721805,
            65.93203125,
            37.14823529,
            26.92695238,
            22.85469388,
            20.90542105
           ],
           "yaxis": "y2"
          }
         ],
         "name": "11"
        },
        {
         "data": [
          {
           "alignmentgroup": "True",
           "hovertemplate": "direction=up<br>Local Time (GMT+8)=12<br>floor=%{x}<br>avgWait_weekday=%{y}<extra></extra>",
           "legendgroup": "up",
           "marker": {
            "color": "#636efa"
           },
           "name": "up",
           "offsetgroup": "up",
           "orientation": "v",
           "showlegend": true,
           "textposition": "auto",
           "type": "bar",
           "x": [
            "B4",
            "B3",
            "B1",
            "14",
            "13",
            "12",
            "11",
            "10",
            "9",
            "8",
            "7",
            "6",
            "5",
            "4",
            "3",
            "2",
            "1"
           ],
           "xaxis": "x",
           "y": [
            48.67666667,
            27.95846847,
            33.96481203,
            76.56933333,
            82.04,
            55.82,
            47.2825,
            55.22916667,
            48.34892857,
            46.87555556,
            69.27978723,
            76.69696429,
            10.46121622,
            9.921585366,
            8.93733945,
            9.733170732,
            13.91057692
           ],
           "yaxis": "y"
          },
          {
           "alignmentgroup": "True",
           "hovertemplate": "direction=down<br>Local Time (GMT+8)=12<br>floor=%{x}<br>avgWait_weekday=%{y}<extra></extra>",
           "legendgroup": "down",
           "marker": {
            "color": "#EF553B"
           },
           "name": "down",
           "offsetgroup": "down",
           "orientation": "v",
           "showlegend": true,
           "textposition": "auto",
           "type": "bar",
           "x": [
            "B3",
            "B1",
            "15",
            "14",
            "13",
            "12",
            "11",
            "10",
            "9",
            "8",
            "7",
            "6",
            "5",
            "4",
            "3",
            "2",
            "1"
           ],
           "xaxis": "x2",
           "y": [
            22.92956522,
            23.603387100000003,
            81.15102703,
            56.40991525,
            33.63287709,
            17.24123596,
            12.78285256,
            10.90515152,
            11.94447712,
            11.61687307,
            10.85493671,
            10.28398496,
            61.51339535,
            36.59184874,
            26.69846847,
            16.03861111,
            23.26264045
           ],
           "yaxis": "y2"
          }
         ],
         "name": "12"
        },
        {
         "data": [
          {
           "alignmentgroup": "True",
           "hovertemplate": "direction=up<br>Local Time (GMT+8)=13<br>floor=%{x}<br>avgWait_weekday=%{y}<extra></extra>",
           "legendgroup": "up",
           "marker": {
            "color": "#636efa"
           },
           "name": "up",
           "offsetgroup": "up",
           "orientation": "v",
           "showlegend": true,
           "textposition": "auto",
           "type": "bar",
           "x": [
            "B4",
            "B3",
            "B1",
            "14",
            "13",
            "12",
            "11",
            "10",
            "9",
            "8",
            "7",
            "6",
            "5",
            "4",
            "3",
            "2",
            "1"
           ],
           "xaxis": "x",
           "y": [
            43.59296296,
            22.53537634,
            27.07171598,
            95.06,
            45.36952381,
            61.32857143,
            40.21210526,
            45.257,
            51.2504,
            60.61282051,
            67.79828947,
            90.40340909,
            15.13309859,
            11.06293651,
            10.42054054,
            10.30325301,
            16.05842466
           ],
           "yaxis": "y"
          },
          {
           "alignmentgroup": "True",
           "hovertemplate": "direction=down<br>Local Time (GMT+8)=13<br>floor=%{x}<br>avgWait_weekday=%{y}<extra></extra>",
           "legendgroup": "down",
           "marker": {
            "color": "#EF553B"
           },
           "name": "down",
           "offsetgroup": "down",
           "orientation": "v",
           "showlegend": true,
           "textposition": "auto",
           "type": "bar",
           "x": [
            "B3",
            "B1",
            "15",
            "14",
            "13",
            "12",
            "11",
            "10",
            "9",
            "8",
            "7",
            "6",
            "5",
            "4",
            "3",
            "2",
            "1"
           ],
           "xaxis": "x2",
           "y": [
            18.629,
            25.245530300000002,
            79.45678322,
            66.39167183,
            28.48062893,
            19.80119318,
            12.92865031,
            13.70944882,
            13.24744027,
            12.00620178,
            11.03775244,
            10.28178988,
            49.22449761,
            33.61414201,
            24.60463918,
            12.88857143,
            19.14601124
           ],
           "yaxis": "y2"
          }
         ],
         "name": "13"
        },
        {
         "data": [
          {
           "alignmentgroup": "True",
           "hovertemplate": "direction=up<br>Local Time (GMT+8)=17<br>floor=%{x}<br>avgWait_weekday=%{y}<extra></extra>",
           "legendgroup": "up",
           "marker": {
            "color": "#636efa"
           },
           "name": "up",
           "offsetgroup": "up",
           "orientation": "v",
           "showlegend": true,
           "textposition": "auto",
           "type": "bar",
           "x": [
            "B4",
            "B3",
            "B1",
            "14",
            "13",
            "12",
            "11",
            "10",
            "9",
            "8",
            "7",
            "6",
            "5",
            "4",
            "3",
            "2",
            "1"
           ],
           "xaxis": "x",
           "y": [
            40.27939394,
            19.60731343,
            34.59875686,
            124.52083329999999,
            60.67411765,
            41.29777778,
            53.33571429,
            45.53444444,
            59.38368421,
            53.22464286,
            62.91493151,
            73.70109091,
            11.9778481,
            13.79443299,
            8.746666667000001,
            8.954736842,
            16.13431005
           ],
           "yaxis": "y"
          },
          {
           "alignmentgroup": "True",
           "hovertemplate": "direction=down<br>Local Time (GMT+8)=17<br>floor=%{x}<br>avgWait_weekday=%{y}<extra></extra>",
           "legendgroup": "down",
           "marker": {
            "color": "#EF553B"
           },
           "name": "down",
           "offsetgroup": "down",
           "orientation": "v",
           "showlegend": true,
           "textposition": "auto",
           "type": "bar",
           "x": [
            "B3",
            "B1",
            "15",
            "14",
            "13",
            "12",
            "11",
            "10",
            "9",
            "8",
            "7",
            "6",
            "5",
            "4",
            "3",
            "2",
            "1"
           ],
           "xaxis": "x2",
           "y": [
            33.78166667,
            28.58122642,
            73.46947115,
            57.89131105,
            32.54225974,
            14.60273657,
            13.7068595,
            11.09888268,
            10.88948787,
            10.04880556,
            9.857471591,
            10.21281046,
            65.00578313,
            31.46842697,
            28.5430131,
            22.18,
            26.29304636
           ],
           "yaxis": "y2"
          }
         ],
         "name": "17"
        },
        {
         "data": [
          {
           "alignmentgroup": "True",
           "hovertemplate": "direction=up<br>Local Time (GMT+8)=15<br>floor=%{x}<br>avgWait_weekday=%{y}<extra></extra>",
           "legendgroup": "up",
           "marker": {
            "color": "#636efa"
           },
           "name": "up",
           "offsetgroup": "up",
           "orientation": "v",
           "showlegend": true,
           "textposition": "auto",
           "type": "bar",
           "x": [
            "B4",
            "B3",
            "B1",
            "14",
            "13",
            "12",
            "11",
            "10",
            "9",
            "8",
            "7",
            "6",
            "5",
            "4",
            "3",
            "2",
            "1"
           ],
           "xaxis": "x",
           "y": [
            35.87952381,
            16.150990099999998,
            29.27938215,
            73.85333333,
            28.94066667,
            27.82363636,
            38.58833333,
            54.275,
            42.28744681,
            51.44793651,
            63.75333333,
            93.01814286,
            16.38195122,
            12.71112903,
            8.592913907,
            8.529647059,
            18.92326599
           ],
           "yaxis": "y"
          },
          {
           "alignmentgroup": "True",
           "hovertemplate": "direction=down<br>Local Time (GMT+8)=15<br>floor=%{x}<br>avgWait_weekday=%{y}<extra></extra>",
           "legendgroup": "down",
           "marker": {
            "color": "#EF553B"
           },
           "name": "down",
           "offsetgroup": "down",
           "orientation": "v",
           "showlegend": true,
           "textposition": "auto",
           "type": "bar",
           "x": [
            "B3",
            "B1",
            "15",
            "14",
            "13",
            "12",
            "11",
            "10",
            "9",
            "8",
            "7",
            "6",
            "5",
            "4",
            "3",
            "2",
            "1"
           ],
           "xaxis": "x2",
           "y": [
            21.84884615,
            20.39195122,
            77.34607595,
            60.21380952,
            26.75651316,
            19.24252427,
            15.20768116,
            11.80709877,
            12.02182724,
            10.39535484,
            11.35462295,
            9.753493151,
            57.33867299,
            30.35223776,
            22.53346008,
            17.3526087,
            15.65359116
           ],
           "yaxis": "y2"
          }
         ],
         "name": "15"
        },
        {
         "data": [
          {
           "alignmentgroup": "True",
           "hovertemplate": "direction=up<br>Local Time (GMT+8)=16<br>floor=%{x}<br>avgWait_weekday=%{y}<extra></extra>",
           "legendgroup": "up",
           "marker": {
            "color": "#636efa"
           },
           "name": "up",
           "offsetgroup": "up",
           "orientation": "v",
           "showlegend": true,
           "textposition": "auto",
           "type": "bar",
           "x": [
            "B4",
            "B3",
            "B1",
            "14",
            "13",
            "12",
            "11",
            "10",
            "9",
            "8",
            "7",
            "6",
            "5",
            "4",
            "3",
            "2",
            "1"
           ],
           "xaxis": "x",
           "y": [
            34.2713834,
            19.57567568,
            30.23877944,
            108.57333329999999,
            33.88583333,
            47.16095238,
            46.68058824,
            49.30206897,
            48.39352941,
            53.43063492,
            78.83933333,
            59.93780822,
            11.602020199999998,
            10.8988806,
            9.288062016,
            9.034526316000001,
            16.250402800000003
           ],
           "yaxis": "y"
          },
          {
           "alignmentgroup": "True",
           "hovertemplate": "direction=down<br>Local Time (GMT+8)=16<br>floor=%{x}<br>avgWait_weekday=%{y}<extra></extra>",
           "legendgroup": "down",
           "marker": {
            "color": "#EF553B"
           },
           "name": "down",
           "offsetgroup": "down",
           "orientation": "v",
           "showlegend": true,
           "textposition": "auto",
           "type": "bar",
           "x": [
            "B3",
            "B1",
            "15",
            "14",
            "13",
            "12",
            "11",
            "10",
            "9",
            "8",
            "7",
            "6",
            "5",
            "4",
            "3",
            "2",
            "1"
           ],
           "xaxis": "x2",
           "y": [
            18.58392857,
            17.15445378,
            74.27364583,
            60.32532353,
            28.74621849,
            18.953,
            13.86175896,
            11.22534722,
            13.084625,
            9.812330623,
            10.08903904,
            10.07396774,
            52.51614458,
            30.14191882,
            17.24274262,
            15.15591837,
            17.46817204
           ],
           "yaxis": "y2"
          }
         ],
         "name": "16"
        },
        {
         "data": [
          {
           "alignmentgroup": "True",
           "hovertemplate": "direction=up<br>Local Time (GMT+8)=10<br>floor=%{x}<br>avgWait_weekday=%{y}<extra></extra>",
           "legendgroup": "up",
           "marker": {
            "color": "#636efa"
           },
           "name": "up",
           "offsetgroup": "up",
           "orientation": "v",
           "showlegend": true,
           "textposition": "auto",
           "type": "bar",
           "x": [
            "B4",
            "B3",
            "B1",
            "14",
            "13",
            "12",
            "11",
            "10",
            "9",
            "8",
            "7",
            "6",
            "5",
            "4",
            "3",
            "2",
            "1"
           ],
           "xaxis": "x",
           "y": [
            34.1715859,
            20.58682243,
            30.99402844,
            120.40571429999999,
            50.19272727,
            37.64633333,
            22.76692308,
            45.78551724,
            65.78346154,
            54.761,
            53.16671642,
            77.38109589,
            12.52386667,
            11.18900901,
            8.485703125,
            7.748055556000001,
            17.82118068
           ],
           "yaxis": "y"
          },
          {
           "alignmentgroup": "True",
           "hovertemplate": "direction=down<br>Local Time (GMT+8)=10<br>floor=%{x}<br>avgWait_weekday=%{y}<extra></extra>",
           "legendgroup": "down",
           "marker": {
            "color": "#EF553B"
           },
           "name": "down",
           "offsetgroup": "down",
           "orientation": "v",
           "showlegend": true,
           "textposition": "auto",
           "type": "bar",
           "x": [
            "B3",
            "B1",
            "15",
            "14",
            "13",
            "12",
            "11",
            "10",
            "9",
            "8",
            "7",
            "6",
            "5",
            "4",
            "3",
            "2",
            "1"
           ],
           "xaxis": "x2",
           "y": [
            25.10037037,
            24.15363636,
            78.43833333,
            61.85969492,
            28.24836237,
            16.43317518,
            15.36433447,
            11.08622378,
            11.77430556,
            11.67217105,
            10.69985965,
            11.6958125,
            46.76795652,
            25.95120482,
            24.427106600000002,
            21.78979167,
            21.17461538
           ],
           "yaxis": "y2"
          }
         ],
         "name": "10"
        },
        {
         "data": [
          {
           "alignmentgroup": "True",
           "hovertemplate": "direction=up<br>Local Time (GMT+8)=14<br>floor=%{x}<br>avgWait_weekday=%{y}<extra></extra>",
           "legendgroup": "up",
           "marker": {
            "color": "#636efa"
           },
           "name": "up",
           "offsetgroup": "up",
           "orientation": "v",
           "showlegend": true,
           "textposition": "auto",
           "type": "bar",
           "x": [
            "B4",
            "B3",
            "B1",
            "14",
            "13",
            "12",
            "11",
            "10",
            "9",
            "8",
            "7",
            "6",
            "5",
            "4",
            "3",
            "2",
            "1"
           ],
           "xaxis": "x",
           "y": [
            32.46376984,
            21.90603774,
            29.7032636,
            105.20333329999998,
            71.12,
            34.89782609,
            38.48875,
            97.97,
            43.582,
            62.34644068,
            66.76563636,
            78.14044444,
            11.3401,
            10.4108125,
            9.024102564,
            11.9871875,
            15.71495741
           ],
           "yaxis": "y"
          },
          {
           "alignmentgroup": "True",
           "hovertemplate": "direction=down<br>Local Time (GMT+8)=14<br>floor=%{x}<br>avgWait_weekday=%{y}<extra></extra>",
           "legendgroup": "down",
           "marker": {
            "color": "#EF553B"
           },
           "name": "down",
           "offsetgroup": "down",
           "orientation": "v",
           "showlegend": true,
           "textposition": "auto",
           "type": "bar",
           "x": [
            "B3",
            "B1",
            "15",
            "14",
            "13",
            "12",
            "11",
            "10",
            "9",
            "8",
            "7",
            "6",
            "5",
            "4",
            "3",
            "2",
            "1"
           ],
           "xaxis": "x2",
           "y": [
            23.7655,
            22.07666667,
            74.46777778,
            66.90239344,
            26.33547855,
            18.28167192,
            15.08414894,
            10.91760274,
            13.49208754,
            12.00324759,
            11.86885246,
            10.73014085,
            51.60777293,
            36.83219409,
            20.95643836,
            20.1525641,
            18.83859649
           ],
           "yaxis": "y2"
          }
         ],
         "name": "14"
        },
        {
         "data": [
          {
           "alignmentgroup": "True",
           "hovertemplate": "direction=up<br>Local Time (GMT+8)=7<br>floor=%{x}<br>avgWait_weekday=%{y}<extra></extra>",
           "legendgroup": "up",
           "marker": {
            "color": "#636efa"
           },
           "name": "up",
           "offsetgroup": "up",
           "orientation": "v",
           "showlegend": true,
           "textposition": "auto",
           "type": "bar",
           "x": [
            "B4",
            "B3",
            "B1",
            "14",
            "13",
            "12",
            "11",
            "10",
            "9",
            "8",
            "7",
            "6",
            "5",
            "4",
            "3",
            "2",
            "1"
           ],
           "xaxis": "x",
           "y": [
            32.40641791,
            19.91534392,
            26.18236715,
            53.299,
            38.72545455,
            41.51333333,
            56.35153846,
            62.675,
            39.35578947,
            36.41380952,
            50.69862069,
            70.99287671,
            11.04069767,
            9.6775,
            10.25445946,
            9.3255,
            15.20316147
           ],
           "yaxis": "y"
          },
          {
           "alignmentgroup": "True",
           "hovertemplate": "direction=down<br>Local Time (GMT+8)=7<br>floor=%{x}<br>avgWait_weekday=%{y}<extra></extra>",
           "legendgroup": "down",
           "marker": {
            "color": "#EF553B"
           },
           "name": "down",
           "offsetgroup": "down",
           "orientation": "v",
           "showlegend": true,
           "textposition": "auto",
           "type": "bar",
           "x": [
            "B3",
            "B1",
            "15",
            "14",
            "13",
            "12",
            "11",
            "10",
            "9",
            "8",
            "7",
            "6",
            "5",
            "4",
            "3",
            "2",
            "1"
           ],
           "xaxis": "x2",
           "y": [
            22.58,
            28.96854839,
            50.59324324,
            46.19707865,
            27.63387454,
            22.22938628,
            17.44232975,
            16.54090909,
            16.08915612,
            16.35487365,
            14.52095618,
            13.49898785,
            49.36166667,
            39.18066667,
            40.87908333,
            40.92571429,
            29.77925926
           ],
           "yaxis": "y2"
          }
         ],
         "name": "7"
        },
        {
         "data": [
          {
           "alignmentgroup": "True",
           "hovertemplate": "direction=up<br>Local Time (GMT+8)=18<br>floor=%{x}<br>avgWait_weekday=%{y}<extra></extra>",
           "legendgroup": "up",
           "marker": {
            "color": "#636efa"
           },
           "name": "up",
           "offsetgroup": "up",
           "orientation": "v",
           "showlegend": true,
           "textposition": "auto",
           "type": "bar",
           "x": [
            "B4",
            "B3",
            "B1",
            "14",
            "13",
            "12",
            "11",
            "10",
            "9",
            "8",
            "7",
            "6",
            "5",
            "4",
            "3",
            "2",
            "1"
           ],
           "xaxis": "x",
           "y": [
            31.82266667,
            20.53404762,
            44.52363636,
            74.54666667,
            55.132,
            41.685,
            60.48166667,
            76.123,
            52.2526087,
            47.1832,
            62.71285714,
            60.66258065,
            12.2825,
            11.9116,
            9.255833333,
            11.92863636,
            19.72394984
           ],
           "yaxis": "y"
          },
          {
           "alignmentgroup": "True",
           "hovertemplate": "direction=down<br>Local Time (GMT+8)=18<br>floor=%{x}<br>avgWait_weekday=%{y}<extra></extra>",
           "legendgroup": "down",
           "marker": {
            "color": "#EF553B"
           },
           "name": "down",
           "offsetgroup": "down",
           "orientation": "v",
           "showlegend": true,
           "textposition": "auto",
           "type": "bar",
           "x": [
            "B3",
            "B1",
            "15",
            "14",
            "13",
            "12",
            "11",
            "10",
            "9",
            "8",
            "7",
            "6",
            "5",
            "4",
            "3",
            "2",
            "1"
           ],
           "xaxis": "x2",
           "y": [
            25.26,
            29.318,
            56.42613861,
            67.28525907,
            24.5861828,
            16.32425743,
            13.27431635,
            13.21192308,
            11.50292308,
            12.13253133,
            10.70521053,
            10.31134286,
            53.88534884,
            31.68122137,
            34.06288991,
            15.43884615,
            25.62904412
           ],
           "yaxis": "y2"
          }
         ],
         "name": "18"
        },
        {
         "data": [
          {
           "alignmentgroup": "True",
           "hovertemplate": "direction=up<br>Local Time (GMT+8)=9<br>floor=%{x}<br>avgWait_weekday=%{y}<extra></extra>",
           "legendgroup": "up",
           "marker": {
            "color": "#636efa"
           },
           "name": "up",
           "offsetgroup": "up",
           "orientation": "v",
           "showlegend": true,
           "textposition": "auto",
           "type": "bar",
           "x": [
            "B4",
            "B3",
            "B1",
            "14",
            "13",
            "12",
            "11",
            "10",
            "9",
            "8",
            "7",
            "6",
            "5",
            "4",
            "3",
            "2",
            "1"
           ],
           "xaxis": "x",
           "y": [
            31.82159624,
            18.43597015,
            26.97566462,
            82.90636364,
            65.93875,
            39.74538462,
            48.53125,
            81.76333333,
            72.303,
            67.49621622,
            71.21574074,
            70.92916667,
            11.32155844,
            10.19552632,
            8.491111111,
            7.71592233,
            17.62986003
           ],
           "yaxis": "y"
          },
          {
           "alignmentgroup": "True",
           "hovertemplate": "direction=down<br>Local Time (GMT+8)=9<br>floor=%{x}<br>avgWait_weekday=%{y}<extra></extra>",
           "legendgroup": "down",
           "marker": {
            "color": "#EF553B"
           },
           "name": "down",
           "offsetgroup": "down",
           "orientation": "v",
           "showlegend": true,
           "textposition": "auto",
           "type": "bar",
           "x": [
            "B3",
            "B1",
            "15",
            "14",
            "13",
            "12",
            "11",
            "10",
            "9",
            "8",
            "7",
            "6",
            "5",
            "4",
            "3",
            "2",
            "1"
           ],
           "xaxis": "x2",
           "y": [
            42.51071429,
            21.0788764,
            80.90065789,
            57.86033639,
            27.16094801,
            19.07154639,
            14.76299003,
            12.38146341,
            12.49076412,
            13.15844156,
            11.95281588,
            10.98630225,
            52.18089744,
            28.46373494,
            26.02320442,
            23.15211538,
            18.17184713
           ],
           "yaxis": "y2"
          }
         ],
         "name": "9"
        },
        {
         "data": [
          {
           "alignmentgroup": "True",
           "hovertemplate": "direction=up<br>Local Time (GMT+8)=8<br>floor=%{x}<br>avgWait_weekday=%{y}<extra></extra>",
           "legendgroup": "up",
           "marker": {
            "color": "#636efa"
           },
           "name": "up",
           "offsetgroup": "up",
           "orientation": "v",
           "showlegend": true,
           "textposition": "auto",
           "type": "bar",
           "x": [
            "B4",
            "B3",
            "B1",
            "14",
            "13",
            "12",
            "11",
            "10",
            "9",
            "8",
            "7",
            "6",
            "5",
            "4",
            "3",
            "2",
            "1"
           ],
           "xaxis": "x",
           "y": [
            30.08351779,
            20.17243243,
            28.25829181,
            63.59923077,
            51.92125,
            56.79,
            87.75,
            50.64428571,
            56.09391304,
            72.46166667,
            64.17617647,
            59.75162791,
            15.21020408,
            10.54633333,
            9.7625,
            7.512280702000001,
            17.15813154
           ],
           "yaxis": "y"
          },
          {
           "alignmentgroup": "True",
           "hovertemplate": "direction=down<br>Local Time (GMT+8)=8<br>floor=%{x}<br>avgWait_weekday=%{y}<extra></extra>",
           "legendgroup": "down",
           "marker": {
            "color": "#EF553B"
           },
           "name": "down",
           "offsetgroup": "down",
           "orientation": "v",
           "showlegend": true,
           "textposition": "auto",
           "type": "bar",
           "x": [
            "B3",
            "B1",
            "15",
            "14",
            "13",
            "12",
            "11",
            "10",
            "9",
            "8",
            "7",
            "6",
            "5",
            "4",
            "3",
            "2",
            "1"
           ],
           "xaxis": "x2",
           "y": [
            30.31272727,
            25.05783133,
            54.88721311,
            55.02916968,
            25.12909375,
            20.93503425,
            15.76152905,
            12.82487805,
            14.61520548,
            13.11241983,
            12.50026217,
            11.53106452,
            46.58642857,
            43.94679348,
            30.4559375,
            18.58304348,
            21.91177083
           ],
           "yaxis": "y2"
          }
         ],
         "name": "8"
        },
        {
         "data": [
          {
           "alignmentgroup": "True",
           "hovertemplate": "direction=up<br>Local Time (GMT+8)=23<br>floor=%{x}<br>avgWait_weekday=%{y}<extra></extra>",
           "legendgroup": "up",
           "marker": {
            "color": "#636efa"
           },
           "name": "up",
           "offsetgroup": "up",
           "orientation": "v",
           "showlegend": true,
           "textposition": "auto",
           "type": "bar",
           "x": [
            "B4",
            "B3",
            "B1",
            "14",
            "13",
            "12",
            "11",
            "9",
            "8",
            "7",
            "6",
            "5",
            "4",
            "3",
            "2",
            "1"
           ],
           "xaxis": "x",
           "y": [
            27.55888889,
            16.64,
            15.38538012,
            22.23,
            23.56,
            14.852,
            20.0475,
            9.16,
            47.77,
            14.40571429,
            25.69583333,
            10.61533333,
            12.130999999999998,
            15.90363636,
            5.07,
            13.12219365
           ],
           "yaxis": "y"
          },
          {
           "alignmentgroup": "True",
           "hovertemplate": "direction=down<br>Local Time (GMT+8)=23<br>floor=%{x}<br>avgWait_weekday=%{y}<extra></extra>",
           "legendgroup": "down",
           "marker": {
            "color": "#EF553B"
           },
           "name": "down",
           "offsetgroup": "down",
           "orientation": "v",
           "showlegend": true,
           "textposition": "auto",
           "type": "bar",
           "x": [
            "B1",
            "15",
            "14",
            "13",
            "12",
            "11",
            "10",
            "9",
            "8",
            "7",
            "6",
            "5",
            "4",
            "3",
            "2",
            "1"
           ],
           "xaxis": "x2",
           "y": [
            8.802222222000001,
            24.7204,
            22.18972603,
            14.45054795,
            16.21826087,
            17.79866667,
            14.46,
            18.21734694,
            17.28546667,
            16.98634409,
            13.28316456,
            15.67484848,
            16.65081967,
            16.71956522,
            10.93,
            12.58394737
           ],
           "yaxis": "y2"
          }
         ],
         "name": "23"
        },
        {
         "data": [
          {
           "alignmentgroup": "True",
           "hovertemplate": "direction=up<br>Local Time (GMT+8)=19<br>floor=%{x}<br>avgWait_weekday=%{y}<extra></extra>",
           "legendgroup": "up",
           "marker": {
            "color": "#636efa"
           },
           "name": "up",
           "offsetgroup": "up",
           "orientation": "v",
           "showlegend": true,
           "textposition": "auto",
           "type": "bar",
           "x": [
            "B4",
            "B3",
            "B1",
            "14",
            "13",
            "12",
            "11",
            "10",
            "9",
            "8",
            "7",
            "6",
            "5",
            "4",
            "3",
            "2",
            "1"
           ],
           "xaxis": "x",
           "y": [
            26.47895833,
            34.61463415,
            43.256319700000006,
            59.45,
            39.76384615,
            42.47083333,
            37.16888889,
            59.80529412,
            99.1375,
            69.84,
            44.98175,
            66.19464286,
            13.52134328,
            9.3834375,
            10.51176471,
            131.0957143,
            20.63797768
           ],
           "yaxis": "y"
          },
          {
           "alignmentgroup": "True",
           "hovertemplate": "direction=down<br>Local Time (GMT+8)=19<br>floor=%{x}<br>avgWait_weekday=%{y}<extra></extra>",
           "legendgroup": "down",
           "marker": {
            "color": "#EF553B"
           },
           "name": "down",
           "offsetgroup": "down",
           "orientation": "v",
           "showlegend": true,
           "textposition": "auto",
           "type": "bar",
           "x": [
            "B3",
            "B1",
            "15",
            "14",
            "13",
            "12",
            "11",
            "10",
            "9",
            "8",
            "7",
            "6",
            "5",
            "4",
            "3",
            "2",
            "1"
           ],
           "xaxis": "x2",
           "y": [
            56.8,
            28.00276923,
            52.25733333,
            60.64501312,
            24.89744745,
            18.14810726,
            16.04068323,
            9.386145832999999,
            13.03622478,
            13.9447185,
            13.18874693,
            12.14096096,
            57.86894737,
            39.91878788,
            38.44122995,
            22.726875,
            28.37666667
           ],
           "yaxis": "y2"
          }
         ],
         "name": "19"
        },
        {
         "data": [
          {
           "alignmentgroup": "True",
           "hovertemplate": "direction=up<br>Local Time (GMT+8)=6<br>floor=%{x}<br>avgWait_weekday=%{y}<extra></extra>",
           "legendgroup": "up",
           "marker": {
            "color": "#636efa"
           },
           "name": "up",
           "offsetgroup": "up",
           "orientation": "v",
           "showlegend": true,
           "textposition": "auto",
           "type": "bar",
           "x": [
            "B4",
            "B3",
            "B1",
            "14",
            "13",
            "12",
            "11",
            "10",
            "9",
            "8",
            "7",
            "6",
            "5",
            "4",
            "3",
            "2",
            "1"
           ],
           "xaxis": "x",
           "y": [
            24.82973333,
            13.83535714,
            19.47764706,
            38.9175,
            32.80071429,
            45.04428571,
            50.43666667,
            56.13,
            28.95,
            36.99,
            7.438,
            38.51806452,
            12.27466667,
            12.51214286,
            13.77857143,
            18.34,
            17.36362963
           ],
           "yaxis": "y"
          },
          {
           "alignmentgroup": "True",
           "hovertemplate": "direction=down<br>Local Time (GMT+8)=6<br>floor=%{x}<br>avgWait_weekday=%{y}<extra></extra>",
           "legendgroup": "down",
           "marker": {
            "color": "#EF553B"
           },
           "name": "down",
           "offsetgroup": "down",
           "orientation": "v",
           "showlegend": true,
           "textposition": "auto",
           "type": "bar",
           "x": [
            "B3",
            "B1",
            "15",
            "14",
            "13",
            "12",
            "11",
            "9",
            "8",
            "7",
            "6",
            "5",
            "4",
            "3",
            "2",
            "1"
           ],
           "xaxis": "x2",
           "y": [
            11.72,
            31.29852941,
            30.40777778,
            32.30084507,
            20.12730994,
            22.43213675,
            20.06993548,
            16.45621359,
            18.77839744,
            15.8811413,
            14.2208867,
            27.56820513,
            22.40166667,
            27.038556699999997,
            29.24666667,
            14.37653061
           ],
           "yaxis": "y2"
          }
         ],
         "name": "6"
        },
        {
         "data": [
          {
           "alignmentgroup": "True",
           "hovertemplate": "direction=up<br>Local Time (GMT+8)=3<br>floor=%{x}<br>avgWait_weekday=%{y}<extra></extra>",
           "legendgroup": "up",
           "marker": {
            "color": "#636efa"
           },
           "name": "up",
           "offsetgroup": "up",
           "orientation": "v",
           "showlegend": true,
           "textposition": "auto",
           "type": "bar",
           "x": [
            "B4",
            "B1",
            "14",
            "12",
            "11",
            "9",
            "7",
            "6",
            "5",
            "4",
            "3",
            "2",
            "1"
           ],
           "xaxis": "x",
           "y": [
            21.478,
            9.102142857,
            15.48,
            12.55,
            17.43,
            11.01,
            9.38,
            0.725,
            10.37,
            15.93,
            14.2075,
            28.1125,
            7.836052632
           ],
           "yaxis": "y"
          },
          {
           "alignmentgroup": "True",
           "hovertemplate": "direction=down<br>Local Time (GMT+8)=3<br>floor=%{x}<br>avgWait_weekday=%{y}<extra></extra>",
           "legendgroup": "down",
           "marker": {
            "color": "#EF553B"
           },
           "name": "down",
           "offsetgroup": "down",
           "orientation": "v",
           "showlegend": true,
           "textposition": "auto",
           "type": "bar",
           "x": [
            "B1",
            "15",
            "14",
            "13",
            "12",
            "11",
            "10",
            "9",
            "8",
            "7",
            "6",
            "5",
            "4",
            "3",
            "2",
            "1"
           ],
           "xaxis": "x2",
           "y": [
            1.21,
            11.755,
            18.72785714,
            16.22555556,
            18.740625,
            19.49666667,
            14.29666667,
            22.82714286,
            12.85333333,
            15.74322581,
            12.49294118,
            18.31384615,
            13.45,
            14.417,
            16.85,
            7.19
           ],
           "yaxis": "y2"
          }
         ],
         "name": "3"
        },
        {
         "data": [
          {
           "alignmentgroup": "True",
           "hovertemplate": "direction=up<br>Local Time (GMT+8)=20<br>floor=%{x}<br>avgWait_weekday=%{y}<extra></extra>",
           "legendgroup": "up",
           "marker": {
            "color": "#636efa"
           },
           "name": "up",
           "offsetgroup": "up",
           "orientation": "v",
           "showlegend": true,
           "textposition": "auto",
           "type": "bar",
           "x": [
            "B4",
            "B3",
            "B1",
            "14",
            "13",
            "12",
            "11",
            "10",
            "9",
            "8",
            "7",
            "6",
            "5",
            "4",
            "3",
            "2",
            "1"
           ],
           "xaxis": "x",
           "y": [
            21.43890625,
            29.92285714,
            25.63469043,
            35.056,
            56.98285714,
            67.63416667,
            23.39555556,
            60.94333333,
            42.305625,
            46.16555556,
            36.3368,
            40.463125,
            11.45095238,
            13.25789474,
            13.06090909,
            10.97,
            22.67554273
           ],
           "yaxis": "y"
          },
          {
           "alignmentgroup": "True",
           "hovertemplate": "direction=down<br>Local Time (GMT+8)=20<br>floor=%{x}<br>avgWait_weekday=%{y}<extra></extra>",
           "legendgroup": "down",
           "marker": {
            "color": "#EF553B"
           },
           "name": "down",
           "offsetgroup": "down",
           "orientation": "v",
           "showlegend": true,
           "textposition": "auto",
           "type": "bar",
           "x": [
            "B1",
            "15",
            "14",
            "13",
            "12",
            "11",
            "10",
            "9",
            "8",
            "7",
            "6",
            "5",
            "4",
            "3",
            "2",
            "1"
           ],
           "xaxis": "x2",
           "y": [
            22.27,
            43.96684211,
            45.709587299999995,
            19.91897059,
            18.57537931,
            16.37824324,
            12.11272727,
            15.55846939,
            14.59897297,
            13.93146154,
            12.32697248,
            39.05545455,
            32.17528024,
            23.34587189,
            18.655,
            17.94917808
           ],
           "yaxis": "y2"
          }
         ],
         "name": "20"
        },
        {
         "data": [
          {
           "alignmentgroup": "True",
           "hovertemplate": "direction=up<br>Local Time (GMT+8)=21<br>floor=%{x}<br>avgWait_weekday=%{y}<extra></extra>",
           "legendgroup": "up",
           "marker": {
            "color": "#636efa"
           },
           "name": "up",
           "offsetgroup": "up",
           "orientation": "v",
           "showlegend": true,
           "textposition": "auto",
           "type": "bar",
           "x": [
            "B4",
            "B3",
            "B1",
            "14",
            "13",
            "12",
            "11",
            "10",
            "9",
            "8",
            "7",
            "6",
            "5",
            "4",
            "3",
            "2",
            "1"
           ],
           "xaxis": "x",
           "y": [
            21.42745455,
            20.07733333,
            18.96095679,
            38.55538462,
            21.35,
            40.165,
            41.934,
            20.885,
            27.555,
            37.94583333,
            31.70882353,
            37.91666667,
            17.1845098,
            13.36208333,
            14.72947368,
            12.94,
            16.72507661
           ],
           "yaxis": "y"
          },
          {
           "alignmentgroup": "True",
           "hovertemplate": "direction=down<br>Local Time (GMT+8)=21<br>floor=%{x}<br>avgWait_weekday=%{y}<extra></extra>",
           "legendgroup": "down",
           "marker": {
            "color": "#EF553B"
           },
           "name": "down",
           "offsetgroup": "down",
           "orientation": "v",
           "showlegend": true,
           "textposition": "auto",
           "type": "bar",
           "x": [
            "B3",
            "B1",
            "15",
            "14",
            "13",
            "12",
            "11",
            "10",
            "9",
            "8",
            "7",
            "6",
            "5",
            "4",
            "3",
            "2",
            "1"
           ],
           "xaxis": "x2",
           "y": [
            53.66333333,
            22.42967742,
            36.65133333,
            30.37207627,
            16.53364486,
            14.39316832,
            15.38950226,
            17.70148148,
            14.47578755,
            15.139000000000001,
            13.91429012,
            14.73540541,
            27.22987342,
            31.37875,
            26.66265734,
            38.996,
            12.11116667
           ],
           "yaxis": "y2"
          }
         ],
         "name": "21"
        },
        {
         "data": [
          {
           "alignmentgroup": "True",
           "hovertemplate": "direction=up<br>Local Time (GMT+8)=2<br>floor=%{x}<br>avgWait_weekday=%{y}<extra></extra>",
           "legendgroup": "up",
           "marker": {
            "color": "#636efa"
           },
           "name": "up",
           "offsetgroup": "up",
           "orientation": "v",
           "showlegend": true,
           "textposition": "auto",
           "type": "bar",
           "x": [
            "B4",
            "B1",
            "13",
            "9",
            "6",
            "5",
            "4",
            "3",
            "1"
           ],
           "xaxis": "x",
           "y": [
            20.2575,
            6.351818182000001,
            18.95,
            16.85,
            9.34,
            18.92666667,
            8.19,
            2.3416666669999997,
            4.861626016000001
           ],
           "yaxis": "y"
          },
          {
           "alignmentgroup": "True",
           "hovertemplate": "direction=down<br>Local Time (GMT+8)=2<br>floor=%{x}<br>avgWait_weekday=%{y}<extra></extra>",
           "legendgroup": "down",
           "marker": {
            "color": "#EF553B"
           },
           "name": "down",
           "offsetgroup": "down",
           "orientation": "v",
           "showlegend": true,
           "textposition": "auto",
           "type": "bar",
           "x": [
            "14",
            "13",
            "12",
            "11",
            "10",
            "9",
            "8",
            "7",
            "6",
            "5",
            "4",
            "3",
            "2",
            "1"
           ],
           "xaxis": "x2",
           "y": [
            18.91521739,
            15.69214286,
            16.43,
            18.86933333,
            18.24,
            14.6125,
            15.09913043,
            16.93836735,
            13.85736842,
            14.48142857,
            12.56923077,
            10.28466667,
            15.57,
            5.94
           ],
           "yaxis": "y2"
          }
         ],
         "name": "2"
        },
        {
         "data": [
          {
           "alignmentgroup": "True",
           "hovertemplate": "direction=up<br>Local Time (GMT+8)=5<br>floor=%{x}<br>avgWait_weekday=%{y}<extra></extra>",
           "legendgroup": "up",
           "marker": {
            "color": "#636efa"
           },
           "name": "up",
           "offsetgroup": "up",
           "orientation": "v",
           "showlegend": true,
           "textposition": "auto",
           "type": "bar",
           "x": [
            "B4",
            "B3",
            "B1",
            "14",
            "13",
            "12",
            "11",
            "9",
            "8",
            "6",
            "5",
            "4",
            "3",
            "1"
           ],
           "xaxis": "x",
           "y": [
            14.74583333,
            15.06,
            7.678333332999999,
            28.53,
            21.691999999999997,
            9.35,
            15.34,
            16.77,
            16.32,
            25.07,
            14.07,
            23.605,
            13.12333333,
            6.754777327999999
           ],
           "yaxis": "y"
          },
          {
           "alignmentgroup": "True",
           "hovertemplate": "direction=down<br>Local Time (GMT+8)=5<br>floor=%{x}<br>avgWait_weekday=%{y}<extra></extra>",
           "legendgroup": "down",
           "marker": {
            "color": "#EF553B"
           },
           "name": "down",
           "offsetgroup": "down",
           "orientation": "v",
           "showlegend": true,
           "textposition": "auto",
           "type": "bar",
           "x": [
            "15",
            "14",
            "13",
            "12",
            "11",
            "10",
            "9",
            "8",
            "7",
            "6",
            "5",
            "4",
            "3",
            "1"
           ],
           "xaxis": "x2",
           "y": [
            27.57333333,
            20.13511111,
            17.36139535,
            15.0152459,
            15.74191489,
            6.766666667000001,
            16.51724138,
            15.97366667,
            14.10964286,
            14.44777778,
            18.10266667,
            12.97428571,
            21.28125,
            7.288695652
           ],
           "yaxis": "y2"
          }
         ],
         "name": "5"
        },
        {
         "data": [
          {
           "alignmentgroup": "True",
           "hovertemplate": "direction=up<br>Local Time (GMT+8)=0<br>floor=%{x}<br>avgWait_weekday=%{y}<extra></extra>",
           "legendgroup": "up",
           "marker": {
            "color": "#636efa"
           },
           "name": "up",
           "offsetgroup": "up",
           "orientation": "v",
           "showlegend": true,
           "textposition": "auto",
           "type": "bar",
           "x": [
            "B4",
            "B3",
            "B1",
            "14",
            "13",
            "12",
            "11",
            "9",
            "8",
            "7",
            "6",
            "5",
            "4",
            "3",
            "1"
           ],
           "xaxis": "x",
           "y": [
            13.54285714,
            14.26,
            10.28657895,
            26.065,
            13.355,
            21.81333333,
            31.22,
            35.39,
            15.98,
            20.34833333,
            12.99166667,
            19.2875,
            26.16833333,
            14.54,
            5.323305556
           ],
           "yaxis": "y"
          },
          {
           "alignmentgroup": "True",
           "hovertemplate": "direction=down<br>Local Time (GMT+8)=0<br>floor=%{x}<br>avgWait_weekday=%{y}<extra></extra>",
           "legendgroup": "down",
           "marker": {
            "color": "#EF553B"
           },
           "name": "down",
           "offsetgroup": "down",
           "orientation": "v",
           "showlegend": true,
           "textposition": "auto",
           "type": "bar",
           "x": [
            "B1",
            "15",
            "14",
            "13",
            "12",
            "11",
            "10",
            "9",
            "8",
            "7",
            "6",
            "5",
            "4",
            "3",
            "2",
            "1"
           ],
           "xaxis": "x2",
           "y": [
            11.775,
            24.1675,
            25.31118644,
            19.11021739,
            17.05585366,
            15.82484375,
            9.605714286,
            17.36852941,
            16.39051471,
            13.27657143,
            14.81029412,
            15.17296296,
            16.95535135,
            12.85083333,
            45.35,
            9.858181818
           ],
           "yaxis": "y2"
          }
         ],
         "name": "0"
        },
        {
         "data": [
          {
           "alignmentgroup": "True",
           "hovertemplate": "direction=up<br>Local Time (GMT+8)=22<br>floor=%{x}<br>avgWait_weekday=%{y}<extra></extra>",
           "legendgroup": "up",
           "marker": {
            "color": "#636efa"
           },
           "name": "up",
           "offsetgroup": "up",
           "orientation": "v",
           "showlegend": true,
           "textposition": "auto",
           "type": "bar",
           "x": [
            "B4",
            "B3",
            "B1",
            "14",
            "13",
            "12",
            "11",
            "10",
            "9",
            "8",
            "7",
            "6",
            "5",
            "4",
            "3",
            "1"
           ],
           "xaxis": "x",
           "y": [
            12.7225,
            18.15222222,
            15.71271186,
            24.955,
            7.62,
            13.06857143,
            23.47166667,
            6.696666667000001,
            18.9725,
            16.97,
            20.70625,
            22.471999999999998,
            11.75461538,
            14.94071429,
            12.28380952,
            12.02808889
           ],
           "yaxis": "y"
          },
          {
           "alignmentgroup": "True",
           "hovertemplate": "direction=down<br>Local Time (GMT+8)=22<br>floor=%{x}<br>avgWait_weekday=%{y}<extra></extra>",
           "legendgroup": "down",
           "marker": {
            "color": "#EF553B"
           },
           "name": "down",
           "offsetgroup": "down",
           "orientation": "v",
           "showlegend": true,
           "textposition": "auto",
           "type": "bar",
           "x": [
            "B3",
            "B1",
            "15",
            "14",
            "13",
            "12",
            "11",
            "10",
            "9",
            "8",
            "7",
            "6",
            "5",
            "4",
            "3",
            "2",
            "1"
           ],
           "xaxis": "x2",
           "y": [
            20.1,
            14.00636364,
            29.85708333,
            23.79747368,
            18.24455285,
            18.96982759,
            16.8965035,
            13.01421053,
            17.52858333,
            16.39025,
            14.16201149,
            13.96805556,
            21.75818182,
            22.718000000000004,
            19.823880600000003,
            13.26,
            14.43227273
           ],
           "yaxis": "y2"
          }
         ],
         "name": "22"
        },
        {
         "data": [
          {
           "alignmentgroup": "True",
           "hovertemplate": "direction=up<br>Local Time (GMT+8)=4<br>floor=%{x}<br>avgWait_weekday=%{y}<extra></extra>",
           "legendgroup": "up",
           "marker": {
            "color": "#636efa"
           },
           "name": "up",
           "offsetgroup": "up",
           "orientation": "v",
           "showlegend": true,
           "textposition": "auto",
           "type": "bar",
           "x": [
            "B4",
            "B3",
            "B1",
            "7",
            "6",
            "5",
            "4",
            "3",
            "1"
           ],
           "xaxis": "x",
           "y": [
            6.17,
            13.16,
            9.189473684,
            14.7925,
            9.5,
            4.89,
            0.43,
            12.67,
            7.037017543999999
           ],
           "yaxis": "y"
          },
          {
           "alignmentgroup": "True",
           "hovertemplate": "direction=down<br>Local Time (GMT+8)=4<br>floor=%{x}<br>avgWait_weekday=%{y}<extra></extra>",
           "legendgroup": "down",
           "marker": {
            "color": "#EF553B"
           },
           "name": "down",
           "offsetgroup": "down",
           "orientation": "v",
           "showlegend": true,
           "textposition": "auto",
           "type": "bar",
           "x": [
            "14",
            "13",
            "12",
            "11",
            "10",
            "9",
            "8",
            "7",
            "6",
            "5",
            "4",
            "3",
            "2",
            "1"
           ],
           "xaxis": "x2",
           "y": [
            14.42416667,
            16.9595,
            17.96111111,
            16.97833333,
            6.886666667,
            15.61222222,
            16.33388889,
            13.53473684,
            16.16086957,
            14.34714286,
            8.011000000000001,
            12.642000000000001,
            9.866666667,
            5.337777778
           ],
           "yaxis": "y2"
          }
         ],
         "name": "4"
        },
        {
         "data": [
          {
           "alignmentgroup": "True",
           "hovertemplate": "direction=up<br>Local Time (GMT+8)=1<br>floor=%{x}<br>avgWait_weekday=%{y}<extra></extra>",
           "legendgroup": "up",
           "marker": {
            "color": "#636efa"
           },
           "name": "up",
           "offsetgroup": "up",
           "orientation": "v",
           "showlegend": true,
           "textposition": "auto",
           "type": "bar",
           "x": [
            "B4",
            "B3",
            "B1",
            "14",
            "13",
            "12",
            "9",
            "8",
            "7",
            "6",
            "5",
            "4",
            "3",
            "2",
            "1"
           ],
           "xaxis": "x",
           "y": [
            3.435,
            8.81,
            7.592954545,
            43.53,
            22.285,
            10.975,
            14.155,
            18.1625,
            12.7,
            10.25,
            10.44,
            23.63666667,
            15.44076923,
            10.36,
            4.967370892
           ],
           "yaxis": "y"
          },
          {
           "alignmentgroup": "True",
           "hovertemplate": "direction=down<br>Local Time (GMT+8)=1<br>floor=%{x}<br>avgWait_weekday=%{y}<extra></extra>",
           "legendgroup": "down",
           "marker": {
            "color": "#EF553B"
           },
           "name": "down",
           "offsetgroup": "down",
           "orientation": "v",
           "showlegend": true,
           "textposition": "auto",
           "type": "bar",
           "x": [
            "B1",
            "15",
            "14",
            "13",
            "12",
            "11",
            "10",
            "9",
            "8",
            "7",
            "6",
            "5",
            "4",
            "3",
            "2",
            "1"
           ],
           "xaxis": "x2",
           "y": [
            10.204,
            18.51384615,
            18.54958904,
            12.33333333,
            19.85133333,
            19.3175,
            11.16,
            14.52883333,
            14.85595238,
            13.95048387,
            13.84979592,
            16.23422222,
            15.27857143,
            12.85769231,
            9.625,
            3.704375
           ],
           "yaxis": "y2"
          }
         ],
         "name": "1"
        }
       ],
       "layout": {
        "annotations": [
         {
          "font": {},
          "showarrow": false,
          "text": "direction=up",
          "x": 0.245,
          "xanchor": "center",
          "xref": "paper",
          "y": 1,
          "yanchor": "bottom",
          "yref": "paper"
         },
         {
          "font": {},
          "showarrow": false,
          "text": "direction=down",
          "x": 0.755,
          "xanchor": "center",
          "xref": "paper",
          "y": 1,
          "yanchor": "bottom",
          "yref": "paper"
         }
        ],
        "barmode": "relative",
        "legend": {
         "title": {
          "text": "direction"
         },
         "tracegroupgap": 0
        },
        "margin": {
         "t": 60
        },
        "sliders": [
         {
          "active": 0,
          "currentvalue": {
           "prefix": "Local Time (GMT+8)="
          },
          "len": 0.9,
          "pad": {
           "b": 10,
           "t": 60
          },
          "steps": [
           {
            "args": [
             [
              "11"
             ],
             {
              "frame": {
               "duration": 0,
               "redraw": true
              },
              "fromcurrent": true,
              "mode": "immediate",
              "transition": {
               "duration": 0,
               "easing": "linear"
              }
             }
            ],
            "label": "11",
            "method": "animate"
           },
           {
            "args": [
             [
              "12"
             ],
             {
              "frame": {
               "duration": 0,
               "redraw": true
              },
              "fromcurrent": true,
              "mode": "immediate",
              "transition": {
               "duration": 0,
               "easing": "linear"
              }
             }
            ],
            "label": "12",
            "method": "animate"
           },
           {
            "args": [
             [
              "13"
             ],
             {
              "frame": {
               "duration": 0,
               "redraw": true
              },
              "fromcurrent": true,
              "mode": "immediate",
              "transition": {
               "duration": 0,
               "easing": "linear"
              }
             }
            ],
            "label": "13",
            "method": "animate"
           },
           {
            "args": [
             [
              "17"
             ],
             {
              "frame": {
               "duration": 0,
               "redraw": true
              },
              "fromcurrent": true,
              "mode": "immediate",
              "transition": {
               "duration": 0,
               "easing": "linear"
              }
             }
            ],
            "label": "17",
            "method": "animate"
           },
           {
            "args": [
             [
              "15"
             ],
             {
              "frame": {
               "duration": 0,
               "redraw": true
              },
              "fromcurrent": true,
              "mode": "immediate",
              "transition": {
               "duration": 0,
               "easing": "linear"
              }
             }
            ],
            "label": "15",
            "method": "animate"
           },
           {
            "args": [
             [
              "16"
             ],
             {
              "frame": {
               "duration": 0,
               "redraw": true
              },
              "fromcurrent": true,
              "mode": "immediate",
              "transition": {
               "duration": 0,
               "easing": "linear"
              }
             }
            ],
            "label": "16",
            "method": "animate"
           },
           {
            "args": [
             [
              "10"
             ],
             {
              "frame": {
               "duration": 0,
               "redraw": true
              },
              "fromcurrent": true,
              "mode": "immediate",
              "transition": {
               "duration": 0,
               "easing": "linear"
              }
             }
            ],
            "label": "10",
            "method": "animate"
           },
           {
            "args": [
             [
              "14"
             ],
             {
              "frame": {
               "duration": 0,
               "redraw": true
              },
              "fromcurrent": true,
              "mode": "immediate",
              "transition": {
               "duration": 0,
               "easing": "linear"
              }
             }
            ],
            "label": "14",
            "method": "animate"
           },
           {
            "args": [
             [
              "7"
             ],
             {
              "frame": {
               "duration": 0,
               "redraw": true
              },
              "fromcurrent": true,
              "mode": "immediate",
              "transition": {
               "duration": 0,
               "easing": "linear"
              }
             }
            ],
            "label": "7",
            "method": "animate"
           },
           {
            "args": [
             [
              "18"
             ],
             {
              "frame": {
               "duration": 0,
               "redraw": true
              },
              "fromcurrent": true,
              "mode": "immediate",
              "transition": {
               "duration": 0,
               "easing": "linear"
              }
             }
            ],
            "label": "18",
            "method": "animate"
           },
           {
            "args": [
             [
              "9"
             ],
             {
              "frame": {
               "duration": 0,
               "redraw": true
              },
              "fromcurrent": true,
              "mode": "immediate",
              "transition": {
               "duration": 0,
               "easing": "linear"
              }
             }
            ],
            "label": "9",
            "method": "animate"
           },
           {
            "args": [
             [
              "8"
             ],
             {
              "frame": {
               "duration": 0,
               "redraw": true
              },
              "fromcurrent": true,
              "mode": "immediate",
              "transition": {
               "duration": 0,
               "easing": "linear"
              }
             }
            ],
            "label": "8",
            "method": "animate"
           },
           {
            "args": [
             [
              "23"
             ],
             {
              "frame": {
               "duration": 0,
               "redraw": true
              },
              "fromcurrent": true,
              "mode": "immediate",
              "transition": {
               "duration": 0,
               "easing": "linear"
              }
             }
            ],
            "label": "23",
            "method": "animate"
           },
           {
            "args": [
             [
              "19"
             ],
             {
              "frame": {
               "duration": 0,
               "redraw": true
              },
              "fromcurrent": true,
              "mode": "immediate",
              "transition": {
               "duration": 0,
               "easing": "linear"
              }
             }
            ],
            "label": "19",
            "method": "animate"
           },
           {
            "args": [
             [
              "6"
             ],
             {
              "frame": {
               "duration": 0,
               "redraw": true
              },
              "fromcurrent": true,
              "mode": "immediate",
              "transition": {
               "duration": 0,
               "easing": "linear"
              }
             }
            ],
            "label": "6",
            "method": "animate"
           },
           {
            "args": [
             [
              "3"
             ],
             {
              "frame": {
               "duration": 0,
               "redraw": true
              },
              "fromcurrent": true,
              "mode": "immediate",
              "transition": {
               "duration": 0,
               "easing": "linear"
              }
             }
            ],
            "label": "3",
            "method": "animate"
           },
           {
            "args": [
             [
              "20"
             ],
             {
              "frame": {
               "duration": 0,
               "redraw": true
              },
              "fromcurrent": true,
              "mode": "immediate",
              "transition": {
               "duration": 0,
               "easing": "linear"
              }
             }
            ],
            "label": "20",
            "method": "animate"
           },
           {
            "args": [
             [
              "21"
             ],
             {
              "frame": {
               "duration": 0,
               "redraw": true
              },
              "fromcurrent": true,
              "mode": "immediate",
              "transition": {
               "duration": 0,
               "easing": "linear"
              }
             }
            ],
            "label": "21",
            "method": "animate"
           },
           {
            "args": [
             [
              "2"
             ],
             {
              "frame": {
               "duration": 0,
               "redraw": true
              },
              "fromcurrent": true,
              "mode": "immediate",
              "transition": {
               "duration": 0,
               "easing": "linear"
              }
             }
            ],
            "label": "2",
            "method": "animate"
           },
           {
            "args": [
             [
              "5"
             ],
             {
              "frame": {
               "duration": 0,
               "redraw": true
              },
              "fromcurrent": true,
              "mode": "immediate",
              "transition": {
               "duration": 0,
               "easing": "linear"
              }
             }
            ],
            "label": "5",
            "method": "animate"
           },
           {
            "args": [
             [
              "0"
             ],
             {
              "frame": {
               "duration": 0,
               "redraw": true
              },
              "fromcurrent": true,
              "mode": "immediate",
              "transition": {
               "duration": 0,
               "easing": "linear"
              }
             }
            ],
            "label": "0",
            "method": "animate"
           },
           {
            "args": [
             [
              "22"
             ],
             {
              "frame": {
               "duration": 0,
               "redraw": true
              },
              "fromcurrent": true,
              "mode": "immediate",
              "transition": {
               "duration": 0,
               "easing": "linear"
              }
             }
            ],
            "label": "22",
            "method": "animate"
           },
           {
            "args": [
             [
              "4"
             ],
             {
              "frame": {
               "duration": 0,
               "redraw": true
              },
              "fromcurrent": true,
              "mode": "immediate",
              "transition": {
               "duration": 0,
               "easing": "linear"
              }
             }
            ],
            "label": "4",
            "method": "animate"
           },
           {
            "args": [
             [
              "1"
             ],
             {
              "frame": {
               "duration": 0,
               "redraw": true
              },
              "fromcurrent": true,
              "mode": "immediate",
              "transition": {
               "duration": 0,
               "easing": "linear"
              }
             }
            ],
            "label": "1",
            "method": "animate"
           }
          ],
          "x": 0.1,
          "xanchor": "left",
          "y": 0,
          "yanchor": "top"
         }
        ],
        "template": {
         "data": {
          "bar": [
           {
            "error_x": {
             "color": "#2a3f5f"
            },
            "error_y": {
             "color": "#2a3f5f"
            },
            "marker": {
             "line": {
              "color": "#E5ECF6",
              "width": 0.5
             }
            },
            "type": "bar"
           }
          ],
          "barpolar": [
           {
            "marker": {
             "line": {
              "color": "#E5ECF6",
              "width": 0.5
             }
            },
            "type": "barpolar"
           }
          ],
          "carpet": [
           {
            "aaxis": {
             "endlinecolor": "#2a3f5f",
             "gridcolor": "white",
             "linecolor": "white",
             "minorgridcolor": "white",
             "startlinecolor": "#2a3f5f"
            },
            "baxis": {
             "endlinecolor": "#2a3f5f",
             "gridcolor": "white",
             "linecolor": "white",
             "minorgridcolor": "white",
             "startlinecolor": "#2a3f5f"
            },
            "type": "carpet"
           }
          ],
          "choropleth": [
           {
            "colorbar": {
             "outlinewidth": 0,
             "ticks": ""
            },
            "type": "choropleth"
           }
          ],
          "contour": [
           {
            "colorbar": {
             "outlinewidth": 0,
             "ticks": ""
            },
            "colorscale": [
             [
              0,
              "#0d0887"
             ],
             [
              0.1111111111111111,
              "#46039f"
             ],
             [
              0.2222222222222222,
              "#7201a8"
             ],
             [
              0.3333333333333333,
              "#9c179e"
             ],
             [
              0.4444444444444444,
              "#bd3786"
             ],
             [
              0.5555555555555556,
              "#d8576b"
             ],
             [
              0.6666666666666666,
              "#ed7953"
             ],
             [
              0.7777777777777778,
              "#fb9f3a"
             ],
             [
              0.8888888888888888,
              "#fdca26"
             ],
             [
              1,
              "#f0f921"
             ]
            ],
            "type": "contour"
           }
          ],
          "contourcarpet": [
           {
            "colorbar": {
             "outlinewidth": 0,
             "ticks": ""
            },
            "type": "contourcarpet"
           }
          ],
          "heatmap": [
           {
            "colorbar": {
             "outlinewidth": 0,
             "ticks": ""
            },
            "colorscale": [
             [
              0,
              "#0d0887"
             ],
             [
              0.1111111111111111,
              "#46039f"
             ],
             [
              0.2222222222222222,
              "#7201a8"
             ],
             [
              0.3333333333333333,
              "#9c179e"
             ],
             [
              0.4444444444444444,
              "#bd3786"
             ],
             [
              0.5555555555555556,
              "#d8576b"
             ],
             [
              0.6666666666666666,
              "#ed7953"
             ],
             [
              0.7777777777777778,
              "#fb9f3a"
             ],
             [
              0.8888888888888888,
              "#fdca26"
             ],
             [
              1,
              "#f0f921"
             ]
            ],
            "type": "heatmap"
           }
          ],
          "heatmapgl": [
           {
            "colorbar": {
             "outlinewidth": 0,
             "ticks": ""
            },
            "colorscale": [
             [
              0,
              "#0d0887"
             ],
             [
              0.1111111111111111,
              "#46039f"
             ],
             [
              0.2222222222222222,
              "#7201a8"
             ],
             [
              0.3333333333333333,
              "#9c179e"
             ],
             [
              0.4444444444444444,
              "#bd3786"
             ],
             [
              0.5555555555555556,
              "#d8576b"
             ],
             [
              0.6666666666666666,
              "#ed7953"
             ],
             [
              0.7777777777777778,
              "#fb9f3a"
             ],
             [
              0.8888888888888888,
              "#fdca26"
             ],
             [
              1,
              "#f0f921"
             ]
            ],
            "type": "heatmapgl"
           }
          ],
          "histogram": [
           {
            "marker": {
             "colorbar": {
              "outlinewidth": 0,
              "ticks": ""
             }
            },
            "type": "histogram"
           }
          ],
          "histogram2d": [
           {
            "colorbar": {
             "outlinewidth": 0,
             "ticks": ""
            },
            "colorscale": [
             [
              0,
              "#0d0887"
             ],
             [
              0.1111111111111111,
              "#46039f"
             ],
             [
              0.2222222222222222,
              "#7201a8"
             ],
             [
              0.3333333333333333,
              "#9c179e"
             ],
             [
              0.4444444444444444,
              "#bd3786"
             ],
             [
              0.5555555555555556,
              "#d8576b"
             ],
             [
              0.6666666666666666,
              "#ed7953"
             ],
             [
              0.7777777777777778,
              "#fb9f3a"
             ],
             [
              0.8888888888888888,
              "#fdca26"
             ],
             [
              1,
              "#f0f921"
             ]
            ],
            "type": "histogram2d"
           }
          ],
          "histogram2dcontour": [
           {
            "colorbar": {
             "outlinewidth": 0,
             "ticks": ""
            },
            "colorscale": [
             [
              0,
              "#0d0887"
             ],
             [
              0.1111111111111111,
              "#46039f"
             ],
             [
              0.2222222222222222,
              "#7201a8"
             ],
             [
              0.3333333333333333,
              "#9c179e"
             ],
             [
              0.4444444444444444,
              "#bd3786"
             ],
             [
              0.5555555555555556,
              "#d8576b"
             ],
             [
              0.6666666666666666,
              "#ed7953"
             ],
             [
              0.7777777777777778,
              "#fb9f3a"
             ],
             [
              0.8888888888888888,
              "#fdca26"
             ],
             [
              1,
              "#f0f921"
             ]
            ],
            "type": "histogram2dcontour"
           }
          ],
          "mesh3d": [
           {
            "colorbar": {
             "outlinewidth": 0,
             "ticks": ""
            },
            "type": "mesh3d"
           }
          ],
          "parcoords": [
           {
            "line": {
             "colorbar": {
              "outlinewidth": 0,
              "ticks": ""
             }
            },
            "type": "parcoords"
           }
          ],
          "pie": [
           {
            "automargin": true,
            "type": "pie"
           }
          ],
          "scatter": [
           {
            "marker": {
             "colorbar": {
              "outlinewidth": 0,
              "ticks": ""
             }
            },
            "type": "scatter"
           }
          ],
          "scatter3d": [
           {
            "line": {
             "colorbar": {
              "outlinewidth": 0,
              "ticks": ""
             }
            },
            "marker": {
             "colorbar": {
              "outlinewidth": 0,
              "ticks": ""
             }
            },
            "type": "scatter3d"
           }
          ],
          "scattercarpet": [
           {
            "marker": {
             "colorbar": {
              "outlinewidth": 0,
              "ticks": ""
             }
            },
            "type": "scattercarpet"
           }
          ],
          "scattergeo": [
           {
            "marker": {
             "colorbar": {
              "outlinewidth": 0,
              "ticks": ""
             }
            },
            "type": "scattergeo"
           }
          ],
          "scattergl": [
           {
            "marker": {
             "colorbar": {
              "outlinewidth": 0,
              "ticks": ""
             }
            },
            "type": "scattergl"
           }
          ],
          "scattermapbox": [
           {
            "marker": {
             "colorbar": {
              "outlinewidth": 0,
              "ticks": ""
             }
            },
            "type": "scattermapbox"
           }
          ],
          "scatterpolar": [
           {
            "marker": {
             "colorbar": {
              "outlinewidth": 0,
              "ticks": ""
             }
            },
            "type": "scatterpolar"
           }
          ],
          "scatterpolargl": [
           {
            "marker": {
             "colorbar": {
              "outlinewidth": 0,
              "ticks": ""
             }
            },
            "type": "scatterpolargl"
           }
          ],
          "scatterternary": [
           {
            "marker": {
             "colorbar": {
              "outlinewidth": 0,
              "ticks": ""
             }
            },
            "type": "scatterternary"
           }
          ],
          "surface": [
           {
            "colorbar": {
             "outlinewidth": 0,
             "ticks": ""
            },
            "colorscale": [
             [
              0,
              "#0d0887"
             ],
             [
              0.1111111111111111,
              "#46039f"
             ],
             [
              0.2222222222222222,
              "#7201a8"
             ],
             [
              0.3333333333333333,
              "#9c179e"
             ],
             [
              0.4444444444444444,
              "#bd3786"
             ],
             [
              0.5555555555555556,
              "#d8576b"
             ],
             [
              0.6666666666666666,
              "#ed7953"
             ],
             [
              0.7777777777777778,
              "#fb9f3a"
             ],
             [
              0.8888888888888888,
              "#fdca26"
             ],
             [
              1,
              "#f0f921"
             ]
            ],
            "type": "surface"
           }
          ],
          "table": [
           {
            "cells": {
             "fill": {
              "color": "#EBF0F8"
             },
             "line": {
              "color": "white"
             }
            },
            "header": {
             "fill": {
              "color": "#C8D4E3"
             },
             "line": {
              "color": "white"
             }
            },
            "type": "table"
           }
          ]
         },
         "layout": {
          "annotationdefaults": {
           "arrowcolor": "#2a3f5f",
           "arrowhead": 0,
           "arrowwidth": 1
          },
          "coloraxis": {
           "colorbar": {
            "outlinewidth": 0,
            "ticks": ""
           }
          },
          "colorscale": {
           "diverging": [
            [
             0,
             "#8e0152"
            ],
            [
             0.1,
             "#c51b7d"
            ],
            [
             0.2,
             "#de77ae"
            ],
            [
             0.3,
             "#f1b6da"
            ],
            [
             0.4,
             "#fde0ef"
            ],
            [
             0.5,
             "#f7f7f7"
            ],
            [
             0.6,
             "#e6f5d0"
            ],
            [
             0.7,
             "#b8e186"
            ],
            [
             0.8,
             "#7fbc41"
            ],
            [
             0.9,
             "#4d9221"
            ],
            [
             1,
             "#276419"
            ]
           ],
           "sequential": [
            [
             0,
             "#0d0887"
            ],
            [
             0.1111111111111111,
             "#46039f"
            ],
            [
             0.2222222222222222,
             "#7201a8"
            ],
            [
             0.3333333333333333,
             "#9c179e"
            ],
            [
             0.4444444444444444,
             "#bd3786"
            ],
            [
             0.5555555555555556,
             "#d8576b"
            ],
            [
             0.6666666666666666,
             "#ed7953"
            ],
            [
             0.7777777777777778,
             "#fb9f3a"
            ],
            [
             0.8888888888888888,
             "#fdca26"
            ],
            [
             1,
             "#f0f921"
            ]
           ],
           "sequentialminus": [
            [
             0,
             "#0d0887"
            ],
            [
             0.1111111111111111,
             "#46039f"
            ],
            [
             0.2222222222222222,
             "#7201a8"
            ],
            [
             0.3333333333333333,
             "#9c179e"
            ],
            [
             0.4444444444444444,
             "#bd3786"
            ],
            [
             0.5555555555555556,
             "#d8576b"
            ],
            [
             0.6666666666666666,
             "#ed7953"
            ],
            [
             0.7777777777777778,
             "#fb9f3a"
            ],
            [
             0.8888888888888888,
             "#fdca26"
            ],
            [
             1,
             "#f0f921"
            ]
           ]
          },
          "colorway": [
           "#636efa",
           "#EF553B",
           "#00cc96",
           "#ab63fa",
           "#FFA15A",
           "#19d3f3",
           "#FF6692",
           "#B6E880",
           "#FF97FF",
           "#FECB52"
          ],
          "font": {
           "color": "#2a3f5f"
          },
          "geo": {
           "bgcolor": "white",
           "lakecolor": "white",
           "landcolor": "#E5ECF6",
           "showlakes": true,
           "showland": true,
           "subunitcolor": "white"
          },
          "hoverlabel": {
           "align": "left"
          },
          "hovermode": "closest",
          "mapbox": {
           "style": "light"
          },
          "paper_bgcolor": "white",
          "plot_bgcolor": "#E5ECF6",
          "polar": {
           "angularaxis": {
            "gridcolor": "white",
            "linecolor": "white",
            "ticks": ""
           },
           "bgcolor": "#E5ECF6",
           "radialaxis": {
            "gridcolor": "white",
            "linecolor": "white",
            "ticks": ""
           }
          },
          "scene": {
           "xaxis": {
            "backgroundcolor": "#E5ECF6",
            "gridcolor": "white",
            "gridwidth": 2,
            "linecolor": "white",
            "showbackground": true,
            "ticks": "",
            "zerolinecolor": "white"
           },
           "yaxis": {
            "backgroundcolor": "#E5ECF6",
            "gridcolor": "white",
            "gridwidth": 2,
            "linecolor": "white",
            "showbackground": true,
            "ticks": "",
            "zerolinecolor": "white"
           },
           "zaxis": {
            "backgroundcolor": "#E5ECF6",
            "gridcolor": "white",
            "gridwidth": 2,
            "linecolor": "white",
            "showbackground": true,
            "ticks": "",
            "zerolinecolor": "white"
           }
          },
          "shapedefaults": {
           "line": {
            "color": "#2a3f5f"
           }
          },
          "ternary": {
           "aaxis": {
            "gridcolor": "white",
            "linecolor": "white",
            "ticks": ""
           },
           "baxis": {
            "gridcolor": "white",
            "linecolor": "white",
            "ticks": ""
           },
           "bgcolor": "#E5ECF6",
           "caxis": {
            "gridcolor": "white",
            "linecolor": "white",
            "ticks": ""
           }
          },
          "title": {
           "x": 0.05
          },
          "xaxis": {
           "automargin": true,
           "gridcolor": "white",
           "linecolor": "white",
           "ticks": "",
           "title": {
            "standoff": 15
           },
           "zerolinecolor": "white",
           "zerolinewidth": 2
          },
          "yaxis": {
           "automargin": true,
           "gridcolor": "white",
           "linecolor": "white",
           "ticks": "",
           "title": {
            "standoff": 15
           },
           "zerolinecolor": "white",
           "zerolinewidth": 2
          }
         }
        },
        "title": {
         "text": "Frequency of Elevator Calls by Floor"
        },
        "updatemenus": [
         {
          "buttons": [
           {
            "args": [
             null,
             {
              "frame": {
               "duration": 500,
               "redraw": true
              },
              "fromcurrent": true,
              "mode": "immediate",
              "transition": {
               "duration": 500,
               "easing": "linear"
              }
             }
            ],
            "label": "&#9654;",
            "method": "animate"
           },
           {
            "args": [
             [
              null
             ],
             {
              "frame": {
               "duration": 0,
               "redraw": true
              },
              "fromcurrent": true,
              "mode": "immediate",
              "transition": {
               "duration": 0,
               "easing": "linear"
              }
             }
            ],
            "label": "&#9724;",
            "method": "animate"
           }
          ],
          "direction": "left",
          "pad": {
           "r": 10,
           "t": 70
          },
          "showactive": false,
          "type": "buttons",
          "x": 0.1,
          "xanchor": "right",
          "y": 0,
          "yanchor": "top"
         }
        ],
        "xaxis": {
         "anchor": "y",
         "categoryarray": [
          "B4",
          "B3",
          "B2",
          "B1",
          "01",
          "02",
          "03",
          "04",
          "05",
          "06",
          "07",
          "08",
          "09",
          "10",
          "11",
          "12",
          "13",
          "14",
          "15"
         ],
         "domain": [
          0,
          0.49
         ],
         "nticks": 19,
         "title": {
          "text": "floor"
         },
         "type": "category"
        },
        "xaxis2": {
         "anchor": "y2",
         "categoryarray": [
          "B4",
          "B3",
          "B2",
          "B1",
          "01",
          "02",
          "03",
          "04",
          "05",
          "06",
          "07",
          "08",
          "09",
          "10",
          "11",
          "12",
          "13",
          "14",
          "15"
         ],
         "domain": [
          0.51,
          1
         ],
         "matches": "x",
         "nticks": 19,
         "title": {
          "text": "floor"
         },
         "type": "category"
        },
        "yaxis": {
         "anchor": "x",
         "domain": [
          0,
          1
         ],
         "range": [
          0,
          1000
         ],
         "title": {
          "text": "avgWait_weekday"
         }
        },
        "yaxis2": {
         "anchor": "x2",
         "domain": [
          0,
          1
         ],
         "matches": "y",
         "range": [
          0,
          1000
         ],
         "showticklabels": false
        }
       }
      },
      "text/html": [
       "<div>\n",
       "        \n",
       "        \n",
       "            <div id=\"eb42b949-4a32-4e22-9ead-54642ab5c6d4\" class=\"plotly-graph-div\" style=\"height:525px; width:100%;\"></div>\n",
       "            <script type=\"text/javascript\">\n",
       "                require([\"plotly\"], function(Plotly) {\n",
       "                    window.PLOTLYENV=window.PLOTLYENV || {};\n",
       "                    \n",
       "                if (document.getElementById(\"eb42b949-4a32-4e22-9ead-54642ab5c6d4\")) {\n",
       "                    Plotly.newPlot(\n",
       "                        'eb42b949-4a32-4e22-9ead-54642ab5c6d4',\n",
       "                        [{\"alignmentgroup\": \"True\", \"hovertemplate\": \"direction=up<br>Local Time (GMT+8)=11<br>floor=%{x}<br>avgWait_weekday=%{y}<extra></extra>\", \"legendgroup\": \"up\", \"marker\": {\"color\": \"#636efa\"}, \"name\": \"up\", \"offsetgroup\": \"up\", \"orientation\": \"v\", \"showlegend\": true, \"textposition\": \"auto\", \"type\": \"bar\", \"x\": [\"B4\", \"B3\", \"B1\", \"14\", \"13\", \"12\", \"11\", \"10\", \"9\", \"8\", \"7\", \"6\", \"5\", \"4\", \"3\", \"2\", \"1\"], \"xaxis\": \"x\", \"y\": [49.02057613, 21.71535088, 28.9941483, 65.49533333, 38.76516129, 60.13380952, 43.66769231, 49.4708, 58.41840909, 50.23160714, 61.0715493, 71.81855263, 12.883375, 13.09392593, 8.50751938, 10.49744186, 13.27246781], \"yaxis\": \"y\"}, {\"alignmentgroup\": \"True\", \"hovertemplate\": \"direction=down<br>Local Time (GMT+8)=11<br>floor=%{x}<br>avgWait_weekday=%{y}<extra></extra>\", \"legendgroup\": \"down\", \"marker\": {\"color\": \"#EF553B\"}, \"name\": \"down\", \"offsetgroup\": \"down\", \"orientation\": \"v\", \"showlegend\": true, \"textposition\": \"auto\", \"type\": \"bar\", \"x\": [\"B3\", \"B1\", \"15\", \"14\", \"13\", \"12\", \"11\", \"10\", \"9\", \"8\", \"7\", \"6\", \"5\", \"4\", \"3\", \"2\", \"1\"], \"xaxis\": \"x2\", \"y\": [36.19391304, 25.9253271, 77.81405941, 65.99817109, 34.95441261, 18.70092063, 14.025448499999998, 12.4034375, 12.3802649, 9.987006578999999, 10.90224422, 10.91721805, 65.93203125, 37.14823529, 26.92695238, 22.85469388, 20.90542105], \"yaxis\": \"y2\"}],\n",
       "                        {\"annotations\": [{\"font\": {}, \"showarrow\": false, \"text\": \"direction=up\", \"x\": 0.245, \"xanchor\": \"center\", \"xref\": \"paper\", \"y\": 1.0, \"yanchor\": \"bottom\", \"yref\": \"paper\"}, {\"font\": {}, \"showarrow\": false, \"text\": \"direction=down\", \"x\": 0.755, \"xanchor\": \"center\", \"xref\": \"paper\", \"y\": 1.0, \"yanchor\": \"bottom\", \"yref\": \"paper\"}], \"barmode\": \"relative\", \"legend\": {\"title\": {\"text\": \"direction\"}, \"tracegroupgap\": 0}, \"margin\": {\"t\": 60}, \"sliders\": [{\"active\": 0, \"currentvalue\": {\"prefix\": \"Local Time (GMT+8)=\"}, \"len\": 0.9, \"pad\": {\"b\": 10, \"t\": 60}, \"steps\": [{\"args\": [[\"11\"], {\"frame\": {\"duration\": 0, \"redraw\": true}, \"fromcurrent\": true, \"mode\": \"immediate\", \"transition\": {\"duration\": 0, \"easing\": \"linear\"}}], \"label\": \"11\", \"method\": \"animate\"}, {\"args\": [[\"12\"], {\"frame\": {\"duration\": 0, \"redraw\": true}, \"fromcurrent\": true, \"mode\": \"immediate\", \"transition\": {\"duration\": 0, \"easing\": \"linear\"}}], \"label\": \"12\", \"method\": \"animate\"}, {\"args\": [[\"13\"], {\"frame\": {\"duration\": 0, \"redraw\": true}, \"fromcurrent\": true, \"mode\": \"immediate\", \"transition\": {\"duration\": 0, \"easing\": \"linear\"}}], \"label\": \"13\", \"method\": \"animate\"}, {\"args\": [[\"17\"], {\"frame\": {\"duration\": 0, \"redraw\": true}, \"fromcurrent\": true, \"mode\": \"immediate\", \"transition\": {\"duration\": 0, \"easing\": \"linear\"}}], \"label\": \"17\", \"method\": \"animate\"}, {\"args\": [[\"15\"], {\"frame\": {\"duration\": 0, \"redraw\": true}, \"fromcurrent\": true, \"mode\": \"immediate\", \"transition\": {\"duration\": 0, \"easing\": \"linear\"}}], \"label\": \"15\", \"method\": \"animate\"}, {\"args\": [[\"16\"], {\"frame\": {\"duration\": 0, \"redraw\": true}, \"fromcurrent\": true, \"mode\": \"immediate\", \"transition\": {\"duration\": 0, \"easing\": \"linear\"}}], \"label\": \"16\", \"method\": \"animate\"}, {\"args\": [[\"10\"], {\"frame\": {\"duration\": 0, \"redraw\": true}, \"fromcurrent\": true, \"mode\": \"immediate\", \"transition\": {\"duration\": 0, \"easing\": \"linear\"}}], \"label\": \"10\", \"method\": \"animate\"}, {\"args\": [[\"14\"], {\"frame\": {\"duration\": 0, \"redraw\": true}, \"fromcurrent\": true, \"mode\": \"immediate\", \"transition\": {\"duration\": 0, \"easing\": \"linear\"}}], \"label\": \"14\", \"method\": \"animate\"}, {\"args\": [[\"7\"], {\"frame\": {\"duration\": 0, \"redraw\": true}, \"fromcurrent\": true, \"mode\": \"immediate\", \"transition\": {\"duration\": 0, \"easing\": \"linear\"}}], \"label\": \"7\", \"method\": \"animate\"}, {\"args\": [[\"18\"], {\"frame\": {\"duration\": 0, \"redraw\": true}, \"fromcurrent\": true, \"mode\": \"immediate\", \"transition\": {\"duration\": 0, \"easing\": \"linear\"}}], \"label\": \"18\", \"method\": \"animate\"}, {\"args\": [[\"9\"], {\"frame\": {\"duration\": 0, \"redraw\": true}, \"fromcurrent\": true, \"mode\": \"immediate\", \"transition\": {\"duration\": 0, \"easing\": \"linear\"}}], \"label\": \"9\", \"method\": \"animate\"}, {\"args\": [[\"8\"], {\"frame\": {\"duration\": 0, \"redraw\": true}, \"fromcurrent\": true, \"mode\": \"immediate\", \"transition\": {\"duration\": 0, \"easing\": \"linear\"}}], \"label\": \"8\", \"method\": \"animate\"}, {\"args\": [[\"23\"], {\"frame\": {\"duration\": 0, \"redraw\": true}, \"fromcurrent\": true, \"mode\": \"immediate\", \"transition\": {\"duration\": 0, \"easing\": \"linear\"}}], \"label\": \"23\", \"method\": \"animate\"}, {\"args\": [[\"19\"], {\"frame\": {\"duration\": 0, \"redraw\": true}, \"fromcurrent\": true, \"mode\": \"immediate\", \"transition\": {\"duration\": 0, \"easing\": \"linear\"}}], \"label\": \"19\", \"method\": \"animate\"}, {\"args\": [[\"6\"], {\"frame\": {\"duration\": 0, \"redraw\": true}, \"fromcurrent\": true, \"mode\": \"immediate\", \"transition\": {\"duration\": 0, \"easing\": \"linear\"}}], \"label\": \"6\", \"method\": \"animate\"}, {\"args\": [[\"3\"], {\"frame\": {\"duration\": 0, \"redraw\": true}, \"fromcurrent\": true, \"mode\": \"immediate\", \"transition\": {\"duration\": 0, \"easing\": \"linear\"}}], \"label\": \"3\", \"method\": \"animate\"}, {\"args\": [[\"20\"], {\"frame\": {\"duration\": 0, \"redraw\": true}, \"fromcurrent\": true, \"mode\": \"immediate\", \"transition\": {\"duration\": 0, \"easing\": \"linear\"}}], \"label\": \"20\", \"method\": \"animate\"}, {\"args\": [[\"21\"], {\"frame\": {\"duration\": 0, \"redraw\": true}, \"fromcurrent\": true, \"mode\": \"immediate\", \"transition\": {\"duration\": 0, \"easing\": \"linear\"}}], \"label\": \"21\", \"method\": \"animate\"}, {\"args\": [[\"2\"], {\"frame\": {\"duration\": 0, \"redraw\": true}, \"fromcurrent\": true, \"mode\": \"immediate\", \"transition\": {\"duration\": 0, \"easing\": \"linear\"}}], \"label\": \"2\", \"method\": \"animate\"}, {\"args\": [[\"5\"], {\"frame\": {\"duration\": 0, \"redraw\": true}, \"fromcurrent\": true, \"mode\": \"immediate\", \"transition\": {\"duration\": 0, \"easing\": \"linear\"}}], \"label\": \"5\", \"method\": \"animate\"}, {\"args\": [[\"0\"], {\"frame\": {\"duration\": 0, \"redraw\": true}, \"fromcurrent\": true, \"mode\": \"immediate\", \"transition\": {\"duration\": 0, \"easing\": \"linear\"}}], \"label\": \"0\", \"method\": \"animate\"}, {\"args\": [[\"22\"], {\"frame\": {\"duration\": 0, \"redraw\": true}, \"fromcurrent\": true, \"mode\": \"immediate\", \"transition\": {\"duration\": 0, \"easing\": \"linear\"}}], \"label\": \"22\", \"method\": \"animate\"}, {\"args\": [[\"4\"], {\"frame\": {\"duration\": 0, \"redraw\": true}, \"fromcurrent\": true, \"mode\": \"immediate\", \"transition\": {\"duration\": 0, \"easing\": \"linear\"}}], \"label\": \"4\", \"method\": \"animate\"}, {\"args\": [[\"1\"], {\"frame\": {\"duration\": 0, \"redraw\": true}, \"fromcurrent\": true, \"mode\": \"immediate\", \"transition\": {\"duration\": 0, \"easing\": \"linear\"}}], \"label\": \"1\", \"method\": \"animate\"}], \"x\": 0.1, \"xanchor\": \"left\", \"y\": 0, \"yanchor\": \"top\"}], \"template\": {\"data\": {\"bar\": [{\"error_x\": {\"color\": \"#2a3f5f\"}, \"error_y\": {\"color\": \"#2a3f5f\"}, \"marker\": {\"line\": {\"color\": \"#E5ECF6\", \"width\": 0.5}}, \"type\": \"bar\"}], \"barpolar\": [{\"marker\": {\"line\": {\"color\": \"#E5ECF6\", \"width\": 0.5}}, \"type\": \"barpolar\"}], \"carpet\": [{\"aaxis\": {\"endlinecolor\": \"#2a3f5f\", \"gridcolor\": \"white\", \"linecolor\": \"white\", \"minorgridcolor\": \"white\", \"startlinecolor\": \"#2a3f5f\"}, \"baxis\": {\"endlinecolor\": \"#2a3f5f\", \"gridcolor\": \"white\", \"linecolor\": \"white\", \"minorgridcolor\": \"white\", \"startlinecolor\": \"#2a3f5f\"}, \"type\": \"carpet\"}], \"choropleth\": [{\"colorbar\": {\"outlinewidth\": 0, \"ticks\": \"\"}, \"type\": \"choropleth\"}], \"contour\": [{\"colorbar\": {\"outlinewidth\": 0, \"ticks\": \"\"}, \"colorscale\": [[0.0, \"#0d0887\"], [0.1111111111111111, \"#46039f\"], [0.2222222222222222, \"#7201a8\"], [0.3333333333333333, \"#9c179e\"], [0.4444444444444444, \"#bd3786\"], [0.5555555555555556, \"#d8576b\"], [0.6666666666666666, \"#ed7953\"], [0.7777777777777778, \"#fb9f3a\"], [0.8888888888888888, \"#fdca26\"], [1.0, \"#f0f921\"]], \"type\": \"contour\"}], \"contourcarpet\": [{\"colorbar\": {\"outlinewidth\": 0, \"ticks\": \"\"}, \"type\": \"contourcarpet\"}], \"heatmap\": [{\"colorbar\": {\"outlinewidth\": 0, \"ticks\": \"\"}, \"colorscale\": [[0.0, \"#0d0887\"], [0.1111111111111111, \"#46039f\"], [0.2222222222222222, \"#7201a8\"], [0.3333333333333333, \"#9c179e\"], [0.4444444444444444, \"#bd3786\"], [0.5555555555555556, \"#d8576b\"], [0.6666666666666666, \"#ed7953\"], [0.7777777777777778, \"#fb9f3a\"], [0.8888888888888888, \"#fdca26\"], [1.0, \"#f0f921\"]], \"type\": \"heatmap\"}], \"heatmapgl\": [{\"colorbar\": {\"outlinewidth\": 0, \"ticks\": \"\"}, \"colorscale\": [[0.0, \"#0d0887\"], [0.1111111111111111, \"#46039f\"], [0.2222222222222222, \"#7201a8\"], [0.3333333333333333, \"#9c179e\"], [0.4444444444444444, \"#bd3786\"], [0.5555555555555556, \"#d8576b\"], [0.6666666666666666, \"#ed7953\"], [0.7777777777777778, \"#fb9f3a\"], [0.8888888888888888, \"#fdca26\"], [1.0, \"#f0f921\"]], \"type\": \"heatmapgl\"}], \"histogram\": [{\"marker\": {\"colorbar\": {\"outlinewidth\": 0, \"ticks\": \"\"}}, \"type\": \"histogram\"}], \"histogram2d\": [{\"colorbar\": {\"outlinewidth\": 0, \"ticks\": \"\"}, \"colorscale\": [[0.0, \"#0d0887\"], [0.1111111111111111, \"#46039f\"], [0.2222222222222222, \"#7201a8\"], [0.3333333333333333, \"#9c179e\"], [0.4444444444444444, \"#bd3786\"], [0.5555555555555556, \"#d8576b\"], [0.6666666666666666, \"#ed7953\"], [0.7777777777777778, \"#fb9f3a\"], [0.8888888888888888, \"#fdca26\"], [1.0, \"#f0f921\"]], \"type\": \"histogram2d\"}], \"histogram2dcontour\": [{\"colorbar\": {\"outlinewidth\": 0, \"ticks\": \"\"}, \"colorscale\": [[0.0, \"#0d0887\"], [0.1111111111111111, \"#46039f\"], [0.2222222222222222, \"#7201a8\"], [0.3333333333333333, \"#9c179e\"], [0.4444444444444444, \"#bd3786\"], [0.5555555555555556, \"#d8576b\"], [0.6666666666666666, \"#ed7953\"], [0.7777777777777778, \"#fb9f3a\"], [0.8888888888888888, \"#fdca26\"], [1.0, \"#f0f921\"]], \"type\": \"histogram2dcontour\"}], \"mesh3d\": [{\"colorbar\": {\"outlinewidth\": 0, \"ticks\": \"\"}, \"type\": \"mesh3d\"}], \"parcoords\": [{\"line\": {\"colorbar\": {\"outlinewidth\": 0, \"ticks\": \"\"}}, \"type\": \"parcoords\"}], \"pie\": [{\"automargin\": true, \"type\": \"pie\"}], \"scatter\": [{\"marker\": {\"colorbar\": {\"outlinewidth\": 0, \"ticks\": \"\"}}, \"type\": \"scatter\"}], \"scatter3d\": [{\"line\": {\"colorbar\": {\"outlinewidth\": 0, \"ticks\": \"\"}}, \"marker\": {\"colorbar\": {\"outlinewidth\": 0, \"ticks\": \"\"}}, \"type\": \"scatter3d\"}], \"scattercarpet\": [{\"marker\": {\"colorbar\": {\"outlinewidth\": 0, \"ticks\": \"\"}}, \"type\": \"scattercarpet\"}], \"scattergeo\": [{\"marker\": {\"colorbar\": {\"outlinewidth\": 0, \"ticks\": \"\"}}, \"type\": \"scattergeo\"}], \"scattergl\": [{\"marker\": {\"colorbar\": {\"outlinewidth\": 0, \"ticks\": \"\"}}, \"type\": \"scattergl\"}], \"scattermapbox\": [{\"marker\": {\"colorbar\": {\"outlinewidth\": 0, \"ticks\": \"\"}}, \"type\": \"scattermapbox\"}], \"scatterpolar\": [{\"marker\": {\"colorbar\": {\"outlinewidth\": 0, \"ticks\": \"\"}}, \"type\": \"scatterpolar\"}], \"scatterpolargl\": [{\"marker\": {\"colorbar\": {\"outlinewidth\": 0, \"ticks\": \"\"}}, \"type\": \"scatterpolargl\"}], \"scatterternary\": [{\"marker\": {\"colorbar\": {\"outlinewidth\": 0, \"ticks\": \"\"}}, \"type\": \"scatterternary\"}], \"surface\": [{\"colorbar\": {\"outlinewidth\": 0, \"ticks\": \"\"}, \"colorscale\": [[0.0, \"#0d0887\"], [0.1111111111111111, \"#46039f\"], [0.2222222222222222, \"#7201a8\"], [0.3333333333333333, \"#9c179e\"], [0.4444444444444444, \"#bd3786\"], [0.5555555555555556, \"#d8576b\"], [0.6666666666666666, \"#ed7953\"], [0.7777777777777778, \"#fb9f3a\"], [0.8888888888888888, \"#fdca26\"], [1.0, \"#f0f921\"]], \"type\": \"surface\"}], \"table\": [{\"cells\": {\"fill\": {\"color\": \"#EBF0F8\"}, \"line\": {\"color\": \"white\"}}, \"header\": {\"fill\": {\"color\": \"#C8D4E3\"}, \"line\": {\"color\": \"white\"}}, \"type\": \"table\"}]}, \"layout\": {\"annotationdefaults\": {\"arrowcolor\": \"#2a3f5f\", \"arrowhead\": 0, \"arrowwidth\": 1}, \"coloraxis\": {\"colorbar\": {\"outlinewidth\": 0, \"ticks\": \"\"}}, \"colorscale\": {\"diverging\": [[0, \"#8e0152\"], [0.1, \"#c51b7d\"], [0.2, \"#de77ae\"], [0.3, \"#f1b6da\"], [0.4, \"#fde0ef\"], [0.5, \"#f7f7f7\"], [0.6, \"#e6f5d0\"], [0.7, \"#b8e186\"], [0.8, \"#7fbc41\"], [0.9, \"#4d9221\"], [1, \"#276419\"]], \"sequential\": [[0.0, \"#0d0887\"], [0.1111111111111111, \"#46039f\"], [0.2222222222222222, \"#7201a8\"], [0.3333333333333333, \"#9c179e\"], [0.4444444444444444, \"#bd3786\"], [0.5555555555555556, \"#d8576b\"], [0.6666666666666666, \"#ed7953\"], [0.7777777777777778, \"#fb9f3a\"], [0.8888888888888888, \"#fdca26\"], [1.0, \"#f0f921\"]], \"sequentialminus\": [[0.0, \"#0d0887\"], [0.1111111111111111, \"#46039f\"], [0.2222222222222222, \"#7201a8\"], [0.3333333333333333, \"#9c179e\"], [0.4444444444444444, \"#bd3786\"], [0.5555555555555556, \"#d8576b\"], [0.6666666666666666, \"#ed7953\"], [0.7777777777777778, \"#fb9f3a\"], [0.8888888888888888, \"#fdca26\"], [1.0, \"#f0f921\"]]}, \"colorway\": [\"#636efa\", \"#EF553B\", \"#00cc96\", \"#ab63fa\", \"#FFA15A\", \"#19d3f3\", \"#FF6692\", \"#B6E880\", \"#FF97FF\", \"#FECB52\"], \"font\": {\"color\": \"#2a3f5f\"}, \"geo\": {\"bgcolor\": \"white\", \"lakecolor\": \"white\", \"landcolor\": \"#E5ECF6\", \"showlakes\": true, \"showland\": true, \"subunitcolor\": \"white\"}, \"hoverlabel\": {\"align\": \"left\"}, \"hovermode\": \"closest\", \"mapbox\": {\"style\": \"light\"}, \"paper_bgcolor\": \"white\", \"plot_bgcolor\": \"#E5ECF6\", \"polar\": {\"angularaxis\": {\"gridcolor\": \"white\", \"linecolor\": \"white\", \"ticks\": \"\"}, \"bgcolor\": \"#E5ECF6\", \"radialaxis\": {\"gridcolor\": \"white\", \"linecolor\": \"white\", \"ticks\": \"\"}}, \"scene\": {\"xaxis\": {\"backgroundcolor\": \"#E5ECF6\", \"gridcolor\": \"white\", \"gridwidth\": 2, \"linecolor\": \"white\", \"showbackground\": true, \"ticks\": \"\", \"zerolinecolor\": \"white\"}, \"yaxis\": {\"backgroundcolor\": \"#E5ECF6\", \"gridcolor\": \"white\", \"gridwidth\": 2, \"linecolor\": \"white\", \"showbackground\": true, \"ticks\": \"\", \"zerolinecolor\": \"white\"}, \"zaxis\": {\"backgroundcolor\": \"#E5ECF6\", \"gridcolor\": \"white\", \"gridwidth\": 2, \"linecolor\": \"white\", \"showbackground\": true, \"ticks\": \"\", \"zerolinecolor\": \"white\"}}, \"shapedefaults\": {\"line\": {\"color\": \"#2a3f5f\"}}, \"ternary\": {\"aaxis\": {\"gridcolor\": \"white\", \"linecolor\": \"white\", \"ticks\": \"\"}, \"baxis\": {\"gridcolor\": \"white\", \"linecolor\": \"white\", \"ticks\": \"\"}, \"bgcolor\": \"#E5ECF6\", \"caxis\": {\"gridcolor\": \"white\", \"linecolor\": \"white\", \"ticks\": \"\"}}, \"title\": {\"x\": 0.05}, \"xaxis\": {\"automargin\": true, \"gridcolor\": \"white\", \"linecolor\": \"white\", \"ticks\": \"\", \"title\": {\"standoff\": 15}, \"zerolinecolor\": \"white\", \"zerolinewidth\": 2}, \"yaxis\": {\"automargin\": true, \"gridcolor\": \"white\", \"linecolor\": \"white\", \"ticks\": \"\", \"title\": {\"standoff\": 15}, \"zerolinecolor\": \"white\", \"zerolinewidth\": 2}}}, \"title\": {\"text\": \"Frequency of Elevator Calls by Floor\"}, \"updatemenus\": [{\"buttons\": [{\"args\": [null, {\"frame\": {\"duration\": 500, \"redraw\": true}, \"fromcurrent\": true, \"mode\": \"immediate\", \"transition\": {\"duration\": 500, \"easing\": \"linear\"}}], \"label\": \"&#9654;\", \"method\": \"animate\"}, {\"args\": [[null], {\"frame\": {\"duration\": 0, \"redraw\": true}, \"fromcurrent\": true, \"mode\": \"immediate\", \"transition\": {\"duration\": 0, \"easing\": \"linear\"}}], \"label\": \"&#9724;\", \"method\": \"animate\"}], \"direction\": \"left\", \"pad\": {\"r\": 10, \"t\": 70}, \"showactive\": false, \"type\": \"buttons\", \"x\": 0.1, \"xanchor\": \"right\", \"y\": 0, \"yanchor\": \"top\"}], \"xaxis\": {\"anchor\": \"y\", \"categoryarray\": [\"B4\", \"B3\", \"B2\", \"B1\", \"01\", \"02\", \"03\", \"04\", \"05\", \"06\", \"07\", \"08\", \"09\", \"10\", \"11\", \"12\", \"13\", \"14\", \"15\"], \"domain\": [0.0, 0.49], \"nticks\": 19, \"title\": {\"text\": \"floor\"}, \"type\": \"category\"}, \"xaxis2\": {\"anchor\": \"y2\", \"categoryarray\": [\"B4\", \"B3\", \"B2\", \"B1\", \"01\", \"02\", \"03\", \"04\", \"05\", \"06\", \"07\", \"08\", \"09\", \"10\", \"11\", \"12\", \"13\", \"14\", \"15\"], \"domain\": [0.51, 1.0], \"matches\": \"x\", \"nticks\": 19, \"title\": {\"text\": \"floor\"}, \"type\": \"category\"}, \"yaxis\": {\"anchor\": \"x\", \"domain\": [0.0, 1.0], \"range\": [0, 1000], \"title\": {\"text\": \"avgWait_weekday\"}}, \"yaxis2\": {\"anchor\": \"x2\", \"domain\": [0.0, 1.0], \"matches\": \"y\", \"range\": [0, 1000], \"showticklabels\": false}},\n",
       "                        {\"responsive\": true}\n",
       "                    ).then(function(){\n",
       "                            Plotly.addFrames('eb42b949-4a32-4e22-9ead-54642ab5c6d4', [{\"data\": [{\"alignmentgroup\": \"True\", \"hovertemplate\": \"direction=up<br>Local Time (GMT+8)=11<br>floor=%{x}<br>avgWait_weekday=%{y}<extra></extra>\", \"legendgroup\": \"up\", \"marker\": {\"color\": \"#636efa\"}, \"name\": \"up\", \"offsetgroup\": \"up\", \"orientation\": \"v\", \"showlegend\": true, \"textposition\": \"auto\", \"x\": [\"B4\", \"B3\", \"B1\", \"14\", \"13\", \"12\", \"11\", \"10\", \"9\", \"8\", \"7\", \"6\", \"5\", \"4\", \"3\", \"2\", \"1\"], \"xaxis\": \"x\", \"y\": [49.02057613, 21.71535088, 28.9941483, 65.49533333, 38.76516129, 60.13380952, 43.66769231, 49.4708, 58.41840909, 50.23160714, 61.0715493, 71.81855263, 12.883375, 13.09392593, 8.50751938, 10.49744186, 13.27246781], \"yaxis\": \"y\", \"type\": \"bar\"}, {\"alignmentgroup\": \"True\", \"hovertemplate\": \"direction=down<br>Local Time (GMT+8)=11<br>floor=%{x}<br>avgWait_weekday=%{y}<extra></extra>\", \"legendgroup\": \"down\", \"marker\": {\"color\": \"#EF553B\"}, \"name\": \"down\", \"offsetgroup\": \"down\", \"orientation\": \"v\", \"showlegend\": true, \"textposition\": \"auto\", \"x\": [\"B3\", \"B1\", \"15\", \"14\", \"13\", \"12\", \"11\", \"10\", \"9\", \"8\", \"7\", \"6\", \"5\", \"4\", \"3\", \"2\", \"1\"], \"xaxis\": \"x2\", \"y\": [36.19391304, 25.9253271, 77.81405941, 65.99817109, 34.95441261, 18.70092063, 14.025448499999998, 12.4034375, 12.3802649, 9.987006578999999, 10.90224422, 10.91721805, 65.93203125, 37.14823529, 26.92695238, 22.85469388, 20.90542105], \"yaxis\": \"y2\", \"type\": \"bar\"}], \"name\": \"11\"}, {\"data\": [{\"alignmentgroup\": \"True\", \"hovertemplate\": \"direction=up<br>Local Time (GMT+8)=12<br>floor=%{x}<br>avgWait_weekday=%{y}<extra></extra>\", \"legendgroup\": \"up\", \"marker\": {\"color\": \"#636efa\"}, \"name\": \"up\", \"offsetgroup\": \"up\", \"orientation\": \"v\", \"showlegend\": true, \"textposition\": \"auto\", \"x\": [\"B4\", \"B3\", \"B1\", \"14\", \"13\", \"12\", \"11\", \"10\", \"9\", \"8\", \"7\", \"6\", \"5\", \"4\", \"3\", \"2\", \"1\"], \"xaxis\": \"x\", \"y\": [48.67666667, 27.95846847, 33.96481203, 76.56933333, 82.04, 55.82, 47.2825, 55.22916667, 48.34892857, 46.87555556, 69.27978723, 76.69696429, 10.46121622, 9.921585366, 8.93733945, 9.733170732, 13.91057692], \"yaxis\": \"y\", \"type\": \"bar\"}, {\"alignmentgroup\": \"True\", \"hovertemplate\": \"direction=down<br>Local Time (GMT+8)=12<br>floor=%{x}<br>avgWait_weekday=%{y}<extra></extra>\", \"legendgroup\": \"down\", \"marker\": {\"color\": \"#EF553B\"}, \"name\": \"down\", \"offsetgroup\": \"down\", \"orientation\": \"v\", \"showlegend\": true, \"textposition\": \"auto\", \"x\": [\"B3\", \"B1\", \"15\", \"14\", \"13\", \"12\", \"11\", \"10\", \"9\", \"8\", \"7\", \"6\", \"5\", \"4\", \"3\", \"2\", \"1\"], \"xaxis\": \"x2\", \"y\": [22.92956522, 23.603387100000003, 81.15102703, 56.40991525, 33.63287709, 17.24123596, 12.78285256, 10.90515152, 11.94447712, 11.61687307, 10.85493671, 10.28398496, 61.51339535, 36.59184874, 26.69846847, 16.03861111, 23.26264045], \"yaxis\": \"y2\", \"type\": \"bar\"}], \"name\": \"12\"}, {\"data\": [{\"alignmentgroup\": \"True\", \"hovertemplate\": \"direction=up<br>Local Time (GMT+8)=13<br>floor=%{x}<br>avgWait_weekday=%{y}<extra></extra>\", \"legendgroup\": \"up\", \"marker\": {\"color\": \"#636efa\"}, \"name\": \"up\", \"offsetgroup\": \"up\", \"orientation\": \"v\", \"showlegend\": true, \"textposition\": \"auto\", \"x\": [\"B4\", \"B3\", \"B1\", \"14\", \"13\", \"12\", \"11\", \"10\", \"9\", \"8\", \"7\", \"6\", \"5\", \"4\", \"3\", \"2\", \"1\"], \"xaxis\": \"x\", \"y\": [43.59296296, 22.53537634, 27.07171598, 95.06, 45.36952381, 61.32857143, 40.21210526, 45.257, 51.2504, 60.61282051, 67.79828947, 90.40340909, 15.13309859, 11.06293651, 10.42054054, 10.30325301, 16.05842466], \"yaxis\": \"y\", \"type\": \"bar\"}, {\"alignmentgroup\": \"True\", \"hovertemplate\": \"direction=down<br>Local Time (GMT+8)=13<br>floor=%{x}<br>avgWait_weekday=%{y}<extra></extra>\", \"legendgroup\": \"down\", \"marker\": {\"color\": \"#EF553B\"}, \"name\": \"down\", \"offsetgroup\": \"down\", \"orientation\": \"v\", \"showlegend\": true, \"textposition\": \"auto\", \"x\": [\"B3\", \"B1\", \"15\", \"14\", \"13\", \"12\", \"11\", \"10\", \"9\", \"8\", \"7\", \"6\", \"5\", \"4\", \"3\", \"2\", \"1\"], \"xaxis\": \"x2\", \"y\": [18.629, 25.245530300000002, 79.45678322, 66.39167183, 28.48062893, 19.80119318, 12.92865031, 13.70944882, 13.24744027, 12.00620178, 11.03775244, 10.28178988, 49.22449761, 33.61414201, 24.60463918, 12.88857143, 19.14601124], \"yaxis\": \"y2\", \"type\": \"bar\"}], \"name\": \"13\"}, {\"data\": [{\"alignmentgroup\": \"True\", \"hovertemplate\": \"direction=up<br>Local Time (GMT+8)=17<br>floor=%{x}<br>avgWait_weekday=%{y}<extra></extra>\", \"legendgroup\": \"up\", \"marker\": {\"color\": \"#636efa\"}, \"name\": \"up\", \"offsetgroup\": \"up\", \"orientation\": \"v\", \"showlegend\": true, \"textposition\": \"auto\", \"x\": [\"B4\", \"B3\", \"B1\", \"14\", \"13\", \"12\", \"11\", \"10\", \"9\", \"8\", \"7\", \"6\", \"5\", \"4\", \"3\", \"2\", \"1\"], \"xaxis\": \"x\", \"y\": [40.27939394, 19.60731343, 34.59875686, 124.52083329999999, 60.67411765, 41.29777778, 53.33571429, 45.53444444, 59.38368421, 53.22464286, 62.91493151, 73.70109091, 11.9778481, 13.79443299, 8.746666667000001, 8.954736842, 16.13431005], \"yaxis\": \"y\", \"type\": \"bar\"}, {\"alignmentgroup\": \"True\", \"hovertemplate\": \"direction=down<br>Local Time (GMT+8)=17<br>floor=%{x}<br>avgWait_weekday=%{y}<extra></extra>\", \"legendgroup\": \"down\", \"marker\": {\"color\": \"#EF553B\"}, \"name\": \"down\", \"offsetgroup\": \"down\", \"orientation\": \"v\", \"showlegend\": true, \"textposition\": \"auto\", \"x\": [\"B3\", \"B1\", \"15\", \"14\", \"13\", \"12\", \"11\", \"10\", \"9\", \"8\", \"7\", \"6\", \"5\", \"4\", \"3\", \"2\", \"1\"], \"xaxis\": \"x2\", \"y\": [33.78166667, 28.58122642, 73.46947115, 57.89131105, 32.54225974, 14.60273657, 13.7068595, 11.09888268, 10.88948787, 10.04880556, 9.857471591, 10.21281046, 65.00578313, 31.46842697, 28.5430131, 22.18, 26.29304636], \"yaxis\": \"y2\", \"type\": \"bar\"}], \"name\": \"17\"}, {\"data\": [{\"alignmentgroup\": \"True\", \"hovertemplate\": \"direction=up<br>Local Time (GMT+8)=15<br>floor=%{x}<br>avgWait_weekday=%{y}<extra></extra>\", \"legendgroup\": \"up\", \"marker\": {\"color\": \"#636efa\"}, \"name\": \"up\", \"offsetgroup\": \"up\", \"orientation\": \"v\", \"showlegend\": true, \"textposition\": \"auto\", \"x\": [\"B4\", \"B3\", \"B1\", \"14\", \"13\", \"12\", \"11\", \"10\", \"9\", \"8\", \"7\", \"6\", \"5\", \"4\", \"3\", \"2\", \"1\"], \"xaxis\": \"x\", \"y\": [35.87952381, 16.150990099999998, 29.27938215, 73.85333333, 28.94066667, 27.82363636, 38.58833333, 54.275, 42.28744681, 51.44793651, 63.75333333, 93.01814286, 16.38195122, 12.71112903, 8.592913907, 8.529647059, 18.92326599], \"yaxis\": \"y\", \"type\": \"bar\"}, {\"alignmentgroup\": \"True\", \"hovertemplate\": \"direction=down<br>Local Time (GMT+8)=15<br>floor=%{x}<br>avgWait_weekday=%{y}<extra></extra>\", \"legendgroup\": \"down\", \"marker\": {\"color\": \"#EF553B\"}, \"name\": \"down\", \"offsetgroup\": \"down\", \"orientation\": \"v\", \"showlegend\": true, \"textposition\": \"auto\", \"x\": [\"B3\", \"B1\", \"15\", \"14\", \"13\", \"12\", \"11\", \"10\", \"9\", \"8\", \"7\", \"6\", \"5\", \"4\", \"3\", \"2\", \"1\"], \"xaxis\": \"x2\", \"y\": [21.84884615, 20.39195122, 77.34607595, 60.21380952, 26.75651316, 19.24252427, 15.20768116, 11.80709877, 12.02182724, 10.39535484, 11.35462295, 9.753493151, 57.33867299, 30.35223776, 22.53346008, 17.3526087, 15.65359116], \"yaxis\": \"y2\", \"type\": \"bar\"}], \"name\": \"15\"}, {\"data\": [{\"alignmentgroup\": \"True\", \"hovertemplate\": \"direction=up<br>Local Time (GMT+8)=16<br>floor=%{x}<br>avgWait_weekday=%{y}<extra></extra>\", \"legendgroup\": \"up\", \"marker\": {\"color\": \"#636efa\"}, \"name\": \"up\", \"offsetgroup\": \"up\", \"orientation\": \"v\", \"showlegend\": true, \"textposition\": \"auto\", \"x\": [\"B4\", \"B3\", \"B1\", \"14\", \"13\", \"12\", \"11\", \"10\", \"9\", \"8\", \"7\", \"6\", \"5\", \"4\", \"3\", \"2\", \"1\"], \"xaxis\": \"x\", \"y\": [34.2713834, 19.57567568, 30.23877944, 108.57333329999999, 33.88583333, 47.16095238, 46.68058824, 49.30206897, 48.39352941, 53.43063492, 78.83933333, 59.93780822, 11.602020199999998, 10.8988806, 9.288062016, 9.034526316000001, 16.250402800000003], \"yaxis\": \"y\", \"type\": \"bar\"}, {\"alignmentgroup\": \"True\", \"hovertemplate\": \"direction=down<br>Local Time (GMT+8)=16<br>floor=%{x}<br>avgWait_weekday=%{y}<extra></extra>\", \"legendgroup\": \"down\", \"marker\": {\"color\": \"#EF553B\"}, \"name\": \"down\", \"offsetgroup\": \"down\", \"orientation\": \"v\", \"showlegend\": true, \"textposition\": \"auto\", \"x\": [\"B3\", \"B1\", \"15\", \"14\", \"13\", \"12\", \"11\", \"10\", \"9\", \"8\", \"7\", \"6\", \"5\", \"4\", \"3\", \"2\", \"1\"], \"xaxis\": \"x2\", \"y\": [18.58392857, 17.15445378, 74.27364583, 60.32532353, 28.74621849, 18.953, 13.86175896, 11.22534722, 13.084625, 9.812330623, 10.08903904, 10.07396774, 52.51614458, 30.14191882, 17.24274262, 15.15591837, 17.46817204], \"yaxis\": \"y2\", \"type\": \"bar\"}], \"name\": \"16\"}, {\"data\": [{\"alignmentgroup\": \"True\", \"hovertemplate\": \"direction=up<br>Local Time (GMT+8)=10<br>floor=%{x}<br>avgWait_weekday=%{y}<extra></extra>\", \"legendgroup\": \"up\", \"marker\": {\"color\": \"#636efa\"}, \"name\": \"up\", \"offsetgroup\": \"up\", \"orientation\": \"v\", \"showlegend\": true, \"textposition\": \"auto\", \"x\": [\"B4\", \"B3\", \"B1\", \"14\", \"13\", \"12\", \"11\", \"10\", \"9\", \"8\", \"7\", \"6\", \"5\", \"4\", \"3\", \"2\", \"1\"], \"xaxis\": \"x\", \"y\": [34.1715859, 20.58682243, 30.99402844, 120.40571429999999, 50.19272727, 37.64633333, 22.76692308, 45.78551724, 65.78346154, 54.761, 53.16671642, 77.38109589, 12.52386667, 11.18900901, 8.485703125, 7.748055556000001, 17.82118068], \"yaxis\": \"y\", \"type\": \"bar\"}, {\"alignmentgroup\": \"True\", \"hovertemplate\": \"direction=down<br>Local Time (GMT+8)=10<br>floor=%{x}<br>avgWait_weekday=%{y}<extra></extra>\", \"legendgroup\": \"down\", \"marker\": {\"color\": \"#EF553B\"}, \"name\": \"down\", \"offsetgroup\": \"down\", \"orientation\": \"v\", \"showlegend\": true, \"textposition\": \"auto\", \"x\": [\"B3\", \"B1\", \"15\", \"14\", \"13\", \"12\", \"11\", \"10\", \"9\", \"8\", \"7\", \"6\", \"5\", \"4\", \"3\", \"2\", \"1\"], \"xaxis\": \"x2\", \"y\": [25.10037037, 24.15363636, 78.43833333, 61.85969492, 28.24836237, 16.43317518, 15.36433447, 11.08622378, 11.77430556, 11.67217105, 10.69985965, 11.6958125, 46.76795652, 25.95120482, 24.427106600000002, 21.78979167, 21.17461538], \"yaxis\": \"y2\", \"type\": \"bar\"}], \"name\": \"10\"}, {\"data\": [{\"alignmentgroup\": \"True\", \"hovertemplate\": \"direction=up<br>Local Time (GMT+8)=14<br>floor=%{x}<br>avgWait_weekday=%{y}<extra></extra>\", \"legendgroup\": \"up\", \"marker\": {\"color\": \"#636efa\"}, \"name\": \"up\", \"offsetgroup\": \"up\", \"orientation\": \"v\", \"showlegend\": true, \"textposition\": \"auto\", \"x\": [\"B4\", \"B3\", \"B1\", \"14\", \"13\", \"12\", \"11\", \"10\", \"9\", \"8\", \"7\", \"6\", \"5\", \"4\", \"3\", \"2\", \"1\"], \"xaxis\": \"x\", \"y\": [32.46376984, 21.90603774, 29.7032636, 105.20333329999998, 71.12, 34.89782609, 38.48875, 97.97, 43.582, 62.34644068, 66.76563636, 78.14044444, 11.3401, 10.4108125, 9.024102564, 11.9871875, 15.71495741], \"yaxis\": \"y\", \"type\": \"bar\"}, {\"alignmentgroup\": \"True\", \"hovertemplate\": \"direction=down<br>Local Time (GMT+8)=14<br>floor=%{x}<br>avgWait_weekday=%{y}<extra></extra>\", \"legendgroup\": \"down\", \"marker\": {\"color\": \"#EF553B\"}, \"name\": \"down\", \"offsetgroup\": \"down\", \"orientation\": \"v\", \"showlegend\": true, \"textposition\": \"auto\", \"x\": [\"B3\", \"B1\", \"15\", \"14\", \"13\", \"12\", \"11\", \"10\", \"9\", \"8\", \"7\", \"6\", \"5\", \"4\", \"3\", \"2\", \"1\"], \"xaxis\": \"x2\", \"y\": [23.7655, 22.07666667, 74.46777778, 66.90239344, 26.33547855, 18.28167192, 15.08414894, 10.91760274, 13.49208754, 12.00324759, 11.86885246, 10.73014085, 51.60777293, 36.83219409, 20.95643836, 20.1525641, 18.83859649], \"yaxis\": \"y2\", \"type\": \"bar\"}], \"name\": \"14\"}, {\"data\": [{\"alignmentgroup\": \"True\", \"hovertemplate\": \"direction=up<br>Local Time (GMT+8)=7<br>floor=%{x}<br>avgWait_weekday=%{y}<extra></extra>\", \"legendgroup\": \"up\", \"marker\": {\"color\": \"#636efa\"}, \"name\": \"up\", \"offsetgroup\": \"up\", \"orientation\": \"v\", \"showlegend\": true, \"textposition\": \"auto\", \"x\": [\"B4\", \"B3\", \"B1\", \"14\", \"13\", \"12\", \"11\", \"10\", \"9\", \"8\", \"7\", \"6\", \"5\", \"4\", \"3\", \"2\", \"1\"], \"xaxis\": \"x\", \"y\": [32.40641791, 19.91534392, 26.18236715, 53.299, 38.72545455, 41.51333333, 56.35153846, 62.675, 39.35578947, 36.41380952, 50.69862069, 70.99287671, 11.04069767, 9.6775, 10.25445946, 9.3255, 15.20316147], \"yaxis\": \"y\", \"type\": \"bar\"}, {\"alignmentgroup\": \"True\", \"hovertemplate\": \"direction=down<br>Local Time (GMT+8)=7<br>floor=%{x}<br>avgWait_weekday=%{y}<extra></extra>\", \"legendgroup\": \"down\", \"marker\": {\"color\": \"#EF553B\"}, \"name\": \"down\", \"offsetgroup\": \"down\", \"orientation\": \"v\", \"showlegend\": true, \"textposition\": \"auto\", \"x\": [\"B3\", \"B1\", \"15\", \"14\", \"13\", \"12\", \"11\", \"10\", \"9\", \"8\", \"7\", \"6\", \"5\", \"4\", \"3\", \"2\", \"1\"], \"xaxis\": \"x2\", \"y\": [22.58, 28.96854839, 50.59324324, 46.19707865, 27.63387454, 22.22938628, 17.44232975, 16.54090909, 16.08915612, 16.35487365, 14.52095618, 13.49898785, 49.36166667, 39.18066667, 40.87908333, 40.92571429, 29.77925926], \"yaxis\": \"y2\", \"type\": \"bar\"}], \"name\": \"7\"}, {\"data\": [{\"alignmentgroup\": \"True\", \"hovertemplate\": \"direction=up<br>Local Time (GMT+8)=18<br>floor=%{x}<br>avgWait_weekday=%{y}<extra></extra>\", \"legendgroup\": \"up\", \"marker\": {\"color\": \"#636efa\"}, \"name\": \"up\", \"offsetgroup\": \"up\", \"orientation\": \"v\", \"showlegend\": true, \"textposition\": \"auto\", \"x\": [\"B4\", \"B3\", \"B1\", \"14\", \"13\", \"12\", \"11\", \"10\", \"9\", \"8\", \"7\", \"6\", \"5\", \"4\", \"3\", \"2\", \"1\"], \"xaxis\": \"x\", \"y\": [31.82266667, 20.53404762, 44.52363636, 74.54666667, 55.132, 41.685, 60.48166667, 76.123, 52.2526087, 47.1832, 62.71285714, 60.66258065, 12.2825, 11.9116, 9.255833333, 11.92863636, 19.72394984], \"yaxis\": \"y\", \"type\": \"bar\"}, {\"alignmentgroup\": \"True\", \"hovertemplate\": \"direction=down<br>Local Time (GMT+8)=18<br>floor=%{x}<br>avgWait_weekday=%{y}<extra></extra>\", \"legendgroup\": \"down\", \"marker\": {\"color\": \"#EF553B\"}, \"name\": \"down\", \"offsetgroup\": \"down\", \"orientation\": \"v\", \"showlegend\": true, \"textposition\": \"auto\", \"x\": [\"B3\", \"B1\", \"15\", \"14\", \"13\", \"12\", \"11\", \"10\", \"9\", \"8\", \"7\", \"6\", \"5\", \"4\", \"3\", \"2\", \"1\"], \"xaxis\": \"x2\", \"y\": [25.26, 29.318, 56.42613861, 67.28525907, 24.5861828, 16.32425743, 13.27431635, 13.21192308, 11.50292308, 12.13253133, 10.70521053, 10.31134286, 53.88534884, 31.68122137, 34.06288991, 15.43884615, 25.62904412], \"yaxis\": \"y2\", \"type\": \"bar\"}], \"name\": \"18\"}, {\"data\": [{\"alignmentgroup\": \"True\", \"hovertemplate\": \"direction=up<br>Local Time (GMT+8)=9<br>floor=%{x}<br>avgWait_weekday=%{y}<extra></extra>\", \"legendgroup\": \"up\", \"marker\": {\"color\": \"#636efa\"}, \"name\": \"up\", \"offsetgroup\": \"up\", \"orientation\": \"v\", \"showlegend\": true, \"textposition\": \"auto\", \"x\": [\"B4\", \"B3\", \"B1\", \"14\", \"13\", \"12\", \"11\", \"10\", \"9\", \"8\", \"7\", \"6\", \"5\", \"4\", \"3\", \"2\", \"1\"], \"xaxis\": \"x\", \"y\": [31.82159624, 18.43597015, 26.97566462, 82.90636364, 65.93875, 39.74538462, 48.53125, 81.76333333, 72.303, 67.49621622, 71.21574074, 70.92916667, 11.32155844, 10.19552632, 8.491111111, 7.71592233, 17.62986003], \"yaxis\": \"y\", \"type\": \"bar\"}, {\"alignmentgroup\": \"True\", \"hovertemplate\": \"direction=down<br>Local Time (GMT+8)=9<br>floor=%{x}<br>avgWait_weekday=%{y}<extra></extra>\", \"legendgroup\": \"down\", \"marker\": {\"color\": \"#EF553B\"}, \"name\": \"down\", \"offsetgroup\": \"down\", \"orientation\": \"v\", \"showlegend\": true, \"textposition\": \"auto\", \"x\": [\"B3\", \"B1\", \"15\", \"14\", \"13\", \"12\", \"11\", \"10\", \"9\", \"8\", \"7\", \"6\", \"5\", \"4\", \"3\", \"2\", \"1\"], \"xaxis\": \"x2\", \"y\": [42.51071429, 21.0788764, 80.90065789, 57.86033639, 27.16094801, 19.07154639, 14.76299003, 12.38146341, 12.49076412, 13.15844156, 11.95281588, 10.98630225, 52.18089744, 28.46373494, 26.02320442, 23.15211538, 18.17184713], \"yaxis\": \"y2\", \"type\": \"bar\"}], \"name\": \"9\"}, {\"data\": [{\"alignmentgroup\": \"True\", \"hovertemplate\": \"direction=up<br>Local Time (GMT+8)=8<br>floor=%{x}<br>avgWait_weekday=%{y}<extra></extra>\", \"legendgroup\": \"up\", \"marker\": {\"color\": \"#636efa\"}, \"name\": \"up\", \"offsetgroup\": \"up\", \"orientation\": \"v\", \"showlegend\": true, \"textposition\": \"auto\", \"x\": [\"B4\", \"B3\", \"B1\", \"14\", \"13\", \"12\", \"11\", \"10\", \"9\", \"8\", \"7\", \"6\", \"5\", \"4\", \"3\", \"2\", \"1\"], \"xaxis\": \"x\", \"y\": [30.08351779, 20.17243243, 28.25829181, 63.59923077, 51.92125, 56.79, 87.75, 50.64428571, 56.09391304, 72.46166667, 64.17617647, 59.75162791, 15.21020408, 10.54633333, 9.7625, 7.512280702000001, 17.15813154], \"yaxis\": \"y\", \"type\": \"bar\"}, {\"alignmentgroup\": \"True\", \"hovertemplate\": \"direction=down<br>Local Time (GMT+8)=8<br>floor=%{x}<br>avgWait_weekday=%{y}<extra></extra>\", \"legendgroup\": \"down\", \"marker\": {\"color\": \"#EF553B\"}, \"name\": \"down\", \"offsetgroup\": \"down\", \"orientation\": \"v\", \"showlegend\": true, \"textposition\": \"auto\", \"x\": [\"B3\", \"B1\", \"15\", \"14\", \"13\", \"12\", \"11\", \"10\", \"9\", \"8\", \"7\", \"6\", \"5\", \"4\", \"3\", \"2\", \"1\"], \"xaxis\": \"x2\", \"y\": [30.31272727, 25.05783133, 54.88721311, 55.02916968, 25.12909375, 20.93503425, 15.76152905, 12.82487805, 14.61520548, 13.11241983, 12.50026217, 11.53106452, 46.58642857, 43.94679348, 30.4559375, 18.58304348, 21.91177083], \"yaxis\": \"y2\", \"type\": \"bar\"}], \"name\": \"8\"}, {\"data\": [{\"alignmentgroup\": \"True\", \"hovertemplate\": \"direction=up<br>Local Time (GMT+8)=23<br>floor=%{x}<br>avgWait_weekday=%{y}<extra></extra>\", \"legendgroup\": \"up\", \"marker\": {\"color\": \"#636efa\"}, \"name\": \"up\", \"offsetgroup\": \"up\", \"orientation\": \"v\", \"showlegend\": true, \"textposition\": \"auto\", \"x\": [\"B4\", \"B3\", \"B1\", \"14\", \"13\", \"12\", \"11\", \"9\", \"8\", \"7\", \"6\", \"5\", \"4\", \"3\", \"2\", \"1\"], \"xaxis\": \"x\", \"y\": [27.55888889, 16.64, 15.38538012, 22.23, 23.56, 14.852, 20.0475, 9.16, 47.77, 14.40571429, 25.69583333, 10.61533333, 12.130999999999998, 15.90363636, 5.07, 13.12219365], \"yaxis\": \"y\", \"type\": \"bar\"}, {\"alignmentgroup\": \"True\", \"hovertemplate\": \"direction=down<br>Local Time (GMT+8)=23<br>floor=%{x}<br>avgWait_weekday=%{y}<extra></extra>\", \"legendgroup\": \"down\", \"marker\": {\"color\": \"#EF553B\"}, \"name\": \"down\", \"offsetgroup\": \"down\", \"orientation\": \"v\", \"showlegend\": true, \"textposition\": \"auto\", \"x\": [\"B1\", \"15\", \"14\", \"13\", \"12\", \"11\", \"10\", \"9\", \"8\", \"7\", \"6\", \"5\", \"4\", \"3\", \"2\", \"1\"], \"xaxis\": \"x2\", \"y\": [8.802222222000001, 24.7204, 22.18972603, 14.45054795, 16.21826087, 17.79866667, 14.46, 18.21734694, 17.28546667, 16.98634409, 13.28316456, 15.67484848, 16.65081967, 16.71956522, 10.93, 12.58394737], \"yaxis\": \"y2\", \"type\": \"bar\"}], \"name\": \"23\"}, {\"data\": [{\"alignmentgroup\": \"True\", \"hovertemplate\": \"direction=up<br>Local Time (GMT+8)=19<br>floor=%{x}<br>avgWait_weekday=%{y}<extra></extra>\", \"legendgroup\": \"up\", \"marker\": {\"color\": \"#636efa\"}, \"name\": \"up\", \"offsetgroup\": \"up\", \"orientation\": \"v\", \"showlegend\": true, \"textposition\": \"auto\", \"x\": [\"B4\", \"B3\", \"B1\", \"14\", \"13\", \"12\", \"11\", \"10\", \"9\", \"8\", \"7\", \"6\", \"5\", \"4\", \"3\", \"2\", \"1\"], \"xaxis\": \"x\", \"y\": [26.47895833, 34.61463415, 43.256319700000006, 59.45, 39.76384615, 42.47083333, 37.16888889, 59.80529412, 99.1375, 69.84, 44.98175, 66.19464286, 13.52134328, 9.3834375, 10.51176471, 131.0957143, 20.63797768], \"yaxis\": \"y\", \"type\": \"bar\"}, {\"alignmentgroup\": \"True\", \"hovertemplate\": \"direction=down<br>Local Time (GMT+8)=19<br>floor=%{x}<br>avgWait_weekday=%{y}<extra></extra>\", \"legendgroup\": \"down\", \"marker\": {\"color\": \"#EF553B\"}, \"name\": \"down\", \"offsetgroup\": \"down\", \"orientation\": \"v\", \"showlegend\": true, \"textposition\": \"auto\", \"x\": [\"B3\", \"B1\", \"15\", \"14\", \"13\", \"12\", \"11\", \"10\", \"9\", \"8\", \"7\", \"6\", \"5\", \"4\", \"3\", \"2\", \"1\"], \"xaxis\": \"x2\", \"y\": [56.8, 28.00276923, 52.25733333, 60.64501312, 24.89744745, 18.14810726, 16.04068323, 9.386145832999999, 13.03622478, 13.9447185, 13.18874693, 12.14096096, 57.86894737, 39.91878788, 38.44122995, 22.726875, 28.37666667], \"yaxis\": \"y2\", \"type\": \"bar\"}], \"name\": \"19\"}, {\"data\": [{\"alignmentgroup\": \"True\", \"hovertemplate\": \"direction=up<br>Local Time (GMT+8)=6<br>floor=%{x}<br>avgWait_weekday=%{y}<extra></extra>\", \"legendgroup\": \"up\", \"marker\": {\"color\": \"#636efa\"}, \"name\": \"up\", \"offsetgroup\": \"up\", \"orientation\": \"v\", \"showlegend\": true, \"textposition\": \"auto\", \"x\": [\"B4\", \"B3\", \"B1\", \"14\", \"13\", \"12\", \"11\", \"10\", \"9\", \"8\", \"7\", \"6\", \"5\", \"4\", \"3\", \"2\", \"1\"], \"xaxis\": \"x\", \"y\": [24.82973333, 13.83535714, 19.47764706, 38.9175, 32.80071429, 45.04428571, 50.43666667, 56.13, 28.95, 36.99, 7.438, 38.51806452, 12.27466667, 12.51214286, 13.77857143, 18.34, 17.36362963], \"yaxis\": \"y\", \"type\": \"bar\"}, {\"alignmentgroup\": \"True\", \"hovertemplate\": \"direction=down<br>Local Time (GMT+8)=6<br>floor=%{x}<br>avgWait_weekday=%{y}<extra></extra>\", \"legendgroup\": \"down\", \"marker\": {\"color\": \"#EF553B\"}, \"name\": \"down\", \"offsetgroup\": \"down\", \"orientation\": \"v\", \"showlegend\": true, \"textposition\": \"auto\", \"x\": [\"B3\", \"B1\", \"15\", \"14\", \"13\", \"12\", \"11\", \"9\", \"8\", \"7\", \"6\", \"5\", \"4\", \"3\", \"2\", \"1\"], \"xaxis\": \"x2\", \"y\": [11.72, 31.29852941, 30.40777778, 32.30084507, 20.12730994, 22.43213675, 20.06993548, 16.45621359, 18.77839744, 15.8811413, 14.2208867, 27.56820513, 22.40166667, 27.038556699999997, 29.24666667, 14.37653061], \"yaxis\": \"y2\", \"type\": \"bar\"}], \"name\": \"6\"}, {\"data\": [{\"alignmentgroup\": \"True\", \"hovertemplate\": \"direction=up<br>Local Time (GMT+8)=3<br>floor=%{x}<br>avgWait_weekday=%{y}<extra></extra>\", \"legendgroup\": \"up\", \"marker\": {\"color\": \"#636efa\"}, \"name\": \"up\", \"offsetgroup\": \"up\", \"orientation\": \"v\", \"showlegend\": true, \"textposition\": \"auto\", \"x\": [\"B4\", \"B1\", \"14\", \"12\", \"11\", \"9\", \"7\", \"6\", \"5\", \"4\", \"3\", \"2\", \"1\"], \"xaxis\": \"x\", \"y\": [21.478, 9.102142857, 15.48, 12.55, 17.43, 11.01, 9.38, 0.725, 10.37, 15.93, 14.2075, 28.1125, 7.836052632], \"yaxis\": \"y\", \"type\": \"bar\"}, {\"alignmentgroup\": \"True\", \"hovertemplate\": \"direction=down<br>Local Time (GMT+8)=3<br>floor=%{x}<br>avgWait_weekday=%{y}<extra></extra>\", \"legendgroup\": \"down\", \"marker\": {\"color\": \"#EF553B\"}, \"name\": \"down\", \"offsetgroup\": \"down\", \"orientation\": \"v\", \"showlegend\": true, \"textposition\": \"auto\", \"x\": [\"B1\", \"15\", \"14\", \"13\", \"12\", \"11\", \"10\", \"9\", \"8\", \"7\", \"6\", \"5\", \"4\", \"3\", \"2\", \"1\"], \"xaxis\": \"x2\", \"y\": [1.21, 11.755, 18.72785714, 16.22555556, 18.740625, 19.49666667, 14.29666667, 22.82714286, 12.85333333, 15.74322581, 12.49294118, 18.31384615, 13.45, 14.417, 16.85, 7.19], \"yaxis\": \"y2\", \"type\": \"bar\"}], \"name\": \"3\"}, {\"data\": [{\"alignmentgroup\": \"True\", \"hovertemplate\": \"direction=up<br>Local Time (GMT+8)=20<br>floor=%{x}<br>avgWait_weekday=%{y}<extra></extra>\", \"legendgroup\": \"up\", \"marker\": {\"color\": \"#636efa\"}, \"name\": \"up\", \"offsetgroup\": \"up\", \"orientation\": \"v\", \"showlegend\": true, \"textposition\": \"auto\", \"x\": [\"B4\", \"B3\", \"B1\", \"14\", \"13\", \"12\", \"11\", \"10\", \"9\", \"8\", \"7\", \"6\", \"5\", \"4\", \"3\", \"2\", \"1\"], \"xaxis\": \"x\", \"y\": [21.43890625, 29.92285714, 25.63469043, 35.056, 56.98285714, 67.63416667, 23.39555556, 60.94333333, 42.305625, 46.16555556, 36.3368, 40.463125, 11.45095238, 13.25789474, 13.06090909, 10.97, 22.67554273], \"yaxis\": \"y\", \"type\": \"bar\"}, {\"alignmentgroup\": \"True\", \"hovertemplate\": \"direction=down<br>Local Time (GMT+8)=20<br>floor=%{x}<br>avgWait_weekday=%{y}<extra></extra>\", \"legendgroup\": \"down\", \"marker\": {\"color\": \"#EF553B\"}, \"name\": \"down\", \"offsetgroup\": \"down\", \"orientation\": \"v\", \"showlegend\": true, \"textposition\": \"auto\", \"x\": [\"B1\", \"15\", \"14\", \"13\", \"12\", \"11\", \"10\", \"9\", \"8\", \"7\", \"6\", \"5\", \"4\", \"3\", \"2\", \"1\"], \"xaxis\": \"x2\", \"y\": [22.27, 43.96684211, 45.709587299999995, 19.91897059, 18.57537931, 16.37824324, 12.11272727, 15.55846939, 14.59897297, 13.93146154, 12.32697248, 39.05545455, 32.17528024, 23.34587189, 18.655, 17.94917808], \"yaxis\": \"y2\", \"type\": \"bar\"}], \"name\": \"20\"}, {\"data\": [{\"alignmentgroup\": \"True\", \"hovertemplate\": \"direction=up<br>Local Time (GMT+8)=21<br>floor=%{x}<br>avgWait_weekday=%{y}<extra></extra>\", \"legendgroup\": \"up\", \"marker\": {\"color\": \"#636efa\"}, \"name\": \"up\", \"offsetgroup\": \"up\", \"orientation\": \"v\", \"showlegend\": true, \"textposition\": \"auto\", \"x\": [\"B4\", \"B3\", \"B1\", \"14\", \"13\", \"12\", \"11\", \"10\", \"9\", \"8\", \"7\", \"6\", \"5\", \"4\", \"3\", \"2\", \"1\"], \"xaxis\": \"x\", \"y\": [21.42745455, 20.07733333, 18.96095679, 38.55538462, 21.35, 40.165, 41.934, 20.885, 27.555, 37.94583333, 31.70882353, 37.91666667, 17.1845098, 13.36208333, 14.72947368, 12.94, 16.72507661], \"yaxis\": \"y\", \"type\": \"bar\"}, {\"alignmentgroup\": \"True\", \"hovertemplate\": \"direction=down<br>Local Time (GMT+8)=21<br>floor=%{x}<br>avgWait_weekday=%{y}<extra></extra>\", \"legendgroup\": \"down\", \"marker\": {\"color\": \"#EF553B\"}, \"name\": \"down\", \"offsetgroup\": \"down\", \"orientation\": \"v\", \"showlegend\": true, \"textposition\": \"auto\", \"x\": [\"B3\", \"B1\", \"15\", \"14\", \"13\", \"12\", \"11\", \"10\", \"9\", \"8\", \"7\", \"6\", \"5\", \"4\", \"3\", \"2\", \"1\"], \"xaxis\": \"x2\", \"y\": [53.66333333, 22.42967742, 36.65133333, 30.37207627, 16.53364486, 14.39316832, 15.38950226, 17.70148148, 14.47578755, 15.139000000000001, 13.91429012, 14.73540541, 27.22987342, 31.37875, 26.66265734, 38.996, 12.11116667], \"yaxis\": \"y2\", \"type\": \"bar\"}], \"name\": \"21\"}, {\"data\": [{\"alignmentgroup\": \"True\", \"hovertemplate\": \"direction=up<br>Local Time (GMT+8)=2<br>floor=%{x}<br>avgWait_weekday=%{y}<extra></extra>\", \"legendgroup\": \"up\", \"marker\": {\"color\": \"#636efa\"}, \"name\": \"up\", \"offsetgroup\": \"up\", \"orientation\": \"v\", \"showlegend\": true, \"textposition\": \"auto\", \"x\": [\"B4\", \"B1\", \"13\", \"9\", \"6\", \"5\", \"4\", \"3\", \"1\"], \"xaxis\": \"x\", \"y\": [20.2575, 6.351818182000001, 18.95, 16.85, 9.34, 18.92666667, 8.19, 2.3416666669999997, 4.861626016000001], \"yaxis\": \"y\", \"type\": \"bar\"}, {\"alignmentgroup\": \"True\", \"hovertemplate\": \"direction=down<br>Local Time (GMT+8)=2<br>floor=%{x}<br>avgWait_weekday=%{y}<extra></extra>\", \"legendgroup\": \"down\", \"marker\": {\"color\": \"#EF553B\"}, \"name\": \"down\", \"offsetgroup\": \"down\", \"orientation\": \"v\", \"showlegend\": true, \"textposition\": \"auto\", \"x\": [\"14\", \"13\", \"12\", \"11\", \"10\", \"9\", \"8\", \"7\", \"6\", \"5\", \"4\", \"3\", \"2\", \"1\"], \"xaxis\": \"x2\", \"y\": [18.91521739, 15.69214286, 16.43, 18.86933333, 18.24, 14.6125, 15.09913043, 16.93836735, 13.85736842, 14.48142857, 12.56923077, 10.28466667, 15.57, 5.94], \"yaxis\": \"y2\", \"type\": \"bar\"}], \"name\": \"2\"}, {\"data\": [{\"alignmentgroup\": \"True\", \"hovertemplate\": \"direction=up<br>Local Time (GMT+8)=5<br>floor=%{x}<br>avgWait_weekday=%{y}<extra></extra>\", \"legendgroup\": \"up\", \"marker\": {\"color\": \"#636efa\"}, \"name\": \"up\", \"offsetgroup\": \"up\", \"orientation\": \"v\", \"showlegend\": true, \"textposition\": \"auto\", \"x\": [\"B4\", \"B3\", \"B1\", \"14\", \"13\", \"12\", \"11\", \"9\", \"8\", \"6\", \"5\", \"4\", \"3\", \"1\"], \"xaxis\": \"x\", \"y\": [14.74583333, 15.06, 7.678333332999999, 28.53, 21.691999999999997, 9.35, 15.34, 16.77, 16.32, 25.07, 14.07, 23.605, 13.12333333, 6.754777327999999], \"yaxis\": \"y\", \"type\": \"bar\"}, {\"alignmentgroup\": \"True\", \"hovertemplate\": \"direction=down<br>Local Time (GMT+8)=5<br>floor=%{x}<br>avgWait_weekday=%{y}<extra></extra>\", \"legendgroup\": \"down\", \"marker\": {\"color\": \"#EF553B\"}, \"name\": \"down\", \"offsetgroup\": \"down\", \"orientation\": \"v\", \"showlegend\": true, \"textposition\": \"auto\", \"x\": [\"15\", \"14\", \"13\", \"12\", \"11\", \"10\", \"9\", \"8\", \"7\", \"6\", \"5\", \"4\", \"3\", \"1\"], \"xaxis\": \"x2\", \"y\": [27.57333333, 20.13511111, 17.36139535, 15.0152459, 15.74191489, 6.766666667000001, 16.51724138, 15.97366667, 14.10964286, 14.44777778, 18.10266667, 12.97428571, 21.28125, 7.288695652], \"yaxis\": \"y2\", \"type\": \"bar\"}], \"name\": \"5\"}, {\"data\": [{\"alignmentgroup\": \"True\", \"hovertemplate\": \"direction=up<br>Local Time (GMT+8)=0<br>floor=%{x}<br>avgWait_weekday=%{y}<extra></extra>\", \"legendgroup\": \"up\", \"marker\": {\"color\": \"#636efa\"}, \"name\": \"up\", \"offsetgroup\": \"up\", \"orientation\": \"v\", \"showlegend\": true, \"textposition\": \"auto\", \"x\": [\"B4\", \"B3\", \"B1\", \"14\", \"13\", \"12\", \"11\", \"9\", \"8\", \"7\", \"6\", \"5\", \"4\", \"3\", \"1\"], \"xaxis\": \"x\", \"y\": [13.54285714, 14.26, 10.28657895, 26.065, 13.355, 21.81333333, 31.22, 35.39, 15.98, 20.34833333, 12.99166667, 19.2875, 26.16833333, 14.54, 5.323305556], \"yaxis\": \"y\", \"type\": \"bar\"}, {\"alignmentgroup\": \"True\", \"hovertemplate\": \"direction=down<br>Local Time (GMT+8)=0<br>floor=%{x}<br>avgWait_weekday=%{y}<extra></extra>\", \"legendgroup\": \"down\", \"marker\": {\"color\": \"#EF553B\"}, \"name\": \"down\", \"offsetgroup\": \"down\", \"orientation\": \"v\", \"showlegend\": true, \"textposition\": \"auto\", \"x\": [\"B1\", \"15\", \"14\", \"13\", \"12\", \"11\", \"10\", \"9\", \"8\", \"7\", \"6\", \"5\", \"4\", \"3\", \"2\", \"1\"], \"xaxis\": \"x2\", \"y\": [11.775, 24.1675, 25.31118644, 19.11021739, 17.05585366, 15.82484375, 9.605714286, 17.36852941, 16.39051471, 13.27657143, 14.81029412, 15.17296296, 16.95535135, 12.85083333, 45.35, 9.858181818], \"yaxis\": \"y2\", \"type\": \"bar\"}], \"name\": \"0\"}, {\"data\": [{\"alignmentgroup\": \"True\", \"hovertemplate\": \"direction=up<br>Local Time (GMT+8)=22<br>floor=%{x}<br>avgWait_weekday=%{y}<extra></extra>\", \"legendgroup\": \"up\", \"marker\": {\"color\": \"#636efa\"}, \"name\": \"up\", \"offsetgroup\": \"up\", \"orientation\": \"v\", \"showlegend\": true, \"textposition\": \"auto\", \"x\": [\"B4\", \"B3\", \"B1\", \"14\", \"13\", \"12\", \"11\", \"10\", \"9\", \"8\", \"7\", \"6\", \"5\", \"4\", \"3\", \"1\"], \"xaxis\": \"x\", \"y\": [12.7225, 18.15222222, 15.71271186, 24.955, 7.62, 13.06857143, 23.47166667, 6.696666667000001, 18.9725, 16.97, 20.70625, 22.471999999999998, 11.75461538, 14.94071429, 12.28380952, 12.02808889], \"yaxis\": \"y\", \"type\": \"bar\"}, {\"alignmentgroup\": \"True\", \"hovertemplate\": \"direction=down<br>Local Time (GMT+8)=22<br>floor=%{x}<br>avgWait_weekday=%{y}<extra></extra>\", \"legendgroup\": \"down\", \"marker\": {\"color\": \"#EF553B\"}, \"name\": \"down\", \"offsetgroup\": \"down\", \"orientation\": \"v\", \"showlegend\": true, \"textposition\": \"auto\", \"x\": [\"B3\", \"B1\", \"15\", \"14\", \"13\", \"12\", \"11\", \"10\", \"9\", \"8\", \"7\", \"6\", \"5\", \"4\", \"3\", \"2\", \"1\"], \"xaxis\": \"x2\", \"y\": [20.1, 14.00636364, 29.85708333, 23.79747368, 18.24455285, 18.96982759, 16.8965035, 13.01421053, 17.52858333, 16.39025, 14.16201149, 13.96805556, 21.75818182, 22.718000000000004, 19.823880600000003, 13.26, 14.43227273], \"yaxis\": \"y2\", \"type\": \"bar\"}], \"name\": \"22\"}, {\"data\": [{\"alignmentgroup\": \"True\", \"hovertemplate\": \"direction=up<br>Local Time (GMT+8)=4<br>floor=%{x}<br>avgWait_weekday=%{y}<extra></extra>\", \"legendgroup\": \"up\", \"marker\": {\"color\": \"#636efa\"}, \"name\": \"up\", \"offsetgroup\": \"up\", \"orientation\": \"v\", \"showlegend\": true, \"textposition\": \"auto\", \"x\": [\"B4\", \"B3\", \"B1\", \"7\", \"6\", \"5\", \"4\", \"3\", \"1\"], \"xaxis\": \"x\", \"y\": [6.17, 13.16, 9.189473684, 14.7925, 9.5, 4.89, 0.43, 12.67, 7.037017543999999], \"yaxis\": \"y\", \"type\": \"bar\"}, {\"alignmentgroup\": \"True\", \"hovertemplate\": \"direction=down<br>Local Time (GMT+8)=4<br>floor=%{x}<br>avgWait_weekday=%{y}<extra></extra>\", \"legendgroup\": \"down\", \"marker\": {\"color\": \"#EF553B\"}, \"name\": \"down\", \"offsetgroup\": \"down\", \"orientation\": \"v\", \"showlegend\": true, \"textposition\": \"auto\", \"x\": [\"14\", \"13\", \"12\", \"11\", \"10\", \"9\", \"8\", \"7\", \"6\", \"5\", \"4\", \"3\", \"2\", \"1\"], \"xaxis\": \"x2\", \"y\": [14.42416667, 16.9595, 17.96111111, 16.97833333, 6.886666667, 15.61222222, 16.33388889, 13.53473684, 16.16086957, 14.34714286, 8.011000000000001, 12.642000000000001, 9.866666667, 5.337777778], \"yaxis\": \"y2\", \"type\": \"bar\"}], \"name\": \"4\"}, {\"data\": [{\"alignmentgroup\": \"True\", \"hovertemplate\": \"direction=up<br>Local Time (GMT+8)=1<br>floor=%{x}<br>avgWait_weekday=%{y}<extra></extra>\", \"legendgroup\": \"up\", \"marker\": {\"color\": \"#636efa\"}, \"name\": \"up\", \"offsetgroup\": \"up\", \"orientation\": \"v\", \"showlegend\": true, \"textposition\": \"auto\", \"x\": [\"B4\", \"B3\", \"B1\", \"14\", \"13\", \"12\", \"9\", \"8\", \"7\", \"6\", \"5\", \"4\", \"3\", \"2\", \"1\"], \"xaxis\": \"x\", \"y\": [3.435, 8.81, 7.592954545, 43.53, 22.285, 10.975, 14.155, 18.1625, 12.7, 10.25, 10.44, 23.63666667, 15.44076923, 10.36, 4.967370892], \"yaxis\": \"y\", \"type\": \"bar\"}, {\"alignmentgroup\": \"True\", \"hovertemplate\": \"direction=down<br>Local Time (GMT+8)=1<br>floor=%{x}<br>avgWait_weekday=%{y}<extra></extra>\", \"legendgroup\": \"down\", \"marker\": {\"color\": \"#EF553B\"}, \"name\": \"down\", \"offsetgroup\": \"down\", \"orientation\": \"v\", \"showlegend\": true, \"textposition\": \"auto\", \"x\": [\"B1\", \"15\", \"14\", \"13\", \"12\", \"11\", \"10\", \"9\", \"8\", \"7\", \"6\", \"5\", \"4\", \"3\", \"2\", \"1\"], \"xaxis\": \"x2\", \"y\": [10.204, 18.51384615, 18.54958904, 12.33333333, 19.85133333, 19.3175, 11.16, 14.52883333, 14.85595238, 13.95048387, 13.84979592, 16.23422222, 15.27857143, 12.85769231, 9.625, 3.704375], \"yaxis\": \"y2\", \"type\": \"bar\"}], \"name\": \"1\"}]);\n",
       "                        }).then(function(){\n",
       "                            \n",
       "var gd = document.getElementById('eb42b949-4a32-4e22-9ead-54642ab5c6d4');\n",
       "var x = new MutationObserver(function (mutations, observer) {{\n",
       "        var display = window.getComputedStyle(gd).display;\n",
       "        if (!display || display === 'none') {{\n",
       "            console.log([gd, 'removed!']);\n",
       "            Plotly.purge(gd);\n",
       "            observer.disconnect();\n",
       "        }}\n",
       "}});\n",
       "\n",
       "// Listen for the removal of the full notebook cells\n",
       "var notebookContainer = gd.closest('#notebook-container');\n",
       "if (notebookContainer) {{\n",
       "    x.observe(notebookContainer, {childList: true});\n",
       "}}\n",
       "\n",
       "// Listen for the clearing of the current output cell\n",
       "var outputEl = gd.closest('.output');\n",
       "if (outputEl) {{\n",
       "    x.observe(outputEl, {childList: true});\n",
       "}}\n",
       "\n",
       "                        })\n",
       "                };\n",
       "                });\n",
       "            </script>\n",
       "        </div>"
      ]
     },
     "metadata": {},
     "output_type": "display_data"
    }
   ],
   "source": [
    "floor_list = ['B4','B3', 'B2','B1','01', '02', '03', '04', '05', '06', '07', '08', '09', '10', '11',\n",
    "       '12', '13', '14', '15']\n",
    "\n",
    "fig = px.bar(data_frame=df_s, \n",
    "             \n",
    "             ## 這裡的data frame都先用 R aggregate過了，以節省運算時間\n",
    "             x = \"floor\", y = \"avgWait_weekday\",\n",
    "             \n",
    "             ## 以方向分兩張圖，並上色\n",
    "             facet_col=\"direction\",color=\"direction\",\n",
    "             \n",
    "             ## 自動生成slider\n",
    "             animation_frame=\"hour\",\n",
    "             \n",
    "             \n",
    "             labels={\"count\":\"avgWait_weekday\",\n",
    "                     \"hour\":\"Local Time (GMT+8)\"})\n",
    "\n",
    "# X axis\n",
    "fig.update_xaxes(nticks=len(floor_list), ##指定breaks的數量\n",
    "                 \n",
    "                 ## 手動將X的類別排序\n",
    "                 type=\"category\",\n",
    "                 categoryarray=floor_list)\n",
    "\n",
    "# Y axis\n",
    "fig.update_yaxes(range=[0, 1000])\n",
    "\n",
    "# Layout\n",
    "fig.update_layout(title_text='Average Waiting Time of Elevator Calls by Floor')\n",
    "\n",
    "fig.show()"
   ]
  },
  {
   "cell_type": "code",
   "execution_count": 11,
   "metadata": {},
   "outputs": [
    {
     "data": {
      "application/vnd.plotly.v1+json": {
       "config": {
        "plotlyServerURL": "https://plot.ly"
       },
       "data": [
        {
         "alignmentgroup": "True",
         "hovertemplate": "direction=up<br>floor=B4<br>Local Time (GMT+8)=%{x}<br>avgWait_weekday=%{y}<extra></extra>",
         "legendgroup": "up",
         "marker": {
          "color": "#636efa"
         },
         "name": "up",
         "offsetgroup": "up",
         "orientation": "v",
         "showlegend": true,
         "textposition": "auto",
         "type": "bar",
         "x": [
          11,
          12,
          13,
          17,
          15,
          16,
          10,
          14,
          7,
          18,
          9,
          8,
          23,
          19,
          6,
          3,
          20,
          21,
          2,
          5,
          0,
          22,
          4,
          1
         ],
         "xaxis": "x",
         "y": [
          49.02057613,
          48.67666667,
          43.59296296,
          40.27939394,
          35.87952381,
          34.2713834,
          34.1715859,
          32.46376984,
          32.40641791,
          31.82266667,
          31.82159624,
          30.08351779,
          27.55888889,
          26.47895833,
          24.82973333,
          21.478,
          21.43890625,
          21.42745455,
          20.2575,
          14.74583333,
          13.54285714,
          12.7225,
          6.17,
          3.435
         ],
         "yaxis": "y"
        }
       ],
       "frames": [
        {
         "data": [
          {
           "alignmentgroup": "True",
           "hovertemplate": "direction=up<br>floor=B4<br>Local Time (GMT+8)=%{x}<br>avgWait_weekday=%{y}<extra></extra>",
           "legendgroup": "up",
           "marker": {
            "color": "#636efa"
           },
           "name": "up",
           "offsetgroup": "up",
           "orientation": "v",
           "showlegend": true,
           "textposition": "auto",
           "type": "bar",
           "x": [
            11,
            12,
            13,
            17,
            15,
            16,
            10,
            14,
            7,
            18,
            9,
            8,
            23,
            19,
            6,
            3,
            20,
            21,
            2,
            5,
            0,
            22,
            4,
            1
           ],
           "xaxis": "x",
           "y": [
            49.02057613,
            48.67666667,
            43.59296296,
            40.27939394,
            35.87952381,
            34.2713834,
            34.1715859,
            32.46376984,
            32.40641791,
            31.82266667,
            31.82159624,
            30.08351779,
            27.55888889,
            26.47895833,
            24.82973333,
            21.478,
            21.43890625,
            21.42745455,
            20.2575,
            14.74583333,
            13.54285714,
            12.7225,
            6.17,
            3.435
           ],
           "yaxis": "y"
          }
         ],
         "name": "B4"
        },
        {
         "data": [
          {
           "alignmentgroup": "True",
           "hovertemplate": "direction=up<br>floor=B3<br>Local Time (GMT+8)=%{x}<br>avgWait_weekday=%{y}<extra></extra>",
           "legendgroup": "up",
           "marker": {
            "color": "#636efa"
           },
           "name": "up",
           "offsetgroup": "up",
           "orientation": "v",
           "showlegend": true,
           "textposition": "auto",
           "type": "bar",
           "x": [
            19,
            20,
            12,
            13,
            14,
            11,
            10,
            18,
            8,
            21,
            7,
            17,
            16,
            9,
            22,
            23,
            15,
            5,
            0,
            6,
            4,
            1
           ],
           "xaxis": "x",
           "y": [
            34.61463415,
            29.92285714,
            27.95846847,
            22.53537634,
            21.90603774,
            21.71535088,
            20.58682243,
            20.53404762,
            20.17243243,
            20.07733333,
            19.91534392,
            19.60731343,
            19.57567568,
            18.43597015,
            18.15222222,
            16.64,
            16.150990099999998,
            15.06,
            14.26,
            13.83535714,
            13.16,
            8.81
           ],
           "yaxis": "y"
          },
          {
           "alignmentgroup": "True",
           "hovertemplate": "direction=down<br>floor=B3<br>Local Time (GMT+8)=%{x}<br>avgWait_weekday=%{y}<extra></extra>",
           "legendgroup": "down",
           "marker": {
            "color": "#EF553B"
           },
           "name": "down",
           "offsetgroup": "down",
           "orientation": "v",
           "showlegend": true,
           "textposition": "auto",
           "type": "bar",
           "x": [
            19,
            21,
            9,
            11,
            17,
            8,
            18,
            10,
            14,
            12,
            7,
            15,
            22,
            13,
            16,
            6
           ],
           "xaxis": "x2",
           "y": [
            56.8,
            53.66333333,
            42.51071429,
            36.19391304,
            33.78166667,
            30.31272727,
            25.26,
            25.10037037,
            23.7655,
            22.92956522,
            22.58,
            21.84884615,
            20.1,
            18.629,
            18.58392857,
            11.72
           ],
           "yaxis": "y2"
          }
         ],
         "name": "B3"
        },
        {
         "data": [
          {
           "alignmentgroup": "True",
           "hovertemplate": "direction=up<br>floor=B1<br>Local Time (GMT+8)=%{x}<br>avgWait_weekday=%{y}<extra></extra>",
           "legendgroup": "up",
           "marker": {
            "color": "#636efa"
           },
           "name": "up",
           "offsetgroup": "up",
           "orientation": "v",
           "showlegend": true,
           "textposition": "auto",
           "type": "bar",
           "x": [
            18,
            19,
            17,
            12,
            10,
            16,
            14,
            15,
            11,
            8,
            13,
            9,
            7,
            20,
            6,
            21,
            22,
            23,
            0,
            4,
            3,
            5,
            1,
            2
           ],
           "xaxis": "x",
           "y": [
            44.52363636,
            43.256319700000006,
            34.59875686,
            33.96481203,
            30.99402844,
            30.23877944,
            29.7032636,
            29.27938215,
            28.9941483,
            28.25829181,
            27.07171598,
            26.97566462,
            26.18236715,
            25.63469043,
            19.47764706,
            18.96095679,
            15.71271186,
            15.38538012,
            10.28657895,
            9.189473684,
            9.102142857,
            7.678333332999999,
            7.592954545,
            6.351818182000001
           ],
           "yaxis": "y"
          },
          {
           "alignmentgroup": "True",
           "hovertemplate": "direction=down<br>floor=B1<br>Local Time (GMT+8)=%{x}<br>avgWait_weekday=%{y}<extra></extra>",
           "legendgroup": "down",
           "marker": {
            "color": "#EF553B"
           },
           "name": "down",
           "offsetgroup": "down",
           "orientation": "v",
           "showlegend": true,
           "textposition": "auto",
           "type": "bar",
           "x": [
            6,
            18,
            7,
            17,
            19,
            11,
            13,
            8,
            10,
            12,
            21,
            20,
            14,
            9,
            15,
            16,
            22,
            0,
            1,
            23,
            3
           ],
           "xaxis": "x2",
           "y": [
            31.29852941,
            29.318,
            28.96854839,
            28.58122642,
            28.00276923,
            25.9253271,
            25.245530300000002,
            25.05783133,
            24.15363636,
            23.603387100000003,
            22.42967742,
            22.27,
            22.07666667,
            21.0788764,
            20.39195122,
            17.15445378,
            14.00636364,
            11.775,
            10.204,
            8.802222222000001,
            1.21
           ],
           "yaxis": "y2"
          }
         ],
         "name": "B1"
        },
        {
         "data": [
          {
           "alignmentgroup": "True",
           "hovertemplate": "direction=down<br>floor=15<br>Local Time (GMT+8)=%{x}<br>avgWait_weekday=%{y}<extra></extra>",
           "legendgroup": "down",
           "marker": {
            "color": "#EF553B"
           },
           "name": "down",
           "offsetgroup": "down",
           "orientation": "v",
           "showlegend": true,
           "textposition": "auto",
           "type": "bar",
           "x": [
            12,
            9,
            13,
            10,
            11,
            15,
            14,
            16,
            17,
            18,
            8,
            19,
            7,
            20,
            21,
            6,
            22,
            5,
            23,
            0,
            1,
            3
           ],
           "xaxis": "x2",
           "y": [
            81.15102703,
            80.90065789,
            79.45678322,
            78.43833333,
            77.81405941,
            77.34607595,
            74.46777778,
            74.27364583,
            73.46947115,
            56.42613861,
            54.88721311,
            52.25733333,
            50.59324324,
            43.96684211,
            36.65133333,
            30.40777778,
            29.85708333,
            27.57333333,
            24.7204,
            24.1675,
            18.51384615,
            11.755
           ],
           "yaxis": "y2"
          }
         ],
         "name": "15"
        },
        {
         "data": [
          {
           "alignmentgroup": "True",
           "hovertemplate": "direction=up<br>floor=14<br>Local Time (GMT+8)=%{x}<br>avgWait_weekday=%{y}<extra></extra>",
           "legendgroup": "up",
           "marker": {
            "color": "#636efa"
           },
           "name": "up",
           "offsetgroup": "up",
           "orientation": "v",
           "showlegend": true,
           "textposition": "auto",
           "type": "bar",
           "x": [
            17,
            10,
            16,
            14,
            13,
            9,
            12,
            18,
            15,
            11,
            8,
            19,
            7,
            1,
            6,
            21,
            20,
            5,
            0,
            22,
            23,
            3
           ],
           "xaxis": "x",
           "y": [
            124.52083329999999,
            120.40571429999999,
            108.57333329999999,
            105.20333329999998,
            95.06,
            82.90636364,
            76.56933333,
            74.54666667,
            73.85333333,
            65.49533333,
            63.59923077,
            59.45,
            53.299,
            43.53,
            38.9175,
            38.55538462,
            35.056,
            28.53,
            26.065,
            24.955,
            22.23,
            15.48
           ],
           "yaxis": "y"
          },
          {
           "alignmentgroup": "True",
           "hovertemplate": "direction=down<br>floor=14<br>Local Time (GMT+8)=%{x}<br>avgWait_weekday=%{y}<extra></extra>",
           "legendgroup": "down",
           "marker": {
            "color": "#EF553B"
           },
           "name": "down",
           "offsetgroup": "down",
           "orientation": "v",
           "showlegend": true,
           "textposition": "auto",
           "type": "bar",
           "x": [
            18,
            14,
            13,
            11,
            10,
            19,
            16,
            15,
            17,
            9,
            12,
            8,
            7,
            20,
            6,
            21,
            0,
            22,
            23,
            5,
            2,
            3,
            1,
            4
           ],
           "xaxis": "x2",
           "y": [
            67.28525907,
            66.90239344,
            66.39167183,
            65.99817109,
            61.85969492,
            60.64501312,
            60.32532353,
            60.21380952,
            57.89131105,
            57.86033639,
            56.40991525,
            55.02916968,
            46.19707865,
            45.709587299999995,
            32.30084507,
            30.37207627,
            25.31118644,
            23.79747368,
            22.18972603,
            20.13511111,
            18.91521739,
            18.72785714,
            18.54958904,
            14.42416667
           ],
           "yaxis": "y2"
          }
         ],
         "name": "14"
        },
        {
         "data": [
          {
           "alignmentgroup": "True",
           "hovertemplate": "direction=up<br>floor=13<br>Local Time (GMT+8)=%{x}<br>avgWait_weekday=%{y}<extra></extra>",
           "legendgroup": "up",
           "marker": {
            "color": "#636efa"
           },
           "name": "up",
           "offsetgroup": "up",
           "orientation": "v",
           "showlegend": true,
           "textposition": "auto",
           "type": "bar",
           "x": [
            12,
            14,
            9,
            17,
            20,
            18,
            8,
            10,
            13,
            19,
            11,
            7,
            16,
            6,
            15,
            23,
            1,
            5,
            21,
            2,
            0,
            22
           ],
           "xaxis": "x",
           "y": [
            82.04,
            71.12,
            65.93875,
            60.67411765,
            56.98285714,
            55.132,
            51.92125,
            50.19272727,
            45.36952381,
            39.76384615,
            38.76516129,
            38.72545455,
            33.88583333,
            32.80071429,
            28.94066667,
            23.56,
            22.285,
            21.691999999999997,
            21.35,
            18.95,
            13.355,
            7.62
           ],
           "yaxis": "y"
          },
          {
           "alignmentgroup": "True",
           "hovertemplate": "direction=down<br>floor=13<br>Local Time (GMT+8)=%{x}<br>avgWait_weekday=%{y}<extra></extra>",
           "legendgroup": "down",
           "marker": {
            "color": "#EF553B"
           },
           "name": "down",
           "offsetgroup": "down",
           "orientation": "v",
           "showlegend": true,
           "textposition": "auto",
           "type": "bar",
           "x": [
            11,
            12,
            17,
            16,
            13,
            10,
            7,
            9,
            15,
            14,
            8,
            19,
            18,
            6,
            20,
            0,
            22,
            5,
            4,
            21,
            3,
            2,
            23,
            1
           ],
           "xaxis": "x2",
           "y": [
            34.95441261,
            33.63287709,
            32.54225974,
            28.74621849,
            28.48062893,
            28.24836237,
            27.63387454,
            27.16094801,
            26.75651316,
            26.33547855,
            25.12909375,
            24.89744745,
            24.5861828,
            20.12730994,
            19.91897059,
            19.11021739,
            18.24455285,
            17.36139535,
            16.9595,
            16.53364486,
            16.22555556,
            15.69214286,
            14.45054795,
            12.33333333
           ],
           "yaxis": "y2"
          }
         ],
         "name": "13"
        },
        {
         "data": [
          {
           "alignmentgroup": "True",
           "hovertemplate": "direction=up<br>floor=12<br>Local Time (GMT+8)=%{x}<br>avgWait_weekday=%{y}<extra></extra>",
           "legendgroup": "up",
           "marker": {
            "color": "#636efa"
           },
           "name": "up",
           "offsetgroup": "up",
           "orientation": "v",
           "showlegend": true,
           "textposition": "auto",
           "type": "bar",
           "x": [
            20,
            13,
            11,
            8,
            12,
            16,
            6,
            19,
            18,
            7,
            17,
            21,
            9,
            10,
            14,
            15,
            0,
            23,
            22,
            3,
            1,
            5
           ],
           "xaxis": "x",
           "y": [
            67.63416667,
            61.32857143,
            60.13380952,
            56.79,
            55.82,
            47.16095238,
            45.04428571,
            42.47083333,
            41.685,
            41.51333333,
            41.29777778,
            40.165,
            39.74538462,
            37.64633333,
            34.89782609,
            27.82363636,
            21.81333333,
            14.852,
            13.06857143,
            12.55,
            10.975,
            9.35
           ],
           "yaxis": "y"
          },
          {
           "alignmentgroup": "True",
           "hovertemplate": "direction=down<br>floor=12<br>Local Time (GMT+8)=%{x}<br>avgWait_weekday=%{y}<extra></extra>",
           "legendgroup": "down",
           "marker": {
            "color": "#EF553B"
           },
           "name": "down",
           "offsetgroup": "down",
           "orientation": "v",
           "showlegend": true,
           "textposition": "auto",
           "type": "bar",
           "x": [
            6,
            7,
            8,
            1,
            13,
            15,
            9,
            22,
            16,
            3,
            11,
            20,
            14,
            19,
            4,
            12,
            0,
            10,
            2,
            18,
            23,
            5,
            17,
            21
           ],
           "xaxis": "x2",
           "y": [
            22.43213675,
            22.22938628,
            20.93503425,
            19.85133333,
            19.80119318,
            19.24252427,
            19.07154639,
            18.96982759,
            18.953,
            18.740625,
            18.70092063,
            18.57537931,
            18.28167192,
            18.14810726,
            17.96111111,
            17.24123596,
            17.05585366,
            16.43317518,
            16.43,
            16.32425743,
            16.21826087,
            15.0152459,
            14.60273657,
            14.39316832
           ],
           "yaxis": "y2"
          }
         ],
         "name": "12"
        },
        {
         "data": [
          {
           "alignmentgroup": "True",
           "hovertemplate": "direction=up<br>floor=11<br>Local Time (GMT+8)=%{x}<br>avgWait_weekday=%{y}<extra></extra>",
           "legendgroup": "up",
           "marker": {
            "color": "#636efa"
           },
           "name": "up",
           "offsetgroup": "up",
           "orientation": "v",
           "showlegend": true,
           "textposition": "auto",
           "type": "bar",
           "x": [
            8,
            18,
            7,
            17,
            6,
            9,
            12,
            16,
            11,
            21,
            13,
            15,
            14,
            19,
            0,
            22,
            20,
            10,
            23,
            3,
            5
           ],
           "xaxis": "x",
           "y": [
            87.75,
            60.48166667,
            56.35153846,
            53.33571429,
            50.43666667,
            48.53125,
            47.2825,
            46.68058824,
            43.66769231,
            41.934,
            40.21210526,
            38.58833333,
            38.48875,
            37.16888889,
            31.22,
            23.47166667,
            23.39555556,
            22.76692308,
            20.0475,
            17.43,
            15.34
           ],
           "yaxis": "y"
          },
          {
           "alignmentgroup": "True",
           "hovertemplate": "direction=down<br>floor=11<br>Local Time (GMT+8)=%{x}<br>avgWait_weekday=%{y}<extra></extra>",
           "legendgroup": "down",
           "marker": {
            "color": "#EF553B"
           },
           "name": "down",
           "offsetgroup": "down",
           "orientation": "v",
           "showlegend": true,
           "textposition": "auto",
           "type": "bar",
           "x": [
            6,
            3,
            1,
            2,
            23,
            7,
            4,
            22,
            20,
            19,
            0,
            8,
            5,
            21,
            10,
            15,
            14,
            9,
            11,
            16,
            17,
            18,
            13,
            12
           ],
           "xaxis": "x2",
           "y": [
            20.06993548,
            19.49666667,
            19.3175,
            18.86933333,
            17.79866667,
            17.44232975,
            16.97833333,
            16.8965035,
            16.37824324,
            16.04068323,
            15.82484375,
            15.76152905,
            15.74191489,
            15.38950226,
            15.36433447,
            15.20768116,
            15.08414894,
            14.76299003,
            14.025448499999998,
            13.86175896,
            13.7068595,
            13.27431635,
            12.92865031,
            12.78285256
           ],
           "yaxis": "y2"
          }
         ],
         "name": "11"
        },
        {
         "data": [
          {
           "alignmentgroup": "True",
           "hovertemplate": "direction=up<br>floor=10<br>Local Time (GMT+8)=%{x}<br>avgWait_weekday=%{y}<extra></extra>",
           "legendgroup": "up",
           "marker": {
            "color": "#636efa"
           },
           "name": "up",
           "offsetgroup": "up",
           "orientation": "v",
           "showlegend": true,
           "textposition": "auto",
           "type": "bar",
           "x": [
            14,
            9,
            18,
            7,
            20,
            19,
            6,
            12,
            15,
            8,
            11,
            16,
            10,
            17,
            13,
            21,
            22
           ],
           "xaxis": "x",
           "y": [
            97.97,
            81.76333333,
            76.123,
            62.675,
            60.94333333,
            59.80529412,
            56.13,
            55.22916667,
            54.275,
            50.64428571,
            49.4708,
            49.30206897,
            45.78551724,
            45.53444444,
            45.257,
            20.885,
            6.696666667000001
           ],
           "yaxis": "y"
          },
          {
           "alignmentgroup": "True",
           "hovertemplate": "direction=down<br>floor=10<br>Local Time (GMT+8)=%{x}<br>avgWait_weekday=%{y}<extra></extra>",
           "legendgroup": "down",
           "marker": {
            "color": "#EF553B"
           },
           "name": "down",
           "offsetgroup": "down",
           "orientation": "v",
           "showlegend": true,
           "textposition": "auto",
           "type": "bar",
           "x": [
            2,
            21,
            7,
            23,
            3,
            13,
            18,
            22,
            8,
            11,
            9,
            20,
            15,
            16,
            1,
            17,
            10,
            14,
            12,
            0,
            19,
            4,
            5
           ],
           "xaxis": "x2",
           "y": [
            18.24,
            17.70148148,
            16.54090909,
            14.46,
            14.29666667,
            13.70944882,
            13.21192308,
            13.01421053,
            12.82487805,
            12.4034375,
            12.38146341,
            12.11272727,
            11.80709877,
            11.22534722,
            11.16,
            11.09888268,
            11.08622378,
            10.91760274,
            10.90515152,
            9.605714286,
            9.386145832999999,
            6.886666667,
            6.766666667000001
           ],
           "yaxis": "y2"
          }
         ],
         "name": "10"
        },
        {
         "data": [
          {
           "alignmentgroup": "True",
           "hovertemplate": "direction=up<br>floor=9<br>Local Time (GMT+8)=%{x}<br>avgWait_weekday=%{y}<extra></extra>",
           "legendgroup": "up",
           "marker": {
            "color": "#636efa"
           },
           "name": "up",
           "offsetgroup": "up",
           "orientation": "v",
           "showlegend": true,
           "textposition": "auto",
           "type": "bar",
           "x": [
            19,
            9,
            10,
            17,
            11,
            8,
            18,
            13,
            16,
            12,
            14,
            20,
            15,
            7,
            0,
            6,
            21,
            22,
            2,
            5,
            1,
            3,
            23
           ],
           "xaxis": "x",
           "y": [
            99.1375,
            72.303,
            65.78346154,
            59.38368421,
            58.41840909,
            56.09391304,
            52.2526087,
            51.2504,
            48.39352941,
            48.34892857,
            43.582,
            42.305625,
            42.28744681,
            39.35578947,
            35.39,
            28.95,
            27.555,
            18.9725,
            16.85,
            16.77,
            14.155,
            11.01,
            9.16
           ],
           "yaxis": "y"
          },
          {
           "alignmentgroup": "True",
           "hovertemplate": "direction=down<br>floor=9<br>Local Time (GMT+8)=%{x}<br>avgWait_weekday=%{y}<extra></extra>",
           "legendgroup": "down",
           "marker": {
            "color": "#EF553B"
           },
           "name": "down",
           "offsetgroup": "down",
           "orientation": "v",
           "showlegend": true,
           "textposition": "auto",
           "type": "bar",
           "x": [
            3,
            23,
            22,
            0,
            5,
            6,
            7,
            4,
            20,
            8,
            2,
            1,
            21,
            14,
            13,
            16,
            19,
            9,
            11,
            15,
            12,
            10,
            18,
            17
           ],
           "xaxis": "x2",
           "y": [
            22.82714286,
            18.21734694,
            17.52858333,
            17.36852941,
            16.51724138,
            16.45621359,
            16.08915612,
            15.61222222,
            15.55846939,
            14.61520548,
            14.6125,
            14.52883333,
            14.47578755,
            13.49208754,
            13.24744027,
            13.084625,
            13.03622478,
            12.49076412,
            12.3802649,
            12.02182724,
            11.94447712,
            11.77430556,
            11.50292308,
            10.88948787
           ],
           "yaxis": "y2"
          }
         ],
         "name": "9"
        },
        {
         "data": [
          {
           "alignmentgroup": "True",
           "hovertemplate": "direction=up<br>floor=8<br>Local Time (GMT+8)=%{x}<br>avgWait_weekday=%{y}<extra></extra>",
           "legendgroup": "up",
           "marker": {
            "color": "#636efa"
           },
           "name": "up",
           "offsetgroup": "up",
           "orientation": "v",
           "showlegend": true,
           "textposition": "auto",
           "type": "bar",
           "x": [
            8,
            19,
            9,
            14,
            13,
            10,
            16,
            17,
            15,
            11,
            23,
            18,
            12,
            20,
            21,
            6,
            7,
            1,
            22,
            5,
            0
           ],
           "xaxis": "x",
           "y": [
            72.46166667,
            69.84,
            67.49621622,
            62.34644068,
            60.61282051,
            54.761,
            53.43063492,
            53.22464286,
            51.44793651,
            50.23160714,
            47.77,
            47.1832,
            46.87555556,
            46.16555556,
            37.94583333,
            36.99,
            36.41380952,
            18.1625,
            16.97,
            16.32,
            15.98
           ],
           "yaxis": "y"
          },
          {
           "alignmentgroup": "True",
           "hovertemplate": "direction=down<br>floor=8<br>Local Time (GMT+8)=%{x}<br>avgWait_weekday=%{y}<extra></extra>",
           "legendgroup": "down",
           "marker": {
            "color": "#EF553B"
           },
           "name": "down",
           "offsetgroup": "down",
           "orientation": "v",
           "showlegend": true,
           "textposition": "auto",
           "type": "bar",
           "x": [
            6,
            23,
            0,
            22,
            7,
            4,
            5,
            21,
            2,
            1,
            20,
            19,
            9,
            8,
            3,
            18,
            13,
            14,
            10,
            12,
            15,
            17,
            11,
            16
           ],
           "xaxis": "x2",
           "y": [
            18.77839744,
            17.28546667,
            16.39051471,
            16.39025,
            16.35487365,
            16.33388889,
            15.97366667,
            15.139000000000001,
            15.09913043,
            14.85595238,
            14.59897297,
            13.9447185,
            13.15844156,
            13.11241983,
            12.85333333,
            12.13253133,
            12.00620178,
            12.00324759,
            11.67217105,
            11.61687307,
            10.39535484,
            10.04880556,
            9.987006578999999,
            9.812330623
           ],
           "yaxis": "y2"
          }
         ],
         "name": "8"
        },
        {
         "data": [
          {
           "alignmentgroup": "True",
           "hovertemplate": "direction=up<br>floor=7<br>Local Time (GMT+8)=%{x}<br>avgWait_weekday=%{y}<extra></extra>",
           "legendgroup": "up",
           "marker": {
            "color": "#636efa"
           },
           "name": "up",
           "offsetgroup": "up",
           "orientation": "v",
           "showlegend": true,
           "textposition": "auto",
           "type": "bar",
           "x": [
            16,
            9,
            12,
            13,
            14,
            8,
            15,
            17,
            18,
            11,
            10,
            7,
            19,
            20,
            21,
            22,
            0,
            4,
            23,
            1,
            3,
            6
           ],
           "xaxis": "x",
           "y": [
            78.83933333,
            71.21574074,
            69.27978723,
            67.79828947,
            66.76563636,
            64.17617647,
            63.75333333,
            62.91493151,
            62.71285714,
            61.0715493,
            53.16671642,
            50.69862069,
            44.98175,
            36.3368,
            31.70882353,
            20.70625,
            20.34833333,
            14.7925,
            14.40571429,
            12.7,
            9.38,
            7.438
           ],
           "yaxis": "y"
          },
          {
           "alignmentgroup": "True",
           "hovertemplate": "direction=down<br>floor=7<br>Local Time (GMT+8)=%{x}<br>avgWait_weekday=%{y}<extra></extra>",
           "legendgroup": "down",
           "marker": {
            "color": "#EF553B"
           },
           "name": "down",
           "offsetgroup": "down",
           "orientation": "v",
           "showlegend": true,
           "textposition": "auto",
           "type": "bar",
           "x": [
            23,
            2,
            6,
            3,
            7,
            22,
            5,
            1,
            20,
            21,
            4,
            0,
            19,
            8,
            9,
            14,
            15,
            13,
            11,
            12,
            18,
            10,
            16,
            17
           ],
           "xaxis": "x2",
           "y": [
            16.98634409,
            16.93836735,
            15.8811413,
            15.74322581,
            14.52095618,
            14.16201149,
            14.10964286,
            13.95048387,
            13.93146154,
            13.91429012,
            13.53473684,
            13.27657143,
            13.18874693,
            12.50026217,
            11.95281588,
            11.86885246,
            11.35462295,
            11.03775244,
            10.90224422,
            10.85493671,
            10.70521053,
            10.69985965,
            10.08903904,
            9.857471591
           ],
           "yaxis": "y2"
          }
         ],
         "name": "7"
        },
        {
         "data": [
          {
           "alignmentgroup": "True",
           "hovertemplate": "direction=up<br>floor=6<br>Local Time (GMT+8)=%{x}<br>avgWait_weekday=%{y}<extra></extra>",
           "legendgroup": "up",
           "marker": {
            "color": "#636efa"
           },
           "name": "up",
           "offsetgroup": "up",
           "orientation": "v",
           "showlegend": true,
           "textposition": "auto",
           "type": "bar",
           "x": [
            15,
            13,
            14,
            10,
            12,
            17,
            11,
            7,
            9,
            19,
            18,
            16,
            8,
            20,
            6,
            21,
            23,
            5,
            22,
            0,
            1,
            4,
            2,
            3
           ],
           "xaxis": "x",
           "y": [
            93.01814286,
            90.40340909,
            78.14044444,
            77.38109589,
            76.69696429,
            73.70109091,
            71.81855263,
            70.99287671,
            70.92916667,
            66.19464286,
            60.66258065,
            59.93780822,
            59.75162791,
            40.463125,
            38.51806452,
            37.91666667,
            25.69583333,
            25.07,
            22.471999999999998,
            12.99166667,
            10.25,
            9.5,
            9.34,
            0.725
           ],
           "yaxis": "y"
          },
          {
           "alignmentgroup": "True",
           "hovertemplate": "direction=down<br>floor=6<br>Local Time (GMT+8)=%{x}<br>avgWait_weekday=%{y}<extra></extra>",
           "legendgroup": "down",
           "marker": {
            "color": "#EF553B"
           },
           "name": "down",
           "offsetgroup": "down",
           "orientation": "v",
           "showlegend": true,
           "textposition": "auto",
           "type": "bar",
           "x": [
            4,
            0,
            21,
            5,
            6,
            22,
            2,
            1,
            7,
            23,
            3,
            20,
            19,
            10,
            8,
            9,
            11,
            14,
            18,
            12,
            13,
            17,
            16,
            15
           ],
           "xaxis": "x2",
           "y": [
            16.16086957,
            14.81029412,
            14.73540541,
            14.44777778,
            14.2208867,
            13.96805556,
            13.85736842,
            13.84979592,
            13.49898785,
            13.28316456,
            12.49294118,
            12.32697248,
            12.14096096,
            11.6958125,
            11.53106452,
            10.98630225,
            10.91721805,
            10.73014085,
            10.31134286,
            10.28398496,
            10.28178988,
            10.21281046,
            10.07396774,
            9.753493151
           ],
           "yaxis": "y2"
          }
         ],
         "name": "6"
        },
        {
         "data": [
          {
           "alignmentgroup": "True",
           "hovertemplate": "direction=up<br>floor=5<br>Local Time (GMT+8)=%{x}<br>avgWait_weekday=%{y}<extra></extra>",
           "legendgroup": "up",
           "marker": {
            "color": "#636efa"
           },
           "name": "up",
           "offsetgroup": "up",
           "orientation": "v",
           "showlegend": true,
           "textposition": "auto",
           "type": "bar",
           "x": [
            0,
            2,
            21,
            15,
            8,
            13,
            5,
            19,
            11,
            10,
            18,
            6,
            17,
            22,
            16,
            20,
            14,
            9,
            7,
            23,
            12,
            1,
            3,
            4
           ],
           "xaxis": "x",
           "y": [
            19.2875,
            18.92666667,
            17.1845098,
            16.38195122,
            15.21020408,
            15.13309859,
            14.07,
            13.52134328,
            12.883375,
            12.52386667,
            12.2825,
            12.27466667,
            11.9778481,
            11.75461538,
            11.602020199999998,
            11.45095238,
            11.3401,
            11.32155844,
            11.04069767,
            10.61533333,
            10.46121622,
            10.44,
            10.37,
            4.89
           ],
           "yaxis": "y"
          },
          {
           "alignmentgroup": "True",
           "hovertemplate": "direction=down<br>floor=5<br>Local Time (GMT+8)=%{x}<br>avgWait_weekday=%{y}<extra></extra>",
           "legendgroup": "down",
           "marker": {
            "color": "#EF553B"
           },
           "name": "down",
           "offsetgroup": "down",
           "orientation": "v",
           "showlegend": true,
           "textposition": "auto",
           "type": "bar",
           "x": [
            11,
            17,
            12,
            19,
            15,
            18,
            16,
            9,
            14,
            7,
            13,
            10,
            8,
            20,
            6,
            21,
            22,
            3,
            5,
            1,
            23,
            0,
            2,
            4
           ],
           "xaxis": "x2",
           "y": [
            65.93203125,
            65.00578313,
            61.51339535,
            57.86894737,
            57.33867299,
            53.88534884,
            52.51614458,
            52.18089744,
            51.60777293,
            49.36166667,
            49.22449761,
            46.76795652,
            46.58642857,
            39.05545455,
            27.56820513,
            27.22987342,
            21.75818182,
            18.31384615,
            18.10266667,
            16.23422222,
            15.67484848,
            15.17296296,
            14.48142857,
            14.34714286
           ],
           "yaxis": "y2"
          }
         ],
         "name": "5"
        },
        {
         "data": [
          {
           "alignmentgroup": "True",
           "hovertemplate": "direction=up<br>floor=4<br>Local Time (GMT+8)=%{x}<br>avgWait_weekday=%{y}<extra></extra>",
           "legendgroup": "up",
           "marker": {
            "color": "#636efa"
           },
           "name": "up",
           "offsetgroup": "up",
           "orientation": "v",
           "showlegend": true,
           "textposition": "auto",
           "type": "bar",
           "x": [
            0,
            1,
            5,
            3,
            22,
            17,
            21,
            20,
            11,
            15,
            6,
            23,
            18,
            10,
            13,
            16,
            8,
            14,
            9,
            12,
            7,
            19,
            2,
            4
           ],
           "xaxis": "x",
           "y": [
            26.16833333,
            23.63666667,
            23.605,
            15.93,
            14.94071429,
            13.79443299,
            13.36208333,
            13.25789474,
            13.09392593,
            12.71112903,
            12.51214286,
            12.130999999999998,
            11.9116,
            11.18900901,
            11.06293651,
            10.8988806,
            10.54633333,
            10.4108125,
            10.19552632,
            9.921585366,
            9.6775,
            9.3834375,
            8.19,
            0.43
           ],
           "yaxis": "y"
          },
          {
           "alignmentgroup": "True",
           "hovertemplate": "direction=down<br>floor=4<br>Local Time (GMT+8)=%{x}<br>avgWait_weekday=%{y}<extra></extra>",
           "legendgroup": "down",
           "marker": {
            "color": "#EF553B"
           },
           "name": "down",
           "offsetgroup": "down",
           "orientation": "v",
           "showlegend": true,
           "textposition": "auto",
           "type": "bar",
           "x": [
            8,
            19,
            7,
            11,
            14,
            12,
            13,
            20,
            18,
            17,
            21,
            15,
            16,
            9,
            10,
            22,
            6,
            0,
            23,
            1,
            3,
            5,
            2,
            4
           ],
           "xaxis": "x2",
           "y": [
            43.94679348,
            39.91878788,
            39.18066667,
            37.14823529,
            36.83219409,
            36.59184874,
            33.61414201,
            32.17528024,
            31.68122137,
            31.46842697,
            31.37875,
            30.35223776,
            30.14191882,
            28.46373494,
            25.95120482,
            22.718000000000004,
            22.40166667,
            16.95535135,
            16.65081967,
            15.27857143,
            13.45,
            12.97428571,
            12.56923077,
            8.011000000000001
           ],
           "yaxis": "y2"
          }
         ],
         "name": "4"
        },
        {
         "data": [
          {
           "alignmentgroup": "True",
           "hovertemplate": "direction=up<br>floor=3<br>Local Time (GMT+8)=%{x}<br>avgWait_weekday=%{y}<extra></extra>",
           "legendgroup": "up",
           "marker": {
            "color": "#636efa"
           },
           "name": "up",
           "offsetgroup": "up",
           "orientation": "v",
           "showlegend": true,
           "textposition": "auto",
           "type": "bar",
           "x": [
            23,
            1,
            21,
            0,
            3,
            6,
            5,
            20,
            4,
            22,
            19,
            13,
            7,
            8,
            16,
            18,
            14,
            12,
            17,
            15,
            11,
            9,
            10,
            2
           ],
           "xaxis": "x",
           "y": [
            15.90363636,
            15.44076923,
            14.72947368,
            14.54,
            14.2075,
            13.77857143,
            13.12333333,
            13.06090909,
            12.67,
            12.28380952,
            10.51176471,
            10.42054054,
            10.25445946,
            9.7625,
            9.288062016,
            9.255833333,
            9.024102564,
            8.93733945,
            8.746666667000001,
            8.592913907,
            8.50751938,
            8.491111111,
            8.485703125,
            2.3416666669999997
           ],
           "yaxis": "y"
          },
          {
           "alignmentgroup": "True",
           "hovertemplate": "direction=down<br>floor=3<br>Local Time (GMT+8)=%{x}<br>avgWait_weekday=%{y}<extra></extra>",
           "legendgroup": "down",
           "marker": {
            "color": "#EF553B"
           },
           "name": "down",
           "offsetgroup": "down",
           "orientation": "v",
           "showlegend": true,
           "textposition": "auto",
           "type": "bar",
           "x": [
            7,
            19,
            18,
            8,
            17,
            6,
            11,
            12,
            21,
            9,
            13,
            10,
            20,
            15,
            5,
            14,
            22,
            16,
            23,
            3,
            1,
            0,
            4,
            2
           ],
           "xaxis": "x2",
           "y": [
            40.87908333,
            38.44122995,
            34.06288991,
            30.4559375,
            28.5430131,
            27.038556699999997,
            26.92695238,
            26.69846847,
            26.66265734,
            26.02320442,
            24.60463918,
            24.427106600000002,
            23.34587189,
            22.53346008,
            21.28125,
            20.95643836,
            19.823880600000003,
            17.24274262,
            16.71956522,
            14.417,
            12.85769231,
            12.85083333,
            12.642000000000001,
            10.28466667
           ],
           "yaxis": "y2"
          }
         ],
         "name": "3"
        },
        {
         "data": [
          {
           "alignmentgroup": "True",
           "hovertemplate": "direction=up<br>floor=2<br>Local Time (GMT+8)=%{x}<br>avgWait_weekday=%{y}<extra></extra>",
           "legendgroup": "up",
           "marker": {
            "color": "#636efa"
           },
           "name": "up",
           "offsetgroup": "up",
           "orientation": "v",
           "showlegend": true,
           "textposition": "auto",
           "type": "bar",
           "x": [
            19,
            3,
            6,
            21,
            14,
            18,
            20,
            11,
            1,
            13,
            12,
            7,
            16,
            17,
            15,
            10,
            9,
            8,
            23
           ],
           "xaxis": "x",
           "y": [
            131.0957143,
            28.1125,
            18.34,
            12.94,
            11.9871875,
            11.92863636,
            10.97,
            10.49744186,
            10.36,
            10.30325301,
            9.733170732,
            9.3255,
            9.034526316000001,
            8.954736842,
            8.529647059,
            7.748055556000001,
            7.71592233,
            7.512280702000001,
            5.07
           ],
           "yaxis": "y"
          },
          {
           "alignmentgroup": "True",
           "hovertemplate": "direction=down<br>floor=2<br>Local Time (GMT+8)=%{x}<br>avgWait_weekday=%{y}<extra></extra>",
           "legendgroup": "down",
           "marker": {
            "color": "#EF553B"
           },
           "name": "down",
           "offsetgroup": "down",
           "orientation": "v",
           "showlegend": true,
           "textposition": "auto",
           "type": "bar",
           "x": [
            0,
            7,
            21,
            6,
            9,
            11,
            19,
            17,
            10,
            14,
            20,
            8,
            15,
            3,
            12,
            2,
            18,
            16,
            22,
            13,
            23,
            4,
            1
           ],
           "xaxis": "x2",
           "y": [
            45.35,
            40.92571429,
            38.996,
            29.24666667,
            23.15211538,
            22.85469388,
            22.726875,
            22.18,
            21.78979167,
            20.1525641,
            18.655,
            18.58304348,
            17.3526087,
            16.85,
            16.03861111,
            15.57,
            15.43884615,
            15.15591837,
            13.26,
            12.88857143,
            10.93,
            9.866666667,
            9.625
           ],
           "yaxis": "y2"
          }
         ],
         "name": "2"
        },
        {
         "data": [
          {
           "alignmentgroup": "True",
           "hovertemplate": "direction=up<br>floor=1<br>Local Time (GMT+8)=%{x}<br>avgWait_weekday=%{y}<extra></extra>",
           "legendgroup": "up",
           "marker": {
            "color": "#636efa"
           },
           "name": "up",
           "offsetgroup": "up",
           "orientation": "v",
           "showlegend": true,
           "textposition": "auto",
           "type": "bar",
           "x": [
            20,
            19,
            18,
            15,
            10,
            9,
            6,
            8,
            21,
            16,
            17,
            13,
            14,
            7,
            12,
            11,
            23,
            22,
            3,
            4,
            5,
            0,
            1,
            2
           ],
           "xaxis": "x",
           "y": [
            22.67554273,
            20.63797768,
            19.72394984,
            18.92326599,
            17.82118068,
            17.62986003,
            17.36362963,
            17.15813154,
            16.72507661,
            16.250402800000003,
            16.13431005,
            16.05842466,
            15.71495741,
            15.20316147,
            13.91057692,
            13.27246781,
            13.12219365,
            12.02808889,
            7.836052632,
            7.037017543999999,
            6.754777327999999,
            5.323305556,
            4.967370892,
            4.861626016000001
           ],
           "yaxis": "y"
          },
          {
           "alignmentgroup": "True",
           "hovertemplate": "direction=down<br>floor=1<br>Local Time (GMT+8)=%{x}<br>avgWait_weekday=%{y}<extra></extra>",
           "legendgroup": "down",
           "marker": {
            "color": "#EF553B"
           },
           "name": "down",
           "offsetgroup": "down",
           "orientation": "v",
           "showlegend": true,
           "textposition": "auto",
           "type": "bar",
           "x": [
            7,
            19,
            17,
            18,
            12,
            8,
            10,
            11,
            13,
            14,
            9,
            20,
            16,
            15,
            22,
            6,
            23,
            21,
            0,
            5,
            3,
            2,
            4,
            1
           ],
           "xaxis": "x2",
           "y": [
            29.77925926,
            28.37666667,
            26.29304636,
            25.62904412,
            23.26264045,
            21.91177083,
            21.17461538,
            20.90542105,
            19.14601124,
            18.83859649,
            18.17184713,
            17.94917808,
            17.46817204,
            15.65359116,
            14.43227273,
            14.37653061,
            12.58394737,
            12.11116667,
            9.858181818,
            7.288695652,
            7.19,
            5.94,
            5.337777778,
            3.704375
           ],
           "yaxis": "y2"
          }
         ],
         "name": "1"
        }
       ],
       "layout": {
        "annotations": [
         {
          "font": {},
          "showarrow": false,
          "text": "direction=up",
          "x": 0.245,
          "xanchor": "center",
          "xref": "paper",
          "y": 1,
          "yanchor": "bottom",
          "yref": "paper"
         },
         {
          "font": {},
          "showarrow": false,
          "text": "direction=down",
          "x": 0.755,
          "xanchor": "center",
          "xref": "paper",
          "y": 1,
          "yanchor": "bottom",
          "yref": "paper"
         }
        ],
        "barmode": "relative",
        "legend": {
         "title": {
          "text": "direction"
         },
         "tracegroupgap": 0
        },
        "margin": {
         "t": 60
        },
        "sliders": [
         {
          "active": 0,
          "currentvalue": {
           "prefix": "floor="
          },
          "len": 0.9,
          "pad": {
           "b": 10,
           "t": 60
          },
          "steps": [
           {
            "args": [
             [
              "B4"
             ],
             {
              "frame": {
               "duration": 0,
               "redraw": true
              },
              "fromcurrent": true,
              "mode": "immediate",
              "transition": {
               "duration": 0,
               "easing": "linear"
              }
             }
            ],
            "label": "B4",
            "method": "animate"
           },
           {
            "args": [
             [
              "B3"
             ],
             {
              "frame": {
               "duration": 0,
               "redraw": true
              },
              "fromcurrent": true,
              "mode": "immediate",
              "transition": {
               "duration": 0,
               "easing": "linear"
              }
             }
            ],
            "label": "B3",
            "method": "animate"
           },
           {
            "args": [
             [
              "B1"
             ],
             {
              "frame": {
               "duration": 0,
               "redraw": true
              },
              "fromcurrent": true,
              "mode": "immediate",
              "transition": {
               "duration": 0,
               "easing": "linear"
              }
             }
            ],
            "label": "B1",
            "method": "animate"
           },
           {
            "args": [
             [
              "15"
             ],
             {
              "frame": {
               "duration": 0,
               "redraw": true
              },
              "fromcurrent": true,
              "mode": "immediate",
              "transition": {
               "duration": 0,
               "easing": "linear"
              }
             }
            ],
            "label": "15",
            "method": "animate"
           },
           {
            "args": [
             [
              "14"
             ],
             {
              "frame": {
               "duration": 0,
               "redraw": true
              },
              "fromcurrent": true,
              "mode": "immediate",
              "transition": {
               "duration": 0,
               "easing": "linear"
              }
             }
            ],
            "label": "14",
            "method": "animate"
           },
           {
            "args": [
             [
              "13"
             ],
             {
              "frame": {
               "duration": 0,
               "redraw": true
              },
              "fromcurrent": true,
              "mode": "immediate",
              "transition": {
               "duration": 0,
               "easing": "linear"
              }
             }
            ],
            "label": "13",
            "method": "animate"
           },
           {
            "args": [
             [
              "12"
             ],
             {
              "frame": {
               "duration": 0,
               "redraw": true
              },
              "fromcurrent": true,
              "mode": "immediate",
              "transition": {
               "duration": 0,
               "easing": "linear"
              }
             }
            ],
            "label": "12",
            "method": "animate"
           },
           {
            "args": [
             [
              "11"
             ],
             {
              "frame": {
               "duration": 0,
               "redraw": true
              },
              "fromcurrent": true,
              "mode": "immediate",
              "transition": {
               "duration": 0,
               "easing": "linear"
              }
             }
            ],
            "label": "11",
            "method": "animate"
           },
           {
            "args": [
             [
              "10"
             ],
             {
              "frame": {
               "duration": 0,
               "redraw": true
              },
              "fromcurrent": true,
              "mode": "immediate",
              "transition": {
               "duration": 0,
               "easing": "linear"
              }
             }
            ],
            "label": "10",
            "method": "animate"
           },
           {
            "args": [
             [
              "9"
             ],
             {
              "frame": {
               "duration": 0,
               "redraw": true
              },
              "fromcurrent": true,
              "mode": "immediate",
              "transition": {
               "duration": 0,
               "easing": "linear"
              }
             }
            ],
            "label": "9",
            "method": "animate"
           },
           {
            "args": [
             [
              "8"
             ],
             {
              "frame": {
               "duration": 0,
               "redraw": true
              },
              "fromcurrent": true,
              "mode": "immediate",
              "transition": {
               "duration": 0,
               "easing": "linear"
              }
             }
            ],
            "label": "8",
            "method": "animate"
           },
           {
            "args": [
             [
              "7"
             ],
             {
              "frame": {
               "duration": 0,
               "redraw": true
              },
              "fromcurrent": true,
              "mode": "immediate",
              "transition": {
               "duration": 0,
               "easing": "linear"
              }
             }
            ],
            "label": "7",
            "method": "animate"
           },
           {
            "args": [
             [
              "6"
             ],
             {
              "frame": {
               "duration": 0,
               "redraw": true
              },
              "fromcurrent": true,
              "mode": "immediate",
              "transition": {
               "duration": 0,
               "easing": "linear"
              }
             }
            ],
            "label": "6",
            "method": "animate"
           },
           {
            "args": [
             [
              "5"
             ],
             {
              "frame": {
               "duration": 0,
               "redraw": true
              },
              "fromcurrent": true,
              "mode": "immediate",
              "transition": {
               "duration": 0,
               "easing": "linear"
              }
             }
            ],
            "label": "5",
            "method": "animate"
           },
           {
            "args": [
             [
              "4"
             ],
             {
              "frame": {
               "duration": 0,
               "redraw": true
              },
              "fromcurrent": true,
              "mode": "immediate",
              "transition": {
               "duration": 0,
               "easing": "linear"
              }
             }
            ],
            "label": "4",
            "method": "animate"
           },
           {
            "args": [
             [
              "3"
             ],
             {
              "frame": {
               "duration": 0,
               "redraw": true
              },
              "fromcurrent": true,
              "mode": "immediate",
              "transition": {
               "duration": 0,
               "easing": "linear"
              }
             }
            ],
            "label": "3",
            "method": "animate"
           },
           {
            "args": [
             [
              "2"
             ],
             {
              "frame": {
               "duration": 0,
               "redraw": true
              },
              "fromcurrent": true,
              "mode": "immediate",
              "transition": {
               "duration": 0,
               "easing": "linear"
              }
             }
            ],
            "label": "2",
            "method": "animate"
           },
           {
            "args": [
             [
              "1"
             ],
             {
              "frame": {
               "duration": 0,
               "redraw": true
              },
              "fromcurrent": true,
              "mode": "immediate",
              "transition": {
               "duration": 0,
               "easing": "linear"
              }
             }
            ],
            "label": "1",
            "method": "animate"
           }
          ],
          "x": 0.1,
          "xanchor": "left",
          "y": 0,
          "yanchor": "top"
         }
        ],
        "template": {
         "data": {
          "bar": [
           {
            "error_x": {
             "color": "#2a3f5f"
            },
            "error_y": {
             "color": "#2a3f5f"
            },
            "marker": {
             "line": {
              "color": "#E5ECF6",
              "width": 0.5
             }
            },
            "type": "bar"
           }
          ],
          "barpolar": [
           {
            "marker": {
             "line": {
              "color": "#E5ECF6",
              "width": 0.5
             }
            },
            "type": "barpolar"
           }
          ],
          "carpet": [
           {
            "aaxis": {
             "endlinecolor": "#2a3f5f",
             "gridcolor": "white",
             "linecolor": "white",
             "minorgridcolor": "white",
             "startlinecolor": "#2a3f5f"
            },
            "baxis": {
             "endlinecolor": "#2a3f5f",
             "gridcolor": "white",
             "linecolor": "white",
             "minorgridcolor": "white",
             "startlinecolor": "#2a3f5f"
            },
            "type": "carpet"
           }
          ],
          "choropleth": [
           {
            "colorbar": {
             "outlinewidth": 0,
             "ticks": ""
            },
            "type": "choropleth"
           }
          ],
          "contour": [
           {
            "colorbar": {
             "outlinewidth": 0,
             "ticks": ""
            },
            "colorscale": [
             [
              0,
              "#0d0887"
             ],
             [
              0.1111111111111111,
              "#46039f"
             ],
             [
              0.2222222222222222,
              "#7201a8"
             ],
             [
              0.3333333333333333,
              "#9c179e"
             ],
             [
              0.4444444444444444,
              "#bd3786"
             ],
             [
              0.5555555555555556,
              "#d8576b"
             ],
             [
              0.6666666666666666,
              "#ed7953"
             ],
             [
              0.7777777777777778,
              "#fb9f3a"
             ],
             [
              0.8888888888888888,
              "#fdca26"
             ],
             [
              1,
              "#f0f921"
             ]
            ],
            "type": "contour"
           }
          ],
          "contourcarpet": [
           {
            "colorbar": {
             "outlinewidth": 0,
             "ticks": ""
            },
            "type": "contourcarpet"
           }
          ],
          "heatmap": [
           {
            "colorbar": {
             "outlinewidth": 0,
             "ticks": ""
            },
            "colorscale": [
             [
              0,
              "#0d0887"
             ],
             [
              0.1111111111111111,
              "#46039f"
             ],
             [
              0.2222222222222222,
              "#7201a8"
             ],
             [
              0.3333333333333333,
              "#9c179e"
             ],
             [
              0.4444444444444444,
              "#bd3786"
             ],
             [
              0.5555555555555556,
              "#d8576b"
             ],
             [
              0.6666666666666666,
              "#ed7953"
             ],
             [
              0.7777777777777778,
              "#fb9f3a"
             ],
             [
              0.8888888888888888,
              "#fdca26"
             ],
             [
              1,
              "#f0f921"
             ]
            ],
            "type": "heatmap"
           }
          ],
          "heatmapgl": [
           {
            "colorbar": {
             "outlinewidth": 0,
             "ticks": ""
            },
            "colorscale": [
             [
              0,
              "#0d0887"
             ],
             [
              0.1111111111111111,
              "#46039f"
             ],
             [
              0.2222222222222222,
              "#7201a8"
             ],
             [
              0.3333333333333333,
              "#9c179e"
             ],
             [
              0.4444444444444444,
              "#bd3786"
             ],
             [
              0.5555555555555556,
              "#d8576b"
             ],
             [
              0.6666666666666666,
              "#ed7953"
             ],
             [
              0.7777777777777778,
              "#fb9f3a"
             ],
             [
              0.8888888888888888,
              "#fdca26"
             ],
             [
              1,
              "#f0f921"
             ]
            ],
            "type": "heatmapgl"
           }
          ],
          "histogram": [
           {
            "marker": {
             "colorbar": {
              "outlinewidth": 0,
              "ticks": ""
             }
            },
            "type": "histogram"
           }
          ],
          "histogram2d": [
           {
            "colorbar": {
             "outlinewidth": 0,
             "ticks": ""
            },
            "colorscale": [
             [
              0,
              "#0d0887"
             ],
             [
              0.1111111111111111,
              "#46039f"
             ],
             [
              0.2222222222222222,
              "#7201a8"
             ],
             [
              0.3333333333333333,
              "#9c179e"
             ],
             [
              0.4444444444444444,
              "#bd3786"
             ],
             [
              0.5555555555555556,
              "#d8576b"
             ],
             [
              0.6666666666666666,
              "#ed7953"
             ],
             [
              0.7777777777777778,
              "#fb9f3a"
             ],
             [
              0.8888888888888888,
              "#fdca26"
             ],
             [
              1,
              "#f0f921"
             ]
            ],
            "type": "histogram2d"
           }
          ],
          "histogram2dcontour": [
           {
            "colorbar": {
             "outlinewidth": 0,
             "ticks": ""
            },
            "colorscale": [
             [
              0,
              "#0d0887"
             ],
             [
              0.1111111111111111,
              "#46039f"
             ],
             [
              0.2222222222222222,
              "#7201a8"
             ],
             [
              0.3333333333333333,
              "#9c179e"
             ],
             [
              0.4444444444444444,
              "#bd3786"
             ],
             [
              0.5555555555555556,
              "#d8576b"
             ],
             [
              0.6666666666666666,
              "#ed7953"
             ],
             [
              0.7777777777777778,
              "#fb9f3a"
             ],
             [
              0.8888888888888888,
              "#fdca26"
             ],
             [
              1,
              "#f0f921"
             ]
            ],
            "type": "histogram2dcontour"
           }
          ],
          "mesh3d": [
           {
            "colorbar": {
             "outlinewidth": 0,
             "ticks": ""
            },
            "type": "mesh3d"
           }
          ],
          "parcoords": [
           {
            "line": {
             "colorbar": {
              "outlinewidth": 0,
              "ticks": ""
             }
            },
            "type": "parcoords"
           }
          ],
          "pie": [
           {
            "automargin": true,
            "type": "pie"
           }
          ],
          "scatter": [
           {
            "marker": {
             "colorbar": {
              "outlinewidth": 0,
              "ticks": ""
             }
            },
            "type": "scatter"
           }
          ],
          "scatter3d": [
           {
            "line": {
             "colorbar": {
              "outlinewidth": 0,
              "ticks": ""
             }
            },
            "marker": {
             "colorbar": {
              "outlinewidth": 0,
              "ticks": ""
             }
            },
            "type": "scatter3d"
           }
          ],
          "scattercarpet": [
           {
            "marker": {
             "colorbar": {
              "outlinewidth": 0,
              "ticks": ""
             }
            },
            "type": "scattercarpet"
           }
          ],
          "scattergeo": [
           {
            "marker": {
             "colorbar": {
              "outlinewidth": 0,
              "ticks": ""
             }
            },
            "type": "scattergeo"
           }
          ],
          "scattergl": [
           {
            "marker": {
             "colorbar": {
              "outlinewidth": 0,
              "ticks": ""
             }
            },
            "type": "scattergl"
           }
          ],
          "scattermapbox": [
           {
            "marker": {
             "colorbar": {
              "outlinewidth": 0,
              "ticks": ""
             }
            },
            "type": "scattermapbox"
           }
          ],
          "scatterpolar": [
           {
            "marker": {
             "colorbar": {
              "outlinewidth": 0,
              "ticks": ""
             }
            },
            "type": "scatterpolar"
           }
          ],
          "scatterpolargl": [
           {
            "marker": {
             "colorbar": {
              "outlinewidth": 0,
              "ticks": ""
             }
            },
            "type": "scatterpolargl"
           }
          ],
          "scatterternary": [
           {
            "marker": {
             "colorbar": {
              "outlinewidth": 0,
              "ticks": ""
             }
            },
            "type": "scatterternary"
           }
          ],
          "surface": [
           {
            "colorbar": {
             "outlinewidth": 0,
             "ticks": ""
            },
            "colorscale": [
             [
              0,
              "#0d0887"
             ],
             [
              0.1111111111111111,
              "#46039f"
             ],
             [
              0.2222222222222222,
              "#7201a8"
             ],
             [
              0.3333333333333333,
              "#9c179e"
             ],
             [
              0.4444444444444444,
              "#bd3786"
             ],
             [
              0.5555555555555556,
              "#d8576b"
             ],
             [
              0.6666666666666666,
              "#ed7953"
             ],
             [
              0.7777777777777778,
              "#fb9f3a"
             ],
             [
              0.8888888888888888,
              "#fdca26"
             ],
             [
              1,
              "#f0f921"
             ]
            ],
            "type": "surface"
           }
          ],
          "table": [
           {
            "cells": {
             "fill": {
              "color": "#EBF0F8"
             },
             "line": {
              "color": "white"
             }
            },
            "header": {
             "fill": {
              "color": "#C8D4E3"
             },
             "line": {
              "color": "white"
             }
            },
            "type": "table"
           }
          ]
         },
         "layout": {
          "annotationdefaults": {
           "arrowcolor": "#2a3f5f",
           "arrowhead": 0,
           "arrowwidth": 1
          },
          "coloraxis": {
           "colorbar": {
            "outlinewidth": 0,
            "ticks": ""
           }
          },
          "colorscale": {
           "diverging": [
            [
             0,
             "#8e0152"
            ],
            [
             0.1,
             "#c51b7d"
            ],
            [
             0.2,
             "#de77ae"
            ],
            [
             0.3,
             "#f1b6da"
            ],
            [
             0.4,
             "#fde0ef"
            ],
            [
             0.5,
             "#f7f7f7"
            ],
            [
             0.6,
             "#e6f5d0"
            ],
            [
             0.7,
             "#b8e186"
            ],
            [
             0.8,
             "#7fbc41"
            ],
            [
             0.9,
             "#4d9221"
            ],
            [
             1,
             "#276419"
            ]
           ],
           "sequential": [
            [
             0,
             "#0d0887"
            ],
            [
             0.1111111111111111,
             "#46039f"
            ],
            [
             0.2222222222222222,
             "#7201a8"
            ],
            [
             0.3333333333333333,
             "#9c179e"
            ],
            [
             0.4444444444444444,
             "#bd3786"
            ],
            [
             0.5555555555555556,
             "#d8576b"
            ],
            [
             0.6666666666666666,
             "#ed7953"
            ],
            [
             0.7777777777777778,
             "#fb9f3a"
            ],
            [
             0.8888888888888888,
             "#fdca26"
            ],
            [
             1,
             "#f0f921"
            ]
           ],
           "sequentialminus": [
            [
             0,
             "#0d0887"
            ],
            [
             0.1111111111111111,
             "#46039f"
            ],
            [
             0.2222222222222222,
             "#7201a8"
            ],
            [
             0.3333333333333333,
             "#9c179e"
            ],
            [
             0.4444444444444444,
             "#bd3786"
            ],
            [
             0.5555555555555556,
             "#d8576b"
            ],
            [
             0.6666666666666666,
             "#ed7953"
            ],
            [
             0.7777777777777778,
             "#fb9f3a"
            ],
            [
             0.8888888888888888,
             "#fdca26"
            ],
            [
             1,
             "#f0f921"
            ]
           ]
          },
          "colorway": [
           "#636efa",
           "#EF553B",
           "#00cc96",
           "#ab63fa",
           "#FFA15A",
           "#19d3f3",
           "#FF6692",
           "#B6E880",
           "#FF97FF",
           "#FECB52"
          ],
          "font": {
           "color": "#2a3f5f"
          },
          "geo": {
           "bgcolor": "white",
           "lakecolor": "white",
           "landcolor": "#E5ECF6",
           "showlakes": true,
           "showland": true,
           "subunitcolor": "white"
          },
          "hoverlabel": {
           "align": "left"
          },
          "hovermode": "closest",
          "mapbox": {
           "style": "light"
          },
          "paper_bgcolor": "white",
          "plot_bgcolor": "#E5ECF6",
          "polar": {
           "angularaxis": {
            "gridcolor": "white",
            "linecolor": "white",
            "ticks": ""
           },
           "bgcolor": "#E5ECF6",
           "radialaxis": {
            "gridcolor": "white",
            "linecolor": "white",
            "ticks": ""
           }
          },
          "scene": {
           "xaxis": {
            "backgroundcolor": "#E5ECF6",
            "gridcolor": "white",
            "gridwidth": 2,
            "linecolor": "white",
            "showbackground": true,
            "ticks": "",
            "zerolinecolor": "white"
           },
           "yaxis": {
            "backgroundcolor": "#E5ECF6",
            "gridcolor": "white",
            "gridwidth": 2,
            "linecolor": "white",
            "showbackground": true,
            "ticks": "",
            "zerolinecolor": "white"
           },
           "zaxis": {
            "backgroundcolor": "#E5ECF6",
            "gridcolor": "white",
            "gridwidth": 2,
            "linecolor": "white",
            "showbackground": true,
            "ticks": "",
            "zerolinecolor": "white"
           }
          },
          "shapedefaults": {
           "line": {
            "color": "#2a3f5f"
           }
          },
          "ternary": {
           "aaxis": {
            "gridcolor": "white",
            "linecolor": "white",
            "ticks": ""
           },
           "baxis": {
            "gridcolor": "white",
            "linecolor": "white",
            "ticks": ""
           },
           "bgcolor": "#E5ECF6",
           "caxis": {
            "gridcolor": "white",
            "linecolor": "white",
            "ticks": ""
           }
          },
          "title": {
           "x": 0.05
          },
          "xaxis": {
           "automargin": true,
           "gridcolor": "white",
           "linecolor": "white",
           "ticks": "",
           "title": {
            "standoff": 15
           },
           "zerolinecolor": "white",
           "zerolinewidth": 2
          },
          "yaxis": {
           "automargin": true,
           "gridcolor": "white",
           "linecolor": "white",
           "ticks": "",
           "title": {
            "standoff": 15
           },
           "zerolinecolor": "white",
           "zerolinewidth": 2
          }
         }
        },
        "title": {
         "text": "Frequency of Elevator Calls by Time"
        },
        "updatemenus": [
         {
          "buttons": [
           {
            "args": [
             null,
             {
              "frame": {
               "duration": 500,
               "redraw": true
              },
              "fromcurrent": true,
              "mode": "immediate",
              "transition": {
               "duration": 500,
               "easing": "linear"
              }
             }
            ],
            "label": "&#9654;",
            "method": "animate"
           },
           {
            "args": [
             [
              null
             ],
             {
              "frame": {
               "duration": 0,
               "redraw": true
              },
              "fromcurrent": true,
              "mode": "immediate",
              "transition": {
               "duration": 0,
               "easing": "linear"
              }
             }
            ],
            "label": "&#9724;",
            "method": "animate"
           }
          ],
          "direction": "left",
          "pad": {
           "r": 10,
           "t": 70
          },
          "showactive": false,
          "type": "buttons",
          "x": 0.1,
          "xanchor": "right",
          "y": 0,
          "yanchor": "top"
         }
        ],
        "xaxis": {
         "anchor": "y",
         "categoryarray": [
          0,
          24
         ],
         "domain": [
          0,
          0.49
         ],
         "nticks": 19,
         "title": {
          "text": "Local Time (GMT+8)"
         },
         "type": "category"
        },
        "xaxis2": {
         "anchor": "y2",
         "categoryarray": [
          0,
          24
         ],
         "domain": [
          0.51,
          1
         ],
         "matches": "x",
         "nticks": 19,
         "title": {
          "text": "Local Time (GMT+8)"
         },
         "type": "category"
        },
        "yaxis": {
         "anchor": "x",
         "domain": [
          0,
          1
         ],
         "range": [
          0,
          1000
         ],
         "title": {
          "text": "avgWait_weekday"
         }
        },
        "yaxis2": {
         "anchor": "x2",
         "domain": [
          0,
          1
         ],
         "matches": "y",
         "range": [
          0,
          1000
         ],
         "showticklabels": false
        }
       }
      },
      "text/html": [
       "<div>\n",
       "        \n",
       "        \n",
       "            <div id=\"34a86a37-0240-484e-9948-ee8ce961f2d4\" class=\"plotly-graph-div\" style=\"height:525px; width:100%;\"></div>\n",
       "            <script type=\"text/javascript\">\n",
       "                require([\"plotly\"], function(Plotly) {\n",
       "                    window.PLOTLYENV=window.PLOTLYENV || {};\n",
       "                    \n",
       "                if (document.getElementById(\"34a86a37-0240-484e-9948-ee8ce961f2d4\")) {\n",
       "                    Plotly.newPlot(\n",
       "                        '34a86a37-0240-484e-9948-ee8ce961f2d4',\n",
       "                        [{\"alignmentgroup\": \"True\", \"hovertemplate\": \"direction=up<br>floor=B4<br>Local Time (GMT+8)=%{x}<br>avgWait_weekday=%{y}<extra></extra>\", \"legendgroup\": \"up\", \"marker\": {\"color\": \"#636efa\"}, \"name\": \"up\", \"offsetgroup\": \"up\", \"orientation\": \"v\", \"showlegend\": true, \"textposition\": \"auto\", \"type\": \"bar\", \"x\": [11, 12, 13, 17, 15, 16, 10, 14, 7, 18, 9, 8, 23, 19, 6, 3, 20, 21, 2, 5, 0, 22, 4, 1], \"xaxis\": \"x\", \"y\": [49.02057613, 48.67666667, 43.59296296, 40.27939394, 35.87952381, 34.2713834, 34.1715859, 32.46376984, 32.40641791, 31.82266667, 31.82159624, 30.08351779, 27.55888889, 26.47895833, 24.82973333, 21.478, 21.43890625, 21.42745455, 20.2575, 14.74583333, 13.54285714, 12.7225, 6.17, 3.435], \"yaxis\": \"y\"}],\n",
       "                        {\"annotations\": [{\"font\": {}, \"showarrow\": false, \"text\": \"direction=up\", \"x\": 0.245, \"xanchor\": \"center\", \"xref\": \"paper\", \"y\": 1.0, \"yanchor\": \"bottom\", \"yref\": \"paper\"}, {\"font\": {}, \"showarrow\": false, \"text\": \"direction=down\", \"x\": 0.755, \"xanchor\": \"center\", \"xref\": \"paper\", \"y\": 1.0, \"yanchor\": \"bottom\", \"yref\": \"paper\"}], \"barmode\": \"relative\", \"legend\": {\"title\": {\"text\": \"direction\"}, \"tracegroupgap\": 0}, \"margin\": {\"t\": 60}, \"sliders\": [{\"active\": 0, \"currentvalue\": {\"prefix\": \"floor=\"}, \"len\": 0.9, \"pad\": {\"b\": 10, \"t\": 60}, \"steps\": [{\"args\": [[\"B4\"], {\"frame\": {\"duration\": 0, \"redraw\": true}, \"fromcurrent\": true, \"mode\": \"immediate\", \"transition\": {\"duration\": 0, \"easing\": \"linear\"}}], \"label\": \"B4\", \"method\": \"animate\"}, {\"args\": [[\"B3\"], {\"frame\": {\"duration\": 0, \"redraw\": true}, \"fromcurrent\": true, \"mode\": \"immediate\", \"transition\": {\"duration\": 0, \"easing\": \"linear\"}}], \"label\": \"B3\", \"method\": \"animate\"}, {\"args\": [[\"B1\"], {\"frame\": {\"duration\": 0, \"redraw\": true}, \"fromcurrent\": true, \"mode\": \"immediate\", \"transition\": {\"duration\": 0, \"easing\": \"linear\"}}], \"label\": \"B1\", \"method\": \"animate\"}, {\"args\": [[\"15\"], {\"frame\": {\"duration\": 0, \"redraw\": true}, \"fromcurrent\": true, \"mode\": \"immediate\", \"transition\": {\"duration\": 0, \"easing\": \"linear\"}}], \"label\": \"15\", \"method\": \"animate\"}, {\"args\": [[\"14\"], {\"frame\": {\"duration\": 0, \"redraw\": true}, \"fromcurrent\": true, \"mode\": \"immediate\", \"transition\": {\"duration\": 0, \"easing\": \"linear\"}}], \"label\": \"14\", \"method\": \"animate\"}, {\"args\": [[\"13\"], {\"frame\": {\"duration\": 0, \"redraw\": true}, \"fromcurrent\": true, \"mode\": \"immediate\", \"transition\": {\"duration\": 0, \"easing\": \"linear\"}}], \"label\": \"13\", \"method\": \"animate\"}, {\"args\": [[\"12\"], {\"frame\": {\"duration\": 0, \"redraw\": true}, \"fromcurrent\": true, \"mode\": \"immediate\", \"transition\": {\"duration\": 0, \"easing\": \"linear\"}}], \"label\": \"12\", \"method\": \"animate\"}, {\"args\": [[\"11\"], {\"frame\": {\"duration\": 0, \"redraw\": true}, \"fromcurrent\": true, \"mode\": \"immediate\", \"transition\": {\"duration\": 0, \"easing\": \"linear\"}}], \"label\": \"11\", \"method\": \"animate\"}, {\"args\": [[\"10\"], {\"frame\": {\"duration\": 0, \"redraw\": true}, \"fromcurrent\": true, \"mode\": \"immediate\", \"transition\": {\"duration\": 0, \"easing\": \"linear\"}}], \"label\": \"10\", \"method\": \"animate\"}, {\"args\": [[\"9\"], {\"frame\": {\"duration\": 0, \"redraw\": true}, \"fromcurrent\": true, \"mode\": \"immediate\", \"transition\": {\"duration\": 0, \"easing\": \"linear\"}}], \"label\": \"9\", \"method\": \"animate\"}, {\"args\": [[\"8\"], {\"frame\": {\"duration\": 0, \"redraw\": true}, \"fromcurrent\": true, \"mode\": \"immediate\", \"transition\": {\"duration\": 0, \"easing\": \"linear\"}}], \"label\": \"8\", \"method\": \"animate\"}, {\"args\": [[\"7\"], {\"frame\": {\"duration\": 0, \"redraw\": true}, \"fromcurrent\": true, \"mode\": \"immediate\", \"transition\": {\"duration\": 0, \"easing\": \"linear\"}}], \"label\": \"7\", \"method\": \"animate\"}, {\"args\": [[\"6\"], {\"frame\": {\"duration\": 0, \"redraw\": true}, \"fromcurrent\": true, \"mode\": \"immediate\", \"transition\": {\"duration\": 0, \"easing\": \"linear\"}}], \"label\": \"6\", \"method\": \"animate\"}, {\"args\": [[\"5\"], {\"frame\": {\"duration\": 0, \"redraw\": true}, \"fromcurrent\": true, \"mode\": \"immediate\", \"transition\": {\"duration\": 0, \"easing\": \"linear\"}}], \"label\": \"5\", \"method\": \"animate\"}, {\"args\": [[\"4\"], {\"frame\": {\"duration\": 0, \"redraw\": true}, \"fromcurrent\": true, \"mode\": \"immediate\", \"transition\": {\"duration\": 0, \"easing\": \"linear\"}}], \"label\": \"4\", \"method\": \"animate\"}, {\"args\": [[\"3\"], {\"frame\": {\"duration\": 0, \"redraw\": true}, \"fromcurrent\": true, \"mode\": \"immediate\", \"transition\": {\"duration\": 0, \"easing\": \"linear\"}}], \"label\": \"3\", \"method\": \"animate\"}, {\"args\": [[\"2\"], {\"frame\": {\"duration\": 0, \"redraw\": true}, \"fromcurrent\": true, \"mode\": \"immediate\", \"transition\": {\"duration\": 0, \"easing\": \"linear\"}}], \"label\": \"2\", \"method\": \"animate\"}, {\"args\": [[\"1\"], {\"frame\": {\"duration\": 0, \"redraw\": true}, \"fromcurrent\": true, \"mode\": \"immediate\", \"transition\": {\"duration\": 0, \"easing\": \"linear\"}}], \"label\": \"1\", \"method\": \"animate\"}], \"x\": 0.1, \"xanchor\": \"left\", \"y\": 0, \"yanchor\": \"top\"}], \"template\": {\"data\": {\"bar\": [{\"error_x\": {\"color\": \"#2a3f5f\"}, \"error_y\": {\"color\": \"#2a3f5f\"}, \"marker\": {\"line\": {\"color\": \"#E5ECF6\", \"width\": 0.5}}, \"type\": \"bar\"}], \"barpolar\": [{\"marker\": {\"line\": {\"color\": \"#E5ECF6\", \"width\": 0.5}}, \"type\": \"barpolar\"}], \"carpet\": [{\"aaxis\": {\"endlinecolor\": \"#2a3f5f\", \"gridcolor\": \"white\", \"linecolor\": \"white\", \"minorgridcolor\": \"white\", \"startlinecolor\": \"#2a3f5f\"}, \"baxis\": {\"endlinecolor\": \"#2a3f5f\", \"gridcolor\": \"white\", \"linecolor\": \"white\", \"minorgridcolor\": \"white\", \"startlinecolor\": \"#2a3f5f\"}, \"type\": \"carpet\"}], \"choropleth\": [{\"colorbar\": {\"outlinewidth\": 0, \"ticks\": \"\"}, \"type\": \"choropleth\"}], \"contour\": [{\"colorbar\": {\"outlinewidth\": 0, \"ticks\": \"\"}, \"colorscale\": [[0.0, \"#0d0887\"], [0.1111111111111111, \"#46039f\"], [0.2222222222222222, \"#7201a8\"], [0.3333333333333333, \"#9c179e\"], [0.4444444444444444, \"#bd3786\"], [0.5555555555555556, \"#d8576b\"], [0.6666666666666666, \"#ed7953\"], [0.7777777777777778, \"#fb9f3a\"], [0.8888888888888888, \"#fdca26\"], [1.0, \"#f0f921\"]], \"type\": \"contour\"}], \"contourcarpet\": [{\"colorbar\": {\"outlinewidth\": 0, \"ticks\": \"\"}, \"type\": \"contourcarpet\"}], \"heatmap\": [{\"colorbar\": {\"outlinewidth\": 0, \"ticks\": \"\"}, \"colorscale\": [[0.0, \"#0d0887\"], [0.1111111111111111, \"#46039f\"], [0.2222222222222222, \"#7201a8\"], [0.3333333333333333, \"#9c179e\"], [0.4444444444444444, \"#bd3786\"], [0.5555555555555556, \"#d8576b\"], [0.6666666666666666, \"#ed7953\"], [0.7777777777777778, \"#fb9f3a\"], [0.8888888888888888, \"#fdca26\"], [1.0, \"#f0f921\"]], \"type\": \"heatmap\"}], \"heatmapgl\": [{\"colorbar\": {\"outlinewidth\": 0, \"ticks\": \"\"}, \"colorscale\": [[0.0, \"#0d0887\"], [0.1111111111111111, \"#46039f\"], [0.2222222222222222, \"#7201a8\"], [0.3333333333333333, \"#9c179e\"], [0.4444444444444444, \"#bd3786\"], [0.5555555555555556, \"#d8576b\"], [0.6666666666666666, \"#ed7953\"], [0.7777777777777778, \"#fb9f3a\"], [0.8888888888888888, \"#fdca26\"], [1.0, \"#f0f921\"]], \"type\": \"heatmapgl\"}], \"histogram\": [{\"marker\": {\"colorbar\": {\"outlinewidth\": 0, \"ticks\": \"\"}}, \"type\": \"histogram\"}], \"histogram2d\": [{\"colorbar\": {\"outlinewidth\": 0, \"ticks\": \"\"}, \"colorscale\": [[0.0, \"#0d0887\"], [0.1111111111111111, \"#46039f\"], [0.2222222222222222, \"#7201a8\"], [0.3333333333333333, \"#9c179e\"], [0.4444444444444444, \"#bd3786\"], [0.5555555555555556, \"#d8576b\"], [0.6666666666666666, \"#ed7953\"], [0.7777777777777778, \"#fb9f3a\"], [0.8888888888888888, \"#fdca26\"], [1.0, \"#f0f921\"]], \"type\": \"histogram2d\"}], \"histogram2dcontour\": [{\"colorbar\": {\"outlinewidth\": 0, \"ticks\": \"\"}, \"colorscale\": [[0.0, \"#0d0887\"], [0.1111111111111111, \"#46039f\"], [0.2222222222222222, \"#7201a8\"], [0.3333333333333333, \"#9c179e\"], [0.4444444444444444, \"#bd3786\"], [0.5555555555555556, \"#d8576b\"], [0.6666666666666666, \"#ed7953\"], [0.7777777777777778, \"#fb9f3a\"], [0.8888888888888888, \"#fdca26\"], [1.0, \"#f0f921\"]], \"type\": \"histogram2dcontour\"}], \"mesh3d\": [{\"colorbar\": {\"outlinewidth\": 0, \"ticks\": \"\"}, \"type\": \"mesh3d\"}], \"parcoords\": [{\"line\": {\"colorbar\": {\"outlinewidth\": 0, \"ticks\": \"\"}}, \"type\": \"parcoords\"}], \"pie\": [{\"automargin\": true, \"type\": \"pie\"}], \"scatter\": [{\"marker\": {\"colorbar\": {\"outlinewidth\": 0, \"ticks\": \"\"}}, \"type\": \"scatter\"}], \"scatter3d\": [{\"line\": {\"colorbar\": {\"outlinewidth\": 0, \"ticks\": \"\"}}, \"marker\": {\"colorbar\": {\"outlinewidth\": 0, \"ticks\": \"\"}}, \"type\": \"scatter3d\"}], \"scattercarpet\": [{\"marker\": {\"colorbar\": {\"outlinewidth\": 0, \"ticks\": \"\"}}, \"type\": \"scattercarpet\"}], \"scattergeo\": [{\"marker\": {\"colorbar\": {\"outlinewidth\": 0, \"ticks\": \"\"}}, \"type\": \"scattergeo\"}], \"scattergl\": [{\"marker\": {\"colorbar\": {\"outlinewidth\": 0, \"ticks\": \"\"}}, \"type\": \"scattergl\"}], \"scattermapbox\": [{\"marker\": {\"colorbar\": {\"outlinewidth\": 0, \"ticks\": \"\"}}, \"type\": \"scattermapbox\"}], \"scatterpolar\": [{\"marker\": {\"colorbar\": {\"outlinewidth\": 0, \"ticks\": \"\"}}, \"type\": \"scatterpolar\"}], \"scatterpolargl\": [{\"marker\": {\"colorbar\": {\"outlinewidth\": 0, \"ticks\": \"\"}}, \"type\": \"scatterpolargl\"}], \"scatterternary\": [{\"marker\": {\"colorbar\": {\"outlinewidth\": 0, \"ticks\": \"\"}}, \"type\": \"scatterternary\"}], \"surface\": [{\"colorbar\": {\"outlinewidth\": 0, \"ticks\": \"\"}, \"colorscale\": [[0.0, \"#0d0887\"], [0.1111111111111111, \"#46039f\"], [0.2222222222222222, \"#7201a8\"], [0.3333333333333333, \"#9c179e\"], [0.4444444444444444, \"#bd3786\"], [0.5555555555555556, \"#d8576b\"], [0.6666666666666666, \"#ed7953\"], [0.7777777777777778, \"#fb9f3a\"], [0.8888888888888888, \"#fdca26\"], [1.0, \"#f0f921\"]], \"type\": \"surface\"}], \"table\": [{\"cells\": {\"fill\": {\"color\": \"#EBF0F8\"}, \"line\": {\"color\": \"white\"}}, \"header\": {\"fill\": {\"color\": \"#C8D4E3\"}, \"line\": {\"color\": \"white\"}}, \"type\": \"table\"}]}, \"layout\": {\"annotationdefaults\": {\"arrowcolor\": \"#2a3f5f\", \"arrowhead\": 0, \"arrowwidth\": 1}, \"coloraxis\": {\"colorbar\": {\"outlinewidth\": 0, \"ticks\": \"\"}}, \"colorscale\": {\"diverging\": [[0, \"#8e0152\"], [0.1, \"#c51b7d\"], [0.2, \"#de77ae\"], [0.3, \"#f1b6da\"], [0.4, \"#fde0ef\"], [0.5, \"#f7f7f7\"], [0.6, \"#e6f5d0\"], [0.7, \"#b8e186\"], [0.8, \"#7fbc41\"], [0.9, \"#4d9221\"], [1, \"#276419\"]], \"sequential\": [[0.0, \"#0d0887\"], [0.1111111111111111, \"#46039f\"], [0.2222222222222222, \"#7201a8\"], [0.3333333333333333, \"#9c179e\"], [0.4444444444444444, \"#bd3786\"], [0.5555555555555556, \"#d8576b\"], [0.6666666666666666, \"#ed7953\"], [0.7777777777777778, \"#fb9f3a\"], [0.8888888888888888, \"#fdca26\"], [1.0, \"#f0f921\"]], \"sequentialminus\": [[0.0, \"#0d0887\"], [0.1111111111111111, \"#46039f\"], [0.2222222222222222, \"#7201a8\"], [0.3333333333333333, \"#9c179e\"], [0.4444444444444444, \"#bd3786\"], [0.5555555555555556, \"#d8576b\"], [0.6666666666666666, \"#ed7953\"], [0.7777777777777778, \"#fb9f3a\"], [0.8888888888888888, \"#fdca26\"], [1.0, \"#f0f921\"]]}, \"colorway\": [\"#636efa\", \"#EF553B\", \"#00cc96\", \"#ab63fa\", \"#FFA15A\", \"#19d3f3\", \"#FF6692\", \"#B6E880\", \"#FF97FF\", \"#FECB52\"], \"font\": {\"color\": \"#2a3f5f\"}, \"geo\": {\"bgcolor\": \"white\", \"lakecolor\": \"white\", \"landcolor\": \"#E5ECF6\", \"showlakes\": true, \"showland\": true, \"subunitcolor\": \"white\"}, \"hoverlabel\": {\"align\": \"left\"}, \"hovermode\": \"closest\", \"mapbox\": {\"style\": \"light\"}, \"paper_bgcolor\": \"white\", \"plot_bgcolor\": \"#E5ECF6\", \"polar\": {\"angularaxis\": {\"gridcolor\": \"white\", \"linecolor\": \"white\", \"ticks\": \"\"}, \"bgcolor\": \"#E5ECF6\", \"radialaxis\": {\"gridcolor\": \"white\", \"linecolor\": \"white\", \"ticks\": \"\"}}, \"scene\": {\"xaxis\": {\"backgroundcolor\": \"#E5ECF6\", \"gridcolor\": \"white\", \"gridwidth\": 2, \"linecolor\": \"white\", \"showbackground\": true, \"ticks\": \"\", \"zerolinecolor\": \"white\"}, \"yaxis\": {\"backgroundcolor\": \"#E5ECF6\", \"gridcolor\": \"white\", \"gridwidth\": 2, \"linecolor\": \"white\", \"showbackground\": true, \"ticks\": \"\", \"zerolinecolor\": \"white\"}, \"zaxis\": {\"backgroundcolor\": \"#E5ECF6\", \"gridcolor\": \"white\", \"gridwidth\": 2, \"linecolor\": \"white\", \"showbackground\": true, \"ticks\": \"\", \"zerolinecolor\": \"white\"}}, \"shapedefaults\": {\"line\": {\"color\": \"#2a3f5f\"}}, \"ternary\": {\"aaxis\": {\"gridcolor\": \"white\", \"linecolor\": \"white\", \"ticks\": \"\"}, \"baxis\": {\"gridcolor\": \"white\", \"linecolor\": \"white\", \"ticks\": \"\"}, \"bgcolor\": \"#E5ECF6\", \"caxis\": {\"gridcolor\": \"white\", \"linecolor\": \"white\", \"ticks\": \"\"}}, \"title\": {\"x\": 0.05}, \"xaxis\": {\"automargin\": true, \"gridcolor\": \"white\", \"linecolor\": \"white\", \"ticks\": \"\", \"title\": {\"standoff\": 15}, \"zerolinecolor\": \"white\", \"zerolinewidth\": 2}, \"yaxis\": {\"automargin\": true, \"gridcolor\": \"white\", \"linecolor\": \"white\", \"ticks\": \"\", \"title\": {\"standoff\": 15}, \"zerolinecolor\": \"white\", \"zerolinewidth\": 2}}}, \"title\": {\"text\": \"Frequency of Elevator Calls by Time\"}, \"updatemenus\": [{\"buttons\": [{\"args\": [null, {\"frame\": {\"duration\": 500, \"redraw\": true}, \"fromcurrent\": true, \"mode\": \"immediate\", \"transition\": {\"duration\": 500, \"easing\": \"linear\"}}], \"label\": \"&#9654;\", \"method\": \"animate\"}, {\"args\": [[null], {\"frame\": {\"duration\": 0, \"redraw\": true}, \"fromcurrent\": true, \"mode\": \"immediate\", \"transition\": {\"duration\": 0, \"easing\": \"linear\"}}], \"label\": \"&#9724;\", \"method\": \"animate\"}], \"direction\": \"left\", \"pad\": {\"r\": 10, \"t\": 70}, \"showactive\": false, \"type\": \"buttons\", \"x\": 0.1, \"xanchor\": \"right\", \"y\": 0, \"yanchor\": \"top\"}], \"xaxis\": {\"anchor\": \"y\", \"categoryarray\": [0, 24], \"domain\": [0.0, 0.49], \"nticks\": 19, \"title\": {\"text\": \"Local Time (GMT+8)\"}, \"type\": \"category\"}, \"xaxis2\": {\"anchor\": \"y2\", \"categoryarray\": [0, 24], \"domain\": [0.51, 1.0], \"matches\": \"x\", \"nticks\": 19, \"title\": {\"text\": \"Local Time (GMT+8)\"}, \"type\": \"category\"}, \"yaxis\": {\"anchor\": \"x\", \"domain\": [0.0, 1.0], \"range\": [0, 1000], \"title\": {\"text\": \"avgWait_weekday\"}}, \"yaxis2\": {\"anchor\": \"x2\", \"domain\": [0.0, 1.0], \"matches\": \"y\", \"range\": [0, 1000], \"showticklabels\": false}},\n",
       "                        {\"responsive\": true}\n",
       "                    ).then(function(){\n",
       "                            Plotly.addFrames('34a86a37-0240-484e-9948-ee8ce961f2d4', [{\"data\": [{\"alignmentgroup\": \"True\", \"hovertemplate\": \"direction=up<br>floor=B4<br>Local Time (GMT+8)=%{x}<br>avgWait_weekday=%{y}<extra></extra>\", \"legendgroup\": \"up\", \"marker\": {\"color\": \"#636efa\"}, \"name\": \"up\", \"offsetgroup\": \"up\", \"orientation\": \"v\", \"showlegend\": true, \"textposition\": \"auto\", \"x\": [11, 12, 13, 17, 15, 16, 10, 14, 7, 18, 9, 8, 23, 19, 6, 3, 20, 21, 2, 5, 0, 22, 4, 1], \"xaxis\": \"x\", \"y\": [49.02057613, 48.67666667, 43.59296296, 40.27939394, 35.87952381, 34.2713834, 34.1715859, 32.46376984, 32.40641791, 31.82266667, 31.82159624, 30.08351779, 27.55888889, 26.47895833, 24.82973333, 21.478, 21.43890625, 21.42745455, 20.2575, 14.74583333, 13.54285714, 12.7225, 6.17, 3.435], \"yaxis\": \"y\", \"type\": \"bar\"}], \"name\": \"B4\"}, {\"data\": [{\"alignmentgroup\": \"True\", \"hovertemplate\": \"direction=up<br>floor=B3<br>Local Time (GMT+8)=%{x}<br>avgWait_weekday=%{y}<extra></extra>\", \"legendgroup\": \"up\", \"marker\": {\"color\": \"#636efa\"}, \"name\": \"up\", \"offsetgroup\": \"up\", \"orientation\": \"v\", \"showlegend\": true, \"textposition\": \"auto\", \"x\": [19, 20, 12, 13, 14, 11, 10, 18, 8, 21, 7, 17, 16, 9, 22, 23, 15, 5, 0, 6, 4, 1], \"xaxis\": \"x\", \"y\": [34.61463415, 29.92285714, 27.95846847, 22.53537634, 21.90603774, 21.71535088, 20.58682243, 20.53404762, 20.17243243, 20.07733333, 19.91534392, 19.60731343, 19.57567568, 18.43597015, 18.15222222, 16.64, 16.150990099999998, 15.06, 14.26, 13.83535714, 13.16, 8.81], \"yaxis\": \"y\", \"type\": \"bar\"}, {\"alignmentgroup\": \"True\", \"hovertemplate\": \"direction=down<br>floor=B3<br>Local Time (GMT+8)=%{x}<br>avgWait_weekday=%{y}<extra></extra>\", \"legendgroup\": \"down\", \"marker\": {\"color\": \"#EF553B\"}, \"name\": \"down\", \"offsetgroup\": \"down\", \"orientation\": \"v\", \"showlegend\": true, \"textposition\": \"auto\", \"x\": [19, 21, 9, 11, 17, 8, 18, 10, 14, 12, 7, 15, 22, 13, 16, 6], \"xaxis\": \"x2\", \"y\": [56.8, 53.66333333, 42.51071429, 36.19391304, 33.78166667, 30.31272727, 25.26, 25.10037037, 23.7655, 22.92956522, 22.58, 21.84884615, 20.1, 18.629, 18.58392857, 11.72], \"yaxis\": \"y2\", \"type\": \"bar\"}], \"name\": \"B3\"}, {\"data\": [{\"alignmentgroup\": \"True\", \"hovertemplate\": \"direction=up<br>floor=B1<br>Local Time (GMT+8)=%{x}<br>avgWait_weekday=%{y}<extra></extra>\", \"legendgroup\": \"up\", \"marker\": {\"color\": \"#636efa\"}, \"name\": \"up\", \"offsetgroup\": \"up\", \"orientation\": \"v\", \"showlegend\": true, \"textposition\": \"auto\", \"x\": [18, 19, 17, 12, 10, 16, 14, 15, 11, 8, 13, 9, 7, 20, 6, 21, 22, 23, 0, 4, 3, 5, 1, 2], \"xaxis\": \"x\", \"y\": [44.52363636, 43.256319700000006, 34.59875686, 33.96481203, 30.99402844, 30.23877944, 29.7032636, 29.27938215, 28.9941483, 28.25829181, 27.07171598, 26.97566462, 26.18236715, 25.63469043, 19.47764706, 18.96095679, 15.71271186, 15.38538012, 10.28657895, 9.189473684, 9.102142857, 7.678333332999999, 7.592954545, 6.351818182000001], \"yaxis\": \"y\", \"type\": \"bar\"}, {\"alignmentgroup\": \"True\", \"hovertemplate\": \"direction=down<br>floor=B1<br>Local Time (GMT+8)=%{x}<br>avgWait_weekday=%{y}<extra></extra>\", \"legendgroup\": \"down\", \"marker\": {\"color\": \"#EF553B\"}, \"name\": \"down\", \"offsetgroup\": \"down\", \"orientation\": \"v\", \"showlegend\": true, \"textposition\": \"auto\", \"x\": [6, 18, 7, 17, 19, 11, 13, 8, 10, 12, 21, 20, 14, 9, 15, 16, 22, 0, 1, 23, 3], \"xaxis\": \"x2\", \"y\": [31.29852941, 29.318, 28.96854839, 28.58122642, 28.00276923, 25.9253271, 25.245530300000002, 25.05783133, 24.15363636, 23.603387100000003, 22.42967742, 22.27, 22.07666667, 21.0788764, 20.39195122, 17.15445378, 14.00636364, 11.775, 10.204, 8.802222222000001, 1.21], \"yaxis\": \"y2\", \"type\": \"bar\"}], \"name\": \"B1\"}, {\"data\": [{\"alignmentgroup\": \"True\", \"hovertemplate\": \"direction=down<br>floor=15<br>Local Time (GMT+8)=%{x}<br>avgWait_weekday=%{y}<extra></extra>\", \"legendgroup\": \"down\", \"marker\": {\"color\": \"#EF553B\"}, \"name\": \"down\", \"offsetgroup\": \"down\", \"orientation\": \"v\", \"showlegend\": true, \"textposition\": \"auto\", \"x\": [12, 9, 13, 10, 11, 15, 14, 16, 17, 18, 8, 19, 7, 20, 21, 6, 22, 5, 23, 0, 1, 3], \"xaxis\": \"x2\", \"y\": [81.15102703, 80.90065789, 79.45678322, 78.43833333, 77.81405941, 77.34607595, 74.46777778, 74.27364583, 73.46947115, 56.42613861, 54.88721311, 52.25733333, 50.59324324, 43.96684211, 36.65133333, 30.40777778, 29.85708333, 27.57333333, 24.7204, 24.1675, 18.51384615, 11.755], \"yaxis\": \"y2\", \"type\": \"bar\"}], \"name\": \"15\"}, {\"data\": [{\"alignmentgroup\": \"True\", \"hovertemplate\": \"direction=up<br>floor=14<br>Local Time (GMT+8)=%{x}<br>avgWait_weekday=%{y}<extra></extra>\", \"legendgroup\": \"up\", \"marker\": {\"color\": \"#636efa\"}, \"name\": \"up\", \"offsetgroup\": \"up\", \"orientation\": \"v\", \"showlegend\": true, \"textposition\": \"auto\", \"x\": [17, 10, 16, 14, 13, 9, 12, 18, 15, 11, 8, 19, 7, 1, 6, 21, 20, 5, 0, 22, 23, 3], \"xaxis\": \"x\", \"y\": [124.52083329999999, 120.40571429999999, 108.57333329999999, 105.20333329999998, 95.06, 82.90636364, 76.56933333, 74.54666667, 73.85333333, 65.49533333, 63.59923077, 59.45, 53.299, 43.53, 38.9175, 38.55538462, 35.056, 28.53, 26.065, 24.955, 22.23, 15.48], \"yaxis\": \"y\", \"type\": \"bar\"}, {\"alignmentgroup\": \"True\", \"hovertemplate\": \"direction=down<br>floor=14<br>Local Time (GMT+8)=%{x}<br>avgWait_weekday=%{y}<extra></extra>\", \"legendgroup\": \"down\", \"marker\": {\"color\": \"#EF553B\"}, \"name\": \"down\", \"offsetgroup\": \"down\", \"orientation\": \"v\", \"showlegend\": true, \"textposition\": \"auto\", \"x\": [18, 14, 13, 11, 10, 19, 16, 15, 17, 9, 12, 8, 7, 20, 6, 21, 0, 22, 23, 5, 2, 3, 1, 4], \"xaxis\": \"x2\", \"y\": [67.28525907, 66.90239344, 66.39167183, 65.99817109, 61.85969492, 60.64501312, 60.32532353, 60.21380952, 57.89131105, 57.86033639, 56.40991525, 55.02916968, 46.19707865, 45.709587299999995, 32.30084507, 30.37207627, 25.31118644, 23.79747368, 22.18972603, 20.13511111, 18.91521739, 18.72785714, 18.54958904, 14.42416667], \"yaxis\": \"y2\", \"type\": \"bar\"}], \"name\": \"14\"}, {\"data\": [{\"alignmentgroup\": \"True\", \"hovertemplate\": \"direction=up<br>floor=13<br>Local Time (GMT+8)=%{x}<br>avgWait_weekday=%{y}<extra></extra>\", \"legendgroup\": \"up\", \"marker\": {\"color\": \"#636efa\"}, \"name\": \"up\", \"offsetgroup\": \"up\", \"orientation\": \"v\", \"showlegend\": true, \"textposition\": \"auto\", \"x\": [12, 14, 9, 17, 20, 18, 8, 10, 13, 19, 11, 7, 16, 6, 15, 23, 1, 5, 21, 2, 0, 22], \"xaxis\": \"x\", \"y\": [82.04, 71.12, 65.93875, 60.67411765, 56.98285714, 55.132, 51.92125, 50.19272727, 45.36952381, 39.76384615, 38.76516129, 38.72545455, 33.88583333, 32.80071429, 28.94066667, 23.56, 22.285, 21.691999999999997, 21.35, 18.95, 13.355, 7.62], \"yaxis\": \"y\", \"type\": \"bar\"}, {\"alignmentgroup\": \"True\", \"hovertemplate\": \"direction=down<br>floor=13<br>Local Time (GMT+8)=%{x}<br>avgWait_weekday=%{y}<extra></extra>\", \"legendgroup\": \"down\", \"marker\": {\"color\": \"#EF553B\"}, \"name\": \"down\", \"offsetgroup\": \"down\", \"orientation\": \"v\", \"showlegend\": true, \"textposition\": \"auto\", \"x\": [11, 12, 17, 16, 13, 10, 7, 9, 15, 14, 8, 19, 18, 6, 20, 0, 22, 5, 4, 21, 3, 2, 23, 1], \"xaxis\": \"x2\", \"y\": [34.95441261, 33.63287709, 32.54225974, 28.74621849, 28.48062893, 28.24836237, 27.63387454, 27.16094801, 26.75651316, 26.33547855, 25.12909375, 24.89744745, 24.5861828, 20.12730994, 19.91897059, 19.11021739, 18.24455285, 17.36139535, 16.9595, 16.53364486, 16.22555556, 15.69214286, 14.45054795, 12.33333333], \"yaxis\": \"y2\", \"type\": \"bar\"}], \"name\": \"13\"}, {\"data\": [{\"alignmentgroup\": \"True\", \"hovertemplate\": \"direction=up<br>floor=12<br>Local Time (GMT+8)=%{x}<br>avgWait_weekday=%{y}<extra></extra>\", \"legendgroup\": \"up\", \"marker\": {\"color\": \"#636efa\"}, \"name\": \"up\", \"offsetgroup\": \"up\", \"orientation\": \"v\", \"showlegend\": true, \"textposition\": \"auto\", \"x\": [20, 13, 11, 8, 12, 16, 6, 19, 18, 7, 17, 21, 9, 10, 14, 15, 0, 23, 22, 3, 1, 5], \"xaxis\": \"x\", \"y\": [67.63416667, 61.32857143, 60.13380952, 56.79, 55.82, 47.16095238, 45.04428571, 42.47083333, 41.685, 41.51333333, 41.29777778, 40.165, 39.74538462, 37.64633333, 34.89782609, 27.82363636, 21.81333333, 14.852, 13.06857143, 12.55, 10.975, 9.35], \"yaxis\": \"y\", \"type\": \"bar\"}, {\"alignmentgroup\": \"True\", \"hovertemplate\": \"direction=down<br>floor=12<br>Local Time (GMT+8)=%{x}<br>avgWait_weekday=%{y}<extra></extra>\", \"legendgroup\": \"down\", \"marker\": {\"color\": \"#EF553B\"}, \"name\": \"down\", \"offsetgroup\": \"down\", \"orientation\": \"v\", \"showlegend\": true, \"textposition\": \"auto\", \"x\": [6, 7, 8, 1, 13, 15, 9, 22, 16, 3, 11, 20, 14, 19, 4, 12, 0, 10, 2, 18, 23, 5, 17, 21], \"xaxis\": \"x2\", \"y\": [22.43213675, 22.22938628, 20.93503425, 19.85133333, 19.80119318, 19.24252427, 19.07154639, 18.96982759, 18.953, 18.740625, 18.70092063, 18.57537931, 18.28167192, 18.14810726, 17.96111111, 17.24123596, 17.05585366, 16.43317518, 16.43, 16.32425743, 16.21826087, 15.0152459, 14.60273657, 14.39316832], \"yaxis\": \"y2\", \"type\": \"bar\"}], \"name\": \"12\"}, {\"data\": [{\"alignmentgroup\": \"True\", \"hovertemplate\": \"direction=up<br>floor=11<br>Local Time (GMT+8)=%{x}<br>avgWait_weekday=%{y}<extra></extra>\", \"legendgroup\": \"up\", \"marker\": {\"color\": \"#636efa\"}, \"name\": \"up\", \"offsetgroup\": \"up\", \"orientation\": \"v\", \"showlegend\": true, \"textposition\": \"auto\", \"x\": [8, 18, 7, 17, 6, 9, 12, 16, 11, 21, 13, 15, 14, 19, 0, 22, 20, 10, 23, 3, 5], \"xaxis\": \"x\", \"y\": [87.75, 60.48166667, 56.35153846, 53.33571429, 50.43666667, 48.53125, 47.2825, 46.68058824, 43.66769231, 41.934, 40.21210526, 38.58833333, 38.48875, 37.16888889, 31.22, 23.47166667, 23.39555556, 22.76692308, 20.0475, 17.43, 15.34], \"yaxis\": \"y\", \"type\": \"bar\"}, {\"alignmentgroup\": \"True\", \"hovertemplate\": \"direction=down<br>floor=11<br>Local Time (GMT+8)=%{x}<br>avgWait_weekday=%{y}<extra></extra>\", \"legendgroup\": \"down\", \"marker\": {\"color\": \"#EF553B\"}, \"name\": \"down\", \"offsetgroup\": \"down\", \"orientation\": \"v\", \"showlegend\": true, \"textposition\": \"auto\", \"x\": [6, 3, 1, 2, 23, 7, 4, 22, 20, 19, 0, 8, 5, 21, 10, 15, 14, 9, 11, 16, 17, 18, 13, 12], \"xaxis\": \"x2\", \"y\": [20.06993548, 19.49666667, 19.3175, 18.86933333, 17.79866667, 17.44232975, 16.97833333, 16.8965035, 16.37824324, 16.04068323, 15.82484375, 15.76152905, 15.74191489, 15.38950226, 15.36433447, 15.20768116, 15.08414894, 14.76299003, 14.025448499999998, 13.86175896, 13.7068595, 13.27431635, 12.92865031, 12.78285256], \"yaxis\": \"y2\", \"type\": \"bar\"}], \"name\": \"11\"}, {\"data\": [{\"alignmentgroup\": \"True\", \"hovertemplate\": \"direction=up<br>floor=10<br>Local Time (GMT+8)=%{x}<br>avgWait_weekday=%{y}<extra></extra>\", \"legendgroup\": \"up\", \"marker\": {\"color\": \"#636efa\"}, \"name\": \"up\", \"offsetgroup\": \"up\", \"orientation\": \"v\", \"showlegend\": true, \"textposition\": \"auto\", \"x\": [14, 9, 18, 7, 20, 19, 6, 12, 15, 8, 11, 16, 10, 17, 13, 21, 22], \"xaxis\": \"x\", \"y\": [97.97, 81.76333333, 76.123, 62.675, 60.94333333, 59.80529412, 56.13, 55.22916667, 54.275, 50.64428571, 49.4708, 49.30206897, 45.78551724, 45.53444444, 45.257, 20.885, 6.696666667000001], \"yaxis\": \"y\", \"type\": \"bar\"}, {\"alignmentgroup\": \"True\", \"hovertemplate\": \"direction=down<br>floor=10<br>Local Time (GMT+8)=%{x}<br>avgWait_weekday=%{y}<extra></extra>\", \"legendgroup\": \"down\", \"marker\": {\"color\": \"#EF553B\"}, \"name\": \"down\", \"offsetgroup\": \"down\", \"orientation\": \"v\", \"showlegend\": true, \"textposition\": \"auto\", \"x\": [2, 21, 7, 23, 3, 13, 18, 22, 8, 11, 9, 20, 15, 16, 1, 17, 10, 14, 12, 0, 19, 4, 5], \"xaxis\": \"x2\", \"y\": [18.24, 17.70148148, 16.54090909, 14.46, 14.29666667, 13.70944882, 13.21192308, 13.01421053, 12.82487805, 12.4034375, 12.38146341, 12.11272727, 11.80709877, 11.22534722, 11.16, 11.09888268, 11.08622378, 10.91760274, 10.90515152, 9.605714286, 9.386145832999999, 6.886666667, 6.766666667000001], \"yaxis\": \"y2\", \"type\": \"bar\"}], \"name\": \"10\"}, {\"data\": [{\"alignmentgroup\": \"True\", \"hovertemplate\": \"direction=up<br>floor=9<br>Local Time (GMT+8)=%{x}<br>avgWait_weekday=%{y}<extra></extra>\", \"legendgroup\": \"up\", \"marker\": {\"color\": \"#636efa\"}, \"name\": \"up\", \"offsetgroup\": \"up\", \"orientation\": \"v\", \"showlegend\": true, \"textposition\": \"auto\", \"x\": [19, 9, 10, 17, 11, 8, 18, 13, 16, 12, 14, 20, 15, 7, 0, 6, 21, 22, 2, 5, 1, 3, 23], \"xaxis\": \"x\", \"y\": [99.1375, 72.303, 65.78346154, 59.38368421, 58.41840909, 56.09391304, 52.2526087, 51.2504, 48.39352941, 48.34892857, 43.582, 42.305625, 42.28744681, 39.35578947, 35.39, 28.95, 27.555, 18.9725, 16.85, 16.77, 14.155, 11.01, 9.16], \"yaxis\": \"y\", \"type\": \"bar\"}, {\"alignmentgroup\": \"True\", \"hovertemplate\": \"direction=down<br>floor=9<br>Local Time (GMT+8)=%{x}<br>avgWait_weekday=%{y}<extra></extra>\", \"legendgroup\": \"down\", \"marker\": {\"color\": \"#EF553B\"}, \"name\": \"down\", \"offsetgroup\": \"down\", \"orientation\": \"v\", \"showlegend\": true, \"textposition\": \"auto\", \"x\": [3, 23, 22, 0, 5, 6, 7, 4, 20, 8, 2, 1, 21, 14, 13, 16, 19, 9, 11, 15, 12, 10, 18, 17], \"xaxis\": \"x2\", \"y\": [22.82714286, 18.21734694, 17.52858333, 17.36852941, 16.51724138, 16.45621359, 16.08915612, 15.61222222, 15.55846939, 14.61520548, 14.6125, 14.52883333, 14.47578755, 13.49208754, 13.24744027, 13.084625, 13.03622478, 12.49076412, 12.3802649, 12.02182724, 11.94447712, 11.77430556, 11.50292308, 10.88948787], \"yaxis\": \"y2\", \"type\": \"bar\"}], \"name\": \"9\"}, {\"data\": [{\"alignmentgroup\": \"True\", \"hovertemplate\": \"direction=up<br>floor=8<br>Local Time (GMT+8)=%{x}<br>avgWait_weekday=%{y}<extra></extra>\", \"legendgroup\": \"up\", \"marker\": {\"color\": \"#636efa\"}, \"name\": \"up\", \"offsetgroup\": \"up\", \"orientation\": \"v\", \"showlegend\": true, \"textposition\": \"auto\", \"x\": [8, 19, 9, 14, 13, 10, 16, 17, 15, 11, 23, 18, 12, 20, 21, 6, 7, 1, 22, 5, 0], \"xaxis\": \"x\", \"y\": [72.46166667, 69.84, 67.49621622, 62.34644068, 60.61282051, 54.761, 53.43063492, 53.22464286, 51.44793651, 50.23160714, 47.77, 47.1832, 46.87555556, 46.16555556, 37.94583333, 36.99, 36.41380952, 18.1625, 16.97, 16.32, 15.98], \"yaxis\": \"y\", \"type\": \"bar\"}, {\"alignmentgroup\": \"True\", \"hovertemplate\": \"direction=down<br>floor=8<br>Local Time (GMT+8)=%{x}<br>avgWait_weekday=%{y}<extra></extra>\", \"legendgroup\": \"down\", \"marker\": {\"color\": \"#EF553B\"}, \"name\": \"down\", \"offsetgroup\": \"down\", \"orientation\": \"v\", \"showlegend\": true, \"textposition\": \"auto\", \"x\": [6, 23, 0, 22, 7, 4, 5, 21, 2, 1, 20, 19, 9, 8, 3, 18, 13, 14, 10, 12, 15, 17, 11, 16], \"xaxis\": \"x2\", \"y\": [18.77839744, 17.28546667, 16.39051471, 16.39025, 16.35487365, 16.33388889, 15.97366667, 15.139000000000001, 15.09913043, 14.85595238, 14.59897297, 13.9447185, 13.15844156, 13.11241983, 12.85333333, 12.13253133, 12.00620178, 12.00324759, 11.67217105, 11.61687307, 10.39535484, 10.04880556, 9.987006578999999, 9.812330623], \"yaxis\": \"y2\", \"type\": \"bar\"}], \"name\": \"8\"}, {\"data\": [{\"alignmentgroup\": \"True\", \"hovertemplate\": \"direction=up<br>floor=7<br>Local Time (GMT+8)=%{x}<br>avgWait_weekday=%{y}<extra></extra>\", \"legendgroup\": \"up\", \"marker\": {\"color\": \"#636efa\"}, \"name\": \"up\", \"offsetgroup\": \"up\", \"orientation\": \"v\", \"showlegend\": true, \"textposition\": \"auto\", \"x\": [16, 9, 12, 13, 14, 8, 15, 17, 18, 11, 10, 7, 19, 20, 21, 22, 0, 4, 23, 1, 3, 6], \"xaxis\": \"x\", \"y\": [78.83933333, 71.21574074, 69.27978723, 67.79828947, 66.76563636, 64.17617647, 63.75333333, 62.91493151, 62.71285714, 61.0715493, 53.16671642, 50.69862069, 44.98175, 36.3368, 31.70882353, 20.70625, 20.34833333, 14.7925, 14.40571429, 12.7, 9.38, 7.438], \"yaxis\": \"y\", \"type\": \"bar\"}, {\"alignmentgroup\": \"True\", \"hovertemplate\": \"direction=down<br>floor=7<br>Local Time (GMT+8)=%{x}<br>avgWait_weekday=%{y}<extra></extra>\", \"legendgroup\": \"down\", \"marker\": {\"color\": \"#EF553B\"}, \"name\": \"down\", \"offsetgroup\": \"down\", \"orientation\": \"v\", \"showlegend\": true, \"textposition\": \"auto\", \"x\": [23, 2, 6, 3, 7, 22, 5, 1, 20, 21, 4, 0, 19, 8, 9, 14, 15, 13, 11, 12, 18, 10, 16, 17], \"xaxis\": \"x2\", \"y\": [16.98634409, 16.93836735, 15.8811413, 15.74322581, 14.52095618, 14.16201149, 14.10964286, 13.95048387, 13.93146154, 13.91429012, 13.53473684, 13.27657143, 13.18874693, 12.50026217, 11.95281588, 11.86885246, 11.35462295, 11.03775244, 10.90224422, 10.85493671, 10.70521053, 10.69985965, 10.08903904, 9.857471591], \"yaxis\": \"y2\", \"type\": \"bar\"}], \"name\": \"7\"}, {\"data\": [{\"alignmentgroup\": \"True\", \"hovertemplate\": \"direction=up<br>floor=6<br>Local Time (GMT+8)=%{x}<br>avgWait_weekday=%{y}<extra></extra>\", \"legendgroup\": \"up\", \"marker\": {\"color\": \"#636efa\"}, \"name\": \"up\", \"offsetgroup\": \"up\", \"orientation\": \"v\", \"showlegend\": true, \"textposition\": \"auto\", \"x\": [15, 13, 14, 10, 12, 17, 11, 7, 9, 19, 18, 16, 8, 20, 6, 21, 23, 5, 22, 0, 1, 4, 2, 3], \"xaxis\": \"x\", \"y\": [93.01814286, 90.40340909, 78.14044444, 77.38109589, 76.69696429, 73.70109091, 71.81855263, 70.99287671, 70.92916667, 66.19464286, 60.66258065, 59.93780822, 59.75162791, 40.463125, 38.51806452, 37.91666667, 25.69583333, 25.07, 22.471999999999998, 12.99166667, 10.25, 9.5, 9.34, 0.725], \"yaxis\": \"y\", \"type\": \"bar\"}, {\"alignmentgroup\": \"True\", \"hovertemplate\": \"direction=down<br>floor=6<br>Local Time (GMT+8)=%{x}<br>avgWait_weekday=%{y}<extra></extra>\", \"legendgroup\": \"down\", \"marker\": {\"color\": \"#EF553B\"}, \"name\": \"down\", \"offsetgroup\": \"down\", \"orientation\": \"v\", \"showlegend\": true, \"textposition\": \"auto\", \"x\": [4, 0, 21, 5, 6, 22, 2, 1, 7, 23, 3, 20, 19, 10, 8, 9, 11, 14, 18, 12, 13, 17, 16, 15], \"xaxis\": \"x2\", \"y\": [16.16086957, 14.81029412, 14.73540541, 14.44777778, 14.2208867, 13.96805556, 13.85736842, 13.84979592, 13.49898785, 13.28316456, 12.49294118, 12.32697248, 12.14096096, 11.6958125, 11.53106452, 10.98630225, 10.91721805, 10.73014085, 10.31134286, 10.28398496, 10.28178988, 10.21281046, 10.07396774, 9.753493151], \"yaxis\": \"y2\", \"type\": \"bar\"}], \"name\": \"6\"}, {\"data\": [{\"alignmentgroup\": \"True\", \"hovertemplate\": \"direction=up<br>floor=5<br>Local Time (GMT+8)=%{x}<br>avgWait_weekday=%{y}<extra></extra>\", \"legendgroup\": \"up\", \"marker\": {\"color\": \"#636efa\"}, \"name\": \"up\", \"offsetgroup\": \"up\", \"orientation\": \"v\", \"showlegend\": true, \"textposition\": \"auto\", \"x\": [0, 2, 21, 15, 8, 13, 5, 19, 11, 10, 18, 6, 17, 22, 16, 20, 14, 9, 7, 23, 12, 1, 3, 4], \"xaxis\": \"x\", \"y\": [19.2875, 18.92666667, 17.1845098, 16.38195122, 15.21020408, 15.13309859, 14.07, 13.52134328, 12.883375, 12.52386667, 12.2825, 12.27466667, 11.9778481, 11.75461538, 11.602020199999998, 11.45095238, 11.3401, 11.32155844, 11.04069767, 10.61533333, 10.46121622, 10.44, 10.37, 4.89], \"yaxis\": \"y\", \"type\": \"bar\"}, {\"alignmentgroup\": \"True\", \"hovertemplate\": \"direction=down<br>floor=5<br>Local Time (GMT+8)=%{x}<br>avgWait_weekday=%{y}<extra></extra>\", \"legendgroup\": \"down\", \"marker\": {\"color\": \"#EF553B\"}, \"name\": \"down\", \"offsetgroup\": \"down\", \"orientation\": \"v\", \"showlegend\": true, \"textposition\": \"auto\", \"x\": [11, 17, 12, 19, 15, 18, 16, 9, 14, 7, 13, 10, 8, 20, 6, 21, 22, 3, 5, 1, 23, 0, 2, 4], \"xaxis\": \"x2\", \"y\": [65.93203125, 65.00578313, 61.51339535, 57.86894737, 57.33867299, 53.88534884, 52.51614458, 52.18089744, 51.60777293, 49.36166667, 49.22449761, 46.76795652, 46.58642857, 39.05545455, 27.56820513, 27.22987342, 21.75818182, 18.31384615, 18.10266667, 16.23422222, 15.67484848, 15.17296296, 14.48142857, 14.34714286], \"yaxis\": \"y2\", \"type\": \"bar\"}], \"name\": \"5\"}, {\"data\": [{\"alignmentgroup\": \"True\", \"hovertemplate\": \"direction=up<br>floor=4<br>Local Time (GMT+8)=%{x}<br>avgWait_weekday=%{y}<extra></extra>\", \"legendgroup\": \"up\", \"marker\": {\"color\": \"#636efa\"}, \"name\": \"up\", \"offsetgroup\": \"up\", \"orientation\": \"v\", \"showlegend\": true, \"textposition\": \"auto\", \"x\": [0, 1, 5, 3, 22, 17, 21, 20, 11, 15, 6, 23, 18, 10, 13, 16, 8, 14, 9, 12, 7, 19, 2, 4], \"xaxis\": \"x\", \"y\": [26.16833333, 23.63666667, 23.605, 15.93, 14.94071429, 13.79443299, 13.36208333, 13.25789474, 13.09392593, 12.71112903, 12.51214286, 12.130999999999998, 11.9116, 11.18900901, 11.06293651, 10.8988806, 10.54633333, 10.4108125, 10.19552632, 9.921585366, 9.6775, 9.3834375, 8.19, 0.43], \"yaxis\": \"y\", \"type\": \"bar\"}, {\"alignmentgroup\": \"True\", \"hovertemplate\": \"direction=down<br>floor=4<br>Local Time (GMT+8)=%{x}<br>avgWait_weekday=%{y}<extra></extra>\", \"legendgroup\": \"down\", \"marker\": {\"color\": \"#EF553B\"}, \"name\": \"down\", \"offsetgroup\": \"down\", \"orientation\": \"v\", \"showlegend\": true, \"textposition\": \"auto\", \"x\": [8, 19, 7, 11, 14, 12, 13, 20, 18, 17, 21, 15, 16, 9, 10, 22, 6, 0, 23, 1, 3, 5, 2, 4], \"xaxis\": \"x2\", \"y\": [43.94679348, 39.91878788, 39.18066667, 37.14823529, 36.83219409, 36.59184874, 33.61414201, 32.17528024, 31.68122137, 31.46842697, 31.37875, 30.35223776, 30.14191882, 28.46373494, 25.95120482, 22.718000000000004, 22.40166667, 16.95535135, 16.65081967, 15.27857143, 13.45, 12.97428571, 12.56923077, 8.011000000000001], \"yaxis\": \"y2\", \"type\": \"bar\"}], \"name\": \"4\"}, {\"data\": [{\"alignmentgroup\": \"True\", \"hovertemplate\": \"direction=up<br>floor=3<br>Local Time (GMT+8)=%{x}<br>avgWait_weekday=%{y}<extra></extra>\", \"legendgroup\": \"up\", \"marker\": {\"color\": \"#636efa\"}, \"name\": \"up\", \"offsetgroup\": \"up\", \"orientation\": \"v\", \"showlegend\": true, \"textposition\": \"auto\", \"x\": [23, 1, 21, 0, 3, 6, 5, 20, 4, 22, 19, 13, 7, 8, 16, 18, 14, 12, 17, 15, 11, 9, 10, 2], \"xaxis\": \"x\", \"y\": [15.90363636, 15.44076923, 14.72947368, 14.54, 14.2075, 13.77857143, 13.12333333, 13.06090909, 12.67, 12.28380952, 10.51176471, 10.42054054, 10.25445946, 9.7625, 9.288062016, 9.255833333, 9.024102564, 8.93733945, 8.746666667000001, 8.592913907, 8.50751938, 8.491111111, 8.485703125, 2.3416666669999997], \"yaxis\": \"y\", \"type\": \"bar\"}, {\"alignmentgroup\": \"True\", \"hovertemplate\": \"direction=down<br>floor=3<br>Local Time (GMT+8)=%{x}<br>avgWait_weekday=%{y}<extra></extra>\", \"legendgroup\": \"down\", \"marker\": {\"color\": \"#EF553B\"}, \"name\": \"down\", \"offsetgroup\": \"down\", \"orientation\": \"v\", \"showlegend\": true, \"textposition\": \"auto\", \"x\": [7, 19, 18, 8, 17, 6, 11, 12, 21, 9, 13, 10, 20, 15, 5, 14, 22, 16, 23, 3, 1, 0, 4, 2], \"xaxis\": \"x2\", \"y\": [40.87908333, 38.44122995, 34.06288991, 30.4559375, 28.5430131, 27.038556699999997, 26.92695238, 26.69846847, 26.66265734, 26.02320442, 24.60463918, 24.427106600000002, 23.34587189, 22.53346008, 21.28125, 20.95643836, 19.823880600000003, 17.24274262, 16.71956522, 14.417, 12.85769231, 12.85083333, 12.642000000000001, 10.28466667], \"yaxis\": \"y2\", \"type\": \"bar\"}], \"name\": \"3\"}, {\"data\": [{\"alignmentgroup\": \"True\", \"hovertemplate\": \"direction=up<br>floor=2<br>Local Time (GMT+8)=%{x}<br>avgWait_weekday=%{y}<extra></extra>\", \"legendgroup\": \"up\", \"marker\": {\"color\": \"#636efa\"}, \"name\": \"up\", \"offsetgroup\": \"up\", \"orientation\": \"v\", \"showlegend\": true, \"textposition\": \"auto\", \"x\": [19, 3, 6, 21, 14, 18, 20, 11, 1, 13, 12, 7, 16, 17, 15, 10, 9, 8, 23], \"xaxis\": \"x\", \"y\": [131.0957143, 28.1125, 18.34, 12.94, 11.9871875, 11.92863636, 10.97, 10.49744186, 10.36, 10.30325301, 9.733170732, 9.3255, 9.034526316000001, 8.954736842, 8.529647059, 7.748055556000001, 7.71592233, 7.512280702000001, 5.07], \"yaxis\": \"y\", \"type\": \"bar\"}, {\"alignmentgroup\": \"True\", \"hovertemplate\": \"direction=down<br>floor=2<br>Local Time (GMT+8)=%{x}<br>avgWait_weekday=%{y}<extra></extra>\", \"legendgroup\": \"down\", \"marker\": {\"color\": \"#EF553B\"}, \"name\": \"down\", \"offsetgroup\": \"down\", \"orientation\": \"v\", \"showlegend\": true, \"textposition\": \"auto\", \"x\": [0, 7, 21, 6, 9, 11, 19, 17, 10, 14, 20, 8, 15, 3, 12, 2, 18, 16, 22, 13, 23, 4, 1], \"xaxis\": \"x2\", \"y\": [45.35, 40.92571429, 38.996, 29.24666667, 23.15211538, 22.85469388, 22.726875, 22.18, 21.78979167, 20.1525641, 18.655, 18.58304348, 17.3526087, 16.85, 16.03861111, 15.57, 15.43884615, 15.15591837, 13.26, 12.88857143, 10.93, 9.866666667, 9.625], \"yaxis\": \"y2\", \"type\": \"bar\"}], \"name\": \"2\"}, {\"data\": [{\"alignmentgroup\": \"True\", \"hovertemplate\": \"direction=up<br>floor=1<br>Local Time (GMT+8)=%{x}<br>avgWait_weekday=%{y}<extra></extra>\", \"legendgroup\": \"up\", \"marker\": {\"color\": \"#636efa\"}, \"name\": \"up\", \"offsetgroup\": \"up\", \"orientation\": \"v\", \"showlegend\": true, \"textposition\": \"auto\", \"x\": [20, 19, 18, 15, 10, 9, 6, 8, 21, 16, 17, 13, 14, 7, 12, 11, 23, 22, 3, 4, 5, 0, 1, 2], \"xaxis\": \"x\", \"y\": [22.67554273, 20.63797768, 19.72394984, 18.92326599, 17.82118068, 17.62986003, 17.36362963, 17.15813154, 16.72507661, 16.250402800000003, 16.13431005, 16.05842466, 15.71495741, 15.20316147, 13.91057692, 13.27246781, 13.12219365, 12.02808889, 7.836052632, 7.037017543999999, 6.754777327999999, 5.323305556, 4.967370892, 4.861626016000001], \"yaxis\": \"y\", \"type\": \"bar\"}, {\"alignmentgroup\": \"True\", \"hovertemplate\": \"direction=down<br>floor=1<br>Local Time (GMT+8)=%{x}<br>avgWait_weekday=%{y}<extra></extra>\", \"legendgroup\": \"down\", \"marker\": {\"color\": \"#EF553B\"}, \"name\": \"down\", \"offsetgroup\": \"down\", \"orientation\": \"v\", \"showlegend\": true, \"textposition\": \"auto\", \"x\": [7, 19, 17, 18, 12, 8, 10, 11, 13, 14, 9, 20, 16, 15, 22, 6, 23, 21, 0, 5, 3, 2, 4, 1], \"xaxis\": \"x2\", \"y\": [29.77925926, 28.37666667, 26.29304636, 25.62904412, 23.26264045, 21.91177083, 21.17461538, 20.90542105, 19.14601124, 18.83859649, 18.17184713, 17.94917808, 17.46817204, 15.65359116, 14.43227273, 14.37653061, 12.58394737, 12.11116667, 9.858181818, 7.288695652, 7.19, 5.94, 5.337777778, 3.704375], \"yaxis\": \"y2\", \"type\": \"bar\"}], \"name\": \"1\"}]);\n",
       "                        }).then(function(){\n",
       "                            \n",
       "var gd = document.getElementById('34a86a37-0240-484e-9948-ee8ce961f2d4');\n",
       "var x = new MutationObserver(function (mutations, observer) {{\n",
       "        var display = window.getComputedStyle(gd).display;\n",
       "        if (!display || display === 'none') {{\n",
       "            console.log([gd, 'removed!']);\n",
       "            Plotly.purge(gd);\n",
       "            observer.disconnect();\n",
       "        }}\n",
       "}});\n",
       "\n",
       "// Listen for the removal of the full notebook cells\n",
       "var notebookContainer = gd.closest('#notebook-container');\n",
       "if (notebookContainer) {{\n",
       "    x.observe(notebookContainer, {childList: true});\n",
       "}}\n",
       "\n",
       "// Listen for the clearing of the current output cell\n",
       "var outputEl = gd.closest('.output');\n",
       "if (outputEl) {{\n",
       "    x.observe(outputEl, {childList: true});\n",
       "}}\n",
       "\n",
       "                        })\n",
       "                };\n",
       "                });\n",
       "            </script>\n",
       "        </div>"
      ]
     },
     "metadata": {},
     "output_type": "display_data"
    }
   ],
   "source": [
    "fig = px.bar(data_frame=df_s, \n",
    "             x = \"hour\", y = \"avgWait_weekday\",\n",
    "             facet_col=\"direction\",color=\"direction\",\n",
    "             animation_frame=\"floor\",\n",
    "             labels={\"count\":\"avgWait_weekday\",\n",
    "                     \"hour\":\"Local Time (GMT+8)\"})\n",
    "# X axis\n",
    "fig.update_xaxes(nticks=len(floor_list),\n",
    "                 type=\"category\",\n",
    "                 categoryarray=[0,24])\n",
    "\n",
    "# Y axis\n",
    "fig.update_yaxes(range=[0, 1000])\n",
    "\n",
    "# Layout\n",
    "fig.update_layout(title_text='Average Waiting Time of Elevator Calls by Time')\n",
    "\n",
    "fig.show()"
   ]
  },
  {
   "cell_type": "code",
   "execution_count": 13,
   "metadata": {},
   "outputs": [
    {
     "name": "stdout",
     "output_type": "stream",
     "text": [
      "    floor  hour direction  avgWait_weekday\n",
      "732     1     4      down         5.337778\n",
      "725     1     0        up         5.323306\n",
      "727     1     1        up         4.967371\n",
      "729     1     2        up         4.861626\n",
      "726     1     1      down         3.704375\n"
     ]
    }
   ],
   "source": [
    "df_s = pd.read_csv('南棟客梯_weekday.csv',index_col = 0)  \n",
    "print(df_s.tail())"
   ]
  },
  {
   "cell_type": "markdown",
   "metadata": {},
   "source": [
    "## Data"
   ]
  },
  {
   "cell_type": "code",
   "execution_count": 14,
   "metadata": {},
   "outputs": [],
   "source": [
    "import plotly.graph_objects as go\n",
    "from ipywidgets import widgets"
   ]
  },
  {
   "cell_type": "markdown",
   "metadata": {},
   "source": [
    "將不同大樓資料混在一起，依大樓名稱貼標"
   ]
  },
  {
   "cell_type": "code",
   "execution_count": 19,
   "metadata": {},
   "outputs": [
    {
     "name": "stdout",
     "output_type": "stream",
     "text": [
      "研究大樓_weekday\n",
      "(735, 5)\n",
      "研究大樓_weekend\n",
      "(674, 5)\n",
      "北棟病梯_weekday\n",
      "(801, 5)\n",
      "北棟病梯_weekend\n",
      "(783, 5)\n",
      "南棟客梯_weekday\n",
      "(772, 5)\n",
      "南棟客梯_weekend\n",
      "(729, 5)\n",
      "(4494, 6)\n",
      "  floor  hour direction  avgWait_weekday      building  avgWait_weekend\n",
      "0     1     0      down          8.03000  研究大樓_weekday              NaN\n",
      "1     1     0        up          3.78375  研究大樓_weekday              NaN\n",
      "2     1     1      down          8.42500  研究大樓_weekday              NaN\n",
      "3     1     1        up         11.13600  研究大樓_weekday              NaN\n",
      "4     1     2      down          9.36500  研究大樓_weekday              NaN\n"
     ]
    }
   ],
   "source": [
    "## 檔案名(註:資料是arregate後的table)\n",
    "\n",
    "files_list = ['研究大樓_weekday','研究大樓_weekend','北棟病梯_weekday','北棟病梯_weekend','南棟客梯_weekday','南棟客梯_weekend']\n",
    "\n",
    "df = pd.DataFrame()\n",
    "\n",
    "for i in files_list:\n",
    "    data = pd.read_csv(i+'.csv', index_col = 0)\n",
    "    data['building'] = i\n",
    "    print(i)\n",
    "    print(data.shape)\n",
    "    \n",
    "    df = df.append(data, ignore_index = True) \n",
    "\n",
    "## 請檢查表格的數量是否正確 有些表格有缺失(e.g.北棟客梯)\n",
    "    \n",
    "print(df.shape)\n",
    "print(df.head())"
   ]
  },
  {
   "cell_type": "markdown",
   "metadata": {},
   "source": [
    "## Dash"
   ]
  },
  {
   "cell_type": "code",
   "execution_count": null,
   "metadata": {},
   "outputs": [],
   "source": [
    "import dash\n",
    "import dash_core_components as dcc\n",
    "import dash_html_components as html\n",
    "from dash.dependencies import Input, Output\n",
    "\n",
    "app = dash.Dash()\n",
    "app.layout = html.Div([\n",
    "    html.H1('Outer calls'),\n",
    "    html.H3('By Floor'),\n",
    "    dcc.Dropdown(\n",
    "        id=\"building1\",\n",
    "        options=[\n",
    "            {'label': '研究大樓_weekday', 'value': '研究大樓_weekday'},\n",
    "            {'label': '北棟病床梯_weekday', 'value': '北棟病床梯_weekday'},\n",
    "            {'label': '南棟客梯_weekday', 'value': '南棟客梯_weekday'}\n",
    "        ],\n",
    "        value='研究大樓_weekday'\n",
    "    ),\n",
    "    dcc.Graph(id=\"graph1\"),\n",
    "    \n",
    "    \n",
    "    html.H3('By Hour'),\n",
    "    dcc.Dropdown(\n",
    "        id=\"building2\",\n",
    "        options=[\n",
    "            {'label': '研究大樓_weekday', 'value': '研究大樓_weekday'},\n",
    "            {'label': '北棟病床梯_weekday', 'value': '北棟病床梯_weekday'},\n",
    "            {'label': '南棟客梯_weekday', 'value': '南棟客梯_weekday'}\n",
    "        ],\n",
    "        value='研究大樓_weekday'\n",
    "    ),\n",
    "    dcc.Graph(id=\"graph2\")\n",
    "])\n",
    "\n",
    "@app.callback(\n",
    "    Output('graph1', 'figure'),\n",
    "    [Input('building1', 'value')])\n",
    "def update_figure(selected_building):\n",
    "    \n",
    "    fig = px.bar(data_frame=df[df.building == selected_building],\n",
    "                 x = \"floor\", y = \"avgWait_weekday\",\n",
    "                 facet_col=\"direction\",color=\"direction\",\n",
    "                 animation_frame=\"hour\",\n",
    "                 labels={\"count\":\"avgWait_weekday\",\n",
    "                         \"hour\":\"Local Time (GMT+8)\"})\n",
    "    fig.update_xaxes(nticks=len(floor_list),\n",
    "                     type=\"category\",\n",
    "                    categoryarray=floor_list)\n",
    "    fig.update_yaxes(range=[0, 1000])\n",
    "    fig.update_layout(title_text='Average Waiting Time of Elevator Calls in ' + selected_building)\n",
    "    \n",
    "    return fig\n",
    "\n",
    "\n",
    "\n",
    "@app.callback(\n",
    "    Output('graph2', 'figure'),\n",
    "    [Input('building2', 'value')])\n",
    "def update_figure(selected_building):\n",
    "    fig = px.bar(data_frame=df[df.building == selected_building], \n",
    "             x = \"hour\", y = \"avgWait_weekday\",\n",
    "             facet_col=\"direction\",color=\"direction\",\n",
    "             animation_frame=\"floor\",\n",
    "             labels={\"count\":\"avgWait_weekday\",\n",
    "                     \"hour\":\"Local Time (GMT+8)\"})\n",
    "    fig.update_xaxes(nticks=len(floor_list),\n",
    "                     type=\"category\",\n",
    "                     categoryarray=[0,24])\n",
    "    fig.update_yaxes(range=[0, 1000])\n",
    "    fig.update_layout(title_text='Average Waiting Time of Elevator Calls by Time')\n",
    "    return fig\n",
    "        \n",
    "app.run_server(debug=True, use_reloader=False)"
   ]
  },
  {
   "cell_type": "code",
   "execution_count": null,
   "metadata": {},
   "outputs": [],
   "source": []
  }
 ],
 "metadata": {
  "kernelspec": {
   "display_name": "Python 3",
   "language": "python",
   "name": "python3"
  }
 },
 "nbformat": 4,
 "nbformat_minor": 2
}
