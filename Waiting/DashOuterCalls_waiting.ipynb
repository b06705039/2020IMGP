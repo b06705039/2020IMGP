{
 "cells": [
  {
   "cell_type": "code",
   "execution_count": 1,
   "metadata": {},
   "outputs": [
    {
     "data": {
      "text/html": [
       "        <script type=\"text/javascript\">\n",
       "        window.PlotlyConfig = {MathJaxConfig: 'local'};\n",
       "        if (window.MathJax) {MathJax.Hub.Config({SVG: {font: \"STIX-Web\"}});}\n",
       "        if (typeof require !== 'undefined') {\n",
       "        require.undef(\"plotly\");\n",
       "        requirejs.config({\n",
       "            paths: {\n",
       "                'plotly': ['https://cdn.plot.ly/plotly-latest.min']\n",
       "            }\n",
       "        });\n",
       "        require(['plotly'], function(Plotly) {\n",
       "            window._Plotly = Plotly;\n",
       "        });\n",
       "        }\n",
       "        </script>\n",
       "        "
      ]
     },
     "metadata": {},
     "output_type": "display_data"
    }
   ],
   "source": [
    "import pandas as pd\n",
    "import numpy as np\n",
    "import plotly\n",
    "from plotly.offline import download_plotlyjs, init_notebook_mode, plot, iplot\n",
    "init_notebook_mode(connected=True)"
   ]
  },
  {
   "cell_type": "markdown",
   "metadata": {},
   "source": [
    "# Plotly Express\n"
   ]
  },
  {
   "cell_type": "code",
   "execution_count": 2,
   "metadata": {},
   "outputs": [],
   "source": [
    "import plotly.express as px"
   ]
  },
  {
   "cell_type": "code",
   "execution_count": 3,
   "metadata": {},
   "outputs": [
    {
     "name": "stdout",
     "output_type": "stream",
     "text": [
      "  floor  hour direction     week   avgWait\n",
      "0     1     0      down  weekday   8.03000\n",
      "1     1     0        up  weekday   3.78375\n",
      "2     1     1      down  weekday   8.42500\n",
      "3     1     1        up  weekday  11.13600\n",
      "4     1     2      down  weekday   9.36500\n",
      "     floor  hour direction     week    avgWait\n",
      "1404    B4    19        up  weekend  10.129375\n",
      "1405    B4    20        up  weekend   8.113889\n",
      "1406    B4    21        up  weekend   5.284000\n",
      "1407    B4    22        up  weekend   9.150000\n",
      "1408    B4    23        up  weekend  14.086154\n"
     ]
    }
   ],
   "source": [
    "df_s = pd.read_csv('研究大樓.csv',index_col = 0)  \n",
    "print(df_s.head())\n",
    "print(df_s.tail())"
   ]
  },
  {
   "cell_type": "markdown",
   "metadata": {},
   "source": [
    "plotly express 有點像是 ggplot in R，<br>\n",
    "只要指定x,y,color等就能自動幫你分類，<br>\n",
    "下面的圖表以南棟電梯的外部電梯呼叫資料為例，<br>\n",
    "x軸為樓層、以方向分開並上色，最後以時間(小時)作為動畫影格。"
   ]
  },
  {
   "cell_type": "code",
   "execution_count": 4,
   "metadata": {},
   "outputs": [
    {
     "data": {
      "application/vnd.plotly.v1+json": {
       "config": {
        "plotlyServerURL": "https://plot.ly"
       },
       "data": [
        {
         "alignmentgroup": "True",
         "hovertemplate": "direction=down<br>Local Time (GMT+8)=0<br>floor=%{x}<br>sec=%{y}<extra></extra>",
         "legendgroup": "down",
         "marker": {
          "color": "#636efa"
         },
         "name": "down",
         "offsetgroup": "down",
         "orientation": "v",
         "showlegend": true,
         "textposition": "auto",
         "type": "bar",
         "x": [
          "1",
          "3",
          "4",
          "5",
          "6",
          "7",
          "8",
          "9",
          "10",
          "11",
          "12",
          "13",
          "14",
          "15",
          "B1",
          "3",
          "4",
          "6",
          "7",
          "8",
          "9",
          "11",
          "12",
          "13",
          "14",
          "15",
          "B1"
         ],
         "xaxis": "x",
         "y": [
          8.03,
          19.435,
          14.218,
          10.56625,
          1.61,
          15.10625,
          13.19235294,
          12.13,
          14.2925,
          19.782,
          16.13454545,
          16.88111111,
          19.71,
          29.41666667,
          9.336666667000001,
          14.025,
          15.44,
          14.845,
          16.24333333,
          15.35,
          18.48,
          19.92333333,
          20.114,
          18.98,
          18.86,
          21.425,
          12.625
         ],
         "yaxis": "y"
        },
        {
         "alignmentgroup": "True",
         "hovertemplate": "direction=up<br>Local Time (GMT+8)=0<br>floor=%{x}<br>sec=%{y}<extra></extra>",
         "legendgroup": "up",
         "marker": {
          "color": "#EF553B"
         },
         "name": "up",
         "offsetgroup": "up",
         "orientation": "v",
         "showlegend": true,
         "textposition": "auto",
         "type": "bar",
         "x": [
          "1",
          "2",
          "3",
          "4",
          "5",
          "6",
          "7",
          "14",
          "B1",
          "B3",
          "B4",
          "1",
          "3",
          "4",
          "5",
          "7",
          "B1",
          "B3",
          "B4"
         ],
         "xaxis": "x2",
         "y": [
          3.78375,
          17.56,
          14.22588235,
          14.67366667,
          13.06058824,
          8.64,
          10.35857143,
          20.495,
          13.53948718,
          8.47,
          17.68,
          9.79,
          18.08333333,
          10.53333333,
          13.14666667,
          7.505,
          16.17625,
          14.03333333,
          14.35
         ],
         "yaxis": "y2"
        }
       ],
       "frames": [
        {
         "data": [
          {
           "alignmentgroup": "True",
           "hovertemplate": "direction=down<br>Local Time (GMT+8)=0<br>floor=%{x}<br>sec=%{y}<extra></extra>",
           "legendgroup": "down",
           "marker": {
            "color": "#636efa"
           },
           "name": "down",
           "offsetgroup": "down",
           "orientation": "v",
           "showlegend": true,
           "textposition": "auto",
           "type": "bar",
           "x": [
            "1",
            "3",
            "4",
            "5",
            "6",
            "7",
            "8",
            "9",
            "10",
            "11",
            "12",
            "13",
            "14",
            "15",
            "B1",
            "3",
            "4",
            "6",
            "7",
            "8",
            "9",
            "11",
            "12",
            "13",
            "14",
            "15",
            "B1"
           ],
           "xaxis": "x",
           "y": [
            8.03,
            19.435,
            14.218,
            10.56625,
            1.61,
            15.10625,
            13.19235294,
            12.13,
            14.2925,
            19.782,
            16.13454545,
            16.88111111,
            19.71,
            29.41666667,
            9.336666667000001,
            14.025,
            15.44,
            14.845,
            16.24333333,
            15.35,
            18.48,
            19.92333333,
            20.114,
            18.98,
            18.86,
            21.425,
            12.625
           ],
           "yaxis": "y"
          },
          {
           "alignmentgroup": "True",
           "hovertemplate": "direction=up<br>Local Time (GMT+8)=0<br>floor=%{x}<br>sec=%{y}<extra></extra>",
           "legendgroup": "up",
           "marker": {
            "color": "#EF553B"
           },
           "name": "up",
           "offsetgroup": "up",
           "orientation": "v",
           "showlegend": true,
           "textposition": "auto",
           "type": "bar",
           "x": [
            "1",
            "2",
            "3",
            "4",
            "5",
            "6",
            "7",
            "14",
            "B1",
            "B3",
            "B4",
            "1",
            "3",
            "4",
            "5",
            "7",
            "B1",
            "B3",
            "B4"
           ],
           "xaxis": "x2",
           "y": [
            3.78375,
            17.56,
            14.22588235,
            14.67366667,
            13.06058824,
            8.64,
            10.35857143,
            20.495,
            13.53948718,
            8.47,
            17.68,
            9.79,
            18.08333333,
            10.53333333,
            13.14666667,
            7.505,
            16.17625,
            14.03333333,
            14.35
           ],
           "yaxis": "y2"
          }
         ],
         "name": "0"
        },
        {
         "data": [
          {
           "alignmentgroup": "True",
           "hovertemplate": "direction=down<br>Local Time (GMT+8)=1<br>floor=%{x}<br>sec=%{y}<extra></extra>",
           "legendgroup": "down",
           "marker": {
            "color": "#636efa"
           },
           "name": "down",
           "offsetgroup": "down",
           "orientation": "v",
           "showlegend": true,
           "textposition": "auto",
           "type": "bar",
           "x": [
            "1",
            "2",
            "3",
            "4",
            "5",
            "6",
            "7",
            "8",
            "9",
            "10",
            "11",
            "12",
            "14",
            "15",
            "B1",
            "3",
            "5",
            "6",
            "7",
            "8",
            "9",
            "10",
            "11",
            "12",
            "13",
            "14",
            "15"
           ],
           "xaxis": "x",
           "y": [
            8.425,
            1.24,
            9.195,
            13.628,
            10.86,
            1.48,
            14.42875,
            13.82333333,
            13.568,
            1.243333333,
            0.56,
            16.05444444,
            20.63285714,
            10.03666667,
            18.74,
            21.21,
            17.27,
            21.69,
            10.82666667,
            13.79,
            17.49,
            19.2,
            19.08,
            38.44,
            15.79,
            12.67,
            1.01
           ],
           "yaxis": "y"
          },
          {
           "alignmentgroup": "True",
           "hovertemplate": "direction=up<br>Local Time (GMT+8)=1<br>floor=%{x}<br>sec=%{y}<extra></extra>",
           "legendgroup": "up",
           "marker": {
            "color": "#EF553B"
           },
           "name": "up",
           "offsetgroup": "up",
           "orientation": "v",
           "showlegend": true,
           "textposition": "auto",
           "type": "bar",
           "x": [
            "1",
            "3",
            "4",
            "5",
            "6",
            "7",
            "10",
            "14",
            "B1",
            "B3",
            "B4",
            "1",
            "2",
            "3",
            "4",
            "5",
            "6",
            "7",
            "B1",
            "B3",
            "B4"
           ],
           "xaxis": "x2",
           "y": [
            11.136,
            15.04666667,
            14.33916667,
            14.115,
            3.92,
            10.14,
            1.38,
            14.05333333,
            15.35212121,
            13.58,
            18.72,
            14.395,
            19.2,
            15.8225,
            13.3325,
            12.965,
            1.44,
            14.02,
            14.2125,
            23.17,
            21.535
           ],
           "yaxis": "y2"
          }
         ],
         "name": "1"
        },
        {
         "data": [
          {
           "alignmentgroup": "True",
           "hovertemplate": "direction=down<br>Local Time (GMT+8)=2<br>floor=%{x}<br>sec=%{y}<extra></extra>",
           "legendgroup": "down",
           "marker": {
            "color": "#636efa"
           },
           "name": "down",
           "offsetgroup": "down",
           "orientation": "v",
           "showlegend": true,
           "textposition": "auto",
           "type": "bar",
           "x": [
            "1",
            "3",
            "4",
            "5",
            "6",
            "7",
            "8",
            "10",
            "11",
            "12",
            "13",
            "14",
            "15",
            "B1",
            "3",
            "4",
            "6",
            "7",
            "8",
            "9",
            "10",
            "11",
            "12",
            "13",
            "14",
            "15",
            "B1"
           ],
           "xaxis": "x",
           "y": [
            9.365,
            15.796,
            1.6,
            10.61,
            5.446000000000001,
            10.45,
            8.645,
            18.46,
            20.44,
            31.63,
            19.01,
            19.92,
            1.37,
            20.4,
            10.745,
            19.05,
            1.213333333,
            10.555,
            15.19,
            10.885,
            11.97,
            10.79,
            1.415,
            15.8,
            27.03,
            6.543333333,
            11.83
           ],
           "yaxis": "y"
          },
          {
           "alignmentgroup": "True",
           "hovertemplate": "direction=up<br>Local Time (GMT+8)=2<br>floor=%{x}<br>sec=%{y}<extra></extra>",
           "legendgroup": "up",
           "marker": {
            "color": "#EF553B"
           },
           "name": "up",
           "offsetgroup": "up",
           "orientation": "v",
           "showlegend": true,
           "textposition": "auto",
           "type": "bar",
           "x": [
            "1",
            "3",
            "4",
            "5",
            "7",
            "14",
            "B1",
            "B4",
            "1",
            "3",
            "4",
            "5",
            "6",
            "7",
            "9",
            "14",
            "B1",
            "B4"
           ],
           "xaxis": "x2",
           "y": [
            10.36,
            10.44666667,
            13.96,
            9.592222222,
            5.996666667,
            13.22,
            11.16411765,
            21.20833333,
            12.97666667,
            15.235,
            15.29833333,
            16.03333333,
            1.58,
            15.93,
            7.7,
            17.47,
            14.13615385,
            18.47
           ],
           "yaxis": "y2"
          }
         ],
         "name": "2"
        },
        {
         "data": [
          {
           "alignmentgroup": "True",
           "hovertemplate": "direction=down<br>Local Time (GMT+8)=3<br>floor=%{x}<br>sec=%{y}<extra></extra>",
           "legendgroup": "down",
           "marker": {
            "color": "#636efa"
           },
           "name": "down",
           "offsetgroup": "down",
           "orientation": "v",
           "showlegend": true,
           "textposition": "auto",
           "type": "bar",
           "x": [
            "1",
            "3",
            "5",
            "6",
            "7",
            "8",
            "9",
            "10",
            "11",
            "15",
            "B1",
            "1",
            "3",
            "4",
            "5",
            "6",
            "7",
            "8",
            "9",
            "14",
            "15"
           ],
           "xaxis": "x",
           "y": [
            19.94333333,
            18.53,
            17.96,
            11.658,
            17.128,
            1.57,
            18.105,
            19.82,
            16.22,
            14.025,
            1.33,
            23.4,
            15.94,
            9.81,
            15.73,
            25.17,
            3.44,
            13.79,
            12.215,
            1.61,
            2.55
           ],
           "yaxis": "y"
          },
          {
           "alignmentgroup": "True",
           "hovertemplate": "direction=up<br>Local Time (GMT+8)=3<br>floor=%{x}<br>sec=%{y}<extra></extra>",
           "legendgroup": "up",
           "marker": {
            "color": "#EF553B"
           },
           "name": "up",
           "offsetgroup": "up",
           "orientation": "v",
           "showlegend": true,
           "textposition": "auto",
           "type": "bar",
           "x": [
            "1",
            "3",
            "4",
            "5",
            "7",
            "9",
            "11",
            "B1",
            "B4",
            "1",
            "3",
            "4",
            "7",
            "8",
            "14",
            "B1",
            "B4"
           ],
           "xaxis": "x2",
           "y": [
            15.75,
            19.05,
            17.5,
            13.65428571,
            7.745,
            1.57,
            1.59,
            21.224,
            20.14333333,
            15.83,
            1.6,
            8.78,
            1.0533333329999999,
            1.57,
            18.95,
            10.96333333,
            11.785
           ],
           "yaxis": "y2"
          }
         ],
         "name": "3"
        },
        {
         "data": [
          {
           "alignmentgroup": "True",
           "hovertemplate": "direction=down<br>Local Time (GMT+8)=4<br>floor=%{x}<br>sec=%{y}<extra></extra>",
           "legendgroup": "down",
           "marker": {
            "color": "#636efa"
           },
           "name": "down",
           "offsetgroup": "down",
           "orientation": "v",
           "showlegend": true,
           "textposition": "auto",
           "type": "bar",
           "x": [
            "1",
            "3",
            "4",
            "5",
            "6",
            "7",
            "9",
            "10",
            "11",
            "12",
            "13",
            "14",
            "15",
            "3",
            "5",
            "7",
            "15"
           ],
           "xaxis": "x",
           "y": [
            0.67,
            1.59,
            1.48,
            15.97,
            12.684000000000001,
            13.28,
            7.23,
            9.01,
            19.675,
            26.09,
            1.52,
            1.27,
            4.8725,
            16.65,
            16.52,
            21.585,
            1.39
           ],
           "yaxis": "y"
          },
          {
           "alignmentgroup": "True",
           "hovertemplate": "direction=up<br>Local Time (GMT+8)=4<br>floor=%{x}<br>sec=%{y}<extra></extra>",
           "legendgroup": "up",
           "marker": {
            "color": "#EF553B"
           },
           "name": "up",
           "offsetgroup": "up",
           "orientation": "v",
           "showlegend": true,
           "textposition": "auto",
           "type": "bar",
           "x": [
            "1",
            "2",
            "3",
            "4",
            "5",
            "7",
            "9",
            "B1",
            "B3",
            "B4",
            "4",
            "5",
            "7",
            "B1",
            "B3",
            "B4"
           ],
           "xaxis": "x2",
           "y": [
            8.65,
            16.23,
            9.275,
            18.7,
            15.84666667,
            7.84,
            1.05,
            1.504,
            14.91272727,
            11.885,
            0.97,
            13.63333333,
            15.125,
            12.96,
            10.9025,
            1.26
           ],
           "yaxis": "y2"
          }
         ],
         "name": "4"
        },
        {
         "data": [
          {
           "alignmentgroup": "True",
           "hovertemplate": "direction=down<br>Local Time (GMT+8)=5<br>floor=%{x}<br>sec=%{y}<extra></extra>",
           "legendgroup": "down",
           "marker": {
            "color": "#636efa"
           },
           "name": "down",
           "offsetgroup": "down",
           "orientation": "v",
           "showlegend": true,
           "textposition": "auto",
           "type": "bar",
           "x": [
            "1",
            "3",
            "4",
            "5",
            "6",
            "7",
            "8",
            "9",
            "10",
            "11",
            "12",
            "13",
            "14",
            "15",
            "6",
            "8",
            "9",
            "10",
            "11",
            "12",
            "15",
            "B1"
           ],
           "xaxis": "x",
           "y": [
            25.10833333,
            19.185,
            17.965,
            29.4225,
            14.87,
            21.79,
            15.62666667,
            13.66,
            4.991463415,
            8.04,
            19.4625,
            15.765,
            18.84,
            1.59,
            10.72,
            25.18,
            6.41,
            5.697,
            8.04,
            10.15,
            1.37,
            15.03
           ],
           "yaxis": "y"
          },
          {
           "alignmentgroup": "True",
           "hovertemplate": "direction=up<br>Local Time (GMT+8)=5<br>floor=%{x}<br>sec=%{y}<extra></extra>",
           "legendgroup": "up",
           "marker": {
            "color": "#EF553B"
           },
           "name": "up",
           "offsetgroup": "up",
           "orientation": "v",
           "showlegend": true,
           "textposition": "auto",
           "type": "bar",
           "x": [
            "1",
            "4",
            "5",
            "6",
            "7",
            "10",
            "14",
            "B1",
            "B3",
            "B4",
            "1",
            "6",
            "8",
            "9",
            "10",
            "B1",
            "B3",
            "B4"
           ],
           "xaxis": "x2",
           "y": [
            16.08909091,
            16.78,
            11.6575,
            13.876,
            12.6375,
            4.783181818,
            12.87,
            12.53,
            20.67272727,
            26.06777778,
            13.24833333,
            15.71,
            22.31,
            14.77,
            5.031666667,
            11.792,
            20.78,
            25.61
           ],
           "yaxis": "y2"
          }
         ],
         "name": "5"
        },
        {
         "data": [
          {
           "alignmentgroup": "True",
           "hovertemplate": "direction=down<br>Local Time (GMT+8)=6<br>floor=%{x}<br>sec=%{y}<extra></extra>",
           "legendgroup": "down",
           "marker": {
            "color": "#636efa"
           },
           "name": "down",
           "offsetgroup": "down",
           "orientation": "v",
           "showlegend": true,
           "textposition": "auto",
           "type": "bar",
           "x": [
            "1",
            "2",
            "3",
            "4",
            "5",
            "6",
            "7",
            "8",
            "9",
            "10",
            "11",
            "12",
            "13",
            "15",
            "B1",
            "B3",
            "1",
            "2",
            "3",
            "5",
            "6",
            "7",
            "8",
            "10",
            "11",
            "12",
            "13",
            "14",
            "15",
            "B1",
            "B3"
           ],
           "xaxis": "x",
           "y": [
            24.06220779,
            11.63,
            24.36666667,
            29.2575,
            20.348,
            18.33036697,
            19.0025,
            18.69,
            27.415,
            11.68626087,
            21.91090909,
            15.80714286,
            10.22142857,
            14.38714286,
            25.195,
            29.868000000000002,
            27.48888889,
            9.51,
            26.845,
            25.8725,
            12.5715,
            17.77333333,
            10.1,
            10.16906977,
            14.085,
            5.98,
            11.96142857,
            58.09,
            25.35,
            21.71882353,
            7.765
           ],
           "yaxis": "y"
          },
          {
           "alignmentgroup": "True",
           "hovertemplate": "direction=up<br>Local Time (GMT+8)=6<br>floor=%{x}<br>sec=%{y}<extra></extra>",
           "legendgroup": "up",
           "marker": {
            "color": "#EF553B"
           },
           "name": "up",
           "offsetgroup": "up",
           "orientation": "v",
           "showlegend": true,
           "textposition": "auto",
           "type": "bar",
           "x": [
            "1",
            "2",
            "3",
            "4",
            "5",
            "6",
            "7",
            "9",
            "10",
            "11",
            "B1",
            "B3",
            "B4",
            "1",
            "2",
            "3",
            "4",
            "6",
            "7",
            "9",
            "10",
            "11",
            "B1",
            "B3",
            "B4"
           ],
           "xaxis": "x2",
           "y": [
            16.92088154,
            15.592,
            8.01,
            15.76681818,
            13.24428571,
            22.40045455,
            19.965,
            18.33166667,
            15.11753968,
            60.53,
            16.85331081,
            20.99064815,
            21.23509804,
            18.0916,
            14.29,
            19.32,
            17.82888889,
            17.35457143,
            12.89,
            15.16,
            9.470555556,
            11.18,
            20.34529412,
            20.91038462,
            20.43
           ],
           "yaxis": "y2"
          }
         ],
         "name": "6"
        },
        {
         "data": [
          {
           "alignmentgroup": "True",
           "hovertemplate": "direction=down<br>Local Time (GMT+8)=7<br>floor=%{x}<br>sec=%{y}<extra></extra>",
           "legendgroup": "down",
           "marker": {
            "color": "#636efa"
           },
           "name": "down",
           "offsetgroup": "down",
           "orientation": "v",
           "showlegend": true,
           "textposition": "auto",
           "type": "bar",
           "x": [
            "1",
            "2",
            "3",
            "4",
            "5",
            "6",
            "7",
            "8",
            "9",
            "10",
            "11",
            "12",
            "13",
            "14",
            "15",
            "B1",
            "B3",
            "1",
            "2",
            "3",
            "4",
            "5",
            "6",
            "7",
            "8",
            "9",
            "10",
            "11",
            "12",
            "13",
            "14",
            "15",
            "B1",
            "B3"
           ],
           "xaxis": "x",
           "y": [
            33.54444444,
            36.74321429,
            29.16791667,
            28.6555,
            34.471,
            22.77988827,
            20.17469388,
            25.65685714,
            27.79682927,
            19.87550725,
            27.536986300000002,
            30.14692308,
            40.71863636,
            41.37723404,
            45.38793651,
            26.08763441,
            31.24727273,
            25.21860465,
            28.66666667,
            37.80272727,
            21.51071429,
            15.3175,
            15.66386364,
            21.26545455,
            16.609375,
            23.60375,
            12.4,
            28.23,
            26.79636364,
            24.30066667,
            46.33454545,
            27.00428571,
            23.85047619,
            14.56
           ],
           "yaxis": "y"
          },
          {
           "alignmentgroup": "True",
           "hovertemplate": "direction=up<br>Local Time (GMT+8)=7<br>floor=%{x}<br>sec=%{y}<extra></extra>",
           "legendgroup": "up",
           "marker": {
            "color": "#EF553B"
           },
           "name": "up",
           "offsetgroup": "up",
           "orientation": "v",
           "showlegend": true,
           "textposition": "auto",
           "type": "bar",
           "x": [
            "1",
            "2",
            "3",
            "4",
            "5",
            "6",
            "7",
            "8",
            "9",
            "10",
            "11",
            "12",
            "13",
            "14",
            "B1",
            "B3",
            "B4",
            "1",
            "2",
            "3",
            "4",
            "5",
            "6",
            "7",
            "9",
            "10",
            "13",
            "14",
            "B1",
            "B3",
            "B4"
           ],
           "xaxis": "x2",
           "y": [
            13.09365169,
            10.39376623,
            9.027333333,
            10.30380952,
            10.4135,
            39.46348485,
            30.5975,
            35.63,
            15.168,
            37.66895238,
            16.29714286,
            4.13,
            33.856,
            50.465,
            15.10840909,
            16.95059233,
            21.09967593,
            16.88640212,
            11.3025,
            6.404,
            8.583,
            15.714,
            34.62666667,
            7.97,
            51.01,
            22.2025,
            10.69,
            15.16,
            15.81761468,
            14.11378788,
            20.6172549
           ],
           "yaxis": "y2"
          }
         ],
         "name": "7"
        },
        {
         "data": [
          {
           "alignmentgroup": "True",
           "hovertemplate": "direction=down<br>Local Time (GMT+8)=8<br>floor=%{x}<br>sec=%{y}<extra></extra>",
           "legendgroup": "down",
           "marker": {
            "color": "#636efa"
           },
           "name": "down",
           "offsetgroup": "down",
           "orientation": "v",
           "showlegend": true,
           "textposition": "auto",
           "type": "bar",
           "x": [
            "1",
            "2",
            "3",
            "4",
            "5",
            "6",
            "7",
            "8",
            "9",
            "10",
            "11",
            "12",
            "13",
            "14",
            "15",
            "B1",
            "B3",
            "1",
            "2",
            "3",
            "4",
            "5",
            "6",
            "7",
            "8",
            "9",
            "10",
            "11",
            "12",
            "13",
            "14",
            "15",
            "B1",
            "B3"
           ],
           "xaxis": "x",
           "y": [
            30.01764706,
            35.0115493,
            37.08492063,
            40.47111111,
            40.82443038,
            13.50298611,
            14.441969699999998,
            17.74482759,
            17.69171642,
            9.2009375,
            21.66359281,
            21.09159722,
            32.58702703,
            52.31697479,
            58.90015038,
            20.44879518,
            24.27,
            32.988,
            24.185,
            31.7078125,
            31.42352941,
            30.16147059,
            14.14254545,
            15.6855,
            14.80736842,
            15.62914894,
            14.892000000000001,
            21.61685185,
            25.68361702,
            20.95212766,
            40.05526316,
            39.44594595,
            23.6872,
            15.62
           ],
           "yaxis": "y"
          },
          {
           "alignmentgroup": "True",
           "hovertemplate": "direction=up<br>Local Time (GMT+8)=8<br>floor=%{x}<br>sec=%{y}<extra></extra>",
           "legendgroup": "up",
           "marker": {
            "color": "#EF553B"
           },
           "name": "up",
           "offsetgroup": "up",
           "orientation": "v",
           "showlegend": true,
           "textposition": "auto",
           "type": "bar",
           "x": [
            "1",
            "2",
            "3",
            "4",
            "5",
            "6",
            "7",
            "8",
            "9",
            "10",
            "11",
            "12",
            "13",
            "14",
            "B1",
            "B3",
            "B4",
            "1",
            "2",
            "3",
            "4",
            "5",
            "6",
            "8",
            "9",
            "10",
            "11",
            "12",
            "13",
            "14",
            "B1",
            "B3",
            "B4"
           ],
           "xaxis": "x2",
           "y": [
            12.07878995,
            9.845343511,
            7.637755102000001,
            9.807317073,
            9.978,
            52.73866667,
            50.57461538,
            38.54958333,
            54.17285714,
            40.097,
            84.76,
            89.32,
            55.45777778,
            105.22875,
            16.20858639,
            15.48455357,
            28.1814902,
            13.83130178,
            10.29676471,
            12.18866667,
            7.8666666670000005,
            7.803333332999999,
            35.50888889,
            48.14833333,
            36.04,
            17.162,
            45.79,
            17.06,
            45.00666667,
            62.55,
            15.83931818,
            17.36652174,
            24.70548387
           ],
           "yaxis": "y2"
          }
         ],
         "name": "8"
        },
        {
         "data": [
          {
           "alignmentgroup": "True",
           "hovertemplate": "direction=down<br>Local Time (GMT+8)=9<br>floor=%{x}<br>sec=%{y}<extra></extra>",
           "legendgroup": "down",
           "marker": {
            "color": "#636efa"
           },
           "name": "down",
           "offsetgroup": "down",
           "orientation": "v",
           "showlegend": true,
           "textposition": "auto",
           "type": "bar",
           "x": [
            "1",
            "2",
            "3",
            "4",
            "5",
            "6",
            "7",
            "8",
            "9",
            "10",
            "11",
            "12",
            "13",
            "14",
            "15",
            "B1",
            "B3",
            "1",
            "2",
            "3",
            "4",
            "5",
            "6",
            "7",
            "8",
            "9",
            "10",
            "11",
            "12",
            "13",
            "14",
            "15",
            "B1",
            "B3"
           ],
           "xaxis": "x",
           "y": [
            18.44009901,
            28.76467532,
            34.77699029,
            32.21,
            46.30752809,
            12.74657303,
            23.77867647,
            16.42359281,
            14.448125,
            23.60210526,
            21.20323171,
            21.70827068,
            29.53263566,
            51.79058511,
            62.70014706,
            30.421999999999997,
            20.03333333,
            17.761875,
            20.37538462,
            28.11324324,
            36.84310345,
            34.98964286,
            9.249215686,
            13.94815789,
            19.12276596,
            17.44346939,
            15.67272727,
            18.14322581,
            18.38384615,
            28.37147059,
            41.96847826,
            51.82651163,
            18.74111111,
            50.745
           ],
           "yaxis": "y"
          },
          {
           "alignmentgroup": "True",
           "hovertemplate": "direction=up<br>Local Time (GMT+8)=9<br>floor=%{x}<br>sec=%{y}<extra></extra>",
           "legendgroup": "up",
           "marker": {
            "color": "#EF553B"
           },
           "name": "up",
           "offsetgroup": "up",
           "orientation": "v",
           "showlegend": true,
           "textposition": "auto",
           "type": "bar",
           "x": [
            "1",
            "2",
            "3",
            "4",
            "5",
            "6",
            "7",
            "8",
            "9",
            "10",
            "11",
            "12",
            "13",
            "14",
            "B1",
            "B3",
            "B4",
            "1",
            "2",
            "3",
            "4",
            "5",
            "6",
            "7",
            "8",
            "9",
            "10",
            "11",
            "12",
            "13",
            "14",
            "B1",
            "B3",
            "B4"
           ],
           "xaxis": "x2",
           "y": [
            13.38857143,
            15.06892857,
            10.8317284,
            9.114137931,
            9.838285714,
            57.50764706,
            49.653999999999996,
            51.1578125,
            36.09733333,
            58.74375,
            37.33363636,
            53.91260870000001,
            36.99521739,
            79.01857143,
            16.58627832,
            18.232418300000003,
            28.935815899999998,
            11.574202900000001,
            7.674186047,
            8.802105263,
            6.752608696,
            12.73722222,
            37.30333333,
            39.40454545,
            40.08363636,
            16.21666667,
            35.61333333,
            52.66888889,
            42.1125,
            28.64333333,
            122.63,
            16.18919192,
            14.5086,
            25.64128571
           ],
           "yaxis": "y2"
          }
         ],
         "name": "9"
        },
        {
         "data": [
          {
           "alignmentgroup": "True",
           "hovertemplate": "direction=down<br>Local Time (GMT+8)=10<br>floor=%{x}<br>sec=%{y}<extra></extra>",
           "legendgroup": "down",
           "marker": {
            "color": "#636efa"
           },
           "name": "down",
           "offsetgroup": "down",
           "orientation": "v",
           "showlegend": true,
           "textposition": "auto",
           "type": "bar",
           "x": [
            "1",
            "2",
            "3",
            "4",
            "5",
            "6",
            "7",
            "8",
            "9",
            "10",
            "11",
            "12",
            "13",
            "14",
            "15",
            "B1",
            "B3",
            "1",
            "2",
            "3",
            "4",
            "5",
            "6",
            "7",
            "8",
            "9",
            "10",
            "11",
            "12",
            "13",
            "14",
            "15",
            "B1",
            "B3"
           ],
           "xaxis": "x",
           "y": [
            22.38050505,
            37.01015625,
            27.34505747,
            49.312608700000006,
            41.44410959,
            13.78043689,
            13.65861538,
            13.25740506,
            16.91567568,
            10.86086957,
            18.50221477,
            21.85371901,
            28.32121495,
            47.00628415,
            58.98550725,
            18.29466667,
            9.3925,
            14.25153846,
            15.68666667,
            38.46380952,
            96.02681818,
            47.02580645,
            36.47831325,
            11.94882353,
            9.047317073,
            18.31787234,
            10.52777778,
            14.90181818,
            19.2072093,
            19.49677966,
            48.388000000000005,
            59.35,
            32.33285714,
            27.21
           ],
           "yaxis": "y"
          },
          {
           "alignmentgroup": "True",
           "hovertemplate": "direction=up<br>Local Time (GMT+8)=10<br>floor=%{x}<br>sec=%{y}<extra></extra>",
           "legendgroup": "up",
           "marker": {
            "color": "#EF553B"
           },
           "name": "up",
           "offsetgroup": "up",
           "orientation": "v",
           "showlegend": true,
           "textposition": "auto",
           "type": "bar",
           "x": [
            "1",
            "2",
            "3",
            "4",
            "5",
            "6",
            "7",
            "8",
            "9",
            "10",
            "11",
            "12",
            "13",
            "14",
            "B1",
            "B3",
            "B4",
            "1",
            "2",
            "3",
            "4",
            "5",
            "6",
            "7",
            "8",
            "9",
            "10",
            "11",
            "12",
            "13",
            "14",
            "B1",
            "B3",
            "B4"
           ],
           "xaxis": "x2",
           "y": [
            13.70707395,
            9.086277372,
            10.27156627,
            9.694130435,
            10.32583333,
            43.27655738,
            49.59741935,
            42.74677419,
            45.27516129,
            16.176,
            29.47454545,
            61.308125,
            31.78625,
            80.518,
            15.05296748,
            14.11086022,
            32.12197309,
            12.36534884,
            10.7940625,
            12.78416667,
            15.21794872,
            10.3648,
            45.12,
            45.51428571,
            49.172,
            26.42222222,
            25.296,
            37.63666667,
            56.78,
            40.918,
            59.925,
            16.52456522,
            12.00588235,
            53.56923077
           ],
           "yaxis": "y2"
          }
         ],
         "name": "10"
        },
        {
         "data": [
          {
           "alignmentgroup": "True",
           "hovertemplate": "direction=down<br>Local Time (GMT+8)=11<br>floor=%{x}<br>sec=%{y}<extra></extra>",
           "legendgroup": "down",
           "marker": {
            "color": "#636efa"
           },
           "name": "down",
           "offsetgroup": "down",
           "orientation": "v",
           "showlegend": true,
           "textposition": "auto",
           "type": "bar",
           "x": [
            "1",
            "2",
            "3",
            "4",
            "5",
            "6",
            "7",
            "8",
            "9",
            "10",
            "11",
            "12",
            "13",
            "14",
            "15",
            "B1",
            "B3",
            "1",
            "2",
            "3",
            "4",
            "5",
            "6",
            "7",
            "8",
            "9",
            "10",
            "11",
            "12",
            "13",
            "14",
            "15",
            "B1"
           ],
           "xaxis": "x",
           "y": [
            16.186875,
            24.17361111,
            27.17586466,
            35.90232877,
            54.33087379,
            10.63971963,
            11.37225989,
            11.25363636,
            13.28433155,
            11.67101266,
            15.72666667,
            22.3829697,
            31.39761006,
            52.34378641,
            77.94909722,
            21.83880597,
            52.4775,
            13.68166667,
            25.84827586,
            18.26169492,
            30.59266667,
            20.58647059,
            12.94477778,
            11.62039216,
            9.0084375,
            9.911836735,
            274.3222222,
            11.56188679,
            226.8580435,
            188.0689286,
            175.79045449999998,
            213.2131579,
            19.16727273
           ],
           "yaxis": "y"
          },
          {
           "alignmentgroup": "True",
           "hovertemplate": "direction=up<br>Local Time (GMT+8)=11<br>floor=%{x}<br>sec=%{y}<extra></extra>",
           "legendgroup": "up",
           "marker": {
            "color": "#EF553B"
           },
           "name": "up",
           "offsetgroup": "up",
           "orientation": "v",
           "showlegend": true,
           "textposition": "auto",
           "type": "bar",
           "x": [
            "1",
            "2",
            "3",
            "4",
            "5",
            "6",
            "7",
            "8",
            "9",
            "10",
            "11",
            "12",
            "13",
            "14",
            "B1",
            "B3",
            "B4",
            "1",
            "2",
            "3",
            "4",
            "5",
            "6",
            "7",
            "8",
            "9",
            "10",
            "11",
            "12",
            "13",
            "14",
            "B1",
            "B3",
            "B4"
           ],
           "xaxis": "x2",
           "y": [
            11.20741135,
            10.62530864,
            8.814210526,
            10.39409639,
            11.07831683,
            81.95076923,
            75.4412766,
            47.22413793,
            50.98,
            41.37470588,
            81.17333333,
            36.303000000000004,
            45.1675,
            35.168,
            19.40496732,
            16.53384615,
            30.19384977,
            11.43811966,
            9.378163265,
            279.19514289999995,
            7.033333333,
            9.688888889,
            66.6275,
            64.31272727,
            1919.576,
            50.16333333,
            22.95555556,
            0.34,
            19.69666667,
            18.566,
            66.59333333,
            81.81075342,
            12.41115385,
            26.567966100000003
           ],
           "yaxis": "y2"
          }
         ],
         "name": "11"
        },
        {
         "data": [
          {
           "alignmentgroup": "True",
           "hovertemplate": "direction=down<br>Local Time (GMT+8)=12<br>floor=%{x}<br>sec=%{y}<extra></extra>",
           "legendgroup": "down",
           "marker": {
            "color": "#636efa"
           },
           "name": "down",
           "offsetgroup": "down",
           "orientation": "v",
           "showlegend": true,
           "textposition": "auto",
           "type": "bar",
           "x": [
            "1",
            "2",
            "3",
            "4",
            "5",
            "6",
            "7",
            "8",
            "9",
            "10",
            "11",
            "12",
            "13",
            "14",
            "15",
            "B1",
            "B3",
            "1",
            "2",
            "3",
            "4",
            "5",
            "6",
            "7",
            "8",
            "9",
            "10",
            "11",
            "12",
            "13",
            "14",
            "15",
            "B1",
            "B3"
           ],
           "xaxis": "x",
           "y": [
            26.69333333,
            30.095,
            33.07615385,
            24.99070175,
            38.43091743,
            10.89734043,
            11.69809783,
            11.65005495,
            14.06939759,
            15.52769231,
            14.5813245,
            22.67571429,
            27.33390625,
            55.69585492,
            62.7375,
            24.8925,
            17.30636364,
            15.35604651,
            19.74466667,
            25.13575758,
            28.36142857,
            38.41326531,
            17.93111111,
            12.43648649,
            13.19325,
            18.53424242,
            17.12857143,
            14.24115385,
            22.34955556,
            24.10651163,
            57.97928571,
            61.06888889,
            14.91956522,
            12.89
           ],
           "yaxis": "y"
          },
          {
           "alignmentgroup": "True",
           "hovertemplate": "direction=up<br>Local Time (GMT+8)=12<br>floor=%{x}<br>sec=%{y}<extra></extra>",
           "legendgroup": "up",
           "marker": {
            "color": "#EF553B"
           },
           "name": "up",
           "offsetgroup": "up",
           "orientation": "v",
           "showlegend": true,
           "textposition": "auto",
           "type": "bar",
           "x": [
            "1",
            "2",
            "3",
            "4",
            "5",
            "6",
            "7",
            "8",
            "9",
            "10",
            "11",
            "12",
            "13",
            "14",
            "B1",
            "B3",
            "B4",
            "1",
            "2",
            "3",
            "4",
            "5",
            "6",
            "7",
            "8",
            "9",
            "10",
            "11",
            "12",
            "13",
            "14",
            "B1",
            "B3",
            "B4"
           ],
           "xaxis": "x2",
           "y": [
            12.53194842,
            9.719496855,
            7.915147059,
            9.125754717000001,
            8.859634146,
            66.72657143,
            59.97212121,
            32.9925,
            47.52555556,
            55.55370968,
            25.94,
            44.3325,
            45.02095238,
            44.37666667,
            17.77144963,
            15.63631579,
            28.11128889,
            15.12217391,
            11.7984375,
            7.616818182,
            12.07310345,
            16.26941176,
            52.5725,
            57.141999999999996,
            103.365,
            94.22,
            41.34375,
            17.07,
            27.01,
            21.5375,
            50.39166667,
            16.02455882,
            14.555,
            23.294761899999997
           ],
           "yaxis": "y2"
          }
         ],
         "name": "12"
        },
        {
         "data": [
          {
           "alignmentgroup": "True",
           "hovertemplate": "direction=down<br>Local Time (GMT+8)=13<br>floor=%{x}<br>sec=%{y}<extra></extra>",
           "legendgroup": "down",
           "marker": {
            "color": "#636efa"
           },
           "name": "down",
           "offsetgroup": "down",
           "orientation": "v",
           "showlegend": true,
           "textposition": "auto",
           "type": "bar",
           "x": [
            "1",
            "2",
            "3",
            "4",
            "5",
            "6",
            "7",
            "8",
            "9",
            "10",
            "11",
            "12",
            "13",
            "14",
            "15",
            "B1",
            "B3",
            "1",
            "2",
            "3",
            "4",
            "5",
            "6",
            "7",
            "8",
            "9",
            "10",
            "11",
            "12",
            "13",
            "14",
            "15",
            "B1",
            "B3"
           ],
           "xaxis": "x",
           "y": [
            24.9458,
            35.29158537,
            43.14269231,
            39.21245902,
            44.07285714,
            12.41157143,
            10.74592593,
            14.322146599999998,
            16.05451977,
            14.70149254,
            16.2847093,
            15.828896100000001,
            24.91994505,
            48.01015385,
            61.51992908,
            22.0677027,
            23.05266667,
            26.87517241,
            23.543000000000003,
            34.94166667,
            20.78631579,
            39.51966667,
            14.94510204,
            15.413,
            15.13484848,
            16.79621622,
            12.49461538,
            15.57305556,
            19.89642857,
            23.51268293,
            45.27770833,
            53.382,
            12.72142857,
            40.46833333
           ],
           "yaxis": "y"
          },
          {
           "alignmentgroup": "True",
           "hovertemplate": "direction=up<br>Local Time (GMT+8)=13<br>floor=%{x}<br>sec=%{y}<extra></extra>",
           "legendgroup": "up",
           "marker": {
            "color": "#EF553B"
           },
           "name": "up",
           "offsetgroup": "up",
           "orientation": "v",
           "showlegend": true,
           "textposition": "auto",
           "type": "bar",
           "x": [
            "1",
            "2",
            "3",
            "4",
            "5",
            "6",
            "7",
            "8",
            "9",
            "10",
            "11",
            "12",
            "13",
            "B1",
            "B3",
            "B4",
            "1",
            "2",
            "3",
            "4",
            "5",
            "6",
            "7",
            "8",
            "9",
            "10",
            "12",
            "13",
            "14",
            "B1",
            "B3",
            "B4"
           ],
           "xaxis": "x2",
           "y": [
            12.30185507,
            9.677368421,
            10.3305618,
            8.7271,
            10.05910256,
            72.8416129,
            74.63418605,
            62.41333333,
            48.968,
            41.821999999999996,
            17.07166667,
            49.549,
            30.59866667,
            15.61563025,
            14.63638095,
            25.37210317,
            13.09168224,
            8.29025,
            9.395384615,
            12.3084375,
            11.82363636,
            42.15666667,
            50.46571429,
            32.964,
            27.146,
            22.1,
            12.79,
            35.14666667,
            20.76,
            17.51263158,
            14.58272727,
            20.79359375
           ],
           "yaxis": "y2"
          }
         ],
         "name": "13"
        },
        {
         "data": [
          {
           "alignmentgroup": "True",
           "hovertemplate": "direction=down<br>Local Time (GMT+8)=14<br>floor=%{x}<br>sec=%{y}<extra></extra>",
           "legendgroup": "down",
           "marker": {
            "color": "#636efa"
           },
           "name": "down",
           "offsetgroup": "down",
           "orientation": "v",
           "showlegend": true,
           "textposition": "auto",
           "type": "bar",
           "x": [
            "1",
            "2",
            "3",
            "4",
            "5",
            "6",
            "7",
            "8",
            "9",
            "10",
            "11",
            "12",
            "13",
            "14",
            "15",
            "B1",
            "B3",
            "1",
            "2",
            "3",
            "4",
            "5",
            "6",
            "7",
            "8",
            "9",
            "10",
            "11",
            "12",
            "13",
            "14",
            "15",
            "B1",
            "B3"
           ],
           "xaxis": "x",
           "y": [
            24.87350877,
            29.43313253,
            34.79205607,
            52.843999999999994,
            45.70141026,
            14.32419492,
            11.55571429,
            13.80168605,
            15.59395522,
            12.74507692,
            20.79647887,
            19.51030303,
            30.5819685,
            44.64534091,
            73.1429078,
            22.41370968,
            25.2,
            7.9741379310000005,
            49.045625,
            53.51757576,
            30.05966667,
            47.64266667,
            16.0098,
            21.3975,
            11.08843137,
            12.88512195,
            12.37352941,
            10.84142857,
            23.48235294,
            21.10916667,
            45.8425,
            47.72717391,
            20.48058824,
            16.7375
           ],
           "yaxis": "y"
          },
          {
           "alignmentgroup": "True",
           "hovertemplate": "direction=up<br>Local Time (GMT+8)=14<br>floor=%{x}<br>sec=%{y}<extra></extra>",
           "legendgroup": "up",
           "marker": {
            "color": "#EF553B"
           },
           "name": "up",
           "offsetgroup": "up",
           "orientation": "v",
           "showlegend": true,
           "textposition": "auto",
           "type": "bar",
           "x": [
            "1",
            "2",
            "3",
            "4",
            "5",
            "6",
            "7",
            "8",
            "9",
            "10",
            "11",
            "12",
            "13",
            "14",
            "B1",
            "B3",
            "B4",
            "1",
            "2",
            "3",
            "4",
            "5",
            "6",
            "7",
            "8",
            "9",
            "10",
            "11",
            "12",
            "13",
            "14",
            "B1",
            "B3",
            "B4"
           ],
           "xaxis": "x2",
           "y": [
            14.29804487,
            9.962236842000001,
            9.455461538,
            11.32754237,
            10.2959633,
            66.5485,
            58.63872727,
            35.18818182,
            36.49458333,
            22.01461538,
            34.93391304,
            36.4776,
            35.90777778,
            84.67736842,
            16.32792388,
            15.36850877,
            30.85391129,
            9.164736842,
            8.205348837,
            7.621935484,
            9.683714286,
            8.458571429,
            50.45333333,
            35.87090909,
            5.785,
            28.93666667,
            8,
            32.33714286,
            50.87666667,
            13.415,
            79.9575,
            11.67884211,
            13.97435897,
            30.82557377
           ],
           "yaxis": "y2"
          }
         ],
         "name": "14"
        },
        {
         "data": [
          {
           "alignmentgroup": "True",
           "hovertemplate": "direction=down<br>Local Time (GMT+8)=15<br>floor=%{x}<br>sec=%{y}<extra></extra>",
           "legendgroup": "down",
           "marker": {
            "color": "#636efa"
           },
           "name": "down",
           "offsetgroup": "down",
           "orientation": "v",
           "showlegend": true,
           "textposition": "auto",
           "type": "bar",
           "x": [
            "1",
            "2",
            "3",
            "4",
            "5",
            "6",
            "7",
            "8",
            "9",
            "10",
            "11",
            "12",
            "13",
            "14",
            "15",
            "B1",
            "B3",
            "1",
            "2",
            "3",
            "4",
            "5",
            "6",
            "7",
            "8",
            "9",
            "10",
            "11",
            "12",
            "13",
            "14",
            "15",
            "B1",
            "B3"
           ],
           "xaxis": "x",
           "y": [
            25.07018349,
            25.49359551,
            29.85433628,
            44.4203,
            47.35247525,
            10.78172093,
            11.11300613,
            14.99126316,
            13.20926174,
            13.82351648,
            15.95540146,
            22.48698113,
            26.04607843,
            57.7185,
            82.81844961,
            21.55714286,
            30.20416667,
            20.53694444,
            16.39136364,
            32.446999999999996,
            26.25038462,
            49.16208333,
            14.40428571,
            10.297,
            13.5058,
            10.87368421,
            10.49058824,
            19.09052632,
            22.365,
            35.75058824,
            47.8842,
            78.422,
            13.83214286,
            23.8075
           ],
           "yaxis": "y"
          },
          {
           "alignmentgroup": "True",
           "hovertemplate": "direction=up<br>Local Time (GMT+8)=15<br>floor=%{x}<br>sec=%{y}<extra></extra>",
           "legendgroup": "up",
           "marker": {
            "color": "#EF553B"
           },
           "name": "up",
           "offsetgroup": "up",
           "orientation": "v",
           "showlegend": true,
           "textposition": "auto",
           "type": "bar",
           "x": [
            "1",
            "2",
            "3",
            "4",
            "5",
            "6",
            "7",
            "8",
            "9",
            "10",
            "11",
            "12",
            "13",
            "14",
            "B1",
            "B3",
            "B4",
            "1",
            "2",
            "3",
            "4",
            "5",
            "6",
            "7",
            "8",
            "9",
            "10",
            "11",
            "12",
            "13",
            "14",
            "B1",
            "B3",
            "B4"
           ],
           "xaxis": "x2",
           "y": [
            13.24454849,
            10.56541401,
            11.30528,
            9.756090226,
            9.69009901,
            72.4571875,
            60.96323529,
            38.51147059,
            47.28277778,
            37.32173913,
            30.81857143,
            52.3796,
            34.49277778,
            91.5975,
            17.20033473,
            17.614,
            39.48711712,
            14.0507,
            9.713333333,
            10.01228571,
            11.57851064,
            8.3012,
            63.65321429,
            53.28842105,
            28.93166667,
            16,
            62.94111111,
            8.355,
            27.35333333,
            21.61666667,
            34.076,
            15.86795181,
            13.0312,
            28.43903846
           ],
           "yaxis": "y2"
          }
         ],
         "name": "15"
        },
        {
         "data": [
          {
           "alignmentgroup": "True",
           "hovertemplate": "direction=down<br>Local Time (GMT+8)=16<br>floor=%{x}<br>sec=%{y}<extra></extra>",
           "legendgroup": "down",
           "marker": {
            "color": "#636efa"
           },
           "name": "down",
           "offsetgroup": "down",
           "orientation": "v",
           "showlegend": true,
           "textposition": "auto",
           "type": "bar",
           "x": [
            "1",
            "2",
            "3",
            "4",
            "5",
            "6",
            "7",
            "8",
            "9",
            "10",
            "11",
            "12",
            "13",
            "14",
            "15",
            "B1",
            "B3",
            "1",
            "2",
            "3",
            "4",
            "5",
            "6",
            "7",
            "8",
            "9",
            "10",
            "11",
            "12",
            "13",
            "14",
            "15",
            "B1",
            "B3"
           ],
           "xaxis": "x",
           "y": [
            20.94330189,
            26.15734177,
            29.85318841,
            35.33483871,
            47.7856,
            11.9687619,
            11.54701389,
            14.59109005,
            13.824875,
            14.77679245,
            17.96359551,
            19.070794699999997,
            25.39195946,
            53.23207071,
            66.45490446,
            23.39784314,
            9.55,
            16.18885714,
            20.52842105,
            27.73333333,
            34.06076923,
            36.66914286,
            14.61283582,
            11.29803922,
            14.14275862,
            14.01181818,
            15.90952381,
            17.94170732,
            18.3,
            29.0286,
            43.26137931,
            63.62877193,
            25.40473684,
            17.25
           ],
           "yaxis": "y"
          },
          {
           "alignmentgroup": "True",
           "hovertemplate": "direction=up<br>Local Time (GMT+8)=16<br>floor=%{x}<br>sec=%{y}<extra></extra>",
           "legendgroup": "up",
           "marker": {
            "color": "#EF553B"
           },
           "name": "up",
           "offsetgroup": "up",
           "orientation": "v",
           "showlegend": true,
           "textposition": "auto",
           "type": "bar",
           "x": [
            "1",
            "2",
            "3",
            "4",
            "5",
            "6",
            "7",
            "8",
            "9",
            "10",
            "11",
            "12",
            "13",
            "14",
            "B1",
            "B3",
            "B4",
            "1",
            "2",
            "3",
            "4",
            "5",
            "6",
            "7",
            "8",
            "9",
            "10",
            "11",
            "12",
            "13",
            "14",
            "B1",
            "B3",
            "B4"
           ],
           "xaxis": "x2",
           "y": [
            13.46622951,
            9.040130719,
            9.854083333,
            11.835,
            12.30865979,
            69.12615385,
            62.54614035,
            36.65055556,
            34.451,
            32.87928571,
            59.04888889,
            46.59777778,
            51.80105263,
            76.92399999999999,
            15.98716263,
            13.77079545,
            29.41120755,
            14.86240741,
            11.03782609,
            11.23902439,
            13.92723404,
            10.91793103,
            56.36928571,
            40.97166667,
            29.8775,
            137.52,
            67.7,
            197.02,
            33.61,
            32.94,
            51.12,
            14.69038095,
            12.56774194,
            22.41875
           ],
           "yaxis": "y2"
          }
         ],
         "name": "16"
        },
        {
         "data": [
          {
           "alignmentgroup": "True",
           "hovertemplate": "direction=down<br>Local Time (GMT+8)=17<br>floor=%{x}<br>sec=%{y}<extra></extra>",
           "legendgroup": "down",
           "marker": {
            "color": "#636efa"
           },
           "name": "down",
           "offsetgroup": "down",
           "orientation": "v",
           "showlegend": true,
           "textposition": "auto",
           "type": "bar",
           "x": [
            "1",
            "2",
            "3",
            "4",
            "5",
            "6",
            "7",
            "8",
            "9",
            "10",
            "11",
            "12",
            "13",
            "14",
            "15",
            "B1",
            "B3",
            "1",
            "2",
            "3",
            "4",
            "5",
            "6",
            "7",
            "8",
            "9",
            "10",
            "11",
            "12",
            "13",
            "14",
            "15",
            "B1",
            "B3"
           ],
           "xaxis": "x",
           "y": [
            22.0454918,
            18.376825399999998,
            31.928556699999998,
            26.32126316,
            46.56439394,
            8.888839286,
            11.08728302,
            11.03395161,
            12.13234568,
            12.17767442,
            14.28554167,
            16.82453202,
            22.43669903,
            38.63958115,
            61.32835106,
            18.61226667,
            36.124,
            24.63447368,
            31.30666667,
            25.21588235,
            32.493125,
            33.106,
            12.6192,
            12.83742857,
            10.55377358,
            17.28732143,
            7.99,
            16.30362069,
            15.95428571,
            22.66444444,
            41.8475,
            52.19745098,
            17.685,
            19.534000000000002
           ],
           "yaxis": "y"
          },
          {
           "alignmentgroup": "True",
           "hovertemplate": "direction=up<br>Local Time (GMT+8)=17<br>floor=%{x}<br>sec=%{y}<extra></extra>",
           "legendgroup": "up",
           "marker": {
            "color": "#EF553B"
           },
           "name": "up",
           "offsetgroup": "up",
           "orientation": "v",
           "showlegend": true,
           "textposition": "auto",
           "type": "bar",
           "x": [
            "1",
            "2",
            "3",
            "4",
            "5",
            "6",
            "7",
            "8",
            "9",
            "10",
            "11",
            "12",
            "13",
            "14",
            "B1",
            "B3",
            "B4",
            "1",
            "2",
            "3",
            "4",
            "5",
            "6",
            "7",
            "8",
            "9",
            "10",
            "11",
            "12",
            "13",
            "14",
            "B1",
            "B3",
            "B4"
           ],
           "xaxis": "x2",
           "y": [
            14.245849800000002,
            10.68721805,
            12.09235955,
            10.730319999999999,
            11.76291139,
            66.17484848,
            63.2878125,
            41.66777778,
            48.42909091,
            53.12555556,
            42.55666667,
            59.19666667,
            36.04357143,
            87.46153846,
            17.74892966,
            13.67952941,
            28.59525547,
            14.5425,
            13.65058824,
            11.345,
            10.32463415,
            13.73428571,
            29.93285714,
            24.48875,
            32.30666667,
            54.945,
            20.005,
            34.722,
            39.73,
            99.165,
            22.27,
            16.77707692,
            19.1012,
            21.67266667
           ],
           "yaxis": "y2"
          }
         ],
         "name": "17"
        },
        {
         "data": [
          {
           "alignmentgroup": "True",
           "hovertemplate": "direction=down<br>Local Time (GMT+8)=18<br>floor=%{x}<br>sec=%{y}<extra></extra>",
           "legendgroup": "down",
           "marker": {
            "color": "#636efa"
           },
           "name": "down",
           "offsetgroup": "down",
           "orientation": "v",
           "showlegend": true,
           "textposition": "auto",
           "type": "bar",
           "x": [
            "1",
            "2",
            "3",
            "4",
            "5",
            "6",
            "7",
            "8",
            "9",
            "10",
            "11",
            "12",
            "13",
            "14",
            "15",
            "B1",
            "B3",
            "1",
            "2",
            "3",
            "4",
            "5",
            "6",
            "7",
            "8",
            "9",
            "10",
            "11",
            "12",
            "13",
            "14",
            "15",
            "B1"
           ],
           "xaxis": "x",
           "y": [
            16.54274194,
            23.60795918,
            22.90538462,
            30.79460317,
            33.25653465,
            12.17037234,
            12.04862637,
            14.57657277,
            14.17634146,
            17.61647059,
            13.48443243,
            17.82126374,
            20.64026596,
            36.24246377,
            44.23891892,
            22.53786885,
            17.66,
            24.48409091,
            14.72428571,
            32.24944444,
            32.35894737,
            24.89058824,
            15.51423729,
            13.50732143,
            15.3424,
            17.44190476,
            12.94666667,
            15.14973684,
            16.04173077,
            19.91641026,
            31.70034483,
            42.01305556,
            18.28125
           ],
           "yaxis": "y"
          },
          {
           "alignmentgroup": "True",
           "hovertemplate": "direction=up<br>Local Time (GMT+8)=18<br>floor=%{x}<br>sec=%{y}<extra></extra>",
           "legendgroup": "up",
           "marker": {
            "color": "#EF553B"
           },
           "name": "up",
           "offsetgroup": "up",
           "orientation": "v",
           "showlegend": true,
           "textposition": "auto",
           "type": "bar",
           "x": [
            "1",
            "2",
            "3",
            "4",
            "5",
            "6",
            "7",
            "8",
            "9",
            "10",
            "11",
            "12",
            "13",
            "14",
            "B1",
            "B3",
            "B4",
            "1",
            "2",
            "3",
            "4",
            "5",
            "6",
            "7",
            "8",
            "9",
            "10",
            "11",
            "12",
            "13",
            "14",
            "B1",
            "B3",
            "B4"
           ],
           "xaxis": "x2",
           "y": [
            15.24994709,
            11.77819444,
            10.01756757,
            17.81777778,
            15.86862745,
            49.1175,
            41.03916667,
            62.40428571,
            29.07666667,
            62.62777778,
            35.215,
            17.945,
            66.00888889,
            29.365,
            17.90008451,
            16.66576923,
            19.77994898,
            12.51275862,
            11.80409091,
            15.145999999999999,
            12.58636364,
            14.4112,
            42.83142857,
            28.59,
            49.614,
            27.9025,
            19.61571429,
            40.355,
            42.785,
            16.6575,
            38.185,
            17.50849206,
            16.65833333,
            20.15222222
           ],
           "yaxis": "y2"
          }
         ],
         "name": "18"
        },
        {
         "data": [
          {
           "alignmentgroup": "True",
           "hovertemplate": "direction=down<br>Local Time (GMT+8)=19<br>floor=%{x}<br>sec=%{y}<extra></extra>",
           "legendgroup": "down",
           "marker": {
            "color": "#636efa"
           },
           "name": "down",
           "offsetgroup": "down",
           "orientation": "v",
           "showlegend": true,
           "textposition": "auto",
           "type": "bar",
           "x": [
            "1",
            "2",
            "3",
            "4",
            "5",
            "6",
            "7",
            "8",
            "9",
            "10",
            "11",
            "12",
            "13",
            "14",
            "15",
            "B1",
            "B3",
            "1",
            "2",
            "3",
            "4",
            "5",
            "6",
            "7",
            "8",
            "9",
            "10",
            "11",
            "12",
            "13",
            "14",
            "15",
            "B1"
           ],
           "xaxis": "x",
           "y": [
            14.9778,
            21.28529412,
            19.35228571,
            19.04875,
            26.49870968,
            15.82796117,
            16.23556818,
            15.27578947,
            17.23795699,
            16.17954545,
            21.535999999999998,
            20.9246875,
            20.73802469,
            23.91283951,
            35.32931034,
            17.66021739,
            16.26,
            15.35380952,
            15.98,
            17.55714286,
            13.19571429,
            21.0156,
            11.96617647,
            17.07227273,
            12.9225,
            15.282,
            29.0725,
            21.38722222,
            19.52925926,
            20.08547619,
            29.426,
            25.04777778,
            13.68
           ],
           "yaxis": "y"
          },
          {
           "alignmentgroup": "True",
           "hovertemplate": "direction=up<br>Local Time (GMT+8)=19<br>floor=%{x}<br>sec=%{y}<extra></extra>",
           "legendgroup": "up",
           "marker": {
            "color": "#EF553B"
           },
           "name": "up",
           "offsetgroup": "up",
           "orientation": "v",
           "showlegend": true,
           "textposition": "auto",
           "type": "bar",
           "x": [
            "1",
            "2",
            "3",
            "4",
            "5",
            "6",
            "7",
            "8",
            "9",
            "10",
            "11",
            "12",
            "13",
            "14",
            "B1",
            "B3",
            "B4",
            "1",
            "2",
            "3",
            "4",
            "5",
            "6",
            "7",
            "8",
            "9",
            "10",
            "12",
            "13",
            "B1",
            "B3",
            "B4"
           ],
           "xaxis": "x2",
           "y": [
            12.24307692,
            14.950999999999999,
            14.84,
            16.41011765,
            15.57023256,
            23.46375,
            25.53555556,
            14.082,
            24.9225,
            28.1,
            45.2,
            39.94,
            41.815,
            31.218000000000004,
            13.90472222,
            17.78341463,
            18.28663366,
            10.70207547,
            14.28181818,
            12.85888889,
            17.39705882,
            21.70333333,
            18.42875,
            23.65571429,
            1.46,
            22.18571429,
            12.795,
            43.06,
            28.72,
            11.1901,
            12.36333333,
            10.129375
           ],
           "yaxis": "y2"
          }
         ],
         "name": "19"
        },
        {
         "data": [
          {
           "alignmentgroup": "True",
           "hovertemplate": "direction=down<br>Local Time (GMT+8)=20<br>floor=%{x}<br>sec=%{y}<extra></extra>",
           "legendgroup": "down",
           "marker": {
            "color": "#636efa"
           },
           "name": "down",
           "offsetgroup": "down",
           "orientation": "v",
           "showlegend": true,
           "textposition": "auto",
           "type": "bar",
           "x": [
            "1",
            "2",
            "3",
            "4",
            "5",
            "6",
            "7",
            "8",
            "9",
            "10",
            "11",
            "12",
            "13",
            "14",
            "15",
            "B1",
            "B3",
            "1",
            "3",
            "4",
            "5",
            "6",
            "7",
            "8",
            "9",
            "10",
            "11",
            "12",
            "13",
            "14",
            "15",
            "B1"
           ],
           "xaxis": "x",
           "y": [
            12.75555556,
            12.49636364,
            13.57551724,
            16.86566667,
            16.945,
            12.64817073,
            13.99390244,
            14.23282353,
            19.69553571,
            10.84153846,
            19.98830189,
            20.96122449,
            21.4168,
            25.72342857,
            24.72416667,
            11.75631579,
            9.53,
            8.338888889,
            22.795,
            25.61235294,
            15.175,
            12.08793103,
            14.71933333,
            13.61714286,
            16.35928571,
            8.5275,
            16.756,
            21.24923077,
            18.38421053,
            16.38769231,
            21.96352941,
            8.278571429
           ],
           "yaxis": "y"
          },
          {
           "alignmentgroup": "True",
           "hovertemplate": "direction=up<br>Local Time (GMT+8)=20<br>floor=%{x}<br>sec=%{y}<extra></extra>",
           "legendgroup": "up",
           "marker": {
            "color": "#EF553B"
           },
           "name": "up",
           "offsetgroup": "up",
           "orientation": "v",
           "showlegend": true,
           "textposition": "auto",
           "type": "bar",
           "x": [
            "1",
            "2",
            "3",
            "4",
            "5",
            "6",
            "7",
            "8",
            "9",
            "10",
            "12",
            "13",
            "14",
            "B1",
            "B3",
            "B4",
            "1",
            "2",
            "3",
            "4",
            "5",
            "6",
            "7",
            "8",
            "13",
            "14",
            "B1",
            "B3",
            "B4"
           ],
           "xaxis": "x2",
           "y": [
            11.075999999999999,
            11.01923077,
            13.21444444,
            16.73583333,
            18.7225,
            28.1825,
            23.545,
            28.048000000000002,
            14.89666667,
            12.92,
            7.57,
            31.005,
            34.84333333,
            13.22089474,
            9.468918919,
            18.63688525,
            13.34707317,
            8.955,
            9.3625,
            19.87769231,
            12.87142857,
            22.858,
            9.3,
            9.68,
            17.97,
            1.54,
            11.71745763,
            12.77916667,
            8.113888889
           ],
           "yaxis": "y2"
          }
         ],
         "name": "20"
        },
        {
         "data": [
          {
           "alignmentgroup": "True",
           "hovertemplate": "direction=down<br>Local Time (GMT+8)=21<br>floor=%{x}<br>sec=%{y}<extra></extra>",
           "legendgroup": "down",
           "marker": {
            "color": "#636efa"
           },
           "name": "down",
           "offsetgroup": "down",
           "orientation": "v",
           "showlegend": true,
           "textposition": "auto",
           "type": "bar",
           "x": [
            "1",
            "2",
            "3",
            "4",
            "5",
            "6",
            "7",
            "8",
            "9",
            "10",
            "11",
            "12",
            "13",
            "14",
            "15",
            "B1",
            "1",
            "2",
            "3",
            "4",
            "5",
            "6",
            "7",
            "8",
            "9",
            "10",
            "11",
            "12",
            "13",
            "14",
            "15",
            "B1"
           ],
           "xaxis": "x",
           "y": [
            7.246,
            17.56,
            14.82214286,
            19.4048,
            12.99425,
            12.4623913,
            16.493,
            15.77315789,
            17.74344828,
            11.77363636,
            19.31058824,
            20.52192308,
            21.40710526,
            19.68295455,
            27.8104,
            11.79272727,
            9.001666667,
            13.565,
            11.33166667,
            13.28545455,
            18.86733333,
            13.72416667,
            11.295,
            11.86769231,
            17.28083333,
            14.512,
            20.64928571,
            23.43,
            14.49066667,
            22.30909091,
            38.34875,
            15.68
           ],
           "yaxis": "y"
          },
          {
           "alignmentgroup": "True",
           "hovertemplate": "direction=up<br>Local Time (GMT+8)=21<br>floor=%{x}<br>sec=%{y}<extra></extra>",
           "legendgroup": "up",
           "marker": {
            "color": "#EF553B"
           },
           "name": "up",
           "offsetgroup": "up",
           "orientation": "v",
           "showlegend": true,
           "textposition": "auto",
           "type": "bar",
           "x": [
            "1",
            "2",
            "3",
            "4",
            "5",
            "6",
            "7",
            "8",
            "9",
            "10",
            "12",
            "14",
            "B1",
            "B3",
            "B4",
            "1",
            "2",
            "3",
            "4",
            "5",
            "6",
            "7",
            "9",
            "10",
            "14",
            "B1",
            "B3",
            "B4"
           ],
           "xaxis": "x2",
           "y": [
            9.712916667,
            11.052,
            11.88181818,
            14.15086957,
            14.41538462,
            23.66,
            7.99,
            16.335,
            22.3975,
            18.21538462,
            30.32,
            18.1275,
            12.18579882,
            14.21090909,
            10.55,
            11.84181818,
            8.2,
            17.405,
            15.8975,
            18.48111111,
            11.36,
            5.755,
            8.03,
            12.33333333,
            20.08,
            10.52981818,
            6.1,
            5.284
           ],
           "yaxis": "y2"
          }
         ],
         "name": "21"
        },
        {
         "data": [
          {
           "alignmentgroup": "True",
           "hovertemplate": "direction=down<br>Local Time (GMT+8)=22<br>floor=%{x}<br>sec=%{y}<extra></extra>",
           "legendgroup": "down",
           "marker": {
            "color": "#636efa"
           },
           "name": "down",
           "offsetgroup": "down",
           "orientation": "v",
           "showlegend": true,
           "textposition": "auto",
           "type": "bar",
           "x": [
            "1",
            "2",
            "3",
            "4",
            "5",
            "6",
            "7",
            "8",
            "9",
            "10",
            "11",
            "12",
            "13",
            "14",
            "15",
            "B1",
            "1",
            "3",
            "4",
            "5",
            "6",
            "7",
            "8",
            "9",
            "10",
            "11",
            "12",
            "13",
            "14",
            "15",
            "B1"
           ],
           "xaxis": "x",
           "y": [
            10.5852381,
            17.93,
            16.63444444,
            19.43741935,
            17.57444444,
            12.79271186,
            16.96777778,
            13.48652174,
            17.2325,
            10.96183908,
            15.96333333,
            19.47571429,
            22.83761905,
            23.480625,
            19.11823529,
            15.24666667,
            5.687777777999999,
            13.28833333,
            9.95,
            13.44833333,
            12.11772727,
            13.47333333,
            18.58222222,
            16.79142857,
            11.18421053,
            14.40428571,
            9.86125,
            19.58,
            24.31666667,
            23.35,
            22.596
           ],
           "yaxis": "y"
          },
          {
           "alignmentgroup": "True",
           "hovertemplate": "direction=up<br>Local Time (GMT+8)=22<br>floor=%{x}<br>sec=%{y}<extra></extra>",
           "legendgroup": "up",
           "marker": {
            "color": "#EF553B"
           },
           "name": "up",
           "offsetgroup": "up",
           "orientation": "v",
           "showlegend": true,
           "textposition": "auto",
           "type": "bar",
           "x": [
            "1",
            "2",
            "3",
            "4",
            "5",
            "6",
            "7",
            "8",
            "9",
            "10",
            "14",
            "B1",
            "B3",
            "B4",
            "1",
            "2",
            "3",
            "4",
            "5",
            "6",
            "7",
            "8",
            "B1",
            "B3",
            "B4"
           ],
           "xaxis": "x2",
           "y": [
            9.361983471,
            19.81,
            8.68,
            12.68291667,
            17.02235294,
            11.765,
            14.09625,
            18.085,
            23.77,
            20.385,
            19.802,
            11.48517241,
            17.42866667,
            7.624166667000001,
            9.648979592,
            9.57,
            20.455,
            8.82,
            23.455,
            11.568,
            15.79,
            1.61,
            12.271875,
            7.915,
            9.15
           ],
           "yaxis": "y2"
          }
         ],
         "name": "22"
        },
        {
         "data": [
          {
           "alignmentgroup": "True",
           "hovertemplate": "direction=down<br>Local Time (GMT+8)=23<br>floor=%{x}<br>sec=%{y}<extra></extra>",
           "legendgroup": "down",
           "marker": {
            "color": "#636efa"
           },
           "name": "down",
           "offsetgroup": "down",
           "orientation": "v",
           "showlegend": true,
           "textposition": "auto",
           "type": "bar",
           "x": [
            "1",
            "2",
            "3",
            "4",
            "5",
            "6",
            "7",
            "8",
            "9",
            "10",
            "11",
            "12",
            "13",
            "14",
            "15",
            "B1",
            "1",
            "4",
            "5",
            "6",
            "7",
            "8",
            "9",
            "10",
            "11",
            "12",
            "13",
            "14",
            "15",
            "B1"
           ],
           "xaxis": "x",
           "y": [
            7.184,
            17.65,
            18.75,
            13.6625,
            19.92875,
            14.17892308,
            17.41444444,
            13.0885,
            13.74307692,
            11.63882353,
            16.846,
            12.665999999999999,
            17.36454545,
            13.96333333,
            23.44,
            11,
            13.0575,
            11.86222222,
            18.31,
            13.21,
            17.225,
            12.345,
            2.82,
            17.53571429,
            12.46666667,
            7.885,
            12.048,
            10.69,
            22.78,
            12.82333333
           ],
           "yaxis": "y"
          },
          {
           "alignmentgroup": "True",
           "hovertemplate": "direction=up<br>Local Time (GMT+8)=23<br>floor=%{x}<br>sec=%{y}<extra></extra>",
           "legendgroup": "up",
           "marker": {
            "color": "#EF553B"
           },
           "name": "up",
           "offsetgroup": "up",
           "orientation": "v",
           "showlegend": true,
           "textposition": "auto",
           "type": "bar",
           "x": [
            "1",
            "2",
            "3",
            "4",
            "5",
            "6",
            "7",
            "9",
            "11",
            "12",
            "14",
            "B1",
            "B3",
            "B4",
            "1",
            "2",
            "3",
            "4",
            "5",
            "6",
            "14",
            "B1",
            "B4"
           ],
           "xaxis": "x2",
           "y": [
            12.37666667,
            0.92,
            12.39833333,
            11.44857143,
            15.12,
            13.3165625,
            10.655999999999999,
            15.72,
            1.27,
            17.62,
            8.905,
            10.85137931,
            10.014,
            12.47611111,
            6.954705882000001,
            8.01,
            14.515,
            20.1,
            12.62666667,
            12.96230769,
            7.84,
            10.41785714,
            14.08615385
           ],
           "yaxis": "y2"
          }
         ],
         "name": "23"
        }
       ],
       "layout": {
        "annotations": [
         {
          "font": {},
          "showarrow": false,
          "text": "direction=down",
          "x": 0.245,
          "xanchor": "center",
          "xref": "paper",
          "y": 1,
          "yanchor": "bottom",
          "yref": "paper"
         },
         {
          "font": {},
          "showarrow": false,
          "text": "direction=up",
          "x": 0.755,
          "xanchor": "center",
          "xref": "paper",
          "y": 1,
          "yanchor": "bottom",
          "yref": "paper"
         }
        ],
        "barmode": "relative",
        "legend": {
         "title": {
          "text": "direction"
         },
         "tracegroupgap": 0
        },
        "margin": {
         "t": 60
        },
        "sliders": [
         {
          "active": 0,
          "currentvalue": {
           "prefix": "Local Time (GMT+8)="
          },
          "len": 0.9,
          "pad": {
           "b": 10,
           "t": 60
          },
          "steps": [
           {
            "args": [
             [
              "0"
             ],
             {
              "frame": {
               "duration": 0,
               "redraw": true
              },
              "fromcurrent": true,
              "mode": "immediate",
              "transition": {
               "duration": 0,
               "easing": "linear"
              }
             }
            ],
            "label": "0",
            "method": "animate"
           },
           {
            "args": [
             [
              "1"
             ],
             {
              "frame": {
               "duration": 0,
               "redraw": true
              },
              "fromcurrent": true,
              "mode": "immediate",
              "transition": {
               "duration": 0,
               "easing": "linear"
              }
             }
            ],
            "label": "1",
            "method": "animate"
           },
           {
            "args": [
             [
              "2"
             ],
             {
              "frame": {
               "duration": 0,
               "redraw": true
              },
              "fromcurrent": true,
              "mode": "immediate",
              "transition": {
               "duration": 0,
               "easing": "linear"
              }
             }
            ],
            "label": "2",
            "method": "animate"
           },
           {
            "args": [
             [
              "3"
             ],
             {
              "frame": {
               "duration": 0,
               "redraw": true
              },
              "fromcurrent": true,
              "mode": "immediate",
              "transition": {
               "duration": 0,
               "easing": "linear"
              }
             }
            ],
            "label": "3",
            "method": "animate"
           },
           {
            "args": [
             [
              "4"
             ],
             {
              "frame": {
               "duration": 0,
               "redraw": true
              },
              "fromcurrent": true,
              "mode": "immediate",
              "transition": {
               "duration": 0,
               "easing": "linear"
              }
             }
            ],
            "label": "4",
            "method": "animate"
           },
           {
            "args": [
             [
              "5"
             ],
             {
              "frame": {
               "duration": 0,
               "redraw": true
              },
              "fromcurrent": true,
              "mode": "immediate",
              "transition": {
               "duration": 0,
               "easing": "linear"
              }
             }
            ],
            "label": "5",
            "method": "animate"
           },
           {
            "args": [
             [
              "6"
             ],
             {
              "frame": {
               "duration": 0,
               "redraw": true
              },
              "fromcurrent": true,
              "mode": "immediate",
              "transition": {
               "duration": 0,
               "easing": "linear"
              }
             }
            ],
            "label": "6",
            "method": "animate"
           },
           {
            "args": [
             [
              "7"
             ],
             {
              "frame": {
               "duration": 0,
               "redraw": true
              },
              "fromcurrent": true,
              "mode": "immediate",
              "transition": {
               "duration": 0,
               "easing": "linear"
              }
             }
            ],
            "label": "7",
            "method": "animate"
           },
           {
            "args": [
             [
              "8"
             ],
             {
              "frame": {
               "duration": 0,
               "redraw": true
              },
              "fromcurrent": true,
              "mode": "immediate",
              "transition": {
               "duration": 0,
               "easing": "linear"
              }
             }
            ],
            "label": "8",
            "method": "animate"
           },
           {
            "args": [
             [
              "9"
             ],
             {
              "frame": {
               "duration": 0,
               "redraw": true
              },
              "fromcurrent": true,
              "mode": "immediate",
              "transition": {
               "duration": 0,
               "easing": "linear"
              }
             }
            ],
            "label": "9",
            "method": "animate"
           },
           {
            "args": [
             [
              "10"
             ],
             {
              "frame": {
               "duration": 0,
               "redraw": true
              },
              "fromcurrent": true,
              "mode": "immediate",
              "transition": {
               "duration": 0,
               "easing": "linear"
              }
             }
            ],
            "label": "10",
            "method": "animate"
           },
           {
            "args": [
             [
              "11"
             ],
             {
              "frame": {
               "duration": 0,
               "redraw": true
              },
              "fromcurrent": true,
              "mode": "immediate",
              "transition": {
               "duration": 0,
               "easing": "linear"
              }
             }
            ],
            "label": "11",
            "method": "animate"
           },
           {
            "args": [
             [
              "12"
             ],
             {
              "frame": {
               "duration": 0,
               "redraw": true
              },
              "fromcurrent": true,
              "mode": "immediate",
              "transition": {
               "duration": 0,
               "easing": "linear"
              }
             }
            ],
            "label": "12",
            "method": "animate"
           },
           {
            "args": [
             [
              "13"
             ],
             {
              "frame": {
               "duration": 0,
               "redraw": true
              },
              "fromcurrent": true,
              "mode": "immediate",
              "transition": {
               "duration": 0,
               "easing": "linear"
              }
             }
            ],
            "label": "13",
            "method": "animate"
           },
           {
            "args": [
             [
              "14"
             ],
             {
              "frame": {
               "duration": 0,
               "redraw": true
              },
              "fromcurrent": true,
              "mode": "immediate",
              "transition": {
               "duration": 0,
               "easing": "linear"
              }
             }
            ],
            "label": "14",
            "method": "animate"
           },
           {
            "args": [
             [
              "15"
             ],
             {
              "frame": {
               "duration": 0,
               "redraw": true
              },
              "fromcurrent": true,
              "mode": "immediate",
              "transition": {
               "duration": 0,
               "easing": "linear"
              }
             }
            ],
            "label": "15",
            "method": "animate"
           },
           {
            "args": [
             [
              "16"
             ],
             {
              "frame": {
               "duration": 0,
               "redraw": true
              },
              "fromcurrent": true,
              "mode": "immediate",
              "transition": {
               "duration": 0,
               "easing": "linear"
              }
             }
            ],
            "label": "16",
            "method": "animate"
           },
           {
            "args": [
             [
              "17"
             ],
             {
              "frame": {
               "duration": 0,
               "redraw": true
              },
              "fromcurrent": true,
              "mode": "immediate",
              "transition": {
               "duration": 0,
               "easing": "linear"
              }
             }
            ],
            "label": "17",
            "method": "animate"
           },
           {
            "args": [
             [
              "18"
             ],
             {
              "frame": {
               "duration": 0,
               "redraw": true
              },
              "fromcurrent": true,
              "mode": "immediate",
              "transition": {
               "duration": 0,
               "easing": "linear"
              }
             }
            ],
            "label": "18",
            "method": "animate"
           },
           {
            "args": [
             [
              "19"
             ],
             {
              "frame": {
               "duration": 0,
               "redraw": true
              },
              "fromcurrent": true,
              "mode": "immediate",
              "transition": {
               "duration": 0,
               "easing": "linear"
              }
             }
            ],
            "label": "19",
            "method": "animate"
           },
           {
            "args": [
             [
              "20"
             ],
             {
              "frame": {
               "duration": 0,
               "redraw": true
              },
              "fromcurrent": true,
              "mode": "immediate",
              "transition": {
               "duration": 0,
               "easing": "linear"
              }
             }
            ],
            "label": "20",
            "method": "animate"
           },
           {
            "args": [
             [
              "21"
             ],
             {
              "frame": {
               "duration": 0,
               "redraw": true
              },
              "fromcurrent": true,
              "mode": "immediate",
              "transition": {
               "duration": 0,
               "easing": "linear"
              }
             }
            ],
            "label": "21",
            "method": "animate"
           },
           {
            "args": [
             [
              "22"
             ],
             {
              "frame": {
               "duration": 0,
               "redraw": true
              },
              "fromcurrent": true,
              "mode": "immediate",
              "transition": {
               "duration": 0,
               "easing": "linear"
              }
             }
            ],
            "label": "22",
            "method": "animate"
           },
           {
            "args": [
             [
              "23"
             ],
             {
              "frame": {
               "duration": 0,
               "redraw": true
              },
              "fromcurrent": true,
              "mode": "immediate",
              "transition": {
               "duration": 0,
               "easing": "linear"
              }
             }
            ],
            "label": "23",
            "method": "animate"
           }
          ],
          "x": 0.1,
          "xanchor": "left",
          "y": 0,
          "yanchor": "top"
         }
        ],
        "template": {
         "data": {
          "bar": [
           {
            "error_x": {
             "color": "#2a3f5f"
            },
            "error_y": {
             "color": "#2a3f5f"
            },
            "marker": {
             "line": {
              "color": "#E5ECF6",
              "width": 0.5
             }
            },
            "type": "bar"
           }
          ],
          "barpolar": [
           {
            "marker": {
             "line": {
              "color": "#E5ECF6",
              "width": 0.5
             }
            },
            "type": "barpolar"
           }
          ],
          "carpet": [
           {
            "aaxis": {
             "endlinecolor": "#2a3f5f",
             "gridcolor": "white",
             "linecolor": "white",
             "minorgridcolor": "white",
             "startlinecolor": "#2a3f5f"
            },
            "baxis": {
             "endlinecolor": "#2a3f5f",
             "gridcolor": "white",
             "linecolor": "white",
             "minorgridcolor": "white",
             "startlinecolor": "#2a3f5f"
            },
            "type": "carpet"
           }
          ],
          "choropleth": [
           {
            "colorbar": {
             "outlinewidth": 0,
             "ticks": ""
            },
            "type": "choropleth"
           }
          ],
          "contour": [
           {
            "colorbar": {
             "outlinewidth": 0,
             "ticks": ""
            },
            "colorscale": [
             [
              0,
              "#0d0887"
             ],
             [
              0.1111111111111111,
              "#46039f"
             ],
             [
              0.2222222222222222,
              "#7201a8"
             ],
             [
              0.3333333333333333,
              "#9c179e"
             ],
             [
              0.4444444444444444,
              "#bd3786"
             ],
             [
              0.5555555555555556,
              "#d8576b"
             ],
             [
              0.6666666666666666,
              "#ed7953"
             ],
             [
              0.7777777777777778,
              "#fb9f3a"
             ],
             [
              0.8888888888888888,
              "#fdca26"
             ],
             [
              1,
              "#f0f921"
             ]
            ],
            "type": "contour"
           }
          ],
          "contourcarpet": [
           {
            "colorbar": {
             "outlinewidth": 0,
             "ticks": ""
            },
            "type": "contourcarpet"
           }
          ],
          "heatmap": [
           {
            "colorbar": {
             "outlinewidth": 0,
             "ticks": ""
            },
            "colorscale": [
             [
              0,
              "#0d0887"
             ],
             [
              0.1111111111111111,
              "#46039f"
             ],
             [
              0.2222222222222222,
              "#7201a8"
             ],
             [
              0.3333333333333333,
              "#9c179e"
             ],
             [
              0.4444444444444444,
              "#bd3786"
             ],
             [
              0.5555555555555556,
              "#d8576b"
             ],
             [
              0.6666666666666666,
              "#ed7953"
             ],
             [
              0.7777777777777778,
              "#fb9f3a"
             ],
             [
              0.8888888888888888,
              "#fdca26"
             ],
             [
              1,
              "#f0f921"
             ]
            ],
            "type": "heatmap"
           }
          ],
          "heatmapgl": [
           {
            "colorbar": {
             "outlinewidth": 0,
             "ticks": ""
            },
            "colorscale": [
             [
              0,
              "#0d0887"
             ],
             [
              0.1111111111111111,
              "#46039f"
             ],
             [
              0.2222222222222222,
              "#7201a8"
             ],
             [
              0.3333333333333333,
              "#9c179e"
             ],
             [
              0.4444444444444444,
              "#bd3786"
             ],
             [
              0.5555555555555556,
              "#d8576b"
             ],
             [
              0.6666666666666666,
              "#ed7953"
             ],
             [
              0.7777777777777778,
              "#fb9f3a"
             ],
             [
              0.8888888888888888,
              "#fdca26"
             ],
             [
              1,
              "#f0f921"
             ]
            ],
            "type": "heatmapgl"
           }
          ],
          "histogram": [
           {
            "marker": {
             "colorbar": {
              "outlinewidth": 0,
              "ticks": ""
             }
            },
            "type": "histogram"
           }
          ],
          "histogram2d": [
           {
            "colorbar": {
             "outlinewidth": 0,
             "ticks": ""
            },
            "colorscale": [
             [
              0,
              "#0d0887"
             ],
             [
              0.1111111111111111,
              "#46039f"
             ],
             [
              0.2222222222222222,
              "#7201a8"
             ],
             [
              0.3333333333333333,
              "#9c179e"
             ],
             [
              0.4444444444444444,
              "#bd3786"
             ],
             [
              0.5555555555555556,
              "#d8576b"
             ],
             [
              0.6666666666666666,
              "#ed7953"
             ],
             [
              0.7777777777777778,
              "#fb9f3a"
             ],
             [
              0.8888888888888888,
              "#fdca26"
             ],
             [
              1,
              "#f0f921"
             ]
            ],
            "type": "histogram2d"
           }
          ],
          "histogram2dcontour": [
           {
            "colorbar": {
             "outlinewidth": 0,
             "ticks": ""
            },
            "colorscale": [
             [
              0,
              "#0d0887"
             ],
             [
              0.1111111111111111,
              "#46039f"
             ],
             [
              0.2222222222222222,
              "#7201a8"
             ],
             [
              0.3333333333333333,
              "#9c179e"
             ],
             [
              0.4444444444444444,
              "#bd3786"
             ],
             [
              0.5555555555555556,
              "#d8576b"
             ],
             [
              0.6666666666666666,
              "#ed7953"
             ],
             [
              0.7777777777777778,
              "#fb9f3a"
             ],
             [
              0.8888888888888888,
              "#fdca26"
             ],
             [
              1,
              "#f0f921"
             ]
            ],
            "type": "histogram2dcontour"
           }
          ],
          "mesh3d": [
           {
            "colorbar": {
             "outlinewidth": 0,
             "ticks": ""
            },
            "type": "mesh3d"
           }
          ],
          "parcoords": [
           {
            "line": {
             "colorbar": {
              "outlinewidth": 0,
              "ticks": ""
             }
            },
            "type": "parcoords"
           }
          ],
          "pie": [
           {
            "automargin": true,
            "type": "pie"
           }
          ],
          "scatter": [
           {
            "marker": {
             "colorbar": {
              "outlinewidth": 0,
              "ticks": ""
             }
            },
            "type": "scatter"
           }
          ],
          "scatter3d": [
           {
            "line": {
             "colorbar": {
              "outlinewidth": 0,
              "ticks": ""
             }
            },
            "marker": {
             "colorbar": {
              "outlinewidth": 0,
              "ticks": ""
             }
            },
            "type": "scatter3d"
           }
          ],
          "scattercarpet": [
           {
            "marker": {
             "colorbar": {
              "outlinewidth": 0,
              "ticks": ""
             }
            },
            "type": "scattercarpet"
           }
          ],
          "scattergeo": [
           {
            "marker": {
             "colorbar": {
              "outlinewidth": 0,
              "ticks": ""
             }
            },
            "type": "scattergeo"
           }
          ],
          "scattergl": [
           {
            "marker": {
             "colorbar": {
              "outlinewidth": 0,
              "ticks": ""
             }
            },
            "type": "scattergl"
           }
          ],
          "scattermapbox": [
           {
            "marker": {
             "colorbar": {
              "outlinewidth": 0,
              "ticks": ""
             }
            },
            "type": "scattermapbox"
           }
          ],
          "scatterpolar": [
           {
            "marker": {
             "colorbar": {
              "outlinewidth": 0,
              "ticks": ""
             }
            },
            "type": "scatterpolar"
           }
          ],
          "scatterpolargl": [
           {
            "marker": {
             "colorbar": {
              "outlinewidth": 0,
              "ticks": ""
             }
            },
            "type": "scatterpolargl"
           }
          ],
          "scatterternary": [
           {
            "marker": {
             "colorbar": {
              "outlinewidth": 0,
              "ticks": ""
             }
            },
            "type": "scatterternary"
           }
          ],
          "surface": [
           {
            "colorbar": {
             "outlinewidth": 0,
             "ticks": ""
            },
            "colorscale": [
             [
              0,
              "#0d0887"
             ],
             [
              0.1111111111111111,
              "#46039f"
             ],
             [
              0.2222222222222222,
              "#7201a8"
             ],
             [
              0.3333333333333333,
              "#9c179e"
             ],
             [
              0.4444444444444444,
              "#bd3786"
             ],
             [
              0.5555555555555556,
              "#d8576b"
             ],
             [
              0.6666666666666666,
              "#ed7953"
             ],
             [
              0.7777777777777778,
              "#fb9f3a"
             ],
             [
              0.8888888888888888,
              "#fdca26"
             ],
             [
              1,
              "#f0f921"
             ]
            ],
            "type": "surface"
           }
          ],
          "table": [
           {
            "cells": {
             "fill": {
              "color": "#EBF0F8"
             },
             "line": {
              "color": "white"
             }
            },
            "header": {
             "fill": {
              "color": "#C8D4E3"
             },
             "line": {
              "color": "white"
             }
            },
            "type": "table"
           }
          ]
         },
         "layout": {
          "annotationdefaults": {
           "arrowcolor": "#2a3f5f",
           "arrowhead": 0,
           "arrowwidth": 1
          },
          "coloraxis": {
           "colorbar": {
            "outlinewidth": 0,
            "ticks": ""
           }
          },
          "colorscale": {
           "diverging": [
            [
             0,
             "#8e0152"
            ],
            [
             0.1,
             "#c51b7d"
            ],
            [
             0.2,
             "#de77ae"
            ],
            [
             0.3,
             "#f1b6da"
            ],
            [
             0.4,
             "#fde0ef"
            ],
            [
             0.5,
             "#f7f7f7"
            ],
            [
             0.6,
             "#e6f5d0"
            ],
            [
             0.7,
             "#b8e186"
            ],
            [
             0.8,
             "#7fbc41"
            ],
            [
             0.9,
             "#4d9221"
            ],
            [
             1,
             "#276419"
            ]
           ],
           "sequential": [
            [
             0,
             "#0d0887"
            ],
            [
             0.1111111111111111,
             "#46039f"
            ],
            [
             0.2222222222222222,
             "#7201a8"
            ],
            [
             0.3333333333333333,
             "#9c179e"
            ],
            [
             0.4444444444444444,
             "#bd3786"
            ],
            [
             0.5555555555555556,
             "#d8576b"
            ],
            [
             0.6666666666666666,
             "#ed7953"
            ],
            [
             0.7777777777777778,
             "#fb9f3a"
            ],
            [
             0.8888888888888888,
             "#fdca26"
            ],
            [
             1,
             "#f0f921"
            ]
           ],
           "sequentialminus": [
            [
             0,
             "#0d0887"
            ],
            [
             0.1111111111111111,
             "#46039f"
            ],
            [
             0.2222222222222222,
             "#7201a8"
            ],
            [
             0.3333333333333333,
             "#9c179e"
            ],
            [
             0.4444444444444444,
             "#bd3786"
            ],
            [
             0.5555555555555556,
             "#d8576b"
            ],
            [
             0.6666666666666666,
             "#ed7953"
            ],
            [
             0.7777777777777778,
             "#fb9f3a"
            ],
            [
             0.8888888888888888,
             "#fdca26"
            ],
            [
             1,
             "#f0f921"
            ]
           ]
          },
          "colorway": [
           "#636efa",
           "#EF553B",
           "#00cc96",
           "#ab63fa",
           "#FFA15A",
           "#19d3f3",
           "#FF6692",
           "#B6E880",
           "#FF97FF",
           "#FECB52"
          ],
          "font": {
           "color": "#2a3f5f"
          },
          "geo": {
           "bgcolor": "white",
           "lakecolor": "white",
           "landcolor": "#E5ECF6",
           "showlakes": true,
           "showland": true,
           "subunitcolor": "white"
          },
          "hoverlabel": {
           "align": "left"
          },
          "hovermode": "closest",
          "mapbox": {
           "style": "light"
          },
          "paper_bgcolor": "white",
          "plot_bgcolor": "#E5ECF6",
          "polar": {
           "angularaxis": {
            "gridcolor": "white",
            "linecolor": "white",
            "ticks": ""
           },
           "bgcolor": "#E5ECF6",
           "radialaxis": {
            "gridcolor": "white",
            "linecolor": "white",
            "ticks": ""
           }
          },
          "scene": {
           "xaxis": {
            "backgroundcolor": "#E5ECF6",
            "gridcolor": "white",
            "gridwidth": 2,
            "linecolor": "white",
            "showbackground": true,
            "ticks": "",
            "zerolinecolor": "white"
           },
           "yaxis": {
            "backgroundcolor": "#E5ECF6",
            "gridcolor": "white",
            "gridwidth": 2,
            "linecolor": "white",
            "showbackground": true,
            "ticks": "",
            "zerolinecolor": "white"
           },
           "zaxis": {
            "backgroundcolor": "#E5ECF6",
            "gridcolor": "white",
            "gridwidth": 2,
            "linecolor": "white",
            "showbackground": true,
            "ticks": "",
            "zerolinecolor": "white"
           }
          },
          "shapedefaults": {
           "line": {
            "color": "#2a3f5f"
           }
          },
          "ternary": {
           "aaxis": {
            "gridcolor": "white",
            "linecolor": "white",
            "ticks": ""
           },
           "baxis": {
            "gridcolor": "white",
            "linecolor": "white",
            "ticks": ""
           },
           "bgcolor": "#E5ECF6",
           "caxis": {
            "gridcolor": "white",
            "linecolor": "white",
            "ticks": ""
           }
          },
          "title": {
           "x": 0.05
          },
          "xaxis": {
           "automargin": true,
           "gridcolor": "white",
           "linecolor": "white",
           "ticks": "",
           "title": {
            "standoff": 15
           },
           "zerolinecolor": "white",
           "zerolinewidth": 2
          },
          "yaxis": {
           "automargin": true,
           "gridcolor": "white",
           "linecolor": "white",
           "ticks": "",
           "title": {
            "standoff": 15
           },
           "zerolinecolor": "white",
           "zerolinewidth": 2
          }
         }
        },
        "title": {
         "text": "Average Waiting Time of Elevator Calls by Floor"
        },
        "updatemenus": [
         {
          "buttons": [
           {
            "args": [
             null,
             {
              "frame": {
               "duration": 500,
               "redraw": true
              },
              "fromcurrent": true,
              "mode": "immediate",
              "transition": {
               "duration": 500,
               "easing": "linear"
              }
             }
            ],
            "label": "&#9654;",
            "method": "animate"
           },
           {
            "args": [
             [
              null
             ],
             {
              "frame": {
               "duration": 0,
               "redraw": true
              },
              "fromcurrent": true,
              "mode": "immediate",
              "transition": {
               "duration": 0,
               "easing": "linear"
              }
             }
            ],
            "label": "&#9724;",
            "method": "animate"
           }
          ],
          "direction": "left",
          "pad": {
           "r": 10,
           "t": 70
          },
          "showactive": false,
          "type": "buttons",
          "x": 0.1,
          "xanchor": "right",
          "y": 0,
          "yanchor": "top"
         }
        ],
        "xaxis": {
         "anchor": "y",
         "categoryarray": [
          "B4",
          "B3",
          "B2",
          "B1",
          "1",
          "2",
          "3",
          "4",
          "5",
          "6",
          "7",
          "8",
          "9",
          "10",
          "11",
          "12",
          "13",
          "14",
          "15"
         ],
         "domain": [
          0,
          0.49
         ],
         "nticks": 19,
         "title": {
          "text": "floor"
         },
         "type": "category"
        },
        "xaxis2": {
         "anchor": "y2",
         "categoryarray": [
          "B4",
          "B3",
          "B2",
          "B1",
          "1",
          "2",
          "3",
          "4",
          "5",
          "6",
          "7",
          "8",
          "9",
          "10",
          "11",
          "12",
          "13",
          "14",
          "15"
         ],
         "domain": [
          0.51,
          1
         ],
         "matches": "x",
         "nticks": 19,
         "title": {
          "text": "floor"
         },
         "type": "category"
        },
        "yaxis": {
         "anchor": "x",
         "domain": [
          0,
          1
         ],
         "range": [
          0,
          300
         ],
         "title": {
          "text": "sec"
         }
        },
        "yaxis2": {
         "anchor": "x2",
         "domain": [
          0,
          1
         ],
         "matches": "y",
         "range": [
          0,
          300
         ],
         "showticklabels": false
        }
       }
      },
      "text/html": [
       "<div>\n",
       "        \n",
       "        \n",
       "            <div id=\"7d114195-08dd-456e-8ddc-cd112a96f891\" class=\"plotly-graph-div\" style=\"height:525px; width:100%;\"></div>\n",
       "            <script type=\"text/javascript\">\n",
       "                require([\"plotly\"], function(Plotly) {\n",
       "                    window.PLOTLYENV=window.PLOTLYENV || {};\n",
       "                    \n",
       "                if (document.getElementById(\"7d114195-08dd-456e-8ddc-cd112a96f891\")) {\n",
       "                    Plotly.newPlot(\n",
       "                        '7d114195-08dd-456e-8ddc-cd112a96f891',\n",
       "                        [{\"alignmentgroup\": \"True\", \"hovertemplate\": \"direction=down<br>Local Time (GMT+8)=0<br>floor=%{x}<br>sec=%{y}<extra></extra>\", \"legendgroup\": \"down\", \"marker\": {\"color\": \"#636efa\"}, \"name\": \"down\", \"offsetgroup\": \"down\", \"orientation\": \"v\", \"showlegend\": true, \"textposition\": \"auto\", \"type\": \"bar\", \"x\": [\"1\", \"3\", \"4\", \"5\", \"6\", \"7\", \"8\", \"9\", \"10\", \"11\", \"12\", \"13\", \"14\", \"15\", \"B1\", \"3\", \"4\", \"6\", \"7\", \"8\", \"9\", \"11\", \"12\", \"13\", \"14\", \"15\", \"B1\"], \"xaxis\": \"x\", \"y\": [8.03, 19.435, 14.218, 10.56625, 1.61, 15.10625, 13.19235294, 12.13, 14.2925, 19.782, 16.13454545, 16.88111111, 19.71, 29.41666667, 9.336666667000001, 14.025, 15.44, 14.845, 16.24333333, 15.35, 18.48, 19.92333333, 20.114, 18.98, 18.86, 21.425, 12.625], \"yaxis\": \"y\"}, {\"alignmentgroup\": \"True\", \"hovertemplate\": \"direction=up<br>Local Time (GMT+8)=0<br>floor=%{x}<br>sec=%{y}<extra></extra>\", \"legendgroup\": \"up\", \"marker\": {\"color\": \"#EF553B\"}, \"name\": \"up\", \"offsetgroup\": \"up\", \"orientation\": \"v\", \"showlegend\": true, \"textposition\": \"auto\", \"type\": \"bar\", \"x\": [\"1\", \"2\", \"3\", \"4\", \"5\", \"6\", \"7\", \"14\", \"B1\", \"B3\", \"B4\", \"1\", \"3\", \"4\", \"5\", \"7\", \"B1\", \"B3\", \"B4\"], \"xaxis\": \"x2\", \"y\": [3.78375, 17.56, 14.22588235, 14.67366667, 13.06058824, 8.64, 10.35857143, 20.495, 13.53948718, 8.47, 17.68, 9.79, 18.08333333, 10.53333333, 13.14666667, 7.505, 16.17625, 14.03333333, 14.35], \"yaxis\": \"y2\"}],\n",
       "                        {\"annotations\": [{\"font\": {}, \"showarrow\": false, \"text\": \"direction=down\", \"x\": 0.245, \"xanchor\": \"center\", \"xref\": \"paper\", \"y\": 1.0, \"yanchor\": \"bottom\", \"yref\": \"paper\"}, {\"font\": {}, \"showarrow\": false, \"text\": \"direction=up\", \"x\": 0.755, \"xanchor\": \"center\", \"xref\": \"paper\", \"y\": 1.0, \"yanchor\": \"bottom\", \"yref\": \"paper\"}], \"barmode\": \"relative\", \"legend\": {\"title\": {\"text\": \"direction\"}, \"tracegroupgap\": 0}, \"margin\": {\"t\": 60}, \"sliders\": [{\"active\": 0, \"currentvalue\": {\"prefix\": \"Local Time (GMT+8)=\"}, \"len\": 0.9, \"pad\": {\"b\": 10, \"t\": 60}, \"steps\": [{\"args\": [[\"0\"], {\"frame\": {\"duration\": 0, \"redraw\": true}, \"fromcurrent\": true, \"mode\": \"immediate\", \"transition\": {\"duration\": 0, \"easing\": \"linear\"}}], \"label\": \"0\", \"method\": \"animate\"}, {\"args\": [[\"1\"], {\"frame\": {\"duration\": 0, \"redraw\": true}, \"fromcurrent\": true, \"mode\": \"immediate\", \"transition\": {\"duration\": 0, \"easing\": \"linear\"}}], \"label\": \"1\", \"method\": \"animate\"}, {\"args\": [[\"2\"], {\"frame\": {\"duration\": 0, \"redraw\": true}, \"fromcurrent\": true, \"mode\": \"immediate\", \"transition\": {\"duration\": 0, \"easing\": \"linear\"}}], \"label\": \"2\", \"method\": \"animate\"}, {\"args\": [[\"3\"], {\"frame\": {\"duration\": 0, \"redraw\": true}, \"fromcurrent\": true, \"mode\": \"immediate\", \"transition\": {\"duration\": 0, \"easing\": \"linear\"}}], \"label\": \"3\", \"method\": \"animate\"}, {\"args\": [[\"4\"], {\"frame\": {\"duration\": 0, \"redraw\": true}, \"fromcurrent\": true, \"mode\": \"immediate\", \"transition\": {\"duration\": 0, \"easing\": \"linear\"}}], \"label\": \"4\", \"method\": \"animate\"}, {\"args\": [[\"5\"], {\"frame\": {\"duration\": 0, \"redraw\": true}, \"fromcurrent\": true, \"mode\": \"immediate\", \"transition\": {\"duration\": 0, \"easing\": \"linear\"}}], \"label\": \"5\", \"method\": \"animate\"}, {\"args\": [[\"6\"], {\"frame\": {\"duration\": 0, \"redraw\": true}, \"fromcurrent\": true, \"mode\": \"immediate\", \"transition\": {\"duration\": 0, \"easing\": \"linear\"}}], \"label\": \"6\", \"method\": \"animate\"}, {\"args\": [[\"7\"], {\"frame\": {\"duration\": 0, \"redraw\": true}, \"fromcurrent\": true, \"mode\": \"immediate\", \"transition\": {\"duration\": 0, \"easing\": \"linear\"}}], \"label\": \"7\", \"method\": \"animate\"}, {\"args\": [[\"8\"], {\"frame\": {\"duration\": 0, \"redraw\": true}, \"fromcurrent\": true, \"mode\": \"immediate\", \"transition\": {\"duration\": 0, \"easing\": \"linear\"}}], \"label\": \"8\", \"method\": \"animate\"}, {\"args\": [[\"9\"], {\"frame\": {\"duration\": 0, \"redraw\": true}, \"fromcurrent\": true, \"mode\": \"immediate\", \"transition\": {\"duration\": 0, \"easing\": \"linear\"}}], \"label\": \"9\", \"method\": \"animate\"}, {\"args\": [[\"10\"], {\"frame\": {\"duration\": 0, \"redraw\": true}, \"fromcurrent\": true, \"mode\": \"immediate\", \"transition\": {\"duration\": 0, \"easing\": \"linear\"}}], \"label\": \"10\", \"method\": \"animate\"}, {\"args\": [[\"11\"], {\"frame\": {\"duration\": 0, \"redraw\": true}, \"fromcurrent\": true, \"mode\": \"immediate\", \"transition\": {\"duration\": 0, \"easing\": \"linear\"}}], \"label\": \"11\", \"method\": \"animate\"}, {\"args\": [[\"12\"], {\"frame\": {\"duration\": 0, \"redraw\": true}, \"fromcurrent\": true, \"mode\": \"immediate\", \"transition\": {\"duration\": 0, \"easing\": \"linear\"}}], \"label\": \"12\", \"method\": \"animate\"}, {\"args\": [[\"13\"], {\"frame\": {\"duration\": 0, \"redraw\": true}, \"fromcurrent\": true, \"mode\": \"immediate\", \"transition\": {\"duration\": 0, \"easing\": \"linear\"}}], \"label\": \"13\", \"method\": \"animate\"}, {\"args\": [[\"14\"], {\"frame\": {\"duration\": 0, \"redraw\": true}, \"fromcurrent\": true, \"mode\": \"immediate\", \"transition\": {\"duration\": 0, \"easing\": \"linear\"}}], \"label\": \"14\", \"method\": \"animate\"}, {\"args\": [[\"15\"], {\"frame\": {\"duration\": 0, \"redraw\": true}, \"fromcurrent\": true, \"mode\": \"immediate\", \"transition\": {\"duration\": 0, \"easing\": \"linear\"}}], \"label\": \"15\", \"method\": \"animate\"}, {\"args\": [[\"16\"], {\"frame\": {\"duration\": 0, \"redraw\": true}, \"fromcurrent\": true, \"mode\": \"immediate\", \"transition\": {\"duration\": 0, \"easing\": \"linear\"}}], \"label\": \"16\", \"method\": \"animate\"}, {\"args\": [[\"17\"], {\"frame\": {\"duration\": 0, \"redraw\": true}, \"fromcurrent\": true, \"mode\": \"immediate\", \"transition\": {\"duration\": 0, \"easing\": \"linear\"}}], \"label\": \"17\", \"method\": \"animate\"}, {\"args\": [[\"18\"], {\"frame\": {\"duration\": 0, \"redraw\": true}, \"fromcurrent\": true, \"mode\": \"immediate\", \"transition\": {\"duration\": 0, \"easing\": \"linear\"}}], \"label\": \"18\", \"method\": \"animate\"}, {\"args\": [[\"19\"], {\"frame\": {\"duration\": 0, \"redraw\": true}, \"fromcurrent\": true, \"mode\": \"immediate\", \"transition\": {\"duration\": 0, \"easing\": \"linear\"}}], \"label\": \"19\", \"method\": \"animate\"}, {\"args\": [[\"20\"], {\"frame\": {\"duration\": 0, \"redraw\": true}, \"fromcurrent\": true, \"mode\": \"immediate\", \"transition\": {\"duration\": 0, \"easing\": \"linear\"}}], \"label\": \"20\", \"method\": \"animate\"}, {\"args\": [[\"21\"], {\"frame\": {\"duration\": 0, \"redraw\": true}, \"fromcurrent\": true, \"mode\": \"immediate\", \"transition\": {\"duration\": 0, \"easing\": \"linear\"}}], \"label\": \"21\", \"method\": \"animate\"}, {\"args\": [[\"22\"], {\"frame\": {\"duration\": 0, \"redraw\": true}, \"fromcurrent\": true, \"mode\": \"immediate\", \"transition\": {\"duration\": 0, \"easing\": \"linear\"}}], \"label\": \"22\", \"method\": \"animate\"}, {\"args\": [[\"23\"], {\"frame\": {\"duration\": 0, \"redraw\": true}, \"fromcurrent\": true, \"mode\": \"immediate\", \"transition\": {\"duration\": 0, \"easing\": \"linear\"}}], \"label\": \"23\", \"method\": \"animate\"}], \"x\": 0.1, \"xanchor\": \"left\", \"y\": 0, \"yanchor\": \"top\"}], \"template\": {\"data\": {\"bar\": [{\"error_x\": {\"color\": \"#2a3f5f\"}, \"error_y\": {\"color\": \"#2a3f5f\"}, \"marker\": {\"line\": {\"color\": \"#E5ECF6\", \"width\": 0.5}}, \"type\": \"bar\"}], \"barpolar\": [{\"marker\": {\"line\": {\"color\": \"#E5ECF6\", \"width\": 0.5}}, \"type\": \"barpolar\"}], \"carpet\": [{\"aaxis\": {\"endlinecolor\": \"#2a3f5f\", \"gridcolor\": \"white\", \"linecolor\": \"white\", \"minorgridcolor\": \"white\", \"startlinecolor\": \"#2a3f5f\"}, \"baxis\": {\"endlinecolor\": \"#2a3f5f\", \"gridcolor\": \"white\", \"linecolor\": \"white\", \"minorgridcolor\": \"white\", \"startlinecolor\": \"#2a3f5f\"}, \"type\": \"carpet\"}], \"choropleth\": [{\"colorbar\": {\"outlinewidth\": 0, \"ticks\": \"\"}, \"type\": \"choropleth\"}], \"contour\": [{\"colorbar\": {\"outlinewidth\": 0, \"ticks\": \"\"}, \"colorscale\": [[0.0, \"#0d0887\"], [0.1111111111111111, \"#46039f\"], [0.2222222222222222, \"#7201a8\"], [0.3333333333333333, \"#9c179e\"], [0.4444444444444444, \"#bd3786\"], [0.5555555555555556, \"#d8576b\"], [0.6666666666666666, \"#ed7953\"], [0.7777777777777778, \"#fb9f3a\"], [0.8888888888888888, \"#fdca26\"], [1.0, \"#f0f921\"]], \"type\": \"contour\"}], \"contourcarpet\": [{\"colorbar\": {\"outlinewidth\": 0, \"ticks\": \"\"}, \"type\": \"contourcarpet\"}], \"heatmap\": [{\"colorbar\": {\"outlinewidth\": 0, \"ticks\": \"\"}, \"colorscale\": [[0.0, \"#0d0887\"], [0.1111111111111111, \"#46039f\"], [0.2222222222222222, \"#7201a8\"], [0.3333333333333333, \"#9c179e\"], [0.4444444444444444, \"#bd3786\"], [0.5555555555555556, \"#d8576b\"], [0.6666666666666666, \"#ed7953\"], [0.7777777777777778, \"#fb9f3a\"], [0.8888888888888888, \"#fdca26\"], [1.0, \"#f0f921\"]], \"type\": \"heatmap\"}], \"heatmapgl\": [{\"colorbar\": {\"outlinewidth\": 0, \"ticks\": \"\"}, \"colorscale\": [[0.0, \"#0d0887\"], [0.1111111111111111, \"#46039f\"], [0.2222222222222222, \"#7201a8\"], [0.3333333333333333, \"#9c179e\"], [0.4444444444444444, \"#bd3786\"], [0.5555555555555556, \"#d8576b\"], [0.6666666666666666, \"#ed7953\"], [0.7777777777777778, \"#fb9f3a\"], [0.8888888888888888, \"#fdca26\"], [1.0, \"#f0f921\"]], \"type\": \"heatmapgl\"}], \"histogram\": [{\"marker\": {\"colorbar\": {\"outlinewidth\": 0, \"ticks\": \"\"}}, \"type\": \"histogram\"}], \"histogram2d\": [{\"colorbar\": {\"outlinewidth\": 0, \"ticks\": \"\"}, \"colorscale\": [[0.0, \"#0d0887\"], [0.1111111111111111, \"#46039f\"], [0.2222222222222222, \"#7201a8\"], [0.3333333333333333, \"#9c179e\"], [0.4444444444444444, \"#bd3786\"], [0.5555555555555556, \"#d8576b\"], [0.6666666666666666, \"#ed7953\"], [0.7777777777777778, \"#fb9f3a\"], [0.8888888888888888, \"#fdca26\"], [1.0, \"#f0f921\"]], \"type\": \"histogram2d\"}], \"histogram2dcontour\": [{\"colorbar\": {\"outlinewidth\": 0, \"ticks\": \"\"}, \"colorscale\": [[0.0, \"#0d0887\"], [0.1111111111111111, \"#46039f\"], [0.2222222222222222, \"#7201a8\"], [0.3333333333333333, \"#9c179e\"], [0.4444444444444444, \"#bd3786\"], [0.5555555555555556, \"#d8576b\"], [0.6666666666666666, \"#ed7953\"], [0.7777777777777778, \"#fb9f3a\"], [0.8888888888888888, \"#fdca26\"], [1.0, \"#f0f921\"]], \"type\": \"histogram2dcontour\"}], \"mesh3d\": [{\"colorbar\": {\"outlinewidth\": 0, \"ticks\": \"\"}, \"type\": \"mesh3d\"}], \"parcoords\": [{\"line\": {\"colorbar\": {\"outlinewidth\": 0, \"ticks\": \"\"}}, \"type\": \"parcoords\"}], \"pie\": [{\"automargin\": true, \"type\": \"pie\"}], \"scatter\": [{\"marker\": {\"colorbar\": {\"outlinewidth\": 0, \"ticks\": \"\"}}, \"type\": \"scatter\"}], \"scatter3d\": [{\"line\": {\"colorbar\": {\"outlinewidth\": 0, \"ticks\": \"\"}}, \"marker\": {\"colorbar\": {\"outlinewidth\": 0, \"ticks\": \"\"}}, \"type\": \"scatter3d\"}], \"scattercarpet\": [{\"marker\": {\"colorbar\": {\"outlinewidth\": 0, \"ticks\": \"\"}}, \"type\": \"scattercarpet\"}], \"scattergeo\": [{\"marker\": {\"colorbar\": {\"outlinewidth\": 0, \"ticks\": \"\"}}, \"type\": \"scattergeo\"}], \"scattergl\": [{\"marker\": {\"colorbar\": {\"outlinewidth\": 0, \"ticks\": \"\"}}, \"type\": \"scattergl\"}], \"scattermapbox\": [{\"marker\": {\"colorbar\": {\"outlinewidth\": 0, \"ticks\": \"\"}}, \"type\": \"scattermapbox\"}], \"scatterpolar\": [{\"marker\": {\"colorbar\": {\"outlinewidth\": 0, \"ticks\": \"\"}}, \"type\": \"scatterpolar\"}], \"scatterpolargl\": [{\"marker\": {\"colorbar\": {\"outlinewidth\": 0, \"ticks\": \"\"}}, \"type\": \"scatterpolargl\"}], \"scatterternary\": [{\"marker\": {\"colorbar\": {\"outlinewidth\": 0, \"ticks\": \"\"}}, \"type\": \"scatterternary\"}], \"surface\": [{\"colorbar\": {\"outlinewidth\": 0, \"ticks\": \"\"}, \"colorscale\": [[0.0, \"#0d0887\"], [0.1111111111111111, \"#46039f\"], [0.2222222222222222, \"#7201a8\"], [0.3333333333333333, \"#9c179e\"], [0.4444444444444444, \"#bd3786\"], [0.5555555555555556, \"#d8576b\"], [0.6666666666666666, \"#ed7953\"], [0.7777777777777778, \"#fb9f3a\"], [0.8888888888888888, \"#fdca26\"], [1.0, \"#f0f921\"]], \"type\": \"surface\"}], \"table\": [{\"cells\": {\"fill\": {\"color\": \"#EBF0F8\"}, \"line\": {\"color\": \"white\"}}, \"header\": {\"fill\": {\"color\": \"#C8D4E3\"}, \"line\": {\"color\": \"white\"}}, \"type\": \"table\"}]}, \"layout\": {\"annotationdefaults\": {\"arrowcolor\": \"#2a3f5f\", \"arrowhead\": 0, \"arrowwidth\": 1}, \"coloraxis\": {\"colorbar\": {\"outlinewidth\": 0, \"ticks\": \"\"}}, \"colorscale\": {\"diverging\": [[0, \"#8e0152\"], [0.1, \"#c51b7d\"], [0.2, \"#de77ae\"], [0.3, \"#f1b6da\"], [0.4, \"#fde0ef\"], [0.5, \"#f7f7f7\"], [0.6, \"#e6f5d0\"], [0.7, \"#b8e186\"], [0.8, \"#7fbc41\"], [0.9, \"#4d9221\"], [1, \"#276419\"]], \"sequential\": [[0.0, \"#0d0887\"], [0.1111111111111111, \"#46039f\"], [0.2222222222222222, \"#7201a8\"], [0.3333333333333333, \"#9c179e\"], [0.4444444444444444, \"#bd3786\"], [0.5555555555555556, \"#d8576b\"], [0.6666666666666666, \"#ed7953\"], [0.7777777777777778, \"#fb9f3a\"], [0.8888888888888888, \"#fdca26\"], [1.0, \"#f0f921\"]], \"sequentialminus\": [[0.0, \"#0d0887\"], [0.1111111111111111, \"#46039f\"], [0.2222222222222222, \"#7201a8\"], [0.3333333333333333, \"#9c179e\"], [0.4444444444444444, \"#bd3786\"], [0.5555555555555556, \"#d8576b\"], [0.6666666666666666, \"#ed7953\"], [0.7777777777777778, \"#fb9f3a\"], [0.8888888888888888, \"#fdca26\"], [1.0, \"#f0f921\"]]}, \"colorway\": [\"#636efa\", \"#EF553B\", \"#00cc96\", \"#ab63fa\", \"#FFA15A\", \"#19d3f3\", \"#FF6692\", \"#B6E880\", \"#FF97FF\", \"#FECB52\"], \"font\": {\"color\": \"#2a3f5f\"}, \"geo\": {\"bgcolor\": \"white\", \"lakecolor\": \"white\", \"landcolor\": \"#E5ECF6\", \"showlakes\": true, \"showland\": true, \"subunitcolor\": \"white\"}, \"hoverlabel\": {\"align\": \"left\"}, \"hovermode\": \"closest\", \"mapbox\": {\"style\": \"light\"}, \"paper_bgcolor\": \"white\", \"plot_bgcolor\": \"#E5ECF6\", \"polar\": {\"angularaxis\": {\"gridcolor\": \"white\", \"linecolor\": \"white\", \"ticks\": \"\"}, \"bgcolor\": \"#E5ECF6\", \"radialaxis\": {\"gridcolor\": \"white\", \"linecolor\": \"white\", \"ticks\": \"\"}}, \"scene\": {\"xaxis\": {\"backgroundcolor\": \"#E5ECF6\", \"gridcolor\": \"white\", \"gridwidth\": 2, \"linecolor\": \"white\", \"showbackground\": true, \"ticks\": \"\", \"zerolinecolor\": \"white\"}, \"yaxis\": {\"backgroundcolor\": \"#E5ECF6\", \"gridcolor\": \"white\", \"gridwidth\": 2, \"linecolor\": \"white\", \"showbackground\": true, \"ticks\": \"\", \"zerolinecolor\": \"white\"}, \"zaxis\": {\"backgroundcolor\": \"#E5ECF6\", \"gridcolor\": \"white\", \"gridwidth\": 2, \"linecolor\": \"white\", \"showbackground\": true, \"ticks\": \"\", \"zerolinecolor\": \"white\"}}, \"shapedefaults\": {\"line\": {\"color\": \"#2a3f5f\"}}, \"ternary\": {\"aaxis\": {\"gridcolor\": \"white\", \"linecolor\": \"white\", \"ticks\": \"\"}, \"baxis\": {\"gridcolor\": \"white\", \"linecolor\": \"white\", \"ticks\": \"\"}, \"bgcolor\": \"#E5ECF6\", \"caxis\": {\"gridcolor\": \"white\", \"linecolor\": \"white\", \"ticks\": \"\"}}, \"title\": {\"x\": 0.05}, \"xaxis\": {\"automargin\": true, \"gridcolor\": \"white\", \"linecolor\": \"white\", \"ticks\": \"\", \"title\": {\"standoff\": 15}, \"zerolinecolor\": \"white\", \"zerolinewidth\": 2}, \"yaxis\": {\"automargin\": true, \"gridcolor\": \"white\", \"linecolor\": \"white\", \"ticks\": \"\", \"title\": {\"standoff\": 15}, \"zerolinecolor\": \"white\", \"zerolinewidth\": 2}}}, \"title\": {\"text\": \"Average Waiting Time of Elevator Calls by Floor\"}, \"updatemenus\": [{\"buttons\": [{\"args\": [null, {\"frame\": {\"duration\": 500, \"redraw\": true}, \"fromcurrent\": true, \"mode\": \"immediate\", \"transition\": {\"duration\": 500, \"easing\": \"linear\"}}], \"label\": \"&#9654;\", \"method\": \"animate\"}, {\"args\": [[null], {\"frame\": {\"duration\": 0, \"redraw\": true}, \"fromcurrent\": true, \"mode\": \"immediate\", \"transition\": {\"duration\": 0, \"easing\": \"linear\"}}], \"label\": \"&#9724;\", \"method\": \"animate\"}], \"direction\": \"left\", \"pad\": {\"r\": 10, \"t\": 70}, \"showactive\": false, \"type\": \"buttons\", \"x\": 0.1, \"xanchor\": \"right\", \"y\": 0, \"yanchor\": \"top\"}], \"xaxis\": {\"anchor\": \"y\", \"categoryarray\": [\"B4\", \"B3\", \"B2\", \"B1\", \"1\", \"2\", \"3\", \"4\", \"5\", \"6\", \"7\", \"8\", \"9\", \"10\", \"11\", \"12\", \"13\", \"14\", \"15\"], \"domain\": [0.0, 0.49], \"nticks\": 19, \"title\": {\"text\": \"floor\"}, \"type\": \"category\"}, \"xaxis2\": {\"anchor\": \"y2\", \"categoryarray\": [\"B4\", \"B3\", \"B2\", \"B1\", \"1\", \"2\", \"3\", \"4\", \"5\", \"6\", \"7\", \"8\", \"9\", \"10\", \"11\", \"12\", \"13\", \"14\", \"15\"], \"domain\": [0.51, 1.0], \"matches\": \"x\", \"nticks\": 19, \"title\": {\"text\": \"floor\"}, \"type\": \"category\"}, \"yaxis\": {\"anchor\": \"x\", \"domain\": [0.0, 1.0], \"range\": [0, 300], \"title\": {\"text\": \"sec\"}}, \"yaxis2\": {\"anchor\": \"x2\", \"domain\": [0.0, 1.0], \"matches\": \"y\", \"range\": [0, 300], \"showticklabels\": false}},\n",
       "                        {\"responsive\": true}\n",
       "                    ).then(function(){\n",
       "                            Plotly.addFrames('7d114195-08dd-456e-8ddc-cd112a96f891', [{\"data\": [{\"alignmentgroup\": \"True\", \"hovertemplate\": \"direction=down<br>Local Time (GMT+8)=0<br>floor=%{x}<br>sec=%{y}<extra></extra>\", \"legendgroup\": \"down\", \"marker\": {\"color\": \"#636efa\"}, \"name\": \"down\", \"offsetgroup\": \"down\", \"orientation\": \"v\", \"showlegend\": true, \"textposition\": \"auto\", \"x\": [\"1\", \"3\", \"4\", \"5\", \"6\", \"7\", \"8\", \"9\", \"10\", \"11\", \"12\", \"13\", \"14\", \"15\", \"B1\", \"3\", \"4\", \"6\", \"7\", \"8\", \"9\", \"11\", \"12\", \"13\", \"14\", \"15\", \"B1\"], \"xaxis\": \"x\", \"y\": [8.03, 19.435, 14.218, 10.56625, 1.61, 15.10625, 13.19235294, 12.13, 14.2925, 19.782, 16.13454545, 16.88111111, 19.71, 29.41666667, 9.336666667000001, 14.025, 15.44, 14.845, 16.24333333, 15.35, 18.48, 19.92333333, 20.114, 18.98, 18.86, 21.425, 12.625], \"yaxis\": \"y\", \"type\": \"bar\"}, {\"alignmentgroup\": \"True\", \"hovertemplate\": \"direction=up<br>Local Time (GMT+8)=0<br>floor=%{x}<br>sec=%{y}<extra></extra>\", \"legendgroup\": \"up\", \"marker\": {\"color\": \"#EF553B\"}, \"name\": \"up\", \"offsetgroup\": \"up\", \"orientation\": \"v\", \"showlegend\": true, \"textposition\": \"auto\", \"x\": [\"1\", \"2\", \"3\", \"4\", \"5\", \"6\", \"7\", \"14\", \"B1\", \"B3\", \"B4\", \"1\", \"3\", \"4\", \"5\", \"7\", \"B1\", \"B3\", \"B4\"], \"xaxis\": \"x2\", \"y\": [3.78375, 17.56, 14.22588235, 14.67366667, 13.06058824, 8.64, 10.35857143, 20.495, 13.53948718, 8.47, 17.68, 9.79, 18.08333333, 10.53333333, 13.14666667, 7.505, 16.17625, 14.03333333, 14.35], \"yaxis\": \"y2\", \"type\": \"bar\"}], \"name\": \"0\"}, {\"data\": [{\"alignmentgroup\": \"True\", \"hovertemplate\": \"direction=down<br>Local Time (GMT+8)=1<br>floor=%{x}<br>sec=%{y}<extra></extra>\", \"legendgroup\": \"down\", \"marker\": {\"color\": \"#636efa\"}, \"name\": \"down\", \"offsetgroup\": \"down\", \"orientation\": \"v\", \"showlegend\": true, \"textposition\": \"auto\", \"x\": [\"1\", \"2\", \"3\", \"4\", \"5\", \"6\", \"7\", \"8\", \"9\", \"10\", \"11\", \"12\", \"14\", \"15\", \"B1\", \"3\", \"5\", \"6\", \"7\", \"8\", \"9\", \"10\", \"11\", \"12\", \"13\", \"14\", \"15\"], \"xaxis\": \"x\", \"y\": [8.425, 1.24, 9.195, 13.628, 10.86, 1.48, 14.42875, 13.82333333, 13.568, 1.243333333, 0.56, 16.05444444, 20.63285714, 10.03666667, 18.74, 21.21, 17.27, 21.69, 10.82666667, 13.79, 17.49, 19.2, 19.08, 38.44, 15.79, 12.67, 1.01], \"yaxis\": \"y\", \"type\": \"bar\"}, {\"alignmentgroup\": \"True\", \"hovertemplate\": \"direction=up<br>Local Time (GMT+8)=1<br>floor=%{x}<br>sec=%{y}<extra></extra>\", \"legendgroup\": \"up\", \"marker\": {\"color\": \"#EF553B\"}, \"name\": \"up\", \"offsetgroup\": \"up\", \"orientation\": \"v\", \"showlegend\": true, \"textposition\": \"auto\", \"x\": [\"1\", \"3\", \"4\", \"5\", \"6\", \"7\", \"10\", \"14\", \"B1\", \"B3\", \"B4\", \"1\", \"2\", \"3\", \"4\", \"5\", \"6\", \"7\", \"B1\", \"B3\", \"B4\"], \"xaxis\": \"x2\", \"y\": [11.136, 15.04666667, 14.33916667, 14.115, 3.92, 10.14, 1.38, 14.05333333, 15.35212121, 13.58, 18.72, 14.395, 19.2, 15.8225, 13.3325, 12.965, 1.44, 14.02, 14.2125, 23.17, 21.535], \"yaxis\": \"y2\", \"type\": \"bar\"}], \"name\": \"1\"}, {\"data\": [{\"alignmentgroup\": \"True\", \"hovertemplate\": \"direction=down<br>Local Time (GMT+8)=2<br>floor=%{x}<br>sec=%{y}<extra></extra>\", \"legendgroup\": \"down\", \"marker\": {\"color\": \"#636efa\"}, \"name\": \"down\", \"offsetgroup\": \"down\", \"orientation\": \"v\", \"showlegend\": true, \"textposition\": \"auto\", \"x\": [\"1\", \"3\", \"4\", \"5\", \"6\", \"7\", \"8\", \"10\", \"11\", \"12\", \"13\", \"14\", \"15\", \"B1\", \"3\", \"4\", \"6\", \"7\", \"8\", \"9\", \"10\", \"11\", \"12\", \"13\", \"14\", \"15\", \"B1\"], \"xaxis\": \"x\", \"y\": [9.365, 15.796, 1.6, 10.61, 5.446000000000001, 10.45, 8.645, 18.46, 20.44, 31.63, 19.01, 19.92, 1.37, 20.4, 10.745, 19.05, 1.213333333, 10.555, 15.19, 10.885, 11.97, 10.79, 1.415, 15.8, 27.03, 6.543333333, 11.83], \"yaxis\": \"y\", \"type\": \"bar\"}, {\"alignmentgroup\": \"True\", \"hovertemplate\": \"direction=up<br>Local Time (GMT+8)=2<br>floor=%{x}<br>sec=%{y}<extra></extra>\", \"legendgroup\": \"up\", \"marker\": {\"color\": \"#EF553B\"}, \"name\": \"up\", \"offsetgroup\": \"up\", \"orientation\": \"v\", \"showlegend\": true, \"textposition\": \"auto\", \"x\": [\"1\", \"3\", \"4\", \"5\", \"7\", \"14\", \"B1\", \"B4\", \"1\", \"3\", \"4\", \"5\", \"6\", \"7\", \"9\", \"14\", \"B1\", \"B4\"], \"xaxis\": \"x2\", \"y\": [10.36, 10.44666667, 13.96, 9.592222222, 5.996666667, 13.22, 11.16411765, 21.20833333, 12.97666667, 15.235, 15.29833333, 16.03333333, 1.58, 15.93, 7.7, 17.47, 14.13615385, 18.47], \"yaxis\": \"y2\", \"type\": \"bar\"}], \"name\": \"2\"}, {\"data\": [{\"alignmentgroup\": \"True\", \"hovertemplate\": \"direction=down<br>Local Time (GMT+8)=3<br>floor=%{x}<br>sec=%{y}<extra></extra>\", \"legendgroup\": \"down\", \"marker\": {\"color\": \"#636efa\"}, \"name\": \"down\", \"offsetgroup\": \"down\", \"orientation\": \"v\", \"showlegend\": true, \"textposition\": \"auto\", \"x\": [\"1\", \"3\", \"5\", \"6\", \"7\", \"8\", \"9\", \"10\", \"11\", \"15\", \"B1\", \"1\", \"3\", \"4\", \"5\", \"6\", \"7\", \"8\", \"9\", \"14\", \"15\"], \"xaxis\": \"x\", \"y\": [19.94333333, 18.53, 17.96, 11.658, 17.128, 1.57, 18.105, 19.82, 16.22, 14.025, 1.33, 23.4, 15.94, 9.81, 15.73, 25.17, 3.44, 13.79, 12.215, 1.61, 2.55], \"yaxis\": \"y\", \"type\": \"bar\"}, {\"alignmentgroup\": \"True\", \"hovertemplate\": \"direction=up<br>Local Time (GMT+8)=3<br>floor=%{x}<br>sec=%{y}<extra></extra>\", \"legendgroup\": \"up\", \"marker\": {\"color\": \"#EF553B\"}, \"name\": \"up\", \"offsetgroup\": \"up\", \"orientation\": \"v\", \"showlegend\": true, \"textposition\": \"auto\", \"x\": [\"1\", \"3\", \"4\", \"5\", \"7\", \"9\", \"11\", \"B1\", \"B4\", \"1\", \"3\", \"4\", \"7\", \"8\", \"14\", \"B1\", \"B4\"], \"xaxis\": \"x2\", \"y\": [15.75, 19.05, 17.5, 13.65428571, 7.745, 1.57, 1.59, 21.224, 20.14333333, 15.83, 1.6, 8.78, 1.0533333329999999, 1.57, 18.95, 10.96333333, 11.785], \"yaxis\": \"y2\", \"type\": \"bar\"}], \"name\": \"3\"}, {\"data\": [{\"alignmentgroup\": \"True\", \"hovertemplate\": \"direction=down<br>Local Time (GMT+8)=4<br>floor=%{x}<br>sec=%{y}<extra></extra>\", \"legendgroup\": \"down\", \"marker\": {\"color\": \"#636efa\"}, \"name\": \"down\", \"offsetgroup\": \"down\", \"orientation\": \"v\", \"showlegend\": true, \"textposition\": \"auto\", \"x\": [\"1\", \"3\", \"4\", \"5\", \"6\", \"7\", \"9\", \"10\", \"11\", \"12\", \"13\", \"14\", \"15\", \"3\", \"5\", \"7\", \"15\"], \"xaxis\": \"x\", \"y\": [0.67, 1.59, 1.48, 15.97, 12.684000000000001, 13.28, 7.23, 9.01, 19.675, 26.09, 1.52, 1.27, 4.8725, 16.65, 16.52, 21.585, 1.39], \"yaxis\": \"y\", \"type\": \"bar\"}, {\"alignmentgroup\": \"True\", \"hovertemplate\": \"direction=up<br>Local Time (GMT+8)=4<br>floor=%{x}<br>sec=%{y}<extra></extra>\", \"legendgroup\": \"up\", \"marker\": {\"color\": \"#EF553B\"}, \"name\": \"up\", \"offsetgroup\": \"up\", \"orientation\": \"v\", \"showlegend\": true, \"textposition\": \"auto\", \"x\": [\"1\", \"2\", \"3\", \"4\", \"5\", \"7\", \"9\", \"B1\", \"B3\", \"B4\", \"4\", \"5\", \"7\", \"B1\", \"B3\", \"B4\"], \"xaxis\": \"x2\", \"y\": [8.65, 16.23, 9.275, 18.7, 15.84666667, 7.84, 1.05, 1.504, 14.91272727, 11.885, 0.97, 13.63333333, 15.125, 12.96, 10.9025, 1.26], \"yaxis\": \"y2\", \"type\": \"bar\"}], \"name\": \"4\"}, {\"data\": [{\"alignmentgroup\": \"True\", \"hovertemplate\": \"direction=down<br>Local Time (GMT+8)=5<br>floor=%{x}<br>sec=%{y}<extra></extra>\", \"legendgroup\": \"down\", \"marker\": {\"color\": \"#636efa\"}, \"name\": \"down\", \"offsetgroup\": \"down\", \"orientation\": \"v\", \"showlegend\": true, \"textposition\": \"auto\", \"x\": [\"1\", \"3\", \"4\", \"5\", \"6\", \"7\", \"8\", \"9\", \"10\", \"11\", \"12\", \"13\", \"14\", \"15\", \"6\", \"8\", \"9\", \"10\", \"11\", \"12\", \"15\", \"B1\"], \"xaxis\": \"x\", \"y\": [25.10833333, 19.185, 17.965, 29.4225, 14.87, 21.79, 15.62666667, 13.66, 4.991463415, 8.04, 19.4625, 15.765, 18.84, 1.59, 10.72, 25.18, 6.41, 5.697, 8.04, 10.15, 1.37, 15.03], \"yaxis\": \"y\", \"type\": \"bar\"}, {\"alignmentgroup\": \"True\", \"hovertemplate\": \"direction=up<br>Local Time (GMT+8)=5<br>floor=%{x}<br>sec=%{y}<extra></extra>\", \"legendgroup\": \"up\", \"marker\": {\"color\": \"#EF553B\"}, \"name\": \"up\", \"offsetgroup\": \"up\", \"orientation\": \"v\", \"showlegend\": true, \"textposition\": \"auto\", \"x\": [\"1\", \"4\", \"5\", \"6\", \"7\", \"10\", \"14\", \"B1\", \"B3\", \"B4\", \"1\", \"6\", \"8\", \"9\", \"10\", \"B1\", \"B3\", \"B4\"], \"xaxis\": \"x2\", \"y\": [16.08909091, 16.78, 11.6575, 13.876, 12.6375, 4.783181818, 12.87, 12.53, 20.67272727, 26.06777778, 13.24833333, 15.71, 22.31, 14.77, 5.031666667, 11.792, 20.78, 25.61], \"yaxis\": \"y2\", \"type\": \"bar\"}], \"name\": \"5\"}, {\"data\": [{\"alignmentgroup\": \"True\", \"hovertemplate\": \"direction=down<br>Local Time (GMT+8)=6<br>floor=%{x}<br>sec=%{y}<extra></extra>\", \"legendgroup\": \"down\", \"marker\": {\"color\": \"#636efa\"}, \"name\": \"down\", \"offsetgroup\": \"down\", \"orientation\": \"v\", \"showlegend\": true, \"textposition\": \"auto\", \"x\": [\"1\", \"2\", \"3\", \"4\", \"5\", \"6\", \"7\", \"8\", \"9\", \"10\", \"11\", \"12\", \"13\", \"15\", \"B1\", \"B3\", \"1\", \"2\", \"3\", \"5\", \"6\", \"7\", \"8\", \"10\", \"11\", \"12\", \"13\", \"14\", \"15\", \"B1\", \"B3\"], \"xaxis\": \"x\", \"y\": [24.06220779, 11.63, 24.36666667, 29.2575, 20.348, 18.33036697, 19.0025, 18.69, 27.415, 11.68626087, 21.91090909, 15.80714286, 10.22142857, 14.38714286, 25.195, 29.868000000000002, 27.48888889, 9.51, 26.845, 25.8725, 12.5715, 17.77333333, 10.1, 10.16906977, 14.085, 5.98, 11.96142857, 58.09, 25.35, 21.71882353, 7.765], \"yaxis\": \"y\", \"type\": \"bar\"}, {\"alignmentgroup\": \"True\", \"hovertemplate\": \"direction=up<br>Local Time (GMT+8)=6<br>floor=%{x}<br>sec=%{y}<extra></extra>\", \"legendgroup\": \"up\", \"marker\": {\"color\": \"#EF553B\"}, \"name\": \"up\", \"offsetgroup\": \"up\", \"orientation\": \"v\", \"showlegend\": true, \"textposition\": \"auto\", \"x\": [\"1\", \"2\", \"3\", \"4\", \"5\", \"6\", \"7\", \"9\", \"10\", \"11\", \"B1\", \"B3\", \"B4\", \"1\", \"2\", \"3\", \"4\", \"6\", \"7\", \"9\", \"10\", \"11\", \"B1\", \"B3\", \"B4\"], \"xaxis\": \"x2\", \"y\": [16.92088154, 15.592, 8.01, 15.76681818, 13.24428571, 22.40045455, 19.965, 18.33166667, 15.11753968, 60.53, 16.85331081, 20.99064815, 21.23509804, 18.0916, 14.29, 19.32, 17.82888889, 17.35457143, 12.89, 15.16, 9.470555556, 11.18, 20.34529412, 20.91038462, 20.43], \"yaxis\": \"y2\", \"type\": \"bar\"}], \"name\": \"6\"}, {\"data\": [{\"alignmentgroup\": \"True\", \"hovertemplate\": \"direction=down<br>Local Time (GMT+8)=7<br>floor=%{x}<br>sec=%{y}<extra></extra>\", \"legendgroup\": \"down\", \"marker\": {\"color\": \"#636efa\"}, \"name\": \"down\", \"offsetgroup\": \"down\", \"orientation\": \"v\", \"showlegend\": true, \"textposition\": \"auto\", \"x\": [\"1\", \"2\", \"3\", \"4\", \"5\", \"6\", \"7\", \"8\", \"9\", \"10\", \"11\", \"12\", \"13\", \"14\", \"15\", \"B1\", \"B3\", \"1\", \"2\", \"3\", \"4\", \"5\", \"6\", \"7\", \"8\", \"9\", \"10\", \"11\", \"12\", \"13\", \"14\", \"15\", \"B1\", \"B3\"], \"xaxis\": \"x\", \"y\": [33.54444444, 36.74321429, 29.16791667, 28.6555, 34.471, 22.77988827, 20.17469388, 25.65685714, 27.79682927, 19.87550725, 27.536986300000002, 30.14692308, 40.71863636, 41.37723404, 45.38793651, 26.08763441, 31.24727273, 25.21860465, 28.66666667, 37.80272727, 21.51071429, 15.3175, 15.66386364, 21.26545455, 16.609375, 23.60375, 12.4, 28.23, 26.79636364, 24.30066667, 46.33454545, 27.00428571, 23.85047619, 14.56], \"yaxis\": \"y\", \"type\": \"bar\"}, {\"alignmentgroup\": \"True\", \"hovertemplate\": \"direction=up<br>Local Time (GMT+8)=7<br>floor=%{x}<br>sec=%{y}<extra></extra>\", \"legendgroup\": \"up\", \"marker\": {\"color\": \"#EF553B\"}, \"name\": \"up\", \"offsetgroup\": \"up\", \"orientation\": \"v\", \"showlegend\": true, \"textposition\": \"auto\", \"x\": [\"1\", \"2\", \"3\", \"4\", \"5\", \"6\", \"7\", \"8\", \"9\", \"10\", \"11\", \"12\", \"13\", \"14\", \"B1\", \"B3\", \"B4\", \"1\", \"2\", \"3\", \"4\", \"5\", \"6\", \"7\", \"9\", \"10\", \"13\", \"14\", \"B1\", \"B3\", \"B4\"], \"xaxis\": \"x2\", \"y\": [13.09365169, 10.39376623, 9.027333333, 10.30380952, 10.4135, 39.46348485, 30.5975, 35.63, 15.168, 37.66895238, 16.29714286, 4.13, 33.856, 50.465, 15.10840909, 16.95059233, 21.09967593, 16.88640212, 11.3025, 6.404, 8.583, 15.714, 34.62666667, 7.97, 51.01, 22.2025, 10.69, 15.16, 15.81761468, 14.11378788, 20.6172549], \"yaxis\": \"y2\", \"type\": \"bar\"}], \"name\": \"7\"}, {\"data\": [{\"alignmentgroup\": \"True\", \"hovertemplate\": \"direction=down<br>Local Time (GMT+8)=8<br>floor=%{x}<br>sec=%{y}<extra></extra>\", \"legendgroup\": \"down\", \"marker\": {\"color\": \"#636efa\"}, \"name\": \"down\", \"offsetgroup\": \"down\", \"orientation\": \"v\", \"showlegend\": true, \"textposition\": \"auto\", \"x\": [\"1\", \"2\", \"3\", \"4\", \"5\", \"6\", \"7\", \"8\", \"9\", \"10\", \"11\", \"12\", \"13\", \"14\", \"15\", \"B1\", \"B3\", \"1\", \"2\", \"3\", \"4\", \"5\", \"6\", \"7\", \"8\", \"9\", \"10\", \"11\", \"12\", \"13\", \"14\", \"15\", \"B1\", \"B3\"], \"xaxis\": \"x\", \"y\": [30.01764706, 35.0115493, 37.08492063, 40.47111111, 40.82443038, 13.50298611, 14.441969699999998, 17.74482759, 17.69171642, 9.2009375, 21.66359281, 21.09159722, 32.58702703, 52.31697479, 58.90015038, 20.44879518, 24.27, 32.988, 24.185, 31.7078125, 31.42352941, 30.16147059, 14.14254545, 15.6855, 14.80736842, 15.62914894, 14.892000000000001, 21.61685185, 25.68361702, 20.95212766, 40.05526316, 39.44594595, 23.6872, 15.62], \"yaxis\": \"y\", \"type\": \"bar\"}, {\"alignmentgroup\": \"True\", \"hovertemplate\": \"direction=up<br>Local Time (GMT+8)=8<br>floor=%{x}<br>sec=%{y}<extra></extra>\", \"legendgroup\": \"up\", \"marker\": {\"color\": \"#EF553B\"}, \"name\": \"up\", \"offsetgroup\": \"up\", \"orientation\": \"v\", \"showlegend\": true, \"textposition\": \"auto\", \"x\": [\"1\", \"2\", \"3\", \"4\", \"5\", \"6\", \"7\", \"8\", \"9\", \"10\", \"11\", \"12\", \"13\", \"14\", \"B1\", \"B3\", \"B4\", \"1\", \"2\", \"3\", \"4\", \"5\", \"6\", \"8\", \"9\", \"10\", \"11\", \"12\", \"13\", \"14\", \"B1\", \"B3\", \"B4\"], \"xaxis\": \"x2\", \"y\": [12.07878995, 9.845343511, 7.637755102000001, 9.807317073, 9.978, 52.73866667, 50.57461538, 38.54958333, 54.17285714, 40.097, 84.76, 89.32, 55.45777778, 105.22875, 16.20858639, 15.48455357, 28.1814902, 13.83130178, 10.29676471, 12.18866667, 7.8666666670000005, 7.803333332999999, 35.50888889, 48.14833333, 36.04, 17.162, 45.79, 17.06, 45.00666667, 62.55, 15.83931818, 17.36652174, 24.70548387], \"yaxis\": \"y2\", \"type\": \"bar\"}], \"name\": \"8\"}, {\"data\": [{\"alignmentgroup\": \"True\", \"hovertemplate\": \"direction=down<br>Local Time (GMT+8)=9<br>floor=%{x}<br>sec=%{y}<extra></extra>\", \"legendgroup\": \"down\", \"marker\": {\"color\": \"#636efa\"}, \"name\": \"down\", \"offsetgroup\": \"down\", \"orientation\": \"v\", \"showlegend\": true, \"textposition\": \"auto\", \"x\": [\"1\", \"2\", \"3\", \"4\", \"5\", \"6\", \"7\", \"8\", \"9\", \"10\", \"11\", \"12\", \"13\", \"14\", \"15\", \"B1\", \"B3\", \"1\", \"2\", \"3\", \"4\", \"5\", \"6\", \"7\", \"8\", \"9\", \"10\", \"11\", \"12\", \"13\", \"14\", \"15\", \"B1\", \"B3\"], \"xaxis\": \"x\", \"y\": [18.44009901, 28.76467532, 34.77699029, 32.21, 46.30752809, 12.74657303, 23.77867647, 16.42359281, 14.448125, 23.60210526, 21.20323171, 21.70827068, 29.53263566, 51.79058511, 62.70014706, 30.421999999999997, 20.03333333, 17.761875, 20.37538462, 28.11324324, 36.84310345, 34.98964286, 9.249215686, 13.94815789, 19.12276596, 17.44346939, 15.67272727, 18.14322581, 18.38384615, 28.37147059, 41.96847826, 51.82651163, 18.74111111, 50.745], \"yaxis\": \"y\", \"type\": \"bar\"}, {\"alignmentgroup\": \"True\", \"hovertemplate\": \"direction=up<br>Local Time (GMT+8)=9<br>floor=%{x}<br>sec=%{y}<extra></extra>\", \"legendgroup\": \"up\", \"marker\": {\"color\": \"#EF553B\"}, \"name\": \"up\", \"offsetgroup\": \"up\", \"orientation\": \"v\", \"showlegend\": true, \"textposition\": \"auto\", \"x\": [\"1\", \"2\", \"3\", \"4\", \"5\", \"6\", \"7\", \"8\", \"9\", \"10\", \"11\", \"12\", \"13\", \"14\", \"B1\", \"B3\", \"B4\", \"1\", \"2\", \"3\", \"4\", \"5\", \"6\", \"7\", \"8\", \"9\", \"10\", \"11\", \"12\", \"13\", \"14\", \"B1\", \"B3\", \"B4\"], \"xaxis\": \"x2\", \"y\": [13.38857143, 15.06892857, 10.8317284, 9.114137931, 9.838285714, 57.50764706, 49.653999999999996, 51.1578125, 36.09733333, 58.74375, 37.33363636, 53.91260870000001, 36.99521739, 79.01857143, 16.58627832, 18.232418300000003, 28.935815899999998, 11.574202900000001, 7.674186047, 8.802105263, 6.752608696, 12.73722222, 37.30333333, 39.40454545, 40.08363636, 16.21666667, 35.61333333, 52.66888889, 42.1125, 28.64333333, 122.63, 16.18919192, 14.5086, 25.64128571], \"yaxis\": \"y2\", \"type\": \"bar\"}], \"name\": \"9\"}, {\"data\": [{\"alignmentgroup\": \"True\", \"hovertemplate\": \"direction=down<br>Local Time (GMT+8)=10<br>floor=%{x}<br>sec=%{y}<extra></extra>\", \"legendgroup\": \"down\", \"marker\": {\"color\": \"#636efa\"}, \"name\": \"down\", \"offsetgroup\": \"down\", \"orientation\": \"v\", \"showlegend\": true, \"textposition\": \"auto\", \"x\": [\"1\", \"2\", \"3\", \"4\", \"5\", \"6\", \"7\", \"8\", \"9\", \"10\", \"11\", \"12\", \"13\", \"14\", \"15\", \"B1\", \"B3\", \"1\", \"2\", \"3\", \"4\", \"5\", \"6\", \"7\", \"8\", \"9\", \"10\", \"11\", \"12\", \"13\", \"14\", \"15\", \"B1\", \"B3\"], \"xaxis\": \"x\", \"y\": [22.38050505, 37.01015625, 27.34505747, 49.312608700000006, 41.44410959, 13.78043689, 13.65861538, 13.25740506, 16.91567568, 10.86086957, 18.50221477, 21.85371901, 28.32121495, 47.00628415, 58.98550725, 18.29466667, 9.3925, 14.25153846, 15.68666667, 38.46380952, 96.02681818, 47.02580645, 36.47831325, 11.94882353, 9.047317073, 18.31787234, 10.52777778, 14.90181818, 19.2072093, 19.49677966, 48.388000000000005, 59.35, 32.33285714, 27.21], \"yaxis\": \"y\", \"type\": \"bar\"}, {\"alignmentgroup\": \"True\", \"hovertemplate\": \"direction=up<br>Local Time (GMT+8)=10<br>floor=%{x}<br>sec=%{y}<extra></extra>\", \"legendgroup\": \"up\", \"marker\": {\"color\": \"#EF553B\"}, \"name\": \"up\", \"offsetgroup\": \"up\", \"orientation\": \"v\", \"showlegend\": true, \"textposition\": \"auto\", \"x\": [\"1\", \"2\", \"3\", \"4\", \"5\", \"6\", \"7\", \"8\", \"9\", \"10\", \"11\", \"12\", \"13\", \"14\", \"B1\", \"B3\", \"B4\", \"1\", \"2\", \"3\", \"4\", \"5\", \"6\", \"7\", \"8\", \"9\", \"10\", \"11\", \"12\", \"13\", \"14\", \"B1\", \"B3\", \"B4\"], \"xaxis\": \"x2\", \"y\": [13.70707395, 9.086277372, 10.27156627, 9.694130435, 10.32583333, 43.27655738, 49.59741935, 42.74677419, 45.27516129, 16.176, 29.47454545, 61.308125, 31.78625, 80.518, 15.05296748, 14.11086022, 32.12197309, 12.36534884, 10.7940625, 12.78416667, 15.21794872, 10.3648, 45.12, 45.51428571, 49.172, 26.42222222, 25.296, 37.63666667, 56.78, 40.918, 59.925, 16.52456522, 12.00588235, 53.56923077], \"yaxis\": \"y2\", \"type\": \"bar\"}], \"name\": \"10\"}, {\"data\": [{\"alignmentgroup\": \"True\", \"hovertemplate\": \"direction=down<br>Local Time (GMT+8)=11<br>floor=%{x}<br>sec=%{y}<extra></extra>\", \"legendgroup\": \"down\", \"marker\": {\"color\": \"#636efa\"}, \"name\": \"down\", \"offsetgroup\": \"down\", \"orientation\": \"v\", \"showlegend\": true, \"textposition\": \"auto\", \"x\": [\"1\", \"2\", \"3\", \"4\", \"5\", \"6\", \"7\", \"8\", \"9\", \"10\", \"11\", \"12\", \"13\", \"14\", \"15\", \"B1\", \"B3\", \"1\", \"2\", \"3\", \"4\", \"5\", \"6\", \"7\", \"8\", \"9\", \"10\", \"11\", \"12\", \"13\", \"14\", \"15\", \"B1\"], \"xaxis\": \"x\", \"y\": [16.186875, 24.17361111, 27.17586466, 35.90232877, 54.33087379, 10.63971963, 11.37225989, 11.25363636, 13.28433155, 11.67101266, 15.72666667, 22.3829697, 31.39761006, 52.34378641, 77.94909722, 21.83880597, 52.4775, 13.68166667, 25.84827586, 18.26169492, 30.59266667, 20.58647059, 12.94477778, 11.62039216, 9.0084375, 9.911836735, 274.3222222, 11.56188679, 226.8580435, 188.0689286, 175.79045449999998, 213.2131579, 19.16727273], \"yaxis\": \"y\", \"type\": \"bar\"}, {\"alignmentgroup\": \"True\", \"hovertemplate\": \"direction=up<br>Local Time (GMT+8)=11<br>floor=%{x}<br>sec=%{y}<extra></extra>\", \"legendgroup\": \"up\", \"marker\": {\"color\": \"#EF553B\"}, \"name\": \"up\", \"offsetgroup\": \"up\", \"orientation\": \"v\", \"showlegend\": true, \"textposition\": \"auto\", \"x\": [\"1\", \"2\", \"3\", \"4\", \"5\", \"6\", \"7\", \"8\", \"9\", \"10\", \"11\", \"12\", \"13\", \"14\", \"B1\", \"B3\", \"B4\", \"1\", \"2\", \"3\", \"4\", \"5\", \"6\", \"7\", \"8\", \"9\", \"10\", \"11\", \"12\", \"13\", \"14\", \"B1\", \"B3\", \"B4\"], \"xaxis\": \"x2\", \"y\": [11.20741135, 10.62530864, 8.814210526, 10.39409639, 11.07831683, 81.95076923, 75.4412766, 47.22413793, 50.98, 41.37470588, 81.17333333, 36.303000000000004, 45.1675, 35.168, 19.40496732, 16.53384615, 30.19384977, 11.43811966, 9.378163265, 279.19514289999995, 7.033333333, 9.688888889, 66.6275, 64.31272727, 1919.576, 50.16333333, 22.95555556, 0.34, 19.69666667, 18.566, 66.59333333, 81.81075342, 12.41115385, 26.567966100000003], \"yaxis\": \"y2\", \"type\": \"bar\"}], \"name\": \"11\"}, {\"data\": [{\"alignmentgroup\": \"True\", \"hovertemplate\": \"direction=down<br>Local Time (GMT+8)=12<br>floor=%{x}<br>sec=%{y}<extra></extra>\", \"legendgroup\": \"down\", \"marker\": {\"color\": \"#636efa\"}, \"name\": \"down\", \"offsetgroup\": \"down\", \"orientation\": \"v\", \"showlegend\": true, \"textposition\": \"auto\", \"x\": [\"1\", \"2\", \"3\", \"4\", \"5\", \"6\", \"7\", \"8\", \"9\", \"10\", \"11\", \"12\", \"13\", \"14\", \"15\", \"B1\", \"B3\", \"1\", \"2\", \"3\", \"4\", \"5\", \"6\", \"7\", \"8\", \"9\", \"10\", \"11\", \"12\", \"13\", \"14\", \"15\", \"B1\", \"B3\"], \"xaxis\": \"x\", \"y\": [26.69333333, 30.095, 33.07615385, 24.99070175, 38.43091743, 10.89734043, 11.69809783, 11.65005495, 14.06939759, 15.52769231, 14.5813245, 22.67571429, 27.33390625, 55.69585492, 62.7375, 24.8925, 17.30636364, 15.35604651, 19.74466667, 25.13575758, 28.36142857, 38.41326531, 17.93111111, 12.43648649, 13.19325, 18.53424242, 17.12857143, 14.24115385, 22.34955556, 24.10651163, 57.97928571, 61.06888889, 14.91956522, 12.89], \"yaxis\": \"y\", \"type\": \"bar\"}, {\"alignmentgroup\": \"True\", \"hovertemplate\": \"direction=up<br>Local Time (GMT+8)=12<br>floor=%{x}<br>sec=%{y}<extra></extra>\", \"legendgroup\": \"up\", \"marker\": {\"color\": \"#EF553B\"}, \"name\": \"up\", \"offsetgroup\": \"up\", \"orientation\": \"v\", \"showlegend\": true, \"textposition\": \"auto\", \"x\": [\"1\", \"2\", \"3\", \"4\", \"5\", \"6\", \"7\", \"8\", \"9\", \"10\", \"11\", \"12\", \"13\", \"14\", \"B1\", \"B3\", \"B4\", \"1\", \"2\", \"3\", \"4\", \"5\", \"6\", \"7\", \"8\", \"9\", \"10\", \"11\", \"12\", \"13\", \"14\", \"B1\", \"B3\", \"B4\"], \"xaxis\": \"x2\", \"y\": [12.53194842, 9.719496855, 7.915147059, 9.125754717000001, 8.859634146, 66.72657143, 59.97212121, 32.9925, 47.52555556, 55.55370968, 25.94, 44.3325, 45.02095238, 44.37666667, 17.77144963, 15.63631579, 28.11128889, 15.12217391, 11.7984375, 7.616818182, 12.07310345, 16.26941176, 52.5725, 57.141999999999996, 103.365, 94.22, 41.34375, 17.07, 27.01, 21.5375, 50.39166667, 16.02455882, 14.555, 23.294761899999997], \"yaxis\": \"y2\", \"type\": \"bar\"}], \"name\": \"12\"}, {\"data\": [{\"alignmentgroup\": \"True\", \"hovertemplate\": \"direction=down<br>Local Time (GMT+8)=13<br>floor=%{x}<br>sec=%{y}<extra></extra>\", \"legendgroup\": \"down\", \"marker\": {\"color\": \"#636efa\"}, \"name\": \"down\", \"offsetgroup\": \"down\", \"orientation\": \"v\", \"showlegend\": true, \"textposition\": \"auto\", \"x\": [\"1\", \"2\", \"3\", \"4\", \"5\", \"6\", \"7\", \"8\", \"9\", \"10\", \"11\", \"12\", \"13\", \"14\", \"15\", \"B1\", \"B3\", \"1\", \"2\", \"3\", \"4\", \"5\", \"6\", \"7\", \"8\", \"9\", \"10\", \"11\", \"12\", \"13\", \"14\", \"15\", \"B1\", \"B3\"], \"xaxis\": \"x\", \"y\": [24.9458, 35.29158537, 43.14269231, 39.21245902, 44.07285714, 12.41157143, 10.74592593, 14.322146599999998, 16.05451977, 14.70149254, 16.2847093, 15.828896100000001, 24.91994505, 48.01015385, 61.51992908, 22.0677027, 23.05266667, 26.87517241, 23.543000000000003, 34.94166667, 20.78631579, 39.51966667, 14.94510204, 15.413, 15.13484848, 16.79621622, 12.49461538, 15.57305556, 19.89642857, 23.51268293, 45.27770833, 53.382, 12.72142857, 40.46833333], \"yaxis\": \"y\", \"type\": \"bar\"}, {\"alignmentgroup\": \"True\", \"hovertemplate\": \"direction=up<br>Local Time (GMT+8)=13<br>floor=%{x}<br>sec=%{y}<extra></extra>\", \"legendgroup\": \"up\", \"marker\": {\"color\": \"#EF553B\"}, \"name\": \"up\", \"offsetgroup\": \"up\", \"orientation\": \"v\", \"showlegend\": true, \"textposition\": \"auto\", \"x\": [\"1\", \"2\", \"3\", \"4\", \"5\", \"6\", \"7\", \"8\", \"9\", \"10\", \"11\", \"12\", \"13\", \"B1\", \"B3\", \"B4\", \"1\", \"2\", \"3\", \"4\", \"5\", \"6\", \"7\", \"8\", \"9\", \"10\", \"12\", \"13\", \"14\", \"B1\", \"B3\", \"B4\"], \"xaxis\": \"x2\", \"y\": [12.30185507, 9.677368421, 10.3305618, 8.7271, 10.05910256, 72.8416129, 74.63418605, 62.41333333, 48.968, 41.821999999999996, 17.07166667, 49.549, 30.59866667, 15.61563025, 14.63638095, 25.37210317, 13.09168224, 8.29025, 9.395384615, 12.3084375, 11.82363636, 42.15666667, 50.46571429, 32.964, 27.146, 22.1, 12.79, 35.14666667, 20.76, 17.51263158, 14.58272727, 20.79359375], \"yaxis\": \"y2\", \"type\": \"bar\"}], \"name\": \"13\"}, {\"data\": [{\"alignmentgroup\": \"True\", \"hovertemplate\": \"direction=down<br>Local Time (GMT+8)=14<br>floor=%{x}<br>sec=%{y}<extra></extra>\", \"legendgroup\": \"down\", \"marker\": {\"color\": \"#636efa\"}, \"name\": \"down\", \"offsetgroup\": \"down\", \"orientation\": \"v\", \"showlegend\": true, \"textposition\": \"auto\", \"x\": [\"1\", \"2\", \"3\", \"4\", \"5\", \"6\", \"7\", \"8\", \"9\", \"10\", \"11\", \"12\", \"13\", \"14\", \"15\", \"B1\", \"B3\", \"1\", \"2\", \"3\", \"4\", \"5\", \"6\", \"7\", \"8\", \"9\", \"10\", \"11\", \"12\", \"13\", \"14\", \"15\", \"B1\", \"B3\"], \"xaxis\": \"x\", \"y\": [24.87350877, 29.43313253, 34.79205607, 52.843999999999994, 45.70141026, 14.32419492, 11.55571429, 13.80168605, 15.59395522, 12.74507692, 20.79647887, 19.51030303, 30.5819685, 44.64534091, 73.1429078, 22.41370968, 25.2, 7.9741379310000005, 49.045625, 53.51757576, 30.05966667, 47.64266667, 16.0098, 21.3975, 11.08843137, 12.88512195, 12.37352941, 10.84142857, 23.48235294, 21.10916667, 45.8425, 47.72717391, 20.48058824, 16.7375], \"yaxis\": \"y\", \"type\": \"bar\"}, {\"alignmentgroup\": \"True\", \"hovertemplate\": \"direction=up<br>Local Time (GMT+8)=14<br>floor=%{x}<br>sec=%{y}<extra></extra>\", \"legendgroup\": \"up\", \"marker\": {\"color\": \"#EF553B\"}, \"name\": \"up\", \"offsetgroup\": \"up\", \"orientation\": \"v\", \"showlegend\": true, \"textposition\": \"auto\", \"x\": [\"1\", \"2\", \"3\", \"4\", \"5\", \"6\", \"7\", \"8\", \"9\", \"10\", \"11\", \"12\", \"13\", \"14\", \"B1\", \"B3\", \"B4\", \"1\", \"2\", \"3\", \"4\", \"5\", \"6\", \"7\", \"8\", \"9\", \"10\", \"11\", \"12\", \"13\", \"14\", \"B1\", \"B3\", \"B4\"], \"xaxis\": \"x2\", \"y\": [14.29804487, 9.962236842000001, 9.455461538, 11.32754237, 10.2959633, 66.5485, 58.63872727, 35.18818182, 36.49458333, 22.01461538, 34.93391304, 36.4776, 35.90777778, 84.67736842, 16.32792388, 15.36850877, 30.85391129, 9.164736842, 8.205348837, 7.621935484, 9.683714286, 8.458571429, 50.45333333, 35.87090909, 5.785, 28.93666667, 8.0, 32.33714286, 50.87666667, 13.415, 79.9575, 11.67884211, 13.97435897, 30.82557377], \"yaxis\": \"y2\", \"type\": \"bar\"}], \"name\": \"14\"}, {\"data\": [{\"alignmentgroup\": \"True\", \"hovertemplate\": \"direction=down<br>Local Time (GMT+8)=15<br>floor=%{x}<br>sec=%{y}<extra></extra>\", \"legendgroup\": \"down\", \"marker\": {\"color\": \"#636efa\"}, \"name\": \"down\", \"offsetgroup\": \"down\", \"orientation\": \"v\", \"showlegend\": true, \"textposition\": \"auto\", \"x\": [\"1\", \"2\", \"3\", \"4\", \"5\", \"6\", \"7\", \"8\", \"9\", \"10\", \"11\", \"12\", \"13\", \"14\", \"15\", \"B1\", \"B3\", \"1\", \"2\", \"3\", \"4\", \"5\", \"6\", \"7\", \"8\", \"9\", \"10\", \"11\", \"12\", \"13\", \"14\", \"15\", \"B1\", \"B3\"], \"xaxis\": \"x\", \"y\": [25.07018349, 25.49359551, 29.85433628, 44.4203, 47.35247525, 10.78172093, 11.11300613, 14.99126316, 13.20926174, 13.82351648, 15.95540146, 22.48698113, 26.04607843, 57.7185, 82.81844961, 21.55714286, 30.20416667, 20.53694444, 16.39136364, 32.446999999999996, 26.25038462, 49.16208333, 14.40428571, 10.297, 13.5058, 10.87368421, 10.49058824, 19.09052632, 22.365, 35.75058824, 47.8842, 78.422, 13.83214286, 23.8075], \"yaxis\": \"y\", \"type\": \"bar\"}, {\"alignmentgroup\": \"True\", \"hovertemplate\": \"direction=up<br>Local Time (GMT+8)=15<br>floor=%{x}<br>sec=%{y}<extra></extra>\", \"legendgroup\": \"up\", \"marker\": {\"color\": \"#EF553B\"}, \"name\": \"up\", \"offsetgroup\": \"up\", \"orientation\": \"v\", \"showlegend\": true, \"textposition\": \"auto\", \"x\": [\"1\", \"2\", \"3\", \"4\", \"5\", \"6\", \"7\", \"8\", \"9\", \"10\", \"11\", \"12\", \"13\", \"14\", \"B1\", \"B3\", \"B4\", \"1\", \"2\", \"3\", \"4\", \"5\", \"6\", \"7\", \"8\", \"9\", \"10\", \"11\", \"12\", \"13\", \"14\", \"B1\", \"B3\", \"B4\"], \"xaxis\": \"x2\", \"y\": [13.24454849, 10.56541401, 11.30528, 9.756090226, 9.69009901, 72.4571875, 60.96323529, 38.51147059, 47.28277778, 37.32173913, 30.81857143, 52.3796, 34.49277778, 91.5975, 17.20033473, 17.614, 39.48711712, 14.0507, 9.713333333, 10.01228571, 11.57851064, 8.3012, 63.65321429, 53.28842105, 28.93166667, 16.0, 62.94111111, 8.355, 27.35333333, 21.61666667, 34.076, 15.86795181, 13.0312, 28.43903846], \"yaxis\": \"y2\", \"type\": \"bar\"}], \"name\": \"15\"}, {\"data\": [{\"alignmentgroup\": \"True\", \"hovertemplate\": \"direction=down<br>Local Time (GMT+8)=16<br>floor=%{x}<br>sec=%{y}<extra></extra>\", \"legendgroup\": \"down\", \"marker\": {\"color\": \"#636efa\"}, \"name\": \"down\", \"offsetgroup\": \"down\", \"orientation\": \"v\", \"showlegend\": true, \"textposition\": \"auto\", \"x\": [\"1\", \"2\", \"3\", \"4\", \"5\", \"6\", \"7\", \"8\", \"9\", \"10\", \"11\", \"12\", \"13\", \"14\", \"15\", \"B1\", \"B3\", \"1\", \"2\", \"3\", \"4\", \"5\", \"6\", \"7\", \"8\", \"9\", \"10\", \"11\", \"12\", \"13\", \"14\", \"15\", \"B1\", \"B3\"], \"xaxis\": \"x\", \"y\": [20.94330189, 26.15734177, 29.85318841, 35.33483871, 47.7856, 11.9687619, 11.54701389, 14.59109005, 13.824875, 14.77679245, 17.96359551, 19.070794699999997, 25.39195946, 53.23207071, 66.45490446, 23.39784314, 9.55, 16.18885714, 20.52842105, 27.73333333, 34.06076923, 36.66914286, 14.61283582, 11.29803922, 14.14275862, 14.01181818, 15.90952381, 17.94170732, 18.3, 29.0286, 43.26137931, 63.62877193, 25.40473684, 17.25], \"yaxis\": \"y\", \"type\": \"bar\"}, {\"alignmentgroup\": \"True\", \"hovertemplate\": \"direction=up<br>Local Time (GMT+8)=16<br>floor=%{x}<br>sec=%{y}<extra></extra>\", \"legendgroup\": \"up\", \"marker\": {\"color\": \"#EF553B\"}, \"name\": \"up\", \"offsetgroup\": \"up\", \"orientation\": \"v\", \"showlegend\": true, \"textposition\": \"auto\", \"x\": [\"1\", \"2\", \"3\", \"4\", \"5\", \"6\", \"7\", \"8\", \"9\", \"10\", \"11\", \"12\", \"13\", \"14\", \"B1\", \"B3\", \"B4\", \"1\", \"2\", \"3\", \"4\", \"5\", \"6\", \"7\", \"8\", \"9\", \"10\", \"11\", \"12\", \"13\", \"14\", \"B1\", \"B3\", \"B4\"], \"xaxis\": \"x2\", \"y\": [13.46622951, 9.040130719, 9.854083333, 11.835, 12.30865979, 69.12615385, 62.54614035, 36.65055556, 34.451, 32.87928571, 59.04888889, 46.59777778, 51.80105263, 76.92399999999999, 15.98716263, 13.77079545, 29.41120755, 14.86240741, 11.03782609, 11.23902439, 13.92723404, 10.91793103, 56.36928571, 40.97166667, 29.8775, 137.52, 67.7, 197.02, 33.61, 32.94, 51.12, 14.69038095, 12.56774194, 22.41875], \"yaxis\": \"y2\", \"type\": \"bar\"}], \"name\": \"16\"}, {\"data\": [{\"alignmentgroup\": \"True\", \"hovertemplate\": \"direction=down<br>Local Time (GMT+8)=17<br>floor=%{x}<br>sec=%{y}<extra></extra>\", \"legendgroup\": \"down\", \"marker\": {\"color\": \"#636efa\"}, \"name\": \"down\", \"offsetgroup\": \"down\", \"orientation\": \"v\", \"showlegend\": true, \"textposition\": \"auto\", \"x\": [\"1\", \"2\", \"3\", \"4\", \"5\", \"6\", \"7\", \"8\", \"9\", \"10\", \"11\", \"12\", \"13\", \"14\", \"15\", \"B1\", \"B3\", \"1\", \"2\", \"3\", \"4\", \"5\", \"6\", \"7\", \"8\", \"9\", \"10\", \"11\", \"12\", \"13\", \"14\", \"15\", \"B1\", \"B3\"], \"xaxis\": \"x\", \"y\": [22.0454918, 18.376825399999998, 31.928556699999998, 26.32126316, 46.56439394, 8.888839286, 11.08728302, 11.03395161, 12.13234568, 12.17767442, 14.28554167, 16.82453202, 22.43669903, 38.63958115, 61.32835106, 18.61226667, 36.124, 24.63447368, 31.30666667, 25.21588235, 32.493125, 33.106, 12.6192, 12.83742857, 10.55377358, 17.28732143, 7.99, 16.30362069, 15.95428571, 22.66444444, 41.8475, 52.19745098, 17.685, 19.534000000000002], \"yaxis\": \"y\", \"type\": \"bar\"}, {\"alignmentgroup\": \"True\", \"hovertemplate\": \"direction=up<br>Local Time (GMT+8)=17<br>floor=%{x}<br>sec=%{y}<extra></extra>\", \"legendgroup\": \"up\", \"marker\": {\"color\": \"#EF553B\"}, \"name\": \"up\", \"offsetgroup\": \"up\", \"orientation\": \"v\", \"showlegend\": true, \"textposition\": \"auto\", \"x\": [\"1\", \"2\", \"3\", \"4\", \"5\", \"6\", \"7\", \"8\", \"9\", \"10\", \"11\", \"12\", \"13\", \"14\", \"B1\", \"B3\", \"B4\", \"1\", \"2\", \"3\", \"4\", \"5\", \"6\", \"7\", \"8\", \"9\", \"10\", \"11\", \"12\", \"13\", \"14\", \"B1\", \"B3\", \"B4\"], \"xaxis\": \"x2\", \"y\": [14.245849800000002, 10.68721805, 12.09235955, 10.730319999999999, 11.76291139, 66.17484848, 63.2878125, 41.66777778, 48.42909091, 53.12555556, 42.55666667, 59.19666667, 36.04357143, 87.46153846, 17.74892966, 13.67952941, 28.59525547, 14.5425, 13.65058824, 11.345, 10.32463415, 13.73428571, 29.93285714, 24.48875, 32.30666667, 54.945, 20.005, 34.722, 39.73, 99.165, 22.27, 16.77707692, 19.1012, 21.67266667], \"yaxis\": \"y2\", \"type\": \"bar\"}], \"name\": \"17\"}, {\"data\": [{\"alignmentgroup\": \"True\", \"hovertemplate\": \"direction=down<br>Local Time (GMT+8)=18<br>floor=%{x}<br>sec=%{y}<extra></extra>\", \"legendgroup\": \"down\", \"marker\": {\"color\": \"#636efa\"}, \"name\": \"down\", \"offsetgroup\": \"down\", \"orientation\": \"v\", \"showlegend\": true, \"textposition\": \"auto\", \"x\": [\"1\", \"2\", \"3\", \"4\", \"5\", \"6\", \"7\", \"8\", \"9\", \"10\", \"11\", \"12\", \"13\", \"14\", \"15\", \"B1\", \"B3\", \"1\", \"2\", \"3\", \"4\", \"5\", \"6\", \"7\", \"8\", \"9\", \"10\", \"11\", \"12\", \"13\", \"14\", \"15\", \"B1\"], \"xaxis\": \"x\", \"y\": [16.54274194, 23.60795918, 22.90538462, 30.79460317, 33.25653465, 12.17037234, 12.04862637, 14.57657277, 14.17634146, 17.61647059, 13.48443243, 17.82126374, 20.64026596, 36.24246377, 44.23891892, 22.53786885, 17.66, 24.48409091, 14.72428571, 32.24944444, 32.35894737, 24.89058824, 15.51423729, 13.50732143, 15.3424, 17.44190476, 12.94666667, 15.14973684, 16.04173077, 19.91641026, 31.70034483, 42.01305556, 18.28125], \"yaxis\": \"y\", \"type\": \"bar\"}, {\"alignmentgroup\": \"True\", \"hovertemplate\": \"direction=up<br>Local Time (GMT+8)=18<br>floor=%{x}<br>sec=%{y}<extra></extra>\", \"legendgroup\": \"up\", \"marker\": {\"color\": \"#EF553B\"}, \"name\": \"up\", \"offsetgroup\": \"up\", \"orientation\": \"v\", \"showlegend\": true, \"textposition\": \"auto\", \"x\": [\"1\", \"2\", \"3\", \"4\", \"5\", \"6\", \"7\", \"8\", \"9\", \"10\", \"11\", \"12\", \"13\", \"14\", \"B1\", \"B3\", \"B4\", \"1\", \"2\", \"3\", \"4\", \"5\", \"6\", \"7\", \"8\", \"9\", \"10\", \"11\", \"12\", \"13\", \"14\", \"B1\", \"B3\", \"B4\"], \"xaxis\": \"x2\", \"y\": [15.24994709, 11.77819444, 10.01756757, 17.81777778, 15.86862745, 49.1175, 41.03916667, 62.40428571, 29.07666667, 62.62777778, 35.215, 17.945, 66.00888889, 29.365, 17.90008451, 16.66576923, 19.77994898, 12.51275862, 11.80409091, 15.145999999999999, 12.58636364, 14.4112, 42.83142857, 28.59, 49.614, 27.9025, 19.61571429, 40.355, 42.785, 16.6575, 38.185, 17.50849206, 16.65833333, 20.15222222], \"yaxis\": \"y2\", \"type\": \"bar\"}], \"name\": \"18\"}, {\"data\": [{\"alignmentgroup\": \"True\", \"hovertemplate\": \"direction=down<br>Local Time (GMT+8)=19<br>floor=%{x}<br>sec=%{y}<extra></extra>\", \"legendgroup\": \"down\", \"marker\": {\"color\": \"#636efa\"}, \"name\": \"down\", \"offsetgroup\": \"down\", \"orientation\": \"v\", \"showlegend\": true, \"textposition\": \"auto\", \"x\": [\"1\", \"2\", \"3\", \"4\", \"5\", \"6\", \"7\", \"8\", \"9\", \"10\", \"11\", \"12\", \"13\", \"14\", \"15\", \"B1\", \"B3\", \"1\", \"2\", \"3\", \"4\", \"5\", \"6\", \"7\", \"8\", \"9\", \"10\", \"11\", \"12\", \"13\", \"14\", \"15\", \"B1\"], \"xaxis\": \"x\", \"y\": [14.9778, 21.28529412, 19.35228571, 19.04875, 26.49870968, 15.82796117, 16.23556818, 15.27578947, 17.23795699, 16.17954545, 21.535999999999998, 20.9246875, 20.73802469, 23.91283951, 35.32931034, 17.66021739, 16.26, 15.35380952, 15.98, 17.55714286, 13.19571429, 21.0156, 11.96617647, 17.07227273, 12.9225, 15.282, 29.0725, 21.38722222, 19.52925926, 20.08547619, 29.426, 25.04777778, 13.68], \"yaxis\": \"y\", \"type\": \"bar\"}, {\"alignmentgroup\": \"True\", \"hovertemplate\": \"direction=up<br>Local Time (GMT+8)=19<br>floor=%{x}<br>sec=%{y}<extra></extra>\", \"legendgroup\": \"up\", \"marker\": {\"color\": \"#EF553B\"}, \"name\": \"up\", \"offsetgroup\": \"up\", \"orientation\": \"v\", \"showlegend\": true, \"textposition\": \"auto\", \"x\": [\"1\", \"2\", \"3\", \"4\", \"5\", \"6\", \"7\", \"8\", \"9\", \"10\", \"11\", \"12\", \"13\", \"14\", \"B1\", \"B3\", \"B4\", \"1\", \"2\", \"3\", \"4\", \"5\", \"6\", \"7\", \"8\", \"9\", \"10\", \"12\", \"13\", \"B1\", \"B3\", \"B4\"], \"xaxis\": \"x2\", \"y\": [12.24307692, 14.950999999999999, 14.84, 16.41011765, 15.57023256, 23.46375, 25.53555556, 14.082, 24.9225, 28.1, 45.2, 39.94, 41.815, 31.218000000000004, 13.90472222, 17.78341463, 18.28663366, 10.70207547, 14.28181818, 12.85888889, 17.39705882, 21.70333333, 18.42875, 23.65571429, 1.46, 22.18571429, 12.795, 43.06, 28.72, 11.1901, 12.36333333, 10.129375], \"yaxis\": \"y2\", \"type\": \"bar\"}], \"name\": \"19\"}, {\"data\": [{\"alignmentgroup\": \"True\", \"hovertemplate\": \"direction=down<br>Local Time (GMT+8)=20<br>floor=%{x}<br>sec=%{y}<extra></extra>\", \"legendgroup\": \"down\", \"marker\": {\"color\": \"#636efa\"}, \"name\": \"down\", \"offsetgroup\": \"down\", \"orientation\": \"v\", \"showlegend\": true, \"textposition\": \"auto\", \"x\": [\"1\", \"2\", \"3\", \"4\", \"5\", \"6\", \"7\", \"8\", \"9\", \"10\", \"11\", \"12\", \"13\", \"14\", \"15\", \"B1\", \"B3\", \"1\", \"3\", \"4\", \"5\", \"6\", \"7\", \"8\", \"9\", \"10\", \"11\", \"12\", \"13\", \"14\", \"15\", \"B1\"], \"xaxis\": \"x\", \"y\": [12.75555556, 12.49636364, 13.57551724, 16.86566667, 16.945, 12.64817073, 13.99390244, 14.23282353, 19.69553571, 10.84153846, 19.98830189, 20.96122449, 21.4168, 25.72342857, 24.72416667, 11.75631579, 9.53, 8.338888889, 22.795, 25.61235294, 15.175, 12.08793103, 14.71933333, 13.61714286, 16.35928571, 8.5275, 16.756, 21.24923077, 18.38421053, 16.38769231, 21.96352941, 8.278571429], \"yaxis\": \"y\", \"type\": \"bar\"}, {\"alignmentgroup\": \"True\", \"hovertemplate\": \"direction=up<br>Local Time (GMT+8)=20<br>floor=%{x}<br>sec=%{y}<extra></extra>\", \"legendgroup\": \"up\", \"marker\": {\"color\": \"#EF553B\"}, \"name\": \"up\", \"offsetgroup\": \"up\", \"orientation\": \"v\", \"showlegend\": true, \"textposition\": \"auto\", \"x\": [\"1\", \"2\", \"3\", \"4\", \"5\", \"6\", \"7\", \"8\", \"9\", \"10\", \"12\", \"13\", \"14\", \"B1\", \"B3\", \"B4\", \"1\", \"2\", \"3\", \"4\", \"5\", \"6\", \"7\", \"8\", \"13\", \"14\", \"B1\", \"B3\", \"B4\"], \"xaxis\": \"x2\", \"y\": [11.075999999999999, 11.01923077, 13.21444444, 16.73583333, 18.7225, 28.1825, 23.545, 28.048000000000002, 14.89666667, 12.92, 7.57, 31.005, 34.84333333, 13.22089474, 9.468918919, 18.63688525, 13.34707317, 8.955, 9.3625, 19.87769231, 12.87142857, 22.858, 9.3, 9.68, 17.97, 1.54, 11.71745763, 12.77916667, 8.113888889], \"yaxis\": \"y2\", \"type\": \"bar\"}], \"name\": \"20\"}, {\"data\": [{\"alignmentgroup\": \"True\", \"hovertemplate\": \"direction=down<br>Local Time (GMT+8)=21<br>floor=%{x}<br>sec=%{y}<extra></extra>\", \"legendgroup\": \"down\", \"marker\": {\"color\": \"#636efa\"}, \"name\": \"down\", \"offsetgroup\": \"down\", \"orientation\": \"v\", \"showlegend\": true, \"textposition\": \"auto\", \"x\": [\"1\", \"2\", \"3\", \"4\", \"5\", \"6\", \"7\", \"8\", \"9\", \"10\", \"11\", \"12\", \"13\", \"14\", \"15\", \"B1\", \"1\", \"2\", \"3\", \"4\", \"5\", \"6\", \"7\", \"8\", \"9\", \"10\", \"11\", \"12\", \"13\", \"14\", \"15\", \"B1\"], \"xaxis\": \"x\", \"y\": [7.246, 17.56, 14.82214286, 19.4048, 12.99425, 12.4623913, 16.493, 15.77315789, 17.74344828, 11.77363636, 19.31058824, 20.52192308, 21.40710526, 19.68295455, 27.8104, 11.79272727, 9.001666667, 13.565, 11.33166667, 13.28545455, 18.86733333, 13.72416667, 11.295, 11.86769231, 17.28083333, 14.512, 20.64928571, 23.43, 14.49066667, 22.30909091, 38.34875, 15.68], \"yaxis\": \"y\", \"type\": \"bar\"}, {\"alignmentgroup\": \"True\", \"hovertemplate\": \"direction=up<br>Local Time (GMT+8)=21<br>floor=%{x}<br>sec=%{y}<extra></extra>\", \"legendgroup\": \"up\", \"marker\": {\"color\": \"#EF553B\"}, \"name\": \"up\", \"offsetgroup\": \"up\", \"orientation\": \"v\", \"showlegend\": true, \"textposition\": \"auto\", \"x\": [\"1\", \"2\", \"3\", \"4\", \"5\", \"6\", \"7\", \"8\", \"9\", \"10\", \"12\", \"14\", \"B1\", \"B3\", \"B4\", \"1\", \"2\", \"3\", \"4\", \"5\", \"6\", \"7\", \"9\", \"10\", \"14\", \"B1\", \"B3\", \"B4\"], \"xaxis\": \"x2\", \"y\": [9.712916667, 11.052, 11.88181818, 14.15086957, 14.41538462, 23.66, 7.99, 16.335, 22.3975, 18.21538462, 30.32, 18.1275, 12.18579882, 14.21090909, 10.55, 11.84181818, 8.2, 17.405, 15.8975, 18.48111111, 11.36, 5.755, 8.03, 12.33333333, 20.08, 10.52981818, 6.1, 5.284], \"yaxis\": \"y2\", \"type\": \"bar\"}], \"name\": \"21\"}, {\"data\": [{\"alignmentgroup\": \"True\", \"hovertemplate\": \"direction=down<br>Local Time (GMT+8)=22<br>floor=%{x}<br>sec=%{y}<extra></extra>\", \"legendgroup\": \"down\", \"marker\": {\"color\": \"#636efa\"}, \"name\": \"down\", \"offsetgroup\": \"down\", \"orientation\": \"v\", \"showlegend\": true, \"textposition\": \"auto\", \"x\": [\"1\", \"2\", \"3\", \"4\", \"5\", \"6\", \"7\", \"8\", \"9\", \"10\", \"11\", \"12\", \"13\", \"14\", \"15\", \"B1\", \"1\", \"3\", \"4\", \"5\", \"6\", \"7\", \"8\", \"9\", \"10\", \"11\", \"12\", \"13\", \"14\", \"15\", \"B1\"], \"xaxis\": \"x\", \"y\": [10.5852381, 17.93, 16.63444444, 19.43741935, 17.57444444, 12.79271186, 16.96777778, 13.48652174, 17.2325, 10.96183908, 15.96333333, 19.47571429, 22.83761905, 23.480625, 19.11823529, 15.24666667, 5.687777777999999, 13.28833333, 9.95, 13.44833333, 12.11772727, 13.47333333, 18.58222222, 16.79142857, 11.18421053, 14.40428571, 9.86125, 19.58, 24.31666667, 23.35, 22.596], \"yaxis\": \"y\", \"type\": \"bar\"}, {\"alignmentgroup\": \"True\", \"hovertemplate\": \"direction=up<br>Local Time (GMT+8)=22<br>floor=%{x}<br>sec=%{y}<extra></extra>\", \"legendgroup\": \"up\", \"marker\": {\"color\": \"#EF553B\"}, \"name\": \"up\", \"offsetgroup\": \"up\", \"orientation\": \"v\", \"showlegend\": true, \"textposition\": \"auto\", \"x\": [\"1\", \"2\", \"3\", \"4\", \"5\", \"6\", \"7\", \"8\", \"9\", \"10\", \"14\", \"B1\", \"B3\", \"B4\", \"1\", \"2\", \"3\", \"4\", \"5\", \"6\", \"7\", \"8\", \"B1\", \"B3\", \"B4\"], \"xaxis\": \"x2\", \"y\": [9.361983471, 19.81, 8.68, 12.68291667, 17.02235294, 11.765, 14.09625, 18.085, 23.77, 20.385, 19.802, 11.48517241, 17.42866667, 7.624166667000001, 9.648979592, 9.57, 20.455, 8.82, 23.455, 11.568, 15.79, 1.61, 12.271875, 7.915, 9.15], \"yaxis\": \"y2\", \"type\": \"bar\"}], \"name\": \"22\"}, {\"data\": [{\"alignmentgroup\": \"True\", \"hovertemplate\": \"direction=down<br>Local Time (GMT+8)=23<br>floor=%{x}<br>sec=%{y}<extra></extra>\", \"legendgroup\": \"down\", \"marker\": {\"color\": \"#636efa\"}, \"name\": \"down\", \"offsetgroup\": \"down\", \"orientation\": \"v\", \"showlegend\": true, \"textposition\": \"auto\", \"x\": [\"1\", \"2\", \"3\", \"4\", \"5\", \"6\", \"7\", \"8\", \"9\", \"10\", \"11\", \"12\", \"13\", \"14\", \"15\", \"B1\", \"1\", \"4\", \"5\", \"6\", \"7\", \"8\", \"9\", \"10\", \"11\", \"12\", \"13\", \"14\", \"15\", \"B1\"], \"xaxis\": \"x\", \"y\": [7.184, 17.65, 18.75, 13.6625, 19.92875, 14.17892308, 17.41444444, 13.0885, 13.74307692, 11.63882353, 16.846, 12.665999999999999, 17.36454545, 13.96333333, 23.44, 11.0, 13.0575, 11.86222222, 18.31, 13.21, 17.225, 12.345, 2.82, 17.53571429, 12.46666667, 7.885, 12.048, 10.69, 22.78, 12.82333333], \"yaxis\": \"y\", \"type\": \"bar\"}, {\"alignmentgroup\": \"True\", \"hovertemplate\": \"direction=up<br>Local Time (GMT+8)=23<br>floor=%{x}<br>sec=%{y}<extra></extra>\", \"legendgroup\": \"up\", \"marker\": {\"color\": \"#EF553B\"}, \"name\": \"up\", \"offsetgroup\": \"up\", \"orientation\": \"v\", \"showlegend\": true, \"textposition\": \"auto\", \"x\": [\"1\", \"2\", \"3\", \"4\", \"5\", \"6\", \"7\", \"9\", \"11\", \"12\", \"14\", \"B1\", \"B3\", \"B4\", \"1\", \"2\", \"3\", \"4\", \"5\", \"6\", \"14\", \"B1\", \"B4\"], \"xaxis\": \"x2\", \"y\": [12.37666667, 0.92, 12.39833333, 11.44857143, 15.12, 13.3165625, 10.655999999999999, 15.72, 1.27, 17.62, 8.905, 10.85137931, 10.014, 12.47611111, 6.954705882000001, 8.01, 14.515, 20.1, 12.62666667, 12.96230769, 7.84, 10.41785714, 14.08615385], \"yaxis\": \"y2\", \"type\": \"bar\"}], \"name\": \"23\"}]);\n",
       "                        }).then(function(){\n",
       "                            \n",
       "var gd = document.getElementById('7d114195-08dd-456e-8ddc-cd112a96f891');\n",
       "var x = new MutationObserver(function (mutations, observer) {{\n",
       "        var display = window.getComputedStyle(gd).display;\n",
       "        if (!display || display === 'none') {{\n",
       "            console.log([gd, 'removed!']);\n",
       "            Plotly.purge(gd);\n",
       "            observer.disconnect();\n",
       "        }}\n",
       "}});\n",
       "\n",
       "// Listen for the removal of the full notebook cells\n",
       "var notebookContainer = gd.closest('#notebook-container');\n",
       "if (notebookContainer) {{\n",
       "    x.observe(notebookContainer, {childList: true});\n",
       "}}\n",
       "\n",
       "// Listen for the clearing of the current output cell\n",
       "var outputEl = gd.closest('.output');\n",
       "if (outputEl) {{\n",
       "    x.observe(outputEl, {childList: true});\n",
       "}}\n",
       "\n",
       "                        })\n",
       "                };\n",
       "                });\n",
       "            </script>\n",
       "        </div>"
      ]
     },
     "metadata": {},
     "output_type": "display_data"
    }
   ],
   "source": [
    "floor_list = ['B4','B3', 'B2','B1','1', '2', '3', '4', '5', '6', '7', '8', '9', '10', '11',\n",
    "       '12', '13', '14', '15']\n",
    "\n",
    "fig = px.bar(data_frame=df_s, \n",
    "             \n",
    "             ## 這裡的data frame都先用 R aggregate過了，以節省運算時間\n",
    "             x = \"floor\", y = \"avgWait\",\n",
    "             \n",
    "             ## 以方向分兩張圖，並上色\n",
    "             facet_col=\"direction\",color=\"direction\",\n",
    "             \n",
    "             ## 自動生成slider\n",
    "             animation_frame=\"hour\",\n",
    "             \n",
    "             labels={\"avgWait\":\"sec\",\n",
    "                     \"hour\":\"Local Time (GMT+8)\"})\n",
    "\n",
    "# X axis\n",
    "fig.update_xaxes(nticks=len(floor_list), ##指定breaks的數量\n",
    "                 \n",
    "                 ## 手動將X的類別排序\n",
    "                 type=\"category\",\n",
    "                 categoryarray=floor_list)\n",
    "\n",
    "# Y axis\n",
    "fig.update_yaxes(range=[0, 300])\n",
    "\n",
    "# Layout\n",
    "fig.update_layout(title_text='Average Waiting Time of Elevator Calls by Floor')\n",
    "\n",
    "fig.show()"
   ]
  },
  {
   "cell_type": "code",
   "execution_count": 5,
   "metadata": {},
   "outputs": [
    {
     "data": {
      "application/vnd.plotly.v1+json": {
       "config": {
        "plotlyServerURL": "https://plot.ly"
       },
       "data": [
        {
         "alignmentgroup": "True",
         "hovertemplate": "direction=down<br>floor=1<br>Local Time (GMT+8)=%{x}<br>sec=%{y}<extra></extra>",
         "legendgroup": "down",
         "marker": {
          "color": "#636efa"
         },
         "name": "down",
         "offsetgroup": "down",
         "orientation": "v",
         "showlegend": true,
         "textposition": "auto",
         "type": "bar",
         "x": [
          0,
          1,
          2,
          3,
          4,
          5,
          6,
          7,
          8,
          9,
          10,
          11,
          12,
          13,
          14,
          15,
          16,
          17,
          18,
          19,
          20,
          21,
          22,
          23,
          3,
          6,
          7,
          8,
          9,
          10,
          11,
          12,
          13,
          14,
          15,
          16,
          17,
          18,
          19,
          20,
          21,
          22,
          23
         ],
         "xaxis": "x",
         "y": [
          8.03,
          8.425,
          9.365,
          19.94333333,
          0.67,
          25.10833333,
          24.06220779,
          33.54444444,
          30.01764706,
          18.44009901,
          22.38050505,
          16.186875,
          26.69333333,
          24.9458,
          24.87350877,
          25.07018349,
          20.94330189,
          22.0454918,
          16.54274194,
          14.9778,
          12.75555556,
          7.246,
          10.5852381,
          7.184,
          23.4,
          27.48888889,
          25.21860465,
          32.988,
          17.761875,
          14.25153846,
          13.68166667,
          15.35604651,
          26.87517241,
          7.9741379310000005,
          20.53694444,
          16.18885714,
          24.63447368,
          24.48409091,
          15.35380952,
          8.338888889,
          9.001666667,
          5.687777777999999,
          13.0575
         ],
         "yaxis": "y"
        },
        {
         "alignmentgroup": "True",
         "hovertemplate": "direction=up<br>floor=1<br>Local Time (GMT+8)=%{x}<br>sec=%{y}<extra></extra>",
         "legendgroup": "up",
         "marker": {
          "color": "#EF553B"
         },
         "name": "up",
         "offsetgroup": "up",
         "orientation": "v",
         "showlegend": true,
         "textposition": "auto",
         "type": "bar",
         "x": [
          0,
          1,
          2,
          3,
          4,
          5,
          6,
          7,
          8,
          9,
          10,
          11,
          12,
          13,
          14,
          15,
          16,
          17,
          18,
          19,
          20,
          21,
          22,
          23,
          0,
          1,
          2,
          3,
          5,
          6,
          7,
          8,
          9,
          10,
          11,
          12,
          13,
          14,
          15,
          16,
          17,
          18,
          19,
          20,
          21,
          22,
          23
         ],
         "xaxis": "x2",
         "y": [
          3.78375,
          11.136,
          10.36,
          15.75,
          8.65,
          16.08909091,
          16.92088154,
          13.09365169,
          12.07878995,
          13.38857143,
          13.70707395,
          11.20741135,
          12.53194842,
          12.30185507,
          14.29804487,
          13.24454849,
          13.46622951,
          14.245849800000002,
          15.24994709,
          12.24307692,
          11.075999999999999,
          9.712916667,
          9.361983471,
          12.37666667,
          9.79,
          14.395,
          12.97666667,
          15.83,
          13.24833333,
          18.0916,
          16.88640212,
          13.83130178,
          11.574202900000001,
          12.36534884,
          11.43811966,
          15.12217391,
          13.09168224,
          9.164736842,
          14.0507,
          14.86240741,
          14.5425,
          12.51275862,
          10.70207547,
          13.34707317,
          11.84181818,
          9.648979592,
          6.954705882000001
         ],
         "yaxis": "y2"
        }
       ],
       "frames": [
        {
         "data": [
          {
           "alignmentgroup": "True",
           "hovertemplate": "direction=down<br>floor=1<br>Local Time (GMT+8)=%{x}<br>sec=%{y}<extra></extra>",
           "legendgroup": "down",
           "marker": {
            "color": "#636efa"
           },
           "name": "down",
           "offsetgroup": "down",
           "orientation": "v",
           "showlegend": true,
           "textposition": "auto",
           "type": "bar",
           "x": [
            0,
            1,
            2,
            3,
            4,
            5,
            6,
            7,
            8,
            9,
            10,
            11,
            12,
            13,
            14,
            15,
            16,
            17,
            18,
            19,
            20,
            21,
            22,
            23,
            3,
            6,
            7,
            8,
            9,
            10,
            11,
            12,
            13,
            14,
            15,
            16,
            17,
            18,
            19,
            20,
            21,
            22,
            23
           ],
           "xaxis": "x",
           "y": [
            8.03,
            8.425,
            9.365,
            19.94333333,
            0.67,
            25.10833333,
            24.06220779,
            33.54444444,
            30.01764706,
            18.44009901,
            22.38050505,
            16.186875,
            26.69333333,
            24.9458,
            24.87350877,
            25.07018349,
            20.94330189,
            22.0454918,
            16.54274194,
            14.9778,
            12.75555556,
            7.246,
            10.5852381,
            7.184,
            23.4,
            27.48888889,
            25.21860465,
            32.988,
            17.761875,
            14.25153846,
            13.68166667,
            15.35604651,
            26.87517241,
            7.9741379310000005,
            20.53694444,
            16.18885714,
            24.63447368,
            24.48409091,
            15.35380952,
            8.338888889,
            9.001666667,
            5.687777777999999,
            13.0575
           ],
           "yaxis": "y"
          },
          {
           "alignmentgroup": "True",
           "hovertemplate": "direction=up<br>floor=1<br>Local Time (GMT+8)=%{x}<br>sec=%{y}<extra></extra>",
           "legendgroup": "up",
           "marker": {
            "color": "#EF553B"
           },
           "name": "up",
           "offsetgroup": "up",
           "orientation": "v",
           "showlegend": true,
           "textposition": "auto",
           "type": "bar",
           "x": [
            0,
            1,
            2,
            3,
            4,
            5,
            6,
            7,
            8,
            9,
            10,
            11,
            12,
            13,
            14,
            15,
            16,
            17,
            18,
            19,
            20,
            21,
            22,
            23,
            0,
            1,
            2,
            3,
            5,
            6,
            7,
            8,
            9,
            10,
            11,
            12,
            13,
            14,
            15,
            16,
            17,
            18,
            19,
            20,
            21,
            22,
            23
           ],
           "xaxis": "x2",
           "y": [
            3.78375,
            11.136,
            10.36,
            15.75,
            8.65,
            16.08909091,
            16.92088154,
            13.09365169,
            12.07878995,
            13.38857143,
            13.70707395,
            11.20741135,
            12.53194842,
            12.30185507,
            14.29804487,
            13.24454849,
            13.46622951,
            14.245849800000002,
            15.24994709,
            12.24307692,
            11.075999999999999,
            9.712916667,
            9.361983471,
            12.37666667,
            9.79,
            14.395,
            12.97666667,
            15.83,
            13.24833333,
            18.0916,
            16.88640212,
            13.83130178,
            11.574202900000001,
            12.36534884,
            11.43811966,
            15.12217391,
            13.09168224,
            9.164736842,
            14.0507,
            14.86240741,
            14.5425,
            12.51275862,
            10.70207547,
            13.34707317,
            11.84181818,
            9.648979592,
            6.954705882000001
           ],
           "yaxis": "y2"
          }
         ],
         "name": "1"
        },
        {
         "data": [
          {
           "alignmentgroup": "True",
           "hovertemplate": "direction=down<br>floor=2<br>Local Time (GMT+8)=%{x}<br>sec=%{y}<extra></extra>",
           "legendgroup": "down",
           "marker": {
            "color": "#636efa"
           },
           "name": "down",
           "offsetgroup": "down",
           "orientation": "v",
           "showlegend": true,
           "textposition": "auto",
           "type": "bar",
           "x": [
            1,
            6,
            7,
            8,
            9,
            10,
            11,
            12,
            13,
            14,
            15,
            16,
            17,
            18,
            19,
            20,
            21,
            22,
            23,
            6,
            7,
            8,
            9,
            10,
            11,
            12,
            13,
            14,
            15,
            16,
            17,
            18,
            19,
            21
           ],
           "xaxis": "x",
           "y": [
            1.24,
            11.63,
            36.74321429,
            35.0115493,
            28.76467532,
            37.01015625,
            24.17361111,
            30.095,
            35.29158537,
            29.43313253,
            25.49359551,
            26.15734177,
            18.376825399999998,
            23.60795918,
            21.28529412,
            12.49636364,
            17.56,
            17.93,
            17.65,
            9.51,
            28.66666667,
            24.185,
            20.37538462,
            15.68666667,
            25.84827586,
            19.74466667,
            23.543000000000003,
            49.045625,
            16.39136364,
            20.52842105,
            31.30666667,
            14.72428571,
            15.98,
            13.565
           ],
           "yaxis": "y"
          },
          {
           "alignmentgroup": "True",
           "hovertemplate": "direction=up<br>floor=2<br>Local Time (GMT+8)=%{x}<br>sec=%{y}<extra></extra>",
           "legendgroup": "up",
           "marker": {
            "color": "#EF553B"
           },
           "name": "up",
           "offsetgroup": "up",
           "orientation": "v",
           "showlegend": true,
           "textposition": "auto",
           "type": "bar",
           "x": [
            0,
            4,
            6,
            7,
            8,
            9,
            10,
            11,
            12,
            13,
            14,
            15,
            16,
            17,
            18,
            19,
            20,
            21,
            22,
            23,
            1,
            6,
            7,
            8,
            9,
            10,
            11,
            12,
            13,
            14,
            15,
            16,
            17,
            18,
            19,
            20,
            21,
            22,
            23
           ],
           "xaxis": "x2",
           "y": [
            17.56,
            16.23,
            15.592,
            10.39376623,
            9.845343511,
            15.06892857,
            9.086277372,
            10.62530864,
            9.719496855,
            9.677368421,
            9.962236842000001,
            10.56541401,
            9.040130719,
            10.68721805,
            11.77819444,
            14.950999999999999,
            11.01923077,
            11.052,
            19.81,
            0.92,
            19.2,
            14.29,
            11.3025,
            10.29676471,
            7.674186047,
            10.7940625,
            9.378163265,
            11.7984375,
            8.29025,
            8.205348837,
            9.713333333,
            11.03782609,
            13.65058824,
            11.80409091,
            14.28181818,
            8.955,
            8.2,
            9.57,
            8.01
           ],
           "yaxis": "y2"
          }
         ],
         "name": "2"
        },
        {
         "data": [
          {
           "alignmentgroup": "True",
           "hovertemplate": "direction=down<br>floor=3<br>Local Time (GMT+8)=%{x}<br>sec=%{y}<extra></extra>",
           "legendgroup": "down",
           "marker": {
            "color": "#636efa"
           },
           "name": "down",
           "offsetgroup": "down",
           "orientation": "v",
           "showlegend": true,
           "textposition": "auto",
           "type": "bar",
           "x": [
            0,
            1,
            2,
            3,
            4,
            5,
            6,
            7,
            8,
            9,
            10,
            11,
            12,
            13,
            14,
            15,
            16,
            17,
            18,
            19,
            20,
            21,
            22,
            23,
            0,
            1,
            2,
            3,
            4,
            6,
            7,
            8,
            9,
            10,
            11,
            12,
            13,
            14,
            15,
            16,
            17,
            18,
            19,
            20,
            21,
            22
           ],
           "xaxis": "x",
           "y": [
            19.435,
            9.195,
            15.796,
            18.53,
            1.59,
            19.185,
            24.36666667,
            29.16791667,
            37.08492063,
            34.77699029,
            27.34505747,
            27.17586466,
            33.07615385,
            43.14269231,
            34.79205607,
            29.85433628,
            29.85318841,
            31.928556699999998,
            22.90538462,
            19.35228571,
            13.57551724,
            14.82214286,
            16.63444444,
            18.75,
            14.025,
            21.21,
            10.745,
            15.94,
            16.65,
            26.845,
            37.80272727,
            31.7078125,
            28.11324324,
            38.46380952,
            18.26169492,
            25.13575758,
            34.94166667,
            53.51757576,
            32.446999999999996,
            27.73333333,
            25.21588235,
            32.24944444,
            17.55714286,
            22.795,
            11.33166667,
            13.28833333
           ],
           "yaxis": "y"
          },
          {
           "alignmentgroup": "True",
           "hovertemplate": "direction=up<br>floor=3<br>Local Time (GMT+8)=%{x}<br>sec=%{y}<extra></extra>",
           "legendgroup": "up",
           "marker": {
            "color": "#EF553B"
           },
           "name": "up",
           "offsetgroup": "up",
           "orientation": "v",
           "showlegend": true,
           "textposition": "auto",
           "type": "bar",
           "x": [
            0,
            1,
            2,
            3,
            4,
            6,
            7,
            8,
            9,
            10,
            11,
            12,
            13,
            14,
            15,
            16,
            17,
            18,
            19,
            20,
            21,
            22,
            23,
            0,
            1,
            2,
            3,
            6,
            7,
            8,
            9,
            10,
            11,
            12,
            13,
            14,
            15,
            16,
            17,
            18,
            19,
            20,
            21,
            22,
            23
           ],
           "xaxis": "x2",
           "y": [
            14.22588235,
            15.04666667,
            10.44666667,
            19.05,
            9.275,
            8.01,
            9.027333333,
            7.637755102000001,
            10.8317284,
            10.27156627,
            8.814210526,
            7.915147059,
            10.3305618,
            9.455461538,
            11.30528,
            9.854083333,
            12.09235955,
            10.01756757,
            14.84,
            13.21444444,
            11.88181818,
            8.68,
            12.39833333,
            18.08333333,
            15.8225,
            15.235,
            1.6,
            19.32,
            6.404,
            12.18866667,
            8.802105263,
            12.78416667,
            279.19514289999995,
            7.616818182,
            9.395384615,
            7.621935484,
            10.01228571,
            11.23902439,
            11.345,
            15.145999999999999,
            12.85888889,
            9.3625,
            17.405,
            20.455,
            14.515
           ],
           "yaxis": "y2"
          }
         ],
         "name": "3"
        },
        {
         "data": [
          {
           "alignmentgroup": "True",
           "hovertemplate": "direction=down<br>floor=4<br>Local Time (GMT+8)=%{x}<br>sec=%{y}<extra></extra>",
           "legendgroup": "down",
           "marker": {
            "color": "#636efa"
           },
           "name": "down",
           "offsetgroup": "down",
           "orientation": "v",
           "showlegend": true,
           "textposition": "auto",
           "type": "bar",
           "x": [
            0,
            1,
            2,
            4,
            5,
            6,
            7,
            8,
            9,
            10,
            11,
            12,
            13,
            14,
            15,
            16,
            17,
            18,
            19,
            20,
            21,
            22,
            23,
            0,
            2,
            3,
            7,
            8,
            9,
            10,
            11,
            12,
            13,
            14,
            15,
            16,
            17,
            18,
            19,
            20,
            21,
            22,
            23
           ],
           "xaxis": "x",
           "y": [
            14.218,
            13.628,
            1.6,
            1.48,
            17.965,
            29.2575,
            28.6555,
            40.47111111,
            32.21,
            49.312608700000006,
            35.90232877,
            24.99070175,
            39.21245902,
            52.843999999999994,
            44.4203,
            35.33483871,
            26.32126316,
            30.79460317,
            19.04875,
            16.86566667,
            19.4048,
            19.43741935,
            13.6625,
            15.44,
            19.05,
            9.81,
            21.51071429,
            31.42352941,
            36.84310345,
            96.02681818,
            30.59266667,
            28.36142857,
            20.78631579,
            30.05966667,
            26.25038462,
            34.06076923,
            32.493125,
            32.35894737,
            13.19571429,
            25.61235294,
            13.28545455,
            9.95,
            11.86222222
           ],
           "yaxis": "y"
          },
          {
           "alignmentgroup": "True",
           "hovertemplate": "direction=up<br>floor=4<br>Local Time (GMT+8)=%{x}<br>sec=%{y}<extra></extra>",
           "legendgroup": "up",
           "marker": {
            "color": "#EF553B"
           },
           "name": "up",
           "offsetgroup": "up",
           "orientation": "v",
           "showlegend": true,
           "textposition": "auto",
           "type": "bar",
           "x": [
            0,
            1,
            2,
            3,
            4,
            5,
            6,
            7,
            8,
            9,
            10,
            11,
            12,
            13,
            14,
            15,
            16,
            17,
            18,
            19,
            20,
            21,
            22,
            23,
            0,
            1,
            2,
            3,
            4,
            6,
            7,
            8,
            9,
            10,
            11,
            12,
            13,
            14,
            15,
            16,
            17,
            18,
            19,
            20,
            21,
            22,
            23
           ],
           "xaxis": "x2",
           "y": [
            14.67366667,
            14.33916667,
            13.96,
            17.5,
            18.7,
            16.78,
            15.76681818,
            10.30380952,
            9.807317073,
            9.114137931,
            9.694130435,
            10.39409639,
            9.125754717000001,
            8.7271,
            11.32754237,
            9.756090226,
            11.835,
            10.730319999999999,
            17.81777778,
            16.41011765,
            16.73583333,
            14.15086957,
            12.68291667,
            11.44857143,
            10.53333333,
            13.3325,
            15.29833333,
            8.78,
            0.97,
            17.82888889,
            8.583,
            7.8666666670000005,
            6.752608696,
            15.21794872,
            7.033333333,
            12.07310345,
            12.3084375,
            9.683714286,
            11.57851064,
            13.92723404,
            10.32463415,
            12.58636364,
            17.39705882,
            19.87769231,
            15.8975,
            8.82,
            20.1
           ],
           "yaxis": "y2"
          }
         ],
         "name": "4"
        },
        {
         "data": [
          {
           "alignmentgroup": "True",
           "hovertemplate": "direction=down<br>floor=5<br>Local Time (GMT+8)=%{x}<br>sec=%{y}<extra></extra>",
           "legendgroup": "down",
           "marker": {
            "color": "#636efa"
           },
           "name": "down",
           "offsetgroup": "down",
           "orientation": "v",
           "showlegend": true,
           "textposition": "auto",
           "type": "bar",
           "x": [
            0,
            1,
            2,
            3,
            4,
            5,
            6,
            7,
            8,
            9,
            10,
            11,
            12,
            13,
            14,
            15,
            16,
            17,
            18,
            19,
            20,
            21,
            22,
            23,
            1,
            3,
            4,
            6,
            7,
            8,
            9,
            10,
            11,
            12,
            13,
            14,
            15,
            16,
            17,
            18,
            19,
            20,
            21,
            22,
            23
           ],
           "xaxis": "x",
           "y": [
            10.56625,
            10.86,
            10.61,
            17.96,
            15.97,
            29.4225,
            20.348,
            34.471,
            40.82443038,
            46.30752809,
            41.44410959,
            54.33087379,
            38.43091743,
            44.07285714,
            45.70141026,
            47.35247525,
            47.7856,
            46.56439394,
            33.25653465,
            26.49870968,
            16.945,
            12.99425,
            17.57444444,
            19.92875,
            17.27,
            15.73,
            16.52,
            25.8725,
            15.3175,
            30.16147059,
            34.98964286,
            47.02580645,
            20.58647059,
            38.41326531,
            39.51966667,
            47.64266667,
            49.16208333,
            36.66914286,
            33.106,
            24.89058824,
            21.0156,
            15.175,
            18.86733333,
            13.44833333,
            18.31
           ],
           "yaxis": "y"
          },
          {
           "alignmentgroup": "True",
           "hovertemplate": "direction=up<br>floor=5<br>Local Time (GMT+8)=%{x}<br>sec=%{y}<extra></extra>",
           "legendgroup": "up",
           "marker": {
            "color": "#EF553B"
           },
           "name": "up",
           "offsetgroup": "up",
           "orientation": "v",
           "showlegend": true,
           "textposition": "auto",
           "type": "bar",
           "x": [
            0,
            1,
            2,
            3,
            4,
            5,
            6,
            7,
            8,
            9,
            10,
            11,
            12,
            13,
            14,
            15,
            16,
            17,
            18,
            19,
            20,
            21,
            22,
            23,
            0,
            1,
            2,
            4,
            7,
            8,
            9,
            10,
            11,
            12,
            13,
            14,
            15,
            16,
            17,
            18,
            19,
            20,
            21,
            22,
            23
           ],
           "xaxis": "x2",
           "y": [
            13.06058824,
            14.115,
            9.592222222,
            13.65428571,
            15.84666667,
            11.6575,
            13.24428571,
            10.4135,
            9.978,
            9.838285714,
            10.32583333,
            11.07831683,
            8.859634146,
            10.05910256,
            10.2959633,
            9.69009901,
            12.30865979,
            11.76291139,
            15.86862745,
            15.57023256,
            18.7225,
            14.41538462,
            17.02235294,
            15.12,
            13.14666667,
            12.965,
            16.03333333,
            13.63333333,
            15.714,
            7.803333332999999,
            12.73722222,
            10.3648,
            9.688888889,
            16.26941176,
            11.82363636,
            8.458571429,
            8.3012,
            10.91793103,
            13.73428571,
            14.4112,
            21.70333333,
            12.87142857,
            18.48111111,
            23.455,
            12.62666667
           ],
           "yaxis": "y2"
          }
         ],
         "name": "5"
        },
        {
         "data": [
          {
           "alignmentgroup": "True",
           "hovertemplate": "direction=down<br>floor=6<br>Local Time (GMT+8)=%{x}<br>sec=%{y}<extra></extra>",
           "legendgroup": "down",
           "marker": {
            "color": "#636efa"
           },
           "name": "down",
           "offsetgroup": "down",
           "orientation": "v",
           "showlegend": true,
           "textposition": "auto",
           "type": "bar",
           "x": [
            0,
            1,
            2,
            3,
            4,
            5,
            6,
            7,
            8,
            9,
            10,
            11,
            12,
            13,
            14,
            15,
            16,
            17,
            18,
            19,
            20,
            21,
            22,
            23,
            0,
            1,
            2,
            3,
            5,
            6,
            7,
            8,
            9,
            10,
            11,
            12,
            13,
            14,
            15,
            16,
            17,
            18,
            19,
            20,
            21,
            22,
            23
           ],
           "xaxis": "x",
           "y": [
            1.61,
            1.48,
            5.446000000000001,
            11.658,
            12.684000000000001,
            14.87,
            18.33036697,
            22.77988827,
            13.50298611,
            12.74657303,
            13.78043689,
            10.63971963,
            10.89734043,
            12.41157143,
            14.32419492,
            10.78172093,
            11.9687619,
            8.888839286,
            12.17037234,
            15.82796117,
            12.64817073,
            12.4623913,
            12.79271186,
            14.17892308,
            14.845,
            21.69,
            1.213333333,
            25.17,
            10.72,
            12.5715,
            15.66386364,
            14.14254545,
            9.249215686,
            36.47831325,
            12.94477778,
            17.93111111,
            14.94510204,
            16.0098,
            14.40428571,
            14.61283582,
            12.6192,
            15.51423729,
            11.96617647,
            12.08793103,
            13.72416667,
            12.11772727,
            13.21
           ],
           "yaxis": "y"
          },
          {
           "alignmentgroup": "True",
           "hovertemplate": "direction=up<br>floor=6<br>Local Time (GMT+8)=%{x}<br>sec=%{y}<extra></extra>",
           "legendgroup": "up",
           "marker": {
            "color": "#EF553B"
           },
           "name": "up",
           "offsetgroup": "up",
           "orientation": "v",
           "showlegend": true,
           "textposition": "auto",
           "type": "bar",
           "x": [
            0,
            1,
            5,
            6,
            7,
            8,
            9,
            10,
            11,
            12,
            13,
            14,
            15,
            16,
            17,
            18,
            19,
            20,
            21,
            22,
            23,
            1,
            2,
            5,
            6,
            7,
            8,
            9,
            10,
            11,
            12,
            13,
            14,
            15,
            16,
            17,
            18,
            19,
            20,
            21,
            22,
            23
           ],
           "xaxis": "x2",
           "y": [
            8.64,
            3.92,
            13.876,
            22.40045455,
            39.46348485,
            52.73866667,
            57.50764706,
            43.27655738,
            81.95076923,
            66.72657143,
            72.8416129,
            66.5485,
            72.4571875,
            69.12615385,
            66.17484848,
            49.1175,
            23.46375,
            28.1825,
            23.66,
            11.765,
            13.3165625,
            1.44,
            1.58,
            15.71,
            17.35457143,
            34.62666667,
            35.50888889,
            37.30333333,
            45.12,
            66.6275,
            52.5725,
            42.15666667,
            50.45333333,
            63.65321429,
            56.36928571,
            29.93285714,
            42.83142857,
            18.42875,
            22.858,
            11.36,
            11.568,
            12.96230769
           ],
           "yaxis": "y2"
          }
         ],
         "name": "6"
        },
        {
         "data": [
          {
           "alignmentgroup": "True",
           "hovertemplate": "direction=down<br>floor=7<br>Local Time (GMT+8)=%{x}<br>sec=%{y}<extra></extra>",
           "legendgroup": "down",
           "marker": {
            "color": "#636efa"
           },
           "name": "down",
           "offsetgroup": "down",
           "orientation": "v",
           "showlegend": true,
           "textposition": "auto",
           "type": "bar",
           "x": [
            0,
            1,
            2,
            3,
            4,
            5,
            6,
            7,
            8,
            9,
            10,
            11,
            12,
            13,
            14,
            15,
            16,
            17,
            18,
            19,
            20,
            21,
            22,
            23,
            0,
            1,
            2,
            3,
            4,
            6,
            7,
            8,
            9,
            10,
            11,
            12,
            13,
            14,
            15,
            16,
            17,
            18,
            19,
            20,
            21,
            22,
            23
           ],
           "xaxis": "x",
           "y": [
            15.10625,
            14.42875,
            10.45,
            17.128,
            13.28,
            21.79,
            19.0025,
            20.17469388,
            14.441969699999998,
            23.77867647,
            13.65861538,
            11.37225989,
            11.69809783,
            10.74592593,
            11.55571429,
            11.11300613,
            11.54701389,
            11.08728302,
            12.04862637,
            16.23556818,
            13.99390244,
            16.493,
            16.96777778,
            17.41444444,
            16.24333333,
            10.82666667,
            10.555,
            3.44,
            21.585,
            17.77333333,
            21.26545455,
            15.6855,
            13.94815789,
            11.94882353,
            11.62039216,
            12.43648649,
            15.413,
            21.3975,
            10.297,
            11.29803922,
            12.83742857,
            13.50732143,
            17.07227273,
            14.71933333,
            11.295,
            13.47333333,
            17.225
           ],
           "yaxis": "y"
          },
          {
           "alignmentgroup": "True",
           "hovertemplate": "direction=up<br>floor=7<br>Local Time (GMT+8)=%{x}<br>sec=%{y}<extra></extra>",
           "legendgroup": "up",
           "marker": {
            "color": "#EF553B"
           },
           "name": "up",
           "offsetgroup": "up",
           "orientation": "v",
           "showlegend": true,
           "textposition": "auto",
           "type": "bar",
           "x": [
            0,
            1,
            2,
            3,
            4,
            5,
            6,
            7,
            8,
            9,
            10,
            11,
            12,
            13,
            14,
            15,
            16,
            17,
            18,
            19,
            20,
            21,
            22,
            23,
            0,
            1,
            2,
            3,
            4,
            6,
            7,
            9,
            10,
            11,
            12,
            13,
            14,
            15,
            16,
            17,
            18,
            19,
            20,
            21,
            22
           ],
           "xaxis": "x2",
           "y": [
            10.35857143,
            10.14,
            5.996666667,
            7.745,
            7.84,
            12.6375,
            19.965,
            30.5975,
            50.57461538,
            49.653999999999996,
            49.59741935,
            75.4412766,
            59.97212121,
            74.63418605,
            58.63872727,
            60.96323529,
            62.54614035,
            63.2878125,
            41.03916667,
            25.53555556,
            23.545,
            7.99,
            14.09625,
            10.655999999999999,
            7.505,
            14.02,
            15.93,
            1.0533333329999999,
            15.125,
            12.89,
            7.97,
            39.40454545,
            45.51428571,
            64.31272727,
            57.141999999999996,
            50.46571429,
            35.87090909,
            53.28842105,
            40.97166667,
            24.48875,
            28.59,
            23.65571429,
            9.3,
            5.755,
            15.79
           ],
           "yaxis": "y2"
          }
         ],
         "name": "7"
        },
        {
         "data": [
          {
           "alignmentgroup": "True",
           "hovertemplate": "direction=down<br>floor=8<br>Local Time (GMT+8)=%{x}<br>sec=%{y}<extra></extra>",
           "legendgroup": "down",
           "marker": {
            "color": "#636efa"
           },
           "name": "down",
           "offsetgroup": "down",
           "orientation": "v",
           "showlegend": true,
           "textposition": "auto",
           "type": "bar",
           "x": [
            0,
            1,
            2,
            3,
            5,
            6,
            7,
            8,
            9,
            10,
            11,
            12,
            13,
            14,
            15,
            16,
            17,
            18,
            19,
            20,
            21,
            22,
            23,
            0,
            1,
            2,
            3,
            5,
            6,
            7,
            8,
            9,
            10,
            11,
            12,
            13,
            14,
            15,
            16,
            17,
            18,
            19,
            20,
            21,
            22,
            23
           ],
           "xaxis": "x",
           "y": [
            13.19235294,
            13.82333333,
            8.645,
            1.57,
            15.62666667,
            18.69,
            25.65685714,
            17.74482759,
            16.42359281,
            13.25740506,
            11.25363636,
            11.65005495,
            14.322146599999998,
            13.80168605,
            14.99126316,
            14.59109005,
            11.03395161,
            14.57657277,
            15.27578947,
            14.23282353,
            15.77315789,
            13.48652174,
            13.0885,
            15.35,
            13.79,
            15.19,
            13.79,
            25.18,
            10.1,
            16.609375,
            14.80736842,
            19.12276596,
            9.047317073,
            9.0084375,
            13.19325,
            15.13484848,
            11.08843137,
            13.5058,
            14.14275862,
            10.55377358,
            15.3424,
            12.9225,
            13.61714286,
            11.86769231,
            18.58222222,
            12.345
           ],
           "yaxis": "y"
          },
          {
           "alignmentgroup": "True",
           "hovertemplate": "direction=up<br>floor=8<br>Local Time (GMT+8)=%{x}<br>sec=%{y}<extra></extra>",
           "legendgroup": "up",
           "marker": {
            "color": "#EF553B"
           },
           "name": "up",
           "offsetgroup": "up",
           "orientation": "v",
           "showlegend": true,
           "textposition": "auto",
           "type": "bar",
           "x": [
            7,
            8,
            9,
            10,
            11,
            12,
            13,
            14,
            15,
            16,
            17,
            18,
            19,
            20,
            21,
            22,
            3,
            5,
            8,
            9,
            10,
            11,
            12,
            13,
            14,
            15,
            16,
            17,
            18,
            19,
            20,
            22
           ],
           "xaxis": "x2",
           "y": [
            35.63,
            38.54958333,
            51.1578125,
            42.74677419,
            47.22413793,
            32.9925,
            62.41333333,
            35.18818182,
            38.51147059,
            36.65055556,
            41.66777778,
            62.40428571,
            14.082,
            28.048000000000002,
            16.335,
            18.085,
            1.57,
            22.31,
            48.14833333,
            40.08363636,
            49.172,
            1919.576,
            103.365,
            32.964,
            5.785,
            28.93166667,
            29.8775,
            32.30666667,
            49.614,
            1.46,
            9.68,
            1.61
           ],
           "yaxis": "y2"
          }
         ],
         "name": "8"
        },
        {
         "data": [
          {
           "alignmentgroup": "True",
           "hovertemplate": "direction=down<br>floor=9<br>Local Time (GMT+8)=%{x}<br>sec=%{y}<extra></extra>",
           "legendgroup": "down",
           "marker": {
            "color": "#636efa"
           },
           "name": "down",
           "offsetgroup": "down",
           "orientation": "v",
           "showlegend": true,
           "textposition": "auto",
           "type": "bar",
           "x": [
            0,
            1,
            3,
            4,
            5,
            6,
            7,
            8,
            9,
            10,
            11,
            12,
            13,
            14,
            15,
            16,
            17,
            18,
            19,
            20,
            21,
            22,
            23,
            0,
            1,
            2,
            3,
            5,
            7,
            8,
            9,
            10,
            11,
            12,
            13,
            14,
            15,
            16,
            17,
            18,
            19,
            20,
            21,
            22,
            23
           ],
           "xaxis": "x",
           "y": [
            12.13,
            13.568,
            18.105,
            7.23,
            13.66,
            27.415,
            27.79682927,
            17.69171642,
            14.448125,
            16.91567568,
            13.28433155,
            14.06939759,
            16.05451977,
            15.59395522,
            13.20926174,
            13.824875,
            12.13234568,
            14.17634146,
            17.23795699,
            19.69553571,
            17.74344828,
            17.2325,
            13.74307692,
            18.48,
            17.49,
            10.885,
            12.215,
            6.41,
            23.60375,
            15.62914894,
            17.44346939,
            18.31787234,
            9.911836735,
            18.53424242,
            16.79621622,
            12.88512195,
            10.87368421,
            14.01181818,
            17.28732143,
            17.44190476,
            15.282,
            16.35928571,
            17.28083333,
            16.79142857,
            2.82
           ],
           "yaxis": "y"
          },
          {
           "alignmentgroup": "True",
           "hovertemplate": "direction=up<br>floor=9<br>Local Time (GMT+8)=%{x}<br>sec=%{y}<extra></extra>",
           "legendgroup": "up",
           "marker": {
            "color": "#EF553B"
           },
           "name": "up",
           "offsetgroup": "up",
           "orientation": "v",
           "showlegend": true,
           "textposition": "auto",
           "type": "bar",
           "x": [
            3,
            4,
            6,
            7,
            8,
            9,
            10,
            11,
            12,
            13,
            14,
            15,
            16,
            17,
            18,
            19,
            20,
            21,
            22,
            23,
            2,
            5,
            6,
            7,
            8,
            9,
            10,
            11,
            12,
            13,
            14,
            15,
            16,
            17,
            18,
            19,
            21
           ],
           "xaxis": "x2",
           "y": [
            1.57,
            1.05,
            18.33166667,
            15.168,
            54.17285714,
            36.09733333,
            45.27516129,
            50.98,
            47.52555556,
            48.968,
            36.49458333,
            47.28277778,
            34.451,
            48.42909091,
            29.07666667,
            24.9225,
            14.89666667,
            22.3975,
            23.77,
            15.72,
            7.7,
            14.77,
            15.16,
            51.01,
            36.04,
            16.21666667,
            26.42222222,
            50.16333333,
            94.22,
            27.146,
            28.93666667,
            16,
            137.52,
            54.945,
            27.9025,
            22.18571429,
            8.03
           ],
           "yaxis": "y2"
          }
         ],
         "name": "9"
        },
        {
         "data": [
          {
           "alignmentgroup": "True",
           "hovertemplate": "direction=down<br>floor=10<br>Local Time (GMT+8)=%{x}<br>sec=%{y}<extra></extra>",
           "legendgroup": "down",
           "marker": {
            "color": "#636efa"
           },
           "name": "down",
           "offsetgroup": "down",
           "orientation": "v",
           "showlegend": true,
           "textposition": "auto",
           "type": "bar",
           "x": [
            0,
            1,
            2,
            3,
            4,
            5,
            6,
            7,
            8,
            9,
            10,
            11,
            12,
            13,
            14,
            15,
            16,
            17,
            18,
            19,
            20,
            21,
            22,
            23,
            1,
            2,
            5,
            6,
            7,
            8,
            9,
            10,
            11,
            12,
            13,
            14,
            15,
            16,
            17,
            18,
            19,
            20,
            21,
            22,
            23
           ],
           "xaxis": "x",
           "y": [
            14.2925,
            1.243333333,
            18.46,
            19.82,
            9.01,
            4.991463415,
            11.68626087,
            19.87550725,
            9.2009375,
            23.60210526,
            10.86086957,
            11.67101266,
            15.52769231,
            14.70149254,
            12.74507692,
            13.82351648,
            14.77679245,
            12.17767442,
            17.61647059,
            16.17954545,
            10.84153846,
            11.77363636,
            10.96183908,
            11.63882353,
            19.2,
            11.97,
            5.697,
            10.16906977,
            12.4,
            14.892000000000001,
            15.67272727,
            10.52777778,
            274.3222222,
            17.12857143,
            12.49461538,
            12.37352941,
            10.49058824,
            15.90952381,
            7.99,
            12.94666667,
            29.0725,
            8.5275,
            14.512,
            11.18421053,
            17.53571429
           ],
           "yaxis": "y"
          },
          {
           "alignmentgroup": "True",
           "hovertemplate": "direction=up<br>floor=10<br>Local Time (GMT+8)=%{x}<br>sec=%{y}<extra></extra>",
           "legendgroup": "up",
           "marker": {
            "color": "#EF553B"
           },
           "name": "up",
           "offsetgroup": "up",
           "orientation": "v",
           "showlegend": true,
           "textposition": "auto",
           "type": "bar",
           "x": [
            1,
            5,
            6,
            7,
            8,
            9,
            10,
            11,
            12,
            13,
            14,
            15,
            16,
            17,
            18,
            19,
            20,
            21,
            22,
            5,
            6,
            7,
            8,
            9,
            10,
            11,
            12,
            13,
            14,
            15,
            16,
            17,
            18,
            19,
            21
           ],
           "xaxis": "x2",
           "y": [
            1.38,
            4.783181818,
            15.11753968,
            37.66895238,
            40.097,
            58.74375,
            16.176,
            41.37470588,
            55.55370968,
            41.821999999999996,
            22.01461538,
            37.32173913,
            32.87928571,
            53.12555556,
            62.62777778,
            28.1,
            12.92,
            18.21538462,
            20.385,
            5.031666667,
            9.470555556,
            22.2025,
            17.162,
            35.61333333,
            25.296,
            22.95555556,
            41.34375,
            22.1,
            8,
            62.94111111,
            67.7,
            20.005,
            19.61571429,
            12.795,
            12.33333333
           ],
           "yaxis": "y2"
          }
         ],
         "name": "10"
        },
        {
         "data": [
          {
           "alignmentgroup": "True",
           "hovertemplate": "direction=down<br>floor=11<br>Local Time (GMT+8)=%{x}<br>sec=%{y}<extra></extra>",
           "legendgroup": "down",
           "marker": {
            "color": "#636efa"
           },
           "name": "down",
           "offsetgroup": "down",
           "orientation": "v",
           "showlegend": true,
           "textposition": "auto",
           "type": "bar",
           "x": [
            0,
            1,
            2,
            3,
            4,
            5,
            6,
            7,
            8,
            9,
            10,
            11,
            12,
            13,
            14,
            15,
            16,
            17,
            18,
            19,
            20,
            21,
            22,
            23,
            0,
            1,
            2,
            5,
            6,
            7,
            8,
            9,
            10,
            11,
            12,
            13,
            14,
            15,
            16,
            17,
            18,
            19,
            20,
            21,
            22,
            23
           ],
           "xaxis": "x",
           "y": [
            19.782,
            0.56,
            20.44,
            16.22,
            19.675,
            8.04,
            21.91090909,
            27.536986300000002,
            21.66359281,
            21.20323171,
            18.50221477,
            15.72666667,
            14.5813245,
            16.2847093,
            20.79647887,
            15.95540146,
            17.96359551,
            14.28554167,
            13.48443243,
            21.535999999999998,
            19.98830189,
            19.31058824,
            15.96333333,
            16.846,
            19.92333333,
            19.08,
            10.79,
            8.04,
            14.085,
            28.23,
            21.61685185,
            18.14322581,
            14.90181818,
            11.56188679,
            14.24115385,
            15.57305556,
            10.84142857,
            19.09052632,
            17.94170732,
            16.30362069,
            15.14973684,
            21.38722222,
            16.756,
            20.64928571,
            14.40428571,
            12.46666667
           ],
           "yaxis": "y"
          },
          {
           "alignmentgroup": "True",
           "hovertemplate": "direction=up<br>floor=11<br>Local Time (GMT+8)=%{x}<br>sec=%{y}<extra></extra>",
           "legendgroup": "up",
           "marker": {
            "color": "#EF553B"
           },
           "name": "up",
           "offsetgroup": "up",
           "orientation": "v",
           "showlegend": true,
           "textposition": "auto",
           "type": "bar",
           "x": [
            3,
            6,
            7,
            8,
            9,
            10,
            11,
            12,
            13,
            14,
            15,
            16,
            17,
            18,
            19,
            23,
            6,
            8,
            9,
            10,
            11,
            12,
            14,
            15,
            16,
            17,
            18
           ],
           "xaxis": "x2",
           "y": [
            1.59,
            60.53,
            16.29714286,
            84.76,
            37.33363636,
            29.47454545,
            81.17333333,
            25.94,
            17.07166667,
            34.93391304,
            30.81857143,
            59.04888889,
            42.55666667,
            35.215,
            45.2,
            1.27,
            11.18,
            45.79,
            52.66888889,
            37.63666667,
            0.34,
            17.07,
            32.33714286,
            8.355,
            197.02,
            34.722,
            40.355
           ],
           "yaxis": "y2"
          }
         ],
         "name": "11"
        },
        {
         "data": [
          {
           "alignmentgroup": "True",
           "hovertemplate": "direction=down<br>floor=12<br>Local Time (GMT+8)=%{x}<br>sec=%{y}<extra></extra>",
           "legendgroup": "down",
           "marker": {
            "color": "#636efa"
           },
           "name": "down",
           "offsetgroup": "down",
           "orientation": "v",
           "showlegend": true,
           "textposition": "auto",
           "type": "bar",
           "x": [
            0,
            1,
            2,
            4,
            5,
            6,
            7,
            8,
            9,
            10,
            11,
            12,
            13,
            14,
            15,
            16,
            17,
            18,
            19,
            20,
            21,
            22,
            23,
            0,
            1,
            2,
            5,
            6,
            7,
            8,
            9,
            10,
            11,
            12,
            13,
            14,
            15,
            16,
            17,
            18,
            19,
            20,
            21,
            22,
            23
           ],
           "xaxis": "x",
           "y": [
            16.13454545,
            16.05444444,
            31.63,
            26.09,
            19.4625,
            15.80714286,
            30.14692308,
            21.09159722,
            21.70827068,
            21.85371901,
            22.3829697,
            22.67571429,
            15.828896100000001,
            19.51030303,
            22.48698113,
            19.070794699999997,
            16.82453202,
            17.82126374,
            20.9246875,
            20.96122449,
            20.52192308,
            19.47571429,
            12.665999999999999,
            20.114,
            38.44,
            1.415,
            10.15,
            5.98,
            26.79636364,
            25.68361702,
            18.38384615,
            19.2072093,
            226.8580435,
            22.34955556,
            19.89642857,
            23.48235294,
            22.365,
            18.3,
            15.95428571,
            16.04173077,
            19.52925926,
            21.24923077,
            23.43,
            9.86125,
            7.885
           ],
           "yaxis": "y"
          },
          {
           "alignmentgroup": "True",
           "hovertemplate": "direction=up<br>floor=12<br>Local Time (GMT+8)=%{x}<br>sec=%{y}<extra></extra>",
           "legendgroup": "up",
           "marker": {
            "color": "#EF553B"
           },
           "name": "up",
           "offsetgroup": "up",
           "orientation": "v",
           "showlegend": true,
           "textposition": "auto",
           "type": "bar",
           "x": [
            7,
            8,
            9,
            10,
            11,
            12,
            13,
            14,
            15,
            16,
            17,
            18,
            19,
            20,
            21,
            23,
            8,
            9,
            10,
            11,
            12,
            13,
            14,
            15,
            16,
            17,
            18,
            19
           ],
           "xaxis": "x2",
           "y": [
            4.13,
            89.32,
            53.91260870000001,
            61.308125,
            36.303000000000004,
            44.3325,
            49.549,
            36.4776,
            52.3796,
            46.59777778,
            59.19666667,
            17.945,
            39.94,
            7.57,
            30.32,
            17.62,
            17.06,
            42.1125,
            56.78,
            19.69666667,
            27.01,
            12.79,
            50.87666667,
            27.35333333,
            33.61,
            39.73,
            42.785,
            43.06
           ],
           "yaxis": "y2"
          }
         ],
         "name": "12"
        },
        {
         "data": [
          {
           "alignmentgroup": "True",
           "hovertemplate": "direction=down<br>floor=13<br>Local Time (GMT+8)=%{x}<br>sec=%{y}<extra></extra>",
           "legendgroup": "down",
           "marker": {
            "color": "#636efa"
           },
           "name": "down",
           "offsetgroup": "down",
           "orientation": "v",
           "showlegend": true,
           "textposition": "auto",
           "type": "bar",
           "x": [
            0,
            2,
            4,
            5,
            6,
            7,
            8,
            9,
            10,
            11,
            12,
            13,
            14,
            15,
            16,
            17,
            18,
            19,
            20,
            21,
            22,
            23,
            0,
            1,
            2,
            6,
            7,
            8,
            9,
            10,
            11,
            12,
            13,
            14,
            15,
            16,
            17,
            18,
            19,
            20,
            21,
            22,
            23
           ],
           "xaxis": "x",
           "y": [
            16.88111111,
            19.01,
            1.52,
            15.765,
            10.22142857,
            40.71863636,
            32.58702703,
            29.53263566,
            28.32121495,
            31.39761006,
            27.33390625,
            24.91994505,
            30.5819685,
            26.04607843,
            25.39195946,
            22.43669903,
            20.64026596,
            20.73802469,
            21.4168,
            21.40710526,
            22.83761905,
            17.36454545,
            18.98,
            15.79,
            15.8,
            11.96142857,
            24.30066667,
            20.95212766,
            28.37147059,
            19.49677966,
            188.0689286,
            24.10651163,
            23.51268293,
            21.10916667,
            35.75058824,
            29.0286,
            22.66444444,
            19.91641026,
            20.08547619,
            18.38421053,
            14.49066667,
            19.58,
            12.048
           ],
           "yaxis": "y"
          },
          {
           "alignmentgroup": "True",
           "hovertemplate": "direction=up<br>floor=13<br>Local Time (GMT+8)=%{x}<br>sec=%{y}<extra></extra>",
           "legendgroup": "up",
           "marker": {
            "color": "#EF553B"
           },
           "name": "up",
           "offsetgroup": "up",
           "orientation": "v",
           "showlegend": true,
           "textposition": "auto",
           "type": "bar",
           "x": [
            7,
            8,
            9,
            10,
            11,
            12,
            13,
            14,
            15,
            16,
            17,
            18,
            19,
            20,
            7,
            8,
            9,
            10,
            11,
            12,
            13,
            14,
            15,
            16,
            17,
            18,
            19,
            20
           ],
           "xaxis": "x2",
           "y": [
            33.856,
            55.45777778,
            36.99521739,
            31.78625,
            45.1675,
            45.02095238,
            30.59866667,
            35.90777778,
            34.49277778,
            51.80105263,
            36.04357143,
            66.00888889,
            41.815,
            31.005,
            10.69,
            45.00666667,
            28.64333333,
            40.918,
            18.566,
            21.5375,
            35.14666667,
            13.415,
            21.61666667,
            32.94,
            99.165,
            16.6575,
            28.72,
            17.97
           ],
           "yaxis": "y2"
          }
         ],
         "name": "13"
        },
        {
         "data": [
          {
           "alignmentgroup": "True",
           "hovertemplate": "direction=down<br>floor=14<br>Local Time (GMT+8)=%{x}<br>sec=%{y}<extra></extra>",
           "legendgroup": "down",
           "marker": {
            "color": "#636efa"
           },
           "name": "down",
           "offsetgroup": "down",
           "orientation": "v",
           "showlegend": true,
           "textposition": "auto",
           "type": "bar",
           "x": [
            0,
            1,
            2,
            4,
            5,
            7,
            8,
            9,
            10,
            11,
            12,
            13,
            14,
            15,
            16,
            17,
            18,
            19,
            20,
            21,
            22,
            23,
            0,
            1,
            2,
            3,
            6,
            7,
            8,
            9,
            10,
            11,
            12,
            13,
            14,
            15,
            16,
            17,
            18,
            19,
            20,
            21,
            22,
            23
           ],
           "xaxis": "x",
           "y": [
            19.71,
            20.63285714,
            19.92,
            1.27,
            18.84,
            41.37723404,
            52.31697479,
            51.79058511,
            47.00628415,
            52.34378641,
            55.69585492,
            48.01015385,
            44.64534091,
            57.7185,
            53.23207071,
            38.63958115,
            36.24246377,
            23.91283951,
            25.72342857,
            19.68295455,
            23.480625,
            13.96333333,
            18.86,
            12.67,
            27.03,
            1.61,
            58.09,
            46.33454545,
            40.05526316,
            41.96847826,
            48.388000000000005,
            175.79045449999998,
            57.97928571,
            45.27770833,
            45.8425,
            47.8842,
            43.26137931,
            41.8475,
            31.70034483,
            29.426,
            16.38769231,
            22.30909091,
            24.31666667,
            10.69
           ],
           "yaxis": "y"
          },
          {
           "alignmentgroup": "True",
           "hovertemplate": "direction=up<br>floor=14<br>Local Time (GMT+8)=%{x}<br>sec=%{y}<extra></extra>",
           "legendgroup": "up",
           "marker": {
            "color": "#EF553B"
           },
           "name": "up",
           "offsetgroup": "up",
           "orientation": "v",
           "showlegend": true,
           "textposition": "auto",
           "type": "bar",
           "x": [
            0,
            1,
            2,
            5,
            7,
            8,
            9,
            10,
            11,
            12,
            14,
            15,
            16,
            17,
            18,
            19,
            20,
            21,
            22,
            23,
            2,
            3,
            7,
            8,
            9,
            10,
            11,
            12,
            13,
            14,
            15,
            16,
            17,
            18,
            20,
            21,
            23
           ],
           "xaxis": "x2",
           "y": [
            20.495,
            14.05333333,
            13.22,
            12.87,
            50.465,
            105.22875,
            79.01857143,
            80.518,
            35.168,
            44.37666667,
            84.67736842,
            91.5975,
            76.92399999999999,
            87.46153846,
            29.365,
            31.218000000000004,
            34.84333333,
            18.1275,
            19.802,
            8.905,
            17.47,
            18.95,
            15.16,
            62.55,
            122.63,
            59.925,
            66.59333333,
            50.39166667,
            20.76,
            79.9575,
            34.076,
            51.12,
            22.27,
            38.185,
            1.54,
            20.08,
            7.84
           ],
           "yaxis": "y2"
          }
         ],
         "name": "14"
        },
        {
         "data": [
          {
           "alignmentgroup": "True",
           "hovertemplate": "direction=down<br>floor=15<br>Local Time (GMT+8)=%{x}<br>sec=%{y}<extra></extra>",
           "legendgroup": "down",
           "marker": {
            "color": "#636efa"
           },
           "name": "down",
           "offsetgroup": "down",
           "orientation": "v",
           "showlegend": true,
           "textposition": "auto",
           "type": "bar",
           "x": [
            0,
            1,
            2,
            3,
            4,
            5,
            6,
            7,
            8,
            9,
            10,
            11,
            12,
            13,
            14,
            15,
            16,
            17,
            18,
            19,
            20,
            21,
            22,
            23,
            0,
            1,
            2,
            3,
            4,
            5,
            6,
            7,
            8,
            9,
            10,
            11,
            12,
            13,
            14,
            15,
            16,
            17,
            18,
            19,
            20,
            21,
            22,
            23
           ],
           "xaxis": "x",
           "y": [
            29.41666667,
            10.03666667,
            1.37,
            14.025,
            4.8725,
            1.59,
            14.38714286,
            45.38793651,
            58.90015038,
            62.70014706,
            58.98550725,
            77.94909722,
            62.7375,
            61.51992908,
            73.1429078,
            82.81844961,
            66.45490446,
            61.32835106,
            44.23891892,
            35.32931034,
            24.72416667,
            27.8104,
            19.11823529,
            23.44,
            21.425,
            1.01,
            6.543333333,
            2.55,
            1.39,
            1.37,
            25.35,
            27.00428571,
            39.44594595,
            51.82651163,
            59.35,
            213.2131579,
            61.06888889,
            53.382,
            47.72717391,
            78.422,
            63.62877193,
            52.19745098,
            42.01305556,
            25.04777778,
            21.96352941,
            38.34875,
            23.35,
            22.78
           ],
           "yaxis": "y"
          }
         ],
         "name": "15"
        },
        {
         "data": [
          {
           "alignmentgroup": "True",
           "hovertemplate": "direction=down<br>floor=B1<br>Local Time (GMT+8)=%{x}<br>sec=%{y}<extra></extra>",
           "legendgroup": "down",
           "marker": {
            "color": "#636efa"
           },
           "name": "down",
           "offsetgroup": "down",
           "orientation": "v",
           "showlegend": true,
           "textposition": "auto",
           "type": "bar",
           "x": [
            0,
            1,
            2,
            3,
            6,
            7,
            8,
            9,
            10,
            11,
            12,
            13,
            14,
            15,
            16,
            17,
            18,
            19,
            20,
            21,
            22,
            23,
            0,
            2,
            5,
            6,
            7,
            8,
            9,
            10,
            11,
            12,
            13,
            14,
            15,
            16,
            17,
            18,
            19,
            20,
            21,
            22,
            23
           ],
           "xaxis": "x",
           "y": [
            9.336666667000001,
            18.74,
            20.4,
            1.33,
            25.195,
            26.08763441,
            20.44879518,
            30.421999999999997,
            18.29466667,
            21.83880597,
            24.8925,
            22.0677027,
            22.41370968,
            21.55714286,
            23.39784314,
            18.61226667,
            22.53786885,
            17.66021739,
            11.75631579,
            11.79272727,
            15.24666667,
            11,
            12.625,
            11.83,
            15.03,
            21.71882353,
            23.85047619,
            23.6872,
            18.74111111,
            32.33285714,
            19.16727273,
            14.91956522,
            12.72142857,
            20.48058824,
            13.83214286,
            25.40473684,
            17.685,
            18.28125,
            13.68,
            8.278571429,
            15.68,
            22.596,
            12.82333333
           ],
           "yaxis": "y"
          },
          {
           "alignmentgroup": "True",
           "hovertemplate": "direction=up<br>floor=B1<br>Local Time (GMT+8)=%{x}<br>sec=%{y}<extra></extra>",
           "legendgroup": "up",
           "marker": {
            "color": "#EF553B"
           },
           "name": "up",
           "offsetgroup": "up",
           "orientation": "v",
           "showlegend": true,
           "textposition": "auto",
           "type": "bar",
           "x": [
            0,
            1,
            2,
            3,
            4,
            5,
            6,
            7,
            8,
            9,
            10,
            11,
            12,
            13,
            14,
            15,
            16,
            17,
            18,
            19,
            20,
            21,
            22,
            23,
            0,
            1,
            2,
            3,
            4,
            5,
            6,
            7,
            8,
            9,
            10,
            11,
            12,
            13,
            14,
            15,
            16,
            17,
            18,
            19,
            20,
            21,
            22,
            23
           ],
           "xaxis": "x2",
           "y": [
            13.53948718,
            15.35212121,
            11.16411765,
            21.224,
            1.504,
            12.53,
            16.85331081,
            15.10840909,
            16.20858639,
            16.58627832,
            15.05296748,
            19.40496732,
            17.77144963,
            15.61563025,
            16.32792388,
            17.20033473,
            15.98716263,
            17.74892966,
            17.90008451,
            13.90472222,
            13.22089474,
            12.18579882,
            11.48517241,
            10.85137931,
            16.17625,
            14.2125,
            14.13615385,
            10.96333333,
            12.96,
            11.792,
            20.34529412,
            15.81761468,
            15.83931818,
            16.18919192,
            16.52456522,
            81.81075342,
            16.02455882,
            17.51263158,
            11.67884211,
            15.86795181,
            14.69038095,
            16.77707692,
            17.50849206,
            11.1901,
            11.71745763,
            10.52981818,
            12.271875,
            10.41785714
           ],
           "yaxis": "y2"
          }
         ],
         "name": "B1"
        },
        {
         "data": [
          {
           "alignmentgroup": "True",
           "hovertemplate": "direction=down<br>floor=B3<br>Local Time (GMT+8)=%{x}<br>sec=%{y}<extra></extra>",
           "legendgroup": "down",
           "marker": {
            "color": "#636efa"
           },
           "name": "down",
           "offsetgroup": "down",
           "orientation": "v",
           "showlegend": true,
           "textposition": "auto",
           "type": "bar",
           "x": [
            6,
            7,
            8,
            9,
            10,
            11,
            12,
            13,
            14,
            15,
            16,
            17,
            18,
            19,
            20,
            6,
            7,
            8,
            9,
            10,
            12,
            13,
            14,
            15,
            16,
            17
           ],
           "xaxis": "x",
           "y": [
            29.868000000000002,
            31.24727273,
            24.27,
            20.03333333,
            9.3925,
            52.4775,
            17.30636364,
            23.05266667,
            25.2,
            30.20416667,
            9.55,
            36.124,
            17.66,
            16.26,
            9.53,
            7.765,
            14.56,
            15.62,
            50.745,
            27.21,
            12.89,
            40.46833333,
            16.7375,
            23.8075,
            17.25,
            19.534000000000002
           ],
           "yaxis": "y"
          },
          {
           "alignmentgroup": "True",
           "hovertemplate": "direction=up<br>floor=B3<br>Local Time (GMT+8)=%{x}<br>sec=%{y}<extra></extra>",
           "legendgroup": "up",
           "marker": {
            "color": "#EF553B"
           },
           "name": "up",
           "offsetgroup": "up",
           "orientation": "v",
           "showlegend": true,
           "textposition": "auto",
           "type": "bar",
           "x": [
            0,
            1,
            4,
            5,
            6,
            7,
            8,
            9,
            10,
            11,
            12,
            13,
            14,
            15,
            16,
            17,
            18,
            19,
            20,
            21,
            22,
            23,
            0,
            1,
            4,
            5,
            6,
            7,
            8,
            9,
            10,
            11,
            12,
            13,
            14,
            15,
            16,
            17,
            18,
            19,
            20,
            21,
            22
           ],
           "xaxis": "x2",
           "y": [
            8.47,
            13.58,
            14.91272727,
            20.67272727,
            20.99064815,
            16.95059233,
            15.48455357,
            18.232418300000003,
            14.11086022,
            16.53384615,
            15.63631579,
            14.63638095,
            15.36850877,
            17.614,
            13.77079545,
            13.67952941,
            16.66576923,
            17.78341463,
            9.468918919,
            14.21090909,
            17.42866667,
            10.014,
            14.03333333,
            23.17,
            10.9025,
            20.78,
            20.91038462,
            14.11378788,
            17.36652174,
            14.5086,
            12.00588235,
            12.41115385,
            14.555,
            14.58272727,
            13.97435897,
            13.0312,
            12.56774194,
            19.1012,
            16.65833333,
            12.36333333,
            12.77916667,
            6.1,
            7.915
           ],
           "yaxis": "y2"
          }
         ],
         "name": "B3"
        },
        {
         "data": [
          {
           "alignmentgroup": "True",
           "hovertemplate": "direction=up<br>floor=B4<br>Local Time (GMT+8)=%{x}<br>sec=%{y}<extra></extra>",
           "legendgroup": "up",
           "marker": {
            "color": "#EF553B"
           },
           "name": "up",
           "offsetgroup": "up",
           "orientation": "v",
           "showlegend": true,
           "textposition": "auto",
           "type": "bar",
           "x": [
            0,
            1,
            2,
            3,
            4,
            5,
            6,
            7,
            8,
            9,
            10,
            11,
            12,
            13,
            14,
            15,
            16,
            17,
            18,
            19,
            20,
            21,
            22,
            23,
            0,
            1,
            2,
            3,
            4,
            5,
            6,
            7,
            8,
            9,
            10,
            11,
            12,
            13,
            14,
            15,
            16,
            17,
            18,
            19,
            20,
            21,
            22,
            23
           ],
           "xaxis": "x2",
           "y": [
            17.68,
            18.72,
            21.20833333,
            20.14333333,
            11.885,
            26.06777778,
            21.23509804,
            21.09967593,
            28.1814902,
            28.935815899999998,
            32.12197309,
            30.19384977,
            28.11128889,
            25.37210317,
            30.85391129,
            39.48711712,
            29.41120755,
            28.59525547,
            19.77994898,
            18.28663366,
            18.63688525,
            10.55,
            7.624166667000001,
            12.47611111,
            14.35,
            21.535,
            18.47,
            11.785,
            1.26,
            25.61,
            20.43,
            20.6172549,
            24.70548387,
            25.64128571,
            53.56923077,
            26.567966100000003,
            23.294761899999997,
            20.79359375,
            30.82557377,
            28.43903846,
            22.41875,
            21.67266667,
            20.15222222,
            10.129375,
            8.113888889,
            5.284,
            9.15,
            14.08615385
           ],
           "yaxis": "y2"
          }
         ],
         "name": "B4"
        }
       ],
       "layout": {
        "annotations": [
         {
          "font": {},
          "showarrow": false,
          "text": "direction=down",
          "x": 0.245,
          "xanchor": "center",
          "xref": "paper",
          "y": 1,
          "yanchor": "bottom",
          "yref": "paper"
         },
         {
          "font": {},
          "showarrow": false,
          "text": "direction=up",
          "x": 0.755,
          "xanchor": "center",
          "xref": "paper",
          "y": 1,
          "yanchor": "bottom",
          "yref": "paper"
         }
        ],
        "barmode": "relative",
        "legend": {
         "title": {
          "text": "direction"
         },
         "tracegroupgap": 0
        },
        "margin": {
         "t": 60
        },
        "sliders": [
         {
          "active": 0,
          "currentvalue": {
           "prefix": "floor="
          },
          "len": 0.9,
          "pad": {
           "b": 10,
           "t": 60
          },
          "steps": [
           {
            "args": [
             [
              "1"
             ],
             {
              "frame": {
               "duration": 0,
               "redraw": true
              },
              "fromcurrent": true,
              "mode": "immediate",
              "transition": {
               "duration": 0,
               "easing": "linear"
              }
             }
            ],
            "label": "1",
            "method": "animate"
           },
           {
            "args": [
             [
              "2"
             ],
             {
              "frame": {
               "duration": 0,
               "redraw": true
              },
              "fromcurrent": true,
              "mode": "immediate",
              "transition": {
               "duration": 0,
               "easing": "linear"
              }
             }
            ],
            "label": "2",
            "method": "animate"
           },
           {
            "args": [
             [
              "3"
             ],
             {
              "frame": {
               "duration": 0,
               "redraw": true
              },
              "fromcurrent": true,
              "mode": "immediate",
              "transition": {
               "duration": 0,
               "easing": "linear"
              }
             }
            ],
            "label": "3",
            "method": "animate"
           },
           {
            "args": [
             [
              "4"
             ],
             {
              "frame": {
               "duration": 0,
               "redraw": true
              },
              "fromcurrent": true,
              "mode": "immediate",
              "transition": {
               "duration": 0,
               "easing": "linear"
              }
             }
            ],
            "label": "4",
            "method": "animate"
           },
           {
            "args": [
             [
              "5"
             ],
             {
              "frame": {
               "duration": 0,
               "redraw": true
              },
              "fromcurrent": true,
              "mode": "immediate",
              "transition": {
               "duration": 0,
               "easing": "linear"
              }
             }
            ],
            "label": "5",
            "method": "animate"
           },
           {
            "args": [
             [
              "6"
             ],
             {
              "frame": {
               "duration": 0,
               "redraw": true
              },
              "fromcurrent": true,
              "mode": "immediate",
              "transition": {
               "duration": 0,
               "easing": "linear"
              }
             }
            ],
            "label": "6",
            "method": "animate"
           },
           {
            "args": [
             [
              "7"
             ],
             {
              "frame": {
               "duration": 0,
               "redraw": true
              },
              "fromcurrent": true,
              "mode": "immediate",
              "transition": {
               "duration": 0,
               "easing": "linear"
              }
             }
            ],
            "label": "7",
            "method": "animate"
           },
           {
            "args": [
             [
              "8"
             ],
             {
              "frame": {
               "duration": 0,
               "redraw": true
              },
              "fromcurrent": true,
              "mode": "immediate",
              "transition": {
               "duration": 0,
               "easing": "linear"
              }
             }
            ],
            "label": "8",
            "method": "animate"
           },
           {
            "args": [
             [
              "9"
             ],
             {
              "frame": {
               "duration": 0,
               "redraw": true
              },
              "fromcurrent": true,
              "mode": "immediate",
              "transition": {
               "duration": 0,
               "easing": "linear"
              }
             }
            ],
            "label": "9",
            "method": "animate"
           },
           {
            "args": [
             [
              "10"
             ],
             {
              "frame": {
               "duration": 0,
               "redraw": true
              },
              "fromcurrent": true,
              "mode": "immediate",
              "transition": {
               "duration": 0,
               "easing": "linear"
              }
             }
            ],
            "label": "10",
            "method": "animate"
           },
           {
            "args": [
             [
              "11"
             ],
             {
              "frame": {
               "duration": 0,
               "redraw": true
              },
              "fromcurrent": true,
              "mode": "immediate",
              "transition": {
               "duration": 0,
               "easing": "linear"
              }
             }
            ],
            "label": "11",
            "method": "animate"
           },
           {
            "args": [
             [
              "12"
             ],
             {
              "frame": {
               "duration": 0,
               "redraw": true
              },
              "fromcurrent": true,
              "mode": "immediate",
              "transition": {
               "duration": 0,
               "easing": "linear"
              }
             }
            ],
            "label": "12",
            "method": "animate"
           },
           {
            "args": [
             [
              "13"
             ],
             {
              "frame": {
               "duration": 0,
               "redraw": true
              },
              "fromcurrent": true,
              "mode": "immediate",
              "transition": {
               "duration": 0,
               "easing": "linear"
              }
             }
            ],
            "label": "13",
            "method": "animate"
           },
           {
            "args": [
             [
              "14"
             ],
             {
              "frame": {
               "duration": 0,
               "redraw": true
              },
              "fromcurrent": true,
              "mode": "immediate",
              "transition": {
               "duration": 0,
               "easing": "linear"
              }
             }
            ],
            "label": "14",
            "method": "animate"
           },
           {
            "args": [
             [
              "15"
             ],
             {
              "frame": {
               "duration": 0,
               "redraw": true
              },
              "fromcurrent": true,
              "mode": "immediate",
              "transition": {
               "duration": 0,
               "easing": "linear"
              }
             }
            ],
            "label": "15",
            "method": "animate"
           },
           {
            "args": [
             [
              "B1"
             ],
             {
              "frame": {
               "duration": 0,
               "redraw": true
              },
              "fromcurrent": true,
              "mode": "immediate",
              "transition": {
               "duration": 0,
               "easing": "linear"
              }
             }
            ],
            "label": "B1",
            "method": "animate"
           },
           {
            "args": [
             [
              "B3"
             ],
             {
              "frame": {
               "duration": 0,
               "redraw": true
              },
              "fromcurrent": true,
              "mode": "immediate",
              "transition": {
               "duration": 0,
               "easing": "linear"
              }
             }
            ],
            "label": "B3",
            "method": "animate"
           },
           {
            "args": [
             [
              "B4"
             ],
             {
              "frame": {
               "duration": 0,
               "redraw": true
              },
              "fromcurrent": true,
              "mode": "immediate",
              "transition": {
               "duration": 0,
               "easing": "linear"
              }
             }
            ],
            "label": "B4",
            "method": "animate"
           }
          ],
          "x": 0.1,
          "xanchor": "left",
          "y": 0,
          "yanchor": "top"
         }
        ],
        "template": {
         "data": {
          "bar": [
           {
            "error_x": {
             "color": "#2a3f5f"
            },
            "error_y": {
             "color": "#2a3f5f"
            },
            "marker": {
             "line": {
              "color": "#E5ECF6",
              "width": 0.5
             }
            },
            "type": "bar"
           }
          ],
          "barpolar": [
           {
            "marker": {
             "line": {
              "color": "#E5ECF6",
              "width": 0.5
             }
            },
            "type": "barpolar"
           }
          ],
          "carpet": [
           {
            "aaxis": {
             "endlinecolor": "#2a3f5f",
             "gridcolor": "white",
             "linecolor": "white",
             "minorgridcolor": "white",
             "startlinecolor": "#2a3f5f"
            },
            "baxis": {
             "endlinecolor": "#2a3f5f",
             "gridcolor": "white",
             "linecolor": "white",
             "minorgridcolor": "white",
             "startlinecolor": "#2a3f5f"
            },
            "type": "carpet"
           }
          ],
          "choropleth": [
           {
            "colorbar": {
             "outlinewidth": 0,
             "ticks": ""
            },
            "type": "choropleth"
           }
          ],
          "contour": [
           {
            "colorbar": {
             "outlinewidth": 0,
             "ticks": ""
            },
            "colorscale": [
             [
              0,
              "#0d0887"
             ],
             [
              0.1111111111111111,
              "#46039f"
             ],
             [
              0.2222222222222222,
              "#7201a8"
             ],
             [
              0.3333333333333333,
              "#9c179e"
             ],
             [
              0.4444444444444444,
              "#bd3786"
             ],
             [
              0.5555555555555556,
              "#d8576b"
             ],
             [
              0.6666666666666666,
              "#ed7953"
             ],
             [
              0.7777777777777778,
              "#fb9f3a"
             ],
             [
              0.8888888888888888,
              "#fdca26"
             ],
             [
              1,
              "#f0f921"
             ]
            ],
            "type": "contour"
           }
          ],
          "contourcarpet": [
           {
            "colorbar": {
             "outlinewidth": 0,
             "ticks": ""
            },
            "type": "contourcarpet"
           }
          ],
          "heatmap": [
           {
            "colorbar": {
             "outlinewidth": 0,
             "ticks": ""
            },
            "colorscale": [
             [
              0,
              "#0d0887"
             ],
             [
              0.1111111111111111,
              "#46039f"
             ],
             [
              0.2222222222222222,
              "#7201a8"
             ],
             [
              0.3333333333333333,
              "#9c179e"
             ],
             [
              0.4444444444444444,
              "#bd3786"
             ],
             [
              0.5555555555555556,
              "#d8576b"
             ],
             [
              0.6666666666666666,
              "#ed7953"
             ],
             [
              0.7777777777777778,
              "#fb9f3a"
             ],
             [
              0.8888888888888888,
              "#fdca26"
             ],
             [
              1,
              "#f0f921"
             ]
            ],
            "type": "heatmap"
           }
          ],
          "heatmapgl": [
           {
            "colorbar": {
             "outlinewidth": 0,
             "ticks": ""
            },
            "colorscale": [
             [
              0,
              "#0d0887"
             ],
             [
              0.1111111111111111,
              "#46039f"
             ],
             [
              0.2222222222222222,
              "#7201a8"
             ],
             [
              0.3333333333333333,
              "#9c179e"
             ],
             [
              0.4444444444444444,
              "#bd3786"
             ],
             [
              0.5555555555555556,
              "#d8576b"
             ],
             [
              0.6666666666666666,
              "#ed7953"
             ],
             [
              0.7777777777777778,
              "#fb9f3a"
             ],
             [
              0.8888888888888888,
              "#fdca26"
             ],
             [
              1,
              "#f0f921"
             ]
            ],
            "type": "heatmapgl"
           }
          ],
          "histogram": [
           {
            "marker": {
             "colorbar": {
              "outlinewidth": 0,
              "ticks": ""
             }
            },
            "type": "histogram"
           }
          ],
          "histogram2d": [
           {
            "colorbar": {
             "outlinewidth": 0,
             "ticks": ""
            },
            "colorscale": [
             [
              0,
              "#0d0887"
             ],
             [
              0.1111111111111111,
              "#46039f"
             ],
             [
              0.2222222222222222,
              "#7201a8"
             ],
             [
              0.3333333333333333,
              "#9c179e"
             ],
             [
              0.4444444444444444,
              "#bd3786"
             ],
             [
              0.5555555555555556,
              "#d8576b"
             ],
             [
              0.6666666666666666,
              "#ed7953"
             ],
             [
              0.7777777777777778,
              "#fb9f3a"
             ],
             [
              0.8888888888888888,
              "#fdca26"
             ],
             [
              1,
              "#f0f921"
             ]
            ],
            "type": "histogram2d"
           }
          ],
          "histogram2dcontour": [
           {
            "colorbar": {
             "outlinewidth": 0,
             "ticks": ""
            },
            "colorscale": [
             [
              0,
              "#0d0887"
             ],
             [
              0.1111111111111111,
              "#46039f"
             ],
             [
              0.2222222222222222,
              "#7201a8"
             ],
             [
              0.3333333333333333,
              "#9c179e"
             ],
             [
              0.4444444444444444,
              "#bd3786"
             ],
             [
              0.5555555555555556,
              "#d8576b"
             ],
             [
              0.6666666666666666,
              "#ed7953"
             ],
             [
              0.7777777777777778,
              "#fb9f3a"
             ],
             [
              0.8888888888888888,
              "#fdca26"
             ],
             [
              1,
              "#f0f921"
             ]
            ],
            "type": "histogram2dcontour"
           }
          ],
          "mesh3d": [
           {
            "colorbar": {
             "outlinewidth": 0,
             "ticks": ""
            },
            "type": "mesh3d"
           }
          ],
          "parcoords": [
           {
            "line": {
             "colorbar": {
              "outlinewidth": 0,
              "ticks": ""
             }
            },
            "type": "parcoords"
           }
          ],
          "pie": [
           {
            "automargin": true,
            "type": "pie"
           }
          ],
          "scatter": [
           {
            "marker": {
             "colorbar": {
              "outlinewidth": 0,
              "ticks": ""
             }
            },
            "type": "scatter"
           }
          ],
          "scatter3d": [
           {
            "line": {
             "colorbar": {
              "outlinewidth": 0,
              "ticks": ""
             }
            },
            "marker": {
             "colorbar": {
              "outlinewidth": 0,
              "ticks": ""
             }
            },
            "type": "scatter3d"
           }
          ],
          "scattercarpet": [
           {
            "marker": {
             "colorbar": {
              "outlinewidth": 0,
              "ticks": ""
             }
            },
            "type": "scattercarpet"
           }
          ],
          "scattergeo": [
           {
            "marker": {
             "colorbar": {
              "outlinewidth": 0,
              "ticks": ""
             }
            },
            "type": "scattergeo"
           }
          ],
          "scattergl": [
           {
            "marker": {
             "colorbar": {
              "outlinewidth": 0,
              "ticks": ""
             }
            },
            "type": "scattergl"
           }
          ],
          "scattermapbox": [
           {
            "marker": {
             "colorbar": {
              "outlinewidth": 0,
              "ticks": ""
             }
            },
            "type": "scattermapbox"
           }
          ],
          "scatterpolar": [
           {
            "marker": {
             "colorbar": {
              "outlinewidth": 0,
              "ticks": ""
             }
            },
            "type": "scatterpolar"
           }
          ],
          "scatterpolargl": [
           {
            "marker": {
             "colorbar": {
              "outlinewidth": 0,
              "ticks": ""
             }
            },
            "type": "scatterpolargl"
           }
          ],
          "scatterternary": [
           {
            "marker": {
             "colorbar": {
              "outlinewidth": 0,
              "ticks": ""
             }
            },
            "type": "scatterternary"
           }
          ],
          "surface": [
           {
            "colorbar": {
             "outlinewidth": 0,
             "ticks": ""
            },
            "colorscale": [
             [
              0,
              "#0d0887"
             ],
             [
              0.1111111111111111,
              "#46039f"
             ],
             [
              0.2222222222222222,
              "#7201a8"
             ],
             [
              0.3333333333333333,
              "#9c179e"
             ],
             [
              0.4444444444444444,
              "#bd3786"
             ],
             [
              0.5555555555555556,
              "#d8576b"
             ],
             [
              0.6666666666666666,
              "#ed7953"
             ],
             [
              0.7777777777777778,
              "#fb9f3a"
             ],
             [
              0.8888888888888888,
              "#fdca26"
             ],
             [
              1,
              "#f0f921"
             ]
            ],
            "type": "surface"
           }
          ],
          "table": [
           {
            "cells": {
             "fill": {
              "color": "#EBF0F8"
             },
             "line": {
              "color": "white"
             }
            },
            "header": {
             "fill": {
              "color": "#C8D4E3"
             },
             "line": {
              "color": "white"
             }
            },
            "type": "table"
           }
          ]
         },
         "layout": {
          "annotationdefaults": {
           "arrowcolor": "#2a3f5f",
           "arrowhead": 0,
           "arrowwidth": 1
          },
          "coloraxis": {
           "colorbar": {
            "outlinewidth": 0,
            "ticks": ""
           }
          },
          "colorscale": {
           "diverging": [
            [
             0,
             "#8e0152"
            ],
            [
             0.1,
             "#c51b7d"
            ],
            [
             0.2,
             "#de77ae"
            ],
            [
             0.3,
             "#f1b6da"
            ],
            [
             0.4,
             "#fde0ef"
            ],
            [
             0.5,
             "#f7f7f7"
            ],
            [
             0.6,
             "#e6f5d0"
            ],
            [
             0.7,
             "#b8e186"
            ],
            [
             0.8,
             "#7fbc41"
            ],
            [
             0.9,
             "#4d9221"
            ],
            [
             1,
             "#276419"
            ]
           ],
           "sequential": [
            [
             0,
             "#0d0887"
            ],
            [
             0.1111111111111111,
             "#46039f"
            ],
            [
             0.2222222222222222,
             "#7201a8"
            ],
            [
             0.3333333333333333,
             "#9c179e"
            ],
            [
             0.4444444444444444,
             "#bd3786"
            ],
            [
             0.5555555555555556,
             "#d8576b"
            ],
            [
             0.6666666666666666,
             "#ed7953"
            ],
            [
             0.7777777777777778,
             "#fb9f3a"
            ],
            [
             0.8888888888888888,
             "#fdca26"
            ],
            [
             1,
             "#f0f921"
            ]
           ],
           "sequentialminus": [
            [
             0,
             "#0d0887"
            ],
            [
             0.1111111111111111,
             "#46039f"
            ],
            [
             0.2222222222222222,
             "#7201a8"
            ],
            [
             0.3333333333333333,
             "#9c179e"
            ],
            [
             0.4444444444444444,
             "#bd3786"
            ],
            [
             0.5555555555555556,
             "#d8576b"
            ],
            [
             0.6666666666666666,
             "#ed7953"
            ],
            [
             0.7777777777777778,
             "#fb9f3a"
            ],
            [
             0.8888888888888888,
             "#fdca26"
            ],
            [
             1,
             "#f0f921"
            ]
           ]
          },
          "colorway": [
           "#636efa",
           "#EF553B",
           "#00cc96",
           "#ab63fa",
           "#FFA15A",
           "#19d3f3",
           "#FF6692",
           "#B6E880",
           "#FF97FF",
           "#FECB52"
          ],
          "font": {
           "color": "#2a3f5f"
          },
          "geo": {
           "bgcolor": "white",
           "lakecolor": "white",
           "landcolor": "#E5ECF6",
           "showlakes": true,
           "showland": true,
           "subunitcolor": "white"
          },
          "hoverlabel": {
           "align": "left"
          },
          "hovermode": "closest",
          "mapbox": {
           "style": "light"
          },
          "paper_bgcolor": "white",
          "plot_bgcolor": "#E5ECF6",
          "polar": {
           "angularaxis": {
            "gridcolor": "white",
            "linecolor": "white",
            "ticks": ""
           },
           "bgcolor": "#E5ECF6",
           "radialaxis": {
            "gridcolor": "white",
            "linecolor": "white",
            "ticks": ""
           }
          },
          "scene": {
           "xaxis": {
            "backgroundcolor": "#E5ECF6",
            "gridcolor": "white",
            "gridwidth": 2,
            "linecolor": "white",
            "showbackground": true,
            "ticks": "",
            "zerolinecolor": "white"
           },
           "yaxis": {
            "backgroundcolor": "#E5ECF6",
            "gridcolor": "white",
            "gridwidth": 2,
            "linecolor": "white",
            "showbackground": true,
            "ticks": "",
            "zerolinecolor": "white"
           },
           "zaxis": {
            "backgroundcolor": "#E5ECF6",
            "gridcolor": "white",
            "gridwidth": 2,
            "linecolor": "white",
            "showbackground": true,
            "ticks": "",
            "zerolinecolor": "white"
           }
          },
          "shapedefaults": {
           "line": {
            "color": "#2a3f5f"
           }
          },
          "ternary": {
           "aaxis": {
            "gridcolor": "white",
            "linecolor": "white",
            "ticks": ""
           },
           "baxis": {
            "gridcolor": "white",
            "linecolor": "white",
            "ticks": ""
           },
           "bgcolor": "#E5ECF6",
           "caxis": {
            "gridcolor": "white",
            "linecolor": "white",
            "ticks": ""
           }
          },
          "title": {
           "x": 0.05
          },
          "xaxis": {
           "automargin": true,
           "gridcolor": "white",
           "linecolor": "white",
           "ticks": "",
           "title": {
            "standoff": 15
           },
           "zerolinecolor": "white",
           "zerolinewidth": 2
          },
          "yaxis": {
           "automargin": true,
           "gridcolor": "white",
           "linecolor": "white",
           "ticks": "",
           "title": {
            "standoff": 15
           },
           "zerolinecolor": "white",
           "zerolinewidth": 2
          }
         }
        },
        "title": {
         "text": "Frequency of Elevator Calls by Time"
        },
        "updatemenus": [
         {
          "buttons": [
           {
            "args": [
             null,
             {
              "frame": {
               "duration": 500,
               "redraw": true
              },
              "fromcurrent": true,
              "mode": "immediate",
              "transition": {
               "duration": 500,
               "easing": "linear"
              }
             }
            ],
            "label": "&#9654;",
            "method": "animate"
           },
           {
            "args": [
             [
              null
             ],
             {
              "frame": {
               "duration": 0,
               "redraw": true
              },
              "fromcurrent": true,
              "mode": "immediate",
              "transition": {
               "duration": 0,
               "easing": "linear"
              }
             }
            ],
            "label": "&#9724;",
            "method": "animate"
           }
          ],
          "direction": "left",
          "pad": {
           "r": 10,
           "t": 70
          },
          "showactive": false,
          "type": "buttons",
          "x": 0.1,
          "xanchor": "right",
          "y": 0,
          "yanchor": "top"
         }
        ],
        "xaxis": {
         "anchor": "y",
         "categoryarray": [
          0,
          24
         ],
         "domain": [
          0,
          0.49
         ],
         "nticks": 19,
         "title": {
          "text": "Local Time (GMT+8)"
         },
         "type": "category"
        },
        "xaxis2": {
         "anchor": "y2",
         "categoryarray": [
          0,
          24
         ],
         "domain": [
          0.51,
          1
         ],
         "matches": "x",
         "nticks": 19,
         "title": {
          "text": "Local Time (GMT+8)"
         },
         "type": "category"
        },
        "yaxis": {
         "anchor": "x",
         "domain": [
          0,
          1
         ],
         "range": [
          0,
          300
         ],
         "title": {
          "text": "sec"
         }
        },
        "yaxis2": {
         "anchor": "x2",
         "domain": [
          0,
          1
         ],
         "matches": "y",
         "range": [
          0,
          300
         ],
         "showticklabels": false
        }
       }
      },
      "text/html": [
       "<div>\n",
       "        \n",
       "        \n",
       "            <div id=\"307b73e6-e03a-4fc4-9207-1d827ced02e2\" class=\"plotly-graph-div\" style=\"height:525px; width:100%;\"></div>\n",
       "            <script type=\"text/javascript\">\n",
       "                require([\"plotly\"], function(Plotly) {\n",
       "                    window.PLOTLYENV=window.PLOTLYENV || {};\n",
       "                    \n",
       "                if (document.getElementById(\"307b73e6-e03a-4fc4-9207-1d827ced02e2\")) {\n",
       "                    Plotly.newPlot(\n",
       "                        '307b73e6-e03a-4fc4-9207-1d827ced02e2',\n",
       "                        [{\"alignmentgroup\": \"True\", \"hovertemplate\": \"direction=down<br>floor=1<br>Local Time (GMT+8)=%{x}<br>sec=%{y}<extra></extra>\", \"legendgroup\": \"down\", \"marker\": {\"color\": \"#636efa\"}, \"name\": \"down\", \"offsetgroup\": \"down\", \"orientation\": \"v\", \"showlegend\": true, \"textposition\": \"auto\", \"type\": \"bar\", \"x\": [0, 1, 2, 3, 4, 5, 6, 7, 8, 9, 10, 11, 12, 13, 14, 15, 16, 17, 18, 19, 20, 21, 22, 23, 3, 6, 7, 8, 9, 10, 11, 12, 13, 14, 15, 16, 17, 18, 19, 20, 21, 22, 23], \"xaxis\": \"x\", \"y\": [8.03, 8.425, 9.365, 19.94333333, 0.67, 25.10833333, 24.06220779, 33.54444444, 30.01764706, 18.44009901, 22.38050505, 16.186875, 26.69333333, 24.9458, 24.87350877, 25.07018349, 20.94330189, 22.0454918, 16.54274194, 14.9778, 12.75555556, 7.246, 10.5852381, 7.184, 23.4, 27.48888889, 25.21860465, 32.988, 17.761875, 14.25153846, 13.68166667, 15.35604651, 26.87517241, 7.9741379310000005, 20.53694444, 16.18885714, 24.63447368, 24.48409091, 15.35380952, 8.338888889, 9.001666667, 5.687777777999999, 13.0575], \"yaxis\": \"y\"}, {\"alignmentgroup\": \"True\", \"hovertemplate\": \"direction=up<br>floor=1<br>Local Time (GMT+8)=%{x}<br>sec=%{y}<extra></extra>\", \"legendgroup\": \"up\", \"marker\": {\"color\": \"#EF553B\"}, \"name\": \"up\", \"offsetgroup\": \"up\", \"orientation\": \"v\", \"showlegend\": true, \"textposition\": \"auto\", \"type\": \"bar\", \"x\": [0, 1, 2, 3, 4, 5, 6, 7, 8, 9, 10, 11, 12, 13, 14, 15, 16, 17, 18, 19, 20, 21, 22, 23, 0, 1, 2, 3, 5, 6, 7, 8, 9, 10, 11, 12, 13, 14, 15, 16, 17, 18, 19, 20, 21, 22, 23], \"xaxis\": \"x2\", \"y\": [3.78375, 11.136, 10.36, 15.75, 8.65, 16.08909091, 16.92088154, 13.09365169, 12.07878995, 13.38857143, 13.70707395, 11.20741135, 12.53194842, 12.30185507, 14.29804487, 13.24454849, 13.46622951, 14.245849800000002, 15.24994709, 12.24307692, 11.075999999999999, 9.712916667, 9.361983471, 12.37666667, 9.79, 14.395, 12.97666667, 15.83, 13.24833333, 18.0916, 16.88640212, 13.83130178, 11.574202900000001, 12.36534884, 11.43811966, 15.12217391, 13.09168224, 9.164736842, 14.0507, 14.86240741, 14.5425, 12.51275862, 10.70207547, 13.34707317, 11.84181818, 9.648979592, 6.954705882000001], \"yaxis\": \"y2\"}],\n",
       "                        {\"annotations\": [{\"font\": {}, \"showarrow\": false, \"text\": \"direction=down\", \"x\": 0.245, \"xanchor\": \"center\", \"xref\": \"paper\", \"y\": 1.0, \"yanchor\": \"bottom\", \"yref\": \"paper\"}, {\"font\": {}, \"showarrow\": false, \"text\": \"direction=up\", \"x\": 0.755, \"xanchor\": \"center\", \"xref\": \"paper\", \"y\": 1.0, \"yanchor\": \"bottom\", \"yref\": \"paper\"}], \"barmode\": \"relative\", \"legend\": {\"title\": {\"text\": \"direction\"}, \"tracegroupgap\": 0}, \"margin\": {\"t\": 60}, \"sliders\": [{\"active\": 0, \"currentvalue\": {\"prefix\": \"floor=\"}, \"len\": 0.9, \"pad\": {\"b\": 10, \"t\": 60}, \"steps\": [{\"args\": [[\"1\"], {\"frame\": {\"duration\": 0, \"redraw\": true}, \"fromcurrent\": true, \"mode\": \"immediate\", \"transition\": {\"duration\": 0, \"easing\": \"linear\"}}], \"label\": \"1\", \"method\": \"animate\"}, {\"args\": [[\"2\"], {\"frame\": {\"duration\": 0, \"redraw\": true}, \"fromcurrent\": true, \"mode\": \"immediate\", \"transition\": {\"duration\": 0, \"easing\": \"linear\"}}], \"label\": \"2\", \"method\": \"animate\"}, {\"args\": [[\"3\"], {\"frame\": {\"duration\": 0, \"redraw\": true}, \"fromcurrent\": true, \"mode\": \"immediate\", \"transition\": {\"duration\": 0, \"easing\": \"linear\"}}], \"label\": \"3\", \"method\": \"animate\"}, {\"args\": [[\"4\"], {\"frame\": {\"duration\": 0, \"redraw\": true}, \"fromcurrent\": true, \"mode\": \"immediate\", \"transition\": {\"duration\": 0, \"easing\": \"linear\"}}], \"label\": \"4\", \"method\": \"animate\"}, {\"args\": [[\"5\"], {\"frame\": {\"duration\": 0, \"redraw\": true}, \"fromcurrent\": true, \"mode\": \"immediate\", \"transition\": {\"duration\": 0, \"easing\": \"linear\"}}], \"label\": \"5\", \"method\": \"animate\"}, {\"args\": [[\"6\"], {\"frame\": {\"duration\": 0, \"redraw\": true}, \"fromcurrent\": true, \"mode\": \"immediate\", \"transition\": {\"duration\": 0, \"easing\": \"linear\"}}], \"label\": \"6\", \"method\": \"animate\"}, {\"args\": [[\"7\"], {\"frame\": {\"duration\": 0, \"redraw\": true}, \"fromcurrent\": true, \"mode\": \"immediate\", \"transition\": {\"duration\": 0, \"easing\": \"linear\"}}], \"label\": \"7\", \"method\": \"animate\"}, {\"args\": [[\"8\"], {\"frame\": {\"duration\": 0, \"redraw\": true}, \"fromcurrent\": true, \"mode\": \"immediate\", \"transition\": {\"duration\": 0, \"easing\": \"linear\"}}], \"label\": \"8\", \"method\": \"animate\"}, {\"args\": [[\"9\"], {\"frame\": {\"duration\": 0, \"redraw\": true}, \"fromcurrent\": true, \"mode\": \"immediate\", \"transition\": {\"duration\": 0, \"easing\": \"linear\"}}], \"label\": \"9\", \"method\": \"animate\"}, {\"args\": [[\"10\"], {\"frame\": {\"duration\": 0, \"redraw\": true}, \"fromcurrent\": true, \"mode\": \"immediate\", \"transition\": {\"duration\": 0, \"easing\": \"linear\"}}], \"label\": \"10\", \"method\": \"animate\"}, {\"args\": [[\"11\"], {\"frame\": {\"duration\": 0, \"redraw\": true}, \"fromcurrent\": true, \"mode\": \"immediate\", \"transition\": {\"duration\": 0, \"easing\": \"linear\"}}], \"label\": \"11\", \"method\": \"animate\"}, {\"args\": [[\"12\"], {\"frame\": {\"duration\": 0, \"redraw\": true}, \"fromcurrent\": true, \"mode\": \"immediate\", \"transition\": {\"duration\": 0, \"easing\": \"linear\"}}], \"label\": \"12\", \"method\": \"animate\"}, {\"args\": [[\"13\"], {\"frame\": {\"duration\": 0, \"redraw\": true}, \"fromcurrent\": true, \"mode\": \"immediate\", \"transition\": {\"duration\": 0, \"easing\": \"linear\"}}], \"label\": \"13\", \"method\": \"animate\"}, {\"args\": [[\"14\"], {\"frame\": {\"duration\": 0, \"redraw\": true}, \"fromcurrent\": true, \"mode\": \"immediate\", \"transition\": {\"duration\": 0, \"easing\": \"linear\"}}], \"label\": \"14\", \"method\": \"animate\"}, {\"args\": [[\"15\"], {\"frame\": {\"duration\": 0, \"redraw\": true}, \"fromcurrent\": true, \"mode\": \"immediate\", \"transition\": {\"duration\": 0, \"easing\": \"linear\"}}], \"label\": \"15\", \"method\": \"animate\"}, {\"args\": [[\"B1\"], {\"frame\": {\"duration\": 0, \"redraw\": true}, \"fromcurrent\": true, \"mode\": \"immediate\", \"transition\": {\"duration\": 0, \"easing\": \"linear\"}}], \"label\": \"B1\", \"method\": \"animate\"}, {\"args\": [[\"B3\"], {\"frame\": {\"duration\": 0, \"redraw\": true}, \"fromcurrent\": true, \"mode\": \"immediate\", \"transition\": {\"duration\": 0, \"easing\": \"linear\"}}], \"label\": \"B3\", \"method\": \"animate\"}, {\"args\": [[\"B4\"], {\"frame\": {\"duration\": 0, \"redraw\": true}, \"fromcurrent\": true, \"mode\": \"immediate\", \"transition\": {\"duration\": 0, \"easing\": \"linear\"}}], \"label\": \"B4\", \"method\": \"animate\"}], \"x\": 0.1, \"xanchor\": \"left\", \"y\": 0, \"yanchor\": \"top\"}], \"template\": {\"data\": {\"bar\": [{\"error_x\": {\"color\": \"#2a3f5f\"}, \"error_y\": {\"color\": \"#2a3f5f\"}, \"marker\": {\"line\": {\"color\": \"#E5ECF6\", \"width\": 0.5}}, \"type\": \"bar\"}], \"barpolar\": [{\"marker\": {\"line\": {\"color\": \"#E5ECF6\", \"width\": 0.5}}, \"type\": \"barpolar\"}], \"carpet\": [{\"aaxis\": {\"endlinecolor\": \"#2a3f5f\", \"gridcolor\": \"white\", \"linecolor\": \"white\", \"minorgridcolor\": \"white\", \"startlinecolor\": \"#2a3f5f\"}, \"baxis\": {\"endlinecolor\": \"#2a3f5f\", \"gridcolor\": \"white\", \"linecolor\": \"white\", \"minorgridcolor\": \"white\", \"startlinecolor\": \"#2a3f5f\"}, \"type\": \"carpet\"}], \"choropleth\": [{\"colorbar\": {\"outlinewidth\": 0, \"ticks\": \"\"}, \"type\": \"choropleth\"}], \"contour\": [{\"colorbar\": {\"outlinewidth\": 0, \"ticks\": \"\"}, \"colorscale\": [[0.0, \"#0d0887\"], [0.1111111111111111, \"#46039f\"], [0.2222222222222222, \"#7201a8\"], [0.3333333333333333, \"#9c179e\"], [0.4444444444444444, \"#bd3786\"], [0.5555555555555556, \"#d8576b\"], [0.6666666666666666, \"#ed7953\"], [0.7777777777777778, \"#fb9f3a\"], [0.8888888888888888, \"#fdca26\"], [1.0, \"#f0f921\"]], \"type\": \"contour\"}], \"contourcarpet\": [{\"colorbar\": {\"outlinewidth\": 0, \"ticks\": \"\"}, \"type\": \"contourcarpet\"}], \"heatmap\": [{\"colorbar\": {\"outlinewidth\": 0, \"ticks\": \"\"}, \"colorscale\": [[0.0, \"#0d0887\"], [0.1111111111111111, \"#46039f\"], [0.2222222222222222, \"#7201a8\"], [0.3333333333333333, \"#9c179e\"], [0.4444444444444444, \"#bd3786\"], [0.5555555555555556, \"#d8576b\"], [0.6666666666666666, \"#ed7953\"], [0.7777777777777778, \"#fb9f3a\"], [0.8888888888888888, \"#fdca26\"], [1.0, \"#f0f921\"]], \"type\": \"heatmap\"}], \"heatmapgl\": [{\"colorbar\": {\"outlinewidth\": 0, \"ticks\": \"\"}, \"colorscale\": [[0.0, \"#0d0887\"], [0.1111111111111111, \"#46039f\"], [0.2222222222222222, \"#7201a8\"], [0.3333333333333333, \"#9c179e\"], [0.4444444444444444, \"#bd3786\"], [0.5555555555555556, \"#d8576b\"], [0.6666666666666666, \"#ed7953\"], [0.7777777777777778, \"#fb9f3a\"], [0.8888888888888888, \"#fdca26\"], [1.0, \"#f0f921\"]], \"type\": \"heatmapgl\"}], \"histogram\": [{\"marker\": {\"colorbar\": {\"outlinewidth\": 0, \"ticks\": \"\"}}, \"type\": \"histogram\"}], \"histogram2d\": [{\"colorbar\": {\"outlinewidth\": 0, \"ticks\": \"\"}, \"colorscale\": [[0.0, \"#0d0887\"], [0.1111111111111111, \"#46039f\"], [0.2222222222222222, \"#7201a8\"], [0.3333333333333333, \"#9c179e\"], [0.4444444444444444, \"#bd3786\"], [0.5555555555555556, \"#d8576b\"], [0.6666666666666666, \"#ed7953\"], [0.7777777777777778, \"#fb9f3a\"], [0.8888888888888888, \"#fdca26\"], [1.0, \"#f0f921\"]], \"type\": \"histogram2d\"}], \"histogram2dcontour\": [{\"colorbar\": {\"outlinewidth\": 0, \"ticks\": \"\"}, \"colorscale\": [[0.0, \"#0d0887\"], [0.1111111111111111, \"#46039f\"], [0.2222222222222222, \"#7201a8\"], [0.3333333333333333, \"#9c179e\"], [0.4444444444444444, \"#bd3786\"], [0.5555555555555556, \"#d8576b\"], [0.6666666666666666, \"#ed7953\"], [0.7777777777777778, \"#fb9f3a\"], [0.8888888888888888, \"#fdca26\"], [1.0, \"#f0f921\"]], \"type\": \"histogram2dcontour\"}], \"mesh3d\": [{\"colorbar\": {\"outlinewidth\": 0, \"ticks\": \"\"}, \"type\": \"mesh3d\"}], \"parcoords\": [{\"line\": {\"colorbar\": {\"outlinewidth\": 0, \"ticks\": \"\"}}, \"type\": \"parcoords\"}], \"pie\": [{\"automargin\": true, \"type\": \"pie\"}], \"scatter\": [{\"marker\": {\"colorbar\": {\"outlinewidth\": 0, \"ticks\": \"\"}}, \"type\": \"scatter\"}], \"scatter3d\": [{\"line\": {\"colorbar\": {\"outlinewidth\": 0, \"ticks\": \"\"}}, \"marker\": {\"colorbar\": {\"outlinewidth\": 0, \"ticks\": \"\"}}, \"type\": \"scatter3d\"}], \"scattercarpet\": [{\"marker\": {\"colorbar\": {\"outlinewidth\": 0, \"ticks\": \"\"}}, \"type\": \"scattercarpet\"}], \"scattergeo\": [{\"marker\": {\"colorbar\": {\"outlinewidth\": 0, \"ticks\": \"\"}}, \"type\": \"scattergeo\"}], \"scattergl\": [{\"marker\": {\"colorbar\": {\"outlinewidth\": 0, \"ticks\": \"\"}}, \"type\": \"scattergl\"}], \"scattermapbox\": [{\"marker\": {\"colorbar\": {\"outlinewidth\": 0, \"ticks\": \"\"}}, \"type\": \"scattermapbox\"}], \"scatterpolar\": [{\"marker\": {\"colorbar\": {\"outlinewidth\": 0, \"ticks\": \"\"}}, \"type\": \"scatterpolar\"}], \"scatterpolargl\": [{\"marker\": {\"colorbar\": {\"outlinewidth\": 0, \"ticks\": \"\"}}, \"type\": \"scatterpolargl\"}], \"scatterternary\": [{\"marker\": {\"colorbar\": {\"outlinewidth\": 0, \"ticks\": \"\"}}, \"type\": \"scatterternary\"}], \"surface\": [{\"colorbar\": {\"outlinewidth\": 0, \"ticks\": \"\"}, \"colorscale\": [[0.0, \"#0d0887\"], [0.1111111111111111, \"#46039f\"], [0.2222222222222222, \"#7201a8\"], [0.3333333333333333, \"#9c179e\"], [0.4444444444444444, \"#bd3786\"], [0.5555555555555556, \"#d8576b\"], [0.6666666666666666, \"#ed7953\"], [0.7777777777777778, \"#fb9f3a\"], [0.8888888888888888, \"#fdca26\"], [1.0, \"#f0f921\"]], \"type\": \"surface\"}], \"table\": [{\"cells\": {\"fill\": {\"color\": \"#EBF0F8\"}, \"line\": {\"color\": \"white\"}}, \"header\": {\"fill\": {\"color\": \"#C8D4E3\"}, \"line\": {\"color\": \"white\"}}, \"type\": \"table\"}]}, \"layout\": {\"annotationdefaults\": {\"arrowcolor\": \"#2a3f5f\", \"arrowhead\": 0, \"arrowwidth\": 1}, \"coloraxis\": {\"colorbar\": {\"outlinewidth\": 0, \"ticks\": \"\"}}, \"colorscale\": {\"diverging\": [[0, \"#8e0152\"], [0.1, \"#c51b7d\"], [0.2, \"#de77ae\"], [0.3, \"#f1b6da\"], [0.4, \"#fde0ef\"], [0.5, \"#f7f7f7\"], [0.6, \"#e6f5d0\"], [0.7, \"#b8e186\"], [0.8, \"#7fbc41\"], [0.9, \"#4d9221\"], [1, \"#276419\"]], \"sequential\": [[0.0, \"#0d0887\"], [0.1111111111111111, \"#46039f\"], [0.2222222222222222, \"#7201a8\"], [0.3333333333333333, \"#9c179e\"], [0.4444444444444444, \"#bd3786\"], [0.5555555555555556, \"#d8576b\"], [0.6666666666666666, \"#ed7953\"], [0.7777777777777778, \"#fb9f3a\"], [0.8888888888888888, \"#fdca26\"], [1.0, \"#f0f921\"]], \"sequentialminus\": [[0.0, \"#0d0887\"], [0.1111111111111111, \"#46039f\"], [0.2222222222222222, \"#7201a8\"], [0.3333333333333333, \"#9c179e\"], [0.4444444444444444, \"#bd3786\"], [0.5555555555555556, \"#d8576b\"], [0.6666666666666666, \"#ed7953\"], [0.7777777777777778, \"#fb9f3a\"], [0.8888888888888888, \"#fdca26\"], [1.0, \"#f0f921\"]]}, \"colorway\": [\"#636efa\", \"#EF553B\", \"#00cc96\", \"#ab63fa\", \"#FFA15A\", \"#19d3f3\", \"#FF6692\", \"#B6E880\", \"#FF97FF\", \"#FECB52\"], \"font\": {\"color\": \"#2a3f5f\"}, \"geo\": {\"bgcolor\": \"white\", \"lakecolor\": \"white\", \"landcolor\": \"#E5ECF6\", \"showlakes\": true, \"showland\": true, \"subunitcolor\": \"white\"}, \"hoverlabel\": {\"align\": \"left\"}, \"hovermode\": \"closest\", \"mapbox\": {\"style\": \"light\"}, \"paper_bgcolor\": \"white\", \"plot_bgcolor\": \"#E5ECF6\", \"polar\": {\"angularaxis\": {\"gridcolor\": \"white\", \"linecolor\": \"white\", \"ticks\": \"\"}, \"bgcolor\": \"#E5ECF6\", \"radialaxis\": {\"gridcolor\": \"white\", \"linecolor\": \"white\", \"ticks\": \"\"}}, \"scene\": {\"xaxis\": {\"backgroundcolor\": \"#E5ECF6\", \"gridcolor\": \"white\", \"gridwidth\": 2, \"linecolor\": \"white\", \"showbackground\": true, \"ticks\": \"\", \"zerolinecolor\": \"white\"}, \"yaxis\": {\"backgroundcolor\": \"#E5ECF6\", \"gridcolor\": \"white\", \"gridwidth\": 2, \"linecolor\": \"white\", \"showbackground\": true, \"ticks\": \"\", \"zerolinecolor\": \"white\"}, \"zaxis\": {\"backgroundcolor\": \"#E5ECF6\", \"gridcolor\": \"white\", \"gridwidth\": 2, \"linecolor\": \"white\", \"showbackground\": true, \"ticks\": \"\", \"zerolinecolor\": \"white\"}}, \"shapedefaults\": {\"line\": {\"color\": \"#2a3f5f\"}}, \"ternary\": {\"aaxis\": {\"gridcolor\": \"white\", \"linecolor\": \"white\", \"ticks\": \"\"}, \"baxis\": {\"gridcolor\": \"white\", \"linecolor\": \"white\", \"ticks\": \"\"}, \"bgcolor\": \"#E5ECF6\", \"caxis\": {\"gridcolor\": \"white\", \"linecolor\": \"white\", \"ticks\": \"\"}}, \"title\": {\"x\": 0.05}, \"xaxis\": {\"automargin\": true, \"gridcolor\": \"white\", \"linecolor\": \"white\", \"ticks\": \"\", \"title\": {\"standoff\": 15}, \"zerolinecolor\": \"white\", \"zerolinewidth\": 2}, \"yaxis\": {\"automargin\": true, \"gridcolor\": \"white\", \"linecolor\": \"white\", \"ticks\": \"\", \"title\": {\"standoff\": 15}, \"zerolinecolor\": \"white\", \"zerolinewidth\": 2}}}, \"title\": {\"text\": \"Frequency of Elevator Calls by Time\"}, \"updatemenus\": [{\"buttons\": [{\"args\": [null, {\"frame\": {\"duration\": 500, \"redraw\": true}, \"fromcurrent\": true, \"mode\": \"immediate\", \"transition\": {\"duration\": 500, \"easing\": \"linear\"}}], \"label\": \"&#9654;\", \"method\": \"animate\"}, {\"args\": [[null], {\"frame\": {\"duration\": 0, \"redraw\": true}, \"fromcurrent\": true, \"mode\": \"immediate\", \"transition\": {\"duration\": 0, \"easing\": \"linear\"}}], \"label\": \"&#9724;\", \"method\": \"animate\"}], \"direction\": \"left\", \"pad\": {\"r\": 10, \"t\": 70}, \"showactive\": false, \"type\": \"buttons\", \"x\": 0.1, \"xanchor\": \"right\", \"y\": 0, \"yanchor\": \"top\"}], \"xaxis\": {\"anchor\": \"y\", \"categoryarray\": [0, 24], \"domain\": [0.0, 0.49], \"nticks\": 19, \"title\": {\"text\": \"Local Time (GMT+8)\"}, \"type\": \"category\"}, \"xaxis2\": {\"anchor\": \"y2\", \"categoryarray\": [0, 24], \"domain\": [0.51, 1.0], \"matches\": \"x\", \"nticks\": 19, \"title\": {\"text\": \"Local Time (GMT+8)\"}, \"type\": \"category\"}, \"yaxis\": {\"anchor\": \"x\", \"domain\": [0.0, 1.0], \"range\": [0, 300], \"title\": {\"text\": \"sec\"}}, \"yaxis2\": {\"anchor\": \"x2\", \"domain\": [0.0, 1.0], \"matches\": \"y\", \"range\": [0, 300], \"showticklabels\": false}},\n",
       "                        {\"responsive\": true}\n",
       "                    ).then(function(){\n",
       "                            Plotly.addFrames('307b73e6-e03a-4fc4-9207-1d827ced02e2', [{\"data\": [{\"alignmentgroup\": \"True\", \"hovertemplate\": \"direction=down<br>floor=1<br>Local Time (GMT+8)=%{x}<br>sec=%{y}<extra></extra>\", \"legendgroup\": \"down\", \"marker\": {\"color\": \"#636efa\"}, \"name\": \"down\", \"offsetgroup\": \"down\", \"orientation\": \"v\", \"showlegend\": true, \"textposition\": \"auto\", \"x\": [0, 1, 2, 3, 4, 5, 6, 7, 8, 9, 10, 11, 12, 13, 14, 15, 16, 17, 18, 19, 20, 21, 22, 23, 3, 6, 7, 8, 9, 10, 11, 12, 13, 14, 15, 16, 17, 18, 19, 20, 21, 22, 23], \"xaxis\": \"x\", \"y\": [8.03, 8.425, 9.365, 19.94333333, 0.67, 25.10833333, 24.06220779, 33.54444444, 30.01764706, 18.44009901, 22.38050505, 16.186875, 26.69333333, 24.9458, 24.87350877, 25.07018349, 20.94330189, 22.0454918, 16.54274194, 14.9778, 12.75555556, 7.246, 10.5852381, 7.184, 23.4, 27.48888889, 25.21860465, 32.988, 17.761875, 14.25153846, 13.68166667, 15.35604651, 26.87517241, 7.9741379310000005, 20.53694444, 16.18885714, 24.63447368, 24.48409091, 15.35380952, 8.338888889, 9.001666667, 5.687777777999999, 13.0575], \"yaxis\": \"y\", \"type\": \"bar\"}, {\"alignmentgroup\": \"True\", \"hovertemplate\": \"direction=up<br>floor=1<br>Local Time (GMT+8)=%{x}<br>sec=%{y}<extra></extra>\", \"legendgroup\": \"up\", \"marker\": {\"color\": \"#EF553B\"}, \"name\": \"up\", \"offsetgroup\": \"up\", \"orientation\": \"v\", \"showlegend\": true, \"textposition\": \"auto\", \"x\": [0, 1, 2, 3, 4, 5, 6, 7, 8, 9, 10, 11, 12, 13, 14, 15, 16, 17, 18, 19, 20, 21, 22, 23, 0, 1, 2, 3, 5, 6, 7, 8, 9, 10, 11, 12, 13, 14, 15, 16, 17, 18, 19, 20, 21, 22, 23], \"xaxis\": \"x2\", \"y\": [3.78375, 11.136, 10.36, 15.75, 8.65, 16.08909091, 16.92088154, 13.09365169, 12.07878995, 13.38857143, 13.70707395, 11.20741135, 12.53194842, 12.30185507, 14.29804487, 13.24454849, 13.46622951, 14.245849800000002, 15.24994709, 12.24307692, 11.075999999999999, 9.712916667, 9.361983471, 12.37666667, 9.79, 14.395, 12.97666667, 15.83, 13.24833333, 18.0916, 16.88640212, 13.83130178, 11.574202900000001, 12.36534884, 11.43811966, 15.12217391, 13.09168224, 9.164736842, 14.0507, 14.86240741, 14.5425, 12.51275862, 10.70207547, 13.34707317, 11.84181818, 9.648979592, 6.954705882000001], \"yaxis\": \"y2\", \"type\": \"bar\"}], \"name\": \"1\"}, {\"data\": [{\"alignmentgroup\": \"True\", \"hovertemplate\": \"direction=down<br>floor=2<br>Local Time (GMT+8)=%{x}<br>sec=%{y}<extra></extra>\", \"legendgroup\": \"down\", \"marker\": {\"color\": \"#636efa\"}, \"name\": \"down\", \"offsetgroup\": \"down\", \"orientation\": \"v\", \"showlegend\": true, \"textposition\": \"auto\", \"x\": [1, 6, 7, 8, 9, 10, 11, 12, 13, 14, 15, 16, 17, 18, 19, 20, 21, 22, 23, 6, 7, 8, 9, 10, 11, 12, 13, 14, 15, 16, 17, 18, 19, 21], \"xaxis\": \"x\", \"y\": [1.24, 11.63, 36.74321429, 35.0115493, 28.76467532, 37.01015625, 24.17361111, 30.095, 35.29158537, 29.43313253, 25.49359551, 26.15734177, 18.376825399999998, 23.60795918, 21.28529412, 12.49636364, 17.56, 17.93, 17.65, 9.51, 28.66666667, 24.185, 20.37538462, 15.68666667, 25.84827586, 19.74466667, 23.543000000000003, 49.045625, 16.39136364, 20.52842105, 31.30666667, 14.72428571, 15.98, 13.565], \"yaxis\": \"y\", \"type\": \"bar\"}, {\"alignmentgroup\": \"True\", \"hovertemplate\": \"direction=up<br>floor=2<br>Local Time (GMT+8)=%{x}<br>sec=%{y}<extra></extra>\", \"legendgroup\": \"up\", \"marker\": {\"color\": \"#EF553B\"}, \"name\": \"up\", \"offsetgroup\": \"up\", \"orientation\": \"v\", \"showlegend\": true, \"textposition\": \"auto\", \"x\": [0, 4, 6, 7, 8, 9, 10, 11, 12, 13, 14, 15, 16, 17, 18, 19, 20, 21, 22, 23, 1, 6, 7, 8, 9, 10, 11, 12, 13, 14, 15, 16, 17, 18, 19, 20, 21, 22, 23], \"xaxis\": \"x2\", \"y\": [17.56, 16.23, 15.592, 10.39376623, 9.845343511, 15.06892857, 9.086277372, 10.62530864, 9.719496855, 9.677368421, 9.962236842000001, 10.56541401, 9.040130719, 10.68721805, 11.77819444, 14.950999999999999, 11.01923077, 11.052, 19.81, 0.92, 19.2, 14.29, 11.3025, 10.29676471, 7.674186047, 10.7940625, 9.378163265, 11.7984375, 8.29025, 8.205348837, 9.713333333, 11.03782609, 13.65058824, 11.80409091, 14.28181818, 8.955, 8.2, 9.57, 8.01], \"yaxis\": \"y2\", \"type\": \"bar\"}], \"name\": \"2\"}, {\"data\": [{\"alignmentgroup\": \"True\", \"hovertemplate\": \"direction=down<br>floor=3<br>Local Time (GMT+8)=%{x}<br>sec=%{y}<extra></extra>\", \"legendgroup\": \"down\", \"marker\": {\"color\": \"#636efa\"}, \"name\": \"down\", \"offsetgroup\": \"down\", \"orientation\": \"v\", \"showlegend\": true, \"textposition\": \"auto\", \"x\": [0, 1, 2, 3, 4, 5, 6, 7, 8, 9, 10, 11, 12, 13, 14, 15, 16, 17, 18, 19, 20, 21, 22, 23, 0, 1, 2, 3, 4, 6, 7, 8, 9, 10, 11, 12, 13, 14, 15, 16, 17, 18, 19, 20, 21, 22], \"xaxis\": \"x\", \"y\": [19.435, 9.195, 15.796, 18.53, 1.59, 19.185, 24.36666667, 29.16791667, 37.08492063, 34.77699029, 27.34505747, 27.17586466, 33.07615385, 43.14269231, 34.79205607, 29.85433628, 29.85318841, 31.928556699999998, 22.90538462, 19.35228571, 13.57551724, 14.82214286, 16.63444444, 18.75, 14.025, 21.21, 10.745, 15.94, 16.65, 26.845, 37.80272727, 31.7078125, 28.11324324, 38.46380952, 18.26169492, 25.13575758, 34.94166667, 53.51757576, 32.446999999999996, 27.73333333, 25.21588235, 32.24944444, 17.55714286, 22.795, 11.33166667, 13.28833333], \"yaxis\": \"y\", \"type\": \"bar\"}, {\"alignmentgroup\": \"True\", \"hovertemplate\": \"direction=up<br>floor=3<br>Local Time (GMT+8)=%{x}<br>sec=%{y}<extra></extra>\", \"legendgroup\": \"up\", \"marker\": {\"color\": \"#EF553B\"}, \"name\": \"up\", \"offsetgroup\": \"up\", \"orientation\": \"v\", \"showlegend\": true, \"textposition\": \"auto\", \"x\": [0, 1, 2, 3, 4, 6, 7, 8, 9, 10, 11, 12, 13, 14, 15, 16, 17, 18, 19, 20, 21, 22, 23, 0, 1, 2, 3, 6, 7, 8, 9, 10, 11, 12, 13, 14, 15, 16, 17, 18, 19, 20, 21, 22, 23], \"xaxis\": \"x2\", \"y\": [14.22588235, 15.04666667, 10.44666667, 19.05, 9.275, 8.01, 9.027333333, 7.637755102000001, 10.8317284, 10.27156627, 8.814210526, 7.915147059, 10.3305618, 9.455461538, 11.30528, 9.854083333, 12.09235955, 10.01756757, 14.84, 13.21444444, 11.88181818, 8.68, 12.39833333, 18.08333333, 15.8225, 15.235, 1.6, 19.32, 6.404, 12.18866667, 8.802105263, 12.78416667, 279.19514289999995, 7.616818182, 9.395384615, 7.621935484, 10.01228571, 11.23902439, 11.345, 15.145999999999999, 12.85888889, 9.3625, 17.405, 20.455, 14.515], \"yaxis\": \"y2\", \"type\": \"bar\"}], \"name\": \"3\"}, {\"data\": [{\"alignmentgroup\": \"True\", \"hovertemplate\": \"direction=down<br>floor=4<br>Local Time (GMT+8)=%{x}<br>sec=%{y}<extra></extra>\", \"legendgroup\": \"down\", \"marker\": {\"color\": \"#636efa\"}, \"name\": \"down\", \"offsetgroup\": \"down\", \"orientation\": \"v\", \"showlegend\": true, \"textposition\": \"auto\", \"x\": [0, 1, 2, 4, 5, 6, 7, 8, 9, 10, 11, 12, 13, 14, 15, 16, 17, 18, 19, 20, 21, 22, 23, 0, 2, 3, 7, 8, 9, 10, 11, 12, 13, 14, 15, 16, 17, 18, 19, 20, 21, 22, 23], \"xaxis\": \"x\", \"y\": [14.218, 13.628, 1.6, 1.48, 17.965, 29.2575, 28.6555, 40.47111111, 32.21, 49.312608700000006, 35.90232877, 24.99070175, 39.21245902, 52.843999999999994, 44.4203, 35.33483871, 26.32126316, 30.79460317, 19.04875, 16.86566667, 19.4048, 19.43741935, 13.6625, 15.44, 19.05, 9.81, 21.51071429, 31.42352941, 36.84310345, 96.02681818, 30.59266667, 28.36142857, 20.78631579, 30.05966667, 26.25038462, 34.06076923, 32.493125, 32.35894737, 13.19571429, 25.61235294, 13.28545455, 9.95, 11.86222222], \"yaxis\": \"y\", \"type\": \"bar\"}, {\"alignmentgroup\": \"True\", \"hovertemplate\": \"direction=up<br>floor=4<br>Local Time (GMT+8)=%{x}<br>sec=%{y}<extra></extra>\", \"legendgroup\": \"up\", \"marker\": {\"color\": \"#EF553B\"}, \"name\": \"up\", \"offsetgroup\": \"up\", \"orientation\": \"v\", \"showlegend\": true, \"textposition\": \"auto\", \"x\": [0, 1, 2, 3, 4, 5, 6, 7, 8, 9, 10, 11, 12, 13, 14, 15, 16, 17, 18, 19, 20, 21, 22, 23, 0, 1, 2, 3, 4, 6, 7, 8, 9, 10, 11, 12, 13, 14, 15, 16, 17, 18, 19, 20, 21, 22, 23], \"xaxis\": \"x2\", \"y\": [14.67366667, 14.33916667, 13.96, 17.5, 18.7, 16.78, 15.76681818, 10.30380952, 9.807317073, 9.114137931, 9.694130435, 10.39409639, 9.125754717000001, 8.7271, 11.32754237, 9.756090226, 11.835, 10.730319999999999, 17.81777778, 16.41011765, 16.73583333, 14.15086957, 12.68291667, 11.44857143, 10.53333333, 13.3325, 15.29833333, 8.78, 0.97, 17.82888889, 8.583, 7.8666666670000005, 6.752608696, 15.21794872, 7.033333333, 12.07310345, 12.3084375, 9.683714286, 11.57851064, 13.92723404, 10.32463415, 12.58636364, 17.39705882, 19.87769231, 15.8975, 8.82, 20.1], \"yaxis\": \"y2\", \"type\": \"bar\"}], \"name\": \"4\"}, {\"data\": [{\"alignmentgroup\": \"True\", \"hovertemplate\": \"direction=down<br>floor=5<br>Local Time (GMT+8)=%{x}<br>sec=%{y}<extra></extra>\", \"legendgroup\": \"down\", \"marker\": {\"color\": \"#636efa\"}, \"name\": \"down\", \"offsetgroup\": \"down\", \"orientation\": \"v\", \"showlegend\": true, \"textposition\": \"auto\", \"x\": [0, 1, 2, 3, 4, 5, 6, 7, 8, 9, 10, 11, 12, 13, 14, 15, 16, 17, 18, 19, 20, 21, 22, 23, 1, 3, 4, 6, 7, 8, 9, 10, 11, 12, 13, 14, 15, 16, 17, 18, 19, 20, 21, 22, 23], \"xaxis\": \"x\", \"y\": [10.56625, 10.86, 10.61, 17.96, 15.97, 29.4225, 20.348, 34.471, 40.82443038, 46.30752809, 41.44410959, 54.33087379, 38.43091743, 44.07285714, 45.70141026, 47.35247525, 47.7856, 46.56439394, 33.25653465, 26.49870968, 16.945, 12.99425, 17.57444444, 19.92875, 17.27, 15.73, 16.52, 25.8725, 15.3175, 30.16147059, 34.98964286, 47.02580645, 20.58647059, 38.41326531, 39.51966667, 47.64266667, 49.16208333, 36.66914286, 33.106, 24.89058824, 21.0156, 15.175, 18.86733333, 13.44833333, 18.31], \"yaxis\": \"y\", \"type\": \"bar\"}, {\"alignmentgroup\": \"True\", \"hovertemplate\": \"direction=up<br>floor=5<br>Local Time (GMT+8)=%{x}<br>sec=%{y}<extra></extra>\", \"legendgroup\": \"up\", \"marker\": {\"color\": \"#EF553B\"}, \"name\": \"up\", \"offsetgroup\": \"up\", \"orientation\": \"v\", \"showlegend\": true, \"textposition\": \"auto\", \"x\": [0, 1, 2, 3, 4, 5, 6, 7, 8, 9, 10, 11, 12, 13, 14, 15, 16, 17, 18, 19, 20, 21, 22, 23, 0, 1, 2, 4, 7, 8, 9, 10, 11, 12, 13, 14, 15, 16, 17, 18, 19, 20, 21, 22, 23], \"xaxis\": \"x2\", \"y\": [13.06058824, 14.115, 9.592222222, 13.65428571, 15.84666667, 11.6575, 13.24428571, 10.4135, 9.978, 9.838285714, 10.32583333, 11.07831683, 8.859634146, 10.05910256, 10.2959633, 9.69009901, 12.30865979, 11.76291139, 15.86862745, 15.57023256, 18.7225, 14.41538462, 17.02235294, 15.12, 13.14666667, 12.965, 16.03333333, 13.63333333, 15.714, 7.803333332999999, 12.73722222, 10.3648, 9.688888889, 16.26941176, 11.82363636, 8.458571429, 8.3012, 10.91793103, 13.73428571, 14.4112, 21.70333333, 12.87142857, 18.48111111, 23.455, 12.62666667], \"yaxis\": \"y2\", \"type\": \"bar\"}], \"name\": \"5\"}, {\"data\": [{\"alignmentgroup\": \"True\", \"hovertemplate\": \"direction=down<br>floor=6<br>Local Time (GMT+8)=%{x}<br>sec=%{y}<extra></extra>\", \"legendgroup\": \"down\", \"marker\": {\"color\": \"#636efa\"}, \"name\": \"down\", \"offsetgroup\": \"down\", \"orientation\": \"v\", \"showlegend\": true, \"textposition\": \"auto\", \"x\": [0, 1, 2, 3, 4, 5, 6, 7, 8, 9, 10, 11, 12, 13, 14, 15, 16, 17, 18, 19, 20, 21, 22, 23, 0, 1, 2, 3, 5, 6, 7, 8, 9, 10, 11, 12, 13, 14, 15, 16, 17, 18, 19, 20, 21, 22, 23], \"xaxis\": \"x\", \"y\": [1.61, 1.48, 5.446000000000001, 11.658, 12.684000000000001, 14.87, 18.33036697, 22.77988827, 13.50298611, 12.74657303, 13.78043689, 10.63971963, 10.89734043, 12.41157143, 14.32419492, 10.78172093, 11.9687619, 8.888839286, 12.17037234, 15.82796117, 12.64817073, 12.4623913, 12.79271186, 14.17892308, 14.845, 21.69, 1.213333333, 25.17, 10.72, 12.5715, 15.66386364, 14.14254545, 9.249215686, 36.47831325, 12.94477778, 17.93111111, 14.94510204, 16.0098, 14.40428571, 14.61283582, 12.6192, 15.51423729, 11.96617647, 12.08793103, 13.72416667, 12.11772727, 13.21], \"yaxis\": \"y\", \"type\": \"bar\"}, {\"alignmentgroup\": \"True\", \"hovertemplate\": \"direction=up<br>floor=6<br>Local Time (GMT+8)=%{x}<br>sec=%{y}<extra></extra>\", \"legendgroup\": \"up\", \"marker\": {\"color\": \"#EF553B\"}, \"name\": \"up\", \"offsetgroup\": \"up\", \"orientation\": \"v\", \"showlegend\": true, \"textposition\": \"auto\", \"x\": [0, 1, 5, 6, 7, 8, 9, 10, 11, 12, 13, 14, 15, 16, 17, 18, 19, 20, 21, 22, 23, 1, 2, 5, 6, 7, 8, 9, 10, 11, 12, 13, 14, 15, 16, 17, 18, 19, 20, 21, 22, 23], \"xaxis\": \"x2\", \"y\": [8.64, 3.92, 13.876, 22.40045455, 39.46348485, 52.73866667, 57.50764706, 43.27655738, 81.95076923, 66.72657143, 72.8416129, 66.5485, 72.4571875, 69.12615385, 66.17484848, 49.1175, 23.46375, 28.1825, 23.66, 11.765, 13.3165625, 1.44, 1.58, 15.71, 17.35457143, 34.62666667, 35.50888889, 37.30333333, 45.12, 66.6275, 52.5725, 42.15666667, 50.45333333, 63.65321429, 56.36928571, 29.93285714, 42.83142857, 18.42875, 22.858, 11.36, 11.568, 12.96230769], \"yaxis\": \"y2\", \"type\": \"bar\"}], \"name\": \"6\"}, {\"data\": [{\"alignmentgroup\": \"True\", \"hovertemplate\": \"direction=down<br>floor=7<br>Local Time (GMT+8)=%{x}<br>sec=%{y}<extra></extra>\", \"legendgroup\": \"down\", \"marker\": {\"color\": \"#636efa\"}, \"name\": \"down\", \"offsetgroup\": \"down\", \"orientation\": \"v\", \"showlegend\": true, \"textposition\": \"auto\", \"x\": [0, 1, 2, 3, 4, 5, 6, 7, 8, 9, 10, 11, 12, 13, 14, 15, 16, 17, 18, 19, 20, 21, 22, 23, 0, 1, 2, 3, 4, 6, 7, 8, 9, 10, 11, 12, 13, 14, 15, 16, 17, 18, 19, 20, 21, 22, 23], \"xaxis\": \"x\", \"y\": [15.10625, 14.42875, 10.45, 17.128, 13.28, 21.79, 19.0025, 20.17469388, 14.441969699999998, 23.77867647, 13.65861538, 11.37225989, 11.69809783, 10.74592593, 11.55571429, 11.11300613, 11.54701389, 11.08728302, 12.04862637, 16.23556818, 13.99390244, 16.493, 16.96777778, 17.41444444, 16.24333333, 10.82666667, 10.555, 3.44, 21.585, 17.77333333, 21.26545455, 15.6855, 13.94815789, 11.94882353, 11.62039216, 12.43648649, 15.413, 21.3975, 10.297, 11.29803922, 12.83742857, 13.50732143, 17.07227273, 14.71933333, 11.295, 13.47333333, 17.225], \"yaxis\": \"y\", \"type\": \"bar\"}, {\"alignmentgroup\": \"True\", \"hovertemplate\": \"direction=up<br>floor=7<br>Local Time (GMT+8)=%{x}<br>sec=%{y}<extra></extra>\", \"legendgroup\": \"up\", \"marker\": {\"color\": \"#EF553B\"}, \"name\": \"up\", \"offsetgroup\": \"up\", \"orientation\": \"v\", \"showlegend\": true, \"textposition\": \"auto\", \"x\": [0, 1, 2, 3, 4, 5, 6, 7, 8, 9, 10, 11, 12, 13, 14, 15, 16, 17, 18, 19, 20, 21, 22, 23, 0, 1, 2, 3, 4, 6, 7, 9, 10, 11, 12, 13, 14, 15, 16, 17, 18, 19, 20, 21, 22], \"xaxis\": \"x2\", \"y\": [10.35857143, 10.14, 5.996666667, 7.745, 7.84, 12.6375, 19.965, 30.5975, 50.57461538, 49.653999999999996, 49.59741935, 75.4412766, 59.97212121, 74.63418605, 58.63872727, 60.96323529, 62.54614035, 63.2878125, 41.03916667, 25.53555556, 23.545, 7.99, 14.09625, 10.655999999999999, 7.505, 14.02, 15.93, 1.0533333329999999, 15.125, 12.89, 7.97, 39.40454545, 45.51428571, 64.31272727, 57.141999999999996, 50.46571429, 35.87090909, 53.28842105, 40.97166667, 24.48875, 28.59, 23.65571429, 9.3, 5.755, 15.79], \"yaxis\": \"y2\", \"type\": \"bar\"}], \"name\": \"7\"}, {\"data\": [{\"alignmentgroup\": \"True\", \"hovertemplate\": \"direction=down<br>floor=8<br>Local Time (GMT+8)=%{x}<br>sec=%{y}<extra></extra>\", \"legendgroup\": \"down\", \"marker\": {\"color\": \"#636efa\"}, \"name\": \"down\", \"offsetgroup\": \"down\", \"orientation\": \"v\", \"showlegend\": true, \"textposition\": \"auto\", \"x\": [0, 1, 2, 3, 5, 6, 7, 8, 9, 10, 11, 12, 13, 14, 15, 16, 17, 18, 19, 20, 21, 22, 23, 0, 1, 2, 3, 5, 6, 7, 8, 9, 10, 11, 12, 13, 14, 15, 16, 17, 18, 19, 20, 21, 22, 23], \"xaxis\": \"x\", \"y\": [13.19235294, 13.82333333, 8.645, 1.57, 15.62666667, 18.69, 25.65685714, 17.74482759, 16.42359281, 13.25740506, 11.25363636, 11.65005495, 14.322146599999998, 13.80168605, 14.99126316, 14.59109005, 11.03395161, 14.57657277, 15.27578947, 14.23282353, 15.77315789, 13.48652174, 13.0885, 15.35, 13.79, 15.19, 13.79, 25.18, 10.1, 16.609375, 14.80736842, 19.12276596, 9.047317073, 9.0084375, 13.19325, 15.13484848, 11.08843137, 13.5058, 14.14275862, 10.55377358, 15.3424, 12.9225, 13.61714286, 11.86769231, 18.58222222, 12.345], \"yaxis\": \"y\", \"type\": \"bar\"}, {\"alignmentgroup\": \"True\", \"hovertemplate\": \"direction=up<br>floor=8<br>Local Time (GMT+8)=%{x}<br>sec=%{y}<extra></extra>\", \"legendgroup\": \"up\", \"marker\": {\"color\": \"#EF553B\"}, \"name\": \"up\", \"offsetgroup\": \"up\", \"orientation\": \"v\", \"showlegend\": true, \"textposition\": \"auto\", \"x\": [7, 8, 9, 10, 11, 12, 13, 14, 15, 16, 17, 18, 19, 20, 21, 22, 3, 5, 8, 9, 10, 11, 12, 13, 14, 15, 16, 17, 18, 19, 20, 22], \"xaxis\": \"x2\", \"y\": [35.63, 38.54958333, 51.1578125, 42.74677419, 47.22413793, 32.9925, 62.41333333, 35.18818182, 38.51147059, 36.65055556, 41.66777778, 62.40428571, 14.082, 28.048000000000002, 16.335, 18.085, 1.57, 22.31, 48.14833333, 40.08363636, 49.172, 1919.576, 103.365, 32.964, 5.785, 28.93166667, 29.8775, 32.30666667, 49.614, 1.46, 9.68, 1.61], \"yaxis\": \"y2\", \"type\": \"bar\"}], \"name\": \"8\"}, {\"data\": [{\"alignmentgroup\": \"True\", \"hovertemplate\": \"direction=down<br>floor=9<br>Local Time (GMT+8)=%{x}<br>sec=%{y}<extra></extra>\", \"legendgroup\": \"down\", \"marker\": {\"color\": \"#636efa\"}, \"name\": \"down\", \"offsetgroup\": \"down\", \"orientation\": \"v\", \"showlegend\": true, \"textposition\": \"auto\", \"x\": [0, 1, 3, 4, 5, 6, 7, 8, 9, 10, 11, 12, 13, 14, 15, 16, 17, 18, 19, 20, 21, 22, 23, 0, 1, 2, 3, 5, 7, 8, 9, 10, 11, 12, 13, 14, 15, 16, 17, 18, 19, 20, 21, 22, 23], \"xaxis\": \"x\", \"y\": [12.13, 13.568, 18.105, 7.23, 13.66, 27.415, 27.79682927, 17.69171642, 14.448125, 16.91567568, 13.28433155, 14.06939759, 16.05451977, 15.59395522, 13.20926174, 13.824875, 12.13234568, 14.17634146, 17.23795699, 19.69553571, 17.74344828, 17.2325, 13.74307692, 18.48, 17.49, 10.885, 12.215, 6.41, 23.60375, 15.62914894, 17.44346939, 18.31787234, 9.911836735, 18.53424242, 16.79621622, 12.88512195, 10.87368421, 14.01181818, 17.28732143, 17.44190476, 15.282, 16.35928571, 17.28083333, 16.79142857, 2.82], \"yaxis\": \"y\", \"type\": \"bar\"}, {\"alignmentgroup\": \"True\", \"hovertemplate\": \"direction=up<br>floor=9<br>Local Time (GMT+8)=%{x}<br>sec=%{y}<extra></extra>\", \"legendgroup\": \"up\", \"marker\": {\"color\": \"#EF553B\"}, \"name\": \"up\", \"offsetgroup\": \"up\", \"orientation\": \"v\", \"showlegend\": true, \"textposition\": \"auto\", \"x\": [3, 4, 6, 7, 8, 9, 10, 11, 12, 13, 14, 15, 16, 17, 18, 19, 20, 21, 22, 23, 2, 5, 6, 7, 8, 9, 10, 11, 12, 13, 14, 15, 16, 17, 18, 19, 21], \"xaxis\": \"x2\", \"y\": [1.57, 1.05, 18.33166667, 15.168, 54.17285714, 36.09733333, 45.27516129, 50.98, 47.52555556, 48.968, 36.49458333, 47.28277778, 34.451, 48.42909091, 29.07666667, 24.9225, 14.89666667, 22.3975, 23.77, 15.72, 7.7, 14.77, 15.16, 51.01, 36.04, 16.21666667, 26.42222222, 50.16333333, 94.22, 27.146, 28.93666667, 16.0, 137.52, 54.945, 27.9025, 22.18571429, 8.03], \"yaxis\": \"y2\", \"type\": \"bar\"}], \"name\": \"9\"}, {\"data\": [{\"alignmentgroup\": \"True\", \"hovertemplate\": \"direction=down<br>floor=10<br>Local Time (GMT+8)=%{x}<br>sec=%{y}<extra></extra>\", \"legendgroup\": \"down\", \"marker\": {\"color\": \"#636efa\"}, \"name\": \"down\", \"offsetgroup\": \"down\", \"orientation\": \"v\", \"showlegend\": true, \"textposition\": \"auto\", \"x\": [0, 1, 2, 3, 4, 5, 6, 7, 8, 9, 10, 11, 12, 13, 14, 15, 16, 17, 18, 19, 20, 21, 22, 23, 1, 2, 5, 6, 7, 8, 9, 10, 11, 12, 13, 14, 15, 16, 17, 18, 19, 20, 21, 22, 23], \"xaxis\": \"x\", \"y\": [14.2925, 1.243333333, 18.46, 19.82, 9.01, 4.991463415, 11.68626087, 19.87550725, 9.2009375, 23.60210526, 10.86086957, 11.67101266, 15.52769231, 14.70149254, 12.74507692, 13.82351648, 14.77679245, 12.17767442, 17.61647059, 16.17954545, 10.84153846, 11.77363636, 10.96183908, 11.63882353, 19.2, 11.97, 5.697, 10.16906977, 12.4, 14.892000000000001, 15.67272727, 10.52777778, 274.3222222, 17.12857143, 12.49461538, 12.37352941, 10.49058824, 15.90952381, 7.99, 12.94666667, 29.0725, 8.5275, 14.512, 11.18421053, 17.53571429], \"yaxis\": \"y\", \"type\": \"bar\"}, {\"alignmentgroup\": \"True\", \"hovertemplate\": \"direction=up<br>floor=10<br>Local Time (GMT+8)=%{x}<br>sec=%{y}<extra></extra>\", \"legendgroup\": \"up\", \"marker\": {\"color\": \"#EF553B\"}, \"name\": \"up\", \"offsetgroup\": \"up\", \"orientation\": \"v\", \"showlegend\": true, \"textposition\": \"auto\", \"x\": [1, 5, 6, 7, 8, 9, 10, 11, 12, 13, 14, 15, 16, 17, 18, 19, 20, 21, 22, 5, 6, 7, 8, 9, 10, 11, 12, 13, 14, 15, 16, 17, 18, 19, 21], \"xaxis\": \"x2\", \"y\": [1.38, 4.783181818, 15.11753968, 37.66895238, 40.097, 58.74375, 16.176, 41.37470588, 55.55370968, 41.821999999999996, 22.01461538, 37.32173913, 32.87928571, 53.12555556, 62.62777778, 28.1, 12.92, 18.21538462, 20.385, 5.031666667, 9.470555556, 22.2025, 17.162, 35.61333333, 25.296, 22.95555556, 41.34375, 22.1, 8.0, 62.94111111, 67.7, 20.005, 19.61571429, 12.795, 12.33333333], \"yaxis\": \"y2\", \"type\": \"bar\"}], \"name\": \"10\"}, {\"data\": [{\"alignmentgroup\": \"True\", \"hovertemplate\": \"direction=down<br>floor=11<br>Local Time (GMT+8)=%{x}<br>sec=%{y}<extra></extra>\", \"legendgroup\": \"down\", \"marker\": {\"color\": \"#636efa\"}, \"name\": \"down\", \"offsetgroup\": \"down\", \"orientation\": \"v\", \"showlegend\": true, \"textposition\": \"auto\", \"x\": [0, 1, 2, 3, 4, 5, 6, 7, 8, 9, 10, 11, 12, 13, 14, 15, 16, 17, 18, 19, 20, 21, 22, 23, 0, 1, 2, 5, 6, 7, 8, 9, 10, 11, 12, 13, 14, 15, 16, 17, 18, 19, 20, 21, 22, 23], \"xaxis\": \"x\", \"y\": [19.782, 0.56, 20.44, 16.22, 19.675, 8.04, 21.91090909, 27.536986300000002, 21.66359281, 21.20323171, 18.50221477, 15.72666667, 14.5813245, 16.2847093, 20.79647887, 15.95540146, 17.96359551, 14.28554167, 13.48443243, 21.535999999999998, 19.98830189, 19.31058824, 15.96333333, 16.846, 19.92333333, 19.08, 10.79, 8.04, 14.085, 28.23, 21.61685185, 18.14322581, 14.90181818, 11.56188679, 14.24115385, 15.57305556, 10.84142857, 19.09052632, 17.94170732, 16.30362069, 15.14973684, 21.38722222, 16.756, 20.64928571, 14.40428571, 12.46666667], \"yaxis\": \"y\", \"type\": \"bar\"}, {\"alignmentgroup\": \"True\", \"hovertemplate\": \"direction=up<br>floor=11<br>Local Time (GMT+8)=%{x}<br>sec=%{y}<extra></extra>\", \"legendgroup\": \"up\", \"marker\": {\"color\": \"#EF553B\"}, \"name\": \"up\", \"offsetgroup\": \"up\", \"orientation\": \"v\", \"showlegend\": true, \"textposition\": \"auto\", \"x\": [3, 6, 7, 8, 9, 10, 11, 12, 13, 14, 15, 16, 17, 18, 19, 23, 6, 8, 9, 10, 11, 12, 14, 15, 16, 17, 18], \"xaxis\": \"x2\", \"y\": [1.59, 60.53, 16.29714286, 84.76, 37.33363636, 29.47454545, 81.17333333, 25.94, 17.07166667, 34.93391304, 30.81857143, 59.04888889, 42.55666667, 35.215, 45.2, 1.27, 11.18, 45.79, 52.66888889, 37.63666667, 0.34, 17.07, 32.33714286, 8.355, 197.02, 34.722, 40.355], \"yaxis\": \"y2\", \"type\": \"bar\"}], \"name\": \"11\"}, {\"data\": [{\"alignmentgroup\": \"True\", \"hovertemplate\": \"direction=down<br>floor=12<br>Local Time (GMT+8)=%{x}<br>sec=%{y}<extra></extra>\", \"legendgroup\": \"down\", \"marker\": {\"color\": \"#636efa\"}, \"name\": \"down\", \"offsetgroup\": \"down\", \"orientation\": \"v\", \"showlegend\": true, \"textposition\": \"auto\", \"x\": [0, 1, 2, 4, 5, 6, 7, 8, 9, 10, 11, 12, 13, 14, 15, 16, 17, 18, 19, 20, 21, 22, 23, 0, 1, 2, 5, 6, 7, 8, 9, 10, 11, 12, 13, 14, 15, 16, 17, 18, 19, 20, 21, 22, 23], \"xaxis\": \"x\", \"y\": [16.13454545, 16.05444444, 31.63, 26.09, 19.4625, 15.80714286, 30.14692308, 21.09159722, 21.70827068, 21.85371901, 22.3829697, 22.67571429, 15.828896100000001, 19.51030303, 22.48698113, 19.070794699999997, 16.82453202, 17.82126374, 20.9246875, 20.96122449, 20.52192308, 19.47571429, 12.665999999999999, 20.114, 38.44, 1.415, 10.15, 5.98, 26.79636364, 25.68361702, 18.38384615, 19.2072093, 226.8580435, 22.34955556, 19.89642857, 23.48235294, 22.365, 18.3, 15.95428571, 16.04173077, 19.52925926, 21.24923077, 23.43, 9.86125, 7.885], \"yaxis\": \"y\", \"type\": \"bar\"}, {\"alignmentgroup\": \"True\", \"hovertemplate\": \"direction=up<br>floor=12<br>Local Time (GMT+8)=%{x}<br>sec=%{y}<extra></extra>\", \"legendgroup\": \"up\", \"marker\": {\"color\": \"#EF553B\"}, \"name\": \"up\", \"offsetgroup\": \"up\", \"orientation\": \"v\", \"showlegend\": true, \"textposition\": \"auto\", \"x\": [7, 8, 9, 10, 11, 12, 13, 14, 15, 16, 17, 18, 19, 20, 21, 23, 8, 9, 10, 11, 12, 13, 14, 15, 16, 17, 18, 19], \"xaxis\": \"x2\", \"y\": [4.13, 89.32, 53.91260870000001, 61.308125, 36.303000000000004, 44.3325, 49.549, 36.4776, 52.3796, 46.59777778, 59.19666667, 17.945, 39.94, 7.57, 30.32, 17.62, 17.06, 42.1125, 56.78, 19.69666667, 27.01, 12.79, 50.87666667, 27.35333333, 33.61, 39.73, 42.785, 43.06], \"yaxis\": \"y2\", \"type\": \"bar\"}], \"name\": \"12\"}, {\"data\": [{\"alignmentgroup\": \"True\", \"hovertemplate\": \"direction=down<br>floor=13<br>Local Time (GMT+8)=%{x}<br>sec=%{y}<extra></extra>\", \"legendgroup\": \"down\", \"marker\": {\"color\": \"#636efa\"}, \"name\": \"down\", \"offsetgroup\": \"down\", \"orientation\": \"v\", \"showlegend\": true, \"textposition\": \"auto\", \"x\": [0, 2, 4, 5, 6, 7, 8, 9, 10, 11, 12, 13, 14, 15, 16, 17, 18, 19, 20, 21, 22, 23, 0, 1, 2, 6, 7, 8, 9, 10, 11, 12, 13, 14, 15, 16, 17, 18, 19, 20, 21, 22, 23], \"xaxis\": \"x\", \"y\": [16.88111111, 19.01, 1.52, 15.765, 10.22142857, 40.71863636, 32.58702703, 29.53263566, 28.32121495, 31.39761006, 27.33390625, 24.91994505, 30.5819685, 26.04607843, 25.39195946, 22.43669903, 20.64026596, 20.73802469, 21.4168, 21.40710526, 22.83761905, 17.36454545, 18.98, 15.79, 15.8, 11.96142857, 24.30066667, 20.95212766, 28.37147059, 19.49677966, 188.0689286, 24.10651163, 23.51268293, 21.10916667, 35.75058824, 29.0286, 22.66444444, 19.91641026, 20.08547619, 18.38421053, 14.49066667, 19.58, 12.048], \"yaxis\": \"y\", \"type\": \"bar\"}, {\"alignmentgroup\": \"True\", \"hovertemplate\": \"direction=up<br>floor=13<br>Local Time (GMT+8)=%{x}<br>sec=%{y}<extra></extra>\", \"legendgroup\": \"up\", \"marker\": {\"color\": \"#EF553B\"}, \"name\": \"up\", \"offsetgroup\": \"up\", \"orientation\": \"v\", \"showlegend\": true, \"textposition\": \"auto\", \"x\": [7, 8, 9, 10, 11, 12, 13, 14, 15, 16, 17, 18, 19, 20, 7, 8, 9, 10, 11, 12, 13, 14, 15, 16, 17, 18, 19, 20], \"xaxis\": \"x2\", \"y\": [33.856, 55.45777778, 36.99521739, 31.78625, 45.1675, 45.02095238, 30.59866667, 35.90777778, 34.49277778, 51.80105263, 36.04357143, 66.00888889, 41.815, 31.005, 10.69, 45.00666667, 28.64333333, 40.918, 18.566, 21.5375, 35.14666667, 13.415, 21.61666667, 32.94, 99.165, 16.6575, 28.72, 17.97], \"yaxis\": \"y2\", \"type\": \"bar\"}], \"name\": \"13\"}, {\"data\": [{\"alignmentgroup\": \"True\", \"hovertemplate\": \"direction=down<br>floor=14<br>Local Time (GMT+8)=%{x}<br>sec=%{y}<extra></extra>\", \"legendgroup\": \"down\", \"marker\": {\"color\": \"#636efa\"}, \"name\": \"down\", \"offsetgroup\": \"down\", \"orientation\": \"v\", \"showlegend\": true, \"textposition\": \"auto\", \"x\": [0, 1, 2, 4, 5, 7, 8, 9, 10, 11, 12, 13, 14, 15, 16, 17, 18, 19, 20, 21, 22, 23, 0, 1, 2, 3, 6, 7, 8, 9, 10, 11, 12, 13, 14, 15, 16, 17, 18, 19, 20, 21, 22, 23], \"xaxis\": \"x\", \"y\": [19.71, 20.63285714, 19.92, 1.27, 18.84, 41.37723404, 52.31697479, 51.79058511, 47.00628415, 52.34378641, 55.69585492, 48.01015385, 44.64534091, 57.7185, 53.23207071, 38.63958115, 36.24246377, 23.91283951, 25.72342857, 19.68295455, 23.480625, 13.96333333, 18.86, 12.67, 27.03, 1.61, 58.09, 46.33454545, 40.05526316, 41.96847826, 48.388000000000005, 175.79045449999998, 57.97928571, 45.27770833, 45.8425, 47.8842, 43.26137931, 41.8475, 31.70034483, 29.426, 16.38769231, 22.30909091, 24.31666667, 10.69], \"yaxis\": \"y\", \"type\": \"bar\"}, {\"alignmentgroup\": \"True\", \"hovertemplate\": \"direction=up<br>floor=14<br>Local Time (GMT+8)=%{x}<br>sec=%{y}<extra></extra>\", \"legendgroup\": \"up\", \"marker\": {\"color\": \"#EF553B\"}, \"name\": \"up\", \"offsetgroup\": \"up\", \"orientation\": \"v\", \"showlegend\": true, \"textposition\": \"auto\", \"x\": [0, 1, 2, 5, 7, 8, 9, 10, 11, 12, 14, 15, 16, 17, 18, 19, 20, 21, 22, 23, 2, 3, 7, 8, 9, 10, 11, 12, 13, 14, 15, 16, 17, 18, 20, 21, 23], \"xaxis\": \"x2\", \"y\": [20.495, 14.05333333, 13.22, 12.87, 50.465, 105.22875, 79.01857143, 80.518, 35.168, 44.37666667, 84.67736842, 91.5975, 76.92399999999999, 87.46153846, 29.365, 31.218000000000004, 34.84333333, 18.1275, 19.802, 8.905, 17.47, 18.95, 15.16, 62.55, 122.63, 59.925, 66.59333333, 50.39166667, 20.76, 79.9575, 34.076, 51.12, 22.27, 38.185, 1.54, 20.08, 7.84], \"yaxis\": \"y2\", \"type\": \"bar\"}], \"name\": \"14\"}, {\"data\": [{\"alignmentgroup\": \"True\", \"hovertemplate\": \"direction=down<br>floor=15<br>Local Time (GMT+8)=%{x}<br>sec=%{y}<extra></extra>\", \"legendgroup\": \"down\", \"marker\": {\"color\": \"#636efa\"}, \"name\": \"down\", \"offsetgroup\": \"down\", \"orientation\": \"v\", \"showlegend\": true, \"textposition\": \"auto\", \"x\": [0, 1, 2, 3, 4, 5, 6, 7, 8, 9, 10, 11, 12, 13, 14, 15, 16, 17, 18, 19, 20, 21, 22, 23, 0, 1, 2, 3, 4, 5, 6, 7, 8, 9, 10, 11, 12, 13, 14, 15, 16, 17, 18, 19, 20, 21, 22, 23], \"xaxis\": \"x\", \"y\": [29.41666667, 10.03666667, 1.37, 14.025, 4.8725, 1.59, 14.38714286, 45.38793651, 58.90015038, 62.70014706, 58.98550725, 77.94909722, 62.7375, 61.51992908, 73.1429078, 82.81844961, 66.45490446, 61.32835106, 44.23891892, 35.32931034, 24.72416667, 27.8104, 19.11823529, 23.44, 21.425, 1.01, 6.543333333, 2.55, 1.39, 1.37, 25.35, 27.00428571, 39.44594595, 51.82651163, 59.35, 213.2131579, 61.06888889, 53.382, 47.72717391, 78.422, 63.62877193, 52.19745098, 42.01305556, 25.04777778, 21.96352941, 38.34875, 23.35, 22.78], \"yaxis\": \"y\", \"type\": \"bar\"}], \"name\": \"15\"}, {\"data\": [{\"alignmentgroup\": \"True\", \"hovertemplate\": \"direction=down<br>floor=B1<br>Local Time (GMT+8)=%{x}<br>sec=%{y}<extra></extra>\", \"legendgroup\": \"down\", \"marker\": {\"color\": \"#636efa\"}, \"name\": \"down\", \"offsetgroup\": \"down\", \"orientation\": \"v\", \"showlegend\": true, \"textposition\": \"auto\", \"x\": [0, 1, 2, 3, 6, 7, 8, 9, 10, 11, 12, 13, 14, 15, 16, 17, 18, 19, 20, 21, 22, 23, 0, 2, 5, 6, 7, 8, 9, 10, 11, 12, 13, 14, 15, 16, 17, 18, 19, 20, 21, 22, 23], \"xaxis\": \"x\", \"y\": [9.336666667000001, 18.74, 20.4, 1.33, 25.195, 26.08763441, 20.44879518, 30.421999999999997, 18.29466667, 21.83880597, 24.8925, 22.0677027, 22.41370968, 21.55714286, 23.39784314, 18.61226667, 22.53786885, 17.66021739, 11.75631579, 11.79272727, 15.24666667, 11.0, 12.625, 11.83, 15.03, 21.71882353, 23.85047619, 23.6872, 18.74111111, 32.33285714, 19.16727273, 14.91956522, 12.72142857, 20.48058824, 13.83214286, 25.40473684, 17.685, 18.28125, 13.68, 8.278571429, 15.68, 22.596, 12.82333333], \"yaxis\": \"y\", \"type\": \"bar\"}, {\"alignmentgroup\": \"True\", \"hovertemplate\": \"direction=up<br>floor=B1<br>Local Time (GMT+8)=%{x}<br>sec=%{y}<extra></extra>\", \"legendgroup\": \"up\", \"marker\": {\"color\": \"#EF553B\"}, \"name\": \"up\", \"offsetgroup\": \"up\", \"orientation\": \"v\", \"showlegend\": true, \"textposition\": \"auto\", \"x\": [0, 1, 2, 3, 4, 5, 6, 7, 8, 9, 10, 11, 12, 13, 14, 15, 16, 17, 18, 19, 20, 21, 22, 23, 0, 1, 2, 3, 4, 5, 6, 7, 8, 9, 10, 11, 12, 13, 14, 15, 16, 17, 18, 19, 20, 21, 22, 23], \"xaxis\": \"x2\", \"y\": [13.53948718, 15.35212121, 11.16411765, 21.224, 1.504, 12.53, 16.85331081, 15.10840909, 16.20858639, 16.58627832, 15.05296748, 19.40496732, 17.77144963, 15.61563025, 16.32792388, 17.20033473, 15.98716263, 17.74892966, 17.90008451, 13.90472222, 13.22089474, 12.18579882, 11.48517241, 10.85137931, 16.17625, 14.2125, 14.13615385, 10.96333333, 12.96, 11.792, 20.34529412, 15.81761468, 15.83931818, 16.18919192, 16.52456522, 81.81075342, 16.02455882, 17.51263158, 11.67884211, 15.86795181, 14.69038095, 16.77707692, 17.50849206, 11.1901, 11.71745763, 10.52981818, 12.271875, 10.41785714], \"yaxis\": \"y2\", \"type\": \"bar\"}], \"name\": \"B1\"}, {\"data\": [{\"alignmentgroup\": \"True\", \"hovertemplate\": \"direction=down<br>floor=B3<br>Local Time (GMT+8)=%{x}<br>sec=%{y}<extra></extra>\", \"legendgroup\": \"down\", \"marker\": {\"color\": \"#636efa\"}, \"name\": \"down\", \"offsetgroup\": \"down\", \"orientation\": \"v\", \"showlegend\": true, \"textposition\": \"auto\", \"x\": [6, 7, 8, 9, 10, 11, 12, 13, 14, 15, 16, 17, 18, 19, 20, 6, 7, 8, 9, 10, 12, 13, 14, 15, 16, 17], \"xaxis\": \"x\", \"y\": [29.868000000000002, 31.24727273, 24.27, 20.03333333, 9.3925, 52.4775, 17.30636364, 23.05266667, 25.2, 30.20416667, 9.55, 36.124, 17.66, 16.26, 9.53, 7.765, 14.56, 15.62, 50.745, 27.21, 12.89, 40.46833333, 16.7375, 23.8075, 17.25, 19.534000000000002], \"yaxis\": \"y\", \"type\": \"bar\"}, {\"alignmentgroup\": \"True\", \"hovertemplate\": \"direction=up<br>floor=B3<br>Local Time (GMT+8)=%{x}<br>sec=%{y}<extra></extra>\", \"legendgroup\": \"up\", \"marker\": {\"color\": \"#EF553B\"}, \"name\": \"up\", \"offsetgroup\": \"up\", \"orientation\": \"v\", \"showlegend\": true, \"textposition\": \"auto\", \"x\": [0, 1, 4, 5, 6, 7, 8, 9, 10, 11, 12, 13, 14, 15, 16, 17, 18, 19, 20, 21, 22, 23, 0, 1, 4, 5, 6, 7, 8, 9, 10, 11, 12, 13, 14, 15, 16, 17, 18, 19, 20, 21, 22], \"xaxis\": \"x2\", \"y\": [8.47, 13.58, 14.91272727, 20.67272727, 20.99064815, 16.95059233, 15.48455357, 18.232418300000003, 14.11086022, 16.53384615, 15.63631579, 14.63638095, 15.36850877, 17.614, 13.77079545, 13.67952941, 16.66576923, 17.78341463, 9.468918919, 14.21090909, 17.42866667, 10.014, 14.03333333, 23.17, 10.9025, 20.78, 20.91038462, 14.11378788, 17.36652174, 14.5086, 12.00588235, 12.41115385, 14.555, 14.58272727, 13.97435897, 13.0312, 12.56774194, 19.1012, 16.65833333, 12.36333333, 12.77916667, 6.1, 7.915], \"yaxis\": \"y2\", \"type\": \"bar\"}], \"name\": \"B3\"}, {\"data\": [{\"alignmentgroup\": \"True\", \"hovertemplate\": \"direction=up<br>floor=B4<br>Local Time (GMT+8)=%{x}<br>sec=%{y}<extra></extra>\", \"legendgroup\": \"up\", \"marker\": {\"color\": \"#EF553B\"}, \"name\": \"up\", \"offsetgroup\": \"up\", \"orientation\": \"v\", \"showlegend\": true, \"textposition\": \"auto\", \"x\": [0, 1, 2, 3, 4, 5, 6, 7, 8, 9, 10, 11, 12, 13, 14, 15, 16, 17, 18, 19, 20, 21, 22, 23, 0, 1, 2, 3, 4, 5, 6, 7, 8, 9, 10, 11, 12, 13, 14, 15, 16, 17, 18, 19, 20, 21, 22, 23], \"xaxis\": \"x2\", \"y\": [17.68, 18.72, 21.20833333, 20.14333333, 11.885, 26.06777778, 21.23509804, 21.09967593, 28.1814902, 28.935815899999998, 32.12197309, 30.19384977, 28.11128889, 25.37210317, 30.85391129, 39.48711712, 29.41120755, 28.59525547, 19.77994898, 18.28663366, 18.63688525, 10.55, 7.624166667000001, 12.47611111, 14.35, 21.535, 18.47, 11.785, 1.26, 25.61, 20.43, 20.6172549, 24.70548387, 25.64128571, 53.56923077, 26.567966100000003, 23.294761899999997, 20.79359375, 30.82557377, 28.43903846, 22.41875, 21.67266667, 20.15222222, 10.129375, 8.113888889, 5.284, 9.15, 14.08615385], \"yaxis\": \"y2\", \"type\": \"bar\"}], \"name\": \"B4\"}]);\n",
       "                        }).then(function(){\n",
       "                            \n",
       "var gd = document.getElementById('307b73e6-e03a-4fc4-9207-1d827ced02e2');\n",
       "var x = new MutationObserver(function (mutations, observer) {{\n",
       "        var display = window.getComputedStyle(gd).display;\n",
       "        if (!display || display === 'none') {{\n",
       "            console.log([gd, 'removed!']);\n",
       "            Plotly.purge(gd);\n",
       "            observer.disconnect();\n",
       "        }}\n",
       "}});\n",
       "\n",
       "// Listen for the removal of the full notebook cells\n",
       "var notebookContainer = gd.closest('#notebook-container');\n",
       "if (notebookContainer) {{\n",
       "    x.observe(notebookContainer, {childList: true});\n",
       "}}\n",
       "\n",
       "// Listen for the clearing of the current output cell\n",
       "var outputEl = gd.closest('.output');\n",
       "if (outputEl) {{\n",
       "    x.observe(outputEl, {childList: true});\n",
       "}}\n",
       "\n",
       "                        })\n",
       "                };\n",
       "                });\n",
       "            </script>\n",
       "        </div>"
      ]
     },
     "metadata": {},
     "output_type": "display_data"
    }
   ],
   "source": [
    "fig = px.bar(data_frame=df_s, \n",
    "             x = \"hour\", y = \"avgWait\",\n",
    "             facet_col=\"direction\",color=\"direction\",\n",
    "             animation_frame=\"floor\",\n",
    "             labels={\"avgWait\":\"sec\",\n",
    "                     \"hour\":\"Local Time (GMT+8)\"})\n",
    "# X axis\n",
    "fig.update_xaxes(nticks=len(floor_list),\n",
    "                 type=\"category\",\n",
    "                 categoryarray=[0,24])\n",
    "\n",
    "# Y axis\n",
    "fig.update_yaxes(range=[0, 300])\n",
    "\n",
    "# Layout\n",
    "fig.update_layout(title_text='Frequency of Elevator Calls by Time')\n",
    "\n",
    "fig.show()"
   ]
  },
  {
   "cell_type": "markdown",
   "metadata": {},
   "source": [
    "## Data"
   ]
  },
  {
   "cell_type": "code",
   "execution_count": 6,
   "metadata": {},
   "outputs": [],
   "source": [
    "import plotly.graph_objects as go\n",
    "from ipywidgets import widgets"
   ]
  },
  {
   "cell_type": "markdown",
   "metadata": {},
   "source": [
    "將不同大樓資料混在一起，依大樓名稱貼標"
   ]
  },
  {
   "cell_type": "code",
   "execution_count": 7,
   "metadata": {},
   "outputs": [
    {
     "name": "stdout",
     "output_type": "stream",
     "text": [
      "研究大樓\n",
      "(1409, 6)\n",
      "北棟病床梯\n",
      "(1584, 6)\n",
      "南棟客梯\n",
      "(1501, 6)\n",
      "(4494, 6)\n",
      "  floor  hour direction     week   avgWait building\n",
      "0     1     0      down  weekday   8.03000     研究大樓\n",
      "1     1     0        up  weekday   3.78375     研究大樓\n",
      "2     1     1      down  weekday   8.42500     研究大樓\n",
      "3     1     1        up  weekday  11.13600     研究大樓\n",
      "4     1     2      down  weekday   9.36500     研究大樓\n"
     ]
    }
   ],
   "source": [
    "## 檔案名(註:資料是arregate後的table)\n",
    "\n",
    "files_list = ['研究大樓','北棟病床梯','南棟客梯']\n",
    "\n",
    "df = pd.DataFrame()\n",
    "\n",
    "for i in files_list:\n",
    "    data = pd.read_csv(i+'.csv', index_col = 0)\n",
    "    data['building'] = i\n",
    "    print(i)\n",
    "    print(data.shape)\n",
    "    \n",
    "    df = df.append(data, ignore_index = True) \n",
    "\n",
    "## 請檢查表格的數量是否正確 有些表格有缺失(e.g.北棟客梯)\n",
    "    \n",
    "print(df.shape)\n",
    "print(df.head())"
   ]
  },
  {
   "cell_type": "markdown",
   "metadata": {},
   "source": [
    "## Dash"
   ]
  },
  {
   "cell_type": "code",
   "execution_count": null,
   "metadata": {},
   "outputs": [
    {
     "name": "stdout",
     "output_type": "stream",
     "text": [
      "Running on http://127.0.0.1:8050/\n",
      "Debugger PIN: 572-140-138\n",
      " * Serving Flask app \"__main__\" (lazy loading)\n",
      " * Environment: production\n",
      "   WARNING: This is a development server. Do not use it in a production deployment.\n",
      "   Use a production WSGI server instead.\n",
      " * Debug mode: on\n"
     ]
    }
   ],
   "source": [
    "import dash\n",
    "import dash_core_components as dcc\n",
    "import dash_html_components as html\n",
    "from dash.dependencies import Input, Output\n",
    "\n",
    "app = dash.Dash()\n",
    "app.layout = html.Div([\n",
    "    html.H1('Outer calls'),\n",
    "    html.H3('By Floor'),\n",
    "    dcc.Dropdown(\n",
    "        id=\"building1\",\n",
    "        options=[\n",
    "            {'label': '研究大樓', 'value': '研究大樓'},\n",
    "            {'label': '北棟病床梯', 'value': '北棟病床梯'},\n",
    "            {'label': '南棟電梯', 'value': '南棟電梯'}\n",
    "        ],\n",
    "        value='研究大樓'\n",
    "    ),\n",
    "    dcc.Dropdown(\n",
    "        id=\"week1\",\n",
    "        options=[\n",
    "            {'label': '全日', 'value': 'total'},\n",
    "            {'label': '平日', 'value': 'weekday'},\n",
    "            {'label': '假日', 'value': 'weekend'}\n",
    "        ],\n",
    "        value='total'\n",
    "    ),\n",
    "    dcc.Graph(id=\"graph1\"),\n",
    "    \n",
    "    \n",
    "    html.H3('By Hour'),\n",
    "    dcc.Dropdown(\n",
    "        id=\"building2\",\n",
    "        options=[\n",
    "            {'label': '研究大樓', 'value': '研究大樓'},\n",
    "            {'label': '北棟病床梯', 'value': '北棟病床梯'},\n",
    "            {'label': '南棟電梯', 'value': '南棟電梯'}\n",
    "        ],\n",
    "        value='研究大樓'\n",
    "    ),\n",
    "        dcc.Dropdown(\n",
    "        id=\"week2\",\n",
    "        options=[\n",
    "            {'label': '全日', 'value': 'total'},\n",
    "            {'label': '平日', 'value': 'weekday'},\n",
    "            {'label': '假日', 'value': 'weekend'}\n",
    "        ],\n",
    "        value='total'\n",
    "    ),\n",
    "    dcc.Graph(id=\"graph2\")\n",
    "])\n",
    "\n",
    "@app.callback(\n",
    "    Output('graph1', 'figure'),\n",
    "    [Input('building1', 'value'),\n",
    "     Input('week1', 'value')])\n",
    "def update_figure(selected_building, selected_week):\n",
    "    \n",
    "    ## Building\n",
    "    temp = df[df.building == selected_building]\n",
    "    \n",
    "    ## Weekday / Weekend\n",
    "    if (selected_week != 'total'):\n",
    "        temp = temp[temp.week == selected_week]\n",
    "        \n",
    "        \n",
    "    fig = px.bar(data_frame=temp,\n",
    "                 x = \"floor\", y = \"avgWait\",\n",
    "                 facet_col=\"direction\",color=\"direction\",\n",
    "                 animation_frame=\"hour\",\n",
    "                 labels={\"avgWait\":\"Average Waiting Time(sec)\",\n",
    "                         \"hour\":\"Local Time (GMT+8)\"})\n",
    "    fig.update_xaxes(nticks=len(floor_list),\n",
    "                     type=\"category\",\n",
    "                    categoryarray=floor_list)\n",
    "    fig.update_yaxes(range=[0, 300])\n",
    "    fig.update_layout(title_text='Average Waiting Time of Elevator Calls in ' + selected_building + ' ('+ selected_week +')')\n",
    "    \n",
    "    return fig\n",
    "\n",
    "\n",
    "\n",
    "@app.callback(\n",
    "    Output('graph2', 'figure'),\n",
    "    [Input('building2', 'value'),\n",
    "     Input('week2', 'value')])\n",
    "def update_figure(selected_building, selected_week):\n",
    "    \n",
    "    ## Building\n",
    "    temp = df[df.building == selected_building]\n",
    "    \n",
    "    ## Weekday / Weekend\n",
    "    if (selected_week != 'total'):\n",
    "        temp = temp[temp.week == selected_week]\n",
    "        \n",
    "    \n",
    "    fig = px.bar(data_frame=temp, \n",
    "             x = \"hour\", y = \"avgWait\",\n",
    "             facet_col=\"direction\",color=\"direction\",\n",
    "             animation_frame=\"floor\",\n",
    "             labels={\"avgWait\":\"Average Waiting Time(sec)\",\n",
    "                     \"hour\":\"Local Time (GMT+8)\"})\n",
    "    fig.update_xaxes(nticks=len(floor_list),\n",
    "                     type=\"category\",\n",
    "                     categoryarray=[0,24])\n",
    "    fig.update_yaxes(range=[0, 300])\n",
    "    fig.update_layout(title_text='Frequency of Elevator Calls by Time in ' + selected_building + ' ('+ selected_week +')')\n",
    "    return fig\n",
    "        \n",
    "app.run_server(debug=True, use_reloader=False)"
   ]
  },
  {
   "cell_type": "code",
   "execution_count": null,
   "metadata": {},
   "outputs": [],
   "source": []
  }
 ],
 "metadata": {
  "kernelspec": {
   "display_name": "Python 3",
   "language": "python",
   "name": "python3"
  },
  "language_info": {
   "codemirror_mode": {
    "name": "ipython",
    "version": 3
   },
   "file_extension": ".py",
   "mimetype": "text/x-python",
   "name": "python",
   "nbconvert_exporter": "python",
   "pygments_lexer": "ipython3",
   "version": "3.7.6"
  }
 },
 "nbformat": 4,
 "nbformat_minor": 2
}
