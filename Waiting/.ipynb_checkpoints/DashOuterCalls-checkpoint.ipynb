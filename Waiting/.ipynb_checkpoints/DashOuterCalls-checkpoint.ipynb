{
 "cells": [
  {
   "cell_type": "code",
   "execution_count": 1,
   "metadata": {},
   "outputs": [
    {
     "data": {
      "text/html": [
       "        <script type=\"text/javascript\">\n",
       "        window.PlotlyConfig = {MathJaxConfig: 'local'};\n",
       "        if (window.MathJax) {MathJax.Hub.Config({SVG: {font: \"STIX-Web\"}});}\n",
       "        if (typeof require !== 'undefined') {\n",
       "        require.undef(\"plotly\");\n",
       "        requirejs.config({\n",
       "            paths: {\n",
       "                'plotly': ['https://cdn.plot.ly/plotly-latest.min']\n",
       "            }\n",
       "        });\n",
       "        require(['plotly'], function(Plotly) {\n",
       "            window._Plotly = Plotly;\n",
       "        });\n",
       "        }\n",
       "        </script>\n",
       "        "
      ]
     },
     "metadata": {},
     "output_type": "display_data"
    }
   ],
   "source": [
    "import pandas as pd\n",
    "import numpy as np\n",
    "import plotly\n",
    "from plotly.offline import download_plotlyjs, init_notebook_mode, plot, iplot\n",
    "init_notebook_mode(connected=True)"
   ]
  },
  {
   "cell_type": "markdown",
   "metadata": {},
   "source": [
    "# Plotly Express\n"
   ]
  },
  {
   "cell_type": "code",
   "execution_count": 2,
   "metadata": {},
   "outputs": [],
   "source": [
    "import plotly.express as px"
   ]
  },
  {
   "cell_type": "code",
   "execution_count": 3,
   "metadata": {},
   "outputs": [
    {
     "name": "stdout",
     "output_type": "stream",
     "text": [
      "  floor  hour direction     week    avgWait\n",
      "0    B4     0        up  weekday  13.542857\n",
      "1    B4     1        up  weekday   3.435000\n",
      "2    B4     2        up  weekday  20.257500\n",
      "3    B4     3        up  weekday  21.478000\n",
      "4    B4     4        up  weekday   6.170000\n",
      "     floor  hour direction     week    avgWait\n",
      "1496     1    21        up  weekend  17.123382\n",
      "1497     1    22      down  weekend  17.230000\n",
      "1498     1    22        up  weekend  14.311524\n",
      "1499     1    23      down  weekend  16.506154\n",
      "1500     1    23        up  weekend  14.112249\n"
     ]
    }
   ],
   "source": [
    "df_s = pd.read_csv('南棟客梯.csv',index_col = 0)  \n",
    "print(df_s.head())\n",
    "print(df_s.tail())"
   ]
  },
  {
   "cell_type": "markdown",
   "metadata": {},
   "source": [
    "plotly express 有點像是 ggplot in R，<br>\n",
    "只要指定x,y,color等就能自動幫你分類，<br>\n",
    "下面的圖表以南棟電梯的外部電梯呼叫資料為例，<br>\n",
    "x軸為樓層、以方向分開並上色，最後以時間(小時)作為動畫影格。"
   ]
  },
  {
   "cell_type": "code",
   "execution_count": 4,
   "metadata": {},
   "outputs": [
    {
     "data": {
      "application/vnd.plotly.v1+json": {
       "config": {
        "plotlyServerURL": "https://plot.ly"
       },
       "data": [
        {
         "alignmentgroup": "True",
         "hovertemplate": "direction=up<br>Local Time (GMT+8)=0<br>floor=%{x}<br>sec=%{y}<extra></extra>",
         "legendgroup": "up",
         "marker": {
          "color": "#636efa"
         },
         "name": "up",
         "offsetgroup": "up",
         "orientation": "v",
         "showlegend": true,
         "textposition": "auto",
         "type": "bar",
         "x": [
          "B4",
          "B3",
          "B1",
          "14",
          "13",
          "12",
          "11",
          "9",
          "8",
          "7",
          "6",
          "5",
          "4",
          "3",
          "1",
          "B4",
          "B1",
          "13",
          "9",
          "7",
          "6",
          "5",
          "4",
          "3",
          "1"
         ],
         "xaxis": "x",
         "y": [
          13.54285714,
          14.26,
          10.28657895,
          26.065,
          13.355,
          21.81333333,
          31.22,
          35.39,
          15.98,
          20.34833333,
          12.99166667,
          19.2875,
          26.16833333,
          14.54,
          5.323305556,
          26.941999999999997,
          10.19882353,
          32.78,
          39.71,
          9.92,
          23.97,
          21.405,
          8.16,
          14.66,
          5.841176471
         ],
         "yaxis": "y"
        },
        {
         "alignmentgroup": "True",
         "hovertemplate": "direction=down<br>Local Time (GMT+8)=0<br>floor=%{x}<br>sec=%{y}<extra></extra>",
         "legendgroup": "down",
         "marker": {
          "color": "#EF553B"
         },
         "name": "down",
         "offsetgroup": "down",
         "orientation": "v",
         "showlegend": true,
         "textposition": "auto",
         "type": "bar",
         "x": [
          "B1",
          "15",
          "14",
          "13",
          "12",
          "11",
          "10",
          "9",
          "8",
          "7",
          "6",
          "5",
          "4",
          "3",
          "2",
          "1",
          "B3",
          "B1",
          "15",
          "14",
          "13",
          "12",
          "11",
          "10",
          "9",
          "8",
          "7",
          "6",
          "5",
          "4",
          "3",
          "1"
         ],
         "xaxis": "x2",
         "y": [
          11.775,
          24.1675,
          25.31118644,
          19.11021739,
          17.05585366,
          15.82484375,
          9.605714286,
          17.36852941,
          16.39051471,
          13.27657143,
          14.81029412,
          15.17296296,
          16.95535135,
          12.85083333,
          45.35,
          9.858181818,
          12.37,
          15.675,
          26.04933333,
          13.70266667,
          18.21777778,
          13.81192308,
          19.80846154,
          0.975,
          15.99545455,
          16.54847826,
          15.69,
          17.9844,
          13.46666667,
          16.13694444,
          14.1025,
          5.792857142999999
         ],
         "yaxis": "y2"
        }
       ],
       "frames": [
        {
         "data": [
          {
           "alignmentgroup": "True",
           "hovertemplate": "direction=up<br>Local Time (GMT+8)=0<br>floor=%{x}<br>sec=%{y}<extra></extra>",
           "legendgroup": "up",
           "marker": {
            "color": "#636efa"
           },
           "name": "up",
           "offsetgroup": "up",
           "orientation": "v",
           "showlegend": true,
           "textposition": "auto",
           "type": "bar",
           "x": [
            "B4",
            "B3",
            "B1",
            "14",
            "13",
            "12",
            "11",
            "9",
            "8",
            "7",
            "6",
            "5",
            "4",
            "3",
            "1",
            "B4",
            "B1",
            "13",
            "9",
            "7",
            "6",
            "5",
            "4",
            "3",
            "1"
           ],
           "xaxis": "x",
           "y": [
            13.54285714,
            14.26,
            10.28657895,
            26.065,
            13.355,
            21.81333333,
            31.22,
            35.39,
            15.98,
            20.34833333,
            12.99166667,
            19.2875,
            26.16833333,
            14.54,
            5.323305556,
            26.941999999999997,
            10.19882353,
            32.78,
            39.71,
            9.92,
            23.97,
            21.405,
            8.16,
            14.66,
            5.841176471
           ],
           "yaxis": "y"
          },
          {
           "alignmentgroup": "True",
           "hovertemplate": "direction=down<br>Local Time (GMT+8)=0<br>floor=%{x}<br>sec=%{y}<extra></extra>",
           "legendgroup": "down",
           "marker": {
            "color": "#EF553B"
           },
           "name": "down",
           "offsetgroup": "down",
           "orientation": "v",
           "showlegend": true,
           "textposition": "auto",
           "type": "bar",
           "x": [
            "B1",
            "15",
            "14",
            "13",
            "12",
            "11",
            "10",
            "9",
            "8",
            "7",
            "6",
            "5",
            "4",
            "3",
            "2",
            "1",
            "B3",
            "B1",
            "15",
            "14",
            "13",
            "12",
            "11",
            "10",
            "9",
            "8",
            "7",
            "6",
            "5",
            "4",
            "3",
            "1"
           ],
           "xaxis": "x2",
           "y": [
            11.775,
            24.1675,
            25.31118644,
            19.11021739,
            17.05585366,
            15.82484375,
            9.605714286,
            17.36852941,
            16.39051471,
            13.27657143,
            14.81029412,
            15.17296296,
            16.95535135,
            12.85083333,
            45.35,
            9.858181818,
            12.37,
            15.675,
            26.04933333,
            13.70266667,
            18.21777778,
            13.81192308,
            19.80846154,
            0.975,
            15.99545455,
            16.54847826,
            15.69,
            17.9844,
            13.46666667,
            16.13694444,
            14.1025,
            5.792857142999999
           ],
           "yaxis": "y2"
          }
         ],
         "name": "0"
        },
        {
         "data": [
          {
           "alignmentgroup": "True",
           "hovertemplate": "direction=up<br>Local Time (GMT+8)=1<br>floor=%{x}<br>sec=%{y}<extra></extra>",
           "legendgroup": "up",
           "marker": {
            "color": "#636efa"
           },
           "name": "up",
           "offsetgroup": "up",
           "orientation": "v",
           "showlegend": true,
           "textposition": "auto",
           "type": "bar",
           "x": [
            "B4",
            "B3",
            "B1",
            "14",
            "13",
            "12",
            "9",
            "8",
            "7",
            "6",
            "5",
            "4",
            "3",
            "2",
            "1",
            "B3",
            "B1",
            "14",
            "8",
            "7",
            "6",
            "5",
            "4",
            "3",
            "2",
            "1"
           ],
           "xaxis": "x",
           "y": [
            3.435,
            8.81,
            7.592954545,
            43.53,
            22.285,
            10.975,
            14.155,
            18.1625,
            12.7,
            10.25,
            10.44,
            23.63666667,
            15.44076923,
            10.36,
            4.967370892,
            4.85,
            4.301111111,
            24.22,
            34.7,
            14.405,
            22.605,
            11.86,
            10.2,
            18.27,
            31.51,
            5.481744186
           ],
           "yaxis": "y"
          },
          {
           "alignmentgroup": "True",
           "hovertemplate": "direction=down<br>Local Time (GMT+8)=1<br>floor=%{x}<br>sec=%{y}<extra></extra>",
           "legendgroup": "down",
           "marker": {
            "color": "#EF553B"
           },
           "name": "down",
           "offsetgroup": "down",
           "orientation": "v",
           "showlegend": true,
           "textposition": "auto",
           "type": "bar",
           "x": [
            "B1",
            "15",
            "14",
            "13",
            "12",
            "11",
            "10",
            "9",
            "8",
            "7",
            "6",
            "5",
            "4",
            "3",
            "2",
            "1",
            "B1",
            "15",
            "14",
            "13",
            "12",
            "11",
            "10",
            "9",
            "8",
            "7",
            "6",
            "5",
            "4",
            "3",
            "1"
           ],
           "xaxis": "x2",
           "y": [
            10.204,
            18.51384615,
            18.54958904,
            12.33333333,
            19.85133333,
            19.3175,
            11.16,
            14.52883333,
            14.85595238,
            13.95048387,
            13.84979592,
            16.23422222,
            15.27857143,
            12.85769231,
            9.625,
            3.704375,
            9.036666667,
            22.3125,
            21.05264706,
            11.08857143,
            18.78304348,
            22.58333333,
            6.41,
            17.541875,
            17.686,
            14.44833333,
            15.44857143,
            16.2508,
            15.84157895,
            13.34333333,
            4.3475
           ],
           "yaxis": "y2"
          }
         ],
         "name": "1"
        },
        {
         "data": [
          {
           "alignmentgroup": "True",
           "hovertemplate": "direction=up<br>Local Time (GMT+8)=2<br>floor=%{x}<br>sec=%{y}<extra></extra>",
           "legendgroup": "up",
           "marker": {
            "color": "#636efa"
           },
           "name": "up",
           "offsetgroup": "up",
           "orientation": "v",
           "showlegend": true,
           "textposition": "auto",
           "type": "bar",
           "x": [
            "B4",
            "B1",
            "13",
            "9",
            "6",
            "5",
            "4",
            "3",
            "1",
            "B1",
            "11",
            "10",
            "6",
            "5",
            "3",
            "2",
            "1"
           ],
           "xaxis": "x",
           "y": [
            20.2575,
            6.351818182000001,
            18.95,
            16.85,
            9.34,
            18.92666667,
            8.19,
            2.3416666669999997,
            4.861626016000001,
            7.69,
            23.91,
            1.29,
            11.635,
            1.61,
            7.078333333,
            9.21,
            6.557
           ],
           "yaxis": "y"
          },
          {
           "alignmentgroup": "True",
           "hovertemplate": "direction=down<br>Local Time (GMT+8)=2<br>floor=%{x}<br>sec=%{y}<extra></extra>",
           "legendgroup": "down",
           "marker": {
            "color": "#EF553B"
           },
           "name": "down",
           "offsetgroup": "down",
           "orientation": "v",
           "showlegend": true,
           "textposition": "auto",
           "type": "bar",
           "x": [
            "14",
            "13",
            "12",
            "11",
            "10",
            "9",
            "8",
            "7",
            "6",
            "5",
            "4",
            "3",
            "2",
            "1",
            "B1",
            "15",
            "14",
            "13",
            "12",
            "11",
            "10",
            "9",
            "8",
            "7",
            "6",
            "5",
            "4",
            "3"
           ],
           "xaxis": "x2",
           "y": [
            18.91521739,
            15.69214286,
            16.43,
            18.86933333,
            18.24,
            14.6125,
            15.09913043,
            16.93836735,
            13.85736842,
            14.48142857,
            12.56923077,
            10.28466667,
            15.57,
            5.94,
            7.49,
            0.855,
            11.46875,
            11.005999999999998,
            14.25944444,
            15.79333333,
            16.8,
            9.36,
            8.43625,
            12.72173913,
            16.12142857,
            18.358,
            15.47666667,
            12.66
           ],
           "yaxis": "y2"
          }
         ],
         "name": "2"
        },
        {
         "data": [
          {
           "alignmentgroup": "True",
           "hovertemplate": "direction=up<br>Local Time (GMT+8)=3<br>floor=%{x}<br>sec=%{y}<extra></extra>",
           "legendgroup": "up",
           "marker": {
            "color": "#636efa"
           },
           "name": "up",
           "offsetgroup": "up",
           "orientation": "v",
           "showlegend": true,
           "textposition": "auto",
           "type": "bar",
           "x": [
            "B4",
            "B1",
            "14",
            "12",
            "11",
            "9",
            "7",
            "6",
            "5",
            "4",
            "3",
            "2",
            "1",
            "B4",
            "B1",
            "7",
            "5",
            "4",
            "3",
            "2",
            "1"
           ],
           "xaxis": "x",
           "y": [
            21.478,
            9.102142857,
            15.48,
            12.55,
            17.43,
            11.01,
            9.38,
            0.725,
            10.37,
            15.93,
            14.2075,
            28.1125,
            7.836052632,
            16.39,
            5.175,
            13.22,
            8.92,
            12.13,
            26.055,
            15.1,
            5.883783783999999
           ],
           "yaxis": "y"
          },
          {
           "alignmentgroup": "True",
           "hovertemplate": "direction=down<br>Local Time (GMT+8)=3<br>floor=%{x}<br>sec=%{y}<extra></extra>",
           "legendgroup": "down",
           "marker": {
            "color": "#EF553B"
           },
           "name": "down",
           "offsetgroup": "down",
           "orientation": "v",
           "showlegend": true,
           "textposition": "auto",
           "type": "bar",
           "x": [
            "B1",
            "15",
            "14",
            "13",
            "12",
            "11",
            "10",
            "9",
            "8",
            "7",
            "6",
            "5",
            "4",
            "3",
            "2",
            "1",
            "15",
            "14",
            "13",
            "12",
            "11",
            "10",
            "9",
            "8",
            "7",
            "6",
            "5",
            "4",
            "3",
            "1"
           ],
           "xaxis": "x2",
           "y": [
            1.21,
            11.755,
            18.72785714,
            16.22555556,
            18.740625,
            19.49666667,
            14.29666667,
            22.82714286,
            12.85333333,
            15.74322581,
            12.49294118,
            18.31384615,
            13.45,
            14.417,
            16.85,
            7.19,
            15.19,
            18.034000000000002,
            15.24857143,
            16.055,
            9.44,
            17.71,
            5.17,
            14.245,
            19.122,
            13.22818182,
            11.95,
            10.95,
            12.35333333,
            11.925
           ],
           "yaxis": "y2"
          }
         ],
         "name": "3"
        },
        {
         "data": [
          {
           "alignmentgroup": "True",
           "hovertemplate": "direction=up<br>Local Time (GMT+8)=4<br>floor=%{x}<br>sec=%{y}<extra></extra>",
           "legendgroup": "up",
           "marker": {
            "color": "#636efa"
           },
           "name": "up",
           "offsetgroup": "up",
           "orientation": "v",
           "showlegend": true,
           "textposition": "auto",
           "type": "bar",
           "x": [
            "B4",
            "B3",
            "B1",
            "7",
            "6",
            "5",
            "4",
            "3",
            "1",
            "B4",
            "B1",
            "5",
            "4",
            "3",
            "1"
           ],
           "xaxis": "x",
           "y": [
            6.17,
            13.16,
            9.189473684,
            14.7925,
            9.5,
            4.89,
            0.43,
            12.67,
            7.037017543999999,
            28.635,
            8.363846153999999,
            21.04,
            1.47,
            5.84,
            5.156486486
           ],
           "yaxis": "y"
          },
          {
           "alignmentgroup": "True",
           "hovertemplate": "direction=down<br>Local Time (GMT+8)=4<br>floor=%{x}<br>sec=%{y}<extra></extra>",
           "legendgroup": "down",
           "marker": {
            "color": "#EF553B"
           },
           "name": "down",
           "offsetgroup": "down",
           "orientation": "v",
           "showlegend": true,
           "textposition": "auto",
           "type": "bar",
           "x": [
            "14",
            "13",
            "12",
            "11",
            "10",
            "9",
            "8",
            "7",
            "6",
            "5",
            "4",
            "3",
            "2",
            "1",
            "14",
            "13",
            "12",
            "11",
            "10",
            "9",
            "8",
            "7",
            "6",
            "5",
            "4",
            "3",
            "2",
            "1"
           ],
           "xaxis": "x2",
           "y": [
            14.42416667,
            16.9595,
            17.96111111,
            16.97833333,
            6.886666667,
            15.61222222,
            16.33388889,
            13.53473684,
            16.16086957,
            14.34714286,
            8.011000000000001,
            12.642000000000001,
            9.866666667,
            5.337777778,
            20.23777778,
            13.58,
            18.19555556,
            13.65333333,
            1.245,
            16.97571429,
            10.19666667,
            13.5225,
            15.10666667,
            10.335,
            9.115,
            9.695,
            6.79,
            4.632857143
           ],
           "yaxis": "y2"
          }
         ],
         "name": "4"
        },
        {
         "data": [
          {
           "alignmentgroup": "True",
           "hovertemplate": "direction=up<br>Local Time (GMT+8)=5<br>floor=%{x}<br>sec=%{y}<extra></extra>",
           "legendgroup": "up",
           "marker": {
            "color": "#636efa"
           },
           "name": "up",
           "offsetgroup": "up",
           "orientation": "v",
           "showlegend": true,
           "textposition": "auto",
           "type": "bar",
           "x": [
            "B4",
            "B3",
            "B1",
            "14",
            "13",
            "12",
            "11",
            "9",
            "8",
            "6",
            "5",
            "4",
            "3",
            "1",
            "B4",
            "B3",
            "B1",
            "9",
            "8",
            "7",
            "6",
            "5",
            "4",
            "3",
            "1"
           ],
           "xaxis": "x",
           "y": [
            14.74583333,
            15.06,
            7.678333332999999,
            28.53,
            21.691999999999997,
            9.35,
            15.34,
            16.77,
            16.32,
            25.07,
            14.07,
            23.605,
            13.12333333,
            6.754777327999999,
            12.7575,
            17.405,
            8.445,
            12.205,
            24.76,
            36.25,
            48.01,
            18.01,
            8.905,
            20.30333333,
            6.726195652
           ],
           "yaxis": "y"
          },
          {
           "alignmentgroup": "True",
           "hovertemplate": "direction=down<br>Local Time (GMT+8)=5<br>floor=%{x}<br>sec=%{y}<extra></extra>",
           "legendgroup": "down",
           "marker": {
            "color": "#EF553B"
           },
           "name": "down",
           "offsetgroup": "down",
           "orientation": "v",
           "showlegend": true,
           "textposition": "auto",
           "type": "bar",
           "x": [
            "15",
            "14",
            "13",
            "12",
            "11",
            "10",
            "9",
            "8",
            "7",
            "6",
            "5",
            "4",
            "3",
            "1",
            "15",
            "14",
            "13",
            "12",
            "11",
            "9",
            "8",
            "7",
            "6",
            "5",
            "4",
            "3",
            "1"
           ],
           "xaxis": "x2",
           "y": [
            27.57333333,
            20.13511111,
            17.36139535,
            15.0152459,
            15.74191489,
            6.766666667000001,
            16.51724138,
            15.97366667,
            14.10964286,
            14.44777778,
            18.10266667,
            12.97428571,
            21.28125,
            7.288695652,
            21.435,
            14.37235294,
            22.74692308,
            22.66111111,
            10.78230769,
            12.64,
            13.542,
            13.42380952,
            13.485,
            20.155,
            15.435,
            17.37,
            17.65
           ],
           "yaxis": "y2"
          }
         ],
         "name": "5"
        },
        {
         "data": [
          {
           "alignmentgroup": "True",
           "hovertemplate": "direction=up<br>Local Time (GMT+8)=6<br>floor=%{x}<br>sec=%{y}<extra></extra>",
           "legendgroup": "up",
           "marker": {
            "color": "#636efa"
           },
           "name": "up",
           "offsetgroup": "up",
           "orientation": "v",
           "showlegend": true,
           "textposition": "auto",
           "type": "bar",
           "x": [
            "B4",
            "B3",
            "B1",
            "14",
            "13",
            "12",
            "11",
            "10",
            "9",
            "8",
            "7",
            "6",
            "5",
            "4",
            "3",
            "2",
            "1",
            "B4",
            "B3",
            "B1",
            "14",
            "13",
            "12",
            "9",
            "8",
            "7",
            "6",
            "5",
            "3",
            "1"
           ],
           "xaxis": "x",
           "y": [
            24.82973333,
            13.83535714,
            19.47764706,
            38.9175,
            32.80071429,
            45.04428571,
            50.43666667,
            56.13,
            28.95,
            36.99,
            7.438,
            38.51806452,
            12.27466667,
            12.51214286,
            13.77857143,
            18.34,
            17.36362963,
            19.75538462,
            11.30875,
            19.06653061,
            30.395,
            36.94,
            12.54,
            47.65,
            45.48166667,
            72.81,
            24.29909091,
            8.6475,
            2.515,
            15.24036923
           ],
           "yaxis": "y"
          },
          {
           "alignmentgroup": "True",
           "hovertemplate": "direction=down<br>Local Time (GMT+8)=6<br>floor=%{x}<br>sec=%{y}<extra></extra>",
           "legendgroup": "down",
           "marker": {
            "color": "#EF553B"
           },
           "name": "down",
           "offsetgroup": "down",
           "orientation": "v",
           "showlegend": true,
           "textposition": "auto",
           "type": "bar",
           "x": [
            "B3",
            "B1",
            "15",
            "14",
            "13",
            "12",
            "11",
            "9",
            "8",
            "7",
            "6",
            "5",
            "4",
            "3",
            "2",
            "1",
            "B1",
            "15",
            "14",
            "13",
            "12",
            "11",
            "9",
            "8",
            "7",
            "6",
            "5",
            "4",
            "3",
            "2",
            "1"
           ],
           "xaxis": "x2",
           "y": [
            11.72,
            31.29852941,
            30.40777778,
            32.30084507,
            20.12730994,
            22.43213675,
            20.06993548,
            16.45621359,
            18.77839744,
            15.8811413,
            14.2208867,
            27.56820513,
            22.40166667,
            27.038556699999997,
            29.24666667,
            14.37653061,
            35.47272727,
            51.94666667,
            31.11540984,
            22.58108696,
            22.0185,
            19.10018868,
            17.44488372,
            14.37729167,
            18.01526316,
            14.03407895,
            31.37766667,
            41.044,
            26.52486486,
            69.285,
            13.07857143
           ],
           "yaxis": "y2"
          }
         ],
         "name": "6"
        },
        {
         "data": [
          {
           "alignmentgroup": "True",
           "hovertemplate": "direction=up<br>Local Time (GMT+8)=7<br>floor=%{x}<br>sec=%{y}<extra></extra>",
           "legendgroup": "up",
           "marker": {
            "color": "#636efa"
           },
           "name": "up",
           "offsetgroup": "up",
           "orientation": "v",
           "showlegend": true,
           "textposition": "auto",
           "type": "bar",
           "x": [
            "B4",
            "B3",
            "B1",
            "14",
            "13",
            "12",
            "11",
            "10",
            "9",
            "8",
            "7",
            "6",
            "5",
            "4",
            "3",
            "2",
            "1",
            "B4",
            "B3",
            "B1",
            "14",
            "13",
            "12",
            "11",
            "10",
            "9",
            "8",
            "7",
            "6",
            "5",
            "4",
            "3",
            "2",
            "1"
           ],
           "xaxis": "x",
           "y": [
            32.40641791,
            19.91534392,
            26.18236715,
            53.299,
            38.72545455,
            41.51333333,
            56.35153846,
            62.675,
            39.35578947,
            36.41380952,
            50.69862069,
            70.99287671,
            11.04069767,
            9.6775,
            10.25445946,
            9.3255,
            15.20316147,
            22.85197368,
            15.46875,
            24.83337553,
            89.15,
            31.43375,
            56.9,
            89.495,
            217.91,
            51.16823529,
            37.96777778,
            87.22,
            58.30090909,
            14.9675,
            12.255999999999998,
            14.49423077,
            12.18,
            17.97079038
           ],
           "yaxis": "y"
          },
          {
           "alignmentgroup": "True",
           "hovertemplate": "direction=down<br>Local Time (GMT+8)=7<br>floor=%{x}<br>sec=%{y}<extra></extra>",
           "legendgroup": "down",
           "marker": {
            "color": "#EF553B"
           },
           "name": "down",
           "offsetgroup": "down",
           "orientation": "v",
           "showlegend": true,
           "textposition": "auto",
           "type": "bar",
           "x": [
            "B3",
            "B1",
            "15",
            "14",
            "13",
            "12",
            "11",
            "10",
            "9",
            "8",
            "7",
            "6",
            "5",
            "4",
            "3",
            "2",
            "1",
            "B3",
            "B1",
            "15",
            "14",
            "13",
            "12",
            "11",
            "10",
            "9",
            "8",
            "7",
            "6",
            "5",
            "4",
            "3",
            "2",
            "1"
           ],
           "xaxis": "x2",
           "y": [
            22.58,
            28.96854839,
            50.59324324,
            46.19707865,
            27.63387454,
            22.22938628,
            17.44232975,
            16.54090909,
            16.08915612,
            16.35487365,
            14.52095618,
            13.49898785,
            49.36166667,
            39.18066667,
            40.87908333,
            40.92571429,
            29.77925926,
            46.65166667,
            23.61565217,
            46.77363636,
            49.95652632,
            22.23474747,
            22.04909091,
            19.86329787,
            15.1875,
            17.46027778,
            15.89489362,
            16.77445783,
            13.31049505,
            51.39,
            35.07884615,
            33.85466667,
            28.06142857,
            28.01740741
           ],
           "yaxis": "y2"
          }
         ],
         "name": "7"
        },
        {
         "data": [
          {
           "alignmentgroup": "True",
           "hovertemplate": "direction=up<br>Local Time (GMT+8)=8<br>floor=%{x}<br>sec=%{y}<extra></extra>",
           "legendgroup": "up",
           "marker": {
            "color": "#636efa"
           },
           "name": "up",
           "offsetgroup": "up",
           "orientation": "v",
           "showlegend": true,
           "textposition": "auto",
           "type": "bar",
           "x": [
            "B4",
            "B3",
            "B1",
            "14",
            "13",
            "12",
            "11",
            "10",
            "9",
            "8",
            "7",
            "6",
            "5",
            "4",
            "3",
            "2",
            "1",
            "B4",
            "B3",
            "B1",
            "14",
            "13",
            "12",
            "11",
            "10",
            "9",
            "8",
            "7",
            "6",
            "5",
            "4",
            "3",
            "2",
            "1"
           ],
           "xaxis": "x",
           "y": [
            30.08351779,
            20.17243243,
            28.25829181,
            63.59923077,
            51.92125,
            56.79,
            87.75,
            50.64428571,
            56.09391304,
            72.46166667,
            64.17617647,
            59.75162791,
            15.21020408,
            10.54633333,
            9.7625,
            7.512280702000001,
            17.15813154,
            23.99532468,
            20.32489796,
            30.16720524,
            68.954,
            69.74666667,
            33.87833333,
            69.915,
            73.14,
            66.97857143,
            82.366,
            73.28727273,
            69.655,
            12.60333333,
            11.1462963,
            9.66744186,
            5.912727273,
            20.6412
           ],
           "yaxis": "y"
          },
          {
           "alignmentgroup": "True",
           "hovertemplate": "direction=down<br>Local Time (GMT+8)=8<br>floor=%{x}<br>sec=%{y}<extra></extra>",
           "legendgroup": "down",
           "marker": {
            "color": "#EF553B"
           },
           "name": "down",
           "offsetgroup": "down",
           "orientation": "v",
           "showlegend": true,
           "textposition": "auto",
           "type": "bar",
           "x": [
            "B3",
            "B1",
            "15",
            "14",
            "13",
            "12",
            "11",
            "10",
            "9",
            "8",
            "7",
            "6",
            "5",
            "4",
            "3",
            "2",
            "1",
            "B3",
            "B1",
            "15",
            "14",
            "13",
            "12",
            "11",
            "10",
            "9",
            "8",
            "7",
            "6",
            "5",
            "4",
            "3",
            "2",
            "1"
           ],
           "xaxis": "x2",
           "y": [
            30.31272727,
            25.05783133,
            54.88721311,
            55.02916968,
            25.12909375,
            20.93503425,
            15.76152905,
            12.82487805,
            14.61520548,
            13.11241983,
            12.50026217,
            11.53106452,
            46.58642857,
            43.94679348,
            30.4559375,
            18.58304348,
            21.91177083,
            25.9175,
            23.50296296,
            53.82041667,
            50.26238532,
            25.88580357,
            19.75875,
            15.65677419,
            13.20263158,
            16.95798165,
            14.07813084,
            13.52308411,
            13.02605263,
            46.36412698,
            41.35634921,
            25.43448718,
            11.70888889,
            24.08370968
           ],
           "yaxis": "y2"
          }
         ],
         "name": "8"
        },
        {
         "data": [
          {
           "alignmentgroup": "True",
           "hovertemplate": "direction=up<br>Local Time (GMT+8)=9<br>floor=%{x}<br>sec=%{y}<extra></extra>",
           "legendgroup": "up",
           "marker": {
            "color": "#636efa"
           },
           "name": "up",
           "offsetgroup": "up",
           "orientation": "v",
           "showlegend": true,
           "textposition": "auto",
           "type": "bar",
           "x": [
            "B4",
            "B3",
            "B1",
            "14",
            "13",
            "12",
            "11",
            "10",
            "9",
            "8",
            "7",
            "6",
            "5",
            "4",
            "3",
            "2",
            "1",
            "B4",
            "B3",
            "B1",
            "14",
            "13",
            "12",
            "11",
            "10",
            "9",
            "8",
            "7",
            "6",
            "5",
            "4",
            "3",
            "2",
            "1"
           ],
           "xaxis": "x",
           "y": [
            31.82159624,
            18.43597015,
            26.97566462,
            82.90636364,
            65.93875,
            39.74538462,
            48.53125,
            81.76333333,
            72.303,
            67.49621622,
            71.21574074,
            70.92916667,
            11.32155844,
            10.19552632,
            8.491111111,
            7.71592233,
            17.62986003,
            33.22894118,
            30.1795,
            24.32505208,
            72.98,
            47.07428571,
            33.79333333,
            38.84125,
            164.7333333,
            37.09111111,
            56.76222222,
            60.69111111,
            62.60846154,
            8.854444444,
            12.62244444,
            8.965588235,
            7.799545455,
            18.48867521
           ],
           "yaxis": "y"
          },
          {
           "alignmentgroup": "True",
           "hovertemplate": "direction=down<br>Local Time (GMT+8)=9<br>floor=%{x}<br>sec=%{y}<extra></extra>",
           "legendgroup": "down",
           "marker": {
            "color": "#EF553B"
           },
           "name": "down",
           "offsetgroup": "down",
           "orientation": "v",
           "showlegend": true,
           "textposition": "auto",
           "type": "bar",
           "x": [
            "B3",
            "B1",
            "15",
            "14",
            "13",
            "12",
            "11",
            "10",
            "9",
            "8",
            "7",
            "6",
            "5",
            "4",
            "3",
            "2",
            "1",
            "B3",
            "B1",
            "15",
            "14",
            "13",
            "12",
            "11",
            "10",
            "9",
            "8",
            "7",
            "6",
            "5",
            "4",
            "3",
            "2",
            "1"
           ],
           "xaxis": "x2",
           "y": [
            42.51071429,
            21.0788764,
            80.90065789,
            57.86033639,
            27.16094801,
            19.07154639,
            14.76299003,
            12.38146341,
            12.49076412,
            13.15844156,
            11.95281588,
            10.98630225,
            52.18089744,
            28.46373494,
            26.02320442,
            23.15211538,
            18.17184713,
            27.9525,
            23.29592593,
            75.68046512,
            58.00653226,
            29.30675,
            14.47108911,
            16.49480769,
            10.63521739,
            15.77116071,
            12.85796117,
            12.06383929,
            11.26925926,
            51.12188406,
            44.3545614,
            27.393030300000003,
            19.365,
            22.91156863
           ],
           "yaxis": "y2"
          }
         ],
         "name": "9"
        },
        {
         "data": [
          {
           "alignmentgroup": "True",
           "hovertemplate": "direction=up<br>Local Time (GMT+8)=10<br>floor=%{x}<br>sec=%{y}<extra></extra>",
           "legendgroup": "up",
           "marker": {
            "color": "#636efa"
           },
           "name": "up",
           "offsetgroup": "up",
           "orientation": "v",
           "showlegend": true,
           "textposition": "auto",
           "type": "bar",
           "x": [
            "B4",
            "B3",
            "B1",
            "14",
            "13",
            "12",
            "11",
            "10",
            "9",
            "8",
            "7",
            "6",
            "5",
            "4",
            "3",
            "2",
            "1",
            "B4",
            "B3",
            "B1",
            "14",
            "13",
            "12",
            "11",
            "9",
            "8",
            "7",
            "6",
            "5",
            "4",
            "3",
            "2",
            "1"
           ],
           "xaxis": "x",
           "y": [
            34.1715859,
            20.58682243,
            30.99402844,
            120.40571429999999,
            50.19272727,
            37.64633333,
            22.76692308,
            45.78551724,
            65.78346154,
            54.761,
            53.16671642,
            77.38109589,
            12.52386667,
            11.18900901,
            8.485703125,
            7.748055556000001,
            17.82118068,
            28.28465517,
            20.72709677,
            36.51318919,
            13.01,
            49.542,
            52.669,
            23.13,
            38.04133333,
            69.048125,
            52.94863636,
            70.54095238,
            11.515,
            11.7484375,
            13.01970588,
            8.266,
            19.75619266
           ],
           "yaxis": "y"
          },
          {
           "alignmentgroup": "True",
           "hovertemplate": "direction=down<br>Local Time (GMT+8)=10<br>floor=%{x}<br>sec=%{y}<extra></extra>",
           "legendgroup": "down",
           "marker": {
            "color": "#EF553B"
           },
           "name": "down",
           "offsetgroup": "down",
           "orientation": "v",
           "showlegend": true,
           "textposition": "auto",
           "type": "bar",
           "x": [
            "B3",
            "B1",
            "15",
            "14",
            "13",
            "12",
            "11",
            "10",
            "9",
            "8",
            "7",
            "6",
            "5",
            "4",
            "3",
            "2",
            "1",
            "B3",
            "B1",
            "15",
            "14",
            "13",
            "12",
            "11",
            "10",
            "9",
            "8",
            "7",
            "6",
            "5",
            "4",
            "3",
            "2",
            "1"
           ],
           "xaxis": "x2",
           "y": [
            25.10037037,
            24.15363636,
            78.43833333,
            61.85969492,
            28.24836237,
            16.43317518,
            15.36433447,
            11.08622378,
            11.77430556,
            11.67217105,
            10.69985965,
            11.6958125,
            46.76795652,
            25.95120482,
            24.427106600000002,
            21.78979167,
            21.17461538,
            37.1475,
            27.13862069,
            77.18,
            70.91282051,
            24.50474138,
            17.69482456,
            15.91469027,
            10.01035714,
            13.33504,
            12.24414063,
            10.39646018,
            11.51626168,
            50.34611111,
            37.64,
            26.92909091,
            17.22125,
            24.14589286
           ],
           "yaxis": "y2"
          }
         ],
         "name": "10"
        },
        {
         "data": [
          {
           "alignmentgroup": "True",
           "hovertemplate": "direction=up<br>Local Time (GMT+8)=11<br>floor=%{x}<br>sec=%{y}<extra></extra>",
           "legendgroup": "up",
           "marker": {
            "color": "#636efa"
           },
           "name": "up",
           "offsetgroup": "up",
           "orientation": "v",
           "showlegend": true,
           "textposition": "auto",
           "type": "bar",
           "x": [
            "B4",
            "B3",
            "B1",
            "14",
            "13",
            "12",
            "11",
            "10",
            "9",
            "8",
            "7",
            "6",
            "5",
            "4",
            "3",
            "2",
            "1",
            "B4",
            "B3",
            "B1",
            "14",
            "13",
            "12",
            "11",
            "10",
            "9",
            "8",
            "7",
            "6",
            "5",
            "4",
            "3",
            "2",
            "1"
           ],
           "xaxis": "x",
           "y": [
            49.02057613,
            21.71535088,
            28.9941483,
            65.49533333,
            38.76516129,
            60.13380952,
            43.66769231,
            49.4708,
            58.41840909,
            50.23160714,
            61.0715493,
            71.81855263,
            12.883375,
            13.09392593,
            8.50751938,
            10.49744186,
            13.27246781,
            34.62672727,
            23.62323529,
            46.30771429,
            41.65333333,
            35.12428571,
            56.84733333,
            65.12461538,
            44.48,
            56.51285714,
            73.61399999999999,
            57.13458333,
            64.55933333,
            19.73444444,
            11.96567568,
            9.467391304,
            11.36090909,
            15.91603175
           ],
           "yaxis": "y"
          },
          {
           "alignmentgroup": "True",
           "hovertemplate": "direction=down<br>Local Time (GMT+8)=11<br>floor=%{x}<br>sec=%{y}<extra></extra>",
           "legendgroup": "down",
           "marker": {
            "color": "#EF553B"
           },
           "name": "down",
           "offsetgroup": "down",
           "orientation": "v",
           "showlegend": true,
           "textposition": "auto",
           "type": "bar",
           "x": [
            "B3",
            "B1",
            "15",
            "14",
            "13",
            "12",
            "11",
            "10",
            "9",
            "8",
            "7",
            "6",
            "5",
            "4",
            "3",
            "2",
            "1",
            "B3",
            "B1",
            "15",
            "14",
            "13",
            "12",
            "11",
            "10",
            "9",
            "8",
            "7",
            "6",
            "5",
            "4",
            "3",
            "2",
            "1"
           ],
           "xaxis": "x2",
           "y": [
            36.19391304,
            25.9253271,
            77.81405941,
            65.99817109,
            34.95441261,
            18.70092063,
            14.025448499999998,
            12.4034375,
            12.3802649,
            9.987006578999999,
            10.90224422,
            10.91721805,
            65.93203125,
            37.14823529,
            26.92695238,
            22.85469388,
            20.90542105,
            33.59444444,
            23.08146341,
            85.79890625,
            61.2797479,
            35.3712963,
            16.57423358,
            13.86369748,
            11.413125,
            11.12429825,
            10.57735537,
            10.44532258,
            8.663333332999999,
            49.74567568,
            43.25146067,
            30.6078,
            18.23705882,
            28.17238095
           ],
           "yaxis": "y2"
          }
         ],
         "name": "11"
        },
        {
         "data": [
          {
           "alignmentgroup": "True",
           "hovertemplate": "direction=up<br>Local Time (GMT+8)=12<br>floor=%{x}<br>sec=%{y}<extra></extra>",
           "legendgroup": "up",
           "marker": {
            "color": "#636efa"
           },
           "name": "up",
           "offsetgroup": "up",
           "orientation": "v",
           "showlegend": true,
           "textposition": "auto",
           "type": "bar",
           "x": [
            "B4",
            "B3",
            "B1",
            "14",
            "13",
            "12",
            "11",
            "10",
            "9",
            "8",
            "7",
            "6",
            "5",
            "4",
            "3",
            "2",
            "1",
            "B4",
            "B3",
            "B1",
            "14",
            "13",
            "12",
            "11",
            "10",
            "9",
            "8",
            "7",
            "6",
            "5",
            "4",
            "3",
            "2",
            "1"
           ],
           "xaxis": "x",
           "y": [
            48.67666667,
            27.95846847,
            33.96481203,
            76.56933333,
            82.04,
            55.82,
            47.2825,
            55.22916667,
            48.34892857,
            46.87555556,
            69.27978723,
            76.69696429,
            10.46121622,
            9.921585366,
            8.93733945,
            9.733170732,
            13.91057692,
            46.81163636,
            14.96952381,
            40.72053191,
            264.43,
            63.5825,
            45.23888889,
            56.56142857,
            68.7,
            36.448,
            56.07727273,
            43.058387100000004,
            59.25428571,
            12.19363636,
            15.990625,
            8.41452381,
            9.302,
            17.16349754
           ],
           "yaxis": "y"
          },
          {
           "alignmentgroup": "True",
           "hovertemplate": "direction=down<br>Local Time (GMT+8)=12<br>floor=%{x}<br>sec=%{y}<extra></extra>",
           "legendgroup": "down",
           "marker": {
            "color": "#EF553B"
           },
           "name": "down",
           "offsetgroup": "down",
           "orientation": "v",
           "showlegend": true,
           "textposition": "auto",
           "type": "bar",
           "x": [
            "B3",
            "B1",
            "15",
            "14",
            "13",
            "12",
            "11",
            "10",
            "9",
            "8",
            "7",
            "6",
            "5",
            "4",
            "3",
            "2",
            "1",
            "B3",
            "B1",
            "15",
            "14",
            "13",
            "12",
            "11",
            "10",
            "9",
            "8",
            "7",
            "6",
            "5",
            "4",
            "3",
            "2",
            "1"
           ],
           "xaxis": "x2",
           "y": [
            22.92956522,
            23.603387100000003,
            81.15102703,
            56.40991525,
            33.63287709,
            17.24123596,
            12.78285256,
            10.90515152,
            11.94447712,
            11.61687307,
            10.85493671,
            10.28398496,
            61.51339535,
            36.59184874,
            26.69846847,
            16.03861111,
            23.26264045,
            39.9,
            33.85375,
            81.42979592,
            68.21093023,
            31.32048544,
            18.82663636,
            12.38309735,
            10.81060606,
            13.839495800000002,
            11.72537037,
            11.61345133,
            9.1018,
            56.4392,
            35.529625,
            30.94486486,
            15.03444444,
            19.74407407
           ],
           "yaxis": "y2"
          }
         ],
         "name": "12"
        },
        {
         "data": [
          {
           "alignmentgroup": "True",
           "hovertemplate": "direction=up<br>Local Time (GMT+8)=13<br>floor=%{x}<br>sec=%{y}<extra></extra>",
           "legendgroup": "up",
           "marker": {
            "color": "#636efa"
           },
           "name": "up",
           "offsetgroup": "up",
           "orientation": "v",
           "showlegend": true,
           "textposition": "auto",
           "type": "bar",
           "x": [
            "B4",
            "B3",
            "B1",
            "14",
            "13",
            "12",
            "11",
            "10",
            "9",
            "8",
            "7",
            "6",
            "5",
            "4",
            "3",
            "2",
            "1",
            "B4",
            "B3",
            "B1",
            "14",
            "13",
            "12",
            "11",
            "10",
            "9",
            "8",
            "7",
            "6",
            "5",
            "4",
            "3",
            "2",
            "1"
           ],
           "xaxis": "x",
           "y": [
            43.59296296,
            22.53537634,
            27.07171598,
            95.06,
            45.36952381,
            61.32857143,
            40.21210526,
            45.257,
            51.2504,
            60.61282051,
            67.79828947,
            90.40340909,
            15.13309859,
            11.06293651,
            10.42054054,
            10.30325301,
            16.05842466,
            30.92638889,
            28.96034483,
            30.8282967,
            127.086,
            37.66,
            25.22333333,
            76.47307692,
            41.17125,
            27.52785714,
            52.3575,
            92.0948,
            70.62666667,
            12.56305556,
            12.02322581,
            12.2066129,
            6.678421052999999,
            18.28895735
           ],
           "yaxis": "y"
          },
          {
           "alignmentgroup": "True",
           "hovertemplate": "direction=down<br>Local Time (GMT+8)=13<br>floor=%{x}<br>sec=%{y}<extra></extra>",
           "legendgroup": "down",
           "marker": {
            "color": "#EF553B"
           },
           "name": "down",
           "offsetgroup": "down",
           "orientation": "v",
           "showlegend": true,
           "textposition": "auto",
           "type": "bar",
           "x": [
            "B3",
            "B1",
            "15",
            "14",
            "13",
            "12",
            "11",
            "10",
            "9",
            "8",
            "7",
            "6",
            "5",
            "4",
            "3",
            "2",
            "1",
            "B3",
            "B1",
            "15",
            "14",
            "13",
            "12",
            "11",
            "10",
            "9",
            "8",
            "7",
            "6",
            "5",
            "4",
            "3",
            "2",
            "1"
           ],
           "xaxis": "x2",
           "y": [
            18.629,
            25.245530300000002,
            79.45678322,
            66.39167183,
            28.48062893,
            19.80119318,
            12.92865031,
            13.70944882,
            13.24744027,
            12.00620178,
            11.03775244,
            10.28178988,
            49.22449761,
            33.61414201,
            24.60463918,
            12.88857143,
            19.14601124,
            15.70125,
            25.32769231,
            65.7,
            62.14018182,
            30.83021053,
            15.06217391,
            14.563125,
            10.62512821,
            15.11828283,
            13.45281553,
            13.54496063,
            12.93989796,
            62.39484375,
            24.66079365,
            29.20693182,
            11.92176471,
            12.748
           ],
           "yaxis": "y2"
          }
         ],
         "name": "13"
        },
        {
         "data": [
          {
           "alignmentgroup": "True",
           "hovertemplate": "direction=up<br>Local Time (GMT+8)=14<br>floor=%{x}<br>sec=%{y}<extra></extra>",
           "legendgroup": "up",
           "marker": {
            "color": "#636efa"
           },
           "name": "up",
           "offsetgroup": "up",
           "orientation": "v",
           "showlegend": true,
           "textposition": "auto",
           "type": "bar",
           "x": [
            "B4",
            "B3",
            "B1",
            "14",
            "13",
            "12",
            "11",
            "10",
            "9",
            "8",
            "7",
            "6",
            "5",
            "4",
            "3",
            "2",
            "1",
            "B4",
            "B3",
            "B1",
            "14",
            "13",
            "12",
            "11",
            "10",
            "9",
            "8",
            "7",
            "6",
            "5",
            "4",
            "3",
            "2",
            "1"
           ],
           "xaxis": "x",
           "y": [
            32.46376984,
            21.90603774,
            29.7032636,
            105.20333329999998,
            71.12,
            34.89782609,
            38.48875,
            97.97,
            43.582,
            62.34644068,
            66.76563636,
            78.14044444,
            11.3401,
            10.4108125,
            9.024102564,
            11.9871875,
            15.71495741,
            33.808701299999996,
            16.54736842,
            32.12968085,
            17.42333333,
            38.18666667,
            38.18888889,
            59.646,
            103.7714286,
            78.77466667,
            53.10210526,
            48.02518519,
            63.531000000000006,
            11.41355556,
            11.62333333,
            7.654259259,
            8.81,
            18.33012931
           ],
           "yaxis": "y"
          },
          {
           "alignmentgroup": "True",
           "hovertemplate": "direction=down<br>Local Time (GMT+8)=14<br>floor=%{x}<br>sec=%{y}<extra></extra>",
           "legendgroup": "down",
           "marker": {
            "color": "#EF553B"
           },
           "name": "down",
           "offsetgroup": "down",
           "orientation": "v",
           "showlegend": true,
           "textposition": "auto",
           "type": "bar",
           "x": [
            "B3",
            "B1",
            "15",
            "14",
            "13",
            "12",
            "11",
            "10",
            "9",
            "8",
            "7",
            "6",
            "5",
            "4",
            "3",
            "2",
            "1",
            "B3",
            "B1",
            "15",
            "14",
            "13",
            "12",
            "11",
            "10",
            "9",
            "8",
            "7",
            "6",
            "5",
            "4",
            "3",
            "2",
            "1"
           ],
           "xaxis": "x2",
           "y": [
            23.7655,
            22.07666667,
            74.46777778,
            66.90239344,
            26.33547855,
            18.28167192,
            15.08414894,
            10.91760274,
            13.49208754,
            12.00324759,
            11.86885246,
            10.73014085,
            51.60777293,
            36.83219409,
            20.95643836,
            20.1525641,
            18.83859649,
            10.564,
            19.88689655,
            51.71056604,
            64.9666,
            27.95771654,
            17.31035714,
            13.79117647,
            8.495,
            12.12155963,
            11.20907216,
            13.14948718,
            11.45653846,
            40.79231884,
            37.39043956,
            20.24928571,
            26.116,
            15.26465116
           ],
           "yaxis": "y2"
          }
         ],
         "name": "14"
        },
        {
         "data": [
          {
           "alignmentgroup": "True",
           "hovertemplate": "direction=up<br>Local Time (GMT+8)=15<br>floor=%{x}<br>sec=%{y}<extra></extra>",
           "legendgroup": "up",
           "marker": {
            "color": "#636efa"
           },
           "name": "up",
           "offsetgroup": "up",
           "orientation": "v",
           "showlegend": true,
           "textposition": "auto",
           "type": "bar",
           "x": [
            "B4",
            "B3",
            "B1",
            "14",
            "13",
            "12",
            "11",
            "10",
            "9",
            "8",
            "7",
            "6",
            "5",
            "4",
            "3",
            "2",
            "1",
            "B4",
            "B3",
            "B1",
            "14",
            "13",
            "12",
            "11",
            "10",
            "9",
            "8",
            "7",
            "6",
            "5",
            "4",
            "3",
            "2",
            "1"
           ],
           "xaxis": "x",
           "y": [
            35.87952381,
            16.150990099999998,
            29.27938215,
            73.85333333,
            28.94066667,
            27.82363636,
            38.58833333,
            54.275,
            42.28744681,
            51.44793651,
            63.75333333,
            93.01814286,
            16.38195122,
            12.71112903,
            8.592913907,
            8.529647059,
            18.92326599,
            34.5835,
            18.515,
            32.82764706,
            82.2125,
            64.41555556,
            50.94428571,
            72.555,
            35.51285714,
            37.09571429,
            47.93318182,
            63.120625,
            76.47842105,
            10.30527778,
            9.367878787999999,
            10.04829268,
            12.29458333,
            20.75512
           ],
           "yaxis": "y"
          },
          {
           "alignmentgroup": "True",
           "hovertemplate": "direction=down<br>Local Time (GMT+8)=15<br>floor=%{x}<br>sec=%{y}<extra></extra>",
           "legendgroup": "down",
           "marker": {
            "color": "#EF553B"
           },
           "name": "down",
           "offsetgroup": "down",
           "orientation": "v",
           "showlegend": true,
           "textposition": "auto",
           "type": "bar",
           "x": [
            "B3",
            "B1",
            "15",
            "14",
            "13",
            "12",
            "11",
            "10",
            "9",
            "8",
            "7",
            "6",
            "5",
            "4",
            "3",
            "2",
            "1",
            "B3",
            "B1",
            "15",
            "14",
            "13",
            "12",
            "11",
            "10",
            "9",
            "8",
            "7",
            "6",
            "5",
            "4",
            "3",
            "2",
            "1"
           ],
           "xaxis": "x2",
           "y": [
            21.84884615,
            20.39195122,
            77.34607595,
            60.21380952,
            26.75651316,
            19.24252427,
            15.20768116,
            11.80709877,
            12.02182724,
            10.39535484,
            11.35462295,
            9.753493151,
            57.33867299,
            30.35223776,
            22.53346008,
            17.3526087,
            15.65359116,
            18.16583333,
            17.98482759,
            72.98490909,
            62.28697479,
            22.01963235,
            18.65747967,
            15.30295455,
            10.37196078,
            13.66833333,
            12.65015625,
            10.95554622,
            12.27178295,
            44.45666667,
            33.1684466,
            25.31963235,
            12.57764706,
            14.86410959
           ],
           "yaxis": "y2"
          }
         ],
         "name": "15"
        },
        {
         "data": [
          {
           "alignmentgroup": "True",
           "hovertemplate": "direction=up<br>Local Time (GMT+8)=16<br>floor=%{x}<br>sec=%{y}<extra></extra>",
           "legendgroup": "up",
           "marker": {
            "color": "#636efa"
           },
           "name": "up",
           "offsetgroup": "up",
           "orientation": "v",
           "showlegend": true,
           "textposition": "auto",
           "type": "bar",
           "x": [
            "B4",
            "B3",
            "B1",
            "14",
            "13",
            "12",
            "11",
            "10",
            "9",
            "8",
            "7",
            "6",
            "5",
            "4",
            "3",
            "2",
            "1",
            "B4",
            "B3",
            "B1",
            "14",
            "13",
            "12",
            "11",
            "10",
            "9",
            "8",
            "7",
            "6",
            "5",
            "4",
            "3",
            "2",
            "1"
           ],
           "xaxis": "x",
           "y": [
            34.2713834,
            19.57567568,
            30.23877944,
            108.57333329999999,
            33.88583333,
            47.16095238,
            46.68058824,
            49.30206897,
            48.39352941,
            53.43063492,
            78.83933333,
            59.93780822,
            11.602020199999998,
            10.8988806,
            9.288062016,
            9.034526316000001,
            16.250402800000003,
            33.61045977,
            19.44448276,
            32.43352632,
            95.82857143,
            41.31399999999999,
            78.4975,
            39.24,
            45.12692308,
            55.7032,
            52.22533333,
            60.50578947,
            72.26565217,
            11.07076923,
            11.59139535,
            8.11175,
            10.09758621,
            16.62628906
           ],
           "yaxis": "y"
          },
          {
           "alignmentgroup": "True",
           "hovertemplate": "direction=down<br>Local Time (GMT+8)=16<br>floor=%{x}<br>sec=%{y}<extra></extra>",
           "legendgroup": "down",
           "marker": {
            "color": "#EF553B"
           },
           "name": "down",
           "offsetgroup": "down",
           "orientation": "v",
           "showlegend": true,
           "textposition": "auto",
           "type": "bar",
           "x": [
            "B3",
            "B1",
            "15",
            "14",
            "13",
            "12",
            "11",
            "10",
            "9",
            "8",
            "7",
            "6",
            "5",
            "4",
            "3",
            "2",
            "1",
            "B3",
            "B1",
            "15",
            "14",
            "13",
            "12",
            "11",
            "10",
            "9",
            "8",
            "7",
            "6",
            "5",
            "4",
            "3",
            "2",
            "1"
           ],
           "xaxis": "x2",
           "y": [
            18.58392857,
            17.15445378,
            74.27364583,
            60.32532353,
            28.74621849,
            18.953,
            13.86175896,
            11.22534722,
            13.084625,
            9.812330623,
            10.08903904,
            10.07396774,
            52.51614458,
            30.14191882,
            17.24274262,
            15.15591837,
            17.46817204,
            20.11666667,
            26.68607143,
            65.78455882,
            61.44291971,
            27.31515625,
            18.680999999999997,
            14.35774194,
            12.59648148,
            11.21832215,
            11.78847222,
            10.44028302,
            12.09854545,
            43.06673684,
            29.18389474,
            26.09358491,
            9.63,
            24.18203704
           ],
           "yaxis": "y2"
          }
         ],
         "name": "16"
        },
        {
         "data": [
          {
           "alignmentgroup": "True",
           "hovertemplate": "direction=up<br>Local Time (GMT+8)=17<br>floor=%{x}<br>sec=%{y}<extra></extra>",
           "legendgroup": "up",
           "marker": {
            "color": "#636efa"
           },
           "name": "up",
           "offsetgroup": "up",
           "orientation": "v",
           "showlegend": true,
           "textposition": "auto",
           "type": "bar",
           "x": [
            "B4",
            "B3",
            "B1",
            "14",
            "13",
            "12",
            "11",
            "10",
            "9",
            "8",
            "7",
            "6",
            "5",
            "4",
            "3",
            "2",
            "1",
            "B4",
            "B3",
            "B1",
            "14",
            "13",
            "12",
            "11",
            "10",
            "9",
            "8",
            "7",
            "6",
            "5",
            "4",
            "3",
            "2",
            "1"
           ],
           "xaxis": "x",
           "y": [
            40.27939394,
            19.60731343,
            34.59875686,
            124.52083329999999,
            60.67411765,
            41.29777778,
            53.33571429,
            45.53444444,
            59.38368421,
            53.22464286,
            62.91493151,
            73.70109091,
            11.9778481,
            13.79443299,
            8.746666667000001,
            8.954736842,
            16.13431005,
            43.48176471,
            24.774,
            39.46706731,
            90.21,
            48.98,
            24.735,
            40.0925,
            53.60444444,
            49.930625,
            58.95444444,
            95.2815,
            66.87285714,
            16.00666667,
            11.60444444,
            11.741,
            12.06066667,
            18.13662551
           ],
           "yaxis": "y"
          },
          {
           "alignmentgroup": "True",
           "hovertemplate": "direction=down<br>Local Time (GMT+8)=17<br>floor=%{x}<br>sec=%{y}<extra></extra>",
           "legendgroup": "down",
           "marker": {
            "color": "#EF553B"
           },
           "name": "down",
           "offsetgroup": "down",
           "orientation": "v",
           "showlegend": true,
           "textposition": "auto",
           "type": "bar",
           "x": [
            "B3",
            "B1",
            "15",
            "14",
            "13",
            "12",
            "11",
            "10",
            "9",
            "8",
            "7",
            "6",
            "5",
            "4",
            "3",
            "2",
            "1",
            "B3",
            "B1",
            "15",
            "14",
            "13",
            "12",
            "11",
            "10",
            "9",
            "8",
            "7",
            "6",
            "5",
            "4",
            "3",
            "2",
            "1"
           ],
           "xaxis": "x2",
           "y": [
            33.78166667,
            28.58122642,
            73.46947115,
            57.89131105,
            32.54225974,
            14.60273657,
            13.7068595,
            11.09888268,
            10.88948787,
            10.04880556,
            9.857471591,
            10.21281046,
            65.00578313,
            31.46842697,
            28.5430131,
            22.18,
            26.29304636,
            2.93,
            25.99064516,
            67.96459016,
            61.82482014,
            24.71957447,
            19.32189873,
            12.02503226,
            9.725294117999999,
            11.585,
            10.15561644,
            10.624366199999999,
            9.884094487999999,
            56.86035714,
            43.48098039,
            33.467,
            25.48916667,
            25.4612069
           ],
           "yaxis": "y2"
          }
         ],
         "name": "17"
        },
        {
         "data": [
          {
           "alignmentgroup": "True",
           "hovertemplate": "direction=up<br>Local Time (GMT+8)=18<br>floor=%{x}<br>sec=%{y}<extra></extra>",
           "legendgroup": "up",
           "marker": {
            "color": "#636efa"
           },
           "name": "up",
           "offsetgroup": "up",
           "orientation": "v",
           "showlegend": true,
           "textposition": "auto",
           "type": "bar",
           "x": [
            "B4",
            "B3",
            "B1",
            "14",
            "13",
            "12",
            "11",
            "10",
            "9",
            "8",
            "7",
            "6",
            "5",
            "4",
            "3",
            "2",
            "1",
            "B4",
            "B3",
            "B1",
            "14",
            "13",
            "12",
            "11",
            "10",
            "9",
            "8",
            "7",
            "6",
            "5",
            "4",
            "3",
            "2",
            "1"
           ],
           "xaxis": "x",
           "y": [
            31.82266667,
            20.53404762,
            44.52363636,
            74.54666667,
            55.132,
            41.685,
            60.48166667,
            76.123,
            52.2526087,
            47.1832,
            62.71285714,
            60.66258065,
            12.2825,
            11.9116,
            9.255833333,
            11.92863636,
            19.72394984,
            42.754,
            27.47125,
            37.16336406,
            40.665,
            43.54333333,
            44.24,
            43.513999999999996,
            217.895,
            67.55,
            47.36666667,
            63.59571429,
            86.925,
            13.543,
            15.35090909,
            9.709090909,
            8.978,
            19.70268908
           ],
           "yaxis": "y"
          },
          {
           "alignmentgroup": "True",
           "hovertemplate": "direction=down<br>Local Time (GMT+8)=18<br>floor=%{x}<br>sec=%{y}<extra></extra>",
           "legendgroup": "down",
           "marker": {
            "color": "#EF553B"
           },
           "name": "down",
           "offsetgroup": "down",
           "orientation": "v",
           "showlegend": true,
           "textposition": "auto",
           "type": "bar",
           "x": [
            "B3",
            "B1",
            "15",
            "14",
            "13",
            "12",
            "11",
            "10",
            "9",
            "8",
            "7",
            "6",
            "5",
            "4",
            "3",
            "2",
            "1",
            "B1",
            "15",
            "14",
            "13",
            "12",
            "11",
            "10",
            "9",
            "8",
            "7",
            "6",
            "5",
            "4",
            "3",
            "2",
            "1"
           ],
           "xaxis": "x2",
           "y": [
            25.26,
            29.318,
            56.42613861,
            67.28525907,
            24.5861828,
            16.32425743,
            13.27431635,
            13.21192308,
            11.50292308,
            12.13253133,
            10.70521053,
            10.31134286,
            53.88534884,
            31.68122137,
            34.06288991,
            15.43884615,
            25.62904412,
            24.48576923,
            68.21710526,
            58.16586207,
            21.31292308,
            16.13294574,
            15.64328358,
            15.70129032,
            12.92632353,
            10.99025,
            11.26133858,
            10.84112069,
            49.83871429,
            32.89210526,
            35.74364706,
            26.01,
            29.9172093
           ],
           "yaxis": "y2"
          }
         ],
         "name": "18"
        },
        {
         "data": [
          {
           "alignmentgroup": "True",
           "hovertemplate": "direction=up<br>Local Time (GMT+8)=19<br>floor=%{x}<br>sec=%{y}<extra></extra>",
           "legendgroup": "up",
           "marker": {
            "color": "#636efa"
           },
           "name": "up",
           "offsetgroup": "up",
           "orientation": "v",
           "showlegend": true,
           "textposition": "auto",
           "type": "bar",
           "x": [
            "B4",
            "B3",
            "B1",
            "14",
            "13",
            "12",
            "11",
            "10",
            "9",
            "8",
            "7",
            "6",
            "5",
            "4",
            "3",
            "2",
            "1",
            "B4",
            "B3",
            "B1",
            "14",
            "13",
            "12",
            "11",
            "10",
            "9",
            "8",
            "7",
            "6",
            "5",
            "4",
            "3",
            "1"
           ],
           "xaxis": "x",
           "y": [
            26.47895833,
            34.61463415,
            43.256319700000006,
            59.45,
            39.76384615,
            42.47083333,
            37.16888889,
            59.80529412,
            99.1375,
            69.84,
            44.98175,
            66.19464286,
            13.52134328,
            9.3834375,
            10.51176471,
            131.0957143,
            20.63797768,
            26.232,
            40.80555556,
            35.8220283,
            19.455,
            39.094,
            31.022,
            42.485,
            24.46,
            64.01666667,
            72.53428571,
            64.46,
            40.65,
            12.085625,
            12.78666667,
            7.3496875,
            22.05825455
           ],
           "yaxis": "y"
          },
          {
           "alignmentgroup": "True",
           "hovertemplate": "direction=down<br>Local Time (GMT+8)=19<br>floor=%{x}<br>sec=%{y}<extra></extra>",
           "legendgroup": "down",
           "marker": {
            "color": "#EF553B"
           },
           "name": "down",
           "offsetgroup": "down",
           "orientation": "v",
           "showlegend": true,
           "textposition": "auto",
           "type": "bar",
           "x": [
            "B3",
            "B1",
            "15",
            "14",
            "13",
            "12",
            "11",
            "10",
            "9",
            "8",
            "7",
            "6",
            "5",
            "4",
            "3",
            "2",
            "1",
            "B3",
            "B1",
            "15",
            "14",
            "13",
            "12",
            "11",
            "10",
            "9",
            "8",
            "7",
            "6",
            "5",
            "4",
            "3",
            "2",
            "1"
           ],
           "xaxis": "x2",
           "y": [
            56.8,
            28.00276923,
            52.25733333,
            60.64501312,
            24.89744745,
            18.14810726,
            16.04068323,
            9.386145832999999,
            13.03622478,
            13.9447185,
            13.18874693,
            12.14096096,
            57.86894737,
            39.91878788,
            38.44122995,
            22.726875,
            28.37666667,
            1.6,
            16.37916667,
            56.09388889,
            60.97168317,
            22.40844037,
            18.08661017,
            16.20106557,
            10.46076923,
            14.11630252,
            13.01813953,
            13.73,
            11.30606838,
            49.72597561,
            29.07,
            39.27460674,
            15.46375,
            21.24147059
           ],
           "yaxis": "y2"
          }
         ],
         "name": "19"
        },
        {
         "data": [
          {
           "alignmentgroup": "True",
           "hovertemplate": "direction=up<br>Local Time (GMT+8)=20<br>floor=%{x}<br>sec=%{y}<extra></extra>",
           "legendgroup": "up",
           "marker": {
            "color": "#636efa"
           },
           "name": "up",
           "offsetgroup": "up",
           "orientation": "v",
           "showlegend": true,
           "textposition": "auto",
           "type": "bar",
           "x": [
            "B4",
            "B3",
            "B1",
            "14",
            "13",
            "12",
            "11",
            "10",
            "9",
            "8",
            "7",
            "6",
            "5",
            "4",
            "3",
            "2",
            "1",
            "B4",
            "B3",
            "B1",
            "14",
            "13",
            "12",
            "11",
            "9",
            "8",
            "7",
            "6",
            "5",
            "4",
            "3",
            "2",
            "1"
           ],
           "xaxis": "x",
           "y": [
            21.43890625,
            29.92285714,
            25.63469043,
            35.056,
            56.98285714,
            67.63416667,
            23.39555556,
            60.94333333,
            42.305625,
            46.16555556,
            36.3368,
            40.463125,
            11.45095238,
            13.25789474,
            13.06090909,
            10.97,
            22.67554273,
            19.25666667,
            32.708,
            28.76087209,
            36.83,
            24.676,
            28.695,
            76.64,
            44.53333333,
            29.781999999999996,
            38.70071429,
            39.735,
            19.688,
            16.71625,
            18.26733333,
            14.54,
            21.83359223
           ],
           "yaxis": "y"
          },
          {
           "alignmentgroup": "True",
           "hovertemplate": "direction=down<br>Local Time (GMT+8)=20<br>floor=%{x}<br>sec=%{y}<extra></extra>",
           "legendgroup": "down",
           "marker": {
            "color": "#EF553B"
           },
           "name": "down",
           "offsetgroup": "down",
           "orientation": "v",
           "showlegend": true,
           "textposition": "auto",
           "type": "bar",
           "x": [
            "B1",
            "15",
            "14",
            "13",
            "12",
            "11",
            "10",
            "9",
            "8",
            "7",
            "6",
            "5",
            "4",
            "3",
            "2",
            "1",
            "B1",
            "15",
            "14",
            "13",
            "12",
            "11",
            "10",
            "9",
            "8",
            "7",
            "6",
            "5",
            "4",
            "3",
            "2",
            "1"
           ],
           "xaxis": "x2",
           "y": [
            22.27,
            43.96684211,
            45.709587299999995,
            19.91897059,
            18.57537931,
            16.37824324,
            12.11272727,
            15.55846939,
            14.59897297,
            13.93146154,
            12.32697248,
            39.05545455,
            32.17528024,
            23.34587189,
            18.655,
            17.94917808,
            28.83846154,
            43.4825,
            43.4228,
            19.10088235,
            13.075999999999999,
            16.15098039,
            14.9425,
            15.12495146,
            16.02241071,
            11.69354331,
            13.32392523,
            32.24322034,
            37.37336,
            25.52454545,
            68.69,
            20.68913043
           ],
           "yaxis": "y2"
          }
         ],
         "name": "20"
        },
        {
         "data": [
          {
           "alignmentgroup": "True",
           "hovertemplate": "direction=up<br>Local Time (GMT+8)=21<br>floor=%{x}<br>sec=%{y}<extra></extra>",
           "legendgroup": "up",
           "marker": {
            "color": "#636efa"
           },
           "name": "up",
           "offsetgroup": "up",
           "orientation": "v",
           "showlegend": true,
           "textposition": "auto",
           "type": "bar",
           "x": [
            "B4",
            "B3",
            "B1",
            "14",
            "13",
            "12",
            "11",
            "10",
            "9",
            "8",
            "7",
            "6",
            "5",
            "4",
            "3",
            "2",
            "1",
            "B4",
            "B3",
            "B1",
            "14",
            "13",
            "12",
            "11",
            "9",
            "7",
            "6",
            "5",
            "4",
            "3",
            "1"
           ],
           "xaxis": "x",
           "y": [
            21.42745455,
            20.07733333,
            18.96095679,
            38.55538462,
            21.35,
            40.165,
            41.934,
            20.885,
            27.555,
            37.94583333,
            31.70882353,
            37.91666667,
            17.1845098,
            13.36208333,
            14.72947368,
            12.94,
            16.72507661,
            16.28423077,
            15.56583333,
            17.54888889,
            35.1025,
            33.99,
            33.85,
            19,
            17.808,
            34.32375,
            41.67333333,
            10.175,
            13.975,
            20.05818182,
            17.12338235
           ],
           "yaxis": "y"
          },
          {
           "alignmentgroup": "True",
           "hovertemplate": "direction=down<br>Local Time (GMT+8)=21<br>floor=%{x}<br>sec=%{y}<extra></extra>",
           "legendgroup": "down",
           "marker": {
            "color": "#EF553B"
           },
           "name": "down",
           "offsetgroup": "down",
           "orientation": "v",
           "showlegend": true,
           "textposition": "auto",
           "type": "bar",
           "x": [
            "B3",
            "B1",
            "15",
            "14",
            "13",
            "12",
            "11",
            "10",
            "9",
            "8",
            "7",
            "6",
            "5",
            "4",
            "3",
            "2",
            "1",
            "B3",
            "B1",
            "15",
            "14",
            "13",
            "12",
            "11",
            "10",
            "9",
            "8",
            "7",
            "6",
            "5",
            "4",
            "3",
            "2",
            "1"
           ],
           "xaxis": "x2",
           "y": [
            53.66333333,
            22.42967742,
            36.65133333,
            30.37207627,
            16.53364486,
            14.39316832,
            15.38950226,
            17.70148148,
            14.47578755,
            15.139000000000001,
            13.91429012,
            14.73540541,
            27.22987342,
            31.37875,
            26.66265734,
            38.996,
            12.11116667,
            12.93,
            13.55166667,
            50.26416667,
            30.06111111,
            17.02859155,
            17.78920635,
            13.85474747,
            13.20333333,
            13.62272727,
            15.95712644,
            14.48417391,
            13.37307692,
            31.12666667,
            30.68346154,
            31.09053571,
            5.535,
            13.61
           ],
           "yaxis": "y2"
          }
         ],
         "name": "21"
        },
        {
         "data": [
          {
           "alignmentgroup": "True",
           "hovertemplate": "direction=up<br>Local Time (GMT+8)=22<br>floor=%{x}<br>sec=%{y}<extra></extra>",
           "legendgroup": "up",
           "marker": {
            "color": "#636efa"
           },
           "name": "up",
           "offsetgroup": "up",
           "orientation": "v",
           "showlegend": true,
           "textposition": "auto",
           "type": "bar",
           "x": [
            "B4",
            "B3",
            "B1",
            "14",
            "13",
            "12",
            "11",
            "10",
            "9",
            "8",
            "7",
            "6",
            "5",
            "4",
            "3",
            "1",
            "B4",
            "B3",
            "B1",
            "14",
            "13",
            "12",
            "10",
            "9",
            "8",
            "7",
            "6",
            "5",
            "4",
            "3",
            "1"
           ],
           "xaxis": "x",
           "y": [
            12.7225,
            18.15222222,
            15.71271186,
            24.955,
            7.62,
            13.06857143,
            23.47166667,
            6.696666667000001,
            18.9725,
            16.97,
            20.70625,
            22.471999999999998,
            11.75461538,
            14.94071429,
            12.28380952,
            12.02808889,
            56.62,
            13.47333333,
            15.30038961,
            29.355,
            12.12,
            19.505,
            21.79,
            39.084,
            32.53,
            13.285,
            24.7725,
            10.18,
            24.315,
            16.41857143,
            14.31152381
           ],
           "yaxis": "y"
          },
          {
           "alignmentgroup": "True",
           "hovertemplate": "direction=down<br>Local Time (GMT+8)=22<br>floor=%{x}<br>sec=%{y}<extra></extra>",
           "legendgroup": "down",
           "marker": {
            "color": "#EF553B"
           },
           "name": "down",
           "offsetgroup": "down",
           "orientation": "v",
           "showlegend": true,
           "textposition": "auto",
           "type": "bar",
           "x": [
            "B3",
            "B1",
            "15",
            "14",
            "13",
            "12",
            "11",
            "10",
            "9",
            "8",
            "7",
            "6",
            "5",
            "4",
            "3",
            "2",
            "1",
            "B3",
            "B1",
            "15",
            "14",
            "13",
            "12",
            "11",
            "10",
            "9",
            "8",
            "7",
            "6",
            "5",
            "4",
            "3",
            "2",
            "1"
           ],
           "xaxis": "x2",
           "y": [
            20.1,
            14.00636364,
            29.85708333,
            23.79747368,
            18.24455285,
            18.96982759,
            16.8965035,
            13.01421053,
            17.52858333,
            16.39025,
            14.16201149,
            13.96805556,
            21.75818182,
            22.718000000000004,
            19.823880600000003,
            13.26,
            14.43227273,
            10.92333333,
            20.531999999999996,
            40.68428571,
            25.48189655,
            19.37897959,
            12.43272727,
            16.667,
            23.2175,
            17.68666667,
            18.08246154,
            13.02338235,
            16.74480769,
            23.92970588,
            24.625999999999998,
            19.37903226,
            13.6,
            17.23
           ],
           "yaxis": "y2"
          }
         ],
         "name": "22"
        },
        {
         "data": [
          {
           "alignmentgroup": "True",
           "hovertemplate": "direction=up<br>Local Time (GMT+8)=23<br>floor=%{x}<br>sec=%{y}<extra></extra>",
           "legendgroup": "up",
           "marker": {
            "color": "#636efa"
           },
           "name": "up",
           "offsetgroup": "up",
           "orientation": "v",
           "showlegend": true,
           "textposition": "auto",
           "type": "bar",
           "x": [
            "B4",
            "B3",
            "B1",
            "14",
            "13",
            "12",
            "11",
            "9",
            "8",
            "7",
            "6",
            "5",
            "4",
            "3",
            "2",
            "1",
            "B4",
            "B3",
            "B1",
            "12",
            "8",
            "7",
            "6",
            "5",
            "4",
            "3",
            "2",
            "1"
           ],
           "xaxis": "x",
           "y": [
            27.55888889,
            16.64,
            15.38538012,
            22.23,
            23.56,
            14.852,
            20.0475,
            9.16,
            47.77,
            14.40571429,
            25.69583333,
            10.61533333,
            12.130999999999998,
            15.90363636,
            5.07,
            13.12219365,
            15.01,
            13.5725,
            23.09727273,
            20.48,
            34.71,
            18.33,
            25.73833333,
            7.98,
            15.365,
            11.32,
            20.895,
            14.112248999999998
           ],
           "yaxis": "y"
          },
          {
           "alignmentgroup": "True",
           "hovertemplate": "direction=down<br>Local Time (GMT+8)=23<br>floor=%{x}<br>sec=%{y}<extra></extra>",
           "legendgroup": "down",
           "marker": {
            "color": "#EF553B"
           },
           "name": "down",
           "offsetgroup": "down",
           "orientation": "v",
           "showlegend": true,
           "textposition": "auto",
           "type": "bar",
           "x": [
            "B1",
            "15",
            "14",
            "13",
            "12",
            "11",
            "10",
            "9",
            "8",
            "7",
            "6",
            "5",
            "4",
            "3",
            "2",
            "1",
            "B1",
            "15",
            "14",
            "13",
            "12",
            "11",
            "10",
            "9",
            "8",
            "7",
            "6",
            "5",
            "4",
            "3",
            "1"
           ],
           "xaxis": "x2",
           "y": [
            8.802222222000001,
            24.7204,
            22.18972603,
            14.45054795,
            16.21826087,
            17.79866667,
            14.46,
            18.21734694,
            17.28546667,
            16.98634409,
            13.28316456,
            15.67484848,
            16.65081967,
            16.71956522,
            10.93,
            12.58394737,
            28.19,
            24.32625,
            13.07,
            10.3052,
            19.358,
            14.03305556,
            9.872,
            18.34545455,
            12.0775,
            17.05409091,
            23.12631579,
            18.59266667,
            16.30333333,
            19.08257732,
            16.50615385
           ],
           "yaxis": "y2"
          }
         ],
         "name": "23"
        }
       ],
       "layout": {
        "annotations": [
         {
          "font": {},
          "showarrow": false,
          "text": "direction=up",
          "x": 0.245,
          "xanchor": "center",
          "xref": "paper",
          "y": 1,
          "yanchor": "bottom",
          "yref": "paper"
         },
         {
          "font": {},
          "showarrow": false,
          "text": "direction=down",
          "x": 0.755,
          "xanchor": "center",
          "xref": "paper",
          "y": 1,
          "yanchor": "bottom",
          "yref": "paper"
         }
        ],
        "barmode": "relative",
        "legend": {
         "title": {
          "text": "direction"
         },
         "tracegroupgap": 0
        },
        "margin": {
         "t": 60
        },
        "sliders": [
         {
          "active": 0,
          "currentvalue": {
           "prefix": "Local Time (GMT+8)="
          },
          "len": 0.9,
          "pad": {
           "b": 10,
           "t": 60
          },
          "steps": [
           {
            "args": [
             [
              "0"
             ],
             {
              "frame": {
               "duration": 0,
               "redraw": true
              },
              "fromcurrent": true,
              "mode": "immediate",
              "transition": {
               "duration": 0,
               "easing": "linear"
              }
             }
            ],
            "label": "0",
            "method": "animate"
           },
           {
            "args": [
             [
              "1"
             ],
             {
              "frame": {
               "duration": 0,
               "redraw": true
              },
              "fromcurrent": true,
              "mode": "immediate",
              "transition": {
               "duration": 0,
               "easing": "linear"
              }
             }
            ],
            "label": "1",
            "method": "animate"
           },
           {
            "args": [
             [
              "2"
             ],
             {
              "frame": {
               "duration": 0,
               "redraw": true
              },
              "fromcurrent": true,
              "mode": "immediate",
              "transition": {
               "duration": 0,
               "easing": "linear"
              }
             }
            ],
            "label": "2",
            "method": "animate"
           },
           {
            "args": [
             [
              "3"
             ],
             {
              "frame": {
               "duration": 0,
               "redraw": true
              },
              "fromcurrent": true,
              "mode": "immediate",
              "transition": {
               "duration": 0,
               "easing": "linear"
              }
             }
            ],
            "label": "3",
            "method": "animate"
           },
           {
            "args": [
             [
              "4"
             ],
             {
              "frame": {
               "duration": 0,
               "redraw": true
              },
              "fromcurrent": true,
              "mode": "immediate",
              "transition": {
               "duration": 0,
               "easing": "linear"
              }
             }
            ],
            "label": "4",
            "method": "animate"
           },
           {
            "args": [
             [
              "5"
             ],
             {
              "frame": {
               "duration": 0,
               "redraw": true
              },
              "fromcurrent": true,
              "mode": "immediate",
              "transition": {
               "duration": 0,
               "easing": "linear"
              }
             }
            ],
            "label": "5",
            "method": "animate"
           },
           {
            "args": [
             [
              "6"
             ],
             {
              "frame": {
               "duration": 0,
               "redraw": true
              },
              "fromcurrent": true,
              "mode": "immediate",
              "transition": {
               "duration": 0,
               "easing": "linear"
              }
             }
            ],
            "label": "6",
            "method": "animate"
           },
           {
            "args": [
             [
              "7"
             ],
             {
              "frame": {
               "duration": 0,
               "redraw": true
              },
              "fromcurrent": true,
              "mode": "immediate",
              "transition": {
               "duration": 0,
               "easing": "linear"
              }
             }
            ],
            "label": "7",
            "method": "animate"
           },
           {
            "args": [
             [
              "8"
             ],
             {
              "frame": {
               "duration": 0,
               "redraw": true
              },
              "fromcurrent": true,
              "mode": "immediate",
              "transition": {
               "duration": 0,
               "easing": "linear"
              }
             }
            ],
            "label": "8",
            "method": "animate"
           },
           {
            "args": [
             [
              "9"
             ],
             {
              "frame": {
               "duration": 0,
               "redraw": true
              },
              "fromcurrent": true,
              "mode": "immediate",
              "transition": {
               "duration": 0,
               "easing": "linear"
              }
             }
            ],
            "label": "9",
            "method": "animate"
           },
           {
            "args": [
             [
              "10"
             ],
             {
              "frame": {
               "duration": 0,
               "redraw": true
              },
              "fromcurrent": true,
              "mode": "immediate",
              "transition": {
               "duration": 0,
               "easing": "linear"
              }
             }
            ],
            "label": "10",
            "method": "animate"
           },
           {
            "args": [
             [
              "11"
             ],
             {
              "frame": {
               "duration": 0,
               "redraw": true
              },
              "fromcurrent": true,
              "mode": "immediate",
              "transition": {
               "duration": 0,
               "easing": "linear"
              }
             }
            ],
            "label": "11",
            "method": "animate"
           },
           {
            "args": [
             [
              "12"
             ],
             {
              "frame": {
               "duration": 0,
               "redraw": true
              },
              "fromcurrent": true,
              "mode": "immediate",
              "transition": {
               "duration": 0,
               "easing": "linear"
              }
             }
            ],
            "label": "12",
            "method": "animate"
           },
           {
            "args": [
             [
              "13"
             ],
             {
              "frame": {
               "duration": 0,
               "redraw": true
              },
              "fromcurrent": true,
              "mode": "immediate",
              "transition": {
               "duration": 0,
               "easing": "linear"
              }
             }
            ],
            "label": "13",
            "method": "animate"
           },
           {
            "args": [
             [
              "14"
             ],
             {
              "frame": {
               "duration": 0,
               "redraw": true
              },
              "fromcurrent": true,
              "mode": "immediate",
              "transition": {
               "duration": 0,
               "easing": "linear"
              }
             }
            ],
            "label": "14",
            "method": "animate"
           },
           {
            "args": [
             [
              "15"
             ],
             {
              "frame": {
               "duration": 0,
               "redraw": true
              },
              "fromcurrent": true,
              "mode": "immediate",
              "transition": {
               "duration": 0,
               "easing": "linear"
              }
             }
            ],
            "label": "15",
            "method": "animate"
           },
           {
            "args": [
             [
              "16"
             ],
             {
              "frame": {
               "duration": 0,
               "redraw": true
              },
              "fromcurrent": true,
              "mode": "immediate",
              "transition": {
               "duration": 0,
               "easing": "linear"
              }
             }
            ],
            "label": "16",
            "method": "animate"
           },
           {
            "args": [
             [
              "17"
             ],
             {
              "frame": {
               "duration": 0,
               "redraw": true
              },
              "fromcurrent": true,
              "mode": "immediate",
              "transition": {
               "duration": 0,
               "easing": "linear"
              }
             }
            ],
            "label": "17",
            "method": "animate"
           },
           {
            "args": [
             [
              "18"
             ],
             {
              "frame": {
               "duration": 0,
               "redraw": true
              },
              "fromcurrent": true,
              "mode": "immediate",
              "transition": {
               "duration": 0,
               "easing": "linear"
              }
             }
            ],
            "label": "18",
            "method": "animate"
           },
           {
            "args": [
             [
              "19"
             ],
             {
              "frame": {
               "duration": 0,
               "redraw": true
              },
              "fromcurrent": true,
              "mode": "immediate",
              "transition": {
               "duration": 0,
               "easing": "linear"
              }
             }
            ],
            "label": "19",
            "method": "animate"
           },
           {
            "args": [
             [
              "20"
             ],
             {
              "frame": {
               "duration": 0,
               "redraw": true
              },
              "fromcurrent": true,
              "mode": "immediate",
              "transition": {
               "duration": 0,
               "easing": "linear"
              }
             }
            ],
            "label": "20",
            "method": "animate"
           },
           {
            "args": [
             [
              "21"
             ],
             {
              "frame": {
               "duration": 0,
               "redraw": true
              },
              "fromcurrent": true,
              "mode": "immediate",
              "transition": {
               "duration": 0,
               "easing": "linear"
              }
             }
            ],
            "label": "21",
            "method": "animate"
           },
           {
            "args": [
             [
              "22"
             ],
             {
              "frame": {
               "duration": 0,
               "redraw": true
              },
              "fromcurrent": true,
              "mode": "immediate",
              "transition": {
               "duration": 0,
               "easing": "linear"
              }
             }
            ],
            "label": "22",
            "method": "animate"
           },
           {
            "args": [
             [
              "23"
             ],
             {
              "frame": {
               "duration": 0,
               "redraw": true
              },
              "fromcurrent": true,
              "mode": "immediate",
              "transition": {
               "duration": 0,
               "easing": "linear"
              }
             }
            ],
            "label": "23",
            "method": "animate"
           }
          ],
          "x": 0.1,
          "xanchor": "left",
          "y": 0,
          "yanchor": "top"
         }
        ],
        "template": {
         "data": {
          "bar": [
           {
            "error_x": {
             "color": "#2a3f5f"
            },
            "error_y": {
             "color": "#2a3f5f"
            },
            "marker": {
             "line": {
              "color": "#E5ECF6",
              "width": 0.5
             }
            },
            "type": "bar"
           }
          ],
          "barpolar": [
           {
            "marker": {
             "line": {
              "color": "#E5ECF6",
              "width": 0.5
             }
            },
            "type": "barpolar"
           }
          ],
          "carpet": [
           {
            "aaxis": {
             "endlinecolor": "#2a3f5f",
             "gridcolor": "white",
             "linecolor": "white",
             "minorgridcolor": "white",
             "startlinecolor": "#2a3f5f"
            },
            "baxis": {
             "endlinecolor": "#2a3f5f",
             "gridcolor": "white",
             "linecolor": "white",
             "minorgridcolor": "white",
             "startlinecolor": "#2a3f5f"
            },
            "type": "carpet"
           }
          ],
          "choropleth": [
           {
            "colorbar": {
             "outlinewidth": 0,
             "ticks": ""
            },
            "type": "choropleth"
           }
          ],
          "contour": [
           {
            "colorbar": {
             "outlinewidth": 0,
             "ticks": ""
            },
            "colorscale": [
             [
              0,
              "#0d0887"
             ],
             [
              0.1111111111111111,
              "#46039f"
             ],
             [
              0.2222222222222222,
              "#7201a8"
             ],
             [
              0.3333333333333333,
              "#9c179e"
             ],
             [
              0.4444444444444444,
              "#bd3786"
             ],
             [
              0.5555555555555556,
              "#d8576b"
             ],
             [
              0.6666666666666666,
              "#ed7953"
             ],
             [
              0.7777777777777778,
              "#fb9f3a"
             ],
             [
              0.8888888888888888,
              "#fdca26"
             ],
             [
              1,
              "#f0f921"
             ]
            ],
            "type": "contour"
           }
          ],
          "contourcarpet": [
           {
            "colorbar": {
             "outlinewidth": 0,
             "ticks": ""
            },
            "type": "contourcarpet"
           }
          ],
          "heatmap": [
           {
            "colorbar": {
             "outlinewidth": 0,
             "ticks": ""
            },
            "colorscale": [
             [
              0,
              "#0d0887"
             ],
             [
              0.1111111111111111,
              "#46039f"
             ],
             [
              0.2222222222222222,
              "#7201a8"
             ],
             [
              0.3333333333333333,
              "#9c179e"
             ],
             [
              0.4444444444444444,
              "#bd3786"
             ],
             [
              0.5555555555555556,
              "#d8576b"
             ],
             [
              0.6666666666666666,
              "#ed7953"
             ],
             [
              0.7777777777777778,
              "#fb9f3a"
             ],
             [
              0.8888888888888888,
              "#fdca26"
             ],
             [
              1,
              "#f0f921"
             ]
            ],
            "type": "heatmap"
           }
          ],
          "heatmapgl": [
           {
            "colorbar": {
             "outlinewidth": 0,
             "ticks": ""
            },
            "colorscale": [
             [
              0,
              "#0d0887"
             ],
             [
              0.1111111111111111,
              "#46039f"
             ],
             [
              0.2222222222222222,
              "#7201a8"
             ],
             [
              0.3333333333333333,
              "#9c179e"
             ],
             [
              0.4444444444444444,
              "#bd3786"
             ],
             [
              0.5555555555555556,
              "#d8576b"
             ],
             [
              0.6666666666666666,
              "#ed7953"
             ],
             [
              0.7777777777777778,
              "#fb9f3a"
             ],
             [
              0.8888888888888888,
              "#fdca26"
             ],
             [
              1,
              "#f0f921"
             ]
            ],
            "type": "heatmapgl"
           }
          ],
          "histogram": [
           {
            "marker": {
             "colorbar": {
              "outlinewidth": 0,
              "ticks": ""
             }
            },
            "type": "histogram"
           }
          ],
          "histogram2d": [
           {
            "colorbar": {
             "outlinewidth": 0,
             "ticks": ""
            },
            "colorscale": [
             [
              0,
              "#0d0887"
             ],
             [
              0.1111111111111111,
              "#46039f"
             ],
             [
              0.2222222222222222,
              "#7201a8"
             ],
             [
              0.3333333333333333,
              "#9c179e"
             ],
             [
              0.4444444444444444,
              "#bd3786"
             ],
             [
              0.5555555555555556,
              "#d8576b"
             ],
             [
              0.6666666666666666,
              "#ed7953"
             ],
             [
              0.7777777777777778,
              "#fb9f3a"
             ],
             [
              0.8888888888888888,
              "#fdca26"
             ],
             [
              1,
              "#f0f921"
             ]
            ],
            "type": "histogram2d"
           }
          ],
          "histogram2dcontour": [
           {
            "colorbar": {
             "outlinewidth": 0,
             "ticks": ""
            },
            "colorscale": [
             [
              0,
              "#0d0887"
             ],
             [
              0.1111111111111111,
              "#46039f"
             ],
             [
              0.2222222222222222,
              "#7201a8"
             ],
             [
              0.3333333333333333,
              "#9c179e"
             ],
             [
              0.4444444444444444,
              "#bd3786"
             ],
             [
              0.5555555555555556,
              "#d8576b"
             ],
             [
              0.6666666666666666,
              "#ed7953"
             ],
             [
              0.7777777777777778,
              "#fb9f3a"
             ],
             [
              0.8888888888888888,
              "#fdca26"
             ],
             [
              1,
              "#f0f921"
             ]
            ],
            "type": "histogram2dcontour"
           }
          ],
          "mesh3d": [
           {
            "colorbar": {
             "outlinewidth": 0,
             "ticks": ""
            },
            "type": "mesh3d"
           }
          ],
          "parcoords": [
           {
            "line": {
             "colorbar": {
              "outlinewidth": 0,
              "ticks": ""
             }
            },
            "type": "parcoords"
           }
          ],
          "pie": [
           {
            "automargin": true,
            "type": "pie"
           }
          ],
          "scatter": [
           {
            "marker": {
             "colorbar": {
              "outlinewidth": 0,
              "ticks": ""
             }
            },
            "type": "scatter"
           }
          ],
          "scatter3d": [
           {
            "line": {
             "colorbar": {
              "outlinewidth": 0,
              "ticks": ""
             }
            },
            "marker": {
             "colorbar": {
              "outlinewidth": 0,
              "ticks": ""
             }
            },
            "type": "scatter3d"
           }
          ],
          "scattercarpet": [
           {
            "marker": {
             "colorbar": {
              "outlinewidth": 0,
              "ticks": ""
             }
            },
            "type": "scattercarpet"
           }
          ],
          "scattergeo": [
           {
            "marker": {
             "colorbar": {
              "outlinewidth": 0,
              "ticks": ""
             }
            },
            "type": "scattergeo"
           }
          ],
          "scattergl": [
           {
            "marker": {
             "colorbar": {
              "outlinewidth": 0,
              "ticks": ""
             }
            },
            "type": "scattergl"
           }
          ],
          "scattermapbox": [
           {
            "marker": {
             "colorbar": {
              "outlinewidth": 0,
              "ticks": ""
             }
            },
            "type": "scattermapbox"
           }
          ],
          "scatterpolar": [
           {
            "marker": {
             "colorbar": {
              "outlinewidth": 0,
              "ticks": ""
             }
            },
            "type": "scatterpolar"
           }
          ],
          "scatterpolargl": [
           {
            "marker": {
             "colorbar": {
              "outlinewidth": 0,
              "ticks": ""
             }
            },
            "type": "scatterpolargl"
           }
          ],
          "scatterternary": [
           {
            "marker": {
             "colorbar": {
              "outlinewidth": 0,
              "ticks": ""
             }
            },
            "type": "scatterternary"
           }
          ],
          "surface": [
           {
            "colorbar": {
             "outlinewidth": 0,
             "ticks": ""
            },
            "colorscale": [
             [
              0,
              "#0d0887"
             ],
             [
              0.1111111111111111,
              "#46039f"
             ],
             [
              0.2222222222222222,
              "#7201a8"
             ],
             [
              0.3333333333333333,
              "#9c179e"
             ],
             [
              0.4444444444444444,
              "#bd3786"
             ],
             [
              0.5555555555555556,
              "#d8576b"
             ],
             [
              0.6666666666666666,
              "#ed7953"
             ],
             [
              0.7777777777777778,
              "#fb9f3a"
             ],
             [
              0.8888888888888888,
              "#fdca26"
             ],
             [
              1,
              "#f0f921"
             ]
            ],
            "type": "surface"
           }
          ],
          "table": [
           {
            "cells": {
             "fill": {
              "color": "#EBF0F8"
             },
             "line": {
              "color": "white"
             }
            },
            "header": {
             "fill": {
              "color": "#C8D4E3"
             },
             "line": {
              "color": "white"
             }
            },
            "type": "table"
           }
          ]
         },
         "layout": {
          "annotationdefaults": {
           "arrowcolor": "#2a3f5f",
           "arrowhead": 0,
           "arrowwidth": 1
          },
          "coloraxis": {
           "colorbar": {
            "outlinewidth": 0,
            "ticks": ""
           }
          },
          "colorscale": {
           "diverging": [
            [
             0,
             "#8e0152"
            ],
            [
             0.1,
             "#c51b7d"
            ],
            [
             0.2,
             "#de77ae"
            ],
            [
             0.3,
             "#f1b6da"
            ],
            [
             0.4,
             "#fde0ef"
            ],
            [
             0.5,
             "#f7f7f7"
            ],
            [
             0.6,
             "#e6f5d0"
            ],
            [
             0.7,
             "#b8e186"
            ],
            [
             0.8,
             "#7fbc41"
            ],
            [
             0.9,
             "#4d9221"
            ],
            [
             1,
             "#276419"
            ]
           ],
           "sequential": [
            [
             0,
             "#0d0887"
            ],
            [
             0.1111111111111111,
             "#46039f"
            ],
            [
             0.2222222222222222,
             "#7201a8"
            ],
            [
             0.3333333333333333,
             "#9c179e"
            ],
            [
             0.4444444444444444,
             "#bd3786"
            ],
            [
             0.5555555555555556,
             "#d8576b"
            ],
            [
             0.6666666666666666,
             "#ed7953"
            ],
            [
             0.7777777777777778,
             "#fb9f3a"
            ],
            [
             0.8888888888888888,
             "#fdca26"
            ],
            [
             1,
             "#f0f921"
            ]
           ],
           "sequentialminus": [
            [
             0,
             "#0d0887"
            ],
            [
             0.1111111111111111,
             "#46039f"
            ],
            [
             0.2222222222222222,
             "#7201a8"
            ],
            [
             0.3333333333333333,
             "#9c179e"
            ],
            [
             0.4444444444444444,
             "#bd3786"
            ],
            [
             0.5555555555555556,
             "#d8576b"
            ],
            [
             0.6666666666666666,
             "#ed7953"
            ],
            [
             0.7777777777777778,
             "#fb9f3a"
            ],
            [
             0.8888888888888888,
             "#fdca26"
            ],
            [
             1,
             "#f0f921"
            ]
           ]
          },
          "colorway": [
           "#636efa",
           "#EF553B",
           "#00cc96",
           "#ab63fa",
           "#FFA15A",
           "#19d3f3",
           "#FF6692",
           "#B6E880",
           "#FF97FF",
           "#FECB52"
          ],
          "font": {
           "color": "#2a3f5f"
          },
          "geo": {
           "bgcolor": "white",
           "lakecolor": "white",
           "landcolor": "#E5ECF6",
           "showlakes": true,
           "showland": true,
           "subunitcolor": "white"
          },
          "hoverlabel": {
           "align": "left"
          },
          "hovermode": "closest",
          "mapbox": {
           "style": "light"
          },
          "paper_bgcolor": "white",
          "plot_bgcolor": "#E5ECF6",
          "polar": {
           "angularaxis": {
            "gridcolor": "white",
            "linecolor": "white",
            "ticks": ""
           },
           "bgcolor": "#E5ECF6",
           "radialaxis": {
            "gridcolor": "white",
            "linecolor": "white",
            "ticks": ""
           }
          },
          "scene": {
           "xaxis": {
            "backgroundcolor": "#E5ECF6",
            "gridcolor": "white",
            "gridwidth": 2,
            "linecolor": "white",
            "showbackground": true,
            "ticks": "",
            "zerolinecolor": "white"
           },
           "yaxis": {
            "backgroundcolor": "#E5ECF6",
            "gridcolor": "white",
            "gridwidth": 2,
            "linecolor": "white",
            "showbackground": true,
            "ticks": "",
            "zerolinecolor": "white"
           },
           "zaxis": {
            "backgroundcolor": "#E5ECF6",
            "gridcolor": "white",
            "gridwidth": 2,
            "linecolor": "white",
            "showbackground": true,
            "ticks": "",
            "zerolinecolor": "white"
           }
          },
          "shapedefaults": {
           "line": {
            "color": "#2a3f5f"
           }
          },
          "ternary": {
           "aaxis": {
            "gridcolor": "white",
            "linecolor": "white",
            "ticks": ""
           },
           "baxis": {
            "gridcolor": "white",
            "linecolor": "white",
            "ticks": ""
           },
           "bgcolor": "#E5ECF6",
           "caxis": {
            "gridcolor": "white",
            "linecolor": "white",
            "ticks": ""
           }
          },
          "title": {
           "x": 0.05
          },
          "xaxis": {
           "automargin": true,
           "gridcolor": "white",
           "linecolor": "white",
           "ticks": "",
           "title": {
            "standoff": 15
           },
           "zerolinecolor": "white",
           "zerolinewidth": 2
          },
          "yaxis": {
           "automargin": true,
           "gridcolor": "white",
           "linecolor": "white",
           "ticks": "",
           "title": {
            "standoff": 15
           },
           "zerolinecolor": "white",
           "zerolinewidth": 2
          }
         }
        },
        "title": {
         "text": "Frequency of Elevator Calls by Floor"
        },
        "updatemenus": [
         {
          "buttons": [
           {
            "args": [
             null,
             {
              "frame": {
               "duration": 500,
               "redraw": true
              },
              "fromcurrent": true,
              "mode": "immediate",
              "transition": {
               "duration": 500,
               "easing": "linear"
              }
             }
            ],
            "label": "&#9654;",
            "method": "animate"
           },
           {
            "args": [
             [
              null
             ],
             {
              "frame": {
               "duration": 0,
               "redraw": true
              },
              "fromcurrent": true,
              "mode": "immediate",
              "transition": {
               "duration": 0,
               "easing": "linear"
              }
             }
            ],
            "label": "&#9724;",
            "method": "animate"
           }
          ],
          "direction": "left",
          "pad": {
           "r": 10,
           "t": 70
          },
          "showactive": false,
          "type": "buttons",
          "x": 0.1,
          "xanchor": "right",
          "y": 0,
          "yanchor": "top"
         }
        ],
        "xaxis": {
         "anchor": "y",
         "categoryarray": [
          "B4",
          "B3",
          "B2",
          "B1",
          "01",
          "02",
          "03",
          "04",
          "05",
          "06",
          "07",
          "08",
          "09",
          "10",
          "11",
          "12",
          "13",
          "14",
          "15"
         ],
         "domain": [
          0,
          0.49
         ],
         "nticks": 19,
         "title": {
          "text": "floor"
         },
         "type": "category"
        },
        "xaxis2": {
         "anchor": "y2",
         "categoryarray": [
          "B4",
          "B3",
          "B2",
          "B1",
          "01",
          "02",
          "03",
          "04",
          "05",
          "06",
          "07",
          "08",
          "09",
          "10",
          "11",
          "12",
          "13",
          "14",
          "15"
         ],
         "domain": [
          0.51,
          1
         ],
         "matches": "x",
         "nticks": 19,
         "title": {
          "text": "floor"
         },
         "type": "category"
        },
        "yaxis": {
         "anchor": "x",
         "domain": [
          0,
          1
         ],
         "range": [
          0,
          1000
         ],
         "title": {
          "text": "sec"
         }
        },
        "yaxis2": {
         "anchor": "x2",
         "domain": [
          0,
          1
         ],
         "matches": "y",
         "range": [
          0,
          1000
         ],
         "showticklabels": false
        }
       }
      },
      "text/html": [
       "<div>\n",
       "        \n",
       "        \n",
       "            <div id=\"0209b71c-0909-4d3a-aee1-e11cdaa2126b\" class=\"plotly-graph-div\" style=\"height:525px; width:100%;\"></div>\n",
       "            <script type=\"text/javascript\">\n",
       "                require([\"plotly\"], function(Plotly) {\n",
       "                    window.PLOTLYENV=window.PLOTLYENV || {};\n",
       "                    \n",
       "                if (document.getElementById(\"0209b71c-0909-4d3a-aee1-e11cdaa2126b\")) {\n",
       "                    Plotly.newPlot(\n",
       "                        '0209b71c-0909-4d3a-aee1-e11cdaa2126b',\n",
       "                        [{\"alignmentgroup\": \"True\", \"hovertemplate\": \"direction=up<br>Local Time (GMT+8)=0<br>floor=%{x}<br>sec=%{y}<extra></extra>\", \"legendgroup\": \"up\", \"marker\": {\"color\": \"#636efa\"}, \"name\": \"up\", \"offsetgroup\": \"up\", \"orientation\": \"v\", \"showlegend\": true, \"textposition\": \"auto\", \"type\": \"bar\", \"x\": [\"B4\", \"B3\", \"B1\", \"14\", \"13\", \"12\", \"11\", \"9\", \"8\", \"7\", \"6\", \"5\", \"4\", \"3\", \"1\", \"B4\", \"B1\", \"13\", \"9\", \"7\", \"6\", \"5\", \"4\", \"3\", \"1\"], \"xaxis\": \"x\", \"y\": [13.54285714, 14.26, 10.28657895, 26.065, 13.355, 21.81333333, 31.22, 35.39, 15.98, 20.34833333, 12.99166667, 19.2875, 26.16833333, 14.54, 5.323305556, 26.941999999999997, 10.19882353, 32.78, 39.71, 9.92, 23.97, 21.405, 8.16, 14.66, 5.841176471], \"yaxis\": \"y\"}, {\"alignmentgroup\": \"True\", \"hovertemplate\": \"direction=down<br>Local Time (GMT+8)=0<br>floor=%{x}<br>sec=%{y}<extra></extra>\", \"legendgroup\": \"down\", \"marker\": {\"color\": \"#EF553B\"}, \"name\": \"down\", \"offsetgroup\": \"down\", \"orientation\": \"v\", \"showlegend\": true, \"textposition\": \"auto\", \"type\": \"bar\", \"x\": [\"B1\", \"15\", \"14\", \"13\", \"12\", \"11\", \"10\", \"9\", \"8\", \"7\", \"6\", \"5\", \"4\", \"3\", \"2\", \"1\", \"B3\", \"B1\", \"15\", \"14\", \"13\", \"12\", \"11\", \"10\", \"9\", \"8\", \"7\", \"6\", \"5\", \"4\", \"3\", \"1\"], \"xaxis\": \"x2\", \"y\": [11.775, 24.1675, 25.31118644, 19.11021739, 17.05585366, 15.82484375, 9.605714286, 17.36852941, 16.39051471, 13.27657143, 14.81029412, 15.17296296, 16.95535135, 12.85083333, 45.35, 9.858181818, 12.37, 15.675, 26.04933333, 13.70266667, 18.21777778, 13.81192308, 19.80846154, 0.975, 15.99545455, 16.54847826, 15.69, 17.9844, 13.46666667, 16.13694444, 14.1025, 5.792857142999999], \"yaxis\": \"y2\"}],\n",
       "                        {\"annotations\": [{\"font\": {}, \"showarrow\": false, \"text\": \"direction=up\", \"x\": 0.245, \"xanchor\": \"center\", \"xref\": \"paper\", \"y\": 1.0, \"yanchor\": \"bottom\", \"yref\": \"paper\"}, {\"font\": {}, \"showarrow\": false, \"text\": \"direction=down\", \"x\": 0.755, \"xanchor\": \"center\", \"xref\": \"paper\", \"y\": 1.0, \"yanchor\": \"bottom\", \"yref\": \"paper\"}], \"barmode\": \"relative\", \"legend\": {\"title\": {\"text\": \"direction\"}, \"tracegroupgap\": 0}, \"margin\": {\"t\": 60}, \"sliders\": [{\"active\": 0, \"currentvalue\": {\"prefix\": \"Local Time (GMT+8)=\"}, \"len\": 0.9, \"pad\": {\"b\": 10, \"t\": 60}, \"steps\": [{\"args\": [[\"0\"], {\"frame\": {\"duration\": 0, \"redraw\": true}, \"fromcurrent\": true, \"mode\": \"immediate\", \"transition\": {\"duration\": 0, \"easing\": \"linear\"}}], \"label\": \"0\", \"method\": \"animate\"}, {\"args\": [[\"1\"], {\"frame\": {\"duration\": 0, \"redraw\": true}, \"fromcurrent\": true, \"mode\": \"immediate\", \"transition\": {\"duration\": 0, \"easing\": \"linear\"}}], \"label\": \"1\", \"method\": \"animate\"}, {\"args\": [[\"2\"], {\"frame\": {\"duration\": 0, \"redraw\": true}, \"fromcurrent\": true, \"mode\": \"immediate\", \"transition\": {\"duration\": 0, \"easing\": \"linear\"}}], \"label\": \"2\", \"method\": \"animate\"}, {\"args\": [[\"3\"], {\"frame\": {\"duration\": 0, \"redraw\": true}, \"fromcurrent\": true, \"mode\": \"immediate\", \"transition\": {\"duration\": 0, \"easing\": \"linear\"}}], \"label\": \"3\", \"method\": \"animate\"}, {\"args\": [[\"4\"], {\"frame\": {\"duration\": 0, \"redraw\": true}, \"fromcurrent\": true, \"mode\": \"immediate\", \"transition\": {\"duration\": 0, \"easing\": \"linear\"}}], \"label\": \"4\", \"method\": \"animate\"}, {\"args\": [[\"5\"], {\"frame\": {\"duration\": 0, \"redraw\": true}, \"fromcurrent\": true, \"mode\": \"immediate\", \"transition\": {\"duration\": 0, \"easing\": \"linear\"}}], \"label\": \"5\", \"method\": \"animate\"}, {\"args\": [[\"6\"], {\"frame\": {\"duration\": 0, \"redraw\": true}, \"fromcurrent\": true, \"mode\": \"immediate\", \"transition\": {\"duration\": 0, \"easing\": \"linear\"}}], \"label\": \"6\", \"method\": \"animate\"}, {\"args\": [[\"7\"], {\"frame\": {\"duration\": 0, \"redraw\": true}, \"fromcurrent\": true, \"mode\": \"immediate\", \"transition\": {\"duration\": 0, \"easing\": \"linear\"}}], \"label\": \"7\", \"method\": \"animate\"}, {\"args\": [[\"8\"], {\"frame\": {\"duration\": 0, \"redraw\": true}, \"fromcurrent\": true, \"mode\": \"immediate\", \"transition\": {\"duration\": 0, \"easing\": \"linear\"}}], \"label\": \"8\", \"method\": \"animate\"}, {\"args\": [[\"9\"], {\"frame\": {\"duration\": 0, \"redraw\": true}, \"fromcurrent\": true, \"mode\": \"immediate\", \"transition\": {\"duration\": 0, \"easing\": \"linear\"}}], \"label\": \"9\", \"method\": \"animate\"}, {\"args\": [[\"10\"], {\"frame\": {\"duration\": 0, \"redraw\": true}, \"fromcurrent\": true, \"mode\": \"immediate\", \"transition\": {\"duration\": 0, \"easing\": \"linear\"}}], \"label\": \"10\", \"method\": \"animate\"}, {\"args\": [[\"11\"], {\"frame\": {\"duration\": 0, \"redraw\": true}, \"fromcurrent\": true, \"mode\": \"immediate\", \"transition\": {\"duration\": 0, \"easing\": \"linear\"}}], \"label\": \"11\", \"method\": \"animate\"}, {\"args\": [[\"12\"], {\"frame\": {\"duration\": 0, \"redraw\": true}, \"fromcurrent\": true, \"mode\": \"immediate\", \"transition\": {\"duration\": 0, \"easing\": \"linear\"}}], \"label\": \"12\", \"method\": \"animate\"}, {\"args\": [[\"13\"], {\"frame\": {\"duration\": 0, \"redraw\": true}, \"fromcurrent\": true, \"mode\": \"immediate\", \"transition\": {\"duration\": 0, \"easing\": \"linear\"}}], \"label\": \"13\", \"method\": \"animate\"}, {\"args\": [[\"14\"], {\"frame\": {\"duration\": 0, \"redraw\": true}, \"fromcurrent\": true, \"mode\": \"immediate\", \"transition\": {\"duration\": 0, \"easing\": \"linear\"}}], \"label\": \"14\", \"method\": \"animate\"}, {\"args\": [[\"15\"], {\"frame\": {\"duration\": 0, \"redraw\": true}, \"fromcurrent\": true, \"mode\": \"immediate\", \"transition\": {\"duration\": 0, \"easing\": \"linear\"}}], \"label\": \"15\", \"method\": \"animate\"}, {\"args\": [[\"16\"], {\"frame\": {\"duration\": 0, \"redraw\": true}, \"fromcurrent\": true, \"mode\": \"immediate\", \"transition\": {\"duration\": 0, \"easing\": \"linear\"}}], \"label\": \"16\", \"method\": \"animate\"}, {\"args\": [[\"17\"], {\"frame\": {\"duration\": 0, \"redraw\": true}, \"fromcurrent\": true, \"mode\": \"immediate\", \"transition\": {\"duration\": 0, \"easing\": \"linear\"}}], \"label\": \"17\", \"method\": \"animate\"}, {\"args\": [[\"18\"], {\"frame\": {\"duration\": 0, \"redraw\": true}, \"fromcurrent\": true, \"mode\": \"immediate\", \"transition\": {\"duration\": 0, \"easing\": \"linear\"}}], \"label\": \"18\", \"method\": \"animate\"}, {\"args\": [[\"19\"], {\"frame\": {\"duration\": 0, \"redraw\": true}, \"fromcurrent\": true, \"mode\": \"immediate\", \"transition\": {\"duration\": 0, \"easing\": \"linear\"}}], \"label\": \"19\", \"method\": \"animate\"}, {\"args\": [[\"20\"], {\"frame\": {\"duration\": 0, \"redraw\": true}, \"fromcurrent\": true, \"mode\": \"immediate\", \"transition\": {\"duration\": 0, \"easing\": \"linear\"}}], \"label\": \"20\", \"method\": \"animate\"}, {\"args\": [[\"21\"], {\"frame\": {\"duration\": 0, \"redraw\": true}, \"fromcurrent\": true, \"mode\": \"immediate\", \"transition\": {\"duration\": 0, \"easing\": \"linear\"}}], \"label\": \"21\", \"method\": \"animate\"}, {\"args\": [[\"22\"], {\"frame\": {\"duration\": 0, \"redraw\": true}, \"fromcurrent\": true, \"mode\": \"immediate\", \"transition\": {\"duration\": 0, \"easing\": \"linear\"}}], \"label\": \"22\", \"method\": \"animate\"}, {\"args\": [[\"23\"], {\"frame\": {\"duration\": 0, \"redraw\": true}, \"fromcurrent\": true, \"mode\": \"immediate\", \"transition\": {\"duration\": 0, \"easing\": \"linear\"}}], \"label\": \"23\", \"method\": \"animate\"}], \"x\": 0.1, \"xanchor\": \"left\", \"y\": 0, \"yanchor\": \"top\"}], \"template\": {\"data\": {\"bar\": [{\"error_x\": {\"color\": \"#2a3f5f\"}, \"error_y\": {\"color\": \"#2a3f5f\"}, \"marker\": {\"line\": {\"color\": \"#E5ECF6\", \"width\": 0.5}}, \"type\": \"bar\"}], \"barpolar\": [{\"marker\": {\"line\": {\"color\": \"#E5ECF6\", \"width\": 0.5}}, \"type\": \"barpolar\"}], \"carpet\": [{\"aaxis\": {\"endlinecolor\": \"#2a3f5f\", \"gridcolor\": \"white\", \"linecolor\": \"white\", \"minorgridcolor\": \"white\", \"startlinecolor\": \"#2a3f5f\"}, \"baxis\": {\"endlinecolor\": \"#2a3f5f\", \"gridcolor\": \"white\", \"linecolor\": \"white\", \"minorgridcolor\": \"white\", \"startlinecolor\": \"#2a3f5f\"}, \"type\": \"carpet\"}], \"choropleth\": [{\"colorbar\": {\"outlinewidth\": 0, \"ticks\": \"\"}, \"type\": \"choropleth\"}], \"contour\": [{\"colorbar\": {\"outlinewidth\": 0, \"ticks\": \"\"}, \"colorscale\": [[0.0, \"#0d0887\"], [0.1111111111111111, \"#46039f\"], [0.2222222222222222, \"#7201a8\"], [0.3333333333333333, \"#9c179e\"], [0.4444444444444444, \"#bd3786\"], [0.5555555555555556, \"#d8576b\"], [0.6666666666666666, \"#ed7953\"], [0.7777777777777778, \"#fb9f3a\"], [0.8888888888888888, \"#fdca26\"], [1.0, \"#f0f921\"]], \"type\": \"contour\"}], \"contourcarpet\": [{\"colorbar\": {\"outlinewidth\": 0, \"ticks\": \"\"}, \"type\": \"contourcarpet\"}], \"heatmap\": [{\"colorbar\": {\"outlinewidth\": 0, \"ticks\": \"\"}, \"colorscale\": [[0.0, \"#0d0887\"], [0.1111111111111111, \"#46039f\"], [0.2222222222222222, \"#7201a8\"], [0.3333333333333333, \"#9c179e\"], [0.4444444444444444, \"#bd3786\"], [0.5555555555555556, \"#d8576b\"], [0.6666666666666666, \"#ed7953\"], [0.7777777777777778, \"#fb9f3a\"], [0.8888888888888888, \"#fdca26\"], [1.0, \"#f0f921\"]], \"type\": \"heatmap\"}], \"heatmapgl\": [{\"colorbar\": {\"outlinewidth\": 0, \"ticks\": \"\"}, \"colorscale\": [[0.0, \"#0d0887\"], [0.1111111111111111, \"#46039f\"], [0.2222222222222222, \"#7201a8\"], [0.3333333333333333, \"#9c179e\"], [0.4444444444444444, \"#bd3786\"], [0.5555555555555556, \"#d8576b\"], [0.6666666666666666, \"#ed7953\"], [0.7777777777777778, \"#fb9f3a\"], [0.8888888888888888, \"#fdca26\"], [1.0, \"#f0f921\"]], \"type\": \"heatmapgl\"}], \"histogram\": [{\"marker\": {\"colorbar\": {\"outlinewidth\": 0, \"ticks\": \"\"}}, \"type\": \"histogram\"}], \"histogram2d\": [{\"colorbar\": {\"outlinewidth\": 0, \"ticks\": \"\"}, \"colorscale\": [[0.0, \"#0d0887\"], [0.1111111111111111, \"#46039f\"], [0.2222222222222222, \"#7201a8\"], [0.3333333333333333, \"#9c179e\"], [0.4444444444444444, \"#bd3786\"], [0.5555555555555556, \"#d8576b\"], [0.6666666666666666, \"#ed7953\"], [0.7777777777777778, \"#fb9f3a\"], [0.8888888888888888, \"#fdca26\"], [1.0, \"#f0f921\"]], \"type\": \"histogram2d\"}], \"histogram2dcontour\": [{\"colorbar\": {\"outlinewidth\": 0, \"ticks\": \"\"}, \"colorscale\": [[0.0, \"#0d0887\"], [0.1111111111111111, \"#46039f\"], [0.2222222222222222, \"#7201a8\"], [0.3333333333333333, \"#9c179e\"], [0.4444444444444444, \"#bd3786\"], [0.5555555555555556, \"#d8576b\"], [0.6666666666666666, \"#ed7953\"], [0.7777777777777778, \"#fb9f3a\"], [0.8888888888888888, \"#fdca26\"], [1.0, \"#f0f921\"]], \"type\": \"histogram2dcontour\"}], \"mesh3d\": [{\"colorbar\": {\"outlinewidth\": 0, \"ticks\": \"\"}, \"type\": \"mesh3d\"}], \"parcoords\": [{\"line\": {\"colorbar\": {\"outlinewidth\": 0, \"ticks\": \"\"}}, \"type\": \"parcoords\"}], \"pie\": [{\"automargin\": true, \"type\": \"pie\"}], \"scatter\": [{\"marker\": {\"colorbar\": {\"outlinewidth\": 0, \"ticks\": \"\"}}, \"type\": \"scatter\"}], \"scatter3d\": [{\"line\": {\"colorbar\": {\"outlinewidth\": 0, \"ticks\": \"\"}}, \"marker\": {\"colorbar\": {\"outlinewidth\": 0, \"ticks\": \"\"}}, \"type\": \"scatter3d\"}], \"scattercarpet\": [{\"marker\": {\"colorbar\": {\"outlinewidth\": 0, \"ticks\": \"\"}}, \"type\": \"scattercarpet\"}], \"scattergeo\": [{\"marker\": {\"colorbar\": {\"outlinewidth\": 0, \"ticks\": \"\"}}, \"type\": \"scattergeo\"}], \"scattergl\": [{\"marker\": {\"colorbar\": {\"outlinewidth\": 0, \"ticks\": \"\"}}, \"type\": \"scattergl\"}], \"scattermapbox\": [{\"marker\": {\"colorbar\": {\"outlinewidth\": 0, \"ticks\": \"\"}}, \"type\": \"scattermapbox\"}], \"scatterpolar\": [{\"marker\": {\"colorbar\": {\"outlinewidth\": 0, \"ticks\": \"\"}}, \"type\": \"scatterpolar\"}], \"scatterpolargl\": [{\"marker\": {\"colorbar\": {\"outlinewidth\": 0, \"ticks\": \"\"}}, \"type\": \"scatterpolargl\"}], \"scatterternary\": [{\"marker\": {\"colorbar\": {\"outlinewidth\": 0, \"ticks\": \"\"}}, \"type\": \"scatterternary\"}], \"surface\": [{\"colorbar\": {\"outlinewidth\": 0, \"ticks\": \"\"}, \"colorscale\": [[0.0, \"#0d0887\"], [0.1111111111111111, \"#46039f\"], [0.2222222222222222, \"#7201a8\"], [0.3333333333333333, \"#9c179e\"], [0.4444444444444444, \"#bd3786\"], [0.5555555555555556, \"#d8576b\"], [0.6666666666666666, \"#ed7953\"], [0.7777777777777778, \"#fb9f3a\"], [0.8888888888888888, \"#fdca26\"], [1.0, \"#f0f921\"]], \"type\": \"surface\"}], \"table\": [{\"cells\": {\"fill\": {\"color\": \"#EBF0F8\"}, \"line\": {\"color\": \"white\"}}, \"header\": {\"fill\": {\"color\": \"#C8D4E3\"}, \"line\": {\"color\": \"white\"}}, \"type\": \"table\"}]}, \"layout\": {\"annotationdefaults\": {\"arrowcolor\": \"#2a3f5f\", \"arrowhead\": 0, \"arrowwidth\": 1}, \"coloraxis\": {\"colorbar\": {\"outlinewidth\": 0, \"ticks\": \"\"}}, \"colorscale\": {\"diverging\": [[0, \"#8e0152\"], [0.1, \"#c51b7d\"], [0.2, \"#de77ae\"], [0.3, \"#f1b6da\"], [0.4, \"#fde0ef\"], [0.5, \"#f7f7f7\"], [0.6, \"#e6f5d0\"], [0.7, \"#b8e186\"], [0.8, \"#7fbc41\"], [0.9, \"#4d9221\"], [1, \"#276419\"]], \"sequential\": [[0.0, \"#0d0887\"], [0.1111111111111111, \"#46039f\"], [0.2222222222222222, \"#7201a8\"], [0.3333333333333333, \"#9c179e\"], [0.4444444444444444, \"#bd3786\"], [0.5555555555555556, \"#d8576b\"], [0.6666666666666666, \"#ed7953\"], [0.7777777777777778, \"#fb9f3a\"], [0.8888888888888888, \"#fdca26\"], [1.0, \"#f0f921\"]], \"sequentialminus\": [[0.0, \"#0d0887\"], [0.1111111111111111, \"#46039f\"], [0.2222222222222222, \"#7201a8\"], [0.3333333333333333, \"#9c179e\"], [0.4444444444444444, \"#bd3786\"], [0.5555555555555556, \"#d8576b\"], [0.6666666666666666, \"#ed7953\"], [0.7777777777777778, \"#fb9f3a\"], [0.8888888888888888, \"#fdca26\"], [1.0, \"#f0f921\"]]}, \"colorway\": [\"#636efa\", \"#EF553B\", \"#00cc96\", \"#ab63fa\", \"#FFA15A\", \"#19d3f3\", \"#FF6692\", \"#B6E880\", \"#FF97FF\", \"#FECB52\"], \"font\": {\"color\": \"#2a3f5f\"}, \"geo\": {\"bgcolor\": \"white\", \"lakecolor\": \"white\", \"landcolor\": \"#E5ECF6\", \"showlakes\": true, \"showland\": true, \"subunitcolor\": \"white\"}, \"hoverlabel\": {\"align\": \"left\"}, \"hovermode\": \"closest\", \"mapbox\": {\"style\": \"light\"}, \"paper_bgcolor\": \"white\", \"plot_bgcolor\": \"#E5ECF6\", \"polar\": {\"angularaxis\": {\"gridcolor\": \"white\", \"linecolor\": \"white\", \"ticks\": \"\"}, \"bgcolor\": \"#E5ECF6\", \"radialaxis\": {\"gridcolor\": \"white\", \"linecolor\": \"white\", \"ticks\": \"\"}}, \"scene\": {\"xaxis\": {\"backgroundcolor\": \"#E5ECF6\", \"gridcolor\": \"white\", \"gridwidth\": 2, \"linecolor\": \"white\", \"showbackground\": true, \"ticks\": \"\", \"zerolinecolor\": \"white\"}, \"yaxis\": {\"backgroundcolor\": \"#E5ECF6\", \"gridcolor\": \"white\", \"gridwidth\": 2, \"linecolor\": \"white\", \"showbackground\": true, \"ticks\": \"\", \"zerolinecolor\": \"white\"}, \"zaxis\": {\"backgroundcolor\": \"#E5ECF6\", \"gridcolor\": \"white\", \"gridwidth\": 2, \"linecolor\": \"white\", \"showbackground\": true, \"ticks\": \"\", \"zerolinecolor\": \"white\"}}, \"shapedefaults\": {\"line\": {\"color\": \"#2a3f5f\"}}, \"ternary\": {\"aaxis\": {\"gridcolor\": \"white\", \"linecolor\": \"white\", \"ticks\": \"\"}, \"baxis\": {\"gridcolor\": \"white\", \"linecolor\": \"white\", \"ticks\": \"\"}, \"bgcolor\": \"#E5ECF6\", \"caxis\": {\"gridcolor\": \"white\", \"linecolor\": \"white\", \"ticks\": \"\"}}, \"title\": {\"x\": 0.05}, \"xaxis\": {\"automargin\": true, \"gridcolor\": \"white\", \"linecolor\": \"white\", \"ticks\": \"\", \"title\": {\"standoff\": 15}, \"zerolinecolor\": \"white\", \"zerolinewidth\": 2}, \"yaxis\": {\"automargin\": true, \"gridcolor\": \"white\", \"linecolor\": \"white\", \"ticks\": \"\", \"title\": {\"standoff\": 15}, \"zerolinecolor\": \"white\", \"zerolinewidth\": 2}}}, \"title\": {\"text\": \"Frequency of Elevator Calls by Floor\"}, \"updatemenus\": [{\"buttons\": [{\"args\": [null, {\"frame\": {\"duration\": 500, \"redraw\": true}, \"fromcurrent\": true, \"mode\": \"immediate\", \"transition\": {\"duration\": 500, \"easing\": \"linear\"}}], \"label\": \"&#9654;\", \"method\": \"animate\"}, {\"args\": [[null], {\"frame\": {\"duration\": 0, \"redraw\": true}, \"fromcurrent\": true, \"mode\": \"immediate\", \"transition\": {\"duration\": 0, \"easing\": \"linear\"}}], \"label\": \"&#9724;\", \"method\": \"animate\"}], \"direction\": \"left\", \"pad\": {\"r\": 10, \"t\": 70}, \"showactive\": false, \"type\": \"buttons\", \"x\": 0.1, \"xanchor\": \"right\", \"y\": 0, \"yanchor\": \"top\"}], \"xaxis\": {\"anchor\": \"y\", \"categoryarray\": [\"B4\", \"B3\", \"B2\", \"B1\", \"01\", \"02\", \"03\", \"04\", \"05\", \"06\", \"07\", \"08\", \"09\", \"10\", \"11\", \"12\", \"13\", \"14\", \"15\"], \"domain\": [0.0, 0.49], \"nticks\": 19, \"title\": {\"text\": \"floor\"}, \"type\": \"category\"}, \"xaxis2\": {\"anchor\": \"y2\", \"categoryarray\": [\"B4\", \"B3\", \"B2\", \"B1\", \"01\", \"02\", \"03\", \"04\", \"05\", \"06\", \"07\", \"08\", \"09\", \"10\", \"11\", \"12\", \"13\", \"14\", \"15\"], \"domain\": [0.51, 1.0], \"matches\": \"x\", \"nticks\": 19, \"title\": {\"text\": \"floor\"}, \"type\": \"category\"}, \"yaxis\": {\"anchor\": \"x\", \"domain\": [0.0, 1.0], \"range\": [0, 1000], \"title\": {\"text\": \"sec\"}}, \"yaxis2\": {\"anchor\": \"x2\", \"domain\": [0.0, 1.0], \"matches\": \"y\", \"range\": [0, 1000], \"showticklabels\": false}},\n",
       "                        {\"responsive\": true}\n",
       "                    ).then(function(){\n",
       "                            Plotly.addFrames('0209b71c-0909-4d3a-aee1-e11cdaa2126b', [{\"data\": [{\"alignmentgroup\": \"True\", \"hovertemplate\": \"direction=up<br>Local Time (GMT+8)=0<br>floor=%{x}<br>sec=%{y}<extra></extra>\", \"legendgroup\": \"up\", \"marker\": {\"color\": \"#636efa\"}, \"name\": \"up\", \"offsetgroup\": \"up\", \"orientation\": \"v\", \"showlegend\": true, \"textposition\": \"auto\", \"x\": [\"B4\", \"B3\", \"B1\", \"14\", \"13\", \"12\", \"11\", \"9\", \"8\", \"7\", \"6\", \"5\", \"4\", \"3\", \"1\", \"B4\", \"B1\", \"13\", \"9\", \"7\", \"6\", \"5\", \"4\", \"3\", \"1\"], \"xaxis\": \"x\", \"y\": [13.54285714, 14.26, 10.28657895, 26.065, 13.355, 21.81333333, 31.22, 35.39, 15.98, 20.34833333, 12.99166667, 19.2875, 26.16833333, 14.54, 5.323305556, 26.941999999999997, 10.19882353, 32.78, 39.71, 9.92, 23.97, 21.405, 8.16, 14.66, 5.841176471], \"yaxis\": \"y\", \"type\": \"bar\"}, {\"alignmentgroup\": \"True\", \"hovertemplate\": \"direction=down<br>Local Time (GMT+8)=0<br>floor=%{x}<br>sec=%{y}<extra></extra>\", \"legendgroup\": \"down\", \"marker\": {\"color\": \"#EF553B\"}, \"name\": \"down\", \"offsetgroup\": \"down\", \"orientation\": \"v\", \"showlegend\": true, \"textposition\": \"auto\", \"x\": [\"B1\", \"15\", \"14\", \"13\", \"12\", \"11\", \"10\", \"9\", \"8\", \"7\", \"6\", \"5\", \"4\", \"3\", \"2\", \"1\", \"B3\", \"B1\", \"15\", \"14\", \"13\", \"12\", \"11\", \"10\", \"9\", \"8\", \"7\", \"6\", \"5\", \"4\", \"3\", \"1\"], \"xaxis\": \"x2\", \"y\": [11.775, 24.1675, 25.31118644, 19.11021739, 17.05585366, 15.82484375, 9.605714286, 17.36852941, 16.39051471, 13.27657143, 14.81029412, 15.17296296, 16.95535135, 12.85083333, 45.35, 9.858181818, 12.37, 15.675, 26.04933333, 13.70266667, 18.21777778, 13.81192308, 19.80846154, 0.975, 15.99545455, 16.54847826, 15.69, 17.9844, 13.46666667, 16.13694444, 14.1025, 5.792857142999999], \"yaxis\": \"y2\", \"type\": \"bar\"}], \"name\": \"0\"}, {\"data\": [{\"alignmentgroup\": \"True\", \"hovertemplate\": \"direction=up<br>Local Time (GMT+8)=1<br>floor=%{x}<br>sec=%{y}<extra></extra>\", \"legendgroup\": \"up\", \"marker\": {\"color\": \"#636efa\"}, \"name\": \"up\", \"offsetgroup\": \"up\", \"orientation\": \"v\", \"showlegend\": true, \"textposition\": \"auto\", \"x\": [\"B4\", \"B3\", \"B1\", \"14\", \"13\", \"12\", \"9\", \"8\", \"7\", \"6\", \"5\", \"4\", \"3\", \"2\", \"1\", \"B3\", \"B1\", \"14\", \"8\", \"7\", \"6\", \"5\", \"4\", \"3\", \"2\", \"1\"], \"xaxis\": \"x\", \"y\": [3.435, 8.81, 7.592954545, 43.53, 22.285, 10.975, 14.155, 18.1625, 12.7, 10.25, 10.44, 23.63666667, 15.44076923, 10.36, 4.967370892, 4.85, 4.301111111, 24.22, 34.7, 14.405, 22.605, 11.86, 10.2, 18.27, 31.51, 5.481744186], \"yaxis\": \"y\", \"type\": \"bar\"}, {\"alignmentgroup\": \"True\", \"hovertemplate\": \"direction=down<br>Local Time (GMT+8)=1<br>floor=%{x}<br>sec=%{y}<extra></extra>\", \"legendgroup\": \"down\", \"marker\": {\"color\": \"#EF553B\"}, \"name\": \"down\", \"offsetgroup\": \"down\", \"orientation\": \"v\", \"showlegend\": true, \"textposition\": \"auto\", \"x\": [\"B1\", \"15\", \"14\", \"13\", \"12\", \"11\", \"10\", \"9\", \"8\", \"7\", \"6\", \"5\", \"4\", \"3\", \"2\", \"1\", \"B1\", \"15\", \"14\", \"13\", \"12\", \"11\", \"10\", \"9\", \"8\", \"7\", \"6\", \"5\", \"4\", \"3\", \"1\"], \"xaxis\": \"x2\", \"y\": [10.204, 18.51384615, 18.54958904, 12.33333333, 19.85133333, 19.3175, 11.16, 14.52883333, 14.85595238, 13.95048387, 13.84979592, 16.23422222, 15.27857143, 12.85769231, 9.625, 3.704375, 9.036666667, 22.3125, 21.05264706, 11.08857143, 18.78304348, 22.58333333, 6.41, 17.541875, 17.686, 14.44833333, 15.44857143, 16.2508, 15.84157895, 13.34333333, 4.3475], \"yaxis\": \"y2\", \"type\": \"bar\"}], \"name\": \"1\"}, {\"data\": [{\"alignmentgroup\": \"True\", \"hovertemplate\": \"direction=up<br>Local Time (GMT+8)=2<br>floor=%{x}<br>sec=%{y}<extra></extra>\", \"legendgroup\": \"up\", \"marker\": {\"color\": \"#636efa\"}, \"name\": \"up\", \"offsetgroup\": \"up\", \"orientation\": \"v\", \"showlegend\": true, \"textposition\": \"auto\", \"x\": [\"B4\", \"B1\", \"13\", \"9\", \"6\", \"5\", \"4\", \"3\", \"1\", \"B1\", \"11\", \"10\", \"6\", \"5\", \"3\", \"2\", \"1\"], \"xaxis\": \"x\", \"y\": [20.2575, 6.351818182000001, 18.95, 16.85, 9.34, 18.92666667, 8.19, 2.3416666669999997, 4.861626016000001, 7.69, 23.91, 1.29, 11.635, 1.61, 7.078333333, 9.21, 6.557], \"yaxis\": \"y\", \"type\": \"bar\"}, {\"alignmentgroup\": \"True\", \"hovertemplate\": \"direction=down<br>Local Time (GMT+8)=2<br>floor=%{x}<br>sec=%{y}<extra></extra>\", \"legendgroup\": \"down\", \"marker\": {\"color\": \"#EF553B\"}, \"name\": \"down\", \"offsetgroup\": \"down\", \"orientation\": \"v\", \"showlegend\": true, \"textposition\": \"auto\", \"x\": [\"14\", \"13\", \"12\", \"11\", \"10\", \"9\", \"8\", \"7\", \"6\", \"5\", \"4\", \"3\", \"2\", \"1\", \"B1\", \"15\", \"14\", \"13\", \"12\", \"11\", \"10\", \"9\", \"8\", \"7\", \"6\", \"5\", \"4\", \"3\"], \"xaxis\": \"x2\", \"y\": [18.91521739, 15.69214286, 16.43, 18.86933333, 18.24, 14.6125, 15.09913043, 16.93836735, 13.85736842, 14.48142857, 12.56923077, 10.28466667, 15.57, 5.94, 7.49, 0.855, 11.46875, 11.005999999999998, 14.25944444, 15.79333333, 16.8, 9.36, 8.43625, 12.72173913, 16.12142857, 18.358, 15.47666667, 12.66], \"yaxis\": \"y2\", \"type\": \"bar\"}], \"name\": \"2\"}, {\"data\": [{\"alignmentgroup\": \"True\", \"hovertemplate\": \"direction=up<br>Local Time (GMT+8)=3<br>floor=%{x}<br>sec=%{y}<extra></extra>\", \"legendgroup\": \"up\", \"marker\": {\"color\": \"#636efa\"}, \"name\": \"up\", \"offsetgroup\": \"up\", \"orientation\": \"v\", \"showlegend\": true, \"textposition\": \"auto\", \"x\": [\"B4\", \"B1\", \"14\", \"12\", \"11\", \"9\", \"7\", \"6\", \"5\", \"4\", \"3\", \"2\", \"1\", \"B4\", \"B1\", \"7\", \"5\", \"4\", \"3\", \"2\", \"1\"], \"xaxis\": \"x\", \"y\": [21.478, 9.102142857, 15.48, 12.55, 17.43, 11.01, 9.38, 0.725, 10.37, 15.93, 14.2075, 28.1125, 7.836052632, 16.39, 5.175, 13.22, 8.92, 12.13, 26.055, 15.1, 5.883783783999999], \"yaxis\": \"y\", \"type\": \"bar\"}, {\"alignmentgroup\": \"True\", \"hovertemplate\": \"direction=down<br>Local Time (GMT+8)=3<br>floor=%{x}<br>sec=%{y}<extra></extra>\", \"legendgroup\": \"down\", \"marker\": {\"color\": \"#EF553B\"}, \"name\": \"down\", \"offsetgroup\": \"down\", \"orientation\": \"v\", \"showlegend\": true, \"textposition\": \"auto\", \"x\": [\"B1\", \"15\", \"14\", \"13\", \"12\", \"11\", \"10\", \"9\", \"8\", \"7\", \"6\", \"5\", \"4\", \"3\", \"2\", \"1\", \"15\", \"14\", \"13\", \"12\", \"11\", \"10\", \"9\", \"8\", \"7\", \"6\", \"5\", \"4\", \"3\", \"1\"], \"xaxis\": \"x2\", \"y\": [1.21, 11.755, 18.72785714, 16.22555556, 18.740625, 19.49666667, 14.29666667, 22.82714286, 12.85333333, 15.74322581, 12.49294118, 18.31384615, 13.45, 14.417, 16.85, 7.19, 15.19, 18.034000000000002, 15.24857143, 16.055, 9.44, 17.71, 5.17, 14.245, 19.122, 13.22818182, 11.95, 10.95, 12.35333333, 11.925], \"yaxis\": \"y2\", \"type\": \"bar\"}], \"name\": \"3\"}, {\"data\": [{\"alignmentgroup\": \"True\", \"hovertemplate\": \"direction=up<br>Local Time (GMT+8)=4<br>floor=%{x}<br>sec=%{y}<extra></extra>\", \"legendgroup\": \"up\", \"marker\": {\"color\": \"#636efa\"}, \"name\": \"up\", \"offsetgroup\": \"up\", \"orientation\": \"v\", \"showlegend\": true, \"textposition\": \"auto\", \"x\": [\"B4\", \"B3\", \"B1\", \"7\", \"6\", \"5\", \"4\", \"3\", \"1\", \"B4\", \"B1\", \"5\", \"4\", \"3\", \"1\"], \"xaxis\": \"x\", \"y\": [6.17, 13.16, 9.189473684, 14.7925, 9.5, 4.89, 0.43, 12.67, 7.037017543999999, 28.635, 8.363846153999999, 21.04, 1.47, 5.84, 5.156486486], \"yaxis\": \"y\", \"type\": \"bar\"}, {\"alignmentgroup\": \"True\", \"hovertemplate\": \"direction=down<br>Local Time (GMT+8)=4<br>floor=%{x}<br>sec=%{y}<extra></extra>\", \"legendgroup\": \"down\", \"marker\": {\"color\": \"#EF553B\"}, \"name\": \"down\", \"offsetgroup\": \"down\", \"orientation\": \"v\", \"showlegend\": true, \"textposition\": \"auto\", \"x\": [\"14\", \"13\", \"12\", \"11\", \"10\", \"9\", \"8\", \"7\", \"6\", \"5\", \"4\", \"3\", \"2\", \"1\", \"14\", \"13\", \"12\", \"11\", \"10\", \"9\", \"8\", \"7\", \"6\", \"5\", \"4\", \"3\", \"2\", \"1\"], \"xaxis\": \"x2\", \"y\": [14.42416667, 16.9595, 17.96111111, 16.97833333, 6.886666667, 15.61222222, 16.33388889, 13.53473684, 16.16086957, 14.34714286, 8.011000000000001, 12.642000000000001, 9.866666667, 5.337777778, 20.23777778, 13.58, 18.19555556, 13.65333333, 1.245, 16.97571429, 10.19666667, 13.5225, 15.10666667, 10.335, 9.115, 9.695, 6.79, 4.632857143], \"yaxis\": \"y2\", \"type\": \"bar\"}], \"name\": \"4\"}, {\"data\": [{\"alignmentgroup\": \"True\", \"hovertemplate\": \"direction=up<br>Local Time (GMT+8)=5<br>floor=%{x}<br>sec=%{y}<extra></extra>\", \"legendgroup\": \"up\", \"marker\": {\"color\": \"#636efa\"}, \"name\": \"up\", \"offsetgroup\": \"up\", \"orientation\": \"v\", \"showlegend\": true, \"textposition\": \"auto\", \"x\": [\"B4\", \"B3\", \"B1\", \"14\", \"13\", \"12\", \"11\", \"9\", \"8\", \"6\", \"5\", \"4\", \"3\", \"1\", \"B4\", \"B3\", \"B1\", \"9\", \"8\", \"7\", \"6\", \"5\", \"4\", \"3\", \"1\"], \"xaxis\": \"x\", \"y\": [14.74583333, 15.06, 7.678333332999999, 28.53, 21.691999999999997, 9.35, 15.34, 16.77, 16.32, 25.07, 14.07, 23.605, 13.12333333, 6.754777327999999, 12.7575, 17.405, 8.445, 12.205, 24.76, 36.25, 48.01, 18.01, 8.905, 20.30333333, 6.726195652], \"yaxis\": \"y\", \"type\": \"bar\"}, {\"alignmentgroup\": \"True\", \"hovertemplate\": \"direction=down<br>Local Time (GMT+8)=5<br>floor=%{x}<br>sec=%{y}<extra></extra>\", \"legendgroup\": \"down\", \"marker\": {\"color\": \"#EF553B\"}, \"name\": \"down\", \"offsetgroup\": \"down\", \"orientation\": \"v\", \"showlegend\": true, \"textposition\": \"auto\", \"x\": [\"15\", \"14\", \"13\", \"12\", \"11\", \"10\", \"9\", \"8\", \"7\", \"6\", \"5\", \"4\", \"3\", \"1\", \"15\", \"14\", \"13\", \"12\", \"11\", \"9\", \"8\", \"7\", \"6\", \"5\", \"4\", \"3\", \"1\"], \"xaxis\": \"x2\", \"y\": [27.57333333, 20.13511111, 17.36139535, 15.0152459, 15.74191489, 6.766666667000001, 16.51724138, 15.97366667, 14.10964286, 14.44777778, 18.10266667, 12.97428571, 21.28125, 7.288695652, 21.435, 14.37235294, 22.74692308, 22.66111111, 10.78230769, 12.64, 13.542, 13.42380952, 13.485, 20.155, 15.435, 17.37, 17.65], \"yaxis\": \"y2\", \"type\": \"bar\"}], \"name\": \"5\"}, {\"data\": [{\"alignmentgroup\": \"True\", \"hovertemplate\": \"direction=up<br>Local Time (GMT+8)=6<br>floor=%{x}<br>sec=%{y}<extra></extra>\", \"legendgroup\": \"up\", \"marker\": {\"color\": \"#636efa\"}, \"name\": \"up\", \"offsetgroup\": \"up\", \"orientation\": \"v\", \"showlegend\": true, \"textposition\": \"auto\", \"x\": [\"B4\", \"B3\", \"B1\", \"14\", \"13\", \"12\", \"11\", \"10\", \"9\", \"8\", \"7\", \"6\", \"5\", \"4\", \"3\", \"2\", \"1\", \"B4\", \"B3\", \"B1\", \"14\", \"13\", \"12\", \"9\", \"8\", \"7\", \"6\", \"5\", \"3\", \"1\"], \"xaxis\": \"x\", \"y\": [24.82973333, 13.83535714, 19.47764706, 38.9175, 32.80071429, 45.04428571, 50.43666667, 56.13, 28.95, 36.99, 7.438, 38.51806452, 12.27466667, 12.51214286, 13.77857143, 18.34, 17.36362963, 19.75538462, 11.30875, 19.06653061, 30.395, 36.94, 12.54, 47.65, 45.48166667, 72.81, 24.29909091, 8.6475, 2.515, 15.24036923], \"yaxis\": \"y\", \"type\": \"bar\"}, {\"alignmentgroup\": \"True\", \"hovertemplate\": \"direction=down<br>Local Time (GMT+8)=6<br>floor=%{x}<br>sec=%{y}<extra></extra>\", \"legendgroup\": \"down\", \"marker\": {\"color\": \"#EF553B\"}, \"name\": \"down\", \"offsetgroup\": \"down\", \"orientation\": \"v\", \"showlegend\": true, \"textposition\": \"auto\", \"x\": [\"B3\", \"B1\", \"15\", \"14\", \"13\", \"12\", \"11\", \"9\", \"8\", \"7\", \"6\", \"5\", \"4\", \"3\", \"2\", \"1\", \"B1\", \"15\", \"14\", \"13\", \"12\", \"11\", \"9\", \"8\", \"7\", \"6\", \"5\", \"4\", \"3\", \"2\", \"1\"], \"xaxis\": \"x2\", \"y\": [11.72, 31.29852941, 30.40777778, 32.30084507, 20.12730994, 22.43213675, 20.06993548, 16.45621359, 18.77839744, 15.8811413, 14.2208867, 27.56820513, 22.40166667, 27.038556699999997, 29.24666667, 14.37653061, 35.47272727, 51.94666667, 31.11540984, 22.58108696, 22.0185, 19.10018868, 17.44488372, 14.37729167, 18.01526316, 14.03407895, 31.37766667, 41.044, 26.52486486, 69.285, 13.07857143], \"yaxis\": \"y2\", \"type\": \"bar\"}], \"name\": \"6\"}, {\"data\": [{\"alignmentgroup\": \"True\", \"hovertemplate\": \"direction=up<br>Local Time (GMT+8)=7<br>floor=%{x}<br>sec=%{y}<extra></extra>\", \"legendgroup\": \"up\", \"marker\": {\"color\": \"#636efa\"}, \"name\": \"up\", \"offsetgroup\": \"up\", \"orientation\": \"v\", \"showlegend\": true, \"textposition\": \"auto\", \"x\": [\"B4\", \"B3\", \"B1\", \"14\", \"13\", \"12\", \"11\", \"10\", \"9\", \"8\", \"7\", \"6\", \"5\", \"4\", \"3\", \"2\", \"1\", \"B4\", \"B3\", \"B1\", \"14\", \"13\", \"12\", \"11\", \"10\", \"9\", \"8\", \"7\", \"6\", \"5\", \"4\", \"3\", \"2\", \"1\"], \"xaxis\": \"x\", \"y\": [32.40641791, 19.91534392, 26.18236715, 53.299, 38.72545455, 41.51333333, 56.35153846, 62.675, 39.35578947, 36.41380952, 50.69862069, 70.99287671, 11.04069767, 9.6775, 10.25445946, 9.3255, 15.20316147, 22.85197368, 15.46875, 24.83337553, 89.15, 31.43375, 56.9, 89.495, 217.91, 51.16823529, 37.96777778, 87.22, 58.30090909, 14.9675, 12.255999999999998, 14.49423077, 12.18, 17.97079038], \"yaxis\": \"y\", \"type\": \"bar\"}, {\"alignmentgroup\": \"True\", \"hovertemplate\": \"direction=down<br>Local Time (GMT+8)=7<br>floor=%{x}<br>sec=%{y}<extra></extra>\", \"legendgroup\": \"down\", \"marker\": {\"color\": \"#EF553B\"}, \"name\": \"down\", \"offsetgroup\": \"down\", \"orientation\": \"v\", \"showlegend\": true, \"textposition\": \"auto\", \"x\": [\"B3\", \"B1\", \"15\", \"14\", \"13\", \"12\", \"11\", \"10\", \"9\", \"8\", \"7\", \"6\", \"5\", \"4\", \"3\", \"2\", \"1\", \"B3\", \"B1\", \"15\", \"14\", \"13\", \"12\", \"11\", \"10\", \"9\", \"8\", \"7\", \"6\", \"5\", \"4\", \"3\", \"2\", \"1\"], \"xaxis\": \"x2\", \"y\": [22.58, 28.96854839, 50.59324324, 46.19707865, 27.63387454, 22.22938628, 17.44232975, 16.54090909, 16.08915612, 16.35487365, 14.52095618, 13.49898785, 49.36166667, 39.18066667, 40.87908333, 40.92571429, 29.77925926, 46.65166667, 23.61565217, 46.77363636, 49.95652632, 22.23474747, 22.04909091, 19.86329787, 15.1875, 17.46027778, 15.89489362, 16.77445783, 13.31049505, 51.39, 35.07884615, 33.85466667, 28.06142857, 28.01740741], \"yaxis\": \"y2\", \"type\": \"bar\"}], \"name\": \"7\"}, {\"data\": [{\"alignmentgroup\": \"True\", \"hovertemplate\": \"direction=up<br>Local Time (GMT+8)=8<br>floor=%{x}<br>sec=%{y}<extra></extra>\", \"legendgroup\": \"up\", \"marker\": {\"color\": \"#636efa\"}, \"name\": \"up\", \"offsetgroup\": \"up\", \"orientation\": \"v\", \"showlegend\": true, \"textposition\": \"auto\", \"x\": [\"B4\", \"B3\", \"B1\", \"14\", \"13\", \"12\", \"11\", \"10\", \"9\", \"8\", \"7\", \"6\", \"5\", \"4\", \"3\", \"2\", \"1\", \"B4\", \"B3\", \"B1\", \"14\", \"13\", \"12\", \"11\", \"10\", \"9\", \"8\", \"7\", \"6\", \"5\", \"4\", \"3\", \"2\", \"1\"], \"xaxis\": \"x\", \"y\": [30.08351779, 20.17243243, 28.25829181, 63.59923077, 51.92125, 56.79, 87.75, 50.64428571, 56.09391304, 72.46166667, 64.17617647, 59.75162791, 15.21020408, 10.54633333, 9.7625, 7.512280702000001, 17.15813154, 23.99532468, 20.32489796, 30.16720524, 68.954, 69.74666667, 33.87833333, 69.915, 73.14, 66.97857143, 82.366, 73.28727273, 69.655, 12.60333333, 11.1462963, 9.66744186, 5.912727273, 20.6412], \"yaxis\": \"y\", \"type\": \"bar\"}, {\"alignmentgroup\": \"True\", \"hovertemplate\": \"direction=down<br>Local Time (GMT+8)=8<br>floor=%{x}<br>sec=%{y}<extra></extra>\", \"legendgroup\": \"down\", \"marker\": {\"color\": \"#EF553B\"}, \"name\": \"down\", \"offsetgroup\": \"down\", \"orientation\": \"v\", \"showlegend\": true, \"textposition\": \"auto\", \"x\": [\"B3\", \"B1\", \"15\", \"14\", \"13\", \"12\", \"11\", \"10\", \"9\", \"8\", \"7\", \"6\", \"5\", \"4\", \"3\", \"2\", \"1\", \"B3\", \"B1\", \"15\", \"14\", \"13\", \"12\", \"11\", \"10\", \"9\", \"8\", \"7\", \"6\", \"5\", \"4\", \"3\", \"2\", \"1\"], \"xaxis\": \"x2\", \"y\": [30.31272727, 25.05783133, 54.88721311, 55.02916968, 25.12909375, 20.93503425, 15.76152905, 12.82487805, 14.61520548, 13.11241983, 12.50026217, 11.53106452, 46.58642857, 43.94679348, 30.4559375, 18.58304348, 21.91177083, 25.9175, 23.50296296, 53.82041667, 50.26238532, 25.88580357, 19.75875, 15.65677419, 13.20263158, 16.95798165, 14.07813084, 13.52308411, 13.02605263, 46.36412698, 41.35634921, 25.43448718, 11.70888889, 24.08370968], \"yaxis\": \"y2\", \"type\": \"bar\"}], \"name\": \"8\"}, {\"data\": [{\"alignmentgroup\": \"True\", \"hovertemplate\": \"direction=up<br>Local Time (GMT+8)=9<br>floor=%{x}<br>sec=%{y}<extra></extra>\", \"legendgroup\": \"up\", \"marker\": {\"color\": \"#636efa\"}, \"name\": \"up\", \"offsetgroup\": \"up\", \"orientation\": \"v\", \"showlegend\": true, \"textposition\": \"auto\", \"x\": [\"B4\", \"B3\", \"B1\", \"14\", \"13\", \"12\", \"11\", \"10\", \"9\", \"8\", \"7\", \"6\", \"5\", \"4\", \"3\", \"2\", \"1\", \"B4\", \"B3\", \"B1\", \"14\", \"13\", \"12\", \"11\", \"10\", \"9\", \"8\", \"7\", \"6\", \"5\", \"4\", \"3\", \"2\", \"1\"], \"xaxis\": \"x\", \"y\": [31.82159624, 18.43597015, 26.97566462, 82.90636364, 65.93875, 39.74538462, 48.53125, 81.76333333, 72.303, 67.49621622, 71.21574074, 70.92916667, 11.32155844, 10.19552632, 8.491111111, 7.71592233, 17.62986003, 33.22894118, 30.1795, 24.32505208, 72.98, 47.07428571, 33.79333333, 38.84125, 164.7333333, 37.09111111, 56.76222222, 60.69111111, 62.60846154, 8.854444444, 12.62244444, 8.965588235, 7.799545455, 18.48867521], \"yaxis\": \"y\", \"type\": \"bar\"}, {\"alignmentgroup\": \"True\", \"hovertemplate\": \"direction=down<br>Local Time (GMT+8)=9<br>floor=%{x}<br>sec=%{y}<extra></extra>\", \"legendgroup\": \"down\", \"marker\": {\"color\": \"#EF553B\"}, \"name\": \"down\", \"offsetgroup\": \"down\", \"orientation\": \"v\", \"showlegend\": true, \"textposition\": \"auto\", \"x\": [\"B3\", \"B1\", \"15\", \"14\", \"13\", \"12\", \"11\", \"10\", \"9\", \"8\", \"7\", \"6\", \"5\", \"4\", \"3\", \"2\", \"1\", \"B3\", \"B1\", \"15\", \"14\", \"13\", \"12\", \"11\", \"10\", \"9\", \"8\", \"7\", \"6\", \"5\", \"4\", \"3\", \"2\", \"1\"], \"xaxis\": \"x2\", \"y\": [42.51071429, 21.0788764, 80.90065789, 57.86033639, 27.16094801, 19.07154639, 14.76299003, 12.38146341, 12.49076412, 13.15844156, 11.95281588, 10.98630225, 52.18089744, 28.46373494, 26.02320442, 23.15211538, 18.17184713, 27.9525, 23.29592593, 75.68046512, 58.00653226, 29.30675, 14.47108911, 16.49480769, 10.63521739, 15.77116071, 12.85796117, 12.06383929, 11.26925926, 51.12188406, 44.3545614, 27.393030300000003, 19.365, 22.91156863], \"yaxis\": \"y2\", \"type\": \"bar\"}], \"name\": \"9\"}, {\"data\": [{\"alignmentgroup\": \"True\", \"hovertemplate\": \"direction=up<br>Local Time (GMT+8)=10<br>floor=%{x}<br>sec=%{y}<extra></extra>\", \"legendgroup\": \"up\", \"marker\": {\"color\": \"#636efa\"}, \"name\": \"up\", \"offsetgroup\": \"up\", \"orientation\": \"v\", \"showlegend\": true, \"textposition\": \"auto\", \"x\": [\"B4\", \"B3\", \"B1\", \"14\", \"13\", \"12\", \"11\", \"10\", \"9\", \"8\", \"7\", \"6\", \"5\", \"4\", \"3\", \"2\", \"1\", \"B4\", \"B3\", \"B1\", \"14\", \"13\", \"12\", \"11\", \"9\", \"8\", \"7\", \"6\", \"5\", \"4\", \"3\", \"2\", \"1\"], \"xaxis\": \"x\", \"y\": [34.1715859, 20.58682243, 30.99402844, 120.40571429999999, 50.19272727, 37.64633333, 22.76692308, 45.78551724, 65.78346154, 54.761, 53.16671642, 77.38109589, 12.52386667, 11.18900901, 8.485703125, 7.748055556000001, 17.82118068, 28.28465517, 20.72709677, 36.51318919, 13.01, 49.542, 52.669, 23.13, 38.04133333, 69.048125, 52.94863636, 70.54095238, 11.515, 11.7484375, 13.01970588, 8.266, 19.75619266], \"yaxis\": \"y\", \"type\": \"bar\"}, {\"alignmentgroup\": \"True\", \"hovertemplate\": \"direction=down<br>Local Time (GMT+8)=10<br>floor=%{x}<br>sec=%{y}<extra></extra>\", \"legendgroup\": \"down\", \"marker\": {\"color\": \"#EF553B\"}, \"name\": \"down\", \"offsetgroup\": \"down\", \"orientation\": \"v\", \"showlegend\": true, \"textposition\": \"auto\", \"x\": [\"B3\", \"B1\", \"15\", \"14\", \"13\", \"12\", \"11\", \"10\", \"9\", \"8\", \"7\", \"6\", \"5\", \"4\", \"3\", \"2\", \"1\", \"B3\", \"B1\", \"15\", \"14\", \"13\", \"12\", \"11\", \"10\", \"9\", \"8\", \"7\", \"6\", \"5\", \"4\", \"3\", \"2\", \"1\"], \"xaxis\": \"x2\", \"y\": [25.10037037, 24.15363636, 78.43833333, 61.85969492, 28.24836237, 16.43317518, 15.36433447, 11.08622378, 11.77430556, 11.67217105, 10.69985965, 11.6958125, 46.76795652, 25.95120482, 24.427106600000002, 21.78979167, 21.17461538, 37.1475, 27.13862069, 77.18, 70.91282051, 24.50474138, 17.69482456, 15.91469027, 10.01035714, 13.33504, 12.24414063, 10.39646018, 11.51626168, 50.34611111, 37.64, 26.92909091, 17.22125, 24.14589286], \"yaxis\": \"y2\", \"type\": \"bar\"}], \"name\": \"10\"}, {\"data\": [{\"alignmentgroup\": \"True\", \"hovertemplate\": \"direction=up<br>Local Time (GMT+8)=11<br>floor=%{x}<br>sec=%{y}<extra></extra>\", \"legendgroup\": \"up\", \"marker\": {\"color\": \"#636efa\"}, \"name\": \"up\", \"offsetgroup\": \"up\", \"orientation\": \"v\", \"showlegend\": true, \"textposition\": \"auto\", \"x\": [\"B4\", \"B3\", \"B1\", \"14\", \"13\", \"12\", \"11\", \"10\", \"9\", \"8\", \"7\", \"6\", \"5\", \"4\", \"3\", \"2\", \"1\", \"B4\", \"B3\", \"B1\", \"14\", \"13\", \"12\", \"11\", \"10\", \"9\", \"8\", \"7\", \"6\", \"5\", \"4\", \"3\", \"2\", \"1\"], \"xaxis\": \"x\", \"y\": [49.02057613, 21.71535088, 28.9941483, 65.49533333, 38.76516129, 60.13380952, 43.66769231, 49.4708, 58.41840909, 50.23160714, 61.0715493, 71.81855263, 12.883375, 13.09392593, 8.50751938, 10.49744186, 13.27246781, 34.62672727, 23.62323529, 46.30771429, 41.65333333, 35.12428571, 56.84733333, 65.12461538, 44.48, 56.51285714, 73.61399999999999, 57.13458333, 64.55933333, 19.73444444, 11.96567568, 9.467391304, 11.36090909, 15.91603175], \"yaxis\": \"y\", \"type\": \"bar\"}, {\"alignmentgroup\": \"True\", \"hovertemplate\": \"direction=down<br>Local Time (GMT+8)=11<br>floor=%{x}<br>sec=%{y}<extra></extra>\", \"legendgroup\": \"down\", \"marker\": {\"color\": \"#EF553B\"}, \"name\": \"down\", \"offsetgroup\": \"down\", \"orientation\": \"v\", \"showlegend\": true, \"textposition\": \"auto\", \"x\": [\"B3\", \"B1\", \"15\", \"14\", \"13\", \"12\", \"11\", \"10\", \"9\", \"8\", \"7\", \"6\", \"5\", \"4\", \"3\", \"2\", \"1\", \"B3\", \"B1\", \"15\", \"14\", \"13\", \"12\", \"11\", \"10\", \"9\", \"8\", \"7\", \"6\", \"5\", \"4\", \"3\", \"2\", \"1\"], \"xaxis\": \"x2\", \"y\": [36.19391304, 25.9253271, 77.81405941, 65.99817109, 34.95441261, 18.70092063, 14.025448499999998, 12.4034375, 12.3802649, 9.987006578999999, 10.90224422, 10.91721805, 65.93203125, 37.14823529, 26.92695238, 22.85469388, 20.90542105, 33.59444444, 23.08146341, 85.79890625, 61.2797479, 35.3712963, 16.57423358, 13.86369748, 11.413125, 11.12429825, 10.57735537, 10.44532258, 8.663333332999999, 49.74567568, 43.25146067, 30.6078, 18.23705882, 28.17238095], \"yaxis\": \"y2\", \"type\": \"bar\"}], \"name\": \"11\"}, {\"data\": [{\"alignmentgroup\": \"True\", \"hovertemplate\": \"direction=up<br>Local Time (GMT+8)=12<br>floor=%{x}<br>sec=%{y}<extra></extra>\", \"legendgroup\": \"up\", \"marker\": {\"color\": \"#636efa\"}, \"name\": \"up\", \"offsetgroup\": \"up\", \"orientation\": \"v\", \"showlegend\": true, \"textposition\": \"auto\", \"x\": [\"B4\", \"B3\", \"B1\", \"14\", \"13\", \"12\", \"11\", \"10\", \"9\", \"8\", \"7\", \"6\", \"5\", \"4\", \"3\", \"2\", \"1\", \"B4\", \"B3\", \"B1\", \"14\", \"13\", \"12\", \"11\", \"10\", \"9\", \"8\", \"7\", \"6\", \"5\", \"4\", \"3\", \"2\", \"1\"], \"xaxis\": \"x\", \"y\": [48.67666667, 27.95846847, 33.96481203, 76.56933333, 82.04, 55.82, 47.2825, 55.22916667, 48.34892857, 46.87555556, 69.27978723, 76.69696429, 10.46121622, 9.921585366, 8.93733945, 9.733170732, 13.91057692, 46.81163636, 14.96952381, 40.72053191, 264.43, 63.5825, 45.23888889, 56.56142857, 68.7, 36.448, 56.07727273, 43.058387100000004, 59.25428571, 12.19363636, 15.990625, 8.41452381, 9.302, 17.16349754], \"yaxis\": \"y\", \"type\": \"bar\"}, {\"alignmentgroup\": \"True\", \"hovertemplate\": \"direction=down<br>Local Time (GMT+8)=12<br>floor=%{x}<br>sec=%{y}<extra></extra>\", \"legendgroup\": \"down\", \"marker\": {\"color\": \"#EF553B\"}, \"name\": \"down\", \"offsetgroup\": \"down\", \"orientation\": \"v\", \"showlegend\": true, \"textposition\": \"auto\", \"x\": [\"B3\", \"B1\", \"15\", \"14\", \"13\", \"12\", \"11\", \"10\", \"9\", \"8\", \"7\", \"6\", \"5\", \"4\", \"3\", \"2\", \"1\", \"B3\", \"B1\", \"15\", \"14\", \"13\", \"12\", \"11\", \"10\", \"9\", \"8\", \"7\", \"6\", \"5\", \"4\", \"3\", \"2\", \"1\"], \"xaxis\": \"x2\", \"y\": [22.92956522, 23.603387100000003, 81.15102703, 56.40991525, 33.63287709, 17.24123596, 12.78285256, 10.90515152, 11.94447712, 11.61687307, 10.85493671, 10.28398496, 61.51339535, 36.59184874, 26.69846847, 16.03861111, 23.26264045, 39.9, 33.85375, 81.42979592, 68.21093023, 31.32048544, 18.82663636, 12.38309735, 10.81060606, 13.839495800000002, 11.72537037, 11.61345133, 9.1018, 56.4392, 35.529625, 30.94486486, 15.03444444, 19.74407407], \"yaxis\": \"y2\", \"type\": \"bar\"}], \"name\": \"12\"}, {\"data\": [{\"alignmentgroup\": \"True\", \"hovertemplate\": \"direction=up<br>Local Time (GMT+8)=13<br>floor=%{x}<br>sec=%{y}<extra></extra>\", \"legendgroup\": \"up\", \"marker\": {\"color\": \"#636efa\"}, \"name\": \"up\", \"offsetgroup\": \"up\", \"orientation\": \"v\", \"showlegend\": true, \"textposition\": \"auto\", \"x\": [\"B4\", \"B3\", \"B1\", \"14\", \"13\", \"12\", \"11\", \"10\", \"9\", \"8\", \"7\", \"6\", \"5\", \"4\", \"3\", \"2\", \"1\", \"B4\", \"B3\", \"B1\", \"14\", \"13\", \"12\", \"11\", \"10\", \"9\", \"8\", \"7\", \"6\", \"5\", \"4\", \"3\", \"2\", \"1\"], \"xaxis\": \"x\", \"y\": [43.59296296, 22.53537634, 27.07171598, 95.06, 45.36952381, 61.32857143, 40.21210526, 45.257, 51.2504, 60.61282051, 67.79828947, 90.40340909, 15.13309859, 11.06293651, 10.42054054, 10.30325301, 16.05842466, 30.92638889, 28.96034483, 30.8282967, 127.086, 37.66, 25.22333333, 76.47307692, 41.17125, 27.52785714, 52.3575, 92.0948, 70.62666667, 12.56305556, 12.02322581, 12.2066129, 6.678421052999999, 18.28895735], \"yaxis\": \"y\", \"type\": \"bar\"}, {\"alignmentgroup\": \"True\", \"hovertemplate\": \"direction=down<br>Local Time (GMT+8)=13<br>floor=%{x}<br>sec=%{y}<extra></extra>\", \"legendgroup\": \"down\", \"marker\": {\"color\": \"#EF553B\"}, \"name\": \"down\", \"offsetgroup\": \"down\", \"orientation\": \"v\", \"showlegend\": true, \"textposition\": \"auto\", \"x\": [\"B3\", \"B1\", \"15\", \"14\", \"13\", \"12\", \"11\", \"10\", \"9\", \"8\", \"7\", \"6\", \"5\", \"4\", \"3\", \"2\", \"1\", \"B3\", \"B1\", \"15\", \"14\", \"13\", \"12\", \"11\", \"10\", \"9\", \"8\", \"7\", \"6\", \"5\", \"4\", \"3\", \"2\", \"1\"], \"xaxis\": \"x2\", \"y\": [18.629, 25.245530300000002, 79.45678322, 66.39167183, 28.48062893, 19.80119318, 12.92865031, 13.70944882, 13.24744027, 12.00620178, 11.03775244, 10.28178988, 49.22449761, 33.61414201, 24.60463918, 12.88857143, 19.14601124, 15.70125, 25.32769231, 65.7, 62.14018182, 30.83021053, 15.06217391, 14.563125, 10.62512821, 15.11828283, 13.45281553, 13.54496063, 12.93989796, 62.39484375, 24.66079365, 29.20693182, 11.92176471, 12.748], \"yaxis\": \"y2\", \"type\": \"bar\"}], \"name\": \"13\"}, {\"data\": [{\"alignmentgroup\": \"True\", \"hovertemplate\": \"direction=up<br>Local Time (GMT+8)=14<br>floor=%{x}<br>sec=%{y}<extra></extra>\", \"legendgroup\": \"up\", \"marker\": {\"color\": \"#636efa\"}, \"name\": \"up\", \"offsetgroup\": \"up\", \"orientation\": \"v\", \"showlegend\": true, \"textposition\": \"auto\", \"x\": [\"B4\", \"B3\", \"B1\", \"14\", \"13\", \"12\", \"11\", \"10\", \"9\", \"8\", \"7\", \"6\", \"5\", \"4\", \"3\", \"2\", \"1\", \"B4\", \"B3\", \"B1\", \"14\", \"13\", \"12\", \"11\", \"10\", \"9\", \"8\", \"7\", \"6\", \"5\", \"4\", \"3\", \"2\", \"1\"], \"xaxis\": \"x\", \"y\": [32.46376984, 21.90603774, 29.7032636, 105.20333329999998, 71.12, 34.89782609, 38.48875, 97.97, 43.582, 62.34644068, 66.76563636, 78.14044444, 11.3401, 10.4108125, 9.024102564, 11.9871875, 15.71495741, 33.808701299999996, 16.54736842, 32.12968085, 17.42333333, 38.18666667, 38.18888889, 59.646, 103.7714286, 78.77466667, 53.10210526, 48.02518519, 63.531000000000006, 11.41355556, 11.62333333, 7.654259259, 8.81, 18.33012931], \"yaxis\": \"y\", \"type\": \"bar\"}, {\"alignmentgroup\": \"True\", \"hovertemplate\": \"direction=down<br>Local Time (GMT+8)=14<br>floor=%{x}<br>sec=%{y}<extra></extra>\", \"legendgroup\": \"down\", \"marker\": {\"color\": \"#EF553B\"}, \"name\": \"down\", \"offsetgroup\": \"down\", \"orientation\": \"v\", \"showlegend\": true, \"textposition\": \"auto\", \"x\": [\"B3\", \"B1\", \"15\", \"14\", \"13\", \"12\", \"11\", \"10\", \"9\", \"8\", \"7\", \"6\", \"5\", \"4\", \"3\", \"2\", \"1\", \"B3\", \"B1\", \"15\", \"14\", \"13\", \"12\", \"11\", \"10\", \"9\", \"8\", \"7\", \"6\", \"5\", \"4\", \"3\", \"2\", \"1\"], \"xaxis\": \"x2\", \"y\": [23.7655, 22.07666667, 74.46777778, 66.90239344, 26.33547855, 18.28167192, 15.08414894, 10.91760274, 13.49208754, 12.00324759, 11.86885246, 10.73014085, 51.60777293, 36.83219409, 20.95643836, 20.1525641, 18.83859649, 10.564, 19.88689655, 51.71056604, 64.9666, 27.95771654, 17.31035714, 13.79117647, 8.495, 12.12155963, 11.20907216, 13.14948718, 11.45653846, 40.79231884, 37.39043956, 20.24928571, 26.116, 15.26465116], \"yaxis\": \"y2\", \"type\": \"bar\"}], \"name\": \"14\"}, {\"data\": [{\"alignmentgroup\": \"True\", \"hovertemplate\": \"direction=up<br>Local Time (GMT+8)=15<br>floor=%{x}<br>sec=%{y}<extra></extra>\", \"legendgroup\": \"up\", \"marker\": {\"color\": \"#636efa\"}, \"name\": \"up\", \"offsetgroup\": \"up\", \"orientation\": \"v\", \"showlegend\": true, \"textposition\": \"auto\", \"x\": [\"B4\", \"B3\", \"B1\", \"14\", \"13\", \"12\", \"11\", \"10\", \"9\", \"8\", \"7\", \"6\", \"5\", \"4\", \"3\", \"2\", \"1\", \"B4\", \"B3\", \"B1\", \"14\", \"13\", \"12\", \"11\", \"10\", \"9\", \"8\", \"7\", \"6\", \"5\", \"4\", \"3\", \"2\", \"1\"], \"xaxis\": \"x\", \"y\": [35.87952381, 16.150990099999998, 29.27938215, 73.85333333, 28.94066667, 27.82363636, 38.58833333, 54.275, 42.28744681, 51.44793651, 63.75333333, 93.01814286, 16.38195122, 12.71112903, 8.592913907, 8.529647059, 18.92326599, 34.5835, 18.515, 32.82764706, 82.2125, 64.41555556, 50.94428571, 72.555, 35.51285714, 37.09571429, 47.93318182, 63.120625, 76.47842105, 10.30527778, 9.367878787999999, 10.04829268, 12.29458333, 20.75512], \"yaxis\": \"y\", \"type\": \"bar\"}, {\"alignmentgroup\": \"True\", \"hovertemplate\": \"direction=down<br>Local Time (GMT+8)=15<br>floor=%{x}<br>sec=%{y}<extra></extra>\", \"legendgroup\": \"down\", \"marker\": {\"color\": \"#EF553B\"}, \"name\": \"down\", \"offsetgroup\": \"down\", \"orientation\": \"v\", \"showlegend\": true, \"textposition\": \"auto\", \"x\": [\"B3\", \"B1\", \"15\", \"14\", \"13\", \"12\", \"11\", \"10\", \"9\", \"8\", \"7\", \"6\", \"5\", \"4\", \"3\", \"2\", \"1\", \"B3\", \"B1\", \"15\", \"14\", \"13\", \"12\", \"11\", \"10\", \"9\", \"8\", \"7\", \"6\", \"5\", \"4\", \"3\", \"2\", \"1\"], \"xaxis\": \"x2\", \"y\": [21.84884615, 20.39195122, 77.34607595, 60.21380952, 26.75651316, 19.24252427, 15.20768116, 11.80709877, 12.02182724, 10.39535484, 11.35462295, 9.753493151, 57.33867299, 30.35223776, 22.53346008, 17.3526087, 15.65359116, 18.16583333, 17.98482759, 72.98490909, 62.28697479, 22.01963235, 18.65747967, 15.30295455, 10.37196078, 13.66833333, 12.65015625, 10.95554622, 12.27178295, 44.45666667, 33.1684466, 25.31963235, 12.57764706, 14.86410959], \"yaxis\": \"y2\", \"type\": \"bar\"}], \"name\": \"15\"}, {\"data\": [{\"alignmentgroup\": \"True\", \"hovertemplate\": \"direction=up<br>Local Time (GMT+8)=16<br>floor=%{x}<br>sec=%{y}<extra></extra>\", \"legendgroup\": \"up\", \"marker\": {\"color\": \"#636efa\"}, \"name\": \"up\", \"offsetgroup\": \"up\", \"orientation\": \"v\", \"showlegend\": true, \"textposition\": \"auto\", \"x\": [\"B4\", \"B3\", \"B1\", \"14\", \"13\", \"12\", \"11\", \"10\", \"9\", \"8\", \"7\", \"6\", \"5\", \"4\", \"3\", \"2\", \"1\", \"B4\", \"B3\", \"B1\", \"14\", \"13\", \"12\", \"11\", \"10\", \"9\", \"8\", \"7\", \"6\", \"5\", \"4\", \"3\", \"2\", \"1\"], \"xaxis\": \"x\", \"y\": [34.2713834, 19.57567568, 30.23877944, 108.57333329999999, 33.88583333, 47.16095238, 46.68058824, 49.30206897, 48.39352941, 53.43063492, 78.83933333, 59.93780822, 11.602020199999998, 10.8988806, 9.288062016, 9.034526316000001, 16.250402800000003, 33.61045977, 19.44448276, 32.43352632, 95.82857143, 41.31399999999999, 78.4975, 39.24, 45.12692308, 55.7032, 52.22533333, 60.50578947, 72.26565217, 11.07076923, 11.59139535, 8.11175, 10.09758621, 16.62628906], \"yaxis\": \"y\", \"type\": \"bar\"}, {\"alignmentgroup\": \"True\", \"hovertemplate\": \"direction=down<br>Local Time (GMT+8)=16<br>floor=%{x}<br>sec=%{y}<extra></extra>\", \"legendgroup\": \"down\", \"marker\": {\"color\": \"#EF553B\"}, \"name\": \"down\", \"offsetgroup\": \"down\", \"orientation\": \"v\", \"showlegend\": true, \"textposition\": \"auto\", \"x\": [\"B3\", \"B1\", \"15\", \"14\", \"13\", \"12\", \"11\", \"10\", \"9\", \"8\", \"7\", \"6\", \"5\", \"4\", \"3\", \"2\", \"1\", \"B3\", \"B1\", \"15\", \"14\", \"13\", \"12\", \"11\", \"10\", \"9\", \"8\", \"7\", \"6\", \"5\", \"4\", \"3\", \"2\", \"1\"], \"xaxis\": \"x2\", \"y\": [18.58392857, 17.15445378, 74.27364583, 60.32532353, 28.74621849, 18.953, 13.86175896, 11.22534722, 13.084625, 9.812330623, 10.08903904, 10.07396774, 52.51614458, 30.14191882, 17.24274262, 15.15591837, 17.46817204, 20.11666667, 26.68607143, 65.78455882, 61.44291971, 27.31515625, 18.680999999999997, 14.35774194, 12.59648148, 11.21832215, 11.78847222, 10.44028302, 12.09854545, 43.06673684, 29.18389474, 26.09358491, 9.63, 24.18203704], \"yaxis\": \"y2\", \"type\": \"bar\"}], \"name\": \"16\"}, {\"data\": [{\"alignmentgroup\": \"True\", \"hovertemplate\": \"direction=up<br>Local Time (GMT+8)=17<br>floor=%{x}<br>sec=%{y}<extra></extra>\", \"legendgroup\": \"up\", \"marker\": {\"color\": \"#636efa\"}, \"name\": \"up\", \"offsetgroup\": \"up\", \"orientation\": \"v\", \"showlegend\": true, \"textposition\": \"auto\", \"x\": [\"B4\", \"B3\", \"B1\", \"14\", \"13\", \"12\", \"11\", \"10\", \"9\", \"8\", \"7\", \"6\", \"5\", \"4\", \"3\", \"2\", \"1\", \"B4\", \"B3\", \"B1\", \"14\", \"13\", \"12\", \"11\", \"10\", \"9\", \"8\", \"7\", \"6\", \"5\", \"4\", \"3\", \"2\", \"1\"], \"xaxis\": \"x\", \"y\": [40.27939394, 19.60731343, 34.59875686, 124.52083329999999, 60.67411765, 41.29777778, 53.33571429, 45.53444444, 59.38368421, 53.22464286, 62.91493151, 73.70109091, 11.9778481, 13.79443299, 8.746666667000001, 8.954736842, 16.13431005, 43.48176471, 24.774, 39.46706731, 90.21, 48.98, 24.735, 40.0925, 53.60444444, 49.930625, 58.95444444, 95.2815, 66.87285714, 16.00666667, 11.60444444, 11.741, 12.06066667, 18.13662551], \"yaxis\": \"y\", \"type\": \"bar\"}, {\"alignmentgroup\": \"True\", \"hovertemplate\": \"direction=down<br>Local Time (GMT+8)=17<br>floor=%{x}<br>sec=%{y}<extra></extra>\", \"legendgroup\": \"down\", \"marker\": {\"color\": \"#EF553B\"}, \"name\": \"down\", \"offsetgroup\": \"down\", \"orientation\": \"v\", \"showlegend\": true, \"textposition\": \"auto\", \"x\": [\"B3\", \"B1\", \"15\", \"14\", \"13\", \"12\", \"11\", \"10\", \"9\", \"8\", \"7\", \"6\", \"5\", \"4\", \"3\", \"2\", \"1\", \"B3\", \"B1\", \"15\", \"14\", \"13\", \"12\", \"11\", \"10\", \"9\", \"8\", \"7\", \"6\", \"5\", \"4\", \"3\", \"2\", \"1\"], \"xaxis\": \"x2\", \"y\": [33.78166667, 28.58122642, 73.46947115, 57.89131105, 32.54225974, 14.60273657, 13.7068595, 11.09888268, 10.88948787, 10.04880556, 9.857471591, 10.21281046, 65.00578313, 31.46842697, 28.5430131, 22.18, 26.29304636, 2.93, 25.99064516, 67.96459016, 61.82482014, 24.71957447, 19.32189873, 12.02503226, 9.725294117999999, 11.585, 10.15561644, 10.624366199999999, 9.884094487999999, 56.86035714, 43.48098039, 33.467, 25.48916667, 25.4612069], \"yaxis\": \"y2\", \"type\": \"bar\"}], \"name\": \"17\"}, {\"data\": [{\"alignmentgroup\": \"True\", \"hovertemplate\": \"direction=up<br>Local Time (GMT+8)=18<br>floor=%{x}<br>sec=%{y}<extra></extra>\", \"legendgroup\": \"up\", \"marker\": {\"color\": \"#636efa\"}, \"name\": \"up\", \"offsetgroup\": \"up\", \"orientation\": \"v\", \"showlegend\": true, \"textposition\": \"auto\", \"x\": [\"B4\", \"B3\", \"B1\", \"14\", \"13\", \"12\", \"11\", \"10\", \"9\", \"8\", \"7\", \"6\", \"5\", \"4\", \"3\", \"2\", \"1\", \"B4\", \"B3\", \"B1\", \"14\", \"13\", \"12\", \"11\", \"10\", \"9\", \"8\", \"7\", \"6\", \"5\", \"4\", \"3\", \"2\", \"1\"], \"xaxis\": \"x\", \"y\": [31.82266667, 20.53404762, 44.52363636, 74.54666667, 55.132, 41.685, 60.48166667, 76.123, 52.2526087, 47.1832, 62.71285714, 60.66258065, 12.2825, 11.9116, 9.255833333, 11.92863636, 19.72394984, 42.754, 27.47125, 37.16336406, 40.665, 43.54333333, 44.24, 43.513999999999996, 217.895, 67.55, 47.36666667, 63.59571429, 86.925, 13.543, 15.35090909, 9.709090909, 8.978, 19.70268908], \"yaxis\": \"y\", \"type\": \"bar\"}, {\"alignmentgroup\": \"True\", \"hovertemplate\": \"direction=down<br>Local Time (GMT+8)=18<br>floor=%{x}<br>sec=%{y}<extra></extra>\", \"legendgroup\": \"down\", \"marker\": {\"color\": \"#EF553B\"}, \"name\": \"down\", \"offsetgroup\": \"down\", \"orientation\": \"v\", \"showlegend\": true, \"textposition\": \"auto\", \"x\": [\"B3\", \"B1\", \"15\", \"14\", \"13\", \"12\", \"11\", \"10\", \"9\", \"8\", \"7\", \"6\", \"5\", \"4\", \"3\", \"2\", \"1\", \"B1\", \"15\", \"14\", \"13\", \"12\", \"11\", \"10\", \"9\", \"8\", \"7\", \"6\", \"5\", \"4\", \"3\", \"2\", \"1\"], \"xaxis\": \"x2\", \"y\": [25.26, 29.318, 56.42613861, 67.28525907, 24.5861828, 16.32425743, 13.27431635, 13.21192308, 11.50292308, 12.13253133, 10.70521053, 10.31134286, 53.88534884, 31.68122137, 34.06288991, 15.43884615, 25.62904412, 24.48576923, 68.21710526, 58.16586207, 21.31292308, 16.13294574, 15.64328358, 15.70129032, 12.92632353, 10.99025, 11.26133858, 10.84112069, 49.83871429, 32.89210526, 35.74364706, 26.01, 29.9172093], \"yaxis\": \"y2\", \"type\": \"bar\"}], \"name\": \"18\"}, {\"data\": [{\"alignmentgroup\": \"True\", \"hovertemplate\": \"direction=up<br>Local Time (GMT+8)=19<br>floor=%{x}<br>sec=%{y}<extra></extra>\", \"legendgroup\": \"up\", \"marker\": {\"color\": \"#636efa\"}, \"name\": \"up\", \"offsetgroup\": \"up\", \"orientation\": \"v\", \"showlegend\": true, \"textposition\": \"auto\", \"x\": [\"B4\", \"B3\", \"B1\", \"14\", \"13\", \"12\", \"11\", \"10\", \"9\", \"8\", \"7\", \"6\", \"5\", \"4\", \"3\", \"2\", \"1\", \"B4\", \"B3\", \"B1\", \"14\", \"13\", \"12\", \"11\", \"10\", \"9\", \"8\", \"7\", \"6\", \"5\", \"4\", \"3\", \"1\"], \"xaxis\": \"x\", \"y\": [26.47895833, 34.61463415, 43.256319700000006, 59.45, 39.76384615, 42.47083333, 37.16888889, 59.80529412, 99.1375, 69.84, 44.98175, 66.19464286, 13.52134328, 9.3834375, 10.51176471, 131.0957143, 20.63797768, 26.232, 40.80555556, 35.8220283, 19.455, 39.094, 31.022, 42.485, 24.46, 64.01666667, 72.53428571, 64.46, 40.65, 12.085625, 12.78666667, 7.3496875, 22.05825455], \"yaxis\": \"y\", \"type\": \"bar\"}, {\"alignmentgroup\": \"True\", \"hovertemplate\": \"direction=down<br>Local Time (GMT+8)=19<br>floor=%{x}<br>sec=%{y}<extra></extra>\", \"legendgroup\": \"down\", \"marker\": {\"color\": \"#EF553B\"}, \"name\": \"down\", \"offsetgroup\": \"down\", \"orientation\": \"v\", \"showlegend\": true, \"textposition\": \"auto\", \"x\": [\"B3\", \"B1\", \"15\", \"14\", \"13\", \"12\", \"11\", \"10\", \"9\", \"8\", \"7\", \"6\", \"5\", \"4\", \"3\", \"2\", \"1\", \"B3\", \"B1\", \"15\", \"14\", \"13\", \"12\", \"11\", \"10\", \"9\", \"8\", \"7\", \"6\", \"5\", \"4\", \"3\", \"2\", \"1\"], \"xaxis\": \"x2\", \"y\": [56.8, 28.00276923, 52.25733333, 60.64501312, 24.89744745, 18.14810726, 16.04068323, 9.386145832999999, 13.03622478, 13.9447185, 13.18874693, 12.14096096, 57.86894737, 39.91878788, 38.44122995, 22.726875, 28.37666667, 1.6, 16.37916667, 56.09388889, 60.97168317, 22.40844037, 18.08661017, 16.20106557, 10.46076923, 14.11630252, 13.01813953, 13.73, 11.30606838, 49.72597561, 29.07, 39.27460674, 15.46375, 21.24147059], \"yaxis\": \"y2\", \"type\": \"bar\"}], \"name\": \"19\"}, {\"data\": [{\"alignmentgroup\": \"True\", \"hovertemplate\": \"direction=up<br>Local Time (GMT+8)=20<br>floor=%{x}<br>sec=%{y}<extra></extra>\", \"legendgroup\": \"up\", \"marker\": {\"color\": \"#636efa\"}, \"name\": \"up\", \"offsetgroup\": \"up\", \"orientation\": \"v\", \"showlegend\": true, \"textposition\": \"auto\", \"x\": [\"B4\", \"B3\", \"B1\", \"14\", \"13\", \"12\", \"11\", \"10\", \"9\", \"8\", \"7\", \"6\", \"5\", \"4\", \"3\", \"2\", \"1\", \"B4\", \"B3\", \"B1\", \"14\", \"13\", \"12\", \"11\", \"9\", \"8\", \"7\", \"6\", \"5\", \"4\", \"3\", \"2\", \"1\"], \"xaxis\": \"x\", \"y\": [21.43890625, 29.92285714, 25.63469043, 35.056, 56.98285714, 67.63416667, 23.39555556, 60.94333333, 42.305625, 46.16555556, 36.3368, 40.463125, 11.45095238, 13.25789474, 13.06090909, 10.97, 22.67554273, 19.25666667, 32.708, 28.76087209, 36.83, 24.676, 28.695, 76.64, 44.53333333, 29.781999999999996, 38.70071429, 39.735, 19.688, 16.71625, 18.26733333, 14.54, 21.83359223], \"yaxis\": \"y\", \"type\": \"bar\"}, {\"alignmentgroup\": \"True\", \"hovertemplate\": \"direction=down<br>Local Time (GMT+8)=20<br>floor=%{x}<br>sec=%{y}<extra></extra>\", \"legendgroup\": \"down\", \"marker\": {\"color\": \"#EF553B\"}, \"name\": \"down\", \"offsetgroup\": \"down\", \"orientation\": \"v\", \"showlegend\": true, \"textposition\": \"auto\", \"x\": [\"B1\", \"15\", \"14\", \"13\", \"12\", \"11\", \"10\", \"9\", \"8\", \"7\", \"6\", \"5\", \"4\", \"3\", \"2\", \"1\", \"B1\", \"15\", \"14\", \"13\", \"12\", \"11\", \"10\", \"9\", \"8\", \"7\", \"6\", \"5\", \"4\", \"3\", \"2\", \"1\"], \"xaxis\": \"x2\", \"y\": [22.27, 43.96684211, 45.709587299999995, 19.91897059, 18.57537931, 16.37824324, 12.11272727, 15.55846939, 14.59897297, 13.93146154, 12.32697248, 39.05545455, 32.17528024, 23.34587189, 18.655, 17.94917808, 28.83846154, 43.4825, 43.4228, 19.10088235, 13.075999999999999, 16.15098039, 14.9425, 15.12495146, 16.02241071, 11.69354331, 13.32392523, 32.24322034, 37.37336, 25.52454545, 68.69, 20.68913043], \"yaxis\": \"y2\", \"type\": \"bar\"}], \"name\": \"20\"}, {\"data\": [{\"alignmentgroup\": \"True\", \"hovertemplate\": \"direction=up<br>Local Time (GMT+8)=21<br>floor=%{x}<br>sec=%{y}<extra></extra>\", \"legendgroup\": \"up\", \"marker\": {\"color\": \"#636efa\"}, \"name\": \"up\", \"offsetgroup\": \"up\", \"orientation\": \"v\", \"showlegend\": true, \"textposition\": \"auto\", \"x\": [\"B4\", \"B3\", \"B1\", \"14\", \"13\", \"12\", \"11\", \"10\", \"9\", \"8\", \"7\", \"6\", \"5\", \"4\", \"3\", \"2\", \"1\", \"B4\", \"B3\", \"B1\", \"14\", \"13\", \"12\", \"11\", \"9\", \"7\", \"6\", \"5\", \"4\", \"3\", \"1\"], \"xaxis\": \"x\", \"y\": [21.42745455, 20.07733333, 18.96095679, 38.55538462, 21.35, 40.165, 41.934, 20.885, 27.555, 37.94583333, 31.70882353, 37.91666667, 17.1845098, 13.36208333, 14.72947368, 12.94, 16.72507661, 16.28423077, 15.56583333, 17.54888889, 35.1025, 33.99, 33.85, 19.0, 17.808, 34.32375, 41.67333333, 10.175, 13.975, 20.05818182, 17.12338235], \"yaxis\": \"y\", \"type\": \"bar\"}, {\"alignmentgroup\": \"True\", \"hovertemplate\": \"direction=down<br>Local Time (GMT+8)=21<br>floor=%{x}<br>sec=%{y}<extra></extra>\", \"legendgroup\": \"down\", \"marker\": {\"color\": \"#EF553B\"}, \"name\": \"down\", \"offsetgroup\": \"down\", \"orientation\": \"v\", \"showlegend\": true, \"textposition\": \"auto\", \"x\": [\"B3\", \"B1\", \"15\", \"14\", \"13\", \"12\", \"11\", \"10\", \"9\", \"8\", \"7\", \"6\", \"5\", \"4\", \"3\", \"2\", \"1\", \"B3\", \"B1\", \"15\", \"14\", \"13\", \"12\", \"11\", \"10\", \"9\", \"8\", \"7\", \"6\", \"5\", \"4\", \"3\", \"2\", \"1\"], \"xaxis\": \"x2\", \"y\": [53.66333333, 22.42967742, 36.65133333, 30.37207627, 16.53364486, 14.39316832, 15.38950226, 17.70148148, 14.47578755, 15.139000000000001, 13.91429012, 14.73540541, 27.22987342, 31.37875, 26.66265734, 38.996, 12.11116667, 12.93, 13.55166667, 50.26416667, 30.06111111, 17.02859155, 17.78920635, 13.85474747, 13.20333333, 13.62272727, 15.95712644, 14.48417391, 13.37307692, 31.12666667, 30.68346154, 31.09053571, 5.535, 13.61], \"yaxis\": \"y2\", \"type\": \"bar\"}], \"name\": \"21\"}, {\"data\": [{\"alignmentgroup\": \"True\", \"hovertemplate\": \"direction=up<br>Local Time (GMT+8)=22<br>floor=%{x}<br>sec=%{y}<extra></extra>\", \"legendgroup\": \"up\", \"marker\": {\"color\": \"#636efa\"}, \"name\": \"up\", \"offsetgroup\": \"up\", \"orientation\": \"v\", \"showlegend\": true, \"textposition\": \"auto\", \"x\": [\"B4\", \"B3\", \"B1\", \"14\", \"13\", \"12\", \"11\", \"10\", \"9\", \"8\", \"7\", \"6\", \"5\", \"4\", \"3\", \"1\", \"B4\", \"B3\", \"B1\", \"14\", \"13\", \"12\", \"10\", \"9\", \"8\", \"7\", \"6\", \"5\", \"4\", \"3\", \"1\"], \"xaxis\": \"x\", \"y\": [12.7225, 18.15222222, 15.71271186, 24.955, 7.62, 13.06857143, 23.47166667, 6.696666667000001, 18.9725, 16.97, 20.70625, 22.471999999999998, 11.75461538, 14.94071429, 12.28380952, 12.02808889, 56.62, 13.47333333, 15.30038961, 29.355, 12.12, 19.505, 21.79, 39.084, 32.53, 13.285, 24.7725, 10.18, 24.315, 16.41857143, 14.31152381], \"yaxis\": \"y\", \"type\": \"bar\"}, {\"alignmentgroup\": \"True\", \"hovertemplate\": \"direction=down<br>Local Time (GMT+8)=22<br>floor=%{x}<br>sec=%{y}<extra></extra>\", \"legendgroup\": \"down\", \"marker\": {\"color\": \"#EF553B\"}, \"name\": \"down\", \"offsetgroup\": \"down\", \"orientation\": \"v\", \"showlegend\": true, \"textposition\": \"auto\", \"x\": [\"B3\", \"B1\", \"15\", \"14\", \"13\", \"12\", \"11\", \"10\", \"9\", \"8\", \"7\", \"6\", \"5\", \"4\", \"3\", \"2\", \"1\", \"B3\", \"B1\", \"15\", \"14\", \"13\", \"12\", \"11\", \"10\", \"9\", \"8\", \"7\", \"6\", \"5\", \"4\", \"3\", \"2\", \"1\"], \"xaxis\": \"x2\", \"y\": [20.1, 14.00636364, 29.85708333, 23.79747368, 18.24455285, 18.96982759, 16.8965035, 13.01421053, 17.52858333, 16.39025, 14.16201149, 13.96805556, 21.75818182, 22.718000000000004, 19.823880600000003, 13.26, 14.43227273, 10.92333333, 20.531999999999996, 40.68428571, 25.48189655, 19.37897959, 12.43272727, 16.667, 23.2175, 17.68666667, 18.08246154, 13.02338235, 16.74480769, 23.92970588, 24.625999999999998, 19.37903226, 13.6, 17.23], \"yaxis\": \"y2\", \"type\": \"bar\"}], \"name\": \"22\"}, {\"data\": [{\"alignmentgroup\": \"True\", \"hovertemplate\": \"direction=up<br>Local Time (GMT+8)=23<br>floor=%{x}<br>sec=%{y}<extra></extra>\", \"legendgroup\": \"up\", \"marker\": {\"color\": \"#636efa\"}, \"name\": \"up\", \"offsetgroup\": \"up\", \"orientation\": \"v\", \"showlegend\": true, \"textposition\": \"auto\", \"x\": [\"B4\", \"B3\", \"B1\", \"14\", \"13\", \"12\", \"11\", \"9\", \"8\", \"7\", \"6\", \"5\", \"4\", \"3\", \"2\", \"1\", \"B4\", \"B3\", \"B1\", \"12\", \"8\", \"7\", \"6\", \"5\", \"4\", \"3\", \"2\", \"1\"], \"xaxis\": \"x\", \"y\": [27.55888889, 16.64, 15.38538012, 22.23, 23.56, 14.852, 20.0475, 9.16, 47.77, 14.40571429, 25.69583333, 10.61533333, 12.130999999999998, 15.90363636, 5.07, 13.12219365, 15.01, 13.5725, 23.09727273, 20.48, 34.71, 18.33, 25.73833333, 7.98, 15.365, 11.32, 20.895, 14.112248999999998], \"yaxis\": \"y\", \"type\": \"bar\"}, {\"alignmentgroup\": \"True\", \"hovertemplate\": \"direction=down<br>Local Time (GMT+8)=23<br>floor=%{x}<br>sec=%{y}<extra></extra>\", \"legendgroup\": \"down\", \"marker\": {\"color\": \"#EF553B\"}, \"name\": \"down\", \"offsetgroup\": \"down\", \"orientation\": \"v\", \"showlegend\": true, \"textposition\": \"auto\", \"x\": [\"B1\", \"15\", \"14\", \"13\", \"12\", \"11\", \"10\", \"9\", \"8\", \"7\", \"6\", \"5\", \"4\", \"3\", \"2\", \"1\", \"B1\", \"15\", \"14\", \"13\", \"12\", \"11\", \"10\", \"9\", \"8\", \"7\", \"6\", \"5\", \"4\", \"3\", \"1\"], \"xaxis\": \"x2\", \"y\": [8.802222222000001, 24.7204, 22.18972603, 14.45054795, 16.21826087, 17.79866667, 14.46, 18.21734694, 17.28546667, 16.98634409, 13.28316456, 15.67484848, 16.65081967, 16.71956522, 10.93, 12.58394737, 28.19, 24.32625, 13.07, 10.3052, 19.358, 14.03305556, 9.872, 18.34545455, 12.0775, 17.05409091, 23.12631579, 18.59266667, 16.30333333, 19.08257732, 16.50615385], \"yaxis\": \"y2\", \"type\": \"bar\"}], \"name\": \"23\"}]);\n",
       "                        }).then(function(){\n",
       "                            \n",
       "var gd = document.getElementById('0209b71c-0909-4d3a-aee1-e11cdaa2126b');\n",
       "var x = new MutationObserver(function (mutations, observer) {{\n",
       "        var display = window.getComputedStyle(gd).display;\n",
       "        if (!display || display === 'none') {{\n",
       "            console.log([gd, 'removed!']);\n",
       "            Plotly.purge(gd);\n",
       "            observer.disconnect();\n",
       "        }}\n",
       "}});\n",
       "\n",
       "// Listen for the removal of the full notebook cells\n",
       "var notebookContainer = gd.closest('#notebook-container');\n",
       "if (notebookContainer) {{\n",
       "    x.observe(notebookContainer, {childList: true});\n",
       "}}\n",
       "\n",
       "// Listen for the clearing of the current output cell\n",
       "var outputEl = gd.closest('.output');\n",
       "if (outputEl) {{\n",
       "    x.observe(outputEl, {childList: true});\n",
       "}}\n",
       "\n",
       "                        })\n",
       "                };\n",
       "                });\n",
       "            </script>\n",
       "        </div>"
      ]
     },
     "metadata": {},
     "output_type": "display_data"
    }
   ],
   "source": [
    "floor_list = ['B4','B3', 'B2','B1','01', '02', '03', '04', '05', '06', '07', '08', '09', '10', '11',\n",
    "       '12', '13', '14', '15']\n",
    "\n",
    "fig = px.bar(data_frame=df_s, \n",
    "             \n",
    "             ## 這裡的data frame都先用 R aggregate過了，以節省運算時間\n",
    "             x = \"floor\", y = \"avgWait\",\n",
    "             \n",
    "             ## 以方向分兩張圖，並上色\n",
    "             facet_col=\"direction\",color=\"direction\",\n",
    "             \n",
    "             ## 自動生成slider\n",
    "             animation_frame=\"hour\",\n",
    "             \n",
    "             labels={\"avgWait\":\"sec\",\n",
    "                     \"hour\":\"Local Time (GMT+8)\"})\n",
    "\n",
    "# X axis\n",
    "fig.update_xaxes(nticks=len(floor_list), ##指定breaks的數量\n",
    "                 \n",
    "                 ## 手動將X的類別排序\n",
    "                 type=\"category\",\n",
    "                 categoryarray=floor_list)\n",
    "\n",
    "# Y axis\n",
    "fig.update_yaxes(range=[0, 1000])\n",
    "\n",
    "# Layout\n",
    "fig.update_layout(title_text='Frequency of Elevator Calls by Floor')\n",
    "\n",
    "fig.show()"
   ]
  },
  {
   "cell_type": "code",
   "execution_count": 5,
   "metadata": {},
   "outputs": [
    {
     "data": {
      "application/vnd.plotly.v1+json": {
       "config": {
        "plotlyServerURL": "https://plot.ly"
       },
       "data": [
        {
         "alignmentgroup": "True",
         "hovertemplate": "direction=up<br>floor=B4<br>Local Time (GMT+8)=%{x}<br>sec=%{y}<extra></extra>",
         "legendgroup": "up",
         "marker": {
          "color": "#636efa"
         },
         "name": "up",
         "offsetgroup": "up",
         "orientation": "v",
         "showlegend": true,
         "textposition": "auto",
         "type": "bar",
         "x": [
          0,
          1,
          2,
          3,
          4,
          5,
          6,
          7,
          8,
          9,
          10,
          11,
          12,
          13,
          14,
          15,
          16,
          17,
          18,
          19,
          20,
          21,
          22,
          23,
          0,
          3,
          4,
          5,
          6,
          7,
          8,
          9,
          10,
          11,
          12,
          13,
          14,
          15,
          16,
          17,
          18,
          19,
          20,
          21,
          22,
          23
         ],
         "xaxis": "x",
         "y": [
          13.54285714,
          3.435,
          20.2575,
          21.478,
          6.17,
          14.74583333,
          24.82973333,
          32.40641791,
          30.08351779,
          31.82159624,
          34.1715859,
          49.02057613,
          48.67666667,
          43.59296296,
          32.46376984,
          35.87952381,
          34.2713834,
          40.27939394,
          31.82266667,
          26.47895833,
          21.43890625,
          21.42745455,
          12.7225,
          27.55888889,
          26.941999999999997,
          16.39,
          28.635,
          12.7575,
          19.75538462,
          22.85197368,
          23.99532468,
          33.22894118,
          28.28465517,
          34.62672727,
          46.81163636,
          30.92638889,
          33.808701299999996,
          34.5835,
          33.61045977,
          43.48176471,
          42.754,
          26.232,
          19.25666667,
          16.28423077,
          56.62,
          15.01
         ],
         "yaxis": "y"
        }
       ],
       "frames": [
        {
         "data": [
          {
           "alignmentgroup": "True",
           "hovertemplate": "direction=up<br>floor=B4<br>Local Time (GMT+8)=%{x}<br>sec=%{y}<extra></extra>",
           "legendgroup": "up",
           "marker": {
            "color": "#636efa"
           },
           "name": "up",
           "offsetgroup": "up",
           "orientation": "v",
           "showlegend": true,
           "textposition": "auto",
           "type": "bar",
           "x": [
            0,
            1,
            2,
            3,
            4,
            5,
            6,
            7,
            8,
            9,
            10,
            11,
            12,
            13,
            14,
            15,
            16,
            17,
            18,
            19,
            20,
            21,
            22,
            23,
            0,
            3,
            4,
            5,
            6,
            7,
            8,
            9,
            10,
            11,
            12,
            13,
            14,
            15,
            16,
            17,
            18,
            19,
            20,
            21,
            22,
            23
           ],
           "xaxis": "x",
           "y": [
            13.54285714,
            3.435,
            20.2575,
            21.478,
            6.17,
            14.74583333,
            24.82973333,
            32.40641791,
            30.08351779,
            31.82159624,
            34.1715859,
            49.02057613,
            48.67666667,
            43.59296296,
            32.46376984,
            35.87952381,
            34.2713834,
            40.27939394,
            31.82266667,
            26.47895833,
            21.43890625,
            21.42745455,
            12.7225,
            27.55888889,
            26.941999999999997,
            16.39,
            28.635,
            12.7575,
            19.75538462,
            22.85197368,
            23.99532468,
            33.22894118,
            28.28465517,
            34.62672727,
            46.81163636,
            30.92638889,
            33.808701299999996,
            34.5835,
            33.61045977,
            43.48176471,
            42.754,
            26.232,
            19.25666667,
            16.28423077,
            56.62,
            15.01
           ],
           "yaxis": "y"
          }
         ],
         "name": "B4"
        },
        {
         "data": [
          {
           "alignmentgroup": "True",
           "hovertemplate": "direction=up<br>floor=B3<br>Local Time (GMT+8)=%{x}<br>sec=%{y}<extra></extra>",
           "legendgroup": "up",
           "marker": {
            "color": "#636efa"
           },
           "name": "up",
           "offsetgroup": "up",
           "orientation": "v",
           "showlegend": true,
           "textposition": "auto",
           "type": "bar",
           "x": [
            0,
            1,
            4,
            5,
            6,
            7,
            8,
            9,
            10,
            11,
            12,
            13,
            14,
            15,
            16,
            17,
            18,
            19,
            20,
            21,
            22,
            23,
            1,
            5,
            6,
            7,
            8,
            9,
            10,
            11,
            12,
            13,
            14,
            15,
            16,
            17,
            18,
            19,
            20,
            21,
            22,
            23
           ],
           "xaxis": "x",
           "y": [
            14.26,
            8.81,
            13.16,
            15.06,
            13.83535714,
            19.91534392,
            20.17243243,
            18.43597015,
            20.58682243,
            21.71535088,
            27.95846847,
            22.53537634,
            21.90603774,
            16.150990099999998,
            19.57567568,
            19.60731343,
            20.53404762,
            34.61463415,
            29.92285714,
            20.07733333,
            18.15222222,
            16.64,
            4.85,
            17.405,
            11.30875,
            15.46875,
            20.32489796,
            30.1795,
            20.72709677,
            23.62323529,
            14.96952381,
            28.96034483,
            16.54736842,
            18.515,
            19.44448276,
            24.774,
            27.47125,
            40.80555556,
            32.708,
            15.56583333,
            13.47333333,
            13.5725
           ],
           "yaxis": "y"
          },
          {
           "alignmentgroup": "True",
           "hovertemplate": "direction=down<br>floor=B3<br>Local Time (GMT+8)=%{x}<br>sec=%{y}<extra></extra>",
           "legendgroup": "down",
           "marker": {
            "color": "#EF553B"
           },
           "name": "down",
           "offsetgroup": "down",
           "orientation": "v",
           "showlegend": true,
           "textposition": "auto",
           "type": "bar",
           "x": [
            6,
            7,
            8,
            9,
            10,
            11,
            12,
            13,
            14,
            15,
            16,
            17,
            18,
            19,
            21,
            22,
            0,
            7,
            8,
            9,
            10,
            11,
            12,
            13,
            14,
            15,
            16,
            17,
            19,
            21,
            22
           ],
           "xaxis": "x2",
           "y": [
            11.72,
            22.58,
            30.31272727,
            42.51071429,
            25.10037037,
            36.19391304,
            22.92956522,
            18.629,
            23.7655,
            21.84884615,
            18.58392857,
            33.78166667,
            25.26,
            56.8,
            53.66333333,
            20.1,
            12.37,
            46.65166667,
            25.9175,
            27.9525,
            37.1475,
            33.59444444,
            39.9,
            15.70125,
            10.564,
            18.16583333,
            20.11666667,
            2.93,
            1.6,
            12.93,
            10.92333333
           ],
           "yaxis": "y2"
          }
         ],
         "name": "B3"
        },
        {
         "data": [
          {
           "alignmentgroup": "True",
           "hovertemplate": "direction=up<br>floor=B1<br>Local Time (GMT+8)=%{x}<br>sec=%{y}<extra></extra>",
           "legendgroup": "up",
           "marker": {
            "color": "#636efa"
           },
           "name": "up",
           "offsetgroup": "up",
           "orientation": "v",
           "showlegend": true,
           "textposition": "auto",
           "type": "bar",
           "x": [
            0,
            1,
            2,
            3,
            4,
            5,
            6,
            7,
            8,
            9,
            10,
            11,
            12,
            13,
            14,
            15,
            16,
            17,
            18,
            19,
            20,
            21,
            22,
            23,
            0,
            1,
            2,
            3,
            4,
            5,
            6,
            7,
            8,
            9,
            10,
            11,
            12,
            13,
            14,
            15,
            16,
            17,
            18,
            19,
            20,
            21,
            22,
            23
           ],
           "xaxis": "x",
           "y": [
            10.28657895,
            7.592954545,
            6.351818182000001,
            9.102142857,
            9.189473684,
            7.678333332999999,
            19.47764706,
            26.18236715,
            28.25829181,
            26.97566462,
            30.99402844,
            28.9941483,
            33.96481203,
            27.07171598,
            29.7032636,
            29.27938215,
            30.23877944,
            34.59875686,
            44.52363636,
            43.256319700000006,
            25.63469043,
            18.96095679,
            15.71271186,
            15.38538012,
            10.19882353,
            4.301111111,
            7.69,
            5.175,
            8.363846153999999,
            8.445,
            19.06653061,
            24.83337553,
            30.16720524,
            24.32505208,
            36.51318919,
            46.30771429,
            40.72053191,
            30.8282967,
            32.12968085,
            32.82764706,
            32.43352632,
            39.46706731,
            37.16336406,
            35.8220283,
            28.76087209,
            17.54888889,
            15.30038961,
            23.09727273
           ],
           "yaxis": "y"
          },
          {
           "alignmentgroup": "True",
           "hovertemplate": "direction=down<br>floor=B1<br>Local Time (GMT+8)=%{x}<br>sec=%{y}<extra></extra>",
           "legendgroup": "down",
           "marker": {
            "color": "#EF553B"
           },
           "name": "down",
           "offsetgroup": "down",
           "orientation": "v",
           "showlegend": true,
           "textposition": "auto",
           "type": "bar",
           "x": [
            0,
            1,
            3,
            6,
            7,
            8,
            9,
            10,
            11,
            12,
            13,
            14,
            15,
            16,
            17,
            18,
            19,
            20,
            21,
            22,
            23,
            0,
            1,
            2,
            6,
            7,
            8,
            9,
            10,
            11,
            12,
            13,
            14,
            15,
            16,
            17,
            18,
            19,
            20,
            21,
            22,
            23
           ],
           "xaxis": "x2",
           "y": [
            11.775,
            10.204,
            1.21,
            31.29852941,
            28.96854839,
            25.05783133,
            21.0788764,
            24.15363636,
            25.9253271,
            23.603387100000003,
            25.245530300000002,
            22.07666667,
            20.39195122,
            17.15445378,
            28.58122642,
            29.318,
            28.00276923,
            22.27,
            22.42967742,
            14.00636364,
            8.802222222000001,
            15.675,
            9.036666667,
            7.49,
            35.47272727,
            23.61565217,
            23.50296296,
            23.29592593,
            27.13862069,
            23.08146341,
            33.85375,
            25.32769231,
            19.88689655,
            17.98482759,
            26.68607143,
            25.99064516,
            24.48576923,
            16.37916667,
            28.83846154,
            13.55166667,
            20.531999999999996,
            28.19
           ],
           "yaxis": "y2"
          }
         ],
         "name": "B1"
        },
        {
         "data": [
          {
           "alignmentgroup": "True",
           "hovertemplate": "direction=down<br>floor=15<br>Local Time (GMT+8)=%{x}<br>sec=%{y}<extra></extra>",
           "legendgroup": "down",
           "marker": {
            "color": "#EF553B"
           },
           "name": "down",
           "offsetgroup": "down",
           "orientation": "v",
           "showlegend": true,
           "textposition": "auto",
           "type": "bar",
           "x": [
            0,
            1,
            3,
            5,
            6,
            7,
            8,
            9,
            10,
            11,
            12,
            13,
            14,
            15,
            16,
            17,
            18,
            19,
            20,
            21,
            22,
            23,
            0,
            1,
            2,
            3,
            5,
            6,
            7,
            8,
            9,
            10,
            11,
            12,
            13,
            14,
            15,
            16,
            17,
            18,
            19,
            20,
            21,
            22,
            23
           ],
           "xaxis": "x2",
           "y": [
            24.1675,
            18.51384615,
            11.755,
            27.57333333,
            30.40777778,
            50.59324324,
            54.88721311,
            80.90065789,
            78.43833333,
            77.81405941,
            81.15102703,
            79.45678322,
            74.46777778,
            77.34607595,
            74.27364583,
            73.46947115,
            56.42613861,
            52.25733333,
            43.96684211,
            36.65133333,
            29.85708333,
            24.7204,
            26.04933333,
            22.3125,
            0.855,
            15.19,
            21.435,
            51.94666667,
            46.77363636,
            53.82041667,
            75.68046512,
            77.18,
            85.79890625,
            81.42979592,
            65.7,
            51.71056604,
            72.98490909,
            65.78455882,
            67.96459016,
            68.21710526,
            56.09388889,
            43.4825,
            50.26416667,
            40.68428571,
            24.32625
           ],
           "yaxis": "y2"
          }
         ],
         "name": "15"
        },
        {
         "data": [
          {
           "alignmentgroup": "True",
           "hovertemplate": "direction=up<br>floor=14<br>Local Time (GMT+8)=%{x}<br>sec=%{y}<extra></extra>",
           "legendgroup": "up",
           "marker": {
            "color": "#636efa"
           },
           "name": "up",
           "offsetgroup": "up",
           "orientation": "v",
           "showlegend": true,
           "textposition": "auto",
           "type": "bar",
           "x": [
            0,
            1,
            3,
            5,
            6,
            7,
            8,
            9,
            10,
            11,
            12,
            13,
            14,
            15,
            16,
            17,
            18,
            19,
            20,
            21,
            22,
            23,
            1,
            6,
            7,
            8,
            9,
            10,
            11,
            12,
            13,
            14,
            15,
            16,
            17,
            18,
            19,
            20,
            21,
            22
           ],
           "xaxis": "x",
           "y": [
            26.065,
            43.53,
            15.48,
            28.53,
            38.9175,
            53.299,
            63.59923077,
            82.90636364,
            120.40571429999999,
            65.49533333,
            76.56933333,
            95.06,
            105.20333329999998,
            73.85333333,
            108.57333329999999,
            124.52083329999999,
            74.54666667,
            59.45,
            35.056,
            38.55538462,
            24.955,
            22.23,
            24.22,
            30.395,
            89.15,
            68.954,
            72.98,
            13.01,
            41.65333333,
            264.43,
            127.086,
            17.42333333,
            82.2125,
            95.82857143,
            90.21,
            40.665,
            19.455,
            36.83,
            35.1025,
            29.355
           ],
           "yaxis": "y"
          },
          {
           "alignmentgroup": "True",
           "hovertemplate": "direction=down<br>floor=14<br>Local Time (GMT+8)=%{x}<br>sec=%{y}<extra></extra>",
           "legendgroup": "down",
           "marker": {
            "color": "#EF553B"
           },
           "name": "down",
           "offsetgroup": "down",
           "orientation": "v",
           "showlegend": true,
           "textposition": "auto",
           "type": "bar",
           "x": [
            0,
            1,
            2,
            3,
            4,
            5,
            6,
            7,
            8,
            9,
            10,
            11,
            12,
            13,
            14,
            15,
            16,
            17,
            18,
            19,
            20,
            21,
            22,
            23,
            0,
            1,
            2,
            3,
            4,
            5,
            6,
            7,
            8,
            9,
            10,
            11,
            12,
            13,
            14,
            15,
            16,
            17,
            18,
            19,
            20,
            21,
            22,
            23
           ],
           "xaxis": "x2",
           "y": [
            25.31118644,
            18.54958904,
            18.91521739,
            18.72785714,
            14.42416667,
            20.13511111,
            32.30084507,
            46.19707865,
            55.02916968,
            57.86033639,
            61.85969492,
            65.99817109,
            56.40991525,
            66.39167183,
            66.90239344,
            60.21380952,
            60.32532353,
            57.89131105,
            67.28525907,
            60.64501312,
            45.709587299999995,
            30.37207627,
            23.79747368,
            22.18972603,
            13.70266667,
            21.05264706,
            11.46875,
            18.034000000000002,
            20.23777778,
            14.37235294,
            31.11540984,
            49.95652632,
            50.26238532,
            58.00653226,
            70.91282051,
            61.2797479,
            68.21093023,
            62.14018182,
            64.9666,
            62.28697479,
            61.44291971,
            61.82482014,
            58.16586207,
            60.97168317,
            43.4228,
            30.06111111,
            25.48189655,
            13.07
           ],
           "yaxis": "y2"
          }
         ],
         "name": "14"
        },
        {
         "data": [
          {
           "alignmentgroup": "True",
           "hovertemplate": "direction=up<br>floor=13<br>Local Time (GMT+8)=%{x}<br>sec=%{y}<extra></extra>",
           "legendgroup": "up",
           "marker": {
            "color": "#636efa"
           },
           "name": "up",
           "offsetgroup": "up",
           "orientation": "v",
           "showlegend": true,
           "textposition": "auto",
           "type": "bar",
           "x": [
            0,
            1,
            2,
            5,
            6,
            7,
            8,
            9,
            10,
            11,
            12,
            13,
            14,
            15,
            16,
            17,
            18,
            19,
            20,
            21,
            22,
            23,
            0,
            6,
            7,
            8,
            9,
            10,
            11,
            12,
            13,
            14,
            15,
            16,
            17,
            18,
            19,
            20,
            21,
            22
           ],
           "xaxis": "x",
           "y": [
            13.355,
            22.285,
            18.95,
            21.691999999999997,
            32.80071429,
            38.72545455,
            51.92125,
            65.93875,
            50.19272727,
            38.76516129,
            82.04,
            45.36952381,
            71.12,
            28.94066667,
            33.88583333,
            60.67411765,
            55.132,
            39.76384615,
            56.98285714,
            21.35,
            7.62,
            23.56,
            32.78,
            36.94,
            31.43375,
            69.74666667,
            47.07428571,
            49.542,
            35.12428571,
            63.5825,
            37.66,
            38.18666667,
            64.41555556,
            41.31399999999999,
            48.98,
            43.54333333,
            39.094,
            24.676,
            33.99,
            12.12
           ],
           "yaxis": "y"
          },
          {
           "alignmentgroup": "True",
           "hovertemplate": "direction=down<br>floor=13<br>Local Time (GMT+8)=%{x}<br>sec=%{y}<extra></extra>",
           "legendgroup": "down",
           "marker": {
            "color": "#EF553B"
           },
           "name": "down",
           "offsetgroup": "down",
           "orientation": "v",
           "showlegend": true,
           "textposition": "auto",
           "type": "bar",
           "x": [
            0,
            1,
            2,
            3,
            4,
            5,
            6,
            7,
            8,
            9,
            10,
            11,
            12,
            13,
            14,
            15,
            16,
            17,
            18,
            19,
            20,
            21,
            22,
            23,
            0,
            1,
            2,
            3,
            4,
            5,
            6,
            7,
            8,
            9,
            10,
            11,
            12,
            13,
            14,
            15,
            16,
            17,
            18,
            19,
            20,
            21,
            22,
            23
           ],
           "xaxis": "x2",
           "y": [
            19.11021739,
            12.33333333,
            15.69214286,
            16.22555556,
            16.9595,
            17.36139535,
            20.12730994,
            27.63387454,
            25.12909375,
            27.16094801,
            28.24836237,
            34.95441261,
            33.63287709,
            28.48062893,
            26.33547855,
            26.75651316,
            28.74621849,
            32.54225974,
            24.5861828,
            24.89744745,
            19.91897059,
            16.53364486,
            18.24455285,
            14.45054795,
            18.21777778,
            11.08857143,
            11.005999999999998,
            15.24857143,
            13.58,
            22.74692308,
            22.58108696,
            22.23474747,
            25.88580357,
            29.30675,
            24.50474138,
            35.3712963,
            31.32048544,
            30.83021053,
            27.95771654,
            22.01963235,
            27.31515625,
            24.71957447,
            21.31292308,
            22.40844037,
            19.10088235,
            17.02859155,
            19.37897959,
            10.3052
           ],
           "yaxis": "y2"
          }
         ],
         "name": "13"
        },
        {
         "data": [
          {
           "alignmentgroup": "True",
           "hovertemplate": "direction=up<br>floor=12<br>Local Time (GMT+8)=%{x}<br>sec=%{y}<extra></extra>",
           "legendgroup": "up",
           "marker": {
            "color": "#636efa"
           },
           "name": "up",
           "offsetgroup": "up",
           "orientation": "v",
           "showlegend": true,
           "textposition": "auto",
           "type": "bar",
           "x": [
            0,
            1,
            3,
            5,
            6,
            7,
            8,
            9,
            10,
            11,
            12,
            13,
            14,
            15,
            16,
            17,
            18,
            19,
            20,
            21,
            22,
            23,
            6,
            7,
            8,
            9,
            10,
            11,
            12,
            13,
            14,
            15,
            16,
            17,
            18,
            19,
            20,
            21,
            22,
            23
           ],
           "xaxis": "x",
           "y": [
            21.81333333,
            10.975,
            12.55,
            9.35,
            45.04428571,
            41.51333333,
            56.79,
            39.74538462,
            37.64633333,
            60.13380952,
            55.82,
            61.32857143,
            34.89782609,
            27.82363636,
            47.16095238,
            41.29777778,
            41.685,
            42.47083333,
            67.63416667,
            40.165,
            13.06857143,
            14.852,
            12.54,
            56.9,
            33.87833333,
            33.79333333,
            52.669,
            56.84733333,
            45.23888889,
            25.22333333,
            38.18888889,
            50.94428571,
            78.4975,
            24.735,
            44.24,
            31.022,
            28.695,
            33.85,
            19.505,
            20.48
           ],
           "yaxis": "y"
          },
          {
           "alignmentgroup": "True",
           "hovertemplate": "direction=down<br>floor=12<br>Local Time (GMT+8)=%{x}<br>sec=%{y}<extra></extra>",
           "legendgroup": "down",
           "marker": {
            "color": "#EF553B"
           },
           "name": "down",
           "offsetgroup": "down",
           "orientation": "v",
           "showlegend": true,
           "textposition": "auto",
           "type": "bar",
           "x": [
            0,
            1,
            2,
            3,
            4,
            5,
            6,
            7,
            8,
            9,
            10,
            11,
            12,
            13,
            14,
            15,
            16,
            17,
            18,
            19,
            20,
            21,
            22,
            23,
            0,
            1,
            2,
            3,
            4,
            5,
            6,
            7,
            8,
            9,
            10,
            11,
            12,
            13,
            14,
            15,
            16,
            17,
            18,
            19,
            20,
            21,
            22,
            23
           ],
           "xaxis": "x2",
           "y": [
            17.05585366,
            19.85133333,
            16.43,
            18.740625,
            17.96111111,
            15.0152459,
            22.43213675,
            22.22938628,
            20.93503425,
            19.07154639,
            16.43317518,
            18.70092063,
            17.24123596,
            19.80119318,
            18.28167192,
            19.24252427,
            18.953,
            14.60273657,
            16.32425743,
            18.14810726,
            18.57537931,
            14.39316832,
            18.96982759,
            16.21826087,
            13.81192308,
            18.78304348,
            14.25944444,
            16.055,
            18.19555556,
            22.66111111,
            22.0185,
            22.04909091,
            19.75875,
            14.47108911,
            17.69482456,
            16.57423358,
            18.82663636,
            15.06217391,
            17.31035714,
            18.65747967,
            18.680999999999997,
            19.32189873,
            16.13294574,
            18.08661017,
            13.075999999999999,
            17.78920635,
            12.43272727,
            19.358
           ],
           "yaxis": "y2"
          }
         ],
         "name": "12"
        },
        {
         "data": [
          {
           "alignmentgroup": "True",
           "hovertemplate": "direction=up<br>floor=11<br>Local Time (GMT+8)=%{x}<br>sec=%{y}<extra></extra>",
           "legendgroup": "up",
           "marker": {
            "color": "#636efa"
           },
           "name": "up",
           "offsetgroup": "up",
           "orientation": "v",
           "showlegend": true,
           "textposition": "auto",
           "type": "bar",
           "x": [
            0,
            3,
            5,
            6,
            7,
            8,
            9,
            10,
            11,
            12,
            13,
            14,
            15,
            16,
            17,
            18,
            19,
            20,
            21,
            22,
            23,
            2,
            7,
            8,
            9,
            10,
            11,
            12,
            13,
            14,
            15,
            16,
            17,
            18,
            19,
            20,
            21
           ],
           "xaxis": "x",
           "y": [
            31.22,
            17.43,
            15.34,
            50.43666667,
            56.35153846,
            87.75,
            48.53125,
            22.76692308,
            43.66769231,
            47.2825,
            40.21210526,
            38.48875,
            38.58833333,
            46.68058824,
            53.33571429,
            60.48166667,
            37.16888889,
            23.39555556,
            41.934,
            23.47166667,
            20.0475,
            23.91,
            89.495,
            69.915,
            38.84125,
            23.13,
            65.12461538,
            56.56142857,
            76.47307692,
            59.646,
            72.555,
            39.24,
            40.0925,
            43.513999999999996,
            42.485,
            76.64,
            19
           ],
           "yaxis": "y"
          },
          {
           "alignmentgroup": "True",
           "hovertemplate": "direction=down<br>floor=11<br>Local Time (GMT+8)=%{x}<br>sec=%{y}<extra></extra>",
           "legendgroup": "down",
           "marker": {
            "color": "#EF553B"
           },
           "name": "down",
           "offsetgroup": "down",
           "orientation": "v",
           "showlegend": true,
           "textposition": "auto",
           "type": "bar",
           "x": [
            0,
            1,
            2,
            3,
            4,
            5,
            6,
            7,
            8,
            9,
            10,
            11,
            12,
            13,
            14,
            15,
            16,
            17,
            18,
            19,
            20,
            21,
            22,
            23,
            0,
            1,
            2,
            3,
            4,
            5,
            6,
            7,
            8,
            9,
            10,
            11,
            12,
            13,
            14,
            15,
            16,
            17,
            18,
            19,
            20,
            21,
            22,
            23
           ],
           "xaxis": "x2",
           "y": [
            15.82484375,
            19.3175,
            18.86933333,
            19.49666667,
            16.97833333,
            15.74191489,
            20.06993548,
            17.44232975,
            15.76152905,
            14.76299003,
            15.36433447,
            14.025448499999998,
            12.78285256,
            12.92865031,
            15.08414894,
            15.20768116,
            13.86175896,
            13.7068595,
            13.27431635,
            16.04068323,
            16.37824324,
            15.38950226,
            16.8965035,
            17.79866667,
            19.80846154,
            22.58333333,
            15.79333333,
            9.44,
            13.65333333,
            10.78230769,
            19.10018868,
            19.86329787,
            15.65677419,
            16.49480769,
            15.91469027,
            13.86369748,
            12.38309735,
            14.563125,
            13.79117647,
            15.30295455,
            14.35774194,
            12.02503226,
            15.64328358,
            16.20106557,
            16.15098039,
            13.85474747,
            16.667,
            14.03305556
           ],
           "yaxis": "y2"
          }
         ],
         "name": "11"
        },
        {
         "data": [
          {
           "alignmentgroup": "True",
           "hovertemplate": "direction=up<br>floor=10<br>Local Time (GMT+8)=%{x}<br>sec=%{y}<extra></extra>",
           "legendgroup": "up",
           "marker": {
            "color": "#636efa"
           },
           "name": "up",
           "offsetgroup": "up",
           "orientation": "v",
           "showlegend": true,
           "textposition": "auto",
           "type": "bar",
           "x": [
            6,
            7,
            8,
            9,
            10,
            11,
            12,
            13,
            14,
            15,
            16,
            17,
            18,
            19,
            20,
            21,
            22,
            2,
            7,
            8,
            9,
            11,
            12,
            13,
            14,
            15,
            16,
            17,
            18,
            19,
            22
           ],
           "xaxis": "x",
           "y": [
            56.13,
            62.675,
            50.64428571,
            81.76333333,
            45.78551724,
            49.4708,
            55.22916667,
            45.257,
            97.97,
            54.275,
            49.30206897,
            45.53444444,
            76.123,
            59.80529412,
            60.94333333,
            20.885,
            6.696666667000001,
            1.29,
            217.91,
            73.14,
            164.7333333,
            44.48,
            68.7,
            41.17125,
            103.7714286,
            35.51285714,
            45.12692308,
            53.60444444,
            217.895,
            24.46,
            21.79
           ],
           "yaxis": "y"
          },
          {
           "alignmentgroup": "True",
           "hovertemplate": "direction=down<br>floor=10<br>Local Time (GMT+8)=%{x}<br>sec=%{y}<extra></extra>",
           "legendgroup": "down",
           "marker": {
            "color": "#EF553B"
           },
           "name": "down",
           "offsetgroup": "down",
           "orientation": "v",
           "showlegend": true,
           "textposition": "auto",
           "type": "bar",
           "x": [
            0,
            1,
            2,
            3,
            4,
            5,
            7,
            8,
            9,
            10,
            11,
            12,
            13,
            14,
            15,
            16,
            17,
            18,
            19,
            20,
            21,
            22,
            23,
            0,
            1,
            2,
            3,
            4,
            7,
            8,
            9,
            10,
            11,
            12,
            13,
            14,
            15,
            16,
            17,
            18,
            19,
            20,
            21,
            22,
            23
           ],
           "xaxis": "x2",
           "y": [
            9.605714286,
            11.16,
            18.24,
            14.29666667,
            6.886666667,
            6.766666667000001,
            16.54090909,
            12.82487805,
            12.38146341,
            11.08622378,
            12.4034375,
            10.90515152,
            13.70944882,
            10.91760274,
            11.80709877,
            11.22534722,
            11.09888268,
            13.21192308,
            9.386145832999999,
            12.11272727,
            17.70148148,
            13.01421053,
            14.46,
            0.975,
            6.41,
            16.8,
            17.71,
            1.245,
            15.1875,
            13.20263158,
            10.63521739,
            10.01035714,
            11.413125,
            10.81060606,
            10.62512821,
            8.495,
            10.37196078,
            12.59648148,
            9.725294117999999,
            15.70129032,
            10.46076923,
            14.9425,
            13.20333333,
            23.2175,
            9.872
           ],
           "yaxis": "y2"
          }
         ],
         "name": "10"
        },
        {
         "data": [
          {
           "alignmentgroup": "True",
           "hovertemplate": "direction=up<br>floor=9<br>Local Time (GMT+8)=%{x}<br>sec=%{y}<extra></extra>",
           "legendgroup": "up",
           "marker": {
            "color": "#636efa"
           },
           "name": "up",
           "offsetgroup": "up",
           "orientation": "v",
           "showlegend": true,
           "textposition": "auto",
           "type": "bar",
           "x": [
            0,
            1,
            2,
            3,
            5,
            6,
            7,
            8,
            9,
            10,
            11,
            12,
            13,
            14,
            15,
            16,
            17,
            18,
            19,
            20,
            21,
            22,
            23,
            0,
            5,
            6,
            7,
            8,
            9,
            10,
            11,
            12,
            13,
            14,
            15,
            16,
            17,
            18,
            19,
            20,
            21,
            22
           ],
           "xaxis": "x",
           "y": [
            35.39,
            14.155,
            16.85,
            11.01,
            16.77,
            28.95,
            39.35578947,
            56.09391304,
            72.303,
            65.78346154,
            58.41840909,
            48.34892857,
            51.2504,
            43.582,
            42.28744681,
            48.39352941,
            59.38368421,
            52.2526087,
            99.1375,
            42.305625,
            27.555,
            18.9725,
            9.16,
            39.71,
            12.205,
            47.65,
            51.16823529,
            66.97857143,
            37.09111111,
            38.04133333,
            56.51285714,
            36.448,
            27.52785714,
            78.77466667,
            37.09571429,
            55.7032,
            49.930625,
            67.55,
            64.01666667,
            44.53333333,
            17.808,
            39.084
           ],
           "yaxis": "y"
          },
          {
           "alignmentgroup": "True",
           "hovertemplate": "direction=down<br>floor=9<br>Local Time (GMT+8)=%{x}<br>sec=%{y}<extra></extra>",
           "legendgroup": "down",
           "marker": {
            "color": "#EF553B"
           },
           "name": "down",
           "offsetgroup": "down",
           "orientation": "v",
           "showlegend": true,
           "textposition": "auto",
           "type": "bar",
           "x": [
            0,
            1,
            2,
            3,
            4,
            5,
            6,
            7,
            8,
            9,
            10,
            11,
            12,
            13,
            14,
            15,
            16,
            17,
            18,
            19,
            20,
            21,
            22,
            23,
            0,
            1,
            2,
            3,
            4,
            5,
            6,
            7,
            8,
            9,
            10,
            11,
            12,
            13,
            14,
            15,
            16,
            17,
            18,
            19,
            20,
            21,
            22,
            23
           ],
           "xaxis": "x2",
           "y": [
            17.36852941,
            14.52883333,
            14.6125,
            22.82714286,
            15.61222222,
            16.51724138,
            16.45621359,
            16.08915612,
            14.61520548,
            12.49076412,
            11.77430556,
            12.3802649,
            11.94447712,
            13.24744027,
            13.49208754,
            12.02182724,
            13.084625,
            10.88948787,
            11.50292308,
            13.03622478,
            15.55846939,
            14.47578755,
            17.52858333,
            18.21734694,
            15.99545455,
            17.541875,
            9.36,
            5.17,
            16.97571429,
            12.64,
            17.44488372,
            17.46027778,
            16.95798165,
            15.77116071,
            13.33504,
            11.12429825,
            13.839495800000002,
            15.11828283,
            12.12155963,
            13.66833333,
            11.21832215,
            11.585,
            12.92632353,
            14.11630252,
            15.12495146,
            13.62272727,
            17.68666667,
            18.34545455
           ],
           "yaxis": "y2"
          }
         ],
         "name": "9"
        },
        {
         "data": [
          {
           "alignmentgroup": "True",
           "hovertemplate": "direction=up<br>floor=8<br>Local Time (GMT+8)=%{x}<br>sec=%{y}<extra></extra>",
           "legendgroup": "up",
           "marker": {
            "color": "#636efa"
           },
           "name": "up",
           "offsetgroup": "up",
           "orientation": "v",
           "showlegend": true,
           "textposition": "auto",
           "type": "bar",
           "x": [
            0,
            1,
            5,
            6,
            7,
            8,
            9,
            10,
            11,
            12,
            13,
            14,
            15,
            16,
            17,
            18,
            19,
            20,
            21,
            22,
            23,
            1,
            5,
            6,
            7,
            8,
            9,
            10,
            11,
            12,
            13,
            14,
            15,
            16,
            17,
            18,
            19,
            20,
            22,
            23
           ],
           "xaxis": "x",
           "y": [
            15.98,
            18.1625,
            16.32,
            36.99,
            36.41380952,
            72.46166667,
            67.49621622,
            54.761,
            50.23160714,
            46.87555556,
            60.61282051,
            62.34644068,
            51.44793651,
            53.43063492,
            53.22464286,
            47.1832,
            69.84,
            46.16555556,
            37.94583333,
            16.97,
            47.77,
            34.7,
            24.76,
            45.48166667,
            37.96777778,
            82.366,
            56.76222222,
            69.048125,
            73.61399999999999,
            56.07727273,
            52.3575,
            53.10210526,
            47.93318182,
            52.22533333,
            58.95444444,
            47.36666667,
            72.53428571,
            29.781999999999996,
            32.53,
            34.71
           ],
           "yaxis": "y"
          },
          {
           "alignmentgroup": "True",
           "hovertemplate": "direction=down<br>floor=8<br>Local Time (GMT+8)=%{x}<br>sec=%{y}<extra></extra>",
           "legendgroup": "down",
           "marker": {
            "color": "#EF553B"
           },
           "name": "down",
           "offsetgroup": "down",
           "orientation": "v",
           "showlegend": true,
           "textposition": "auto",
           "type": "bar",
           "x": [
            0,
            1,
            2,
            3,
            4,
            5,
            6,
            7,
            8,
            9,
            10,
            11,
            12,
            13,
            14,
            15,
            16,
            17,
            18,
            19,
            20,
            21,
            22,
            23,
            0,
            1,
            2,
            3,
            4,
            5,
            6,
            7,
            8,
            9,
            10,
            11,
            12,
            13,
            14,
            15,
            16,
            17,
            18,
            19,
            20,
            21,
            22,
            23
           ],
           "xaxis": "x2",
           "y": [
            16.39051471,
            14.85595238,
            15.09913043,
            12.85333333,
            16.33388889,
            15.97366667,
            18.77839744,
            16.35487365,
            13.11241983,
            13.15844156,
            11.67217105,
            9.987006578999999,
            11.61687307,
            12.00620178,
            12.00324759,
            10.39535484,
            9.812330623,
            10.04880556,
            12.13253133,
            13.9447185,
            14.59897297,
            15.139000000000001,
            16.39025,
            17.28546667,
            16.54847826,
            17.686,
            8.43625,
            14.245,
            10.19666667,
            13.542,
            14.37729167,
            15.89489362,
            14.07813084,
            12.85796117,
            12.24414063,
            10.57735537,
            11.72537037,
            13.45281553,
            11.20907216,
            12.65015625,
            11.78847222,
            10.15561644,
            10.99025,
            13.01813953,
            16.02241071,
            15.95712644,
            18.08246154,
            12.0775
           ],
           "yaxis": "y2"
          }
         ],
         "name": "8"
        },
        {
         "data": [
          {
           "alignmentgroup": "True",
           "hovertemplate": "direction=up<br>floor=7<br>Local Time (GMT+8)=%{x}<br>sec=%{y}<extra></extra>",
           "legendgroup": "up",
           "marker": {
            "color": "#636efa"
           },
           "name": "up",
           "offsetgroup": "up",
           "orientation": "v",
           "showlegend": true,
           "textposition": "auto",
           "type": "bar",
           "x": [
            0,
            1,
            3,
            4,
            6,
            7,
            8,
            9,
            10,
            11,
            12,
            13,
            14,
            15,
            16,
            17,
            18,
            19,
            20,
            21,
            22,
            23,
            0,
            1,
            3,
            5,
            6,
            7,
            8,
            9,
            10,
            11,
            12,
            13,
            14,
            15,
            16,
            17,
            18,
            19,
            20,
            21,
            22,
            23
           ],
           "xaxis": "x",
           "y": [
            20.34833333,
            12.7,
            9.38,
            14.7925,
            7.438,
            50.69862069,
            64.17617647,
            71.21574074,
            53.16671642,
            61.0715493,
            69.27978723,
            67.79828947,
            66.76563636,
            63.75333333,
            78.83933333,
            62.91493151,
            62.71285714,
            44.98175,
            36.3368,
            31.70882353,
            20.70625,
            14.40571429,
            9.92,
            14.405,
            13.22,
            36.25,
            72.81,
            87.22,
            73.28727273,
            60.69111111,
            52.94863636,
            57.13458333,
            43.058387100000004,
            92.0948,
            48.02518519,
            63.120625,
            60.50578947,
            95.2815,
            63.59571429,
            64.46,
            38.70071429,
            34.32375,
            13.285,
            18.33
           ],
           "yaxis": "y"
          },
          {
           "alignmentgroup": "True",
           "hovertemplate": "direction=down<br>floor=7<br>Local Time (GMT+8)=%{x}<br>sec=%{y}<extra></extra>",
           "legendgroup": "down",
           "marker": {
            "color": "#EF553B"
           },
           "name": "down",
           "offsetgroup": "down",
           "orientation": "v",
           "showlegend": true,
           "textposition": "auto",
           "type": "bar",
           "x": [
            0,
            1,
            2,
            3,
            4,
            5,
            6,
            7,
            8,
            9,
            10,
            11,
            12,
            13,
            14,
            15,
            16,
            17,
            18,
            19,
            20,
            21,
            22,
            23,
            0,
            1,
            2,
            3,
            4,
            5,
            6,
            7,
            8,
            9,
            10,
            11,
            12,
            13,
            14,
            15,
            16,
            17,
            18,
            19,
            20,
            21,
            22,
            23
           ],
           "xaxis": "x2",
           "y": [
            13.27657143,
            13.95048387,
            16.93836735,
            15.74322581,
            13.53473684,
            14.10964286,
            15.8811413,
            14.52095618,
            12.50026217,
            11.95281588,
            10.69985965,
            10.90224422,
            10.85493671,
            11.03775244,
            11.86885246,
            11.35462295,
            10.08903904,
            9.857471591,
            10.70521053,
            13.18874693,
            13.93146154,
            13.91429012,
            14.16201149,
            16.98634409,
            15.69,
            14.44833333,
            12.72173913,
            19.122,
            13.5225,
            13.42380952,
            18.01526316,
            16.77445783,
            13.52308411,
            12.06383929,
            10.39646018,
            10.44532258,
            11.61345133,
            13.54496063,
            13.14948718,
            10.95554622,
            10.44028302,
            10.624366199999999,
            11.26133858,
            13.73,
            11.69354331,
            14.48417391,
            13.02338235,
            17.05409091
           ],
           "yaxis": "y2"
          }
         ],
         "name": "7"
        },
        {
         "data": [
          {
           "alignmentgroup": "True",
           "hovertemplate": "direction=up<br>floor=6<br>Local Time (GMT+8)=%{x}<br>sec=%{y}<extra></extra>",
           "legendgroup": "up",
           "marker": {
            "color": "#636efa"
           },
           "name": "up",
           "offsetgroup": "up",
           "orientation": "v",
           "showlegend": true,
           "textposition": "auto",
           "type": "bar",
           "x": [
            0,
            1,
            2,
            3,
            4,
            5,
            6,
            7,
            8,
            9,
            10,
            11,
            12,
            13,
            14,
            15,
            16,
            17,
            18,
            19,
            20,
            21,
            22,
            23,
            0,
            1,
            2,
            5,
            6,
            7,
            8,
            9,
            10,
            11,
            12,
            13,
            14,
            15,
            16,
            17,
            18,
            19,
            20,
            21,
            22,
            23
           ],
           "xaxis": "x",
           "y": [
            12.99166667,
            10.25,
            9.34,
            0.725,
            9.5,
            25.07,
            38.51806452,
            70.99287671,
            59.75162791,
            70.92916667,
            77.38109589,
            71.81855263,
            76.69696429,
            90.40340909,
            78.14044444,
            93.01814286,
            59.93780822,
            73.70109091,
            60.66258065,
            66.19464286,
            40.463125,
            37.91666667,
            22.471999999999998,
            25.69583333,
            23.97,
            22.605,
            11.635,
            48.01,
            24.29909091,
            58.30090909,
            69.655,
            62.60846154,
            70.54095238,
            64.55933333,
            59.25428571,
            70.62666667,
            63.531000000000006,
            76.47842105,
            72.26565217,
            66.87285714,
            86.925,
            40.65,
            39.735,
            41.67333333,
            24.7725,
            25.73833333
           ],
           "yaxis": "y"
          },
          {
           "alignmentgroup": "True",
           "hovertemplate": "direction=down<br>floor=6<br>Local Time (GMT+8)=%{x}<br>sec=%{y}<extra></extra>",
           "legendgroup": "down",
           "marker": {
            "color": "#EF553B"
           },
           "name": "down",
           "offsetgroup": "down",
           "orientation": "v",
           "showlegend": true,
           "textposition": "auto",
           "type": "bar",
           "x": [
            0,
            1,
            2,
            3,
            4,
            5,
            6,
            7,
            8,
            9,
            10,
            11,
            12,
            13,
            14,
            15,
            16,
            17,
            18,
            19,
            20,
            21,
            22,
            23,
            0,
            1,
            2,
            3,
            4,
            5,
            6,
            7,
            8,
            9,
            10,
            11,
            12,
            13,
            14,
            15,
            16,
            17,
            18,
            19,
            20,
            21,
            22,
            23
           ],
           "xaxis": "x2",
           "y": [
            14.81029412,
            13.84979592,
            13.85736842,
            12.49294118,
            16.16086957,
            14.44777778,
            14.2208867,
            13.49898785,
            11.53106452,
            10.98630225,
            11.6958125,
            10.91721805,
            10.28398496,
            10.28178988,
            10.73014085,
            9.753493151,
            10.07396774,
            10.21281046,
            10.31134286,
            12.14096096,
            12.32697248,
            14.73540541,
            13.96805556,
            13.28316456,
            17.9844,
            15.44857143,
            16.12142857,
            13.22818182,
            15.10666667,
            13.485,
            14.03407895,
            13.31049505,
            13.02605263,
            11.26925926,
            11.51626168,
            8.663333332999999,
            9.1018,
            12.93989796,
            11.45653846,
            12.27178295,
            12.09854545,
            9.884094487999999,
            10.84112069,
            11.30606838,
            13.32392523,
            13.37307692,
            16.74480769,
            23.12631579
           ],
           "yaxis": "y2"
          }
         ],
         "name": "6"
        },
        {
         "data": [
          {
           "alignmentgroup": "True",
           "hovertemplate": "direction=up<br>floor=5<br>Local Time (GMT+8)=%{x}<br>sec=%{y}<extra></extra>",
           "legendgroup": "up",
           "marker": {
            "color": "#636efa"
           },
           "name": "up",
           "offsetgroup": "up",
           "orientation": "v",
           "showlegend": true,
           "textposition": "auto",
           "type": "bar",
           "x": [
            0,
            1,
            2,
            3,
            4,
            5,
            6,
            7,
            8,
            9,
            10,
            11,
            12,
            13,
            14,
            15,
            16,
            17,
            18,
            19,
            20,
            21,
            22,
            23,
            0,
            1,
            2,
            3,
            4,
            5,
            6,
            7,
            8,
            9,
            10,
            11,
            12,
            13,
            14,
            15,
            16,
            17,
            18,
            19,
            20,
            21,
            22,
            23
           ],
           "xaxis": "x",
           "y": [
            19.2875,
            10.44,
            18.92666667,
            10.37,
            4.89,
            14.07,
            12.27466667,
            11.04069767,
            15.21020408,
            11.32155844,
            12.52386667,
            12.883375,
            10.46121622,
            15.13309859,
            11.3401,
            16.38195122,
            11.602020199999998,
            11.9778481,
            12.2825,
            13.52134328,
            11.45095238,
            17.1845098,
            11.75461538,
            10.61533333,
            21.405,
            11.86,
            1.61,
            8.92,
            21.04,
            18.01,
            8.6475,
            14.9675,
            12.60333333,
            8.854444444,
            11.515,
            19.73444444,
            12.19363636,
            12.56305556,
            11.41355556,
            10.30527778,
            11.07076923,
            16.00666667,
            13.543,
            12.085625,
            19.688,
            10.175,
            10.18,
            7.98
           ],
           "yaxis": "y"
          },
          {
           "alignmentgroup": "True",
           "hovertemplate": "direction=down<br>floor=5<br>Local Time (GMT+8)=%{x}<br>sec=%{y}<extra></extra>",
           "legendgroup": "down",
           "marker": {
            "color": "#EF553B"
           },
           "name": "down",
           "offsetgroup": "down",
           "orientation": "v",
           "showlegend": true,
           "textposition": "auto",
           "type": "bar",
           "x": [
            0,
            1,
            2,
            3,
            4,
            5,
            6,
            7,
            8,
            9,
            10,
            11,
            12,
            13,
            14,
            15,
            16,
            17,
            18,
            19,
            20,
            21,
            22,
            23,
            0,
            1,
            2,
            3,
            4,
            5,
            6,
            7,
            8,
            9,
            10,
            11,
            12,
            13,
            14,
            15,
            16,
            17,
            18,
            19,
            20,
            21,
            22,
            23
           ],
           "xaxis": "x2",
           "y": [
            15.17296296,
            16.23422222,
            14.48142857,
            18.31384615,
            14.34714286,
            18.10266667,
            27.56820513,
            49.36166667,
            46.58642857,
            52.18089744,
            46.76795652,
            65.93203125,
            61.51339535,
            49.22449761,
            51.60777293,
            57.33867299,
            52.51614458,
            65.00578313,
            53.88534884,
            57.86894737,
            39.05545455,
            27.22987342,
            21.75818182,
            15.67484848,
            13.46666667,
            16.2508,
            18.358,
            11.95,
            10.335,
            20.155,
            31.37766667,
            51.39,
            46.36412698,
            51.12188406,
            50.34611111,
            49.74567568,
            56.4392,
            62.39484375,
            40.79231884,
            44.45666667,
            43.06673684,
            56.86035714,
            49.83871429,
            49.72597561,
            32.24322034,
            31.12666667,
            23.92970588,
            18.59266667
           ],
           "yaxis": "y2"
          }
         ],
         "name": "5"
        },
        {
         "data": [
          {
           "alignmentgroup": "True",
           "hovertemplate": "direction=up<br>floor=4<br>Local Time (GMT+8)=%{x}<br>sec=%{y}<extra></extra>",
           "legendgroup": "up",
           "marker": {
            "color": "#636efa"
           },
           "name": "up",
           "offsetgroup": "up",
           "orientation": "v",
           "showlegend": true,
           "textposition": "auto",
           "type": "bar",
           "x": [
            0,
            1,
            2,
            3,
            4,
            5,
            6,
            7,
            8,
            9,
            10,
            11,
            12,
            13,
            14,
            15,
            16,
            17,
            18,
            19,
            20,
            21,
            22,
            23,
            0,
            1,
            3,
            4,
            5,
            7,
            8,
            9,
            10,
            11,
            12,
            13,
            14,
            15,
            16,
            17,
            18,
            19,
            20,
            21,
            22,
            23
           ],
           "xaxis": "x",
           "y": [
            26.16833333,
            23.63666667,
            8.19,
            15.93,
            0.43,
            23.605,
            12.51214286,
            9.6775,
            10.54633333,
            10.19552632,
            11.18900901,
            13.09392593,
            9.921585366,
            11.06293651,
            10.4108125,
            12.71112903,
            10.8988806,
            13.79443299,
            11.9116,
            9.3834375,
            13.25789474,
            13.36208333,
            14.94071429,
            12.130999999999998,
            8.16,
            10.2,
            12.13,
            1.47,
            8.905,
            12.255999999999998,
            11.1462963,
            12.62244444,
            11.7484375,
            11.96567568,
            15.990625,
            12.02322581,
            11.62333333,
            9.367878787999999,
            11.59139535,
            11.60444444,
            15.35090909,
            12.78666667,
            16.71625,
            13.975,
            24.315,
            15.365
           ],
           "yaxis": "y"
          },
          {
           "alignmentgroup": "True",
           "hovertemplate": "direction=down<br>floor=4<br>Local Time (GMT+8)=%{x}<br>sec=%{y}<extra></extra>",
           "legendgroup": "down",
           "marker": {
            "color": "#EF553B"
           },
           "name": "down",
           "offsetgroup": "down",
           "orientation": "v",
           "showlegend": true,
           "textposition": "auto",
           "type": "bar",
           "x": [
            0,
            1,
            2,
            3,
            4,
            5,
            6,
            7,
            8,
            9,
            10,
            11,
            12,
            13,
            14,
            15,
            16,
            17,
            18,
            19,
            20,
            21,
            22,
            23,
            0,
            1,
            2,
            3,
            4,
            5,
            6,
            7,
            8,
            9,
            10,
            11,
            12,
            13,
            14,
            15,
            16,
            17,
            18,
            19,
            20,
            21,
            22,
            23
           ],
           "xaxis": "x2",
           "y": [
            16.95535135,
            15.27857143,
            12.56923077,
            13.45,
            8.011000000000001,
            12.97428571,
            22.40166667,
            39.18066667,
            43.94679348,
            28.46373494,
            25.95120482,
            37.14823529,
            36.59184874,
            33.61414201,
            36.83219409,
            30.35223776,
            30.14191882,
            31.46842697,
            31.68122137,
            39.91878788,
            32.17528024,
            31.37875,
            22.718000000000004,
            16.65081967,
            16.13694444,
            15.84157895,
            15.47666667,
            10.95,
            9.115,
            15.435,
            41.044,
            35.07884615,
            41.35634921,
            44.3545614,
            37.64,
            43.25146067,
            35.529625,
            24.66079365,
            37.39043956,
            33.1684466,
            29.18389474,
            43.48098039,
            32.89210526,
            29.07,
            37.37336,
            30.68346154,
            24.625999999999998,
            16.30333333
           ],
           "yaxis": "y2"
          }
         ],
         "name": "4"
        },
        {
         "data": [
          {
           "alignmentgroup": "True",
           "hovertemplate": "direction=up<br>floor=3<br>Local Time (GMT+8)=%{x}<br>sec=%{y}<extra></extra>",
           "legendgroup": "up",
           "marker": {
            "color": "#636efa"
           },
           "name": "up",
           "offsetgroup": "up",
           "orientation": "v",
           "showlegend": true,
           "textposition": "auto",
           "type": "bar",
           "x": [
            0,
            1,
            2,
            3,
            4,
            5,
            6,
            7,
            8,
            9,
            10,
            11,
            12,
            13,
            14,
            15,
            16,
            17,
            18,
            19,
            20,
            21,
            22,
            23,
            0,
            1,
            2,
            3,
            4,
            5,
            6,
            7,
            8,
            9,
            10,
            11,
            12,
            13,
            14,
            15,
            16,
            17,
            18,
            19,
            20,
            21,
            22,
            23
           ],
           "xaxis": "x",
           "y": [
            14.54,
            15.44076923,
            2.3416666669999997,
            14.2075,
            12.67,
            13.12333333,
            13.77857143,
            10.25445946,
            9.7625,
            8.491111111,
            8.485703125,
            8.50751938,
            8.93733945,
            10.42054054,
            9.024102564,
            8.592913907,
            9.288062016,
            8.746666667000001,
            9.255833333,
            10.51176471,
            13.06090909,
            14.72947368,
            12.28380952,
            15.90363636,
            14.66,
            18.27,
            7.078333333,
            26.055,
            5.84,
            20.30333333,
            2.515,
            14.49423077,
            9.66744186,
            8.965588235,
            13.01970588,
            9.467391304,
            8.41452381,
            12.2066129,
            7.654259259,
            10.04829268,
            8.11175,
            11.741,
            9.709090909,
            7.3496875,
            18.26733333,
            20.05818182,
            16.41857143,
            11.32
           ],
           "yaxis": "y"
          },
          {
           "alignmentgroup": "True",
           "hovertemplate": "direction=down<br>floor=3<br>Local Time (GMT+8)=%{x}<br>sec=%{y}<extra></extra>",
           "legendgroup": "down",
           "marker": {
            "color": "#EF553B"
           },
           "name": "down",
           "offsetgroup": "down",
           "orientation": "v",
           "showlegend": true,
           "textposition": "auto",
           "type": "bar",
           "x": [
            0,
            1,
            2,
            3,
            4,
            5,
            6,
            7,
            8,
            9,
            10,
            11,
            12,
            13,
            14,
            15,
            16,
            17,
            18,
            19,
            20,
            21,
            22,
            23,
            0,
            1,
            2,
            3,
            4,
            5,
            6,
            7,
            8,
            9,
            10,
            11,
            12,
            13,
            14,
            15,
            16,
            17,
            18,
            19,
            20,
            21,
            22,
            23
           ],
           "xaxis": "x2",
           "y": [
            12.85083333,
            12.85769231,
            10.28466667,
            14.417,
            12.642000000000001,
            21.28125,
            27.038556699999997,
            40.87908333,
            30.4559375,
            26.02320442,
            24.427106600000002,
            26.92695238,
            26.69846847,
            24.60463918,
            20.95643836,
            22.53346008,
            17.24274262,
            28.5430131,
            34.06288991,
            38.44122995,
            23.34587189,
            26.66265734,
            19.823880600000003,
            16.71956522,
            14.1025,
            13.34333333,
            12.66,
            12.35333333,
            9.695,
            17.37,
            26.52486486,
            33.85466667,
            25.43448718,
            27.393030300000003,
            26.92909091,
            30.6078,
            30.94486486,
            29.20693182,
            20.24928571,
            25.31963235,
            26.09358491,
            33.467,
            35.74364706,
            39.27460674,
            25.52454545,
            31.09053571,
            19.37903226,
            19.08257732
           ],
           "yaxis": "y2"
          }
         ],
         "name": "3"
        },
        {
         "data": [
          {
           "alignmentgroup": "True",
           "hovertemplate": "direction=up<br>floor=2<br>Local Time (GMT+8)=%{x}<br>sec=%{y}<extra></extra>",
           "legendgroup": "up",
           "marker": {
            "color": "#636efa"
           },
           "name": "up",
           "offsetgroup": "up",
           "orientation": "v",
           "showlegend": true,
           "textposition": "auto",
           "type": "bar",
           "x": [
            1,
            3,
            6,
            7,
            8,
            9,
            10,
            11,
            12,
            13,
            14,
            15,
            16,
            17,
            18,
            19,
            20,
            21,
            23,
            1,
            2,
            3,
            7,
            8,
            9,
            10,
            11,
            12,
            13,
            14,
            15,
            16,
            17,
            18,
            20,
            23
           ],
           "xaxis": "x",
           "y": [
            10.36,
            28.1125,
            18.34,
            9.3255,
            7.512280702000001,
            7.71592233,
            7.748055556000001,
            10.49744186,
            9.733170732,
            10.30325301,
            11.9871875,
            8.529647059,
            9.034526316000001,
            8.954736842,
            11.92863636,
            131.0957143,
            10.97,
            12.94,
            5.07,
            31.51,
            9.21,
            15.1,
            12.18,
            5.912727273,
            7.799545455,
            8.266,
            11.36090909,
            9.302,
            6.678421052999999,
            8.81,
            12.29458333,
            10.09758621,
            12.06066667,
            8.978,
            14.54,
            20.895
           ],
           "yaxis": "y"
          },
          {
           "alignmentgroup": "True",
           "hovertemplate": "direction=down<br>floor=2<br>Local Time (GMT+8)=%{x}<br>sec=%{y}<extra></extra>",
           "legendgroup": "down",
           "marker": {
            "color": "#EF553B"
           },
           "name": "down",
           "offsetgroup": "down",
           "orientation": "v",
           "showlegend": true,
           "textposition": "auto",
           "type": "bar",
           "x": [
            0,
            1,
            2,
            3,
            4,
            6,
            7,
            8,
            9,
            10,
            11,
            12,
            13,
            14,
            15,
            16,
            17,
            18,
            19,
            20,
            21,
            22,
            23,
            4,
            6,
            7,
            8,
            9,
            10,
            11,
            12,
            13,
            14,
            15,
            16,
            17,
            18,
            19,
            20,
            21,
            22
           ],
           "xaxis": "x2",
           "y": [
            45.35,
            9.625,
            15.57,
            16.85,
            9.866666667,
            29.24666667,
            40.92571429,
            18.58304348,
            23.15211538,
            21.78979167,
            22.85469388,
            16.03861111,
            12.88857143,
            20.1525641,
            17.3526087,
            15.15591837,
            22.18,
            15.43884615,
            22.726875,
            18.655,
            38.996,
            13.26,
            10.93,
            6.79,
            69.285,
            28.06142857,
            11.70888889,
            19.365,
            17.22125,
            18.23705882,
            15.03444444,
            11.92176471,
            26.116,
            12.57764706,
            9.63,
            25.48916667,
            26.01,
            15.46375,
            68.69,
            5.535,
            13.6
           ],
           "yaxis": "y2"
          }
         ],
         "name": "2"
        },
        {
         "data": [
          {
           "alignmentgroup": "True",
           "hovertemplate": "direction=up<br>floor=1<br>Local Time (GMT+8)=%{x}<br>sec=%{y}<extra></extra>",
           "legendgroup": "up",
           "marker": {
            "color": "#636efa"
           },
           "name": "up",
           "offsetgroup": "up",
           "orientation": "v",
           "showlegend": true,
           "textposition": "auto",
           "type": "bar",
           "x": [
            0,
            1,
            2,
            3,
            4,
            5,
            6,
            7,
            8,
            9,
            10,
            11,
            12,
            13,
            14,
            15,
            16,
            17,
            18,
            19,
            20,
            21,
            22,
            23,
            0,
            1,
            2,
            3,
            4,
            5,
            6,
            7,
            8,
            9,
            10,
            11,
            12,
            13,
            14,
            15,
            16,
            17,
            18,
            19,
            20,
            21,
            22,
            23
           ],
           "xaxis": "x",
           "y": [
            5.323305556,
            4.967370892,
            4.861626016000001,
            7.836052632,
            7.037017543999999,
            6.754777327999999,
            17.36362963,
            15.20316147,
            17.15813154,
            17.62986003,
            17.82118068,
            13.27246781,
            13.91057692,
            16.05842466,
            15.71495741,
            18.92326599,
            16.250402800000003,
            16.13431005,
            19.72394984,
            20.63797768,
            22.67554273,
            16.72507661,
            12.02808889,
            13.12219365,
            5.841176471,
            5.481744186,
            6.557,
            5.883783783999999,
            5.156486486,
            6.726195652,
            15.24036923,
            17.97079038,
            20.6412,
            18.48867521,
            19.75619266,
            15.91603175,
            17.16349754,
            18.28895735,
            18.33012931,
            20.75512,
            16.62628906,
            18.13662551,
            19.70268908,
            22.05825455,
            21.83359223,
            17.12338235,
            14.31152381,
            14.112248999999998
           ],
           "yaxis": "y"
          },
          {
           "alignmentgroup": "True",
           "hovertemplate": "direction=down<br>floor=1<br>Local Time (GMT+8)=%{x}<br>sec=%{y}<extra></extra>",
           "legendgroup": "down",
           "marker": {
            "color": "#EF553B"
           },
           "name": "down",
           "offsetgroup": "down",
           "orientation": "v",
           "showlegend": true,
           "textposition": "auto",
           "type": "bar",
           "x": [
            0,
            1,
            2,
            3,
            4,
            5,
            6,
            7,
            8,
            9,
            10,
            11,
            12,
            13,
            14,
            15,
            16,
            17,
            18,
            19,
            20,
            21,
            22,
            23,
            0,
            1,
            3,
            4,
            5,
            6,
            7,
            8,
            9,
            10,
            11,
            12,
            13,
            14,
            15,
            16,
            17,
            18,
            19,
            20,
            21,
            22,
            23
           ],
           "xaxis": "x2",
           "y": [
            9.858181818,
            3.704375,
            5.94,
            7.19,
            5.337777778,
            7.288695652,
            14.37653061,
            29.77925926,
            21.91177083,
            18.17184713,
            21.17461538,
            20.90542105,
            23.26264045,
            19.14601124,
            18.83859649,
            15.65359116,
            17.46817204,
            26.29304636,
            25.62904412,
            28.37666667,
            17.94917808,
            12.11116667,
            14.43227273,
            12.58394737,
            5.792857142999999,
            4.3475,
            11.925,
            4.632857143,
            17.65,
            13.07857143,
            28.01740741,
            24.08370968,
            22.91156863,
            24.14589286,
            28.17238095,
            19.74407407,
            12.748,
            15.26465116,
            14.86410959,
            24.18203704,
            25.4612069,
            29.9172093,
            21.24147059,
            20.68913043,
            13.61,
            17.23,
            16.50615385
           ],
           "yaxis": "y2"
          }
         ],
         "name": "1"
        }
       ],
       "layout": {
        "annotations": [
         {
          "font": {},
          "showarrow": false,
          "text": "direction=up",
          "x": 0.245,
          "xanchor": "center",
          "xref": "paper",
          "y": 1,
          "yanchor": "bottom",
          "yref": "paper"
         },
         {
          "font": {},
          "showarrow": false,
          "text": "direction=down",
          "x": 0.755,
          "xanchor": "center",
          "xref": "paper",
          "y": 1,
          "yanchor": "bottom",
          "yref": "paper"
         }
        ],
        "barmode": "relative",
        "legend": {
         "title": {
          "text": "direction"
         },
         "tracegroupgap": 0
        },
        "margin": {
         "t": 60
        },
        "sliders": [
         {
          "active": 0,
          "currentvalue": {
           "prefix": "floor="
          },
          "len": 0.9,
          "pad": {
           "b": 10,
           "t": 60
          },
          "steps": [
           {
            "args": [
             [
              "B4"
             ],
             {
              "frame": {
               "duration": 0,
               "redraw": true
              },
              "fromcurrent": true,
              "mode": "immediate",
              "transition": {
               "duration": 0,
               "easing": "linear"
              }
             }
            ],
            "label": "B4",
            "method": "animate"
           },
           {
            "args": [
             [
              "B3"
             ],
             {
              "frame": {
               "duration": 0,
               "redraw": true
              },
              "fromcurrent": true,
              "mode": "immediate",
              "transition": {
               "duration": 0,
               "easing": "linear"
              }
             }
            ],
            "label": "B3",
            "method": "animate"
           },
           {
            "args": [
             [
              "B1"
             ],
             {
              "frame": {
               "duration": 0,
               "redraw": true
              },
              "fromcurrent": true,
              "mode": "immediate",
              "transition": {
               "duration": 0,
               "easing": "linear"
              }
             }
            ],
            "label": "B1",
            "method": "animate"
           },
           {
            "args": [
             [
              "15"
             ],
             {
              "frame": {
               "duration": 0,
               "redraw": true
              },
              "fromcurrent": true,
              "mode": "immediate",
              "transition": {
               "duration": 0,
               "easing": "linear"
              }
             }
            ],
            "label": "15",
            "method": "animate"
           },
           {
            "args": [
             [
              "14"
             ],
             {
              "frame": {
               "duration": 0,
               "redraw": true
              },
              "fromcurrent": true,
              "mode": "immediate",
              "transition": {
               "duration": 0,
               "easing": "linear"
              }
             }
            ],
            "label": "14",
            "method": "animate"
           },
           {
            "args": [
             [
              "13"
             ],
             {
              "frame": {
               "duration": 0,
               "redraw": true
              },
              "fromcurrent": true,
              "mode": "immediate",
              "transition": {
               "duration": 0,
               "easing": "linear"
              }
             }
            ],
            "label": "13",
            "method": "animate"
           },
           {
            "args": [
             [
              "12"
             ],
             {
              "frame": {
               "duration": 0,
               "redraw": true
              },
              "fromcurrent": true,
              "mode": "immediate",
              "transition": {
               "duration": 0,
               "easing": "linear"
              }
             }
            ],
            "label": "12",
            "method": "animate"
           },
           {
            "args": [
             [
              "11"
             ],
             {
              "frame": {
               "duration": 0,
               "redraw": true
              },
              "fromcurrent": true,
              "mode": "immediate",
              "transition": {
               "duration": 0,
               "easing": "linear"
              }
             }
            ],
            "label": "11",
            "method": "animate"
           },
           {
            "args": [
             [
              "10"
             ],
             {
              "frame": {
               "duration": 0,
               "redraw": true
              },
              "fromcurrent": true,
              "mode": "immediate",
              "transition": {
               "duration": 0,
               "easing": "linear"
              }
             }
            ],
            "label": "10",
            "method": "animate"
           },
           {
            "args": [
             [
              "9"
             ],
             {
              "frame": {
               "duration": 0,
               "redraw": true
              },
              "fromcurrent": true,
              "mode": "immediate",
              "transition": {
               "duration": 0,
               "easing": "linear"
              }
             }
            ],
            "label": "9",
            "method": "animate"
           },
           {
            "args": [
             [
              "8"
             ],
             {
              "frame": {
               "duration": 0,
               "redraw": true
              },
              "fromcurrent": true,
              "mode": "immediate",
              "transition": {
               "duration": 0,
               "easing": "linear"
              }
             }
            ],
            "label": "8",
            "method": "animate"
           },
           {
            "args": [
             [
              "7"
             ],
             {
              "frame": {
               "duration": 0,
               "redraw": true
              },
              "fromcurrent": true,
              "mode": "immediate",
              "transition": {
               "duration": 0,
               "easing": "linear"
              }
             }
            ],
            "label": "7",
            "method": "animate"
           },
           {
            "args": [
             [
              "6"
             ],
             {
              "frame": {
               "duration": 0,
               "redraw": true
              },
              "fromcurrent": true,
              "mode": "immediate",
              "transition": {
               "duration": 0,
               "easing": "linear"
              }
             }
            ],
            "label": "6",
            "method": "animate"
           },
           {
            "args": [
             [
              "5"
             ],
             {
              "frame": {
               "duration": 0,
               "redraw": true
              },
              "fromcurrent": true,
              "mode": "immediate",
              "transition": {
               "duration": 0,
               "easing": "linear"
              }
             }
            ],
            "label": "5",
            "method": "animate"
           },
           {
            "args": [
             [
              "4"
             ],
             {
              "frame": {
               "duration": 0,
               "redraw": true
              },
              "fromcurrent": true,
              "mode": "immediate",
              "transition": {
               "duration": 0,
               "easing": "linear"
              }
             }
            ],
            "label": "4",
            "method": "animate"
           },
           {
            "args": [
             [
              "3"
             ],
             {
              "frame": {
               "duration": 0,
               "redraw": true
              },
              "fromcurrent": true,
              "mode": "immediate",
              "transition": {
               "duration": 0,
               "easing": "linear"
              }
             }
            ],
            "label": "3",
            "method": "animate"
           },
           {
            "args": [
             [
              "2"
             ],
             {
              "frame": {
               "duration": 0,
               "redraw": true
              },
              "fromcurrent": true,
              "mode": "immediate",
              "transition": {
               "duration": 0,
               "easing": "linear"
              }
             }
            ],
            "label": "2",
            "method": "animate"
           },
           {
            "args": [
             [
              "1"
             ],
             {
              "frame": {
               "duration": 0,
               "redraw": true
              },
              "fromcurrent": true,
              "mode": "immediate",
              "transition": {
               "duration": 0,
               "easing": "linear"
              }
             }
            ],
            "label": "1",
            "method": "animate"
           }
          ],
          "x": 0.1,
          "xanchor": "left",
          "y": 0,
          "yanchor": "top"
         }
        ],
        "template": {
         "data": {
          "bar": [
           {
            "error_x": {
             "color": "#2a3f5f"
            },
            "error_y": {
             "color": "#2a3f5f"
            },
            "marker": {
             "line": {
              "color": "#E5ECF6",
              "width": 0.5
             }
            },
            "type": "bar"
           }
          ],
          "barpolar": [
           {
            "marker": {
             "line": {
              "color": "#E5ECF6",
              "width": 0.5
             }
            },
            "type": "barpolar"
           }
          ],
          "carpet": [
           {
            "aaxis": {
             "endlinecolor": "#2a3f5f",
             "gridcolor": "white",
             "linecolor": "white",
             "minorgridcolor": "white",
             "startlinecolor": "#2a3f5f"
            },
            "baxis": {
             "endlinecolor": "#2a3f5f",
             "gridcolor": "white",
             "linecolor": "white",
             "minorgridcolor": "white",
             "startlinecolor": "#2a3f5f"
            },
            "type": "carpet"
           }
          ],
          "choropleth": [
           {
            "colorbar": {
             "outlinewidth": 0,
             "ticks": ""
            },
            "type": "choropleth"
           }
          ],
          "contour": [
           {
            "colorbar": {
             "outlinewidth": 0,
             "ticks": ""
            },
            "colorscale": [
             [
              0,
              "#0d0887"
             ],
             [
              0.1111111111111111,
              "#46039f"
             ],
             [
              0.2222222222222222,
              "#7201a8"
             ],
             [
              0.3333333333333333,
              "#9c179e"
             ],
             [
              0.4444444444444444,
              "#bd3786"
             ],
             [
              0.5555555555555556,
              "#d8576b"
             ],
             [
              0.6666666666666666,
              "#ed7953"
             ],
             [
              0.7777777777777778,
              "#fb9f3a"
             ],
             [
              0.8888888888888888,
              "#fdca26"
             ],
             [
              1,
              "#f0f921"
             ]
            ],
            "type": "contour"
           }
          ],
          "contourcarpet": [
           {
            "colorbar": {
             "outlinewidth": 0,
             "ticks": ""
            },
            "type": "contourcarpet"
           }
          ],
          "heatmap": [
           {
            "colorbar": {
             "outlinewidth": 0,
             "ticks": ""
            },
            "colorscale": [
             [
              0,
              "#0d0887"
             ],
             [
              0.1111111111111111,
              "#46039f"
             ],
             [
              0.2222222222222222,
              "#7201a8"
             ],
             [
              0.3333333333333333,
              "#9c179e"
             ],
             [
              0.4444444444444444,
              "#bd3786"
             ],
             [
              0.5555555555555556,
              "#d8576b"
             ],
             [
              0.6666666666666666,
              "#ed7953"
             ],
             [
              0.7777777777777778,
              "#fb9f3a"
             ],
             [
              0.8888888888888888,
              "#fdca26"
             ],
             [
              1,
              "#f0f921"
             ]
            ],
            "type": "heatmap"
           }
          ],
          "heatmapgl": [
           {
            "colorbar": {
             "outlinewidth": 0,
             "ticks": ""
            },
            "colorscale": [
             [
              0,
              "#0d0887"
             ],
             [
              0.1111111111111111,
              "#46039f"
             ],
             [
              0.2222222222222222,
              "#7201a8"
             ],
             [
              0.3333333333333333,
              "#9c179e"
             ],
             [
              0.4444444444444444,
              "#bd3786"
             ],
             [
              0.5555555555555556,
              "#d8576b"
             ],
             [
              0.6666666666666666,
              "#ed7953"
             ],
             [
              0.7777777777777778,
              "#fb9f3a"
             ],
             [
              0.8888888888888888,
              "#fdca26"
             ],
             [
              1,
              "#f0f921"
             ]
            ],
            "type": "heatmapgl"
           }
          ],
          "histogram": [
           {
            "marker": {
             "colorbar": {
              "outlinewidth": 0,
              "ticks": ""
             }
            },
            "type": "histogram"
           }
          ],
          "histogram2d": [
           {
            "colorbar": {
             "outlinewidth": 0,
             "ticks": ""
            },
            "colorscale": [
             [
              0,
              "#0d0887"
             ],
             [
              0.1111111111111111,
              "#46039f"
             ],
             [
              0.2222222222222222,
              "#7201a8"
             ],
             [
              0.3333333333333333,
              "#9c179e"
             ],
             [
              0.4444444444444444,
              "#bd3786"
             ],
             [
              0.5555555555555556,
              "#d8576b"
             ],
             [
              0.6666666666666666,
              "#ed7953"
             ],
             [
              0.7777777777777778,
              "#fb9f3a"
             ],
             [
              0.8888888888888888,
              "#fdca26"
             ],
             [
              1,
              "#f0f921"
             ]
            ],
            "type": "histogram2d"
           }
          ],
          "histogram2dcontour": [
           {
            "colorbar": {
             "outlinewidth": 0,
             "ticks": ""
            },
            "colorscale": [
             [
              0,
              "#0d0887"
             ],
             [
              0.1111111111111111,
              "#46039f"
             ],
             [
              0.2222222222222222,
              "#7201a8"
             ],
             [
              0.3333333333333333,
              "#9c179e"
             ],
             [
              0.4444444444444444,
              "#bd3786"
             ],
             [
              0.5555555555555556,
              "#d8576b"
             ],
             [
              0.6666666666666666,
              "#ed7953"
             ],
             [
              0.7777777777777778,
              "#fb9f3a"
             ],
             [
              0.8888888888888888,
              "#fdca26"
             ],
             [
              1,
              "#f0f921"
             ]
            ],
            "type": "histogram2dcontour"
           }
          ],
          "mesh3d": [
           {
            "colorbar": {
             "outlinewidth": 0,
             "ticks": ""
            },
            "type": "mesh3d"
           }
          ],
          "parcoords": [
           {
            "line": {
             "colorbar": {
              "outlinewidth": 0,
              "ticks": ""
             }
            },
            "type": "parcoords"
           }
          ],
          "pie": [
           {
            "automargin": true,
            "type": "pie"
           }
          ],
          "scatter": [
           {
            "marker": {
             "colorbar": {
              "outlinewidth": 0,
              "ticks": ""
             }
            },
            "type": "scatter"
           }
          ],
          "scatter3d": [
           {
            "line": {
             "colorbar": {
              "outlinewidth": 0,
              "ticks": ""
             }
            },
            "marker": {
             "colorbar": {
              "outlinewidth": 0,
              "ticks": ""
             }
            },
            "type": "scatter3d"
           }
          ],
          "scattercarpet": [
           {
            "marker": {
             "colorbar": {
              "outlinewidth": 0,
              "ticks": ""
             }
            },
            "type": "scattercarpet"
           }
          ],
          "scattergeo": [
           {
            "marker": {
             "colorbar": {
              "outlinewidth": 0,
              "ticks": ""
             }
            },
            "type": "scattergeo"
           }
          ],
          "scattergl": [
           {
            "marker": {
             "colorbar": {
              "outlinewidth": 0,
              "ticks": ""
             }
            },
            "type": "scattergl"
           }
          ],
          "scattermapbox": [
           {
            "marker": {
             "colorbar": {
              "outlinewidth": 0,
              "ticks": ""
             }
            },
            "type": "scattermapbox"
           }
          ],
          "scatterpolar": [
           {
            "marker": {
             "colorbar": {
              "outlinewidth": 0,
              "ticks": ""
             }
            },
            "type": "scatterpolar"
           }
          ],
          "scatterpolargl": [
           {
            "marker": {
             "colorbar": {
              "outlinewidth": 0,
              "ticks": ""
             }
            },
            "type": "scatterpolargl"
           }
          ],
          "scatterternary": [
           {
            "marker": {
             "colorbar": {
              "outlinewidth": 0,
              "ticks": ""
             }
            },
            "type": "scatterternary"
           }
          ],
          "surface": [
           {
            "colorbar": {
             "outlinewidth": 0,
             "ticks": ""
            },
            "colorscale": [
             [
              0,
              "#0d0887"
             ],
             [
              0.1111111111111111,
              "#46039f"
             ],
             [
              0.2222222222222222,
              "#7201a8"
             ],
             [
              0.3333333333333333,
              "#9c179e"
             ],
             [
              0.4444444444444444,
              "#bd3786"
             ],
             [
              0.5555555555555556,
              "#d8576b"
             ],
             [
              0.6666666666666666,
              "#ed7953"
             ],
             [
              0.7777777777777778,
              "#fb9f3a"
             ],
             [
              0.8888888888888888,
              "#fdca26"
             ],
             [
              1,
              "#f0f921"
             ]
            ],
            "type": "surface"
           }
          ],
          "table": [
           {
            "cells": {
             "fill": {
              "color": "#EBF0F8"
             },
             "line": {
              "color": "white"
             }
            },
            "header": {
             "fill": {
              "color": "#C8D4E3"
             },
             "line": {
              "color": "white"
             }
            },
            "type": "table"
           }
          ]
         },
         "layout": {
          "annotationdefaults": {
           "arrowcolor": "#2a3f5f",
           "arrowhead": 0,
           "arrowwidth": 1
          },
          "coloraxis": {
           "colorbar": {
            "outlinewidth": 0,
            "ticks": ""
           }
          },
          "colorscale": {
           "diverging": [
            [
             0,
             "#8e0152"
            ],
            [
             0.1,
             "#c51b7d"
            ],
            [
             0.2,
             "#de77ae"
            ],
            [
             0.3,
             "#f1b6da"
            ],
            [
             0.4,
             "#fde0ef"
            ],
            [
             0.5,
             "#f7f7f7"
            ],
            [
             0.6,
             "#e6f5d0"
            ],
            [
             0.7,
             "#b8e186"
            ],
            [
             0.8,
             "#7fbc41"
            ],
            [
             0.9,
             "#4d9221"
            ],
            [
             1,
             "#276419"
            ]
           ],
           "sequential": [
            [
             0,
             "#0d0887"
            ],
            [
             0.1111111111111111,
             "#46039f"
            ],
            [
             0.2222222222222222,
             "#7201a8"
            ],
            [
             0.3333333333333333,
             "#9c179e"
            ],
            [
             0.4444444444444444,
             "#bd3786"
            ],
            [
             0.5555555555555556,
             "#d8576b"
            ],
            [
             0.6666666666666666,
             "#ed7953"
            ],
            [
             0.7777777777777778,
             "#fb9f3a"
            ],
            [
             0.8888888888888888,
             "#fdca26"
            ],
            [
             1,
             "#f0f921"
            ]
           ],
           "sequentialminus": [
            [
             0,
             "#0d0887"
            ],
            [
             0.1111111111111111,
             "#46039f"
            ],
            [
             0.2222222222222222,
             "#7201a8"
            ],
            [
             0.3333333333333333,
             "#9c179e"
            ],
            [
             0.4444444444444444,
             "#bd3786"
            ],
            [
             0.5555555555555556,
             "#d8576b"
            ],
            [
             0.6666666666666666,
             "#ed7953"
            ],
            [
             0.7777777777777778,
             "#fb9f3a"
            ],
            [
             0.8888888888888888,
             "#fdca26"
            ],
            [
             1,
             "#f0f921"
            ]
           ]
          },
          "colorway": [
           "#636efa",
           "#EF553B",
           "#00cc96",
           "#ab63fa",
           "#FFA15A",
           "#19d3f3",
           "#FF6692",
           "#B6E880",
           "#FF97FF",
           "#FECB52"
          ],
          "font": {
           "color": "#2a3f5f"
          },
          "geo": {
           "bgcolor": "white",
           "lakecolor": "white",
           "landcolor": "#E5ECF6",
           "showlakes": true,
           "showland": true,
           "subunitcolor": "white"
          },
          "hoverlabel": {
           "align": "left"
          },
          "hovermode": "closest",
          "mapbox": {
           "style": "light"
          },
          "paper_bgcolor": "white",
          "plot_bgcolor": "#E5ECF6",
          "polar": {
           "angularaxis": {
            "gridcolor": "white",
            "linecolor": "white",
            "ticks": ""
           },
           "bgcolor": "#E5ECF6",
           "radialaxis": {
            "gridcolor": "white",
            "linecolor": "white",
            "ticks": ""
           }
          },
          "scene": {
           "xaxis": {
            "backgroundcolor": "#E5ECF6",
            "gridcolor": "white",
            "gridwidth": 2,
            "linecolor": "white",
            "showbackground": true,
            "ticks": "",
            "zerolinecolor": "white"
           },
           "yaxis": {
            "backgroundcolor": "#E5ECF6",
            "gridcolor": "white",
            "gridwidth": 2,
            "linecolor": "white",
            "showbackground": true,
            "ticks": "",
            "zerolinecolor": "white"
           },
           "zaxis": {
            "backgroundcolor": "#E5ECF6",
            "gridcolor": "white",
            "gridwidth": 2,
            "linecolor": "white",
            "showbackground": true,
            "ticks": "",
            "zerolinecolor": "white"
           }
          },
          "shapedefaults": {
           "line": {
            "color": "#2a3f5f"
           }
          },
          "ternary": {
           "aaxis": {
            "gridcolor": "white",
            "linecolor": "white",
            "ticks": ""
           },
           "baxis": {
            "gridcolor": "white",
            "linecolor": "white",
            "ticks": ""
           },
           "bgcolor": "#E5ECF6",
           "caxis": {
            "gridcolor": "white",
            "linecolor": "white",
            "ticks": ""
           }
          },
          "title": {
           "x": 0.05
          },
          "xaxis": {
           "automargin": true,
           "gridcolor": "white",
           "linecolor": "white",
           "ticks": "",
           "title": {
            "standoff": 15
           },
           "zerolinecolor": "white",
           "zerolinewidth": 2
          },
          "yaxis": {
           "automargin": true,
           "gridcolor": "white",
           "linecolor": "white",
           "ticks": "",
           "title": {
            "standoff": 15
           },
           "zerolinecolor": "white",
           "zerolinewidth": 2
          }
         }
        },
        "title": {
         "text": "Frequency of Elevator Calls by Time"
        },
        "updatemenus": [
         {
          "buttons": [
           {
            "args": [
             null,
             {
              "frame": {
               "duration": 500,
               "redraw": true
              },
              "fromcurrent": true,
              "mode": "immediate",
              "transition": {
               "duration": 500,
               "easing": "linear"
              }
             }
            ],
            "label": "&#9654;",
            "method": "animate"
           },
           {
            "args": [
             [
              null
             ],
             {
              "frame": {
               "duration": 0,
               "redraw": true
              },
              "fromcurrent": true,
              "mode": "immediate",
              "transition": {
               "duration": 0,
               "easing": "linear"
              }
             }
            ],
            "label": "&#9724;",
            "method": "animate"
           }
          ],
          "direction": "left",
          "pad": {
           "r": 10,
           "t": 70
          },
          "showactive": false,
          "type": "buttons",
          "x": 0.1,
          "xanchor": "right",
          "y": 0,
          "yanchor": "top"
         }
        ],
        "xaxis": {
         "anchor": "y",
         "categoryarray": [
          0,
          24
         ],
         "domain": [
          0,
          0.49
         ],
         "nticks": 19,
         "title": {
          "text": "Local Time (GMT+8)"
         },
         "type": "category"
        },
        "xaxis2": {
         "anchor": "y2",
         "categoryarray": [
          0,
          24
         ],
         "domain": [
          0.51,
          1
         ],
         "matches": "x",
         "nticks": 19,
         "title": {
          "text": "Local Time (GMT+8)"
         },
         "type": "category"
        },
        "yaxis": {
         "anchor": "x",
         "domain": [
          0,
          1
         ],
         "range": [
          0,
          1000
         ],
         "title": {
          "text": "sec"
         }
        },
        "yaxis2": {
         "anchor": "x2",
         "domain": [
          0,
          1
         ],
         "matches": "y",
         "range": [
          0,
          1000
         ],
         "showticklabels": false
        }
       }
      },
      "text/html": [
       "<div>\n",
       "        \n",
       "        \n",
       "            <div id=\"5cef2e68-f13e-4cb2-a55d-7e98a3afe320\" class=\"plotly-graph-div\" style=\"height:525px; width:100%;\"></div>\n",
       "            <script type=\"text/javascript\">\n",
       "                require([\"plotly\"], function(Plotly) {\n",
       "                    window.PLOTLYENV=window.PLOTLYENV || {};\n",
       "                    \n",
       "                if (document.getElementById(\"5cef2e68-f13e-4cb2-a55d-7e98a3afe320\")) {\n",
       "                    Plotly.newPlot(\n",
       "                        '5cef2e68-f13e-4cb2-a55d-7e98a3afe320',\n",
       "                        [{\"alignmentgroup\": \"True\", \"hovertemplate\": \"direction=up<br>floor=B4<br>Local Time (GMT+8)=%{x}<br>sec=%{y}<extra></extra>\", \"legendgroup\": \"up\", \"marker\": {\"color\": \"#636efa\"}, \"name\": \"up\", \"offsetgroup\": \"up\", \"orientation\": \"v\", \"showlegend\": true, \"textposition\": \"auto\", \"type\": \"bar\", \"x\": [0, 1, 2, 3, 4, 5, 6, 7, 8, 9, 10, 11, 12, 13, 14, 15, 16, 17, 18, 19, 20, 21, 22, 23, 0, 3, 4, 5, 6, 7, 8, 9, 10, 11, 12, 13, 14, 15, 16, 17, 18, 19, 20, 21, 22, 23], \"xaxis\": \"x\", \"y\": [13.54285714, 3.435, 20.2575, 21.478, 6.17, 14.74583333, 24.82973333, 32.40641791, 30.08351779, 31.82159624, 34.1715859, 49.02057613, 48.67666667, 43.59296296, 32.46376984, 35.87952381, 34.2713834, 40.27939394, 31.82266667, 26.47895833, 21.43890625, 21.42745455, 12.7225, 27.55888889, 26.941999999999997, 16.39, 28.635, 12.7575, 19.75538462, 22.85197368, 23.99532468, 33.22894118, 28.28465517, 34.62672727, 46.81163636, 30.92638889, 33.808701299999996, 34.5835, 33.61045977, 43.48176471, 42.754, 26.232, 19.25666667, 16.28423077, 56.62, 15.01], \"yaxis\": \"y\"}],\n",
       "                        {\"annotations\": [{\"font\": {}, \"showarrow\": false, \"text\": \"direction=up\", \"x\": 0.245, \"xanchor\": \"center\", \"xref\": \"paper\", \"y\": 1.0, \"yanchor\": \"bottom\", \"yref\": \"paper\"}, {\"font\": {}, \"showarrow\": false, \"text\": \"direction=down\", \"x\": 0.755, \"xanchor\": \"center\", \"xref\": \"paper\", \"y\": 1.0, \"yanchor\": \"bottom\", \"yref\": \"paper\"}], \"barmode\": \"relative\", \"legend\": {\"title\": {\"text\": \"direction\"}, \"tracegroupgap\": 0}, \"margin\": {\"t\": 60}, \"sliders\": [{\"active\": 0, \"currentvalue\": {\"prefix\": \"floor=\"}, \"len\": 0.9, \"pad\": {\"b\": 10, \"t\": 60}, \"steps\": [{\"args\": [[\"B4\"], {\"frame\": {\"duration\": 0, \"redraw\": true}, \"fromcurrent\": true, \"mode\": \"immediate\", \"transition\": {\"duration\": 0, \"easing\": \"linear\"}}], \"label\": \"B4\", \"method\": \"animate\"}, {\"args\": [[\"B3\"], {\"frame\": {\"duration\": 0, \"redraw\": true}, \"fromcurrent\": true, \"mode\": \"immediate\", \"transition\": {\"duration\": 0, \"easing\": \"linear\"}}], \"label\": \"B3\", \"method\": \"animate\"}, {\"args\": [[\"B1\"], {\"frame\": {\"duration\": 0, \"redraw\": true}, \"fromcurrent\": true, \"mode\": \"immediate\", \"transition\": {\"duration\": 0, \"easing\": \"linear\"}}], \"label\": \"B1\", \"method\": \"animate\"}, {\"args\": [[\"15\"], {\"frame\": {\"duration\": 0, \"redraw\": true}, \"fromcurrent\": true, \"mode\": \"immediate\", \"transition\": {\"duration\": 0, \"easing\": \"linear\"}}], \"label\": \"15\", \"method\": \"animate\"}, {\"args\": [[\"14\"], {\"frame\": {\"duration\": 0, \"redraw\": true}, \"fromcurrent\": true, \"mode\": \"immediate\", \"transition\": {\"duration\": 0, \"easing\": \"linear\"}}], \"label\": \"14\", \"method\": \"animate\"}, {\"args\": [[\"13\"], {\"frame\": {\"duration\": 0, \"redraw\": true}, \"fromcurrent\": true, \"mode\": \"immediate\", \"transition\": {\"duration\": 0, \"easing\": \"linear\"}}], \"label\": \"13\", \"method\": \"animate\"}, {\"args\": [[\"12\"], {\"frame\": {\"duration\": 0, \"redraw\": true}, \"fromcurrent\": true, \"mode\": \"immediate\", \"transition\": {\"duration\": 0, \"easing\": \"linear\"}}], \"label\": \"12\", \"method\": \"animate\"}, {\"args\": [[\"11\"], {\"frame\": {\"duration\": 0, \"redraw\": true}, \"fromcurrent\": true, \"mode\": \"immediate\", \"transition\": {\"duration\": 0, \"easing\": \"linear\"}}], \"label\": \"11\", \"method\": \"animate\"}, {\"args\": [[\"10\"], {\"frame\": {\"duration\": 0, \"redraw\": true}, \"fromcurrent\": true, \"mode\": \"immediate\", \"transition\": {\"duration\": 0, \"easing\": \"linear\"}}], \"label\": \"10\", \"method\": \"animate\"}, {\"args\": [[\"9\"], {\"frame\": {\"duration\": 0, \"redraw\": true}, \"fromcurrent\": true, \"mode\": \"immediate\", \"transition\": {\"duration\": 0, \"easing\": \"linear\"}}], \"label\": \"9\", \"method\": \"animate\"}, {\"args\": [[\"8\"], {\"frame\": {\"duration\": 0, \"redraw\": true}, \"fromcurrent\": true, \"mode\": \"immediate\", \"transition\": {\"duration\": 0, \"easing\": \"linear\"}}], \"label\": \"8\", \"method\": \"animate\"}, {\"args\": [[\"7\"], {\"frame\": {\"duration\": 0, \"redraw\": true}, \"fromcurrent\": true, \"mode\": \"immediate\", \"transition\": {\"duration\": 0, \"easing\": \"linear\"}}], \"label\": \"7\", \"method\": \"animate\"}, {\"args\": [[\"6\"], {\"frame\": {\"duration\": 0, \"redraw\": true}, \"fromcurrent\": true, \"mode\": \"immediate\", \"transition\": {\"duration\": 0, \"easing\": \"linear\"}}], \"label\": \"6\", \"method\": \"animate\"}, {\"args\": [[\"5\"], {\"frame\": {\"duration\": 0, \"redraw\": true}, \"fromcurrent\": true, \"mode\": \"immediate\", \"transition\": {\"duration\": 0, \"easing\": \"linear\"}}], \"label\": \"5\", \"method\": \"animate\"}, {\"args\": [[\"4\"], {\"frame\": {\"duration\": 0, \"redraw\": true}, \"fromcurrent\": true, \"mode\": \"immediate\", \"transition\": {\"duration\": 0, \"easing\": \"linear\"}}], \"label\": \"4\", \"method\": \"animate\"}, {\"args\": [[\"3\"], {\"frame\": {\"duration\": 0, \"redraw\": true}, \"fromcurrent\": true, \"mode\": \"immediate\", \"transition\": {\"duration\": 0, \"easing\": \"linear\"}}], \"label\": \"3\", \"method\": \"animate\"}, {\"args\": [[\"2\"], {\"frame\": {\"duration\": 0, \"redraw\": true}, \"fromcurrent\": true, \"mode\": \"immediate\", \"transition\": {\"duration\": 0, \"easing\": \"linear\"}}], \"label\": \"2\", \"method\": \"animate\"}, {\"args\": [[\"1\"], {\"frame\": {\"duration\": 0, \"redraw\": true}, \"fromcurrent\": true, \"mode\": \"immediate\", \"transition\": {\"duration\": 0, \"easing\": \"linear\"}}], \"label\": \"1\", \"method\": \"animate\"}], \"x\": 0.1, \"xanchor\": \"left\", \"y\": 0, \"yanchor\": \"top\"}], \"template\": {\"data\": {\"bar\": [{\"error_x\": {\"color\": \"#2a3f5f\"}, \"error_y\": {\"color\": \"#2a3f5f\"}, \"marker\": {\"line\": {\"color\": \"#E5ECF6\", \"width\": 0.5}}, \"type\": \"bar\"}], \"barpolar\": [{\"marker\": {\"line\": {\"color\": \"#E5ECF6\", \"width\": 0.5}}, \"type\": \"barpolar\"}], \"carpet\": [{\"aaxis\": {\"endlinecolor\": \"#2a3f5f\", \"gridcolor\": \"white\", \"linecolor\": \"white\", \"minorgridcolor\": \"white\", \"startlinecolor\": \"#2a3f5f\"}, \"baxis\": {\"endlinecolor\": \"#2a3f5f\", \"gridcolor\": \"white\", \"linecolor\": \"white\", \"minorgridcolor\": \"white\", \"startlinecolor\": \"#2a3f5f\"}, \"type\": \"carpet\"}], \"choropleth\": [{\"colorbar\": {\"outlinewidth\": 0, \"ticks\": \"\"}, \"type\": \"choropleth\"}], \"contour\": [{\"colorbar\": {\"outlinewidth\": 0, \"ticks\": \"\"}, \"colorscale\": [[0.0, \"#0d0887\"], [0.1111111111111111, \"#46039f\"], [0.2222222222222222, \"#7201a8\"], [0.3333333333333333, \"#9c179e\"], [0.4444444444444444, \"#bd3786\"], [0.5555555555555556, \"#d8576b\"], [0.6666666666666666, \"#ed7953\"], [0.7777777777777778, \"#fb9f3a\"], [0.8888888888888888, \"#fdca26\"], [1.0, \"#f0f921\"]], \"type\": \"contour\"}], \"contourcarpet\": [{\"colorbar\": {\"outlinewidth\": 0, \"ticks\": \"\"}, \"type\": \"contourcarpet\"}], \"heatmap\": [{\"colorbar\": {\"outlinewidth\": 0, \"ticks\": \"\"}, \"colorscale\": [[0.0, \"#0d0887\"], [0.1111111111111111, \"#46039f\"], [0.2222222222222222, \"#7201a8\"], [0.3333333333333333, \"#9c179e\"], [0.4444444444444444, \"#bd3786\"], [0.5555555555555556, \"#d8576b\"], [0.6666666666666666, \"#ed7953\"], [0.7777777777777778, \"#fb9f3a\"], [0.8888888888888888, \"#fdca26\"], [1.0, \"#f0f921\"]], \"type\": \"heatmap\"}], \"heatmapgl\": [{\"colorbar\": {\"outlinewidth\": 0, \"ticks\": \"\"}, \"colorscale\": [[0.0, \"#0d0887\"], [0.1111111111111111, \"#46039f\"], [0.2222222222222222, \"#7201a8\"], [0.3333333333333333, \"#9c179e\"], [0.4444444444444444, \"#bd3786\"], [0.5555555555555556, \"#d8576b\"], [0.6666666666666666, \"#ed7953\"], [0.7777777777777778, \"#fb9f3a\"], [0.8888888888888888, \"#fdca26\"], [1.0, \"#f0f921\"]], \"type\": \"heatmapgl\"}], \"histogram\": [{\"marker\": {\"colorbar\": {\"outlinewidth\": 0, \"ticks\": \"\"}}, \"type\": \"histogram\"}], \"histogram2d\": [{\"colorbar\": {\"outlinewidth\": 0, \"ticks\": \"\"}, \"colorscale\": [[0.0, \"#0d0887\"], [0.1111111111111111, \"#46039f\"], [0.2222222222222222, \"#7201a8\"], [0.3333333333333333, \"#9c179e\"], [0.4444444444444444, \"#bd3786\"], [0.5555555555555556, \"#d8576b\"], [0.6666666666666666, \"#ed7953\"], [0.7777777777777778, \"#fb9f3a\"], [0.8888888888888888, \"#fdca26\"], [1.0, \"#f0f921\"]], \"type\": \"histogram2d\"}], \"histogram2dcontour\": [{\"colorbar\": {\"outlinewidth\": 0, \"ticks\": \"\"}, \"colorscale\": [[0.0, \"#0d0887\"], [0.1111111111111111, \"#46039f\"], [0.2222222222222222, \"#7201a8\"], [0.3333333333333333, \"#9c179e\"], [0.4444444444444444, \"#bd3786\"], [0.5555555555555556, \"#d8576b\"], [0.6666666666666666, \"#ed7953\"], [0.7777777777777778, \"#fb9f3a\"], [0.8888888888888888, \"#fdca26\"], [1.0, \"#f0f921\"]], \"type\": \"histogram2dcontour\"}], \"mesh3d\": [{\"colorbar\": {\"outlinewidth\": 0, \"ticks\": \"\"}, \"type\": \"mesh3d\"}], \"parcoords\": [{\"line\": {\"colorbar\": {\"outlinewidth\": 0, \"ticks\": \"\"}}, \"type\": \"parcoords\"}], \"pie\": [{\"automargin\": true, \"type\": \"pie\"}], \"scatter\": [{\"marker\": {\"colorbar\": {\"outlinewidth\": 0, \"ticks\": \"\"}}, \"type\": \"scatter\"}], \"scatter3d\": [{\"line\": {\"colorbar\": {\"outlinewidth\": 0, \"ticks\": \"\"}}, \"marker\": {\"colorbar\": {\"outlinewidth\": 0, \"ticks\": \"\"}}, \"type\": \"scatter3d\"}], \"scattercarpet\": [{\"marker\": {\"colorbar\": {\"outlinewidth\": 0, \"ticks\": \"\"}}, \"type\": \"scattercarpet\"}], \"scattergeo\": [{\"marker\": {\"colorbar\": {\"outlinewidth\": 0, \"ticks\": \"\"}}, \"type\": \"scattergeo\"}], \"scattergl\": [{\"marker\": {\"colorbar\": {\"outlinewidth\": 0, \"ticks\": \"\"}}, \"type\": \"scattergl\"}], \"scattermapbox\": [{\"marker\": {\"colorbar\": {\"outlinewidth\": 0, \"ticks\": \"\"}}, \"type\": \"scattermapbox\"}], \"scatterpolar\": [{\"marker\": {\"colorbar\": {\"outlinewidth\": 0, \"ticks\": \"\"}}, \"type\": \"scatterpolar\"}], \"scatterpolargl\": [{\"marker\": {\"colorbar\": {\"outlinewidth\": 0, \"ticks\": \"\"}}, \"type\": \"scatterpolargl\"}], \"scatterternary\": [{\"marker\": {\"colorbar\": {\"outlinewidth\": 0, \"ticks\": \"\"}}, \"type\": \"scatterternary\"}], \"surface\": [{\"colorbar\": {\"outlinewidth\": 0, \"ticks\": \"\"}, \"colorscale\": [[0.0, \"#0d0887\"], [0.1111111111111111, \"#46039f\"], [0.2222222222222222, \"#7201a8\"], [0.3333333333333333, \"#9c179e\"], [0.4444444444444444, \"#bd3786\"], [0.5555555555555556, \"#d8576b\"], [0.6666666666666666, \"#ed7953\"], [0.7777777777777778, \"#fb9f3a\"], [0.8888888888888888, \"#fdca26\"], [1.0, \"#f0f921\"]], \"type\": \"surface\"}], \"table\": [{\"cells\": {\"fill\": {\"color\": \"#EBF0F8\"}, \"line\": {\"color\": \"white\"}}, \"header\": {\"fill\": {\"color\": \"#C8D4E3\"}, \"line\": {\"color\": \"white\"}}, \"type\": \"table\"}]}, \"layout\": {\"annotationdefaults\": {\"arrowcolor\": \"#2a3f5f\", \"arrowhead\": 0, \"arrowwidth\": 1}, \"coloraxis\": {\"colorbar\": {\"outlinewidth\": 0, \"ticks\": \"\"}}, \"colorscale\": {\"diverging\": [[0, \"#8e0152\"], [0.1, \"#c51b7d\"], [0.2, \"#de77ae\"], [0.3, \"#f1b6da\"], [0.4, \"#fde0ef\"], [0.5, \"#f7f7f7\"], [0.6, \"#e6f5d0\"], [0.7, \"#b8e186\"], [0.8, \"#7fbc41\"], [0.9, \"#4d9221\"], [1, \"#276419\"]], \"sequential\": [[0.0, \"#0d0887\"], [0.1111111111111111, \"#46039f\"], [0.2222222222222222, \"#7201a8\"], [0.3333333333333333, \"#9c179e\"], [0.4444444444444444, \"#bd3786\"], [0.5555555555555556, \"#d8576b\"], [0.6666666666666666, \"#ed7953\"], [0.7777777777777778, \"#fb9f3a\"], [0.8888888888888888, \"#fdca26\"], [1.0, \"#f0f921\"]], \"sequentialminus\": [[0.0, \"#0d0887\"], [0.1111111111111111, \"#46039f\"], [0.2222222222222222, \"#7201a8\"], [0.3333333333333333, \"#9c179e\"], [0.4444444444444444, \"#bd3786\"], [0.5555555555555556, \"#d8576b\"], [0.6666666666666666, \"#ed7953\"], [0.7777777777777778, \"#fb9f3a\"], [0.8888888888888888, \"#fdca26\"], [1.0, \"#f0f921\"]]}, \"colorway\": [\"#636efa\", \"#EF553B\", \"#00cc96\", \"#ab63fa\", \"#FFA15A\", \"#19d3f3\", \"#FF6692\", \"#B6E880\", \"#FF97FF\", \"#FECB52\"], \"font\": {\"color\": \"#2a3f5f\"}, \"geo\": {\"bgcolor\": \"white\", \"lakecolor\": \"white\", \"landcolor\": \"#E5ECF6\", \"showlakes\": true, \"showland\": true, \"subunitcolor\": \"white\"}, \"hoverlabel\": {\"align\": \"left\"}, \"hovermode\": \"closest\", \"mapbox\": {\"style\": \"light\"}, \"paper_bgcolor\": \"white\", \"plot_bgcolor\": \"#E5ECF6\", \"polar\": {\"angularaxis\": {\"gridcolor\": \"white\", \"linecolor\": \"white\", \"ticks\": \"\"}, \"bgcolor\": \"#E5ECF6\", \"radialaxis\": {\"gridcolor\": \"white\", \"linecolor\": \"white\", \"ticks\": \"\"}}, \"scene\": {\"xaxis\": {\"backgroundcolor\": \"#E5ECF6\", \"gridcolor\": \"white\", \"gridwidth\": 2, \"linecolor\": \"white\", \"showbackground\": true, \"ticks\": \"\", \"zerolinecolor\": \"white\"}, \"yaxis\": {\"backgroundcolor\": \"#E5ECF6\", \"gridcolor\": \"white\", \"gridwidth\": 2, \"linecolor\": \"white\", \"showbackground\": true, \"ticks\": \"\", \"zerolinecolor\": \"white\"}, \"zaxis\": {\"backgroundcolor\": \"#E5ECF6\", \"gridcolor\": \"white\", \"gridwidth\": 2, \"linecolor\": \"white\", \"showbackground\": true, \"ticks\": \"\", \"zerolinecolor\": \"white\"}}, \"shapedefaults\": {\"line\": {\"color\": \"#2a3f5f\"}}, \"ternary\": {\"aaxis\": {\"gridcolor\": \"white\", \"linecolor\": \"white\", \"ticks\": \"\"}, \"baxis\": {\"gridcolor\": \"white\", \"linecolor\": \"white\", \"ticks\": \"\"}, \"bgcolor\": \"#E5ECF6\", \"caxis\": {\"gridcolor\": \"white\", \"linecolor\": \"white\", \"ticks\": \"\"}}, \"title\": {\"x\": 0.05}, \"xaxis\": {\"automargin\": true, \"gridcolor\": \"white\", \"linecolor\": \"white\", \"ticks\": \"\", \"title\": {\"standoff\": 15}, \"zerolinecolor\": \"white\", \"zerolinewidth\": 2}, \"yaxis\": {\"automargin\": true, \"gridcolor\": \"white\", \"linecolor\": \"white\", \"ticks\": \"\", \"title\": {\"standoff\": 15}, \"zerolinecolor\": \"white\", \"zerolinewidth\": 2}}}, \"title\": {\"text\": \"Frequency of Elevator Calls by Time\"}, \"updatemenus\": [{\"buttons\": [{\"args\": [null, {\"frame\": {\"duration\": 500, \"redraw\": true}, \"fromcurrent\": true, \"mode\": \"immediate\", \"transition\": {\"duration\": 500, \"easing\": \"linear\"}}], \"label\": \"&#9654;\", \"method\": \"animate\"}, {\"args\": [[null], {\"frame\": {\"duration\": 0, \"redraw\": true}, \"fromcurrent\": true, \"mode\": \"immediate\", \"transition\": {\"duration\": 0, \"easing\": \"linear\"}}], \"label\": \"&#9724;\", \"method\": \"animate\"}], \"direction\": \"left\", \"pad\": {\"r\": 10, \"t\": 70}, \"showactive\": false, \"type\": \"buttons\", \"x\": 0.1, \"xanchor\": \"right\", \"y\": 0, \"yanchor\": \"top\"}], \"xaxis\": {\"anchor\": \"y\", \"categoryarray\": [0, 24], \"domain\": [0.0, 0.49], \"nticks\": 19, \"title\": {\"text\": \"Local Time (GMT+8)\"}, \"type\": \"category\"}, \"xaxis2\": {\"anchor\": \"y2\", \"categoryarray\": [0, 24], \"domain\": [0.51, 1.0], \"matches\": \"x\", \"nticks\": 19, \"title\": {\"text\": \"Local Time (GMT+8)\"}, \"type\": \"category\"}, \"yaxis\": {\"anchor\": \"x\", \"domain\": [0.0, 1.0], \"range\": [0, 1000], \"title\": {\"text\": \"sec\"}}, \"yaxis2\": {\"anchor\": \"x2\", \"domain\": [0.0, 1.0], \"matches\": \"y\", \"range\": [0, 1000], \"showticklabels\": false}},\n",
       "                        {\"responsive\": true}\n",
       "                    ).then(function(){\n",
       "                            Plotly.addFrames('5cef2e68-f13e-4cb2-a55d-7e98a3afe320', [{\"data\": [{\"alignmentgroup\": \"True\", \"hovertemplate\": \"direction=up<br>floor=B4<br>Local Time (GMT+8)=%{x}<br>sec=%{y}<extra></extra>\", \"legendgroup\": \"up\", \"marker\": {\"color\": \"#636efa\"}, \"name\": \"up\", \"offsetgroup\": \"up\", \"orientation\": \"v\", \"showlegend\": true, \"textposition\": \"auto\", \"x\": [0, 1, 2, 3, 4, 5, 6, 7, 8, 9, 10, 11, 12, 13, 14, 15, 16, 17, 18, 19, 20, 21, 22, 23, 0, 3, 4, 5, 6, 7, 8, 9, 10, 11, 12, 13, 14, 15, 16, 17, 18, 19, 20, 21, 22, 23], \"xaxis\": \"x\", \"y\": [13.54285714, 3.435, 20.2575, 21.478, 6.17, 14.74583333, 24.82973333, 32.40641791, 30.08351779, 31.82159624, 34.1715859, 49.02057613, 48.67666667, 43.59296296, 32.46376984, 35.87952381, 34.2713834, 40.27939394, 31.82266667, 26.47895833, 21.43890625, 21.42745455, 12.7225, 27.55888889, 26.941999999999997, 16.39, 28.635, 12.7575, 19.75538462, 22.85197368, 23.99532468, 33.22894118, 28.28465517, 34.62672727, 46.81163636, 30.92638889, 33.808701299999996, 34.5835, 33.61045977, 43.48176471, 42.754, 26.232, 19.25666667, 16.28423077, 56.62, 15.01], \"yaxis\": \"y\", \"type\": \"bar\"}], \"name\": \"B4\"}, {\"data\": [{\"alignmentgroup\": \"True\", \"hovertemplate\": \"direction=up<br>floor=B3<br>Local Time (GMT+8)=%{x}<br>sec=%{y}<extra></extra>\", \"legendgroup\": \"up\", \"marker\": {\"color\": \"#636efa\"}, \"name\": \"up\", \"offsetgroup\": \"up\", \"orientation\": \"v\", \"showlegend\": true, \"textposition\": \"auto\", \"x\": [0, 1, 4, 5, 6, 7, 8, 9, 10, 11, 12, 13, 14, 15, 16, 17, 18, 19, 20, 21, 22, 23, 1, 5, 6, 7, 8, 9, 10, 11, 12, 13, 14, 15, 16, 17, 18, 19, 20, 21, 22, 23], \"xaxis\": \"x\", \"y\": [14.26, 8.81, 13.16, 15.06, 13.83535714, 19.91534392, 20.17243243, 18.43597015, 20.58682243, 21.71535088, 27.95846847, 22.53537634, 21.90603774, 16.150990099999998, 19.57567568, 19.60731343, 20.53404762, 34.61463415, 29.92285714, 20.07733333, 18.15222222, 16.64, 4.85, 17.405, 11.30875, 15.46875, 20.32489796, 30.1795, 20.72709677, 23.62323529, 14.96952381, 28.96034483, 16.54736842, 18.515, 19.44448276, 24.774, 27.47125, 40.80555556, 32.708, 15.56583333, 13.47333333, 13.5725], \"yaxis\": \"y\", \"type\": \"bar\"}, {\"alignmentgroup\": \"True\", \"hovertemplate\": \"direction=down<br>floor=B3<br>Local Time (GMT+8)=%{x}<br>sec=%{y}<extra></extra>\", \"legendgroup\": \"down\", \"marker\": {\"color\": \"#EF553B\"}, \"name\": \"down\", \"offsetgroup\": \"down\", \"orientation\": \"v\", \"showlegend\": true, \"textposition\": \"auto\", \"x\": [6, 7, 8, 9, 10, 11, 12, 13, 14, 15, 16, 17, 18, 19, 21, 22, 0, 7, 8, 9, 10, 11, 12, 13, 14, 15, 16, 17, 19, 21, 22], \"xaxis\": \"x2\", \"y\": [11.72, 22.58, 30.31272727, 42.51071429, 25.10037037, 36.19391304, 22.92956522, 18.629, 23.7655, 21.84884615, 18.58392857, 33.78166667, 25.26, 56.8, 53.66333333, 20.1, 12.37, 46.65166667, 25.9175, 27.9525, 37.1475, 33.59444444, 39.9, 15.70125, 10.564, 18.16583333, 20.11666667, 2.93, 1.6, 12.93, 10.92333333], \"yaxis\": \"y2\", \"type\": \"bar\"}], \"name\": \"B3\"}, {\"data\": [{\"alignmentgroup\": \"True\", \"hovertemplate\": \"direction=up<br>floor=B1<br>Local Time (GMT+8)=%{x}<br>sec=%{y}<extra></extra>\", \"legendgroup\": \"up\", \"marker\": {\"color\": \"#636efa\"}, \"name\": \"up\", \"offsetgroup\": \"up\", \"orientation\": \"v\", \"showlegend\": true, \"textposition\": \"auto\", \"x\": [0, 1, 2, 3, 4, 5, 6, 7, 8, 9, 10, 11, 12, 13, 14, 15, 16, 17, 18, 19, 20, 21, 22, 23, 0, 1, 2, 3, 4, 5, 6, 7, 8, 9, 10, 11, 12, 13, 14, 15, 16, 17, 18, 19, 20, 21, 22, 23], \"xaxis\": \"x\", \"y\": [10.28657895, 7.592954545, 6.351818182000001, 9.102142857, 9.189473684, 7.678333332999999, 19.47764706, 26.18236715, 28.25829181, 26.97566462, 30.99402844, 28.9941483, 33.96481203, 27.07171598, 29.7032636, 29.27938215, 30.23877944, 34.59875686, 44.52363636, 43.256319700000006, 25.63469043, 18.96095679, 15.71271186, 15.38538012, 10.19882353, 4.301111111, 7.69, 5.175, 8.363846153999999, 8.445, 19.06653061, 24.83337553, 30.16720524, 24.32505208, 36.51318919, 46.30771429, 40.72053191, 30.8282967, 32.12968085, 32.82764706, 32.43352632, 39.46706731, 37.16336406, 35.8220283, 28.76087209, 17.54888889, 15.30038961, 23.09727273], \"yaxis\": \"y\", \"type\": \"bar\"}, {\"alignmentgroup\": \"True\", \"hovertemplate\": \"direction=down<br>floor=B1<br>Local Time (GMT+8)=%{x}<br>sec=%{y}<extra></extra>\", \"legendgroup\": \"down\", \"marker\": {\"color\": \"#EF553B\"}, \"name\": \"down\", \"offsetgroup\": \"down\", \"orientation\": \"v\", \"showlegend\": true, \"textposition\": \"auto\", \"x\": [0, 1, 3, 6, 7, 8, 9, 10, 11, 12, 13, 14, 15, 16, 17, 18, 19, 20, 21, 22, 23, 0, 1, 2, 6, 7, 8, 9, 10, 11, 12, 13, 14, 15, 16, 17, 18, 19, 20, 21, 22, 23], \"xaxis\": \"x2\", \"y\": [11.775, 10.204, 1.21, 31.29852941, 28.96854839, 25.05783133, 21.0788764, 24.15363636, 25.9253271, 23.603387100000003, 25.245530300000002, 22.07666667, 20.39195122, 17.15445378, 28.58122642, 29.318, 28.00276923, 22.27, 22.42967742, 14.00636364, 8.802222222000001, 15.675, 9.036666667, 7.49, 35.47272727, 23.61565217, 23.50296296, 23.29592593, 27.13862069, 23.08146341, 33.85375, 25.32769231, 19.88689655, 17.98482759, 26.68607143, 25.99064516, 24.48576923, 16.37916667, 28.83846154, 13.55166667, 20.531999999999996, 28.19], \"yaxis\": \"y2\", \"type\": \"bar\"}], \"name\": \"B1\"}, {\"data\": [{\"alignmentgroup\": \"True\", \"hovertemplate\": \"direction=down<br>floor=15<br>Local Time (GMT+8)=%{x}<br>sec=%{y}<extra></extra>\", \"legendgroup\": \"down\", \"marker\": {\"color\": \"#EF553B\"}, \"name\": \"down\", \"offsetgroup\": \"down\", \"orientation\": \"v\", \"showlegend\": true, \"textposition\": \"auto\", \"x\": [0, 1, 3, 5, 6, 7, 8, 9, 10, 11, 12, 13, 14, 15, 16, 17, 18, 19, 20, 21, 22, 23, 0, 1, 2, 3, 5, 6, 7, 8, 9, 10, 11, 12, 13, 14, 15, 16, 17, 18, 19, 20, 21, 22, 23], \"xaxis\": \"x2\", \"y\": [24.1675, 18.51384615, 11.755, 27.57333333, 30.40777778, 50.59324324, 54.88721311, 80.90065789, 78.43833333, 77.81405941, 81.15102703, 79.45678322, 74.46777778, 77.34607595, 74.27364583, 73.46947115, 56.42613861, 52.25733333, 43.96684211, 36.65133333, 29.85708333, 24.7204, 26.04933333, 22.3125, 0.855, 15.19, 21.435, 51.94666667, 46.77363636, 53.82041667, 75.68046512, 77.18, 85.79890625, 81.42979592, 65.7, 51.71056604, 72.98490909, 65.78455882, 67.96459016, 68.21710526, 56.09388889, 43.4825, 50.26416667, 40.68428571, 24.32625], \"yaxis\": \"y2\", \"type\": \"bar\"}], \"name\": \"15\"}, {\"data\": [{\"alignmentgroup\": \"True\", \"hovertemplate\": \"direction=up<br>floor=14<br>Local Time (GMT+8)=%{x}<br>sec=%{y}<extra></extra>\", \"legendgroup\": \"up\", \"marker\": {\"color\": \"#636efa\"}, \"name\": \"up\", \"offsetgroup\": \"up\", \"orientation\": \"v\", \"showlegend\": true, \"textposition\": \"auto\", \"x\": [0, 1, 3, 5, 6, 7, 8, 9, 10, 11, 12, 13, 14, 15, 16, 17, 18, 19, 20, 21, 22, 23, 1, 6, 7, 8, 9, 10, 11, 12, 13, 14, 15, 16, 17, 18, 19, 20, 21, 22], \"xaxis\": \"x\", \"y\": [26.065, 43.53, 15.48, 28.53, 38.9175, 53.299, 63.59923077, 82.90636364, 120.40571429999999, 65.49533333, 76.56933333, 95.06, 105.20333329999998, 73.85333333, 108.57333329999999, 124.52083329999999, 74.54666667, 59.45, 35.056, 38.55538462, 24.955, 22.23, 24.22, 30.395, 89.15, 68.954, 72.98, 13.01, 41.65333333, 264.43, 127.086, 17.42333333, 82.2125, 95.82857143, 90.21, 40.665, 19.455, 36.83, 35.1025, 29.355], \"yaxis\": \"y\", \"type\": \"bar\"}, {\"alignmentgroup\": \"True\", \"hovertemplate\": \"direction=down<br>floor=14<br>Local Time (GMT+8)=%{x}<br>sec=%{y}<extra></extra>\", \"legendgroup\": \"down\", \"marker\": {\"color\": \"#EF553B\"}, \"name\": \"down\", \"offsetgroup\": \"down\", \"orientation\": \"v\", \"showlegend\": true, \"textposition\": \"auto\", \"x\": [0, 1, 2, 3, 4, 5, 6, 7, 8, 9, 10, 11, 12, 13, 14, 15, 16, 17, 18, 19, 20, 21, 22, 23, 0, 1, 2, 3, 4, 5, 6, 7, 8, 9, 10, 11, 12, 13, 14, 15, 16, 17, 18, 19, 20, 21, 22, 23], \"xaxis\": \"x2\", \"y\": [25.31118644, 18.54958904, 18.91521739, 18.72785714, 14.42416667, 20.13511111, 32.30084507, 46.19707865, 55.02916968, 57.86033639, 61.85969492, 65.99817109, 56.40991525, 66.39167183, 66.90239344, 60.21380952, 60.32532353, 57.89131105, 67.28525907, 60.64501312, 45.709587299999995, 30.37207627, 23.79747368, 22.18972603, 13.70266667, 21.05264706, 11.46875, 18.034000000000002, 20.23777778, 14.37235294, 31.11540984, 49.95652632, 50.26238532, 58.00653226, 70.91282051, 61.2797479, 68.21093023, 62.14018182, 64.9666, 62.28697479, 61.44291971, 61.82482014, 58.16586207, 60.97168317, 43.4228, 30.06111111, 25.48189655, 13.07], \"yaxis\": \"y2\", \"type\": \"bar\"}], \"name\": \"14\"}, {\"data\": [{\"alignmentgroup\": \"True\", \"hovertemplate\": \"direction=up<br>floor=13<br>Local Time (GMT+8)=%{x}<br>sec=%{y}<extra></extra>\", \"legendgroup\": \"up\", \"marker\": {\"color\": \"#636efa\"}, \"name\": \"up\", \"offsetgroup\": \"up\", \"orientation\": \"v\", \"showlegend\": true, \"textposition\": \"auto\", \"x\": [0, 1, 2, 5, 6, 7, 8, 9, 10, 11, 12, 13, 14, 15, 16, 17, 18, 19, 20, 21, 22, 23, 0, 6, 7, 8, 9, 10, 11, 12, 13, 14, 15, 16, 17, 18, 19, 20, 21, 22], \"xaxis\": \"x\", \"y\": [13.355, 22.285, 18.95, 21.691999999999997, 32.80071429, 38.72545455, 51.92125, 65.93875, 50.19272727, 38.76516129, 82.04, 45.36952381, 71.12, 28.94066667, 33.88583333, 60.67411765, 55.132, 39.76384615, 56.98285714, 21.35, 7.62, 23.56, 32.78, 36.94, 31.43375, 69.74666667, 47.07428571, 49.542, 35.12428571, 63.5825, 37.66, 38.18666667, 64.41555556, 41.31399999999999, 48.98, 43.54333333, 39.094, 24.676, 33.99, 12.12], \"yaxis\": \"y\", \"type\": \"bar\"}, {\"alignmentgroup\": \"True\", \"hovertemplate\": \"direction=down<br>floor=13<br>Local Time (GMT+8)=%{x}<br>sec=%{y}<extra></extra>\", \"legendgroup\": \"down\", \"marker\": {\"color\": \"#EF553B\"}, \"name\": \"down\", \"offsetgroup\": \"down\", \"orientation\": \"v\", \"showlegend\": true, \"textposition\": \"auto\", \"x\": [0, 1, 2, 3, 4, 5, 6, 7, 8, 9, 10, 11, 12, 13, 14, 15, 16, 17, 18, 19, 20, 21, 22, 23, 0, 1, 2, 3, 4, 5, 6, 7, 8, 9, 10, 11, 12, 13, 14, 15, 16, 17, 18, 19, 20, 21, 22, 23], \"xaxis\": \"x2\", \"y\": [19.11021739, 12.33333333, 15.69214286, 16.22555556, 16.9595, 17.36139535, 20.12730994, 27.63387454, 25.12909375, 27.16094801, 28.24836237, 34.95441261, 33.63287709, 28.48062893, 26.33547855, 26.75651316, 28.74621849, 32.54225974, 24.5861828, 24.89744745, 19.91897059, 16.53364486, 18.24455285, 14.45054795, 18.21777778, 11.08857143, 11.005999999999998, 15.24857143, 13.58, 22.74692308, 22.58108696, 22.23474747, 25.88580357, 29.30675, 24.50474138, 35.3712963, 31.32048544, 30.83021053, 27.95771654, 22.01963235, 27.31515625, 24.71957447, 21.31292308, 22.40844037, 19.10088235, 17.02859155, 19.37897959, 10.3052], \"yaxis\": \"y2\", \"type\": \"bar\"}], \"name\": \"13\"}, {\"data\": [{\"alignmentgroup\": \"True\", \"hovertemplate\": \"direction=up<br>floor=12<br>Local Time (GMT+8)=%{x}<br>sec=%{y}<extra></extra>\", \"legendgroup\": \"up\", \"marker\": {\"color\": \"#636efa\"}, \"name\": \"up\", \"offsetgroup\": \"up\", \"orientation\": \"v\", \"showlegend\": true, \"textposition\": \"auto\", \"x\": [0, 1, 3, 5, 6, 7, 8, 9, 10, 11, 12, 13, 14, 15, 16, 17, 18, 19, 20, 21, 22, 23, 6, 7, 8, 9, 10, 11, 12, 13, 14, 15, 16, 17, 18, 19, 20, 21, 22, 23], \"xaxis\": \"x\", \"y\": [21.81333333, 10.975, 12.55, 9.35, 45.04428571, 41.51333333, 56.79, 39.74538462, 37.64633333, 60.13380952, 55.82, 61.32857143, 34.89782609, 27.82363636, 47.16095238, 41.29777778, 41.685, 42.47083333, 67.63416667, 40.165, 13.06857143, 14.852, 12.54, 56.9, 33.87833333, 33.79333333, 52.669, 56.84733333, 45.23888889, 25.22333333, 38.18888889, 50.94428571, 78.4975, 24.735, 44.24, 31.022, 28.695, 33.85, 19.505, 20.48], \"yaxis\": \"y\", \"type\": \"bar\"}, {\"alignmentgroup\": \"True\", \"hovertemplate\": \"direction=down<br>floor=12<br>Local Time (GMT+8)=%{x}<br>sec=%{y}<extra></extra>\", \"legendgroup\": \"down\", \"marker\": {\"color\": \"#EF553B\"}, \"name\": \"down\", \"offsetgroup\": \"down\", \"orientation\": \"v\", \"showlegend\": true, \"textposition\": \"auto\", \"x\": [0, 1, 2, 3, 4, 5, 6, 7, 8, 9, 10, 11, 12, 13, 14, 15, 16, 17, 18, 19, 20, 21, 22, 23, 0, 1, 2, 3, 4, 5, 6, 7, 8, 9, 10, 11, 12, 13, 14, 15, 16, 17, 18, 19, 20, 21, 22, 23], \"xaxis\": \"x2\", \"y\": [17.05585366, 19.85133333, 16.43, 18.740625, 17.96111111, 15.0152459, 22.43213675, 22.22938628, 20.93503425, 19.07154639, 16.43317518, 18.70092063, 17.24123596, 19.80119318, 18.28167192, 19.24252427, 18.953, 14.60273657, 16.32425743, 18.14810726, 18.57537931, 14.39316832, 18.96982759, 16.21826087, 13.81192308, 18.78304348, 14.25944444, 16.055, 18.19555556, 22.66111111, 22.0185, 22.04909091, 19.75875, 14.47108911, 17.69482456, 16.57423358, 18.82663636, 15.06217391, 17.31035714, 18.65747967, 18.680999999999997, 19.32189873, 16.13294574, 18.08661017, 13.075999999999999, 17.78920635, 12.43272727, 19.358], \"yaxis\": \"y2\", \"type\": \"bar\"}], \"name\": \"12\"}, {\"data\": [{\"alignmentgroup\": \"True\", \"hovertemplate\": \"direction=up<br>floor=11<br>Local Time (GMT+8)=%{x}<br>sec=%{y}<extra></extra>\", \"legendgroup\": \"up\", \"marker\": {\"color\": \"#636efa\"}, \"name\": \"up\", \"offsetgroup\": \"up\", \"orientation\": \"v\", \"showlegend\": true, \"textposition\": \"auto\", \"x\": [0, 3, 5, 6, 7, 8, 9, 10, 11, 12, 13, 14, 15, 16, 17, 18, 19, 20, 21, 22, 23, 2, 7, 8, 9, 10, 11, 12, 13, 14, 15, 16, 17, 18, 19, 20, 21], \"xaxis\": \"x\", \"y\": [31.22, 17.43, 15.34, 50.43666667, 56.35153846, 87.75, 48.53125, 22.76692308, 43.66769231, 47.2825, 40.21210526, 38.48875, 38.58833333, 46.68058824, 53.33571429, 60.48166667, 37.16888889, 23.39555556, 41.934, 23.47166667, 20.0475, 23.91, 89.495, 69.915, 38.84125, 23.13, 65.12461538, 56.56142857, 76.47307692, 59.646, 72.555, 39.24, 40.0925, 43.513999999999996, 42.485, 76.64, 19.0], \"yaxis\": \"y\", \"type\": \"bar\"}, {\"alignmentgroup\": \"True\", \"hovertemplate\": \"direction=down<br>floor=11<br>Local Time (GMT+8)=%{x}<br>sec=%{y}<extra></extra>\", \"legendgroup\": \"down\", \"marker\": {\"color\": \"#EF553B\"}, \"name\": \"down\", \"offsetgroup\": \"down\", \"orientation\": \"v\", \"showlegend\": true, \"textposition\": \"auto\", \"x\": [0, 1, 2, 3, 4, 5, 6, 7, 8, 9, 10, 11, 12, 13, 14, 15, 16, 17, 18, 19, 20, 21, 22, 23, 0, 1, 2, 3, 4, 5, 6, 7, 8, 9, 10, 11, 12, 13, 14, 15, 16, 17, 18, 19, 20, 21, 22, 23], \"xaxis\": \"x2\", \"y\": [15.82484375, 19.3175, 18.86933333, 19.49666667, 16.97833333, 15.74191489, 20.06993548, 17.44232975, 15.76152905, 14.76299003, 15.36433447, 14.025448499999998, 12.78285256, 12.92865031, 15.08414894, 15.20768116, 13.86175896, 13.7068595, 13.27431635, 16.04068323, 16.37824324, 15.38950226, 16.8965035, 17.79866667, 19.80846154, 22.58333333, 15.79333333, 9.44, 13.65333333, 10.78230769, 19.10018868, 19.86329787, 15.65677419, 16.49480769, 15.91469027, 13.86369748, 12.38309735, 14.563125, 13.79117647, 15.30295455, 14.35774194, 12.02503226, 15.64328358, 16.20106557, 16.15098039, 13.85474747, 16.667, 14.03305556], \"yaxis\": \"y2\", \"type\": \"bar\"}], \"name\": \"11\"}, {\"data\": [{\"alignmentgroup\": \"True\", \"hovertemplate\": \"direction=up<br>floor=10<br>Local Time (GMT+8)=%{x}<br>sec=%{y}<extra></extra>\", \"legendgroup\": \"up\", \"marker\": {\"color\": \"#636efa\"}, \"name\": \"up\", \"offsetgroup\": \"up\", \"orientation\": \"v\", \"showlegend\": true, \"textposition\": \"auto\", \"x\": [6, 7, 8, 9, 10, 11, 12, 13, 14, 15, 16, 17, 18, 19, 20, 21, 22, 2, 7, 8, 9, 11, 12, 13, 14, 15, 16, 17, 18, 19, 22], \"xaxis\": \"x\", \"y\": [56.13, 62.675, 50.64428571, 81.76333333, 45.78551724, 49.4708, 55.22916667, 45.257, 97.97, 54.275, 49.30206897, 45.53444444, 76.123, 59.80529412, 60.94333333, 20.885, 6.696666667000001, 1.29, 217.91, 73.14, 164.7333333, 44.48, 68.7, 41.17125, 103.7714286, 35.51285714, 45.12692308, 53.60444444, 217.895, 24.46, 21.79], \"yaxis\": \"y\", \"type\": \"bar\"}, {\"alignmentgroup\": \"True\", \"hovertemplate\": \"direction=down<br>floor=10<br>Local Time (GMT+8)=%{x}<br>sec=%{y}<extra></extra>\", \"legendgroup\": \"down\", \"marker\": {\"color\": \"#EF553B\"}, \"name\": \"down\", \"offsetgroup\": \"down\", \"orientation\": \"v\", \"showlegend\": true, \"textposition\": \"auto\", \"x\": [0, 1, 2, 3, 4, 5, 7, 8, 9, 10, 11, 12, 13, 14, 15, 16, 17, 18, 19, 20, 21, 22, 23, 0, 1, 2, 3, 4, 7, 8, 9, 10, 11, 12, 13, 14, 15, 16, 17, 18, 19, 20, 21, 22, 23], \"xaxis\": \"x2\", \"y\": [9.605714286, 11.16, 18.24, 14.29666667, 6.886666667, 6.766666667000001, 16.54090909, 12.82487805, 12.38146341, 11.08622378, 12.4034375, 10.90515152, 13.70944882, 10.91760274, 11.80709877, 11.22534722, 11.09888268, 13.21192308, 9.386145832999999, 12.11272727, 17.70148148, 13.01421053, 14.46, 0.975, 6.41, 16.8, 17.71, 1.245, 15.1875, 13.20263158, 10.63521739, 10.01035714, 11.413125, 10.81060606, 10.62512821, 8.495, 10.37196078, 12.59648148, 9.725294117999999, 15.70129032, 10.46076923, 14.9425, 13.20333333, 23.2175, 9.872], \"yaxis\": \"y2\", \"type\": \"bar\"}], \"name\": \"10\"}, {\"data\": [{\"alignmentgroup\": \"True\", \"hovertemplate\": \"direction=up<br>floor=9<br>Local Time (GMT+8)=%{x}<br>sec=%{y}<extra></extra>\", \"legendgroup\": \"up\", \"marker\": {\"color\": \"#636efa\"}, \"name\": \"up\", \"offsetgroup\": \"up\", \"orientation\": \"v\", \"showlegend\": true, \"textposition\": \"auto\", \"x\": [0, 1, 2, 3, 5, 6, 7, 8, 9, 10, 11, 12, 13, 14, 15, 16, 17, 18, 19, 20, 21, 22, 23, 0, 5, 6, 7, 8, 9, 10, 11, 12, 13, 14, 15, 16, 17, 18, 19, 20, 21, 22], \"xaxis\": \"x\", \"y\": [35.39, 14.155, 16.85, 11.01, 16.77, 28.95, 39.35578947, 56.09391304, 72.303, 65.78346154, 58.41840909, 48.34892857, 51.2504, 43.582, 42.28744681, 48.39352941, 59.38368421, 52.2526087, 99.1375, 42.305625, 27.555, 18.9725, 9.16, 39.71, 12.205, 47.65, 51.16823529, 66.97857143, 37.09111111, 38.04133333, 56.51285714, 36.448, 27.52785714, 78.77466667, 37.09571429, 55.7032, 49.930625, 67.55, 64.01666667, 44.53333333, 17.808, 39.084], \"yaxis\": \"y\", \"type\": \"bar\"}, {\"alignmentgroup\": \"True\", \"hovertemplate\": \"direction=down<br>floor=9<br>Local Time (GMT+8)=%{x}<br>sec=%{y}<extra></extra>\", \"legendgroup\": \"down\", \"marker\": {\"color\": \"#EF553B\"}, \"name\": \"down\", \"offsetgroup\": \"down\", \"orientation\": \"v\", \"showlegend\": true, \"textposition\": \"auto\", \"x\": [0, 1, 2, 3, 4, 5, 6, 7, 8, 9, 10, 11, 12, 13, 14, 15, 16, 17, 18, 19, 20, 21, 22, 23, 0, 1, 2, 3, 4, 5, 6, 7, 8, 9, 10, 11, 12, 13, 14, 15, 16, 17, 18, 19, 20, 21, 22, 23], \"xaxis\": \"x2\", \"y\": [17.36852941, 14.52883333, 14.6125, 22.82714286, 15.61222222, 16.51724138, 16.45621359, 16.08915612, 14.61520548, 12.49076412, 11.77430556, 12.3802649, 11.94447712, 13.24744027, 13.49208754, 12.02182724, 13.084625, 10.88948787, 11.50292308, 13.03622478, 15.55846939, 14.47578755, 17.52858333, 18.21734694, 15.99545455, 17.541875, 9.36, 5.17, 16.97571429, 12.64, 17.44488372, 17.46027778, 16.95798165, 15.77116071, 13.33504, 11.12429825, 13.839495800000002, 15.11828283, 12.12155963, 13.66833333, 11.21832215, 11.585, 12.92632353, 14.11630252, 15.12495146, 13.62272727, 17.68666667, 18.34545455], \"yaxis\": \"y2\", \"type\": \"bar\"}], \"name\": \"9\"}, {\"data\": [{\"alignmentgroup\": \"True\", \"hovertemplate\": \"direction=up<br>floor=8<br>Local Time (GMT+8)=%{x}<br>sec=%{y}<extra></extra>\", \"legendgroup\": \"up\", \"marker\": {\"color\": \"#636efa\"}, \"name\": \"up\", \"offsetgroup\": \"up\", \"orientation\": \"v\", \"showlegend\": true, \"textposition\": \"auto\", \"x\": [0, 1, 5, 6, 7, 8, 9, 10, 11, 12, 13, 14, 15, 16, 17, 18, 19, 20, 21, 22, 23, 1, 5, 6, 7, 8, 9, 10, 11, 12, 13, 14, 15, 16, 17, 18, 19, 20, 22, 23], \"xaxis\": \"x\", \"y\": [15.98, 18.1625, 16.32, 36.99, 36.41380952, 72.46166667, 67.49621622, 54.761, 50.23160714, 46.87555556, 60.61282051, 62.34644068, 51.44793651, 53.43063492, 53.22464286, 47.1832, 69.84, 46.16555556, 37.94583333, 16.97, 47.77, 34.7, 24.76, 45.48166667, 37.96777778, 82.366, 56.76222222, 69.048125, 73.61399999999999, 56.07727273, 52.3575, 53.10210526, 47.93318182, 52.22533333, 58.95444444, 47.36666667, 72.53428571, 29.781999999999996, 32.53, 34.71], \"yaxis\": \"y\", \"type\": \"bar\"}, {\"alignmentgroup\": \"True\", \"hovertemplate\": \"direction=down<br>floor=8<br>Local Time (GMT+8)=%{x}<br>sec=%{y}<extra></extra>\", \"legendgroup\": \"down\", \"marker\": {\"color\": \"#EF553B\"}, \"name\": \"down\", \"offsetgroup\": \"down\", \"orientation\": \"v\", \"showlegend\": true, \"textposition\": \"auto\", \"x\": [0, 1, 2, 3, 4, 5, 6, 7, 8, 9, 10, 11, 12, 13, 14, 15, 16, 17, 18, 19, 20, 21, 22, 23, 0, 1, 2, 3, 4, 5, 6, 7, 8, 9, 10, 11, 12, 13, 14, 15, 16, 17, 18, 19, 20, 21, 22, 23], \"xaxis\": \"x2\", \"y\": [16.39051471, 14.85595238, 15.09913043, 12.85333333, 16.33388889, 15.97366667, 18.77839744, 16.35487365, 13.11241983, 13.15844156, 11.67217105, 9.987006578999999, 11.61687307, 12.00620178, 12.00324759, 10.39535484, 9.812330623, 10.04880556, 12.13253133, 13.9447185, 14.59897297, 15.139000000000001, 16.39025, 17.28546667, 16.54847826, 17.686, 8.43625, 14.245, 10.19666667, 13.542, 14.37729167, 15.89489362, 14.07813084, 12.85796117, 12.24414063, 10.57735537, 11.72537037, 13.45281553, 11.20907216, 12.65015625, 11.78847222, 10.15561644, 10.99025, 13.01813953, 16.02241071, 15.95712644, 18.08246154, 12.0775], \"yaxis\": \"y2\", \"type\": \"bar\"}], \"name\": \"8\"}, {\"data\": [{\"alignmentgroup\": \"True\", \"hovertemplate\": \"direction=up<br>floor=7<br>Local Time (GMT+8)=%{x}<br>sec=%{y}<extra></extra>\", \"legendgroup\": \"up\", \"marker\": {\"color\": \"#636efa\"}, \"name\": \"up\", \"offsetgroup\": \"up\", \"orientation\": \"v\", \"showlegend\": true, \"textposition\": \"auto\", \"x\": [0, 1, 3, 4, 6, 7, 8, 9, 10, 11, 12, 13, 14, 15, 16, 17, 18, 19, 20, 21, 22, 23, 0, 1, 3, 5, 6, 7, 8, 9, 10, 11, 12, 13, 14, 15, 16, 17, 18, 19, 20, 21, 22, 23], \"xaxis\": \"x\", \"y\": [20.34833333, 12.7, 9.38, 14.7925, 7.438, 50.69862069, 64.17617647, 71.21574074, 53.16671642, 61.0715493, 69.27978723, 67.79828947, 66.76563636, 63.75333333, 78.83933333, 62.91493151, 62.71285714, 44.98175, 36.3368, 31.70882353, 20.70625, 14.40571429, 9.92, 14.405, 13.22, 36.25, 72.81, 87.22, 73.28727273, 60.69111111, 52.94863636, 57.13458333, 43.058387100000004, 92.0948, 48.02518519, 63.120625, 60.50578947, 95.2815, 63.59571429, 64.46, 38.70071429, 34.32375, 13.285, 18.33], \"yaxis\": \"y\", \"type\": \"bar\"}, {\"alignmentgroup\": \"True\", \"hovertemplate\": \"direction=down<br>floor=7<br>Local Time (GMT+8)=%{x}<br>sec=%{y}<extra></extra>\", \"legendgroup\": \"down\", \"marker\": {\"color\": \"#EF553B\"}, \"name\": \"down\", \"offsetgroup\": \"down\", \"orientation\": \"v\", \"showlegend\": true, \"textposition\": \"auto\", \"x\": [0, 1, 2, 3, 4, 5, 6, 7, 8, 9, 10, 11, 12, 13, 14, 15, 16, 17, 18, 19, 20, 21, 22, 23, 0, 1, 2, 3, 4, 5, 6, 7, 8, 9, 10, 11, 12, 13, 14, 15, 16, 17, 18, 19, 20, 21, 22, 23], \"xaxis\": \"x2\", \"y\": [13.27657143, 13.95048387, 16.93836735, 15.74322581, 13.53473684, 14.10964286, 15.8811413, 14.52095618, 12.50026217, 11.95281588, 10.69985965, 10.90224422, 10.85493671, 11.03775244, 11.86885246, 11.35462295, 10.08903904, 9.857471591, 10.70521053, 13.18874693, 13.93146154, 13.91429012, 14.16201149, 16.98634409, 15.69, 14.44833333, 12.72173913, 19.122, 13.5225, 13.42380952, 18.01526316, 16.77445783, 13.52308411, 12.06383929, 10.39646018, 10.44532258, 11.61345133, 13.54496063, 13.14948718, 10.95554622, 10.44028302, 10.624366199999999, 11.26133858, 13.73, 11.69354331, 14.48417391, 13.02338235, 17.05409091], \"yaxis\": \"y2\", \"type\": \"bar\"}], \"name\": \"7\"}, {\"data\": [{\"alignmentgroup\": \"True\", \"hovertemplate\": \"direction=up<br>floor=6<br>Local Time (GMT+8)=%{x}<br>sec=%{y}<extra></extra>\", \"legendgroup\": \"up\", \"marker\": {\"color\": \"#636efa\"}, \"name\": \"up\", \"offsetgroup\": \"up\", \"orientation\": \"v\", \"showlegend\": true, \"textposition\": \"auto\", \"x\": [0, 1, 2, 3, 4, 5, 6, 7, 8, 9, 10, 11, 12, 13, 14, 15, 16, 17, 18, 19, 20, 21, 22, 23, 0, 1, 2, 5, 6, 7, 8, 9, 10, 11, 12, 13, 14, 15, 16, 17, 18, 19, 20, 21, 22, 23], \"xaxis\": \"x\", \"y\": [12.99166667, 10.25, 9.34, 0.725, 9.5, 25.07, 38.51806452, 70.99287671, 59.75162791, 70.92916667, 77.38109589, 71.81855263, 76.69696429, 90.40340909, 78.14044444, 93.01814286, 59.93780822, 73.70109091, 60.66258065, 66.19464286, 40.463125, 37.91666667, 22.471999999999998, 25.69583333, 23.97, 22.605, 11.635, 48.01, 24.29909091, 58.30090909, 69.655, 62.60846154, 70.54095238, 64.55933333, 59.25428571, 70.62666667, 63.531000000000006, 76.47842105, 72.26565217, 66.87285714, 86.925, 40.65, 39.735, 41.67333333, 24.7725, 25.73833333], \"yaxis\": \"y\", \"type\": \"bar\"}, {\"alignmentgroup\": \"True\", \"hovertemplate\": \"direction=down<br>floor=6<br>Local Time (GMT+8)=%{x}<br>sec=%{y}<extra></extra>\", \"legendgroup\": \"down\", \"marker\": {\"color\": \"#EF553B\"}, \"name\": \"down\", \"offsetgroup\": \"down\", \"orientation\": \"v\", \"showlegend\": true, \"textposition\": \"auto\", \"x\": [0, 1, 2, 3, 4, 5, 6, 7, 8, 9, 10, 11, 12, 13, 14, 15, 16, 17, 18, 19, 20, 21, 22, 23, 0, 1, 2, 3, 4, 5, 6, 7, 8, 9, 10, 11, 12, 13, 14, 15, 16, 17, 18, 19, 20, 21, 22, 23], \"xaxis\": \"x2\", \"y\": [14.81029412, 13.84979592, 13.85736842, 12.49294118, 16.16086957, 14.44777778, 14.2208867, 13.49898785, 11.53106452, 10.98630225, 11.6958125, 10.91721805, 10.28398496, 10.28178988, 10.73014085, 9.753493151, 10.07396774, 10.21281046, 10.31134286, 12.14096096, 12.32697248, 14.73540541, 13.96805556, 13.28316456, 17.9844, 15.44857143, 16.12142857, 13.22818182, 15.10666667, 13.485, 14.03407895, 13.31049505, 13.02605263, 11.26925926, 11.51626168, 8.663333332999999, 9.1018, 12.93989796, 11.45653846, 12.27178295, 12.09854545, 9.884094487999999, 10.84112069, 11.30606838, 13.32392523, 13.37307692, 16.74480769, 23.12631579], \"yaxis\": \"y2\", \"type\": \"bar\"}], \"name\": \"6\"}, {\"data\": [{\"alignmentgroup\": \"True\", \"hovertemplate\": \"direction=up<br>floor=5<br>Local Time (GMT+8)=%{x}<br>sec=%{y}<extra></extra>\", \"legendgroup\": \"up\", \"marker\": {\"color\": \"#636efa\"}, \"name\": \"up\", \"offsetgroup\": \"up\", \"orientation\": \"v\", \"showlegend\": true, \"textposition\": \"auto\", \"x\": [0, 1, 2, 3, 4, 5, 6, 7, 8, 9, 10, 11, 12, 13, 14, 15, 16, 17, 18, 19, 20, 21, 22, 23, 0, 1, 2, 3, 4, 5, 6, 7, 8, 9, 10, 11, 12, 13, 14, 15, 16, 17, 18, 19, 20, 21, 22, 23], \"xaxis\": \"x\", \"y\": [19.2875, 10.44, 18.92666667, 10.37, 4.89, 14.07, 12.27466667, 11.04069767, 15.21020408, 11.32155844, 12.52386667, 12.883375, 10.46121622, 15.13309859, 11.3401, 16.38195122, 11.602020199999998, 11.9778481, 12.2825, 13.52134328, 11.45095238, 17.1845098, 11.75461538, 10.61533333, 21.405, 11.86, 1.61, 8.92, 21.04, 18.01, 8.6475, 14.9675, 12.60333333, 8.854444444, 11.515, 19.73444444, 12.19363636, 12.56305556, 11.41355556, 10.30527778, 11.07076923, 16.00666667, 13.543, 12.085625, 19.688, 10.175, 10.18, 7.98], \"yaxis\": \"y\", \"type\": \"bar\"}, {\"alignmentgroup\": \"True\", \"hovertemplate\": \"direction=down<br>floor=5<br>Local Time (GMT+8)=%{x}<br>sec=%{y}<extra></extra>\", \"legendgroup\": \"down\", \"marker\": {\"color\": \"#EF553B\"}, \"name\": \"down\", \"offsetgroup\": \"down\", \"orientation\": \"v\", \"showlegend\": true, \"textposition\": \"auto\", \"x\": [0, 1, 2, 3, 4, 5, 6, 7, 8, 9, 10, 11, 12, 13, 14, 15, 16, 17, 18, 19, 20, 21, 22, 23, 0, 1, 2, 3, 4, 5, 6, 7, 8, 9, 10, 11, 12, 13, 14, 15, 16, 17, 18, 19, 20, 21, 22, 23], \"xaxis\": \"x2\", \"y\": [15.17296296, 16.23422222, 14.48142857, 18.31384615, 14.34714286, 18.10266667, 27.56820513, 49.36166667, 46.58642857, 52.18089744, 46.76795652, 65.93203125, 61.51339535, 49.22449761, 51.60777293, 57.33867299, 52.51614458, 65.00578313, 53.88534884, 57.86894737, 39.05545455, 27.22987342, 21.75818182, 15.67484848, 13.46666667, 16.2508, 18.358, 11.95, 10.335, 20.155, 31.37766667, 51.39, 46.36412698, 51.12188406, 50.34611111, 49.74567568, 56.4392, 62.39484375, 40.79231884, 44.45666667, 43.06673684, 56.86035714, 49.83871429, 49.72597561, 32.24322034, 31.12666667, 23.92970588, 18.59266667], \"yaxis\": \"y2\", \"type\": \"bar\"}], \"name\": \"5\"}, {\"data\": [{\"alignmentgroup\": \"True\", \"hovertemplate\": \"direction=up<br>floor=4<br>Local Time (GMT+8)=%{x}<br>sec=%{y}<extra></extra>\", \"legendgroup\": \"up\", \"marker\": {\"color\": \"#636efa\"}, \"name\": \"up\", \"offsetgroup\": \"up\", \"orientation\": \"v\", \"showlegend\": true, \"textposition\": \"auto\", \"x\": [0, 1, 2, 3, 4, 5, 6, 7, 8, 9, 10, 11, 12, 13, 14, 15, 16, 17, 18, 19, 20, 21, 22, 23, 0, 1, 3, 4, 5, 7, 8, 9, 10, 11, 12, 13, 14, 15, 16, 17, 18, 19, 20, 21, 22, 23], \"xaxis\": \"x\", \"y\": [26.16833333, 23.63666667, 8.19, 15.93, 0.43, 23.605, 12.51214286, 9.6775, 10.54633333, 10.19552632, 11.18900901, 13.09392593, 9.921585366, 11.06293651, 10.4108125, 12.71112903, 10.8988806, 13.79443299, 11.9116, 9.3834375, 13.25789474, 13.36208333, 14.94071429, 12.130999999999998, 8.16, 10.2, 12.13, 1.47, 8.905, 12.255999999999998, 11.1462963, 12.62244444, 11.7484375, 11.96567568, 15.990625, 12.02322581, 11.62333333, 9.367878787999999, 11.59139535, 11.60444444, 15.35090909, 12.78666667, 16.71625, 13.975, 24.315, 15.365], \"yaxis\": \"y\", \"type\": \"bar\"}, {\"alignmentgroup\": \"True\", \"hovertemplate\": \"direction=down<br>floor=4<br>Local Time (GMT+8)=%{x}<br>sec=%{y}<extra></extra>\", \"legendgroup\": \"down\", \"marker\": {\"color\": \"#EF553B\"}, \"name\": \"down\", \"offsetgroup\": \"down\", \"orientation\": \"v\", \"showlegend\": true, \"textposition\": \"auto\", \"x\": [0, 1, 2, 3, 4, 5, 6, 7, 8, 9, 10, 11, 12, 13, 14, 15, 16, 17, 18, 19, 20, 21, 22, 23, 0, 1, 2, 3, 4, 5, 6, 7, 8, 9, 10, 11, 12, 13, 14, 15, 16, 17, 18, 19, 20, 21, 22, 23], \"xaxis\": \"x2\", \"y\": [16.95535135, 15.27857143, 12.56923077, 13.45, 8.011000000000001, 12.97428571, 22.40166667, 39.18066667, 43.94679348, 28.46373494, 25.95120482, 37.14823529, 36.59184874, 33.61414201, 36.83219409, 30.35223776, 30.14191882, 31.46842697, 31.68122137, 39.91878788, 32.17528024, 31.37875, 22.718000000000004, 16.65081967, 16.13694444, 15.84157895, 15.47666667, 10.95, 9.115, 15.435, 41.044, 35.07884615, 41.35634921, 44.3545614, 37.64, 43.25146067, 35.529625, 24.66079365, 37.39043956, 33.1684466, 29.18389474, 43.48098039, 32.89210526, 29.07, 37.37336, 30.68346154, 24.625999999999998, 16.30333333], \"yaxis\": \"y2\", \"type\": \"bar\"}], \"name\": \"4\"}, {\"data\": [{\"alignmentgroup\": \"True\", \"hovertemplate\": \"direction=up<br>floor=3<br>Local Time (GMT+8)=%{x}<br>sec=%{y}<extra></extra>\", \"legendgroup\": \"up\", \"marker\": {\"color\": \"#636efa\"}, \"name\": \"up\", \"offsetgroup\": \"up\", \"orientation\": \"v\", \"showlegend\": true, \"textposition\": \"auto\", \"x\": [0, 1, 2, 3, 4, 5, 6, 7, 8, 9, 10, 11, 12, 13, 14, 15, 16, 17, 18, 19, 20, 21, 22, 23, 0, 1, 2, 3, 4, 5, 6, 7, 8, 9, 10, 11, 12, 13, 14, 15, 16, 17, 18, 19, 20, 21, 22, 23], \"xaxis\": \"x\", \"y\": [14.54, 15.44076923, 2.3416666669999997, 14.2075, 12.67, 13.12333333, 13.77857143, 10.25445946, 9.7625, 8.491111111, 8.485703125, 8.50751938, 8.93733945, 10.42054054, 9.024102564, 8.592913907, 9.288062016, 8.746666667000001, 9.255833333, 10.51176471, 13.06090909, 14.72947368, 12.28380952, 15.90363636, 14.66, 18.27, 7.078333333, 26.055, 5.84, 20.30333333, 2.515, 14.49423077, 9.66744186, 8.965588235, 13.01970588, 9.467391304, 8.41452381, 12.2066129, 7.654259259, 10.04829268, 8.11175, 11.741, 9.709090909, 7.3496875, 18.26733333, 20.05818182, 16.41857143, 11.32], \"yaxis\": \"y\", \"type\": \"bar\"}, {\"alignmentgroup\": \"True\", \"hovertemplate\": \"direction=down<br>floor=3<br>Local Time (GMT+8)=%{x}<br>sec=%{y}<extra></extra>\", \"legendgroup\": \"down\", \"marker\": {\"color\": \"#EF553B\"}, \"name\": \"down\", \"offsetgroup\": \"down\", \"orientation\": \"v\", \"showlegend\": true, \"textposition\": \"auto\", \"x\": [0, 1, 2, 3, 4, 5, 6, 7, 8, 9, 10, 11, 12, 13, 14, 15, 16, 17, 18, 19, 20, 21, 22, 23, 0, 1, 2, 3, 4, 5, 6, 7, 8, 9, 10, 11, 12, 13, 14, 15, 16, 17, 18, 19, 20, 21, 22, 23], \"xaxis\": \"x2\", \"y\": [12.85083333, 12.85769231, 10.28466667, 14.417, 12.642000000000001, 21.28125, 27.038556699999997, 40.87908333, 30.4559375, 26.02320442, 24.427106600000002, 26.92695238, 26.69846847, 24.60463918, 20.95643836, 22.53346008, 17.24274262, 28.5430131, 34.06288991, 38.44122995, 23.34587189, 26.66265734, 19.823880600000003, 16.71956522, 14.1025, 13.34333333, 12.66, 12.35333333, 9.695, 17.37, 26.52486486, 33.85466667, 25.43448718, 27.393030300000003, 26.92909091, 30.6078, 30.94486486, 29.20693182, 20.24928571, 25.31963235, 26.09358491, 33.467, 35.74364706, 39.27460674, 25.52454545, 31.09053571, 19.37903226, 19.08257732], \"yaxis\": \"y2\", \"type\": \"bar\"}], \"name\": \"3\"}, {\"data\": [{\"alignmentgroup\": \"True\", \"hovertemplate\": \"direction=up<br>floor=2<br>Local Time (GMT+8)=%{x}<br>sec=%{y}<extra></extra>\", \"legendgroup\": \"up\", \"marker\": {\"color\": \"#636efa\"}, \"name\": \"up\", \"offsetgroup\": \"up\", \"orientation\": \"v\", \"showlegend\": true, \"textposition\": \"auto\", \"x\": [1, 3, 6, 7, 8, 9, 10, 11, 12, 13, 14, 15, 16, 17, 18, 19, 20, 21, 23, 1, 2, 3, 7, 8, 9, 10, 11, 12, 13, 14, 15, 16, 17, 18, 20, 23], \"xaxis\": \"x\", \"y\": [10.36, 28.1125, 18.34, 9.3255, 7.512280702000001, 7.71592233, 7.748055556000001, 10.49744186, 9.733170732, 10.30325301, 11.9871875, 8.529647059, 9.034526316000001, 8.954736842, 11.92863636, 131.0957143, 10.97, 12.94, 5.07, 31.51, 9.21, 15.1, 12.18, 5.912727273, 7.799545455, 8.266, 11.36090909, 9.302, 6.678421052999999, 8.81, 12.29458333, 10.09758621, 12.06066667, 8.978, 14.54, 20.895], \"yaxis\": \"y\", \"type\": \"bar\"}, {\"alignmentgroup\": \"True\", \"hovertemplate\": \"direction=down<br>floor=2<br>Local Time (GMT+8)=%{x}<br>sec=%{y}<extra></extra>\", \"legendgroup\": \"down\", \"marker\": {\"color\": \"#EF553B\"}, \"name\": \"down\", \"offsetgroup\": \"down\", \"orientation\": \"v\", \"showlegend\": true, \"textposition\": \"auto\", \"x\": [0, 1, 2, 3, 4, 6, 7, 8, 9, 10, 11, 12, 13, 14, 15, 16, 17, 18, 19, 20, 21, 22, 23, 4, 6, 7, 8, 9, 10, 11, 12, 13, 14, 15, 16, 17, 18, 19, 20, 21, 22], \"xaxis\": \"x2\", \"y\": [45.35, 9.625, 15.57, 16.85, 9.866666667, 29.24666667, 40.92571429, 18.58304348, 23.15211538, 21.78979167, 22.85469388, 16.03861111, 12.88857143, 20.1525641, 17.3526087, 15.15591837, 22.18, 15.43884615, 22.726875, 18.655, 38.996, 13.26, 10.93, 6.79, 69.285, 28.06142857, 11.70888889, 19.365, 17.22125, 18.23705882, 15.03444444, 11.92176471, 26.116, 12.57764706, 9.63, 25.48916667, 26.01, 15.46375, 68.69, 5.535, 13.6], \"yaxis\": \"y2\", \"type\": \"bar\"}], \"name\": \"2\"}, {\"data\": [{\"alignmentgroup\": \"True\", \"hovertemplate\": \"direction=up<br>floor=1<br>Local Time (GMT+8)=%{x}<br>sec=%{y}<extra></extra>\", \"legendgroup\": \"up\", \"marker\": {\"color\": \"#636efa\"}, \"name\": \"up\", \"offsetgroup\": \"up\", \"orientation\": \"v\", \"showlegend\": true, \"textposition\": \"auto\", \"x\": [0, 1, 2, 3, 4, 5, 6, 7, 8, 9, 10, 11, 12, 13, 14, 15, 16, 17, 18, 19, 20, 21, 22, 23, 0, 1, 2, 3, 4, 5, 6, 7, 8, 9, 10, 11, 12, 13, 14, 15, 16, 17, 18, 19, 20, 21, 22, 23], \"xaxis\": \"x\", \"y\": [5.323305556, 4.967370892, 4.861626016000001, 7.836052632, 7.037017543999999, 6.754777327999999, 17.36362963, 15.20316147, 17.15813154, 17.62986003, 17.82118068, 13.27246781, 13.91057692, 16.05842466, 15.71495741, 18.92326599, 16.250402800000003, 16.13431005, 19.72394984, 20.63797768, 22.67554273, 16.72507661, 12.02808889, 13.12219365, 5.841176471, 5.481744186, 6.557, 5.883783783999999, 5.156486486, 6.726195652, 15.24036923, 17.97079038, 20.6412, 18.48867521, 19.75619266, 15.91603175, 17.16349754, 18.28895735, 18.33012931, 20.75512, 16.62628906, 18.13662551, 19.70268908, 22.05825455, 21.83359223, 17.12338235, 14.31152381, 14.112248999999998], \"yaxis\": \"y\", \"type\": \"bar\"}, {\"alignmentgroup\": \"True\", \"hovertemplate\": \"direction=down<br>floor=1<br>Local Time (GMT+8)=%{x}<br>sec=%{y}<extra></extra>\", \"legendgroup\": \"down\", \"marker\": {\"color\": \"#EF553B\"}, \"name\": \"down\", \"offsetgroup\": \"down\", \"orientation\": \"v\", \"showlegend\": true, \"textposition\": \"auto\", \"x\": [0, 1, 2, 3, 4, 5, 6, 7, 8, 9, 10, 11, 12, 13, 14, 15, 16, 17, 18, 19, 20, 21, 22, 23, 0, 1, 3, 4, 5, 6, 7, 8, 9, 10, 11, 12, 13, 14, 15, 16, 17, 18, 19, 20, 21, 22, 23], \"xaxis\": \"x2\", \"y\": [9.858181818, 3.704375, 5.94, 7.19, 5.337777778, 7.288695652, 14.37653061, 29.77925926, 21.91177083, 18.17184713, 21.17461538, 20.90542105, 23.26264045, 19.14601124, 18.83859649, 15.65359116, 17.46817204, 26.29304636, 25.62904412, 28.37666667, 17.94917808, 12.11116667, 14.43227273, 12.58394737, 5.792857142999999, 4.3475, 11.925, 4.632857143, 17.65, 13.07857143, 28.01740741, 24.08370968, 22.91156863, 24.14589286, 28.17238095, 19.74407407, 12.748, 15.26465116, 14.86410959, 24.18203704, 25.4612069, 29.9172093, 21.24147059, 20.68913043, 13.61, 17.23, 16.50615385], \"yaxis\": \"y2\", \"type\": \"bar\"}], \"name\": \"1\"}]);\n",
       "                        }).then(function(){\n",
       "                            \n",
       "var gd = document.getElementById('5cef2e68-f13e-4cb2-a55d-7e98a3afe320');\n",
       "var x = new MutationObserver(function (mutations, observer) {{\n",
       "        var display = window.getComputedStyle(gd).display;\n",
       "        if (!display || display === 'none') {{\n",
       "            console.log([gd, 'removed!']);\n",
       "            Plotly.purge(gd);\n",
       "            observer.disconnect();\n",
       "        }}\n",
       "}});\n",
       "\n",
       "// Listen for the removal of the full notebook cells\n",
       "var notebookContainer = gd.closest('#notebook-container');\n",
       "if (notebookContainer) {{\n",
       "    x.observe(notebookContainer, {childList: true});\n",
       "}}\n",
       "\n",
       "// Listen for the clearing of the current output cell\n",
       "var outputEl = gd.closest('.output');\n",
       "if (outputEl) {{\n",
       "    x.observe(outputEl, {childList: true});\n",
       "}}\n",
       "\n",
       "                        })\n",
       "                };\n",
       "                });\n",
       "            </script>\n",
       "        </div>"
      ]
     },
     "metadata": {},
     "output_type": "display_data"
    }
   ],
   "source": [
    "fig = px.bar(data_frame=df_s, \n",
    "             x = \"hour\", y = \"avgWait\",\n",
    "             facet_col=\"direction\",color=\"direction\",\n",
    "             animation_frame=\"floor\",\n",
    "             labels={\"avgWait\":\"sec\",\n",
    "                     \"hour\":\"Local Time (GMT+8)\"})\n",
    "# X axis\n",
    "fig.update_xaxes(nticks=len(floor_list),\n",
    "                 type=\"category\",\n",
    "                 categoryarray=[0,24])\n",
    "\n",
    "# Y axis\n",
    "fig.update_yaxes(range=[0, 1000])\n",
    "\n",
    "# Layout\n",
    "fig.update_layout(title_text='Frequency of Elevator Calls by Time')\n",
    "\n",
    "fig.show()"
   ]
  },
  {
   "cell_type": "markdown",
   "metadata": {},
   "source": [
    "## Data"
   ]
  },
  {
   "cell_type": "code",
   "execution_count": 6,
   "metadata": {},
   "outputs": [],
   "source": [
    "import plotly.graph_objects as go\n",
    "from ipywidgets import widgets"
   ]
  },
  {
   "cell_type": "markdown",
   "metadata": {},
   "source": [
    "將不同大樓資料混在一起，依大樓名稱貼標"
   ]
  },
  {
   "cell_type": "code",
   "execution_count": 7,
   "metadata": {},
   "outputs": [
    {
     "name": "stdout",
     "output_type": "stream",
     "text": [
      "研究大樓\n",
      "(1409, 6)\n",
      "北棟病床梯\n",
      "(1584, 6)\n",
      "南棟客梯\n",
      "(1501, 6)\n",
      "(4494, 6)\n",
      "  floor  hour direction     week   avgWait building\n",
      "0     1     0      down  weekday   8.03000     研究大樓\n",
      "1     1     0        up  weekday   3.78375     研究大樓\n",
      "2     1     1      down  weekday   8.42500     研究大樓\n",
      "3     1     1        up  weekday  11.13600     研究大樓\n",
      "4     1     2      down  weekday   9.36500     研究大樓\n"
     ]
    }
   ],
   "source": [
    "## 檔案名(註:資料是arregate後的table)\n",
    "\n",
    "files_list = ['研究大樓','北棟病床梯','南棟客梯']\n",
    "\n",
    "df = pd.DataFrame()\n",
    "\n",
    "for i in files_list:\n",
    "    data = pd.read_csv(i+'.csv', index_col = 0)\n",
    "    data['building'] = i\n",
    "    print(i)\n",
    "    print(data.shape)\n",
    "    \n",
    "    df = df.append(data, ignore_index = True) \n",
    "\n",
    "## 請檢查表格的數量是否正確 有些表格有缺失(e.g.北棟客梯)\n",
    "    \n",
    "print(df.shape)\n",
    "print(df.head())"
   ]
  },
  {
   "cell_type": "markdown",
   "metadata": {},
   "source": [
    "## Dash"
   ]
  },
  {
   "cell_type": "code",
   "execution_count": null,
   "metadata": {},
   "outputs": [
    {
     "name": "stdout",
     "output_type": "stream",
     "text": [
      "Running on http://127.0.0.1:8050/\n",
      "Debugger PIN: 345-200-069\n",
      " * Serving Flask app \"__main__\" (lazy loading)\n",
      " * Environment: production\n",
      "   WARNING: This is a development server. Do not use it in a production deployment.\n",
      "   Use a production WSGI server instead.\n",
      " * Debug mode: on\n"
     ]
    }
   ],
   "source": [
    "import dash\n",
    "import dash_core_components as dcc\n",
    "import dash_html_components as html\n",
    "from dash.dependencies import Input, Output\n",
    "\n",
    "app = dash.Dash()\n",
    "app.layout = html.Div([\n",
    "    html.H1('Outer calls'),\n",
    "    html.H3('By Floor'),\n",
    "    dcc.Dropdown(\n",
    "        id=\"building1\",\n",
    "        options=[\n",
    "            {'label': '研究大樓', 'value': '研究大樓'},\n",
    "            {'label': '北棟病床梯', 'value': '北棟病床梯'},\n",
    "            {'label': '南棟電梯', 'value': '南棟電梯'}\n",
    "        ],\n",
    "        value='研究大樓'\n",
    "    ),\n",
    "    dcc.Dropdown(\n",
    "        id=\"week1\",\n",
    "        options=[\n",
    "            {'label': '全日', 'value': 'total'},\n",
    "            {'label': '平日', 'value': 'weekday'},\n",
    "            {'label': '假日', 'value': 'weekend'}\n",
    "        ],\n",
    "        value='total'\n",
    "    ),\n",
    "    dcc.Graph(id=\"graph1\"),\n",
    "    \n",
    "    \n",
    "    html.H3('By Hour'),\n",
    "    dcc.Dropdown(\n",
    "        id=\"building2\",\n",
    "        options=[\n",
    "            {'label': '研究大樓', 'value': '研究大樓'},\n",
    "            {'label': '北棟病床梯', 'value': '北棟病床梯'},\n",
    "            {'label': '南棟電梯', 'value': '南棟電梯'}\n",
    "        ],\n",
    "        value='研究大樓'\n",
    "    ),\n",
    "        dcc.Dropdown(\n",
    "        id=\"week2\",\n",
    "        options=[\n",
    "            {'label': '全日', 'value': 'total'},\n",
    "            {'label': '平日', 'value': 'weekday'},\n",
    "            {'label': '假日', 'value': 'weekend'}\n",
    "        ],\n",
    "        value='total'\n",
    "    ),\n",
    "    dcc.Graph(id=\"graph2\")\n",
    "])\n",
    "\n",
    "@app.callback(\n",
    "    Output('graph1', 'figure'),\n",
    "    [Input('building1', 'value'),\n",
    "     Input('week1', 'value')])\n",
    "def update_figure(selected_building, selected_week):\n",
    "    \n",
    "    ## Building\n",
    "    temp = df[df.building == selected_building]\n",
    "    \n",
    "    ## Weekday / Weekend\n",
    "    if (selected_week != 'total'):\n",
    "        temp = temp[temp.week == selected_week]\n",
    "        \n",
    "        \n",
    "    fig = px.bar(data_frame=temp,\n",
    "                 x = \"floor\", y = \"avgWait\",\n",
    "                 facet_col=\"direction\",color=\"direction\",\n",
    "                 animation_frame=\"hour\",\n",
    "                 labels={\"avgWait\":\"Average Waiting Time(sec)\",\n",
    "                         \"hour\":\"Local Time (GMT+8)\"})\n",
    "    fig.update_xaxes(nticks=len(floor_list),\n",
    "                     type=\"category\",\n",
    "                    categoryarray=floor_list)\n",
    "    fig.update_yaxes(range=[0, 1000])\n",
    "    fig.update_layout(title_text='Average Waiting Time of Elevator Calls in ' + selected_building + ' ('+ selected_week +')')\n",
    "    \n",
    "    return fig\n",
    "\n",
    "\n",
    "\n",
    "@app.callback(\n",
    "    Output('graph2', 'figure'),\n",
    "    [Input('building2', 'value'),\n",
    "     Input('week2', 'value')])\n",
    "def update_figure(selected_building, selected_week):\n",
    "    \n",
    "    ## Building\n",
    "    temp = df[df.building == selected_building]\n",
    "    \n",
    "    ## Weekday / Weekend\n",
    "    if (selected_week != 'total'):\n",
    "        temp = temp[temp.week == selected_week]\n",
    "        \n",
    "    \n",
    "    fig = px.bar(data_frame=temp, \n",
    "             x = \"hour\", y = \"avgWait\",\n",
    "             facet_col=\"direction\",color=\"direction\",\n",
    "             animation_frame=\"floor\",\n",
    "             labels={\"avgWait\":\"Average Waiting Time(sec)\",\n",
    "                     \"hour\":\"Local Time (GMT+8)\"})\n",
    "    fig.update_xaxes(nticks=len(floor_list),\n",
    "                     type=\"category\",\n",
    "                     categoryarray=[0,24])\n",
    "    fig.update_yaxes(range=[0, 1000])\n",
    "    fig.update_layout(title_text='Frequency of Elevator Calls by Time in ' + selected_building + ' ('+ selected_week +')')\n",
    "    return fig\n",
    "        \n",
    "app.run_server(debug=True, use_reloader=False)"
   ]
  },
  {
   "cell_type": "code",
   "execution_count": null,
   "metadata": {},
   "outputs": [],
   "source": []
  }
 ],
 "metadata": {
  "kernelspec": {
   "display_name": "Python 3",
   "language": "python",
   "name": "python3"
  },
  "language_info": {
   "codemirror_mode": {
    "name": "ipython",
    "version": 3
   },
   "file_extension": ".py",
   "mimetype": "text/x-python",
   "name": "python",
   "nbconvert_exporter": "python",
   "pygments_lexer": "ipython3",
   "version": "3.7.6"
  }
 },
 "nbformat": 4,
 "nbformat_minor": 2
}
