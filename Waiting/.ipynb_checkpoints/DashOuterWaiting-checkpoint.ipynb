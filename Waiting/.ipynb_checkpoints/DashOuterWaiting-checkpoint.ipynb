{
 "cells": [
  {
   "cell_type": "code",
   "execution_count": 2,
   "metadata": {},
   "outputs": [
    {
     "data": {
      "text/html": [
       "        <script type=\"text/javascript\">\n",
       "        window.PlotlyConfig = {MathJaxConfig: 'local'};\n",
       "        if (window.MathJax) {MathJax.Hub.Config({SVG: {font: \"STIX-Web\"}});}\n",
       "        if (typeof require !== 'undefined') {\n",
       "        require.undef(\"plotly\");\n",
       "        requirejs.config({\n",
       "            paths: {\n",
       "                'plotly': ['https://cdn.plot.ly/plotly-latest.min']\n",
       "            }\n",
       "        });\n",
       "        require(['plotly'], function(Plotly) {\n",
       "            window._Plotly = Plotly;\n",
       "        });\n",
       "        }\n",
       "        </script>\n",
       "        "
      ]
     },
     "metadata": {},
     "output_type": "display_data"
    }
   ],
   "source": [
    "import pandas as pd\n",
    "import numpy as np\n",
    "import plotly\n",
    "from plotly.offline import download_plotlyjs, init_notebook_mode, plot, iplot\n",
    "init_notebook_mode(connected=True)"
   ]
  },
  {
   "cell_type": "markdown",
   "metadata": {},
   "source": [
    "# Plotly Express\n"
   ]
  },
  {
   "cell_type": "code",
   "execution_count": 3,
   "metadata": {},
   "outputs": [],
   "source": [
    "import plotly.express as px"
   ]
  },
  {
   "cell_type": "code",
   "execution_count": 3,
   "metadata": {},
   "outputs": [
    {
     "name": "stdout",
     "output_type": "stream",
     "text": [
      "     floor  hour  week direction   total  count  week_avgWait\n",
      "1        1     0     0      down   23.22      2     11.610000\n",
      "2        1     0     0        up    1.25      1      1.250000\n",
      "3        1     0     1        up   20.96      1     20.960000\n",
      "4        1     0     2      down    0.87      1      0.870000\n",
      "5        1     0     2        up    1.60      1      1.600000\n",
      "...    ...   ...   ...       ...     ...    ...           ...\n",
      "4255    B4    23     2        up  153.12      9     17.013333\n",
      "4256    B4    23     3        up  105.97      8     13.246250\n",
      "4257    B4    23     4        up   67.74      8      8.467500\n",
      "4258    B4    23     5        up  135.87     11     12.351818\n",
      "4259    B4    23     6        up   47.25      2     23.625000\n",
      "\n",
      "[4259 rows x 7 columns]\n"
     ]
    }
   ],
   "source": [
    "df_s = pd.read_csv('研究大樓.csv',index_col = 0)  \n",
    "print(df_s)"
   ]
  },
  {
   "cell_type": "markdown",
   "metadata": {},
   "source": [
    "###\n",
    "研究大樓：19\n",
    "###\n",
    "北棟客梯：16（含缺少樓層）"
   ]
  },
  {
   "cell_type": "code",
   "execution_count": 8,
   "metadata": {},
   "outputs": [
    {
     "name": "stdout",
     "output_type": "stream",
     "text": [
      "['1', '2', '3', '4', '5', '6', '7', '8', '9', '10', '11', '12', '13', '14', '15', 'B1', 'B2', 'B3', 'B4']\n"
     ]
    }
   ],
   "source": [
    "floor = 19 #手動改建築物樓層數\n",
    "floor_name = []\n",
    "\n",
    "for f in range(1,floor+1):\n",
    "    if f <= 15:\n",
    "        floor_name.append(str(f))\n",
    "    else:\n",
    "        floor_name.append(\"B\"+str(f-15))\n",
    "print(floor_name)"
   ]
  },
  {
   "cell_type": "code",
   "execution_count": 5,
   "metadata": {},
   "outputs": [
    {
     "name": "stdout",
     "output_type": "stream",
     "text": [
      "24 19 2\n"
     ]
    }
   ],
   "source": [
    "weekdayCnt = []\n",
    "weekendCnt = []\n",
    "tolWait_weekday = []\n",
    "tolWait_weekend = []\n",
    "avgWait_weekday = []\n",
    "avgWait_weekend = []\n",
    "weekday = [0,1,2,3,4]\n",
    "\n",
    "for i in range(24):\n",
    "    weekdayCnt.append([])\n",
    "    weekendCnt.append([])\n",
    "    tolWait_weekday.append([])\n",
    "    tolWait_weekend.append([])\n",
    "    avgWait_weekday.append([])\n",
    "    avgWait_weekend.append([])\n",
    "    for j in range(floor):\n",
    "        weekdayCnt[i].append([])\n",
    "        weekendCnt[i].append([])\n",
    "        tolWait_weekday[i].append([])\n",
    "        tolWait_weekend[i].append([])\n",
    "        avgWait_weekday[i].append([])\n",
    "        avgWait_weekend[i].append([])\n",
    "        for d in range(2):\n",
    "            weekdayCnt[i][j].append(0)\n",
    "            weekendCnt[i][j].append(0)\n",
    "            tolWait_weekday[i][j].append(0)\n",
    "            tolWait_weekend[i][j].append(0)\n",
    "            avgWait_weekday[i][j].append(0)\n",
    "            avgWait_weekend[i][j].append(0)\n",
    "print(len(tolWait_weekday),len(tolWait_weekday[0]),len(tolWait_weekday[0][0]))"
   ]
  },
  {
   "cell_type": "code",
   "execution_count": 6,
   "metadata": {
    "scrolled": false
   },
   "outputs": [],
   "source": [
    "for i in range(1,df_s.shape[0]+1):\n",
    "    for j in range(24):\n",
    "        for f in range(floor):\n",
    "#             print(i,df_s['hour'][i],df_s['floor'][i],df_s['direction'][i])\n",
    "#             print('compare with',j,floor_name[f])\n",
    "            if df_s['week'][i] in weekday:\n",
    "                if df_s['hour'][i] == j and str(df_s['floor'][i]) == floor_name[f] and df_s['direction'][i]=='up':\n",
    "#                     print(\"week - success bind with 'up'\")\n",
    "#                     print(\"tolWait_weekday[\",tolWait_weekday[j][f][0])\n",
    "                    weekdayCnt[j][f][0] = weekdayCnt[j][f][0] + df_s['count'][i]\n",
    "                    tolWait_weekday[j][f][0] = tolWait_weekday[j][f][0] + df_s['total'][i]\n",
    "                elif df_s['hour'][i] == j and str(df_s['floor'][i]) == floor_name[f] and df_s['direction'][i]=='down':\n",
    "#                     print(\"success bind with 'down'\")\n",
    "                    weekdayCnt[j][f][1] = weekdayCnt[j][f][1] + df_s['count'][i]\n",
    "                    tolWait_weekday[j][f][1] = tolWait_weekday[j][f][1] + df_s['total'][i]\n",
    "            else:\n",
    "                if df_s['hour'][i] == j and str(df_s['floor'][i]) == floor_name[f] and df_s['direction'][i]=='up':\n",
    "                    weekendCnt[j][f][0] = weekendCnt[j][f][0] + df_s['count'][i]\n",
    "                    tolWait_weekend[j][f][0] = tolWait_weekend[j][f][0] + df_s['total'][i]\n",
    "                elif df_s['hour'][i] == j and str(df_s['floor'][i]) == floor_name[f] and df_s['direction'][i]=='down':\n",
    "                    weekendCnt[j][f][1] = weekendCnt[j][f][1] + df_s['count'][i]\n",
    "                    tolWait_weekend[j][f][1] = tolWait_weekend[j][f][1] + df_s['total'][i]\n",
    "                    \n",
    "# print(\"tolWait_weekday\",tolWait_weekday)"
   ]
  },
  {
   "cell_type": "code",
   "execution_count": 43,
   "metadata": {},
   "outputs": [],
   "source": [
    "for i in range(24):\n",
    "    for f in range(floor):\n",
    "        for d in range(2):\n",
    "            if tolWait_weekday[i][f][d] > 0 and weekdayCnt[i][f][d] != 0:\n",
    "                avgWait_weekday[i][f][d] = tolWait_weekday[i][f][d]/weekdayCnt[i][f][d]\n",
    "            if tolWait_weekend[i][f][d] > 0 and weekendCnt[i][f][d] != 0:\n",
    "                avgWait_weekend[i][f][d] = tolWait_weekend[i][f][d]/weekendCnt[i][f][d]\n",
    "                \n",
    "# print(tolWait_weekend)\n",
    "# print(weekendCnt)\n",
    "# print(avgWait_weekend)"
   ]
  },
  {
   "cell_type": "code",
   "execution_count": 61,
   "metadata": {},
   "outputs": [
    {
     "data": {
      "text/html": [
       "<div>\n",
       "<style scoped>\n",
       "    .dataframe tbody tr th:only-of-type {\n",
       "        vertical-align: middle;\n",
       "    }\n",
       "\n",
       "    .dataframe tbody tr th {\n",
       "        vertical-align: top;\n",
       "    }\n",
       "\n",
       "    .dataframe thead th {\n",
       "        text-align: right;\n",
       "    }\n",
       "</style>\n",
       "<table border=\"1\" class=\"dataframe\">\n",
       "  <thead>\n",
       "    <tr style=\"text-align: right;\">\n",
       "      <th></th>\n",
       "      <th>floor</th>\n",
       "      <th>hour</th>\n",
       "      <th>week</th>\n",
       "      <th>direction</th>\n",
       "      <th>total</th>\n",
       "      <th>count</th>\n",
       "      <th>week_avgWait</th>\n",
       "    </tr>\n",
       "  </thead>\n",
       "  <tbody>\n",
       "    <tr>\n",
       "      <th>1</th>\n",
       "      <td>1</td>\n",
       "      <td>0</td>\n",
       "      <td>0</td>\n",
       "      <td>down</td>\n",
       "      <td>23.22</td>\n",
       "      <td>2</td>\n",
       "      <td>11.610000</td>\n",
       "    </tr>\n",
       "    <tr>\n",
       "      <th>2</th>\n",
       "      <td>1</td>\n",
       "      <td>0</td>\n",
       "      <td>0</td>\n",
       "      <td>up</td>\n",
       "      <td>1.25</td>\n",
       "      <td>1</td>\n",
       "      <td>1.250000</td>\n",
       "    </tr>\n",
       "    <tr>\n",
       "      <th>3</th>\n",
       "      <td>1</td>\n",
       "      <td>0</td>\n",
       "      <td>1</td>\n",
       "      <td>up</td>\n",
       "      <td>20.96</td>\n",
       "      <td>1</td>\n",
       "      <td>20.960000</td>\n",
       "    </tr>\n",
       "    <tr>\n",
       "      <th>4</th>\n",
       "      <td>1</td>\n",
       "      <td>0</td>\n",
       "      <td>2</td>\n",
       "      <td>down</td>\n",
       "      <td>0.87</td>\n",
       "      <td>1</td>\n",
       "      <td>0.870000</td>\n",
       "    </tr>\n",
       "    <tr>\n",
       "      <th>5</th>\n",
       "      <td>1</td>\n",
       "      <td>0</td>\n",
       "      <td>2</td>\n",
       "      <td>up</td>\n",
       "      <td>1.60</td>\n",
       "      <td>1</td>\n",
       "      <td>1.600000</td>\n",
       "    </tr>\n",
       "    <tr>\n",
       "      <th>...</th>\n",
       "      <td>...</td>\n",
       "      <td>...</td>\n",
       "      <td>...</td>\n",
       "      <td>...</td>\n",
       "      <td>...</td>\n",
       "      <td>...</td>\n",
       "      <td>...</td>\n",
       "    </tr>\n",
       "    <tr>\n",
       "      <th>4255</th>\n",
       "      <td>B4</td>\n",
       "      <td>23</td>\n",
       "      <td>2</td>\n",
       "      <td>up</td>\n",
       "      <td>153.12</td>\n",
       "      <td>9</td>\n",
       "      <td>17.013333</td>\n",
       "    </tr>\n",
       "    <tr>\n",
       "      <th>4256</th>\n",
       "      <td>B4</td>\n",
       "      <td>23</td>\n",
       "      <td>3</td>\n",
       "      <td>up</td>\n",
       "      <td>105.97</td>\n",
       "      <td>8</td>\n",
       "      <td>13.246250</td>\n",
       "    </tr>\n",
       "    <tr>\n",
       "      <th>4257</th>\n",
       "      <td>B4</td>\n",
       "      <td>23</td>\n",
       "      <td>4</td>\n",
       "      <td>up</td>\n",
       "      <td>67.74</td>\n",
       "      <td>8</td>\n",
       "      <td>8.467500</td>\n",
       "    </tr>\n",
       "    <tr>\n",
       "      <th>4258</th>\n",
       "      <td>B4</td>\n",
       "      <td>23</td>\n",
       "      <td>5</td>\n",
       "      <td>up</td>\n",
       "      <td>135.87</td>\n",
       "      <td>11</td>\n",
       "      <td>12.351818</td>\n",
       "    </tr>\n",
       "    <tr>\n",
       "      <th>4259</th>\n",
       "      <td>B4</td>\n",
       "      <td>23</td>\n",
       "      <td>6</td>\n",
       "      <td>up</td>\n",
       "      <td>47.25</td>\n",
       "      <td>2</td>\n",
       "      <td>23.625000</td>\n",
       "    </tr>\n",
       "  </tbody>\n",
       "</table>\n",
       "<p>4259 rows × 7 columns</p>\n",
       "</div>"
      ],
      "text/plain": [
       "     floor  hour  week direction   total  count  week_avgWait\n",
       "1        1     0     0      down   23.22      2     11.610000\n",
       "2        1     0     0        up    1.25      1      1.250000\n",
       "3        1     0     1        up   20.96      1     20.960000\n",
       "4        1     0     2      down    0.87      1      0.870000\n",
       "5        1     0     2        up    1.60      1      1.600000\n",
       "...    ...   ...   ...       ...     ...    ...           ...\n",
       "4255    B4    23     2        up  153.12      9     17.013333\n",
       "4256    B4    23     3        up  105.97      8     13.246250\n",
       "4257    B4    23     4        up   67.74      8      8.467500\n",
       "4258    B4    23     5        up  135.87     11     12.351818\n",
       "4259    B4    23     6        up   47.25      2     23.625000\n",
       "\n",
       "[4259 rows x 7 columns]"
      ]
     },
     "execution_count": 61,
     "metadata": {},
     "output_type": "execute_result"
    }
   ],
   "source": [
    "#debug用\n",
    "df_s = pd.read_csv('研究大樓.csv',index_col = 0) \n",
    "df_s"
   ]
  },
  {
   "cell_type": "code",
   "execution_count": 67,
   "metadata": {
    "scrolled": true
   },
   "outputs": [
    {
     "name": "stderr",
     "output_type": "stream",
     "text": [
      "/opt/anaconda3/lib/python3.7/site-packages/ipykernel_launcher.py:2: DeprecationWarning:\n",
      "\n",
      "The default dtype for empty Series will be 'object' instead of 'float64' in a future version. Specify a dtype explicitly to silence this warning.\n",
      "\n",
      "/opt/anaconda3/lib/python3.7/site-packages/ipykernel_launcher.py:3: DeprecationWarning:\n",
      "\n",
      "The default dtype for empty Series will be 'object' instead of 'float64' in a future version. Specify a dtype explicitly to silence this warning.\n",
      "\n"
     ]
    },
    {
     "name": "stdout",
     "output_type": "stream",
     "text": [
      "avgWait_weekendCol: \n",
      " 7        9.790000\n",
      "8        9.790000\n",
      "13      14.395000\n",
      "18      12.976667\n",
      "19      12.976667\n",
      "          ...    \n",
      "4245     5.284000\n",
      "4251     9.150000\n",
      "4252     9.150000\n",
      "4258    14.086154\n",
      "4259    14.086154\n",
      "Length: 1201, dtype: float64\n"
     ]
    }
   ],
   "source": [
    "# creating a blank series \n",
    "weekdayCol = pd.Series([]) \n",
    "weekendCol = pd.Series([]) \n",
    "\n",
    "# running a for loop and asigning some values to series \n",
    "for i in range(1, df_s.shape[0]+1):\n",
    "    for j in range(24):\n",
    "        for f in range(floor):\n",
    "            if df_s['week'][i] in weekday:\n",
    "                if df_s['hour'][i] == j and str(df_s['floor'][i]) == floor_name[f] and df_s['direction'][i]=='up':\n",
    "                    weekdayCol[i] = avgWait_weekday[j][f][0]\n",
    "                elif df_s['hour'][i] == j and str(df_s['floor'][i]) == floor_name[f] and df_s['direction'][i]=='down':\n",
    "                    weekdayCol[i] = avgWait_weekday[j][f][1]\n",
    "            else:\n",
    "                if df_s['hour'][i] == j and str(df_s['floor'][i]) == floor_name[f] and df_s['direction'][i]=='up':\n",
    "                    weekendCol[i] = avgWait_weekend[j][f][0]\n",
    "                elif df_s['hour'][i] == j and str(df_s['floor'][i]) == floor_name[f] and df_s['direction'][i]=='down':\n",
    "                    weekendCol[i] = avgWait_weekend[j][f][1]\n",
    "                \n",
    "                \n",
    "# print('avgWait_weekdayCol: \\n', weekdayCol)\n",
    "print('avgWait_weekendCol: \\n', weekendCol)"
   ]
  },
  {
   "cell_type": "code",
   "execution_count": 70,
   "metadata": {},
   "outputs": [
    {
     "name": "stdout",
     "output_type": "stream",
     "text": [
      "     floor  hour  week direction   total  count  week_avgWait\n",
      "4255    B4    23     2        up  153.12      9     17.013333\n",
      "4256    B4    23     3        up  105.97      8     13.246250\n",
      "4257    B4    23     4        up   67.74      8      8.467500\n",
      "4258    B4    23     5        up  135.87     11     12.351818\n",
      "4259    B4    23     6        up   47.25      2     23.625000\n",
      "     floor  hour  week direction   total  count  week_avgWait\n",
      "4255    B4    23     2        up  153.12      9     17.013333\n",
      "4256    B4    23     3        up  105.97      8     13.246250\n",
      "4257    B4    23     4        up   67.74      8      8.467500\n",
      "4258    B4    23     5        up  135.87     11     12.351818\n",
      "4259    B4    23     6        up   47.25      2     23.625000\n",
      "     floor  hour  week direction   total  count  week_avgWait  avgWait_weekend\n",
      "4255    B4    23     2        up  153.12      9     17.013333              NaN\n",
      "4256    B4    23     3        up  105.97      8     13.246250              NaN\n",
      "4257    B4    23     4        up   67.74      8      8.467500              NaN\n",
      "4258    B4    23     5        up  135.87     11     12.351818        14.086154\n",
      "4259    B4    23     6        up   47.25      2     23.625000        14.086154\n"
     ]
    }
   ],
   "source": [
    "# inserting new column with values of list made above\n",
    "df_s_weekday = pd.read_csv('研究大樓.csv',index_col = 0)\n",
    "df_s_weekend = pd.read_csv('研究大樓.csv',index_col = 0)\n",
    "print(df_s_weekend.tail())\n",
    "\n",
    "df_s_weekday['avgWait_weekday'] = weekdayCol\n",
    "df_s_weekend['avgWait_weekend'] = weekendCol\n",
    "# print(df_s_weekend.tail())"
   ]
  },
  {
   "cell_type": "code",
   "execution_count": 71,
   "metadata": {},
   "outputs": [
    {
     "data": {
      "text/html": [
       "<div>\n",
       "<style scoped>\n",
       "    .dataframe tbody tr th:only-of-type {\n",
       "        vertical-align: middle;\n",
       "    }\n",
       "\n",
       "    .dataframe tbody tr th {\n",
       "        vertical-align: top;\n",
       "    }\n",
       "\n",
       "    .dataframe thead th {\n",
       "        text-align: right;\n",
       "    }\n",
       "</style>\n",
       "<table border=\"1\" class=\"dataframe\">\n",
       "  <thead>\n",
       "    <tr style=\"text-align: right;\">\n",
       "      <th></th>\n",
       "      <th>floor</th>\n",
       "      <th>hour</th>\n",
       "      <th>week</th>\n",
       "      <th>direction</th>\n",
       "      <th>total</th>\n",
       "      <th>count</th>\n",
       "      <th>week_avgWait</th>\n",
       "      <th>avgWait_weekend</th>\n",
       "    </tr>\n",
       "  </thead>\n",
       "  <tbody>\n",
       "    <tr>\n",
       "      <th>7</th>\n",
       "      <td>1</td>\n",
       "      <td>0</td>\n",
       "      <td>5</td>\n",
       "      <td>up</td>\n",
       "      <td>18.58</td>\n",
       "      <td>1</td>\n",
       "      <td>18.580000</td>\n",
       "      <td>9.790000</td>\n",
       "    </tr>\n",
       "    <tr>\n",
       "      <th>8</th>\n",
       "      <td>1</td>\n",
       "      <td>0</td>\n",
       "      <td>6</td>\n",
       "      <td>up</td>\n",
       "      <td>1.00</td>\n",
       "      <td>1</td>\n",
       "      <td>1.000000</td>\n",
       "      <td>9.790000</td>\n",
       "    </tr>\n",
       "    <tr>\n",
       "      <th>13</th>\n",
       "      <td>1</td>\n",
       "      <td>1</td>\n",
       "      <td>5</td>\n",
       "      <td>up</td>\n",
       "      <td>28.79</td>\n",
       "      <td>2</td>\n",
       "      <td>14.395000</td>\n",
       "      <td>14.395000</td>\n",
       "    </tr>\n",
       "    <tr>\n",
       "      <th>18</th>\n",
       "      <td>1</td>\n",
       "      <td>2</td>\n",
       "      <td>5</td>\n",
       "      <td>up</td>\n",
       "      <td>23.05</td>\n",
       "      <td>2</td>\n",
       "      <td>11.525000</td>\n",
       "      <td>12.976667</td>\n",
       "    </tr>\n",
       "    <tr>\n",
       "      <th>19</th>\n",
       "      <td>1</td>\n",
       "      <td>2</td>\n",
       "      <td>6</td>\n",
       "      <td>up</td>\n",
       "      <td>15.88</td>\n",
       "      <td>1</td>\n",
       "      <td>15.880000</td>\n",
       "      <td>12.976667</td>\n",
       "    </tr>\n",
       "    <tr>\n",
       "      <th>...</th>\n",
       "      <td>...</td>\n",
       "      <td>...</td>\n",
       "      <td>...</td>\n",
       "      <td>...</td>\n",
       "      <td>...</td>\n",
       "      <td>...</td>\n",
       "      <td>...</td>\n",
       "      <td>...</td>\n",
       "    </tr>\n",
       "    <tr>\n",
       "      <th>4245</th>\n",
       "      <td>B4</td>\n",
       "      <td>21</td>\n",
       "      <td>6</td>\n",
       "      <td>up</td>\n",
       "      <td>13.36</td>\n",
       "      <td>2</td>\n",
       "      <td>6.680000</td>\n",
       "      <td>5.284000</td>\n",
       "    </tr>\n",
       "    <tr>\n",
       "      <th>4251</th>\n",
       "      <td>B4</td>\n",
       "      <td>22</td>\n",
       "      <td>5</td>\n",
       "      <td>up</td>\n",
       "      <td>44.38</td>\n",
       "      <td>4</td>\n",
       "      <td>11.095000</td>\n",
       "      <td>9.150000</td>\n",
       "    </tr>\n",
       "    <tr>\n",
       "      <th>4252</th>\n",
       "      <td>B4</td>\n",
       "      <td>22</td>\n",
       "      <td>6</td>\n",
       "      <td>up</td>\n",
       "      <td>1.37</td>\n",
       "      <td>1</td>\n",
       "      <td>1.370000</td>\n",
       "      <td>9.150000</td>\n",
       "    </tr>\n",
       "    <tr>\n",
       "      <th>4258</th>\n",
       "      <td>B4</td>\n",
       "      <td>23</td>\n",
       "      <td>5</td>\n",
       "      <td>up</td>\n",
       "      <td>135.87</td>\n",
       "      <td>11</td>\n",
       "      <td>12.351818</td>\n",
       "      <td>14.086154</td>\n",
       "    </tr>\n",
       "    <tr>\n",
       "      <th>4259</th>\n",
       "      <td>B4</td>\n",
       "      <td>23</td>\n",
       "      <td>6</td>\n",
       "      <td>up</td>\n",
       "      <td>47.25</td>\n",
       "      <td>2</td>\n",
       "      <td>23.625000</td>\n",
       "      <td>14.086154</td>\n",
       "    </tr>\n",
       "  </tbody>\n",
       "</table>\n",
       "<p>1201 rows × 8 columns</p>\n",
       "</div>"
      ],
      "text/plain": [
       "     floor  hour  week direction   total  count  week_avgWait  avgWait_weekend\n",
       "7        1     0     5        up   18.58      1     18.580000         9.790000\n",
       "8        1     0     6        up    1.00      1      1.000000         9.790000\n",
       "13       1     1     5        up   28.79      2     14.395000        14.395000\n",
       "18       1     2     5        up   23.05      2     11.525000        12.976667\n",
       "19       1     2     6        up   15.88      1     15.880000        12.976667\n",
       "...    ...   ...   ...       ...     ...    ...           ...              ...\n",
       "4245    B4    21     6        up   13.36      2      6.680000         5.284000\n",
       "4251    B4    22     5        up   44.38      4     11.095000         9.150000\n",
       "4252    B4    22     6        up    1.37      1      1.370000         9.150000\n",
       "4258    B4    23     5        up  135.87     11     12.351818        14.086154\n",
       "4259    B4    23     6        up   47.25      2     23.625000        14.086154\n",
       "\n",
       "[1201 rows x 8 columns]"
      ]
     },
     "execution_count": 71,
     "metadata": {},
     "output_type": "execute_result"
    }
   ],
   "source": [
    "#分開平假日\n",
    "df_s_weekday = df_s_weekday.dropna()\n",
    "df_s_weekend = df_s_weekend.dropna()\n",
    "\n",
    "df_s_weekend"
   ]
  },
  {
   "cell_type": "code",
   "execution_count": 75,
   "metadata": {},
   "outputs": [
    {
     "data": {
      "text/html": [
       "<div>\n",
       "<style scoped>\n",
       "    .dataframe tbody tr th:only-of-type {\n",
       "        vertical-align: middle;\n",
       "    }\n",
       "\n",
       "    .dataframe tbody tr th {\n",
       "        vertical-align: top;\n",
       "    }\n",
       "\n",
       "    .dataframe thead th {\n",
       "        text-align: right;\n",
       "    }\n",
       "</style>\n",
       "<table border=\"1\" class=\"dataframe\">\n",
       "  <thead>\n",
       "    <tr style=\"text-align: right;\">\n",
       "      <th></th>\n",
       "      <th>floor</th>\n",
       "      <th>hour</th>\n",
       "      <th>direction</th>\n",
       "      <th>avgWait_weekend</th>\n",
       "    </tr>\n",
       "  </thead>\n",
       "  <tbody>\n",
       "    <tr>\n",
       "      <th>0</th>\n",
       "      <td>1</td>\n",
       "      <td>0</td>\n",
       "      <td>up</td>\n",
       "      <td>9.790000</td>\n",
       "    </tr>\n",
       "    <tr>\n",
       "      <th>1</th>\n",
       "      <td>1</td>\n",
       "      <td>0</td>\n",
       "      <td>up</td>\n",
       "      <td>9.790000</td>\n",
       "    </tr>\n",
       "    <tr>\n",
       "      <th>2</th>\n",
       "      <td>1</td>\n",
       "      <td>1</td>\n",
       "      <td>up</td>\n",
       "      <td>14.395000</td>\n",
       "    </tr>\n",
       "    <tr>\n",
       "      <th>3</th>\n",
       "      <td>1</td>\n",
       "      <td>2</td>\n",
       "      <td>up</td>\n",
       "      <td>12.976667</td>\n",
       "    </tr>\n",
       "    <tr>\n",
       "      <th>4</th>\n",
       "      <td>1</td>\n",
       "      <td>2</td>\n",
       "      <td>up</td>\n",
       "      <td>12.976667</td>\n",
       "    </tr>\n",
       "    <tr>\n",
       "      <th>...</th>\n",
       "      <td>...</td>\n",
       "      <td>...</td>\n",
       "      <td>...</td>\n",
       "      <td>...</td>\n",
       "    </tr>\n",
       "    <tr>\n",
       "      <th>1196</th>\n",
       "      <td>B4</td>\n",
       "      <td>21</td>\n",
       "      <td>up</td>\n",
       "      <td>5.284000</td>\n",
       "    </tr>\n",
       "    <tr>\n",
       "      <th>1197</th>\n",
       "      <td>B4</td>\n",
       "      <td>22</td>\n",
       "      <td>up</td>\n",
       "      <td>9.150000</td>\n",
       "    </tr>\n",
       "    <tr>\n",
       "      <th>1198</th>\n",
       "      <td>B4</td>\n",
       "      <td>22</td>\n",
       "      <td>up</td>\n",
       "      <td>9.150000</td>\n",
       "    </tr>\n",
       "    <tr>\n",
       "      <th>1199</th>\n",
       "      <td>B4</td>\n",
       "      <td>23</td>\n",
       "      <td>up</td>\n",
       "      <td>14.086154</td>\n",
       "    </tr>\n",
       "    <tr>\n",
       "      <th>1200</th>\n",
       "      <td>B4</td>\n",
       "      <td>23</td>\n",
       "      <td>up</td>\n",
       "      <td>14.086154</td>\n",
       "    </tr>\n",
       "  </tbody>\n",
       "</table>\n",
       "<p>1201 rows × 4 columns</p>\n",
       "</div>"
      ],
      "text/plain": [
       "     floor  hour direction  avgWait_weekend\n",
       "0        1     0        up         9.790000\n",
       "1        1     0        up         9.790000\n",
       "2        1     1        up        14.395000\n",
       "3        1     2        up        12.976667\n",
       "4        1     2        up        12.976667\n",
       "...    ...   ...       ...              ...\n",
       "1196    B4    21        up         5.284000\n",
       "1197    B4    22        up         9.150000\n",
       "1198    B4    22        up         9.150000\n",
       "1199    B4    23        up        14.086154\n",
       "1200    B4    23        up        14.086154\n",
       "\n",
       "[1201 rows x 4 columns]"
      ]
     },
     "execution_count": 75,
     "metadata": {},
     "output_type": "execute_result"
    }
   ],
   "source": [
    "#delete redundenct columes\n",
    "df_s_weekday = df_s_weekday.drop(columns=['week','total', 'count','week_avgWait'])\n",
    "df_s_weekend = df_s_weekend.drop(columns=['week','total', 'count','week_avgWait'])\n",
    "df_s_weekend"
   ]
  },
  {
   "cell_type": "code",
   "execution_count": 76,
   "metadata": {},
   "outputs": [
    {
     "name": "stdout",
     "output_type": "stream",
     "text": [
      "dropped duplicates \n",
      "      floor  hour direction  avgWait_weekday\n",
      "0        1     0      down         8.030000\n",
      "1        1     0        up         3.783750\n",
      "6        1     1      down         8.425000\n",
      "7        1     1        up        11.136000\n",
      "10       1     2      down         9.365000\n",
      "...    ...   ...       ...              ...\n",
      "3033    B4    19        up        18.286634\n",
      "3038    B4    20        up        18.636885\n",
      "3043    B4    21        up        10.550000\n",
      "3048    B4    22        up         7.624167\n",
      "3053    B4    23        up        12.476111\n",
      "\n",
      "[735 rows x 4 columns]\n",
      "reset_index\n",
      "     floor  hour direction  avgWait_weekday\n",
      "0       1     0      down         8.030000\n",
      "1       1     0        up         3.783750\n",
      "2       1     1      down         8.425000\n",
      "3       1     1        up        11.136000\n",
      "4       1     2      down         9.365000\n",
      "..    ...   ...       ...              ...\n",
      "730    B4    19        up        18.286634\n",
      "731    B4    20        up        18.636885\n",
      "732    B4    21        up        10.550000\n",
      "733    B4    22        up         7.624167\n",
      "734    B4    23        up        12.476111\n",
      "\n",
      "[735 rows x 4 columns]\n"
     ]
    }
   ],
   "source": [
    "# delete duplicates\n",
    "df_s_weekday = df_s_weekday.drop_duplicates(keep='first', inplace=False)\n",
    "df_s_weekend = df_s_weekend.drop_duplicates(keep='first', inplace=False)\n",
    "print('dropped duplicates \\n', df_s_weekday)\n",
    "# reset_index\n",
    "df_s_weekday = df_s_weekday.reset_index(drop=True)\n",
    "df_s_weekend = df_s_weekend.reset_index(drop=True)\n",
    "print('reset_index\\n',df_s_weekday)"
   ]
  },
  {
   "cell_type": "code",
   "execution_count": 78,
   "metadata": {},
   "outputs": [],
   "source": [
    "df_s_weekday.to_csv('研究大樓_weekday.csv')\n",
    "df_s_weekend.to_csv('研究大樓_weekend.csv')"
   ]
  },
  {
   "cell_type": "markdown",
   "metadata": {},
   "source": [
    "plotly express 有點像是 ggplot in R，<br>\n",
    "只要指定x,y,color等就能自動幫你分類，<br>\n",
    "下面的圖表以南棟電梯的外部電梯呼叫資料為例，<br>\n",
    "x軸為樓層、以方向分開並上色，最後以時間(小時)作為動畫影格。"
   ]
  },
  {
   "cell_type": "code",
   "execution_count": 6,
   "metadata": {},
   "outputs": [],
   "source": [
    "df_s_weekday = pd.read_csv('研究大樓_weekday.csv',index_col = 0)\n",
    "df_s_weekend = pd.read_csv('研究大樓_weekend.csv',index_col = 0)"
   ]
  },
  {
   "cell_type": "code",
   "execution_count": 13,
   "metadata": {},
   "outputs": [
    {
     "data": {
      "application/vnd.plotly.v1+json": {
       "config": {
        "plotlyServerURL": "https://plot.ly"
       },
       "data": [
        {
         "alignmentgroup": "True",
         "hovertemplate": "direction=down<br>Local Time (GMT+8)=0<br>floor=%{x}<br>avgWait_weekday=%{y}<extra></extra>",
         "legendgroup": "down",
         "marker": {
          "color": "#636efa"
         },
         "name": "down",
         "offsetgroup": "down",
         "orientation": "v",
         "showlegend": true,
         "textposition": "auto",
         "type": "bar",
         "x": [
          "1",
          "3",
          "4",
          "5",
          "6",
          "7",
          "8",
          "9",
          "10",
          "11",
          "12",
          "13",
          "14",
          "15",
          "B1"
         ],
         "xaxis": "x",
         "y": [
          8.03,
          19.435,
          14.218,
          10.56625,
          1.61,
          15.10625,
          13.192352941176472,
          12.13,
          14.2925,
          19.782000000000004,
          16.134545454545457,
          16.88111111111111,
          19.71,
          29.41666666666667,
          9.336666666666666
         ],
         "yaxis": "y"
        },
        {
         "alignmentgroup": "True",
         "hovertemplate": "direction=up<br>Local Time (GMT+8)=0<br>floor=%{x}<br>avgWait_weekday=%{y}<extra></extra>",
         "legendgroup": "up",
         "marker": {
          "color": "#EF553B"
         },
         "name": "up",
         "offsetgroup": "up",
         "orientation": "v",
         "showlegend": true,
         "textposition": "auto",
         "type": "bar",
         "x": [
          "1",
          "2",
          "3",
          "4",
          "5",
          "6",
          "7",
          "14",
          "B1",
          "B3",
          "B4"
         ],
         "xaxis": "x2",
         "y": [
          3.78375,
          17.56,
          14.225882352941177,
          14.673666666666666,
          13.060588235294118,
          8.64,
          10.358571428571429,
          20.495,
          13.539487179487178,
          8.47,
          17.68
         ],
         "yaxis": "y2"
        }
       ],
       "frames": [
        {
         "data": [
          {
           "alignmentgroup": "True",
           "hovertemplate": "direction=down<br>Local Time (GMT+8)=0<br>floor=%{x}<br>avgWait_weekday=%{y}<extra></extra>",
           "legendgroup": "down",
           "marker": {
            "color": "#636efa"
           },
           "name": "down",
           "offsetgroup": "down",
           "orientation": "v",
           "showlegend": true,
           "textposition": "auto",
           "type": "bar",
           "x": [
            "1",
            "3",
            "4",
            "5",
            "6",
            "7",
            "8",
            "9",
            "10",
            "11",
            "12",
            "13",
            "14",
            "15",
            "B1"
           ],
           "xaxis": "x",
           "y": [
            8.03,
            19.435,
            14.218,
            10.56625,
            1.61,
            15.10625,
            13.192352941176472,
            12.13,
            14.2925,
            19.782000000000004,
            16.134545454545457,
            16.88111111111111,
            19.71,
            29.41666666666667,
            9.336666666666666
           ],
           "yaxis": "y"
          },
          {
           "alignmentgroup": "True",
           "hovertemplate": "direction=up<br>Local Time (GMT+8)=0<br>floor=%{x}<br>avgWait_weekday=%{y}<extra></extra>",
           "legendgroup": "up",
           "marker": {
            "color": "#EF553B"
           },
           "name": "up",
           "offsetgroup": "up",
           "orientation": "v",
           "showlegend": true,
           "textposition": "auto",
           "type": "bar",
           "x": [
            "1",
            "2",
            "3",
            "4",
            "5",
            "6",
            "7",
            "14",
            "B1",
            "B3",
            "B4"
           ],
           "xaxis": "x2",
           "y": [
            3.78375,
            17.56,
            14.225882352941177,
            14.673666666666666,
            13.060588235294118,
            8.64,
            10.358571428571429,
            20.495,
            13.539487179487178,
            8.47,
            17.68
           ],
           "yaxis": "y2"
          }
         ],
         "name": "0"
        },
        {
         "data": [
          {
           "alignmentgroup": "True",
           "hovertemplate": "direction=down<br>Local Time (GMT+8)=1<br>floor=%{x}<br>avgWait_weekday=%{y}<extra></extra>",
           "legendgroup": "down",
           "marker": {
            "color": "#636efa"
           },
           "name": "down",
           "offsetgroup": "down",
           "orientation": "v",
           "showlegend": true,
           "textposition": "auto",
           "type": "bar",
           "x": [
            "1",
            "2",
            "3",
            "4",
            "5",
            "6",
            "7",
            "8",
            "9",
            "10",
            "11",
            "12",
            "14",
            "15",
            "B1"
           ],
           "xaxis": "x",
           "y": [
            8.425,
            1.24,
            9.195,
            13.628,
            10.86,
            1.48,
            14.42875,
            13.823333333333332,
            13.567999999999998,
            1.2433333333333334,
            0.56,
            16.054444444444446,
            20.632857142857144,
            10.036666666666667,
            18.74
           ],
           "yaxis": "y"
          },
          {
           "alignmentgroup": "True",
           "hovertemplate": "direction=up<br>Local Time (GMT+8)=1<br>floor=%{x}<br>avgWait_weekday=%{y}<extra></extra>",
           "legendgroup": "up",
           "marker": {
            "color": "#EF553B"
           },
           "name": "up",
           "offsetgroup": "up",
           "orientation": "v",
           "showlegend": true,
           "textposition": "auto",
           "type": "bar",
           "x": [
            "1",
            "3",
            "4",
            "5",
            "6",
            "7",
            "10",
            "14",
            "B1",
            "B3",
            "B4"
           ],
           "xaxis": "x2",
           "y": [
            11.136,
            15.046666666666667,
            14.339166666666667,
            14.115,
            3.92,
            10.14,
            1.38,
            14.053333333333335,
            15.352121212121212,
            13.58,
            18.72
           ],
           "yaxis": "y2"
          }
         ],
         "name": "1"
        },
        {
         "data": [
          {
           "alignmentgroup": "True",
           "hovertemplate": "direction=down<br>Local Time (GMT+8)=2<br>floor=%{x}<br>avgWait_weekday=%{y}<extra></extra>",
           "legendgroup": "down",
           "marker": {
            "color": "#636efa"
           },
           "name": "down",
           "offsetgroup": "down",
           "orientation": "v",
           "showlegend": true,
           "textposition": "auto",
           "type": "bar",
           "x": [
            "1",
            "3",
            "4",
            "5",
            "6",
            "7",
            "8",
            "10",
            "11",
            "12",
            "13",
            "14",
            "15",
            "B1"
           ],
           "xaxis": "x",
           "y": [
            9.365,
            15.795999999999998,
            1.6,
            10.61,
            5.446000000000001,
            10.45,
            8.645,
            18.46,
            20.44,
            31.63,
            19.01,
            19.92,
            1.37,
            20.4
           ],
           "yaxis": "y"
          },
          {
           "alignmentgroup": "True",
           "hovertemplate": "direction=up<br>Local Time (GMT+8)=2<br>floor=%{x}<br>avgWait_weekday=%{y}<extra></extra>",
           "legendgroup": "up",
           "marker": {
            "color": "#EF553B"
           },
           "name": "up",
           "offsetgroup": "up",
           "orientation": "v",
           "showlegend": true,
           "textposition": "auto",
           "type": "bar",
           "x": [
            "1",
            "3",
            "4",
            "5",
            "7",
            "14",
            "B1",
            "B4"
           ],
           "xaxis": "x2",
           "y": [
            10.36,
            10.446666666666664,
            13.96,
            9.592222222222222,
            5.996666666666666,
            13.22,
            11.164117647058823,
            21.20833333333333
           ],
           "yaxis": "y2"
          }
         ],
         "name": "2"
        },
        {
         "data": [
          {
           "alignmentgroup": "True",
           "hovertemplate": "direction=down<br>Local Time (GMT+8)=3<br>floor=%{x}<br>avgWait_weekday=%{y}<extra></extra>",
           "legendgroup": "down",
           "marker": {
            "color": "#636efa"
           },
           "name": "down",
           "offsetgroup": "down",
           "orientation": "v",
           "showlegend": true,
           "textposition": "auto",
           "type": "bar",
           "x": [
            "1",
            "3",
            "5",
            "6",
            "7",
            "8",
            "9",
            "10",
            "11",
            "15",
            "B1"
           ],
           "xaxis": "x",
           "y": [
            19.943333333333328,
            18.53,
            17.959999999999994,
            11.658,
            17.128,
            1.57,
            18.105,
            19.82,
            16.22,
            14.025,
            1.33
           ],
           "yaxis": "y"
          },
          {
           "alignmentgroup": "True",
           "hovertemplate": "direction=up<br>Local Time (GMT+8)=3<br>floor=%{x}<br>avgWait_weekday=%{y}<extra></extra>",
           "legendgroup": "up",
           "marker": {
            "color": "#EF553B"
           },
           "name": "up",
           "offsetgroup": "up",
           "orientation": "v",
           "showlegend": true,
           "textposition": "auto",
           "type": "bar",
           "x": [
            "1",
            "3",
            "4",
            "5",
            "7",
            "9",
            "11",
            "B1",
            "B4"
           ],
           "xaxis": "x2",
           "y": [
            15.75,
            19.05,
            17.5,
            13.654285714285715,
            7.745,
            1.57,
            1.59,
            21.224,
            20.143333333333327
           ],
           "yaxis": "y2"
          }
         ],
         "name": "3"
        },
        {
         "data": [
          {
           "alignmentgroup": "True",
           "hovertemplate": "direction=down<br>Local Time (GMT+8)=4<br>floor=%{x}<br>avgWait_weekday=%{y}<extra></extra>",
           "legendgroup": "down",
           "marker": {
            "color": "#636efa"
           },
           "name": "down",
           "offsetgroup": "down",
           "orientation": "v",
           "showlegend": true,
           "textposition": "auto",
           "type": "bar",
           "x": [
            "1",
            "3",
            "4",
            "5",
            "6",
            "7",
            "9",
            "10",
            "11",
            "12",
            "13",
            "14",
            "15"
           ],
           "xaxis": "x",
           "y": [
            0.67,
            1.59,
            1.48,
            15.97,
            12.684,
            13.28,
            7.229999999999999,
            9.01,
            19.675,
            26.09,
            1.52,
            1.27,
            4.8725
           ],
           "yaxis": "y"
          },
          {
           "alignmentgroup": "True",
           "hovertemplate": "direction=up<br>Local Time (GMT+8)=4<br>floor=%{x}<br>avgWait_weekday=%{y}<extra></extra>",
           "legendgroup": "up",
           "marker": {
            "color": "#EF553B"
           },
           "name": "up",
           "offsetgroup": "up",
           "orientation": "v",
           "showlegend": true,
           "textposition": "auto",
           "type": "bar",
           "x": [
            "1",
            "2",
            "3",
            "4",
            "5",
            "7",
            "9",
            "B1",
            "B3",
            "B4"
           ],
           "xaxis": "x2",
           "y": [
            8.65,
            16.23,
            9.275,
            18.7,
            15.84666666666667,
            7.840000000000002,
            1.05,
            1.504,
            14.912727272727272,
            11.885
           ],
           "yaxis": "y2"
          }
         ],
         "name": "4"
        },
        {
         "data": [
          {
           "alignmentgroup": "True",
           "hovertemplate": "direction=down<br>Local Time (GMT+8)=5<br>floor=%{x}<br>avgWait_weekday=%{y}<extra></extra>",
           "legendgroup": "down",
           "marker": {
            "color": "#636efa"
           },
           "name": "down",
           "offsetgroup": "down",
           "orientation": "v",
           "showlegend": true,
           "textposition": "auto",
           "type": "bar",
           "x": [
            "1",
            "3",
            "4",
            "5",
            "6",
            "7",
            "8",
            "9",
            "10",
            "11",
            "12",
            "13",
            "14",
            "15"
           ],
           "xaxis": "x",
           "y": [
            25.10833333333333,
            19.185,
            17.965,
            29.4225,
            14.869999999999996,
            21.79,
            15.626666666666667,
            13.660000000000002,
            4.991463414634147,
            8.04,
            19.4625,
            15.765,
            18.84,
            1.59
           ],
           "yaxis": "y"
          },
          {
           "alignmentgroup": "True",
           "hovertemplate": "direction=up<br>Local Time (GMT+8)=5<br>floor=%{x}<br>avgWait_weekday=%{y}<extra></extra>",
           "legendgroup": "up",
           "marker": {
            "color": "#EF553B"
           },
           "name": "up",
           "offsetgroup": "up",
           "orientation": "v",
           "showlegend": true,
           "textposition": "auto",
           "type": "bar",
           "x": [
            "1",
            "4",
            "5",
            "6",
            "7",
            "10",
            "14",
            "B1",
            "B3",
            "B4"
           ],
           "xaxis": "x2",
           "y": [
            16.08909090909091,
            16.78,
            11.6575,
            13.876,
            12.6375,
            4.783181818181818,
            12.87,
            12.53,
            20.672727272727283,
            26.06777777777777
           ],
           "yaxis": "y2"
          }
         ],
         "name": "5"
        },
        {
         "data": [
          {
           "alignmentgroup": "True",
           "hovertemplate": "direction=down<br>Local Time (GMT+8)=6<br>floor=%{x}<br>avgWait_weekday=%{y}<extra></extra>",
           "legendgroup": "down",
           "marker": {
            "color": "#636efa"
           },
           "name": "down",
           "offsetgroup": "down",
           "orientation": "v",
           "showlegend": true,
           "textposition": "auto",
           "type": "bar",
           "x": [
            "1",
            "2",
            "3",
            "4",
            "5",
            "6",
            "7",
            "8",
            "9",
            "10",
            "11",
            "12",
            "13",
            "15",
            "B1",
            "B3"
           ],
           "xaxis": "x",
           "y": [
            24.0622077922078,
            11.63,
            24.36666666666667,
            29.2575,
            20.348000000000006,
            18.330366972477066,
            19.0025,
            18.69,
            27.415,
            11.68626086956522,
            21.91090909090909,
            15.807142857142859,
            10.221428571428572,
            14.387142857142859,
            25.195,
            29.868
           ],
           "yaxis": "y"
          },
          {
           "alignmentgroup": "True",
           "hovertemplate": "direction=up<br>Local Time (GMT+8)=6<br>floor=%{x}<br>avgWait_weekday=%{y}<extra></extra>",
           "legendgroup": "up",
           "marker": {
            "color": "#EF553B"
           },
           "name": "up",
           "offsetgroup": "up",
           "orientation": "v",
           "showlegend": true,
           "textposition": "auto",
           "type": "bar",
           "x": [
            "1",
            "2",
            "3",
            "4",
            "5",
            "6",
            "7",
            "9",
            "10",
            "11",
            "B1",
            "B3",
            "B4"
           ],
           "xaxis": "x2",
           "y": [
            16.920881542699725,
            15.592,
            8.01,
            15.766818181818184,
            13.244285714285715,
            22.400454545454544,
            19.965,
            18.331666666666667,
            15.117539682539684,
            60.53,
            16.85331081081081,
            20.990648148148146,
            21.235098039215686
           ],
           "yaxis": "y2"
          }
         ],
         "name": "6"
        },
        {
         "data": [
          {
           "alignmentgroup": "True",
           "hovertemplate": "direction=down<br>Local Time (GMT+8)=7<br>floor=%{x}<br>avgWait_weekday=%{y}<extra></extra>",
           "legendgroup": "down",
           "marker": {
            "color": "#636efa"
           },
           "name": "down",
           "offsetgroup": "down",
           "orientation": "v",
           "showlegend": true,
           "textposition": "auto",
           "type": "bar",
           "x": [
            "1",
            "2",
            "3",
            "4",
            "5",
            "6",
            "7",
            "8",
            "9",
            "10",
            "11",
            "12",
            "13",
            "14",
            "15",
            "B1",
            "B3"
           ],
           "xaxis": "x",
           "y": [
            33.544444444444444,
            36.74321428571428,
            29.16791666666667,
            28.6555,
            34.471,
            22.77988826815643,
            20.174693877551018,
            25.65685714285714,
            27.796829268292683,
            19.875507246376813,
            27.536986301369858,
            30.14692307692308,
            40.718636363636364,
            41.377234042553184,
            45.38793650793651,
            26.087634408602142,
            31.24727272727273
           ],
           "yaxis": "y"
          },
          {
           "alignmentgroup": "True",
           "hovertemplate": "direction=up<br>Local Time (GMT+8)=7<br>floor=%{x}<br>avgWait_weekday=%{y}<extra></extra>",
           "legendgroup": "up",
           "marker": {
            "color": "#EF553B"
           },
           "name": "up",
           "offsetgroup": "up",
           "orientation": "v",
           "showlegend": true,
           "textposition": "auto",
           "type": "bar",
           "x": [
            "1",
            "2",
            "3",
            "4",
            "5",
            "6",
            "7",
            "8",
            "9",
            "10",
            "11",
            "12",
            "13",
            "14",
            "B1",
            "B3",
            "B4"
           ],
           "xaxis": "x2",
           "y": [
            13.093651685393256,
            10.393766233766234,
            9.027333333333333,
            10.303809523809523,
            10.4135,
            39.46348484848485,
            30.5975,
            35.63,
            15.168,
            37.668952380952376,
            16.29714285714286,
            4.13,
            33.856,
            50.465,
            15.108409090909092,
            16.950592334494775,
            21.099675925925926
           ],
           "yaxis": "y2"
          }
         ],
         "name": "7"
        },
        {
         "data": [
          {
           "alignmentgroup": "True",
           "hovertemplate": "direction=down<br>Local Time (GMT+8)=8<br>floor=%{x}<br>avgWait_weekday=%{y}<extra></extra>",
           "legendgroup": "down",
           "marker": {
            "color": "#636efa"
           },
           "name": "down",
           "offsetgroup": "down",
           "orientation": "v",
           "showlegend": true,
           "textposition": "auto",
           "type": "bar",
           "x": [
            "1",
            "2",
            "3",
            "4",
            "5",
            "6",
            "7",
            "8",
            "9",
            "10",
            "11",
            "12",
            "13",
            "14",
            "15",
            "B1",
            "B3"
           ],
           "xaxis": "x",
           "y": [
            30.017647058823535,
            35.01154929577465,
            37.08492063492064,
            40.471111111111114,
            40.82443037974684,
            13.50298611111111,
            14.441969696969698,
            17.744827586206892,
            17.69171641791045,
            9.200937499999998,
            21.663592814371253,
            21.091597222222227,
            32.58702702702703,
            52.31697478991596,
            58.90015037593986,
            20.44879518072289,
            24.27
           ],
           "yaxis": "y"
          },
          {
           "alignmentgroup": "True",
           "hovertemplate": "direction=up<br>Local Time (GMT+8)=8<br>floor=%{x}<br>avgWait_weekday=%{y}<extra></extra>",
           "legendgroup": "up",
           "marker": {
            "color": "#EF553B"
           },
           "name": "up",
           "offsetgroup": "up",
           "orientation": "v",
           "showlegend": true,
           "textposition": "auto",
           "type": "bar",
           "x": [
            "1",
            "2",
            "3",
            "4",
            "5",
            "6",
            "7",
            "8",
            "9",
            "10",
            "11",
            "12",
            "13",
            "14",
            "B1",
            "B3",
            "B4"
           ],
           "xaxis": "x2",
           "y": [
            12.0787899543379,
            9.845343511450382,
            7.637755102040817,
            9.807317073170733,
            9.978,
            52.73866666666666,
            50.574615384615385,
            38.549583333333345,
            54.172857142857154,
            40.097,
            84.76,
            89.32000000000002,
            55.45777777777778,
            105.22875,
            16.208586387434558,
            15.484553571428574,
            28.18149019607843
           ],
           "yaxis": "y2"
          }
         ],
         "name": "8"
        },
        {
         "data": [
          {
           "alignmentgroup": "True",
           "hovertemplate": "direction=down<br>Local Time (GMT+8)=9<br>floor=%{x}<br>avgWait_weekday=%{y}<extra></extra>",
           "legendgroup": "down",
           "marker": {
            "color": "#636efa"
           },
           "name": "down",
           "offsetgroup": "down",
           "orientation": "v",
           "showlegend": true,
           "textposition": "auto",
           "type": "bar",
           "x": [
            "1",
            "2",
            "3",
            "4",
            "5",
            "6",
            "7",
            "8",
            "9",
            "10",
            "11",
            "12",
            "13",
            "14",
            "15",
            "B1",
            "B3"
           ],
           "xaxis": "x",
           "y": [
            18.440099009900987,
            28.764675324675327,
            34.77699029126214,
            32.21,
            46.30752808988765,
            12.746573033707865,
            23.77867647058824,
            16.423592814371258,
            14.448124999999996,
            23.602105263157892,
            21.203231707317073,
            21.708270676691733,
            29.532635658914728,
            51.79058510638298,
            62.700147058823525,
            30.422000000000004,
            20.03333333333333
           ],
           "yaxis": "y"
          },
          {
           "alignmentgroup": "True",
           "hovertemplate": "direction=up<br>Local Time (GMT+8)=9<br>floor=%{x}<br>avgWait_weekday=%{y}<extra></extra>",
           "legendgroup": "up",
           "marker": {
            "color": "#EF553B"
           },
           "name": "up",
           "offsetgroup": "up",
           "orientation": "v",
           "showlegend": true,
           "textposition": "auto",
           "type": "bar",
           "x": [
            "1",
            "2",
            "3",
            "4",
            "5",
            "6",
            "7",
            "8",
            "9",
            "10",
            "11",
            "12",
            "13",
            "14",
            "B1",
            "B3",
            "B4"
           ],
           "xaxis": "x2",
           "y": [
            13.388571428571426,
            15.068928571428568,
            10.831728395061727,
            9.114137931034485,
            9.838285714285718,
            57.50764705882354,
            49.654,
            51.1578125,
            36.097333333333346,
            58.74375,
            37.33363636363636,
            53.91260869565217,
            36.99521739130434,
            79.01857142857143,
            16.586278317152104,
            18.232418300653592,
            28.93581589958159
           ],
           "yaxis": "y2"
          }
         ],
         "name": "9"
        },
        {
         "data": [
          {
           "alignmentgroup": "True",
           "hovertemplate": "direction=down<br>Local Time (GMT+8)=10<br>floor=%{x}<br>avgWait_weekday=%{y}<extra></extra>",
           "legendgroup": "down",
           "marker": {
            "color": "#636efa"
           },
           "name": "down",
           "offsetgroup": "down",
           "orientation": "v",
           "showlegend": true,
           "textposition": "auto",
           "type": "bar",
           "x": [
            "1",
            "2",
            "3",
            "4",
            "5",
            "6",
            "7",
            "8",
            "9",
            "10",
            "11",
            "12",
            "13",
            "14",
            "15",
            "B1",
            "B3"
           ],
           "xaxis": "x",
           "y": [
            22.38050505050505,
            37.01015625,
            27.345057471264372,
            49.31260869565217,
            41.4441095890411,
            13.780436893203886,
            13.658615384615386,
            13.25740506329114,
            16.915675675675676,
            10.860869565217392,
            18.50221476510067,
            21.85371900826446,
            28.32121495327103,
            47.00628415300546,
            58.98550724637681,
            18.294666666666664,
            9.3925
           ],
           "yaxis": "y"
          },
          {
           "alignmentgroup": "True",
           "hovertemplate": "direction=up<br>Local Time (GMT+8)=10<br>floor=%{x}<br>avgWait_weekday=%{y}<extra></extra>",
           "legendgroup": "up",
           "marker": {
            "color": "#EF553B"
           },
           "name": "up",
           "offsetgroup": "up",
           "orientation": "v",
           "showlegend": true,
           "textposition": "auto",
           "type": "bar",
           "x": [
            "1",
            "2",
            "3",
            "4",
            "5",
            "6",
            "7",
            "8",
            "9",
            "10",
            "11",
            "12",
            "13",
            "14",
            "B1",
            "B3",
            "B4"
           ],
           "xaxis": "x2",
           "y": [
            13.70707395498392,
            9.086277372262774,
            10.271566265060242,
            9.694130434782608,
            10.325833333333335,
            43.27655737704918,
            49.59741935483871,
            42.74677419354838,
            45.27516129032258,
            16.176,
            29.474545454545456,
            61.308125,
            31.78625,
            80.518,
            15.052967479674797,
            14.11086021505376,
            32.1219730941704
           ],
           "yaxis": "y2"
          }
         ],
         "name": "10"
        },
        {
         "data": [
          {
           "alignmentgroup": "True",
           "hovertemplate": "direction=down<br>Local Time (GMT+8)=11<br>floor=%{x}<br>avgWait_weekday=%{y}<extra></extra>",
           "legendgroup": "down",
           "marker": {
            "color": "#636efa"
           },
           "name": "down",
           "offsetgroup": "down",
           "orientation": "v",
           "showlegend": true,
           "textposition": "auto",
           "type": "bar",
           "x": [
            "1",
            "2",
            "3",
            "4",
            "5",
            "6",
            "7",
            "8",
            "9",
            "10",
            "11",
            "12",
            "13",
            "14",
            "15",
            "B1",
            "B3"
           ],
           "xaxis": "x",
           "y": [
            16.186874999999993,
            24.17361111111111,
            27.17586466165414,
            35.90232876712329,
            54.33087378640776,
            10.639719626168224,
            11.37225988700565,
            11.253636363636362,
            13.28433155080214,
            11.671012658227847,
            15.726666666666668,
            22.3829696969697,
            31.397610062893087,
            52.34378640776699,
            77.94909722222222,
            21.838805970149245,
            52.477500000000006
           ],
           "yaxis": "y"
          },
          {
           "alignmentgroup": "True",
           "hovertemplate": "direction=up<br>Local Time (GMT+8)=11<br>floor=%{x}<br>avgWait_weekday=%{y}<extra></extra>",
           "legendgroup": "up",
           "marker": {
            "color": "#EF553B"
           },
           "name": "up",
           "offsetgroup": "up",
           "orientation": "v",
           "showlegend": true,
           "textposition": "auto",
           "type": "bar",
           "x": [
            "1",
            "2",
            "3",
            "4",
            "5",
            "6",
            "7",
            "8",
            "9",
            "10",
            "11",
            "12",
            "13",
            "14",
            "B1",
            "B3",
            "B4"
           ],
           "xaxis": "x2",
           "y": [
            11.20741134751773,
            10.625308641975307,
            8.814210526315788,
            10.394096385542168,
            11.078316831683168,
            81.95076923076924,
            75.44127659574468,
            47.22413793103448,
            50.98,
            41.37470588235294,
            81.17333333333335,
            36.303,
            45.1675,
            35.168,
            19.40496732026144,
            16.533846153846152,
            30.19384976525821
           ],
           "yaxis": "y2"
          }
         ],
         "name": "11"
        },
        {
         "data": [
          {
           "alignmentgroup": "True",
           "hovertemplate": "direction=down<br>Local Time (GMT+8)=12<br>floor=%{x}<br>avgWait_weekday=%{y}<extra></extra>",
           "legendgroup": "down",
           "marker": {
            "color": "#636efa"
           },
           "name": "down",
           "offsetgroup": "down",
           "orientation": "v",
           "showlegend": true,
           "textposition": "auto",
           "type": "bar",
           "x": [
            "1",
            "2",
            "3",
            "4",
            "5",
            "6",
            "7",
            "8",
            "9",
            "10",
            "11",
            "12",
            "13",
            "14",
            "15",
            "B1",
            "B3"
           ],
           "xaxis": "x",
           "y": [
            26.69333333333333,
            30.095,
            33.076153846153844,
            24.990701754385967,
            38.430917431192654,
            10.897340425531914,
            11.698097826086956,
            11.650054945054945,
            14.069397590361445,
            15.527692307692305,
            14.581324503311254,
            22.67571428571428,
            27.33390625,
            55.69585492227978,
            62.7375,
            24.8925,
            17.30636363636364
           ],
           "yaxis": "y"
          },
          {
           "alignmentgroup": "True",
           "hovertemplate": "direction=up<br>Local Time (GMT+8)=12<br>floor=%{x}<br>avgWait_weekday=%{y}<extra></extra>",
           "legendgroup": "up",
           "marker": {
            "color": "#EF553B"
           },
           "name": "up",
           "offsetgroup": "up",
           "orientation": "v",
           "showlegend": true,
           "textposition": "auto",
           "type": "bar",
           "x": [
            "1",
            "2",
            "3",
            "4",
            "5",
            "6",
            "7",
            "8",
            "9",
            "10",
            "11",
            "12",
            "13",
            "14",
            "B1",
            "B3",
            "B4"
           ],
           "xaxis": "x2",
           "y": [
            12.531948424068771,
            9.719496855345913,
            7.915147058823528,
            9.125754716981133,
            8.859634146341463,
            66.72657142857143,
            59.97212121212121,
            32.99249999999999,
            47.52555555555556,
            55.553709677419356,
            25.94,
            44.3325,
            45.02095238095239,
            44.37666666666666,
            17.771449631449627,
            15.636315789473686,
            28.11128888888889
           ],
           "yaxis": "y2"
          }
         ],
         "name": "12"
        },
        {
         "data": [
          {
           "alignmentgroup": "True",
           "hovertemplate": "direction=down<br>Local Time (GMT+8)=13<br>floor=%{x}<br>avgWait_weekday=%{y}<extra></extra>",
           "legendgroup": "down",
           "marker": {
            "color": "#636efa"
           },
           "name": "down",
           "offsetgroup": "down",
           "orientation": "v",
           "showlegend": true,
           "textposition": "auto",
           "type": "bar",
           "x": [
            "1",
            "2",
            "3",
            "4",
            "5",
            "6",
            "7",
            "8",
            "9",
            "10",
            "11",
            "12",
            "13",
            "14",
            "15",
            "B1",
            "B3"
           ],
           "xaxis": "x",
           "y": [
            24.9458,
            35.291585365853656,
            43.14269230769231,
            39.21245901639345,
            44.07285714285714,
            12.411571428571428,
            10.745925925925924,
            14.322146596858635,
            16.0545197740113,
            14.701492537313433,
            16.284709302325584,
            15.828896103896101,
            24.919945054945053,
            48.01015384615384,
            61.51992907801419,
            22.0677027027027,
            23.052666666666664
           ],
           "yaxis": "y"
          },
          {
           "alignmentgroup": "True",
           "hovertemplate": "direction=up<br>Local Time (GMT+8)=13<br>floor=%{x}<br>avgWait_weekday=%{y}<extra></extra>",
           "legendgroup": "up",
           "marker": {
            "color": "#EF553B"
           },
           "name": "up",
           "offsetgroup": "up",
           "orientation": "v",
           "showlegend": true,
           "textposition": "auto",
           "type": "bar",
           "x": [
            "1",
            "2",
            "3",
            "4",
            "5",
            "6",
            "7",
            "8",
            "9",
            "10",
            "11",
            "12",
            "13",
            "B1",
            "B3",
            "B4"
           ],
           "xaxis": "x2",
           "y": [
            12.30185507246377,
            9.67736842105263,
            10.330561797752807,
            8.7271,
            10.059102564102563,
            72.84161290322581,
            74.63418604651162,
            62.41333333333333,
            48.968,
            41.822,
            17.071666666666665,
            49.549,
            30.598666666666666,
            15.615630252100846,
            14.636380952380955,
            25.372103174603172
           ],
           "yaxis": "y2"
          }
         ],
         "name": "13"
        },
        {
         "data": [
          {
           "alignmentgroup": "True",
           "hovertemplate": "direction=down<br>Local Time (GMT+8)=14<br>floor=%{x}<br>avgWait_weekday=%{y}<extra></extra>",
           "legendgroup": "down",
           "marker": {
            "color": "#636efa"
           },
           "name": "down",
           "offsetgroup": "down",
           "orientation": "v",
           "showlegend": true,
           "textposition": "auto",
           "type": "bar",
           "x": [
            "1",
            "2",
            "3",
            "4",
            "5",
            "6",
            "7",
            "8",
            "9",
            "10",
            "11",
            "12",
            "13",
            "14",
            "15",
            "B1",
            "B3"
           ],
           "xaxis": "x",
           "y": [
            24.87350877192982,
            29.43313253012048,
            34.79205607476636,
            52.843999999999994,
            45.701410256410256,
            14.324194915254235,
            11.555714285714286,
            13.801686046511627,
            15.593955223880599,
            12.745076923076926,
            20.79647887323944,
            19.51030303030303,
            30.58196850393701,
            44.64534090909091,
            73.14290780141843,
            22.41370967741936,
            25.2
           ],
           "yaxis": "y"
          },
          {
           "alignmentgroup": "True",
           "hovertemplate": "direction=up<br>Local Time (GMT+8)=14<br>floor=%{x}<br>avgWait_weekday=%{y}<extra></extra>",
           "legendgroup": "up",
           "marker": {
            "color": "#EF553B"
           },
           "name": "up",
           "offsetgroup": "up",
           "orientation": "v",
           "showlegend": true,
           "textposition": "auto",
           "type": "bar",
           "x": [
            "1",
            "2",
            "3",
            "4",
            "5",
            "6",
            "7",
            "8",
            "9",
            "10",
            "11",
            "12",
            "13",
            "14",
            "B1",
            "B3",
            "B4"
           ],
           "xaxis": "x2",
           "y": [
            14.298044871794872,
            9.962236842105263,
            9.455461538461538,
            11.327542372881355,
            10.295963302752293,
            66.5485,
            58.63872727272727,
            35.18818181818182,
            36.494583333333345,
            22.01461538461539,
            34.93391304347826,
            36.4776,
            35.90777777777778,
            84.67736842105263,
            16.327923875432525,
            15.368508771929825,
            30.853911290322586
           ],
           "yaxis": "y2"
          }
         ],
         "name": "14"
        },
        {
         "data": [
          {
           "alignmentgroup": "True",
           "hovertemplate": "direction=down<br>Local Time (GMT+8)=15<br>floor=%{x}<br>avgWait_weekday=%{y}<extra></extra>",
           "legendgroup": "down",
           "marker": {
            "color": "#636efa"
           },
           "name": "down",
           "offsetgroup": "down",
           "orientation": "v",
           "showlegend": true,
           "textposition": "auto",
           "type": "bar",
           "x": [
            "1",
            "2",
            "3",
            "4",
            "5",
            "6",
            "7",
            "8",
            "9",
            "10",
            "11",
            "12",
            "13",
            "14",
            "15",
            "B1",
            "B3"
           ],
           "xaxis": "x",
           "y": [
            25.07018348623853,
            25.493595505617986,
            29.85433628318584,
            44.42030000000001,
            47.35247524752476,
            10.781720930232561,
            11.113006134969325,
            14.991263157894736,
            13.209261744966446,
            13.823516483516483,
            15.955401459854011,
            22.486981132075478,
            26.046078431372553,
            57.71850000000001,
            82.8184496124031,
            21.557142857142853,
            30.204166666666666
           ],
           "yaxis": "y"
          },
          {
           "alignmentgroup": "True",
           "hovertemplate": "direction=up<br>Local Time (GMT+8)=15<br>floor=%{x}<br>avgWait_weekday=%{y}<extra></extra>",
           "legendgroup": "up",
           "marker": {
            "color": "#EF553B"
           },
           "name": "up",
           "offsetgroup": "up",
           "orientation": "v",
           "showlegend": true,
           "textposition": "auto",
           "type": "bar",
           "x": [
            "1",
            "2",
            "3",
            "4",
            "5",
            "6",
            "7",
            "8",
            "9",
            "10",
            "11",
            "12",
            "13",
            "14",
            "B1",
            "B3",
            "B4"
           ],
           "xaxis": "x2",
           "y": [
            13.244548494983276,
            10.565414012738854,
            11.30528,
            9.75609022556391,
            9.69009900990099,
            72.45718749999997,
            60.96323529411765,
            38.51147058823529,
            47.282777777777774,
            37.32173913043478,
            30.818571428571428,
            52.3796,
            34.49277777777777,
            91.5975,
            17.20033472803347,
            17.614,
            39.487117117117116
           ],
           "yaxis": "y2"
          }
         ],
         "name": "15"
        },
        {
         "data": [
          {
           "alignmentgroup": "True",
           "hovertemplate": "direction=down<br>Local Time (GMT+8)=16<br>floor=%{x}<br>avgWait_weekday=%{y}<extra></extra>",
           "legendgroup": "down",
           "marker": {
            "color": "#636efa"
           },
           "name": "down",
           "offsetgroup": "down",
           "orientation": "v",
           "showlegend": true,
           "textposition": "auto",
           "type": "bar",
           "x": [
            "1",
            "2",
            "3",
            "4",
            "5",
            "6",
            "7",
            "8",
            "9",
            "10",
            "11",
            "12",
            "13",
            "14",
            "15",
            "B1",
            "B3"
           ],
           "xaxis": "x",
           "y": [
            20.94330188679245,
            26.157341772151906,
            29.853188405797106,
            35.33483870967742,
            47.7856,
            11.968761904761903,
            11.547013888888891,
            14.591090047393365,
            13.824875,
            14.776792452830188,
            17.963595505617977,
            19.070794701986753,
            25.39195945945946,
            53.23207070707071,
            66.45490445859873,
            23.397843137254906,
            9.55
           ],
           "yaxis": "y"
          },
          {
           "alignmentgroup": "True",
           "hovertemplate": "direction=up<br>Local Time (GMT+8)=16<br>floor=%{x}<br>avgWait_weekday=%{y}<extra></extra>",
           "legendgroup": "up",
           "marker": {
            "color": "#EF553B"
           },
           "name": "up",
           "offsetgroup": "up",
           "orientation": "v",
           "showlegend": true,
           "textposition": "auto",
           "type": "bar",
           "x": [
            "1",
            "2",
            "3",
            "4",
            "5",
            "6",
            "7",
            "8",
            "9",
            "10",
            "11",
            "12",
            "13",
            "14",
            "B1",
            "B3",
            "B4"
           ],
           "xaxis": "x2",
           "y": [
            13.46622950819672,
            9.040130718954249,
            9.854083333333334,
            11.835,
            12.308659793814433,
            69.12615384615385,
            62.5461403508772,
            36.65055555555556,
            34.451,
            32.879285714285714,
            59.048888888888904,
            46.59777777777778,
            51.80105263157895,
            76.92399999999999,
            15.987162629757785,
            13.770795454545453,
            29.41120754716981
           ],
           "yaxis": "y2"
          }
         ],
         "name": "16"
        },
        {
         "data": [
          {
           "alignmentgroup": "True",
           "hovertemplate": "direction=down<br>Local Time (GMT+8)=17<br>floor=%{x}<br>avgWait_weekday=%{y}<extra></extra>",
           "legendgroup": "down",
           "marker": {
            "color": "#636efa"
           },
           "name": "down",
           "offsetgroup": "down",
           "orientation": "v",
           "showlegend": true,
           "textposition": "auto",
           "type": "bar",
           "x": [
            "1",
            "2",
            "3",
            "4",
            "5",
            "6",
            "7",
            "8",
            "9",
            "10",
            "11",
            "12",
            "13",
            "14",
            "15",
            "B1",
            "B3"
           ],
           "xaxis": "x",
           "y": [
            22.04549180327869,
            18.3768253968254,
            31.92855670103093,
            26.321263157894734,
            46.56439393939394,
            8.888839285714285,
            11.087283018867923,
            11.033951612903225,
            12.132345679012346,
            12.177674418604653,
            14.285541666666667,
            16.824532019704435,
            22.43669902912621,
            38.63958115183246,
            61.328351063829786,
            18.612266666666667,
            36.124
           ],
           "yaxis": "y"
          },
          {
           "alignmentgroup": "True",
           "hovertemplate": "direction=up<br>Local Time (GMT+8)=17<br>floor=%{x}<br>avgWait_weekday=%{y}<extra></extra>",
           "legendgroup": "up",
           "marker": {
            "color": "#EF553B"
           },
           "name": "up",
           "offsetgroup": "up",
           "orientation": "v",
           "showlegend": true,
           "textposition": "auto",
           "type": "bar",
           "x": [
            "1",
            "2",
            "3",
            "4",
            "5",
            "6",
            "7",
            "8",
            "9",
            "10",
            "11",
            "12",
            "13",
            "14",
            "B1",
            "B3",
            "B4"
           ],
           "xaxis": "x2",
           "y": [
            14.24584980237154,
            10.687218045112779,
            12.0923595505618,
            10.73032,
            11.762911392405064,
            66.17484848484848,
            63.2878125,
            41.66777777777778,
            48.4290909090909,
            53.12555555555554,
            42.556666666666665,
            59.19666666666666,
            36.04357142857143,
            87.46153846153847,
            17.748929663608557,
            13.679529411764705,
            28.595255474452557
           ],
           "yaxis": "y2"
          }
         ],
         "name": "17"
        },
        {
         "data": [
          {
           "alignmentgroup": "True",
           "hovertemplate": "direction=down<br>Local Time (GMT+8)=18<br>floor=%{x}<br>avgWait_weekday=%{y}<extra></extra>",
           "legendgroup": "down",
           "marker": {
            "color": "#636efa"
           },
           "name": "down",
           "offsetgroup": "down",
           "orientation": "v",
           "showlegend": true,
           "textposition": "auto",
           "type": "bar",
           "x": [
            "1",
            "2",
            "3",
            "4",
            "5",
            "6",
            "7",
            "8",
            "9",
            "10",
            "11",
            "12",
            "13",
            "14",
            "15",
            "B1",
            "B3"
           ],
           "xaxis": "x",
           "y": [
            16.542741935483868,
            23.60795918367347,
            22.90538461538461,
            30.79460317460317,
            33.256534653465344,
            12.17037234042553,
            12.048626373626375,
            14.576572769953053,
            14.176341463414635,
            17.61647058823529,
            13.484432432432433,
            17.821263736263738,
            20.640265957446807,
            36.24246376811593,
            44.23891891891893,
            22.537868852459017,
            17.66
           ],
           "yaxis": "y"
          },
          {
           "alignmentgroup": "True",
           "hovertemplate": "direction=up<br>Local Time (GMT+8)=18<br>floor=%{x}<br>avgWait_weekday=%{y}<extra></extra>",
           "legendgroup": "up",
           "marker": {
            "color": "#EF553B"
           },
           "name": "up",
           "offsetgroup": "up",
           "orientation": "v",
           "showlegend": true,
           "textposition": "auto",
           "type": "bar",
           "x": [
            "1",
            "2",
            "3",
            "4",
            "5",
            "6",
            "7",
            "8",
            "9",
            "10",
            "11",
            "12",
            "13",
            "14",
            "B1",
            "B3",
            "B4"
           ],
           "xaxis": "x2",
           "y": [
            15.249947089947089,
            11.778194444444445,
            10.017567567567568,
            17.817777777777778,
            15.86862745098039,
            49.11749999999999,
            41.03916666666667,
            62.404285714285706,
            29.076666666666664,
            62.62777777777779,
            35.215,
            17.945,
            66.00888888888889,
            29.365,
            17.90008450704225,
            16.665769230769232,
            19.77994897959184
           ],
           "yaxis": "y2"
          }
         ],
         "name": "18"
        },
        {
         "data": [
          {
           "alignmentgroup": "True",
           "hovertemplate": "direction=down<br>Local Time (GMT+8)=19<br>floor=%{x}<br>avgWait_weekday=%{y}<extra></extra>",
           "legendgroup": "down",
           "marker": {
            "color": "#636efa"
           },
           "name": "down",
           "offsetgroup": "down",
           "orientation": "v",
           "showlegend": true,
           "textposition": "auto",
           "type": "bar",
           "x": [
            "1",
            "2",
            "3",
            "4",
            "5",
            "6",
            "7",
            "8",
            "9",
            "10",
            "11",
            "12",
            "13",
            "14",
            "15",
            "B1",
            "B3"
           ],
           "xaxis": "x",
           "y": [
            14.9778,
            21.28529411764705,
            19.352285714285713,
            19.04875,
            26.498709677419356,
            15.827961165048544,
            16.23556818181818,
            15.275789473684213,
            17.237956989247312,
            16.179545454545455,
            21.536,
            20.9246875,
            20.738024691358024,
            23.912839506172837,
            35.3293103448276,
            17.660217391304347,
            16.26
           ],
           "yaxis": "y"
          },
          {
           "alignmentgroup": "True",
           "hovertemplate": "direction=up<br>Local Time (GMT+8)=19<br>floor=%{x}<br>avgWait_weekday=%{y}<extra></extra>",
           "legendgroup": "up",
           "marker": {
            "color": "#EF553B"
           },
           "name": "up",
           "offsetgroup": "up",
           "orientation": "v",
           "showlegend": true,
           "textposition": "auto",
           "type": "bar",
           "x": [
            "1",
            "2",
            "3",
            "4",
            "5",
            "6",
            "7",
            "8",
            "9",
            "10",
            "11",
            "12",
            "13",
            "14",
            "B1",
            "B3",
            "B4"
           ],
           "xaxis": "x2",
           "y": [
            12.243076923076925,
            14.951,
            14.84,
            16.410117647058822,
            15.570232558139534,
            23.463750000000005,
            25.535555555555554,
            14.082,
            24.9225,
            28.1,
            45.2,
            39.94,
            41.815,
            31.218000000000004,
            13.904722222222226,
            17.78341463414634,
            18.28663366336633
           ],
           "yaxis": "y2"
          }
         ],
         "name": "19"
        },
        {
         "data": [
          {
           "alignmentgroup": "True",
           "hovertemplate": "direction=down<br>Local Time (GMT+8)=20<br>floor=%{x}<br>avgWait_weekday=%{y}<extra></extra>",
           "legendgroup": "down",
           "marker": {
            "color": "#636efa"
           },
           "name": "down",
           "offsetgroup": "down",
           "orientation": "v",
           "showlegend": true,
           "textposition": "auto",
           "type": "bar",
           "x": [
            "1",
            "2",
            "3",
            "4",
            "5",
            "6",
            "7",
            "8",
            "9",
            "10",
            "11",
            "12",
            "13",
            "14",
            "15",
            "B1",
            "B3"
           ],
           "xaxis": "x",
           "y": [
            12.755555555555556,
            12.496363636363638,
            13.575517241379313,
            16.865666666666666,
            16.945,
            12.648170731707316,
            13.99390243902439,
            14.232823529411766,
            19.695535714285715,
            10.84153846153846,
            19.988301886792453,
            20.96122448979592,
            21.4168,
            25.72342857142857,
            24.724166666666665,
            11.756315789473685,
            9.53
           ],
           "yaxis": "y"
          },
          {
           "alignmentgroup": "True",
           "hovertemplate": "direction=up<br>Local Time (GMT+8)=20<br>floor=%{x}<br>avgWait_weekday=%{y}<extra></extra>",
           "legendgroup": "up",
           "marker": {
            "color": "#EF553B"
           },
           "name": "up",
           "offsetgroup": "up",
           "orientation": "v",
           "showlegend": true,
           "textposition": "auto",
           "type": "bar",
           "x": [
            "1",
            "2",
            "3",
            "4",
            "5",
            "6",
            "7",
            "8",
            "9",
            "10",
            "12",
            "13",
            "14",
            "B1",
            "B3",
            "B4"
           ],
           "xaxis": "x2",
           "y": [
            11.075999999999999,
            11.019230769230768,
            13.214444444444444,
            16.735833333333332,
            18.722500000000004,
            28.1825,
            23.545,
            28.047999999999995,
            14.896666666666668,
            12.919999999999998,
            7.57,
            31.005000000000006,
            34.84333333333333,
            13.220894736842109,
            9.46891891891892,
            18.636885245901638
           ],
           "yaxis": "y2"
          }
         ],
         "name": "20"
        },
        {
         "data": [
          {
           "alignmentgroup": "True",
           "hovertemplate": "direction=down<br>Local Time (GMT+8)=21<br>floor=%{x}<br>avgWait_weekday=%{y}<extra></extra>",
           "legendgroup": "down",
           "marker": {
            "color": "#636efa"
           },
           "name": "down",
           "offsetgroup": "down",
           "orientation": "v",
           "showlegend": true,
           "textposition": "auto",
           "type": "bar",
           "x": [
            "1",
            "2",
            "3",
            "4",
            "5",
            "6",
            "7",
            "8",
            "9",
            "10",
            "11",
            "12",
            "13",
            "14",
            "15",
            "B1"
           ],
           "xaxis": "x",
           "y": [
            7.246,
            17.56,
            14.822142857142856,
            19.4048,
            12.99425,
            12.462391304347825,
            16.493000000000002,
            15.77315789473684,
            17.743448275862068,
            11.773636363636365,
            19.31058823529412,
            20.521923076923073,
            21.40710526315789,
            19.682954545454546,
            27.8104,
            11.792727272727273
           ],
           "yaxis": "y"
          },
          {
           "alignmentgroup": "True",
           "hovertemplate": "direction=up<br>Local Time (GMT+8)=21<br>floor=%{x}<br>avgWait_weekday=%{y}<extra></extra>",
           "legendgroup": "up",
           "marker": {
            "color": "#EF553B"
           },
           "name": "up",
           "offsetgroup": "up",
           "orientation": "v",
           "showlegend": true,
           "textposition": "auto",
           "type": "bar",
           "x": [
            "1",
            "2",
            "3",
            "4",
            "5",
            "6",
            "7",
            "8",
            "9",
            "10",
            "12",
            "14",
            "B1",
            "B3",
            "B4"
           ],
           "xaxis": "x2",
           "y": [
            9.712916666666667,
            11.052,
            11.881818181818181,
            14.150869565217393,
            14.415384615384614,
            23.660000000000004,
            7.99,
            16.335,
            22.3975,
            18.215384615384615,
            30.32,
            18.1275,
            12.185798816568049,
            14.210909090909093,
            10.55
           ],
           "yaxis": "y2"
          }
         ],
         "name": "21"
        },
        {
         "data": [
          {
           "alignmentgroup": "True",
           "hovertemplate": "direction=down<br>Local Time (GMT+8)=22<br>floor=%{x}<br>avgWait_weekday=%{y}<extra></extra>",
           "legendgroup": "down",
           "marker": {
            "color": "#636efa"
           },
           "name": "down",
           "offsetgroup": "down",
           "orientation": "v",
           "showlegend": true,
           "textposition": "auto",
           "type": "bar",
           "x": [
            "1",
            "2",
            "3",
            "4",
            "5",
            "6",
            "7",
            "8",
            "9",
            "10",
            "11",
            "12",
            "13",
            "14",
            "15",
            "B1"
           ],
           "xaxis": "x",
           "y": [
            10.585238095238095,
            17.93,
            16.63444444444444,
            19.437419354838703,
            17.574444444444445,
            12.79271186440678,
            16.96777777777778,
            13.486521739130435,
            17.232499999999998,
            10.961839080459773,
            15.963333333333333,
            19.47571428571428,
            22.837619047619054,
            23.480625,
            19.11823529411765,
            15.246666666666668
           ],
           "yaxis": "y"
          },
          {
           "alignmentgroup": "True",
           "hovertemplate": "direction=up<br>Local Time (GMT+8)=22<br>floor=%{x}<br>avgWait_weekday=%{y}<extra></extra>",
           "legendgroup": "up",
           "marker": {
            "color": "#EF553B"
           },
           "name": "up",
           "offsetgroup": "up",
           "orientation": "v",
           "showlegend": true,
           "textposition": "auto",
           "type": "bar",
           "x": [
            "1",
            "2",
            "3",
            "4",
            "5",
            "6",
            "7",
            "8",
            "9",
            "10",
            "14",
            "B1",
            "B3",
            "B4"
           ],
           "xaxis": "x2",
           "y": [
            9.361983471074382,
            19.81,
            8.68,
            12.682916666666666,
            17.02235294117647,
            11.765,
            14.09625,
            18.085,
            23.77,
            20.385,
            19.802,
            11.485172413793107,
            17.42866666666667,
            7.624166666666667
           ],
           "yaxis": "y2"
          }
         ],
         "name": "22"
        },
        {
         "data": [
          {
           "alignmentgroup": "True",
           "hovertemplate": "direction=down<br>Local Time (GMT+8)=23<br>floor=%{x}<br>avgWait_weekday=%{y}<extra></extra>",
           "legendgroup": "down",
           "marker": {
            "color": "#636efa"
           },
           "name": "down",
           "offsetgroup": "down",
           "orientation": "v",
           "showlegend": true,
           "textposition": "auto",
           "type": "bar",
           "x": [
            "1",
            "2",
            "3",
            "4",
            "5",
            "6",
            "7",
            "8",
            "9",
            "10",
            "11",
            "12",
            "13",
            "14",
            "15",
            "B1"
           ],
           "xaxis": "x",
           "y": [
            7.184,
            17.65,
            18.75,
            13.6625,
            19.92875,
            14.178923076923075,
            17.414444444444445,
            13.088500000000002,
            13.743076923076925,
            11.638823529411766,
            16.846,
            12.665999999999999,
            17.364545454545453,
            13.963333333333333,
            23.44,
            11
           ],
           "yaxis": "y"
          },
          {
           "alignmentgroup": "True",
           "hovertemplate": "direction=up<br>Local Time (GMT+8)=23<br>floor=%{x}<br>avgWait_weekday=%{y}<extra></extra>",
           "legendgroup": "up",
           "marker": {
            "color": "#EF553B"
           },
           "name": "up",
           "offsetgroup": "up",
           "orientation": "v",
           "showlegend": true,
           "textposition": "auto",
           "type": "bar",
           "x": [
            "1",
            "2",
            "3",
            "4",
            "5",
            "6",
            "7",
            "9",
            "11",
            "12",
            "14",
            "B1",
            "B3",
            "B4"
           ],
           "xaxis": "x2",
           "y": [
            12.376666666666667,
            0.92,
            12.398333333333332,
            11.448571428571427,
            15.12,
            13.3165625,
            10.655999999999999,
            15.72,
            1.27,
            17.62,
            8.905000000000003,
            10.851379310344827,
            10.014,
            12.476111111111114
           ],
           "yaxis": "y2"
          }
         ],
         "name": "23"
        }
       ],
       "layout": {
        "annotations": [
         {
          "font": {},
          "showarrow": false,
          "text": "direction=down",
          "x": 0.245,
          "xanchor": "center",
          "xref": "paper",
          "y": 1,
          "yanchor": "bottom",
          "yref": "paper"
         },
         {
          "font": {},
          "showarrow": false,
          "text": "direction=up",
          "x": 0.755,
          "xanchor": "center",
          "xref": "paper",
          "y": 1,
          "yanchor": "bottom",
          "yref": "paper"
         }
        ],
        "barmode": "relative",
        "legend": {
         "title": {
          "text": "direction"
         },
         "tracegroupgap": 0
        },
        "margin": {
         "t": 60
        },
        "sliders": [
         {
          "active": 0,
          "currentvalue": {
           "prefix": "Local Time (GMT+8)="
          },
          "len": 0.9,
          "pad": {
           "b": 10,
           "t": 60
          },
          "steps": [
           {
            "args": [
             [
              "0"
             ],
             {
              "frame": {
               "duration": 0,
               "redraw": true
              },
              "fromcurrent": true,
              "mode": "immediate",
              "transition": {
               "duration": 0,
               "easing": "linear"
              }
             }
            ],
            "label": "0",
            "method": "animate"
           },
           {
            "args": [
             [
              "1"
             ],
             {
              "frame": {
               "duration": 0,
               "redraw": true
              },
              "fromcurrent": true,
              "mode": "immediate",
              "transition": {
               "duration": 0,
               "easing": "linear"
              }
             }
            ],
            "label": "1",
            "method": "animate"
           },
           {
            "args": [
             [
              "2"
             ],
             {
              "frame": {
               "duration": 0,
               "redraw": true
              },
              "fromcurrent": true,
              "mode": "immediate",
              "transition": {
               "duration": 0,
               "easing": "linear"
              }
             }
            ],
            "label": "2",
            "method": "animate"
           },
           {
            "args": [
             [
              "3"
             ],
             {
              "frame": {
               "duration": 0,
               "redraw": true
              },
              "fromcurrent": true,
              "mode": "immediate",
              "transition": {
               "duration": 0,
               "easing": "linear"
              }
             }
            ],
            "label": "3",
            "method": "animate"
           },
           {
            "args": [
             [
              "4"
             ],
             {
              "frame": {
               "duration": 0,
               "redraw": true
              },
              "fromcurrent": true,
              "mode": "immediate",
              "transition": {
               "duration": 0,
               "easing": "linear"
              }
             }
            ],
            "label": "4",
            "method": "animate"
           },
           {
            "args": [
             [
              "5"
             ],
             {
              "frame": {
               "duration": 0,
               "redraw": true
              },
              "fromcurrent": true,
              "mode": "immediate",
              "transition": {
               "duration": 0,
               "easing": "linear"
              }
             }
            ],
            "label": "5",
            "method": "animate"
           },
           {
            "args": [
             [
              "6"
             ],
             {
              "frame": {
               "duration": 0,
               "redraw": true
              },
              "fromcurrent": true,
              "mode": "immediate",
              "transition": {
               "duration": 0,
               "easing": "linear"
              }
             }
            ],
            "label": "6",
            "method": "animate"
           },
           {
            "args": [
             [
              "7"
             ],
             {
              "frame": {
               "duration": 0,
               "redraw": true
              },
              "fromcurrent": true,
              "mode": "immediate",
              "transition": {
               "duration": 0,
               "easing": "linear"
              }
             }
            ],
            "label": "7",
            "method": "animate"
           },
           {
            "args": [
             [
              "8"
             ],
             {
              "frame": {
               "duration": 0,
               "redraw": true
              },
              "fromcurrent": true,
              "mode": "immediate",
              "transition": {
               "duration": 0,
               "easing": "linear"
              }
             }
            ],
            "label": "8",
            "method": "animate"
           },
           {
            "args": [
             [
              "9"
             ],
             {
              "frame": {
               "duration": 0,
               "redraw": true
              },
              "fromcurrent": true,
              "mode": "immediate",
              "transition": {
               "duration": 0,
               "easing": "linear"
              }
             }
            ],
            "label": "9",
            "method": "animate"
           },
           {
            "args": [
             [
              "10"
             ],
             {
              "frame": {
               "duration": 0,
               "redraw": true
              },
              "fromcurrent": true,
              "mode": "immediate",
              "transition": {
               "duration": 0,
               "easing": "linear"
              }
             }
            ],
            "label": "10",
            "method": "animate"
           },
           {
            "args": [
             [
              "11"
             ],
             {
              "frame": {
               "duration": 0,
               "redraw": true
              },
              "fromcurrent": true,
              "mode": "immediate",
              "transition": {
               "duration": 0,
               "easing": "linear"
              }
             }
            ],
            "label": "11",
            "method": "animate"
           },
           {
            "args": [
             [
              "12"
             ],
             {
              "frame": {
               "duration": 0,
               "redraw": true
              },
              "fromcurrent": true,
              "mode": "immediate",
              "transition": {
               "duration": 0,
               "easing": "linear"
              }
             }
            ],
            "label": "12",
            "method": "animate"
           },
           {
            "args": [
             [
              "13"
             ],
             {
              "frame": {
               "duration": 0,
               "redraw": true
              },
              "fromcurrent": true,
              "mode": "immediate",
              "transition": {
               "duration": 0,
               "easing": "linear"
              }
             }
            ],
            "label": "13",
            "method": "animate"
           },
           {
            "args": [
             [
              "14"
             ],
             {
              "frame": {
               "duration": 0,
               "redraw": true
              },
              "fromcurrent": true,
              "mode": "immediate",
              "transition": {
               "duration": 0,
               "easing": "linear"
              }
             }
            ],
            "label": "14",
            "method": "animate"
           },
           {
            "args": [
             [
              "15"
             ],
             {
              "frame": {
               "duration": 0,
               "redraw": true
              },
              "fromcurrent": true,
              "mode": "immediate",
              "transition": {
               "duration": 0,
               "easing": "linear"
              }
             }
            ],
            "label": "15",
            "method": "animate"
           },
           {
            "args": [
             [
              "16"
             ],
             {
              "frame": {
               "duration": 0,
               "redraw": true
              },
              "fromcurrent": true,
              "mode": "immediate",
              "transition": {
               "duration": 0,
               "easing": "linear"
              }
             }
            ],
            "label": "16",
            "method": "animate"
           },
           {
            "args": [
             [
              "17"
             ],
             {
              "frame": {
               "duration": 0,
               "redraw": true
              },
              "fromcurrent": true,
              "mode": "immediate",
              "transition": {
               "duration": 0,
               "easing": "linear"
              }
             }
            ],
            "label": "17",
            "method": "animate"
           },
           {
            "args": [
             [
              "18"
             ],
             {
              "frame": {
               "duration": 0,
               "redraw": true
              },
              "fromcurrent": true,
              "mode": "immediate",
              "transition": {
               "duration": 0,
               "easing": "linear"
              }
             }
            ],
            "label": "18",
            "method": "animate"
           },
           {
            "args": [
             [
              "19"
             ],
             {
              "frame": {
               "duration": 0,
               "redraw": true
              },
              "fromcurrent": true,
              "mode": "immediate",
              "transition": {
               "duration": 0,
               "easing": "linear"
              }
             }
            ],
            "label": "19",
            "method": "animate"
           },
           {
            "args": [
             [
              "20"
             ],
             {
              "frame": {
               "duration": 0,
               "redraw": true
              },
              "fromcurrent": true,
              "mode": "immediate",
              "transition": {
               "duration": 0,
               "easing": "linear"
              }
             }
            ],
            "label": "20",
            "method": "animate"
           },
           {
            "args": [
             [
              "21"
             ],
             {
              "frame": {
               "duration": 0,
               "redraw": true
              },
              "fromcurrent": true,
              "mode": "immediate",
              "transition": {
               "duration": 0,
               "easing": "linear"
              }
             }
            ],
            "label": "21",
            "method": "animate"
           },
           {
            "args": [
             [
              "22"
             ],
             {
              "frame": {
               "duration": 0,
               "redraw": true
              },
              "fromcurrent": true,
              "mode": "immediate",
              "transition": {
               "duration": 0,
               "easing": "linear"
              }
             }
            ],
            "label": "22",
            "method": "animate"
           },
           {
            "args": [
             [
              "23"
             ],
             {
              "frame": {
               "duration": 0,
               "redraw": true
              },
              "fromcurrent": true,
              "mode": "immediate",
              "transition": {
               "duration": 0,
               "easing": "linear"
              }
             }
            ],
            "label": "23",
            "method": "animate"
           }
          ],
          "x": 0.1,
          "xanchor": "left",
          "y": 0,
          "yanchor": "top"
         }
        ],
        "template": {
         "data": {
          "bar": [
           {
            "error_x": {
             "color": "#2a3f5f"
            },
            "error_y": {
             "color": "#2a3f5f"
            },
            "marker": {
             "line": {
              "color": "#E5ECF6",
              "width": 0.5
             }
            },
            "type": "bar"
           }
          ],
          "barpolar": [
           {
            "marker": {
             "line": {
              "color": "#E5ECF6",
              "width": 0.5
             }
            },
            "type": "barpolar"
           }
          ],
          "carpet": [
           {
            "aaxis": {
             "endlinecolor": "#2a3f5f",
             "gridcolor": "white",
             "linecolor": "white",
             "minorgridcolor": "white",
             "startlinecolor": "#2a3f5f"
            },
            "baxis": {
             "endlinecolor": "#2a3f5f",
             "gridcolor": "white",
             "linecolor": "white",
             "minorgridcolor": "white",
             "startlinecolor": "#2a3f5f"
            },
            "type": "carpet"
           }
          ],
          "choropleth": [
           {
            "colorbar": {
             "outlinewidth": 0,
             "ticks": ""
            },
            "type": "choropleth"
           }
          ],
          "contour": [
           {
            "colorbar": {
             "outlinewidth": 0,
             "ticks": ""
            },
            "colorscale": [
             [
              0,
              "#0d0887"
             ],
             [
              0.1111111111111111,
              "#46039f"
             ],
             [
              0.2222222222222222,
              "#7201a8"
             ],
             [
              0.3333333333333333,
              "#9c179e"
             ],
             [
              0.4444444444444444,
              "#bd3786"
             ],
             [
              0.5555555555555556,
              "#d8576b"
             ],
             [
              0.6666666666666666,
              "#ed7953"
             ],
             [
              0.7777777777777778,
              "#fb9f3a"
             ],
             [
              0.8888888888888888,
              "#fdca26"
             ],
             [
              1,
              "#f0f921"
             ]
            ],
            "type": "contour"
           }
          ],
          "contourcarpet": [
           {
            "colorbar": {
             "outlinewidth": 0,
             "ticks": ""
            },
            "type": "contourcarpet"
           }
          ],
          "heatmap": [
           {
            "colorbar": {
             "outlinewidth": 0,
             "ticks": ""
            },
            "colorscale": [
             [
              0,
              "#0d0887"
             ],
             [
              0.1111111111111111,
              "#46039f"
             ],
             [
              0.2222222222222222,
              "#7201a8"
             ],
             [
              0.3333333333333333,
              "#9c179e"
             ],
             [
              0.4444444444444444,
              "#bd3786"
             ],
             [
              0.5555555555555556,
              "#d8576b"
             ],
             [
              0.6666666666666666,
              "#ed7953"
             ],
             [
              0.7777777777777778,
              "#fb9f3a"
             ],
             [
              0.8888888888888888,
              "#fdca26"
             ],
             [
              1,
              "#f0f921"
             ]
            ],
            "type": "heatmap"
           }
          ],
          "heatmapgl": [
           {
            "colorbar": {
             "outlinewidth": 0,
             "ticks": ""
            },
            "colorscale": [
             [
              0,
              "#0d0887"
             ],
             [
              0.1111111111111111,
              "#46039f"
             ],
             [
              0.2222222222222222,
              "#7201a8"
             ],
             [
              0.3333333333333333,
              "#9c179e"
             ],
             [
              0.4444444444444444,
              "#bd3786"
             ],
             [
              0.5555555555555556,
              "#d8576b"
             ],
             [
              0.6666666666666666,
              "#ed7953"
             ],
             [
              0.7777777777777778,
              "#fb9f3a"
             ],
             [
              0.8888888888888888,
              "#fdca26"
             ],
             [
              1,
              "#f0f921"
             ]
            ],
            "type": "heatmapgl"
           }
          ],
          "histogram": [
           {
            "marker": {
             "colorbar": {
              "outlinewidth": 0,
              "ticks": ""
             }
            },
            "type": "histogram"
           }
          ],
          "histogram2d": [
           {
            "colorbar": {
             "outlinewidth": 0,
             "ticks": ""
            },
            "colorscale": [
             [
              0,
              "#0d0887"
             ],
             [
              0.1111111111111111,
              "#46039f"
             ],
             [
              0.2222222222222222,
              "#7201a8"
             ],
             [
              0.3333333333333333,
              "#9c179e"
             ],
             [
              0.4444444444444444,
              "#bd3786"
             ],
             [
              0.5555555555555556,
              "#d8576b"
             ],
             [
              0.6666666666666666,
              "#ed7953"
             ],
             [
              0.7777777777777778,
              "#fb9f3a"
             ],
             [
              0.8888888888888888,
              "#fdca26"
             ],
             [
              1,
              "#f0f921"
             ]
            ],
            "type": "histogram2d"
           }
          ],
          "histogram2dcontour": [
           {
            "colorbar": {
             "outlinewidth": 0,
             "ticks": ""
            },
            "colorscale": [
             [
              0,
              "#0d0887"
             ],
             [
              0.1111111111111111,
              "#46039f"
             ],
             [
              0.2222222222222222,
              "#7201a8"
             ],
             [
              0.3333333333333333,
              "#9c179e"
             ],
             [
              0.4444444444444444,
              "#bd3786"
             ],
             [
              0.5555555555555556,
              "#d8576b"
             ],
             [
              0.6666666666666666,
              "#ed7953"
             ],
             [
              0.7777777777777778,
              "#fb9f3a"
             ],
             [
              0.8888888888888888,
              "#fdca26"
             ],
             [
              1,
              "#f0f921"
             ]
            ],
            "type": "histogram2dcontour"
           }
          ],
          "mesh3d": [
           {
            "colorbar": {
             "outlinewidth": 0,
             "ticks": ""
            },
            "type": "mesh3d"
           }
          ],
          "parcoords": [
           {
            "line": {
             "colorbar": {
              "outlinewidth": 0,
              "ticks": ""
             }
            },
            "type": "parcoords"
           }
          ],
          "pie": [
           {
            "automargin": true,
            "type": "pie"
           }
          ],
          "scatter": [
           {
            "marker": {
             "colorbar": {
              "outlinewidth": 0,
              "ticks": ""
             }
            },
            "type": "scatter"
           }
          ],
          "scatter3d": [
           {
            "line": {
             "colorbar": {
              "outlinewidth": 0,
              "ticks": ""
             }
            },
            "marker": {
             "colorbar": {
              "outlinewidth": 0,
              "ticks": ""
             }
            },
            "type": "scatter3d"
           }
          ],
          "scattercarpet": [
           {
            "marker": {
             "colorbar": {
              "outlinewidth": 0,
              "ticks": ""
             }
            },
            "type": "scattercarpet"
           }
          ],
          "scattergeo": [
           {
            "marker": {
             "colorbar": {
              "outlinewidth": 0,
              "ticks": ""
             }
            },
            "type": "scattergeo"
           }
          ],
          "scattergl": [
           {
            "marker": {
             "colorbar": {
              "outlinewidth": 0,
              "ticks": ""
             }
            },
            "type": "scattergl"
           }
          ],
          "scattermapbox": [
           {
            "marker": {
             "colorbar": {
              "outlinewidth": 0,
              "ticks": ""
             }
            },
            "type": "scattermapbox"
           }
          ],
          "scatterpolar": [
           {
            "marker": {
             "colorbar": {
              "outlinewidth": 0,
              "ticks": ""
             }
            },
            "type": "scatterpolar"
           }
          ],
          "scatterpolargl": [
           {
            "marker": {
             "colorbar": {
              "outlinewidth": 0,
              "ticks": ""
             }
            },
            "type": "scatterpolargl"
           }
          ],
          "scatterternary": [
           {
            "marker": {
             "colorbar": {
              "outlinewidth": 0,
              "ticks": ""
             }
            },
            "type": "scatterternary"
           }
          ],
          "surface": [
           {
            "colorbar": {
             "outlinewidth": 0,
             "ticks": ""
            },
            "colorscale": [
             [
              0,
              "#0d0887"
             ],
             [
              0.1111111111111111,
              "#46039f"
             ],
             [
              0.2222222222222222,
              "#7201a8"
             ],
             [
              0.3333333333333333,
              "#9c179e"
             ],
             [
              0.4444444444444444,
              "#bd3786"
             ],
             [
              0.5555555555555556,
              "#d8576b"
             ],
             [
              0.6666666666666666,
              "#ed7953"
             ],
             [
              0.7777777777777778,
              "#fb9f3a"
             ],
             [
              0.8888888888888888,
              "#fdca26"
             ],
             [
              1,
              "#f0f921"
             ]
            ],
            "type": "surface"
           }
          ],
          "table": [
           {
            "cells": {
             "fill": {
              "color": "#EBF0F8"
             },
             "line": {
              "color": "white"
             }
            },
            "header": {
             "fill": {
              "color": "#C8D4E3"
             },
             "line": {
              "color": "white"
             }
            },
            "type": "table"
           }
          ]
         },
         "layout": {
          "annotationdefaults": {
           "arrowcolor": "#2a3f5f",
           "arrowhead": 0,
           "arrowwidth": 1
          },
          "coloraxis": {
           "colorbar": {
            "outlinewidth": 0,
            "ticks": ""
           }
          },
          "colorscale": {
           "diverging": [
            [
             0,
             "#8e0152"
            ],
            [
             0.1,
             "#c51b7d"
            ],
            [
             0.2,
             "#de77ae"
            ],
            [
             0.3,
             "#f1b6da"
            ],
            [
             0.4,
             "#fde0ef"
            ],
            [
             0.5,
             "#f7f7f7"
            ],
            [
             0.6,
             "#e6f5d0"
            ],
            [
             0.7,
             "#b8e186"
            ],
            [
             0.8,
             "#7fbc41"
            ],
            [
             0.9,
             "#4d9221"
            ],
            [
             1,
             "#276419"
            ]
           ],
           "sequential": [
            [
             0,
             "#0d0887"
            ],
            [
             0.1111111111111111,
             "#46039f"
            ],
            [
             0.2222222222222222,
             "#7201a8"
            ],
            [
             0.3333333333333333,
             "#9c179e"
            ],
            [
             0.4444444444444444,
             "#bd3786"
            ],
            [
             0.5555555555555556,
             "#d8576b"
            ],
            [
             0.6666666666666666,
             "#ed7953"
            ],
            [
             0.7777777777777778,
             "#fb9f3a"
            ],
            [
             0.8888888888888888,
             "#fdca26"
            ],
            [
             1,
             "#f0f921"
            ]
           ],
           "sequentialminus": [
            [
             0,
             "#0d0887"
            ],
            [
             0.1111111111111111,
             "#46039f"
            ],
            [
             0.2222222222222222,
             "#7201a8"
            ],
            [
             0.3333333333333333,
             "#9c179e"
            ],
            [
             0.4444444444444444,
             "#bd3786"
            ],
            [
             0.5555555555555556,
             "#d8576b"
            ],
            [
             0.6666666666666666,
             "#ed7953"
            ],
            [
             0.7777777777777778,
             "#fb9f3a"
            ],
            [
             0.8888888888888888,
             "#fdca26"
            ],
            [
             1,
             "#f0f921"
            ]
           ]
          },
          "colorway": [
           "#636efa",
           "#EF553B",
           "#00cc96",
           "#ab63fa",
           "#FFA15A",
           "#19d3f3",
           "#FF6692",
           "#B6E880",
           "#FF97FF",
           "#FECB52"
          ],
          "font": {
           "color": "#2a3f5f"
          },
          "geo": {
           "bgcolor": "white",
           "lakecolor": "white",
           "landcolor": "#E5ECF6",
           "showlakes": true,
           "showland": true,
           "subunitcolor": "white"
          },
          "hoverlabel": {
           "align": "left"
          },
          "hovermode": "closest",
          "mapbox": {
           "style": "light"
          },
          "paper_bgcolor": "white",
          "plot_bgcolor": "#E5ECF6",
          "polar": {
           "angularaxis": {
            "gridcolor": "white",
            "linecolor": "white",
            "ticks": ""
           },
           "bgcolor": "#E5ECF6",
           "radialaxis": {
            "gridcolor": "white",
            "linecolor": "white",
            "ticks": ""
           }
          },
          "scene": {
           "xaxis": {
            "backgroundcolor": "#E5ECF6",
            "gridcolor": "white",
            "gridwidth": 2,
            "linecolor": "white",
            "showbackground": true,
            "ticks": "",
            "zerolinecolor": "white"
           },
           "yaxis": {
            "backgroundcolor": "#E5ECF6",
            "gridcolor": "white",
            "gridwidth": 2,
            "linecolor": "white",
            "showbackground": true,
            "ticks": "",
            "zerolinecolor": "white"
           },
           "zaxis": {
            "backgroundcolor": "#E5ECF6",
            "gridcolor": "white",
            "gridwidth": 2,
            "linecolor": "white",
            "showbackground": true,
            "ticks": "",
            "zerolinecolor": "white"
           }
          },
          "shapedefaults": {
           "line": {
            "color": "#2a3f5f"
           }
          },
          "ternary": {
           "aaxis": {
            "gridcolor": "white",
            "linecolor": "white",
            "ticks": ""
           },
           "baxis": {
            "gridcolor": "white",
            "linecolor": "white",
            "ticks": ""
           },
           "bgcolor": "#E5ECF6",
           "caxis": {
            "gridcolor": "white",
            "linecolor": "white",
            "ticks": ""
           }
          },
          "title": {
           "x": 0.05
          },
          "xaxis": {
           "automargin": true,
           "gridcolor": "white",
           "linecolor": "white",
           "ticks": "",
           "title": {
            "standoff": 15
           },
           "zerolinecolor": "white",
           "zerolinewidth": 2
          },
          "yaxis": {
           "automargin": true,
           "gridcolor": "white",
           "linecolor": "white",
           "ticks": "",
           "title": {
            "standoff": 15
           },
           "zerolinecolor": "white",
           "zerolinewidth": 2
          }
         }
        },
        "title": {
         "text": "average waiting time of Elevator Calls by Floor on weekday"
        },
        "updatemenus": [
         {
          "buttons": [
           {
            "args": [
             null,
             {
              "frame": {
               "duration": 500,
               "redraw": true
              },
              "fromcurrent": true,
              "mode": "immediate",
              "transition": {
               "duration": 500,
               "easing": "linear"
              }
             }
            ],
            "label": "&#9654;",
            "method": "animate"
           },
           {
            "args": [
             [
              null
             ],
             {
              "frame": {
               "duration": 0,
               "redraw": true
              },
              "fromcurrent": true,
              "mode": "immediate",
              "transition": {
               "duration": 0,
               "easing": "linear"
              }
             }
            ],
            "label": "&#9724;",
            "method": "animate"
           }
          ],
          "direction": "left",
          "pad": {
           "r": 10,
           "t": 70
          },
          "showactive": false,
          "type": "buttons",
          "x": 0.1,
          "xanchor": "right",
          "y": 0,
          "yanchor": "top"
         }
        ],
        "xaxis": {
         "anchor": "y",
         "categoryarray": [
          "1",
          "2",
          "3",
          "4",
          "5",
          "6",
          "7",
          "8",
          "9",
          "10",
          "11",
          "12",
          "13",
          "14",
          "15",
          "B1",
          "B2",
          "B3",
          "B4"
         ],
         "domain": [
          0,
          0.49
         ],
         "nticks": 19,
         "title": {
          "text": "floor"
         },
         "type": "category"
        },
        "xaxis2": {
         "anchor": "y2",
         "categoryarray": [
          "1",
          "2",
          "3",
          "4",
          "5",
          "6",
          "7",
          "8",
          "9",
          "10",
          "11",
          "12",
          "13",
          "14",
          "15",
          "B1",
          "B2",
          "B3",
          "B4"
         ],
         "domain": [
          0.51,
          1
         ],
         "matches": "x",
         "nticks": 19,
         "title": {
          "text": "floor"
         },
         "type": "category"
        },
        "yaxis": {
         "anchor": "x",
         "domain": [
          0,
          1
         ],
         "range": [
          0,
          100
         ],
         "title": {
          "text": "avgWait_weekday"
         }
        },
        "yaxis2": {
         "anchor": "x2",
         "domain": [
          0,
          1
         ],
         "matches": "y",
         "range": [
          0,
          100
         ],
         "showticklabels": false
        }
       }
      },
      "text/html": [
       "<div>\n",
       "        \n",
       "        \n",
       "            <div id=\"b748cbef-68e9-4b84-bb36-4bc252733ae8\" class=\"plotly-graph-div\" style=\"height:525px; width:100%;\"></div>\n",
       "            <script type=\"text/javascript\">\n",
       "                require([\"plotly\"], function(Plotly) {\n",
       "                    window.PLOTLYENV=window.PLOTLYENV || {};\n",
       "                    \n",
       "                if (document.getElementById(\"b748cbef-68e9-4b84-bb36-4bc252733ae8\")) {\n",
       "                    Plotly.newPlot(\n",
       "                        'b748cbef-68e9-4b84-bb36-4bc252733ae8',\n",
       "                        [{\"alignmentgroup\": \"True\", \"hovertemplate\": \"direction=down<br>Local Time (GMT+8)=0<br>floor=%{x}<br>avgWait_weekday=%{y}<extra></extra>\", \"legendgroup\": \"down\", \"marker\": {\"color\": \"#636efa\"}, \"name\": \"down\", \"offsetgroup\": \"down\", \"orientation\": \"v\", \"showlegend\": true, \"textposition\": \"auto\", \"type\": \"bar\", \"x\": [\"1\", \"3\", \"4\", \"5\", \"6\", \"7\", \"8\", \"9\", \"10\", \"11\", \"12\", \"13\", \"14\", \"15\", \"B1\"], \"xaxis\": \"x\", \"y\": [8.03, 19.435, 14.218, 10.56625, 1.61, 15.10625, 13.192352941176472, 12.13, 14.2925, 19.782000000000004, 16.134545454545457, 16.88111111111111, 19.71, 29.41666666666667, 9.336666666666666], \"yaxis\": \"y\"}, {\"alignmentgroup\": \"True\", \"hovertemplate\": \"direction=up<br>Local Time (GMT+8)=0<br>floor=%{x}<br>avgWait_weekday=%{y}<extra></extra>\", \"legendgroup\": \"up\", \"marker\": {\"color\": \"#EF553B\"}, \"name\": \"up\", \"offsetgroup\": \"up\", \"orientation\": \"v\", \"showlegend\": true, \"textposition\": \"auto\", \"type\": \"bar\", \"x\": [\"1\", \"2\", \"3\", \"4\", \"5\", \"6\", \"7\", \"14\", \"B1\", \"B3\", \"B4\"], \"xaxis\": \"x2\", \"y\": [3.78375, 17.56, 14.225882352941177, 14.673666666666666, 13.060588235294118, 8.64, 10.358571428571429, 20.495, 13.539487179487178, 8.47, 17.68], \"yaxis\": \"y2\"}],\n",
       "                        {\"annotations\": [{\"font\": {}, \"showarrow\": false, \"text\": \"direction=down\", \"x\": 0.245, \"xanchor\": \"center\", \"xref\": \"paper\", \"y\": 1.0, \"yanchor\": \"bottom\", \"yref\": \"paper\"}, {\"font\": {}, \"showarrow\": false, \"text\": \"direction=up\", \"x\": 0.755, \"xanchor\": \"center\", \"xref\": \"paper\", \"y\": 1.0, \"yanchor\": \"bottom\", \"yref\": \"paper\"}], \"barmode\": \"relative\", \"legend\": {\"title\": {\"text\": \"direction\"}, \"tracegroupgap\": 0}, \"margin\": {\"t\": 60}, \"sliders\": [{\"active\": 0, \"currentvalue\": {\"prefix\": \"Local Time (GMT+8)=\"}, \"len\": 0.9, \"pad\": {\"b\": 10, \"t\": 60}, \"steps\": [{\"args\": [[\"0\"], {\"frame\": {\"duration\": 0, \"redraw\": true}, \"fromcurrent\": true, \"mode\": \"immediate\", \"transition\": {\"duration\": 0, \"easing\": \"linear\"}}], \"label\": \"0\", \"method\": \"animate\"}, {\"args\": [[\"1\"], {\"frame\": {\"duration\": 0, \"redraw\": true}, \"fromcurrent\": true, \"mode\": \"immediate\", \"transition\": {\"duration\": 0, \"easing\": \"linear\"}}], \"label\": \"1\", \"method\": \"animate\"}, {\"args\": [[\"2\"], {\"frame\": {\"duration\": 0, \"redraw\": true}, \"fromcurrent\": true, \"mode\": \"immediate\", \"transition\": {\"duration\": 0, \"easing\": \"linear\"}}], \"label\": \"2\", \"method\": \"animate\"}, {\"args\": [[\"3\"], {\"frame\": {\"duration\": 0, \"redraw\": true}, \"fromcurrent\": true, \"mode\": \"immediate\", \"transition\": {\"duration\": 0, \"easing\": \"linear\"}}], \"label\": \"3\", \"method\": \"animate\"}, {\"args\": [[\"4\"], {\"frame\": {\"duration\": 0, \"redraw\": true}, \"fromcurrent\": true, \"mode\": \"immediate\", \"transition\": {\"duration\": 0, \"easing\": \"linear\"}}], \"label\": \"4\", \"method\": \"animate\"}, {\"args\": [[\"5\"], {\"frame\": {\"duration\": 0, \"redraw\": true}, \"fromcurrent\": true, \"mode\": \"immediate\", \"transition\": {\"duration\": 0, \"easing\": \"linear\"}}], \"label\": \"5\", \"method\": \"animate\"}, {\"args\": [[\"6\"], {\"frame\": {\"duration\": 0, \"redraw\": true}, \"fromcurrent\": true, \"mode\": \"immediate\", \"transition\": {\"duration\": 0, \"easing\": \"linear\"}}], \"label\": \"6\", \"method\": \"animate\"}, {\"args\": [[\"7\"], {\"frame\": {\"duration\": 0, \"redraw\": true}, \"fromcurrent\": true, \"mode\": \"immediate\", \"transition\": {\"duration\": 0, \"easing\": \"linear\"}}], \"label\": \"7\", \"method\": \"animate\"}, {\"args\": [[\"8\"], {\"frame\": {\"duration\": 0, \"redraw\": true}, \"fromcurrent\": true, \"mode\": \"immediate\", \"transition\": {\"duration\": 0, \"easing\": \"linear\"}}], \"label\": \"8\", \"method\": \"animate\"}, {\"args\": [[\"9\"], {\"frame\": {\"duration\": 0, \"redraw\": true}, \"fromcurrent\": true, \"mode\": \"immediate\", \"transition\": {\"duration\": 0, \"easing\": \"linear\"}}], \"label\": \"9\", \"method\": \"animate\"}, {\"args\": [[\"10\"], {\"frame\": {\"duration\": 0, \"redraw\": true}, \"fromcurrent\": true, \"mode\": \"immediate\", \"transition\": {\"duration\": 0, \"easing\": \"linear\"}}], \"label\": \"10\", \"method\": \"animate\"}, {\"args\": [[\"11\"], {\"frame\": {\"duration\": 0, \"redraw\": true}, \"fromcurrent\": true, \"mode\": \"immediate\", \"transition\": {\"duration\": 0, \"easing\": \"linear\"}}], \"label\": \"11\", \"method\": \"animate\"}, {\"args\": [[\"12\"], {\"frame\": {\"duration\": 0, \"redraw\": true}, \"fromcurrent\": true, \"mode\": \"immediate\", \"transition\": {\"duration\": 0, \"easing\": \"linear\"}}], \"label\": \"12\", \"method\": \"animate\"}, {\"args\": [[\"13\"], {\"frame\": {\"duration\": 0, \"redraw\": true}, \"fromcurrent\": true, \"mode\": \"immediate\", \"transition\": {\"duration\": 0, \"easing\": \"linear\"}}], \"label\": \"13\", \"method\": \"animate\"}, {\"args\": [[\"14\"], {\"frame\": {\"duration\": 0, \"redraw\": true}, \"fromcurrent\": true, \"mode\": \"immediate\", \"transition\": {\"duration\": 0, \"easing\": \"linear\"}}], \"label\": \"14\", \"method\": \"animate\"}, {\"args\": [[\"15\"], {\"frame\": {\"duration\": 0, \"redraw\": true}, \"fromcurrent\": true, \"mode\": \"immediate\", \"transition\": {\"duration\": 0, \"easing\": \"linear\"}}], \"label\": \"15\", \"method\": \"animate\"}, {\"args\": [[\"16\"], {\"frame\": {\"duration\": 0, \"redraw\": true}, \"fromcurrent\": true, \"mode\": \"immediate\", \"transition\": {\"duration\": 0, \"easing\": \"linear\"}}], \"label\": \"16\", \"method\": \"animate\"}, {\"args\": [[\"17\"], {\"frame\": {\"duration\": 0, \"redraw\": true}, \"fromcurrent\": true, \"mode\": \"immediate\", \"transition\": {\"duration\": 0, \"easing\": \"linear\"}}], \"label\": \"17\", \"method\": \"animate\"}, {\"args\": [[\"18\"], {\"frame\": {\"duration\": 0, \"redraw\": true}, \"fromcurrent\": true, \"mode\": \"immediate\", \"transition\": {\"duration\": 0, \"easing\": \"linear\"}}], \"label\": \"18\", \"method\": \"animate\"}, {\"args\": [[\"19\"], {\"frame\": {\"duration\": 0, \"redraw\": true}, \"fromcurrent\": true, \"mode\": \"immediate\", \"transition\": {\"duration\": 0, \"easing\": \"linear\"}}], \"label\": \"19\", \"method\": \"animate\"}, {\"args\": [[\"20\"], {\"frame\": {\"duration\": 0, \"redraw\": true}, \"fromcurrent\": true, \"mode\": \"immediate\", \"transition\": {\"duration\": 0, \"easing\": \"linear\"}}], \"label\": \"20\", \"method\": \"animate\"}, {\"args\": [[\"21\"], {\"frame\": {\"duration\": 0, \"redraw\": true}, \"fromcurrent\": true, \"mode\": \"immediate\", \"transition\": {\"duration\": 0, \"easing\": \"linear\"}}], \"label\": \"21\", \"method\": \"animate\"}, {\"args\": [[\"22\"], {\"frame\": {\"duration\": 0, \"redraw\": true}, \"fromcurrent\": true, \"mode\": \"immediate\", \"transition\": {\"duration\": 0, \"easing\": \"linear\"}}], \"label\": \"22\", \"method\": \"animate\"}, {\"args\": [[\"23\"], {\"frame\": {\"duration\": 0, \"redraw\": true}, \"fromcurrent\": true, \"mode\": \"immediate\", \"transition\": {\"duration\": 0, \"easing\": \"linear\"}}], \"label\": \"23\", \"method\": \"animate\"}], \"x\": 0.1, \"xanchor\": \"left\", \"y\": 0, \"yanchor\": \"top\"}], \"template\": {\"data\": {\"bar\": [{\"error_x\": {\"color\": \"#2a3f5f\"}, \"error_y\": {\"color\": \"#2a3f5f\"}, \"marker\": {\"line\": {\"color\": \"#E5ECF6\", \"width\": 0.5}}, \"type\": \"bar\"}], \"barpolar\": [{\"marker\": {\"line\": {\"color\": \"#E5ECF6\", \"width\": 0.5}}, \"type\": \"barpolar\"}], \"carpet\": [{\"aaxis\": {\"endlinecolor\": \"#2a3f5f\", \"gridcolor\": \"white\", \"linecolor\": \"white\", \"minorgridcolor\": \"white\", \"startlinecolor\": \"#2a3f5f\"}, \"baxis\": {\"endlinecolor\": \"#2a3f5f\", \"gridcolor\": \"white\", \"linecolor\": \"white\", \"minorgridcolor\": \"white\", \"startlinecolor\": \"#2a3f5f\"}, \"type\": \"carpet\"}], \"choropleth\": [{\"colorbar\": {\"outlinewidth\": 0, \"ticks\": \"\"}, \"type\": \"choropleth\"}], \"contour\": [{\"colorbar\": {\"outlinewidth\": 0, \"ticks\": \"\"}, \"colorscale\": [[0.0, \"#0d0887\"], [0.1111111111111111, \"#46039f\"], [0.2222222222222222, \"#7201a8\"], [0.3333333333333333, \"#9c179e\"], [0.4444444444444444, \"#bd3786\"], [0.5555555555555556, \"#d8576b\"], [0.6666666666666666, \"#ed7953\"], [0.7777777777777778, \"#fb9f3a\"], [0.8888888888888888, \"#fdca26\"], [1.0, \"#f0f921\"]], \"type\": \"contour\"}], \"contourcarpet\": [{\"colorbar\": {\"outlinewidth\": 0, \"ticks\": \"\"}, \"type\": \"contourcarpet\"}], \"heatmap\": [{\"colorbar\": {\"outlinewidth\": 0, \"ticks\": \"\"}, \"colorscale\": [[0.0, \"#0d0887\"], [0.1111111111111111, \"#46039f\"], [0.2222222222222222, \"#7201a8\"], [0.3333333333333333, \"#9c179e\"], [0.4444444444444444, \"#bd3786\"], [0.5555555555555556, \"#d8576b\"], [0.6666666666666666, \"#ed7953\"], [0.7777777777777778, \"#fb9f3a\"], [0.8888888888888888, \"#fdca26\"], [1.0, \"#f0f921\"]], \"type\": \"heatmap\"}], \"heatmapgl\": [{\"colorbar\": {\"outlinewidth\": 0, \"ticks\": \"\"}, \"colorscale\": [[0.0, \"#0d0887\"], [0.1111111111111111, \"#46039f\"], [0.2222222222222222, \"#7201a8\"], [0.3333333333333333, \"#9c179e\"], [0.4444444444444444, \"#bd3786\"], [0.5555555555555556, \"#d8576b\"], [0.6666666666666666, \"#ed7953\"], [0.7777777777777778, \"#fb9f3a\"], [0.8888888888888888, \"#fdca26\"], [1.0, \"#f0f921\"]], \"type\": \"heatmapgl\"}], \"histogram\": [{\"marker\": {\"colorbar\": {\"outlinewidth\": 0, \"ticks\": \"\"}}, \"type\": \"histogram\"}], \"histogram2d\": [{\"colorbar\": {\"outlinewidth\": 0, \"ticks\": \"\"}, \"colorscale\": [[0.0, \"#0d0887\"], [0.1111111111111111, \"#46039f\"], [0.2222222222222222, \"#7201a8\"], [0.3333333333333333, \"#9c179e\"], [0.4444444444444444, \"#bd3786\"], [0.5555555555555556, \"#d8576b\"], [0.6666666666666666, \"#ed7953\"], [0.7777777777777778, \"#fb9f3a\"], [0.8888888888888888, \"#fdca26\"], [1.0, \"#f0f921\"]], \"type\": \"histogram2d\"}], \"histogram2dcontour\": [{\"colorbar\": {\"outlinewidth\": 0, \"ticks\": \"\"}, \"colorscale\": [[0.0, \"#0d0887\"], [0.1111111111111111, \"#46039f\"], [0.2222222222222222, \"#7201a8\"], [0.3333333333333333, \"#9c179e\"], [0.4444444444444444, \"#bd3786\"], [0.5555555555555556, \"#d8576b\"], [0.6666666666666666, \"#ed7953\"], [0.7777777777777778, \"#fb9f3a\"], [0.8888888888888888, \"#fdca26\"], [1.0, \"#f0f921\"]], \"type\": \"histogram2dcontour\"}], \"mesh3d\": [{\"colorbar\": {\"outlinewidth\": 0, \"ticks\": \"\"}, \"type\": \"mesh3d\"}], \"parcoords\": [{\"line\": {\"colorbar\": {\"outlinewidth\": 0, \"ticks\": \"\"}}, \"type\": \"parcoords\"}], \"pie\": [{\"automargin\": true, \"type\": \"pie\"}], \"scatter\": [{\"marker\": {\"colorbar\": {\"outlinewidth\": 0, \"ticks\": \"\"}}, \"type\": \"scatter\"}], \"scatter3d\": [{\"line\": {\"colorbar\": {\"outlinewidth\": 0, \"ticks\": \"\"}}, \"marker\": {\"colorbar\": {\"outlinewidth\": 0, \"ticks\": \"\"}}, \"type\": \"scatter3d\"}], \"scattercarpet\": [{\"marker\": {\"colorbar\": {\"outlinewidth\": 0, \"ticks\": \"\"}}, \"type\": \"scattercarpet\"}], \"scattergeo\": [{\"marker\": {\"colorbar\": {\"outlinewidth\": 0, \"ticks\": \"\"}}, \"type\": \"scattergeo\"}], \"scattergl\": [{\"marker\": {\"colorbar\": {\"outlinewidth\": 0, \"ticks\": \"\"}}, \"type\": \"scattergl\"}], \"scattermapbox\": [{\"marker\": {\"colorbar\": {\"outlinewidth\": 0, \"ticks\": \"\"}}, \"type\": \"scattermapbox\"}], \"scatterpolar\": [{\"marker\": {\"colorbar\": {\"outlinewidth\": 0, \"ticks\": \"\"}}, \"type\": \"scatterpolar\"}], \"scatterpolargl\": [{\"marker\": {\"colorbar\": {\"outlinewidth\": 0, \"ticks\": \"\"}}, \"type\": \"scatterpolargl\"}], \"scatterternary\": [{\"marker\": {\"colorbar\": {\"outlinewidth\": 0, \"ticks\": \"\"}}, \"type\": \"scatterternary\"}], \"surface\": [{\"colorbar\": {\"outlinewidth\": 0, \"ticks\": \"\"}, \"colorscale\": [[0.0, \"#0d0887\"], [0.1111111111111111, \"#46039f\"], [0.2222222222222222, \"#7201a8\"], [0.3333333333333333, \"#9c179e\"], [0.4444444444444444, \"#bd3786\"], [0.5555555555555556, \"#d8576b\"], [0.6666666666666666, \"#ed7953\"], [0.7777777777777778, \"#fb9f3a\"], [0.8888888888888888, \"#fdca26\"], [1.0, \"#f0f921\"]], \"type\": \"surface\"}], \"table\": [{\"cells\": {\"fill\": {\"color\": \"#EBF0F8\"}, \"line\": {\"color\": \"white\"}}, \"header\": {\"fill\": {\"color\": \"#C8D4E3\"}, \"line\": {\"color\": \"white\"}}, \"type\": \"table\"}]}, \"layout\": {\"annotationdefaults\": {\"arrowcolor\": \"#2a3f5f\", \"arrowhead\": 0, \"arrowwidth\": 1}, \"coloraxis\": {\"colorbar\": {\"outlinewidth\": 0, \"ticks\": \"\"}}, \"colorscale\": {\"diverging\": [[0, \"#8e0152\"], [0.1, \"#c51b7d\"], [0.2, \"#de77ae\"], [0.3, \"#f1b6da\"], [0.4, \"#fde0ef\"], [0.5, \"#f7f7f7\"], [0.6, \"#e6f5d0\"], [0.7, \"#b8e186\"], [0.8, \"#7fbc41\"], [0.9, \"#4d9221\"], [1, \"#276419\"]], \"sequential\": [[0.0, \"#0d0887\"], [0.1111111111111111, \"#46039f\"], [0.2222222222222222, \"#7201a8\"], [0.3333333333333333, \"#9c179e\"], [0.4444444444444444, \"#bd3786\"], [0.5555555555555556, \"#d8576b\"], [0.6666666666666666, \"#ed7953\"], [0.7777777777777778, \"#fb9f3a\"], [0.8888888888888888, \"#fdca26\"], [1.0, \"#f0f921\"]], \"sequentialminus\": [[0.0, \"#0d0887\"], [0.1111111111111111, \"#46039f\"], [0.2222222222222222, \"#7201a8\"], [0.3333333333333333, \"#9c179e\"], [0.4444444444444444, \"#bd3786\"], [0.5555555555555556, \"#d8576b\"], [0.6666666666666666, \"#ed7953\"], [0.7777777777777778, \"#fb9f3a\"], [0.8888888888888888, \"#fdca26\"], [1.0, \"#f0f921\"]]}, \"colorway\": [\"#636efa\", \"#EF553B\", \"#00cc96\", \"#ab63fa\", \"#FFA15A\", \"#19d3f3\", \"#FF6692\", \"#B6E880\", \"#FF97FF\", \"#FECB52\"], \"font\": {\"color\": \"#2a3f5f\"}, \"geo\": {\"bgcolor\": \"white\", \"lakecolor\": \"white\", \"landcolor\": \"#E5ECF6\", \"showlakes\": true, \"showland\": true, \"subunitcolor\": \"white\"}, \"hoverlabel\": {\"align\": \"left\"}, \"hovermode\": \"closest\", \"mapbox\": {\"style\": \"light\"}, \"paper_bgcolor\": \"white\", \"plot_bgcolor\": \"#E5ECF6\", \"polar\": {\"angularaxis\": {\"gridcolor\": \"white\", \"linecolor\": \"white\", \"ticks\": \"\"}, \"bgcolor\": \"#E5ECF6\", \"radialaxis\": {\"gridcolor\": \"white\", \"linecolor\": \"white\", \"ticks\": \"\"}}, \"scene\": {\"xaxis\": {\"backgroundcolor\": \"#E5ECF6\", \"gridcolor\": \"white\", \"gridwidth\": 2, \"linecolor\": \"white\", \"showbackground\": true, \"ticks\": \"\", \"zerolinecolor\": \"white\"}, \"yaxis\": {\"backgroundcolor\": \"#E5ECF6\", \"gridcolor\": \"white\", \"gridwidth\": 2, \"linecolor\": \"white\", \"showbackground\": true, \"ticks\": \"\", \"zerolinecolor\": \"white\"}, \"zaxis\": {\"backgroundcolor\": \"#E5ECF6\", \"gridcolor\": \"white\", \"gridwidth\": 2, \"linecolor\": \"white\", \"showbackground\": true, \"ticks\": \"\", \"zerolinecolor\": \"white\"}}, \"shapedefaults\": {\"line\": {\"color\": \"#2a3f5f\"}}, \"ternary\": {\"aaxis\": {\"gridcolor\": \"white\", \"linecolor\": \"white\", \"ticks\": \"\"}, \"baxis\": {\"gridcolor\": \"white\", \"linecolor\": \"white\", \"ticks\": \"\"}, \"bgcolor\": \"#E5ECF6\", \"caxis\": {\"gridcolor\": \"white\", \"linecolor\": \"white\", \"ticks\": \"\"}}, \"title\": {\"x\": 0.05}, \"xaxis\": {\"automargin\": true, \"gridcolor\": \"white\", \"linecolor\": \"white\", \"ticks\": \"\", \"title\": {\"standoff\": 15}, \"zerolinecolor\": \"white\", \"zerolinewidth\": 2}, \"yaxis\": {\"automargin\": true, \"gridcolor\": \"white\", \"linecolor\": \"white\", \"ticks\": \"\", \"title\": {\"standoff\": 15}, \"zerolinecolor\": \"white\", \"zerolinewidth\": 2}}}, \"title\": {\"text\": \"average waiting time of Elevator Calls by Floor on weekday\"}, \"updatemenus\": [{\"buttons\": [{\"args\": [null, {\"frame\": {\"duration\": 500, \"redraw\": true}, \"fromcurrent\": true, \"mode\": \"immediate\", \"transition\": {\"duration\": 500, \"easing\": \"linear\"}}], \"label\": \"&#9654;\", \"method\": \"animate\"}, {\"args\": [[null], {\"frame\": {\"duration\": 0, \"redraw\": true}, \"fromcurrent\": true, \"mode\": \"immediate\", \"transition\": {\"duration\": 0, \"easing\": \"linear\"}}], \"label\": \"&#9724;\", \"method\": \"animate\"}], \"direction\": \"left\", \"pad\": {\"r\": 10, \"t\": 70}, \"showactive\": false, \"type\": \"buttons\", \"x\": 0.1, \"xanchor\": \"right\", \"y\": 0, \"yanchor\": \"top\"}], \"xaxis\": {\"anchor\": \"y\", \"categoryarray\": [\"1\", \"2\", \"3\", \"4\", \"5\", \"6\", \"7\", \"8\", \"9\", \"10\", \"11\", \"12\", \"13\", \"14\", \"15\", \"B1\", \"B2\", \"B3\", \"B4\"], \"domain\": [0.0, 0.49], \"nticks\": 19, \"title\": {\"text\": \"floor\"}, \"type\": \"category\"}, \"xaxis2\": {\"anchor\": \"y2\", \"categoryarray\": [\"1\", \"2\", \"3\", \"4\", \"5\", \"6\", \"7\", \"8\", \"9\", \"10\", \"11\", \"12\", \"13\", \"14\", \"15\", \"B1\", \"B2\", \"B3\", \"B4\"], \"domain\": [0.51, 1.0], \"matches\": \"x\", \"nticks\": 19, \"title\": {\"text\": \"floor\"}, \"type\": \"category\"}, \"yaxis\": {\"anchor\": \"x\", \"domain\": [0.0, 1.0], \"range\": [0, 100], \"title\": {\"text\": \"avgWait_weekday\"}}, \"yaxis2\": {\"anchor\": \"x2\", \"domain\": [0.0, 1.0], \"matches\": \"y\", \"range\": [0, 100], \"showticklabels\": false}},\n",
       "                        {\"responsive\": true}\n",
       "                    ).then(function(){\n",
       "                            Plotly.addFrames('b748cbef-68e9-4b84-bb36-4bc252733ae8', [{\"data\": [{\"alignmentgroup\": \"True\", \"hovertemplate\": \"direction=down<br>Local Time (GMT+8)=0<br>floor=%{x}<br>avgWait_weekday=%{y}<extra></extra>\", \"legendgroup\": \"down\", \"marker\": {\"color\": \"#636efa\"}, \"name\": \"down\", \"offsetgroup\": \"down\", \"orientation\": \"v\", \"showlegend\": true, \"textposition\": \"auto\", \"x\": [\"1\", \"3\", \"4\", \"5\", \"6\", \"7\", \"8\", \"9\", \"10\", \"11\", \"12\", \"13\", \"14\", \"15\", \"B1\"], \"xaxis\": \"x\", \"y\": [8.03, 19.435, 14.218, 10.56625, 1.61, 15.10625, 13.192352941176472, 12.13, 14.2925, 19.782000000000004, 16.134545454545457, 16.88111111111111, 19.71, 29.41666666666667, 9.336666666666666], \"yaxis\": \"y\", \"type\": \"bar\"}, {\"alignmentgroup\": \"True\", \"hovertemplate\": \"direction=up<br>Local Time (GMT+8)=0<br>floor=%{x}<br>avgWait_weekday=%{y}<extra></extra>\", \"legendgroup\": \"up\", \"marker\": {\"color\": \"#EF553B\"}, \"name\": \"up\", \"offsetgroup\": \"up\", \"orientation\": \"v\", \"showlegend\": true, \"textposition\": \"auto\", \"x\": [\"1\", \"2\", \"3\", \"4\", \"5\", \"6\", \"7\", \"14\", \"B1\", \"B3\", \"B4\"], \"xaxis\": \"x2\", \"y\": [3.78375, 17.56, 14.225882352941177, 14.673666666666666, 13.060588235294118, 8.64, 10.358571428571429, 20.495, 13.539487179487178, 8.47, 17.68], \"yaxis\": \"y2\", \"type\": \"bar\"}], \"name\": \"0\"}, {\"data\": [{\"alignmentgroup\": \"True\", \"hovertemplate\": \"direction=down<br>Local Time (GMT+8)=1<br>floor=%{x}<br>avgWait_weekday=%{y}<extra></extra>\", \"legendgroup\": \"down\", \"marker\": {\"color\": \"#636efa\"}, \"name\": \"down\", \"offsetgroup\": \"down\", \"orientation\": \"v\", \"showlegend\": true, \"textposition\": \"auto\", \"x\": [\"1\", \"2\", \"3\", \"4\", \"5\", \"6\", \"7\", \"8\", \"9\", \"10\", \"11\", \"12\", \"14\", \"15\", \"B1\"], \"xaxis\": \"x\", \"y\": [8.425, 1.24, 9.195, 13.628, 10.86, 1.48, 14.42875, 13.823333333333332, 13.567999999999998, 1.2433333333333334, 0.56, 16.054444444444446, 20.632857142857144, 10.036666666666667, 18.74], \"yaxis\": \"y\", \"type\": \"bar\"}, {\"alignmentgroup\": \"True\", \"hovertemplate\": \"direction=up<br>Local Time (GMT+8)=1<br>floor=%{x}<br>avgWait_weekday=%{y}<extra></extra>\", \"legendgroup\": \"up\", \"marker\": {\"color\": \"#EF553B\"}, \"name\": \"up\", \"offsetgroup\": \"up\", \"orientation\": \"v\", \"showlegend\": true, \"textposition\": \"auto\", \"x\": [\"1\", \"3\", \"4\", \"5\", \"6\", \"7\", \"10\", \"14\", \"B1\", \"B3\", \"B4\"], \"xaxis\": \"x2\", \"y\": [11.136, 15.046666666666667, 14.339166666666667, 14.115, 3.92, 10.14, 1.38, 14.053333333333335, 15.352121212121212, 13.58, 18.72], \"yaxis\": \"y2\", \"type\": \"bar\"}], \"name\": \"1\"}, {\"data\": [{\"alignmentgroup\": \"True\", \"hovertemplate\": \"direction=down<br>Local Time (GMT+8)=2<br>floor=%{x}<br>avgWait_weekday=%{y}<extra></extra>\", \"legendgroup\": \"down\", \"marker\": {\"color\": \"#636efa\"}, \"name\": \"down\", \"offsetgroup\": \"down\", \"orientation\": \"v\", \"showlegend\": true, \"textposition\": \"auto\", \"x\": [\"1\", \"3\", \"4\", \"5\", \"6\", \"7\", \"8\", \"10\", \"11\", \"12\", \"13\", \"14\", \"15\", \"B1\"], \"xaxis\": \"x\", \"y\": [9.365, 15.795999999999998, 1.6, 10.61, 5.446000000000001, 10.45, 8.645, 18.46, 20.44, 31.63, 19.01, 19.92, 1.37, 20.4], \"yaxis\": \"y\", \"type\": \"bar\"}, {\"alignmentgroup\": \"True\", \"hovertemplate\": \"direction=up<br>Local Time (GMT+8)=2<br>floor=%{x}<br>avgWait_weekday=%{y}<extra></extra>\", \"legendgroup\": \"up\", \"marker\": {\"color\": \"#EF553B\"}, \"name\": \"up\", \"offsetgroup\": \"up\", \"orientation\": \"v\", \"showlegend\": true, \"textposition\": \"auto\", \"x\": [\"1\", \"3\", \"4\", \"5\", \"7\", \"14\", \"B1\", \"B4\"], \"xaxis\": \"x2\", \"y\": [10.36, 10.446666666666664, 13.96, 9.592222222222222, 5.996666666666666, 13.22, 11.164117647058823, 21.20833333333333], \"yaxis\": \"y2\", \"type\": \"bar\"}], \"name\": \"2\"}, {\"data\": [{\"alignmentgroup\": \"True\", \"hovertemplate\": \"direction=down<br>Local Time (GMT+8)=3<br>floor=%{x}<br>avgWait_weekday=%{y}<extra></extra>\", \"legendgroup\": \"down\", \"marker\": {\"color\": \"#636efa\"}, \"name\": \"down\", \"offsetgroup\": \"down\", \"orientation\": \"v\", \"showlegend\": true, \"textposition\": \"auto\", \"x\": [\"1\", \"3\", \"5\", \"6\", \"7\", \"8\", \"9\", \"10\", \"11\", \"15\", \"B1\"], \"xaxis\": \"x\", \"y\": [19.943333333333328, 18.53, 17.959999999999994, 11.658, 17.128, 1.57, 18.105, 19.82, 16.22, 14.025, 1.33], \"yaxis\": \"y\", \"type\": \"bar\"}, {\"alignmentgroup\": \"True\", \"hovertemplate\": \"direction=up<br>Local Time (GMT+8)=3<br>floor=%{x}<br>avgWait_weekday=%{y}<extra></extra>\", \"legendgroup\": \"up\", \"marker\": {\"color\": \"#EF553B\"}, \"name\": \"up\", \"offsetgroup\": \"up\", \"orientation\": \"v\", \"showlegend\": true, \"textposition\": \"auto\", \"x\": [\"1\", \"3\", \"4\", \"5\", \"7\", \"9\", \"11\", \"B1\", \"B4\"], \"xaxis\": \"x2\", \"y\": [15.75, 19.05, 17.5, 13.654285714285715, 7.745, 1.57, 1.59, 21.224, 20.143333333333327], \"yaxis\": \"y2\", \"type\": \"bar\"}], \"name\": \"3\"}, {\"data\": [{\"alignmentgroup\": \"True\", \"hovertemplate\": \"direction=down<br>Local Time (GMT+8)=4<br>floor=%{x}<br>avgWait_weekday=%{y}<extra></extra>\", \"legendgroup\": \"down\", \"marker\": {\"color\": \"#636efa\"}, \"name\": \"down\", \"offsetgroup\": \"down\", \"orientation\": \"v\", \"showlegend\": true, \"textposition\": \"auto\", \"x\": [\"1\", \"3\", \"4\", \"5\", \"6\", \"7\", \"9\", \"10\", \"11\", \"12\", \"13\", \"14\", \"15\"], \"xaxis\": \"x\", \"y\": [0.67, 1.59, 1.48, 15.97, 12.684, 13.28, 7.229999999999999, 9.01, 19.675, 26.09, 1.52, 1.27, 4.8725], \"yaxis\": \"y\", \"type\": \"bar\"}, {\"alignmentgroup\": \"True\", \"hovertemplate\": \"direction=up<br>Local Time (GMT+8)=4<br>floor=%{x}<br>avgWait_weekday=%{y}<extra></extra>\", \"legendgroup\": \"up\", \"marker\": {\"color\": \"#EF553B\"}, \"name\": \"up\", \"offsetgroup\": \"up\", \"orientation\": \"v\", \"showlegend\": true, \"textposition\": \"auto\", \"x\": [\"1\", \"2\", \"3\", \"4\", \"5\", \"7\", \"9\", \"B1\", \"B3\", \"B4\"], \"xaxis\": \"x2\", \"y\": [8.65, 16.23, 9.275, 18.7, 15.84666666666667, 7.840000000000002, 1.05, 1.504, 14.912727272727272, 11.885], \"yaxis\": \"y2\", \"type\": \"bar\"}], \"name\": \"4\"}, {\"data\": [{\"alignmentgroup\": \"True\", \"hovertemplate\": \"direction=down<br>Local Time (GMT+8)=5<br>floor=%{x}<br>avgWait_weekday=%{y}<extra></extra>\", \"legendgroup\": \"down\", \"marker\": {\"color\": \"#636efa\"}, \"name\": \"down\", \"offsetgroup\": \"down\", \"orientation\": \"v\", \"showlegend\": true, \"textposition\": \"auto\", \"x\": [\"1\", \"3\", \"4\", \"5\", \"6\", \"7\", \"8\", \"9\", \"10\", \"11\", \"12\", \"13\", \"14\", \"15\"], \"xaxis\": \"x\", \"y\": [25.10833333333333, 19.185, 17.965, 29.4225, 14.869999999999996, 21.79, 15.626666666666667, 13.660000000000002, 4.991463414634147, 8.04, 19.4625, 15.765, 18.84, 1.59], \"yaxis\": \"y\", \"type\": \"bar\"}, {\"alignmentgroup\": \"True\", \"hovertemplate\": \"direction=up<br>Local Time (GMT+8)=5<br>floor=%{x}<br>avgWait_weekday=%{y}<extra></extra>\", \"legendgroup\": \"up\", \"marker\": {\"color\": \"#EF553B\"}, \"name\": \"up\", \"offsetgroup\": \"up\", \"orientation\": \"v\", \"showlegend\": true, \"textposition\": \"auto\", \"x\": [\"1\", \"4\", \"5\", \"6\", \"7\", \"10\", \"14\", \"B1\", \"B3\", \"B4\"], \"xaxis\": \"x2\", \"y\": [16.08909090909091, 16.78, 11.6575, 13.876, 12.6375, 4.783181818181818, 12.87, 12.53, 20.672727272727283, 26.06777777777777], \"yaxis\": \"y2\", \"type\": \"bar\"}], \"name\": \"5\"}, {\"data\": [{\"alignmentgroup\": \"True\", \"hovertemplate\": \"direction=down<br>Local Time (GMT+8)=6<br>floor=%{x}<br>avgWait_weekday=%{y}<extra></extra>\", \"legendgroup\": \"down\", \"marker\": {\"color\": \"#636efa\"}, \"name\": \"down\", \"offsetgroup\": \"down\", \"orientation\": \"v\", \"showlegend\": true, \"textposition\": \"auto\", \"x\": [\"1\", \"2\", \"3\", \"4\", \"5\", \"6\", \"7\", \"8\", \"9\", \"10\", \"11\", \"12\", \"13\", \"15\", \"B1\", \"B3\"], \"xaxis\": \"x\", \"y\": [24.0622077922078, 11.63, 24.36666666666667, 29.2575, 20.348000000000006, 18.330366972477066, 19.0025, 18.69, 27.415, 11.68626086956522, 21.91090909090909, 15.807142857142859, 10.221428571428572, 14.387142857142859, 25.195, 29.868], \"yaxis\": \"y\", \"type\": \"bar\"}, {\"alignmentgroup\": \"True\", \"hovertemplate\": \"direction=up<br>Local Time (GMT+8)=6<br>floor=%{x}<br>avgWait_weekday=%{y}<extra></extra>\", \"legendgroup\": \"up\", \"marker\": {\"color\": \"#EF553B\"}, \"name\": \"up\", \"offsetgroup\": \"up\", \"orientation\": \"v\", \"showlegend\": true, \"textposition\": \"auto\", \"x\": [\"1\", \"2\", \"3\", \"4\", \"5\", \"6\", \"7\", \"9\", \"10\", \"11\", \"B1\", \"B3\", \"B4\"], \"xaxis\": \"x2\", \"y\": [16.920881542699725, 15.592, 8.01, 15.766818181818184, 13.244285714285715, 22.400454545454544, 19.965, 18.331666666666667, 15.117539682539684, 60.53, 16.85331081081081, 20.990648148148146, 21.235098039215686], \"yaxis\": \"y2\", \"type\": \"bar\"}], \"name\": \"6\"}, {\"data\": [{\"alignmentgroup\": \"True\", \"hovertemplate\": \"direction=down<br>Local Time (GMT+8)=7<br>floor=%{x}<br>avgWait_weekday=%{y}<extra></extra>\", \"legendgroup\": \"down\", \"marker\": {\"color\": \"#636efa\"}, \"name\": \"down\", \"offsetgroup\": \"down\", \"orientation\": \"v\", \"showlegend\": true, \"textposition\": \"auto\", \"x\": [\"1\", \"2\", \"3\", \"4\", \"5\", \"6\", \"7\", \"8\", \"9\", \"10\", \"11\", \"12\", \"13\", \"14\", \"15\", \"B1\", \"B3\"], \"xaxis\": \"x\", \"y\": [33.544444444444444, 36.74321428571428, 29.16791666666667, 28.6555, 34.471, 22.77988826815643, 20.174693877551018, 25.65685714285714, 27.796829268292683, 19.875507246376813, 27.536986301369858, 30.14692307692308, 40.718636363636364, 41.377234042553184, 45.38793650793651, 26.087634408602142, 31.24727272727273], \"yaxis\": \"y\", \"type\": \"bar\"}, {\"alignmentgroup\": \"True\", \"hovertemplate\": \"direction=up<br>Local Time (GMT+8)=7<br>floor=%{x}<br>avgWait_weekday=%{y}<extra></extra>\", \"legendgroup\": \"up\", \"marker\": {\"color\": \"#EF553B\"}, \"name\": \"up\", \"offsetgroup\": \"up\", \"orientation\": \"v\", \"showlegend\": true, \"textposition\": \"auto\", \"x\": [\"1\", \"2\", \"3\", \"4\", \"5\", \"6\", \"7\", \"8\", \"9\", \"10\", \"11\", \"12\", \"13\", \"14\", \"B1\", \"B3\", \"B4\"], \"xaxis\": \"x2\", \"y\": [13.093651685393256, 10.393766233766234, 9.027333333333333, 10.303809523809523, 10.4135, 39.46348484848485, 30.5975, 35.63, 15.168, 37.668952380952376, 16.29714285714286, 4.13, 33.856, 50.465, 15.108409090909092, 16.950592334494775, 21.099675925925926], \"yaxis\": \"y2\", \"type\": \"bar\"}], \"name\": \"7\"}, {\"data\": [{\"alignmentgroup\": \"True\", \"hovertemplate\": \"direction=down<br>Local Time (GMT+8)=8<br>floor=%{x}<br>avgWait_weekday=%{y}<extra></extra>\", \"legendgroup\": \"down\", \"marker\": {\"color\": \"#636efa\"}, \"name\": \"down\", \"offsetgroup\": \"down\", \"orientation\": \"v\", \"showlegend\": true, \"textposition\": \"auto\", \"x\": [\"1\", \"2\", \"3\", \"4\", \"5\", \"6\", \"7\", \"8\", \"9\", \"10\", \"11\", \"12\", \"13\", \"14\", \"15\", \"B1\", \"B3\"], \"xaxis\": \"x\", \"y\": [30.017647058823535, 35.01154929577465, 37.08492063492064, 40.471111111111114, 40.82443037974684, 13.50298611111111, 14.441969696969698, 17.744827586206892, 17.69171641791045, 9.200937499999998, 21.663592814371253, 21.091597222222227, 32.58702702702703, 52.31697478991596, 58.90015037593986, 20.44879518072289, 24.27], \"yaxis\": \"y\", \"type\": \"bar\"}, {\"alignmentgroup\": \"True\", \"hovertemplate\": \"direction=up<br>Local Time (GMT+8)=8<br>floor=%{x}<br>avgWait_weekday=%{y}<extra></extra>\", \"legendgroup\": \"up\", \"marker\": {\"color\": \"#EF553B\"}, \"name\": \"up\", \"offsetgroup\": \"up\", \"orientation\": \"v\", \"showlegend\": true, \"textposition\": \"auto\", \"x\": [\"1\", \"2\", \"3\", \"4\", \"5\", \"6\", \"7\", \"8\", \"9\", \"10\", \"11\", \"12\", \"13\", \"14\", \"B1\", \"B3\", \"B4\"], \"xaxis\": \"x2\", \"y\": [12.0787899543379, 9.845343511450382, 7.637755102040817, 9.807317073170733, 9.978, 52.73866666666666, 50.574615384615385, 38.549583333333345, 54.172857142857154, 40.097, 84.76, 89.32000000000002, 55.45777777777778, 105.22875, 16.208586387434558, 15.484553571428574, 28.18149019607843], \"yaxis\": \"y2\", \"type\": \"bar\"}], \"name\": \"8\"}, {\"data\": [{\"alignmentgroup\": \"True\", \"hovertemplate\": \"direction=down<br>Local Time (GMT+8)=9<br>floor=%{x}<br>avgWait_weekday=%{y}<extra></extra>\", \"legendgroup\": \"down\", \"marker\": {\"color\": \"#636efa\"}, \"name\": \"down\", \"offsetgroup\": \"down\", \"orientation\": \"v\", \"showlegend\": true, \"textposition\": \"auto\", \"x\": [\"1\", \"2\", \"3\", \"4\", \"5\", \"6\", \"7\", \"8\", \"9\", \"10\", \"11\", \"12\", \"13\", \"14\", \"15\", \"B1\", \"B3\"], \"xaxis\": \"x\", \"y\": [18.440099009900987, 28.764675324675327, 34.77699029126214, 32.21, 46.30752808988765, 12.746573033707865, 23.77867647058824, 16.423592814371258, 14.448124999999996, 23.602105263157892, 21.203231707317073, 21.708270676691733, 29.532635658914728, 51.79058510638298, 62.700147058823525, 30.422000000000004, 20.03333333333333], \"yaxis\": \"y\", \"type\": \"bar\"}, {\"alignmentgroup\": \"True\", \"hovertemplate\": \"direction=up<br>Local Time (GMT+8)=9<br>floor=%{x}<br>avgWait_weekday=%{y}<extra></extra>\", \"legendgroup\": \"up\", \"marker\": {\"color\": \"#EF553B\"}, \"name\": \"up\", \"offsetgroup\": \"up\", \"orientation\": \"v\", \"showlegend\": true, \"textposition\": \"auto\", \"x\": [\"1\", \"2\", \"3\", \"4\", \"5\", \"6\", \"7\", \"8\", \"9\", \"10\", \"11\", \"12\", \"13\", \"14\", \"B1\", \"B3\", \"B4\"], \"xaxis\": \"x2\", \"y\": [13.388571428571426, 15.068928571428568, 10.831728395061727, 9.114137931034485, 9.838285714285718, 57.50764705882354, 49.654, 51.1578125, 36.097333333333346, 58.74375, 37.33363636363636, 53.91260869565217, 36.99521739130434, 79.01857142857143, 16.586278317152104, 18.232418300653592, 28.93581589958159], \"yaxis\": \"y2\", \"type\": \"bar\"}], \"name\": \"9\"}, {\"data\": [{\"alignmentgroup\": \"True\", \"hovertemplate\": \"direction=down<br>Local Time (GMT+8)=10<br>floor=%{x}<br>avgWait_weekday=%{y}<extra></extra>\", \"legendgroup\": \"down\", \"marker\": {\"color\": \"#636efa\"}, \"name\": \"down\", \"offsetgroup\": \"down\", \"orientation\": \"v\", \"showlegend\": true, \"textposition\": \"auto\", \"x\": [\"1\", \"2\", \"3\", \"4\", \"5\", \"6\", \"7\", \"8\", \"9\", \"10\", \"11\", \"12\", \"13\", \"14\", \"15\", \"B1\", \"B3\"], \"xaxis\": \"x\", \"y\": [22.38050505050505, 37.01015625, 27.345057471264372, 49.31260869565217, 41.4441095890411, 13.780436893203886, 13.658615384615386, 13.25740506329114, 16.915675675675676, 10.860869565217392, 18.50221476510067, 21.85371900826446, 28.32121495327103, 47.00628415300546, 58.98550724637681, 18.294666666666664, 9.3925], \"yaxis\": \"y\", \"type\": \"bar\"}, {\"alignmentgroup\": \"True\", \"hovertemplate\": \"direction=up<br>Local Time (GMT+8)=10<br>floor=%{x}<br>avgWait_weekday=%{y}<extra></extra>\", \"legendgroup\": \"up\", \"marker\": {\"color\": \"#EF553B\"}, \"name\": \"up\", \"offsetgroup\": \"up\", \"orientation\": \"v\", \"showlegend\": true, \"textposition\": \"auto\", \"x\": [\"1\", \"2\", \"3\", \"4\", \"5\", \"6\", \"7\", \"8\", \"9\", \"10\", \"11\", \"12\", \"13\", \"14\", \"B1\", \"B3\", \"B4\"], \"xaxis\": \"x2\", \"y\": [13.70707395498392, 9.086277372262774, 10.271566265060242, 9.694130434782608, 10.325833333333335, 43.27655737704918, 49.59741935483871, 42.74677419354838, 45.27516129032258, 16.176, 29.474545454545456, 61.308125, 31.78625, 80.518, 15.052967479674797, 14.11086021505376, 32.1219730941704], \"yaxis\": \"y2\", \"type\": \"bar\"}], \"name\": \"10\"}, {\"data\": [{\"alignmentgroup\": \"True\", \"hovertemplate\": \"direction=down<br>Local Time (GMT+8)=11<br>floor=%{x}<br>avgWait_weekday=%{y}<extra></extra>\", \"legendgroup\": \"down\", \"marker\": {\"color\": \"#636efa\"}, \"name\": \"down\", \"offsetgroup\": \"down\", \"orientation\": \"v\", \"showlegend\": true, \"textposition\": \"auto\", \"x\": [\"1\", \"2\", \"3\", \"4\", \"5\", \"6\", \"7\", \"8\", \"9\", \"10\", \"11\", \"12\", \"13\", \"14\", \"15\", \"B1\", \"B3\"], \"xaxis\": \"x\", \"y\": [16.186874999999993, 24.17361111111111, 27.17586466165414, 35.90232876712329, 54.33087378640776, 10.639719626168224, 11.37225988700565, 11.253636363636362, 13.28433155080214, 11.671012658227847, 15.726666666666668, 22.3829696969697, 31.397610062893087, 52.34378640776699, 77.94909722222222, 21.838805970149245, 52.477500000000006], \"yaxis\": \"y\", \"type\": \"bar\"}, {\"alignmentgroup\": \"True\", \"hovertemplate\": \"direction=up<br>Local Time (GMT+8)=11<br>floor=%{x}<br>avgWait_weekday=%{y}<extra></extra>\", \"legendgroup\": \"up\", \"marker\": {\"color\": \"#EF553B\"}, \"name\": \"up\", \"offsetgroup\": \"up\", \"orientation\": \"v\", \"showlegend\": true, \"textposition\": \"auto\", \"x\": [\"1\", \"2\", \"3\", \"4\", \"5\", \"6\", \"7\", \"8\", \"9\", \"10\", \"11\", \"12\", \"13\", \"14\", \"B1\", \"B3\", \"B4\"], \"xaxis\": \"x2\", \"y\": [11.20741134751773, 10.625308641975307, 8.814210526315788, 10.394096385542168, 11.078316831683168, 81.95076923076924, 75.44127659574468, 47.22413793103448, 50.98, 41.37470588235294, 81.17333333333335, 36.303, 45.1675, 35.168, 19.40496732026144, 16.533846153846152, 30.19384976525821], \"yaxis\": \"y2\", \"type\": \"bar\"}], \"name\": \"11\"}, {\"data\": [{\"alignmentgroup\": \"True\", \"hovertemplate\": \"direction=down<br>Local Time (GMT+8)=12<br>floor=%{x}<br>avgWait_weekday=%{y}<extra></extra>\", \"legendgroup\": \"down\", \"marker\": {\"color\": \"#636efa\"}, \"name\": \"down\", \"offsetgroup\": \"down\", \"orientation\": \"v\", \"showlegend\": true, \"textposition\": \"auto\", \"x\": [\"1\", \"2\", \"3\", \"4\", \"5\", \"6\", \"7\", \"8\", \"9\", \"10\", \"11\", \"12\", \"13\", \"14\", \"15\", \"B1\", \"B3\"], \"xaxis\": \"x\", \"y\": [26.69333333333333, 30.095, 33.076153846153844, 24.990701754385967, 38.430917431192654, 10.897340425531914, 11.698097826086956, 11.650054945054945, 14.069397590361445, 15.527692307692305, 14.581324503311254, 22.67571428571428, 27.33390625, 55.69585492227978, 62.7375, 24.8925, 17.30636363636364], \"yaxis\": \"y\", \"type\": \"bar\"}, {\"alignmentgroup\": \"True\", \"hovertemplate\": \"direction=up<br>Local Time (GMT+8)=12<br>floor=%{x}<br>avgWait_weekday=%{y}<extra></extra>\", \"legendgroup\": \"up\", \"marker\": {\"color\": \"#EF553B\"}, \"name\": \"up\", \"offsetgroup\": \"up\", \"orientation\": \"v\", \"showlegend\": true, \"textposition\": \"auto\", \"x\": [\"1\", \"2\", \"3\", \"4\", \"5\", \"6\", \"7\", \"8\", \"9\", \"10\", \"11\", \"12\", \"13\", \"14\", \"B1\", \"B3\", \"B4\"], \"xaxis\": \"x2\", \"y\": [12.531948424068771, 9.719496855345913, 7.915147058823528, 9.125754716981133, 8.859634146341463, 66.72657142857143, 59.97212121212121, 32.99249999999999, 47.52555555555556, 55.553709677419356, 25.94, 44.3325, 45.02095238095239, 44.37666666666666, 17.771449631449627, 15.636315789473686, 28.11128888888889], \"yaxis\": \"y2\", \"type\": \"bar\"}], \"name\": \"12\"}, {\"data\": [{\"alignmentgroup\": \"True\", \"hovertemplate\": \"direction=down<br>Local Time (GMT+8)=13<br>floor=%{x}<br>avgWait_weekday=%{y}<extra></extra>\", \"legendgroup\": \"down\", \"marker\": {\"color\": \"#636efa\"}, \"name\": \"down\", \"offsetgroup\": \"down\", \"orientation\": \"v\", \"showlegend\": true, \"textposition\": \"auto\", \"x\": [\"1\", \"2\", \"3\", \"4\", \"5\", \"6\", \"7\", \"8\", \"9\", \"10\", \"11\", \"12\", \"13\", \"14\", \"15\", \"B1\", \"B3\"], \"xaxis\": \"x\", \"y\": [24.9458, 35.291585365853656, 43.14269230769231, 39.21245901639345, 44.07285714285714, 12.411571428571428, 10.745925925925924, 14.322146596858635, 16.0545197740113, 14.701492537313433, 16.284709302325584, 15.828896103896101, 24.919945054945053, 48.01015384615384, 61.51992907801419, 22.0677027027027, 23.052666666666664], \"yaxis\": \"y\", \"type\": \"bar\"}, {\"alignmentgroup\": \"True\", \"hovertemplate\": \"direction=up<br>Local Time (GMT+8)=13<br>floor=%{x}<br>avgWait_weekday=%{y}<extra></extra>\", \"legendgroup\": \"up\", \"marker\": {\"color\": \"#EF553B\"}, \"name\": \"up\", \"offsetgroup\": \"up\", \"orientation\": \"v\", \"showlegend\": true, \"textposition\": \"auto\", \"x\": [\"1\", \"2\", \"3\", \"4\", \"5\", \"6\", \"7\", \"8\", \"9\", \"10\", \"11\", \"12\", \"13\", \"B1\", \"B3\", \"B4\"], \"xaxis\": \"x2\", \"y\": [12.30185507246377, 9.67736842105263, 10.330561797752807, 8.7271, 10.059102564102563, 72.84161290322581, 74.63418604651162, 62.41333333333333, 48.968, 41.822, 17.071666666666665, 49.549, 30.598666666666666, 15.615630252100846, 14.636380952380955, 25.372103174603172], \"yaxis\": \"y2\", \"type\": \"bar\"}], \"name\": \"13\"}, {\"data\": [{\"alignmentgroup\": \"True\", \"hovertemplate\": \"direction=down<br>Local Time (GMT+8)=14<br>floor=%{x}<br>avgWait_weekday=%{y}<extra></extra>\", \"legendgroup\": \"down\", \"marker\": {\"color\": \"#636efa\"}, \"name\": \"down\", \"offsetgroup\": \"down\", \"orientation\": \"v\", \"showlegend\": true, \"textposition\": \"auto\", \"x\": [\"1\", \"2\", \"3\", \"4\", \"5\", \"6\", \"7\", \"8\", \"9\", \"10\", \"11\", \"12\", \"13\", \"14\", \"15\", \"B1\", \"B3\"], \"xaxis\": \"x\", \"y\": [24.87350877192982, 29.43313253012048, 34.79205607476636, 52.843999999999994, 45.701410256410256, 14.324194915254235, 11.555714285714286, 13.801686046511627, 15.593955223880599, 12.745076923076926, 20.79647887323944, 19.51030303030303, 30.58196850393701, 44.64534090909091, 73.14290780141843, 22.41370967741936, 25.2], \"yaxis\": \"y\", \"type\": \"bar\"}, {\"alignmentgroup\": \"True\", \"hovertemplate\": \"direction=up<br>Local Time (GMT+8)=14<br>floor=%{x}<br>avgWait_weekday=%{y}<extra></extra>\", \"legendgroup\": \"up\", \"marker\": {\"color\": \"#EF553B\"}, \"name\": \"up\", \"offsetgroup\": \"up\", \"orientation\": \"v\", \"showlegend\": true, \"textposition\": \"auto\", \"x\": [\"1\", \"2\", \"3\", \"4\", \"5\", \"6\", \"7\", \"8\", \"9\", \"10\", \"11\", \"12\", \"13\", \"14\", \"B1\", \"B3\", \"B4\"], \"xaxis\": \"x2\", \"y\": [14.298044871794872, 9.962236842105263, 9.455461538461538, 11.327542372881355, 10.295963302752293, 66.5485, 58.63872727272727, 35.18818181818182, 36.494583333333345, 22.01461538461539, 34.93391304347826, 36.4776, 35.90777777777778, 84.67736842105263, 16.327923875432525, 15.368508771929825, 30.853911290322586], \"yaxis\": \"y2\", \"type\": \"bar\"}], \"name\": \"14\"}, {\"data\": [{\"alignmentgroup\": \"True\", \"hovertemplate\": \"direction=down<br>Local Time (GMT+8)=15<br>floor=%{x}<br>avgWait_weekday=%{y}<extra></extra>\", \"legendgroup\": \"down\", \"marker\": {\"color\": \"#636efa\"}, \"name\": \"down\", \"offsetgroup\": \"down\", \"orientation\": \"v\", \"showlegend\": true, \"textposition\": \"auto\", \"x\": [\"1\", \"2\", \"3\", \"4\", \"5\", \"6\", \"7\", \"8\", \"9\", \"10\", \"11\", \"12\", \"13\", \"14\", \"15\", \"B1\", \"B3\"], \"xaxis\": \"x\", \"y\": [25.07018348623853, 25.493595505617986, 29.85433628318584, 44.42030000000001, 47.35247524752476, 10.781720930232561, 11.113006134969325, 14.991263157894736, 13.209261744966446, 13.823516483516483, 15.955401459854011, 22.486981132075478, 26.046078431372553, 57.71850000000001, 82.8184496124031, 21.557142857142853, 30.204166666666666], \"yaxis\": \"y\", \"type\": \"bar\"}, {\"alignmentgroup\": \"True\", \"hovertemplate\": \"direction=up<br>Local Time (GMT+8)=15<br>floor=%{x}<br>avgWait_weekday=%{y}<extra></extra>\", \"legendgroup\": \"up\", \"marker\": {\"color\": \"#EF553B\"}, \"name\": \"up\", \"offsetgroup\": \"up\", \"orientation\": \"v\", \"showlegend\": true, \"textposition\": \"auto\", \"x\": [\"1\", \"2\", \"3\", \"4\", \"5\", \"6\", \"7\", \"8\", \"9\", \"10\", \"11\", \"12\", \"13\", \"14\", \"B1\", \"B3\", \"B4\"], \"xaxis\": \"x2\", \"y\": [13.244548494983276, 10.565414012738854, 11.30528, 9.75609022556391, 9.69009900990099, 72.45718749999997, 60.96323529411765, 38.51147058823529, 47.282777777777774, 37.32173913043478, 30.818571428571428, 52.3796, 34.49277777777777, 91.5975, 17.20033472803347, 17.614, 39.487117117117116], \"yaxis\": \"y2\", \"type\": \"bar\"}], \"name\": \"15\"}, {\"data\": [{\"alignmentgroup\": \"True\", \"hovertemplate\": \"direction=down<br>Local Time (GMT+8)=16<br>floor=%{x}<br>avgWait_weekday=%{y}<extra></extra>\", \"legendgroup\": \"down\", \"marker\": {\"color\": \"#636efa\"}, \"name\": \"down\", \"offsetgroup\": \"down\", \"orientation\": \"v\", \"showlegend\": true, \"textposition\": \"auto\", \"x\": [\"1\", \"2\", \"3\", \"4\", \"5\", \"6\", \"7\", \"8\", \"9\", \"10\", \"11\", \"12\", \"13\", \"14\", \"15\", \"B1\", \"B3\"], \"xaxis\": \"x\", \"y\": [20.94330188679245, 26.157341772151906, 29.853188405797106, 35.33483870967742, 47.7856, 11.968761904761903, 11.547013888888891, 14.591090047393365, 13.824875, 14.776792452830188, 17.963595505617977, 19.070794701986753, 25.39195945945946, 53.23207070707071, 66.45490445859873, 23.397843137254906, 9.55], \"yaxis\": \"y\", \"type\": \"bar\"}, {\"alignmentgroup\": \"True\", \"hovertemplate\": \"direction=up<br>Local Time (GMT+8)=16<br>floor=%{x}<br>avgWait_weekday=%{y}<extra></extra>\", \"legendgroup\": \"up\", \"marker\": {\"color\": \"#EF553B\"}, \"name\": \"up\", \"offsetgroup\": \"up\", \"orientation\": \"v\", \"showlegend\": true, \"textposition\": \"auto\", \"x\": [\"1\", \"2\", \"3\", \"4\", \"5\", \"6\", \"7\", \"8\", \"9\", \"10\", \"11\", \"12\", \"13\", \"14\", \"B1\", \"B3\", \"B4\"], \"xaxis\": \"x2\", \"y\": [13.46622950819672, 9.040130718954249, 9.854083333333334, 11.835, 12.308659793814433, 69.12615384615385, 62.5461403508772, 36.65055555555556, 34.451, 32.879285714285714, 59.048888888888904, 46.59777777777778, 51.80105263157895, 76.92399999999999, 15.987162629757785, 13.770795454545453, 29.41120754716981], \"yaxis\": \"y2\", \"type\": \"bar\"}], \"name\": \"16\"}, {\"data\": [{\"alignmentgroup\": \"True\", \"hovertemplate\": \"direction=down<br>Local Time (GMT+8)=17<br>floor=%{x}<br>avgWait_weekday=%{y}<extra></extra>\", \"legendgroup\": \"down\", \"marker\": {\"color\": \"#636efa\"}, \"name\": \"down\", \"offsetgroup\": \"down\", \"orientation\": \"v\", \"showlegend\": true, \"textposition\": \"auto\", \"x\": [\"1\", \"2\", \"3\", \"4\", \"5\", \"6\", \"7\", \"8\", \"9\", \"10\", \"11\", \"12\", \"13\", \"14\", \"15\", \"B1\", \"B3\"], \"xaxis\": \"x\", \"y\": [22.04549180327869, 18.3768253968254, 31.92855670103093, 26.321263157894734, 46.56439393939394, 8.888839285714285, 11.087283018867923, 11.033951612903225, 12.132345679012346, 12.177674418604653, 14.285541666666667, 16.824532019704435, 22.43669902912621, 38.63958115183246, 61.328351063829786, 18.612266666666667, 36.124], \"yaxis\": \"y\", \"type\": \"bar\"}, {\"alignmentgroup\": \"True\", \"hovertemplate\": \"direction=up<br>Local Time (GMT+8)=17<br>floor=%{x}<br>avgWait_weekday=%{y}<extra></extra>\", \"legendgroup\": \"up\", \"marker\": {\"color\": \"#EF553B\"}, \"name\": \"up\", \"offsetgroup\": \"up\", \"orientation\": \"v\", \"showlegend\": true, \"textposition\": \"auto\", \"x\": [\"1\", \"2\", \"3\", \"4\", \"5\", \"6\", \"7\", \"8\", \"9\", \"10\", \"11\", \"12\", \"13\", \"14\", \"B1\", \"B3\", \"B4\"], \"xaxis\": \"x2\", \"y\": [14.24584980237154, 10.687218045112779, 12.0923595505618, 10.73032, 11.762911392405064, 66.17484848484848, 63.2878125, 41.66777777777778, 48.4290909090909, 53.12555555555554, 42.556666666666665, 59.19666666666666, 36.04357142857143, 87.46153846153847, 17.748929663608557, 13.679529411764705, 28.595255474452557], \"yaxis\": \"y2\", \"type\": \"bar\"}], \"name\": \"17\"}, {\"data\": [{\"alignmentgroup\": \"True\", \"hovertemplate\": \"direction=down<br>Local Time (GMT+8)=18<br>floor=%{x}<br>avgWait_weekday=%{y}<extra></extra>\", \"legendgroup\": \"down\", \"marker\": {\"color\": \"#636efa\"}, \"name\": \"down\", \"offsetgroup\": \"down\", \"orientation\": \"v\", \"showlegend\": true, \"textposition\": \"auto\", \"x\": [\"1\", \"2\", \"3\", \"4\", \"5\", \"6\", \"7\", \"8\", \"9\", \"10\", \"11\", \"12\", \"13\", \"14\", \"15\", \"B1\", \"B3\"], \"xaxis\": \"x\", \"y\": [16.542741935483868, 23.60795918367347, 22.90538461538461, 30.79460317460317, 33.256534653465344, 12.17037234042553, 12.048626373626375, 14.576572769953053, 14.176341463414635, 17.61647058823529, 13.484432432432433, 17.821263736263738, 20.640265957446807, 36.24246376811593, 44.23891891891893, 22.537868852459017, 17.66], \"yaxis\": \"y\", \"type\": \"bar\"}, {\"alignmentgroup\": \"True\", \"hovertemplate\": \"direction=up<br>Local Time (GMT+8)=18<br>floor=%{x}<br>avgWait_weekday=%{y}<extra></extra>\", \"legendgroup\": \"up\", \"marker\": {\"color\": \"#EF553B\"}, \"name\": \"up\", \"offsetgroup\": \"up\", \"orientation\": \"v\", \"showlegend\": true, \"textposition\": \"auto\", \"x\": [\"1\", \"2\", \"3\", \"4\", \"5\", \"6\", \"7\", \"8\", \"9\", \"10\", \"11\", \"12\", \"13\", \"14\", \"B1\", \"B3\", \"B4\"], \"xaxis\": \"x2\", \"y\": [15.249947089947089, 11.778194444444445, 10.017567567567568, 17.817777777777778, 15.86862745098039, 49.11749999999999, 41.03916666666667, 62.404285714285706, 29.076666666666664, 62.62777777777779, 35.215, 17.945, 66.00888888888889, 29.365, 17.90008450704225, 16.665769230769232, 19.77994897959184], \"yaxis\": \"y2\", \"type\": \"bar\"}], \"name\": \"18\"}, {\"data\": [{\"alignmentgroup\": \"True\", \"hovertemplate\": \"direction=down<br>Local Time (GMT+8)=19<br>floor=%{x}<br>avgWait_weekday=%{y}<extra></extra>\", \"legendgroup\": \"down\", \"marker\": {\"color\": \"#636efa\"}, \"name\": \"down\", \"offsetgroup\": \"down\", \"orientation\": \"v\", \"showlegend\": true, \"textposition\": \"auto\", \"x\": [\"1\", \"2\", \"3\", \"4\", \"5\", \"6\", \"7\", \"8\", \"9\", \"10\", \"11\", \"12\", \"13\", \"14\", \"15\", \"B1\", \"B3\"], \"xaxis\": \"x\", \"y\": [14.9778, 21.28529411764705, 19.352285714285713, 19.04875, 26.498709677419356, 15.827961165048544, 16.23556818181818, 15.275789473684213, 17.237956989247312, 16.179545454545455, 21.536, 20.9246875, 20.738024691358024, 23.912839506172837, 35.3293103448276, 17.660217391304347, 16.26], \"yaxis\": \"y\", \"type\": \"bar\"}, {\"alignmentgroup\": \"True\", \"hovertemplate\": \"direction=up<br>Local Time (GMT+8)=19<br>floor=%{x}<br>avgWait_weekday=%{y}<extra></extra>\", \"legendgroup\": \"up\", \"marker\": {\"color\": \"#EF553B\"}, \"name\": \"up\", \"offsetgroup\": \"up\", \"orientation\": \"v\", \"showlegend\": true, \"textposition\": \"auto\", \"x\": [\"1\", \"2\", \"3\", \"4\", \"5\", \"6\", \"7\", \"8\", \"9\", \"10\", \"11\", \"12\", \"13\", \"14\", \"B1\", \"B3\", \"B4\"], \"xaxis\": \"x2\", \"y\": [12.243076923076925, 14.951, 14.84, 16.410117647058822, 15.570232558139534, 23.463750000000005, 25.535555555555554, 14.082, 24.9225, 28.1, 45.2, 39.94, 41.815, 31.218000000000004, 13.904722222222226, 17.78341463414634, 18.28663366336633], \"yaxis\": \"y2\", \"type\": \"bar\"}], \"name\": \"19\"}, {\"data\": [{\"alignmentgroup\": \"True\", \"hovertemplate\": \"direction=down<br>Local Time (GMT+8)=20<br>floor=%{x}<br>avgWait_weekday=%{y}<extra></extra>\", \"legendgroup\": \"down\", \"marker\": {\"color\": \"#636efa\"}, \"name\": \"down\", \"offsetgroup\": \"down\", \"orientation\": \"v\", \"showlegend\": true, \"textposition\": \"auto\", \"x\": [\"1\", \"2\", \"3\", \"4\", \"5\", \"6\", \"7\", \"8\", \"9\", \"10\", \"11\", \"12\", \"13\", \"14\", \"15\", \"B1\", \"B3\"], \"xaxis\": \"x\", \"y\": [12.755555555555556, 12.496363636363638, 13.575517241379313, 16.865666666666666, 16.945, 12.648170731707316, 13.99390243902439, 14.232823529411766, 19.695535714285715, 10.84153846153846, 19.988301886792453, 20.96122448979592, 21.4168, 25.72342857142857, 24.724166666666665, 11.756315789473685, 9.53], \"yaxis\": \"y\", \"type\": \"bar\"}, {\"alignmentgroup\": \"True\", \"hovertemplate\": \"direction=up<br>Local Time (GMT+8)=20<br>floor=%{x}<br>avgWait_weekday=%{y}<extra></extra>\", \"legendgroup\": \"up\", \"marker\": {\"color\": \"#EF553B\"}, \"name\": \"up\", \"offsetgroup\": \"up\", \"orientation\": \"v\", \"showlegend\": true, \"textposition\": \"auto\", \"x\": [\"1\", \"2\", \"3\", \"4\", \"5\", \"6\", \"7\", \"8\", \"9\", \"10\", \"12\", \"13\", \"14\", \"B1\", \"B3\", \"B4\"], \"xaxis\": \"x2\", \"y\": [11.075999999999999, 11.019230769230768, 13.214444444444444, 16.735833333333332, 18.722500000000004, 28.1825, 23.545, 28.047999999999995, 14.896666666666668, 12.919999999999998, 7.57, 31.005000000000006, 34.84333333333333, 13.220894736842109, 9.46891891891892, 18.636885245901638], \"yaxis\": \"y2\", \"type\": \"bar\"}], \"name\": \"20\"}, {\"data\": [{\"alignmentgroup\": \"True\", \"hovertemplate\": \"direction=down<br>Local Time (GMT+8)=21<br>floor=%{x}<br>avgWait_weekday=%{y}<extra></extra>\", \"legendgroup\": \"down\", \"marker\": {\"color\": \"#636efa\"}, \"name\": \"down\", \"offsetgroup\": \"down\", \"orientation\": \"v\", \"showlegend\": true, \"textposition\": \"auto\", \"x\": [\"1\", \"2\", \"3\", \"4\", \"5\", \"6\", \"7\", \"8\", \"9\", \"10\", \"11\", \"12\", \"13\", \"14\", \"15\", \"B1\"], \"xaxis\": \"x\", \"y\": [7.246, 17.56, 14.822142857142856, 19.4048, 12.99425, 12.462391304347825, 16.493000000000002, 15.77315789473684, 17.743448275862068, 11.773636363636365, 19.31058823529412, 20.521923076923073, 21.40710526315789, 19.682954545454546, 27.8104, 11.792727272727273], \"yaxis\": \"y\", \"type\": \"bar\"}, {\"alignmentgroup\": \"True\", \"hovertemplate\": \"direction=up<br>Local Time (GMT+8)=21<br>floor=%{x}<br>avgWait_weekday=%{y}<extra></extra>\", \"legendgroup\": \"up\", \"marker\": {\"color\": \"#EF553B\"}, \"name\": \"up\", \"offsetgroup\": \"up\", \"orientation\": \"v\", \"showlegend\": true, \"textposition\": \"auto\", \"x\": [\"1\", \"2\", \"3\", \"4\", \"5\", \"6\", \"7\", \"8\", \"9\", \"10\", \"12\", \"14\", \"B1\", \"B3\", \"B4\"], \"xaxis\": \"x2\", \"y\": [9.712916666666667, 11.052, 11.881818181818181, 14.150869565217393, 14.415384615384614, 23.660000000000004, 7.99, 16.335, 22.3975, 18.215384615384615, 30.32, 18.1275, 12.185798816568049, 14.210909090909093, 10.55], \"yaxis\": \"y2\", \"type\": \"bar\"}], \"name\": \"21\"}, {\"data\": [{\"alignmentgroup\": \"True\", \"hovertemplate\": \"direction=down<br>Local Time (GMT+8)=22<br>floor=%{x}<br>avgWait_weekday=%{y}<extra></extra>\", \"legendgroup\": \"down\", \"marker\": {\"color\": \"#636efa\"}, \"name\": \"down\", \"offsetgroup\": \"down\", \"orientation\": \"v\", \"showlegend\": true, \"textposition\": \"auto\", \"x\": [\"1\", \"2\", \"3\", \"4\", \"5\", \"6\", \"7\", \"8\", \"9\", \"10\", \"11\", \"12\", \"13\", \"14\", \"15\", \"B1\"], \"xaxis\": \"x\", \"y\": [10.585238095238095, 17.93, 16.63444444444444, 19.437419354838703, 17.574444444444445, 12.79271186440678, 16.96777777777778, 13.486521739130435, 17.232499999999998, 10.961839080459773, 15.963333333333333, 19.47571428571428, 22.837619047619054, 23.480625, 19.11823529411765, 15.246666666666668], \"yaxis\": \"y\", \"type\": \"bar\"}, {\"alignmentgroup\": \"True\", \"hovertemplate\": \"direction=up<br>Local Time (GMT+8)=22<br>floor=%{x}<br>avgWait_weekday=%{y}<extra></extra>\", \"legendgroup\": \"up\", \"marker\": {\"color\": \"#EF553B\"}, \"name\": \"up\", \"offsetgroup\": \"up\", \"orientation\": \"v\", \"showlegend\": true, \"textposition\": \"auto\", \"x\": [\"1\", \"2\", \"3\", \"4\", \"5\", \"6\", \"7\", \"8\", \"9\", \"10\", \"14\", \"B1\", \"B3\", \"B4\"], \"xaxis\": \"x2\", \"y\": [9.361983471074382, 19.81, 8.68, 12.682916666666666, 17.02235294117647, 11.765, 14.09625, 18.085, 23.77, 20.385, 19.802, 11.485172413793107, 17.42866666666667, 7.624166666666667], \"yaxis\": \"y2\", \"type\": \"bar\"}], \"name\": \"22\"}, {\"data\": [{\"alignmentgroup\": \"True\", \"hovertemplate\": \"direction=down<br>Local Time (GMT+8)=23<br>floor=%{x}<br>avgWait_weekday=%{y}<extra></extra>\", \"legendgroup\": \"down\", \"marker\": {\"color\": \"#636efa\"}, \"name\": \"down\", \"offsetgroup\": \"down\", \"orientation\": \"v\", \"showlegend\": true, \"textposition\": \"auto\", \"x\": [\"1\", \"2\", \"3\", \"4\", \"5\", \"6\", \"7\", \"8\", \"9\", \"10\", \"11\", \"12\", \"13\", \"14\", \"15\", \"B1\"], \"xaxis\": \"x\", \"y\": [7.184, 17.65, 18.75, 13.6625, 19.92875, 14.178923076923075, 17.414444444444445, 13.088500000000002, 13.743076923076925, 11.638823529411766, 16.846, 12.665999999999999, 17.364545454545453, 13.963333333333333, 23.44, 11.0], \"yaxis\": \"y\", \"type\": \"bar\"}, {\"alignmentgroup\": \"True\", \"hovertemplate\": \"direction=up<br>Local Time (GMT+8)=23<br>floor=%{x}<br>avgWait_weekday=%{y}<extra></extra>\", \"legendgroup\": \"up\", \"marker\": {\"color\": \"#EF553B\"}, \"name\": \"up\", \"offsetgroup\": \"up\", \"orientation\": \"v\", \"showlegend\": true, \"textposition\": \"auto\", \"x\": [\"1\", \"2\", \"3\", \"4\", \"5\", \"6\", \"7\", \"9\", \"11\", \"12\", \"14\", \"B1\", \"B3\", \"B4\"], \"xaxis\": \"x2\", \"y\": [12.376666666666667, 0.92, 12.398333333333332, 11.448571428571427, 15.12, 13.3165625, 10.655999999999999, 15.72, 1.27, 17.62, 8.905000000000003, 10.851379310344827, 10.014, 12.476111111111114], \"yaxis\": \"y2\", \"type\": \"bar\"}], \"name\": \"23\"}]);\n",
       "                        }).then(function(){\n",
       "                            \n",
       "var gd = document.getElementById('b748cbef-68e9-4b84-bb36-4bc252733ae8');\n",
       "var x = new MutationObserver(function (mutations, observer) {{\n",
       "        var display = window.getComputedStyle(gd).display;\n",
       "        if (!display || display === 'none') {{\n",
       "            console.log([gd, 'removed!']);\n",
       "            Plotly.purge(gd);\n",
       "            observer.disconnect();\n",
       "        }}\n",
       "}});\n",
       "\n",
       "// Listen for the removal of the full notebook cells\n",
       "var notebookContainer = gd.closest('#notebook-container');\n",
       "if (notebookContainer) {{\n",
       "    x.observe(notebookContainer, {childList: true});\n",
       "}}\n",
       "\n",
       "// Listen for the clearing of the current output cell\n",
       "var outputEl = gd.closest('.output');\n",
       "if (outputEl) {{\n",
       "    x.observe(outputEl, {childList: true});\n",
       "}}\n",
       "\n",
       "                        })\n",
       "                };\n",
       "                });\n",
       "            </script>\n",
       "        </div>"
      ]
     },
     "metadata": {},
     "output_type": "display_data"
    }
   ],
   "source": [
    "# floor_list = ['B4','B3', 'B2','B1','01', '02', '03', '04', '05', '06', '07', '08', '09', '10', '11','12', '13', '14', '15']\n",
    "\n",
    "df_s_weekday.floor.unique()\n",
    "\n",
    "fig = px.bar(data_frame=df_s_weekday, \n",
    "             \n",
    "             ## 這裡的data frame都先用 R aggregate過了，以節省運算時間\n",
    "             x = \"floor\", y = \"avgWait_weekday\",\n",
    "             \n",
    "             ## 以方向分兩張圖，並上色\n",
    "             facet_col=\"direction\",color=\"direction\",\n",
    "             \n",
    "             ## 自動生成slider\n",
    "             animation_frame=\"hour\",\n",
    "             \n",
    "             \n",
    "             labels={\"count\":\"avgWait_weekday\",\n",
    "                     \"hour\":\"Local Time (GMT+8)\"})\n",
    "\n",
    "# X axis\n",
    "fig.update_xaxes(nticks=len(floor_name), ##指定breaks的數量\n",
    "                 \n",
    "                 ## 手動將X的類別排序\n",
    "                 type=\"category\",\n",
    "                 categoryarray=floor_name)\n",
    "\n",
    "# Y axis\n",
    "fig.update_yaxes(range=[0, 100])\n",
    "\n",
    "# Layout\n",
    "fig.update_layout(title_text='Average waiting time of Elevator Calls by Floor on weekday')\n",
    "\n",
    "fig.show()"
   ]
  },
  {
   "cell_type": "code",
   "execution_count": 24,
   "metadata": {},
   "outputs": [
    {
     "data": {
      "application/vnd.plotly.v1+json": {
       "config": {
        "plotlyServerURL": "https://plot.ly"
       },
       "data": [
        {
         "alignmentgroup": "True",
         "hovertemplate": "direction=up<br>Local Time (GMT+8)=0<br>floor=%{x}<br>avgWait_weekend=%{y}<extra></extra>",
         "legendgroup": "up",
         "marker": {
          "color": "#636efa"
         },
         "name": "up",
         "offsetgroup": "up",
         "orientation": "v",
         "showlegend": true,
         "textposition": "auto",
         "type": "bar",
         "x": [
          "1",
          "3",
          "4",
          "5",
          "7",
          "B1",
          "B3",
          "B4"
         ],
         "xaxis": "x",
         "y": [
          9.79,
          18.08333333333333,
          10.533333333333333,
          13.146666666666668,
          7.505,
          16.17625,
          14.033333333333333,
          14.35
         ],
         "yaxis": "y"
        },
        {
         "alignmentgroup": "True",
         "hovertemplate": "direction=down<br>Local Time (GMT+8)=0<br>floor=%{x}<br>avgWait_weekend=%{y}<extra></extra>",
         "legendgroup": "down",
         "marker": {
          "color": "#EF553B"
         },
         "name": "down",
         "offsetgroup": "down",
         "orientation": "v",
         "showlegend": true,
         "textposition": "auto",
         "type": "bar",
         "x": [
          "3",
          "4",
          "6",
          "7",
          "8",
          "9",
          "11",
          "12",
          "13",
          "14",
          "15",
          "B1"
         ],
         "xaxis": "x2",
         "y": [
          14.025,
          15.44,
          14.845,
          16.243333333333336,
          15.35,
          18.48,
          19.92333333333333,
          20.114,
          18.98,
          18.86,
          21.425,
          12.625
         ],
         "yaxis": "y2"
        }
       ],
       "frames": [
        {
         "data": [
          {
           "alignmentgroup": "True",
           "hovertemplate": "direction=up<br>Local Time (GMT+8)=0<br>floor=%{x}<br>avgWait_weekend=%{y}<extra></extra>",
           "legendgroup": "up",
           "marker": {
            "color": "#636efa"
           },
           "name": "up",
           "offsetgroup": "up",
           "orientation": "v",
           "showlegend": true,
           "textposition": "auto",
           "type": "bar",
           "x": [
            "1",
            "3",
            "4",
            "5",
            "7",
            "B1",
            "B3",
            "B4"
           ],
           "xaxis": "x",
           "y": [
            9.79,
            18.08333333333333,
            10.533333333333333,
            13.146666666666668,
            7.505,
            16.17625,
            14.033333333333333,
            14.35
           ],
           "yaxis": "y"
          },
          {
           "alignmentgroup": "True",
           "hovertemplate": "direction=down<br>Local Time (GMT+8)=0<br>floor=%{x}<br>avgWait_weekend=%{y}<extra></extra>",
           "legendgroup": "down",
           "marker": {
            "color": "#EF553B"
           },
           "name": "down",
           "offsetgroup": "down",
           "orientation": "v",
           "showlegend": true,
           "textposition": "auto",
           "type": "bar",
           "x": [
            "3",
            "4",
            "6",
            "7",
            "8",
            "9",
            "11",
            "12",
            "13",
            "14",
            "15",
            "B1"
           ],
           "xaxis": "x2",
           "y": [
            14.025,
            15.44,
            14.845,
            16.243333333333336,
            15.35,
            18.48,
            19.92333333333333,
            20.114,
            18.98,
            18.86,
            21.425,
            12.625
           ],
           "yaxis": "y2"
          }
         ],
         "name": "0"
        },
        {
         "data": [
          {
           "alignmentgroup": "True",
           "hovertemplate": "direction=up<br>Local Time (GMT+8)=1<br>floor=%{x}<br>avgWait_weekend=%{y}<extra></extra>",
           "legendgroup": "up",
           "marker": {
            "color": "#636efa"
           },
           "name": "up",
           "offsetgroup": "up",
           "orientation": "v",
           "showlegend": true,
           "textposition": "auto",
           "type": "bar",
           "x": [
            "1",
            "2",
            "3",
            "4",
            "5",
            "6",
            "7",
            "B1",
            "B3",
            "B4"
           ],
           "xaxis": "x",
           "y": [
            14.395,
            19.2,
            15.822500000000002,
            13.3325,
            12.965,
            1.44,
            14.02,
            14.2125,
            23.17,
            21.535
           ],
           "yaxis": "y"
          },
          {
           "alignmentgroup": "True",
           "hovertemplate": "direction=down<br>Local Time (GMT+8)=1<br>floor=%{x}<br>avgWait_weekend=%{y}<extra></extra>",
           "legendgroup": "down",
           "marker": {
            "color": "#EF553B"
           },
           "name": "down",
           "offsetgroup": "down",
           "orientation": "v",
           "showlegend": true,
           "textposition": "auto",
           "type": "bar",
           "x": [
            "3",
            "5",
            "6",
            "7",
            "8",
            "9",
            "10",
            "11",
            "12",
            "13",
            "14",
            "15"
           ],
           "xaxis": "x2",
           "y": [
            21.21,
            17.27,
            21.69,
            10.826666666666664,
            13.79,
            17.49,
            19.2,
            19.08,
            38.44,
            15.79,
            12.670000000000002,
            1.01
           ],
           "yaxis": "y2"
          }
         ],
         "name": "1"
        },
        {
         "data": [
          {
           "alignmentgroup": "True",
           "hovertemplate": "direction=up<br>Local Time (GMT+8)=2<br>floor=%{x}<br>avgWait_weekend=%{y}<extra></extra>",
           "legendgroup": "up",
           "marker": {
            "color": "#636efa"
           },
           "name": "up",
           "offsetgroup": "up",
           "orientation": "v",
           "showlegend": true,
           "textposition": "auto",
           "type": "bar",
           "x": [
            "1",
            "3",
            "4",
            "5",
            "6",
            "7",
            "9",
            "14",
            "B1",
            "B4"
           ],
           "xaxis": "x",
           "y": [
            12.976666666666668,
            15.235,
            15.298333333333332,
            16.033333333333335,
            1.58,
            15.93,
            7.7,
            17.47,
            14.136153846153848,
            18.47
           ],
           "yaxis": "y"
          },
          {
           "alignmentgroup": "True",
           "hovertemplate": "direction=down<br>Local Time (GMT+8)=2<br>floor=%{x}<br>avgWait_weekend=%{y}<extra></extra>",
           "legendgroup": "down",
           "marker": {
            "color": "#EF553B"
           },
           "name": "down",
           "offsetgroup": "down",
           "orientation": "v",
           "showlegend": true,
           "textposition": "auto",
           "type": "bar",
           "x": [
            "3",
            "4",
            "6",
            "7",
            "8",
            "9",
            "10",
            "11",
            "12",
            "13",
            "14",
            "15",
            "B1"
           ],
           "xaxis": "x2",
           "y": [
            10.745,
            19.05,
            1.2133333333333334,
            10.555,
            15.19,
            10.885,
            11.97,
            10.79,
            1.415,
            15.8,
            27.03,
            6.543333333333332,
            11.83
           ],
           "yaxis": "y2"
          }
         ],
         "name": "2"
        },
        {
         "data": [
          {
           "alignmentgroup": "True",
           "hovertemplate": "direction=up<br>Local Time (GMT+8)=3<br>floor=%{x}<br>avgWait_weekend=%{y}<extra></extra>",
           "legendgroup": "up",
           "marker": {
            "color": "#636efa"
           },
           "name": "up",
           "offsetgroup": "up",
           "orientation": "v",
           "showlegend": true,
           "textposition": "auto",
           "type": "bar",
           "x": [
            "1",
            "3",
            "4",
            "7",
            "8",
            "14",
            "B1",
            "B4"
           ],
           "xaxis": "x",
           "y": [
            15.83,
            1.6,
            8.78,
            1.0533333333333337,
            1.57,
            18.95,
            10.963333333333333,
            11.785
           ],
           "yaxis": "y"
          },
          {
           "alignmentgroup": "True",
           "hovertemplate": "direction=down<br>Local Time (GMT+8)=3<br>floor=%{x}<br>avgWait_weekend=%{y}<extra></extra>",
           "legendgroup": "down",
           "marker": {
            "color": "#EF553B"
           },
           "name": "down",
           "offsetgroup": "down",
           "orientation": "v",
           "showlegend": true,
           "textposition": "auto",
           "type": "bar",
           "x": [
            "1",
            "3",
            "4",
            "5",
            "6",
            "7",
            "8",
            "9",
            "14",
            "15"
           ],
           "xaxis": "x2",
           "y": [
            23.4,
            15.94,
            9.81,
            15.73,
            25.17,
            3.44,
            13.79,
            12.215,
            1.61,
            2.55
           ],
           "yaxis": "y2"
          }
         ],
         "name": "3"
        },
        {
         "data": [
          {
           "alignmentgroup": "True",
           "hovertemplate": "direction=up<br>Local Time (GMT+8)=5<br>floor=%{x}<br>avgWait_weekend=%{y}<extra></extra>",
           "legendgroup": "up",
           "marker": {
            "color": "#636efa"
           },
           "name": "up",
           "offsetgroup": "up",
           "orientation": "v",
           "showlegend": true,
           "textposition": "auto",
           "type": "bar",
           "x": [
            "1",
            "6",
            "8",
            "9",
            "10",
            "B1",
            "B3",
            "B4"
           ],
           "xaxis": "x",
           "y": [
            13.248333333333335,
            15.71,
            22.31,
            14.77,
            5.031666666666666,
            11.792,
            20.78,
            25.61
           ],
           "yaxis": "y"
          },
          {
           "alignmentgroup": "True",
           "hovertemplate": "direction=down<br>Local Time (GMT+8)=5<br>floor=%{x}<br>avgWait_weekend=%{y}<extra></extra>",
           "legendgroup": "down",
           "marker": {
            "color": "#EF553B"
           },
           "name": "down",
           "offsetgroup": "down",
           "orientation": "v",
           "showlegend": true,
           "textposition": "auto",
           "type": "bar",
           "x": [
            "6",
            "8",
            "9",
            "10",
            "11",
            "12",
            "15",
            "B1"
           ],
           "xaxis": "x2",
           "y": [
            10.72,
            25.18,
            6.41,
            5.697,
            8.04,
            10.15,
            1.37,
            15.03
           ],
           "yaxis": "y2"
          }
         ],
         "name": "5"
        },
        {
         "data": [
          {
           "alignmentgroup": "True",
           "hovertemplate": "direction=up<br>Local Time (GMT+8)=6<br>floor=%{x}<br>avgWait_weekend=%{y}<extra></extra>",
           "legendgroup": "up",
           "marker": {
            "color": "#636efa"
           },
           "name": "up",
           "offsetgroup": "up",
           "orientation": "v",
           "showlegend": true,
           "textposition": "auto",
           "type": "bar",
           "x": [
            "1",
            "2",
            "3",
            "4",
            "6",
            "7",
            "9",
            "10",
            "11",
            "B1",
            "B3",
            "B4"
           ],
           "xaxis": "x",
           "y": [
            18.0916,
            14.29,
            19.32,
            17.82888888888889,
            17.354571428571433,
            12.89,
            15.16,
            9.470555555555556,
            11.18,
            20.345294117647054,
            20.910384615384622,
            20.430000000000003
           ],
           "yaxis": "y"
          },
          {
           "alignmentgroup": "True",
           "hovertemplate": "direction=down<br>Local Time (GMT+8)=6<br>floor=%{x}<br>avgWait_weekend=%{y}<extra></extra>",
           "legendgroup": "down",
           "marker": {
            "color": "#EF553B"
           },
           "name": "down",
           "offsetgroup": "down",
           "orientation": "v",
           "showlegend": true,
           "textposition": "auto",
           "type": "bar",
           "x": [
            "1",
            "2",
            "3",
            "5",
            "6",
            "7",
            "8",
            "10",
            "11",
            "12",
            "13",
            "14",
            "15",
            "B1",
            "B3"
           ],
           "xaxis": "x2",
           "y": [
            27.488888888888887,
            9.51,
            26.845,
            25.8725,
            12.5715,
            17.773333333333333,
            10.1,
            10.16906976744186,
            14.085,
            5.98,
            11.961428571428574,
            58.09,
            25.35,
            21.718823529411765,
            7.765
           ],
           "yaxis": "y2"
          }
         ],
         "name": "6"
        },
        {
         "data": [
          {
           "alignmentgroup": "True",
           "hovertemplate": "direction=up<br>Local Time (GMT+8)=7<br>floor=%{x}<br>avgWait_weekend=%{y}<extra></extra>",
           "legendgroup": "up",
           "marker": {
            "color": "#636efa"
           },
           "name": "up",
           "offsetgroup": "up",
           "orientation": "v",
           "showlegend": true,
           "textposition": "auto",
           "type": "bar",
           "x": [
            "1",
            "2",
            "3",
            "4",
            "5",
            "6",
            "7",
            "9",
            "10",
            "13",
            "14",
            "B1",
            "B3",
            "B4"
           ],
           "xaxis": "x",
           "y": [
            16.886402116402117,
            11.3025,
            6.404000000000001,
            8.583,
            15.714000000000002,
            34.626666666666665,
            7.97,
            51.01,
            22.202500000000004,
            10.69,
            15.16,
            15.817614678899083,
            14.113787878787878,
            20.617254901960784
           ],
           "yaxis": "y"
          },
          {
           "alignmentgroup": "True",
           "hovertemplate": "direction=down<br>Local Time (GMT+8)=7<br>floor=%{x}<br>avgWait_weekend=%{y}<extra></extra>",
           "legendgroup": "down",
           "marker": {
            "color": "#EF553B"
           },
           "name": "down",
           "offsetgroup": "down",
           "orientation": "v",
           "showlegend": true,
           "textposition": "auto",
           "type": "bar",
           "x": [
            "1",
            "2",
            "3",
            "4",
            "5",
            "6",
            "7",
            "8",
            "9",
            "10",
            "11",
            "12",
            "13",
            "14",
            "15",
            "B1",
            "B3"
           ],
           "xaxis": "x2",
           "y": [
            25.218604651162792,
            28.66666666666667,
            37.80272727272728,
            21.510714285714283,
            15.3175,
            15.663863636363635,
            21.26545454545455,
            16.609375,
            23.60375,
            12.4,
            28.23,
            26.79636363636364,
            24.300666666666665,
            46.33454545454546,
            27.00428571428571,
            23.850476190476193,
            14.56
           ],
           "yaxis": "y2"
          }
         ],
         "name": "7"
        },
        {
         "data": [
          {
           "alignmentgroup": "True",
           "hovertemplate": "direction=up<br>Local Time (GMT+8)=8<br>floor=%{x}<br>avgWait_weekend=%{y}<extra></extra>",
           "legendgroup": "up",
           "marker": {
            "color": "#636efa"
           },
           "name": "up",
           "offsetgroup": "up",
           "orientation": "v",
           "showlegend": true,
           "textposition": "auto",
           "type": "bar",
           "x": [
            "1",
            "2",
            "3",
            "4",
            "5",
            "6",
            "8",
            "9",
            "10",
            "11",
            "12",
            "13",
            "14",
            "B1",
            "B3",
            "B4"
           ],
           "xaxis": "x",
           "y": [
            13.831301775147926,
            10.296764705882351,
            12.188666666666665,
            7.866666666666667,
            7.803333333333333,
            35.50888888888889,
            48.14833333333333,
            36.04,
            17.162,
            45.79,
            17.06,
            45.00666666666667,
            62.55,
            15.839318181818182,
            17.366521739130434,
            24.705483870967747
           ],
           "yaxis": "y"
          },
          {
           "alignmentgroup": "True",
           "hovertemplate": "direction=down<br>Local Time (GMT+8)=8<br>floor=%{x}<br>avgWait_weekend=%{y}<extra></extra>",
           "legendgroup": "down",
           "marker": {
            "color": "#EF553B"
           },
           "name": "down",
           "offsetgroup": "down",
           "orientation": "v",
           "showlegend": true,
           "textposition": "auto",
           "type": "bar",
           "x": [
            "1",
            "2",
            "3",
            "4",
            "5",
            "6",
            "7",
            "8",
            "9",
            "10",
            "11",
            "12",
            "13",
            "14",
            "15",
            "B1",
            "B3"
           ],
           "xaxis": "x2",
           "y": [
            32.988,
            24.185,
            31.707812500000006,
            31.42352941176471,
            30.16147058823529,
            14.142545454545456,
            15.6855,
            14.807368421052633,
            15.629148936170216,
            14.892,
            21.616851851851848,
            25.683617021276604,
            20.95212765957447,
            40.055263157894736,
            39.44594594594594,
            23.687200000000004,
            15.62
           ],
           "yaxis": "y2"
          }
         ],
         "name": "8"
        },
        {
         "data": [
          {
           "alignmentgroup": "True",
           "hovertemplate": "direction=up<br>Local Time (GMT+8)=9<br>floor=%{x}<br>avgWait_weekend=%{y}<extra></extra>",
           "legendgroup": "up",
           "marker": {
            "color": "#636efa"
           },
           "name": "up",
           "offsetgroup": "up",
           "orientation": "v",
           "showlegend": true,
           "textposition": "auto",
           "type": "bar",
           "x": [
            "1",
            "2",
            "3",
            "4",
            "5",
            "6",
            "7",
            "8",
            "9",
            "10",
            "11",
            "12",
            "13",
            "14",
            "B1",
            "B3",
            "B4"
           ],
           "xaxis": "x",
           "y": [
            11.574202898550725,
            7.674186046511627,
            8.802105263157895,
            6.752608695652174,
            12.737222222222224,
            37.30333333333333,
            39.404545454545456,
            40.083636363636366,
            16.216666666666665,
            35.613333333333344,
            52.668888888888894,
            42.1125,
            28.64333333333333,
            122.63,
            16.18919191919192,
            14.5086,
            25.64128571428571
           ],
           "yaxis": "y"
          },
          {
           "alignmentgroup": "True",
           "hovertemplate": "direction=down<br>Local Time (GMT+8)=9<br>floor=%{x}<br>avgWait_weekend=%{y}<extra></extra>",
           "legendgroup": "down",
           "marker": {
            "color": "#EF553B"
           },
           "name": "down",
           "offsetgroup": "down",
           "orientation": "v",
           "showlegend": true,
           "textposition": "auto",
           "type": "bar",
           "x": [
            "1",
            "2",
            "3",
            "4",
            "5",
            "6",
            "7",
            "8",
            "9",
            "10",
            "11",
            "12",
            "13",
            "14",
            "15",
            "B1",
            "B3"
           ],
           "xaxis": "x2",
           "y": [
            17.761875,
            20.375384615384615,
            28.113243243243247,
            36.84310344827586,
            34.98964285714286,
            9.249215686274509,
            13.948157894736841,
            19.12276595744681,
            17.4434693877551,
            15.672727272727276,
            18.143225806451614,
            18.383846153846157,
            28.371470588235287,
            41.96847826086957,
            51.82651162790698,
            18.741111111111113,
            50.74500000000001
           ],
           "yaxis": "y2"
          }
         ],
         "name": "9"
        },
        {
         "data": [
          {
           "alignmentgroup": "True",
           "hovertemplate": "direction=up<br>Local Time (GMT+8)=10<br>floor=%{x}<br>avgWait_weekend=%{y}<extra></extra>",
           "legendgroup": "up",
           "marker": {
            "color": "#636efa"
           },
           "name": "up",
           "offsetgroup": "up",
           "orientation": "v",
           "showlegend": true,
           "textposition": "auto",
           "type": "bar",
           "x": [
            "1",
            "2",
            "3",
            "4",
            "5",
            "6",
            "7",
            "8",
            "9",
            "10",
            "11",
            "12",
            "13",
            "14",
            "B1",
            "B3",
            "B4"
           ],
           "xaxis": "x",
           "y": [
            12.365348837209305,
            10.7940625,
            12.784166666666666,
            15.217948717948715,
            10.3648,
            45.12,
            45.51428571428572,
            49.172,
            26.422222222222228,
            25.296,
            37.636666666666656,
            56.78,
            40.918,
            59.925,
            16.524565217391306,
            12.005882352941176,
            53.56923076923078
           ],
           "yaxis": "y"
          },
          {
           "alignmentgroup": "True",
           "hovertemplate": "direction=down<br>Local Time (GMT+8)=10<br>floor=%{x}<br>avgWait_weekend=%{y}<extra></extra>",
           "legendgroup": "down",
           "marker": {
            "color": "#EF553B"
           },
           "name": "down",
           "offsetgroup": "down",
           "orientation": "v",
           "showlegend": true,
           "textposition": "auto",
           "type": "bar",
           "x": [
            "1",
            "2",
            "3",
            "4",
            "5",
            "6",
            "7",
            "8",
            "9",
            "10",
            "11",
            "12",
            "13",
            "14",
            "15",
            "B1",
            "B3"
           ],
           "xaxis": "x2",
           "y": [
            14.25153846153846,
            15.686666666666666,
            38.46380952380952,
            96.0268181818182,
            47.0258064516129,
            36.47831325301205,
            11.948823529411767,
            9.047317073170733,
            18.31787234042553,
            10.527777777777779,
            14.901818181818184,
            19.207209302325584,
            19.496779661016948,
            48.388000000000005,
            59.35,
            32.332857142857144,
            27.21
           ],
           "yaxis": "y2"
          }
         ],
         "name": "10"
        },
        {
         "data": [
          {
           "alignmentgroup": "True",
           "hovertemplate": "direction=up<br>Local Time (GMT+8)=11<br>floor=%{x}<br>avgWait_weekend=%{y}<extra></extra>",
           "legendgroup": "up",
           "marker": {
            "color": "#636efa"
           },
           "name": "up",
           "offsetgroup": "up",
           "orientation": "v",
           "showlegend": true,
           "textposition": "auto",
           "type": "bar",
           "x": [
            "1",
            "2",
            "3",
            "4",
            "5",
            "6",
            "7",
            "8",
            "9",
            "10",
            "11",
            "12",
            "13",
            "14",
            "B1",
            "B3",
            "B4"
           ],
           "xaxis": "x",
           "y": [
            11.438119658119659,
            9.378163265306123,
            279.19514285714286,
            7.033333333333332,
            9.68888888888889,
            66.6275,
            64.31272727272727,
            1919.576,
            50.16333333333333,
            22.95555555555556,
            0.34,
            19.696666666666673,
            18.566,
            66.59333333333333,
            81.81075342465753,
            12.411153846153846,
            26.567966101694914
           ],
           "yaxis": "y"
          },
          {
           "alignmentgroup": "True",
           "hovertemplate": "direction=down<br>Local Time (GMT+8)=11<br>floor=%{x}<br>avgWait_weekend=%{y}<extra></extra>",
           "legendgroup": "down",
           "marker": {
            "color": "#EF553B"
           },
           "name": "down",
           "offsetgroup": "down",
           "orientation": "v",
           "showlegend": true,
           "textposition": "auto",
           "type": "bar",
           "x": [
            "1",
            "2",
            "3",
            "4",
            "5",
            "6",
            "7",
            "8",
            "9",
            "10",
            "11",
            "12",
            "13",
            "14",
            "15",
            "B1"
           ],
           "xaxis": "x2",
           "y": [
            13.681666666666667,
            25.848275862068967,
            18.26169491525424,
            30.592666666666666,
            20.586470588235297,
            12.944777777777775,
            11.620392156862746,
            9.0084375,
            9.911836734693876,
            274.32222222222225,
            11.561886792452832,
            226.85804347826087,
            188.06892857142861,
            175.7904545454545,
            213.21315789473687,
            19.167272727272728
           ],
           "yaxis": "y2"
          }
         ],
         "name": "11"
        },
        {
         "data": [
          {
           "alignmentgroup": "True",
           "hovertemplate": "direction=up<br>Local Time (GMT+8)=12<br>floor=%{x}<br>avgWait_weekend=%{y}<extra></extra>",
           "legendgroup": "up",
           "marker": {
            "color": "#636efa"
           },
           "name": "up",
           "offsetgroup": "up",
           "orientation": "v",
           "showlegend": true,
           "textposition": "auto",
           "type": "bar",
           "x": [
            "1",
            "2",
            "3",
            "4",
            "5",
            "6",
            "7",
            "8",
            "9",
            "10",
            "11",
            "12",
            "13",
            "14",
            "B1",
            "B3",
            "B4"
           ],
           "xaxis": "x",
           "y": [
            15.122173913043476,
            11.7984375,
            7.616818181818181,
            12.073103448275864,
            16.269411764705882,
            52.5725,
            57.14200000000001,
            103.365,
            94.22,
            41.34375,
            17.07,
            27.01,
            21.5375,
            50.39166666666667,
            16.024558823529414,
            14.554999999999998,
            23.294761904761906
           ],
           "yaxis": "y"
          },
          {
           "alignmentgroup": "True",
           "hovertemplate": "direction=down<br>Local Time (GMT+8)=12<br>floor=%{x}<br>avgWait_weekend=%{y}<extra></extra>",
           "legendgroup": "down",
           "marker": {
            "color": "#EF553B"
           },
           "name": "down",
           "offsetgroup": "down",
           "orientation": "v",
           "showlegend": true,
           "textposition": "auto",
           "type": "bar",
           "x": [
            "1",
            "2",
            "3",
            "4",
            "5",
            "6",
            "7",
            "8",
            "9",
            "10",
            "11",
            "12",
            "13",
            "14",
            "15",
            "B1",
            "B3"
           ],
           "xaxis": "x2",
           "y": [
            15.356046511627905,
            19.744666666666664,
            25.135757575757577,
            28.361428571428572,
            38.41326530612245,
            17.93111111111111,
            12.436486486486485,
            13.19325,
            18.534242424242425,
            17.12857142857143,
            14.241153846153846,
            22.349555555555558,
            24.106511627906976,
            57.979285714285716,
            61.06888888888889,
            14.919565217391305,
            12.89
           ],
           "yaxis": "y2"
          }
         ],
         "name": "12"
        },
        {
         "data": [
          {
           "alignmentgroup": "True",
           "hovertemplate": "direction=up<br>Local Time (GMT+8)=13<br>floor=%{x}<br>avgWait_weekend=%{y}<extra></extra>",
           "legendgroup": "up",
           "marker": {
            "color": "#636efa"
           },
           "name": "up",
           "offsetgroup": "up",
           "orientation": "v",
           "showlegend": true,
           "textposition": "auto",
           "type": "bar",
           "x": [
            "1",
            "2",
            "3",
            "4",
            "5",
            "6",
            "7",
            "8",
            "9",
            "10",
            "12",
            "13",
            "14",
            "B1",
            "B3",
            "B4"
           ],
           "xaxis": "x",
           "y": [
            13.091682242990654,
            8.29025,
            9.395384615384616,
            12.3084375,
            11.823636363636364,
            42.156666666666666,
            50.46571428571429,
            32.96400000000001,
            27.146,
            22.1,
            12.79,
            35.14666666666667,
            20.76,
            17.512631578947367,
            14.582727272727272,
            20.79359375
           ],
           "yaxis": "y"
          },
          {
           "alignmentgroup": "True",
           "hovertemplate": "direction=down<br>Local Time (GMT+8)=13<br>floor=%{x}<br>avgWait_weekend=%{y}<extra></extra>",
           "legendgroup": "down",
           "marker": {
            "color": "#EF553B"
           },
           "name": "down",
           "offsetgroup": "down",
           "orientation": "v",
           "showlegend": true,
           "textposition": "auto",
           "type": "bar",
           "x": [
            "1",
            "2",
            "3",
            "4",
            "5",
            "6",
            "7",
            "8",
            "9",
            "10",
            "11",
            "12",
            "13",
            "14",
            "15",
            "B1",
            "B3"
           ],
           "xaxis": "x2",
           "y": [
            26.875172413793106,
            23.543000000000003,
            34.94166666666666,
            20.786315789473683,
            39.51966666666667,
            14.945102040816323,
            15.413,
            15.134848484848487,
            16.796216216216212,
            12.494615384615386,
            15.573055555555555,
            19.896428571428565,
            23.51268292682927,
            45.27770833333333,
            53.382,
            12.721428571428573,
            40.46833333333333
           ],
           "yaxis": "y2"
          }
         ],
         "name": "13"
        },
        {
         "data": [
          {
           "alignmentgroup": "True",
           "hovertemplate": "direction=up<br>Local Time (GMT+8)=14<br>floor=%{x}<br>avgWait_weekend=%{y}<extra></extra>",
           "legendgroup": "up",
           "marker": {
            "color": "#636efa"
           },
           "name": "up",
           "offsetgroup": "up",
           "orientation": "v",
           "showlegend": true,
           "textposition": "auto",
           "type": "bar",
           "x": [
            "1",
            "2",
            "3",
            "4",
            "5",
            "6",
            "7",
            "8",
            "9",
            "10",
            "11",
            "12",
            "13",
            "14",
            "B1",
            "B3",
            "B4"
           ],
           "xaxis": "x",
           "y": [
            9.164736842105263,
            8.205348837209302,
            7.621935483870969,
            9.683714285714283,
            8.45857142857143,
            50.45333333333333,
            35.870909090909095,
            5.785,
            28.93666666666667,
            8,
            32.33714285714286,
            50.87666666666666,
            13.415,
            79.95750000000002,
            11.67884210526316,
            13.974358974358973,
            30.825573770491804
           ],
           "yaxis": "y"
          },
          {
           "alignmentgroup": "True",
           "hovertemplate": "direction=down<br>Local Time (GMT+8)=14<br>floor=%{x}<br>avgWait_weekend=%{y}<extra></extra>",
           "legendgroup": "down",
           "marker": {
            "color": "#EF553B"
           },
           "name": "down",
           "offsetgroup": "down",
           "orientation": "v",
           "showlegend": true,
           "textposition": "auto",
           "type": "bar",
           "x": [
            "1",
            "2",
            "3",
            "4",
            "5",
            "6",
            "7",
            "8",
            "9",
            "10",
            "11",
            "12",
            "13",
            "14",
            "15",
            "B1",
            "B3"
           ],
           "xaxis": "x2",
           "y": [
            7.974137931034483,
            49.045625,
            53.51757575757576,
            30.05966666666667,
            47.64266666666666,
            16.0098,
            21.3975,
            11.08843137254902,
            12.885121951219512,
            12.373529411764705,
            10.841428571428573,
            23.482352941176465,
            21.109166666666667,
            45.8425,
            47.72717391304347,
            20.480588235294114,
            16.7375
           ],
           "yaxis": "y2"
          }
         ],
         "name": "14"
        },
        {
         "data": [
          {
           "alignmentgroup": "True",
           "hovertemplate": "direction=up<br>Local Time (GMT+8)=15<br>floor=%{x}<br>avgWait_weekend=%{y}<extra></extra>",
           "legendgroup": "up",
           "marker": {
            "color": "#636efa"
           },
           "name": "up",
           "offsetgroup": "up",
           "orientation": "v",
           "showlegend": true,
           "textposition": "auto",
           "type": "bar",
           "x": [
            "1",
            "2",
            "3",
            "4",
            "5",
            "6",
            "7",
            "8",
            "9",
            "10",
            "11",
            "12",
            "13",
            "14",
            "B1",
            "B3",
            "B4"
           ],
           "xaxis": "x",
           "y": [
            14.0507,
            9.713333333333333,
            10.012285714285717,
            11.578510638297873,
            8.3012,
            63.65321428571429,
            53.28842105263158,
            28.93166666666667,
            16,
            62.941111111111105,
            8.355,
            27.35333333333333,
            21.616666666666664,
            34.076,
            15.867951807228913,
            13.031199999999998,
            28.439038461538463
           ],
           "yaxis": "y"
          },
          {
           "alignmentgroup": "True",
           "hovertemplate": "direction=down<br>Local Time (GMT+8)=15<br>floor=%{x}<br>avgWait_weekend=%{y}<extra></extra>",
           "legendgroup": "down",
           "marker": {
            "color": "#EF553B"
           },
           "name": "down",
           "offsetgroup": "down",
           "orientation": "v",
           "showlegend": true,
           "textposition": "auto",
           "type": "bar",
           "x": [
            "1",
            "2",
            "3",
            "4",
            "5",
            "6",
            "7",
            "8",
            "9",
            "10",
            "11",
            "12",
            "13",
            "14",
            "15",
            "B1",
            "B3"
           ],
           "xaxis": "x2",
           "y": [
            20.536944444444444,
            16.391363636363636,
            32.446999999999996,
            26.250384615384608,
            49.16208333333333,
            14.404285714285713,
            10.297,
            13.5058,
            10.873684210526315,
            10.490588235294117,
            19.090526315789475,
            22.365,
            35.75058823529412,
            47.8842,
            78.422,
            13.832142857142856,
            23.8075
           ],
           "yaxis": "y2"
          }
         ],
         "name": "15"
        },
        {
         "data": [
          {
           "alignmentgroup": "True",
           "hovertemplate": "direction=up<br>Local Time (GMT+8)=16<br>floor=%{x}<br>avgWait_weekend=%{y}<extra></extra>",
           "legendgroup": "up",
           "marker": {
            "color": "#636efa"
           },
           "name": "up",
           "offsetgroup": "up",
           "orientation": "v",
           "showlegend": true,
           "textposition": "auto",
           "type": "bar",
           "x": [
            "1",
            "2",
            "3",
            "4",
            "5",
            "6",
            "7",
            "8",
            "9",
            "10",
            "11",
            "12",
            "13",
            "14",
            "B1",
            "B3",
            "B4"
           ],
           "xaxis": "x",
           "y": [
            14.862407407407408,
            11.037826086956523,
            11.239024390243902,
            13.927234042553193,
            10.917931034482761,
            56.369285714285716,
            40.97166666666666,
            29.8775,
            137.52,
            67.7,
            197.02,
            33.61,
            32.94,
            51.12,
            14.690380952380952,
            12.567741935483873,
            22.418750000000006
           ],
           "yaxis": "y"
          },
          {
           "alignmentgroup": "True",
           "hovertemplate": "direction=down<br>Local Time (GMT+8)=16<br>floor=%{x}<br>avgWait_weekend=%{y}<extra></extra>",
           "legendgroup": "down",
           "marker": {
            "color": "#EF553B"
           },
           "name": "down",
           "offsetgroup": "down",
           "orientation": "v",
           "showlegend": true,
           "textposition": "auto",
           "type": "bar",
           "x": [
            "1",
            "2",
            "3",
            "4",
            "5",
            "6",
            "7",
            "8",
            "9",
            "10",
            "11",
            "12",
            "13",
            "14",
            "15",
            "B1",
            "B3"
           ],
           "xaxis": "x2",
           "y": [
            16.18885714285714,
            20.52842105263158,
            27.73333333333333,
            34.06076923076923,
            36.66914285714286,
            14.61283582089552,
            11.298039215686275,
            14.142758620689655,
            14.011818181818182,
            15.909523809523812,
            17.94170731707317,
            18.3,
            29.0286,
            43.26137931034482,
            63.62877192982456,
            25.404736842105258,
            17.25
           ],
           "yaxis": "y2"
          }
         ],
         "name": "16"
        },
        {
         "data": [
          {
           "alignmentgroup": "True",
           "hovertemplate": "direction=up<br>Local Time (GMT+8)=17<br>floor=%{x}<br>avgWait_weekend=%{y}<extra></extra>",
           "legendgroup": "up",
           "marker": {
            "color": "#636efa"
           },
           "name": "up",
           "offsetgroup": "up",
           "orientation": "v",
           "showlegend": true,
           "textposition": "auto",
           "type": "bar",
           "x": [
            "1",
            "2",
            "3",
            "4",
            "5",
            "6",
            "7",
            "8",
            "9",
            "10",
            "11",
            "12",
            "13",
            "14",
            "B1",
            "B3",
            "B4"
           ],
           "xaxis": "x",
           "y": [
            14.5425,
            13.650588235294116,
            11.345,
            10.324634146341463,
            13.734285714285715,
            29.93285714285714,
            24.48875,
            32.306666666666665,
            54.945,
            20.005,
            34.722,
            39.73,
            99.165,
            22.27,
            16.777076923076926,
            19.1012,
            21.672666666666668
           ],
           "yaxis": "y"
          },
          {
           "alignmentgroup": "True",
           "hovertemplate": "direction=down<br>Local Time (GMT+8)=17<br>floor=%{x}<br>avgWait_weekend=%{y}<extra></extra>",
           "legendgroup": "down",
           "marker": {
            "color": "#EF553B"
           },
           "name": "down",
           "offsetgroup": "down",
           "orientation": "v",
           "showlegend": true,
           "textposition": "auto",
           "type": "bar",
           "x": [
            "1",
            "2",
            "3",
            "4",
            "5",
            "6",
            "7",
            "8",
            "9",
            "10",
            "11",
            "12",
            "13",
            "14",
            "15",
            "B1",
            "B3"
           ],
           "xaxis": "x2",
           "y": [
            24.63447368421053,
            31.306666666666665,
            25.21588235294118,
            32.493125,
            33.105999999999995,
            12.6192,
            12.837428571428571,
            10.55377358490566,
            17.287321428571428,
            7.989999999999998,
            16.303620689655173,
            15.954285714285716,
            22.66444444444444,
            41.8475,
            52.19745098039216,
            17.685,
            19.534000000000002
           ],
           "yaxis": "y2"
          }
         ],
         "name": "17"
        },
        {
         "data": [
          {
           "alignmentgroup": "True",
           "hovertemplate": "direction=up<br>Local Time (GMT+8)=18<br>floor=%{x}<br>avgWait_weekend=%{y}<extra></extra>",
           "legendgroup": "up",
           "marker": {
            "color": "#636efa"
           },
           "name": "up",
           "offsetgroup": "up",
           "orientation": "v",
           "showlegend": true,
           "textposition": "auto",
           "type": "bar",
           "x": [
            "1",
            "2",
            "3",
            "4",
            "5",
            "6",
            "7",
            "8",
            "9",
            "10",
            "11",
            "12",
            "13",
            "14",
            "B1",
            "B3",
            "B4"
           ],
           "xaxis": "x",
           "y": [
            12.512758620689654,
            11.80409090909091,
            15.145999999999995,
            12.586363636363634,
            14.4112,
            42.83142857142857,
            28.59,
            49.614,
            27.9025,
            19.61571428571429,
            40.355,
            42.785,
            16.6575,
            38.185,
            17.508492063492064,
            16.658333333333335,
            20.152222222222218
           ],
           "yaxis": "y"
          },
          {
           "alignmentgroup": "True",
           "hovertemplate": "direction=down<br>Local Time (GMT+8)=18<br>floor=%{x}<br>avgWait_weekend=%{y}<extra></extra>",
           "legendgroup": "down",
           "marker": {
            "color": "#EF553B"
           },
           "name": "down",
           "offsetgroup": "down",
           "orientation": "v",
           "showlegend": true,
           "textposition": "auto",
           "type": "bar",
           "x": [
            "1",
            "2",
            "3",
            "4",
            "5",
            "6",
            "7",
            "8",
            "9",
            "10",
            "11",
            "12",
            "13",
            "14",
            "15",
            "B1"
           ],
           "xaxis": "x2",
           "y": [
            24.48409090909091,
            14.724285714285712,
            32.24944444444444,
            32.35894736842105,
            24.89058823529412,
            15.514237288135593,
            13.50732142857143,
            15.342400000000005,
            17.441904761904762,
            12.946666666666667,
            15.149736842105265,
            16.041730769230767,
            19.916410256410252,
            31.700344827586203,
            42.013055555555546,
            18.28125
           ],
           "yaxis": "y2"
          }
         ],
         "name": "18"
        },
        {
         "data": [
          {
           "alignmentgroup": "True",
           "hovertemplate": "direction=up<br>Local Time (GMT+8)=19<br>floor=%{x}<br>avgWait_weekend=%{y}<extra></extra>",
           "legendgroup": "up",
           "marker": {
            "color": "#636efa"
           },
           "name": "up",
           "offsetgroup": "up",
           "orientation": "v",
           "showlegend": true,
           "textposition": "auto",
           "type": "bar",
           "x": [
            "1",
            "2",
            "3",
            "4",
            "5",
            "6",
            "7",
            "8",
            "9",
            "10",
            "12",
            "13",
            "B1",
            "B3",
            "B4"
           ],
           "xaxis": "x",
           "y": [
            10.702075471698114,
            14.28181818181818,
            12.85888888888889,
            17.397058823529413,
            21.70333333333333,
            18.42875,
            23.65571428571429,
            1.46,
            22.185714285714287,
            12.795,
            43.06,
            28.72,
            11.1901,
            12.363333333333333,
            10.129375
           ],
           "yaxis": "y"
          },
          {
           "alignmentgroup": "True",
           "hovertemplate": "direction=down<br>Local Time (GMT+8)=19<br>floor=%{x}<br>avgWait_weekend=%{y}<extra></extra>",
           "legendgroup": "down",
           "marker": {
            "color": "#EF553B"
           },
           "name": "down",
           "offsetgroup": "down",
           "orientation": "v",
           "showlegend": true,
           "textposition": "auto",
           "type": "bar",
           "x": [
            "1",
            "2",
            "3",
            "4",
            "5",
            "6",
            "7",
            "8",
            "9",
            "10",
            "11",
            "12",
            "13",
            "14",
            "15",
            "B1"
           ],
           "xaxis": "x2",
           "y": [
            15.353809523809526,
            15.98,
            17.557142857142857,
            13.195714285714288,
            21.0156,
            11.966176470588234,
            17.07227272727273,
            12.9225,
            15.282,
            29.0725,
            21.387222222222217,
            19.529259259259263,
            20.085476190476196,
            29.426,
            25.04777777777777,
            13.68
           ],
           "yaxis": "y2"
          }
         ],
         "name": "19"
        },
        {
         "data": [
          {
           "alignmentgroup": "True",
           "hovertemplate": "direction=up<br>Local Time (GMT+8)=20<br>floor=%{x}<br>avgWait_weekend=%{y}<extra></extra>",
           "legendgroup": "up",
           "marker": {
            "color": "#636efa"
           },
           "name": "up",
           "offsetgroup": "up",
           "orientation": "v",
           "showlegend": true,
           "textposition": "auto",
           "type": "bar",
           "x": [
            "1",
            "2",
            "3",
            "4",
            "5",
            "6",
            "7",
            "8",
            "13",
            "14",
            "B1",
            "B3",
            "B4"
           ],
           "xaxis": "x",
           "y": [
            13.347073170731706,
            8.955,
            9.3625,
            19.877692307692307,
            12.87142857142857,
            22.858,
            9.3,
            9.68,
            17.97,
            1.54,
            11.717457627118645,
            12.779166666666667,
            8.113888888888889
           ],
           "yaxis": "y"
          },
          {
           "alignmentgroup": "True",
           "hovertemplate": "direction=down<br>Local Time (GMT+8)=20<br>floor=%{x}<br>avgWait_weekend=%{y}<extra></extra>",
           "legendgroup": "down",
           "marker": {
            "color": "#EF553B"
           },
           "name": "down",
           "offsetgroup": "down",
           "orientation": "v",
           "showlegend": true,
           "textposition": "auto",
           "type": "bar",
           "x": [
            "1",
            "3",
            "4",
            "5",
            "6",
            "7",
            "8",
            "9",
            "10",
            "11",
            "12",
            "13",
            "14",
            "15",
            "B1"
           ],
           "xaxis": "x2",
           "y": [
            8.338888888888889,
            22.795,
            25.612352941176468,
            15.175000000000002,
            12.08793103448276,
            14.719333333333333,
            13.61714285714286,
            16.359285714285715,
            8.5275,
            16.756,
            21.249230769230767,
            18.38421052631579,
            16.387692307692312,
            21.963529411764707,
            8.278571428571428
           ],
           "yaxis": "y2"
          }
         ],
         "name": "20"
        },
        {
         "data": [
          {
           "alignmentgroup": "True",
           "hovertemplate": "direction=up<br>Local Time (GMT+8)=21<br>floor=%{x}<br>avgWait_weekend=%{y}<extra></extra>",
           "legendgroup": "up",
           "marker": {
            "color": "#636efa"
           },
           "name": "up",
           "offsetgroup": "up",
           "orientation": "v",
           "showlegend": true,
           "textposition": "auto",
           "type": "bar",
           "x": [
            "1",
            "2",
            "3",
            "4",
            "5",
            "6",
            "7",
            "9",
            "10",
            "14",
            "B1",
            "B3",
            "B4"
           ],
           "xaxis": "x",
           "y": [
            11.841818181818182,
            8.2,
            17.405,
            15.8975,
            18.481111111111108,
            11.36,
            5.755,
            8.03,
            12.333333333333336,
            20.08,
            10.52981818181818,
            6.1000000000000005,
            5.284
           ],
           "yaxis": "y"
          },
          {
           "alignmentgroup": "True",
           "hovertemplate": "direction=down<br>Local Time (GMT+8)=21<br>floor=%{x}<br>avgWait_weekend=%{y}<extra></extra>",
           "legendgroup": "down",
           "marker": {
            "color": "#EF553B"
           },
           "name": "down",
           "offsetgroup": "down",
           "orientation": "v",
           "showlegend": true,
           "textposition": "auto",
           "type": "bar",
           "x": [
            "1",
            "2",
            "3",
            "4",
            "5",
            "6",
            "7",
            "8",
            "9",
            "10",
            "11",
            "12",
            "13",
            "14",
            "15",
            "B1"
           ],
           "xaxis": "x2",
           "y": [
            9.001666666666667,
            13.565,
            11.331666666666667,
            13.285454545454545,
            18.867333333333328,
            13.724166666666667,
            11.295,
            11.867692307692305,
            17.280833333333334,
            14.512,
            20.64928571428572,
            23.430000000000003,
            14.490666666666668,
            22.30909090909091,
            38.34875,
            15.68
           ],
           "yaxis": "y2"
          }
         ],
         "name": "21"
        },
        {
         "data": [
          {
           "alignmentgroup": "True",
           "hovertemplate": "direction=up<br>Local Time (GMT+8)=22<br>floor=%{x}<br>avgWait_weekend=%{y}<extra></extra>",
           "legendgroup": "up",
           "marker": {
            "color": "#636efa"
           },
           "name": "up",
           "offsetgroup": "up",
           "orientation": "v",
           "showlegend": true,
           "textposition": "auto",
           "type": "bar",
           "x": [
            "1",
            "2",
            "3",
            "4",
            "5",
            "6",
            "7",
            "8",
            "B1",
            "B3",
            "B4"
           ],
           "xaxis": "x",
           "y": [
            9.648979591836737,
            9.57,
            20.455,
            8.82,
            23.455,
            11.568,
            15.79,
            1.61,
            12.271875,
            7.915,
            9.15
           ],
           "yaxis": "y"
          },
          {
           "alignmentgroup": "True",
           "hovertemplate": "direction=down<br>Local Time (GMT+8)=22<br>floor=%{x}<br>avgWait_weekend=%{y}<extra></extra>",
           "legendgroup": "down",
           "marker": {
            "color": "#EF553B"
           },
           "name": "down",
           "offsetgroup": "down",
           "orientation": "v",
           "showlegend": true,
           "textposition": "auto",
           "type": "bar",
           "x": [
            "1",
            "3",
            "4",
            "5",
            "6",
            "7",
            "8",
            "9",
            "10",
            "11",
            "12",
            "13",
            "14",
            "15",
            "B1"
           ],
           "xaxis": "x2",
           "y": [
            5.687777777777778,
            13.288333333333332,
            9.95,
            13.448333333333332,
            12.117727272727272,
            13.473333333333334,
            18.582222222222224,
            16.791428571428572,
            11.18421052631579,
            14.404285714285715,
            9.86125,
            19.58,
            24.316666666666666,
            23.35,
            22.596
           ],
           "yaxis": "y2"
          }
         ],
         "name": "22"
        },
        {
         "data": [
          {
           "alignmentgroup": "True",
           "hovertemplate": "direction=up<br>Local Time (GMT+8)=23<br>floor=%{x}<br>avgWait_weekend=%{y}<extra></extra>",
           "legendgroup": "up",
           "marker": {
            "color": "#636efa"
           },
           "name": "up",
           "offsetgroup": "up",
           "orientation": "v",
           "showlegend": true,
           "textposition": "auto",
           "type": "bar",
           "x": [
            "1",
            "2",
            "3",
            "4",
            "5",
            "6",
            "14",
            "B1",
            "B4"
           ],
           "xaxis": "x",
           "y": [
            6.954705882352941,
            8.01,
            14.515,
            20.1,
            12.626666666666667,
            12.962307692307695,
            7.84,
            10.417857142857144,
            14.086153846153849
           ],
           "yaxis": "y"
          },
          {
           "alignmentgroup": "True",
           "hovertemplate": "direction=down<br>Local Time (GMT+8)=23<br>floor=%{x}<br>avgWait_weekend=%{y}<extra></extra>",
           "legendgroup": "down",
           "marker": {
            "color": "#EF553B"
           },
           "name": "down",
           "offsetgroup": "down",
           "orientation": "v",
           "showlegend": true,
           "textposition": "auto",
           "type": "bar",
           "x": [
            "1",
            "4",
            "5",
            "6",
            "7",
            "8",
            "9",
            "10",
            "11",
            "12",
            "13",
            "14",
            "15",
            "B1"
           ],
           "xaxis": "x2",
           "y": [
            13.0575,
            11.862222222222224,
            18.31,
            13.21,
            17.225,
            12.345,
            2.82,
            17.535714285714285,
            12.466666666666667,
            7.885,
            12.048,
            10.69,
            22.78,
            12.823333333333332
           ],
           "yaxis": "y2"
          }
         ],
         "name": "23"
        },
        {
         "data": [
          {
           "alignmentgroup": "True",
           "hovertemplate": "direction=up<br>Local Time (GMT+8)=4<br>floor=%{x}<br>avgWait_weekend=%{y}<extra></extra>",
           "legendgroup": "up",
           "marker": {
            "color": "#636efa"
           },
           "name": "up",
           "offsetgroup": "up",
           "orientation": "v",
           "showlegend": true,
           "textposition": "auto",
           "type": "bar",
           "x": [
            "4",
            "5",
            "7",
            "B1",
            "B3",
            "B4"
           ],
           "xaxis": "x",
           "y": [
            0.97,
            13.633333333333335,
            15.125,
            12.96,
            10.9025,
            1.26
           ],
           "yaxis": "y"
          },
          {
           "alignmentgroup": "True",
           "hovertemplate": "direction=down<br>Local Time (GMT+8)=4<br>floor=%{x}<br>avgWait_weekend=%{y}<extra></extra>",
           "legendgroup": "down",
           "marker": {
            "color": "#EF553B"
           },
           "name": "down",
           "offsetgroup": "down",
           "orientation": "v",
           "showlegend": true,
           "textposition": "auto",
           "type": "bar",
           "x": [
            "3",
            "5",
            "7",
            "15"
           ],
           "xaxis": "x2",
           "y": [
            16.65,
            16.52,
            21.585,
            1.39
           ],
           "yaxis": "y2"
          }
         ],
         "name": "4"
        }
       ],
       "layout": {
        "annotations": [
         {
          "font": {},
          "showarrow": false,
          "text": "direction=up",
          "x": 0.245,
          "xanchor": "center",
          "xref": "paper",
          "y": 1,
          "yanchor": "bottom",
          "yref": "paper"
         },
         {
          "font": {},
          "showarrow": false,
          "text": "direction=down",
          "x": 0.755,
          "xanchor": "center",
          "xref": "paper",
          "y": 1,
          "yanchor": "bottom",
          "yref": "paper"
         }
        ],
        "barmode": "relative",
        "legend": {
         "title": {
          "text": "direction"
         },
         "tracegroupgap": 0
        },
        "margin": {
         "t": 60
        },
        "sliders": [
         {
          "active": 0,
          "currentvalue": {
           "prefix": "Local Time (GMT+8)="
          },
          "len": 0.9,
          "pad": {
           "b": 10,
           "t": 60
          },
          "steps": [
           {
            "args": [
             [
              "0"
             ],
             {
              "frame": {
               "duration": 0,
               "redraw": true
              },
              "fromcurrent": true,
              "mode": "immediate",
              "transition": {
               "duration": 0,
               "easing": "linear"
              }
             }
            ],
            "label": "0",
            "method": "animate"
           },
           {
            "args": [
             [
              "1"
             ],
             {
              "frame": {
               "duration": 0,
               "redraw": true
              },
              "fromcurrent": true,
              "mode": "immediate",
              "transition": {
               "duration": 0,
               "easing": "linear"
              }
             }
            ],
            "label": "1",
            "method": "animate"
           },
           {
            "args": [
             [
              "2"
             ],
             {
              "frame": {
               "duration": 0,
               "redraw": true
              },
              "fromcurrent": true,
              "mode": "immediate",
              "transition": {
               "duration": 0,
               "easing": "linear"
              }
             }
            ],
            "label": "2",
            "method": "animate"
           },
           {
            "args": [
             [
              "3"
             ],
             {
              "frame": {
               "duration": 0,
               "redraw": true
              },
              "fromcurrent": true,
              "mode": "immediate",
              "transition": {
               "duration": 0,
               "easing": "linear"
              }
             }
            ],
            "label": "3",
            "method": "animate"
           },
           {
            "args": [
             [
              "5"
             ],
             {
              "frame": {
               "duration": 0,
               "redraw": true
              },
              "fromcurrent": true,
              "mode": "immediate",
              "transition": {
               "duration": 0,
               "easing": "linear"
              }
             }
            ],
            "label": "5",
            "method": "animate"
           },
           {
            "args": [
             [
              "6"
             ],
             {
              "frame": {
               "duration": 0,
               "redraw": true
              },
              "fromcurrent": true,
              "mode": "immediate",
              "transition": {
               "duration": 0,
               "easing": "linear"
              }
             }
            ],
            "label": "6",
            "method": "animate"
           },
           {
            "args": [
             [
              "7"
             ],
             {
              "frame": {
               "duration": 0,
               "redraw": true
              },
              "fromcurrent": true,
              "mode": "immediate",
              "transition": {
               "duration": 0,
               "easing": "linear"
              }
             }
            ],
            "label": "7",
            "method": "animate"
           },
           {
            "args": [
             [
              "8"
             ],
             {
              "frame": {
               "duration": 0,
               "redraw": true
              },
              "fromcurrent": true,
              "mode": "immediate",
              "transition": {
               "duration": 0,
               "easing": "linear"
              }
             }
            ],
            "label": "8",
            "method": "animate"
           },
           {
            "args": [
             [
              "9"
             ],
             {
              "frame": {
               "duration": 0,
               "redraw": true
              },
              "fromcurrent": true,
              "mode": "immediate",
              "transition": {
               "duration": 0,
               "easing": "linear"
              }
             }
            ],
            "label": "9",
            "method": "animate"
           },
           {
            "args": [
             [
              "10"
             ],
             {
              "frame": {
               "duration": 0,
               "redraw": true
              },
              "fromcurrent": true,
              "mode": "immediate",
              "transition": {
               "duration": 0,
               "easing": "linear"
              }
             }
            ],
            "label": "10",
            "method": "animate"
           },
           {
            "args": [
             [
              "11"
             ],
             {
              "frame": {
               "duration": 0,
               "redraw": true
              },
              "fromcurrent": true,
              "mode": "immediate",
              "transition": {
               "duration": 0,
               "easing": "linear"
              }
             }
            ],
            "label": "11",
            "method": "animate"
           },
           {
            "args": [
             [
              "12"
             ],
             {
              "frame": {
               "duration": 0,
               "redraw": true
              },
              "fromcurrent": true,
              "mode": "immediate",
              "transition": {
               "duration": 0,
               "easing": "linear"
              }
             }
            ],
            "label": "12",
            "method": "animate"
           },
           {
            "args": [
             [
              "13"
             ],
             {
              "frame": {
               "duration": 0,
               "redraw": true
              },
              "fromcurrent": true,
              "mode": "immediate",
              "transition": {
               "duration": 0,
               "easing": "linear"
              }
             }
            ],
            "label": "13",
            "method": "animate"
           },
           {
            "args": [
             [
              "14"
             ],
             {
              "frame": {
               "duration": 0,
               "redraw": true
              },
              "fromcurrent": true,
              "mode": "immediate",
              "transition": {
               "duration": 0,
               "easing": "linear"
              }
             }
            ],
            "label": "14",
            "method": "animate"
           },
           {
            "args": [
             [
              "15"
             ],
             {
              "frame": {
               "duration": 0,
               "redraw": true
              },
              "fromcurrent": true,
              "mode": "immediate",
              "transition": {
               "duration": 0,
               "easing": "linear"
              }
             }
            ],
            "label": "15",
            "method": "animate"
           },
           {
            "args": [
             [
              "16"
             ],
             {
              "frame": {
               "duration": 0,
               "redraw": true
              },
              "fromcurrent": true,
              "mode": "immediate",
              "transition": {
               "duration": 0,
               "easing": "linear"
              }
             }
            ],
            "label": "16",
            "method": "animate"
           },
           {
            "args": [
             [
              "17"
             ],
             {
              "frame": {
               "duration": 0,
               "redraw": true
              },
              "fromcurrent": true,
              "mode": "immediate",
              "transition": {
               "duration": 0,
               "easing": "linear"
              }
             }
            ],
            "label": "17",
            "method": "animate"
           },
           {
            "args": [
             [
              "18"
             ],
             {
              "frame": {
               "duration": 0,
               "redraw": true
              },
              "fromcurrent": true,
              "mode": "immediate",
              "transition": {
               "duration": 0,
               "easing": "linear"
              }
             }
            ],
            "label": "18",
            "method": "animate"
           },
           {
            "args": [
             [
              "19"
             ],
             {
              "frame": {
               "duration": 0,
               "redraw": true
              },
              "fromcurrent": true,
              "mode": "immediate",
              "transition": {
               "duration": 0,
               "easing": "linear"
              }
             }
            ],
            "label": "19",
            "method": "animate"
           },
           {
            "args": [
             [
              "20"
             ],
             {
              "frame": {
               "duration": 0,
               "redraw": true
              },
              "fromcurrent": true,
              "mode": "immediate",
              "transition": {
               "duration": 0,
               "easing": "linear"
              }
             }
            ],
            "label": "20",
            "method": "animate"
           },
           {
            "args": [
             [
              "21"
             ],
             {
              "frame": {
               "duration": 0,
               "redraw": true
              },
              "fromcurrent": true,
              "mode": "immediate",
              "transition": {
               "duration": 0,
               "easing": "linear"
              }
             }
            ],
            "label": "21",
            "method": "animate"
           },
           {
            "args": [
             [
              "22"
             ],
             {
              "frame": {
               "duration": 0,
               "redraw": true
              },
              "fromcurrent": true,
              "mode": "immediate",
              "transition": {
               "duration": 0,
               "easing": "linear"
              }
             }
            ],
            "label": "22",
            "method": "animate"
           },
           {
            "args": [
             [
              "23"
             ],
             {
              "frame": {
               "duration": 0,
               "redraw": true
              },
              "fromcurrent": true,
              "mode": "immediate",
              "transition": {
               "duration": 0,
               "easing": "linear"
              }
             }
            ],
            "label": "23",
            "method": "animate"
           },
           {
            "args": [
             [
              "4"
             ],
             {
              "frame": {
               "duration": 0,
               "redraw": true
              },
              "fromcurrent": true,
              "mode": "immediate",
              "transition": {
               "duration": 0,
               "easing": "linear"
              }
             }
            ],
            "label": "4",
            "method": "animate"
           }
          ],
          "x": 0.1,
          "xanchor": "left",
          "y": 0,
          "yanchor": "top"
         }
        ],
        "template": {
         "data": {
          "bar": [
           {
            "error_x": {
             "color": "#2a3f5f"
            },
            "error_y": {
             "color": "#2a3f5f"
            },
            "marker": {
             "line": {
              "color": "#E5ECF6",
              "width": 0.5
             }
            },
            "type": "bar"
           }
          ],
          "barpolar": [
           {
            "marker": {
             "line": {
              "color": "#E5ECF6",
              "width": 0.5
             }
            },
            "type": "barpolar"
           }
          ],
          "carpet": [
           {
            "aaxis": {
             "endlinecolor": "#2a3f5f",
             "gridcolor": "white",
             "linecolor": "white",
             "minorgridcolor": "white",
             "startlinecolor": "#2a3f5f"
            },
            "baxis": {
             "endlinecolor": "#2a3f5f",
             "gridcolor": "white",
             "linecolor": "white",
             "minorgridcolor": "white",
             "startlinecolor": "#2a3f5f"
            },
            "type": "carpet"
           }
          ],
          "choropleth": [
           {
            "colorbar": {
             "outlinewidth": 0,
             "ticks": ""
            },
            "type": "choropleth"
           }
          ],
          "contour": [
           {
            "colorbar": {
             "outlinewidth": 0,
             "ticks": ""
            },
            "colorscale": [
             [
              0,
              "#0d0887"
             ],
             [
              0.1111111111111111,
              "#46039f"
             ],
             [
              0.2222222222222222,
              "#7201a8"
             ],
             [
              0.3333333333333333,
              "#9c179e"
             ],
             [
              0.4444444444444444,
              "#bd3786"
             ],
             [
              0.5555555555555556,
              "#d8576b"
             ],
             [
              0.6666666666666666,
              "#ed7953"
             ],
             [
              0.7777777777777778,
              "#fb9f3a"
             ],
             [
              0.8888888888888888,
              "#fdca26"
             ],
             [
              1,
              "#f0f921"
             ]
            ],
            "type": "contour"
           }
          ],
          "contourcarpet": [
           {
            "colorbar": {
             "outlinewidth": 0,
             "ticks": ""
            },
            "type": "contourcarpet"
           }
          ],
          "heatmap": [
           {
            "colorbar": {
             "outlinewidth": 0,
             "ticks": ""
            },
            "colorscale": [
             [
              0,
              "#0d0887"
             ],
             [
              0.1111111111111111,
              "#46039f"
             ],
             [
              0.2222222222222222,
              "#7201a8"
             ],
             [
              0.3333333333333333,
              "#9c179e"
             ],
             [
              0.4444444444444444,
              "#bd3786"
             ],
             [
              0.5555555555555556,
              "#d8576b"
             ],
             [
              0.6666666666666666,
              "#ed7953"
             ],
             [
              0.7777777777777778,
              "#fb9f3a"
             ],
             [
              0.8888888888888888,
              "#fdca26"
             ],
             [
              1,
              "#f0f921"
             ]
            ],
            "type": "heatmap"
           }
          ],
          "heatmapgl": [
           {
            "colorbar": {
             "outlinewidth": 0,
             "ticks": ""
            },
            "colorscale": [
             [
              0,
              "#0d0887"
             ],
             [
              0.1111111111111111,
              "#46039f"
             ],
             [
              0.2222222222222222,
              "#7201a8"
             ],
             [
              0.3333333333333333,
              "#9c179e"
             ],
             [
              0.4444444444444444,
              "#bd3786"
             ],
             [
              0.5555555555555556,
              "#d8576b"
             ],
             [
              0.6666666666666666,
              "#ed7953"
             ],
             [
              0.7777777777777778,
              "#fb9f3a"
             ],
             [
              0.8888888888888888,
              "#fdca26"
             ],
             [
              1,
              "#f0f921"
             ]
            ],
            "type": "heatmapgl"
           }
          ],
          "histogram": [
           {
            "marker": {
             "colorbar": {
              "outlinewidth": 0,
              "ticks": ""
             }
            },
            "type": "histogram"
           }
          ],
          "histogram2d": [
           {
            "colorbar": {
             "outlinewidth": 0,
             "ticks": ""
            },
            "colorscale": [
             [
              0,
              "#0d0887"
             ],
             [
              0.1111111111111111,
              "#46039f"
             ],
             [
              0.2222222222222222,
              "#7201a8"
             ],
             [
              0.3333333333333333,
              "#9c179e"
             ],
             [
              0.4444444444444444,
              "#bd3786"
             ],
             [
              0.5555555555555556,
              "#d8576b"
             ],
             [
              0.6666666666666666,
              "#ed7953"
             ],
             [
              0.7777777777777778,
              "#fb9f3a"
             ],
             [
              0.8888888888888888,
              "#fdca26"
             ],
             [
              1,
              "#f0f921"
             ]
            ],
            "type": "histogram2d"
           }
          ],
          "histogram2dcontour": [
           {
            "colorbar": {
             "outlinewidth": 0,
             "ticks": ""
            },
            "colorscale": [
             [
              0,
              "#0d0887"
             ],
             [
              0.1111111111111111,
              "#46039f"
             ],
             [
              0.2222222222222222,
              "#7201a8"
             ],
             [
              0.3333333333333333,
              "#9c179e"
             ],
             [
              0.4444444444444444,
              "#bd3786"
             ],
             [
              0.5555555555555556,
              "#d8576b"
             ],
             [
              0.6666666666666666,
              "#ed7953"
             ],
             [
              0.7777777777777778,
              "#fb9f3a"
             ],
             [
              0.8888888888888888,
              "#fdca26"
             ],
             [
              1,
              "#f0f921"
             ]
            ],
            "type": "histogram2dcontour"
           }
          ],
          "mesh3d": [
           {
            "colorbar": {
             "outlinewidth": 0,
             "ticks": ""
            },
            "type": "mesh3d"
           }
          ],
          "parcoords": [
           {
            "line": {
             "colorbar": {
              "outlinewidth": 0,
              "ticks": ""
             }
            },
            "type": "parcoords"
           }
          ],
          "pie": [
           {
            "automargin": true,
            "type": "pie"
           }
          ],
          "scatter": [
           {
            "marker": {
             "colorbar": {
              "outlinewidth": 0,
              "ticks": ""
             }
            },
            "type": "scatter"
           }
          ],
          "scatter3d": [
           {
            "line": {
             "colorbar": {
              "outlinewidth": 0,
              "ticks": ""
             }
            },
            "marker": {
             "colorbar": {
              "outlinewidth": 0,
              "ticks": ""
             }
            },
            "type": "scatter3d"
           }
          ],
          "scattercarpet": [
           {
            "marker": {
             "colorbar": {
              "outlinewidth": 0,
              "ticks": ""
             }
            },
            "type": "scattercarpet"
           }
          ],
          "scattergeo": [
           {
            "marker": {
             "colorbar": {
              "outlinewidth": 0,
              "ticks": ""
             }
            },
            "type": "scattergeo"
           }
          ],
          "scattergl": [
           {
            "marker": {
             "colorbar": {
              "outlinewidth": 0,
              "ticks": ""
             }
            },
            "type": "scattergl"
           }
          ],
          "scattermapbox": [
           {
            "marker": {
             "colorbar": {
              "outlinewidth": 0,
              "ticks": ""
             }
            },
            "type": "scattermapbox"
           }
          ],
          "scatterpolar": [
           {
            "marker": {
             "colorbar": {
              "outlinewidth": 0,
              "ticks": ""
             }
            },
            "type": "scatterpolar"
           }
          ],
          "scatterpolargl": [
           {
            "marker": {
             "colorbar": {
              "outlinewidth": 0,
              "ticks": ""
             }
            },
            "type": "scatterpolargl"
           }
          ],
          "scatterternary": [
           {
            "marker": {
             "colorbar": {
              "outlinewidth": 0,
              "ticks": ""
             }
            },
            "type": "scatterternary"
           }
          ],
          "surface": [
           {
            "colorbar": {
             "outlinewidth": 0,
             "ticks": ""
            },
            "colorscale": [
             [
              0,
              "#0d0887"
             ],
             [
              0.1111111111111111,
              "#46039f"
             ],
             [
              0.2222222222222222,
              "#7201a8"
             ],
             [
              0.3333333333333333,
              "#9c179e"
             ],
             [
              0.4444444444444444,
              "#bd3786"
             ],
             [
              0.5555555555555556,
              "#d8576b"
             ],
             [
              0.6666666666666666,
              "#ed7953"
             ],
             [
              0.7777777777777778,
              "#fb9f3a"
             ],
             [
              0.8888888888888888,
              "#fdca26"
             ],
             [
              1,
              "#f0f921"
             ]
            ],
            "type": "surface"
           }
          ],
          "table": [
           {
            "cells": {
             "fill": {
              "color": "#EBF0F8"
             },
             "line": {
              "color": "white"
             }
            },
            "header": {
             "fill": {
              "color": "#C8D4E3"
             },
             "line": {
              "color": "white"
             }
            },
            "type": "table"
           }
          ]
         },
         "layout": {
          "annotationdefaults": {
           "arrowcolor": "#2a3f5f",
           "arrowhead": 0,
           "arrowwidth": 1
          },
          "coloraxis": {
           "colorbar": {
            "outlinewidth": 0,
            "ticks": ""
           }
          },
          "colorscale": {
           "diverging": [
            [
             0,
             "#8e0152"
            ],
            [
             0.1,
             "#c51b7d"
            ],
            [
             0.2,
             "#de77ae"
            ],
            [
             0.3,
             "#f1b6da"
            ],
            [
             0.4,
             "#fde0ef"
            ],
            [
             0.5,
             "#f7f7f7"
            ],
            [
             0.6,
             "#e6f5d0"
            ],
            [
             0.7,
             "#b8e186"
            ],
            [
             0.8,
             "#7fbc41"
            ],
            [
             0.9,
             "#4d9221"
            ],
            [
             1,
             "#276419"
            ]
           ],
           "sequential": [
            [
             0,
             "#0d0887"
            ],
            [
             0.1111111111111111,
             "#46039f"
            ],
            [
             0.2222222222222222,
             "#7201a8"
            ],
            [
             0.3333333333333333,
             "#9c179e"
            ],
            [
             0.4444444444444444,
             "#bd3786"
            ],
            [
             0.5555555555555556,
             "#d8576b"
            ],
            [
             0.6666666666666666,
             "#ed7953"
            ],
            [
             0.7777777777777778,
             "#fb9f3a"
            ],
            [
             0.8888888888888888,
             "#fdca26"
            ],
            [
             1,
             "#f0f921"
            ]
           ],
           "sequentialminus": [
            [
             0,
             "#0d0887"
            ],
            [
             0.1111111111111111,
             "#46039f"
            ],
            [
             0.2222222222222222,
             "#7201a8"
            ],
            [
             0.3333333333333333,
             "#9c179e"
            ],
            [
             0.4444444444444444,
             "#bd3786"
            ],
            [
             0.5555555555555556,
             "#d8576b"
            ],
            [
             0.6666666666666666,
             "#ed7953"
            ],
            [
             0.7777777777777778,
             "#fb9f3a"
            ],
            [
             0.8888888888888888,
             "#fdca26"
            ],
            [
             1,
             "#f0f921"
            ]
           ]
          },
          "colorway": [
           "#636efa",
           "#EF553B",
           "#00cc96",
           "#ab63fa",
           "#FFA15A",
           "#19d3f3",
           "#FF6692",
           "#B6E880",
           "#FF97FF",
           "#FECB52"
          ],
          "font": {
           "color": "#2a3f5f"
          },
          "geo": {
           "bgcolor": "white",
           "lakecolor": "white",
           "landcolor": "#E5ECF6",
           "showlakes": true,
           "showland": true,
           "subunitcolor": "white"
          },
          "hoverlabel": {
           "align": "left"
          },
          "hovermode": "closest",
          "mapbox": {
           "style": "light"
          },
          "paper_bgcolor": "white",
          "plot_bgcolor": "#E5ECF6",
          "polar": {
           "angularaxis": {
            "gridcolor": "white",
            "linecolor": "white",
            "ticks": ""
           },
           "bgcolor": "#E5ECF6",
           "radialaxis": {
            "gridcolor": "white",
            "linecolor": "white",
            "ticks": ""
           }
          },
          "scene": {
           "xaxis": {
            "backgroundcolor": "#E5ECF6",
            "gridcolor": "white",
            "gridwidth": 2,
            "linecolor": "white",
            "showbackground": true,
            "ticks": "",
            "zerolinecolor": "white"
           },
           "yaxis": {
            "backgroundcolor": "#E5ECF6",
            "gridcolor": "white",
            "gridwidth": 2,
            "linecolor": "white",
            "showbackground": true,
            "ticks": "",
            "zerolinecolor": "white"
           },
           "zaxis": {
            "backgroundcolor": "#E5ECF6",
            "gridcolor": "white",
            "gridwidth": 2,
            "linecolor": "white",
            "showbackground": true,
            "ticks": "",
            "zerolinecolor": "white"
           }
          },
          "shapedefaults": {
           "line": {
            "color": "#2a3f5f"
           }
          },
          "ternary": {
           "aaxis": {
            "gridcolor": "white",
            "linecolor": "white",
            "ticks": ""
           },
           "baxis": {
            "gridcolor": "white",
            "linecolor": "white",
            "ticks": ""
           },
           "bgcolor": "#E5ECF6",
           "caxis": {
            "gridcolor": "white",
            "linecolor": "white",
            "ticks": ""
           }
          },
          "title": {
           "x": 0.05
          },
          "xaxis": {
           "automargin": true,
           "gridcolor": "white",
           "linecolor": "white",
           "ticks": "",
           "title": {
            "standoff": 15
           },
           "zerolinecolor": "white",
           "zerolinewidth": 2
          },
          "yaxis": {
           "automargin": true,
           "gridcolor": "white",
           "linecolor": "white",
           "ticks": "",
           "title": {
            "standoff": 15
           },
           "zerolinecolor": "white",
           "zerolinewidth": 2
          }
         }
        },
        "title": {
         "text": "Average waiting time of Elevator Calls by Floor on weekend"
        },
        "updatemenus": [
         {
          "buttons": [
           {
            "args": [
             null,
             {
              "frame": {
               "duration": 500,
               "redraw": true
              },
              "fromcurrent": true,
              "mode": "immediate",
              "transition": {
               "duration": 500,
               "easing": "linear"
              }
             }
            ],
            "label": "&#9654;",
            "method": "animate"
           },
           {
            "args": [
             [
              null
             ],
             {
              "frame": {
               "duration": 0,
               "redraw": true
              },
              "fromcurrent": true,
              "mode": "immediate",
              "transition": {
               "duration": 0,
               "easing": "linear"
              }
             }
            ],
            "label": "&#9724;",
            "method": "animate"
           }
          ],
          "direction": "left",
          "pad": {
           "r": 10,
           "t": 70
          },
          "showactive": false,
          "type": "buttons",
          "x": 0.1,
          "xanchor": "right",
          "y": 0,
          "yanchor": "top"
         }
        ],
        "xaxis": {
         "anchor": "y",
         "categoryarray": [
          "1",
          "2",
          "3",
          "4",
          "5",
          "6",
          "7",
          "8",
          "9",
          "10",
          "11",
          "12",
          "13",
          "14",
          "15",
          "B1",
          "B2",
          "B3",
          "B4"
         ],
         "domain": [
          0,
          0.49
         ],
         "nticks": 19,
         "title": {
          "text": "floor"
         },
         "type": "category"
        },
        "xaxis2": {
         "anchor": "y2",
         "categoryarray": [
          "1",
          "2",
          "3",
          "4",
          "5",
          "6",
          "7",
          "8",
          "9",
          "10",
          "11",
          "12",
          "13",
          "14",
          "15",
          "B1",
          "B2",
          "B3",
          "B4"
         ],
         "domain": [
          0.51,
          1
         ],
         "matches": "x",
         "nticks": 19,
         "title": {
          "text": "floor"
         },
         "type": "category"
        },
        "yaxis": {
         "anchor": "x",
         "domain": [
          0,
          1
         ],
         "range": [
          0,
          300
         ],
         "title": {
          "text": "avgWait_weekend"
         }
        },
        "yaxis2": {
         "anchor": "x2",
         "domain": [
          0,
          1
         ],
         "matches": "y",
         "range": [
          0,
          300
         ],
         "showticklabels": false
        }
       }
      },
      "text/html": [
       "<div>\n",
       "        \n",
       "        \n",
       "            <div id=\"6071d3cc-10ba-43e6-8c98-7ca6aae48a03\" class=\"plotly-graph-div\" style=\"height:525px; width:100%;\"></div>\n",
       "            <script type=\"text/javascript\">\n",
       "                require([\"plotly\"], function(Plotly) {\n",
       "                    window.PLOTLYENV=window.PLOTLYENV || {};\n",
       "                    \n",
       "                if (document.getElementById(\"6071d3cc-10ba-43e6-8c98-7ca6aae48a03\")) {\n",
       "                    Plotly.newPlot(\n",
       "                        '6071d3cc-10ba-43e6-8c98-7ca6aae48a03',\n",
       "                        [{\"alignmentgroup\": \"True\", \"hovertemplate\": \"direction=up<br>Local Time (GMT+8)=0<br>floor=%{x}<br>avgWait_weekend=%{y}<extra></extra>\", \"legendgroup\": \"up\", \"marker\": {\"color\": \"#636efa\"}, \"name\": \"up\", \"offsetgroup\": \"up\", \"orientation\": \"v\", \"showlegend\": true, \"textposition\": \"auto\", \"type\": \"bar\", \"x\": [\"1\", \"3\", \"4\", \"5\", \"7\", \"B1\", \"B3\", \"B4\"], \"xaxis\": \"x\", \"y\": [9.79, 18.08333333333333, 10.533333333333333, 13.146666666666668, 7.505, 16.17625, 14.033333333333333, 14.35], \"yaxis\": \"y\"}, {\"alignmentgroup\": \"True\", \"hovertemplate\": \"direction=down<br>Local Time (GMT+8)=0<br>floor=%{x}<br>avgWait_weekend=%{y}<extra></extra>\", \"legendgroup\": \"down\", \"marker\": {\"color\": \"#EF553B\"}, \"name\": \"down\", \"offsetgroup\": \"down\", \"orientation\": \"v\", \"showlegend\": true, \"textposition\": \"auto\", \"type\": \"bar\", \"x\": [\"3\", \"4\", \"6\", \"7\", \"8\", \"9\", \"11\", \"12\", \"13\", \"14\", \"15\", \"B1\"], \"xaxis\": \"x2\", \"y\": [14.025, 15.44, 14.845, 16.243333333333336, 15.35, 18.48, 19.92333333333333, 20.114, 18.98, 18.86, 21.425, 12.625], \"yaxis\": \"y2\"}],\n",
       "                        {\"annotations\": [{\"font\": {}, \"showarrow\": false, \"text\": \"direction=up\", \"x\": 0.245, \"xanchor\": \"center\", \"xref\": \"paper\", \"y\": 1.0, \"yanchor\": \"bottom\", \"yref\": \"paper\"}, {\"font\": {}, \"showarrow\": false, \"text\": \"direction=down\", \"x\": 0.755, \"xanchor\": \"center\", \"xref\": \"paper\", \"y\": 1.0, \"yanchor\": \"bottom\", \"yref\": \"paper\"}], \"barmode\": \"relative\", \"legend\": {\"title\": {\"text\": \"direction\"}, \"tracegroupgap\": 0}, \"margin\": {\"t\": 60}, \"sliders\": [{\"active\": 0, \"currentvalue\": {\"prefix\": \"Local Time (GMT+8)=\"}, \"len\": 0.9, \"pad\": {\"b\": 10, \"t\": 60}, \"steps\": [{\"args\": [[\"0\"], {\"frame\": {\"duration\": 0, \"redraw\": true}, \"fromcurrent\": true, \"mode\": \"immediate\", \"transition\": {\"duration\": 0, \"easing\": \"linear\"}}], \"label\": \"0\", \"method\": \"animate\"}, {\"args\": [[\"1\"], {\"frame\": {\"duration\": 0, \"redraw\": true}, \"fromcurrent\": true, \"mode\": \"immediate\", \"transition\": {\"duration\": 0, \"easing\": \"linear\"}}], \"label\": \"1\", \"method\": \"animate\"}, {\"args\": [[\"2\"], {\"frame\": {\"duration\": 0, \"redraw\": true}, \"fromcurrent\": true, \"mode\": \"immediate\", \"transition\": {\"duration\": 0, \"easing\": \"linear\"}}], \"label\": \"2\", \"method\": \"animate\"}, {\"args\": [[\"3\"], {\"frame\": {\"duration\": 0, \"redraw\": true}, \"fromcurrent\": true, \"mode\": \"immediate\", \"transition\": {\"duration\": 0, \"easing\": \"linear\"}}], \"label\": \"3\", \"method\": \"animate\"}, {\"args\": [[\"5\"], {\"frame\": {\"duration\": 0, \"redraw\": true}, \"fromcurrent\": true, \"mode\": \"immediate\", \"transition\": {\"duration\": 0, \"easing\": \"linear\"}}], \"label\": \"5\", \"method\": \"animate\"}, {\"args\": [[\"6\"], {\"frame\": {\"duration\": 0, \"redraw\": true}, \"fromcurrent\": true, \"mode\": \"immediate\", \"transition\": {\"duration\": 0, \"easing\": \"linear\"}}], \"label\": \"6\", \"method\": \"animate\"}, {\"args\": [[\"7\"], {\"frame\": {\"duration\": 0, \"redraw\": true}, \"fromcurrent\": true, \"mode\": \"immediate\", \"transition\": {\"duration\": 0, \"easing\": \"linear\"}}], \"label\": \"7\", \"method\": \"animate\"}, {\"args\": [[\"8\"], {\"frame\": {\"duration\": 0, \"redraw\": true}, \"fromcurrent\": true, \"mode\": \"immediate\", \"transition\": {\"duration\": 0, \"easing\": \"linear\"}}], \"label\": \"8\", \"method\": \"animate\"}, {\"args\": [[\"9\"], {\"frame\": {\"duration\": 0, \"redraw\": true}, \"fromcurrent\": true, \"mode\": \"immediate\", \"transition\": {\"duration\": 0, \"easing\": \"linear\"}}], \"label\": \"9\", \"method\": \"animate\"}, {\"args\": [[\"10\"], {\"frame\": {\"duration\": 0, \"redraw\": true}, \"fromcurrent\": true, \"mode\": \"immediate\", \"transition\": {\"duration\": 0, \"easing\": \"linear\"}}], \"label\": \"10\", \"method\": \"animate\"}, {\"args\": [[\"11\"], {\"frame\": {\"duration\": 0, \"redraw\": true}, \"fromcurrent\": true, \"mode\": \"immediate\", \"transition\": {\"duration\": 0, \"easing\": \"linear\"}}], \"label\": \"11\", \"method\": \"animate\"}, {\"args\": [[\"12\"], {\"frame\": {\"duration\": 0, \"redraw\": true}, \"fromcurrent\": true, \"mode\": \"immediate\", \"transition\": {\"duration\": 0, \"easing\": \"linear\"}}], \"label\": \"12\", \"method\": \"animate\"}, {\"args\": [[\"13\"], {\"frame\": {\"duration\": 0, \"redraw\": true}, \"fromcurrent\": true, \"mode\": \"immediate\", \"transition\": {\"duration\": 0, \"easing\": \"linear\"}}], \"label\": \"13\", \"method\": \"animate\"}, {\"args\": [[\"14\"], {\"frame\": {\"duration\": 0, \"redraw\": true}, \"fromcurrent\": true, \"mode\": \"immediate\", \"transition\": {\"duration\": 0, \"easing\": \"linear\"}}], \"label\": \"14\", \"method\": \"animate\"}, {\"args\": [[\"15\"], {\"frame\": {\"duration\": 0, \"redraw\": true}, \"fromcurrent\": true, \"mode\": \"immediate\", \"transition\": {\"duration\": 0, \"easing\": \"linear\"}}], \"label\": \"15\", \"method\": \"animate\"}, {\"args\": [[\"16\"], {\"frame\": {\"duration\": 0, \"redraw\": true}, \"fromcurrent\": true, \"mode\": \"immediate\", \"transition\": {\"duration\": 0, \"easing\": \"linear\"}}], \"label\": \"16\", \"method\": \"animate\"}, {\"args\": [[\"17\"], {\"frame\": {\"duration\": 0, \"redraw\": true}, \"fromcurrent\": true, \"mode\": \"immediate\", \"transition\": {\"duration\": 0, \"easing\": \"linear\"}}], \"label\": \"17\", \"method\": \"animate\"}, {\"args\": [[\"18\"], {\"frame\": {\"duration\": 0, \"redraw\": true}, \"fromcurrent\": true, \"mode\": \"immediate\", \"transition\": {\"duration\": 0, \"easing\": \"linear\"}}], \"label\": \"18\", \"method\": \"animate\"}, {\"args\": [[\"19\"], {\"frame\": {\"duration\": 0, \"redraw\": true}, \"fromcurrent\": true, \"mode\": \"immediate\", \"transition\": {\"duration\": 0, \"easing\": \"linear\"}}], \"label\": \"19\", \"method\": \"animate\"}, {\"args\": [[\"20\"], {\"frame\": {\"duration\": 0, \"redraw\": true}, \"fromcurrent\": true, \"mode\": \"immediate\", \"transition\": {\"duration\": 0, \"easing\": \"linear\"}}], \"label\": \"20\", \"method\": \"animate\"}, {\"args\": [[\"21\"], {\"frame\": {\"duration\": 0, \"redraw\": true}, \"fromcurrent\": true, \"mode\": \"immediate\", \"transition\": {\"duration\": 0, \"easing\": \"linear\"}}], \"label\": \"21\", \"method\": \"animate\"}, {\"args\": [[\"22\"], {\"frame\": {\"duration\": 0, \"redraw\": true}, \"fromcurrent\": true, \"mode\": \"immediate\", \"transition\": {\"duration\": 0, \"easing\": \"linear\"}}], \"label\": \"22\", \"method\": \"animate\"}, {\"args\": [[\"23\"], {\"frame\": {\"duration\": 0, \"redraw\": true}, \"fromcurrent\": true, \"mode\": \"immediate\", \"transition\": {\"duration\": 0, \"easing\": \"linear\"}}], \"label\": \"23\", \"method\": \"animate\"}, {\"args\": [[\"4\"], {\"frame\": {\"duration\": 0, \"redraw\": true}, \"fromcurrent\": true, \"mode\": \"immediate\", \"transition\": {\"duration\": 0, \"easing\": \"linear\"}}], \"label\": \"4\", \"method\": \"animate\"}], \"x\": 0.1, \"xanchor\": \"left\", \"y\": 0, \"yanchor\": \"top\"}], \"template\": {\"data\": {\"bar\": [{\"error_x\": {\"color\": \"#2a3f5f\"}, \"error_y\": {\"color\": \"#2a3f5f\"}, \"marker\": {\"line\": {\"color\": \"#E5ECF6\", \"width\": 0.5}}, \"type\": \"bar\"}], \"barpolar\": [{\"marker\": {\"line\": {\"color\": \"#E5ECF6\", \"width\": 0.5}}, \"type\": \"barpolar\"}], \"carpet\": [{\"aaxis\": {\"endlinecolor\": \"#2a3f5f\", \"gridcolor\": \"white\", \"linecolor\": \"white\", \"minorgridcolor\": \"white\", \"startlinecolor\": \"#2a3f5f\"}, \"baxis\": {\"endlinecolor\": \"#2a3f5f\", \"gridcolor\": \"white\", \"linecolor\": \"white\", \"minorgridcolor\": \"white\", \"startlinecolor\": \"#2a3f5f\"}, \"type\": \"carpet\"}], \"choropleth\": [{\"colorbar\": {\"outlinewidth\": 0, \"ticks\": \"\"}, \"type\": \"choropleth\"}], \"contour\": [{\"colorbar\": {\"outlinewidth\": 0, \"ticks\": \"\"}, \"colorscale\": [[0.0, \"#0d0887\"], [0.1111111111111111, \"#46039f\"], [0.2222222222222222, \"#7201a8\"], [0.3333333333333333, \"#9c179e\"], [0.4444444444444444, \"#bd3786\"], [0.5555555555555556, \"#d8576b\"], [0.6666666666666666, \"#ed7953\"], [0.7777777777777778, \"#fb9f3a\"], [0.8888888888888888, \"#fdca26\"], [1.0, \"#f0f921\"]], \"type\": \"contour\"}], \"contourcarpet\": [{\"colorbar\": {\"outlinewidth\": 0, \"ticks\": \"\"}, \"type\": \"contourcarpet\"}], \"heatmap\": [{\"colorbar\": {\"outlinewidth\": 0, \"ticks\": \"\"}, \"colorscale\": [[0.0, \"#0d0887\"], [0.1111111111111111, \"#46039f\"], [0.2222222222222222, \"#7201a8\"], [0.3333333333333333, \"#9c179e\"], [0.4444444444444444, \"#bd3786\"], [0.5555555555555556, \"#d8576b\"], [0.6666666666666666, \"#ed7953\"], [0.7777777777777778, \"#fb9f3a\"], [0.8888888888888888, \"#fdca26\"], [1.0, \"#f0f921\"]], \"type\": \"heatmap\"}], \"heatmapgl\": [{\"colorbar\": {\"outlinewidth\": 0, \"ticks\": \"\"}, \"colorscale\": [[0.0, \"#0d0887\"], [0.1111111111111111, \"#46039f\"], [0.2222222222222222, \"#7201a8\"], [0.3333333333333333, \"#9c179e\"], [0.4444444444444444, \"#bd3786\"], [0.5555555555555556, \"#d8576b\"], [0.6666666666666666, \"#ed7953\"], [0.7777777777777778, \"#fb9f3a\"], [0.8888888888888888, \"#fdca26\"], [1.0, \"#f0f921\"]], \"type\": \"heatmapgl\"}], \"histogram\": [{\"marker\": {\"colorbar\": {\"outlinewidth\": 0, \"ticks\": \"\"}}, \"type\": \"histogram\"}], \"histogram2d\": [{\"colorbar\": {\"outlinewidth\": 0, \"ticks\": \"\"}, \"colorscale\": [[0.0, \"#0d0887\"], [0.1111111111111111, \"#46039f\"], [0.2222222222222222, \"#7201a8\"], [0.3333333333333333, \"#9c179e\"], [0.4444444444444444, \"#bd3786\"], [0.5555555555555556, \"#d8576b\"], [0.6666666666666666, \"#ed7953\"], [0.7777777777777778, \"#fb9f3a\"], [0.8888888888888888, \"#fdca26\"], [1.0, \"#f0f921\"]], \"type\": \"histogram2d\"}], \"histogram2dcontour\": [{\"colorbar\": {\"outlinewidth\": 0, \"ticks\": \"\"}, \"colorscale\": [[0.0, \"#0d0887\"], [0.1111111111111111, \"#46039f\"], [0.2222222222222222, \"#7201a8\"], [0.3333333333333333, \"#9c179e\"], [0.4444444444444444, \"#bd3786\"], [0.5555555555555556, \"#d8576b\"], [0.6666666666666666, \"#ed7953\"], [0.7777777777777778, \"#fb9f3a\"], [0.8888888888888888, \"#fdca26\"], [1.0, \"#f0f921\"]], \"type\": \"histogram2dcontour\"}], \"mesh3d\": [{\"colorbar\": {\"outlinewidth\": 0, \"ticks\": \"\"}, \"type\": \"mesh3d\"}], \"parcoords\": [{\"line\": {\"colorbar\": {\"outlinewidth\": 0, \"ticks\": \"\"}}, \"type\": \"parcoords\"}], \"pie\": [{\"automargin\": true, \"type\": \"pie\"}], \"scatter\": [{\"marker\": {\"colorbar\": {\"outlinewidth\": 0, \"ticks\": \"\"}}, \"type\": \"scatter\"}], \"scatter3d\": [{\"line\": {\"colorbar\": {\"outlinewidth\": 0, \"ticks\": \"\"}}, \"marker\": {\"colorbar\": {\"outlinewidth\": 0, \"ticks\": \"\"}}, \"type\": \"scatter3d\"}], \"scattercarpet\": [{\"marker\": {\"colorbar\": {\"outlinewidth\": 0, \"ticks\": \"\"}}, \"type\": \"scattercarpet\"}], \"scattergeo\": [{\"marker\": {\"colorbar\": {\"outlinewidth\": 0, \"ticks\": \"\"}}, \"type\": \"scattergeo\"}], \"scattergl\": [{\"marker\": {\"colorbar\": {\"outlinewidth\": 0, \"ticks\": \"\"}}, \"type\": \"scattergl\"}], \"scattermapbox\": [{\"marker\": {\"colorbar\": {\"outlinewidth\": 0, \"ticks\": \"\"}}, \"type\": \"scattermapbox\"}], \"scatterpolar\": [{\"marker\": {\"colorbar\": {\"outlinewidth\": 0, \"ticks\": \"\"}}, \"type\": \"scatterpolar\"}], \"scatterpolargl\": [{\"marker\": {\"colorbar\": {\"outlinewidth\": 0, \"ticks\": \"\"}}, \"type\": \"scatterpolargl\"}], \"scatterternary\": [{\"marker\": {\"colorbar\": {\"outlinewidth\": 0, \"ticks\": \"\"}}, \"type\": \"scatterternary\"}], \"surface\": [{\"colorbar\": {\"outlinewidth\": 0, \"ticks\": \"\"}, \"colorscale\": [[0.0, \"#0d0887\"], [0.1111111111111111, \"#46039f\"], [0.2222222222222222, \"#7201a8\"], [0.3333333333333333, \"#9c179e\"], [0.4444444444444444, \"#bd3786\"], [0.5555555555555556, \"#d8576b\"], [0.6666666666666666, \"#ed7953\"], [0.7777777777777778, \"#fb9f3a\"], [0.8888888888888888, \"#fdca26\"], [1.0, \"#f0f921\"]], \"type\": \"surface\"}], \"table\": [{\"cells\": {\"fill\": {\"color\": \"#EBF0F8\"}, \"line\": {\"color\": \"white\"}}, \"header\": {\"fill\": {\"color\": \"#C8D4E3\"}, \"line\": {\"color\": \"white\"}}, \"type\": \"table\"}]}, \"layout\": {\"annotationdefaults\": {\"arrowcolor\": \"#2a3f5f\", \"arrowhead\": 0, \"arrowwidth\": 1}, \"coloraxis\": {\"colorbar\": {\"outlinewidth\": 0, \"ticks\": \"\"}}, \"colorscale\": {\"diverging\": [[0, \"#8e0152\"], [0.1, \"#c51b7d\"], [0.2, \"#de77ae\"], [0.3, \"#f1b6da\"], [0.4, \"#fde0ef\"], [0.5, \"#f7f7f7\"], [0.6, \"#e6f5d0\"], [0.7, \"#b8e186\"], [0.8, \"#7fbc41\"], [0.9, \"#4d9221\"], [1, \"#276419\"]], \"sequential\": [[0.0, \"#0d0887\"], [0.1111111111111111, \"#46039f\"], [0.2222222222222222, \"#7201a8\"], [0.3333333333333333, \"#9c179e\"], [0.4444444444444444, \"#bd3786\"], [0.5555555555555556, \"#d8576b\"], [0.6666666666666666, \"#ed7953\"], [0.7777777777777778, \"#fb9f3a\"], [0.8888888888888888, \"#fdca26\"], [1.0, \"#f0f921\"]], \"sequentialminus\": [[0.0, \"#0d0887\"], [0.1111111111111111, \"#46039f\"], [0.2222222222222222, \"#7201a8\"], [0.3333333333333333, \"#9c179e\"], [0.4444444444444444, \"#bd3786\"], [0.5555555555555556, \"#d8576b\"], [0.6666666666666666, \"#ed7953\"], [0.7777777777777778, \"#fb9f3a\"], [0.8888888888888888, \"#fdca26\"], [1.0, \"#f0f921\"]]}, \"colorway\": [\"#636efa\", \"#EF553B\", \"#00cc96\", \"#ab63fa\", \"#FFA15A\", \"#19d3f3\", \"#FF6692\", \"#B6E880\", \"#FF97FF\", \"#FECB52\"], \"font\": {\"color\": \"#2a3f5f\"}, \"geo\": {\"bgcolor\": \"white\", \"lakecolor\": \"white\", \"landcolor\": \"#E5ECF6\", \"showlakes\": true, \"showland\": true, \"subunitcolor\": \"white\"}, \"hoverlabel\": {\"align\": \"left\"}, \"hovermode\": \"closest\", \"mapbox\": {\"style\": \"light\"}, \"paper_bgcolor\": \"white\", \"plot_bgcolor\": \"#E5ECF6\", \"polar\": {\"angularaxis\": {\"gridcolor\": \"white\", \"linecolor\": \"white\", \"ticks\": \"\"}, \"bgcolor\": \"#E5ECF6\", \"radialaxis\": {\"gridcolor\": \"white\", \"linecolor\": \"white\", \"ticks\": \"\"}}, \"scene\": {\"xaxis\": {\"backgroundcolor\": \"#E5ECF6\", \"gridcolor\": \"white\", \"gridwidth\": 2, \"linecolor\": \"white\", \"showbackground\": true, \"ticks\": \"\", \"zerolinecolor\": \"white\"}, \"yaxis\": {\"backgroundcolor\": \"#E5ECF6\", \"gridcolor\": \"white\", \"gridwidth\": 2, \"linecolor\": \"white\", \"showbackground\": true, \"ticks\": \"\", \"zerolinecolor\": \"white\"}, \"zaxis\": {\"backgroundcolor\": \"#E5ECF6\", \"gridcolor\": \"white\", \"gridwidth\": 2, \"linecolor\": \"white\", \"showbackground\": true, \"ticks\": \"\", \"zerolinecolor\": \"white\"}}, \"shapedefaults\": {\"line\": {\"color\": \"#2a3f5f\"}}, \"ternary\": {\"aaxis\": {\"gridcolor\": \"white\", \"linecolor\": \"white\", \"ticks\": \"\"}, \"baxis\": {\"gridcolor\": \"white\", \"linecolor\": \"white\", \"ticks\": \"\"}, \"bgcolor\": \"#E5ECF6\", \"caxis\": {\"gridcolor\": \"white\", \"linecolor\": \"white\", \"ticks\": \"\"}}, \"title\": {\"x\": 0.05}, \"xaxis\": {\"automargin\": true, \"gridcolor\": \"white\", \"linecolor\": \"white\", \"ticks\": \"\", \"title\": {\"standoff\": 15}, \"zerolinecolor\": \"white\", \"zerolinewidth\": 2}, \"yaxis\": {\"automargin\": true, \"gridcolor\": \"white\", \"linecolor\": \"white\", \"ticks\": \"\", \"title\": {\"standoff\": 15}, \"zerolinecolor\": \"white\", \"zerolinewidth\": 2}}}, \"title\": {\"text\": \"Average waiting time of Elevator Calls by Floor on weekend\"}, \"updatemenus\": [{\"buttons\": [{\"args\": [null, {\"frame\": {\"duration\": 500, \"redraw\": true}, \"fromcurrent\": true, \"mode\": \"immediate\", \"transition\": {\"duration\": 500, \"easing\": \"linear\"}}], \"label\": \"&#9654;\", \"method\": \"animate\"}, {\"args\": [[null], {\"frame\": {\"duration\": 0, \"redraw\": true}, \"fromcurrent\": true, \"mode\": \"immediate\", \"transition\": {\"duration\": 0, \"easing\": \"linear\"}}], \"label\": \"&#9724;\", \"method\": \"animate\"}], \"direction\": \"left\", \"pad\": {\"r\": 10, \"t\": 70}, \"showactive\": false, \"type\": \"buttons\", \"x\": 0.1, \"xanchor\": \"right\", \"y\": 0, \"yanchor\": \"top\"}], \"xaxis\": {\"anchor\": \"y\", \"categoryarray\": [\"1\", \"2\", \"3\", \"4\", \"5\", \"6\", \"7\", \"8\", \"9\", \"10\", \"11\", \"12\", \"13\", \"14\", \"15\", \"B1\", \"B2\", \"B3\", \"B4\"], \"domain\": [0.0, 0.49], \"nticks\": 19, \"title\": {\"text\": \"floor\"}, \"type\": \"category\"}, \"xaxis2\": {\"anchor\": \"y2\", \"categoryarray\": [\"1\", \"2\", \"3\", \"4\", \"5\", \"6\", \"7\", \"8\", \"9\", \"10\", \"11\", \"12\", \"13\", \"14\", \"15\", \"B1\", \"B2\", \"B3\", \"B4\"], \"domain\": [0.51, 1.0], \"matches\": \"x\", \"nticks\": 19, \"title\": {\"text\": \"floor\"}, \"type\": \"category\"}, \"yaxis\": {\"anchor\": \"x\", \"domain\": [0.0, 1.0], \"range\": [0, 300], \"title\": {\"text\": \"avgWait_weekend\"}}, \"yaxis2\": {\"anchor\": \"x2\", \"domain\": [0.0, 1.0], \"matches\": \"y\", \"range\": [0, 300], \"showticklabels\": false}},\n",
       "                        {\"responsive\": true}\n",
       "                    ).then(function(){\n",
       "                            Plotly.addFrames('6071d3cc-10ba-43e6-8c98-7ca6aae48a03', [{\"data\": [{\"alignmentgroup\": \"True\", \"hovertemplate\": \"direction=up<br>Local Time (GMT+8)=0<br>floor=%{x}<br>avgWait_weekend=%{y}<extra></extra>\", \"legendgroup\": \"up\", \"marker\": {\"color\": \"#636efa\"}, \"name\": \"up\", \"offsetgroup\": \"up\", \"orientation\": \"v\", \"showlegend\": true, \"textposition\": \"auto\", \"x\": [\"1\", \"3\", \"4\", \"5\", \"7\", \"B1\", \"B3\", \"B4\"], \"xaxis\": \"x\", \"y\": [9.79, 18.08333333333333, 10.533333333333333, 13.146666666666668, 7.505, 16.17625, 14.033333333333333, 14.35], \"yaxis\": \"y\", \"type\": \"bar\"}, {\"alignmentgroup\": \"True\", \"hovertemplate\": \"direction=down<br>Local Time (GMT+8)=0<br>floor=%{x}<br>avgWait_weekend=%{y}<extra></extra>\", \"legendgroup\": \"down\", \"marker\": {\"color\": \"#EF553B\"}, \"name\": \"down\", \"offsetgroup\": \"down\", \"orientation\": \"v\", \"showlegend\": true, \"textposition\": \"auto\", \"x\": [\"3\", \"4\", \"6\", \"7\", \"8\", \"9\", \"11\", \"12\", \"13\", \"14\", \"15\", \"B1\"], \"xaxis\": \"x2\", \"y\": [14.025, 15.44, 14.845, 16.243333333333336, 15.35, 18.48, 19.92333333333333, 20.114, 18.98, 18.86, 21.425, 12.625], \"yaxis\": \"y2\", \"type\": \"bar\"}], \"name\": \"0\"}, {\"data\": [{\"alignmentgroup\": \"True\", \"hovertemplate\": \"direction=up<br>Local Time (GMT+8)=1<br>floor=%{x}<br>avgWait_weekend=%{y}<extra></extra>\", \"legendgroup\": \"up\", \"marker\": {\"color\": \"#636efa\"}, \"name\": \"up\", \"offsetgroup\": \"up\", \"orientation\": \"v\", \"showlegend\": true, \"textposition\": \"auto\", \"x\": [\"1\", \"2\", \"3\", \"4\", \"5\", \"6\", \"7\", \"B1\", \"B3\", \"B4\"], \"xaxis\": \"x\", \"y\": [14.395, 19.2, 15.822500000000002, 13.3325, 12.965, 1.44, 14.02, 14.2125, 23.17, 21.535], \"yaxis\": \"y\", \"type\": \"bar\"}, {\"alignmentgroup\": \"True\", \"hovertemplate\": \"direction=down<br>Local Time (GMT+8)=1<br>floor=%{x}<br>avgWait_weekend=%{y}<extra></extra>\", \"legendgroup\": \"down\", \"marker\": {\"color\": \"#EF553B\"}, \"name\": \"down\", \"offsetgroup\": \"down\", \"orientation\": \"v\", \"showlegend\": true, \"textposition\": \"auto\", \"x\": [\"3\", \"5\", \"6\", \"7\", \"8\", \"9\", \"10\", \"11\", \"12\", \"13\", \"14\", \"15\"], \"xaxis\": \"x2\", \"y\": [21.21, 17.27, 21.69, 10.826666666666664, 13.79, 17.49, 19.2, 19.08, 38.44, 15.79, 12.670000000000002, 1.01], \"yaxis\": \"y2\", \"type\": \"bar\"}], \"name\": \"1\"}, {\"data\": [{\"alignmentgroup\": \"True\", \"hovertemplate\": \"direction=up<br>Local Time (GMT+8)=2<br>floor=%{x}<br>avgWait_weekend=%{y}<extra></extra>\", \"legendgroup\": \"up\", \"marker\": {\"color\": \"#636efa\"}, \"name\": \"up\", \"offsetgroup\": \"up\", \"orientation\": \"v\", \"showlegend\": true, \"textposition\": \"auto\", \"x\": [\"1\", \"3\", \"4\", \"5\", \"6\", \"7\", \"9\", \"14\", \"B1\", \"B4\"], \"xaxis\": \"x\", \"y\": [12.976666666666668, 15.235, 15.298333333333332, 16.033333333333335, 1.58, 15.93, 7.7, 17.47, 14.136153846153848, 18.47], \"yaxis\": \"y\", \"type\": \"bar\"}, {\"alignmentgroup\": \"True\", \"hovertemplate\": \"direction=down<br>Local Time (GMT+8)=2<br>floor=%{x}<br>avgWait_weekend=%{y}<extra></extra>\", \"legendgroup\": \"down\", \"marker\": {\"color\": \"#EF553B\"}, \"name\": \"down\", \"offsetgroup\": \"down\", \"orientation\": \"v\", \"showlegend\": true, \"textposition\": \"auto\", \"x\": [\"3\", \"4\", \"6\", \"7\", \"8\", \"9\", \"10\", \"11\", \"12\", \"13\", \"14\", \"15\", \"B1\"], \"xaxis\": \"x2\", \"y\": [10.745, 19.05, 1.2133333333333334, 10.555, 15.19, 10.885, 11.97, 10.79, 1.415, 15.8, 27.03, 6.543333333333332, 11.83], \"yaxis\": \"y2\", \"type\": \"bar\"}], \"name\": \"2\"}, {\"data\": [{\"alignmentgroup\": \"True\", \"hovertemplate\": \"direction=up<br>Local Time (GMT+8)=3<br>floor=%{x}<br>avgWait_weekend=%{y}<extra></extra>\", \"legendgroup\": \"up\", \"marker\": {\"color\": \"#636efa\"}, \"name\": \"up\", \"offsetgroup\": \"up\", \"orientation\": \"v\", \"showlegend\": true, \"textposition\": \"auto\", \"x\": [\"1\", \"3\", \"4\", \"7\", \"8\", \"14\", \"B1\", \"B4\"], \"xaxis\": \"x\", \"y\": [15.83, 1.6, 8.78, 1.0533333333333337, 1.57, 18.95, 10.963333333333333, 11.785], \"yaxis\": \"y\", \"type\": \"bar\"}, {\"alignmentgroup\": \"True\", \"hovertemplate\": \"direction=down<br>Local Time (GMT+8)=3<br>floor=%{x}<br>avgWait_weekend=%{y}<extra></extra>\", \"legendgroup\": \"down\", \"marker\": {\"color\": \"#EF553B\"}, \"name\": \"down\", \"offsetgroup\": \"down\", \"orientation\": \"v\", \"showlegend\": true, \"textposition\": \"auto\", \"x\": [\"1\", \"3\", \"4\", \"5\", \"6\", \"7\", \"8\", \"9\", \"14\", \"15\"], \"xaxis\": \"x2\", \"y\": [23.4, 15.94, 9.81, 15.73, 25.17, 3.44, 13.79, 12.215, 1.61, 2.55], \"yaxis\": \"y2\", \"type\": \"bar\"}], \"name\": \"3\"}, {\"data\": [{\"alignmentgroup\": \"True\", \"hovertemplate\": \"direction=up<br>Local Time (GMT+8)=5<br>floor=%{x}<br>avgWait_weekend=%{y}<extra></extra>\", \"legendgroup\": \"up\", \"marker\": {\"color\": \"#636efa\"}, \"name\": \"up\", \"offsetgroup\": \"up\", \"orientation\": \"v\", \"showlegend\": true, \"textposition\": \"auto\", \"x\": [\"1\", \"6\", \"8\", \"9\", \"10\", \"B1\", \"B3\", \"B4\"], \"xaxis\": \"x\", \"y\": [13.248333333333335, 15.71, 22.31, 14.77, 5.031666666666666, 11.792, 20.78, 25.61], \"yaxis\": \"y\", \"type\": \"bar\"}, {\"alignmentgroup\": \"True\", \"hovertemplate\": \"direction=down<br>Local Time (GMT+8)=5<br>floor=%{x}<br>avgWait_weekend=%{y}<extra></extra>\", \"legendgroup\": \"down\", \"marker\": {\"color\": \"#EF553B\"}, \"name\": \"down\", \"offsetgroup\": \"down\", \"orientation\": \"v\", \"showlegend\": true, \"textposition\": \"auto\", \"x\": [\"6\", \"8\", \"9\", \"10\", \"11\", \"12\", \"15\", \"B1\"], \"xaxis\": \"x2\", \"y\": [10.72, 25.18, 6.41, 5.697, 8.04, 10.15, 1.37, 15.03], \"yaxis\": \"y2\", \"type\": \"bar\"}], \"name\": \"5\"}, {\"data\": [{\"alignmentgroup\": \"True\", \"hovertemplate\": \"direction=up<br>Local Time (GMT+8)=6<br>floor=%{x}<br>avgWait_weekend=%{y}<extra></extra>\", \"legendgroup\": \"up\", \"marker\": {\"color\": \"#636efa\"}, \"name\": \"up\", \"offsetgroup\": \"up\", \"orientation\": \"v\", \"showlegend\": true, \"textposition\": \"auto\", \"x\": [\"1\", \"2\", \"3\", \"4\", \"6\", \"7\", \"9\", \"10\", \"11\", \"B1\", \"B3\", \"B4\"], \"xaxis\": \"x\", \"y\": [18.0916, 14.29, 19.32, 17.82888888888889, 17.354571428571433, 12.89, 15.16, 9.470555555555556, 11.18, 20.345294117647054, 20.910384615384622, 20.430000000000003], \"yaxis\": \"y\", \"type\": \"bar\"}, {\"alignmentgroup\": \"True\", \"hovertemplate\": \"direction=down<br>Local Time (GMT+8)=6<br>floor=%{x}<br>avgWait_weekend=%{y}<extra></extra>\", \"legendgroup\": \"down\", \"marker\": {\"color\": \"#EF553B\"}, \"name\": \"down\", \"offsetgroup\": \"down\", \"orientation\": \"v\", \"showlegend\": true, \"textposition\": \"auto\", \"x\": [\"1\", \"2\", \"3\", \"5\", \"6\", \"7\", \"8\", \"10\", \"11\", \"12\", \"13\", \"14\", \"15\", \"B1\", \"B3\"], \"xaxis\": \"x2\", \"y\": [27.488888888888887, 9.51, 26.845, 25.8725, 12.5715, 17.773333333333333, 10.1, 10.16906976744186, 14.085, 5.98, 11.961428571428574, 58.09, 25.35, 21.718823529411765, 7.765], \"yaxis\": \"y2\", \"type\": \"bar\"}], \"name\": \"6\"}, {\"data\": [{\"alignmentgroup\": \"True\", \"hovertemplate\": \"direction=up<br>Local Time (GMT+8)=7<br>floor=%{x}<br>avgWait_weekend=%{y}<extra></extra>\", \"legendgroup\": \"up\", \"marker\": {\"color\": \"#636efa\"}, \"name\": \"up\", \"offsetgroup\": \"up\", \"orientation\": \"v\", \"showlegend\": true, \"textposition\": \"auto\", \"x\": [\"1\", \"2\", \"3\", \"4\", \"5\", \"6\", \"7\", \"9\", \"10\", \"13\", \"14\", \"B1\", \"B3\", \"B4\"], \"xaxis\": \"x\", \"y\": [16.886402116402117, 11.3025, 6.404000000000001, 8.583, 15.714000000000002, 34.626666666666665, 7.97, 51.01, 22.202500000000004, 10.69, 15.16, 15.817614678899083, 14.113787878787878, 20.617254901960784], \"yaxis\": \"y\", \"type\": \"bar\"}, {\"alignmentgroup\": \"True\", \"hovertemplate\": \"direction=down<br>Local Time (GMT+8)=7<br>floor=%{x}<br>avgWait_weekend=%{y}<extra></extra>\", \"legendgroup\": \"down\", \"marker\": {\"color\": \"#EF553B\"}, \"name\": \"down\", \"offsetgroup\": \"down\", \"orientation\": \"v\", \"showlegend\": true, \"textposition\": \"auto\", \"x\": [\"1\", \"2\", \"3\", \"4\", \"5\", \"6\", \"7\", \"8\", \"9\", \"10\", \"11\", \"12\", \"13\", \"14\", \"15\", \"B1\", \"B3\"], \"xaxis\": \"x2\", \"y\": [25.218604651162792, 28.66666666666667, 37.80272727272728, 21.510714285714283, 15.3175, 15.663863636363635, 21.26545454545455, 16.609375, 23.60375, 12.4, 28.23, 26.79636363636364, 24.300666666666665, 46.33454545454546, 27.00428571428571, 23.850476190476193, 14.56], \"yaxis\": \"y2\", \"type\": \"bar\"}], \"name\": \"7\"}, {\"data\": [{\"alignmentgroup\": \"True\", \"hovertemplate\": \"direction=up<br>Local Time (GMT+8)=8<br>floor=%{x}<br>avgWait_weekend=%{y}<extra></extra>\", \"legendgroup\": \"up\", \"marker\": {\"color\": \"#636efa\"}, \"name\": \"up\", \"offsetgroup\": \"up\", \"orientation\": \"v\", \"showlegend\": true, \"textposition\": \"auto\", \"x\": [\"1\", \"2\", \"3\", \"4\", \"5\", \"6\", \"8\", \"9\", \"10\", \"11\", \"12\", \"13\", \"14\", \"B1\", \"B3\", \"B4\"], \"xaxis\": \"x\", \"y\": [13.831301775147926, 10.296764705882351, 12.188666666666665, 7.866666666666667, 7.803333333333333, 35.50888888888889, 48.14833333333333, 36.04, 17.162, 45.79, 17.06, 45.00666666666667, 62.55, 15.839318181818182, 17.366521739130434, 24.705483870967747], \"yaxis\": \"y\", \"type\": \"bar\"}, {\"alignmentgroup\": \"True\", \"hovertemplate\": \"direction=down<br>Local Time (GMT+8)=8<br>floor=%{x}<br>avgWait_weekend=%{y}<extra></extra>\", \"legendgroup\": \"down\", \"marker\": {\"color\": \"#EF553B\"}, \"name\": \"down\", \"offsetgroup\": \"down\", \"orientation\": \"v\", \"showlegend\": true, \"textposition\": \"auto\", \"x\": [\"1\", \"2\", \"3\", \"4\", \"5\", \"6\", \"7\", \"8\", \"9\", \"10\", \"11\", \"12\", \"13\", \"14\", \"15\", \"B1\", \"B3\"], \"xaxis\": \"x2\", \"y\": [32.988, 24.185, 31.707812500000006, 31.42352941176471, 30.16147058823529, 14.142545454545456, 15.6855, 14.807368421052633, 15.629148936170216, 14.892, 21.616851851851848, 25.683617021276604, 20.95212765957447, 40.055263157894736, 39.44594594594594, 23.687200000000004, 15.62], \"yaxis\": \"y2\", \"type\": \"bar\"}], \"name\": \"8\"}, {\"data\": [{\"alignmentgroup\": \"True\", \"hovertemplate\": \"direction=up<br>Local Time (GMT+8)=9<br>floor=%{x}<br>avgWait_weekend=%{y}<extra></extra>\", \"legendgroup\": \"up\", \"marker\": {\"color\": \"#636efa\"}, \"name\": \"up\", \"offsetgroup\": \"up\", \"orientation\": \"v\", \"showlegend\": true, \"textposition\": \"auto\", \"x\": [\"1\", \"2\", \"3\", \"4\", \"5\", \"6\", \"7\", \"8\", \"9\", \"10\", \"11\", \"12\", \"13\", \"14\", \"B1\", \"B3\", \"B4\"], \"xaxis\": \"x\", \"y\": [11.574202898550725, 7.674186046511627, 8.802105263157895, 6.752608695652174, 12.737222222222224, 37.30333333333333, 39.404545454545456, 40.083636363636366, 16.216666666666665, 35.613333333333344, 52.668888888888894, 42.1125, 28.64333333333333, 122.63, 16.18919191919192, 14.5086, 25.64128571428571], \"yaxis\": \"y\", \"type\": \"bar\"}, {\"alignmentgroup\": \"True\", \"hovertemplate\": \"direction=down<br>Local Time (GMT+8)=9<br>floor=%{x}<br>avgWait_weekend=%{y}<extra></extra>\", \"legendgroup\": \"down\", \"marker\": {\"color\": \"#EF553B\"}, \"name\": \"down\", \"offsetgroup\": \"down\", \"orientation\": \"v\", \"showlegend\": true, \"textposition\": \"auto\", \"x\": [\"1\", \"2\", \"3\", \"4\", \"5\", \"6\", \"7\", \"8\", \"9\", \"10\", \"11\", \"12\", \"13\", \"14\", \"15\", \"B1\", \"B3\"], \"xaxis\": \"x2\", \"y\": [17.761875, 20.375384615384615, 28.113243243243247, 36.84310344827586, 34.98964285714286, 9.249215686274509, 13.948157894736841, 19.12276595744681, 17.4434693877551, 15.672727272727276, 18.143225806451614, 18.383846153846157, 28.371470588235287, 41.96847826086957, 51.82651162790698, 18.741111111111113, 50.74500000000001], \"yaxis\": \"y2\", \"type\": \"bar\"}], \"name\": \"9\"}, {\"data\": [{\"alignmentgroup\": \"True\", \"hovertemplate\": \"direction=up<br>Local Time (GMT+8)=10<br>floor=%{x}<br>avgWait_weekend=%{y}<extra></extra>\", \"legendgroup\": \"up\", \"marker\": {\"color\": \"#636efa\"}, \"name\": \"up\", \"offsetgroup\": \"up\", \"orientation\": \"v\", \"showlegend\": true, \"textposition\": \"auto\", \"x\": [\"1\", \"2\", \"3\", \"4\", \"5\", \"6\", \"7\", \"8\", \"9\", \"10\", \"11\", \"12\", \"13\", \"14\", \"B1\", \"B3\", \"B4\"], \"xaxis\": \"x\", \"y\": [12.365348837209305, 10.7940625, 12.784166666666666, 15.217948717948715, 10.3648, 45.12, 45.51428571428572, 49.172, 26.422222222222228, 25.296, 37.636666666666656, 56.78, 40.918, 59.925, 16.524565217391306, 12.005882352941176, 53.56923076923078], \"yaxis\": \"y\", \"type\": \"bar\"}, {\"alignmentgroup\": \"True\", \"hovertemplate\": \"direction=down<br>Local Time (GMT+8)=10<br>floor=%{x}<br>avgWait_weekend=%{y}<extra></extra>\", \"legendgroup\": \"down\", \"marker\": {\"color\": \"#EF553B\"}, \"name\": \"down\", \"offsetgroup\": \"down\", \"orientation\": \"v\", \"showlegend\": true, \"textposition\": \"auto\", \"x\": [\"1\", \"2\", \"3\", \"4\", \"5\", \"6\", \"7\", \"8\", \"9\", \"10\", \"11\", \"12\", \"13\", \"14\", \"15\", \"B1\", \"B3\"], \"xaxis\": \"x2\", \"y\": [14.25153846153846, 15.686666666666666, 38.46380952380952, 96.0268181818182, 47.0258064516129, 36.47831325301205, 11.948823529411767, 9.047317073170733, 18.31787234042553, 10.527777777777779, 14.901818181818184, 19.207209302325584, 19.496779661016948, 48.388000000000005, 59.35, 32.332857142857144, 27.21], \"yaxis\": \"y2\", \"type\": \"bar\"}], \"name\": \"10\"}, {\"data\": [{\"alignmentgroup\": \"True\", \"hovertemplate\": \"direction=up<br>Local Time (GMT+8)=11<br>floor=%{x}<br>avgWait_weekend=%{y}<extra></extra>\", \"legendgroup\": \"up\", \"marker\": {\"color\": \"#636efa\"}, \"name\": \"up\", \"offsetgroup\": \"up\", \"orientation\": \"v\", \"showlegend\": true, \"textposition\": \"auto\", \"x\": [\"1\", \"2\", \"3\", \"4\", \"5\", \"6\", \"7\", \"8\", \"9\", \"10\", \"11\", \"12\", \"13\", \"14\", \"B1\", \"B3\", \"B4\"], \"xaxis\": \"x\", \"y\": [11.438119658119659, 9.378163265306123, 279.19514285714286, 7.033333333333332, 9.68888888888889, 66.6275, 64.31272727272727, 1919.576, 50.16333333333333, 22.95555555555556, 0.34, 19.696666666666673, 18.566, 66.59333333333333, 81.81075342465753, 12.411153846153846, 26.567966101694914], \"yaxis\": \"y\", \"type\": \"bar\"}, {\"alignmentgroup\": \"True\", \"hovertemplate\": \"direction=down<br>Local Time (GMT+8)=11<br>floor=%{x}<br>avgWait_weekend=%{y}<extra></extra>\", \"legendgroup\": \"down\", \"marker\": {\"color\": \"#EF553B\"}, \"name\": \"down\", \"offsetgroup\": \"down\", \"orientation\": \"v\", \"showlegend\": true, \"textposition\": \"auto\", \"x\": [\"1\", \"2\", \"3\", \"4\", \"5\", \"6\", \"7\", \"8\", \"9\", \"10\", \"11\", \"12\", \"13\", \"14\", \"15\", \"B1\"], \"xaxis\": \"x2\", \"y\": [13.681666666666667, 25.848275862068967, 18.26169491525424, 30.592666666666666, 20.586470588235297, 12.944777777777775, 11.620392156862746, 9.0084375, 9.911836734693876, 274.32222222222225, 11.561886792452832, 226.85804347826087, 188.06892857142861, 175.7904545454545, 213.21315789473687, 19.167272727272728], \"yaxis\": \"y2\", \"type\": \"bar\"}], \"name\": \"11\"}, {\"data\": [{\"alignmentgroup\": \"True\", \"hovertemplate\": \"direction=up<br>Local Time (GMT+8)=12<br>floor=%{x}<br>avgWait_weekend=%{y}<extra></extra>\", \"legendgroup\": \"up\", \"marker\": {\"color\": \"#636efa\"}, \"name\": \"up\", \"offsetgroup\": \"up\", \"orientation\": \"v\", \"showlegend\": true, \"textposition\": \"auto\", \"x\": [\"1\", \"2\", \"3\", \"4\", \"5\", \"6\", \"7\", \"8\", \"9\", \"10\", \"11\", \"12\", \"13\", \"14\", \"B1\", \"B3\", \"B4\"], \"xaxis\": \"x\", \"y\": [15.122173913043476, 11.7984375, 7.616818181818181, 12.073103448275864, 16.269411764705882, 52.5725, 57.14200000000001, 103.365, 94.22, 41.34375, 17.07, 27.01, 21.5375, 50.39166666666667, 16.024558823529414, 14.554999999999998, 23.294761904761906], \"yaxis\": \"y\", \"type\": \"bar\"}, {\"alignmentgroup\": \"True\", \"hovertemplate\": \"direction=down<br>Local Time (GMT+8)=12<br>floor=%{x}<br>avgWait_weekend=%{y}<extra></extra>\", \"legendgroup\": \"down\", \"marker\": {\"color\": \"#EF553B\"}, \"name\": \"down\", \"offsetgroup\": \"down\", \"orientation\": \"v\", \"showlegend\": true, \"textposition\": \"auto\", \"x\": [\"1\", \"2\", \"3\", \"4\", \"5\", \"6\", \"7\", \"8\", \"9\", \"10\", \"11\", \"12\", \"13\", \"14\", \"15\", \"B1\", \"B3\"], \"xaxis\": \"x2\", \"y\": [15.356046511627905, 19.744666666666664, 25.135757575757577, 28.361428571428572, 38.41326530612245, 17.93111111111111, 12.436486486486485, 13.19325, 18.534242424242425, 17.12857142857143, 14.241153846153846, 22.349555555555558, 24.106511627906976, 57.979285714285716, 61.06888888888889, 14.919565217391305, 12.89], \"yaxis\": \"y2\", \"type\": \"bar\"}], \"name\": \"12\"}, {\"data\": [{\"alignmentgroup\": \"True\", \"hovertemplate\": \"direction=up<br>Local Time (GMT+8)=13<br>floor=%{x}<br>avgWait_weekend=%{y}<extra></extra>\", \"legendgroup\": \"up\", \"marker\": {\"color\": \"#636efa\"}, \"name\": \"up\", \"offsetgroup\": \"up\", \"orientation\": \"v\", \"showlegend\": true, \"textposition\": \"auto\", \"x\": [\"1\", \"2\", \"3\", \"4\", \"5\", \"6\", \"7\", \"8\", \"9\", \"10\", \"12\", \"13\", \"14\", \"B1\", \"B3\", \"B4\"], \"xaxis\": \"x\", \"y\": [13.091682242990654, 8.29025, 9.395384615384616, 12.3084375, 11.823636363636364, 42.156666666666666, 50.46571428571429, 32.96400000000001, 27.146, 22.1, 12.79, 35.14666666666667, 20.76, 17.512631578947367, 14.582727272727272, 20.79359375], \"yaxis\": \"y\", \"type\": \"bar\"}, {\"alignmentgroup\": \"True\", \"hovertemplate\": \"direction=down<br>Local Time (GMT+8)=13<br>floor=%{x}<br>avgWait_weekend=%{y}<extra></extra>\", \"legendgroup\": \"down\", \"marker\": {\"color\": \"#EF553B\"}, \"name\": \"down\", \"offsetgroup\": \"down\", \"orientation\": \"v\", \"showlegend\": true, \"textposition\": \"auto\", \"x\": [\"1\", \"2\", \"3\", \"4\", \"5\", \"6\", \"7\", \"8\", \"9\", \"10\", \"11\", \"12\", \"13\", \"14\", \"15\", \"B1\", \"B3\"], \"xaxis\": \"x2\", \"y\": [26.875172413793106, 23.543000000000003, 34.94166666666666, 20.786315789473683, 39.51966666666667, 14.945102040816323, 15.413, 15.134848484848487, 16.796216216216212, 12.494615384615386, 15.573055555555555, 19.896428571428565, 23.51268292682927, 45.27770833333333, 53.382, 12.721428571428573, 40.46833333333333], \"yaxis\": \"y2\", \"type\": \"bar\"}], \"name\": \"13\"}, {\"data\": [{\"alignmentgroup\": \"True\", \"hovertemplate\": \"direction=up<br>Local Time (GMT+8)=14<br>floor=%{x}<br>avgWait_weekend=%{y}<extra></extra>\", \"legendgroup\": \"up\", \"marker\": {\"color\": \"#636efa\"}, \"name\": \"up\", \"offsetgroup\": \"up\", \"orientation\": \"v\", \"showlegend\": true, \"textposition\": \"auto\", \"x\": [\"1\", \"2\", \"3\", \"4\", \"5\", \"6\", \"7\", \"8\", \"9\", \"10\", \"11\", \"12\", \"13\", \"14\", \"B1\", \"B3\", \"B4\"], \"xaxis\": \"x\", \"y\": [9.164736842105263, 8.205348837209302, 7.621935483870969, 9.683714285714283, 8.45857142857143, 50.45333333333333, 35.870909090909095, 5.785, 28.93666666666667, 8.0, 32.33714285714286, 50.87666666666666, 13.415, 79.95750000000002, 11.67884210526316, 13.974358974358973, 30.825573770491804], \"yaxis\": \"y\", \"type\": \"bar\"}, {\"alignmentgroup\": \"True\", \"hovertemplate\": \"direction=down<br>Local Time (GMT+8)=14<br>floor=%{x}<br>avgWait_weekend=%{y}<extra></extra>\", \"legendgroup\": \"down\", \"marker\": {\"color\": \"#EF553B\"}, \"name\": \"down\", \"offsetgroup\": \"down\", \"orientation\": \"v\", \"showlegend\": true, \"textposition\": \"auto\", \"x\": [\"1\", \"2\", \"3\", \"4\", \"5\", \"6\", \"7\", \"8\", \"9\", \"10\", \"11\", \"12\", \"13\", \"14\", \"15\", \"B1\", \"B3\"], \"xaxis\": \"x2\", \"y\": [7.974137931034483, 49.045625, 53.51757575757576, 30.05966666666667, 47.64266666666666, 16.0098, 21.3975, 11.08843137254902, 12.885121951219512, 12.373529411764705, 10.841428571428573, 23.482352941176465, 21.109166666666667, 45.8425, 47.72717391304347, 20.480588235294114, 16.7375], \"yaxis\": \"y2\", \"type\": \"bar\"}], \"name\": \"14\"}, {\"data\": [{\"alignmentgroup\": \"True\", \"hovertemplate\": \"direction=up<br>Local Time (GMT+8)=15<br>floor=%{x}<br>avgWait_weekend=%{y}<extra></extra>\", \"legendgroup\": \"up\", \"marker\": {\"color\": \"#636efa\"}, \"name\": \"up\", \"offsetgroup\": \"up\", \"orientation\": \"v\", \"showlegend\": true, \"textposition\": \"auto\", \"x\": [\"1\", \"2\", \"3\", \"4\", \"5\", \"6\", \"7\", \"8\", \"9\", \"10\", \"11\", \"12\", \"13\", \"14\", \"B1\", \"B3\", \"B4\"], \"xaxis\": \"x\", \"y\": [14.0507, 9.713333333333333, 10.012285714285717, 11.578510638297873, 8.3012, 63.65321428571429, 53.28842105263158, 28.93166666666667, 16.0, 62.941111111111105, 8.355, 27.35333333333333, 21.616666666666664, 34.076, 15.867951807228913, 13.031199999999998, 28.439038461538463], \"yaxis\": \"y\", \"type\": \"bar\"}, {\"alignmentgroup\": \"True\", \"hovertemplate\": \"direction=down<br>Local Time (GMT+8)=15<br>floor=%{x}<br>avgWait_weekend=%{y}<extra></extra>\", \"legendgroup\": \"down\", \"marker\": {\"color\": \"#EF553B\"}, \"name\": \"down\", \"offsetgroup\": \"down\", \"orientation\": \"v\", \"showlegend\": true, \"textposition\": \"auto\", \"x\": [\"1\", \"2\", \"3\", \"4\", \"5\", \"6\", \"7\", \"8\", \"9\", \"10\", \"11\", \"12\", \"13\", \"14\", \"15\", \"B1\", \"B3\"], \"xaxis\": \"x2\", \"y\": [20.536944444444444, 16.391363636363636, 32.446999999999996, 26.250384615384608, 49.16208333333333, 14.404285714285713, 10.297, 13.5058, 10.873684210526315, 10.490588235294117, 19.090526315789475, 22.365, 35.75058823529412, 47.8842, 78.422, 13.832142857142856, 23.8075], \"yaxis\": \"y2\", \"type\": \"bar\"}], \"name\": \"15\"}, {\"data\": [{\"alignmentgroup\": \"True\", \"hovertemplate\": \"direction=up<br>Local Time (GMT+8)=16<br>floor=%{x}<br>avgWait_weekend=%{y}<extra></extra>\", \"legendgroup\": \"up\", \"marker\": {\"color\": \"#636efa\"}, \"name\": \"up\", \"offsetgroup\": \"up\", \"orientation\": \"v\", \"showlegend\": true, \"textposition\": \"auto\", \"x\": [\"1\", \"2\", \"3\", \"4\", \"5\", \"6\", \"7\", \"8\", \"9\", \"10\", \"11\", \"12\", \"13\", \"14\", \"B1\", \"B3\", \"B4\"], \"xaxis\": \"x\", \"y\": [14.862407407407408, 11.037826086956523, 11.239024390243902, 13.927234042553193, 10.917931034482761, 56.369285714285716, 40.97166666666666, 29.8775, 137.52, 67.7, 197.02, 33.61, 32.94, 51.12, 14.690380952380952, 12.567741935483873, 22.418750000000006], \"yaxis\": \"y\", \"type\": \"bar\"}, {\"alignmentgroup\": \"True\", \"hovertemplate\": \"direction=down<br>Local Time (GMT+8)=16<br>floor=%{x}<br>avgWait_weekend=%{y}<extra></extra>\", \"legendgroup\": \"down\", \"marker\": {\"color\": \"#EF553B\"}, \"name\": \"down\", \"offsetgroup\": \"down\", \"orientation\": \"v\", \"showlegend\": true, \"textposition\": \"auto\", \"x\": [\"1\", \"2\", \"3\", \"4\", \"5\", \"6\", \"7\", \"8\", \"9\", \"10\", \"11\", \"12\", \"13\", \"14\", \"15\", \"B1\", \"B3\"], \"xaxis\": \"x2\", \"y\": [16.18885714285714, 20.52842105263158, 27.73333333333333, 34.06076923076923, 36.66914285714286, 14.61283582089552, 11.298039215686275, 14.142758620689655, 14.011818181818182, 15.909523809523812, 17.94170731707317, 18.3, 29.0286, 43.26137931034482, 63.62877192982456, 25.404736842105258, 17.25], \"yaxis\": \"y2\", \"type\": \"bar\"}], \"name\": \"16\"}, {\"data\": [{\"alignmentgroup\": \"True\", \"hovertemplate\": \"direction=up<br>Local Time (GMT+8)=17<br>floor=%{x}<br>avgWait_weekend=%{y}<extra></extra>\", \"legendgroup\": \"up\", \"marker\": {\"color\": \"#636efa\"}, \"name\": \"up\", \"offsetgroup\": \"up\", \"orientation\": \"v\", \"showlegend\": true, \"textposition\": \"auto\", \"x\": [\"1\", \"2\", \"3\", \"4\", \"5\", \"6\", \"7\", \"8\", \"9\", \"10\", \"11\", \"12\", \"13\", \"14\", \"B1\", \"B3\", \"B4\"], \"xaxis\": \"x\", \"y\": [14.5425, 13.650588235294116, 11.345, 10.324634146341463, 13.734285714285715, 29.93285714285714, 24.48875, 32.306666666666665, 54.945, 20.005, 34.722, 39.73, 99.165, 22.27, 16.777076923076926, 19.1012, 21.672666666666668], \"yaxis\": \"y\", \"type\": \"bar\"}, {\"alignmentgroup\": \"True\", \"hovertemplate\": \"direction=down<br>Local Time (GMT+8)=17<br>floor=%{x}<br>avgWait_weekend=%{y}<extra></extra>\", \"legendgroup\": \"down\", \"marker\": {\"color\": \"#EF553B\"}, \"name\": \"down\", \"offsetgroup\": \"down\", \"orientation\": \"v\", \"showlegend\": true, \"textposition\": \"auto\", \"x\": [\"1\", \"2\", \"3\", \"4\", \"5\", \"6\", \"7\", \"8\", \"9\", \"10\", \"11\", \"12\", \"13\", \"14\", \"15\", \"B1\", \"B3\"], \"xaxis\": \"x2\", \"y\": [24.63447368421053, 31.306666666666665, 25.21588235294118, 32.493125, 33.105999999999995, 12.6192, 12.837428571428571, 10.55377358490566, 17.287321428571428, 7.989999999999998, 16.303620689655173, 15.954285714285716, 22.66444444444444, 41.8475, 52.19745098039216, 17.685, 19.534000000000002], \"yaxis\": \"y2\", \"type\": \"bar\"}], \"name\": \"17\"}, {\"data\": [{\"alignmentgroup\": \"True\", \"hovertemplate\": \"direction=up<br>Local Time (GMT+8)=18<br>floor=%{x}<br>avgWait_weekend=%{y}<extra></extra>\", \"legendgroup\": \"up\", \"marker\": {\"color\": \"#636efa\"}, \"name\": \"up\", \"offsetgroup\": \"up\", \"orientation\": \"v\", \"showlegend\": true, \"textposition\": \"auto\", \"x\": [\"1\", \"2\", \"3\", \"4\", \"5\", \"6\", \"7\", \"8\", \"9\", \"10\", \"11\", \"12\", \"13\", \"14\", \"B1\", \"B3\", \"B4\"], \"xaxis\": \"x\", \"y\": [12.512758620689654, 11.80409090909091, 15.145999999999995, 12.586363636363634, 14.4112, 42.83142857142857, 28.59, 49.614, 27.9025, 19.61571428571429, 40.355, 42.785, 16.6575, 38.185, 17.508492063492064, 16.658333333333335, 20.152222222222218], \"yaxis\": \"y\", \"type\": \"bar\"}, {\"alignmentgroup\": \"True\", \"hovertemplate\": \"direction=down<br>Local Time (GMT+8)=18<br>floor=%{x}<br>avgWait_weekend=%{y}<extra></extra>\", \"legendgroup\": \"down\", \"marker\": {\"color\": \"#EF553B\"}, \"name\": \"down\", \"offsetgroup\": \"down\", \"orientation\": \"v\", \"showlegend\": true, \"textposition\": \"auto\", \"x\": [\"1\", \"2\", \"3\", \"4\", \"5\", \"6\", \"7\", \"8\", \"9\", \"10\", \"11\", \"12\", \"13\", \"14\", \"15\", \"B1\"], \"xaxis\": \"x2\", \"y\": [24.48409090909091, 14.724285714285712, 32.24944444444444, 32.35894736842105, 24.89058823529412, 15.514237288135593, 13.50732142857143, 15.342400000000005, 17.441904761904762, 12.946666666666667, 15.149736842105265, 16.041730769230767, 19.916410256410252, 31.700344827586203, 42.013055555555546, 18.28125], \"yaxis\": \"y2\", \"type\": \"bar\"}], \"name\": \"18\"}, {\"data\": [{\"alignmentgroup\": \"True\", \"hovertemplate\": \"direction=up<br>Local Time (GMT+8)=19<br>floor=%{x}<br>avgWait_weekend=%{y}<extra></extra>\", \"legendgroup\": \"up\", \"marker\": {\"color\": \"#636efa\"}, \"name\": \"up\", \"offsetgroup\": \"up\", \"orientation\": \"v\", \"showlegend\": true, \"textposition\": \"auto\", \"x\": [\"1\", \"2\", \"3\", \"4\", \"5\", \"6\", \"7\", \"8\", \"9\", \"10\", \"12\", \"13\", \"B1\", \"B3\", \"B4\"], \"xaxis\": \"x\", \"y\": [10.702075471698114, 14.28181818181818, 12.85888888888889, 17.397058823529413, 21.70333333333333, 18.42875, 23.65571428571429, 1.46, 22.185714285714287, 12.795, 43.06, 28.72, 11.1901, 12.363333333333333, 10.129375], \"yaxis\": \"y\", \"type\": \"bar\"}, {\"alignmentgroup\": \"True\", \"hovertemplate\": \"direction=down<br>Local Time (GMT+8)=19<br>floor=%{x}<br>avgWait_weekend=%{y}<extra></extra>\", \"legendgroup\": \"down\", \"marker\": {\"color\": \"#EF553B\"}, \"name\": \"down\", \"offsetgroup\": \"down\", \"orientation\": \"v\", \"showlegend\": true, \"textposition\": \"auto\", \"x\": [\"1\", \"2\", \"3\", \"4\", \"5\", \"6\", \"7\", \"8\", \"9\", \"10\", \"11\", \"12\", \"13\", \"14\", \"15\", \"B1\"], \"xaxis\": \"x2\", \"y\": [15.353809523809526, 15.98, 17.557142857142857, 13.195714285714288, 21.0156, 11.966176470588234, 17.07227272727273, 12.9225, 15.282, 29.0725, 21.387222222222217, 19.529259259259263, 20.085476190476196, 29.426, 25.04777777777777, 13.68], \"yaxis\": \"y2\", \"type\": \"bar\"}], \"name\": \"19\"}, {\"data\": [{\"alignmentgroup\": \"True\", \"hovertemplate\": \"direction=up<br>Local Time (GMT+8)=20<br>floor=%{x}<br>avgWait_weekend=%{y}<extra></extra>\", \"legendgroup\": \"up\", \"marker\": {\"color\": \"#636efa\"}, \"name\": \"up\", \"offsetgroup\": \"up\", \"orientation\": \"v\", \"showlegend\": true, \"textposition\": \"auto\", \"x\": [\"1\", \"2\", \"3\", \"4\", \"5\", \"6\", \"7\", \"8\", \"13\", \"14\", \"B1\", \"B3\", \"B4\"], \"xaxis\": \"x\", \"y\": [13.347073170731706, 8.955, 9.3625, 19.877692307692307, 12.87142857142857, 22.858, 9.3, 9.68, 17.97, 1.54, 11.717457627118645, 12.779166666666667, 8.113888888888889], \"yaxis\": \"y\", \"type\": \"bar\"}, {\"alignmentgroup\": \"True\", \"hovertemplate\": \"direction=down<br>Local Time (GMT+8)=20<br>floor=%{x}<br>avgWait_weekend=%{y}<extra></extra>\", \"legendgroup\": \"down\", \"marker\": {\"color\": \"#EF553B\"}, \"name\": \"down\", \"offsetgroup\": \"down\", \"orientation\": \"v\", \"showlegend\": true, \"textposition\": \"auto\", \"x\": [\"1\", \"3\", \"4\", \"5\", \"6\", \"7\", \"8\", \"9\", \"10\", \"11\", \"12\", \"13\", \"14\", \"15\", \"B1\"], \"xaxis\": \"x2\", \"y\": [8.338888888888889, 22.795, 25.612352941176468, 15.175000000000002, 12.08793103448276, 14.719333333333333, 13.61714285714286, 16.359285714285715, 8.5275, 16.756, 21.249230769230767, 18.38421052631579, 16.387692307692312, 21.963529411764707, 8.278571428571428], \"yaxis\": \"y2\", \"type\": \"bar\"}], \"name\": \"20\"}, {\"data\": [{\"alignmentgroup\": \"True\", \"hovertemplate\": \"direction=up<br>Local Time (GMT+8)=21<br>floor=%{x}<br>avgWait_weekend=%{y}<extra></extra>\", \"legendgroup\": \"up\", \"marker\": {\"color\": \"#636efa\"}, \"name\": \"up\", \"offsetgroup\": \"up\", \"orientation\": \"v\", \"showlegend\": true, \"textposition\": \"auto\", \"x\": [\"1\", \"2\", \"3\", \"4\", \"5\", \"6\", \"7\", \"9\", \"10\", \"14\", \"B1\", \"B3\", \"B4\"], \"xaxis\": \"x\", \"y\": [11.841818181818182, 8.2, 17.405, 15.8975, 18.481111111111108, 11.36, 5.755, 8.03, 12.333333333333336, 20.08, 10.52981818181818, 6.1000000000000005, 5.284], \"yaxis\": \"y\", \"type\": \"bar\"}, {\"alignmentgroup\": \"True\", \"hovertemplate\": \"direction=down<br>Local Time (GMT+8)=21<br>floor=%{x}<br>avgWait_weekend=%{y}<extra></extra>\", \"legendgroup\": \"down\", \"marker\": {\"color\": \"#EF553B\"}, \"name\": \"down\", \"offsetgroup\": \"down\", \"orientation\": \"v\", \"showlegend\": true, \"textposition\": \"auto\", \"x\": [\"1\", \"2\", \"3\", \"4\", \"5\", \"6\", \"7\", \"8\", \"9\", \"10\", \"11\", \"12\", \"13\", \"14\", \"15\", \"B1\"], \"xaxis\": \"x2\", \"y\": [9.001666666666667, 13.565, 11.331666666666667, 13.285454545454545, 18.867333333333328, 13.724166666666667, 11.295, 11.867692307692305, 17.280833333333334, 14.512, 20.64928571428572, 23.430000000000003, 14.490666666666668, 22.30909090909091, 38.34875, 15.68], \"yaxis\": \"y2\", \"type\": \"bar\"}], \"name\": \"21\"}, {\"data\": [{\"alignmentgroup\": \"True\", \"hovertemplate\": \"direction=up<br>Local Time (GMT+8)=22<br>floor=%{x}<br>avgWait_weekend=%{y}<extra></extra>\", \"legendgroup\": \"up\", \"marker\": {\"color\": \"#636efa\"}, \"name\": \"up\", \"offsetgroup\": \"up\", \"orientation\": \"v\", \"showlegend\": true, \"textposition\": \"auto\", \"x\": [\"1\", \"2\", \"3\", \"4\", \"5\", \"6\", \"7\", \"8\", \"B1\", \"B3\", \"B4\"], \"xaxis\": \"x\", \"y\": [9.648979591836737, 9.57, 20.455, 8.82, 23.455, 11.568, 15.79, 1.61, 12.271875, 7.915, 9.15], \"yaxis\": \"y\", \"type\": \"bar\"}, {\"alignmentgroup\": \"True\", \"hovertemplate\": \"direction=down<br>Local Time (GMT+8)=22<br>floor=%{x}<br>avgWait_weekend=%{y}<extra></extra>\", \"legendgroup\": \"down\", \"marker\": {\"color\": \"#EF553B\"}, \"name\": \"down\", \"offsetgroup\": \"down\", \"orientation\": \"v\", \"showlegend\": true, \"textposition\": \"auto\", \"x\": [\"1\", \"3\", \"4\", \"5\", \"6\", \"7\", \"8\", \"9\", \"10\", \"11\", \"12\", \"13\", \"14\", \"15\", \"B1\"], \"xaxis\": \"x2\", \"y\": [5.687777777777778, 13.288333333333332, 9.95, 13.448333333333332, 12.117727272727272, 13.473333333333334, 18.582222222222224, 16.791428571428572, 11.18421052631579, 14.404285714285715, 9.86125, 19.58, 24.316666666666666, 23.35, 22.596], \"yaxis\": \"y2\", \"type\": \"bar\"}], \"name\": \"22\"}, {\"data\": [{\"alignmentgroup\": \"True\", \"hovertemplate\": \"direction=up<br>Local Time (GMT+8)=23<br>floor=%{x}<br>avgWait_weekend=%{y}<extra></extra>\", \"legendgroup\": \"up\", \"marker\": {\"color\": \"#636efa\"}, \"name\": \"up\", \"offsetgroup\": \"up\", \"orientation\": \"v\", \"showlegend\": true, \"textposition\": \"auto\", \"x\": [\"1\", \"2\", \"3\", \"4\", \"5\", \"6\", \"14\", \"B1\", \"B4\"], \"xaxis\": \"x\", \"y\": [6.954705882352941, 8.01, 14.515, 20.1, 12.626666666666667, 12.962307692307695, 7.84, 10.417857142857144, 14.086153846153849], \"yaxis\": \"y\", \"type\": \"bar\"}, {\"alignmentgroup\": \"True\", \"hovertemplate\": \"direction=down<br>Local Time (GMT+8)=23<br>floor=%{x}<br>avgWait_weekend=%{y}<extra></extra>\", \"legendgroup\": \"down\", \"marker\": {\"color\": \"#EF553B\"}, \"name\": \"down\", \"offsetgroup\": \"down\", \"orientation\": \"v\", \"showlegend\": true, \"textposition\": \"auto\", \"x\": [\"1\", \"4\", \"5\", \"6\", \"7\", \"8\", \"9\", \"10\", \"11\", \"12\", \"13\", \"14\", \"15\", \"B1\"], \"xaxis\": \"x2\", \"y\": [13.0575, 11.862222222222224, 18.31, 13.21, 17.225, 12.345, 2.82, 17.535714285714285, 12.466666666666667, 7.885, 12.048, 10.69, 22.78, 12.823333333333332], \"yaxis\": \"y2\", \"type\": \"bar\"}], \"name\": \"23\"}, {\"data\": [{\"alignmentgroup\": \"True\", \"hovertemplate\": \"direction=up<br>Local Time (GMT+8)=4<br>floor=%{x}<br>avgWait_weekend=%{y}<extra></extra>\", \"legendgroup\": \"up\", \"marker\": {\"color\": \"#636efa\"}, \"name\": \"up\", \"offsetgroup\": \"up\", \"orientation\": \"v\", \"showlegend\": true, \"textposition\": \"auto\", \"x\": [\"4\", \"5\", \"7\", \"B1\", \"B3\", \"B4\"], \"xaxis\": \"x\", \"y\": [0.97, 13.633333333333335, 15.125, 12.96, 10.9025, 1.26], \"yaxis\": \"y\", \"type\": \"bar\"}, {\"alignmentgroup\": \"True\", \"hovertemplate\": \"direction=down<br>Local Time (GMT+8)=4<br>floor=%{x}<br>avgWait_weekend=%{y}<extra></extra>\", \"legendgroup\": \"down\", \"marker\": {\"color\": \"#EF553B\"}, \"name\": \"down\", \"offsetgroup\": \"down\", \"orientation\": \"v\", \"showlegend\": true, \"textposition\": \"auto\", \"x\": [\"3\", \"5\", \"7\", \"15\"], \"xaxis\": \"x2\", \"y\": [16.65, 16.52, 21.585, 1.39], \"yaxis\": \"y2\", \"type\": \"bar\"}], \"name\": \"4\"}]);\n",
       "                        }).then(function(){\n",
       "                            \n",
       "var gd = document.getElementById('6071d3cc-10ba-43e6-8c98-7ca6aae48a03');\n",
       "var x = new MutationObserver(function (mutations, observer) {{\n",
       "        var display = window.getComputedStyle(gd).display;\n",
       "        if (!display || display === 'none') {{\n",
       "            console.log([gd, 'removed!']);\n",
       "            Plotly.purge(gd);\n",
       "            observer.disconnect();\n",
       "        }}\n",
       "}});\n",
       "\n",
       "// Listen for the removal of the full notebook cells\n",
       "var notebookContainer = gd.closest('#notebook-container');\n",
       "if (notebookContainer) {{\n",
       "    x.observe(notebookContainer, {childList: true});\n",
       "}}\n",
       "\n",
       "// Listen for the clearing of the current output cell\n",
       "var outputEl = gd.closest('.output');\n",
       "if (outputEl) {{\n",
       "    x.observe(outputEl, {childList: true});\n",
       "}}\n",
       "\n",
       "                        })\n",
       "                };\n",
       "                });\n",
       "            </script>\n",
       "        </div>"
      ]
     },
     "metadata": {},
     "output_type": "display_data"
    }
   ],
   "source": [
    "# floor_list = ['B4','B3', 'B2','B1','01', '02', '03', '04', '05', '06', '07', '08', '09', '10', '11','12', '13', '14', '15']\n",
    "\n",
    "df_s_weekend.floor.unique()\n",
    "\n",
    "fig = px.bar(data_frame=df_s_weekend, \n",
    "             \n",
    "             ## 這裡的data frame都先用 R aggregate過了，以節省運算時間\n",
    "             x = \"floor\", y = \"avgWait_weekend\",\n",
    "             \n",
    "             ## 以方向分兩張圖，並上色\n",
    "             facet_col=\"direction\",color=\"direction\",\n",
    "             \n",
    "             ## 自動生成slider\n",
    "             animation_frame=\"hour\",\n",
    "             \n",
    "             \n",
    "             labels={\"count\":\"avgWait_weekend\",\n",
    "                     \"hour\":\"Local Time (GMT+8)\"})\n",
    "\n",
    "# X axis\n",
    "fig.update_xaxes(nticks=len(floor_name), ##指定breaks的數量\n",
    "                 \n",
    "                 ## 手動將X的類別排序\n",
    "                 type=\"category\",\n",
    "                 categoryarray=floor_name)\n",
    "\n",
    "# Y axis\n",
    "fig.update_yaxes(range=[0, 300])\n",
    "\n",
    "# Layout\n",
    "fig.update_layout(title_text='Average waiting time of Elevator Calls by Floor on weekend')\n",
    "\n",
    "fig.show()"
   ]
  },
  {
   "cell_type": "code",
   "execution_count": 25,
   "metadata": {},
   "outputs": [
    {
     "data": {
      "application/vnd.plotly.v1+json": {
       "config": {
        "plotlyServerURL": "https://plot.ly"
       },
       "data": [
        {
         "alignmentgroup": "True",
         "hovertemplate": "direction=down<br>floor=1<br>Local Time (GMT+8)=%{x}<br>avgWait_weekday=%{y}<extra></extra>",
         "legendgroup": "down",
         "marker": {
          "color": "#636efa"
         },
         "name": "down",
         "offsetgroup": "down",
         "orientation": "v",
         "showlegend": true,
         "textposition": "auto",
         "type": "bar",
         "x": [
          0,
          1,
          2,
          3,
          4,
          5,
          6,
          7,
          8,
          9,
          10,
          11,
          12,
          13,
          14,
          15,
          16,
          17,
          18,
          19,
          20,
          21,
          22,
          23
         ],
         "xaxis": "x",
         "y": [
          8.03,
          8.425,
          9.365,
          19.943333333333328,
          0.67,
          25.10833333333333,
          24.0622077922078,
          33.544444444444444,
          30.017647058823535,
          18.440099009900987,
          22.38050505050505,
          16.186874999999993,
          26.69333333333333,
          24.9458,
          24.87350877192982,
          25.07018348623853,
          20.94330188679245,
          22.04549180327869,
          16.542741935483868,
          14.9778,
          12.755555555555556,
          7.246,
          10.585238095238095,
          7.184
         ],
         "yaxis": "y"
        },
        {
         "alignmentgroup": "True",
         "hovertemplate": "direction=up<br>floor=1<br>Local Time (GMT+8)=%{x}<br>avgWait_weekday=%{y}<extra></extra>",
         "legendgroup": "up",
         "marker": {
          "color": "#EF553B"
         },
         "name": "up",
         "offsetgroup": "up",
         "orientation": "v",
         "showlegend": true,
         "textposition": "auto",
         "type": "bar",
         "x": [
          0,
          1,
          2,
          3,
          4,
          5,
          6,
          7,
          8,
          9,
          10,
          11,
          12,
          13,
          14,
          15,
          16,
          17,
          18,
          19,
          20,
          21,
          22,
          23
         ],
         "xaxis": "x2",
         "y": [
          3.78375,
          11.136,
          10.36,
          15.75,
          8.65,
          16.08909090909091,
          16.920881542699725,
          13.093651685393256,
          12.0787899543379,
          13.388571428571426,
          13.70707395498392,
          11.20741134751773,
          12.531948424068771,
          12.30185507246377,
          14.298044871794872,
          13.244548494983276,
          13.46622950819672,
          14.24584980237154,
          15.249947089947089,
          12.243076923076925,
          11.075999999999999,
          9.712916666666667,
          9.361983471074382,
          12.376666666666667
         ],
         "yaxis": "y2"
        }
       ],
       "frames": [
        {
         "data": [
          {
           "alignmentgroup": "True",
           "hovertemplate": "direction=down<br>floor=1<br>Local Time (GMT+8)=%{x}<br>avgWait_weekday=%{y}<extra></extra>",
           "legendgroup": "down",
           "marker": {
            "color": "#636efa"
           },
           "name": "down",
           "offsetgroup": "down",
           "orientation": "v",
           "showlegend": true,
           "textposition": "auto",
           "type": "bar",
           "x": [
            0,
            1,
            2,
            3,
            4,
            5,
            6,
            7,
            8,
            9,
            10,
            11,
            12,
            13,
            14,
            15,
            16,
            17,
            18,
            19,
            20,
            21,
            22,
            23
           ],
           "xaxis": "x",
           "y": [
            8.03,
            8.425,
            9.365,
            19.943333333333328,
            0.67,
            25.10833333333333,
            24.0622077922078,
            33.544444444444444,
            30.017647058823535,
            18.440099009900987,
            22.38050505050505,
            16.186874999999993,
            26.69333333333333,
            24.9458,
            24.87350877192982,
            25.07018348623853,
            20.94330188679245,
            22.04549180327869,
            16.542741935483868,
            14.9778,
            12.755555555555556,
            7.246,
            10.585238095238095,
            7.184
           ],
           "yaxis": "y"
          },
          {
           "alignmentgroup": "True",
           "hovertemplate": "direction=up<br>floor=1<br>Local Time (GMT+8)=%{x}<br>avgWait_weekday=%{y}<extra></extra>",
           "legendgroup": "up",
           "marker": {
            "color": "#EF553B"
           },
           "name": "up",
           "offsetgroup": "up",
           "orientation": "v",
           "showlegend": true,
           "textposition": "auto",
           "type": "bar",
           "x": [
            0,
            1,
            2,
            3,
            4,
            5,
            6,
            7,
            8,
            9,
            10,
            11,
            12,
            13,
            14,
            15,
            16,
            17,
            18,
            19,
            20,
            21,
            22,
            23
           ],
           "xaxis": "x2",
           "y": [
            3.78375,
            11.136,
            10.36,
            15.75,
            8.65,
            16.08909090909091,
            16.920881542699725,
            13.093651685393256,
            12.0787899543379,
            13.388571428571426,
            13.70707395498392,
            11.20741134751773,
            12.531948424068771,
            12.30185507246377,
            14.298044871794872,
            13.244548494983276,
            13.46622950819672,
            14.24584980237154,
            15.249947089947089,
            12.243076923076925,
            11.075999999999999,
            9.712916666666667,
            9.361983471074382,
            12.376666666666667
           ],
           "yaxis": "y2"
          }
         ],
         "name": "1"
        },
        {
         "data": [
          {
           "alignmentgroup": "True",
           "hovertemplate": "direction=down<br>floor=2<br>Local Time (GMT+8)=%{x}<br>avgWait_weekday=%{y}<extra></extra>",
           "legendgroup": "down",
           "marker": {
            "color": "#636efa"
           },
           "name": "down",
           "offsetgroup": "down",
           "orientation": "v",
           "showlegend": true,
           "textposition": "auto",
           "type": "bar",
           "x": [
            1,
            6,
            7,
            8,
            9,
            10,
            11,
            12,
            13,
            14,
            15,
            16,
            17,
            18,
            19,
            20,
            21,
            22,
            23
           ],
           "xaxis": "x",
           "y": [
            1.24,
            11.63,
            36.74321428571428,
            35.01154929577465,
            28.764675324675327,
            37.01015625,
            24.17361111111111,
            30.095,
            35.291585365853656,
            29.43313253012048,
            25.493595505617986,
            26.157341772151906,
            18.3768253968254,
            23.60795918367347,
            21.28529411764705,
            12.496363636363638,
            17.56,
            17.93,
            17.65
           ],
           "yaxis": "y"
          },
          {
           "alignmentgroup": "True",
           "hovertemplate": "direction=up<br>floor=2<br>Local Time (GMT+8)=%{x}<br>avgWait_weekday=%{y}<extra></extra>",
           "legendgroup": "up",
           "marker": {
            "color": "#EF553B"
           },
           "name": "up",
           "offsetgroup": "up",
           "orientation": "v",
           "showlegend": true,
           "textposition": "auto",
           "type": "bar",
           "x": [
            0,
            4,
            6,
            7,
            8,
            9,
            10,
            11,
            12,
            13,
            14,
            15,
            16,
            17,
            18,
            19,
            20,
            21,
            22,
            23
           ],
           "xaxis": "x2",
           "y": [
            17.56,
            16.23,
            15.592,
            10.393766233766234,
            9.845343511450382,
            15.068928571428568,
            9.086277372262774,
            10.625308641975307,
            9.719496855345913,
            9.67736842105263,
            9.962236842105263,
            10.565414012738854,
            9.040130718954249,
            10.687218045112779,
            11.778194444444445,
            14.951,
            11.019230769230768,
            11.052,
            19.81,
            0.92
           ],
           "yaxis": "y2"
          }
         ],
         "name": "2"
        },
        {
         "data": [
          {
           "alignmentgroup": "True",
           "hovertemplate": "direction=down<br>floor=3<br>Local Time (GMT+8)=%{x}<br>avgWait_weekday=%{y}<extra></extra>",
           "legendgroup": "down",
           "marker": {
            "color": "#636efa"
           },
           "name": "down",
           "offsetgroup": "down",
           "orientation": "v",
           "showlegend": true,
           "textposition": "auto",
           "type": "bar",
           "x": [
            0,
            1,
            2,
            3,
            4,
            5,
            6,
            7,
            8,
            9,
            10,
            11,
            12,
            13,
            14,
            15,
            16,
            17,
            18,
            19,
            20,
            21,
            22,
            23
           ],
           "xaxis": "x",
           "y": [
            19.435,
            9.195,
            15.795999999999998,
            18.53,
            1.59,
            19.185,
            24.36666666666667,
            29.16791666666667,
            37.08492063492064,
            34.77699029126214,
            27.345057471264372,
            27.17586466165414,
            33.076153846153844,
            43.14269230769231,
            34.79205607476636,
            29.85433628318584,
            29.853188405797106,
            31.92855670103093,
            22.90538461538461,
            19.352285714285713,
            13.575517241379313,
            14.822142857142856,
            16.63444444444444,
            18.75
           ],
           "yaxis": "y"
          },
          {
           "alignmentgroup": "True",
           "hovertemplate": "direction=up<br>floor=3<br>Local Time (GMT+8)=%{x}<br>avgWait_weekday=%{y}<extra></extra>",
           "legendgroup": "up",
           "marker": {
            "color": "#EF553B"
           },
           "name": "up",
           "offsetgroup": "up",
           "orientation": "v",
           "showlegend": true,
           "textposition": "auto",
           "type": "bar",
           "x": [
            0,
            1,
            2,
            3,
            4,
            6,
            7,
            8,
            9,
            10,
            11,
            12,
            13,
            14,
            15,
            16,
            17,
            18,
            19,
            20,
            21,
            22,
            23
           ],
           "xaxis": "x2",
           "y": [
            14.225882352941177,
            15.046666666666667,
            10.446666666666664,
            19.05,
            9.275,
            8.01,
            9.027333333333333,
            7.637755102040817,
            10.831728395061727,
            10.271566265060242,
            8.814210526315788,
            7.915147058823528,
            10.330561797752807,
            9.455461538461538,
            11.30528,
            9.854083333333334,
            12.0923595505618,
            10.017567567567568,
            14.84,
            13.214444444444444,
            11.881818181818181,
            8.68,
            12.398333333333332
           ],
           "yaxis": "y2"
          }
         ],
         "name": "3"
        },
        {
         "data": [
          {
           "alignmentgroup": "True",
           "hovertemplate": "direction=down<br>floor=4<br>Local Time (GMT+8)=%{x}<br>avgWait_weekday=%{y}<extra></extra>",
           "legendgroup": "down",
           "marker": {
            "color": "#636efa"
           },
           "name": "down",
           "offsetgroup": "down",
           "orientation": "v",
           "showlegend": true,
           "textposition": "auto",
           "type": "bar",
           "x": [
            0,
            1,
            2,
            4,
            5,
            6,
            7,
            8,
            9,
            10,
            11,
            12,
            13,
            14,
            15,
            16,
            17,
            18,
            19,
            20,
            21,
            22,
            23
           ],
           "xaxis": "x",
           "y": [
            14.218,
            13.628,
            1.6,
            1.48,
            17.965,
            29.2575,
            28.6555,
            40.471111111111114,
            32.21,
            49.31260869565217,
            35.90232876712329,
            24.990701754385967,
            39.21245901639345,
            52.843999999999994,
            44.42030000000001,
            35.33483870967742,
            26.321263157894734,
            30.79460317460317,
            19.04875,
            16.865666666666666,
            19.4048,
            19.437419354838703,
            13.6625
           ],
           "yaxis": "y"
          },
          {
           "alignmentgroup": "True",
           "hovertemplate": "direction=up<br>floor=4<br>Local Time (GMT+8)=%{x}<br>avgWait_weekday=%{y}<extra></extra>",
           "legendgroup": "up",
           "marker": {
            "color": "#EF553B"
           },
           "name": "up",
           "offsetgroup": "up",
           "orientation": "v",
           "showlegend": true,
           "textposition": "auto",
           "type": "bar",
           "x": [
            0,
            1,
            2,
            3,
            4,
            5,
            6,
            7,
            8,
            9,
            10,
            11,
            12,
            13,
            14,
            15,
            16,
            17,
            18,
            19,
            20,
            21,
            22,
            23
           ],
           "xaxis": "x2",
           "y": [
            14.673666666666666,
            14.339166666666667,
            13.96,
            17.5,
            18.7,
            16.78,
            15.766818181818184,
            10.303809523809523,
            9.807317073170733,
            9.114137931034485,
            9.694130434782608,
            10.394096385542168,
            9.125754716981133,
            8.7271,
            11.327542372881355,
            9.75609022556391,
            11.835,
            10.73032,
            17.817777777777778,
            16.410117647058822,
            16.735833333333332,
            14.150869565217393,
            12.682916666666666,
            11.448571428571427
           ],
           "yaxis": "y2"
          }
         ],
         "name": "4"
        },
        {
         "data": [
          {
           "alignmentgroup": "True",
           "hovertemplate": "direction=down<br>floor=5<br>Local Time (GMT+8)=%{x}<br>avgWait_weekday=%{y}<extra></extra>",
           "legendgroup": "down",
           "marker": {
            "color": "#636efa"
           },
           "name": "down",
           "offsetgroup": "down",
           "orientation": "v",
           "showlegend": true,
           "textposition": "auto",
           "type": "bar",
           "x": [
            0,
            1,
            2,
            3,
            4,
            5,
            6,
            7,
            8,
            9,
            10,
            11,
            12,
            13,
            14,
            15,
            16,
            17,
            18,
            19,
            20,
            21,
            22,
            23
           ],
           "xaxis": "x",
           "y": [
            10.56625,
            10.86,
            10.61,
            17.959999999999994,
            15.97,
            29.4225,
            20.348000000000006,
            34.471,
            40.82443037974684,
            46.30752808988765,
            41.4441095890411,
            54.33087378640776,
            38.430917431192654,
            44.07285714285714,
            45.701410256410256,
            47.35247524752476,
            47.7856,
            46.56439393939394,
            33.256534653465344,
            26.498709677419356,
            16.945,
            12.99425,
            17.574444444444445,
            19.92875
           ],
           "yaxis": "y"
          },
          {
           "alignmentgroup": "True",
           "hovertemplate": "direction=up<br>floor=5<br>Local Time (GMT+8)=%{x}<br>avgWait_weekday=%{y}<extra></extra>",
           "legendgroup": "up",
           "marker": {
            "color": "#EF553B"
           },
           "name": "up",
           "offsetgroup": "up",
           "orientation": "v",
           "showlegend": true,
           "textposition": "auto",
           "type": "bar",
           "x": [
            0,
            1,
            2,
            3,
            4,
            5,
            6,
            7,
            8,
            9,
            10,
            11,
            12,
            13,
            14,
            15,
            16,
            17,
            18,
            19,
            20,
            21,
            22,
            23
           ],
           "xaxis": "x2",
           "y": [
            13.060588235294118,
            14.115,
            9.592222222222222,
            13.654285714285715,
            15.84666666666667,
            11.6575,
            13.244285714285715,
            10.4135,
            9.978,
            9.838285714285718,
            10.325833333333335,
            11.078316831683168,
            8.859634146341463,
            10.059102564102563,
            10.295963302752293,
            9.69009900990099,
            12.308659793814433,
            11.762911392405064,
            15.86862745098039,
            15.570232558139534,
            18.722500000000004,
            14.415384615384614,
            17.02235294117647,
            15.12
           ],
           "yaxis": "y2"
          }
         ],
         "name": "5"
        },
        {
         "data": [
          {
           "alignmentgroup": "True",
           "hovertemplate": "direction=down<br>floor=6<br>Local Time (GMT+8)=%{x}<br>avgWait_weekday=%{y}<extra></extra>",
           "legendgroup": "down",
           "marker": {
            "color": "#636efa"
           },
           "name": "down",
           "offsetgroup": "down",
           "orientation": "v",
           "showlegend": true,
           "textposition": "auto",
           "type": "bar",
           "x": [
            0,
            1,
            2,
            3,
            4,
            5,
            6,
            7,
            8,
            9,
            10,
            11,
            12,
            13,
            14,
            15,
            16,
            17,
            18,
            19,
            20,
            21,
            22,
            23
           ],
           "xaxis": "x",
           "y": [
            1.61,
            1.48,
            5.446000000000001,
            11.658,
            12.684,
            14.869999999999996,
            18.330366972477066,
            22.77988826815643,
            13.50298611111111,
            12.746573033707865,
            13.780436893203886,
            10.639719626168224,
            10.897340425531914,
            12.411571428571428,
            14.324194915254235,
            10.781720930232561,
            11.968761904761903,
            8.888839285714285,
            12.17037234042553,
            15.827961165048544,
            12.648170731707316,
            12.462391304347825,
            12.79271186440678,
            14.178923076923075
           ],
           "yaxis": "y"
          },
          {
           "alignmentgroup": "True",
           "hovertemplate": "direction=up<br>floor=6<br>Local Time (GMT+8)=%{x}<br>avgWait_weekday=%{y}<extra></extra>",
           "legendgroup": "up",
           "marker": {
            "color": "#EF553B"
           },
           "name": "up",
           "offsetgroup": "up",
           "orientation": "v",
           "showlegend": true,
           "textposition": "auto",
           "type": "bar",
           "x": [
            0,
            1,
            5,
            6,
            7,
            8,
            9,
            10,
            11,
            12,
            13,
            14,
            15,
            16,
            17,
            18,
            19,
            20,
            21,
            22,
            23
           ],
           "xaxis": "x2",
           "y": [
            8.64,
            3.92,
            13.876,
            22.400454545454544,
            39.46348484848485,
            52.73866666666666,
            57.50764705882354,
            43.27655737704918,
            81.95076923076924,
            66.72657142857143,
            72.84161290322581,
            66.5485,
            72.45718749999997,
            69.12615384615385,
            66.17484848484848,
            49.11749999999999,
            23.463750000000005,
            28.1825,
            23.660000000000004,
            11.765,
            13.3165625
           ],
           "yaxis": "y2"
          }
         ],
         "name": "6"
        },
        {
         "data": [
          {
           "alignmentgroup": "True",
           "hovertemplate": "direction=down<br>floor=7<br>Local Time (GMT+8)=%{x}<br>avgWait_weekday=%{y}<extra></extra>",
           "legendgroup": "down",
           "marker": {
            "color": "#636efa"
           },
           "name": "down",
           "offsetgroup": "down",
           "orientation": "v",
           "showlegend": true,
           "textposition": "auto",
           "type": "bar",
           "x": [
            0,
            1,
            2,
            3,
            4,
            5,
            6,
            7,
            8,
            9,
            10,
            11,
            12,
            13,
            14,
            15,
            16,
            17,
            18,
            19,
            20,
            21,
            22,
            23
           ],
           "xaxis": "x",
           "y": [
            15.10625,
            14.42875,
            10.45,
            17.128,
            13.28,
            21.79,
            19.0025,
            20.174693877551018,
            14.441969696969698,
            23.77867647058824,
            13.658615384615386,
            11.37225988700565,
            11.698097826086956,
            10.745925925925924,
            11.555714285714286,
            11.113006134969325,
            11.547013888888891,
            11.087283018867923,
            12.048626373626375,
            16.23556818181818,
            13.99390243902439,
            16.493000000000002,
            16.96777777777778,
            17.414444444444445
           ],
           "yaxis": "y"
          },
          {
           "alignmentgroup": "True",
           "hovertemplate": "direction=up<br>floor=7<br>Local Time (GMT+8)=%{x}<br>avgWait_weekday=%{y}<extra></extra>",
           "legendgroup": "up",
           "marker": {
            "color": "#EF553B"
           },
           "name": "up",
           "offsetgroup": "up",
           "orientation": "v",
           "showlegend": true,
           "textposition": "auto",
           "type": "bar",
           "x": [
            0,
            1,
            2,
            3,
            4,
            5,
            6,
            7,
            8,
            9,
            10,
            11,
            12,
            13,
            14,
            15,
            16,
            17,
            18,
            19,
            20,
            21,
            22,
            23
           ],
           "xaxis": "x2",
           "y": [
            10.358571428571429,
            10.14,
            5.996666666666666,
            7.745,
            7.840000000000002,
            12.6375,
            19.965,
            30.5975,
            50.574615384615385,
            49.654,
            49.59741935483871,
            75.44127659574468,
            59.97212121212121,
            74.63418604651162,
            58.63872727272727,
            60.96323529411765,
            62.5461403508772,
            63.2878125,
            41.03916666666667,
            25.535555555555554,
            23.545,
            7.99,
            14.09625,
            10.655999999999999
           ],
           "yaxis": "y2"
          }
         ],
         "name": "7"
        },
        {
         "data": [
          {
           "alignmentgroup": "True",
           "hovertemplate": "direction=down<br>floor=8<br>Local Time (GMT+8)=%{x}<br>avgWait_weekday=%{y}<extra></extra>",
           "legendgroup": "down",
           "marker": {
            "color": "#636efa"
           },
           "name": "down",
           "offsetgroup": "down",
           "orientation": "v",
           "showlegend": true,
           "textposition": "auto",
           "type": "bar",
           "x": [
            0,
            1,
            2,
            3,
            5,
            6,
            7,
            8,
            9,
            10,
            11,
            12,
            13,
            14,
            15,
            16,
            17,
            18,
            19,
            20,
            21,
            22,
            23
           ],
           "xaxis": "x",
           "y": [
            13.192352941176472,
            13.823333333333332,
            8.645,
            1.57,
            15.626666666666667,
            18.69,
            25.65685714285714,
            17.744827586206892,
            16.423592814371258,
            13.25740506329114,
            11.253636363636362,
            11.650054945054945,
            14.322146596858635,
            13.801686046511627,
            14.991263157894736,
            14.591090047393365,
            11.033951612903225,
            14.576572769953053,
            15.275789473684213,
            14.232823529411766,
            15.77315789473684,
            13.486521739130435,
            13.088500000000002
           ],
           "yaxis": "y"
          },
          {
           "alignmentgroup": "True",
           "hovertemplate": "direction=up<br>floor=8<br>Local Time (GMT+8)=%{x}<br>avgWait_weekday=%{y}<extra></extra>",
           "legendgroup": "up",
           "marker": {
            "color": "#EF553B"
           },
           "name": "up",
           "offsetgroup": "up",
           "orientation": "v",
           "showlegend": true,
           "textposition": "auto",
           "type": "bar",
           "x": [
            7,
            8,
            9,
            10,
            11,
            12,
            13,
            14,
            15,
            16,
            17,
            18,
            19,
            20,
            21,
            22
           ],
           "xaxis": "x2",
           "y": [
            35.63,
            38.549583333333345,
            51.1578125,
            42.74677419354838,
            47.22413793103448,
            32.99249999999999,
            62.41333333333333,
            35.18818181818182,
            38.51147058823529,
            36.65055555555556,
            41.66777777777778,
            62.404285714285706,
            14.082,
            28.047999999999995,
            16.335,
            18.085
           ],
           "yaxis": "y2"
          }
         ],
         "name": "8"
        },
        {
         "data": [
          {
           "alignmentgroup": "True",
           "hovertemplate": "direction=down<br>floor=9<br>Local Time (GMT+8)=%{x}<br>avgWait_weekday=%{y}<extra></extra>",
           "legendgroup": "down",
           "marker": {
            "color": "#636efa"
           },
           "name": "down",
           "offsetgroup": "down",
           "orientation": "v",
           "showlegend": true,
           "textposition": "auto",
           "type": "bar",
           "x": [
            0,
            1,
            3,
            4,
            5,
            6,
            7,
            8,
            9,
            10,
            11,
            12,
            13,
            14,
            15,
            16,
            17,
            18,
            19,
            20,
            21,
            22,
            23
           ],
           "xaxis": "x",
           "y": [
            12.13,
            13.567999999999998,
            18.105,
            7.229999999999999,
            13.660000000000002,
            27.415,
            27.796829268292683,
            17.69171641791045,
            14.448124999999996,
            16.915675675675676,
            13.28433155080214,
            14.069397590361445,
            16.0545197740113,
            15.593955223880599,
            13.209261744966446,
            13.824875,
            12.132345679012346,
            14.176341463414635,
            17.237956989247312,
            19.695535714285715,
            17.743448275862068,
            17.232499999999998,
            13.743076923076925
           ],
           "yaxis": "y"
          },
          {
           "alignmentgroup": "True",
           "hovertemplate": "direction=up<br>floor=9<br>Local Time (GMT+8)=%{x}<br>avgWait_weekday=%{y}<extra></extra>",
           "legendgroup": "up",
           "marker": {
            "color": "#EF553B"
           },
           "name": "up",
           "offsetgroup": "up",
           "orientation": "v",
           "showlegend": true,
           "textposition": "auto",
           "type": "bar",
           "x": [
            3,
            4,
            6,
            7,
            8,
            9,
            10,
            11,
            12,
            13,
            14,
            15,
            16,
            17,
            18,
            19,
            20,
            21,
            22,
            23
           ],
           "xaxis": "x2",
           "y": [
            1.57,
            1.05,
            18.331666666666667,
            15.168,
            54.172857142857154,
            36.097333333333346,
            45.27516129032258,
            50.98,
            47.52555555555556,
            48.968,
            36.494583333333345,
            47.282777777777774,
            34.451,
            48.4290909090909,
            29.076666666666664,
            24.9225,
            14.896666666666668,
            22.3975,
            23.77,
            15.72
           ],
           "yaxis": "y2"
          }
         ],
         "name": "9"
        },
        {
         "data": [
          {
           "alignmentgroup": "True",
           "hovertemplate": "direction=down<br>floor=10<br>Local Time (GMT+8)=%{x}<br>avgWait_weekday=%{y}<extra></extra>",
           "legendgroup": "down",
           "marker": {
            "color": "#636efa"
           },
           "name": "down",
           "offsetgroup": "down",
           "orientation": "v",
           "showlegend": true,
           "textposition": "auto",
           "type": "bar",
           "x": [
            0,
            1,
            2,
            3,
            4,
            5,
            6,
            7,
            8,
            9,
            10,
            11,
            12,
            13,
            14,
            15,
            16,
            17,
            18,
            19,
            20,
            21,
            22,
            23
           ],
           "xaxis": "x",
           "y": [
            14.2925,
            1.2433333333333334,
            18.46,
            19.82,
            9.01,
            4.991463414634147,
            11.68626086956522,
            19.875507246376813,
            9.200937499999998,
            23.602105263157892,
            10.860869565217392,
            11.671012658227847,
            15.527692307692305,
            14.701492537313433,
            12.745076923076926,
            13.823516483516483,
            14.776792452830188,
            12.177674418604653,
            17.61647058823529,
            16.179545454545455,
            10.84153846153846,
            11.773636363636365,
            10.961839080459773,
            11.638823529411766
           ],
           "yaxis": "y"
          },
          {
           "alignmentgroup": "True",
           "hovertemplate": "direction=up<br>floor=10<br>Local Time (GMT+8)=%{x}<br>avgWait_weekday=%{y}<extra></extra>",
           "legendgroup": "up",
           "marker": {
            "color": "#EF553B"
           },
           "name": "up",
           "offsetgroup": "up",
           "orientation": "v",
           "showlegend": true,
           "textposition": "auto",
           "type": "bar",
           "x": [
            1,
            5,
            6,
            7,
            8,
            9,
            10,
            11,
            12,
            13,
            14,
            15,
            16,
            17,
            18,
            19,
            20,
            21,
            22
           ],
           "xaxis": "x2",
           "y": [
            1.38,
            4.783181818181818,
            15.117539682539684,
            37.668952380952376,
            40.097,
            58.74375,
            16.176,
            41.37470588235294,
            55.553709677419356,
            41.822,
            22.01461538461539,
            37.32173913043478,
            32.879285714285714,
            53.12555555555554,
            62.62777777777779,
            28.1,
            12.919999999999998,
            18.215384615384615,
            20.385
           ],
           "yaxis": "y2"
          }
         ],
         "name": "10"
        },
        {
         "data": [
          {
           "alignmentgroup": "True",
           "hovertemplate": "direction=down<br>floor=11<br>Local Time (GMT+8)=%{x}<br>avgWait_weekday=%{y}<extra></extra>",
           "legendgroup": "down",
           "marker": {
            "color": "#636efa"
           },
           "name": "down",
           "offsetgroup": "down",
           "orientation": "v",
           "showlegend": true,
           "textposition": "auto",
           "type": "bar",
           "x": [
            0,
            1,
            2,
            3,
            4,
            5,
            6,
            7,
            8,
            9,
            10,
            11,
            12,
            13,
            14,
            15,
            16,
            17,
            18,
            19,
            20,
            21,
            22,
            23
           ],
           "xaxis": "x",
           "y": [
            19.782000000000004,
            0.56,
            20.44,
            16.22,
            19.675,
            8.04,
            21.91090909090909,
            27.536986301369858,
            21.663592814371253,
            21.203231707317073,
            18.50221476510067,
            15.726666666666668,
            14.581324503311254,
            16.284709302325584,
            20.79647887323944,
            15.955401459854011,
            17.963595505617977,
            14.285541666666667,
            13.484432432432433,
            21.536,
            19.988301886792453,
            19.31058823529412,
            15.963333333333333,
            16.846
           ],
           "yaxis": "y"
          },
          {
           "alignmentgroup": "True",
           "hovertemplate": "direction=up<br>floor=11<br>Local Time (GMT+8)=%{x}<br>avgWait_weekday=%{y}<extra></extra>",
           "legendgroup": "up",
           "marker": {
            "color": "#EF553B"
           },
           "name": "up",
           "offsetgroup": "up",
           "orientation": "v",
           "showlegend": true,
           "textposition": "auto",
           "type": "bar",
           "x": [
            3,
            6,
            7,
            8,
            9,
            10,
            11,
            12,
            13,
            14,
            15,
            16,
            17,
            18,
            19,
            23
           ],
           "xaxis": "x2",
           "y": [
            1.59,
            60.53,
            16.29714285714286,
            84.76,
            37.33363636363636,
            29.474545454545456,
            81.17333333333335,
            25.94,
            17.071666666666665,
            34.93391304347826,
            30.818571428571428,
            59.048888888888904,
            42.556666666666665,
            35.215,
            45.2,
            1.27
           ],
           "yaxis": "y2"
          }
         ],
         "name": "11"
        },
        {
         "data": [
          {
           "alignmentgroup": "True",
           "hovertemplate": "direction=down<br>floor=12<br>Local Time (GMT+8)=%{x}<br>avgWait_weekday=%{y}<extra></extra>",
           "legendgroup": "down",
           "marker": {
            "color": "#636efa"
           },
           "name": "down",
           "offsetgroup": "down",
           "orientation": "v",
           "showlegend": true,
           "textposition": "auto",
           "type": "bar",
           "x": [
            0,
            1,
            2,
            4,
            5,
            6,
            7,
            8,
            9,
            10,
            11,
            12,
            13,
            14,
            15,
            16,
            17,
            18,
            19,
            20,
            21,
            22,
            23
           ],
           "xaxis": "x",
           "y": [
            16.134545454545457,
            16.054444444444446,
            31.63,
            26.09,
            19.4625,
            15.807142857142859,
            30.14692307692308,
            21.091597222222227,
            21.708270676691733,
            21.85371900826446,
            22.3829696969697,
            22.67571428571428,
            15.828896103896101,
            19.51030303030303,
            22.486981132075478,
            19.070794701986753,
            16.824532019704435,
            17.821263736263738,
            20.9246875,
            20.96122448979592,
            20.521923076923073,
            19.47571428571428,
            12.665999999999999
           ],
           "yaxis": "y"
          },
          {
           "alignmentgroup": "True",
           "hovertemplate": "direction=up<br>floor=12<br>Local Time (GMT+8)=%{x}<br>avgWait_weekday=%{y}<extra></extra>",
           "legendgroup": "up",
           "marker": {
            "color": "#EF553B"
           },
           "name": "up",
           "offsetgroup": "up",
           "orientation": "v",
           "showlegend": true,
           "textposition": "auto",
           "type": "bar",
           "x": [
            7,
            8,
            9,
            10,
            11,
            12,
            13,
            14,
            15,
            16,
            17,
            18,
            19,
            20,
            21,
            23
           ],
           "xaxis": "x2",
           "y": [
            4.13,
            89.32000000000002,
            53.91260869565217,
            61.308125,
            36.303,
            44.3325,
            49.549,
            36.4776,
            52.3796,
            46.59777777777778,
            59.19666666666666,
            17.945,
            39.94,
            7.57,
            30.32,
            17.62
           ],
           "yaxis": "y2"
          }
         ],
         "name": "12"
        },
        {
         "data": [
          {
           "alignmentgroup": "True",
           "hovertemplate": "direction=down<br>floor=13<br>Local Time (GMT+8)=%{x}<br>avgWait_weekday=%{y}<extra></extra>",
           "legendgroup": "down",
           "marker": {
            "color": "#636efa"
           },
           "name": "down",
           "offsetgroup": "down",
           "orientation": "v",
           "showlegend": true,
           "textposition": "auto",
           "type": "bar",
           "x": [
            0,
            2,
            4,
            5,
            6,
            7,
            8,
            9,
            10,
            11,
            12,
            13,
            14,
            15,
            16,
            17,
            18,
            19,
            20,
            21,
            22,
            23
           ],
           "xaxis": "x",
           "y": [
            16.88111111111111,
            19.01,
            1.52,
            15.765,
            10.221428571428572,
            40.718636363636364,
            32.58702702702703,
            29.532635658914728,
            28.32121495327103,
            31.397610062893087,
            27.33390625,
            24.919945054945053,
            30.58196850393701,
            26.046078431372553,
            25.39195945945946,
            22.43669902912621,
            20.640265957446807,
            20.738024691358024,
            21.4168,
            21.40710526315789,
            22.837619047619054,
            17.364545454545453
           ],
           "yaxis": "y"
          },
          {
           "alignmentgroup": "True",
           "hovertemplate": "direction=up<br>floor=13<br>Local Time (GMT+8)=%{x}<br>avgWait_weekday=%{y}<extra></extra>",
           "legendgroup": "up",
           "marker": {
            "color": "#EF553B"
           },
           "name": "up",
           "offsetgroup": "up",
           "orientation": "v",
           "showlegend": true,
           "textposition": "auto",
           "type": "bar",
           "x": [
            7,
            8,
            9,
            10,
            11,
            12,
            13,
            14,
            15,
            16,
            17,
            18,
            19,
            20
           ],
           "xaxis": "x2",
           "y": [
            33.856,
            55.45777777777778,
            36.99521739130434,
            31.78625,
            45.1675,
            45.02095238095239,
            30.598666666666666,
            35.90777777777778,
            34.49277777777777,
            51.80105263157895,
            36.04357142857143,
            66.00888888888889,
            41.815,
            31.005000000000006
           ],
           "yaxis": "y2"
          }
         ],
         "name": "13"
        },
        {
         "data": [
          {
           "alignmentgroup": "True",
           "hovertemplate": "direction=down<br>floor=14<br>Local Time (GMT+8)=%{x}<br>avgWait_weekday=%{y}<extra></extra>",
           "legendgroup": "down",
           "marker": {
            "color": "#636efa"
           },
           "name": "down",
           "offsetgroup": "down",
           "orientation": "v",
           "showlegend": true,
           "textposition": "auto",
           "type": "bar",
           "x": [
            0,
            1,
            2,
            4,
            5,
            7,
            8,
            9,
            10,
            11,
            12,
            13,
            14,
            15,
            16,
            17,
            18,
            19,
            20,
            21,
            22,
            23
           ],
           "xaxis": "x",
           "y": [
            19.71,
            20.632857142857144,
            19.92,
            1.27,
            18.84,
            41.377234042553184,
            52.31697478991596,
            51.79058510638298,
            47.00628415300546,
            52.34378640776699,
            55.69585492227978,
            48.01015384615384,
            44.64534090909091,
            57.71850000000001,
            53.23207070707071,
            38.63958115183246,
            36.24246376811593,
            23.912839506172837,
            25.72342857142857,
            19.682954545454546,
            23.480625,
            13.963333333333333
           ],
           "yaxis": "y"
          },
          {
           "alignmentgroup": "True",
           "hovertemplate": "direction=up<br>floor=14<br>Local Time (GMT+8)=%{x}<br>avgWait_weekday=%{y}<extra></extra>",
           "legendgroup": "up",
           "marker": {
            "color": "#EF553B"
           },
           "name": "up",
           "offsetgroup": "up",
           "orientation": "v",
           "showlegend": true,
           "textposition": "auto",
           "type": "bar",
           "x": [
            0,
            1,
            2,
            5,
            7,
            8,
            9,
            10,
            11,
            12,
            14,
            15,
            16,
            17,
            18,
            19,
            20,
            21,
            22,
            23
           ],
           "xaxis": "x2",
           "y": [
            20.495,
            14.053333333333335,
            13.22,
            12.87,
            50.465,
            105.22875,
            79.01857142857143,
            80.518,
            35.168,
            44.37666666666666,
            84.67736842105263,
            91.5975,
            76.92399999999999,
            87.46153846153847,
            29.365,
            31.218000000000004,
            34.84333333333333,
            18.1275,
            19.802,
            8.905000000000003
           ],
           "yaxis": "y2"
          }
         ],
         "name": "14"
        },
        {
         "data": [
          {
           "alignmentgroup": "True",
           "hovertemplate": "direction=down<br>floor=15<br>Local Time (GMT+8)=%{x}<br>avgWait_weekday=%{y}<extra></extra>",
           "legendgroup": "down",
           "marker": {
            "color": "#636efa"
           },
           "name": "down",
           "offsetgroup": "down",
           "orientation": "v",
           "showlegend": true,
           "textposition": "auto",
           "type": "bar",
           "x": [
            0,
            1,
            2,
            3,
            4,
            5,
            6,
            7,
            8,
            9,
            10,
            11,
            12,
            13,
            14,
            15,
            16,
            17,
            18,
            19,
            20,
            21,
            22,
            23
           ],
           "xaxis": "x",
           "y": [
            29.41666666666667,
            10.036666666666667,
            1.37,
            14.025,
            4.8725,
            1.59,
            14.387142857142859,
            45.38793650793651,
            58.90015037593986,
            62.700147058823525,
            58.98550724637681,
            77.94909722222222,
            62.7375,
            61.51992907801419,
            73.14290780141843,
            82.8184496124031,
            66.45490445859873,
            61.328351063829786,
            44.23891891891893,
            35.3293103448276,
            24.724166666666665,
            27.8104,
            19.11823529411765,
            23.44
           ],
           "yaxis": "y"
          }
         ],
         "name": "15"
        },
        {
         "data": [
          {
           "alignmentgroup": "True",
           "hovertemplate": "direction=down<br>floor=B1<br>Local Time (GMT+8)=%{x}<br>avgWait_weekday=%{y}<extra></extra>",
           "legendgroup": "down",
           "marker": {
            "color": "#636efa"
           },
           "name": "down",
           "offsetgroup": "down",
           "orientation": "v",
           "showlegend": true,
           "textposition": "auto",
           "type": "bar",
           "x": [
            0,
            1,
            2,
            3,
            6,
            7,
            8,
            9,
            10,
            11,
            12,
            13,
            14,
            15,
            16,
            17,
            18,
            19,
            20,
            21,
            22,
            23
           ],
           "xaxis": "x",
           "y": [
            9.336666666666666,
            18.74,
            20.4,
            1.33,
            25.195,
            26.087634408602142,
            20.44879518072289,
            30.422000000000004,
            18.294666666666664,
            21.838805970149245,
            24.8925,
            22.0677027027027,
            22.41370967741936,
            21.557142857142853,
            23.397843137254906,
            18.612266666666667,
            22.537868852459017,
            17.660217391304347,
            11.756315789473685,
            11.792727272727273,
            15.246666666666668,
            11
           ],
           "yaxis": "y"
          },
          {
           "alignmentgroup": "True",
           "hovertemplate": "direction=up<br>floor=B1<br>Local Time (GMT+8)=%{x}<br>avgWait_weekday=%{y}<extra></extra>",
           "legendgroup": "up",
           "marker": {
            "color": "#EF553B"
           },
           "name": "up",
           "offsetgroup": "up",
           "orientation": "v",
           "showlegend": true,
           "textposition": "auto",
           "type": "bar",
           "x": [
            0,
            1,
            2,
            3,
            4,
            5,
            6,
            7,
            8,
            9,
            10,
            11,
            12,
            13,
            14,
            15,
            16,
            17,
            18,
            19,
            20,
            21,
            22,
            23
           ],
           "xaxis": "x2",
           "y": [
            13.539487179487178,
            15.352121212121212,
            11.164117647058823,
            21.224,
            1.504,
            12.53,
            16.85331081081081,
            15.108409090909092,
            16.208586387434558,
            16.586278317152104,
            15.052967479674797,
            19.40496732026144,
            17.771449631449627,
            15.615630252100846,
            16.327923875432525,
            17.20033472803347,
            15.987162629757785,
            17.748929663608557,
            17.90008450704225,
            13.904722222222226,
            13.220894736842109,
            12.185798816568049,
            11.485172413793107,
            10.851379310344827
           ],
           "yaxis": "y2"
          }
         ],
         "name": "B1"
        },
        {
         "data": [
          {
           "alignmentgroup": "True",
           "hovertemplate": "direction=down<br>floor=B3<br>Local Time (GMT+8)=%{x}<br>avgWait_weekday=%{y}<extra></extra>",
           "legendgroup": "down",
           "marker": {
            "color": "#636efa"
           },
           "name": "down",
           "offsetgroup": "down",
           "orientation": "v",
           "showlegend": true,
           "textposition": "auto",
           "type": "bar",
           "x": [
            6,
            7,
            8,
            9,
            10,
            11,
            12,
            13,
            14,
            15,
            16,
            17,
            18,
            19,
            20
           ],
           "xaxis": "x",
           "y": [
            29.868,
            31.24727272727273,
            24.27,
            20.03333333333333,
            9.3925,
            52.477500000000006,
            17.30636363636364,
            23.052666666666664,
            25.2,
            30.204166666666666,
            9.55,
            36.124,
            17.66,
            16.26,
            9.53
           ],
           "yaxis": "y"
          },
          {
           "alignmentgroup": "True",
           "hovertemplate": "direction=up<br>floor=B3<br>Local Time (GMT+8)=%{x}<br>avgWait_weekday=%{y}<extra></extra>",
           "legendgroup": "up",
           "marker": {
            "color": "#EF553B"
           },
           "name": "up",
           "offsetgroup": "up",
           "orientation": "v",
           "showlegend": true,
           "textposition": "auto",
           "type": "bar",
           "x": [
            0,
            1,
            4,
            5,
            6,
            7,
            8,
            9,
            10,
            11,
            12,
            13,
            14,
            15,
            16,
            17,
            18,
            19,
            20,
            21,
            22,
            23
           ],
           "xaxis": "x2",
           "y": [
            8.47,
            13.58,
            14.912727272727272,
            20.672727272727283,
            20.990648148148146,
            16.950592334494775,
            15.484553571428574,
            18.232418300653592,
            14.11086021505376,
            16.533846153846152,
            15.636315789473686,
            14.636380952380955,
            15.368508771929825,
            17.614,
            13.770795454545453,
            13.679529411764705,
            16.665769230769232,
            17.78341463414634,
            9.46891891891892,
            14.210909090909093,
            17.42866666666667,
            10.014
           ],
           "yaxis": "y2"
          }
         ],
         "name": "B3"
        },
        {
         "data": [
          {
           "alignmentgroup": "True",
           "hovertemplate": "direction=up<br>floor=B4<br>Local Time (GMT+8)=%{x}<br>avgWait_weekday=%{y}<extra></extra>",
           "legendgroup": "up",
           "marker": {
            "color": "#EF553B"
           },
           "name": "up",
           "offsetgroup": "up",
           "orientation": "v",
           "showlegend": true,
           "textposition": "auto",
           "type": "bar",
           "x": [
            0,
            1,
            2,
            3,
            4,
            5,
            6,
            7,
            8,
            9,
            10,
            11,
            12,
            13,
            14,
            15,
            16,
            17,
            18,
            19,
            20,
            21,
            22,
            23
           ],
           "xaxis": "x2",
           "y": [
            17.68,
            18.72,
            21.20833333333333,
            20.143333333333327,
            11.885,
            26.06777777777777,
            21.235098039215686,
            21.099675925925926,
            28.18149019607843,
            28.93581589958159,
            32.1219730941704,
            30.19384976525821,
            28.11128888888889,
            25.372103174603172,
            30.853911290322586,
            39.487117117117116,
            29.41120754716981,
            28.595255474452557,
            19.77994897959184,
            18.28663366336633,
            18.636885245901638,
            10.55,
            7.624166666666667,
            12.476111111111114
           ],
           "yaxis": "y2"
          }
         ],
         "name": "B4"
        }
       ],
       "layout": {
        "annotations": [
         {
          "font": {},
          "showarrow": false,
          "text": "direction=down",
          "x": 0.245,
          "xanchor": "center",
          "xref": "paper",
          "y": 1,
          "yanchor": "bottom",
          "yref": "paper"
         },
         {
          "font": {},
          "showarrow": false,
          "text": "direction=up",
          "x": 0.755,
          "xanchor": "center",
          "xref": "paper",
          "y": 1,
          "yanchor": "bottom",
          "yref": "paper"
         }
        ],
        "barmode": "relative",
        "legend": {
         "title": {
          "text": "direction"
         },
         "tracegroupgap": 0
        },
        "margin": {
         "t": 60
        },
        "sliders": [
         {
          "active": 0,
          "currentvalue": {
           "prefix": "floor="
          },
          "len": 0.9,
          "pad": {
           "b": 10,
           "t": 60
          },
          "steps": [
           {
            "args": [
             [
              "1"
             ],
             {
              "frame": {
               "duration": 0,
               "redraw": true
              },
              "fromcurrent": true,
              "mode": "immediate",
              "transition": {
               "duration": 0,
               "easing": "linear"
              }
             }
            ],
            "label": "1",
            "method": "animate"
           },
           {
            "args": [
             [
              "2"
             ],
             {
              "frame": {
               "duration": 0,
               "redraw": true
              },
              "fromcurrent": true,
              "mode": "immediate",
              "transition": {
               "duration": 0,
               "easing": "linear"
              }
             }
            ],
            "label": "2",
            "method": "animate"
           },
           {
            "args": [
             [
              "3"
             ],
             {
              "frame": {
               "duration": 0,
               "redraw": true
              },
              "fromcurrent": true,
              "mode": "immediate",
              "transition": {
               "duration": 0,
               "easing": "linear"
              }
             }
            ],
            "label": "3",
            "method": "animate"
           },
           {
            "args": [
             [
              "4"
             ],
             {
              "frame": {
               "duration": 0,
               "redraw": true
              },
              "fromcurrent": true,
              "mode": "immediate",
              "transition": {
               "duration": 0,
               "easing": "linear"
              }
             }
            ],
            "label": "4",
            "method": "animate"
           },
           {
            "args": [
             [
              "5"
             ],
             {
              "frame": {
               "duration": 0,
               "redraw": true
              },
              "fromcurrent": true,
              "mode": "immediate",
              "transition": {
               "duration": 0,
               "easing": "linear"
              }
             }
            ],
            "label": "5",
            "method": "animate"
           },
           {
            "args": [
             [
              "6"
             ],
             {
              "frame": {
               "duration": 0,
               "redraw": true
              },
              "fromcurrent": true,
              "mode": "immediate",
              "transition": {
               "duration": 0,
               "easing": "linear"
              }
             }
            ],
            "label": "6",
            "method": "animate"
           },
           {
            "args": [
             [
              "7"
             ],
             {
              "frame": {
               "duration": 0,
               "redraw": true
              },
              "fromcurrent": true,
              "mode": "immediate",
              "transition": {
               "duration": 0,
               "easing": "linear"
              }
             }
            ],
            "label": "7",
            "method": "animate"
           },
           {
            "args": [
             [
              "8"
             ],
             {
              "frame": {
               "duration": 0,
               "redraw": true
              },
              "fromcurrent": true,
              "mode": "immediate",
              "transition": {
               "duration": 0,
               "easing": "linear"
              }
             }
            ],
            "label": "8",
            "method": "animate"
           },
           {
            "args": [
             [
              "9"
             ],
             {
              "frame": {
               "duration": 0,
               "redraw": true
              },
              "fromcurrent": true,
              "mode": "immediate",
              "transition": {
               "duration": 0,
               "easing": "linear"
              }
             }
            ],
            "label": "9",
            "method": "animate"
           },
           {
            "args": [
             [
              "10"
             ],
             {
              "frame": {
               "duration": 0,
               "redraw": true
              },
              "fromcurrent": true,
              "mode": "immediate",
              "transition": {
               "duration": 0,
               "easing": "linear"
              }
             }
            ],
            "label": "10",
            "method": "animate"
           },
           {
            "args": [
             [
              "11"
             ],
             {
              "frame": {
               "duration": 0,
               "redraw": true
              },
              "fromcurrent": true,
              "mode": "immediate",
              "transition": {
               "duration": 0,
               "easing": "linear"
              }
             }
            ],
            "label": "11",
            "method": "animate"
           },
           {
            "args": [
             [
              "12"
             ],
             {
              "frame": {
               "duration": 0,
               "redraw": true
              },
              "fromcurrent": true,
              "mode": "immediate",
              "transition": {
               "duration": 0,
               "easing": "linear"
              }
             }
            ],
            "label": "12",
            "method": "animate"
           },
           {
            "args": [
             [
              "13"
             ],
             {
              "frame": {
               "duration": 0,
               "redraw": true
              },
              "fromcurrent": true,
              "mode": "immediate",
              "transition": {
               "duration": 0,
               "easing": "linear"
              }
             }
            ],
            "label": "13",
            "method": "animate"
           },
           {
            "args": [
             [
              "14"
             ],
             {
              "frame": {
               "duration": 0,
               "redraw": true
              },
              "fromcurrent": true,
              "mode": "immediate",
              "transition": {
               "duration": 0,
               "easing": "linear"
              }
             }
            ],
            "label": "14",
            "method": "animate"
           },
           {
            "args": [
             [
              "15"
             ],
             {
              "frame": {
               "duration": 0,
               "redraw": true
              },
              "fromcurrent": true,
              "mode": "immediate",
              "transition": {
               "duration": 0,
               "easing": "linear"
              }
             }
            ],
            "label": "15",
            "method": "animate"
           },
           {
            "args": [
             [
              "B1"
             ],
             {
              "frame": {
               "duration": 0,
               "redraw": true
              },
              "fromcurrent": true,
              "mode": "immediate",
              "transition": {
               "duration": 0,
               "easing": "linear"
              }
             }
            ],
            "label": "B1",
            "method": "animate"
           },
           {
            "args": [
             [
              "B3"
             ],
             {
              "frame": {
               "duration": 0,
               "redraw": true
              },
              "fromcurrent": true,
              "mode": "immediate",
              "transition": {
               "duration": 0,
               "easing": "linear"
              }
             }
            ],
            "label": "B3",
            "method": "animate"
           },
           {
            "args": [
             [
              "B4"
             ],
             {
              "frame": {
               "duration": 0,
               "redraw": true
              },
              "fromcurrent": true,
              "mode": "immediate",
              "transition": {
               "duration": 0,
               "easing": "linear"
              }
             }
            ],
            "label": "B4",
            "method": "animate"
           }
          ],
          "x": 0.1,
          "xanchor": "left",
          "y": 0,
          "yanchor": "top"
         }
        ],
        "template": {
         "data": {
          "bar": [
           {
            "error_x": {
             "color": "#2a3f5f"
            },
            "error_y": {
             "color": "#2a3f5f"
            },
            "marker": {
             "line": {
              "color": "#E5ECF6",
              "width": 0.5
             }
            },
            "type": "bar"
           }
          ],
          "barpolar": [
           {
            "marker": {
             "line": {
              "color": "#E5ECF6",
              "width": 0.5
             }
            },
            "type": "barpolar"
           }
          ],
          "carpet": [
           {
            "aaxis": {
             "endlinecolor": "#2a3f5f",
             "gridcolor": "white",
             "linecolor": "white",
             "minorgridcolor": "white",
             "startlinecolor": "#2a3f5f"
            },
            "baxis": {
             "endlinecolor": "#2a3f5f",
             "gridcolor": "white",
             "linecolor": "white",
             "minorgridcolor": "white",
             "startlinecolor": "#2a3f5f"
            },
            "type": "carpet"
           }
          ],
          "choropleth": [
           {
            "colorbar": {
             "outlinewidth": 0,
             "ticks": ""
            },
            "type": "choropleth"
           }
          ],
          "contour": [
           {
            "colorbar": {
             "outlinewidth": 0,
             "ticks": ""
            },
            "colorscale": [
             [
              0,
              "#0d0887"
             ],
             [
              0.1111111111111111,
              "#46039f"
             ],
             [
              0.2222222222222222,
              "#7201a8"
             ],
             [
              0.3333333333333333,
              "#9c179e"
             ],
             [
              0.4444444444444444,
              "#bd3786"
             ],
             [
              0.5555555555555556,
              "#d8576b"
             ],
             [
              0.6666666666666666,
              "#ed7953"
             ],
             [
              0.7777777777777778,
              "#fb9f3a"
             ],
             [
              0.8888888888888888,
              "#fdca26"
             ],
             [
              1,
              "#f0f921"
             ]
            ],
            "type": "contour"
           }
          ],
          "contourcarpet": [
           {
            "colorbar": {
             "outlinewidth": 0,
             "ticks": ""
            },
            "type": "contourcarpet"
           }
          ],
          "heatmap": [
           {
            "colorbar": {
             "outlinewidth": 0,
             "ticks": ""
            },
            "colorscale": [
             [
              0,
              "#0d0887"
             ],
             [
              0.1111111111111111,
              "#46039f"
             ],
             [
              0.2222222222222222,
              "#7201a8"
             ],
             [
              0.3333333333333333,
              "#9c179e"
             ],
             [
              0.4444444444444444,
              "#bd3786"
             ],
             [
              0.5555555555555556,
              "#d8576b"
             ],
             [
              0.6666666666666666,
              "#ed7953"
             ],
             [
              0.7777777777777778,
              "#fb9f3a"
             ],
             [
              0.8888888888888888,
              "#fdca26"
             ],
             [
              1,
              "#f0f921"
             ]
            ],
            "type": "heatmap"
           }
          ],
          "heatmapgl": [
           {
            "colorbar": {
             "outlinewidth": 0,
             "ticks": ""
            },
            "colorscale": [
             [
              0,
              "#0d0887"
             ],
             [
              0.1111111111111111,
              "#46039f"
             ],
             [
              0.2222222222222222,
              "#7201a8"
             ],
             [
              0.3333333333333333,
              "#9c179e"
             ],
             [
              0.4444444444444444,
              "#bd3786"
             ],
             [
              0.5555555555555556,
              "#d8576b"
             ],
             [
              0.6666666666666666,
              "#ed7953"
             ],
             [
              0.7777777777777778,
              "#fb9f3a"
             ],
             [
              0.8888888888888888,
              "#fdca26"
             ],
             [
              1,
              "#f0f921"
             ]
            ],
            "type": "heatmapgl"
           }
          ],
          "histogram": [
           {
            "marker": {
             "colorbar": {
              "outlinewidth": 0,
              "ticks": ""
             }
            },
            "type": "histogram"
           }
          ],
          "histogram2d": [
           {
            "colorbar": {
             "outlinewidth": 0,
             "ticks": ""
            },
            "colorscale": [
             [
              0,
              "#0d0887"
             ],
             [
              0.1111111111111111,
              "#46039f"
             ],
             [
              0.2222222222222222,
              "#7201a8"
             ],
             [
              0.3333333333333333,
              "#9c179e"
             ],
             [
              0.4444444444444444,
              "#bd3786"
             ],
             [
              0.5555555555555556,
              "#d8576b"
             ],
             [
              0.6666666666666666,
              "#ed7953"
             ],
             [
              0.7777777777777778,
              "#fb9f3a"
             ],
             [
              0.8888888888888888,
              "#fdca26"
             ],
             [
              1,
              "#f0f921"
             ]
            ],
            "type": "histogram2d"
           }
          ],
          "histogram2dcontour": [
           {
            "colorbar": {
             "outlinewidth": 0,
             "ticks": ""
            },
            "colorscale": [
             [
              0,
              "#0d0887"
             ],
             [
              0.1111111111111111,
              "#46039f"
             ],
             [
              0.2222222222222222,
              "#7201a8"
             ],
             [
              0.3333333333333333,
              "#9c179e"
             ],
             [
              0.4444444444444444,
              "#bd3786"
             ],
             [
              0.5555555555555556,
              "#d8576b"
             ],
             [
              0.6666666666666666,
              "#ed7953"
             ],
             [
              0.7777777777777778,
              "#fb9f3a"
             ],
             [
              0.8888888888888888,
              "#fdca26"
             ],
             [
              1,
              "#f0f921"
             ]
            ],
            "type": "histogram2dcontour"
           }
          ],
          "mesh3d": [
           {
            "colorbar": {
             "outlinewidth": 0,
             "ticks": ""
            },
            "type": "mesh3d"
           }
          ],
          "parcoords": [
           {
            "line": {
             "colorbar": {
              "outlinewidth": 0,
              "ticks": ""
             }
            },
            "type": "parcoords"
           }
          ],
          "pie": [
           {
            "automargin": true,
            "type": "pie"
           }
          ],
          "scatter": [
           {
            "marker": {
             "colorbar": {
              "outlinewidth": 0,
              "ticks": ""
             }
            },
            "type": "scatter"
           }
          ],
          "scatter3d": [
           {
            "line": {
             "colorbar": {
              "outlinewidth": 0,
              "ticks": ""
             }
            },
            "marker": {
             "colorbar": {
              "outlinewidth": 0,
              "ticks": ""
             }
            },
            "type": "scatter3d"
           }
          ],
          "scattercarpet": [
           {
            "marker": {
             "colorbar": {
              "outlinewidth": 0,
              "ticks": ""
             }
            },
            "type": "scattercarpet"
           }
          ],
          "scattergeo": [
           {
            "marker": {
             "colorbar": {
              "outlinewidth": 0,
              "ticks": ""
             }
            },
            "type": "scattergeo"
           }
          ],
          "scattergl": [
           {
            "marker": {
             "colorbar": {
              "outlinewidth": 0,
              "ticks": ""
             }
            },
            "type": "scattergl"
           }
          ],
          "scattermapbox": [
           {
            "marker": {
             "colorbar": {
              "outlinewidth": 0,
              "ticks": ""
             }
            },
            "type": "scattermapbox"
           }
          ],
          "scatterpolar": [
           {
            "marker": {
             "colorbar": {
              "outlinewidth": 0,
              "ticks": ""
             }
            },
            "type": "scatterpolar"
           }
          ],
          "scatterpolargl": [
           {
            "marker": {
             "colorbar": {
              "outlinewidth": 0,
              "ticks": ""
             }
            },
            "type": "scatterpolargl"
           }
          ],
          "scatterternary": [
           {
            "marker": {
             "colorbar": {
              "outlinewidth": 0,
              "ticks": ""
             }
            },
            "type": "scatterternary"
           }
          ],
          "surface": [
           {
            "colorbar": {
             "outlinewidth": 0,
             "ticks": ""
            },
            "colorscale": [
             [
              0,
              "#0d0887"
             ],
             [
              0.1111111111111111,
              "#46039f"
             ],
             [
              0.2222222222222222,
              "#7201a8"
             ],
             [
              0.3333333333333333,
              "#9c179e"
             ],
             [
              0.4444444444444444,
              "#bd3786"
             ],
             [
              0.5555555555555556,
              "#d8576b"
             ],
             [
              0.6666666666666666,
              "#ed7953"
             ],
             [
              0.7777777777777778,
              "#fb9f3a"
             ],
             [
              0.8888888888888888,
              "#fdca26"
             ],
             [
              1,
              "#f0f921"
             ]
            ],
            "type": "surface"
           }
          ],
          "table": [
           {
            "cells": {
             "fill": {
              "color": "#EBF0F8"
             },
             "line": {
              "color": "white"
             }
            },
            "header": {
             "fill": {
              "color": "#C8D4E3"
             },
             "line": {
              "color": "white"
             }
            },
            "type": "table"
           }
          ]
         },
         "layout": {
          "annotationdefaults": {
           "arrowcolor": "#2a3f5f",
           "arrowhead": 0,
           "arrowwidth": 1
          },
          "coloraxis": {
           "colorbar": {
            "outlinewidth": 0,
            "ticks": ""
           }
          },
          "colorscale": {
           "diverging": [
            [
             0,
             "#8e0152"
            ],
            [
             0.1,
             "#c51b7d"
            ],
            [
             0.2,
             "#de77ae"
            ],
            [
             0.3,
             "#f1b6da"
            ],
            [
             0.4,
             "#fde0ef"
            ],
            [
             0.5,
             "#f7f7f7"
            ],
            [
             0.6,
             "#e6f5d0"
            ],
            [
             0.7,
             "#b8e186"
            ],
            [
             0.8,
             "#7fbc41"
            ],
            [
             0.9,
             "#4d9221"
            ],
            [
             1,
             "#276419"
            ]
           ],
           "sequential": [
            [
             0,
             "#0d0887"
            ],
            [
             0.1111111111111111,
             "#46039f"
            ],
            [
             0.2222222222222222,
             "#7201a8"
            ],
            [
             0.3333333333333333,
             "#9c179e"
            ],
            [
             0.4444444444444444,
             "#bd3786"
            ],
            [
             0.5555555555555556,
             "#d8576b"
            ],
            [
             0.6666666666666666,
             "#ed7953"
            ],
            [
             0.7777777777777778,
             "#fb9f3a"
            ],
            [
             0.8888888888888888,
             "#fdca26"
            ],
            [
             1,
             "#f0f921"
            ]
           ],
           "sequentialminus": [
            [
             0,
             "#0d0887"
            ],
            [
             0.1111111111111111,
             "#46039f"
            ],
            [
             0.2222222222222222,
             "#7201a8"
            ],
            [
             0.3333333333333333,
             "#9c179e"
            ],
            [
             0.4444444444444444,
             "#bd3786"
            ],
            [
             0.5555555555555556,
             "#d8576b"
            ],
            [
             0.6666666666666666,
             "#ed7953"
            ],
            [
             0.7777777777777778,
             "#fb9f3a"
            ],
            [
             0.8888888888888888,
             "#fdca26"
            ],
            [
             1,
             "#f0f921"
            ]
           ]
          },
          "colorway": [
           "#636efa",
           "#EF553B",
           "#00cc96",
           "#ab63fa",
           "#FFA15A",
           "#19d3f3",
           "#FF6692",
           "#B6E880",
           "#FF97FF",
           "#FECB52"
          ],
          "font": {
           "color": "#2a3f5f"
          },
          "geo": {
           "bgcolor": "white",
           "lakecolor": "white",
           "landcolor": "#E5ECF6",
           "showlakes": true,
           "showland": true,
           "subunitcolor": "white"
          },
          "hoverlabel": {
           "align": "left"
          },
          "hovermode": "closest",
          "mapbox": {
           "style": "light"
          },
          "paper_bgcolor": "white",
          "plot_bgcolor": "#E5ECF6",
          "polar": {
           "angularaxis": {
            "gridcolor": "white",
            "linecolor": "white",
            "ticks": ""
           },
           "bgcolor": "#E5ECF6",
           "radialaxis": {
            "gridcolor": "white",
            "linecolor": "white",
            "ticks": ""
           }
          },
          "scene": {
           "xaxis": {
            "backgroundcolor": "#E5ECF6",
            "gridcolor": "white",
            "gridwidth": 2,
            "linecolor": "white",
            "showbackground": true,
            "ticks": "",
            "zerolinecolor": "white"
           },
           "yaxis": {
            "backgroundcolor": "#E5ECF6",
            "gridcolor": "white",
            "gridwidth": 2,
            "linecolor": "white",
            "showbackground": true,
            "ticks": "",
            "zerolinecolor": "white"
           },
           "zaxis": {
            "backgroundcolor": "#E5ECF6",
            "gridcolor": "white",
            "gridwidth": 2,
            "linecolor": "white",
            "showbackground": true,
            "ticks": "",
            "zerolinecolor": "white"
           }
          },
          "shapedefaults": {
           "line": {
            "color": "#2a3f5f"
           }
          },
          "ternary": {
           "aaxis": {
            "gridcolor": "white",
            "linecolor": "white",
            "ticks": ""
           },
           "baxis": {
            "gridcolor": "white",
            "linecolor": "white",
            "ticks": ""
           },
           "bgcolor": "#E5ECF6",
           "caxis": {
            "gridcolor": "white",
            "linecolor": "white",
            "ticks": ""
           }
          },
          "title": {
           "x": 0.05
          },
          "xaxis": {
           "automargin": true,
           "gridcolor": "white",
           "linecolor": "white",
           "ticks": "",
           "title": {
            "standoff": 15
           },
           "zerolinecolor": "white",
           "zerolinewidth": 2
          },
          "yaxis": {
           "automargin": true,
           "gridcolor": "white",
           "linecolor": "white",
           "ticks": "",
           "title": {
            "standoff": 15
           },
           "zerolinecolor": "white",
           "zerolinewidth": 2
          }
         }
        },
        "title": {
         "text": "Average waiting time of Elevator Calls by Time"
        },
        "updatemenus": [
         {
          "buttons": [
           {
            "args": [
             null,
             {
              "frame": {
               "duration": 500,
               "redraw": true
              },
              "fromcurrent": true,
              "mode": "immediate",
              "transition": {
               "duration": 500,
               "easing": "linear"
              }
             }
            ],
            "label": "&#9654;",
            "method": "animate"
           },
           {
            "args": [
             [
              null
             ],
             {
              "frame": {
               "duration": 0,
               "redraw": true
              },
              "fromcurrent": true,
              "mode": "immediate",
              "transition": {
               "duration": 0,
               "easing": "linear"
              }
             }
            ],
            "label": "&#9724;",
            "method": "animate"
           }
          ],
          "direction": "left",
          "pad": {
           "r": 10,
           "t": 70
          },
          "showactive": false,
          "type": "buttons",
          "x": 0.1,
          "xanchor": "right",
          "y": 0,
          "yanchor": "top"
         }
        ],
        "xaxis": {
         "anchor": "y",
         "categoryarray": [
          0,
          24
         ],
         "domain": [
          0,
          0.49
         ],
         "nticks": 19,
         "title": {
          "text": "Local Time (GMT+8)"
         },
         "type": "category"
        },
        "xaxis2": {
         "anchor": "y2",
         "categoryarray": [
          0,
          24
         ],
         "domain": [
          0.51,
          1
         ],
         "matches": "x",
         "nticks": 19,
         "title": {
          "text": "Local Time (GMT+8)"
         },
         "type": "category"
        },
        "yaxis": {
         "anchor": "x",
         "domain": [
          0,
          1
         ],
         "range": [
          0,
          300
         ],
         "title": {
          "text": "avgWait_weekday"
         }
        },
        "yaxis2": {
         "anchor": "x2",
         "domain": [
          0,
          1
         ],
         "matches": "y",
         "range": [
          0,
          300
         ],
         "showticklabels": false
        }
       }
      },
      "text/html": [
       "<div>\n",
       "        \n",
       "        \n",
       "            <div id=\"6467ca3a-2d82-4143-b17d-630d89885015\" class=\"plotly-graph-div\" style=\"height:525px; width:100%;\"></div>\n",
       "            <script type=\"text/javascript\">\n",
       "                require([\"plotly\"], function(Plotly) {\n",
       "                    window.PLOTLYENV=window.PLOTLYENV || {};\n",
       "                    \n",
       "                if (document.getElementById(\"6467ca3a-2d82-4143-b17d-630d89885015\")) {\n",
       "                    Plotly.newPlot(\n",
       "                        '6467ca3a-2d82-4143-b17d-630d89885015',\n",
       "                        [{\"alignmentgroup\": \"True\", \"hovertemplate\": \"direction=down<br>floor=1<br>Local Time (GMT+8)=%{x}<br>avgWait_weekday=%{y}<extra></extra>\", \"legendgroup\": \"down\", \"marker\": {\"color\": \"#636efa\"}, \"name\": \"down\", \"offsetgroup\": \"down\", \"orientation\": \"v\", \"showlegend\": true, \"textposition\": \"auto\", \"type\": \"bar\", \"x\": [0, 1, 2, 3, 4, 5, 6, 7, 8, 9, 10, 11, 12, 13, 14, 15, 16, 17, 18, 19, 20, 21, 22, 23], \"xaxis\": \"x\", \"y\": [8.03, 8.425, 9.365, 19.943333333333328, 0.67, 25.10833333333333, 24.0622077922078, 33.544444444444444, 30.017647058823535, 18.440099009900987, 22.38050505050505, 16.186874999999993, 26.69333333333333, 24.9458, 24.87350877192982, 25.07018348623853, 20.94330188679245, 22.04549180327869, 16.542741935483868, 14.9778, 12.755555555555556, 7.246, 10.585238095238095, 7.184], \"yaxis\": \"y\"}, {\"alignmentgroup\": \"True\", \"hovertemplate\": \"direction=up<br>floor=1<br>Local Time (GMT+8)=%{x}<br>avgWait_weekday=%{y}<extra></extra>\", \"legendgroup\": \"up\", \"marker\": {\"color\": \"#EF553B\"}, \"name\": \"up\", \"offsetgroup\": \"up\", \"orientation\": \"v\", \"showlegend\": true, \"textposition\": \"auto\", \"type\": \"bar\", \"x\": [0, 1, 2, 3, 4, 5, 6, 7, 8, 9, 10, 11, 12, 13, 14, 15, 16, 17, 18, 19, 20, 21, 22, 23], \"xaxis\": \"x2\", \"y\": [3.78375, 11.136, 10.36, 15.75, 8.65, 16.08909090909091, 16.920881542699725, 13.093651685393256, 12.0787899543379, 13.388571428571426, 13.70707395498392, 11.20741134751773, 12.531948424068771, 12.30185507246377, 14.298044871794872, 13.244548494983276, 13.46622950819672, 14.24584980237154, 15.249947089947089, 12.243076923076925, 11.075999999999999, 9.712916666666667, 9.361983471074382, 12.376666666666667], \"yaxis\": \"y2\"}],\n",
       "                        {\"annotations\": [{\"font\": {}, \"showarrow\": false, \"text\": \"direction=down\", \"x\": 0.245, \"xanchor\": \"center\", \"xref\": \"paper\", \"y\": 1.0, \"yanchor\": \"bottom\", \"yref\": \"paper\"}, {\"font\": {}, \"showarrow\": false, \"text\": \"direction=up\", \"x\": 0.755, \"xanchor\": \"center\", \"xref\": \"paper\", \"y\": 1.0, \"yanchor\": \"bottom\", \"yref\": \"paper\"}], \"barmode\": \"relative\", \"legend\": {\"title\": {\"text\": \"direction\"}, \"tracegroupgap\": 0}, \"margin\": {\"t\": 60}, \"sliders\": [{\"active\": 0, \"currentvalue\": {\"prefix\": \"floor=\"}, \"len\": 0.9, \"pad\": {\"b\": 10, \"t\": 60}, \"steps\": [{\"args\": [[\"1\"], {\"frame\": {\"duration\": 0, \"redraw\": true}, \"fromcurrent\": true, \"mode\": \"immediate\", \"transition\": {\"duration\": 0, \"easing\": \"linear\"}}], \"label\": \"1\", \"method\": \"animate\"}, {\"args\": [[\"2\"], {\"frame\": {\"duration\": 0, \"redraw\": true}, \"fromcurrent\": true, \"mode\": \"immediate\", \"transition\": {\"duration\": 0, \"easing\": \"linear\"}}], \"label\": \"2\", \"method\": \"animate\"}, {\"args\": [[\"3\"], {\"frame\": {\"duration\": 0, \"redraw\": true}, \"fromcurrent\": true, \"mode\": \"immediate\", \"transition\": {\"duration\": 0, \"easing\": \"linear\"}}], \"label\": \"3\", \"method\": \"animate\"}, {\"args\": [[\"4\"], {\"frame\": {\"duration\": 0, \"redraw\": true}, \"fromcurrent\": true, \"mode\": \"immediate\", \"transition\": {\"duration\": 0, \"easing\": \"linear\"}}], \"label\": \"4\", \"method\": \"animate\"}, {\"args\": [[\"5\"], {\"frame\": {\"duration\": 0, \"redraw\": true}, \"fromcurrent\": true, \"mode\": \"immediate\", \"transition\": {\"duration\": 0, \"easing\": \"linear\"}}], \"label\": \"5\", \"method\": \"animate\"}, {\"args\": [[\"6\"], {\"frame\": {\"duration\": 0, \"redraw\": true}, \"fromcurrent\": true, \"mode\": \"immediate\", \"transition\": {\"duration\": 0, \"easing\": \"linear\"}}], \"label\": \"6\", \"method\": \"animate\"}, {\"args\": [[\"7\"], {\"frame\": {\"duration\": 0, \"redraw\": true}, \"fromcurrent\": true, \"mode\": \"immediate\", \"transition\": {\"duration\": 0, \"easing\": \"linear\"}}], \"label\": \"7\", \"method\": \"animate\"}, {\"args\": [[\"8\"], {\"frame\": {\"duration\": 0, \"redraw\": true}, \"fromcurrent\": true, \"mode\": \"immediate\", \"transition\": {\"duration\": 0, \"easing\": \"linear\"}}], \"label\": \"8\", \"method\": \"animate\"}, {\"args\": [[\"9\"], {\"frame\": {\"duration\": 0, \"redraw\": true}, \"fromcurrent\": true, \"mode\": \"immediate\", \"transition\": {\"duration\": 0, \"easing\": \"linear\"}}], \"label\": \"9\", \"method\": \"animate\"}, {\"args\": [[\"10\"], {\"frame\": {\"duration\": 0, \"redraw\": true}, \"fromcurrent\": true, \"mode\": \"immediate\", \"transition\": {\"duration\": 0, \"easing\": \"linear\"}}], \"label\": \"10\", \"method\": \"animate\"}, {\"args\": [[\"11\"], {\"frame\": {\"duration\": 0, \"redraw\": true}, \"fromcurrent\": true, \"mode\": \"immediate\", \"transition\": {\"duration\": 0, \"easing\": \"linear\"}}], \"label\": \"11\", \"method\": \"animate\"}, {\"args\": [[\"12\"], {\"frame\": {\"duration\": 0, \"redraw\": true}, \"fromcurrent\": true, \"mode\": \"immediate\", \"transition\": {\"duration\": 0, \"easing\": \"linear\"}}], \"label\": \"12\", \"method\": \"animate\"}, {\"args\": [[\"13\"], {\"frame\": {\"duration\": 0, \"redraw\": true}, \"fromcurrent\": true, \"mode\": \"immediate\", \"transition\": {\"duration\": 0, \"easing\": \"linear\"}}], \"label\": \"13\", \"method\": \"animate\"}, {\"args\": [[\"14\"], {\"frame\": {\"duration\": 0, \"redraw\": true}, \"fromcurrent\": true, \"mode\": \"immediate\", \"transition\": {\"duration\": 0, \"easing\": \"linear\"}}], \"label\": \"14\", \"method\": \"animate\"}, {\"args\": [[\"15\"], {\"frame\": {\"duration\": 0, \"redraw\": true}, \"fromcurrent\": true, \"mode\": \"immediate\", \"transition\": {\"duration\": 0, \"easing\": \"linear\"}}], \"label\": \"15\", \"method\": \"animate\"}, {\"args\": [[\"B1\"], {\"frame\": {\"duration\": 0, \"redraw\": true}, \"fromcurrent\": true, \"mode\": \"immediate\", \"transition\": {\"duration\": 0, \"easing\": \"linear\"}}], \"label\": \"B1\", \"method\": \"animate\"}, {\"args\": [[\"B3\"], {\"frame\": {\"duration\": 0, \"redraw\": true}, \"fromcurrent\": true, \"mode\": \"immediate\", \"transition\": {\"duration\": 0, \"easing\": \"linear\"}}], \"label\": \"B3\", \"method\": \"animate\"}, {\"args\": [[\"B4\"], {\"frame\": {\"duration\": 0, \"redraw\": true}, \"fromcurrent\": true, \"mode\": \"immediate\", \"transition\": {\"duration\": 0, \"easing\": \"linear\"}}], \"label\": \"B4\", \"method\": \"animate\"}], \"x\": 0.1, \"xanchor\": \"left\", \"y\": 0, \"yanchor\": \"top\"}], \"template\": {\"data\": {\"bar\": [{\"error_x\": {\"color\": \"#2a3f5f\"}, \"error_y\": {\"color\": \"#2a3f5f\"}, \"marker\": {\"line\": {\"color\": \"#E5ECF6\", \"width\": 0.5}}, \"type\": \"bar\"}], \"barpolar\": [{\"marker\": {\"line\": {\"color\": \"#E5ECF6\", \"width\": 0.5}}, \"type\": \"barpolar\"}], \"carpet\": [{\"aaxis\": {\"endlinecolor\": \"#2a3f5f\", \"gridcolor\": \"white\", \"linecolor\": \"white\", \"minorgridcolor\": \"white\", \"startlinecolor\": \"#2a3f5f\"}, \"baxis\": {\"endlinecolor\": \"#2a3f5f\", \"gridcolor\": \"white\", \"linecolor\": \"white\", \"minorgridcolor\": \"white\", \"startlinecolor\": \"#2a3f5f\"}, \"type\": \"carpet\"}], \"choropleth\": [{\"colorbar\": {\"outlinewidth\": 0, \"ticks\": \"\"}, \"type\": \"choropleth\"}], \"contour\": [{\"colorbar\": {\"outlinewidth\": 0, \"ticks\": \"\"}, \"colorscale\": [[0.0, \"#0d0887\"], [0.1111111111111111, \"#46039f\"], [0.2222222222222222, \"#7201a8\"], [0.3333333333333333, \"#9c179e\"], [0.4444444444444444, \"#bd3786\"], [0.5555555555555556, \"#d8576b\"], [0.6666666666666666, \"#ed7953\"], [0.7777777777777778, \"#fb9f3a\"], [0.8888888888888888, \"#fdca26\"], [1.0, \"#f0f921\"]], \"type\": \"contour\"}], \"contourcarpet\": [{\"colorbar\": {\"outlinewidth\": 0, \"ticks\": \"\"}, \"type\": \"contourcarpet\"}], \"heatmap\": [{\"colorbar\": {\"outlinewidth\": 0, \"ticks\": \"\"}, \"colorscale\": [[0.0, \"#0d0887\"], [0.1111111111111111, \"#46039f\"], [0.2222222222222222, \"#7201a8\"], [0.3333333333333333, \"#9c179e\"], [0.4444444444444444, \"#bd3786\"], [0.5555555555555556, \"#d8576b\"], [0.6666666666666666, \"#ed7953\"], [0.7777777777777778, \"#fb9f3a\"], [0.8888888888888888, \"#fdca26\"], [1.0, \"#f0f921\"]], \"type\": \"heatmap\"}], \"heatmapgl\": [{\"colorbar\": {\"outlinewidth\": 0, \"ticks\": \"\"}, \"colorscale\": [[0.0, \"#0d0887\"], [0.1111111111111111, \"#46039f\"], [0.2222222222222222, \"#7201a8\"], [0.3333333333333333, \"#9c179e\"], [0.4444444444444444, \"#bd3786\"], [0.5555555555555556, \"#d8576b\"], [0.6666666666666666, \"#ed7953\"], [0.7777777777777778, \"#fb9f3a\"], [0.8888888888888888, \"#fdca26\"], [1.0, \"#f0f921\"]], \"type\": \"heatmapgl\"}], \"histogram\": [{\"marker\": {\"colorbar\": {\"outlinewidth\": 0, \"ticks\": \"\"}}, \"type\": \"histogram\"}], \"histogram2d\": [{\"colorbar\": {\"outlinewidth\": 0, \"ticks\": \"\"}, \"colorscale\": [[0.0, \"#0d0887\"], [0.1111111111111111, \"#46039f\"], [0.2222222222222222, \"#7201a8\"], [0.3333333333333333, \"#9c179e\"], [0.4444444444444444, \"#bd3786\"], [0.5555555555555556, \"#d8576b\"], [0.6666666666666666, \"#ed7953\"], [0.7777777777777778, \"#fb9f3a\"], [0.8888888888888888, \"#fdca26\"], [1.0, \"#f0f921\"]], \"type\": \"histogram2d\"}], \"histogram2dcontour\": [{\"colorbar\": {\"outlinewidth\": 0, \"ticks\": \"\"}, \"colorscale\": [[0.0, \"#0d0887\"], [0.1111111111111111, \"#46039f\"], [0.2222222222222222, \"#7201a8\"], [0.3333333333333333, \"#9c179e\"], [0.4444444444444444, \"#bd3786\"], [0.5555555555555556, \"#d8576b\"], [0.6666666666666666, \"#ed7953\"], [0.7777777777777778, \"#fb9f3a\"], [0.8888888888888888, \"#fdca26\"], [1.0, \"#f0f921\"]], \"type\": \"histogram2dcontour\"}], \"mesh3d\": [{\"colorbar\": {\"outlinewidth\": 0, \"ticks\": \"\"}, \"type\": \"mesh3d\"}], \"parcoords\": [{\"line\": {\"colorbar\": {\"outlinewidth\": 0, \"ticks\": \"\"}}, \"type\": \"parcoords\"}], \"pie\": [{\"automargin\": true, \"type\": \"pie\"}], \"scatter\": [{\"marker\": {\"colorbar\": {\"outlinewidth\": 0, \"ticks\": \"\"}}, \"type\": \"scatter\"}], \"scatter3d\": [{\"line\": {\"colorbar\": {\"outlinewidth\": 0, \"ticks\": \"\"}}, \"marker\": {\"colorbar\": {\"outlinewidth\": 0, \"ticks\": \"\"}}, \"type\": \"scatter3d\"}], \"scattercarpet\": [{\"marker\": {\"colorbar\": {\"outlinewidth\": 0, \"ticks\": \"\"}}, \"type\": \"scattercarpet\"}], \"scattergeo\": [{\"marker\": {\"colorbar\": {\"outlinewidth\": 0, \"ticks\": \"\"}}, \"type\": \"scattergeo\"}], \"scattergl\": [{\"marker\": {\"colorbar\": {\"outlinewidth\": 0, \"ticks\": \"\"}}, \"type\": \"scattergl\"}], \"scattermapbox\": [{\"marker\": {\"colorbar\": {\"outlinewidth\": 0, \"ticks\": \"\"}}, \"type\": \"scattermapbox\"}], \"scatterpolar\": [{\"marker\": {\"colorbar\": {\"outlinewidth\": 0, \"ticks\": \"\"}}, \"type\": \"scatterpolar\"}], \"scatterpolargl\": [{\"marker\": {\"colorbar\": {\"outlinewidth\": 0, \"ticks\": \"\"}}, \"type\": \"scatterpolargl\"}], \"scatterternary\": [{\"marker\": {\"colorbar\": {\"outlinewidth\": 0, \"ticks\": \"\"}}, \"type\": \"scatterternary\"}], \"surface\": [{\"colorbar\": {\"outlinewidth\": 0, \"ticks\": \"\"}, \"colorscale\": [[0.0, \"#0d0887\"], [0.1111111111111111, \"#46039f\"], [0.2222222222222222, \"#7201a8\"], [0.3333333333333333, \"#9c179e\"], [0.4444444444444444, \"#bd3786\"], [0.5555555555555556, \"#d8576b\"], [0.6666666666666666, \"#ed7953\"], [0.7777777777777778, \"#fb9f3a\"], [0.8888888888888888, \"#fdca26\"], [1.0, \"#f0f921\"]], \"type\": \"surface\"}], \"table\": [{\"cells\": {\"fill\": {\"color\": \"#EBF0F8\"}, \"line\": {\"color\": \"white\"}}, \"header\": {\"fill\": {\"color\": \"#C8D4E3\"}, \"line\": {\"color\": \"white\"}}, \"type\": \"table\"}]}, \"layout\": {\"annotationdefaults\": {\"arrowcolor\": \"#2a3f5f\", \"arrowhead\": 0, \"arrowwidth\": 1}, \"coloraxis\": {\"colorbar\": {\"outlinewidth\": 0, \"ticks\": \"\"}}, \"colorscale\": {\"diverging\": [[0, \"#8e0152\"], [0.1, \"#c51b7d\"], [0.2, \"#de77ae\"], [0.3, \"#f1b6da\"], [0.4, \"#fde0ef\"], [0.5, \"#f7f7f7\"], [0.6, \"#e6f5d0\"], [0.7, \"#b8e186\"], [0.8, \"#7fbc41\"], [0.9, \"#4d9221\"], [1, \"#276419\"]], \"sequential\": [[0.0, \"#0d0887\"], [0.1111111111111111, \"#46039f\"], [0.2222222222222222, \"#7201a8\"], [0.3333333333333333, \"#9c179e\"], [0.4444444444444444, \"#bd3786\"], [0.5555555555555556, \"#d8576b\"], [0.6666666666666666, \"#ed7953\"], [0.7777777777777778, \"#fb9f3a\"], [0.8888888888888888, \"#fdca26\"], [1.0, \"#f0f921\"]], \"sequentialminus\": [[0.0, \"#0d0887\"], [0.1111111111111111, \"#46039f\"], [0.2222222222222222, \"#7201a8\"], [0.3333333333333333, \"#9c179e\"], [0.4444444444444444, \"#bd3786\"], [0.5555555555555556, \"#d8576b\"], [0.6666666666666666, \"#ed7953\"], [0.7777777777777778, \"#fb9f3a\"], [0.8888888888888888, \"#fdca26\"], [1.0, \"#f0f921\"]]}, \"colorway\": [\"#636efa\", \"#EF553B\", \"#00cc96\", \"#ab63fa\", \"#FFA15A\", \"#19d3f3\", \"#FF6692\", \"#B6E880\", \"#FF97FF\", \"#FECB52\"], \"font\": {\"color\": \"#2a3f5f\"}, \"geo\": {\"bgcolor\": \"white\", \"lakecolor\": \"white\", \"landcolor\": \"#E5ECF6\", \"showlakes\": true, \"showland\": true, \"subunitcolor\": \"white\"}, \"hoverlabel\": {\"align\": \"left\"}, \"hovermode\": \"closest\", \"mapbox\": {\"style\": \"light\"}, \"paper_bgcolor\": \"white\", \"plot_bgcolor\": \"#E5ECF6\", \"polar\": {\"angularaxis\": {\"gridcolor\": \"white\", \"linecolor\": \"white\", \"ticks\": \"\"}, \"bgcolor\": \"#E5ECF6\", \"radialaxis\": {\"gridcolor\": \"white\", \"linecolor\": \"white\", \"ticks\": \"\"}}, \"scene\": {\"xaxis\": {\"backgroundcolor\": \"#E5ECF6\", \"gridcolor\": \"white\", \"gridwidth\": 2, \"linecolor\": \"white\", \"showbackground\": true, \"ticks\": \"\", \"zerolinecolor\": \"white\"}, \"yaxis\": {\"backgroundcolor\": \"#E5ECF6\", \"gridcolor\": \"white\", \"gridwidth\": 2, \"linecolor\": \"white\", \"showbackground\": true, \"ticks\": \"\", \"zerolinecolor\": \"white\"}, \"zaxis\": {\"backgroundcolor\": \"#E5ECF6\", \"gridcolor\": \"white\", \"gridwidth\": 2, \"linecolor\": \"white\", \"showbackground\": true, \"ticks\": \"\", \"zerolinecolor\": \"white\"}}, \"shapedefaults\": {\"line\": {\"color\": \"#2a3f5f\"}}, \"ternary\": {\"aaxis\": {\"gridcolor\": \"white\", \"linecolor\": \"white\", \"ticks\": \"\"}, \"baxis\": {\"gridcolor\": \"white\", \"linecolor\": \"white\", \"ticks\": \"\"}, \"bgcolor\": \"#E5ECF6\", \"caxis\": {\"gridcolor\": \"white\", \"linecolor\": \"white\", \"ticks\": \"\"}}, \"title\": {\"x\": 0.05}, \"xaxis\": {\"automargin\": true, \"gridcolor\": \"white\", \"linecolor\": \"white\", \"ticks\": \"\", \"title\": {\"standoff\": 15}, \"zerolinecolor\": \"white\", \"zerolinewidth\": 2}, \"yaxis\": {\"automargin\": true, \"gridcolor\": \"white\", \"linecolor\": \"white\", \"ticks\": \"\", \"title\": {\"standoff\": 15}, \"zerolinecolor\": \"white\", \"zerolinewidth\": 2}}}, \"title\": {\"text\": \"Average waiting time of Elevator Calls by Time\"}, \"updatemenus\": [{\"buttons\": [{\"args\": [null, {\"frame\": {\"duration\": 500, \"redraw\": true}, \"fromcurrent\": true, \"mode\": \"immediate\", \"transition\": {\"duration\": 500, \"easing\": \"linear\"}}], \"label\": \"&#9654;\", \"method\": \"animate\"}, {\"args\": [[null], {\"frame\": {\"duration\": 0, \"redraw\": true}, \"fromcurrent\": true, \"mode\": \"immediate\", \"transition\": {\"duration\": 0, \"easing\": \"linear\"}}], \"label\": \"&#9724;\", \"method\": \"animate\"}], \"direction\": \"left\", \"pad\": {\"r\": 10, \"t\": 70}, \"showactive\": false, \"type\": \"buttons\", \"x\": 0.1, \"xanchor\": \"right\", \"y\": 0, \"yanchor\": \"top\"}], \"xaxis\": {\"anchor\": \"y\", \"categoryarray\": [0, 24], \"domain\": [0.0, 0.49], \"nticks\": 19, \"title\": {\"text\": \"Local Time (GMT+8)\"}, \"type\": \"category\"}, \"xaxis2\": {\"anchor\": \"y2\", \"categoryarray\": [0, 24], \"domain\": [0.51, 1.0], \"matches\": \"x\", \"nticks\": 19, \"title\": {\"text\": \"Local Time (GMT+8)\"}, \"type\": \"category\"}, \"yaxis\": {\"anchor\": \"x\", \"domain\": [0.0, 1.0], \"range\": [0, 300], \"title\": {\"text\": \"avgWait_weekday\"}}, \"yaxis2\": {\"anchor\": \"x2\", \"domain\": [0.0, 1.0], \"matches\": \"y\", \"range\": [0, 300], \"showticklabels\": false}},\n",
       "                        {\"responsive\": true}\n",
       "                    ).then(function(){\n",
       "                            Plotly.addFrames('6467ca3a-2d82-4143-b17d-630d89885015', [{\"data\": [{\"alignmentgroup\": \"True\", \"hovertemplate\": \"direction=down<br>floor=1<br>Local Time (GMT+8)=%{x}<br>avgWait_weekday=%{y}<extra></extra>\", \"legendgroup\": \"down\", \"marker\": {\"color\": \"#636efa\"}, \"name\": \"down\", \"offsetgroup\": \"down\", \"orientation\": \"v\", \"showlegend\": true, \"textposition\": \"auto\", \"x\": [0, 1, 2, 3, 4, 5, 6, 7, 8, 9, 10, 11, 12, 13, 14, 15, 16, 17, 18, 19, 20, 21, 22, 23], \"xaxis\": \"x\", \"y\": [8.03, 8.425, 9.365, 19.943333333333328, 0.67, 25.10833333333333, 24.0622077922078, 33.544444444444444, 30.017647058823535, 18.440099009900987, 22.38050505050505, 16.186874999999993, 26.69333333333333, 24.9458, 24.87350877192982, 25.07018348623853, 20.94330188679245, 22.04549180327869, 16.542741935483868, 14.9778, 12.755555555555556, 7.246, 10.585238095238095, 7.184], \"yaxis\": \"y\", \"type\": \"bar\"}, {\"alignmentgroup\": \"True\", \"hovertemplate\": \"direction=up<br>floor=1<br>Local Time (GMT+8)=%{x}<br>avgWait_weekday=%{y}<extra></extra>\", \"legendgroup\": \"up\", \"marker\": {\"color\": \"#EF553B\"}, \"name\": \"up\", \"offsetgroup\": \"up\", \"orientation\": \"v\", \"showlegend\": true, \"textposition\": \"auto\", \"x\": [0, 1, 2, 3, 4, 5, 6, 7, 8, 9, 10, 11, 12, 13, 14, 15, 16, 17, 18, 19, 20, 21, 22, 23], \"xaxis\": \"x2\", \"y\": [3.78375, 11.136, 10.36, 15.75, 8.65, 16.08909090909091, 16.920881542699725, 13.093651685393256, 12.0787899543379, 13.388571428571426, 13.70707395498392, 11.20741134751773, 12.531948424068771, 12.30185507246377, 14.298044871794872, 13.244548494983276, 13.46622950819672, 14.24584980237154, 15.249947089947089, 12.243076923076925, 11.075999999999999, 9.712916666666667, 9.361983471074382, 12.376666666666667], \"yaxis\": \"y2\", \"type\": \"bar\"}], \"name\": \"1\"}, {\"data\": [{\"alignmentgroup\": \"True\", \"hovertemplate\": \"direction=down<br>floor=2<br>Local Time (GMT+8)=%{x}<br>avgWait_weekday=%{y}<extra></extra>\", \"legendgroup\": \"down\", \"marker\": {\"color\": \"#636efa\"}, \"name\": \"down\", \"offsetgroup\": \"down\", \"orientation\": \"v\", \"showlegend\": true, \"textposition\": \"auto\", \"x\": [1, 6, 7, 8, 9, 10, 11, 12, 13, 14, 15, 16, 17, 18, 19, 20, 21, 22, 23], \"xaxis\": \"x\", \"y\": [1.24, 11.63, 36.74321428571428, 35.01154929577465, 28.764675324675327, 37.01015625, 24.17361111111111, 30.095, 35.291585365853656, 29.43313253012048, 25.493595505617986, 26.157341772151906, 18.3768253968254, 23.60795918367347, 21.28529411764705, 12.496363636363638, 17.56, 17.93, 17.65], \"yaxis\": \"y\", \"type\": \"bar\"}, {\"alignmentgroup\": \"True\", \"hovertemplate\": \"direction=up<br>floor=2<br>Local Time (GMT+8)=%{x}<br>avgWait_weekday=%{y}<extra></extra>\", \"legendgroup\": \"up\", \"marker\": {\"color\": \"#EF553B\"}, \"name\": \"up\", \"offsetgroup\": \"up\", \"orientation\": \"v\", \"showlegend\": true, \"textposition\": \"auto\", \"x\": [0, 4, 6, 7, 8, 9, 10, 11, 12, 13, 14, 15, 16, 17, 18, 19, 20, 21, 22, 23], \"xaxis\": \"x2\", \"y\": [17.56, 16.23, 15.592, 10.393766233766234, 9.845343511450382, 15.068928571428568, 9.086277372262774, 10.625308641975307, 9.719496855345913, 9.67736842105263, 9.962236842105263, 10.565414012738854, 9.040130718954249, 10.687218045112779, 11.778194444444445, 14.951, 11.019230769230768, 11.052, 19.81, 0.92], \"yaxis\": \"y2\", \"type\": \"bar\"}], \"name\": \"2\"}, {\"data\": [{\"alignmentgroup\": \"True\", \"hovertemplate\": \"direction=down<br>floor=3<br>Local Time (GMT+8)=%{x}<br>avgWait_weekday=%{y}<extra></extra>\", \"legendgroup\": \"down\", \"marker\": {\"color\": \"#636efa\"}, \"name\": \"down\", \"offsetgroup\": \"down\", \"orientation\": \"v\", \"showlegend\": true, \"textposition\": \"auto\", \"x\": [0, 1, 2, 3, 4, 5, 6, 7, 8, 9, 10, 11, 12, 13, 14, 15, 16, 17, 18, 19, 20, 21, 22, 23], \"xaxis\": \"x\", \"y\": [19.435, 9.195, 15.795999999999998, 18.53, 1.59, 19.185, 24.36666666666667, 29.16791666666667, 37.08492063492064, 34.77699029126214, 27.345057471264372, 27.17586466165414, 33.076153846153844, 43.14269230769231, 34.79205607476636, 29.85433628318584, 29.853188405797106, 31.92855670103093, 22.90538461538461, 19.352285714285713, 13.575517241379313, 14.822142857142856, 16.63444444444444, 18.75], \"yaxis\": \"y\", \"type\": \"bar\"}, {\"alignmentgroup\": \"True\", \"hovertemplate\": \"direction=up<br>floor=3<br>Local Time (GMT+8)=%{x}<br>avgWait_weekday=%{y}<extra></extra>\", \"legendgroup\": \"up\", \"marker\": {\"color\": \"#EF553B\"}, \"name\": \"up\", \"offsetgroup\": \"up\", \"orientation\": \"v\", \"showlegend\": true, \"textposition\": \"auto\", \"x\": [0, 1, 2, 3, 4, 6, 7, 8, 9, 10, 11, 12, 13, 14, 15, 16, 17, 18, 19, 20, 21, 22, 23], \"xaxis\": \"x2\", \"y\": [14.225882352941177, 15.046666666666667, 10.446666666666664, 19.05, 9.275, 8.01, 9.027333333333333, 7.637755102040817, 10.831728395061727, 10.271566265060242, 8.814210526315788, 7.915147058823528, 10.330561797752807, 9.455461538461538, 11.30528, 9.854083333333334, 12.0923595505618, 10.017567567567568, 14.84, 13.214444444444444, 11.881818181818181, 8.68, 12.398333333333332], \"yaxis\": \"y2\", \"type\": \"bar\"}], \"name\": \"3\"}, {\"data\": [{\"alignmentgroup\": \"True\", \"hovertemplate\": \"direction=down<br>floor=4<br>Local Time (GMT+8)=%{x}<br>avgWait_weekday=%{y}<extra></extra>\", \"legendgroup\": \"down\", \"marker\": {\"color\": \"#636efa\"}, \"name\": \"down\", \"offsetgroup\": \"down\", \"orientation\": \"v\", \"showlegend\": true, \"textposition\": \"auto\", \"x\": [0, 1, 2, 4, 5, 6, 7, 8, 9, 10, 11, 12, 13, 14, 15, 16, 17, 18, 19, 20, 21, 22, 23], \"xaxis\": \"x\", \"y\": [14.218, 13.628, 1.6, 1.48, 17.965, 29.2575, 28.6555, 40.471111111111114, 32.21, 49.31260869565217, 35.90232876712329, 24.990701754385967, 39.21245901639345, 52.843999999999994, 44.42030000000001, 35.33483870967742, 26.321263157894734, 30.79460317460317, 19.04875, 16.865666666666666, 19.4048, 19.437419354838703, 13.6625], \"yaxis\": \"y\", \"type\": \"bar\"}, {\"alignmentgroup\": \"True\", \"hovertemplate\": \"direction=up<br>floor=4<br>Local Time (GMT+8)=%{x}<br>avgWait_weekday=%{y}<extra></extra>\", \"legendgroup\": \"up\", \"marker\": {\"color\": \"#EF553B\"}, \"name\": \"up\", \"offsetgroup\": \"up\", \"orientation\": \"v\", \"showlegend\": true, \"textposition\": \"auto\", \"x\": [0, 1, 2, 3, 4, 5, 6, 7, 8, 9, 10, 11, 12, 13, 14, 15, 16, 17, 18, 19, 20, 21, 22, 23], \"xaxis\": \"x2\", \"y\": [14.673666666666666, 14.339166666666667, 13.96, 17.5, 18.7, 16.78, 15.766818181818184, 10.303809523809523, 9.807317073170733, 9.114137931034485, 9.694130434782608, 10.394096385542168, 9.125754716981133, 8.7271, 11.327542372881355, 9.75609022556391, 11.835, 10.73032, 17.817777777777778, 16.410117647058822, 16.735833333333332, 14.150869565217393, 12.682916666666666, 11.448571428571427], \"yaxis\": \"y2\", \"type\": \"bar\"}], \"name\": \"4\"}, {\"data\": [{\"alignmentgroup\": \"True\", \"hovertemplate\": \"direction=down<br>floor=5<br>Local Time (GMT+8)=%{x}<br>avgWait_weekday=%{y}<extra></extra>\", \"legendgroup\": \"down\", \"marker\": {\"color\": \"#636efa\"}, \"name\": \"down\", \"offsetgroup\": \"down\", \"orientation\": \"v\", \"showlegend\": true, \"textposition\": \"auto\", \"x\": [0, 1, 2, 3, 4, 5, 6, 7, 8, 9, 10, 11, 12, 13, 14, 15, 16, 17, 18, 19, 20, 21, 22, 23], \"xaxis\": \"x\", \"y\": [10.56625, 10.86, 10.61, 17.959999999999994, 15.97, 29.4225, 20.348000000000006, 34.471, 40.82443037974684, 46.30752808988765, 41.4441095890411, 54.33087378640776, 38.430917431192654, 44.07285714285714, 45.701410256410256, 47.35247524752476, 47.7856, 46.56439393939394, 33.256534653465344, 26.498709677419356, 16.945, 12.99425, 17.574444444444445, 19.92875], \"yaxis\": \"y\", \"type\": \"bar\"}, {\"alignmentgroup\": \"True\", \"hovertemplate\": \"direction=up<br>floor=5<br>Local Time (GMT+8)=%{x}<br>avgWait_weekday=%{y}<extra></extra>\", \"legendgroup\": \"up\", \"marker\": {\"color\": \"#EF553B\"}, \"name\": \"up\", \"offsetgroup\": \"up\", \"orientation\": \"v\", \"showlegend\": true, \"textposition\": \"auto\", \"x\": [0, 1, 2, 3, 4, 5, 6, 7, 8, 9, 10, 11, 12, 13, 14, 15, 16, 17, 18, 19, 20, 21, 22, 23], \"xaxis\": \"x2\", \"y\": [13.060588235294118, 14.115, 9.592222222222222, 13.654285714285715, 15.84666666666667, 11.6575, 13.244285714285715, 10.4135, 9.978, 9.838285714285718, 10.325833333333335, 11.078316831683168, 8.859634146341463, 10.059102564102563, 10.295963302752293, 9.69009900990099, 12.308659793814433, 11.762911392405064, 15.86862745098039, 15.570232558139534, 18.722500000000004, 14.415384615384614, 17.02235294117647, 15.12], \"yaxis\": \"y2\", \"type\": \"bar\"}], \"name\": \"5\"}, {\"data\": [{\"alignmentgroup\": \"True\", \"hovertemplate\": \"direction=down<br>floor=6<br>Local Time (GMT+8)=%{x}<br>avgWait_weekday=%{y}<extra></extra>\", \"legendgroup\": \"down\", \"marker\": {\"color\": \"#636efa\"}, \"name\": \"down\", \"offsetgroup\": \"down\", \"orientation\": \"v\", \"showlegend\": true, \"textposition\": \"auto\", \"x\": [0, 1, 2, 3, 4, 5, 6, 7, 8, 9, 10, 11, 12, 13, 14, 15, 16, 17, 18, 19, 20, 21, 22, 23], \"xaxis\": \"x\", \"y\": [1.61, 1.48, 5.446000000000001, 11.658, 12.684, 14.869999999999996, 18.330366972477066, 22.77988826815643, 13.50298611111111, 12.746573033707865, 13.780436893203886, 10.639719626168224, 10.897340425531914, 12.411571428571428, 14.324194915254235, 10.781720930232561, 11.968761904761903, 8.888839285714285, 12.17037234042553, 15.827961165048544, 12.648170731707316, 12.462391304347825, 12.79271186440678, 14.178923076923075], \"yaxis\": \"y\", \"type\": \"bar\"}, {\"alignmentgroup\": \"True\", \"hovertemplate\": \"direction=up<br>floor=6<br>Local Time (GMT+8)=%{x}<br>avgWait_weekday=%{y}<extra></extra>\", \"legendgroup\": \"up\", \"marker\": {\"color\": \"#EF553B\"}, \"name\": \"up\", \"offsetgroup\": \"up\", \"orientation\": \"v\", \"showlegend\": true, \"textposition\": \"auto\", \"x\": [0, 1, 5, 6, 7, 8, 9, 10, 11, 12, 13, 14, 15, 16, 17, 18, 19, 20, 21, 22, 23], \"xaxis\": \"x2\", \"y\": [8.64, 3.92, 13.876, 22.400454545454544, 39.46348484848485, 52.73866666666666, 57.50764705882354, 43.27655737704918, 81.95076923076924, 66.72657142857143, 72.84161290322581, 66.5485, 72.45718749999997, 69.12615384615385, 66.17484848484848, 49.11749999999999, 23.463750000000005, 28.1825, 23.660000000000004, 11.765, 13.3165625], \"yaxis\": \"y2\", \"type\": \"bar\"}], \"name\": \"6\"}, {\"data\": [{\"alignmentgroup\": \"True\", \"hovertemplate\": \"direction=down<br>floor=7<br>Local Time (GMT+8)=%{x}<br>avgWait_weekday=%{y}<extra></extra>\", \"legendgroup\": \"down\", \"marker\": {\"color\": \"#636efa\"}, \"name\": \"down\", \"offsetgroup\": \"down\", \"orientation\": \"v\", \"showlegend\": true, \"textposition\": \"auto\", \"x\": [0, 1, 2, 3, 4, 5, 6, 7, 8, 9, 10, 11, 12, 13, 14, 15, 16, 17, 18, 19, 20, 21, 22, 23], \"xaxis\": \"x\", \"y\": [15.10625, 14.42875, 10.45, 17.128, 13.28, 21.79, 19.0025, 20.174693877551018, 14.441969696969698, 23.77867647058824, 13.658615384615386, 11.37225988700565, 11.698097826086956, 10.745925925925924, 11.555714285714286, 11.113006134969325, 11.547013888888891, 11.087283018867923, 12.048626373626375, 16.23556818181818, 13.99390243902439, 16.493000000000002, 16.96777777777778, 17.414444444444445], \"yaxis\": \"y\", \"type\": \"bar\"}, {\"alignmentgroup\": \"True\", \"hovertemplate\": \"direction=up<br>floor=7<br>Local Time (GMT+8)=%{x}<br>avgWait_weekday=%{y}<extra></extra>\", \"legendgroup\": \"up\", \"marker\": {\"color\": \"#EF553B\"}, \"name\": \"up\", \"offsetgroup\": \"up\", \"orientation\": \"v\", \"showlegend\": true, \"textposition\": \"auto\", \"x\": [0, 1, 2, 3, 4, 5, 6, 7, 8, 9, 10, 11, 12, 13, 14, 15, 16, 17, 18, 19, 20, 21, 22, 23], \"xaxis\": \"x2\", \"y\": [10.358571428571429, 10.14, 5.996666666666666, 7.745, 7.840000000000002, 12.6375, 19.965, 30.5975, 50.574615384615385, 49.654, 49.59741935483871, 75.44127659574468, 59.97212121212121, 74.63418604651162, 58.63872727272727, 60.96323529411765, 62.5461403508772, 63.2878125, 41.03916666666667, 25.535555555555554, 23.545, 7.99, 14.09625, 10.655999999999999], \"yaxis\": \"y2\", \"type\": \"bar\"}], \"name\": \"7\"}, {\"data\": [{\"alignmentgroup\": \"True\", \"hovertemplate\": \"direction=down<br>floor=8<br>Local Time (GMT+8)=%{x}<br>avgWait_weekday=%{y}<extra></extra>\", \"legendgroup\": \"down\", \"marker\": {\"color\": \"#636efa\"}, \"name\": \"down\", \"offsetgroup\": \"down\", \"orientation\": \"v\", \"showlegend\": true, \"textposition\": \"auto\", \"x\": [0, 1, 2, 3, 5, 6, 7, 8, 9, 10, 11, 12, 13, 14, 15, 16, 17, 18, 19, 20, 21, 22, 23], \"xaxis\": \"x\", \"y\": [13.192352941176472, 13.823333333333332, 8.645, 1.57, 15.626666666666667, 18.69, 25.65685714285714, 17.744827586206892, 16.423592814371258, 13.25740506329114, 11.253636363636362, 11.650054945054945, 14.322146596858635, 13.801686046511627, 14.991263157894736, 14.591090047393365, 11.033951612903225, 14.576572769953053, 15.275789473684213, 14.232823529411766, 15.77315789473684, 13.486521739130435, 13.088500000000002], \"yaxis\": \"y\", \"type\": \"bar\"}, {\"alignmentgroup\": \"True\", \"hovertemplate\": \"direction=up<br>floor=8<br>Local Time (GMT+8)=%{x}<br>avgWait_weekday=%{y}<extra></extra>\", \"legendgroup\": \"up\", \"marker\": {\"color\": \"#EF553B\"}, \"name\": \"up\", \"offsetgroup\": \"up\", \"orientation\": \"v\", \"showlegend\": true, \"textposition\": \"auto\", \"x\": [7, 8, 9, 10, 11, 12, 13, 14, 15, 16, 17, 18, 19, 20, 21, 22], \"xaxis\": \"x2\", \"y\": [35.63, 38.549583333333345, 51.1578125, 42.74677419354838, 47.22413793103448, 32.99249999999999, 62.41333333333333, 35.18818181818182, 38.51147058823529, 36.65055555555556, 41.66777777777778, 62.404285714285706, 14.082, 28.047999999999995, 16.335, 18.085], \"yaxis\": \"y2\", \"type\": \"bar\"}], \"name\": \"8\"}, {\"data\": [{\"alignmentgroup\": \"True\", \"hovertemplate\": \"direction=down<br>floor=9<br>Local Time (GMT+8)=%{x}<br>avgWait_weekday=%{y}<extra></extra>\", \"legendgroup\": \"down\", \"marker\": {\"color\": \"#636efa\"}, \"name\": \"down\", \"offsetgroup\": \"down\", \"orientation\": \"v\", \"showlegend\": true, \"textposition\": \"auto\", \"x\": [0, 1, 3, 4, 5, 6, 7, 8, 9, 10, 11, 12, 13, 14, 15, 16, 17, 18, 19, 20, 21, 22, 23], \"xaxis\": \"x\", \"y\": [12.13, 13.567999999999998, 18.105, 7.229999999999999, 13.660000000000002, 27.415, 27.796829268292683, 17.69171641791045, 14.448124999999996, 16.915675675675676, 13.28433155080214, 14.069397590361445, 16.0545197740113, 15.593955223880599, 13.209261744966446, 13.824875, 12.132345679012346, 14.176341463414635, 17.237956989247312, 19.695535714285715, 17.743448275862068, 17.232499999999998, 13.743076923076925], \"yaxis\": \"y\", \"type\": \"bar\"}, {\"alignmentgroup\": \"True\", \"hovertemplate\": \"direction=up<br>floor=9<br>Local Time (GMT+8)=%{x}<br>avgWait_weekday=%{y}<extra></extra>\", \"legendgroup\": \"up\", \"marker\": {\"color\": \"#EF553B\"}, \"name\": \"up\", \"offsetgroup\": \"up\", \"orientation\": \"v\", \"showlegend\": true, \"textposition\": \"auto\", \"x\": [3, 4, 6, 7, 8, 9, 10, 11, 12, 13, 14, 15, 16, 17, 18, 19, 20, 21, 22, 23], \"xaxis\": \"x2\", \"y\": [1.57, 1.05, 18.331666666666667, 15.168, 54.172857142857154, 36.097333333333346, 45.27516129032258, 50.98, 47.52555555555556, 48.968, 36.494583333333345, 47.282777777777774, 34.451, 48.4290909090909, 29.076666666666664, 24.9225, 14.896666666666668, 22.3975, 23.77, 15.72], \"yaxis\": \"y2\", \"type\": \"bar\"}], \"name\": \"9\"}, {\"data\": [{\"alignmentgroup\": \"True\", \"hovertemplate\": \"direction=down<br>floor=10<br>Local Time (GMT+8)=%{x}<br>avgWait_weekday=%{y}<extra></extra>\", \"legendgroup\": \"down\", \"marker\": {\"color\": \"#636efa\"}, \"name\": \"down\", \"offsetgroup\": \"down\", \"orientation\": \"v\", \"showlegend\": true, \"textposition\": \"auto\", \"x\": [0, 1, 2, 3, 4, 5, 6, 7, 8, 9, 10, 11, 12, 13, 14, 15, 16, 17, 18, 19, 20, 21, 22, 23], \"xaxis\": \"x\", \"y\": [14.2925, 1.2433333333333334, 18.46, 19.82, 9.01, 4.991463414634147, 11.68626086956522, 19.875507246376813, 9.200937499999998, 23.602105263157892, 10.860869565217392, 11.671012658227847, 15.527692307692305, 14.701492537313433, 12.745076923076926, 13.823516483516483, 14.776792452830188, 12.177674418604653, 17.61647058823529, 16.179545454545455, 10.84153846153846, 11.773636363636365, 10.961839080459773, 11.638823529411766], \"yaxis\": \"y\", \"type\": \"bar\"}, {\"alignmentgroup\": \"True\", \"hovertemplate\": \"direction=up<br>floor=10<br>Local Time (GMT+8)=%{x}<br>avgWait_weekday=%{y}<extra></extra>\", \"legendgroup\": \"up\", \"marker\": {\"color\": \"#EF553B\"}, \"name\": \"up\", \"offsetgroup\": \"up\", \"orientation\": \"v\", \"showlegend\": true, \"textposition\": \"auto\", \"x\": [1, 5, 6, 7, 8, 9, 10, 11, 12, 13, 14, 15, 16, 17, 18, 19, 20, 21, 22], \"xaxis\": \"x2\", \"y\": [1.38, 4.783181818181818, 15.117539682539684, 37.668952380952376, 40.097, 58.74375, 16.176, 41.37470588235294, 55.553709677419356, 41.822, 22.01461538461539, 37.32173913043478, 32.879285714285714, 53.12555555555554, 62.62777777777779, 28.1, 12.919999999999998, 18.215384615384615, 20.385], \"yaxis\": \"y2\", \"type\": \"bar\"}], \"name\": \"10\"}, {\"data\": [{\"alignmentgroup\": \"True\", \"hovertemplate\": \"direction=down<br>floor=11<br>Local Time (GMT+8)=%{x}<br>avgWait_weekday=%{y}<extra></extra>\", \"legendgroup\": \"down\", \"marker\": {\"color\": \"#636efa\"}, \"name\": \"down\", \"offsetgroup\": \"down\", \"orientation\": \"v\", \"showlegend\": true, \"textposition\": \"auto\", \"x\": [0, 1, 2, 3, 4, 5, 6, 7, 8, 9, 10, 11, 12, 13, 14, 15, 16, 17, 18, 19, 20, 21, 22, 23], \"xaxis\": \"x\", \"y\": [19.782000000000004, 0.56, 20.44, 16.22, 19.675, 8.04, 21.91090909090909, 27.536986301369858, 21.663592814371253, 21.203231707317073, 18.50221476510067, 15.726666666666668, 14.581324503311254, 16.284709302325584, 20.79647887323944, 15.955401459854011, 17.963595505617977, 14.285541666666667, 13.484432432432433, 21.536, 19.988301886792453, 19.31058823529412, 15.963333333333333, 16.846], \"yaxis\": \"y\", \"type\": \"bar\"}, {\"alignmentgroup\": \"True\", \"hovertemplate\": \"direction=up<br>floor=11<br>Local Time (GMT+8)=%{x}<br>avgWait_weekday=%{y}<extra></extra>\", \"legendgroup\": \"up\", \"marker\": {\"color\": \"#EF553B\"}, \"name\": \"up\", \"offsetgroup\": \"up\", \"orientation\": \"v\", \"showlegend\": true, \"textposition\": \"auto\", \"x\": [3, 6, 7, 8, 9, 10, 11, 12, 13, 14, 15, 16, 17, 18, 19, 23], \"xaxis\": \"x2\", \"y\": [1.59, 60.53, 16.29714285714286, 84.76, 37.33363636363636, 29.474545454545456, 81.17333333333335, 25.94, 17.071666666666665, 34.93391304347826, 30.818571428571428, 59.048888888888904, 42.556666666666665, 35.215, 45.2, 1.27], \"yaxis\": \"y2\", \"type\": \"bar\"}], \"name\": \"11\"}, {\"data\": [{\"alignmentgroup\": \"True\", \"hovertemplate\": \"direction=down<br>floor=12<br>Local Time (GMT+8)=%{x}<br>avgWait_weekday=%{y}<extra></extra>\", \"legendgroup\": \"down\", \"marker\": {\"color\": \"#636efa\"}, \"name\": \"down\", \"offsetgroup\": \"down\", \"orientation\": \"v\", \"showlegend\": true, \"textposition\": \"auto\", \"x\": [0, 1, 2, 4, 5, 6, 7, 8, 9, 10, 11, 12, 13, 14, 15, 16, 17, 18, 19, 20, 21, 22, 23], \"xaxis\": \"x\", \"y\": [16.134545454545457, 16.054444444444446, 31.63, 26.09, 19.4625, 15.807142857142859, 30.14692307692308, 21.091597222222227, 21.708270676691733, 21.85371900826446, 22.3829696969697, 22.67571428571428, 15.828896103896101, 19.51030303030303, 22.486981132075478, 19.070794701986753, 16.824532019704435, 17.821263736263738, 20.9246875, 20.96122448979592, 20.521923076923073, 19.47571428571428, 12.665999999999999], \"yaxis\": \"y\", \"type\": \"bar\"}, {\"alignmentgroup\": \"True\", \"hovertemplate\": \"direction=up<br>floor=12<br>Local Time (GMT+8)=%{x}<br>avgWait_weekday=%{y}<extra></extra>\", \"legendgroup\": \"up\", \"marker\": {\"color\": \"#EF553B\"}, \"name\": \"up\", \"offsetgroup\": \"up\", \"orientation\": \"v\", \"showlegend\": true, \"textposition\": \"auto\", \"x\": [7, 8, 9, 10, 11, 12, 13, 14, 15, 16, 17, 18, 19, 20, 21, 23], \"xaxis\": \"x2\", \"y\": [4.13, 89.32000000000002, 53.91260869565217, 61.308125, 36.303, 44.3325, 49.549, 36.4776, 52.3796, 46.59777777777778, 59.19666666666666, 17.945, 39.94, 7.57, 30.32, 17.62], \"yaxis\": \"y2\", \"type\": \"bar\"}], \"name\": \"12\"}, {\"data\": [{\"alignmentgroup\": \"True\", \"hovertemplate\": \"direction=down<br>floor=13<br>Local Time (GMT+8)=%{x}<br>avgWait_weekday=%{y}<extra></extra>\", \"legendgroup\": \"down\", \"marker\": {\"color\": \"#636efa\"}, \"name\": \"down\", \"offsetgroup\": \"down\", \"orientation\": \"v\", \"showlegend\": true, \"textposition\": \"auto\", \"x\": [0, 2, 4, 5, 6, 7, 8, 9, 10, 11, 12, 13, 14, 15, 16, 17, 18, 19, 20, 21, 22, 23], \"xaxis\": \"x\", \"y\": [16.88111111111111, 19.01, 1.52, 15.765, 10.221428571428572, 40.718636363636364, 32.58702702702703, 29.532635658914728, 28.32121495327103, 31.397610062893087, 27.33390625, 24.919945054945053, 30.58196850393701, 26.046078431372553, 25.39195945945946, 22.43669902912621, 20.640265957446807, 20.738024691358024, 21.4168, 21.40710526315789, 22.837619047619054, 17.364545454545453], \"yaxis\": \"y\", \"type\": \"bar\"}, {\"alignmentgroup\": \"True\", \"hovertemplate\": \"direction=up<br>floor=13<br>Local Time (GMT+8)=%{x}<br>avgWait_weekday=%{y}<extra></extra>\", \"legendgroup\": \"up\", \"marker\": {\"color\": \"#EF553B\"}, \"name\": \"up\", \"offsetgroup\": \"up\", \"orientation\": \"v\", \"showlegend\": true, \"textposition\": \"auto\", \"x\": [7, 8, 9, 10, 11, 12, 13, 14, 15, 16, 17, 18, 19, 20], \"xaxis\": \"x2\", \"y\": [33.856, 55.45777777777778, 36.99521739130434, 31.78625, 45.1675, 45.02095238095239, 30.598666666666666, 35.90777777777778, 34.49277777777777, 51.80105263157895, 36.04357142857143, 66.00888888888889, 41.815, 31.005000000000006], \"yaxis\": \"y2\", \"type\": \"bar\"}], \"name\": \"13\"}, {\"data\": [{\"alignmentgroup\": \"True\", \"hovertemplate\": \"direction=down<br>floor=14<br>Local Time (GMT+8)=%{x}<br>avgWait_weekday=%{y}<extra></extra>\", \"legendgroup\": \"down\", \"marker\": {\"color\": \"#636efa\"}, \"name\": \"down\", \"offsetgroup\": \"down\", \"orientation\": \"v\", \"showlegend\": true, \"textposition\": \"auto\", \"x\": [0, 1, 2, 4, 5, 7, 8, 9, 10, 11, 12, 13, 14, 15, 16, 17, 18, 19, 20, 21, 22, 23], \"xaxis\": \"x\", \"y\": [19.71, 20.632857142857144, 19.92, 1.27, 18.84, 41.377234042553184, 52.31697478991596, 51.79058510638298, 47.00628415300546, 52.34378640776699, 55.69585492227978, 48.01015384615384, 44.64534090909091, 57.71850000000001, 53.23207070707071, 38.63958115183246, 36.24246376811593, 23.912839506172837, 25.72342857142857, 19.682954545454546, 23.480625, 13.963333333333333], \"yaxis\": \"y\", \"type\": \"bar\"}, {\"alignmentgroup\": \"True\", \"hovertemplate\": \"direction=up<br>floor=14<br>Local Time (GMT+8)=%{x}<br>avgWait_weekday=%{y}<extra></extra>\", \"legendgroup\": \"up\", \"marker\": {\"color\": \"#EF553B\"}, \"name\": \"up\", \"offsetgroup\": \"up\", \"orientation\": \"v\", \"showlegend\": true, \"textposition\": \"auto\", \"x\": [0, 1, 2, 5, 7, 8, 9, 10, 11, 12, 14, 15, 16, 17, 18, 19, 20, 21, 22, 23], \"xaxis\": \"x2\", \"y\": [20.495, 14.053333333333335, 13.22, 12.87, 50.465, 105.22875, 79.01857142857143, 80.518, 35.168, 44.37666666666666, 84.67736842105263, 91.5975, 76.92399999999999, 87.46153846153847, 29.365, 31.218000000000004, 34.84333333333333, 18.1275, 19.802, 8.905000000000003], \"yaxis\": \"y2\", \"type\": \"bar\"}], \"name\": \"14\"}, {\"data\": [{\"alignmentgroup\": \"True\", \"hovertemplate\": \"direction=down<br>floor=15<br>Local Time (GMT+8)=%{x}<br>avgWait_weekday=%{y}<extra></extra>\", \"legendgroup\": \"down\", \"marker\": {\"color\": \"#636efa\"}, \"name\": \"down\", \"offsetgroup\": \"down\", \"orientation\": \"v\", \"showlegend\": true, \"textposition\": \"auto\", \"x\": [0, 1, 2, 3, 4, 5, 6, 7, 8, 9, 10, 11, 12, 13, 14, 15, 16, 17, 18, 19, 20, 21, 22, 23], \"xaxis\": \"x\", \"y\": [29.41666666666667, 10.036666666666667, 1.37, 14.025, 4.8725, 1.59, 14.387142857142859, 45.38793650793651, 58.90015037593986, 62.700147058823525, 58.98550724637681, 77.94909722222222, 62.7375, 61.51992907801419, 73.14290780141843, 82.8184496124031, 66.45490445859873, 61.328351063829786, 44.23891891891893, 35.3293103448276, 24.724166666666665, 27.8104, 19.11823529411765, 23.44], \"yaxis\": \"y\", \"type\": \"bar\"}], \"name\": \"15\"}, {\"data\": [{\"alignmentgroup\": \"True\", \"hovertemplate\": \"direction=down<br>floor=B1<br>Local Time (GMT+8)=%{x}<br>avgWait_weekday=%{y}<extra></extra>\", \"legendgroup\": \"down\", \"marker\": {\"color\": \"#636efa\"}, \"name\": \"down\", \"offsetgroup\": \"down\", \"orientation\": \"v\", \"showlegend\": true, \"textposition\": \"auto\", \"x\": [0, 1, 2, 3, 6, 7, 8, 9, 10, 11, 12, 13, 14, 15, 16, 17, 18, 19, 20, 21, 22, 23], \"xaxis\": \"x\", \"y\": [9.336666666666666, 18.74, 20.4, 1.33, 25.195, 26.087634408602142, 20.44879518072289, 30.422000000000004, 18.294666666666664, 21.838805970149245, 24.8925, 22.0677027027027, 22.41370967741936, 21.557142857142853, 23.397843137254906, 18.612266666666667, 22.537868852459017, 17.660217391304347, 11.756315789473685, 11.792727272727273, 15.246666666666668, 11.0], \"yaxis\": \"y\", \"type\": \"bar\"}, {\"alignmentgroup\": \"True\", \"hovertemplate\": \"direction=up<br>floor=B1<br>Local Time (GMT+8)=%{x}<br>avgWait_weekday=%{y}<extra></extra>\", \"legendgroup\": \"up\", \"marker\": {\"color\": \"#EF553B\"}, \"name\": \"up\", \"offsetgroup\": \"up\", \"orientation\": \"v\", \"showlegend\": true, \"textposition\": \"auto\", \"x\": [0, 1, 2, 3, 4, 5, 6, 7, 8, 9, 10, 11, 12, 13, 14, 15, 16, 17, 18, 19, 20, 21, 22, 23], \"xaxis\": \"x2\", \"y\": [13.539487179487178, 15.352121212121212, 11.164117647058823, 21.224, 1.504, 12.53, 16.85331081081081, 15.108409090909092, 16.208586387434558, 16.586278317152104, 15.052967479674797, 19.40496732026144, 17.771449631449627, 15.615630252100846, 16.327923875432525, 17.20033472803347, 15.987162629757785, 17.748929663608557, 17.90008450704225, 13.904722222222226, 13.220894736842109, 12.185798816568049, 11.485172413793107, 10.851379310344827], \"yaxis\": \"y2\", \"type\": \"bar\"}], \"name\": \"B1\"}, {\"data\": [{\"alignmentgroup\": \"True\", \"hovertemplate\": \"direction=down<br>floor=B3<br>Local Time (GMT+8)=%{x}<br>avgWait_weekday=%{y}<extra></extra>\", \"legendgroup\": \"down\", \"marker\": {\"color\": \"#636efa\"}, \"name\": \"down\", \"offsetgroup\": \"down\", \"orientation\": \"v\", \"showlegend\": true, \"textposition\": \"auto\", \"x\": [6, 7, 8, 9, 10, 11, 12, 13, 14, 15, 16, 17, 18, 19, 20], \"xaxis\": \"x\", \"y\": [29.868, 31.24727272727273, 24.27, 20.03333333333333, 9.3925, 52.477500000000006, 17.30636363636364, 23.052666666666664, 25.2, 30.204166666666666, 9.55, 36.124, 17.66, 16.26, 9.53], \"yaxis\": \"y\", \"type\": \"bar\"}, {\"alignmentgroup\": \"True\", \"hovertemplate\": \"direction=up<br>floor=B3<br>Local Time (GMT+8)=%{x}<br>avgWait_weekday=%{y}<extra></extra>\", \"legendgroup\": \"up\", \"marker\": {\"color\": \"#EF553B\"}, \"name\": \"up\", \"offsetgroup\": \"up\", \"orientation\": \"v\", \"showlegend\": true, \"textposition\": \"auto\", \"x\": [0, 1, 4, 5, 6, 7, 8, 9, 10, 11, 12, 13, 14, 15, 16, 17, 18, 19, 20, 21, 22, 23], \"xaxis\": \"x2\", \"y\": [8.47, 13.58, 14.912727272727272, 20.672727272727283, 20.990648148148146, 16.950592334494775, 15.484553571428574, 18.232418300653592, 14.11086021505376, 16.533846153846152, 15.636315789473686, 14.636380952380955, 15.368508771929825, 17.614, 13.770795454545453, 13.679529411764705, 16.665769230769232, 17.78341463414634, 9.46891891891892, 14.210909090909093, 17.42866666666667, 10.014], \"yaxis\": \"y2\", \"type\": \"bar\"}], \"name\": \"B3\"}, {\"data\": [{\"alignmentgroup\": \"True\", \"hovertemplate\": \"direction=up<br>floor=B4<br>Local Time (GMT+8)=%{x}<br>avgWait_weekday=%{y}<extra></extra>\", \"legendgroup\": \"up\", \"marker\": {\"color\": \"#EF553B\"}, \"name\": \"up\", \"offsetgroup\": \"up\", \"orientation\": \"v\", \"showlegend\": true, \"textposition\": \"auto\", \"x\": [0, 1, 2, 3, 4, 5, 6, 7, 8, 9, 10, 11, 12, 13, 14, 15, 16, 17, 18, 19, 20, 21, 22, 23], \"xaxis\": \"x2\", \"y\": [17.68, 18.72, 21.20833333333333, 20.143333333333327, 11.885, 26.06777777777777, 21.235098039215686, 21.099675925925926, 28.18149019607843, 28.93581589958159, 32.1219730941704, 30.19384976525821, 28.11128888888889, 25.372103174603172, 30.853911290322586, 39.487117117117116, 29.41120754716981, 28.595255474452557, 19.77994897959184, 18.28663366336633, 18.636885245901638, 10.55, 7.624166666666667, 12.476111111111114], \"yaxis\": \"y2\", \"type\": \"bar\"}], \"name\": \"B4\"}]);\n",
       "                        }).then(function(){\n",
       "                            \n",
       "var gd = document.getElementById('6467ca3a-2d82-4143-b17d-630d89885015');\n",
       "var x = new MutationObserver(function (mutations, observer) {{\n",
       "        var display = window.getComputedStyle(gd).display;\n",
       "        if (!display || display === 'none') {{\n",
       "            console.log([gd, 'removed!']);\n",
       "            Plotly.purge(gd);\n",
       "            observer.disconnect();\n",
       "        }}\n",
       "}});\n",
       "\n",
       "// Listen for the removal of the full notebook cells\n",
       "var notebookContainer = gd.closest('#notebook-container');\n",
       "if (notebookContainer) {{\n",
       "    x.observe(notebookContainer, {childList: true});\n",
       "}}\n",
       "\n",
       "// Listen for the clearing of the current output cell\n",
       "var outputEl = gd.closest('.output');\n",
       "if (outputEl) {{\n",
       "    x.observe(outputEl, {childList: true});\n",
       "}}\n",
       "\n",
       "                        })\n",
       "                };\n",
       "                });\n",
       "            </script>\n",
       "        </div>"
      ]
     },
     "metadata": {},
     "output_type": "display_data"
    }
   ],
   "source": [
    "df_s_weekday.floor.unique()\n",
    "fig = px.bar(data_frame=df_s_weekday, \n",
    "             x = \"hour\", y = \"avgWait_weekday\",\n",
    "             facet_col=\"direction\",color=\"direction\",\n",
    "             animation_frame=\"floor\",\n",
    "             labels={\"count\":\"avgWait_weekday\",\n",
    "                     \"hour\":\"Local Time (GMT+8)\"})\n",
    "# X axis\n",
    "fig.update_xaxes(nticks=len(floor_name),\n",
    "                 type=\"category\",\n",
    "                 categoryarray=[0,24])\n",
    "\n",
    "# Y axis\n",
    "fig.update_yaxes(range=[0, 300])\n",
    "\n",
    "# Layout\n",
    "fig.update_layout(title_text='Average waiting time of Elevator Calls by Time')\n",
    "\n",
    "fig.show()"
   ]
  },
  {
   "cell_type": "code",
   "execution_count": 26,
   "metadata": {},
   "outputs": [
    {
     "data": {
      "application/vnd.plotly.v1+json": {
       "config": {
        "plotlyServerURL": "https://plot.ly"
       },
       "data": [
        {
         "alignmentgroup": "True",
         "hovertemplate": "direction=up<br>floor=1<br>Local Time (GMT+8)=%{x}<br>avgWait_weekend=%{y}<extra></extra>",
         "legendgroup": "up",
         "marker": {
          "color": "#636efa"
         },
         "name": "up",
         "offsetgroup": "up",
         "orientation": "v",
         "showlegend": true,
         "textposition": "auto",
         "type": "bar",
         "x": [
          0,
          1,
          2,
          3,
          5,
          6,
          7,
          8,
          9,
          10,
          11,
          12,
          13,
          14,
          15,
          16,
          17,
          18,
          19,
          20,
          21,
          22,
          23
         ],
         "xaxis": "x",
         "y": [
          9.79,
          14.395,
          12.976666666666668,
          15.83,
          13.248333333333335,
          18.0916,
          16.886402116402117,
          13.831301775147926,
          11.574202898550725,
          12.365348837209305,
          11.438119658119659,
          15.122173913043476,
          13.091682242990654,
          9.164736842105263,
          14.0507,
          14.862407407407408,
          14.5425,
          12.512758620689654,
          10.702075471698114,
          13.347073170731706,
          11.841818181818182,
          9.648979591836737,
          6.954705882352941
         ],
         "yaxis": "y"
        },
        {
         "alignmentgroup": "True",
         "hovertemplate": "direction=down<br>floor=1<br>Local Time (GMT+8)=%{x}<br>avgWait_weekend=%{y}<extra></extra>",
         "legendgroup": "down",
         "marker": {
          "color": "#EF553B"
         },
         "name": "down",
         "offsetgroup": "down",
         "orientation": "v",
         "showlegend": true,
         "textposition": "auto",
         "type": "bar",
         "x": [
          3,
          6,
          7,
          8,
          9,
          10,
          11,
          12,
          13,
          14,
          15,
          16,
          17,
          18,
          19,
          20,
          21,
          22,
          23
         ],
         "xaxis": "x2",
         "y": [
          23.4,
          27.488888888888887,
          25.218604651162792,
          32.988,
          17.761875,
          14.25153846153846,
          13.681666666666667,
          15.356046511627905,
          26.875172413793106,
          7.974137931034483,
          20.536944444444444,
          16.18885714285714,
          24.63447368421053,
          24.48409090909091,
          15.353809523809526,
          8.338888888888889,
          9.001666666666667,
          5.687777777777778,
          13.0575
         ],
         "yaxis": "y2"
        }
       ],
       "frames": [
        {
         "data": [
          {
           "alignmentgroup": "True",
           "hovertemplate": "direction=up<br>floor=1<br>Local Time (GMT+8)=%{x}<br>avgWait_weekend=%{y}<extra></extra>",
           "legendgroup": "up",
           "marker": {
            "color": "#636efa"
           },
           "name": "up",
           "offsetgroup": "up",
           "orientation": "v",
           "showlegend": true,
           "textposition": "auto",
           "type": "bar",
           "x": [
            0,
            1,
            2,
            3,
            5,
            6,
            7,
            8,
            9,
            10,
            11,
            12,
            13,
            14,
            15,
            16,
            17,
            18,
            19,
            20,
            21,
            22,
            23
           ],
           "xaxis": "x",
           "y": [
            9.79,
            14.395,
            12.976666666666668,
            15.83,
            13.248333333333335,
            18.0916,
            16.886402116402117,
            13.831301775147926,
            11.574202898550725,
            12.365348837209305,
            11.438119658119659,
            15.122173913043476,
            13.091682242990654,
            9.164736842105263,
            14.0507,
            14.862407407407408,
            14.5425,
            12.512758620689654,
            10.702075471698114,
            13.347073170731706,
            11.841818181818182,
            9.648979591836737,
            6.954705882352941
           ],
           "yaxis": "y"
          },
          {
           "alignmentgroup": "True",
           "hovertemplate": "direction=down<br>floor=1<br>Local Time (GMT+8)=%{x}<br>avgWait_weekend=%{y}<extra></extra>",
           "legendgroup": "down",
           "marker": {
            "color": "#EF553B"
           },
           "name": "down",
           "offsetgroup": "down",
           "orientation": "v",
           "showlegend": true,
           "textposition": "auto",
           "type": "bar",
           "x": [
            3,
            6,
            7,
            8,
            9,
            10,
            11,
            12,
            13,
            14,
            15,
            16,
            17,
            18,
            19,
            20,
            21,
            22,
            23
           ],
           "xaxis": "x2",
           "y": [
            23.4,
            27.488888888888887,
            25.218604651162792,
            32.988,
            17.761875,
            14.25153846153846,
            13.681666666666667,
            15.356046511627905,
            26.875172413793106,
            7.974137931034483,
            20.536944444444444,
            16.18885714285714,
            24.63447368421053,
            24.48409090909091,
            15.353809523809526,
            8.338888888888889,
            9.001666666666667,
            5.687777777777778,
            13.0575
           ],
           "yaxis": "y2"
          }
         ],
         "name": "1"
        },
        {
         "data": [
          {
           "alignmentgroup": "True",
           "hovertemplate": "direction=up<br>floor=2<br>Local Time (GMT+8)=%{x}<br>avgWait_weekend=%{y}<extra></extra>",
           "legendgroup": "up",
           "marker": {
            "color": "#636efa"
           },
           "name": "up",
           "offsetgroup": "up",
           "orientation": "v",
           "showlegend": true,
           "textposition": "auto",
           "type": "bar",
           "x": [
            1,
            6,
            7,
            8,
            9,
            10,
            11,
            12,
            13,
            14,
            15,
            16,
            17,
            18,
            19,
            20,
            21,
            22,
            23
           ],
           "xaxis": "x",
           "y": [
            19.2,
            14.29,
            11.3025,
            10.296764705882351,
            7.674186046511627,
            10.7940625,
            9.378163265306123,
            11.7984375,
            8.29025,
            8.205348837209302,
            9.713333333333333,
            11.037826086956523,
            13.650588235294116,
            11.80409090909091,
            14.28181818181818,
            8.955,
            8.2,
            9.57,
            8.01
           ],
           "yaxis": "y"
          },
          {
           "alignmentgroup": "True",
           "hovertemplate": "direction=down<br>floor=2<br>Local Time (GMT+8)=%{x}<br>avgWait_weekend=%{y}<extra></extra>",
           "legendgroup": "down",
           "marker": {
            "color": "#EF553B"
           },
           "name": "down",
           "offsetgroup": "down",
           "orientation": "v",
           "showlegend": true,
           "textposition": "auto",
           "type": "bar",
           "x": [
            6,
            7,
            8,
            9,
            10,
            11,
            12,
            13,
            14,
            15,
            16,
            17,
            18,
            19,
            21
           ],
           "xaxis": "x2",
           "y": [
            9.51,
            28.66666666666667,
            24.185,
            20.375384615384615,
            15.686666666666666,
            25.848275862068967,
            19.744666666666664,
            23.543000000000003,
            49.045625,
            16.391363636363636,
            20.52842105263158,
            31.306666666666665,
            14.724285714285712,
            15.98,
            13.565
           ],
           "yaxis": "y2"
          }
         ],
         "name": "2"
        },
        {
         "data": [
          {
           "alignmentgroup": "True",
           "hovertemplate": "direction=up<br>floor=3<br>Local Time (GMT+8)=%{x}<br>avgWait_weekend=%{y}<extra></extra>",
           "legendgroup": "up",
           "marker": {
            "color": "#636efa"
           },
           "name": "up",
           "offsetgroup": "up",
           "orientation": "v",
           "showlegend": true,
           "textposition": "auto",
           "type": "bar",
           "x": [
            0,
            1,
            2,
            3,
            6,
            7,
            8,
            9,
            10,
            11,
            12,
            13,
            14,
            15,
            16,
            17,
            18,
            19,
            20,
            21,
            22,
            23
           ],
           "xaxis": "x",
           "y": [
            18.08333333333333,
            15.822500000000002,
            15.235,
            1.6,
            19.32,
            6.404000000000001,
            12.188666666666665,
            8.802105263157895,
            12.784166666666666,
            279.19514285714286,
            7.616818181818181,
            9.395384615384616,
            7.621935483870969,
            10.012285714285717,
            11.239024390243902,
            11.345,
            15.145999999999995,
            12.85888888888889,
            9.3625,
            17.405,
            20.455,
            14.515
           ],
           "yaxis": "y"
          },
          {
           "alignmentgroup": "True",
           "hovertemplate": "direction=down<br>floor=3<br>Local Time (GMT+8)=%{x}<br>avgWait_weekend=%{y}<extra></extra>",
           "legendgroup": "down",
           "marker": {
            "color": "#EF553B"
           },
           "name": "down",
           "offsetgroup": "down",
           "orientation": "v",
           "showlegend": true,
           "textposition": "auto",
           "type": "bar",
           "x": [
            0,
            1,
            2,
            3,
            4,
            6,
            7,
            8,
            9,
            10,
            11,
            12,
            13,
            14,
            15,
            16,
            17,
            18,
            19,
            20,
            21,
            22
           ],
           "xaxis": "x2",
           "y": [
            14.025,
            21.21,
            10.745,
            15.94,
            16.65,
            26.845,
            37.80272727272728,
            31.707812500000006,
            28.113243243243247,
            38.46380952380952,
            18.26169491525424,
            25.135757575757577,
            34.94166666666666,
            53.51757575757576,
            32.446999999999996,
            27.73333333333333,
            25.21588235294118,
            32.24944444444444,
            17.557142857142857,
            22.795,
            11.331666666666667,
            13.288333333333332
           ],
           "yaxis": "y2"
          }
         ],
         "name": "3"
        },
        {
         "data": [
          {
           "alignmentgroup": "True",
           "hovertemplate": "direction=up<br>floor=4<br>Local Time (GMT+8)=%{x}<br>avgWait_weekend=%{y}<extra></extra>",
           "legendgroup": "up",
           "marker": {
            "color": "#636efa"
           },
           "name": "up",
           "offsetgroup": "up",
           "orientation": "v",
           "showlegend": true,
           "textposition": "auto",
           "type": "bar",
           "x": [
            0,
            1,
            2,
            3,
            4,
            6,
            7,
            8,
            9,
            10,
            11,
            12,
            13,
            14,
            15,
            16,
            17,
            18,
            19,
            20,
            21,
            22,
            23
           ],
           "xaxis": "x",
           "y": [
            10.533333333333333,
            13.3325,
            15.298333333333332,
            8.78,
            0.97,
            17.82888888888889,
            8.583,
            7.866666666666667,
            6.752608695652174,
            15.217948717948715,
            7.033333333333332,
            12.073103448275864,
            12.3084375,
            9.683714285714283,
            11.578510638297873,
            13.927234042553193,
            10.324634146341463,
            12.586363636363634,
            17.397058823529413,
            19.877692307692307,
            15.8975,
            8.82,
            20.1
           ],
           "yaxis": "y"
          },
          {
           "alignmentgroup": "True",
           "hovertemplate": "direction=down<br>floor=4<br>Local Time (GMT+8)=%{x}<br>avgWait_weekend=%{y}<extra></extra>",
           "legendgroup": "down",
           "marker": {
            "color": "#EF553B"
           },
           "name": "down",
           "offsetgroup": "down",
           "orientation": "v",
           "showlegend": true,
           "textposition": "auto",
           "type": "bar",
           "x": [
            0,
            2,
            3,
            7,
            8,
            9,
            10,
            11,
            12,
            13,
            14,
            15,
            16,
            17,
            18,
            19,
            20,
            21,
            22,
            23
           ],
           "xaxis": "x2",
           "y": [
            15.44,
            19.05,
            9.81,
            21.510714285714283,
            31.42352941176471,
            36.84310344827586,
            96.0268181818182,
            30.592666666666666,
            28.361428571428572,
            20.786315789473683,
            30.05966666666667,
            26.250384615384608,
            34.06076923076923,
            32.493125,
            32.35894736842105,
            13.195714285714288,
            25.612352941176468,
            13.285454545454545,
            9.95,
            11.862222222222224
           ],
           "yaxis": "y2"
          }
         ],
         "name": "4"
        },
        {
         "data": [
          {
           "alignmentgroup": "True",
           "hovertemplate": "direction=up<br>floor=5<br>Local Time (GMT+8)=%{x}<br>avgWait_weekend=%{y}<extra></extra>",
           "legendgroup": "up",
           "marker": {
            "color": "#636efa"
           },
           "name": "up",
           "offsetgroup": "up",
           "orientation": "v",
           "showlegend": true,
           "textposition": "auto",
           "type": "bar",
           "x": [
            0,
            1,
            2,
            4,
            7,
            8,
            9,
            10,
            11,
            12,
            13,
            14,
            15,
            16,
            17,
            18,
            19,
            20,
            21,
            22,
            23
           ],
           "xaxis": "x",
           "y": [
            13.146666666666668,
            12.965,
            16.033333333333335,
            13.633333333333335,
            15.714000000000002,
            7.803333333333333,
            12.737222222222224,
            10.3648,
            9.68888888888889,
            16.269411764705882,
            11.823636363636364,
            8.45857142857143,
            8.3012,
            10.917931034482761,
            13.734285714285715,
            14.4112,
            21.70333333333333,
            12.87142857142857,
            18.481111111111108,
            23.455,
            12.626666666666667
           ],
           "yaxis": "y"
          },
          {
           "alignmentgroup": "True",
           "hovertemplate": "direction=down<br>floor=5<br>Local Time (GMT+8)=%{x}<br>avgWait_weekend=%{y}<extra></extra>",
           "legendgroup": "down",
           "marker": {
            "color": "#EF553B"
           },
           "name": "down",
           "offsetgroup": "down",
           "orientation": "v",
           "showlegend": true,
           "textposition": "auto",
           "type": "bar",
           "x": [
            1,
            3,
            4,
            6,
            7,
            8,
            9,
            10,
            11,
            12,
            13,
            14,
            15,
            16,
            17,
            18,
            19,
            20,
            21,
            22,
            23
           ],
           "xaxis": "x2",
           "y": [
            17.27,
            15.73,
            16.52,
            25.8725,
            15.3175,
            30.16147058823529,
            34.98964285714286,
            47.0258064516129,
            20.586470588235297,
            38.41326530612245,
            39.51966666666667,
            47.64266666666666,
            49.16208333333333,
            36.66914285714286,
            33.105999999999995,
            24.89058823529412,
            21.0156,
            15.175000000000002,
            18.867333333333328,
            13.448333333333332,
            18.31
           ],
           "yaxis": "y2"
          }
         ],
         "name": "5"
        },
        {
         "data": [
          {
           "alignmentgroup": "True",
           "hovertemplate": "direction=up<br>floor=6<br>Local Time (GMT+8)=%{x}<br>avgWait_weekend=%{y}<extra></extra>",
           "legendgroup": "up",
           "marker": {
            "color": "#636efa"
           },
           "name": "up",
           "offsetgroup": "up",
           "orientation": "v",
           "showlegend": true,
           "textposition": "auto",
           "type": "bar",
           "x": [
            1,
            2,
            5,
            6,
            7,
            8,
            9,
            10,
            11,
            12,
            13,
            14,
            15,
            16,
            17,
            18,
            19,
            20,
            21,
            22,
            23
           ],
           "xaxis": "x",
           "y": [
            1.44,
            1.58,
            15.71,
            17.354571428571433,
            34.626666666666665,
            35.50888888888889,
            37.30333333333333,
            45.12,
            66.6275,
            52.5725,
            42.156666666666666,
            50.45333333333333,
            63.65321428571429,
            56.369285714285716,
            29.93285714285714,
            42.83142857142857,
            18.42875,
            22.858,
            11.36,
            11.568,
            12.962307692307695
           ],
           "yaxis": "y"
          },
          {
           "alignmentgroup": "True",
           "hovertemplate": "direction=down<br>floor=6<br>Local Time (GMT+8)=%{x}<br>avgWait_weekend=%{y}<extra></extra>",
           "legendgroup": "down",
           "marker": {
            "color": "#EF553B"
           },
           "name": "down",
           "offsetgroup": "down",
           "orientation": "v",
           "showlegend": true,
           "textposition": "auto",
           "type": "bar",
           "x": [
            0,
            1,
            2,
            3,
            5,
            6,
            7,
            8,
            9,
            10,
            11,
            12,
            13,
            14,
            15,
            16,
            17,
            18,
            19,
            20,
            21,
            22,
            23
           ],
           "xaxis": "x2",
           "y": [
            14.845,
            21.69,
            1.2133333333333334,
            25.17,
            10.72,
            12.5715,
            15.663863636363635,
            14.142545454545456,
            9.249215686274509,
            36.47831325301205,
            12.944777777777775,
            17.93111111111111,
            14.945102040816323,
            16.0098,
            14.404285714285713,
            14.61283582089552,
            12.6192,
            15.514237288135593,
            11.966176470588234,
            12.08793103448276,
            13.724166666666667,
            12.117727272727272,
            13.21
           ],
           "yaxis": "y2"
          }
         ],
         "name": "6"
        },
        {
         "data": [
          {
           "alignmentgroup": "True",
           "hovertemplate": "direction=up<br>floor=7<br>Local Time (GMT+8)=%{x}<br>avgWait_weekend=%{y}<extra></extra>",
           "legendgroup": "up",
           "marker": {
            "color": "#636efa"
           },
           "name": "up",
           "offsetgroup": "up",
           "orientation": "v",
           "showlegend": true,
           "textposition": "auto",
           "type": "bar",
           "x": [
            0,
            1,
            2,
            3,
            4,
            6,
            7,
            9,
            10,
            11,
            12,
            13,
            14,
            15,
            16,
            17,
            18,
            19,
            20,
            21,
            22
           ],
           "xaxis": "x",
           "y": [
            7.505,
            14.02,
            15.93,
            1.0533333333333337,
            15.125,
            12.89,
            7.97,
            39.404545454545456,
            45.51428571428572,
            64.31272727272727,
            57.14200000000001,
            50.46571428571429,
            35.870909090909095,
            53.28842105263158,
            40.97166666666666,
            24.48875,
            28.59,
            23.65571428571429,
            9.3,
            5.755,
            15.79
           ],
           "yaxis": "y"
          },
          {
           "alignmentgroup": "True",
           "hovertemplate": "direction=down<br>floor=7<br>Local Time (GMT+8)=%{x}<br>avgWait_weekend=%{y}<extra></extra>",
           "legendgroup": "down",
           "marker": {
            "color": "#EF553B"
           },
           "name": "down",
           "offsetgroup": "down",
           "orientation": "v",
           "showlegend": true,
           "textposition": "auto",
           "type": "bar",
           "x": [
            0,
            1,
            2,
            3,
            4,
            6,
            7,
            8,
            9,
            10,
            11,
            12,
            13,
            14,
            15,
            16,
            17,
            18,
            19,
            20,
            21,
            22,
            23
           ],
           "xaxis": "x2",
           "y": [
            16.243333333333336,
            10.826666666666664,
            10.555,
            3.44,
            21.585,
            17.773333333333333,
            21.26545454545455,
            15.6855,
            13.948157894736841,
            11.948823529411767,
            11.620392156862746,
            12.436486486486485,
            15.413,
            21.3975,
            10.297,
            11.298039215686275,
            12.837428571428571,
            13.50732142857143,
            17.07227272727273,
            14.719333333333333,
            11.295,
            13.473333333333334,
            17.225
           ],
           "yaxis": "y2"
          }
         ],
         "name": "7"
        },
        {
         "data": [
          {
           "alignmentgroup": "True",
           "hovertemplate": "direction=up<br>floor=8<br>Local Time (GMT+8)=%{x}<br>avgWait_weekend=%{y}<extra></extra>",
           "legendgroup": "up",
           "marker": {
            "color": "#636efa"
           },
           "name": "up",
           "offsetgroup": "up",
           "orientation": "v",
           "showlegend": true,
           "textposition": "auto",
           "type": "bar",
           "x": [
            3,
            5,
            8,
            9,
            10,
            11,
            12,
            13,
            14,
            15,
            16,
            17,
            18,
            19,
            20,
            22
           ],
           "xaxis": "x",
           "y": [
            1.57,
            22.31,
            48.14833333333333,
            40.083636363636366,
            49.172,
            1919.576,
            103.365,
            32.96400000000001,
            5.785,
            28.93166666666667,
            29.8775,
            32.306666666666665,
            49.614,
            1.46,
            9.68,
            1.61
           ],
           "yaxis": "y"
          },
          {
           "alignmentgroup": "True",
           "hovertemplate": "direction=down<br>floor=8<br>Local Time (GMT+8)=%{x}<br>avgWait_weekend=%{y}<extra></extra>",
           "legendgroup": "down",
           "marker": {
            "color": "#EF553B"
           },
           "name": "down",
           "offsetgroup": "down",
           "orientation": "v",
           "showlegend": true,
           "textposition": "auto",
           "type": "bar",
           "x": [
            0,
            1,
            2,
            3,
            5,
            6,
            7,
            8,
            9,
            10,
            11,
            12,
            13,
            14,
            15,
            16,
            17,
            18,
            19,
            20,
            21,
            22,
            23
           ],
           "xaxis": "x2",
           "y": [
            15.35,
            13.79,
            15.19,
            13.79,
            25.18,
            10.1,
            16.609375,
            14.807368421052633,
            19.12276595744681,
            9.047317073170733,
            9.0084375,
            13.19325,
            15.134848484848487,
            11.08843137254902,
            13.5058,
            14.142758620689655,
            10.55377358490566,
            15.342400000000005,
            12.9225,
            13.61714285714286,
            11.867692307692305,
            18.582222222222224,
            12.345
           ],
           "yaxis": "y2"
          }
         ],
         "name": "8"
        },
        {
         "data": [
          {
           "alignmentgroup": "True",
           "hovertemplate": "direction=up<br>floor=9<br>Local Time (GMT+8)=%{x}<br>avgWait_weekend=%{y}<extra></extra>",
           "legendgroup": "up",
           "marker": {
            "color": "#636efa"
           },
           "name": "up",
           "offsetgroup": "up",
           "orientation": "v",
           "showlegend": true,
           "textposition": "auto",
           "type": "bar",
           "x": [
            2,
            5,
            6,
            7,
            8,
            9,
            10,
            11,
            12,
            13,
            14,
            15,
            16,
            17,
            18,
            19,
            21
           ],
           "xaxis": "x",
           "y": [
            7.7,
            14.77,
            15.16,
            51.01,
            36.04,
            16.216666666666665,
            26.422222222222228,
            50.16333333333333,
            94.22,
            27.146,
            28.93666666666667,
            16,
            137.52,
            54.945,
            27.9025,
            22.185714285714287,
            8.03
           ],
           "yaxis": "y"
          },
          {
           "alignmentgroup": "True",
           "hovertemplate": "direction=down<br>floor=9<br>Local Time (GMT+8)=%{x}<br>avgWait_weekend=%{y}<extra></extra>",
           "legendgroup": "down",
           "marker": {
            "color": "#EF553B"
           },
           "name": "down",
           "offsetgroup": "down",
           "orientation": "v",
           "showlegend": true,
           "textposition": "auto",
           "type": "bar",
           "x": [
            0,
            1,
            2,
            3,
            5,
            7,
            8,
            9,
            10,
            11,
            12,
            13,
            14,
            15,
            16,
            17,
            18,
            19,
            20,
            21,
            22,
            23
           ],
           "xaxis": "x2",
           "y": [
            18.48,
            17.49,
            10.885,
            12.215,
            6.41,
            23.60375,
            15.629148936170216,
            17.4434693877551,
            18.31787234042553,
            9.911836734693876,
            18.534242424242425,
            16.796216216216212,
            12.885121951219512,
            10.873684210526315,
            14.011818181818182,
            17.287321428571428,
            17.441904761904762,
            15.282,
            16.359285714285715,
            17.280833333333334,
            16.791428571428572,
            2.82
           ],
           "yaxis": "y2"
          }
         ],
         "name": "9"
        },
        {
         "data": [
          {
           "alignmentgroup": "True",
           "hovertemplate": "direction=up<br>floor=10<br>Local Time (GMT+8)=%{x}<br>avgWait_weekend=%{y}<extra></extra>",
           "legendgroup": "up",
           "marker": {
            "color": "#636efa"
           },
           "name": "up",
           "offsetgroup": "up",
           "orientation": "v",
           "showlegend": true,
           "textposition": "auto",
           "type": "bar",
           "x": [
            5,
            6,
            7,
            8,
            9,
            10,
            11,
            12,
            13,
            14,
            15,
            16,
            17,
            18,
            19,
            21
           ],
           "xaxis": "x",
           "y": [
            5.031666666666666,
            9.470555555555556,
            22.202500000000004,
            17.162,
            35.613333333333344,
            25.296,
            22.95555555555556,
            41.34375,
            22.1,
            8,
            62.941111111111105,
            67.7,
            20.005,
            19.61571428571429,
            12.795,
            12.333333333333336
           ],
           "yaxis": "y"
          },
          {
           "alignmentgroup": "True",
           "hovertemplate": "direction=down<br>floor=10<br>Local Time (GMT+8)=%{x}<br>avgWait_weekend=%{y}<extra></extra>",
           "legendgroup": "down",
           "marker": {
            "color": "#EF553B"
           },
           "name": "down",
           "offsetgroup": "down",
           "orientation": "v",
           "showlegend": true,
           "textposition": "auto",
           "type": "bar",
           "x": [
            1,
            2,
            5,
            6,
            7,
            8,
            9,
            10,
            11,
            12,
            13,
            14,
            15,
            16,
            17,
            18,
            19,
            20,
            21,
            22,
            23
           ],
           "xaxis": "x2",
           "y": [
            19.2,
            11.97,
            5.697,
            10.16906976744186,
            12.4,
            14.892,
            15.672727272727276,
            10.527777777777779,
            274.32222222222225,
            17.12857142857143,
            12.494615384615386,
            12.373529411764705,
            10.490588235294117,
            15.909523809523812,
            7.989999999999998,
            12.946666666666667,
            29.0725,
            8.5275,
            14.512,
            11.18421052631579,
            17.535714285714285
           ],
           "yaxis": "y2"
          }
         ],
         "name": "10"
        },
        {
         "data": [
          {
           "alignmentgroup": "True",
           "hovertemplate": "direction=up<br>floor=11<br>Local Time (GMT+8)=%{x}<br>avgWait_weekend=%{y}<extra></extra>",
           "legendgroup": "up",
           "marker": {
            "color": "#636efa"
           },
           "name": "up",
           "offsetgroup": "up",
           "orientation": "v",
           "showlegend": true,
           "textposition": "auto",
           "type": "bar",
           "x": [
            6,
            8,
            9,
            10,
            11,
            12,
            14,
            15,
            16,
            17,
            18
           ],
           "xaxis": "x",
           "y": [
            11.18,
            45.79,
            52.668888888888894,
            37.636666666666656,
            0.34,
            17.07,
            32.33714285714286,
            8.355,
            197.02,
            34.722,
            40.355
           ],
           "yaxis": "y"
          },
          {
           "alignmentgroup": "True",
           "hovertemplate": "direction=down<br>floor=11<br>Local Time (GMT+8)=%{x}<br>avgWait_weekend=%{y}<extra></extra>",
           "legendgroup": "down",
           "marker": {
            "color": "#EF553B"
           },
           "name": "down",
           "offsetgroup": "down",
           "orientation": "v",
           "showlegend": true,
           "textposition": "auto",
           "type": "bar",
           "x": [
            0,
            1,
            2,
            5,
            6,
            7,
            8,
            9,
            10,
            11,
            12,
            13,
            14,
            15,
            16,
            17,
            18,
            19,
            20,
            21,
            22,
            23
           ],
           "xaxis": "x2",
           "y": [
            19.92333333333333,
            19.08,
            10.79,
            8.04,
            14.085,
            28.23,
            21.616851851851848,
            18.143225806451614,
            14.901818181818184,
            11.561886792452832,
            14.241153846153846,
            15.573055555555555,
            10.841428571428573,
            19.090526315789475,
            17.94170731707317,
            16.303620689655173,
            15.149736842105265,
            21.387222222222217,
            16.756,
            20.64928571428572,
            14.404285714285715,
            12.466666666666667
           ],
           "yaxis": "y2"
          }
         ],
         "name": "11"
        },
        {
         "data": [
          {
           "alignmentgroup": "True",
           "hovertemplate": "direction=up<br>floor=12<br>Local Time (GMT+8)=%{x}<br>avgWait_weekend=%{y}<extra></extra>",
           "legendgroup": "up",
           "marker": {
            "color": "#636efa"
           },
           "name": "up",
           "offsetgroup": "up",
           "orientation": "v",
           "showlegend": true,
           "textposition": "auto",
           "type": "bar",
           "x": [
            8,
            9,
            10,
            11,
            12,
            13,
            14,
            15,
            16,
            17,
            18,
            19
           ],
           "xaxis": "x",
           "y": [
            17.06,
            42.1125,
            56.78,
            19.696666666666673,
            27.01,
            12.79,
            50.87666666666666,
            27.35333333333333,
            33.61,
            39.73,
            42.785,
            43.06
           ],
           "yaxis": "y"
          },
          {
           "alignmentgroup": "True",
           "hovertemplate": "direction=down<br>floor=12<br>Local Time (GMT+8)=%{x}<br>avgWait_weekend=%{y}<extra></extra>",
           "legendgroup": "down",
           "marker": {
            "color": "#EF553B"
           },
           "name": "down",
           "offsetgroup": "down",
           "orientation": "v",
           "showlegend": true,
           "textposition": "auto",
           "type": "bar",
           "x": [
            0,
            1,
            2,
            5,
            6,
            7,
            8,
            9,
            10,
            11,
            12,
            13,
            14,
            15,
            16,
            17,
            18,
            19,
            20,
            21,
            22,
            23
           ],
           "xaxis": "x2",
           "y": [
            20.114,
            38.44,
            1.415,
            10.15,
            5.98,
            26.79636363636364,
            25.683617021276604,
            18.383846153846157,
            19.207209302325584,
            226.85804347826087,
            22.349555555555558,
            19.896428571428565,
            23.482352941176465,
            22.365,
            18.3,
            15.954285714285716,
            16.041730769230767,
            19.529259259259263,
            21.249230769230767,
            23.430000000000003,
            9.86125,
            7.885
           ],
           "yaxis": "y2"
          }
         ],
         "name": "12"
        },
        {
         "data": [
          {
           "alignmentgroup": "True",
           "hovertemplate": "direction=up<br>floor=13<br>Local Time (GMT+8)=%{x}<br>avgWait_weekend=%{y}<extra></extra>",
           "legendgroup": "up",
           "marker": {
            "color": "#636efa"
           },
           "name": "up",
           "offsetgroup": "up",
           "orientation": "v",
           "showlegend": true,
           "textposition": "auto",
           "type": "bar",
           "x": [
            7,
            8,
            9,
            10,
            11,
            12,
            13,
            14,
            15,
            16,
            17,
            18,
            19,
            20
           ],
           "xaxis": "x",
           "y": [
            10.69,
            45.00666666666667,
            28.64333333333333,
            40.918,
            18.566,
            21.5375,
            35.14666666666667,
            13.415,
            21.616666666666664,
            32.94,
            99.165,
            16.6575,
            28.72,
            17.97
           ],
           "yaxis": "y"
          },
          {
           "alignmentgroup": "True",
           "hovertemplate": "direction=down<br>floor=13<br>Local Time (GMT+8)=%{x}<br>avgWait_weekend=%{y}<extra></extra>",
           "legendgroup": "down",
           "marker": {
            "color": "#EF553B"
           },
           "name": "down",
           "offsetgroup": "down",
           "orientation": "v",
           "showlegend": true,
           "textposition": "auto",
           "type": "bar",
           "x": [
            0,
            1,
            2,
            6,
            7,
            8,
            9,
            10,
            11,
            12,
            13,
            14,
            15,
            16,
            17,
            18,
            19,
            20,
            21,
            22,
            23
           ],
           "xaxis": "x2",
           "y": [
            18.98,
            15.79,
            15.8,
            11.961428571428574,
            24.300666666666665,
            20.95212765957447,
            28.371470588235287,
            19.496779661016948,
            188.06892857142861,
            24.106511627906976,
            23.51268292682927,
            21.109166666666667,
            35.75058823529412,
            29.0286,
            22.66444444444444,
            19.916410256410252,
            20.085476190476196,
            18.38421052631579,
            14.490666666666668,
            19.58,
            12.048
           ],
           "yaxis": "y2"
          }
         ],
         "name": "13"
        },
        {
         "data": [
          {
           "alignmentgroup": "True",
           "hovertemplate": "direction=up<br>floor=14<br>Local Time (GMT+8)=%{x}<br>avgWait_weekend=%{y}<extra></extra>",
           "legendgroup": "up",
           "marker": {
            "color": "#636efa"
           },
           "name": "up",
           "offsetgroup": "up",
           "orientation": "v",
           "showlegend": true,
           "textposition": "auto",
           "type": "bar",
           "x": [
            2,
            3,
            7,
            8,
            9,
            10,
            11,
            12,
            13,
            14,
            15,
            16,
            17,
            18,
            20,
            21,
            23
           ],
           "xaxis": "x",
           "y": [
            17.47,
            18.95,
            15.16,
            62.55,
            122.63,
            59.925,
            66.59333333333333,
            50.39166666666667,
            20.76,
            79.95750000000002,
            34.076,
            51.12,
            22.27,
            38.185,
            1.54,
            20.08,
            7.84
           ],
           "yaxis": "y"
          },
          {
           "alignmentgroup": "True",
           "hovertemplate": "direction=down<br>floor=14<br>Local Time (GMT+8)=%{x}<br>avgWait_weekend=%{y}<extra></extra>",
           "legendgroup": "down",
           "marker": {
            "color": "#EF553B"
           },
           "name": "down",
           "offsetgroup": "down",
           "orientation": "v",
           "showlegend": true,
           "textposition": "auto",
           "type": "bar",
           "x": [
            0,
            1,
            2,
            3,
            6,
            7,
            8,
            9,
            10,
            11,
            12,
            13,
            14,
            15,
            16,
            17,
            18,
            19,
            20,
            21,
            22,
            23
           ],
           "xaxis": "x2",
           "y": [
            18.86,
            12.670000000000002,
            27.03,
            1.61,
            58.09,
            46.33454545454546,
            40.055263157894736,
            41.96847826086957,
            48.388000000000005,
            175.7904545454545,
            57.979285714285716,
            45.27770833333333,
            45.8425,
            47.8842,
            43.26137931034482,
            41.8475,
            31.700344827586203,
            29.426,
            16.387692307692312,
            22.30909090909091,
            24.316666666666666,
            10.69
           ],
           "yaxis": "y2"
          }
         ],
         "name": "14"
        },
        {
         "data": [
          {
           "alignmentgroup": "True",
           "hovertemplate": "direction=down<br>floor=15<br>Local Time (GMT+8)=%{x}<br>avgWait_weekend=%{y}<extra></extra>",
           "legendgroup": "down",
           "marker": {
            "color": "#EF553B"
           },
           "name": "down",
           "offsetgroup": "down",
           "orientation": "v",
           "showlegend": true,
           "textposition": "auto",
           "type": "bar",
           "x": [
            0,
            1,
            2,
            3,
            4,
            5,
            6,
            7,
            8,
            9,
            10,
            11,
            12,
            13,
            14,
            15,
            16,
            17,
            18,
            19,
            20,
            21,
            22,
            23
           ],
           "xaxis": "x2",
           "y": [
            21.425,
            1.01,
            6.543333333333332,
            2.55,
            1.39,
            1.37,
            25.35,
            27.00428571428571,
            39.44594594594594,
            51.82651162790698,
            59.35,
            213.21315789473687,
            61.06888888888889,
            53.382,
            47.72717391304347,
            78.422,
            63.62877192982456,
            52.19745098039216,
            42.013055555555546,
            25.04777777777777,
            21.963529411764707,
            38.34875,
            23.35,
            22.78
           ],
           "yaxis": "y2"
          }
         ],
         "name": "15"
        },
        {
         "data": [
          {
           "alignmentgroup": "True",
           "hovertemplate": "direction=up<br>floor=B1<br>Local Time (GMT+8)=%{x}<br>avgWait_weekend=%{y}<extra></extra>",
           "legendgroup": "up",
           "marker": {
            "color": "#636efa"
           },
           "name": "up",
           "offsetgroup": "up",
           "orientation": "v",
           "showlegend": true,
           "textposition": "auto",
           "type": "bar",
           "x": [
            0,
            1,
            2,
            3,
            4,
            5,
            6,
            7,
            8,
            9,
            10,
            11,
            12,
            13,
            14,
            15,
            16,
            17,
            18,
            19,
            20,
            21,
            22,
            23
           ],
           "xaxis": "x",
           "y": [
            16.17625,
            14.2125,
            14.136153846153848,
            10.963333333333333,
            12.96,
            11.792,
            20.345294117647054,
            15.817614678899083,
            15.839318181818182,
            16.18919191919192,
            16.524565217391306,
            81.81075342465753,
            16.024558823529414,
            17.512631578947367,
            11.67884210526316,
            15.867951807228913,
            14.690380952380952,
            16.777076923076926,
            17.508492063492064,
            11.1901,
            11.717457627118645,
            10.52981818181818,
            12.271875,
            10.417857142857144
           ],
           "yaxis": "y"
          },
          {
           "alignmentgroup": "True",
           "hovertemplate": "direction=down<br>floor=B1<br>Local Time (GMT+8)=%{x}<br>avgWait_weekend=%{y}<extra></extra>",
           "legendgroup": "down",
           "marker": {
            "color": "#EF553B"
           },
           "name": "down",
           "offsetgroup": "down",
           "orientation": "v",
           "showlegend": true,
           "textposition": "auto",
           "type": "bar",
           "x": [
            0,
            2,
            5,
            6,
            7,
            8,
            9,
            10,
            11,
            12,
            13,
            14,
            15,
            16,
            17,
            18,
            19,
            20,
            21,
            22,
            23
           ],
           "xaxis": "x2",
           "y": [
            12.625,
            11.83,
            15.03,
            21.718823529411765,
            23.850476190476193,
            23.687200000000004,
            18.741111111111113,
            32.332857142857144,
            19.167272727272728,
            14.919565217391305,
            12.721428571428573,
            20.480588235294114,
            13.832142857142856,
            25.404736842105258,
            17.685,
            18.28125,
            13.68,
            8.278571428571428,
            15.68,
            22.596,
            12.823333333333332
           ],
           "yaxis": "y2"
          }
         ],
         "name": "B1"
        },
        {
         "data": [
          {
           "alignmentgroup": "True",
           "hovertemplate": "direction=up<br>floor=B3<br>Local Time (GMT+8)=%{x}<br>avgWait_weekend=%{y}<extra></extra>",
           "legendgroup": "up",
           "marker": {
            "color": "#636efa"
           },
           "name": "up",
           "offsetgroup": "up",
           "orientation": "v",
           "showlegend": true,
           "textposition": "auto",
           "type": "bar",
           "x": [
            0,
            1,
            4,
            5,
            6,
            7,
            8,
            9,
            10,
            11,
            12,
            13,
            14,
            15,
            16,
            17,
            18,
            19,
            20,
            21,
            22
           ],
           "xaxis": "x",
           "y": [
            14.033333333333333,
            23.17,
            10.9025,
            20.78,
            20.910384615384622,
            14.113787878787878,
            17.366521739130434,
            14.5086,
            12.005882352941176,
            12.411153846153846,
            14.554999999999998,
            14.582727272727272,
            13.974358974358973,
            13.031199999999998,
            12.567741935483873,
            19.1012,
            16.658333333333335,
            12.363333333333333,
            12.779166666666667,
            6.1000000000000005,
            7.915
           ],
           "yaxis": "y"
          },
          {
           "alignmentgroup": "True",
           "hovertemplate": "direction=down<br>floor=B3<br>Local Time (GMT+8)=%{x}<br>avgWait_weekend=%{y}<extra></extra>",
           "legendgroup": "down",
           "marker": {
            "color": "#EF553B"
           },
           "name": "down",
           "offsetgroup": "down",
           "orientation": "v",
           "showlegend": true,
           "textposition": "auto",
           "type": "bar",
           "x": [
            6,
            7,
            8,
            9,
            10,
            12,
            13,
            14,
            15,
            16,
            17
           ],
           "xaxis": "x2",
           "y": [
            7.765,
            14.56,
            15.62,
            50.74500000000001,
            27.21,
            12.89,
            40.46833333333333,
            16.7375,
            23.8075,
            17.25,
            19.534000000000002
           ],
           "yaxis": "y2"
          }
         ],
         "name": "B3"
        },
        {
         "data": [
          {
           "alignmentgroup": "True",
           "hovertemplate": "direction=up<br>floor=B4<br>Local Time (GMT+8)=%{x}<br>avgWait_weekend=%{y}<extra></extra>",
           "legendgroup": "up",
           "marker": {
            "color": "#636efa"
           },
           "name": "up",
           "offsetgroup": "up",
           "orientation": "v",
           "showlegend": true,
           "textposition": "auto",
           "type": "bar",
           "x": [
            0,
            1,
            2,
            3,
            4,
            5,
            6,
            7,
            8,
            9,
            10,
            11,
            12,
            13,
            14,
            15,
            16,
            17,
            18,
            19,
            20,
            21,
            22,
            23
           ],
           "xaxis": "x",
           "y": [
            14.35,
            21.535,
            18.47,
            11.785,
            1.26,
            25.61,
            20.430000000000003,
            20.617254901960784,
            24.705483870967747,
            25.64128571428571,
            53.56923076923078,
            26.567966101694914,
            23.294761904761906,
            20.79359375,
            30.825573770491804,
            28.439038461538463,
            22.418750000000006,
            21.672666666666668,
            20.152222222222218,
            10.129375,
            8.113888888888889,
            5.284,
            9.15,
            14.086153846153849
           ],
           "yaxis": "y"
          }
         ],
         "name": "B4"
        }
       ],
       "layout": {
        "annotations": [
         {
          "font": {},
          "showarrow": false,
          "text": "direction=up",
          "x": 0.245,
          "xanchor": "center",
          "xref": "paper",
          "y": 1,
          "yanchor": "bottom",
          "yref": "paper"
         },
         {
          "font": {},
          "showarrow": false,
          "text": "direction=down",
          "x": 0.755,
          "xanchor": "center",
          "xref": "paper",
          "y": 1,
          "yanchor": "bottom",
          "yref": "paper"
         }
        ],
        "barmode": "relative",
        "legend": {
         "title": {
          "text": "direction"
         },
         "tracegroupgap": 0
        },
        "margin": {
         "t": 60
        },
        "sliders": [
         {
          "active": 0,
          "currentvalue": {
           "prefix": "floor="
          },
          "len": 0.9,
          "pad": {
           "b": 10,
           "t": 60
          },
          "steps": [
           {
            "args": [
             [
              "1"
             ],
             {
              "frame": {
               "duration": 0,
               "redraw": true
              },
              "fromcurrent": true,
              "mode": "immediate",
              "transition": {
               "duration": 0,
               "easing": "linear"
              }
             }
            ],
            "label": "1",
            "method": "animate"
           },
           {
            "args": [
             [
              "2"
             ],
             {
              "frame": {
               "duration": 0,
               "redraw": true
              },
              "fromcurrent": true,
              "mode": "immediate",
              "transition": {
               "duration": 0,
               "easing": "linear"
              }
             }
            ],
            "label": "2",
            "method": "animate"
           },
           {
            "args": [
             [
              "3"
             ],
             {
              "frame": {
               "duration": 0,
               "redraw": true
              },
              "fromcurrent": true,
              "mode": "immediate",
              "transition": {
               "duration": 0,
               "easing": "linear"
              }
             }
            ],
            "label": "3",
            "method": "animate"
           },
           {
            "args": [
             [
              "4"
             ],
             {
              "frame": {
               "duration": 0,
               "redraw": true
              },
              "fromcurrent": true,
              "mode": "immediate",
              "transition": {
               "duration": 0,
               "easing": "linear"
              }
             }
            ],
            "label": "4",
            "method": "animate"
           },
           {
            "args": [
             [
              "5"
             ],
             {
              "frame": {
               "duration": 0,
               "redraw": true
              },
              "fromcurrent": true,
              "mode": "immediate",
              "transition": {
               "duration": 0,
               "easing": "linear"
              }
             }
            ],
            "label": "5",
            "method": "animate"
           },
           {
            "args": [
             [
              "6"
             ],
             {
              "frame": {
               "duration": 0,
               "redraw": true
              },
              "fromcurrent": true,
              "mode": "immediate",
              "transition": {
               "duration": 0,
               "easing": "linear"
              }
             }
            ],
            "label": "6",
            "method": "animate"
           },
           {
            "args": [
             [
              "7"
             ],
             {
              "frame": {
               "duration": 0,
               "redraw": true
              },
              "fromcurrent": true,
              "mode": "immediate",
              "transition": {
               "duration": 0,
               "easing": "linear"
              }
             }
            ],
            "label": "7",
            "method": "animate"
           },
           {
            "args": [
             [
              "8"
             ],
             {
              "frame": {
               "duration": 0,
               "redraw": true
              },
              "fromcurrent": true,
              "mode": "immediate",
              "transition": {
               "duration": 0,
               "easing": "linear"
              }
             }
            ],
            "label": "8",
            "method": "animate"
           },
           {
            "args": [
             [
              "9"
             ],
             {
              "frame": {
               "duration": 0,
               "redraw": true
              },
              "fromcurrent": true,
              "mode": "immediate",
              "transition": {
               "duration": 0,
               "easing": "linear"
              }
             }
            ],
            "label": "9",
            "method": "animate"
           },
           {
            "args": [
             [
              "10"
             ],
             {
              "frame": {
               "duration": 0,
               "redraw": true
              },
              "fromcurrent": true,
              "mode": "immediate",
              "transition": {
               "duration": 0,
               "easing": "linear"
              }
             }
            ],
            "label": "10",
            "method": "animate"
           },
           {
            "args": [
             [
              "11"
             ],
             {
              "frame": {
               "duration": 0,
               "redraw": true
              },
              "fromcurrent": true,
              "mode": "immediate",
              "transition": {
               "duration": 0,
               "easing": "linear"
              }
             }
            ],
            "label": "11",
            "method": "animate"
           },
           {
            "args": [
             [
              "12"
             ],
             {
              "frame": {
               "duration": 0,
               "redraw": true
              },
              "fromcurrent": true,
              "mode": "immediate",
              "transition": {
               "duration": 0,
               "easing": "linear"
              }
             }
            ],
            "label": "12",
            "method": "animate"
           },
           {
            "args": [
             [
              "13"
             ],
             {
              "frame": {
               "duration": 0,
               "redraw": true
              },
              "fromcurrent": true,
              "mode": "immediate",
              "transition": {
               "duration": 0,
               "easing": "linear"
              }
             }
            ],
            "label": "13",
            "method": "animate"
           },
           {
            "args": [
             [
              "14"
             ],
             {
              "frame": {
               "duration": 0,
               "redraw": true
              },
              "fromcurrent": true,
              "mode": "immediate",
              "transition": {
               "duration": 0,
               "easing": "linear"
              }
             }
            ],
            "label": "14",
            "method": "animate"
           },
           {
            "args": [
             [
              "15"
             ],
             {
              "frame": {
               "duration": 0,
               "redraw": true
              },
              "fromcurrent": true,
              "mode": "immediate",
              "transition": {
               "duration": 0,
               "easing": "linear"
              }
             }
            ],
            "label": "15",
            "method": "animate"
           },
           {
            "args": [
             [
              "B1"
             ],
             {
              "frame": {
               "duration": 0,
               "redraw": true
              },
              "fromcurrent": true,
              "mode": "immediate",
              "transition": {
               "duration": 0,
               "easing": "linear"
              }
             }
            ],
            "label": "B1",
            "method": "animate"
           },
           {
            "args": [
             [
              "B3"
             ],
             {
              "frame": {
               "duration": 0,
               "redraw": true
              },
              "fromcurrent": true,
              "mode": "immediate",
              "transition": {
               "duration": 0,
               "easing": "linear"
              }
             }
            ],
            "label": "B3",
            "method": "animate"
           },
           {
            "args": [
             [
              "B4"
             ],
             {
              "frame": {
               "duration": 0,
               "redraw": true
              },
              "fromcurrent": true,
              "mode": "immediate",
              "transition": {
               "duration": 0,
               "easing": "linear"
              }
             }
            ],
            "label": "B4",
            "method": "animate"
           }
          ],
          "x": 0.1,
          "xanchor": "left",
          "y": 0,
          "yanchor": "top"
         }
        ],
        "template": {
         "data": {
          "bar": [
           {
            "error_x": {
             "color": "#2a3f5f"
            },
            "error_y": {
             "color": "#2a3f5f"
            },
            "marker": {
             "line": {
              "color": "#E5ECF6",
              "width": 0.5
             }
            },
            "type": "bar"
           }
          ],
          "barpolar": [
           {
            "marker": {
             "line": {
              "color": "#E5ECF6",
              "width": 0.5
             }
            },
            "type": "barpolar"
           }
          ],
          "carpet": [
           {
            "aaxis": {
             "endlinecolor": "#2a3f5f",
             "gridcolor": "white",
             "linecolor": "white",
             "minorgridcolor": "white",
             "startlinecolor": "#2a3f5f"
            },
            "baxis": {
             "endlinecolor": "#2a3f5f",
             "gridcolor": "white",
             "linecolor": "white",
             "minorgridcolor": "white",
             "startlinecolor": "#2a3f5f"
            },
            "type": "carpet"
           }
          ],
          "choropleth": [
           {
            "colorbar": {
             "outlinewidth": 0,
             "ticks": ""
            },
            "type": "choropleth"
           }
          ],
          "contour": [
           {
            "colorbar": {
             "outlinewidth": 0,
             "ticks": ""
            },
            "colorscale": [
             [
              0,
              "#0d0887"
             ],
             [
              0.1111111111111111,
              "#46039f"
             ],
             [
              0.2222222222222222,
              "#7201a8"
             ],
             [
              0.3333333333333333,
              "#9c179e"
             ],
             [
              0.4444444444444444,
              "#bd3786"
             ],
             [
              0.5555555555555556,
              "#d8576b"
             ],
             [
              0.6666666666666666,
              "#ed7953"
             ],
             [
              0.7777777777777778,
              "#fb9f3a"
             ],
             [
              0.8888888888888888,
              "#fdca26"
             ],
             [
              1,
              "#f0f921"
             ]
            ],
            "type": "contour"
           }
          ],
          "contourcarpet": [
           {
            "colorbar": {
             "outlinewidth": 0,
             "ticks": ""
            },
            "type": "contourcarpet"
           }
          ],
          "heatmap": [
           {
            "colorbar": {
             "outlinewidth": 0,
             "ticks": ""
            },
            "colorscale": [
             [
              0,
              "#0d0887"
             ],
             [
              0.1111111111111111,
              "#46039f"
             ],
             [
              0.2222222222222222,
              "#7201a8"
             ],
             [
              0.3333333333333333,
              "#9c179e"
             ],
             [
              0.4444444444444444,
              "#bd3786"
             ],
             [
              0.5555555555555556,
              "#d8576b"
             ],
             [
              0.6666666666666666,
              "#ed7953"
             ],
             [
              0.7777777777777778,
              "#fb9f3a"
             ],
             [
              0.8888888888888888,
              "#fdca26"
             ],
             [
              1,
              "#f0f921"
             ]
            ],
            "type": "heatmap"
           }
          ],
          "heatmapgl": [
           {
            "colorbar": {
             "outlinewidth": 0,
             "ticks": ""
            },
            "colorscale": [
             [
              0,
              "#0d0887"
             ],
             [
              0.1111111111111111,
              "#46039f"
             ],
             [
              0.2222222222222222,
              "#7201a8"
             ],
             [
              0.3333333333333333,
              "#9c179e"
             ],
             [
              0.4444444444444444,
              "#bd3786"
             ],
             [
              0.5555555555555556,
              "#d8576b"
             ],
             [
              0.6666666666666666,
              "#ed7953"
             ],
             [
              0.7777777777777778,
              "#fb9f3a"
             ],
             [
              0.8888888888888888,
              "#fdca26"
             ],
             [
              1,
              "#f0f921"
             ]
            ],
            "type": "heatmapgl"
           }
          ],
          "histogram": [
           {
            "marker": {
             "colorbar": {
              "outlinewidth": 0,
              "ticks": ""
             }
            },
            "type": "histogram"
           }
          ],
          "histogram2d": [
           {
            "colorbar": {
             "outlinewidth": 0,
             "ticks": ""
            },
            "colorscale": [
             [
              0,
              "#0d0887"
             ],
             [
              0.1111111111111111,
              "#46039f"
             ],
             [
              0.2222222222222222,
              "#7201a8"
             ],
             [
              0.3333333333333333,
              "#9c179e"
             ],
             [
              0.4444444444444444,
              "#bd3786"
             ],
             [
              0.5555555555555556,
              "#d8576b"
             ],
             [
              0.6666666666666666,
              "#ed7953"
             ],
             [
              0.7777777777777778,
              "#fb9f3a"
             ],
             [
              0.8888888888888888,
              "#fdca26"
             ],
             [
              1,
              "#f0f921"
             ]
            ],
            "type": "histogram2d"
           }
          ],
          "histogram2dcontour": [
           {
            "colorbar": {
             "outlinewidth": 0,
             "ticks": ""
            },
            "colorscale": [
             [
              0,
              "#0d0887"
             ],
             [
              0.1111111111111111,
              "#46039f"
             ],
             [
              0.2222222222222222,
              "#7201a8"
             ],
             [
              0.3333333333333333,
              "#9c179e"
             ],
             [
              0.4444444444444444,
              "#bd3786"
             ],
             [
              0.5555555555555556,
              "#d8576b"
             ],
             [
              0.6666666666666666,
              "#ed7953"
             ],
             [
              0.7777777777777778,
              "#fb9f3a"
             ],
             [
              0.8888888888888888,
              "#fdca26"
             ],
             [
              1,
              "#f0f921"
             ]
            ],
            "type": "histogram2dcontour"
           }
          ],
          "mesh3d": [
           {
            "colorbar": {
             "outlinewidth": 0,
             "ticks": ""
            },
            "type": "mesh3d"
           }
          ],
          "parcoords": [
           {
            "line": {
             "colorbar": {
              "outlinewidth": 0,
              "ticks": ""
             }
            },
            "type": "parcoords"
           }
          ],
          "pie": [
           {
            "automargin": true,
            "type": "pie"
           }
          ],
          "scatter": [
           {
            "marker": {
             "colorbar": {
              "outlinewidth": 0,
              "ticks": ""
             }
            },
            "type": "scatter"
           }
          ],
          "scatter3d": [
           {
            "line": {
             "colorbar": {
              "outlinewidth": 0,
              "ticks": ""
             }
            },
            "marker": {
             "colorbar": {
              "outlinewidth": 0,
              "ticks": ""
             }
            },
            "type": "scatter3d"
           }
          ],
          "scattercarpet": [
           {
            "marker": {
             "colorbar": {
              "outlinewidth": 0,
              "ticks": ""
             }
            },
            "type": "scattercarpet"
           }
          ],
          "scattergeo": [
           {
            "marker": {
             "colorbar": {
              "outlinewidth": 0,
              "ticks": ""
             }
            },
            "type": "scattergeo"
           }
          ],
          "scattergl": [
           {
            "marker": {
             "colorbar": {
              "outlinewidth": 0,
              "ticks": ""
             }
            },
            "type": "scattergl"
           }
          ],
          "scattermapbox": [
           {
            "marker": {
             "colorbar": {
              "outlinewidth": 0,
              "ticks": ""
             }
            },
            "type": "scattermapbox"
           }
          ],
          "scatterpolar": [
           {
            "marker": {
             "colorbar": {
              "outlinewidth": 0,
              "ticks": ""
             }
            },
            "type": "scatterpolar"
           }
          ],
          "scatterpolargl": [
           {
            "marker": {
             "colorbar": {
              "outlinewidth": 0,
              "ticks": ""
             }
            },
            "type": "scatterpolargl"
           }
          ],
          "scatterternary": [
           {
            "marker": {
             "colorbar": {
              "outlinewidth": 0,
              "ticks": ""
             }
            },
            "type": "scatterternary"
           }
          ],
          "surface": [
           {
            "colorbar": {
             "outlinewidth": 0,
             "ticks": ""
            },
            "colorscale": [
             [
              0,
              "#0d0887"
             ],
             [
              0.1111111111111111,
              "#46039f"
             ],
             [
              0.2222222222222222,
              "#7201a8"
             ],
             [
              0.3333333333333333,
              "#9c179e"
             ],
             [
              0.4444444444444444,
              "#bd3786"
             ],
             [
              0.5555555555555556,
              "#d8576b"
             ],
             [
              0.6666666666666666,
              "#ed7953"
             ],
             [
              0.7777777777777778,
              "#fb9f3a"
             ],
             [
              0.8888888888888888,
              "#fdca26"
             ],
             [
              1,
              "#f0f921"
             ]
            ],
            "type": "surface"
           }
          ],
          "table": [
           {
            "cells": {
             "fill": {
              "color": "#EBF0F8"
             },
             "line": {
              "color": "white"
             }
            },
            "header": {
             "fill": {
              "color": "#C8D4E3"
             },
             "line": {
              "color": "white"
             }
            },
            "type": "table"
           }
          ]
         },
         "layout": {
          "annotationdefaults": {
           "arrowcolor": "#2a3f5f",
           "arrowhead": 0,
           "arrowwidth": 1
          },
          "coloraxis": {
           "colorbar": {
            "outlinewidth": 0,
            "ticks": ""
           }
          },
          "colorscale": {
           "diverging": [
            [
             0,
             "#8e0152"
            ],
            [
             0.1,
             "#c51b7d"
            ],
            [
             0.2,
             "#de77ae"
            ],
            [
             0.3,
             "#f1b6da"
            ],
            [
             0.4,
             "#fde0ef"
            ],
            [
             0.5,
             "#f7f7f7"
            ],
            [
             0.6,
             "#e6f5d0"
            ],
            [
             0.7,
             "#b8e186"
            ],
            [
             0.8,
             "#7fbc41"
            ],
            [
             0.9,
             "#4d9221"
            ],
            [
             1,
             "#276419"
            ]
           ],
           "sequential": [
            [
             0,
             "#0d0887"
            ],
            [
             0.1111111111111111,
             "#46039f"
            ],
            [
             0.2222222222222222,
             "#7201a8"
            ],
            [
             0.3333333333333333,
             "#9c179e"
            ],
            [
             0.4444444444444444,
             "#bd3786"
            ],
            [
             0.5555555555555556,
             "#d8576b"
            ],
            [
             0.6666666666666666,
             "#ed7953"
            ],
            [
             0.7777777777777778,
             "#fb9f3a"
            ],
            [
             0.8888888888888888,
             "#fdca26"
            ],
            [
             1,
             "#f0f921"
            ]
           ],
           "sequentialminus": [
            [
             0,
             "#0d0887"
            ],
            [
             0.1111111111111111,
             "#46039f"
            ],
            [
             0.2222222222222222,
             "#7201a8"
            ],
            [
             0.3333333333333333,
             "#9c179e"
            ],
            [
             0.4444444444444444,
             "#bd3786"
            ],
            [
             0.5555555555555556,
             "#d8576b"
            ],
            [
             0.6666666666666666,
             "#ed7953"
            ],
            [
             0.7777777777777778,
             "#fb9f3a"
            ],
            [
             0.8888888888888888,
             "#fdca26"
            ],
            [
             1,
             "#f0f921"
            ]
           ]
          },
          "colorway": [
           "#636efa",
           "#EF553B",
           "#00cc96",
           "#ab63fa",
           "#FFA15A",
           "#19d3f3",
           "#FF6692",
           "#B6E880",
           "#FF97FF",
           "#FECB52"
          ],
          "font": {
           "color": "#2a3f5f"
          },
          "geo": {
           "bgcolor": "white",
           "lakecolor": "white",
           "landcolor": "#E5ECF6",
           "showlakes": true,
           "showland": true,
           "subunitcolor": "white"
          },
          "hoverlabel": {
           "align": "left"
          },
          "hovermode": "closest",
          "mapbox": {
           "style": "light"
          },
          "paper_bgcolor": "white",
          "plot_bgcolor": "#E5ECF6",
          "polar": {
           "angularaxis": {
            "gridcolor": "white",
            "linecolor": "white",
            "ticks": ""
           },
           "bgcolor": "#E5ECF6",
           "radialaxis": {
            "gridcolor": "white",
            "linecolor": "white",
            "ticks": ""
           }
          },
          "scene": {
           "xaxis": {
            "backgroundcolor": "#E5ECF6",
            "gridcolor": "white",
            "gridwidth": 2,
            "linecolor": "white",
            "showbackground": true,
            "ticks": "",
            "zerolinecolor": "white"
           },
           "yaxis": {
            "backgroundcolor": "#E5ECF6",
            "gridcolor": "white",
            "gridwidth": 2,
            "linecolor": "white",
            "showbackground": true,
            "ticks": "",
            "zerolinecolor": "white"
           },
           "zaxis": {
            "backgroundcolor": "#E5ECF6",
            "gridcolor": "white",
            "gridwidth": 2,
            "linecolor": "white",
            "showbackground": true,
            "ticks": "",
            "zerolinecolor": "white"
           }
          },
          "shapedefaults": {
           "line": {
            "color": "#2a3f5f"
           }
          },
          "ternary": {
           "aaxis": {
            "gridcolor": "white",
            "linecolor": "white",
            "ticks": ""
           },
           "baxis": {
            "gridcolor": "white",
            "linecolor": "white",
            "ticks": ""
           },
           "bgcolor": "#E5ECF6",
           "caxis": {
            "gridcolor": "white",
            "linecolor": "white",
            "ticks": ""
           }
          },
          "title": {
           "x": 0.05
          },
          "xaxis": {
           "automargin": true,
           "gridcolor": "white",
           "linecolor": "white",
           "ticks": "",
           "title": {
            "standoff": 15
           },
           "zerolinecolor": "white",
           "zerolinewidth": 2
          },
          "yaxis": {
           "automargin": true,
           "gridcolor": "white",
           "linecolor": "white",
           "ticks": "",
           "title": {
            "standoff": 15
           },
           "zerolinecolor": "white",
           "zerolinewidth": 2
          }
         }
        },
        "title": {
         "text": "Average waiting time of Elevator Calls by Time"
        },
        "updatemenus": [
         {
          "buttons": [
           {
            "args": [
             null,
             {
              "frame": {
               "duration": 500,
               "redraw": true
              },
              "fromcurrent": true,
              "mode": "immediate",
              "transition": {
               "duration": 500,
               "easing": "linear"
              }
             }
            ],
            "label": "&#9654;",
            "method": "animate"
           },
           {
            "args": [
             [
              null
             ],
             {
              "frame": {
               "duration": 0,
               "redraw": true
              },
              "fromcurrent": true,
              "mode": "immediate",
              "transition": {
               "duration": 0,
               "easing": "linear"
              }
             }
            ],
            "label": "&#9724;",
            "method": "animate"
           }
          ],
          "direction": "left",
          "pad": {
           "r": 10,
           "t": 70
          },
          "showactive": false,
          "type": "buttons",
          "x": 0.1,
          "xanchor": "right",
          "y": 0,
          "yanchor": "top"
         }
        ],
        "xaxis": {
         "anchor": "y",
         "categoryarray": [
          0,
          24
         ],
         "domain": [
          0,
          0.49
         ],
         "nticks": 19,
         "title": {
          "text": "Local Time (GMT+8)"
         },
         "type": "category"
        },
        "xaxis2": {
         "anchor": "y2",
         "categoryarray": [
          0,
          24
         ],
         "domain": [
          0.51,
          1
         ],
         "matches": "x",
         "nticks": 19,
         "title": {
          "text": "Local Time (GMT+8)"
         },
         "type": "category"
        },
        "yaxis": {
         "anchor": "x",
         "domain": [
          0,
          1
         ],
         "range": [
          0,
          300
         ],
         "title": {
          "text": "avgWait_weekend"
         }
        },
        "yaxis2": {
         "anchor": "x2",
         "domain": [
          0,
          1
         ],
         "matches": "y",
         "range": [
          0,
          300
         ],
         "showticklabels": false
        }
       }
      },
      "text/html": [
       "<div>\n",
       "        \n",
       "        \n",
       "            <div id=\"63a7b7b1-56e6-48e0-9d6e-ea296bd02b96\" class=\"plotly-graph-div\" style=\"height:525px; width:100%;\"></div>\n",
       "            <script type=\"text/javascript\">\n",
       "                require([\"plotly\"], function(Plotly) {\n",
       "                    window.PLOTLYENV=window.PLOTLYENV || {};\n",
       "                    \n",
       "                if (document.getElementById(\"63a7b7b1-56e6-48e0-9d6e-ea296bd02b96\")) {\n",
       "                    Plotly.newPlot(\n",
       "                        '63a7b7b1-56e6-48e0-9d6e-ea296bd02b96',\n",
       "                        [{\"alignmentgroup\": \"True\", \"hovertemplate\": \"direction=up<br>floor=1<br>Local Time (GMT+8)=%{x}<br>avgWait_weekend=%{y}<extra></extra>\", \"legendgroup\": \"up\", \"marker\": {\"color\": \"#636efa\"}, \"name\": \"up\", \"offsetgroup\": \"up\", \"orientation\": \"v\", \"showlegend\": true, \"textposition\": \"auto\", \"type\": \"bar\", \"x\": [0, 1, 2, 3, 5, 6, 7, 8, 9, 10, 11, 12, 13, 14, 15, 16, 17, 18, 19, 20, 21, 22, 23], \"xaxis\": \"x\", \"y\": [9.79, 14.395, 12.976666666666668, 15.83, 13.248333333333335, 18.0916, 16.886402116402117, 13.831301775147926, 11.574202898550725, 12.365348837209305, 11.438119658119659, 15.122173913043476, 13.091682242990654, 9.164736842105263, 14.0507, 14.862407407407408, 14.5425, 12.512758620689654, 10.702075471698114, 13.347073170731706, 11.841818181818182, 9.648979591836737, 6.954705882352941], \"yaxis\": \"y\"}, {\"alignmentgroup\": \"True\", \"hovertemplate\": \"direction=down<br>floor=1<br>Local Time (GMT+8)=%{x}<br>avgWait_weekend=%{y}<extra></extra>\", \"legendgroup\": \"down\", \"marker\": {\"color\": \"#EF553B\"}, \"name\": \"down\", \"offsetgroup\": \"down\", \"orientation\": \"v\", \"showlegend\": true, \"textposition\": \"auto\", \"type\": \"bar\", \"x\": [3, 6, 7, 8, 9, 10, 11, 12, 13, 14, 15, 16, 17, 18, 19, 20, 21, 22, 23], \"xaxis\": \"x2\", \"y\": [23.4, 27.488888888888887, 25.218604651162792, 32.988, 17.761875, 14.25153846153846, 13.681666666666667, 15.356046511627905, 26.875172413793106, 7.974137931034483, 20.536944444444444, 16.18885714285714, 24.63447368421053, 24.48409090909091, 15.353809523809526, 8.338888888888889, 9.001666666666667, 5.687777777777778, 13.0575], \"yaxis\": \"y2\"}],\n",
       "                        {\"annotations\": [{\"font\": {}, \"showarrow\": false, \"text\": \"direction=up\", \"x\": 0.245, \"xanchor\": \"center\", \"xref\": \"paper\", \"y\": 1.0, \"yanchor\": \"bottom\", \"yref\": \"paper\"}, {\"font\": {}, \"showarrow\": false, \"text\": \"direction=down\", \"x\": 0.755, \"xanchor\": \"center\", \"xref\": \"paper\", \"y\": 1.0, \"yanchor\": \"bottom\", \"yref\": \"paper\"}], \"barmode\": \"relative\", \"legend\": {\"title\": {\"text\": \"direction\"}, \"tracegroupgap\": 0}, \"margin\": {\"t\": 60}, \"sliders\": [{\"active\": 0, \"currentvalue\": {\"prefix\": \"floor=\"}, \"len\": 0.9, \"pad\": {\"b\": 10, \"t\": 60}, \"steps\": [{\"args\": [[\"1\"], {\"frame\": {\"duration\": 0, \"redraw\": true}, \"fromcurrent\": true, \"mode\": \"immediate\", \"transition\": {\"duration\": 0, \"easing\": \"linear\"}}], \"label\": \"1\", \"method\": \"animate\"}, {\"args\": [[\"2\"], {\"frame\": {\"duration\": 0, \"redraw\": true}, \"fromcurrent\": true, \"mode\": \"immediate\", \"transition\": {\"duration\": 0, \"easing\": \"linear\"}}], \"label\": \"2\", \"method\": \"animate\"}, {\"args\": [[\"3\"], {\"frame\": {\"duration\": 0, \"redraw\": true}, \"fromcurrent\": true, \"mode\": \"immediate\", \"transition\": {\"duration\": 0, \"easing\": \"linear\"}}], \"label\": \"3\", \"method\": \"animate\"}, {\"args\": [[\"4\"], {\"frame\": {\"duration\": 0, \"redraw\": true}, \"fromcurrent\": true, \"mode\": \"immediate\", \"transition\": {\"duration\": 0, \"easing\": \"linear\"}}], \"label\": \"4\", \"method\": \"animate\"}, {\"args\": [[\"5\"], {\"frame\": {\"duration\": 0, \"redraw\": true}, \"fromcurrent\": true, \"mode\": \"immediate\", \"transition\": {\"duration\": 0, \"easing\": \"linear\"}}], \"label\": \"5\", \"method\": \"animate\"}, {\"args\": [[\"6\"], {\"frame\": {\"duration\": 0, \"redraw\": true}, \"fromcurrent\": true, \"mode\": \"immediate\", \"transition\": {\"duration\": 0, \"easing\": \"linear\"}}], \"label\": \"6\", \"method\": \"animate\"}, {\"args\": [[\"7\"], {\"frame\": {\"duration\": 0, \"redraw\": true}, \"fromcurrent\": true, \"mode\": \"immediate\", \"transition\": {\"duration\": 0, \"easing\": \"linear\"}}], \"label\": \"7\", \"method\": \"animate\"}, {\"args\": [[\"8\"], {\"frame\": {\"duration\": 0, \"redraw\": true}, \"fromcurrent\": true, \"mode\": \"immediate\", \"transition\": {\"duration\": 0, \"easing\": \"linear\"}}], \"label\": \"8\", \"method\": \"animate\"}, {\"args\": [[\"9\"], {\"frame\": {\"duration\": 0, \"redraw\": true}, \"fromcurrent\": true, \"mode\": \"immediate\", \"transition\": {\"duration\": 0, \"easing\": \"linear\"}}], \"label\": \"9\", \"method\": \"animate\"}, {\"args\": [[\"10\"], {\"frame\": {\"duration\": 0, \"redraw\": true}, \"fromcurrent\": true, \"mode\": \"immediate\", \"transition\": {\"duration\": 0, \"easing\": \"linear\"}}], \"label\": \"10\", \"method\": \"animate\"}, {\"args\": [[\"11\"], {\"frame\": {\"duration\": 0, \"redraw\": true}, \"fromcurrent\": true, \"mode\": \"immediate\", \"transition\": {\"duration\": 0, \"easing\": \"linear\"}}], \"label\": \"11\", \"method\": \"animate\"}, {\"args\": [[\"12\"], {\"frame\": {\"duration\": 0, \"redraw\": true}, \"fromcurrent\": true, \"mode\": \"immediate\", \"transition\": {\"duration\": 0, \"easing\": \"linear\"}}], \"label\": \"12\", \"method\": \"animate\"}, {\"args\": [[\"13\"], {\"frame\": {\"duration\": 0, \"redraw\": true}, \"fromcurrent\": true, \"mode\": \"immediate\", \"transition\": {\"duration\": 0, \"easing\": \"linear\"}}], \"label\": \"13\", \"method\": \"animate\"}, {\"args\": [[\"14\"], {\"frame\": {\"duration\": 0, \"redraw\": true}, \"fromcurrent\": true, \"mode\": \"immediate\", \"transition\": {\"duration\": 0, \"easing\": \"linear\"}}], \"label\": \"14\", \"method\": \"animate\"}, {\"args\": [[\"15\"], {\"frame\": {\"duration\": 0, \"redraw\": true}, \"fromcurrent\": true, \"mode\": \"immediate\", \"transition\": {\"duration\": 0, \"easing\": \"linear\"}}], \"label\": \"15\", \"method\": \"animate\"}, {\"args\": [[\"B1\"], {\"frame\": {\"duration\": 0, \"redraw\": true}, \"fromcurrent\": true, \"mode\": \"immediate\", \"transition\": {\"duration\": 0, \"easing\": \"linear\"}}], \"label\": \"B1\", \"method\": \"animate\"}, {\"args\": [[\"B3\"], {\"frame\": {\"duration\": 0, \"redraw\": true}, \"fromcurrent\": true, \"mode\": \"immediate\", \"transition\": {\"duration\": 0, \"easing\": \"linear\"}}], \"label\": \"B3\", \"method\": \"animate\"}, {\"args\": [[\"B4\"], {\"frame\": {\"duration\": 0, \"redraw\": true}, \"fromcurrent\": true, \"mode\": \"immediate\", \"transition\": {\"duration\": 0, \"easing\": \"linear\"}}], \"label\": \"B4\", \"method\": \"animate\"}], \"x\": 0.1, \"xanchor\": \"left\", \"y\": 0, \"yanchor\": \"top\"}], \"template\": {\"data\": {\"bar\": [{\"error_x\": {\"color\": \"#2a3f5f\"}, \"error_y\": {\"color\": \"#2a3f5f\"}, \"marker\": {\"line\": {\"color\": \"#E5ECF6\", \"width\": 0.5}}, \"type\": \"bar\"}], \"barpolar\": [{\"marker\": {\"line\": {\"color\": \"#E5ECF6\", \"width\": 0.5}}, \"type\": \"barpolar\"}], \"carpet\": [{\"aaxis\": {\"endlinecolor\": \"#2a3f5f\", \"gridcolor\": \"white\", \"linecolor\": \"white\", \"minorgridcolor\": \"white\", \"startlinecolor\": \"#2a3f5f\"}, \"baxis\": {\"endlinecolor\": \"#2a3f5f\", \"gridcolor\": \"white\", \"linecolor\": \"white\", \"minorgridcolor\": \"white\", \"startlinecolor\": \"#2a3f5f\"}, \"type\": \"carpet\"}], \"choropleth\": [{\"colorbar\": {\"outlinewidth\": 0, \"ticks\": \"\"}, \"type\": \"choropleth\"}], \"contour\": [{\"colorbar\": {\"outlinewidth\": 0, \"ticks\": \"\"}, \"colorscale\": [[0.0, \"#0d0887\"], [0.1111111111111111, \"#46039f\"], [0.2222222222222222, \"#7201a8\"], [0.3333333333333333, \"#9c179e\"], [0.4444444444444444, \"#bd3786\"], [0.5555555555555556, \"#d8576b\"], [0.6666666666666666, \"#ed7953\"], [0.7777777777777778, \"#fb9f3a\"], [0.8888888888888888, \"#fdca26\"], [1.0, \"#f0f921\"]], \"type\": \"contour\"}], \"contourcarpet\": [{\"colorbar\": {\"outlinewidth\": 0, \"ticks\": \"\"}, \"type\": \"contourcarpet\"}], \"heatmap\": [{\"colorbar\": {\"outlinewidth\": 0, \"ticks\": \"\"}, \"colorscale\": [[0.0, \"#0d0887\"], [0.1111111111111111, \"#46039f\"], [0.2222222222222222, \"#7201a8\"], [0.3333333333333333, \"#9c179e\"], [0.4444444444444444, \"#bd3786\"], [0.5555555555555556, \"#d8576b\"], [0.6666666666666666, \"#ed7953\"], [0.7777777777777778, \"#fb9f3a\"], [0.8888888888888888, \"#fdca26\"], [1.0, \"#f0f921\"]], \"type\": \"heatmap\"}], \"heatmapgl\": [{\"colorbar\": {\"outlinewidth\": 0, \"ticks\": \"\"}, \"colorscale\": [[0.0, \"#0d0887\"], [0.1111111111111111, \"#46039f\"], [0.2222222222222222, \"#7201a8\"], [0.3333333333333333, \"#9c179e\"], [0.4444444444444444, \"#bd3786\"], [0.5555555555555556, \"#d8576b\"], [0.6666666666666666, \"#ed7953\"], [0.7777777777777778, \"#fb9f3a\"], [0.8888888888888888, \"#fdca26\"], [1.0, \"#f0f921\"]], \"type\": \"heatmapgl\"}], \"histogram\": [{\"marker\": {\"colorbar\": {\"outlinewidth\": 0, \"ticks\": \"\"}}, \"type\": \"histogram\"}], \"histogram2d\": [{\"colorbar\": {\"outlinewidth\": 0, \"ticks\": \"\"}, \"colorscale\": [[0.0, \"#0d0887\"], [0.1111111111111111, \"#46039f\"], [0.2222222222222222, \"#7201a8\"], [0.3333333333333333, \"#9c179e\"], [0.4444444444444444, \"#bd3786\"], [0.5555555555555556, \"#d8576b\"], [0.6666666666666666, \"#ed7953\"], [0.7777777777777778, \"#fb9f3a\"], [0.8888888888888888, \"#fdca26\"], [1.0, \"#f0f921\"]], \"type\": \"histogram2d\"}], \"histogram2dcontour\": [{\"colorbar\": {\"outlinewidth\": 0, \"ticks\": \"\"}, \"colorscale\": [[0.0, \"#0d0887\"], [0.1111111111111111, \"#46039f\"], [0.2222222222222222, \"#7201a8\"], [0.3333333333333333, \"#9c179e\"], [0.4444444444444444, \"#bd3786\"], [0.5555555555555556, \"#d8576b\"], [0.6666666666666666, \"#ed7953\"], [0.7777777777777778, \"#fb9f3a\"], [0.8888888888888888, \"#fdca26\"], [1.0, \"#f0f921\"]], \"type\": \"histogram2dcontour\"}], \"mesh3d\": [{\"colorbar\": {\"outlinewidth\": 0, \"ticks\": \"\"}, \"type\": \"mesh3d\"}], \"parcoords\": [{\"line\": {\"colorbar\": {\"outlinewidth\": 0, \"ticks\": \"\"}}, \"type\": \"parcoords\"}], \"pie\": [{\"automargin\": true, \"type\": \"pie\"}], \"scatter\": [{\"marker\": {\"colorbar\": {\"outlinewidth\": 0, \"ticks\": \"\"}}, \"type\": \"scatter\"}], \"scatter3d\": [{\"line\": {\"colorbar\": {\"outlinewidth\": 0, \"ticks\": \"\"}}, \"marker\": {\"colorbar\": {\"outlinewidth\": 0, \"ticks\": \"\"}}, \"type\": \"scatter3d\"}], \"scattercarpet\": [{\"marker\": {\"colorbar\": {\"outlinewidth\": 0, \"ticks\": \"\"}}, \"type\": \"scattercarpet\"}], \"scattergeo\": [{\"marker\": {\"colorbar\": {\"outlinewidth\": 0, \"ticks\": \"\"}}, \"type\": \"scattergeo\"}], \"scattergl\": [{\"marker\": {\"colorbar\": {\"outlinewidth\": 0, \"ticks\": \"\"}}, \"type\": \"scattergl\"}], \"scattermapbox\": [{\"marker\": {\"colorbar\": {\"outlinewidth\": 0, \"ticks\": \"\"}}, \"type\": \"scattermapbox\"}], \"scatterpolar\": [{\"marker\": {\"colorbar\": {\"outlinewidth\": 0, \"ticks\": \"\"}}, \"type\": \"scatterpolar\"}], \"scatterpolargl\": [{\"marker\": {\"colorbar\": {\"outlinewidth\": 0, \"ticks\": \"\"}}, \"type\": \"scatterpolargl\"}], \"scatterternary\": [{\"marker\": {\"colorbar\": {\"outlinewidth\": 0, \"ticks\": \"\"}}, \"type\": \"scatterternary\"}], \"surface\": [{\"colorbar\": {\"outlinewidth\": 0, \"ticks\": \"\"}, \"colorscale\": [[0.0, \"#0d0887\"], [0.1111111111111111, \"#46039f\"], [0.2222222222222222, \"#7201a8\"], [0.3333333333333333, \"#9c179e\"], [0.4444444444444444, \"#bd3786\"], [0.5555555555555556, \"#d8576b\"], [0.6666666666666666, \"#ed7953\"], [0.7777777777777778, \"#fb9f3a\"], [0.8888888888888888, \"#fdca26\"], [1.0, \"#f0f921\"]], \"type\": \"surface\"}], \"table\": [{\"cells\": {\"fill\": {\"color\": \"#EBF0F8\"}, \"line\": {\"color\": \"white\"}}, \"header\": {\"fill\": {\"color\": \"#C8D4E3\"}, \"line\": {\"color\": \"white\"}}, \"type\": \"table\"}]}, \"layout\": {\"annotationdefaults\": {\"arrowcolor\": \"#2a3f5f\", \"arrowhead\": 0, \"arrowwidth\": 1}, \"coloraxis\": {\"colorbar\": {\"outlinewidth\": 0, \"ticks\": \"\"}}, \"colorscale\": {\"diverging\": [[0, \"#8e0152\"], [0.1, \"#c51b7d\"], [0.2, \"#de77ae\"], [0.3, \"#f1b6da\"], [0.4, \"#fde0ef\"], [0.5, \"#f7f7f7\"], [0.6, \"#e6f5d0\"], [0.7, \"#b8e186\"], [0.8, \"#7fbc41\"], [0.9, \"#4d9221\"], [1, \"#276419\"]], \"sequential\": [[0.0, \"#0d0887\"], [0.1111111111111111, \"#46039f\"], [0.2222222222222222, \"#7201a8\"], [0.3333333333333333, \"#9c179e\"], [0.4444444444444444, \"#bd3786\"], [0.5555555555555556, \"#d8576b\"], [0.6666666666666666, \"#ed7953\"], [0.7777777777777778, \"#fb9f3a\"], [0.8888888888888888, \"#fdca26\"], [1.0, \"#f0f921\"]], \"sequentialminus\": [[0.0, \"#0d0887\"], [0.1111111111111111, \"#46039f\"], [0.2222222222222222, \"#7201a8\"], [0.3333333333333333, \"#9c179e\"], [0.4444444444444444, \"#bd3786\"], [0.5555555555555556, \"#d8576b\"], [0.6666666666666666, \"#ed7953\"], [0.7777777777777778, \"#fb9f3a\"], [0.8888888888888888, \"#fdca26\"], [1.0, \"#f0f921\"]]}, \"colorway\": [\"#636efa\", \"#EF553B\", \"#00cc96\", \"#ab63fa\", \"#FFA15A\", \"#19d3f3\", \"#FF6692\", \"#B6E880\", \"#FF97FF\", \"#FECB52\"], \"font\": {\"color\": \"#2a3f5f\"}, \"geo\": {\"bgcolor\": \"white\", \"lakecolor\": \"white\", \"landcolor\": \"#E5ECF6\", \"showlakes\": true, \"showland\": true, \"subunitcolor\": \"white\"}, \"hoverlabel\": {\"align\": \"left\"}, \"hovermode\": \"closest\", \"mapbox\": {\"style\": \"light\"}, \"paper_bgcolor\": \"white\", \"plot_bgcolor\": \"#E5ECF6\", \"polar\": {\"angularaxis\": {\"gridcolor\": \"white\", \"linecolor\": \"white\", \"ticks\": \"\"}, \"bgcolor\": \"#E5ECF6\", \"radialaxis\": {\"gridcolor\": \"white\", \"linecolor\": \"white\", \"ticks\": \"\"}}, \"scene\": {\"xaxis\": {\"backgroundcolor\": \"#E5ECF6\", \"gridcolor\": \"white\", \"gridwidth\": 2, \"linecolor\": \"white\", \"showbackground\": true, \"ticks\": \"\", \"zerolinecolor\": \"white\"}, \"yaxis\": {\"backgroundcolor\": \"#E5ECF6\", \"gridcolor\": \"white\", \"gridwidth\": 2, \"linecolor\": \"white\", \"showbackground\": true, \"ticks\": \"\", \"zerolinecolor\": \"white\"}, \"zaxis\": {\"backgroundcolor\": \"#E5ECF6\", \"gridcolor\": \"white\", \"gridwidth\": 2, \"linecolor\": \"white\", \"showbackground\": true, \"ticks\": \"\", \"zerolinecolor\": \"white\"}}, \"shapedefaults\": {\"line\": {\"color\": \"#2a3f5f\"}}, \"ternary\": {\"aaxis\": {\"gridcolor\": \"white\", \"linecolor\": \"white\", \"ticks\": \"\"}, \"baxis\": {\"gridcolor\": \"white\", \"linecolor\": \"white\", \"ticks\": \"\"}, \"bgcolor\": \"#E5ECF6\", \"caxis\": {\"gridcolor\": \"white\", \"linecolor\": \"white\", \"ticks\": \"\"}}, \"title\": {\"x\": 0.05}, \"xaxis\": {\"automargin\": true, \"gridcolor\": \"white\", \"linecolor\": \"white\", \"ticks\": \"\", \"title\": {\"standoff\": 15}, \"zerolinecolor\": \"white\", \"zerolinewidth\": 2}, \"yaxis\": {\"automargin\": true, \"gridcolor\": \"white\", \"linecolor\": \"white\", \"ticks\": \"\", \"title\": {\"standoff\": 15}, \"zerolinecolor\": \"white\", \"zerolinewidth\": 2}}}, \"title\": {\"text\": \"Average waiting time of Elevator Calls by Time\"}, \"updatemenus\": [{\"buttons\": [{\"args\": [null, {\"frame\": {\"duration\": 500, \"redraw\": true}, \"fromcurrent\": true, \"mode\": \"immediate\", \"transition\": {\"duration\": 500, \"easing\": \"linear\"}}], \"label\": \"&#9654;\", \"method\": \"animate\"}, {\"args\": [[null], {\"frame\": {\"duration\": 0, \"redraw\": true}, \"fromcurrent\": true, \"mode\": \"immediate\", \"transition\": {\"duration\": 0, \"easing\": \"linear\"}}], \"label\": \"&#9724;\", \"method\": \"animate\"}], \"direction\": \"left\", \"pad\": {\"r\": 10, \"t\": 70}, \"showactive\": false, \"type\": \"buttons\", \"x\": 0.1, \"xanchor\": \"right\", \"y\": 0, \"yanchor\": \"top\"}], \"xaxis\": {\"anchor\": \"y\", \"categoryarray\": [0, 24], \"domain\": [0.0, 0.49], \"nticks\": 19, \"title\": {\"text\": \"Local Time (GMT+8)\"}, \"type\": \"category\"}, \"xaxis2\": {\"anchor\": \"y2\", \"categoryarray\": [0, 24], \"domain\": [0.51, 1.0], \"matches\": \"x\", \"nticks\": 19, \"title\": {\"text\": \"Local Time (GMT+8)\"}, \"type\": \"category\"}, \"yaxis\": {\"anchor\": \"x\", \"domain\": [0.0, 1.0], \"range\": [0, 300], \"title\": {\"text\": \"avgWait_weekend\"}}, \"yaxis2\": {\"anchor\": \"x2\", \"domain\": [0.0, 1.0], \"matches\": \"y\", \"range\": [0, 300], \"showticklabels\": false}},\n",
       "                        {\"responsive\": true}\n",
       "                    ).then(function(){\n",
       "                            Plotly.addFrames('63a7b7b1-56e6-48e0-9d6e-ea296bd02b96', [{\"data\": [{\"alignmentgroup\": \"True\", \"hovertemplate\": \"direction=up<br>floor=1<br>Local Time (GMT+8)=%{x}<br>avgWait_weekend=%{y}<extra></extra>\", \"legendgroup\": \"up\", \"marker\": {\"color\": \"#636efa\"}, \"name\": \"up\", \"offsetgroup\": \"up\", \"orientation\": \"v\", \"showlegend\": true, \"textposition\": \"auto\", \"x\": [0, 1, 2, 3, 5, 6, 7, 8, 9, 10, 11, 12, 13, 14, 15, 16, 17, 18, 19, 20, 21, 22, 23], \"xaxis\": \"x\", \"y\": [9.79, 14.395, 12.976666666666668, 15.83, 13.248333333333335, 18.0916, 16.886402116402117, 13.831301775147926, 11.574202898550725, 12.365348837209305, 11.438119658119659, 15.122173913043476, 13.091682242990654, 9.164736842105263, 14.0507, 14.862407407407408, 14.5425, 12.512758620689654, 10.702075471698114, 13.347073170731706, 11.841818181818182, 9.648979591836737, 6.954705882352941], \"yaxis\": \"y\", \"type\": \"bar\"}, {\"alignmentgroup\": \"True\", \"hovertemplate\": \"direction=down<br>floor=1<br>Local Time (GMT+8)=%{x}<br>avgWait_weekend=%{y}<extra></extra>\", \"legendgroup\": \"down\", \"marker\": {\"color\": \"#EF553B\"}, \"name\": \"down\", \"offsetgroup\": \"down\", \"orientation\": \"v\", \"showlegend\": true, \"textposition\": \"auto\", \"x\": [3, 6, 7, 8, 9, 10, 11, 12, 13, 14, 15, 16, 17, 18, 19, 20, 21, 22, 23], \"xaxis\": \"x2\", \"y\": [23.4, 27.488888888888887, 25.218604651162792, 32.988, 17.761875, 14.25153846153846, 13.681666666666667, 15.356046511627905, 26.875172413793106, 7.974137931034483, 20.536944444444444, 16.18885714285714, 24.63447368421053, 24.48409090909091, 15.353809523809526, 8.338888888888889, 9.001666666666667, 5.687777777777778, 13.0575], \"yaxis\": \"y2\", \"type\": \"bar\"}], \"name\": \"1\"}, {\"data\": [{\"alignmentgroup\": \"True\", \"hovertemplate\": \"direction=up<br>floor=2<br>Local Time (GMT+8)=%{x}<br>avgWait_weekend=%{y}<extra></extra>\", \"legendgroup\": \"up\", \"marker\": {\"color\": \"#636efa\"}, \"name\": \"up\", \"offsetgroup\": \"up\", \"orientation\": \"v\", \"showlegend\": true, \"textposition\": \"auto\", \"x\": [1, 6, 7, 8, 9, 10, 11, 12, 13, 14, 15, 16, 17, 18, 19, 20, 21, 22, 23], \"xaxis\": \"x\", \"y\": [19.2, 14.29, 11.3025, 10.296764705882351, 7.674186046511627, 10.7940625, 9.378163265306123, 11.7984375, 8.29025, 8.205348837209302, 9.713333333333333, 11.037826086956523, 13.650588235294116, 11.80409090909091, 14.28181818181818, 8.955, 8.2, 9.57, 8.01], \"yaxis\": \"y\", \"type\": \"bar\"}, {\"alignmentgroup\": \"True\", \"hovertemplate\": \"direction=down<br>floor=2<br>Local Time (GMT+8)=%{x}<br>avgWait_weekend=%{y}<extra></extra>\", \"legendgroup\": \"down\", \"marker\": {\"color\": \"#EF553B\"}, \"name\": \"down\", \"offsetgroup\": \"down\", \"orientation\": \"v\", \"showlegend\": true, \"textposition\": \"auto\", \"x\": [6, 7, 8, 9, 10, 11, 12, 13, 14, 15, 16, 17, 18, 19, 21], \"xaxis\": \"x2\", \"y\": [9.51, 28.66666666666667, 24.185, 20.375384615384615, 15.686666666666666, 25.848275862068967, 19.744666666666664, 23.543000000000003, 49.045625, 16.391363636363636, 20.52842105263158, 31.306666666666665, 14.724285714285712, 15.98, 13.565], \"yaxis\": \"y2\", \"type\": \"bar\"}], \"name\": \"2\"}, {\"data\": [{\"alignmentgroup\": \"True\", \"hovertemplate\": \"direction=up<br>floor=3<br>Local Time (GMT+8)=%{x}<br>avgWait_weekend=%{y}<extra></extra>\", \"legendgroup\": \"up\", \"marker\": {\"color\": \"#636efa\"}, \"name\": \"up\", \"offsetgroup\": \"up\", \"orientation\": \"v\", \"showlegend\": true, \"textposition\": \"auto\", \"x\": [0, 1, 2, 3, 6, 7, 8, 9, 10, 11, 12, 13, 14, 15, 16, 17, 18, 19, 20, 21, 22, 23], \"xaxis\": \"x\", \"y\": [18.08333333333333, 15.822500000000002, 15.235, 1.6, 19.32, 6.404000000000001, 12.188666666666665, 8.802105263157895, 12.784166666666666, 279.19514285714286, 7.616818181818181, 9.395384615384616, 7.621935483870969, 10.012285714285717, 11.239024390243902, 11.345, 15.145999999999995, 12.85888888888889, 9.3625, 17.405, 20.455, 14.515], \"yaxis\": \"y\", \"type\": \"bar\"}, {\"alignmentgroup\": \"True\", \"hovertemplate\": \"direction=down<br>floor=3<br>Local Time (GMT+8)=%{x}<br>avgWait_weekend=%{y}<extra></extra>\", \"legendgroup\": \"down\", \"marker\": {\"color\": \"#EF553B\"}, \"name\": \"down\", \"offsetgroup\": \"down\", \"orientation\": \"v\", \"showlegend\": true, \"textposition\": \"auto\", \"x\": [0, 1, 2, 3, 4, 6, 7, 8, 9, 10, 11, 12, 13, 14, 15, 16, 17, 18, 19, 20, 21, 22], \"xaxis\": \"x2\", \"y\": [14.025, 21.21, 10.745, 15.94, 16.65, 26.845, 37.80272727272728, 31.707812500000006, 28.113243243243247, 38.46380952380952, 18.26169491525424, 25.135757575757577, 34.94166666666666, 53.51757575757576, 32.446999999999996, 27.73333333333333, 25.21588235294118, 32.24944444444444, 17.557142857142857, 22.795, 11.331666666666667, 13.288333333333332], \"yaxis\": \"y2\", \"type\": \"bar\"}], \"name\": \"3\"}, {\"data\": [{\"alignmentgroup\": \"True\", \"hovertemplate\": \"direction=up<br>floor=4<br>Local Time (GMT+8)=%{x}<br>avgWait_weekend=%{y}<extra></extra>\", \"legendgroup\": \"up\", \"marker\": {\"color\": \"#636efa\"}, \"name\": \"up\", \"offsetgroup\": \"up\", \"orientation\": \"v\", \"showlegend\": true, \"textposition\": \"auto\", \"x\": [0, 1, 2, 3, 4, 6, 7, 8, 9, 10, 11, 12, 13, 14, 15, 16, 17, 18, 19, 20, 21, 22, 23], \"xaxis\": \"x\", \"y\": [10.533333333333333, 13.3325, 15.298333333333332, 8.78, 0.97, 17.82888888888889, 8.583, 7.866666666666667, 6.752608695652174, 15.217948717948715, 7.033333333333332, 12.073103448275864, 12.3084375, 9.683714285714283, 11.578510638297873, 13.927234042553193, 10.324634146341463, 12.586363636363634, 17.397058823529413, 19.877692307692307, 15.8975, 8.82, 20.1], \"yaxis\": \"y\", \"type\": \"bar\"}, {\"alignmentgroup\": \"True\", \"hovertemplate\": \"direction=down<br>floor=4<br>Local Time (GMT+8)=%{x}<br>avgWait_weekend=%{y}<extra></extra>\", \"legendgroup\": \"down\", \"marker\": {\"color\": \"#EF553B\"}, \"name\": \"down\", \"offsetgroup\": \"down\", \"orientation\": \"v\", \"showlegend\": true, \"textposition\": \"auto\", \"x\": [0, 2, 3, 7, 8, 9, 10, 11, 12, 13, 14, 15, 16, 17, 18, 19, 20, 21, 22, 23], \"xaxis\": \"x2\", \"y\": [15.44, 19.05, 9.81, 21.510714285714283, 31.42352941176471, 36.84310344827586, 96.0268181818182, 30.592666666666666, 28.361428571428572, 20.786315789473683, 30.05966666666667, 26.250384615384608, 34.06076923076923, 32.493125, 32.35894736842105, 13.195714285714288, 25.612352941176468, 13.285454545454545, 9.95, 11.862222222222224], \"yaxis\": \"y2\", \"type\": \"bar\"}], \"name\": \"4\"}, {\"data\": [{\"alignmentgroup\": \"True\", \"hovertemplate\": \"direction=up<br>floor=5<br>Local Time (GMT+8)=%{x}<br>avgWait_weekend=%{y}<extra></extra>\", \"legendgroup\": \"up\", \"marker\": {\"color\": \"#636efa\"}, \"name\": \"up\", \"offsetgroup\": \"up\", \"orientation\": \"v\", \"showlegend\": true, \"textposition\": \"auto\", \"x\": [0, 1, 2, 4, 7, 8, 9, 10, 11, 12, 13, 14, 15, 16, 17, 18, 19, 20, 21, 22, 23], \"xaxis\": \"x\", \"y\": [13.146666666666668, 12.965, 16.033333333333335, 13.633333333333335, 15.714000000000002, 7.803333333333333, 12.737222222222224, 10.3648, 9.68888888888889, 16.269411764705882, 11.823636363636364, 8.45857142857143, 8.3012, 10.917931034482761, 13.734285714285715, 14.4112, 21.70333333333333, 12.87142857142857, 18.481111111111108, 23.455, 12.626666666666667], \"yaxis\": \"y\", \"type\": \"bar\"}, {\"alignmentgroup\": \"True\", \"hovertemplate\": \"direction=down<br>floor=5<br>Local Time (GMT+8)=%{x}<br>avgWait_weekend=%{y}<extra></extra>\", \"legendgroup\": \"down\", \"marker\": {\"color\": \"#EF553B\"}, \"name\": \"down\", \"offsetgroup\": \"down\", \"orientation\": \"v\", \"showlegend\": true, \"textposition\": \"auto\", \"x\": [1, 3, 4, 6, 7, 8, 9, 10, 11, 12, 13, 14, 15, 16, 17, 18, 19, 20, 21, 22, 23], \"xaxis\": \"x2\", \"y\": [17.27, 15.73, 16.52, 25.8725, 15.3175, 30.16147058823529, 34.98964285714286, 47.0258064516129, 20.586470588235297, 38.41326530612245, 39.51966666666667, 47.64266666666666, 49.16208333333333, 36.66914285714286, 33.105999999999995, 24.89058823529412, 21.0156, 15.175000000000002, 18.867333333333328, 13.448333333333332, 18.31], \"yaxis\": \"y2\", \"type\": \"bar\"}], \"name\": \"5\"}, {\"data\": [{\"alignmentgroup\": \"True\", \"hovertemplate\": \"direction=up<br>floor=6<br>Local Time (GMT+8)=%{x}<br>avgWait_weekend=%{y}<extra></extra>\", \"legendgroup\": \"up\", \"marker\": {\"color\": \"#636efa\"}, \"name\": \"up\", \"offsetgroup\": \"up\", \"orientation\": \"v\", \"showlegend\": true, \"textposition\": \"auto\", \"x\": [1, 2, 5, 6, 7, 8, 9, 10, 11, 12, 13, 14, 15, 16, 17, 18, 19, 20, 21, 22, 23], \"xaxis\": \"x\", \"y\": [1.44, 1.58, 15.71, 17.354571428571433, 34.626666666666665, 35.50888888888889, 37.30333333333333, 45.12, 66.6275, 52.5725, 42.156666666666666, 50.45333333333333, 63.65321428571429, 56.369285714285716, 29.93285714285714, 42.83142857142857, 18.42875, 22.858, 11.36, 11.568, 12.962307692307695], \"yaxis\": \"y\", \"type\": \"bar\"}, {\"alignmentgroup\": \"True\", \"hovertemplate\": \"direction=down<br>floor=6<br>Local Time (GMT+8)=%{x}<br>avgWait_weekend=%{y}<extra></extra>\", \"legendgroup\": \"down\", \"marker\": {\"color\": \"#EF553B\"}, \"name\": \"down\", \"offsetgroup\": \"down\", \"orientation\": \"v\", \"showlegend\": true, \"textposition\": \"auto\", \"x\": [0, 1, 2, 3, 5, 6, 7, 8, 9, 10, 11, 12, 13, 14, 15, 16, 17, 18, 19, 20, 21, 22, 23], \"xaxis\": \"x2\", \"y\": [14.845, 21.69, 1.2133333333333334, 25.17, 10.72, 12.5715, 15.663863636363635, 14.142545454545456, 9.249215686274509, 36.47831325301205, 12.944777777777775, 17.93111111111111, 14.945102040816323, 16.0098, 14.404285714285713, 14.61283582089552, 12.6192, 15.514237288135593, 11.966176470588234, 12.08793103448276, 13.724166666666667, 12.117727272727272, 13.21], \"yaxis\": \"y2\", \"type\": \"bar\"}], \"name\": \"6\"}, {\"data\": [{\"alignmentgroup\": \"True\", \"hovertemplate\": \"direction=up<br>floor=7<br>Local Time (GMT+8)=%{x}<br>avgWait_weekend=%{y}<extra></extra>\", \"legendgroup\": \"up\", \"marker\": {\"color\": \"#636efa\"}, \"name\": \"up\", \"offsetgroup\": \"up\", \"orientation\": \"v\", \"showlegend\": true, \"textposition\": \"auto\", \"x\": [0, 1, 2, 3, 4, 6, 7, 9, 10, 11, 12, 13, 14, 15, 16, 17, 18, 19, 20, 21, 22], \"xaxis\": \"x\", \"y\": [7.505, 14.02, 15.93, 1.0533333333333337, 15.125, 12.89, 7.97, 39.404545454545456, 45.51428571428572, 64.31272727272727, 57.14200000000001, 50.46571428571429, 35.870909090909095, 53.28842105263158, 40.97166666666666, 24.48875, 28.59, 23.65571428571429, 9.3, 5.755, 15.79], \"yaxis\": \"y\", \"type\": \"bar\"}, {\"alignmentgroup\": \"True\", \"hovertemplate\": \"direction=down<br>floor=7<br>Local Time (GMT+8)=%{x}<br>avgWait_weekend=%{y}<extra></extra>\", \"legendgroup\": \"down\", \"marker\": {\"color\": \"#EF553B\"}, \"name\": \"down\", \"offsetgroup\": \"down\", \"orientation\": \"v\", \"showlegend\": true, \"textposition\": \"auto\", \"x\": [0, 1, 2, 3, 4, 6, 7, 8, 9, 10, 11, 12, 13, 14, 15, 16, 17, 18, 19, 20, 21, 22, 23], \"xaxis\": \"x2\", \"y\": [16.243333333333336, 10.826666666666664, 10.555, 3.44, 21.585, 17.773333333333333, 21.26545454545455, 15.6855, 13.948157894736841, 11.948823529411767, 11.620392156862746, 12.436486486486485, 15.413, 21.3975, 10.297, 11.298039215686275, 12.837428571428571, 13.50732142857143, 17.07227272727273, 14.719333333333333, 11.295, 13.473333333333334, 17.225], \"yaxis\": \"y2\", \"type\": \"bar\"}], \"name\": \"7\"}, {\"data\": [{\"alignmentgroup\": \"True\", \"hovertemplate\": \"direction=up<br>floor=8<br>Local Time (GMT+8)=%{x}<br>avgWait_weekend=%{y}<extra></extra>\", \"legendgroup\": \"up\", \"marker\": {\"color\": \"#636efa\"}, \"name\": \"up\", \"offsetgroup\": \"up\", \"orientation\": \"v\", \"showlegend\": true, \"textposition\": \"auto\", \"x\": [3, 5, 8, 9, 10, 11, 12, 13, 14, 15, 16, 17, 18, 19, 20, 22], \"xaxis\": \"x\", \"y\": [1.57, 22.31, 48.14833333333333, 40.083636363636366, 49.172, 1919.576, 103.365, 32.96400000000001, 5.785, 28.93166666666667, 29.8775, 32.306666666666665, 49.614, 1.46, 9.68, 1.61], \"yaxis\": \"y\", \"type\": \"bar\"}, {\"alignmentgroup\": \"True\", \"hovertemplate\": \"direction=down<br>floor=8<br>Local Time (GMT+8)=%{x}<br>avgWait_weekend=%{y}<extra></extra>\", \"legendgroup\": \"down\", \"marker\": {\"color\": \"#EF553B\"}, \"name\": \"down\", \"offsetgroup\": \"down\", \"orientation\": \"v\", \"showlegend\": true, \"textposition\": \"auto\", \"x\": [0, 1, 2, 3, 5, 6, 7, 8, 9, 10, 11, 12, 13, 14, 15, 16, 17, 18, 19, 20, 21, 22, 23], \"xaxis\": \"x2\", \"y\": [15.35, 13.79, 15.19, 13.79, 25.18, 10.1, 16.609375, 14.807368421052633, 19.12276595744681, 9.047317073170733, 9.0084375, 13.19325, 15.134848484848487, 11.08843137254902, 13.5058, 14.142758620689655, 10.55377358490566, 15.342400000000005, 12.9225, 13.61714285714286, 11.867692307692305, 18.582222222222224, 12.345], \"yaxis\": \"y2\", \"type\": \"bar\"}], \"name\": \"8\"}, {\"data\": [{\"alignmentgroup\": \"True\", \"hovertemplate\": \"direction=up<br>floor=9<br>Local Time (GMT+8)=%{x}<br>avgWait_weekend=%{y}<extra></extra>\", \"legendgroup\": \"up\", \"marker\": {\"color\": \"#636efa\"}, \"name\": \"up\", \"offsetgroup\": \"up\", \"orientation\": \"v\", \"showlegend\": true, \"textposition\": \"auto\", \"x\": [2, 5, 6, 7, 8, 9, 10, 11, 12, 13, 14, 15, 16, 17, 18, 19, 21], \"xaxis\": \"x\", \"y\": [7.7, 14.77, 15.16, 51.01, 36.04, 16.216666666666665, 26.422222222222228, 50.16333333333333, 94.22, 27.146, 28.93666666666667, 16.0, 137.52, 54.945, 27.9025, 22.185714285714287, 8.03], \"yaxis\": \"y\", \"type\": \"bar\"}, {\"alignmentgroup\": \"True\", \"hovertemplate\": \"direction=down<br>floor=9<br>Local Time (GMT+8)=%{x}<br>avgWait_weekend=%{y}<extra></extra>\", \"legendgroup\": \"down\", \"marker\": {\"color\": \"#EF553B\"}, \"name\": \"down\", \"offsetgroup\": \"down\", \"orientation\": \"v\", \"showlegend\": true, \"textposition\": \"auto\", \"x\": [0, 1, 2, 3, 5, 7, 8, 9, 10, 11, 12, 13, 14, 15, 16, 17, 18, 19, 20, 21, 22, 23], \"xaxis\": \"x2\", \"y\": [18.48, 17.49, 10.885, 12.215, 6.41, 23.60375, 15.629148936170216, 17.4434693877551, 18.31787234042553, 9.911836734693876, 18.534242424242425, 16.796216216216212, 12.885121951219512, 10.873684210526315, 14.011818181818182, 17.287321428571428, 17.441904761904762, 15.282, 16.359285714285715, 17.280833333333334, 16.791428571428572, 2.82], \"yaxis\": \"y2\", \"type\": \"bar\"}], \"name\": \"9\"}, {\"data\": [{\"alignmentgroup\": \"True\", \"hovertemplate\": \"direction=up<br>floor=10<br>Local Time (GMT+8)=%{x}<br>avgWait_weekend=%{y}<extra></extra>\", \"legendgroup\": \"up\", \"marker\": {\"color\": \"#636efa\"}, \"name\": \"up\", \"offsetgroup\": \"up\", \"orientation\": \"v\", \"showlegend\": true, \"textposition\": \"auto\", \"x\": [5, 6, 7, 8, 9, 10, 11, 12, 13, 14, 15, 16, 17, 18, 19, 21], \"xaxis\": \"x\", \"y\": [5.031666666666666, 9.470555555555556, 22.202500000000004, 17.162, 35.613333333333344, 25.296, 22.95555555555556, 41.34375, 22.1, 8.0, 62.941111111111105, 67.7, 20.005, 19.61571428571429, 12.795, 12.333333333333336], \"yaxis\": \"y\", \"type\": \"bar\"}, {\"alignmentgroup\": \"True\", \"hovertemplate\": \"direction=down<br>floor=10<br>Local Time (GMT+8)=%{x}<br>avgWait_weekend=%{y}<extra></extra>\", \"legendgroup\": \"down\", \"marker\": {\"color\": \"#EF553B\"}, \"name\": \"down\", \"offsetgroup\": \"down\", \"orientation\": \"v\", \"showlegend\": true, \"textposition\": \"auto\", \"x\": [1, 2, 5, 6, 7, 8, 9, 10, 11, 12, 13, 14, 15, 16, 17, 18, 19, 20, 21, 22, 23], \"xaxis\": \"x2\", \"y\": [19.2, 11.97, 5.697, 10.16906976744186, 12.4, 14.892, 15.672727272727276, 10.527777777777779, 274.32222222222225, 17.12857142857143, 12.494615384615386, 12.373529411764705, 10.490588235294117, 15.909523809523812, 7.989999999999998, 12.946666666666667, 29.0725, 8.5275, 14.512, 11.18421052631579, 17.535714285714285], \"yaxis\": \"y2\", \"type\": \"bar\"}], \"name\": \"10\"}, {\"data\": [{\"alignmentgroup\": \"True\", \"hovertemplate\": \"direction=up<br>floor=11<br>Local Time (GMT+8)=%{x}<br>avgWait_weekend=%{y}<extra></extra>\", \"legendgroup\": \"up\", \"marker\": {\"color\": \"#636efa\"}, \"name\": \"up\", \"offsetgroup\": \"up\", \"orientation\": \"v\", \"showlegend\": true, \"textposition\": \"auto\", \"x\": [6, 8, 9, 10, 11, 12, 14, 15, 16, 17, 18], \"xaxis\": \"x\", \"y\": [11.18, 45.79, 52.668888888888894, 37.636666666666656, 0.34, 17.07, 32.33714285714286, 8.355, 197.02, 34.722, 40.355], \"yaxis\": \"y\", \"type\": \"bar\"}, {\"alignmentgroup\": \"True\", \"hovertemplate\": \"direction=down<br>floor=11<br>Local Time (GMT+8)=%{x}<br>avgWait_weekend=%{y}<extra></extra>\", \"legendgroup\": \"down\", \"marker\": {\"color\": \"#EF553B\"}, \"name\": \"down\", \"offsetgroup\": \"down\", \"orientation\": \"v\", \"showlegend\": true, \"textposition\": \"auto\", \"x\": [0, 1, 2, 5, 6, 7, 8, 9, 10, 11, 12, 13, 14, 15, 16, 17, 18, 19, 20, 21, 22, 23], \"xaxis\": \"x2\", \"y\": [19.92333333333333, 19.08, 10.79, 8.04, 14.085, 28.23, 21.616851851851848, 18.143225806451614, 14.901818181818184, 11.561886792452832, 14.241153846153846, 15.573055555555555, 10.841428571428573, 19.090526315789475, 17.94170731707317, 16.303620689655173, 15.149736842105265, 21.387222222222217, 16.756, 20.64928571428572, 14.404285714285715, 12.466666666666667], \"yaxis\": \"y2\", \"type\": \"bar\"}], \"name\": \"11\"}, {\"data\": [{\"alignmentgroup\": \"True\", \"hovertemplate\": \"direction=up<br>floor=12<br>Local Time (GMT+8)=%{x}<br>avgWait_weekend=%{y}<extra></extra>\", \"legendgroup\": \"up\", \"marker\": {\"color\": \"#636efa\"}, \"name\": \"up\", \"offsetgroup\": \"up\", \"orientation\": \"v\", \"showlegend\": true, \"textposition\": \"auto\", \"x\": [8, 9, 10, 11, 12, 13, 14, 15, 16, 17, 18, 19], \"xaxis\": \"x\", \"y\": [17.06, 42.1125, 56.78, 19.696666666666673, 27.01, 12.79, 50.87666666666666, 27.35333333333333, 33.61, 39.73, 42.785, 43.06], \"yaxis\": \"y\", \"type\": \"bar\"}, {\"alignmentgroup\": \"True\", \"hovertemplate\": \"direction=down<br>floor=12<br>Local Time (GMT+8)=%{x}<br>avgWait_weekend=%{y}<extra></extra>\", \"legendgroup\": \"down\", \"marker\": {\"color\": \"#EF553B\"}, \"name\": \"down\", \"offsetgroup\": \"down\", \"orientation\": \"v\", \"showlegend\": true, \"textposition\": \"auto\", \"x\": [0, 1, 2, 5, 6, 7, 8, 9, 10, 11, 12, 13, 14, 15, 16, 17, 18, 19, 20, 21, 22, 23], \"xaxis\": \"x2\", \"y\": [20.114, 38.44, 1.415, 10.15, 5.98, 26.79636363636364, 25.683617021276604, 18.383846153846157, 19.207209302325584, 226.85804347826087, 22.349555555555558, 19.896428571428565, 23.482352941176465, 22.365, 18.3, 15.954285714285716, 16.041730769230767, 19.529259259259263, 21.249230769230767, 23.430000000000003, 9.86125, 7.885], \"yaxis\": \"y2\", \"type\": \"bar\"}], \"name\": \"12\"}, {\"data\": [{\"alignmentgroup\": \"True\", \"hovertemplate\": \"direction=up<br>floor=13<br>Local Time (GMT+8)=%{x}<br>avgWait_weekend=%{y}<extra></extra>\", \"legendgroup\": \"up\", \"marker\": {\"color\": \"#636efa\"}, \"name\": \"up\", \"offsetgroup\": \"up\", \"orientation\": \"v\", \"showlegend\": true, \"textposition\": \"auto\", \"x\": [7, 8, 9, 10, 11, 12, 13, 14, 15, 16, 17, 18, 19, 20], \"xaxis\": \"x\", \"y\": [10.69, 45.00666666666667, 28.64333333333333, 40.918, 18.566, 21.5375, 35.14666666666667, 13.415, 21.616666666666664, 32.94, 99.165, 16.6575, 28.72, 17.97], \"yaxis\": \"y\", \"type\": \"bar\"}, {\"alignmentgroup\": \"True\", \"hovertemplate\": \"direction=down<br>floor=13<br>Local Time (GMT+8)=%{x}<br>avgWait_weekend=%{y}<extra></extra>\", \"legendgroup\": \"down\", \"marker\": {\"color\": \"#EF553B\"}, \"name\": \"down\", \"offsetgroup\": \"down\", \"orientation\": \"v\", \"showlegend\": true, \"textposition\": \"auto\", \"x\": [0, 1, 2, 6, 7, 8, 9, 10, 11, 12, 13, 14, 15, 16, 17, 18, 19, 20, 21, 22, 23], \"xaxis\": \"x2\", \"y\": [18.98, 15.79, 15.8, 11.961428571428574, 24.300666666666665, 20.95212765957447, 28.371470588235287, 19.496779661016948, 188.06892857142861, 24.106511627906976, 23.51268292682927, 21.109166666666667, 35.75058823529412, 29.0286, 22.66444444444444, 19.916410256410252, 20.085476190476196, 18.38421052631579, 14.490666666666668, 19.58, 12.048], \"yaxis\": \"y2\", \"type\": \"bar\"}], \"name\": \"13\"}, {\"data\": [{\"alignmentgroup\": \"True\", \"hovertemplate\": \"direction=up<br>floor=14<br>Local Time (GMT+8)=%{x}<br>avgWait_weekend=%{y}<extra></extra>\", \"legendgroup\": \"up\", \"marker\": {\"color\": \"#636efa\"}, \"name\": \"up\", \"offsetgroup\": \"up\", \"orientation\": \"v\", \"showlegend\": true, \"textposition\": \"auto\", \"x\": [2, 3, 7, 8, 9, 10, 11, 12, 13, 14, 15, 16, 17, 18, 20, 21, 23], \"xaxis\": \"x\", \"y\": [17.47, 18.95, 15.16, 62.55, 122.63, 59.925, 66.59333333333333, 50.39166666666667, 20.76, 79.95750000000002, 34.076, 51.12, 22.27, 38.185, 1.54, 20.08, 7.84], \"yaxis\": \"y\", \"type\": \"bar\"}, {\"alignmentgroup\": \"True\", \"hovertemplate\": \"direction=down<br>floor=14<br>Local Time (GMT+8)=%{x}<br>avgWait_weekend=%{y}<extra></extra>\", \"legendgroup\": \"down\", \"marker\": {\"color\": \"#EF553B\"}, \"name\": \"down\", \"offsetgroup\": \"down\", \"orientation\": \"v\", \"showlegend\": true, \"textposition\": \"auto\", \"x\": [0, 1, 2, 3, 6, 7, 8, 9, 10, 11, 12, 13, 14, 15, 16, 17, 18, 19, 20, 21, 22, 23], \"xaxis\": \"x2\", \"y\": [18.86, 12.670000000000002, 27.03, 1.61, 58.09, 46.33454545454546, 40.055263157894736, 41.96847826086957, 48.388000000000005, 175.7904545454545, 57.979285714285716, 45.27770833333333, 45.8425, 47.8842, 43.26137931034482, 41.8475, 31.700344827586203, 29.426, 16.387692307692312, 22.30909090909091, 24.316666666666666, 10.69], \"yaxis\": \"y2\", \"type\": \"bar\"}], \"name\": \"14\"}, {\"data\": [{\"alignmentgroup\": \"True\", \"hovertemplate\": \"direction=down<br>floor=15<br>Local Time (GMT+8)=%{x}<br>avgWait_weekend=%{y}<extra></extra>\", \"legendgroup\": \"down\", \"marker\": {\"color\": \"#EF553B\"}, \"name\": \"down\", \"offsetgroup\": \"down\", \"orientation\": \"v\", \"showlegend\": true, \"textposition\": \"auto\", \"x\": [0, 1, 2, 3, 4, 5, 6, 7, 8, 9, 10, 11, 12, 13, 14, 15, 16, 17, 18, 19, 20, 21, 22, 23], \"xaxis\": \"x2\", \"y\": [21.425, 1.01, 6.543333333333332, 2.55, 1.39, 1.37, 25.35, 27.00428571428571, 39.44594594594594, 51.82651162790698, 59.35, 213.21315789473687, 61.06888888888889, 53.382, 47.72717391304347, 78.422, 63.62877192982456, 52.19745098039216, 42.013055555555546, 25.04777777777777, 21.963529411764707, 38.34875, 23.35, 22.78], \"yaxis\": \"y2\", \"type\": \"bar\"}], \"name\": \"15\"}, {\"data\": [{\"alignmentgroup\": \"True\", \"hovertemplate\": \"direction=up<br>floor=B1<br>Local Time (GMT+8)=%{x}<br>avgWait_weekend=%{y}<extra></extra>\", \"legendgroup\": \"up\", \"marker\": {\"color\": \"#636efa\"}, \"name\": \"up\", \"offsetgroup\": \"up\", \"orientation\": \"v\", \"showlegend\": true, \"textposition\": \"auto\", \"x\": [0, 1, 2, 3, 4, 5, 6, 7, 8, 9, 10, 11, 12, 13, 14, 15, 16, 17, 18, 19, 20, 21, 22, 23], \"xaxis\": \"x\", \"y\": [16.17625, 14.2125, 14.136153846153848, 10.963333333333333, 12.96, 11.792, 20.345294117647054, 15.817614678899083, 15.839318181818182, 16.18919191919192, 16.524565217391306, 81.81075342465753, 16.024558823529414, 17.512631578947367, 11.67884210526316, 15.867951807228913, 14.690380952380952, 16.777076923076926, 17.508492063492064, 11.1901, 11.717457627118645, 10.52981818181818, 12.271875, 10.417857142857144], \"yaxis\": \"y\", \"type\": \"bar\"}, {\"alignmentgroup\": \"True\", \"hovertemplate\": \"direction=down<br>floor=B1<br>Local Time (GMT+8)=%{x}<br>avgWait_weekend=%{y}<extra></extra>\", \"legendgroup\": \"down\", \"marker\": {\"color\": \"#EF553B\"}, \"name\": \"down\", \"offsetgroup\": \"down\", \"orientation\": \"v\", \"showlegend\": true, \"textposition\": \"auto\", \"x\": [0, 2, 5, 6, 7, 8, 9, 10, 11, 12, 13, 14, 15, 16, 17, 18, 19, 20, 21, 22, 23], \"xaxis\": \"x2\", \"y\": [12.625, 11.83, 15.03, 21.718823529411765, 23.850476190476193, 23.687200000000004, 18.741111111111113, 32.332857142857144, 19.167272727272728, 14.919565217391305, 12.721428571428573, 20.480588235294114, 13.832142857142856, 25.404736842105258, 17.685, 18.28125, 13.68, 8.278571428571428, 15.68, 22.596, 12.823333333333332], \"yaxis\": \"y2\", \"type\": \"bar\"}], \"name\": \"B1\"}, {\"data\": [{\"alignmentgroup\": \"True\", \"hovertemplate\": \"direction=up<br>floor=B3<br>Local Time (GMT+8)=%{x}<br>avgWait_weekend=%{y}<extra></extra>\", \"legendgroup\": \"up\", \"marker\": {\"color\": \"#636efa\"}, \"name\": \"up\", \"offsetgroup\": \"up\", \"orientation\": \"v\", \"showlegend\": true, \"textposition\": \"auto\", \"x\": [0, 1, 4, 5, 6, 7, 8, 9, 10, 11, 12, 13, 14, 15, 16, 17, 18, 19, 20, 21, 22], \"xaxis\": \"x\", \"y\": [14.033333333333333, 23.17, 10.9025, 20.78, 20.910384615384622, 14.113787878787878, 17.366521739130434, 14.5086, 12.005882352941176, 12.411153846153846, 14.554999999999998, 14.582727272727272, 13.974358974358973, 13.031199999999998, 12.567741935483873, 19.1012, 16.658333333333335, 12.363333333333333, 12.779166666666667, 6.1000000000000005, 7.915], \"yaxis\": \"y\", \"type\": \"bar\"}, {\"alignmentgroup\": \"True\", \"hovertemplate\": \"direction=down<br>floor=B3<br>Local Time (GMT+8)=%{x}<br>avgWait_weekend=%{y}<extra></extra>\", \"legendgroup\": \"down\", \"marker\": {\"color\": \"#EF553B\"}, \"name\": \"down\", \"offsetgroup\": \"down\", \"orientation\": \"v\", \"showlegend\": true, \"textposition\": \"auto\", \"x\": [6, 7, 8, 9, 10, 12, 13, 14, 15, 16, 17], \"xaxis\": \"x2\", \"y\": [7.765, 14.56, 15.62, 50.74500000000001, 27.21, 12.89, 40.46833333333333, 16.7375, 23.8075, 17.25, 19.534000000000002], \"yaxis\": \"y2\", \"type\": \"bar\"}], \"name\": \"B3\"}, {\"data\": [{\"alignmentgroup\": \"True\", \"hovertemplate\": \"direction=up<br>floor=B4<br>Local Time (GMT+8)=%{x}<br>avgWait_weekend=%{y}<extra></extra>\", \"legendgroup\": \"up\", \"marker\": {\"color\": \"#636efa\"}, \"name\": \"up\", \"offsetgroup\": \"up\", \"orientation\": \"v\", \"showlegend\": true, \"textposition\": \"auto\", \"x\": [0, 1, 2, 3, 4, 5, 6, 7, 8, 9, 10, 11, 12, 13, 14, 15, 16, 17, 18, 19, 20, 21, 22, 23], \"xaxis\": \"x\", \"y\": [14.35, 21.535, 18.47, 11.785, 1.26, 25.61, 20.430000000000003, 20.617254901960784, 24.705483870967747, 25.64128571428571, 53.56923076923078, 26.567966101694914, 23.294761904761906, 20.79359375, 30.825573770491804, 28.439038461538463, 22.418750000000006, 21.672666666666668, 20.152222222222218, 10.129375, 8.113888888888889, 5.284, 9.15, 14.086153846153849], \"yaxis\": \"y\", \"type\": \"bar\"}], \"name\": \"B4\"}]);\n",
       "                        }).then(function(){\n",
       "                            \n",
       "var gd = document.getElementById('63a7b7b1-56e6-48e0-9d6e-ea296bd02b96');\n",
       "var x = new MutationObserver(function (mutations, observer) {{\n",
       "        var display = window.getComputedStyle(gd).display;\n",
       "        if (!display || display === 'none') {{\n",
       "            console.log([gd, 'removed!']);\n",
       "            Plotly.purge(gd);\n",
       "            observer.disconnect();\n",
       "        }}\n",
       "}});\n",
       "\n",
       "// Listen for the removal of the full notebook cells\n",
       "var notebookContainer = gd.closest('#notebook-container');\n",
       "if (notebookContainer) {{\n",
       "    x.observe(notebookContainer, {childList: true});\n",
       "}}\n",
       "\n",
       "// Listen for the clearing of the current output cell\n",
       "var outputEl = gd.closest('.output');\n",
       "if (outputEl) {{\n",
       "    x.observe(outputEl, {childList: true});\n",
       "}}\n",
       "\n",
       "                        })\n",
       "                };\n",
       "                });\n",
       "            </script>\n",
       "        </div>"
      ]
     },
     "metadata": {},
     "output_type": "display_data"
    }
   ],
   "source": [
    "df_s_weekend.floor.unique()\n",
    "\n",
    "fig = px.bar(data_frame=df_s_weekend, \n",
    "             x = \"hour\", y = \"avgWait_weekend\",\n",
    "             facet_col=\"direction\",color=\"direction\",\n",
    "             animation_frame=\"floor\",\n",
    "             labels={\"count\":\"avgWait_weekend\",\n",
    "                     \"hour\":\"Local Time (GMT+8)\"})\n",
    "# X axis\n",
    "fig.update_xaxes(nticks=len(floor_name),\n",
    "                 type=\"category\",\n",
    "                 categoryarray=[0,24])\n",
    "\n",
    "# Y axis\n",
    "fig.update_yaxes(range=[0, 300])\n",
    "\n",
    "# Layout\n",
    "fig.update_layout(title_text='Average waiting time of Elevator Calls by Time')\n",
    "\n",
    "fig.show()"
   ]
  },
  {
   "cell_type": "markdown",
   "metadata": {},
   "source": [
    "## Data"
   ]
  },
  {
   "cell_type": "code",
   "execution_count": 21,
   "metadata": {},
   "outputs": [],
   "source": [
    "import plotly.graph_objects as go\n",
    "from ipywidgets import widgets"
   ]
  },
  {
   "cell_type": "markdown",
   "metadata": {},
   "source": [
    "將不同大樓資料混在一起，依大樓名稱貼標"
   ]
  },
  {
   "cell_type": "code",
   "execution_count": 28,
   "metadata": {},
   "outputs": [
    {
     "name": "stdout",
     "output_type": "stream",
     "text": [
      "研究大樓_weekday\n",
      "(674, 5)\n",
      "研究大樓_weekend\n",
      "(674, 5)\n",
      "(1348, 5)\n",
      "  floor  hour direction  avgWait_weekend      building\n",
      "0     1     0        up         9.790000  研究大樓_weekend\n",
      "1     1     1        up        14.395000  研究大樓_weekend\n",
      "2     1     2        up        12.976667  研究大樓_weekend\n",
      "3     1     3      down        23.400000  研究大樓_weekend\n",
      "4     1     3        up        15.830000  研究大樓_weekend\n"
     ]
    }
   ],
   "source": [
    "## 檔案名(註:資料是arregate後的table)\n",
    "\n",
    "files_list = ['研究大樓_weekday','研究大樓_weekend']\n",
    "\n",
    "df = pd.DataFrame()\n",
    "\n",
    "for i in files_list:\n",
    "    df = pd.read_csv(i+'.csv', index_col = 0)\n",
    "    df['building'] = i\n",
    "    print(i)\n",
    "    print(data.shape)\n",
    "    \n",
    "    df = df.append(data, ignore_index = True) \n",
    "\n",
    "## 請檢查表格的數量是否正確 有些表格有缺失(e.g.北棟客梯)\n",
    "    \n",
    "print(df.shape)\n",
    "print(df.head())"
   ]
  },
  {
   "cell_type": "markdown",
   "metadata": {},
   "source": [
    "## Dash"
   ]
  },
  {
   "cell_type": "code",
   "execution_count": null,
   "metadata": {},
   "outputs": [],
   "source": [
    "import dash\n",
    "import dash_core_components as dcc\n",
    "import dash_html_components as html\n",
    "from dash.dependencies import Input, Output\n",
    "\n",
    "app = dash.Dash()\n",
    "app.layout = html.Div([\n",
    "    html.H1('Outer calls'),\n",
    "    html.H3('By Floor'),\n",
    "    dcc.Dropdown(\n",
    "        id=\"building1\",\n",
    "        options=[\n",
    "            {'label': '研究大樓weekday', 'value': '研究大樓weekday'},\n",
    "            {'label': '北棟病床梯', 'value': '北棟病床梯'},\n",
    "            {'label': '南棟電梯', 'value': '南棟電梯'}\n",
    "        ],\n",
    "        value='研究大樓weekday'\n",
    "    ),\n",
    "    dcc.Graph(id=\"graph1\"),\n",
    "    \n",
    "    \n",
    "    html.H3('By Hour'),\n",
    "    dcc.Dropdown(\n",
    "        id=\"building2\",\n",
    "        options=[\n",
    "            {'label': '研究大樓weekday', 'value': '研究大樓weekday'},\n",
    "            {'label': '北棟病床梯', 'value': '北棟病床梯'},\n",
    "            {'label': '南棟電梯', 'value': '南棟電梯'}\n",
    "        ],\n",
    "        value='研究大樓weekday'\n",
    "    ),\n",
    "    dcc.Graph(id=\"graph2\")\n",
    "])\n",
    "\n",
    "@app.callback(\n",
    "    Output('graph1', 'figure'),\n",
    "    [Input('building1', 'value')])\n",
    "def update_figure(selected_building):\n",
    "    \n",
    "    fig = px.bar(data_frame=df[df.building == selected_building],\n",
    "                 x = \"floor\", y = \"count\",\n",
    "                 facet_col=\"direction\",color=\"direction\",\n",
    "                 animation_frame=\"hour\",\n",
    "                 labels={\"count\":\"Frequency\",\n",
    "                         \"hour\":\"Local Time (GMT+8)\"})\n",
    "    fig.update_xaxes(nticks=len(floor_list),\n",
    "                     type=\"category\",\n",
    "                    categoryarray=floor_list)\n",
    "    fig.update_yaxes(range=[0, 1000])\n",
    "    fig.update_layout(title_text='Frequency of Elevator Calls in ' + selected_building)\n",
    "    \n",
    "    return fig\n",
    "\n",
    "\n",
    "\n",
    "@app.callback(\n",
    "    Output('graph2', 'figure'),\n",
    "    [Input('building2', 'value')])\n",
    "def update_figure(selected_building):\n",
    "    fig = px.bar(data_frame=df[df.building == selected_building], \n",
    "             x = \"hour\", y = \"count\",\n",
    "             facet_col=\"direction\",color=\"direction\",\n",
    "             animation_frame=\"floor\",\n",
    "             labels={\"count\":\"Frequency\",\n",
    "                     \"hour\":\"Local Time (GMT+8)\"})\n",
    "    fig.update_xaxes(nticks=len(floor_list),\n",
    "                     type=\"category\",\n",
    "                     categoryarray=[0,24])\n",
    "    fig.update_yaxes(range=[0, 1000])\n",
    "    fig.update_layout(title_text='Frequency of Elevator Calls by Time')\n",
    "    return fig\n",
    "        \n",
    "app.run_server(debug=True, use_reloader=False)"
   ]
  },
  {
   "cell_type": "code",
   "execution_count": null,
   "metadata": {},
   "outputs": [],
   "source": []
  }
 ],
 "metadata": {
  "kernelspec": {
   "display_name": "Python 3",
   "language": "python",
   "name": "python3"
  },
  "language_info": {
   "codemirror_mode": {
    "name": "ipython",
    "version": 3
   },
   "file_extension": ".py",
   "mimetype": "text/x-python",
   "name": "python",
   "nbconvert_exporter": "python",
   "pygments_lexer": "ipython3",
   "version": "3.7.6"
  }
 },
 "nbformat": 4,
 "nbformat_minor": 2
}
