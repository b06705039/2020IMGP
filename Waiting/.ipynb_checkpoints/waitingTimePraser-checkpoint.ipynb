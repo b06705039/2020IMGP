{
 "cells": [
  {
   "cell_type": "code",
   "execution_count": 1,
   "metadata": {},
   "outputs": [
    {
     "data": {
      "text/html": [
       "        <script type=\"text/javascript\">\n",
       "        window.PlotlyConfig = {MathJaxConfig: 'local'};\n",
       "        if (window.MathJax) {MathJax.Hub.Config({SVG: {font: \"STIX-Web\"}});}\n",
       "        if (typeof require !== 'undefined') {\n",
       "        require.undef(\"plotly\");\n",
       "        requirejs.config({\n",
       "            paths: {\n",
       "                'plotly': ['https://cdn.plot.ly/plotly-latest.min']\n",
       "            }\n",
       "        });\n",
       "        require(['plotly'], function(Plotly) {\n",
       "            window._Plotly = Plotly;\n",
       "        });\n",
       "        }\n",
       "        </script>\n",
       "        "
      ]
     },
     "metadata": {},
     "output_type": "display_data"
    }
   ],
   "source": [
    "import pandas as pd\n",
    "import numpy as np\n",
    "import plotly\n",
    "from plotly.offline import download_plotlyjs, init_notebook_mode, plot, iplot\n",
    "init_notebook_mode(connected=True)"
   ]
  },
  {
   "cell_type": "markdown",
   "metadata": {},
   "source": [
    "# Plotly Express\n"
   ]
  },
  {
   "cell_type": "code",
   "execution_count": 2,
   "metadata": {},
   "outputs": [],
   "source": [
    "import plotly.express as px"
   ]
  },
  {
   "cell_type": "code",
   "execution_count": 20,
   "metadata": {},
   "outputs": [
    {
     "name": "stdout",
     "output_type": "stream",
     "text": [
      "     floor  hour  week direction   total  count  week_avgWait\n",
      "1        1     0     0      down   27.14      3      9.046667\n",
      "2        1     0     0        up  256.20     40      6.405000\n",
      "3        1     0     1      down   65.04      5     13.008000\n",
      "4        1     0     1        up  236.63     41      5.771463\n",
      "5        1     0     2      down   54.60      7      7.800000\n",
      "...    ...   ...   ...       ...     ...    ...           ...\n",
      "3285    B1    23     3        up  555.78     29     19.164828\n",
      "3286    B1    23     4        up  269.57     19     14.187895\n",
      "3287    B1    23     5        up  340.10     16     21.256250\n",
      "3288    B1    23     6      down   21.71      1     21.710000\n",
      "3289    B1    23     6        up  138.31      9     15.367778\n",
      "\n",
      "[3289 rows x 7 columns]\n"
     ]
    }
   ],
   "source": [
    "building = '北棟客梯'\n",
    "input_file = building + '.csv'\n",
    "df_s = pd.read_csv(input_file, index_col = 0)  \n",
    "print(df_s)"
   ]
  },
  {
   "cell_type": "code",
   "execution_count": 4,
   "metadata": {},
   "outputs": [
    {
     "name": "stdout",
     "output_type": "stream",
     "text": [
      "['1', '2', '3', '4', '5', '6', '7', '8', '9', '10', '11', '12', '13', '14', '15', 'B1', 'B2', 'B3', 'B4']\n"
     ]
    }
   ],
   "source": [
    "floor = 19 #手動改建築物樓層數\n",
    "floor_name = []\n",
    "\n",
    "for f in range(1,floor+1):\n",
    "    if f <= 15:\n",
    "        floor_name.append(str(f))\n",
    "    else:\n",
    "        floor_name.append(\"B\"+str(f-15))\n",
    "print(floor_name)"
   ]
  },
  {
   "cell_type": "code",
   "execution_count": 5,
   "metadata": {},
   "outputs": [
    {
     "name": "stdout",
     "output_type": "stream",
     "text": [
      "24 19 2\n"
     ]
    }
   ],
   "source": [
    "weekdayCnt = []\n",
    "weekendCnt = []\n",
    "tolWait_weekday = []\n",
    "tolWait_weekend = []\n",
    "avgWait_weekday = []\n",
    "avgWait_weekend = []\n",
    "weekday = [0,1,2,3,4]\n",
    "\n",
    "for i in range(24):\n",
    "    weekdayCnt.append([])\n",
    "    weekendCnt.append([])\n",
    "    tolWait_weekday.append([])\n",
    "    tolWait_weekend.append([])\n",
    "    avgWait_weekday.append([])\n",
    "    avgWait_weekend.append([])\n",
    "    for j in range(floor):\n",
    "        weekdayCnt[i].append([])\n",
    "        weekendCnt[i].append([])\n",
    "        tolWait_weekday[i].append([])\n",
    "        tolWait_weekend[i].append([])\n",
    "        avgWait_weekday[i].append([])\n",
    "        avgWait_weekend[i].append([])\n",
    "        for d in range(2):\n",
    "            weekdayCnt[i][j].append(0)\n",
    "            weekendCnt[i][j].append(0)\n",
    "            tolWait_weekday[i][j].append(0)\n",
    "            tolWait_weekend[i][j].append(0)\n",
    "            avgWait_weekday[i][j].append(0)\n",
    "            avgWait_weekend[i][j].append(0)\n",
    "# print(len(tolWait_weekday),len(tolWait_weekday[0]),len(tolWait_weekday[0][0]))"
   ]
  },
  {
   "cell_type": "code",
   "execution_count": 6,
   "metadata": {
    "scrolled": false
   },
   "outputs": [],
   "source": [
    "for i in range(1,df_s.shape[0]+1):\n",
    "    for j in range(24):\n",
    "        for f in range(floor):\n",
    "#             print(i,df_s['hour'][i],df_s['floor'][i],df_s['direction'][i])\n",
    "#             print('compare with',j,floor_name[f])\n",
    "            if df_s['week'][i] in weekday:\n",
    "                if df_s['hour'][i] == j and str(df_s['floor'][i]) == floor_name[f] and df_s['direction'][i]=='up':\n",
    "#                     print(\"week - success bind with 'up'\")\n",
    "#                     print(\"tolWait_weekday[\",tolWait_weekday[j][f][0])\n",
    "                    weekdayCnt[j][f][0] = weekdayCnt[j][f][0] + df_s['count'][i]\n",
    "                    tolWait_weekday[j][f][0] = tolWait_weekday[j][f][0] + df_s['total'][i]\n",
    "                elif df_s['hour'][i] == j and str(df_s['floor'][i]) == floor_name[f] and df_s['direction'][i]=='down':\n",
    "#                     print(\"success bind with 'down'\")\n",
    "                    weekdayCnt[j][f][1] = weekdayCnt[j][f][1] + df_s['count'][i]\n",
    "                    tolWait_weekday[j][f][1] = tolWait_weekday[j][f][1] + df_s['total'][i]\n",
    "            else:\n",
    "                if df_s['hour'][i] == j and str(df_s['floor'][i]) == floor_name[f] and df_s['direction'][i]=='up':\n",
    "                    weekendCnt[j][f][0] = weekendCnt[j][f][0] + df_s['count'][i]\n",
    "                    tolWait_weekend[j][f][0] = tolWait_weekend[j][f][0] + df_s['total'][i]\n",
    "                elif df_s['hour'][i] == j and str(df_s['floor'][i]) == floor_name[f] and df_s['direction'][i]=='down':\n",
    "                    weekendCnt[j][f][1] = weekendCnt[j][f][1] + df_s['count'][i]\n",
    "                    tolWait_weekend[j][f][1] = tolWait_weekend[j][f][1] + df_s['total'][i]\n",
    "                    \n",
    "# print(\"tolWait_weekday\",tolWait_weekday)"
   ]
  },
  {
   "cell_type": "code",
   "execution_count": 7,
   "metadata": {},
   "outputs": [],
   "source": [
    "for i in range(24):\n",
    "    for f in range(floor):\n",
    "        for d in range(2):\n",
    "            if tolWait_weekday[i][f][d] > 0 and weekdayCnt[i][f][d] != 0:\n",
    "                avgWait_weekday[i][f][d] = tolWait_weekday[i][f][d]/weekdayCnt[i][f][d]\n",
    "            if tolWait_weekend[i][f][d] > 0 and weekendCnt[i][f][d] != 0:\n",
    "                avgWait_weekend[i][f][d] = tolWait_weekend[i][f][d]/weekendCnt[i][f][d]\n",
    "                \n",
    "# print(tolWait_weekend)\n",
    "# print(weekendCnt)\n",
    "# print(avgWait_weekend)"
   ]
  },
  {
   "cell_type": "code",
   "execution_count": 8,
   "metadata": {
    "scrolled": true
   },
   "outputs": [
    {
     "name": "stderr",
     "output_type": "stream",
     "text": [
      "/opt/anaconda3/lib/python3.7/site-packages/ipykernel_launcher.py:2: DeprecationWarning:\n",
      "\n",
      "The default dtype for empty Series will be 'object' instead of 'float64' in a future version. Specify a dtype explicitly to silence this warning.\n",
      "\n",
      "/opt/anaconda3/lib/python3.7/site-packages/ipykernel_launcher.py:3: DeprecationWarning:\n",
      "\n",
      "The default dtype for empty Series will be 'object' instead of 'float64' in a future version. Specify a dtype explicitly to silence this warning.\n",
      "\n"
     ]
    },
    {
     "name": "stdout",
     "output_type": "stream",
     "text": [
      "avgWait_weekendCol: \n",
      " 11       8.505000\n",
      "12       9.260577\n",
      "13       8.505000\n",
      "14       9.260577\n",
      "25       2.192500\n",
      "          ...    \n",
      "3279    20.649348\n",
      "3280    20.649348\n",
      "3287    19.136400\n",
      "3288    21.710000\n",
      "3289    19.136400\n",
      "Length: 930, dtype: float64\n"
     ]
    }
   ],
   "source": [
    "# creating a blank series \n",
    "weekdayCol = pd.Series([]) \n",
    "weekendCol = pd.Series([]) \n",
    "\n",
    "# running a for loop and asigning some values to series \n",
    "for i in range(1, df_s.shape[0]+1):\n",
    "    for j in range(24):\n",
    "        for f in range(floor):\n",
    "            if df_s['week'][i] in weekday:\n",
    "                if df_s['hour'][i] == j and str(df_s['floor'][i]) == floor_name[f] and df_s['direction'][i]=='up':\n",
    "                    weekdayCol[i] = avgWait_weekday[j][f][0]\n",
    "                elif df_s['hour'][i] == j and str(df_s['floor'][i]) == floor_name[f] and df_s['direction'][i]=='down':\n",
    "                    weekdayCol[i] = avgWait_weekday[j][f][1]\n",
    "            else:\n",
    "                if df_s['hour'][i] == j and str(df_s['floor'][i]) == floor_name[f] and df_s['direction'][i]=='up':\n",
    "                    weekendCol[i] = avgWait_weekend[j][f][0]\n",
    "                elif df_s['hour'][i] == j and str(df_s['floor'][i]) == floor_name[f] and df_s['direction'][i]=='down':\n",
    "                    weekendCol[i] = avgWait_weekend[j][f][1]\n",
    "                \n",
    "                \n",
    "# print('avgWait_weekdayCol: \\n', weekdayCol)\n",
    "print('avgWait_weekendCol: \\n', weekendCol)"
   ]
  },
  {
   "cell_type": "code",
   "execution_count": 9,
   "metadata": {},
   "outputs": [
    {
     "name": "stdout",
     "output_type": "stream",
     "text": [
      "     floor  hour  week direction   total  count  week_avgWait\n",
      "3285    B1    23     3        up  555.78     29     19.164828\n",
      "3286    B1    23     4        up  269.57     19     14.187895\n",
      "3287    B1    23     5        up  340.10     16     21.256250\n",
      "3288    B1    23     6      down   21.71      1     21.710000\n",
      "3289    B1    23     6        up  138.31      9     15.367778\n"
     ]
    }
   ],
   "source": [
    "# inserting new column with values of list made above\n",
    "df_s_weekday = pd.read_csv(input_file,index_col = 0)\n",
    "df_s_weekend = pd.read_csv(input_file,index_col = 0)\n",
    "print(df_s_weekend.tail())\n",
    "\n",
    "df_s_weekday['avgWait_weekday'] = weekdayCol\n",
    "df_s_weekend['avgWait_weekend'] = weekendCol\n",
    "# print(df_s_weekend.tail())"
   ]
  },
  {
   "cell_type": "code",
   "execution_count": 10,
   "metadata": {},
   "outputs": [
    {
     "data": {
      "text/html": [
       "<div>\n",
       "<style scoped>\n",
       "    .dataframe tbody tr th:only-of-type {\n",
       "        vertical-align: middle;\n",
       "    }\n",
       "\n",
       "    .dataframe tbody tr th {\n",
       "        vertical-align: top;\n",
       "    }\n",
       "\n",
       "    .dataframe thead th {\n",
       "        text-align: right;\n",
       "    }\n",
       "</style>\n",
       "<table border=\"1\" class=\"dataframe\">\n",
       "  <thead>\n",
       "    <tr style=\"text-align: right;\">\n",
       "      <th></th>\n",
       "      <th>floor</th>\n",
       "      <th>hour</th>\n",
       "      <th>week</th>\n",
       "      <th>direction</th>\n",
       "      <th>total</th>\n",
       "      <th>count</th>\n",
       "      <th>week_avgWait</th>\n",
       "      <th>avgWait_weekend</th>\n",
       "    </tr>\n",
       "  </thead>\n",
       "  <tbody>\n",
       "    <tr>\n",
       "      <th>11</th>\n",
       "      <td>1</td>\n",
       "      <td>0</td>\n",
       "      <td>5</td>\n",
       "      <td>down</td>\n",
       "      <td>16.22</td>\n",
       "      <td>1</td>\n",
       "      <td>16.220000</td>\n",
       "      <td>8.505000</td>\n",
       "    </tr>\n",
       "    <tr>\n",
       "      <th>12</th>\n",
       "      <td>1</td>\n",
       "      <td>0</td>\n",
       "      <td>5</td>\n",
       "      <td>up</td>\n",
       "      <td>410.83</td>\n",
       "      <td>46</td>\n",
       "      <td>8.931087</td>\n",
       "      <td>9.260577</td>\n",
       "    </tr>\n",
       "    <tr>\n",
       "      <th>13</th>\n",
       "      <td>1</td>\n",
       "      <td>0</td>\n",
       "      <td>6</td>\n",
       "      <td>down</td>\n",
       "      <td>0.79</td>\n",
       "      <td>1</td>\n",
       "      <td>0.790000</td>\n",
       "      <td>8.505000</td>\n",
       "    </tr>\n",
       "    <tr>\n",
       "      <th>14</th>\n",
       "      <td>1</td>\n",
       "      <td>0</td>\n",
       "      <td>6</td>\n",
       "      <td>up</td>\n",
       "      <td>552.27</td>\n",
       "      <td>58</td>\n",
       "      <td>9.521897</td>\n",
       "      <td>9.260577</td>\n",
       "    </tr>\n",
       "    <tr>\n",
       "      <th>25</th>\n",
       "      <td>1</td>\n",
       "      <td>1</td>\n",
       "      <td>5</td>\n",
       "      <td>down</td>\n",
       "      <td>6.51</td>\n",
       "      <td>2</td>\n",
       "      <td>3.255000</td>\n",
       "      <td>2.192500</td>\n",
       "    </tr>\n",
       "    <tr>\n",
       "      <th>...</th>\n",
       "      <td>...</td>\n",
       "      <td>...</td>\n",
       "      <td>...</td>\n",
       "      <td>...</td>\n",
       "      <td>...</td>\n",
       "      <td>...</td>\n",
       "      <td>...</td>\n",
       "      <td>...</td>\n",
       "    </tr>\n",
       "    <tr>\n",
       "      <th>3279</th>\n",
       "      <td>B1</td>\n",
       "      <td>22</td>\n",
       "      <td>5</td>\n",
       "      <td>up</td>\n",
       "      <td>595.25</td>\n",
       "      <td>25</td>\n",
       "      <td>23.810000</td>\n",
       "      <td>20.649348</td>\n",
       "    </tr>\n",
       "    <tr>\n",
       "      <th>3280</th>\n",
       "      <td>B1</td>\n",
       "      <td>22</td>\n",
       "      <td>6</td>\n",
       "      <td>up</td>\n",
       "      <td>354.62</td>\n",
       "      <td>21</td>\n",
       "      <td>16.886667</td>\n",
       "      <td>20.649348</td>\n",
       "    </tr>\n",
       "    <tr>\n",
       "      <th>3287</th>\n",
       "      <td>B1</td>\n",
       "      <td>23</td>\n",
       "      <td>5</td>\n",
       "      <td>up</td>\n",
       "      <td>340.10</td>\n",
       "      <td>16</td>\n",
       "      <td>21.256250</td>\n",
       "      <td>19.136400</td>\n",
       "    </tr>\n",
       "    <tr>\n",
       "      <th>3288</th>\n",
       "      <td>B1</td>\n",
       "      <td>23</td>\n",
       "      <td>6</td>\n",
       "      <td>down</td>\n",
       "      <td>21.71</td>\n",
       "      <td>1</td>\n",
       "      <td>21.710000</td>\n",
       "      <td>21.710000</td>\n",
       "    </tr>\n",
       "    <tr>\n",
       "      <th>3289</th>\n",
       "      <td>B1</td>\n",
       "      <td>23</td>\n",
       "      <td>6</td>\n",
       "      <td>up</td>\n",
       "      <td>138.31</td>\n",
       "      <td>9</td>\n",
       "      <td>15.367778</td>\n",
       "      <td>19.136400</td>\n",
       "    </tr>\n",
       "  </tbody>\n",
       "</table>\n",
       "<p>930 rows × 8 columns</p>\n",
       "</div>"
      ],
      "text/plain": [
       "     floor  hour  week direction   total  count  week_avgWait  avgWait_weekend\n",
       "11       1     0     5      down   16.22      1     16.220000         8.505000\n",
       "12       1     0     5        up  410.83     46      8.931087         9.260577\n",
       "13       1     0     6      down    0.79      1      0.790000         8.505000\n",
       "14       1     0     6        up  552.27     58      9.521897         9.260577\n",
       "25       1     1     5      down    6.51      2      3.255000         2.192500\n",
       "...    ...   ...   ...       ...     ...    ...           ...              ...\n",
       "3279    B1    22     5        up  595.25     25     23.810000        20.649348\n",
       "3280    B1    22     6        up  354.62     21     16.886667        20.649348\n",
       "3287    B1    23     5        up  340.10     16     21.256250        19.136400\n",
       "3288    B1    23     6      down   21.71      1     21.710000        21.710000\n",
       "3289    B1    23     6        up  138.31      9     15.367778        19.136400\n",
       "\n",
       "[930 rows x 8 columns]"
      ]
     },
     "execution_count": 10,
     "metadata": {},
     "output_type": "execute_result"
    }
   ],
   "source": [
    "#分開平假日\n",
    "df_s_weekday = df_s_weekday.dropna()\n",
    "df_s_weekend = df_s_weekend.dropna()\n",
    "\n",
    "df_s_weekend"
   ]
  },
  {
   "cell_type": "code",
   "execution_count": 11,
   "metadata": {},
   "outputs": [
    {
     "data": {
      "text/html": [
       "<div>\n",
       "<style scoped>\n",
       "    .dataframe tbody tr th:only-of-type {\n",
       "        vertical-align: middle;\n",
       "    }\n",
       "\n",
       "    .dataframe tbody tr th {\n",
       "        vertical-align: top;\n",
       "    }\n",
       "\n",
       "    .dataframe thead th {\n",
       "        text-align: right;\n",
       "    }\n",
       "</style>\n",
       "<table border=\"1\" class=\"dataframe\">\n",
       "  <thead>\n",
       "    <tr style=\"text-align: right;\">\n",
       "      <th></th>\n",
       "      <th>floor</th>\n",
       "      <th>hour</th>\n",
       "      <th>direction</th>\n",
       "      <th>avgWait_weekend</th>\n",
       "    </tr>\n",
       "  </thead>\n",
       "  <tbody>\n",
       "    <tr>\n",
       "      <th>11</th>\n",
       "      <td>1</td>\n",
       "      <td>0</td>\n",
       "      <td>down</td>\n",
       "      <td>8.505000</td>\n",
       "    </tr>\n",
       "    <tr>\n",
       "      <th>12</th>\n",
       "      <td>1</td>\n",
       "      <td>0</td>\n",
       "      <td>up</td>\n",
       "      <td>9.260577</td>\n",
       "    </tr>\n",
       "    <tr>\n",
       "      <th>13</th>\n",
       "      <td>1</td>\n",
       "      <td>0</td>\n",
       "      <td>down</td>\n",
       "      <td>8.505000</td>\n",
       "    </tr>\n",
       "    <tr>\n",
       "      <th>14</th>\n",
       "      <td>1</td>\n",
       "      <td>0</td>\n",
       "      <td>up</td>\n",
       "      <td>9.260577</td>\n",
       "    </tr>\n",
       "    <tr>\n",
       "      <th>25</th>\n",
       "      <td>1</td>\n",
       "      <td>1</td>\n",
       "      <td>down</td>\n",
       "      <td>2.192500</td>\n",
       "    </tr>\n",
       "    <tr>\n",
       "      <th>...</th>\n",
       "      <td>...</td>\n",
       "      <td>...</td>\n",
       "      <td>...</td>\n",
       "      <td>...</td>\n",
       "    </tr>\n",
       "    <tr>\n",
       "      <th>3279</th>\n",
       "      <td>B1</td>\n",
       "      <td>22</td>\n",
       "      <td>up</td>\n",
       "      <td>20.649348</td>\n",
       "    </tr>\n",
       "    <tr>\n",
       "      <th>3280</th>\n",
       "      <td>B1</td>\n",
       "      <td>22</td>\n",
       "      <td>up</td>\n",
       "      <td>20.649348</td>\n",
       "    </tr>\n",
       "    <tr>\n",
       "      <th>3287</th>\n",
       "      <td>B1</td>\n",
       "      <td>23</td>\n",
       "      <td>up</td>\n",
       "      <td>19.136400</td>\n",
       "    </tr>\n",
       "    <tr>\n",
       "      <th>3288</th>\n",
       "      <td>B1</td>\n",
       "      <td>23</td>\n",
       "      <td>down</td>\n",
       "      <td>21.710000</td>\n",
       "    </tr>\n",
       "    <tr>\n",
       "      <th>3289</th>\n",
       "      <td>B1</td>\n",
       "      <td>23</td>\n",
       "      <td>up</td>\n",
       "      <td>19.136400</td>\n",
       "    </tr>\n",
       "  </tbody>\n",
       "</table>\n",
       "<p>930 rows × 4 columns</p>\n",
       "</div>"
      ],
      "text/plain": [
       "     floor  hour direction  avgWait_weekend\n",
       "11       1     0      down         8.505000\n",
       "12       1     0        up         9.260577\n",
       "13       1     0      down         8.505000\n",
       "14       1     0        up         9.260577\n",
       "25       1     1      down         2.192500\n",
       "...    ...   ...       ...              ...\n",
       "3279    B1    22        up        20.649348\n",
       "3280    B1    22        up        20.649348\n",
       "3287    B1    23        up        19.136400\n",
       "3288    B1    23      down        21.710000\n",
       "3289    B1    23        up        19.136400\n",
       "\n",
       "[930 rows x 4 columns]"
      ]
     },
     "execution_count": 11,
     "metadata": {},
     "output_type": "execute_result"
    }
   ],
   "source": [
    "#delete redundenct columes\n",
    "df_s_weekday = df_s_weekday.drop(columns=['week','total', 'count','week_avgWait'])\n",
    "df_s_weekend = df_s_weekend.drop(columns=['week','total', 'count','week_avgWait'])\n",
    "df_s_weekend"
   ]
  },
  {
   "cell_type": "code",
   "execution_count": 12,
   "metadata": {},
   "outputs": [
    {
     "name": "stdout",
     "output_type": "stream",
     "text": [
      "dropped duplicates \n",
      "      floor  hour direction  avgWait_weekday\n",
      "1        1     0      down         9.378571\n",
      "2        1     0        up         9.164669\n",
      "15       1     1      down         9.708333\n",
      "16       1     1        up         8.071036\n",
      "29       1     2        up        12.527800\n",
      "...    ...   ...       ...              ...\n",
      "3261    B1    21      down        49.820000\n",
      "3270    B1    22      down        21.230000\n",
      "3271    B1    22        up        23.209262\n",
      "3281    B1    23        up        17.868889\n",
      "3284    B1    23      down        28.700000\n",
      "\n",
      "[525 rows x 4 columns]\n",
      "reset_index\n",
      "     floor  hour direction  avgWait_weekday\n",
      "0       1     0      down         9.378571\n",
      "1       1     0        up         9.164669\n",
      "2       1     1      down         9.708333\n",
      "3       1     1        up         8.071036\n",
      "4       1     2        up        12.527800\n",
      "..    ...   ...       ...              ...\n",
      "520    B1    21      down        49.820000\n",
      "521    B1    22      down        21.230000\n",
      "522    B1    22        up        23.209262\n",
      "523    B1    23        up        17.868889\n",
      "524    B1    23      down        28.700000\n",
      "\n",
      "[525 rows x 4 columns]\n"
     ]
    }
   ],
   "source": [
    "# delete duplicates\n",
    "df_s_weekday = df_s_weekday.drop_duplicates(keep='first', inplace=False)\n",
    "df_s_weekend = df_s_weekend.drop_duplicates(keep='first', inplace=False)\n",
    "print('dropped duplicates \\n', df_s_weekday)\n",
    "# reset_index\n",
    "df_s_weekday = df_s_weekday.reset_index(drop=True)\n",
    "df_s_weekend = df_s_weekend.reset_index(drop=True)\n",
    "print('reset_index\\n',df_s_weekday)"
   ]
  },
  {
   "cell_type": "code",
   "execution_count": 21,
   "metadata": {},
   "outputs": [],
   "source": [
    "output_file_weekday = building+'_weekday.csv'\n",
    "output_file_weekend = building+'_weekend.csv'\n",
    "df_s_weekday.to_csv(output_file_weekday)\n",
    "df_s_weekend.to_csv(output_file_weekend)"
   ]
  },
  {
   "cell_type": "markdown",
   "metadata": {},
   "source": [
    "plotly express 有點像是 ggplot in R，<br>\n",
    "只要指定x,y,color等就能自動幫你分類，<br>\n",
    "下面的圖表以南棟電梯的外部電梯呼叫資料為例，<br>\n",
    "x軸為樓層、以方向分開並上色，最後以時間(小時)作為動畫影格。"
   ]
  },
  {
   "cell_type": "code",
   "execution_count": 14,
   "metadata": {},
   "outputs": [],
   "source": [
    "df_s_weekday = pd.read_csv(output_file_weekday, index_col = 0)\n",
    "df_s_weekend = pd.read_csv(output_file_weekend, index_col = 0)"
   ]
  },
  {
   "cell_type": "code",
   "execution_count": 23,
   "metadata": {},
   "outputs": [
    {
     "data": {
      "application/vnd.plotly.v1+json": {
       "config": {
        "plotlyServerURL": "https://plot.ly"
       },
       "data": [
        {
         "alignmentgroup": "True",
         "hovertemplate": "direction=down<br>Local Time (GMT+8)=0<br>floor=%{x}<br>avgWait_weekday=%{y}<extra></extra>",
         "legendgroup": "down",
         "marker": {
          "color": "#636efa"
         },
         "name": "down",
         "offsetgroup": "down",
         "orientation": "v",
         "showlegend": true,
         "textposition": "auto",
         "type": "bar",
         "x": [
          "1",
          "2",
          "4",
          "8",
          "9",
          "10",
          "11",
          "12",
          "13",
          "14",
          "15"
         ],
         "xaxis": "x",
         "y": [
          9.37857142857143,
          21.12,
          24.979677419354843,
          21.222631578947368,
          18.990625,
          14.925000000000002,
          20.28977528089888,
          22.89237623762377,
          22.933177570093452,
          25.19351648351649,
          21.935842696629205
         ],
         "yaxis": "y"
        },
        {
         "alignmentgroup": "True",
         "hovertemplate": "direction=up<br>Local Time (GMT+8)=0<br>floor=%{x}<br>avgWait_weekday=%{y}<extra></extra>",
         "legendgroup": "up",
         "marker": {
          "color": "#EF553B"
         },
         "name": "up",
         "offsetgroup": "up",
         "orientation": "v",
         "showlegend": true,
         "textposition": "auto",
         "type": "bar",
         "x": [
          "1",
          "4",
          "8",
          "9",
          "10",
          "11",
          "12",
          "13",
          "14",
          "B1"
         ],
         "xaxis": "x2",
         "y": [
          9.164668989547039,
          17.064285714285713,
          21.055,
          23.33,
          21.74,
          1.59,
          24.54666666666667,
          42.393333333333345,
          26.79666666666667,
          9.73181818181818
         ],
         "yaxis": "y2"
        }
       ],
       "frames": [
        {
         "data": [
          {
           "alignmentgroup": "True",
           "hovertemplate": "direction=down<br>Local Time (GMT+8)=0<br>floor=%{x}<br>avgWait_weekday=%{y}<extra></extra>",
           "legendgroup": "down",
           "marker": {
            "color": "#636efa"
           },
           "name": "down",
           "offsetgroup": "down",
           "orientation": "v",
           "showlegend": true,
           "textposition": "auto",
           "type": "bar",
           "x": [
            "1",
            "2",
            "4",
            "8",
            "9",
            "10",
            "11",
            "12",
            "13",
            "14",
            "15"
           ],
           "xaxis": "x",
           "y": [
            9.37857142857143,
            21.12,
            24.979677419354843,
            21.222631578947368,
            18.990625,
            14.925000000000002,
            20.28977528089888,
            22.89237623762377,
            22.933177570093452,
            25.19351648351649,
            21.935842696629205
           ],
           "yaxis": "y"
          },
          {
           "alignmentgroup": "True",
           "hovertemplate": "direction=up<br>Local Time (GMT+8)=0<br>floor=%{x}<br>avgWait_weekday=%{y}<extra></extra>",
           "legendgroup": "up",
           "marker": {
            "color": "#EF553B"
           },
           "name": "up",
           "offsetgroup": "up",
           "orientation": "v",
           "showlegend": true,
           "textposition": "auto",
           "type": "bar",
           "x": [
            "1",
            "4",
            "8",
            "9",
            "10",
            "11",
            "12",
            "13",
            "14",
            "B1"
           ],
           "xaxis": "x2",
           "y": [
            9.164668989547039,
            17.064285714285713,
            21.055,
            23.33,
            21.74,
            1.59,
            24.54666666666667,
            42.393333333333345,
            26.79666666666667,
            9.73181818181818
           ],
           "yaxis": "y2"
          }
         ],
         "name": "0"
        },
        {
         "data": [
          {
           "alignmentgroup": "True",
           "hovertemplate": "direction=down<br>Local Time (GMT+8)=1<br>floor=%{x}<br>avgWait_weekday=%{y}<extra></extra>",
           "legendgroup": "down",
           "marker": {
            "color": "#636efa"
           },
           "name": "down",
           "offsetgroup": "down",
           "orientation": "v",
           "showlegend": true,
           "textposition": "auto",
           "type": "bar",
           "x": [
            "1",
            "4",
            "8",
            "9",
            "10",
            "11",
            "12",
            "13",
            "14",
            "15",
            "B1"
           ],
           "xaxis": "x",
           "y": [
            9.708333333333334,
            19.747857142857143,
            17.219615384615384,
            20.74921052631579,
            20.385,
            19.22636363636364,
            21.458441558441557,
            17.30625,
            19.742465753424657,
            28.14326530612245,
            49.4
           ],
           "yaxis": "y"
          },
          {
           "alignmentgroup": "True",
           "hovertemplate": "direction=up<br>Local Time (GMT+8)=1<br>floor=%{x}<br>avgWait_weekday=%{y}<extra></extra>",
           "legendgroup": "up",
           "marker": {
            "color": "#EF553B"
           },
           "name": "up",
           "offsetgroup": "up",
           "orientation": "v",
           "showlegend": true,
           "textposition": "auto",
           "type": "bar",
           "x": [
            "1",
            "4",
            "8",
            "9",
            "10",
            "11",
            "12",
            "13",
            "14",
            "B1"
           ],
           "xaxis": "x2",
           "y": [
            8.071036269430053,
            17.06,
            16.89,
            14.392,
            29.87,
            13.6,
            9.975,
            14.663333333333336,
            22.95,
            6.219600000000002
           ],
           "yaxis": "y2"
          }
         ],
         "name": "1"
        },
        {
         "data": [
          {
           "alignmentgroup": "True",
           "hovertemplate": "direction=down<br>Local Time (GMT+8)=2<br>floor=%{x}<br>avgWait_weekday=%{y}<extra></extra>",
           "legendgroup": "down",
           "marker": {
            "color": "#636efa"
           },
           "name": "down",
           "offsetgroup": "down",
           "orientation": "v",
           "showlegend": true,
           "textposition": "auto",
           "type": "bar",
           "x": [
            "1",
            "4",
            "8",
            "9",
            "11",
            "12",
            "13",
            "14",
            "15",
            "B1"
           ],
           "xaxis": "x",
           "y": [
            26.242,
            32.12428571428571,
            18.504615384615384,
            19.31913043478261,
            19.9795,
            20.12,
            23.99,
            22.716800000000006,
            30.31523809523809,
            15.09
           ],
           "yaxis": "y"
          },
          {
           "alignmentgroup": "True",
           "hovertemplate": "direction=up<br>Local Time (GMT+8)=2<br>floor=%{x}<br>avgWait_weekday=%{y}<extra></extra>",
           "legendgroup": "up",
           "marker": {
            "color": "#EF553B"
           },
           "name": "up",
           "offsetgroup": "up",
           "orientation": "v",
           "showlegend": true,
           "textposition": "auto",
           "type": "bar",
           "x": [
            "1",
            "4",
            "8",
            "9",
            "11",
            "B1"
           ],
           "xaxis": "x2",
           "y": [
            12.5278,
            12.81,
            43.28666666666667,
            1.26,
            22.61,
            11.376
           ],
           "yaxis": "y2"
          }
         ],
         "name": "2"
        },
        {
         "data": [
          {
           "alignmentgroup": "True",
           "hovertemplate": "direction=down<br>Local Time (GMT+8)=3<br>floor=%{x}<br>avgWait_weekday=%{y}<extra></extra>",
           "legendgroup": "down",
           "marker": {
            "color": "#636efa"
           },
           "name": "down",
           "offsetgroup": "down",
           "orientation": "v",
           "showlegend": true,
           "textposition": "auto",
           "type": "bar",
           "x": [
            "1",
            "2",
            "4",
            "8",
            "9",
            "10",
            "11",
            "12",
            "13",
            "14",
            "15",
            "B1"
           ],
           "xaxis": "x",
           "y": [
            6.81,
            2.41,
            14.01125,
            20.33333333333333,
            22.366666666666664,
            9.8175,
            15.944666666666668,
            21.76090909090909,
            13.91642857142857,
            15.91125,
            22.39454545454545,
            1.59
           ],
           "yaxis": "y"
          },
          {
           "alignmentgroup": "True",
           "hovertemplate": "direction=up<br>Local Time (GMT+8)=3<br>floor=%{x}<br>avgWait_weekday=%{y}<extra></extra>",
           "legendgroup": "up",
           "marker": {
            "color": "#EF553B"
           },
           "name": "up",
           "offsetgroup": "up",
           "orientation": "v",
           "showlegend": true,
           "textposition": "auto",
           "type": "bar",
           "x": [
            "1",
            "4",
            "8",
            "10",
            "11",
            "12",
            "13",
            "B1"
           ],
           "xaxis": "x2",
           "y": [
            10.288984375,
            20.133333333333333,
            23.07,
            2.39,
            9.375,
            8.69,
            16.175,
            5.855
           ],
           "yaxis": "y2"
          }
         ],
         "name": "3"
        },
        {
         "data": [
          {
           "alignmentgroup": "True",
           "hovertemplate": "direction=down<br>Local Time (GMT+8)=4<br>floor=%{x}<br>avgWait_weekday=%{y}<extra></extra>",
           "legendgroup": "down",
           "marker": {
            "color": "#636efa"
           },
           "name": "down",
           "offsetgroup": "down",
           "orientation": "v",
           "showlegend": true,
           "textposition": "auto",
           "type": "bar",
           "x": [
            "1",
            "8",
            "9",
            "11",
            "12",
            "13",
            "14",
            "15",
            "B1"
           ],
           "xaxis": "x",
           "y": [
            10.595999999999998,
            21.14428571428571,
            18.133636363636363,
            19.7775,
            12.852105263157895,
            17.57133333333333,
            17.252857142857142,
            18.506666666666668,
            1.35
           ],
           "yaxis": "y"
          },
          {
           "alignmentgroup": "True",
           "hovertemplate": "direction=up<br>Local Time (GMT+8)=4<br>floor=%{x}<br>avgWait_weekday=%{y}<extra></extra>",
           "legendgroup": "up",
           "marker": {
            "color": "#EF553B"
           },
           "name": "up",
           "offsetgroup": "up",
           "orientation": "v",
           "showlegend": true,
           "textposition": "auto",
           "type": "bar",
           "x": [
            "1",
            "2",
            "4",
            "8",
            "14",
            "B1"
           ],
           "xaxis": "x2",
           "y": [
            8.551573033707866,
            9.815,
            11.21,
            18.23,
            19.65,
            6.65875
           ],
           "yaxis": "y2"
          }
         ],
         "name": "4"
        },
        {
         "data": [
          {
           "alignmentgroup": "True",
           "hovertemplate": "direction=down<br>Local Time (GMT+8)=5<br>floor=%{x}<br>avgWait_weekday=%{y}<extra></extra>",
           "legendgroup": "down",
           "marker": {
            "color": "#636efa"
           },
           "name": "down",
           "offsetgroup": "down",
           "orientation": "v",
           "showlegend": true,
           "textposition": "auto",
           "type": "bar",
           "x": [
            "1",
            "2",
            "8",
            "9",
            "10",
            "11",
            "12",
            "13",
            "14",
            "15",
            "B1"
           ],
           "xaxis": "x",
           "y": [
            5.3100000000000005,
            11.75,
            20.728571428571428,
            21.636486486486486,
            0.56,
            18.132926829268293,
            18.594444444444445,
            22.271607142857146,
            19.99289855072464,
            18.057142857142857,
            6.4766666666666675
           ],
           "yaxis": "y"
          },
          {
           "alignmentgroup": "True",
           "hovertemplate": "direction=up<br>Local Time (GMT+8)=5<br>floor=%{x}<br>avgWait_weekday=%{y}<extra></extra>",
           "legendgroup": "up",
           "marker": {
            "color": "#EF553B"
           },
           "name": "up",
           "offsetgroup": "up",
           "orientation": "v",
           "showlegend": true,
           "textposition": "auto",
           "type": "bar",
           "x": [
            "1",
            "4",
            "8",
            "9",
            "11",
            "12",
            "13",
            "14",
            "B1"
           ],
           "xaxis": "x2",
           "y": [
            9.02481865284974,
            16.314999999999998,
            22.29,
            20.73,
            20.6875,
            19.04,
            6.11,
            22.885,
            16.922307692307697
           ],
           "yaxis": "y2"
          }
         ],
         "name": "5"
        },
        {
         "data": [
          {
           "alignmentgroup": "True",
           "hovertemplate": "direction=down<br>Local Time (GMT+8)=6<br>floor=%{x}<br>avgWait_weekday=%{y}<extra></extra>",
           "legendgroup": "down",
           "marker": {
            "color": "#636efa"
           },
           "name": "down",
           "offsetgroup": "down",
           "orientation": "v",
           "showlegend": true,
           "textposition": "auto",
           "type": "bar",
           "x": [
            "1",
            "2",
            "4",
            "8",
            "9",
            "10",
            "11",
            "12",
            "13",
            "14",
            "15",
            "B1"
           ],
           "xaxis": "x",
           "y": [
            30.61159420289855,
            55.57285714285714,
            48.61533333333333,
            22.690291262135922,
            26.370994475138122,
            38.43,
            30.35161016949152,
            32.3171511627907,
            31.28696132596685,
            29.301526315789477,
            31.853154362416106,
            35.53100000000001
           ],
           "yaxis": "y"
          },
          {
           "alignmentgroup": "True",
           "hovertemplate": "direction=up<br>Local Time (GMT+8)=6<br>floor=%{x}<br>avgWait_weekday=%{y}<extra></extra>",
           "legendgroup": "up",
           "marker": {
            "color": "#EF553B"
           },
           "name": "up",
           "offsetgroup": "up",
           "orientation": "v",
           "showlegend": true,
           "textposition": "auto",
           "type": "bar",
           "x": [
            "1",
            "2",
            "4",
            "8",
            "9",
            "11",
            "12",
            "13",
            "14",
            "B1"
           ],
           "xaxis": "x2",
           "y": [
            20.864676753782668,
            19.663333333333334,
            19.2475,
            38.86625,
            63.42307692307693,
            44.49,
            34.489999999999995,
            44.0075,
            37.864285714285714,
            29.658118811881188
           ],
           "yaxis": "y2"
          }
         ],
         "name": "6"
        },
        {
         "data": [
          {
           "alignmentgroup": "True",
           "hovertemplate": "direction=down<br>Local Time (GMT+8)=7<br>floor=%{x}<br>avgWait_weekday=%{y}<extra></extra>",
           "legendgroup": "down",
           "marker": {
            "color": "#636efa"
           },
           "name": "down",
           "offsetgroup": "down",
           "orientation": "v",
           "showlegend": true,
           "textposition": "auto",
           "type": "bar",
           "x": [
            "1",
            "2",
            "4",
            "8",
            "9",
            "10",
            "11",
            "12",
            "13",
            "14",
            "15",
            "B1"
           ],
           "xaxis": "x",
           "y": [
            64.75900763358779,
            56.83333333333334,
            71.21490196078432,
            21.890473933649286,
            27.283880597014928,
            27.2040625,
            34.13450643776824,
            44.90282868525896,
            35.05127049180328,
            41.67968627450981,
            51.713951219512204,
            49.82903225806453
           ],
           "yaxis": "y"
          },
          {
           "alignmentgroup": "True",
           "hovertemplate": "direction=up<br>Local Time (GMT+8)=7<br>floor=%{x}<br>avgWait_weekday=%{y}<extra></extra>",
           "legendgroup": "up",
           "marker": {
            "color": "#EF553B"
           },
           "name": "up",
           "offsetgroup": "up",
           "orientation": "v",
           "showlegend": true,
           "textposition": "auto",
           "type": "bar",
           "x": [
            "1",
            "2",
            "4",
            "8",
            "9",
            "10",
            "11",
            "12",
            "13",
            "14",
            "B1"
           ],
           "xaxis": "x2",
           "y": [
            25.834209677419352,
            11.269000000000002,
            15.472545454545456,
            77.95829268292681,
            62.690526315789484,
            45.5275,
            81.86928571428572,
            60.18785714285714,
            92.21692307692308,
            69.51428571428572,
            64.55537698412698
           ],
           "yaxis": "y2"
          }
         ],
         "name": "7"
        },
        {
         "data": [
          {
           "alignmentgroup": "True",
           "hovertemplate": "direction=down<br>Local Time (GMT+8)=8<br>floor=%{x}<br>avgWait_weekday=%{y}<extra></extra>",
           "legendgroup": "down",
           "marker": {
            "color": "#636efa"
           },
           "name": "down",
           "offsetgroup": "down",
           "orientation": "v",
           "showlegend": true,
           "textposition": "auto",
           "type": "bar",
           "x": [
            "1",
            "2",
            "4",
            "8",
            "9",
            "10",
            "11",
            "12",
            "13",
            "14",
            "15",
            "B1"
           ],
           "xaxis": "x",
           "y": [
            57.68022988505746,
            75.43162790697674,
            94.17018181818182,
            16.998652482269506,
            20.485062893081764,
            17.653492063492067,
            28.310398671096355,
            45.144035087719296,
            28.808675496688746,
            40.06931372549019,
            58.47088235294117,
            66.28333333333333
           ],
           "yaxis": "y"
          },
          {
           "alignmentgroup": "True",
           "hovertemplate": "direction=up<br>Local Time (GMT+8)=8<br>floor=%{x}<br>avgWait_weekday=%{y}<extra></extra>",
           "legendgroup": "up",
           "marker": {
            "color": "#EF553B"
           },
           "name": "up",
           "offsetgroup": "up",
           "orientation": "v",
           "showlegend": true,
           "textposition": "auto",
           "type": "bar",
           "x": [
            "1",
            "2",
            "4",
            "8",
            "9",
            "10",
            "11",
            "12",
            "13",
            "14",
            "B1"
           ],
           "xaxis": "x2",
           "y": [
            25.359718875502008,
            12.885089285714288,
            14.267191011235955,
            69.92392,
            52.99266666666667,
            45.25766666666666,
            55.63052631578947,
            35.228235294117646,
            85.80214285714284,
            61.00600000000001,
            72.66171764705881
           ],
           "yaxis": "y2"
          }
         ],
         "name": "8"
        },
        {
         "data": [
          {
           "alignmentgroup": "True",
           "hovertemplate": "direction=down<br>Local Time (GMT+8)=9<br>floor=%{x}<br>avgWait_weekday=%{y}<extra></extra>",
           "legendgroup": "down",
           "marker": {
            "color": "#636efa"
           },
           "name": "down",
           "offsetgroup": "down",
           "orientation": "v",
           "showlegend": true,
           "textposition": "auto",
           "type": "bar",
           "x": [
            "1",
            "2",
            "4",
            "8",
            "9",
            "10",
            "11",
            "12",
            "13",
            "14",
            "15",
            "B1"
           ],
           "xaxis": "x",
           "y": [
            51.85513513513514,
            62.1632876712329,
            85.94744897959184,
            14.533642172523965,
            20.915701219512197,
            18.80713043478261,
            26.01223484848485,
            45.078674698795176,
            25.798928571428572,
            37.7078,
            67.44108552631579,
            57.032068965517226
           ],
           "yaxis": "y"
          },
          {
           "alignmentgroup": "True",
           "hovertemplate": "direction=up<br>Local Time (GMT+8)=9<br>floor=%{x}<br>avgWait_weekday=%{y}<extra></extra>",
           "legendgroup": "up",
           "marker": {
            "color": "#EF553B"
           },
           "name": "up",
           "offsetgroup": "up",
           "orientation": "v",
           "showlegend": true,
           "textposition": "auto",
           "type": "bar",
           "x": [
            "1",
            "2",
            "4",
            "8",
            "9",
            "10",
            "11",
            "12",
            "13",
            "14",
            "B1"
           ],
           "xaxis": "x2",
           "y": [
            29.888060606060602,
            14.114380952380955,
            13.448431372549019,
            84.69403846153847,
            47.80979166666666,
            60.947017543859644,
            36.36151515151516,
            46.93242424242424,
            80.85529411764708,
            95.68941176470587,
            75.24890025575448
           ],
           "yaxis": "y2"
          }
         ],
         "name": "9"
        },
        {
         "data": [
          {
           "alignmentgroup": "True",
           "hovertemplate": "direction=down<br>Local Time (GMT+8)=10<br>floor=%{x}<br>avgWait_weekday=%{y}<extra></extra>",
           "legendgroup": "down",
           "marker": {
            "color": "#636efa"
           },
           "name": "down",
           "offsetgroup": "down",
           "orientation": "v",
           "showlegend": true,
           "textposition": "auto",
           "type": "bar",
           "x": [
            "1",
            "2",
            "4",
            "8",
            "9",
            "10",
            "11",
            "12",
            "13",
            "14",
            "15",
            "B1"
           ],
           "xaxis": "x",
           "y": [
            43.8990977443609,
            49.284285714285716,
            90.6477118644068,
            14.06243445692884,
            17.32553459119497,
            16.456040268456377,
            24.8687987012987,
            45.92576470588235,
            30.939890109890108,
            39.48445692883895,
            67.70614173228347,
            55.10704545454546
           ],
           "yaxis": "y"
          },
          {
           "alignmentgroup": "True",
           "hovertemplate": "direction=up<br>Local Time (GMT+8)=10<br>floor=%{x}<br>avgWait_weekday=%{y}<extra></extra>",
           "legendgroup": "up",
           "marker": {
            "color": "#EF553B"
           },
           "name": "up",
           "offsetgroup": "up",
           "orientation": "v",
           "showlegend": true,
           "textposition": "auto",
           "type": "bar",
           "x": [
            "1",
            "2",
            "4",
            "8",
            "9",
            "10",
            "11",
            "12",
            "13",
            "14",
            "B1"
           ],
           "xaxis": "x2",
           "y": [
            28.641800000000003,
            13.24934065934066,
            15.773828125,
            76.7843046357616,
            37.47375,
            55.163291139240506,
            33.123749999999994,
            38.07521739130435,
            53.267894736842095,
            98.38083333333331,
            82.43951008645534
           ],
           "yaxis": "y2"
          }
         ],
         "name": "10"
        },
        {
         "data": [
          {
           "alignmentgroup": "True",
           "hovertemplate": "direction=down<br>Local Time (GMT+8)=11<br>floor=%{x}<br>avgWait_weekday=%{y}<extra></extra>",
           "legendgroup": "down",
           "marker": {
            "color": "#636efa"
           },
           "name": "down",
           "offsetgroup": "down",
           "orientation": "v",
           "showlegend": true,
           "textposition": "auto",
           "type": "bar",
           "x": [
            "1",
            "2",
            "4",
            "8",
            "9",
            "10",
            "11",
            "12",
            "13",
            "14",
            "15",
            "B1"
           ],
           "xaxis": "x",
           "y": [
            43.218934426229495,
            33.03046875,
            110.58026178010472,
            13.628785714285712,
            15.665386904761903,
            14.527976878612714,
            25.23207920792079,
            56.635852090032145,
            23.154355400696865,
            33.833754266211606,
            80.53881028938906,
            42.86032258064515
           ],
           "yaxis": "y"
          },
          {
           "alignmentgroup": "True",
           "hovertemplate": "direction=up<br>Local Time (GMT+8)=11<br>floor=%{x}<br>avgWait_weekday=%{y}<extra></extra>",
           "legendgroup": "up",
           "marker": {
            "color": "#EF553B"
           },
           "name": "up",
           "offsetgroup": "up",
           "orientation": "v",
           "showlegend": true,
           "textposition": "auto",
           "type": "bar",
           "x": [
            "1",
            "2",
            "4",
            "8",
            "9",
            "10",
            "11",
            "12",
            "13",
            "14",
            "B1"
           ],
           "xaxis": "x2",
           "y": [
            23.414677002583982,
            12.466792452830187,
            13.725602836879432,
            93.32466666666666,
            43.03148936170212,
            43.42728395061729,
            46.10764705882352,
            54.4725,
            103.536,
            105.61391304347826,
            103.25052924791088
           ],
           "yaxis": "y2"
          }
         ],
         "name": "11"
        },
        {
         "data": [
          {
           "alignmentgroup": "True",
           "hovertemplate": "direction=down<br>Local Time (GMT+8)=12<br>floor=%{x}<br>avgWait_weekday=%{y}<extra></extra>",
           "legendgroup": "down",
           "marker": {
            "color": "#636efa"
           },
           "name": "down",
           "offsetgroup": "down",
           "orientation": "v",
           "showlegend": true,
           "textposition": "auto",
           "type": "bar",
           "x": [
            "1",
            "2",
            "4",
            "8",
            "9",
            "10",
            "11",
            "12",
            "13",
            "14",
            "15",
            "B1"
           ],
           "xaxis": "x",
           "y": [
            39.74880341880342,
            40.66952380952381,
            106.00479069767441,
            13.314731543624161,
            15.89558988764045,
            16.457666666666668,
            23.987275641025644,
            58.26958208955223,
            21.762839879154075,
            32.170450450450446,
            74.32409375,
            28.39660377358491
           ],
           "yaxis": "y"
          },
          {
           "alignmentgroup": "True",
           "hovertemplate": "direction=up<br>Local Time (GMT+8)=12<br>floor=%{x}<br>avgWait_weekday=%{y}<extra></extra>",
           "legendgroup": "up",
           "marker": {
            "color": "#EF553B"
           },
           "name": "up",
           "offsetgroup": "up",
           "orientation": "v",
           "showlegend": true,
           "textposition": "auto",
           "type": "bar",
           "x": [
            "1",
            "2",
            "4",
            "8",
            "9",
            "10",
            "11",
            "12",
            "13",
            "14",
            "B1"
           ],
           "xaxis": "x2",
           "y": [
            22.402623762376237,
            10.842716049382718,
            12.462045454545455,
            93.6412408759124,
            58.8,
            64.0785294117647,
            44.133421052631576,
            70.15709677419355,
            100.08521739130435,
            85.31739130434784,
            102.24617721518987
           ],
           "yaxis": "y2"
          }
         ],
         "name": "12"
        },
        {
         "data": [
          {
           "alignmentgroup": "True",
           "hovertemplate": "direction=down<br>Local Time (GMT+8)=13<br>floor=%{x}<br>avgWait_weekday=%{y}<extra></extra>",
           "legendgroup": "down",
           "marker": {
            "color": "#636efa"
           },
           "name": "down",
           "offsetgroup": "down",
           "orientation": "v",
           "showlegend": true,
           "textposition": "auto",
           "type": "bar",
           "x": [
            "1",
            "2",
            "4",
            "8",
            "9",
            "10",
            "11",
            "12",
            "13",
            "14",
            "15",
            "B1"
           ],
           "xaxis": "x",
           "y": [
            54.59816993464053,
            62.17583333333333,
            93.03228758169935,
            16.23679104477612,
            17.23714285714286,
            15.81373913043478,
            30.64038834951457,
            48.754933333333334,
            24.42943333333333,
            41.450415335463255,
            63.44982578397212,
            40.333666666666666
           ],
           "yaxis": "y"
          },
          {
           "alignmentgroup": "True",
           "hovertemplate": "direction=up<br>Local Time (GMT+8)=13<br>floor=%{x}<br>avgWait_weekday=%{y}<extra></extra>",
           "legendgroup": "up",
           "marker": {
            "color": "#EF553B"
           },
           "name": "up",
           "offsetgroup": "up",
           "orientation": "v",
           "showlegend": true,
           "textposition": "auto",
           "type": "bar",
           "x": [
            "1",
            "2",
            "4",
            "8",
            "9",
            "10",
            "11",
            "12",
            "13",
            "14",
            "B1"
           ],
           "xaxis": "x2",
           "y": [
            24.059929742388764,
            11.415346534653466,
            11.53758389261745,
            100.53477707006368,
            51.063508771929826,
            49.33070175438597,
            45.5304,
            68.459,
            113,
            134.48624999999998,
            93.13381909547738
           ],
           "yaxis": "y2"
          }
         ],
         "name": "13"
        },
        {
         "data": [
          {
           "alignmentgroup": "True",
           "hovertemplate": "direction=down<br>Local Time (GMT+8)=14<br>floor=%{x}<br>avgWait_weekday=%{y}<extra></extra>",
           "legendgroup": "down",
           "marker": {
            "color": "#636efa"
           },
           "name": "down",
           "offsetgroup": "down",
           "orientation": "v",
           "showlegend": true,
           "textposition": "auto",
           "type": "bar",
           "x": [
            "1",
            "2",
            "4",
            "8",
            "9",
            "10",
            "11",
            "12",
            "13",
            "14",
            "15",
            "B1"
           ],
           "xaxis": "x",
           "y": [
            50.61556390977444,
            60.09783783783784,
            89.61132183908045,
            15.646497890295358,
            19.082392638036808,
            14.894587155963302,
            26.954630225080386,
            51.10778501628665,
            27.666323024054986,
            41.74787456445994,
            69.51138059701493,
            39.03517241379311
           ],
           "yaxis": "y"
          },
          {
           "alignmentgroup": "True",
           "hovertemplate": "direction=up<br>Local Time (GMT+8)=14<br>floor=%{x}<br>avgWait_weekday=%{y}<extra></extra>",
           "legendgroup": "up",
           "marker": {
            "color": "#EF553B"
           },
           "name": "up",
           "offsetgroup": "up",
           "orientation": "v",
           "showlegend": true,
           "textposition": "auto",
           "type": "bar",
           "x": [
            "1",
            "2",
            "4",
            "8",
            "9",
            "10",
            "11",
            "12",
            "13",
            "14",
            "B1"
           ],
           "xaxis": "x2",
           "y": [
            27.586139088729013,
            11.496521739130433,
            13.304135802469135,
            75.33247126436783,
            51.87114285714286,
            35.14842465753425,
            32.11096774193548,
            36.78787878787879,
            76.846875,
            93.59875,
            92.1629916897507
           ],
           "yaxis": "y2"
          }
         ],
         "name": "14"
        },
        {
         "data": [
          {
           "alignmentgroup": "True",
           "hovertemplate": "direction=down<br>Local Time (GMT+8)=15<br>floor=%{x}<br>avgWait_weekday=%{y}<extra></extra>",
           "legendgroup": "down",
           "marker": {
            "color": "#636efa"
           },
           "name": "down",
           "offsetgroup": "down",
           "orientation": "v",
           "showlegend": true,
           "textposition": "auto",
           "type": "bar",
           "x": [
            "1",
            "2",
            "4",
            "8",
            "9",
            "10",
            "11",
            "12",
            "13",
            "14",
            "15",
            "B1"
           ],
           "xaxis": "x",
           "y": [
            35.12908333333333,
            46.83315068493151,
            89.32922705314009,
            14.709550561797752,
            18.63558823529411,
            14.5545,
            26.057305194805192,
            49.777476340694,
            27.001470588235296,
            35.97754901960784,
            60.54217993079586,
            55.93400000000001
           ],
           "yaxis": "y"
          },
          {
           "alignmentgroup": "True",
           "hovertemplate": "direction=up<br>Local Time (GMT+8)=15<br>floor=%{x}<br>avgWait_weekday=%{y}<extra></extra>",
           "legendgroup": "up",
           "marker": {
            "color": "#EF553B"
           },
           "name": "up",
           "offsetgroup": "up",
           "orientation": "v",
           "showlegend": true,
           "textposition": "auto",
           "type": "bar",
           "x": [
            "1",
            "2",
            "4",
            "8",
            "9",
            "10",
            "11",
            "12",
            "13",
            "14",
            "B1"
           ],
           "xaxis": "x2",
           "y": [
            32.094860215053764,
            15.171553398058252,
            12.520454545454545,
            83.61222972972972,
            52.3363829787234,
            52.36333333333333,
            48.876607142857154,
            30.101470588235287,
            84.86970588235295,
            79.14769230769231,
            74.73814323607427
           ],
           "yaxis": "y2"
          }
         ],
         "name": "15"
        },
        {
         "data": [
          {
           "alignmentgroup": "True",
           "hovertemplate": "direction=down<br>Local Time (GMT+8)=16<br>floor=%{x}<br>avgWait_weekday=%{y}<extra></extra>",
           "legendgroup": "down",
           "marker": {
            "color": "#636efa"
           },
           "name": "down",
           "offsetgroup": "down",
           "orientation": "v",
           "showlegend": true,
           "textposition": "auto",
           "type": "bar",
           "x": [
            "1",
            "2",
            "4",
            "8",
            "9",
            "10",
            "11",
            "12",
            "13",
            "14",
            "15",
            "B1"
           ],
           "xaxis": "x",
           "y": [
            44.353529411764704,
            52.05177419354839,
            85.40559523809523,
            14.636734693877552,
            18.372464183381087,
            13.99688622754491,
            25.329093484419264,
            52.42342182890856,
            24.05681681681682,
            33.165524691358016,
            66.30420560747665,
            45.84290322580645
           ],
           "yaxis": "y"
          },
          {
           "alignmentgroup": "True",
           "hovertemplate": "direction=up<br>Local Time (GMT+8)=16<br>floor=%{x}<br>avgWait_weekday=%{y}<extra></extra>",
           "legendgroup": "up",
           "marker": {
            "color": "#EF553B"
           },
           "name": "up",
           "offsetgroup": "up",
           "orientation": "v",
           "showlegend": true,
           "textposition": "auto",
           "type": "bar",
           "x": [
            "1",
            "2",
            "4",
            "8",
            "9",
            "10",
            "11",
            "12",
            "13",
            "14",
            "B1"
           ],
           "xaxis": "x2",
           "y": [
            28.54580717488789,
            13.711196581196582,
            14.722684563758392,
            83.80812499999998,
            55.500921052631575,
            62.26836363636364,
            25.82731707317073,
            48.69043478260869,
            59.04435897435896,
            94.53285714285713,
            79.41941828254849
           ],
           "yaxis": "y2"
          }
         ],
         "name": "16"
        },
        {
         "data": [
          {
           "alignmentgroup": "True",
           "hovertemplate": "direction=down<br>Local Time (GMT+8)=17<br>floor=%{x}<br>avgWait_weekday=%{y}<extra></extra>",
           "legendgroup": "down",
           "marker": {
            "color": "#636efa"
           },
           "name": "down",
           "offsetgroup": "down",
           "orientation": "v",
           "showlegend": true,
           "textposition": "auto",
           "type": "bar",
           "x": [
            "1",
            "2",
            "4",
            "8",
            "9",
            "10",
            "11",
            "12",
            "13",
            "14",
            "15",
            "B1"
           ],
           "xaxis": "x",
           "y": [
            46.82776470588235,
            44.67828571428571,
            97.45184971098269,
            11.811308139534885,
            13.844570707070705,
            14.842663934426227,
            23.331680672268906,
            50.48618798955614,
            20.987897727272728,
            33.338846153846156,
            70.61633720930233,
            54.232
           ],
           "yaxis": "y"
          },
          {
           "alignmentgroup": "True",
           "hovertemplate": "direction=up<br>Local Time (GMT+8)=17<br>floor=%{x}<br>avgWait_weekday=%{y}<extra></extra>",
           "legendgroup": "up",
           "marker": {
            "color": "#EF553B"
           },
           "name": "up",
           "offsetgroup": "up",
           "orientation": "v",
           "showlegend": true,
           "textposition": "auto",
           "type": "bar",
           "x": [
            "1",
            "2",
            "4",
            "8",
            "9",
            "10",
            "11",
            "12",
            "13",
            "14",
            "B1"
           ],
           "xaxis": "x2",
           "y": [
            24.3322641509434,
            14.251408450704224,
            14.928931297709925,
            84.64689320388351,
            44.702790697674416,
            48.711388888888884,
            50.299230769230775,
            46.82045454545455,
            82.0448275862069,
            84.36933333333333,
            92.93457070707069
           ],
           "yaxis": "y2"
          }
         ],
         "name": "17"
        },
        {
         "data": [
          {
           "alignmentgroup": "True",
           "hovertemplate": "direction=down<br>Local Time (GMT+8)=18<br>floor=%{x}<br>avgWait_weekday=%{y}<extra></extra>",
           "legendgroup": "down",
           "marker": {
            "color": "#636efa"
           },
           "name": "down",
           "offsetgroup": "down",
           "orientation": "v",
           "showlegend": true,
           "textposition": "auto",
           "type": "bar",
           "x": [
            "1",
            "2",
            "4",
            "8",
            "9",
            "10",
            "11",
            "12",
            "13",
            "14",
            "15",
            "B1"
           ],
           "xaxis": "x",
           "y": [
            61.505531914893616,
            57.8556,
            89.09142857142858,
            12.991310975609755,
            18.37563725490196,
            16.795,
            26.455043731778428,
            45.37758904109589,
            22.985,
            41.4958908045977,
            58.19761744966443,
            100.46166666666666
           ],
           "yaxis": "y"
          },
          {
           "alignmentgroup": "True",
           "hovertemplate": "direction=up<br>Local Time (GMT+8)=18<br>floor=%{x}<br>avgWait_weekday=%{y}<extra></extra>",
           "legendgroup": "up",
           "marker": {
            "color": "#EF553B"
           },
           "name": "up",
           "offsetgroup": "up",
           "orientation": "v",
           "showlegend": true,
           "textposition": "auto",
           "type": "bar",
           "x": [
            "1",
            "2",
            "4",
            "8",
            "9",
            "10",
            "11",
            "12",
            "13",
            "14",
            "B1"
           ],
           "xaxis": "x2",
           "y": [
            23.794084210526318,
            12.302083333333336,
            14.351470588235292,
            99.77336363636364,
            44.59400000000001,
            68.58333333333333,
            53.8275,
            49.334722222222226,
            72.56444444444443,
            87.23478260869565,
            87.20654462242564
           ],
           "yaxis": "y2"
          }
         ],
         "name": "18"
        },
        {
         "data": [
          {
           "alignmentgroup": "True",
           "hovertemplate": "direction=down<br>Local Time (GMT+8)=19<br>floor=%{x}<br>avgWait_weekday=%{y}<extra></extra>",
           "legendgroup": "down",
           "marker": {
            "color": "#636efa"
           },
           "name": "down",
           "offsetgroup": "down",
           "orientation": "v",
           "showlegend": true,
           "textposition": "auto",
           "type": "bar",
           "x": [
            "1",
            "2",
            "4",
            "8",
            "9",
            "10",
            "11",
            "12",
            "13",
            "14",
            "15",
            "B1"
           ],
           "xaxis": "x",
           "y": [
            48.871129032258075,
            74.378,
            83.73402061855668,
            17.76142405063291,
            20.80616901408451,
            15.729142857142856,
            26.038885630498534,
            38.650518134715036,
            26.006016260162607,
            39.230783132530114,
            50.102733564013846,
            51.323888888888895
           ],
           "yaxis": "y"
          },
          {
           "alignmentgroup": "True",
           "hovertemplate": "direction=up<br>Local Time (GMT+8)=19<br>floor=%{x}<br>avgWait_weekday=%{y}<extra></extra>",
           "legendgroup": "up",
           "marker": {
            "color": "#EF553B"
           },
           "name": "up",
           "offsetgroup": "up",
           "orientation": "v",
           "showlegend": true,
           "textposition": "auto",
           "type": "bar",
           "x": [
            "1",
            "2",
            "4",
            "8",
            "9",
            "10",
            "11",
            "12",
            "13",
            "14",
            "B1"
           ],
           "xaxis": "x2",
           "y": [
            31.74199630314233,
            17.055294117647062,
            16.432625,
            69.92509803921568,
            57.47833333333333,
            51.10333333333333,
            52.60466666666666,
            69.6376923076923,
            82.03526315789476,
            83.64823529411764,
            68.78420323325635
           ],
           "yaxis": "y2"
          }
         ],
         "name": "19"
        },
        {
         "data": [
          {
           "alignmentgroup": "True",
           "hovertemplate": "direction=down<br>Local Time (GMT+8)=20<br>floor=%{x}<br>avgWait_weekday=%{y}<extra></extra>",
           "legendgroup": "down",
           "marker": {
            "color": "#636efa"
           },
           "name": "down",
           "offsetgroup": "down",
           "orientation": "v",
           "showlegend": true,
           "textposition": "auto",
           "type": "bar",
           "x": [
            "1",
            "2",
            "4",
            "8",
            "9",
            "10",
            "11",
            "12",
            "13",
            "14",
            "15",
            "B1"
           ],
           "xaxis": "x",
           "y": [
            43.678125,
            34.214,
            70.7636170212766,
            15.351511627906977,
            22.444642857142853,
            17.67745098039216,
            27.065358255451713,
            39.15650704225352,
            28.977507418397625,
            36.40923875432526,
            46.76043137254902,
            24.575714285714287
           ],
           "yaxis": "y"
          },
          {
           "alignmentgroup": "True",
           "hovertemplate": "direction=up<br>Local Time (GMT+8)=20<br>floor=%{x}<br>avgWait_weekday=%{y}<extra></extra>",
           "legendgroup": "up",
           "marker": {
            "color": "#EF553B"
           },
           "name": "up",
           "offsetgroup": "up",
           "orientation": "v",
           "showlegend": true,
           "textposition": "auto",
           "type": "bar",
           "x": [
            "1",
            "2",
            "4",
            "8",
            "9",
            "10",
            "11",
            "12",
            "13",
            "14",
            "B1"
           ],
           "xaxis": "x2",
           "y": [
            33.71367834394904,
            18.465,
            15.437777777777779,
            59.70892307692308,
            65.39307692307692,
            65.08533333333334,
            72.06941176470589,
            35.44428571428572,
            67.08818181818182,
            78.35799999999998,
            50.439262086514
           ],
           "yaxis": "y2"
          }
         ],
         "name": "20"
        },
        {
         "data": [
          {
           "alignmentgroup": "True",
           "hovertemplate": "direction=down<br>Local Time (GMT+8)=21<br>floor=%{x}<br>avgWait_weekday=%{y}<extra></extra>",
           "legendgroup": "down",
           "marker": {
            "color": "#636efa"
           },
           "name": "down",
           "offsetgroup": "down",
           "orientation": "v",
           "showlegend": true,
           "textposition": "auto",
           "type": "bar",
           "x": [
            "1",
            "2",
            "4",
            "8",
            "9",
            "10",
            "11",
            "12",
            "13",
            "14",
            "15",
            "B1"
           ],
           "xaxis": "x",
           "y": [
            37.884,
            21.5075,
            44.39735294117647,
            19.587305936073054,
            20.8041447368421,
            22.28733333333333,
            23.931198501872657,
            29.71578125,
            26.785016722408024,
            30.962907488986783,
            37.76882096069868,
            49.82
           ],
           "yaxis": "y"
          },
          {
           "alignmentgroup": "True",
           "hovertemplate": "direction=up<br>Local Time (GMT+8)=21<br>floor=%{x}<br>avgWait_weekday=%{y}<extra></extra>",
           "legendgroup": "up",
           "marker": {
            "color": "#EF553B"
           },
           "name": "up",
           "offsetgroup": "up",
           "orientation": "v",
           "showlegend": true,
           "textposition": "auto",
           "type": "bar",
           "x": [
            "1",
            "2",
            "4",
            "8",
            "9",
            "10",
            "11",
            "12",
            "13",
            "14",
            "B1"
           ],
           "xaxis": "x2",
           "y": [
            27.089190600522194,
            3.5475000000000003,
            21.0684,
            48.505102040816325,
            23.931666666666665,
            43.389,
            54.39,
            33.04666666666667,
            36.9725,
            62.74833333333334,
            32.57666666666667
           ],
           "yaxis": "y2"
          }
         ],
         "name": "21"
        },
        {
         "data": [
          {
           "alignmentgroup": "True",
           "hovertemplate": "direction=down<br>Local Time (GMT+8)=22<br>floor=%{x}<br>avgWait_weekday=%{y}<extra></extra>",
           "legendgroup": "down",
           "marker": {
            "color": "#636efa"
           },
           "name": "down",
           "offsetgroup": "down",
           "orientation": "v",
           "showlegend": true,
           "textposition": "auto",
           "type": "bar",
           "x": [
            "1",
            "2",
            "4",
            "8",
            "9",
            "10",
            "11",
            "12",
            "13",
            "14",
            "15",
            "B1"
           ],
           "xaxis": "x",
           "y": [
            29.93148148148148,
            19.9725,
            36.78222222222222,
            18.158155339805823,
            24.228294117647057,
            18.536756756756755,
            22.104697986577182,
            25.53367346938775,
            23.95748502994012,
            24.406034482758628,
            27.359718309859158,
            21.23
           ],
           "yaxis": "y"
          },
          {
           "alignmentgroup": "True",
           "hovertemplate": "direction=up<br>Local Time (GMT+8)=22<br>floor=%{x}<br>avgWait_weekday=%{y}<extra></extra>",
           "legendgroup": "up",
           "marker": {
            "color": "#EF553B"
           },
           "name": "up",
           "offsetgroup": "up",
           "orientation": "v",
           "showlegend": true,
           "textposition": "auto",
           "type": "bar",
           "x": [
            "1",
            "2",
            "4",
            "8",
            "9",
            "10",
            "11",
            "12",
            "13",
            "14",
            "B1"
           ],
           "xaxis": "x2",
           "y": [
            19.17528936742934,
            18.661666666666665,
            17.434545454545454,
            26.33625,
            31.09,
            50.67,
            28.8,
            31.932631578947372,
            28.014285714285712,
            30.54,
            23.20926174496644
           ],
           "yaxis": "y2"
          }
         ],
         "name": "22"
        },
        {
         "data": [
          {
           "alignmentgroup": "True",
           "hovertemplate": "direction=down<br>Local Time (GMT+8)=23<br>floor=%{x}<br>avgWait_weekday=%{y}<extra></extra>",
           "legendgroup": "down",
           "marker": {
            "color": "#636efa"
           },
           "name": "down",
           "offsetgroup": "down",
           "orientation": "v",
           "showlegend": true,
           "textposition": "auto",
           "type": "bar",
           "x": [
            "1",
            "2",
            "4",
            "8",
            "9",
            "10",
            "11",
            "12",
            "13",
            "14",
            "15",
            "B1"
           ],
           "xaxis": "x",
           "y": [
            22.710555555555555,
            7.649999999999999,
            22.3025,
            21.074,
            20.155454545454546,
            9.753333333333332,
            20.09094117647059,
            23.41533898305084,
            17.634777777777778,
            22.080630630630626,
            23.973625,
            28.7
           ],
           "yaxis": "y"
          },
          {
           "alignmentgroup": "True",
           "hovertemplate": "direction=up<br>Local Time (GMT+8)=23<br>floor=%{x}<br>avgWait_weekday=%{y}<extra></extra>",
           "legendgroup": "up",
           "marker": {
            "color": "#EF553B"
           },
           "name": "up",
           "offsetgroup": "up",
           "orientation": "v",
           "showlegend": true,
           "textposition": "auto",
           "type": "bar",
           "x": [
            "1",
            "2",
            "4",
            "8",
            "9",
            "11",
            "12",
            "13",
            "14",
            "B1"
           ],
           "xaxis": "x2",
           "y": [
            14.320814159292036,
            7.325,
            16.716666666666665,
            29.025,
            20.545,
            38.41,
            29.735,
            12.03,
            12.585,
            17.86888888888889
           ],
           "yaxis": "y2"
          }
         ],
         "name": "23"
        }
       ],
       "layout": {
        "annotations": [
         {
          "font": {},
          "showarrow": false,
          "text": "direction=down",
          "x": 0.245,
          "xanchor": "center",
          "xref": "paper",
          "y": 1,
          "yanchor": "bottom",
          "yref": "paper"
         },
         {
          "font": {},
          "showarrow": false,
          "text": "direction=up",
          "x": 0.755,
          "xanchor": "center",
          "xref": "paper",
          "y": 1,
          "yanchor": "bottom",
          "yref": "paper"
         }
        ],
        "barmode": "relative",
        "legend": {
         "title": {
          "text": "direction"
         },
         "tracegroupgap": 0
        },
        "margin": {
         "t": 60
        },
        "sliders": [
         {
          "active": 0,
          "currentvalue": {
           "prefix": "Local Time (GMT+8)="
          },
          "len": 0.9,
          "pad": {
           "b": 10,
           "t": 60
          },
          "steps": [
           {
            "args": [
             [
              "0"
             ],
             {
              "frame": {
               "duration": 0,
               "redraw": true
              },
              "fromcurrent": true,
              "mode": "immediate",
              "transition": {
               "duration": 0,
               "easing": "linear"
              }
             }
            ],
            "label": "0",
            "method": "animate"
           },
           {
            "args": [
             [
              "1"
             ],
             {
              "frame": {
               "duration": 0,
               "redraw": true
              },
              "fromcurrent": true,
              "mode": "immediate",
              "transition": {
               "duration": 0,
               "easing": "linear"
              }
             }
            ],
            "label": "1",
            "method": "animate"
           },
           {
            "args": [
             [
              "2"
             ],
             {
              "frame": {
               "duration": 0,
               "redraw": true
              },
              "fromcurrent": true,
              "mode": "immediate",
              "transition": {
               "duration": 0,
               "easing": "linear"
              }
             }
            ],
            "label": "2",
            "method": "animate"
           },
           {
            "args": [
             [
              "3"
             ],
             {
              "frame": {
               "duration": 0,
               "redraw": true
              },
              "fromcurrent": true,
              "mode": "immediate",
              "transition": {
               "duration": 0,
               "easing": "linear"
              }
             }
            ],
            "label": "3",
            "method": "animate"
           },
           {
            "args": [
             [
              "4"
             ],
             {
              "frame": {
               "duration": 0,
               "redraw": true
              },
              "fromcurrent": true,
              "mode": "immediate",
              "transition": {
               "duration": 0,
               "easing": "linear"
              }
             }
            ],
            "label": "4",
            "method": "animate"
           },
           {
            "args": [
             [
              "5"
             ],
             {
              "frame": {
               "duration": 0,
               "redraw": true
              },
              "fromcurrent": true,
              "mode": "immediate",
              "transition": {
               "duration": 0,
               "easing": "linear"
              }
             }
            ],
            "label": "5",
            "method": "animate"
           },
           {
            "args": [
             [
              "6"
             ],
             {
              "frame": {
               "duration": 0,
               "redraw": true
              },
              "fromcurrent": true,
              "mode": "immediate",
              "transition": {
               "duration": 0,
               "easing": "linear"
              }
             }
            ],
            "label": "6",
            "method": "animate"
           },
           {
            "args": [
             [
              "7"
             ],
             {
              "frame": {
               "duration": 0,
               "redraw": true
              },
              "fromcurrent": true,
              "mode": "immediate",
              "transition": {
               "duration": 0,
               "easing": "linear"
              }
             }
            ],
            "label": "7",
            "method": "animate"
           },
           {
            "args": [
             [
              "8"
             ],
             {
              "frame": {
               "duration": 0,
               "redraw": true
              },
              "fromcurrent": true,
              "mode": "immediate",
              "transition": {
               "duration": 0,
               "easing": "linear"
              }
             }
            ],
            "label": "8",
            "method": "animate"
           },
           {
            "args": [
             [
              "9"
             ],
             {
              "frame": {
               "duration": 0,
               "redraw": true
              },
              "fromcurrent": true,
              "mode": "immediate",
              "transition": {
               "duration": 0,
               "easing": "linear"
              }
             }
            ],
            "label": "9",
            "method": "animate"
           },
           {
            "args": [
             [
              "10"
             ],
             {
              "frame": {
               "duration": 0,
               "redraw": true
              },
              "fromcurrent": true,
              "mode": "immediate",
              "transition": {
               "duration": 0,
               "easing": "linear"
              }
             }
            ],
            "label": "10",
            "method": "animate"
           },
           {
            "args": [
             [
              "11"
             ],
             {
              "frame": {
               "duration": 0,
               "redraw": true
              },
              "fromcurrent": true,
              "mode": "immediate",
              "transition": {
               "duration": 0,
               "easing": "linear"
              }
             }
            ],
            "label": "11",
            "method": "animate"
           },
           {
            "args": [
             [
              "12"
             ],
             {
              "frame": {
               "duration": 0,
               "redraw": true
              },
              "fromcurrent": true,
              "mode": "immediate",
              "transition": {
               "duration": 0,
               "easing": "linear"
              }
             }
            ],
            "label": "12",
            "method": "animate"
           },
           {
            "args": [
             [
              "13"
             ],
             {
              "frame": {
               "duration": 0,
               "redraw": true
              },
              "fromcurrent": true,
              "mode": "immediate",
              "transition": {
               "duration": 0,
               "easing": "linear"
              }
             }
            ],
            "label": "13",
            "method": "animate"
           },
           {
            "args": [
             [
              "14"
             ],
             {
              "frame": {
               "duration": 0,
               "redraw": true
              },
              "fromcurrent": true,
              "mode": "immediate",
              "transition": {
               "duration": 0,
               "easing": "linear"
              }
             }
            ],
            "label": "14",
            "method": "animate"
           },
           {
            "args": [
             [
              "15"
             ],
             {
              "frame": {
               "duration": 0,
               "redraw": true
              },
              "fromcurrent": true,
              "mode": "immediate",
              "transition": {
               "duration": 0,
               "easing": "linear"
              }
             }
            ],
            "label": "15",
            "method": "animate"
           },
           {
            "args": [
             [
              "16"
             ],
             {
              "frame": {
               "duration": 0,
               "redraw": true
              },
              "fromcurrent": true,
              "mode": "immediate",
              "transition": {
               "duration": 0,
               "easing": "linear"
              }
             }
            ],
            "label": "16",
            "method": "animate"
           },
           {
            "args": [
             [
              "17"
             ],
             {
              "frame": {
               "duration": 0,
               "redraw": true
              },
              "fromcurrent": true,
              "mode": "immediate",
              "transition": {
               "duration": 0,
               "easing": "linear"
              }
             }
            ],
            "label": "17",
            "method": "animate"
           },
           {
            "args": [
             [
              "18"
             ],
             {
              "frame": {
               "duration": 0,
               "redraw": true
              },
              "fromcurrent": true,
              "mode": "immediate",
              "transition": {
               "duration": 0,
               "easing": "linear"
              }
             }
            ],
            "label": "18",
            "method": "animate"
           },
           {
            "args": [
             [
              "19"
             ],
             {
              "frame": {
               "duration": 0,
               "redraw": true
              },
              "fromcurrent": true,
              "mode": "immediate",
              "transition": {
               "duration": 0,
               "easing": "linear"
              }
             }
            ],
            "label": "19",
            "method": "animate"
           },
           {
            "args": [
             [
              "20"
             ],
             {
              "frame": {
               "duration": 0,
               "redraw": true
              },
              "fromcurrent": true,
              "mode": "immediate",
              "transition": {
               "duration": 0,
               "easing": "linear"
              }
             }
            ],
            "label": "20",
            "method": "animate"
           },
           {
            "args": [
             [
              "21"
             ],
             {
              "frame": {
               "duration": 0,
               "redraw": true
              },
              "fromcurrent": true,
              "mode": "immediate",
              "transition": {
               "duration": 0,
               "easing": "linear"
              }
             }
            ],
            "label": "21",
            "method": "animate"
           },
           {
            "args": [
             [
              "22"
             ],
             {
              "frame": {
               "duration": 0,
               "redraw": true
              },
              "fromcurrent": true,
              "mode": "immediate",
              "transition": {
               "duration": 0,
               "easing": "linear"
              }
             }
            ],
            "label": "22",
            "method": "animate"
           },
           {
            "args": [
             [
              "23"
             ],
             {
              "frame": {
               "duration": 0,
               "redraw": true
              },
              "fromcurrent": true,
              "mode": "immediate",
              "transition": {
               "duration": 0,
               "easing": "linear"
              }
             }
            ],
            "label": "23",
            "method": "animate"
           }
          ],
          "x": 0.1,
          "xanchor": "left",
          "y": 0,
          "yanchor": "top"
         }
        ],
        "template": {
         "data": {
          "bar": [
           {
            "error_x": {
             "color": "#2a3f5f"
            },
            "error_y": {
             "color": "#2a3f5f"
            },
            "marker": {
             "line": {
              "color": "#E5ECF6",
              "width": 0.5
             }
            },
            "type": "bar"
           }
          ],
          "barpolar": [
           {
            "marker": {
             "line": {
              "color": "#E5ECF6",
              "width": 0.5
             }
            },
            "type": "barpolar"
           }
          ],
          "carpet": [
           {
            "aaxis": {
             "endlinecolor": "#2a3f5f",
             "gridcolor": "white",
             "linecolor": "white",
             "minorgridcolor": "white",
             "startlinecolor": "#2a3f5f"
            },
            "baxis": {
             "endlinecolor": "#2a3f5f",
             "gridcolor": "white",
             "linecolor": "white",
             "minorgridcolor": "white",
             "startlinecolor": "#2a3f5f"
            },
            "type": "carpet"
           }
          ],
          "choropleth": [
           {
            "colorbar": {
             "outlinewidth": 0,
             "ticks": ""
            },
            "type": "choropleth"
           }
          ],
          "contour": [
           {
            "colorbar": {
             "outlinewidth": 0,
             "ticks": ""
            },
            "colorscale": [
             [
              0,
              "#0d0887"
             ],
             [
              0.1111111111111111,
              "#46039f"
             ],
             [
              0.2222222222222222,
              "#7201a8"
             ],
             [
              0.3333333333333333,
              "#9c179e"
             ],
             [
              0.4444444444444444,
              "#bd3786"
             ],
             [
              0.5555555555555556,
              "#d8576b"
             ],
             [
              0.6666666666666666,
              "#ed7953"
             ],
             [
              0.7777777777777778,
              "#fb9f3a"
             ],
             [
              0.8888888888888888,
              "#fdca26"
             ],
             [
              1,
              "#f0f921"
             ]
            ],
            "type": "contour"
           }
          ],
          "contourcarpet": [
           {
            "colorbar": {
             "outlinewidth": 0,
             "ticks": ""
            },
            "type": "contourcarpet"
           }
          ],
          "heatmap": [
           {
            "colorbar": {
             "outlinewidth": 0,
             "ticks": ""
            },
            "colorscale": [
             [
              0,
              "#0d0887"
             ],
             [
              0.1111111111111111,
              "#46039f"
             ],
             [
              0.2222222222222222,
              "#7201a8"
             ],
             [
              0.3333333333333333,
              "#9c179e"
             ],
             [
              0.4444444444444444,
              "#bd3786"
             ],
             [
              0.5555555555555556,
              "#d8576b"
             ],
             [
              0.6666666666666666,
              "#ed7953"
             ],
             [
              0.7777777777777778,
              "#fb9f3a"
             ],
             [
              0.8888888888888888,
              "#fdca26"
             ],
             [
              1,
              "#f0f921"
             ]
            ],
            "type": "heatmap"
           }
          ],
          "heatmapgl": [
           {
            "colorbar": {
             "outlinewidth": 0,
             "ticks": ""
            },
            "colorscale": [
             [
              0,
              "#0d0887"
             ],
             [
              0.1111111111111111,
              "#46039f"
             ],
             [
              0.2222222222222222,
              "#7201a8"
             ],
             [
              0.3333333333333333,
              "#9c179e"
             ],
             [
              0.4444444444444444,
              "#bd3786"
             ],
             [
              0.5555555555555556,
              "#d8576b"
             ],
             [
              0.6666666666666666,
              "#ed7953"
             ],
             [
              0.7777777777777778,
              "#fb9f3a"
             ],
             [
              0.8888888888888888,
              "#fdca26"
             ],
             [
              1,
              "#f0f921"
             ]
            ],
            "type": "heatmapgl"
           }
          ],
          "histogram": [
           {
            "marker": {
             "colorbar": {
              "outlinewidth": 0,
              "ticks": ""
             }
            },
            "type": "histogram"
           }
          ],
          "histogram2d": [
           {
            "colorbar": {
             "outlinewidth": 0,
             "ticks": ""
            },
            "colorscale": [
             [
              0,
              "#0d0887"
             ],
             [
              0.1111111111111111,
              "#46039f"
             ],
             [
              0.2222222222222222,
              "#7201a8"
             ],
             [
              0.3333333333333333,
              "#9c179e"
             ],
             [
              0.4444444444444444,
              "#bd3786"
             ],
             [
              0.5555555555555556,
              "#d8576b"
             ],
             [
              0.6666666666666666,
              "#ed7953"
             ],
             [
              0.7777777777777778,
              "#fb9f3a"
             ],
             [
              0.8888888888888888,
              "#fdca26"
             ],
             [
              1,
              "#f0f921"
             ]
            ],
            "type": "histogram2d"
           }
          ],
          "histogram2dcontour": [
           {
            "colorbar": {
             "outlinewidth": 0,
             "ticks": ""
            },
            "colorscale": [
             [
              0,
              "#0d0887"
             ],
             [
              0.1111111111111111,
              "#46039f"
             ],
             [
              0.2222222222222222,
              "#7201a8"
             ],
             [
              0.3333333333333333,
              "#9c179e"
             ],
             [
              0.4444444444444444,
              "#bd3786"
             ],
             [
              0.5555555555555556,
              "#d8576b"
             ],
             [
              0.6666666666666666,
              "#ed7953"
             ],
             [
              0.7777777777777778,
              "#fb9f3a"
             ],
             [
              0.8888888888888888,
              "#fdca26"
             ],
             [
              1,
              "#f0f921"
             ]
            ],
            "type": "histogram2dcontour"
           }
          ],
          "mesh3d": [
           {
            "colorbar": {
             "outlinewidth": 0,
             "ticks": ""
            },
            "type": "mesh3d"
           }
          ],
          "parcoords": [
           {
            "line": {
             "colorbar": {
              "outlinewidth": 0,
              "ticks": ""
             }
            },
            "type": "parcoords"
           }
          ],
          "pie": [
           {
            "automargin": true,
            "type": "pie"
           }
          ],
          "scatter": [
           {
            "marker": {
             "colorbar": {
              "outlinewidth": 0,
              "ticks": ""
             }
            },
            "type": "scatter"
           }
          ],
          "scatter3d": [
           {
            "line": {
             "colorbar": {
              "outlinewidth": 0,
              "ticks": ""
             }
            },
            "marker": {
             "colorbar": {
              "outlinewidth": 0,
              "ticks": ""
             }
            },
            "type": "scatter3d"
           }
          ],
          "scattercarpet": [
           {
            "marker": {
             "colorbar": {
              "outlinewidth": 0,
              "ticks": ""
             }
            },
            "type": "scattercarpet"
           }
          ],
          "scattergeo": [
           {
            "marker": {
             "colorbar": {
              "outlinewidth": 0,
              "ticks": ""
             }
            },
            "type": "scattergeo"
           }
          ],
          "scattergl": [
           {
            "marker": {
             "colorbar": {
              "outlinewidth": 0,
              "ticks": ""
             }
            },
            "type": "scattergl"
           }
          ],
          "scattermapbox": [
           {
            "marker": {
             "colorbar": {
              "outlinewidth": 0,
              "ticks": ""
             }
            },
            "type": "scattermapbox"
           }
          ],
          "scatterpolar": [
           {
            "marker": {
             "colorbar": {
              "outlinewidth": 0,
              "ticks": ""
             }
            },
            "type": "scatterpolar"
           }
          ],
          "scatterpolargl": [
           {
            "marker": {
             "colorbar": {
              "outlinewidth": 0,
              "ticks": ""
             }
            },
            "type": "scatterpolargl"
           }
          ],
          "scatterternary": [
           {
            "marker": {
             "colorbar": {
              "outlinewidth": 0,
              "ticks": ""
             }
            },
            "type": "scatterternary"
           }
          ],
          "surface": [
           {
            "colorbar": {
             "outlinewidth": 0,
             "ticks": ""
            },
            "colorscale": [
             [
              0,
              "#0d0887"
             ],
             [
              0.1111111111111111,
              "#46039f"
             ],
             [
              0.2222222222222222,
              "#7201a8"
             ],
             [
              0.3333333333333333,
              "#9c179e"
             ],
             [
              0.4444444444444444,
              "#bd3786"
             ],
             [
              0.5555555555555556,
              "#d8576b"
             ],
             [
              0.6666666666666666,
              "#ed7953"
             ],
             [
              0.7777777777777778,
              "#fb9f3a"
             ],
             [
              0.8888888888888888,
              "#fdca26"
             ],
             [
              1,
              "#f0f921"
             ]
            ],
            "type": "surface"
           }
          ],
          "table": [
           {
            "cells": {
             "fill": {
              "color": "#EBF0F8"
             },
             "line": {
              "color": "white"
             }
            },
            "header": {
             "fill": {
              "color": "#C8D4E3"
             },
             "line": {
              "color": "white"
             }
            },
            "type": "table"
           }
          ]
         },
         "layout": {
          "annotationdefaults": {
           "arrowcolor": "#2a3f5f",
           "arrowhead": 0,
           "arrowwidth": 1
          },
          "coloraxis": {
           "colorbar": {
            "outlinewidth": 0,
            "ticks": ""
           }
          },
          "colorscale": {
           "diverging": [
            [
             0,
             "#8e0152"
            ],
            [
             0.1,
             "#c51b7d"
            ],
            [
             0.2,
             "#de77ae"
            ],
            [
             0.3,
             "#f1b6da"
            ],
            [
             0.4,
             "#fde0ef"
            ],
            [
             0.5,
             "#f7f7f7"
            ],
            [
             0.6,
             "#e6f5d0"
            ],
            [
             0.7,
             "#b8e186"
            ],
            [
             0.8,
             "#7fbc41"
            ],
            [
             0.9,
             "#4d9221"
            ],
            [
             1,
             "#276419"
            ]
           ],
           "sequential": [
            [
             0,
             "#0d0887"
            ],
            [
             0.1111111111111111,
             "#46039f"
            ],
            [
             0.2222222222222222,
             "#7201a8"
            ],
            [
             0.3333333333333333,
             "#9c179e"
            ],
            [
             0.4444444444444444,
             "#bd3786"
            ],
            [
             0.5555555555555556,
             "#d8576b"
            ],
            [
             0.6666666666666666,
             "#ed7953"
            ],
            [
             0.7777777777777778,
             "#fb9f3a"
            ],
            [
             0.8888888888888888,
             "#fdca26"
            ],
            [
             1,
             "#f0f921"
            ]
           ],
           "sequentialminus": [
            [
             0,
             "#0d0887"
            ],
            [
             0.1111111111111111,
             "#46039f"
            ],
            [
             0.2222222222222222,
             "#7201a8"
            ],
            [
             0.3333333333333333,
             "#9c179e"
            ],
            [
             0.4444444444444444,
             "#bd3786"
            ],
            [
             0.5555555555555556,
             "#d8576b"
            ],
            [
             0.6666666666666666,
             "#ed7953"
            ],
            [
             0.7777777777777778,
             "#fb9f3a"
            ],
            [
             0.8888888888888888,
             "#fdca26"
            ],
            [
             1,
             "#f0f921"
            ]
           ]
          },
          "colorway": [
           "#636efa",
           "#EF553B",
           "#00cc96",
           "#ab63fa",
           "#FFA15A",
           "#19d3f3",
           "#FF6692",
           "#B6E880",
           "#FF97FF",
           "#FECB52"
          ],
          "font": {
           "color": "#2a3f5f"
          },
          "geo": {
           "bgcolor": "white",
           "lakecolor": "white",
           "landcolor": "#E5ECF6",
           "showlakes": true,
           "showland": true,
           "subunitcolor": "white"
          },
          "hoverlabel": {
           "align": "left"
          },
          "hovermode": "closest",
          "mapbox": {
           "style": "light"
          },
          "paper_bgcolor": "white",
          "plot_bgcolor": "#E5ECF6",
          "polar": {
           "angularaxis": {
            "gridcolor": "white",
            "linecolor": "white",
            "ticks": ""
           },
           "bgcolor": "#E5ECF6",
           "radialaxis": {
            "gridcolor": "white",
            "linecolor": "white",
            "ticks": ""
           }
          },
          "scene": {
           "xaxis": {
            "backgroundcolor": "#E5ECF6",
            "gridcolor": "white",
            "gridwidth": 2,
            "linecolor": "white",
            "showbackground": true,
            "ticks": "",
            "zerolinecolor": "white"
           },
           "yaxis": {
            "backgroundcolor": "#E5ECF6",
            "gridcolor": "white",
            "gridwidth": 2,
            "linecolor": "white",
            "showbackground": true,
            "ticks": "",
            "zerolinecolor": "white"
           },
           "zaxis": {
            "backgroundcolor": "#E5ECF6",
            "gridcolor": "white",
            "gridwidth": 2,
            "linecolor": "white",
            "showbackground": true,
            "ticks": "",
            "zerolinecolor": "white"
           }
          },
          "shapedefaults": {
           "line": {
            "color": "#2a3f5f"
           }
          },
          "ternary": {
           "aaxis": {
            "gridcolor": "white",
            "linecolor": "white",
            "ticks": ""
           },
           "baxis": {
            "gridcolor": "white",
            "linecolor": "white",
            "ticks": ""
           },
           "bgcolor": "#E5ECF6",
           "caxis": {
            "gridcolor": "white",
            "linecolor": "white",
            "ticks": ""
           }
          },
          "title": {
           "x": 0.05
          },
          "xaxis": {
           "automargin": true,
           "gridcolor": "white",
           "linecolor": "white",
           "ticks": "",
           "title": {
            "standoff": 15
           },
           "zerolinecolor": "white",
           "zerolinewidth": 2
          },
          "yaxis": {
           "automargin": true,
           "gridcolor": "white",
           "linecolor": "white",
           "ticks": "",
           "title": {
            "standoff": 15
           },
           "zerolinecolor": "white",
           "zerolinewidth": 2
          }
         }
        },
        "title": {
         "text": "Average waiting time of Elevator Calls by Floor on weekday"
        },
        "updatemenus": [
         {
          "buttons": [
           {
            "args": [
             null,
             {
              "frame": {
               "duration": 500,
               "redraw": true
              },
              "fromcurrent": true,
              "mode": "immediate",
              "transition": {
               "duration": 500,
               "easing": "linear"
              }
             }
            ],
            "label": "&#9654;",
            "method": "animate"
           },
           {
            "args": [
             [
              null
             ],
             {
              "frame": {
               "duration": 0,
               "redraw": true
              },
              "fromcurrent": true,
              "mode": "immediate",
              "transition": {
               "duration": 0,
               "easing": "linear"
              }
             }
            ],
            "label": "&#9724;",
            "method": "animate"
           }
          ],
          "direction": "left",
          "pad": {
           "r": 10,
           "t": 70
          },
          "showactive": false,
          "type": "buttons",
          "x": 0.1,
          "xanchor": "right",
          "y": 0,
          "yanchor": "top"
         }
        ],
        "xaxis": {
         "anchor": "y",
         "categoryarray": [
          "1",
          "2",
          "3",
          "4",
          "5",
          "6",
          "7",
          "8",
          "9",
          "10",
          "11",
          "12",
          "13",
          "14",
          "15",
          "B1",
          "B2",
          "B3",
          "B4"
         ],
         "domain": [
          0,
          0.49
         ],
         "nticks": 19,
         "title": {
          "text": "floor"
         },
         "type": "category"
        },
        "xaxis2": {
         "anchor": "y2",
         "categoryarray": [
          "1",
          "2",
          "3",
          "4",
          "5",
          "6",
          "7",
          "8",
          "9",
          "10",
          "11",
          "12",
          "13",
          "14",
          "15",
          "B1",
          "B2",
          "B3",
          "B4"
         ],
         "domain": [
          0.51,
          1
         ],
         "matches": "x",
         "nticks": 19,
         "title": {
          "text": "floor"
         },
         "type": "category"
        },
        "yaxis": {
         "anchor": "x",
         "domain": [
          0,
          1
         ],
         "range": [
          0,
          200
         ],
         "title": {
          "text": "avgWait_weekday"
         }
        },
        "yaxis2": {
         "anchor": "x2",
         "domain": [
          0,
          1
         ],
         "matches": "y",
         "range": [
          0,
          200
         ],
         "showticklabels": false
        }
       }
      },
      "text/html": [
       "<div>\n",
       "        \n",
       "        \n",
       "            <div id=\"bb479fd4-adb0-402b-a52c-e745223e6bf7\" class=\"plotly-graph-div\" style=\"height:525px; width:100%;\"></div>\n",
       "            <script type=\"text/javascript\">\n",
       "                require([\"plotly\"], function(Plotly) {\n",
       "                    window.PLOTLYENV=window.PLOTLYENV || {};\n",
       "                    \n",
       "                if (document.getElementById(\"bb479fd4-adb0-402b-a52c-e745223e6bf7\")) {\n",
       "                    Plotly.newPlot(\n",
       "                        'bb479fd4-adb0-402b-a52c-e745223e6bf7',\n",
       "                        [{\"alignmentgroup\": \"True\", \"hovertemplate\": \"direction=down<br>Local Time (GMT+8)=0<br>floor=%{x}<br>avgWait_weekday=%{y}<extra></extra>\", \"legendgroup\": \"down\", \"marker\": {\"color\": \"#636efa\"}, \"name\": \"down\", \"offsetgroup\": \"down\", \"orientation\": \"v\", \"showlegend\": true, \"textposition\": \"auto\", \"type\": \"bar\", \"x\": [\"1\", \"2\", \"4\", \"8\", \"9\", \"10\", \"11\", \"12\", \"13\", \"14\", \"15\"], \"xaxis\": \"x\", \"y\": [9.37857142857143, 21.12, 24.979677419354843, 21.222631578947368, 18.990625, 14.925000000000002, 20.28977528089888, 22.89237623762377, 22.933177570093452, 25.19351648351649, 21.935842696629205], \"yaxis\": \"y\"}, {\"alignmentgroup\": \"True\", \"hovertemplate\": \"direction=up<br>Local Time (GMT+8)=0<br>floor=%{x}<br>avgWait_weekday=%{y}<extra></extra>\", \"legendgroup\": \"up\", \"marker\": {\"color\": \"#EF553B\"}, \"name\": \"up\", \"offsetgroup\": \"up\", \"orientation\": \"v\", \"showlegend\": true, \"textposition\": \"auto\", \"type\": \"bar\", \"x\": [\"1\", \"4\", \"8\", \"9\", \"10\", \"11\", \"12\", \"13\", \"14\", \"B1\"], \"xaxis\": \"x2\", \"y\": [9.164668989547039, 17.064285714285713, 21.055, 23.33, 21.74, 1.59, 24.54666666666667, 42.393333333333345, 26.79666666666667, 9.73181818181818], \"yaxis\": \"y2\"}],\n",
       "                        {\"annotations\": [{\"font\": {}, \"showarrow\": false, \"text\": \"direction=down\", \"x\": 0.245, \"xanchor\": \"center\", \"xref\": \"paper\", \"y\": 1.0, \"yanchor\": \"bottom\", \"yref\": \"paper\"}, {\"font\": {}, \"showarrow\": false, \"text\": \"direction=up\", \"x\": 0.755, \"xanchor\": \"center\", \"xref\": \"paper\", \"y\": 1.0, \"yanchor\": \"bottom\", \"yref\": \"paper\"}], \"barmode\": \"relative\", \"legend\": {\"title\": {\"text\": \"direction\"}, \"tracegroupgap\": 0}, \"margin\": {\"t\": 60}, \"sliders\": [{\"active\": 0, \"currentvalue\": {\"prefix\": \"Local Time (GMT+8)=\"}, \"len\": 0.9, \"pad\": {\"b\": 10, \"t\": 60}, \"steps\": [{\"args\": [[\"0\"], {\"frame\": {\"duration\": 0, \"redraw\": true}, \"fromcurrent\": true, \"mode\": \"immediate\", \"transition\": {\"duration\": 0, \"easing\": \"linear\"}}], \"label\": \"0\", \"method\": \"animate\"}, {\"args\": [[\"1\"], {\"frame\": {\"duration\": 0, \"redraw\": true}, \"fromcurrent\": true, \"mode\": \"immediate\", \"transition\": {\"duration\": 0, \"easing\": \"linear\"}}], \"label\": \"1\", \"method\": \"animate\"}, {\"args\": [[\"2\"], {\"frame\": {\"duration\": 0, \"redraw\": true}, \"fromcurrent\": true, \"mode\": \"immediate\", \"transition\": {\"duration\": 0, \"easing\": \"linear\"}}], \"label\": \"2\", \"method\": \"animate\"}, {\"args\": [[\"3\"], {\"frame\": {\"duration\": 0, \"redraw\": true}, \"fromcurrent\": true, \"mode\": \"immediate\", \"transition\": {\"duration\": 0, \"easing\": \"linear\"}}], \"label\": \"3\", \"method\": \"animate\"}, {\"args\": [[\"4\"], {\"frame\": {\"duration\": 0, \"redraw\": true}, \"fromcurrent\": true, \"mode\": \"immediate\", \"transition\": {\"duration\": 0, \"easing\": \"linear\"}}], \"label\": \"4\", \"method\": \"animate\"}, {\"args\": [[\"5\"], {\"frame\": {\"duration\": 0, \"redraw\": true}, \"fromcurrent\": true, \"mode\": \"immediate\", \"transition\": {\"duration\": 0, \"easing\": \"linear\"}}], \"label\": \"5\", \"method\": \"animate\"}, {\"args\": [[\"6\"], {\"frame\": {\"duration\": 0, \"redraw\": true}, \"fromcurrent\": true, \"mode\": \"immediate\", \"transition\": {\"duration\": 0, \"easing\": \"linear\"}}], \"label\": \"6\", \"method\": \"animate\"}, {\"args\": [[\"7\"], {\"frame\": {\"duration\": 0, \"redraw\": true}, \"fromcurrent\": true, \"mode\": \"immediate\", \"transition\": {\"duration\": 0, \"easing\": \"linear\"}}], \"label\": \"7\", \"method\": \"animate\"}, {\"args\": [[\"8\"], {\"frame\": {\"duration\": 0, \"redraw\": true}, \"fromcurrent\": true, \"mode\": \"immediate\", \"transition\": {\"duration\": 0, \"easing\": \"linear\"}}], \"label\": \"8\", \"method\": \"animate\"}, {\"args\": [[\"9\"], {\"frame\": {\"duration\": 0, \"redraw\": true}, \"fromcurrent\": true, \"mode\": \"immediate\", \"transition\": {\"duration\": 0, \"easing\": \"linear\"}}], \"label\": \"9\", \"method\": \"animate\"}, {\"args\": [[\"10\"], {\"frame\": {\"duration\": 0, \"redraw\": true}, \"fromcurrent\": true, \"mode\": \"immediate\", \"transition\": {\"duration\": 0, \"easing\": \"linear\"}}], \"label\": \"10\", \"method\": \"animate\"}, {\"args\": [[\"11\"], {\"frame\": {\"duration\": 0, \"redraw\": true}, \"fromcurrent\": true, \"mode\": \"immediate\", \"transition\": {\"duration\": 0, \"easing\": \"linear\"}}], \"label\": \"11\", \"method\": \"animate\"}, {\"args\": [[\"12\"], {\"frame\": {\"duration\": 0, \"redraw\": true}, \"fromcurrent\": true, \"mode\": \"immediate\", \"transition\": {\"duration\": 0, \"easing\": \"linear\"}}], \"label\": \"12\", \"method\": \"animate\"}, {\"args\": [[\"13\"], {\"frame\": {\"duration\": 0, \"redraw\": true}, \"fromcurrent\": true, \"mode\": \"immediate\", \"transition\": {\"duration\": 0, \"easing\": \"linear\"}}], \"label\": \"13\", \"method\": \"animate\"}, {\"args\": [[\"14\"], {\"frame\": {\"duration\": 0, \"redraw\": true}, \"fromcurrent\": true, \"mode\": \"immediate\", \"transition\": {\"duration\": 0, \"easing\": \"linear\"}}], \"label\": \"14\", \"method\": \"animate\"}, {\"args\": [[\"15\"], {\"frame\": {\"duration\": 0, \"redraw\": true}, \"fromcurrent\": true, \"mode\": \"immediate\", \"transition\": {\"duration\": 0, \"easing\": \"linear\"}}], \"label\": \"15\", \"method\": \"animate\"}, {\"args\": [[\"16\"], {\"frame\": {\"duration\": 0, \"redraw\": true}, \"fromcurrent\": true, \"mode\": \"immediate\", \"transition\": {\"duration\": 0, \"easing\": \"linear\"}}], \"label\": \"16\", \"method\": \"animate\"}, {\"args\": [[\"17\"], {\"frame\": {\"duration\": 0, \"redraw\": true}, \"fromcurrent\": true, \"mode\": \"immediate\", \"transition\": {\"duration\": 0, \"easing\": \"linear\"}}], \"label\": \"17\", \"method\": \"animate\"}, {\"args\": [[\"18\"], {\"frame\": {\"duration\": 0, \"redraw\": true}, \"fromcurrent\": true, \"mode\": \"immediate\", \"transition\": {\"duration\": 0, \"easing\": \"linear\"}}], \"label\": \"18\", \"method\": \"animate\"}, {\"args\": [[\"19\"], {\"frame\": {\"duration\": 0, \"redraw\": true}, \"fromcurrent\": true, \"mode\": \"immediate\", \"transition\": {\"duration\": 0, \"easing\": \"linear\"}}], \"label\": \"19\", \"method\": \"animate\"}, {\"args\": [[\"20\"], {\"frame\": {\"duration\": 0, \"redraw\": true}, \"fromcurrent\": true, \"mode\": \"immediate\", \"transition\": {\"duration\": 0, \"easing\": \"linear\"}}], \"label\": \"20\", \"method\": \"animate\"}, {\"args\": [[\"21\"], {\"frame\": {\"duration\": 0, \"redraw\": true}, \"fromcurrent\": true, \"mode\": \"immediate\", \"transition\": {\"duration\": 0, \"easing\": \"linear\"}}], \"label\": \"21\", \"method\": \"animate\"}, {\"args\": [[\"22\"], {\"frame\": {\"duration\": 0, \"redraw\": true}, \"fromcurrent\": true, \"mode\": \"immediate\", \"transition\": {\"duration\": 0, \"easing\": \"linear\"}}], \"label\": \"22\", \"method\": \"animate\"}, {\"args\": [[\"23\"], {\"frame\": {\"duration\": 0, \"redraw\": true}, \"fromcurrent\": true, \"mode\": \"immediate\", \"transition\": {\"duration\": 0, \"easing\": \"linear\"}}], \"label\": \"23\", \"method\": \"animate\"}], \"x\": 0.1, \"xanchor\": \"left\", \"y\": 0, \"yanchor\": \"top\"}], \"template\": {\"data\": {\"bar\": [{\"error_x\": {\"color\": \"#2a3f5f\"}, \"error_y\": {\"color\": \"#2a3f5f\"}, \"marker\": {\"line\": {\"color\": \"#E5ECF6\", \"width\": 0.5}}, \"type\": \"bar\"}], \"barpolar\": [{\"marker\": {\"line\": {\"color\": \"#E5ECF6\", \"width\": 0.5}}, \"type\": \"barpolar\"}], \"carpet\": [{\"aaxis\": {\"endlinecolor\": \"#2a3f5f\", \"gridcolor\": \"white\", \"linecolor\": \"white\", \"minorgridcolor\": \"white\", \"startlinecolor\": \"#2a3f5f\"}, \"baxis\": {\"endlinecolor\": \"#2a3f5f\", \"gridcolor\": \"white\", \"linecolor\": \"white\", \"minorgridcolor\": \"white\", \"startlinecolor\": \"#2a3f5f\"}, \"type\": \"carpet\"}], \"choropleth\": [{\"colorbar\": {\"outlinewidth\": 0, \"ticks\": \"\"}, \"type\": \"choropleth\"}], \"contour\": [{\"colorbar\": {\"outlinewidth\": 0, \"ticks\": \"\"}, \"colorscale\": [[0.0, \"#0d0887\"], [0.1111111111111111, \"#46039f\"], [0.2222222222222222, \"#7201a8\"], [0.3333333333333333, \"#9c179e\"], [0.4444444444444444, \"#bd3786\"], [0.5555555555555556, \"#d8576b\"], [0.6666666666666666, \"#ed7953\"], [0.7777777777777778, \"#fb9f3a\"], [0.8888888888888888, \"#fdca26\"], [1.0, \"#f0f921\"]], \"type\": \"contour\"}], \"contourcarpet\": [{\"colorbar\": {\"outlinewidth\": 0, \"ticks\": \"\"}, \"type\": \"contourcarpet\"}], \"heatmap\": [{\"colorbar\": {\"outlinewidth\": 0, \"ticks\": \"\"}, \"colorscale\": [[0.0, \"#0d0887\"], [0.1111111111111111, \"#46039f\"], [0.2222222222222222, \"#7201a8\"], [0.3333333333333333, \"#9c179e\"], [0.4444444444444444, \"#bd3786\"], [0.5555555555555556, \"#d8576b\"], [0.6666666666666666, \"#ed7953\"], [0.7777777777777778, \"#fb9f3a\"], [0.8888888888888888, \"#fdca26\"], [1.0, \"#f0f921\"]], \"type\": \"heatmap\"}], \"heatmapgl\": [{\"colorbar\": {\"outlinewidth\": 0, \"ticks\": \"\"}, \"colorscale\": [[0.0, \"#0d0887\"], [0.1111111111111111, \"#46039f\"], [0.2222222222222222, \"#7201a8\"], [0.3333333333333333, \"#9c179e\"], [0.4444444444444444, \"#bd3786\"], [0.5555555555555556, \"#d8576b\"], [0.6666666666666666, \"#ed7953\"], [0.7777777777777778, \"#fb9f3a\"], [0.8888888888888888, \"#fdca26\"], [1.0, \"#f0f921\"]], \"type\": \"heatmapgl\"}], \"histogram\": [{\"marker\": {\"colorbar\": {\"outlinewidth\": 0, \"ticks\": \"\"}}, \"type\": \"histogram\"}], \"histogram2d\": [{\"colorbar\": {\"outlinewidth\": 0, \"ticks\": \"\"}, \"colorscale\": [[0.0, \"#0d0887\"], [0.1111111111111111, \"#46039f\"], [0.2222222222222222, \"#7201a8\"], [0.3333333333333333, \"#9c179e\"], [0.4444444444444444, \"#bd3786\"], [0.5555555555555556, \"#d8576b\"], [0.6666666666666666, \"#ed7953\"], [0.7777777777777778, \"#fb9f3a\"], [0.8888888888888888, \"#fdca26\"], [1.0, \"#f0f921\"]], \"type\": \"histogram2d\"}], \"histogram2dcontour\": [{\"colorbar\": {\"outlinewidth\": 0, \"ticks\": \"\"}, \"colorscale\": [[0.0, \"#0d0887\"], [0.1111111111111111, \"#46039f\"], [0.2222222222222222, \"#7201a8\"], [0.3333333333333333, \"#9c179e\"], [0.4444444444444444, \"#bd3786\"], [0.5555555555555556, \"#d8576b\"], [0.6666666666666666, \"#ed7953\"], [0.7777777777777778, \"#fb9f3a\"], [0.8888888888888888, \"#fdca26\"], [1.0, \"#f0f921\"]], \"type\": \"histogram2dcontour\"}], \"mesh3d\": [{\"colorbar\": {\"outlinewidth\": 0, \"ticks\": \"\"}, \"type\": \"mesh3d\"}], \"parcoords\": [{\"line\": {\"colorbar\": {\"outlinewidth\": 0, \"ticks\": \"\"}}, \"type\": \"parcoords\"}], \"pie\": [{\"automargin\": true, \"type\": \"pie\"}], \"scatter\": [{\"marker\": {\"colorbar\": {\"outlinewidth\": 0, \"ticks\": \"\"}}, \"type\": \"scatter\"}], \"scatter3d\": [{\"line\": {\"colorbar\": {\"outlinewidth\": 0, \"ticks\": \"\"}}, \"marker\": {\"colorbar\": {\"outlinewidth\": 0, \"ticks\": \"\"}}, \"type\": \"scatter3d\"}], \"scattercarpet\": [{\"marker\": {\"colorbar\": {\"outlinewidth\": 0, \"ticks\": \"\"}}, \"type\": \"scattercarpet\"}], \"scattergeo\": [{\"marker\": {\"colorbar\": {\"outlinewidth\": 0, \"ticks\": \"\"}}, \"type\": \"scattergeo\"}], \"scattergl\": [{\"marker\": {\"colorbar\": {\"outlinewidth\": 0, \"ticks\": \"\"}}, \"type\": \"scattergl\"}], \"scattermapbox\": [{\"marker\": {\"colorbar\": {\"outlinewidth\": 0, \"ticks\": \"\"}}, \"type\": \"scattermapbox\"}], \"scatterpolar\": [{\"marker\": {\"colorbar\": {\"outlinewidth\": 0, \"ticks\": \"\"}}, \"type\": \"scatterpolar\"}], \"scatterpolargl\": [{\"marker\": {\"colorbar\": {\"outlinewidth\": 0, \"ticks\": \"\"}}, \"type\": \"scatterpolargl\"}], \"scatterternary\": [{\"marker\": {\"colorbar\": {\"outlinewidth\": 0, \"ticks\": \"\"}}, \"type\": \"scatterternary\"}], \"surface\": [{\"colorbar\": {\"outlinewidth\": 0, \"ticks\": \"\"}, \"colorscale\": [[0.0, \"#0d0887\"], [0.1111111111111111, \"#46039f\"], [0.2222222222222222, \"#7201a8\"], [0.3333333333333333, \"#9c179e\"], [0.4444444444444444, \"#bd3786\"], [0.5555555555555556, \"#d8576b\"], [0.6666666666666666, \"#ed7953\"], [0.7777777777777778, \"#fb9f3a\"], [0.8888888888888888, \"#fdca26\"], [1.0, \"#f0f921\"]], \"type\": \"surface\"}], \"table\": [{\"cells\": {\"fill\": {\"color\": \"#EBF0F8\"}, \"line\": {\"color\": \"white\"}}, \"header\": {\"fill\": {\"color\": \"#C8D4E3\"}, \"line\": {\"color\": \"white\"}}, \"type\": \"table\"}]}, \"layout\": {\"annotationdefaults\": {\"arrowcolor\": \"#2a3f5f\", \"arrowhead\": 0, \"arrowwidth\": 1}, \"coloraxis\": {\"colorbar\": {\"outlinewidth\": 0, \"ticks\": \"\"}}, \"colorscale\": {\"diverging\": [[0, \"#8e0152\"], [0.1, \"#c51b7d\"], [0.2, \"#de77ae\"], [0.3, \"#f1b6da\"], [0.4, \"#fde0ef\"], [0.5, \"#f7f7f7\"], [0.6, \"#e6f5d0\"], [0.7, \"#b8e186\"], [0.8, \"#7fbc41\"], [0.9, \"#4d9221\"], [1, \"#276419\"]], \"sequential\": [[0.0, \"#0d0887\"], [0.1111111111111111, \"#46039f\"], [0.2222222222222222, \"#7201a8\"], [0.3333333333333333, \"#9c179e\"], [0.4444444444444444, \"#bd3786\"], [0.5555555555555556, \"#d8576b\"], [0.6666666666666666, \"#ed7953\"], [0.7777777777777778, \"#fb9f3a\"], [0.8888888888888888, \"#fdca26\"], [1.0, \"#f0f921\"]], \"sequentialminus\": [[0.0, \"#0d0887\"], [0.1111111111111111, \"#46039f\"], [0.2222222222222222, \"#7201a8\"], [0.3333333333333333, \"#9c179e\"], [0.4444444444444444, \"#bd3786\"], [0.5555555555555556, \"#d8576b\"], [0.6666666666666666, \"#ed7953\"], [0.7777777777777778, \"#fb9f3a\"], [0.8888888888888888, \"#fdca26\"], [1.0, \"#f0f921\"]]}, \"colorway\": [\"#636efa\", \"#EF553B\", \"#00cc96\", \"#ab63fa\", \"#FFA15A\", \"#19d3f3\", \"#FF6692\", \"#B6E880\", \"#FF97FF\", \"#FECB52\"], \"font\": {\"color\": \"#2a3f5f\"}, \"geo\": {\"bgcolor\": \"white\", \"lakecolor\": \"white\", \"landcolor\": \"#E5ECF6\", \"showlakes\": true, \"showland\": true, \"subunitcolor\": \"white\"}, \"hoverlabel\": {\"align\": \"left\"}, \"hovermode\": \"closest\", \"mapbox\": {\"style\": \"light\"}, \"paper_bgcolor\": \"white\", \"plot_bgcolor\": \"#E5ECF6\", \"polar\": {\"angularaxis\": {\"gridcolor\": \"white\", \"linecolor\": \"white\", \"ticks\": \"\"}, \"bgcolor\": \"#E5ECF6\", \"radialaxis\": {\"gridcolor\": \"white\", \"linecolor\": \"white\", \"ticks\": \"\"}}, \"scene\": {\"xaxis\": {\"backgroundcolor\": \"#E5ECF6\", \"gridcolor\": \"white\", \"gridwidth\": 2, \"linecolor\": \"white\", \"showbackground\": true, \"ticks\": \"\", \"zerolinecolor\": \"white\"}, \"yaxis\": {\"backgroundcolor\": \"#E5ECF6\", \"gridcolor\": \"white\", \"gridwidth\": 2, \"linecolor\": \"white\", \"showbackground\": true, \"ticks\": \"\", \"zerolinecolor\": \"white\"}, \"zaxis\": {\"backgroundcolor\": \"#E5ECF6\", \"gridcolor\": \"white\", \"gridwidth\": 2, \"linecolor\": \"white\", \"showbackground\": true, \"ticks\": \"\", \"zerolinecolor\": \"white\"}}, \"shapedefaults\": {\"line\": {\"color\": \"#2a3f5f\"}}, \"ternary\": {\"aaxis\": {\"gridcolor\": \"white\", \"linecolor\": \"white\", \"ticks\": \"\"}, \"baxis\": {\"gridcolor\": \"white\", \"linecolor\": \"white\", \"ticks\": \"\"}, \"bgcolor\": \"#E5ECF6\", \"caxis\": {\"gridcolor\": \"white\", \"linecolor\": \"white\", \"ticks\": \"\"}}, \"title\": {\"x\": 0.05}, \"xaxis\": {\"automargin\": true, \"gridcolor\": \"white\", \"linecolor\": \"white\", \"ticks\": \"\", \"title\": {\"standoff\": 15}, \"zerolinecolor\": \"white\", \"zerolinewidth\": 2}, \"yaxis\": {\"automargin\": true, \"gridcolor\": \"white\", \"linecolor\": \"white\", \"ticks\": \"\", \"title\": {\"standoff\": 15}, \"zerolinecolor\": \"white\", \"zerolinewidth\": 2}}}, \"title\": {\"text\": \"Average waiting time of Elevator Calls by Floor on weekday\"}, \"updatemenus\": [{\"buttons\": [{\"args\": [null, {\"frame\": {\"duration\": 500, \"redraw\": true}, \"fromcurrent\": true, \"mode\": \"immediate\", \"transition\": {\"duration\": 500, \"easing\": \"linear\"}}], \"label\": \"&#9654;\", \"method\": \"animate\"}, {\"args\": [[null], {\"frame\": {\"duration\": 0, \"redraw\": true}, \"fromcurrent\": true, \"mode\": \"immediate\", \"transition\": {\"duration\": 0, \"easing\": \"linear\"}}], \"label\": \"&#9724;\", \"method\": \"animate\"}], \"direction\": \"left\", \"pad\": {\"r\": 10, \"t\": 70}, \"showactive\": false, \"type\": \"buttons\", \"x\": 0.1, \"xanchor\": \"right\", \"y\": 0, \"yanchor\": \"top\"}], \"xaxis\": {\"anchor\": \"y\", \"categoryarray\": [\"1\", \"2\", \"3\", \"4\", \"5\", \"6\", \"7\", \"8\", \"9\", \"10\", \"11\", \"12\", \"13\", \"14\", \"15\", \"B1\", \"B2\", \"B3\", \"B4\"], \"domain\": [0.0, 0.49], \"nticks\": 19, \"title\": {\"text\": \"floor\"}, \"type\": \"category\"}, \"xaxis2\": {\"anchor\": \"y2\", \"categoryarray\": [\"1\", \"2\", \"3\", \"4\", \"5\", \"6\", \"7\", \"8\", \"9\", \"10\", \"11\", \"12\", \"13\", \"14\", \"15\", \"B1\", \"B2\", \"B3\", \"B4\"], \"domain\": [0.51, 1.0], \"matches\": \"x\", \"nticks\": 19, \"title\": {\"text\": \"floor\"}, \"type\": \"category\"}, \"yaxis\": {\"anchor\": \"x\", \"domain\": [0.0, 1.0], \"range\": [0, 200], \"title\": {\"text\": \"avgWait_weekday\"}}, \"yaxis2\": {\"anchor\": \"x2\", \"domain\": [0.0, 1.0], \"matches\": \"y\", \"range\": [0, 200], \"showticklabels\": false}},\n",
       "                        {\"responsive\": true}\n",
       "                    ).then(function(){\n",
       "                            Plotly.addFrames('bb479fd4-adb0-402b-a52c-e745223e6bf7', [{\"data\": [{\"alignmentgroup\": \"True\", \"hovertemplate\": \"direction=down<br>Local Time (GMT+8)=0<br>floor=%{x}<br>avgWait_weekday=%{y}<extra></extra>\", \"legendgroup\": \"down\", \"marker\": {\"color\": \"#636efa\"}, \"name\": \"down\", \"offsetgroup\": \"down\", \"orientation\": \"v\", \"showlegend\": true, \"textposition\": \"auto\", \"x\": [\"1\", \"2\", \"4\", \"8\", \"9\", \"10\", \"11\", \"12\", \"13\", \"14\", \"15\"], \"xaxis\": \"x\", \"y\": [9.37857142857143, 21.12, 24.979677419354843, 21.222631578947368, 18.990625, 14.925000000000002, 20.28977528089888, 22.89237623762377, 22.933177570093452, 25.19351648351649, 21.935842696629205], \"yaxis\": \"y\", \"type\": \"bar\"}, {\"alignmentgroup\": \"True\", \"hovertemplate\": \"direction=up<br>Local Time (GMT+8)=0<br>floor=%{x}<br>avgWait_weekday=%{y}<extra></extra>\", \"legendgroup\": \"up\", \"marker\": {\"color\": \"#EF553B\"}, \"name\": \"up\", \"offsetgroup\": \"up\", \"orientation\": \"v\", \"showlegend\": true, \"textposition\": \"auto\", \"x\": [\"1\", \"4\", \"8\", \"9\", \"10\", \"11\", \"12\", \"13\", \"14\", \"B1\"], \"xaxis\": \"x2\", \"y\": [9.164668989547039, 17.064285714285713, 21.055, 23.33, 21.74, 1.59, 24.54666666666667, 42.393333333333345, 26.79666666666667, 9.73181818181818], \"yaxis\": \"y2\", \"type\": \"bar\"}], \"name\": \"0\"}, {\"data\": [{\"alignmentgroup\": \"True\", \"hovertemplate\": \"direction=down<br>Local Time (GMT+8)=1<br>floor=%{x}<br>avgWait_weekday=%{y}<extra></extra>\", \"legendgroup\": \"down\", \"marker\": {\"color\": \"#636efa\"}, \"name\": \"down\", \"offsetgroup\": \"down\", \"orientation\": \"v\", \"showlegend\": true, \"textposition\": \"auto\", \"x\": [\"1\", \"4\", \"8\", \"9\", \"10\", \"11\", \"12\", \"13\", \"14\", \"15\", \"B1\"], \"xaxis\": \"x\", \"y\": [9.708333333333334, 19.747857142857143, 17.219615384615384, 20.74921052631579, 20.385, 19.22636363636364, 21.458441558441557, 17.30625, 19.742465753424657, 28.14326530612245, 49.4], \"yaxis\": \"y\", \"type\": \"bar\"}, {\"alignmentgroup\": \"True\", \"hovertemplate\": \"direction=up<br>Local Time (GMT+8)=1<br>floor=%{x}<br>avgWait_weekday=%{y}<extra></extra>\", \"legendgroup\": \"up\", \"marker\": {\"color\": \"#EF553B\"}, \"name\": \"up\", \"offsetgroup\": \"up\", \"orientation\": \"v\", \"showlegend\": true, \"textposition\": \"auto\", \"x\": [\"1\", \"4\", \"8\", \"9\", \"10\", \"11\", \"12\", \"13\", \"14\", \"B1\"], \"xaxis\": \"x2\", \"y\": [8.071036269430053, 17.06, 16.89, 14.392, 29.87, 13.6, 9.975, 14.663333333333336, 22.95, 6.219600000000002], \"yaxis\": \"y2\", \"type\": \"bar\"}], \"name\": \"1\"}, {\"data\": [{\"alignmentgroup\": \"True\", \"hovertemplate\": \"direction=down<br>Local Time (GMT+8)=2<br>floor=%{x}<br>avgWait_weekday=%{y}<extra></extra>\", \"legendgroup\": \"down\", \"marker\": {\"color\": \"#636efa\"}, \"name\": \"down\", \"offsetgroup\": \"down\", \"orientation\": \"v\", \"showlegend\": true, \"textposition\": \"auto\", \"x\": [\"1\", \"4\", \"8\", \"9\", \"11\", \"12\", \"13\", \"14\", \"15\", \"B1\"], \"xaxis\": \"x\", \"y\": [26.242, 32.12428571428571, 18.504615384615384, 19.31913043478261, 19.9795, 20.12, 23.99, 22.716800000000006, 30.31523809523809, 15.09], \"yaxis\": \"y\", \"type\": \"bar\"}, {\"alignmentgroup\": \"True\", \"hovertemplate\": \"direction=up<br>Local Time (GMT+8)=2<br>floor=%{x}<br>avgWait_weekday=%{y}<extra></extra>\", \"legendgroup\": \"up\", \"marker\": {\"color\": \"#EF553B\"}, \"name\": \"up\", \"offsetgroup\": \"up\", \"orientation\": \"v\", \"showlegend\": true, \"textposition\": \"auto\", \"x\": [\"1\", \"4\", \"8\", \"9\", \"11\", \"B1\"], \"xaxis\": \"x2\", \"y\": [12.5278, 12.81, 43.28666666666667, 1.26, 22.61, 11.376], \"yaxis\": \"y2\", \"type\": \"bar\"}], \"name\": \"2\"}, {\"data\": [{\"alignmentgroup\": \"True\", \"hovertemplate\": \"direction=down<br>Local Time (GMT+8)=3<br>floor=%{x}<br>avgWait_weekday=%{y}<extra></extra>\", \"legendgroup\": \"down\", \"marker\": {\"color\": \"#636efa\"}, \"name\": \"down\", \"offsetgroup\": \"down\", \"orientation\": \"v\", \"showlegend\": true, \"textposition\": \"auto\", \"x\": [\"1\", \"2\", \"4\", \"8\", \"9\", \"10\", \"11\", \"12\", \"13\", \"14\", \"15\", \"B1\"], \"xaxis\": \"x\", \"y\": [6.81, 2.41, 14.01125, 20.33333333333333, 22.366666666666664, 9.8175, 15.944666666666668, 21.76090909090909, 13.91642857142857, 15.91125, 22.39454545454545, 1.59], \"yaxis\": \"y\", \"type\": \"bar\"}, {\"alignmentgroup\": \"True\", \"hovertemplate\": \"direction=up<br>Local Time (GMT+8)=3<br>floor=%{x}<br>avgWait_weekday=%{y}<extra></extra>\", \"legendgroup\": \"up\", \"marker\": {\"color\": \"#EF553B\"}, \"name\": \"up\", \"offsetgroup\": \"up\", \"orientation\": \"v\", \"showlegend\": true, \"textposition\": \"auto\", \"x\": [\"1\", \"4\", \"8\", \"10\", \"11\", \"12\", \"13\", \"B1\"], \"xaxis\": \"x2\", \"y\": [10.288984375, 20.133333333333333, 23.07, 2.39, 9.375, 8.69, 16.175, 5.855], \"yaxis\": \"y2\", \"type\": \"bar\"}], \"name\": \"3\"}, {\"data\": [{\"alignmentgroup\": \"True\", \"hovertemplate\": \"direction=down<br>Local Time (GMT+8)=4<br>floor=%{x}<br>avgWait_weekday=%{y}<extra></extra>\", \"legendgroup\": \"down\", \"marker\": {\"color\": \"#636efa\"}, \"name\": \"down\", \"offsetgroup\": \"down\", \"orientation\": \"v\", \"showlegend\": true, \"textposition\": \"auto\", \"x\": [\"1\", \"8\", \"9\", \"11\", \"12\", \"13\", \"14\", \"15\", \"B1\"], \"xaxis\": \"x\", \"y\": [10.595999999999998, 21.14428571428571, 18.133636363636363, 19.7775, 12.852105263157895, 17.57133333333333, 17.252857142857142, 18.506666666666668, 1.35], \"yaxis\": \"y\", \"type\": \"bar\"}, {\"alignmentgroup\": \"True\", \"hovertemplate\": \"direction=up<br>Local Time (GMT+8)=4<br>floor=%{x}<br>avgWait_weekday=%{y}<extra></extra>\", \"legendgroup\": \"up\", \"marker\": {\"color\": \"#EF553B\"}, \"name\": \"up\", \"offsetgroup\": \"up\", \"orientation\": \"v\", \"showlegend\": true, \"textposition\": \"auto\", \"x\": [\"1\", \"2\", \"4\", \"8\", \"14\", \"B1\"], \"xaxis\": \"x2\", \"y\": [8.551573033707866, 9.815, 11.21, 18.23, 19.65, 6.65875], \"yaxis\": \"y2\", \"type\": \"bar\"}], \"name\": \"4\"}, {\"data\": [{\"alignmentgroup\": \"True\", \"hovertemplate\": \"direction=down<br>Local Time (GMT+8)=5<br>floor=%{x}<br>avgWait_weekday=%{y}<extra></extra>\", \"legendgroup\": \"down\", \"marker\": {\"color\": \"#636efa\"}, \"name\": \"down\", \"offsetgroup\": \"down\", \"orientation\": \"v\", \"showlegend\": true, \"textposition\": \"auto\", \"x\": [\"1\", \"2\", \"8\", \"9\", \"10\", \"11\", \"12\", \"13\", \"14\", \"15\", \"B1\"], \"xaxis\": \"x\", \"y\": [5.3100000000000005, 11.75, 20.728571428571428, 21.636486486486486, 0.56, 18.132926829268293, 18.594444444444445, 22.271607142857146, 19.99289855072464, 18.057142857142857, 6.4766666666666675], \"yaxis\": \"y\", \"type\": \"bar\"}, {\"alignmentgroup\": \"True\", \"hovertemplate\": \"direction=up<br>Local Time (GMT+8)=5<br>floor=%{x}<br>avgWait_weekday=%{y}<extra></extra>\", \"legendgroup\": \"up\", \"marker\": {\"color\": \"#EF553B\"}, \"name\": \"up\", \"offsetgroup\": \"up\", \"orientation\": \"v\", \"showlegend\": true, \"textposition\": \"auto\", \"x\": [\"1\", \"4\", \"8\", \"9\", \"11\", \"12\", \"13\", \"14\", \"B1\"], \"xaxis\": \"x2\", \"y\": [9.02481865284974, 16.314999999999998, 22.29, 20.73, 20.6875, 19.04, 6.11, 22.885, 16.922307692307697], \"yaxis\": \"y2\", \"type\": \"bar\"}], \"name\": \"5\"}, {\"data\": [{\"alignmentgroup\": \"True\", \"hovertemplate\": \"direction=down<br>Local Time (GMT+8)=6<br>floor=%{x}<br>avgWait_weekday=%{y}<extra></extra>\", \"legendgroup\": \"down\", \"marker\": {\"color\": \"#636efa\"}, \"name\": \"down\", \"offsetgroup\": \"down\", \"orientation\": \"v\", \"showlegend\": true, \"textposition\": \"auto\", \"x\": [\"1\", \"2\", \"4\", \"8\", \"9\", \"10\", \"11\", \"12\", \"13\", \"14\", \"15\", \"B1\"], \"xaxis\": \"x\", \"y\": [30.61159420289855, 55.57285714285714, 48.61533333333333, 22.690291262135922, 26.370994475138122, 38.43, 30.35161016949152, 32.3171511627907, 31.28696132596685, 29.301526315789477, 31.853154362416106, 35.53100000000001], \"yaxis\": \"y\", \"type\": \"bar\"}, {\"alignmentgroup\": \"True\", \"hovertemplate\": \"direction=up<br>Local Time (GMT+8)=6<br>floor=%{x}<br>avgWait_weekday=%{y}<extra></extra>\", \"legendgroup\": \"up\", \"marker\": {\"color\": \"#EF553B\"}, \"name\": \"up\", \"offsetgroup\": \"up\", \"orientation\": \"v\", \"showlegend\": true, \"textposition\": \"auto\", \"x\": [\"1\", \"2\", \"4\", \"8\", \"9\", \"11\", \"12\", \"13\", \"14\", \"B1\"], \"xaxis\": \"x2\", \"y\": [20.864676753782668, 19.663333333333334, 19.2475, 38.86625, 63.42307692307693, 44.49, 34.489999999999995, 44.0075, 37.864285714285714, 29.658118811881188], \"yaxis\": \"y2\", \"type\": \"bar\"}], \"name\": \"6\"}, {\"data\": [{\"alignmentgroup\": \"True\", \"hovertemplate\": \"direction=down<br>Local Time (GMT+8)=7<br>floor=%{x}<br>avgWait_weekday=%{y}<extra></extra>\", \"legendgroup\": \"down\", \"marker\": {\"color\": \"#636efa\"}, \"name\": \"down\", \"offsetgroup\": \"down\", \"orientation\": \"v\", \"showlegend\": true, \"textposition\": \"auto\", \"x\": [\"1\", \"2\", \"4\", \"8\", \"9\", \"10\", \"11\", \"12\", \"13\", \"14\", \"15\", \"B1\"], \"xaxis\": \"x\", \"y\": [64.75900763358779, 56.83333333333334, 71.21490196078432, 21.890473933649286, 27.283880597014928, 27.2040625, 34.13450643776824, 44.90282868525896, 35.05127049180328, 41.67968627450981, 51.713951219512204, 49.82903225806453], \"yaxis\": \"y\", \"type\": \"bar\"}, {\"alignmentgroup\": \"True\", \"hovertemplate\": \"direction=up<br>Local Time (GMT+8)=7<br>floor=%{x}<br>avgWait_weekday=%{y}<extra></extra>\", \"legendgroup\": \"up\", \"marker\": {\"color\": \"#EF553B\"}, \"name\": \"up\", \"offsetgroup\": \"up\", \"orientation\": \"v\", \"showlegend\": true, \"textposition\": \"auto\", \"x\": [\"1\", \"2\", \"4\", \"8\", \"9\", \"10\", \"11\", \"12\", \"13\", \"14\", \"B1\"], \"xaxis\": \"x2\", \"y\": [25.834209677419352, 11.269000000000002, 15.472545454545456, 77.95829268292681, 62.690526315789484, 45.5275, 81.86928571428572, 60.18785714285714, 92.21692307692308, 69.51428571428572, 64.55537698412698], \"yaxis\": \"y2\", \"type\": \"bar\"}], \"name\": \"7\"}, {\"data\": [{\"alignmentgroup\": \"True\", \"hovertemplate\": \"direction=down<br>Local Time (GMT+8)=8<br>floor=%{x}<br>avgWait_weekday=%{y}<extra></extra>\", \"legendgroup\": \"down\", \"marker\": {\"color\": \"#636efa\"}, \"name\": \"down\", \"offsetgroup\": \"down\", \"orientation\": \"v\", \"showlegend\": true, \"textposition\": \"auto\", \"x\": [\"1\", \"2\", \"4\", \"8\", \"9\", \"10\", \"11\", \"12\", \"13\", \"14\", \"15\", \"B1\"], \"xaxis\": \"x\", \"y\": [57.68022988505746, 75.43162790697674, 94.17018181818182, 16.998652482269506, 20.485062893081764, 17.653492063492067, 28.310398671096355, 45.144035087719296, 28.808675496688746, 40.06931372549019, 58.47088235294117, 66.28333333333333], \"yaxis\": \"y\", \"type\": \"bar\"}, {\"alignmentgroup\": \"True\", \"hovertemplate\": \"direction=up<br>Local Time (GMT+8)=8<br>floor=%{x}<br>avgWait_weekday=%{y}<extra></extra>\", \"legendgroup\": \"up\", \"marker\": {\"color\": \"#EF553B\"}, \"name\": \"up\", \"offsetgroup\": \"up\", \"orientation\": \"v\", \"showlegend\": true, \"textposition\": \"auto\", \"x\": [\"1\", \"2\", \"4\", \"8\", \"9\", \"10\", \"11\", \"12\", \"13\", \"14\", \"B1\"], \"xaxis\": \"x2\", \"y\": [25.359718875502008, 12.885089285714288, 14.267191011235955, 69.92392, 52.99266666666667, 45.25766666666666, 55.63052631578947, 35.228235294117646, 85.80214285714284, 61.00600000000001, 72.66171764705881], \"yaxis\": \"y2\", \"type\": \"bar\"}], \"name\": \"8\"}, {\"data\": [{\"alignmentgroup\": \"True\", \"hovertemplate\": \"direction=down<br>Local Time (GMT+8)=9<br>floor=%{x}<br>avgWait_weekday=%{y}<extra></extra>\", \"legendgroup\": \"down\", \"marker\": {\"color\": \"#636efa\"}, \"name\": \"down\", \"offsetgroup\": \"down\", \"orientation\": \"v\", \"showlegend\": true, \"textposition\": \"auto\", \"x\": [\"1\", \"2\", \"4\", \"8\", \"9\", \"10\", \"11\", \"12\", \"13\", \"14\", \"15\", \"B1\"], \"xaxis\": \"x\", \"y\": [51.85513513513514, 62.1632876712329, 85.94744897959184, 14.533642172523965, 20.915701219512197, 18.80713043478261, 26.01223484848485, 45.078674698795176, 25.798928571428572, 37.7078, 67.44108552631579, 57.032068965517226], \"yaxis\": \"y\", \"type\": \"bar\"}, {\"alignmentgroup\": \"True\", \"hovertemplate\": \"direction=up<br>Local Time (GMT+8)=9<br>floor=%{x}<br>avgWait_weekday=%{y}<extra></extra>\", \"legendgroup\": \"up\", \"marker\": {\"color\": \"#EF553B\"}, \"name\": \"up\", \"offsetgroup\": \"up\", \"orientation\": \"v\", \"showlegend\": true, \"textposition\": \"auto\", \"x\": [\"1\", \"2\", \"4\", \"8\", \"9\", \"10\", \"11\", \"12\", \"13\", \"14\", \"B1\"], \"xaxis\": \"x2\", \"y\": [29.888060606060602, 14.114380952380955, 13.448431372549019, 84.69403846153847, 47.80979166666666, 60.947017543859644, 36.36151515151516, 46.93242424242424, 80.85529411764708, 95.68941176470587, 75.24890025575448], \"yaxis\": \"y2\", \"type\": \"bar\"}], \"name\": \"9\"}, {\"data\": [{\"alignmentgroup\": \"True\", \"hovertemplate\": \"direction=down<br>Local Time (GMT+8)=10<br>floor=%{x}<br>avgWait_weekday=%{y}<extra></extra>\", \"legendgroup\": \"down\", \"marker\": {\"color\": \"#636efa\"}, \"name\": \"down\", \"offsetgroup\": \"down\", \"orientation\": \"v\", \"showlegend\": true, \"textposition\": \"auto\", \"x\": [\"1\", \"2\", \"4\", \"8\", \"9\", \"10\", \"11\", \"12\", \"13\", \"14\", \"15\", \"B1\"], \"xaxis\": \"x\", \"y\": [43.8990977443609, 49.284285714285716, 90.6477118644068, 14.06243445692884, 17.32553459119497, 16.456040268456377, 24.8687987012987, 45.92576470588235, 30.939890109890108, 39.48445692883895, 67.70614173228347, 55.10704545454546], \"yaxis\": \"y\", \"type\": \"bar\"}, {\"alignmentgroup\": \"True\", \"hovertemplate\": \"direction=up<br>Local Time (GMT+8)=10<br>floor=%{x}<br>avgWait_weekday=%{y}<extra></extra>\", \"legendgroup\": \"up\", \"marker\": {\"color\": \"#EF553B\"}, \"name\": \"up\", \"offsetgroup\": \"up\", \"orientation\": \"v\", \"showlegend\": true, \"textposition\": \"auto\", \"x\": [\"1\", \"2\", \"4\", \"8\", \"9\", \"10\", \"11\", \"12\", \"13\", \"14\", \"B1\"], \"xaxis\": \"x2\", \"y\": [28.641800000000003, 13.24934065934066, 15.773828125, 76.7843046357616, 37.47375, 55.163291139240506, 33.123749999999994, 38.07521739130435, 53.267894736842095, 98.38083333333331, 82.43951008645534], \"yaxis\": \"y2\", \"type\": \"bar\"}], \"name\": \"10\"}, {\"data\": [{\"alignmentgroup\": \"True\", \"hovertemplate\": \"direction=down<br>Local Time (GMT+8)=11<br>floor=%{x}<br>avgWait_weekday=%{y}<extra></extra>\", \"legendgroup\": \"down\", \"marker\": {\"color\": \"#636efa\"}, \"name\": \"down\", \"offsetgroup\": \"down\", \"orientation\": \"v\", \"showlegend\": true, \"textposition\": \"auto\", \"x\": [\"1\", \"2\", \"4\", \"8\", \"9\", \"10\", \"11\", \"12\", \"13\", \"14\", \"15\", \"B1\"], \"xaxis\": \"x\", \"y\": [43.218934426229495, 33.03046875, 110.58026178010472, 13.628785714285712, 15.665386904761903, 14.527976878612714, 25.23207920792079, 56.635852090032145, 23.154355400696865, 33.833754266211606, 80.53881028938906, 42.86032258064515], \"yaxis\": \"y\", \"type\": \"bar\"}, {\"alignmentgroup\": \"True\", \"hovertemplate\": \"direction=up<br>Local Time (GMT+8)=11<br>floor=%{x}<br>avgWait_weekday=%{y}<extra></extra>\", \"legendgroup\": \"up\", \"marker\": {\"color\": \"#EF553B\"}, \"name\": \"up\", \"offsetgroup\": \"up\", \"orientation\": \"v\", \"showlegend\": true, \"textposition\": \"auto\", \"x\": [\"1\", \"2\", \"4\", \"8\", \"9\", \"10\", \"11\", \"12\", \"13\", \"14\", \"B1\"], \"xaxis\": \"x2\", \"y\": [23.414677002583982, 12.466792452830187, 13.725602836879432, 93.32466666666666, 43.03148936170212, 43.42728395061729, 46.10764705882352, 54.4725, 103.536, 105.61391304347826, 103.25052924791088], \"yaxis\": \"y2\", \"type\": \"bar\"}], \"name\": \"11\"}, {\"data\": [{\"alignmentgroup\": \"True\", \"hovertemplate\": \"direction=down<br>Local Time (GMT+8)=12<br>floor=%{x}<br>avgWait_weekday=%{y}<extra></extra>\", \"legendgroup\": \"down\", \"marker\": {\"color\": \"#636efa\"}, \"name\": \"down\", \"offsetgroup\": \"down\", \"orientation\": \"v\", \"showlegend\": true, \"textposition\": \"auto\", \"x\": [\"1\", \"2\", \"4\", \"8\", \"9\", \"10\", \"11\", \"12\", \"13\", \"14\", \"15\", \"B1\"], \"xaxis\": \"x\", \"y\": [39.74880341880342, 40.66952380952381, 106.00479069767441, 13.314731543624161, 15.89558988764045, 16.457666666666668, 23.987275641025644, 58.26958208955223, 21.762839879154075, 32.170450450450446, 74.32409375, 28.39660377358491], \"yaxis\": \"y\", \"type\": \"bar\"}, {\"alignmentgroup\": \"True\", \"hovertemplate\": \"direction=up<br>Local Time (GMT+8)=12<br>floor=%{x}<br>avgWait_weekday=%{y}<extra></extra>\", \"legendgroup\": \"up\", \"marker\": {\"color\": \"#EF553B\"}, \"name\": \"up\", \"offsetgroup\": \"up\", \"orientation\": \"v\", \"showlegend\": true, \"textposition\": \"auto\", \"x\": [\"1\", \"2\", \"4\", \"8\", \"9\", \"10\", \"11\", \"12\", \"13\", \"14\", \"B1\"], \"xaxis\": \"x2\", \"y\": [22.402623762376237, 10.842716049382718, 12.462045454545455, 93.6412408759124, 58.8, 64.0785294117647, 44.133421052631576, 70.15709677419355, 100.08521739130435, 85.31739130434784, 102.24617721518987], \"yaxis\": \"y2\", \"type\": \"bar\"}], \"name\": \"12\"}, {\"data\": [{\"alignmentgroup\": \"True\", \"hovertemplate\": \"direction=down<br>Local Time (GMT+8)=13<br>floor=%{x}<br>avgWait_weekday=%{y}<extra></extra>\", \"legendgroup\": \"down\", \"marker\": {\"color\": \"#636efa\"}, \"name\": \"down\", \"offsetgroup\": \"down\", \"orientation\": \"v\", \"showlegend\": true, \"textposition\": \"auto\", \"x\": [\"1\", \"2\", \"4\", \"8\", \"9\", \"10\", \"11\", \"12\", \"13\", \"14\", \"15\", \"B1\"], \"xaxis\": \"x\", \"y\": [54.59816993464053, 62.17583333333333, 93.03228758169935, 16.23679104477612, 17.23714285714286, 15.81373913043478, 30.64038834951457, 48.754933333333334, 24.42943333333333, 41.450415335463255, 63.44982578397212, 40.333666666666666], \"yaxis\": \"y\", \"type\": \"bar\"}, {\"alignmentgroup\": \"True\", \"hovertemplate\": \"direction=up<br>Local Time (GMT+8)=13<br>floor=%{x}<br>avgWait_weekday=%{y}<extra></extra>\", \"legendgroup\": \"up\", \"marker\": {\"color\": \"#EF553B\"}, \"name\": \"up\", \"offsetgroup\": \"up\", \"orientation\": \"v\", \"showlegend\": true, \"textposition\": \"auto\", \"x\": [\"1\", \"2\", \"4\", \"8\", \"9\", \"10\", \"11\", \"12\", \"13\", \"14\", \"B1\"], \"xaxis\": \"x2\", \"y\": [24.059929742388764, 11.415346534653466, 11.53758389261745, 100.53477707006368, 51.063508771929826, 49.33070175438597, 45.5304, 68.459, 113.0, 134.48624999999998, 93.13381909547738], \"yaxis\": \"y2\", \"type\": \"bar\"}], \"name\": \"13\"}, {\"data\": [{\"alignmentgroup\": \"True\", \"hovertemplate\": \"direction=down<br>Local Time (GMT+8)=14<br>floor=%{x}<br>avgWait_weekday=%{y}<extra></extra>\", \"legendgroup\": \"down\", \"marker\": {\"color\": \"#636efa\"}, \"name\": \"down\", \"offsetgroup\": \"down\", \"orientation\": \"v\", \"showlegend\": true, \"textposition\": \"auto\", \"x\": [\"1\", \"2\", \"4\", \"8\", \"9\", \"10\", \"11\", \"12\", \"13\", \"14\", \"15\", \"B1\"], \"xaxis\": \"x\", \"y\": [50.61556390977444, 60.09783783783784, 89.61132183908045, 15.646497890295358, 19.082392638036808, 14.894587155963302, 26.954630225080386, 51.10778501628665, 27.666323024054986, 41.74787456445994, 69.51138059701493, 39.03517241379311], \"yaxis\": \"y\", \"type\": \"bar\"}, {\"alignmentgroup\": \"True\", \"hovertemplate\": \"direction=up<br>Local Time (GMT+8)=14<br>floor=%{x}<br>avgWait_weekday=%{y}<extra></extra>\", \"legendgroup\": \"up\", \"marker\": {\"color\": \"#EF553B\"}, \"name\": \"up\", \"offsetgroup\": \"up\", \"orientation\": \"v\", \"showlegend\": true, \"textposition\": \"auto\", \"x\": [\"1\", \"2\", \"4\", \"8\", \"9\", \"10\", \"11\", \"12\", \"13\", \"14\", \"B1\"], \"xaxis\": \"x2\", \"y\": [27.586139088729013, 11.496521739130433, 13.304135802469135, 75.33247126436783, 51.87114285714286, 35.14842465753425, 32.11096774193548, 36.78787878787879, 76.846875, 93.59875, 92.1629916897507], \"yaxis\": \"y2\", \"type\": \"bar\"}], \"name\": \"14\"}, {\"data\": [{\"alignmentgroup\": \"True\", \"hovertemplate\": \"direction=down<br>Local Time (GMT+8)=15<br>floor=%{x}<br>avgWait_weekday=%{y}<extra></extra>\", \"legendgroup\": \"down\", \"marker\": {\"color\": \"#636efa\"}, \"name\": \"down\", \"offsetgroup\": \"down\", \"orientation\": \"v\", \"showlegend\": true, \"textposition\": \"auto\", \"x\": [\"1\", \"2\", \"4\", \"8\", \"9\", \"10\", \"11\", \"12\", \"13\", \"14\", \"15\", \"B1\"], \"xaxis\": \"x\", \"y\": [35.12908333333333, 46.83315068493151, 89.32922705314009, 14.709550561797752, 18.63558823529411, 14.5545, 26.057305194805192, 49.777476340694, 27.001470588235296, 35.97754901960784, 60.54217993079586, 55.93400000000001], \"yaxis\": \"y\", \"type\": \"bar\"}, {\"alignmentgroup\": \"True\", \"hovertemplate\": \"direction=up<br>Local Time (GMT+8)=15<br>floor=%{x}<br>avgWait_weekday=%{y}<extra></extra>\", \"legendgroup\": \"up\", \"marker\": {\"color\": \"#EF553B\"}, \"name\": \"up\", \"offsetgroup\": \"up\", \"orientation\": \"v\", \"showlegend\": true, \"textposition\": \"auto\", \"x\": [\"1\", \"2\", \"4\", \"8\", \"9\", \"10\", \"11\", \"12\", \"13\", \"14\", \"B1\"], \"xaxis\": \"x2\", \"y\": [32.094860215053764, 15.171553398058252, 12.520454545454545, 83.61222972972972, 52.3363829787234, 52.36333333333333, 48.876607142857154, 30.101470588235287, 84.86970588235295, 79.14769230769231, 74.73814323607427], \"yaxis\": \"y2\", \"type\": \"bar\"}], \"name\": \"15\"}, {\"data\": [{\"alignmentgroup\": \"True\", \"hovertemplate\": \"direction=down<br>Local Time (GMT+8)=16<br>floor=%{x}<br>avgWait_weekday=%{y}<extra></extra>\", \"legendgroup\": \"down\", \"marker\": {\"color\": \"#636efa\"}, \"name\": \"down\", \"offsetgroup\": \"down\", \"orientation\": \"v\", \"showlegend\": true, \"textposition\": \"auto\", \"x\": [\"1\", \"2\", \"4\", \"8\", \"9\", \"10\", \"11\", \"12\", \"13\", \"14\", \"15\", \"B1\"], \"xaxis\": \"x\", \"y\": [44.353529411764704, 52.05177419354839, 85.40559523809523, 14.636734693877552, 18.372464183381087, 13.99688622754491, 25.329093484419264, 52.42342182890856, 24.05681681681682, 33.165524691358016, 66.30420560747665, 45.84290322580645], \"yaxis\": \"y\", \"type\": \"bar\"}, {\"alignmentgroup\": \"True\", \"hovertemplate\": \"direction=up<br>Local Time (GMT+8)=16<br>floor=%{x}<br>avgWait_weekday=%{y}<extra></extra>\", \"legendgroup\": \"up\", \"marker\": {\"color\": \"#EF553B\"}, \"name\": \"up\", \"offsetgroup\": \"up\", \"orientation\": \"v\", \"showlegend\": true, \"textposition\": \"auto\", \"x\": [\"1\", \"2\", \"4\", \"8\", \"9\", \"10\", \"11\", \"12\", \"13\", \"14\", \"B1\"], \"xaxis\": \"x2\", \"y\": [28.54580717488789, 13.711196581196582, 14.722684563758392, 83.80812499999998, 55.500921052631575, 62.26836363636364, 25.82731707317073, 48.69043478260869, 59.04435897435896, 94.53285714285713, 79.41941828254849], \"yaxis\": \"y2\", \"type\": \"bar\"}], \"name\": \"16\"}, {\"data\": [{\"alignmentgroup\": \"True\", \"hovertemplate\": \"direction=down<br>Local Time (GMT+8)=17<br>floor=%{x}<br>avgWait_weekday=%{y}<extra></extra>\", \"legendgroup\": \"down\", \"marker\": {\"color\": \"#636efa\"}, \"name\": \"down\", \"offsetgroup\": \"down\", \"orientation\": \"v\", \"showlegend\": true, \"textposition\": \"auto\", \"x\": [\"1\", \"2\", \"4\", \"8\", \"9\", \"10\", \"11\", \"12\", \"13\", \"14\", \"15\", \"B1\"], \"xaxis\": \"x\", \"y\": [46.82776470588235, 44.67828571428571, 97.45184971098269, 11.811308139534885, 13.844570707070705, 14.842663934426227, 23.331680672268906, 50.48618798955614, 20.987897727272728, 33.338846153846156, 70.61633720930233, 54.232], \"yaxis\": \"y\", \"type\": \"bar\"}, {\"alignmentgroup\": \"True\", \"hovertemplate\": \"direction=up<br>Local Time (GMT+8)=17<br>floor=%{x}<br>avgWait_weekday=%{y}<extra></extra>\", \"legendgroup\": \"up\", \"marker\": {\"color\": \"#EF553B\"}, \"name\": \"up\", \"offsetgroup\": \"up\", \"orientation\": \"v\", \"showlegend\": true, \"textposition\": \"auto\", \"x\": [\"1\", \"2\", \"4\", \"8\", \"9\", \"10\", \"11\", \"12\", \"13\", \"14\", \"B1\"], \"xaxis\": \"x2\", \"y\": [24.3322641509434, 14.251408450704224, 14.928931297709925, 84.64689320388351, 44.702790697674416, 48.711388888888884, 50.299230769230775, 46.82045454545455, 82.0448275862069, 84.36933333333333, 92.93457070707069], \"yaxis\": \"y2\", \"type\": \"bar\"}], \"name\": \"17\"}, {\"data\": [{\"alignmentgroup\": \"True\", \"hovertemplate\": \"direction=down<br>Local Time (GMT+8)=18<br>floor=%{x}<br>avgWait_weekday=%{y}<extra></extra>\", \"legendgroup\": \"down\", \"marker\": {\"color\": \"#636efa\"}, \"name\": \"down\", \"offsetgroup\": \"down\", \"orientation\": \"v\", \"showlegend\": true, \"textposition\": \"auto\", \"x\": [\"1\", \"2\", \"4\", \"8\", \"9\", \"10\", \"11\", \"12\", \"13\", \"14\", \"15\", \"B1\"], \"xaxis\": \"x\", \"y\": [61.505531914893616, 57.8556, 89.09142857142858, 12.991310975609755, 18.37563725490196, 16.795, 26.455043731778428, 45.37758904109589, 22.985, 41.4958908045977, 58.19761744966443, 100.46166666666666], \"yaxis\": \"y\", \"type\": \"bar\"}, {\"alignmentgroup\": \"True\", \"hovertemplate\": \"direction=up<br>Local Time (GMT+8)=18<br>floor=%{x}<br>avgWait_weekday=%{y}<extra></extra>\", \"legendgroup\": \"up\", \"marker\": {\"color\": \"#EF553B\"}, \"name\": \"up\", \"offsetgroup\": \"up\", \"orientation\": \"v\", \"showlegend\": true, \"textposition\": \"auto\", \"x\": [\"1\", \"2\", \"4\", \"8\", \"9\", \"10\", \"11\", \"12\", \"13\", \"14\", \"B1\"], \"xaxis\": \"x2\", \"y\": [23.794084210526318, 12.302083333333336, 14.351470588235292, 99.77336363636364, 44.59400000000001, 68.58333333333333, 53.8275, 49.334722222222226, 72.56444444444443, 87.23478260869565, 87.20654462242564], \"yaxis\": \"y2\", \"type\": \"bar\"}], \"name\": \"18\"}, {\"data\": [{\"alignmentgroup\": \"True\", \"hovertemplate\": \"direction=down<br>Local Time (GMT+8)=19<br>floor=%{x}<br>avgWait_weekday=%{y}<extra></extra>\", \"legendgroup\": \"down\", \"marker\": {\"color\": \"#636efa\"}, \"name\": \"down\", \"offsetgroup\": \"down\", \"orientation\": \"v\", \"showlegend\": true, \"textposition\": \"auto\", \"x\": [\"1\", \"2\", \"4\", \"8\", \"9\", \"10\", \"11\", \"12\", \"13\", \"14\", \"15\", \"B1\"], \"xaxis\": \"x\", \"y\": [48.871129032258075, 74.378, 83.73402061855668, 17.76142405063291, 20.80616901408451, 15.729142857142856, 26.038885630498534, 38.650518134715036, 26.006016260162607, 39.230783132530114, 50.102733564013846, 51.323888888888895], \"yaxis\": \"y\", \"type\": \"bar\"}, {\"alignmentgroup\": \"True\", \"hovertemplate\": \"direction=up<br>Local Time (GMT+8)=19<br>floor=%{x}<br>avgWait_weekday=%{y}<extra></extra>\", \"legendgroup\": \"up\", \"marker\": {\"color\": \"#EF553B\"}, \"name\": \"up\", \"offsetgroup\": \"up\", \"orientation\": \"v\", \"showlegend\": true, \"textposition\": \"auto\", \"x\": [\"1\", \"2\", \"4\", \"8\", \"9\", \"10\", \"11\", \"12\", \"13\", \"14\", \"B1\"], \"xaxis\": \"x2\", \"y\": [31.74199630314233, 17.055294117647062, 16.432625, 69.92509803921568, 57.47833333333333, 51.10333333333333, 52.60466666666666, 69.6376923076923, 82.03526315789476, 83.64823529411764, 68.78420323325635], \"yaxis\": \"y2\", \"type\": \"bar\"}], \"name\": \"19\"}, {\"data\": [{\"alignmentgroup\": \"True\", \"hovertemplate\": \"direction=down<br>Local Time (GMT+8)=20<br>floor=%{x}<br>avgWait_weekday=%{y}<extra></extra>\", \"legendgroup\": \"down\", \"marker\": {\"color\": \"#636efa\"}, \"name\": \"down\", \"offsetgroup\": \"down\", \"orientation\": \"v\", \"showlegend\": true, \"textposition\": \"auto\", \"x\": [\"1\", \"2\", \"4\", \"8\", \"9\", \"10\", \"11\", \"12\", \"13\", \"14\", \"15\", \"B1\"], \"xaxis\": \"x\", \"y\": [43.678125, 34.214, 70.7636170212766, 15.351511627906977, 22.444642857142853, 17.67745098039216, 27.065358255451713, 39.15650704225352, 28.977507418397625, 36.40923875432526, 46.76043137254902, 24.575714285714287], \"yaxis\": \"y\", \"type\": \"bar\"}, {\"alignmentgroup\": \"True\", \"hovertemplate\": \"direction=up<br>Local Time (GMT+8)=20<br>floor=%{x}<br>avgWait_weekday=%{y}<extra></extra>\", \"legendgroup\": \"up\", \"marker\": {\"color\": \"#EF553B\"}, \"name\": \"up\", \"offsetgroup\": \"up\", \"orientation\": \"v\", \"showlegend\": true, \"textposition\": \"auto\", \"x\": [\"1\", \"2\", \"4\", \"8\", \"9\", \"10\", \"11\", \"12\", \"13\", \"14\", \"B1\"], \"xaxis\": \"x2\", \"y\": [33.71367834394904, 18.465, 15.437777777777779, 59.70892307692308, 65.39307692307692, 65.08533333333334, 72.06941176470589, 35.44428571428572, 67.08818181818182, 78.35799999999998, 50.439262086514], \"yaxis\": \"y2\", \"type\": \"bar\"}], \"name\": \"20\"}, {\"data\": [{\"alignmentgroup\": \"True\", \"hovertemplate\": \"direction=down<br>Local Time (GMT+8)=21<br>floor=%{x}<br>avgWait_weekday=%{y}<extra></extra>\", \"legendgroup\": \"down\", \"marker\": {\"color\": \"#636efa\"}, \"name\": \"down\", \"offsetgroup\": \"down\", \"orientation\": \"v\", \"showlegend\": true, \"textposition\": \"auto\", \"x\": [\"1\", \"2\", \"4\", \"8\", \"9\", \"10\", \"11\", \"12\", \"13\", \"14\", \"15\", \"B1\"], \"xaxis\": \"x\", \"y\": [37.884, 21.5075, 44.39735294117647, 19.587305936073054, 20.8041447368421, 22.28733333333333, 23.931198501872657, 29.71578125, 26.785016722408024, 30.962907488986783, 37.76882096069868, 49.82], \"yaxis\": \"y\", \"type\": \"bar\"}, {\"alignmentgroup\": \"True\", \"hovertemplate\": \"direction=up<br>Local Time (GMT+8)=21<br>floor=%{x}<br>avgWait_weekday=%{y}<extra></extra>\", \"legendgroup\": \"up\", \"marker\": {\"color\": \"#EF553B\"}, \"name\": \"up\", \"offsetgroup\": \"up\", \"orientation\": \"v\", \"showlegend\": true, \"textposition\": \"auto\", \"x\": [\"1\", \"2\", \"4\", \"8\", \"9\", \"10\", \"11\", \"12\", \"13\", \"14\", \"B1\"], \"xaxis\": \"x2\", \"y\": [27.089190600522194, 3.5475000000000003, 21.0684, 48.505102040816325, 23.931666666666665, 43.389, 54.39, 33.04666666666667, 36.9725, 62.74833333333334, 32.57666666666667], \"yaxis\": \"y2\", \"type\": \"bar\"}], \"name\": \"21\"}, {\"data\": [{\"alignmentgroup\": \"True\", \"hovertemplate\": \"direction=down<br>Local Time (GMT+8)=22<br>floor=%{x}<br>avgWait_weekday=%{y}<extra></extra>\", \"legendgroup\": \"down\", \"marker\": {\"color\": \"#636efa\"}, \"name\": \"down\", \"offsetgroup\": \"down\", \"orientation\": \"v\", \"showlegend\": true, \"textposition\": \"auto\", \"x\": [\"1\", \"2\", \"4\", \"8\", \"9\", \"10\", \"11\", \"12\", \"13\", \"14\", \"15\", \"B1\"], \"xaxis\": \"x\", \"y\": [29.93148148148148, 19.9725, 36.78222222222222, 18.158155339805823, 24.228294117647057, 18.536756756756755, 22.104697986577182, 25.53367346938775, 23.95748502994012, 24.406034482758628, 27.359718309859158, 21.23], \"yaxis\": \"y\", \"type\": \"bar\"}, {\"alignmentgroup\": \"True\", \"hovertemplate\": \"direction=up<br>Local Time (GMT+8)=22<br>floor=%{x}<br>avgWait_weekday=%{y}<extra></extra>\", \"legendgroup\": \"up\", \"marker\": {\"color\": \"#EF553B\"}, \"name\": \"up\", \"offsetgroup\": \"up\", \"orientation\": \"v\", \"showlegend\": true, \"textposition\": \"auto\", \"x\": [\"1\", \"2\", \"4\", \"8\", \"9\", \"10\", \"11\", \"12\", \"13\", \"14\", \"B1\"], \"xaxis\": \"x2\", \"y\": [19.17528936742934, 18.661666666666665, 17.434545454545454, 26.33625, 31.09, 50.67, 28.8, 31.932631578947372, 28.014285714285712, 30.54, 23.20926174496644], \"yaxis\": \"y2\", \"type\": \"bar\"}], \"name\": \"22\"}, {\"data\": [{\"alignmentgroup\": \"True\", \"hovertemplate\": \"direction=down<br>Local Time (GMT+8)=23<br>floor=%{x}<br>avgWait_weekday=%{y}<extra></extra>\", \"legendgroup\": \"down\", \"marker\": {\"color\": \"#636efa\"}, \"name\": \"down\", \"offsetgroup\": \"down\", \"orientation\": \"v\", \"showlegend\": true, \"textposition\": \"auto\", \"x\": [\"1\", \"2\", \"4\", \"8\", \"9\", \"10\", \"11\", \"12\", \"13\", \"14\", \"15\", \"B1\"], \"xaxis\": \"x\", \"y\": [22.710555555555555, 7.649999999999999, 22.3025, 21.074, 20.155454545454546, 9.753333333333332, 20.09094117647059, 23.41533898305084, 17.634777777777778, 22.080630630630626, 23.973625, 28.7], \"yaxis\": \"y\", \"type\": \"bar\"}, {\"alignmentgroup\": \"True\", \"hovertemplate\": \"direction=up<br>Local Time (GMT+8)=23<br>floor=%{x}<br>avgWait_weekday=%{y}<extra></extra>\", \"legendgroup\": \"up\", \"marker\": {\"color\": \"#EF553B\"}, \"name\": \"up\", \"offsetgroup\": \"up\", \"orientation\": \"v\", \"showlegend\": true, \"textposition\": \"auto\", \"x\": [\"1\", \"2\", \"4\", \"8\", \"9\", \"11\", \"12\", \"13\", \"14\", \"B1\"], \"xaxis\": \"x2\", \"y\": [14.320814159292036, 7.325, 16.716666666666665, 29.025, 20.545, 38.41, 29.735, 12.03, 12.585, 17.86888888888889], \"yaxis\": \"y2\", \"type\": \"bar\"}], \"name\": \"23\"}]);\n",
       "                        }).then(function(){\n",
       "                            \n",
       "var gd = document.getElementById('bb479fd4-adb0-402b-a52c-e745223e6bf7');\n",
       "var x = new MutationObserver(function (mutations, observer) {{\n",
       "        var display = window.getComputedStyle(gd).display;\n",
       "        if (!display || display === 'none') {{\n",
       "            console.log([gd, 'removed!']);\n",
       "            Plotly.purge(gd);\n",
       "            observer.disconnect();\n",
       "        }}\n",
       "}});\n",
       "\n",
       "// Listen for the removal of the full notebook cells\n",
       "var notebookContainer = gd.closest('#notebook-container');\n",
       "if (notebookContainer) {{\n",
       "    x.observe(notebookContainer, {childList: true});\n",
       "}}\n",
       "\n",
       "// Listen for the clearing of the current output cell\n",
       "var outputEl = gd.closest('.output');\n",
       "if (outputEl) {{\n",
       "    x.observe(outputEl, {childList: true});\n",
       "}}\n",
       "\n",
       "                        })\n",
       "                };\n",
       "                });\n",
       "            </script>\n",
       "        </div>"
      ]
     },
     "metadata": {},
     "output_type": "display_data"
    }
   ],
   "source": [
    "# floor_list = ['B4','B3', 'B2','B1','01', '02', '03', '04', '05', '06', '07', '08', '09', '10', '11','12', '13', '14', '15']\n",
    "\n",
    "df_s_weekday.floor.unique()\n",
    "\n",
    "fig = px.bar(data_frame=df_s_weekday, \n",
    "             \n",
    "             ## 這裡的data frame都先用 R aggregate過了，以節省運算時間\n",
    "             x = \"floor\", y = \"avgWait_weekday\",\n",
    "             \n",
    "             ## 以方向分兩張圖，並上色\n",
    "             facet_col=\"direction\",color=\"direction\",\n",
    "             \n",
    "             ## 自動生成slider\n",
    "             animation_frame=\"hour\",\n",
    "             \n",
    "             \n",
    "             labels={\"count\":\"avgWait_weekday\",\n",
    "                     \"hour\":\"Local Time (GMT+8)\"})\n",
    "\n",
    "# X axis\n",
    "fig.update_xaxes(nticks=len(floor_name), ##指定breaks的數量\n",
    "                 \n",
    "                 ## 手動將X的類別排序\n",
    "                 type=\"category\",\n",
    "                 categoryarray=floor_name)\n",
    "\n",
    "# Y axis\n",
    "fig.update_yaxes(range=[0, 200])\n",
    "\n",
    "# Layout\n",
    "fig.update_layout(title_text='Average waiting time of Elevator Calls by Floor on weekday')\n",
    "\n",
    "fig.show()"
   ]
  },
  {
   "cell_type": "code",
   "execution_count": 16,
   "metadata": {},
   "outputs": [
    {
     "data": {
      "application/vnd.plotly.v1+json": {
       "config": {
        "plotlyServerURL": "https://plot.ly"
       },
       "data": [
        {
         "alignmentgroup": "True",
         "hovertemplate": "direction=down<br>Local Time (GMT+8)=0<br>floor=%{x}<br>avgWait_weekend=%{y}<extra></extra>",
         "legendgroup": "down",
         "marker": {
          "color": "#636efa"
         },
         "name": "down",
         "offsetgroup": "down",
         "orientation": "v",
         "showlegend": true,
         "textposition": "auto",
         "type": "bar",
         "x": [
          "1",
          "4",
          "8",
          "9",
          "10",
          "11",
          "12",
          "13",
          "14",
          "15"
         ],
         "xaxis": "x",
         "y": [
          8.504999999999999,
          24.701818181818187,
          21.319090909090907,
          17.285,
          19.735,
          22.485294117647058,
          19.459696969696967,
          19.858611111111113,
          16.496363636363636,
          28.746923076923075
         ],
         "yaxis": "y"
        },
        {
         "alignmentgroup": "True",
         "hovertemplate": "direction=up<br>Local Time (GMT+8)=0<br>floor=%{x}<br>avgWait_weekend=%{y}<extra></extra>",
         "legendgroup": "up",
         "marker": {
          "color": "#EF553B"
         },
         "name": "up",
         "offsetgroup": "up",
         "orientation": "v",
         "showlegend": true,
         "textposition": "auto",
         "type": "bar",
         "x": [
          "1",
          "4",
          "8",
          "12",
          "B1"
         ],
         "xaxis": "x2",
         "y": [
          9.260576923076922,
          18.59,
          22.745,
          22.070000000000004,
          15.760000000000002
         ],
         "yaxis": "y2"
        }
       ],
       "frames": [
        {
         "data": [
          {
           "alignmentgroup": "True",
           "hovertemplate": "direction=down<br>Local Time (GMT+8)=0<br>floor=%{x}<br>avgWait_weekend=%{y}<extra></extra>",
           "legendgroup": "down",
           "marker": {
            "color": "#636efa"
           },
           "name": "down",
           "offsetgroup": "down",
           "orientation": "v",
           "showlegend": true,
           "textposition": "auto",
           "type": "bar",
           "x": [
            "1",
            "4",
            "8",
            "9",
            "10",
            "11",
            "12",
            "13",
            "14",
            "15"
           ],
           "xaxis": "x",
           "y": [
            8.504999999999999,
            24.701818181818187,
            21.319090909090907,
            17.285,
            19.735,
            22.485294117647058,
            19.459696969696967,
            19.858611111111113,
            16.496363636363636,
            28.746923076923075
           ],
           "yaxis": "y"
          },
          {
           "alignmentgroup": "True",
           "hovertemplate": "direction=up<br>Local Time (GMT+8)=0<br>floor=%{x}<br>avgWait_weekend=%{y}<extra></extra>",
           "legendgroup": "up",
           "marker": {
            "color": "#EF553B"
           },
           "name": "up",
           "offsetgroup": "up",
           "orientation": "v",
           "showlegend": true,
           "textposition": "auto",
           "type": "bar",
           "x": [
            "1",
            "4",
            "8",
            "12",
            "B1"
           ],
           "xaxis": "x2",
           "y": [
            9.260576923076922,
            18.59,
            22.745,
            22.070000000000004,
            15.760000000000002
           ],
           "yaxis": "y2"
          }
         ],
         "name": "0"
        },
        {
         "data": [
          {
           "alignmentgroup": "True",
           "hovertemplate": "direction=down<br>Local Time (GMT+8)=1<br>floor=%{x}<br>avgWait_weekend=%{y}<extra></extra>",
           "legendgroup": "down",
           "marker": {
            "color": "#636efa"
           },
           "name": "down",
           "offsetgroup": "down",
           "orientation": "v",
           "showlegend": true,
           "textposition": "auto",
           "type": "bar",
           "x": [
            "1",
            "4",
            "8",
            "9",
            "10",
            "11",
            "12",
            "13",
            "14",
            "15"
           ],
           "xaxis": "x",
           "y": [
            2.1925,
            27.90888888888889,
            25.00642857142857,
            15.017647058823528,
            21.53,
            13.908,
            18.031923076923075,
            22.6655,
            26.396666666666665,
            22.92833333333333
           ],
           "yaxis": "y"
          },
          {
           "alignmentgroup": "True",
           "hovertemplate": "direction=up<br>Local Time (GMT+8)=1<br>floor=%{x}<br>avgWait_weekend=%{y}<extra></extra>",
           "legendgroup": "up",
           "marker": {
            "color": "#EF553B"
           },
           "name": "up",
           "offsetgroup": "up",
           "orientation": "v",
           "showlegend": true,
           "textposition": "auto",
           "type": "bar",
           "x": [
            "1",
            "4",
            "8",
            "B1"
           ],
           "xaxis": "x2",
           "y": [
            6.564871794871794,
            22.845,
            11.876666666666667,
            4.3740000000000006
           ],
           "yaxis": "y2"
          }
         ],
         "name": "1"
        },
        {
         "data": [
          {
           "alignmentgroup": "True",
           "hovertemplate": "direction=down<br>Local Time (GMT+8)=2<br>floor=%{x}<br>avgWait_weekend=%{y}<extra></extra>",
           "legendgroup": "down",
           "marker": {
            "color": "#636efa"
           },
           "name": "down",
           "offsetgroup": "down",
           "orientation": "v",
           "showlegend": true,
           "textposition": "auto",
           "type": "bar",
           "x": [
            "1",
            "2",
            "4",
            "8",
            "9",
            "10",
            "11",
            "12",
            "13",
            "14",
            "15"
           ],
           "xaxis": "x",
           "y": [
            10.803333333333333,
            16.18,
            38.12000000000001,
            15.616666666666665,
            19.92058823529411,
            0.25,
            18.071,
            16.846153846153847,
            17.288,
            21.088888888888892,
            29.84666666666667
           ],
           "yaxis": "y"
          },
          {
           "alignmentgroup": "True",
           "hovertemplate": "direction=up<br>Local Time (GMT+8)=2<br>floor=%{x}<br>avgWait_weekend=%{y}<extra></extra>",
           "legendgroup": "up",
           "marker": {
            "color": "#EF553B"
           },
           "name": "up",
           "offsetgroup": "up",
           "orientation": "v",
           "showlegend": true,
           "textposition": "auto",
           "type": "bar",
           "x": [
            "1",
            "4",
            "B1"
           ],
           "xaxis": "x2",
           "y": [
            6.360888888888888,
            13.36,
            6.9620000000000015
           ],
           "yaxis": "y2"
          }
         ],
         "name": "2"
        },
        {
         "data": [
          {
           "alignmentgroup": "True",
           "hovertemplate": "direction=down<br>Local Time (GMT+8)=3<br>floor=%{x}<br>avgWait_weekend=%{y}<extra></extra>",
           "legendgroup": "down",
           "marker": {
            "color": "#636efa"
           },
           "name": "down",
           "offsetgroup": "down",
           "orientation": "v",
           "showlegend": true,
           "textposition": "auto",
           "type": "bar",
           "x": [
            "1",
            "4",
            "8",
            "9",
            "11",
            "12",
            "13",
            "14",
            "15"
           ],
           "xaxis": "x",
           "y": [
            3.433333333333333,
            24.855,
            24.29375,
            20.77833333333333,
            9.98923076923077,
            12.2175,
            23.188000000000002,
            17.286666666666665,
            9.34
           ],
           "yaxis": "y"
          },
          {
           "alignmentgroup": "True",
           "hovertemplate": "direction=up<br>Local Time (GMT+8)=3<br>floor=%{x}<br>avgWait_weekend=%{y}<extra></extra>",
           "legendgroup": "up",
           "marker": {
            "color": "#EF553B"
           },
           "name": "up",
           "offsetgroup": "up",
           "orientation": "v",
           "showlegend": true,
           "textposition": "auto",
           "type": "bar",
           "x": [
            "1",
            "B1"
           ],
           "xaxis": "x2",
           "y": [
            8.64102564102564,
            10.1275
           ],
           "yaxis": "y2"
          }
         ],
         "name": "3"
        },
        {
         "data": [
          {
           "alignmentgroup": "True",
           "hovertemplate": "direction=down<br>Local Time (GMT+8)=4<br>floor=%{x}<br>avgWait_weekend=%{y}<extra></extra>",
           "legendgroup": "down",
           "marker": {
            "color": "#636efa"
           },
           "name": "down",
           "offsetgroup": "down",
           "orientation": "v",
           "showlegend": true,
           "textposition": "auto",
           "type": "bar",
           "x": [
            "1",
            "2",
            "4",
            "8",
            "9",
            "11",
            "12",
            "13",
            "14",
            "15"
           ],
           "xaxis": "x",
           "y": [
            6.408,
            24.78,
            18.648333333333333,
            15.355,
            24.153846153846153,
            16.836666666666666,
            22.05857142857143,
            17.125,
            17.664285714285715,
            27.0925
           ],
           "yaxis": "y"
          },
          {
           "alignmentgroup": "True",
           "hovertemplate": "direction=up<br>Local Time (GMT+8)=4<br>floor=%{x}<br>avgWait_weekend=%{y}<extra></extra>",
           "legendgroup": "up",
           "marker": {
            "color": "#EF553B"
           },
           "name": "up",
           "offsetgroup": "up",
           "orientation": "v",
           "showlegend": true,
           "textposition": "auto",
           "type": "bar",
           "x": [
            "1",
            "2",
            "4",
            "B1"
           ],
           "xaxis": "x2",
           "y": [
            10.06125,
            5.44,
            28.7,
            8.245
           ],
           "yaxis": "y2"
          }
         ],
         "name": "4"
        },
        {
         "data": [
          {
           "alignmentgroup": "True",
           "hovertemplate": "direction=down<br>Local Time (GMT+8)=5<br>floor=%{x}<br>avgWait_weekend=%{y}<extra></extra>",
           "legendgroup": "down",
           "marker": {
            "color": "#636efa"
           },
           "name": "down",
           "offsetgroup": "down",
           "orientation": "v",
           "showlegend": true,
           "textposition": "auto",
           "type": "bar",
           "x": [
            "1",
            "2",
            "4",
            "8",
            "9",
            "10",
            "11",
            "12",
            "13",
            "14",
            "15",
            "B1"
           ],
           "xaxis": "x",
           "y": [
            14.952857142857145,
            16.54,
            25.975,
            20.775,
            15.202142857142857,
            0.76,
            20.439285714285713,
            22.68409090909091,
            19.58153846153846,
            21.476428571428574,
            15.96583333333333,
            53.95
           ],
           "yaxis": "y"
          },
          {
           "alignmentgroup": "True",
           "hovertemplate": "direction=up<br>Local Time (GMT+8)=5<br>floor=%{x}<br>avgWait_weekend=%{y}<extra></extra>",
           "legendgroup": "up",
           "marker": {
            "color": "#EF553B"
           },
           "name": "up",
           "offsetgroup": "up",
           "orientation": "v",
           "showlegend": true,
           "textposition": "auto",
           "type": "bar",
           "x": [
            "1",
            "4",
            "8",
            "9",
            "10",
            "11",
            "13",
            "14",
            "B1"
           ],
           "xaxis": "x2",
           "y": [
            10.305774647887324,
            15.43,
            12.73,
            26.97,
            1.56,
            17.45,
            25.805,
            23.975,
            9.844666666666667
           ],
           "yaxis": "y2"
          }
         ],
         "name": "5"
        },
        {
         "data": [
          {
           "alignmentgroup": "True",
           "hovertemplate": "direction=down<br>Local Time (GMT+8)=6<br>floor=%{x}<br>avgWait_weekend=%{y}<extra></extra>",
           "legendgroup": "down",
           "marker": {
            "color": "#636efa"
           },
           "name": "down",
           "offsetgroup": "down",
           "orientation": "v",
           "showlegend": true,
           "textposition": "auto",
           "type": "bar",
           "x": [
            "1",
            "2",
            "4",
            "8",
            "9",
            "11",
            "12",
            "13",
            "14",
            "15",
            "B1"
           ],
           "xaxis": "x",
           "y": [
            31.16500000000001,
            10.89,
            67.745,
            21.783428571428576,
            25.10967741935484,
            28.71163636363636,
            34.2963768115942,
            23.085416666666664,
            25.548840579710145,
            34.661944444444444,
            32.322
           ],
           "yaxis": "y"
          },
          {
           "alignmentgroup": "True",
           "hovertemplate": "direction=up<br>Local Time (GMT+8)=6<br>floor=%{x}<br>avgWait_weekend=%{y}<extra></extra>",
           "legendgroup": "up",
           "marker": {
            "color": "#EF553B"
           },
           "name": "up",
           "offsetgroup": "up",
           "orientation": "v",
           "showlegend": true,
           "textposition": "auto",
           "type": "bar",
           "x": [
            "1",
            "4",
            "8",
            "9",
            "10",
            "11",
            "12",
            "13",
            "14",
            "B1"
           ],
           "xaxis": "x2",
           "y": [
            22.1937890625,
            13.475,
            23.955,
            21.805999999999997,
            13.83,
            52.19333333333333,
            47.12333333333334,
            14.383333333333333,
            27.034,
            28.860238095238103
           ],
           "yaxis": "y2"
          }
         ],
         "name": "6"
        },
        {
         "data": [
          {
           "alignmentgroup": "True",
           "hovertemplate": "direction=down<br>Local Time (GMT+8)=7<br>floor=%{x}<br>avgWait_weekend=%{y}<extra></extra>",
           "legendgroup": "down",
           "marker": {
            "color": "#636efa"
           },
           "name": "down",
           "offsetgroup": "down",
           "orientation": "v",
           "showlegend": true,
           "textposition": "auto",
           "type": "bar",
           "x": [
            "1",
            "2",
            "4",
            "8",
            "9",
            "10",
            "11",
            "12",
            "13",
            "14",
            "15",
            "B1"
           ],
           "xaxis": "x",
           "y": [
            66.7595,
            32.88333333333333,
            106.0942857142857,
            21.132266666666666,
            27.65943181818182,
            9.86285714285714,
            29.092650602409638,
            49.17707070707071,
            41.20500000000001,
            37.627692307692314,
            43.0436,
            29.18875
           ],
           "yaxis": "y"
          },
          {
           "alignmentgroup": "True",
           "hovertemplate": "direction=up<br>Local Time (GMT+8)=7<br>floor=%{x}<br>avgWait_weekend=%{y}<extra></extra>",
           "legendgroup": "up",
           "marker": {
            "color": "#EF553B"
           },
           "name": "up",
           "offsetgroup": "up",
           "orientation": "v",
           "showlegend": true,
           "textposition": "auto",
           "type": "bar",
           "x": [
            "1",
            "2",
            "4",
            "8",
            "9",
            "10",
            "11",
            "12",
            "13",
            "14",
            "B1"
           ],
           "xaxis": "x2",
           "y": [
            24.95310638297872,
            15.988,
            14.74206896551724,
            65.79821428571428,
            65.65166666666667,
            46.15,
            56.1925,
            66.27666666666667,
            69.36800000000001,
            50.19750000000001,
            54.81061452513968
           ],
           "yaxis": "y2"
          }
         ],
         "name": "7"
        },
        {
         "data": [
          {
           "alignmentgroup": "True",
           "hovertemplate": "direction=down<br>Local Time (GMT+8)=8<br>floor=%{x}<br>avgWait_weekend=%{y}<extra></extra>",
           "legendgroup": "down",
           "marker": {
            "color": "#636efa"
           },
           "name": "down",
           "offsetgroup": "down",
           "orientation": "v",
           "showlegend": true,
           "textposition": "auto",
           "type": "bar",
           "x": [
            "1",
            "2",
            "4",
            "8",
            "9",
            "10",
            "11",
            "12",
            "13",
            "14",
            "15",
            "B1"
           ],
           "xaxis": "x",
           "y": [
            63.398684210526326,
            70.77375,
            101.54022222222223,
            17.310925925925925,
            21.271374045801533,
            18.41,
            26.53716814159292,
            36.30753968253968,
            33.359918699187006,
            40.044363636363634,
            54.660319148936175,
            43.03083333333333
           ],
           "yaxis": "y"
          },
          {
           "alignmentgroup": "True",
           "hovertemplate": "direction=up<br>Local Time (GMT+8)=8<br>floor=%{x}<br>avgWait_weekend=%{y}<extra></extra>",
           "legendgroup": "up",
           "marker": {
            "color": "#EF553B"
           },
           "name": "up",
           "offsetgroup": "up",
           "orientation": "v",
           "showlegend": true,
           "textposition": "auto",
           "type": "bar",
           "x": [
            "1",
            "2",
            "4",
            "8",
            "9",
            "10",
            "11",
            "12",
            "13",
            "14",
            "B1"
           ],
           "xaxis": "x2",
           "y": [
            29.847853658536586,
            11.962592592592593,
            15.093953488372092,
            74.29617647058822,
            54.9005,
            64.35548387096775,
            35.735,
            17.588,
            63.83900000000001,
            80.485,
            67.26494318181818
           ],
           "yaxis": "y2"
          }
         ],
         "name": "8"
        },
        {
         "data": [
          {
           "alignmentgroup": "True",
           "hovertemplate": "direction=down<br>Local Time (GMT+8)=9<br>floor=%{x}<br>avgWait_weekend=%{y}<extra></extra>",
           "legendgroup": "down",
           "marker": {
            "color": "#636efa"
           },
           "name": "down",
           "offsetgroup": "down",
           "orientation": "v",
           "showlegend": true,
           "textposition": "auto",
           "type": "bar",
           "x": [
            "1",
            "2",
            "4",
            "8",
            "9",
            "10",
            "11",
            "12",
            "13",
            "14",
            "15",
            "B1"
           ],
           "xaxis": "x",
           "y": [
            35.088,
            52.88777777777778,
            71.82518518518519,
            16.29018018018018,
            19.947615384615386,
            12.92128205128205,
            22.655535714285715,
            41.2234328358209,
            27.193898305084748,
            37.596160714285716,
            55.669611650485436,
            65.86999999999999
           ],
           "yaxis": "y"
          },
          {
           "alignmentgroup": "True",
           "hovertemplate": "direction=up<br>Local Time (GMT+8)=9<br>floor=%{x}<br>avgWait_weekend=%{y}<extra></extra>",
           "legendgroup": "up",
           "marker": {
            "color": "#EF553B"
           },
           "name": "up",
           "offsetgroup": "up",
           "orientation": "v",
           "showlegend": true,
           "textposition": "auto",
           "type": "bar",
           "x": [
            "1",
            "2",
            "4",
            "8",
            "9",
            "10",
            "11",
            "12",
            "13",
            "14",
            "B1"
           ],
           "xaxis": "x2",
           "y": [
            31.846604651162792,
            9.220833333333333,
            11.806818181818182,
            84.4506818181818,
            72.4223076923077,
            42.214666666666666,
            15.842,
            34.73571428571429,
            79.16333333333334,
            58.3225,
            61.33326666666667
           ],
           "yaxis": "y2"
          }
         ],
         "name": "9"
        },
        {
         "data": [
          {
           "alignmentgroup": "True",
           "hovertemplate": "direction=down<br>Local Time (GMT+8)=10<br>floor=%{x}<br>avgWait_weekend=%{y}<extra></extra>",
           "legendgroup": "down",
           "marker": {
            "color": "#636efa"
           },
           "name": "down",
           "offsetgroup": "down",
           "orientation": "v",
           "showlegend": true,
           "textposition": "auto",
           "type": "bar",
           "x": [
            "1",
            "2",
            "4",
            "8",
            "9",
            "10",
            "11",
            "12",
            "13",
            "14",
            "15",
            "B1"
           ],
           "xaxis": "x",
           "y": [
            63.98265306122449,
            61.04545454545455,
            98.18947368421051,
            14.138125,
            16.412661290322582,
            16.84923076923077,
            28.556608695652177,
            49.823150684931505,
            27.85709401709401,
            45.61757575757575,
            62.24307692307693,
            96.042
           ],
           "yaxis": "y"
          },
          {
           "alignmentgroup": "True",
           "hovertemplate": "direction=up<br>Local Time (GMT+8)=10<br>floor=%{x}<br>avgWait_weekend=%{y}<extra></extra>",
           "legendgroup": "up",
           "marker": {
            "color": "#EF553B"
           },
           "name": "up",
           "offsetgroup": "up",
           "orientation": "v",
           "showlegend": true,
           "textposition": "auto",
           "type": "bar",
           "x": [
            "1",
            "2",
            "4",
            "8",
            "9",
            "10",
            "11",
            "12",
            "13",
            "14",
            "B1"
           ],
           "xaxis": "x2",
           "y": [
            33.074473684210524,
            13.018157894736841,
            16.014999999999993,
            74.58154929577466,
            25.05789473684211,
            40.78333333333333,
            39.9775,
            49.25363636363636,
            96.64,
            107.431,
            69.13268456375839
           ],
           "yaxis": "y2"
          }
         ],
         "name": "10"
        },
        {
         "data": [
          {
           "alignmentgroup": "True",
           "hovertemplate": "direction=down<br>Local Time (GMT+8)=11<br>floor=%{x}<br>avgWait_weekend=%{y}<extra></extra>",
           "legendgroup": "down",
           "marker": {
            "color": "#636efa"
           },
           "name": "down",
           "offsetgroup": "down",
           "orientation": "v",
           "showlegend": true,
           "textposition": "auto",
           "type": "bar",
           "x": [
            "1",
            "2",
            "4",
            "8",
            "9",
            "10",
            "11",
            "12",
            "13",
            "14",
            "15",
            "B1"
           ],
           "xaxis": "x",
           "y": [
            52.87042553191489,
            42.97103448275864,
            81.154776119403,
            15.798878504672894,
            16.616985294117647,
            16.98,
            27.827841726618704,
            48.02463768115942,
            23.567235772357726,
            34.752265625,
            66.1494262295082,
            33.138125
           ],
           "yaxis": "y"
          },
          {
           "alignmentgroup": "True",
           "hovertemplate": "direction=up<br>Local Time (GMT+8)=11<br>floor=%{x}<br>avgWait_weekend=%{y}<extra></extra>",
           "legendgroup": "up",
           "marker": {
            "color": "#EF553B"
           },
           "name": "up",
           "offsetgroup": "up",
           "orientation": "v",
           "showlegend": true,
           "textposition": "auto",
           "type": "bar",
           "x": [
            "1",
            "2",
            "4",
            "8",
            "9",
            "10",
            "11",
            "12",
            "13",
            "14",
            "B1"
           ],
           "xaxis": "x2",
           "y": [
            23.208023952095807,
            9.4212,
            12.651290322580644,
            86.45122807017543,
            42.05,
            48.473103448275864,
            45.105,
            24.239285714285717,
            75.35249999999998,
            74.11777777777776,
            91.04565517241379
           ],
           "yaxis": "y2"
          }
         ],
         "name": "11"
        },
        {
         "data": [
          {
           "alignmentgroup": "True",
           "hovertemplate": "direction=down<br>Local Time (GMT+8)=12<br>floor=%{x}<br>avgWait_weekend=%{y}<extra></extra>",
           "legendgroup": "down",
           "marker": {
            "color": "#636efa"
           },
           "name": "down",
           "offsetgroup": "down",
           "orientation": "v",
           "showlegend": true,
           "textposition": "auto",
           "type": "bar",
           "x": [
            "1",
            "2",
            "4",
            "8",
            "9",
            "10",
            "11",
            "12",
            "13",
            "14",
            "15",
            "B1"
           ],
           "xaxis": "x",
           "y": [
            39.85593220338985,
            54.58947368421053,
            87.7298795180723,
            13.083305084745762,
            17.69914893617021,
            15.293863636363636,
            31.026269841269848,
            61.783,
            18.44032,
            43.49305970149253,
            68.02016666666667,
            50.475
           ],
           "yaxis": "y"
          },
          {
           "alignmentgroup": "True",
           "hovertemplate": "direction=up<br>Local Time (GMT+8)=12<br>floor=%{x}<br>avgWait_weekend=%{y}<extra></extra>",
           "legendgroup": "up",
           "marker": {
            "color": "#EF553B"
           },
           "name": "up",
           "offsetgroup": "up",
           "orientation": "v",
           "showlegend": true,
           "textposition": "auto",
           "type": "bar",
           "x": [
            "1",
            "2",
            "4",
            "8",
            "9",
            "10",
            "11",
            "12",
            "13",
            "14",
            "B1"
           ],
           "xaxis": "x2",
           "y": [
            23.462529411764702,
            12.41625,
            12.41641509433962,
            96.11137254901962,
            72.3725,
            62.662222222222226,
            25.21272727272727,
            52.071538461538466,
            92.11833333333334,
            81.05866666666667,
            93.88804878048781
           ],
           "yaxis": "y2"
          }
         ],
         "name": "12"
        },
        {
         "data": [
          {
           "alignmentgroup": "True",
           "hovertemplate": "direction=down<br>Local Time (GMT+8)=13<br>floor=%{x}<br>avgWait_weekend=%{y}<extra></extra>",
           "legendgroup": "down",
           "marker": {
            "color": "#636efa"
           },
           "name": "down",
           "offsetgroup": "down",
           "orientation": "v",
           "showlegend": true,
           "textposition": "auto",
           "type": "bar",
           "x": [
            "1",
            "2",
            "4",
            "8",
            "9",
            "10",
            "11",
            "12",
            "13",
            "14",
            "15",
            "B1"
           ],
           "xaxis": "x",
           "y": [
            49.87125,
            36.065714285714286,
            84.29984126984127,
            14.726145833333335,
            17.885748031496068,
            23.782352941176466,
            28.926984126984127,
            48.561034482758615,
            27.42588235294118,
            38.996885245901645,
            58.71575757575758,
            39.41583333333333
           ],
           "yaxis": "y"
          },
          {
           "alignmentgroup": "True",
           "hovertemplate": "direction=up<br>Local Time (GMT+8)=13<br>floor=%{x}<br>avgWait_weekend=%{y}<extra></extra>",
           "legendgroup": "up",
           "marker": {
            "color": "#EF553B"
           },
           "name": "up",
           "offsetgroup": "up",
           "orientation": "v",
           "showlegend": true,
           "textposition": "auto",
           "type": "bar",
           "x": [
            "1",
            "2",
            "4",
            "8",
            "9",
            "10",
            "11",
            "12",
            "13",
            "14",
            "B1"
           ],
           "xaxis": "x2",
           "y": [
            26.526237113402058,
            13.91777777777778,
            15.388181818181815,
            79.60950819672132,
            70.78777777777776,
            41.0540909090909,
            20.731250000000006,
            27.008333333333336,
            101.624,
            114.45100000000001,
            79.76855421686747
           ],
           "yaxis": "y2"
          }
         ],
         "name": "13"
        },
        {
         "data": [
          {
           "alignmentgroup": "True",
           "hovertemplate": "direction=down<br>Local Time (GMT+8)=14<br>floor=%{x}<br>avgWait_weekend=%{y}<extra></extra>",
           "legendgroup": "down",
           "marker": {
            "color": "#636efa"
           },
           "name": "down",
           "offsetgroup": "down",
           "orientation": "v",
           "showlegend": true,
           "textposition": "auto",
           "type": "bar",
           "x": [
            "1",
            "2",
            "4",
            "8",
            "9",
            "10",
            "11",
            "12",
            "13",
            "14",
            "15",
            "B1"
           ],
           "xaxis": "x",
           "y": [
            41.893333333333345,
            51.07086956521738,
            72.17915254237288,
            16.919999999999998,
            21.53362068965517,
            14.346428571428572,
            28.294285714285717,
            42.709920000000004,
            29.38411290322581,
            46.55663366336635,
            57.564040404040405,
            69.605
           ],
           "yaxis": "y"
          },
          {
           "alignmentgroup": "True",
           "hovertemplate": "direction=up<br>Local Time (GMT+8)=14<br>floor=%{x}<br>avgWait_weekend=%{y}<extra></extra>",
           "legendgroup": "up",
           "marker": {
            "color": "#EF553B"
           },
           "name": "up",
           "offsetgroup": "up",
           "orientation": "v",
           "showlegend": true,
           "textposition": "auto",
           "type": "bar",
           "x": [
            "1",
            "2",
            "4",
            "8",
            "9",
            "10",
            "11",
            "12",
            "13",
            "14",
            "B1"
           ],
           "xaxis": "x2",
           "y": [
            28.255215311004786,
            14.4525,
            14.24782608695652,
            90.32314814814815,
            18.42130434782609,
            46.65000000000001,
            45.134827586206896,
            29.862857142857145,
            101.429,
            87.93230769230769,
            70.81630136986301
           ],
           "yaxis": "y2"
          }
         ],
         "name": "14"
        },
        {
         "data": [
          {
           "alignmentgroup": "True",
           "hovertemplate": "direction=down<br>Local Time (GMT+8)=15<br>floor=%{x}<br>avgWait_weekend=%{y}<extra></extra>",
           "legendgroup": "down",
           "marker": {
            "color": "#636efa"
           },
           "name": "down",
           "offsetgroup": "down",
           "orientation": "v",
           "showlegend": true,
           "textposition": "auto",
           "type": "bar",
           "x": [
            "1",
            "2",
            "4",
            "8",
            "9",
            "10",
            "11",
            "12",
            "13",
            "14",
            "15",
            "B1"
           ],
           "xaxis": "x",
           "y": [
            54.76884615384616,
            66.3,
            86.55408450704228,
            19.005673076923078,
            19.740625,
            12.375945945945945,
            30.85065040650407,
            45.95452380952381,
            30.714444444444453,
            39.56390476190476,
            58.11030303030303,
            28.40285714285714
           ],
           "yaxis": "y"
          },
          {
           "alignmentgroup": "True",
           "hovertemplate": "direction=up<br>Local Time (GMT+8)=15<br>floor=%{x}<br>avgWait_weekend=%{y}<extra></extra>",
           "legendgroup": "up",
           "marker": {
            "color": "#EF553B"
           },
           "name": "up",
           "offsetgroup": "up",
           "orientation": "v",
           "showlegend": true,
           "textposition": "auto",
           "type": "bar",
           "x": [
            "1",
            "2",
            "4",
            "8",
            "9",
            "10",
            "11",
            "12",
            "13",
            "14",
            "B1"
           ],
           "xaxis": "x2",
           "y": [
            31.4622009569378,
            14.005217391304347,
            14.546140350877195,
            78.52345454545456,
            65.46300000000001,
            60.74058823529411,
            23.652142857142852,
            47.3675,
            97.69285714285715,
            85.58,
            64.27181818181819
           ],
           "yaxis": "y2"
          }
         ],
         "name": "15"
        },
        {
         "data": [
          {
           "alignmentgroup": "True",
           "hovertemplate": "direction=down<br>Local Time (GMT+8)=16<br>floor=%{x}<br>avgWait_weekend=%{y}<extra></extra>",
           "legendgroup": "down",
           "marker": {
            "color": "#636efa"
           },
           "name": "down",
           "offsetgroup": "down",
           "orientation": "v",
           "showlegend": true,
           "textposition": "auto",
           "type": "bar",
           "x": [
            "1",
            "2",
            "4",
            "8",
            "9",
            "10",
            "11",
            "12",
            "13",
            "14",
            "15",
            "B1"
           ],
           "xaxis": "x",
           "y": [
            77.25,
            38.871,
            74.68581395348836,
            14.163362068965515,
            16.326739130434785,
            13.437222222222225,
            24.86887323943662,
            45.15303703703704,
            25.090461538461536,
            37.73826771653543,
            57.41460317460318,
            62.97333333333333
           ],
           "yaxis": "y"
          },
          {
           "alignmentgroup": "True",
           "hovertemplate": "direction=up<br>Local Time (GMT+8)=16<br>floor=%{x}<br>avgWait_weekend=%{y}<extra></extra>",
           "legendgroup": "up",
           "marker": {
            "color": "#EF553B"
           },
           "name": "up",
           "offsetgroup": "up",
           "orientation": "v",
           "showlegend": true,
           "textposition": "auto",
           "type": "bar",
           "x": [
            "1",
            "2",
            "4",
            "8",
            "9",
            "10",
            "11",
            "12",
            "13",
            "14",
            "B1"
           ],
           "xaxis": "x2",
           "y": [
            34.54395,
            10.885806451612904,
            14.399534883720932,
            72.33791666666667,
            46.0555,
            36.57655172413793,
            30.92875,
            23.579,
            96.512,
            46.64333333333334,
            67.3472549019608
           ],
           "yaxis": "y2"
          }
         ],
         "name": "16"
        },
        {
         "data": [
          {
           "alignmentgroup": "True",
           "hovertemplate": "direction=down<br>Local Time (GMT+8)=17<br>floor=%{x}<br>avgWait_weekend=%{y}<extra></extra>",
           "legendgroup": "down",
           "marker": {
            "color": "#636efa"
           },
           "name": "down",
           "offsetgroup": "down",
           "orientation": "v",
           "showlegend": true,
           "textposition": "auto",
           "type": "bar",
           "x": [
            "1",
            "2",
            "4",
            "8",
            "9",
            "10",
            "11",
            "12",
            "13",
            "14",
            "15",
            "B1"
           ],
           "xaxis": "x",
           "y": [
            70.1246875,
            39.13,
            92.03915254237288,
            12.294471544715448,
            15.614276315789473,
            12.51625,
            21.671298701298703,
            48.4581560283688,
            22.07033783783784,
            41.63385714285714,
            64.59532258064516,
            58.288999999999994
           ],
           "yaxis": "y"
          },
          {
           "alignmentgroup": "True",
           "hovertemplate": "direction=up<br>Local Time (GMT+8)=17<br>floor=%{x}<br>avgWait_weekend=%{y}<extra></extra>",
           "legendgroup": "up",
           "marker": {
            "color": "#EF553B"
           },
           "name": "up",
           "offsetgroup": "up",
           "orientation": "v",
           "showlegend": true,
           "textposition": "auto",
           "type": "bar",
           "x": [
            "1",
            "2",
            "4",
            "8",
            "9",
            "10",
            "11",
            "12",
            "13",
            "14",
            "B1"
           ],
           "xaxis": "x2",
           "y": [
            24.3325,
            16.980833333333333,
            12.55945945945946,
            80.46227272727273,
            47.28000000000001,
            57.31866666666667,
            66.02888888888889,
            43.832,
            106.56625,
            139.0575,
            79.90323353293414
           ],
           "yaxis": "y2"
          }
         ],
         "name": "17"
        },
        {
         "data": [
          {
           "alignmentgroup": "True",
           "hovertemplate": "direction=down<br>Local Time (GMT+8)=18<br>floor=%{x}<br>avgWait_weekend=%{y}<extra></extra>",
           "legendgroup": "down",
           "marker": {
            "color": "#636efa"
           },
           "name": "down",
           "offsetgroup": "down",
           "orientation": "v",
           "showlegend": true,
           "textposition": "auto",
           "type": "bar",
           "x": [
            "1",
            "2",
            "4",
            "8",
            "9",
            "10",
            "11",
            "12",
            "13",
            "14",
            "15",
            "B1"
           ],
           "xaxis": "x",
           "y": [
            74.42454545454545,
            93.49666666666668,
            102.42911764705885,
            16.349519230769232,
            19.776962962962962,
            17.462162162162162,
            26.794741379310345,
            46.74878048780488,
            24.434094488188983,
            34.51381679389313,
            52.55877358490565,
            73.8275
           ],
           "yaxis": "y"
          },
          {
           "alignmentgroup": "True",
           "hovertemplate": "direction=up<br>Local Time (GMT+8)=18<br>floor=%{x}<br>avgWait_weekend=%{y}<extra></extra>",
           "legendgroup": "up",
           "marker": {
            "color": "#EF553B"
           },
           "name": "up",
           "offsetgroup": "up",
           "orientation": "v",
           "showlegend": true,
           "textposition": "auto",
           "type": "bar",
           "x": [
            "1",
            "2",
            "4",
            "8",
            "9",
            "10",
            "11",
            "12",
            "13",
            "14",
            "B1"
           ],
           "xaxis": "x2",
           "y": [
            27.131676646706588,
            15.946666666666667,
            14.713703703703704,
            61.01390243902439,
            41.06384615384616,
            28.7,
            39.13428571428572,
            38.88333333333333,
            146.12,
            96.48166666666668,
            76.9034375
           ],
           "yaxis": "y2"
          }
         ],
         "name": "18"
        },
        {
         "data": [
          {
           "alignmentgroup": "True",
           "hovertemplate": "direction=down<br>Local Time (GMT+8)=19<br>floor=%{x}<br>avgWait_weekend=%{y}<extra></extra>",
           "legendgroup": "down",
           "marker": {
            "color": "#636efa"
           },
           "name": "down",
           "offsetgroup": "down",
           "orientation": "v",
           "showlegend": true,
           "textposition": "auto",
           "type": "bar",
           "x": [
            "1",
            "2",
            "4",
            "8",
            "9",
            "10",
            "11",
            "12",
            "13",
            "14",
            "15",
            "B1"
           ],
           "xaxis": "x",
           "y": [
            44.913703703703696,
            3.77,
            78.38432432432433,
            17.436559139784947,
            21.83934959349593,
            9.719333333333333,
            32.53323809523809,
            40.461083333333335,
            31.05336206896552,
            40.41266666666667,
            49.22790697674419,
            54.246
           ],
           "yaxis": "y"
          },
          {
           "alignmentgroup": "True",
           "hovertemplate": "direction=up<br>Local Time (GMT+8)=19<br>floor=%{x}<br>avgWait_weekend=%{y}<extra></extra>",
           "legendgroup": "up",
           "marker": {
            "color": "#EF553B"
           },
           "name": "up",
           "offsetgroup": "up",
           "orientation": "v",
           "showlegend": true,
           "textposition": "auto",
           "type": "bar",
           "x": [
            "1",
            "2",
            "4",
            "8",
            "9",
            "10",
            "11",
            "12",
            "13",
            "14",
            "B1"
           ],
           "xaxis": "x2",
           "y": [
            31.274386792452827,
            19.108,
            16.69086956521739,
            93.24894736842106,
            45.684,
            28.09,
            87.4325,
            43.03714285714285,
            6.8,
            77.86333333333333,
            60.55710691823899
           ],
           "yaxis": "y2"
          }
         ],
         "name": "19"
        },
        {
         "data": [
          {
           "alignmentgroup": "True",
           "hovertemplate": "direction=down<br>Local Time (GMT+8)=20<br>floor=%{x}<br>avgWait_weekend=%{y}<extra></extra>",
           "legendgroup": "down",
           "marker": {
            "color": "#636efa"
           },
           "name": "down",
           "offsetgroup": "down",
           "orientation": "v",
           "showlegend": true,
           "textposition": "auto",
           "type": "bar",
           "x": [
            "1",
            "2",
            "4",
            "8",
            "9",
            "10",
            "11",
            "12",
            "13",
            "14",
            "15",
            "B1"
           ],
           "xaxis": "x",
           "y": [
            43.70857142857143,
            50.795,
            70.00493506493507,
            20.19114942528736,
            21.623303571428565,
            20.73,
            27.219702970297032,
            39.2025925925926,
            28.447884615384613,
            35.496021505376355,
            41.942352941176466,
            52.25666666666667
           ],
           "yaxis": "y"
          },
          {
           "alignmentgroup": "True",
           "hovertemplate": "direction=up<br>Local Time (GMT+8)=20<br>floor=%{x}<br>avgWait_weekend=%{y}<extra></extra>",
           "legendgroup": "up",
           "marker": {
            "color": "#EF553B"
           },
           "name": "up",
           "offsetgroup": "up",
           "orientation": "v",
           "showlegend": true,
           "textposition": "auto",
           "type": "bar",
           "x": [
            "1",
            "2",
            "4",
            "8",
            "9",
            "11",
            "12",
            "13",
            "14",
            "B1"
           ],
           "xaxis": "x2",
           "y": [
            33.26905172413793,
            21.435,
            13.69909090909091,
            39.15933333333333,
            31.78,
            71.77,
            48.175,
            44.6775,
            67.64833333333334,
            44.342761194029855
           ],
           "yaxis": "y2"
          }
         ],
         "name": "20"
        },
        {
         "data": [
          {
           "alignmentgroup": "True",
           "hovertemplate": "direction=down<br>Local Time (GMT+8)=21<br>floor=%{x}<br>avgWait_weekend=%{y}<extra></extra>",
           "legendgroup": "down",
           "marker": {
            "color": "#636efa"
           },
           "name": "down",
           "offsetgroup": "down",
           "orientation": "v",
           "showlegend": true,
           "textposition": "auto",
           "type": "bar",
           "x": [
            "1",
            "2",
            "4",
            "8",
            "9",
            "10",
            "11",
            "12",
            "13",
            "14",
            "15",
            "B1"
           ],
           "xaxis": "x",
           "y": [
            16.97153846153846,
            69.36,
            52.10290322580646,
            18.01662337662337,
            22.992352941176478,
            14.878333333333336,
            28.062771084337353,
            31.221960784313726,
            31.789259259259254,
            27.27714285714286,
            37.17869565217392,
            36.37000000000001
           ],
           "yaxis": "y"
          },
          {
           "alignmentgroup": "True",
           "hovertemplate": "direction=up<br>Local Time (GMT+8)=21<br>floor=%{x}<br>avgWait_weekend=%{y}<extra></extra>",
           "legendgroup": "up",
           "marker": {
            "color": "#EF553B"
           },
           "name": "up",
           "offsetgroup": "up",
           "orientation": "v",
           "showlegend": true,
           "textposition": "auto",
           "type": "bar",
           "x": [
            "1",
            "2",
            "4",
            "8",
            "9",
            "11",
            "12",
            "13",
            "14",
            "B1"
           ],
           "xaxis": "x2",
           "y": [
            26.409285714285716,
            6.565,
            19.5,
            52.20857142857143,
            57.53333333333333,
            69.82,
            36.145,
            39.972,
            79.08,
            30.213835616438352
           ],
           "yaxis": "y2"
          }
         ],
         "name": "21"
        },
        {
         "data": [
          {
           "alignmentgroup": "True",
           "hovertemplate": "direction=down<br>Local Time (GMT+8)=22<br>floor=%{x}<br>avgWait_weekend=%{y}<extra></extra>",
           "legendgroup": "down",
           "marker": {
            "color": "#636efa"
           },
           "name": "down",
           "offsetgroup": "down",
           "orientation": "v",
           "showlegend": true,
           "textposition": "auto",
           "type": "bar",
           "x": [
            "1",
            "4",
            "8",
            "9",
            "10",
            "11",
            "12",
            "13",
            "14",
            "15"
           ],
           "xaxis": "x",
           "y": [
            38.5009090909091,
            34.950588235294106,
            19.262222222222224,
            17.194444444444443,
            27.253529411764703,
            31.074324324324326,
            25.759259259259263,
            22.853103448275863,
            22.26304347826087,
            29.853829787234048
           ],
           "yaxis": "y"
          },
          {
           "alignmentgroup": "True",
           "hovertemplate": "direction=up<br>Local Time (GMT+8)=22<br>floor=%{x}<br>avgWait_weekend=%{y}<extra></extra>",
           "legendgroup": "up",
           "marker": {
            "color": "#EF553B"
           },
           "name": "up",
           "offsetgroup": "up",
           "orientation": "v",
           "showlegend": true,
           "textposition": "auto",
           "type": "bar",
           "x": [
            "1",
            "2",
            "4",
            "8",
            "9",
            "10",
            "11",
            "12",
            "13",
            "B1"
           ],
           "xaxis": "x2",
           "y": [
            16.618206106870232,
            27.21,
            20.632,
            32.085454545454546,
            14.8325,
            23.02,
            23.95,
            15.114285714285714,
            14.16,
            20.64934782608696
           ],
           "yaxis": "y2"
          }
         ],
         "name": "22"
        },
        {
         "data": [
          {
           "alignmentgroup": "True",
           "hovertemplate": "direction=down<br>Local Time (GMT+8)=23<br>floor=%{x}<br>avgWait_weekend=%{y}<extra></extra>",
           "legendgroup": "down",
           "marker": {
            "color": "#636efa"
           },
           "name": "down",
           "offsetgroup": "down",
           "orientation": "v",
           "showlegend": true,
           "textposition": "auto",
           "type": "bar",
           "x": [
            "1",
            "2",
            "4",
            "8",
            "9",
            "10",
            "11",
            "12",
            "13",
            "14",
            "15",
            "B1"
           ],
           "xaxis": "x",
           "y": [
            14.165555555555557,
            24.04,
            17.128,
            17.608235294117648,
            17.403181818181814,
            10,
            23.658235294117645,
            22.6522641509434,
            24.859705882352944,
            25.34447368421053,
            20.2675,
            21.71
           ],
           "yaxis": "y"
          },
          {
           "alignmentgroup": "True",
           "hovertemplate": "direction=up<br>Local Time (GMT+8)=23<br>floor=%{x}<br>avgWait_weekend=%{y}<extra></extra>",
           "legendgroup": "up",
           "marker": {
            "color": "#EF553B"
           },
           "name": "up",
           "offsetgroup": "up",
           "orientation": "v",
           "showlegend": true,
           "textposition": "auto",
           "type": "bar",
           "x": [
            "1",
            "4",
            "8",
            "9",
            "12",
            "B1"
           ],
           "xaxis": "x2",
           "y": [
            13.922369668246446,
            21.3775,
            28.902,
            24.325,
            15.8,
            19.1364
           ],
           "yaxis": "y2"
          }
         ],
         "name": "23"
        }
       ],
       "layout": {
        "annotations": [
         {
          "font": {},
          "showarrow": false,
          "text": "direction=down",
          "x": 0.245,
          "xanchor": "center",
          "xref": "paper",
          "y": 1,
          "yanchor": "bottom",
          "yref": "paper"
         },
         {
          "font": {},
          "showarrow": false,
          "text": "direction=up",
          "x": 0.755,
          "xanchor": "center",
          "xref": "paper",
          "y": 1,
          "yanchor": "bottom",
          "yref": "paper"
         }
        ],
        "barmode": "relative",
        "legend": {
         "title": {
          "text": "direction"
         },
         "tracegroupgap": 0
        },
        "margin": {
         "t": 60
        },
        "sliders": [
         {
          "active": 0,
          "currentvalue": {
           "prefix": "Local Time (GMT+8)="
          },
          "len": 0.9,
          "pad": {
           "b": 10,
           "t": 60
          },
          "steps": [
           {
            "args": [
             [
              "0"
             ],
             {
              "frame": {
               "duration": 0,
               "redraw": true
              },
              "fromcurrent": true,
              "mode": "immediate",
              "transition": {
               "duration": 0,
               "easing": "linear"
              }
             }
            ],
            "label": "0",
            "method": "animate"
           },
           {
            "args": [
             [
              "1"
             ],
             {
              "frame": {
               "duration": 0,
               "redraw": true
              },
              "fromcurrent": true,
              "mode": "immediate",
              "transition": {
               "duration": 0,
               "easing": "linear"
              }
             }
            ],
            "label": "1",
            "method": "animate"
           },
           {
            "args": [
             [
              "2"
             ],
             {
              "frame": {
               "duration": 0,
               "redraw": true
              },
              "fromcurrent": true,
              "mode": "immediate",
              "transition": {
               "duration": 0,
               "easing": "linear"
              }
             }
            ],
            "label": "2",
            "method": "animate"
           },
           {
            "args": [
             [
              "3"
             ],
             {
              "frame": {
               "duration": 0,
               "redraw": true
              },
              "fromcurrent": true,
              "mode": "immediate",
              "transition": {
               "duration": 0,
               "easing": "linear"
              }
             }
            ],
            "label": "3",
            "method": "animate"
           },
           {
            "args": [
             [
              "4"
             ],
             {
              "frame": {
               "duration": 0,
               "redraw": true
              },
              "fromcurrent": true,
              "mode": "immediate",
              "transition": {
               "duration": 0,
               "easing": "linear"
              }
             }
            ],
            "label": "4",
            "method": "animate"
           },
           {
            "args": [
             [
              "5"
             ],
             {
              "frame": {
               "duration": 0,
               "redraw": true
              },
              "fromcurrent": true,
              "mode": "immediate",
              "transition": {
               "duration": 0,
               "easing": "linear"
              }
             }
            ],
            "label": "5",
            "method": "animate"
           },
           {
            "args": [
             [
              "6"
             ],
             {
              "frame": {
               "duration": 0,
               "redraw": true
              },
              "fromcurrent": true,
              "mode": "immediate",
              "transition": {
               "duration": 0,
               "easing": "linear"
              }
             }
            ],
            "label": "6",
            "method": "animate"
           },
           {
            "args": [
             [
              "7"
             ],
             {
              "frame": {
               "duration": 0,
               "redraw": true
              },
              "fromcurrent": true,
              "mode": "immediate",
              "transition": {
               "duration": 0,
               "easing": "linear"
              }
             }
            ],
            "label": "7",
            "method": "animate"
           },
           {
            "args": [
             [
              "8"
             ],
             {
              "frame": {
               "duration": 0,
               "redraw": true
              },
              "fromcurrent": true,
              "mode": "immediate",
              "transition": {
               "duration": 0,
               "easing": "linear"
              }
             }
            ],
            "label": "8",
            "method": "animate"
           },
           {
            "args": [
             [
              "9"
             ],
             {
              "frame": {
               "duration": 0,
               "redraw": true
              },
              "fromcurrent": true,
              "mode": "immediate",
              "transition": {
               "duration": 0,
               "easing": "linear"
              }
             }
            ],
            "label": "9",
            "method": "animate"
           },
           {
            "args": [
             [
              "10"
             ],
             {
              "frame": {
               "duration": 0,
               "redraw": true
              },
              "fromcurrent": true,
              "mode": "immediate",
              "transition": {
               "duration": 0,
               "easing": "linear"
              }
             }
            ],
            "label": "10",
            "method": "animate"
           },
           {
            "args": [
             [
              "11"
             ],
             {
              "frame": {
               "duration": 0,
               "redraw": true
              },
              "fromcurrent": true,
              "mode": "immediate",
              "transition": {
               "duration": 0,
               "easing": "linear"
              }
             }
            ],
            "label": "11",
            "method": "animate"
           },
           {
            "args": [
             [
              "12"
             ],
             {
              "frame": {
               "duration": 0,
               "redraw": true
              },
              "fromcurrent": true,
              "mode": "immediate",
              "transition": {
               "duration": 0,
               "easing": "linear"
              }
             }
            ],
            "label": "12",
            "method": "animate"
           },
           {
            "args": [
             [
              "13"
             ],
             {
              "frame": {
               "duration": 0,
               "redraw": true
              },
              "fromcurrent": true,
              "mode": "immediate",
              "transition": {
               "duration": 0,
               "easing": "linear"
              }
             }
            ],
            "label": "13",
            "method": "animate"
           },
           {
            "args": [
             [
              "14"
             ],
             {
              "frame": {
               "duration": 0,
               "redraw": true
              },
              "fromcurrent": true,
              "mode": "immediate",
              "transition": {
               "duration": 0,
               "easing": "linear"
              }
             }
            ],
            "label": "14",
            "method": "animate"
           },
           {
            "args": [
             [
              "15"
             ],
             {
              "frame": {
               "duration": 0,
               "redraw": true
              },
              "fromcurrent": true,
              "mode": "immediate",
              "transition": {
               "duration": 0,
               "easing": "linear"
              }
             }
            ],
            "label": "15",
            "method": "animate"
           },
           {
            "args": [
             [
              "16"
             ],
             {
              "frame": {
               "duration": 0,
               "redraw": true
              },
              "fromcurrent": true,
              "mode": "immediate",
              "transition": {
               "duration": 0,
               "easing": "linear"
              }
             }
            ],
            "label": "16",
            "method": "animate"
           },
           {
            "args": [
             [
              "17"
             ],
             {
              "frame": {
               "duration": 0,
               "redraw": true
              },
              "fromcurrent": true,
              "mode": "immediate",
              "transition": {
               "duration": 0,
               "easing": "linear"
              }
             }
            ],
            "label": "17",
            "method": "animate"
           },
           {
            "args": [
             [
              "18"
             ],
             {
              "frame": {
               "duration": 0,
               "redraw": true
              },
              "fromcurrent": true,
              "mode": "immediate",
              "transition": {
               "duration": 0,
               "easing": "linear"
              }
             }
            ],
            "label": "18",
            "method": "animate"
           },
           {
            "args": [
             [
              "19"
             ],
             {
              "frame": {
               "duration": 0,
               "redraw": true
              },
              "fromcurrent": true,
              "mode": "immediate",
              "transition": {
               "duration": 0,
               "easing": "linear"
              }
             }
            ],
            "label": "19",
            "method": "animate"
           },
           {
            "args": [
             [
              "20"
             ],
             {
              "frame": {
               "duration": 0,
               "redraw": true
              },
              "fromcurrent": true,
              "mode": "immediate",
              "transition": {
               "duration": 0,
               "easing": "linear"
              }
             }
            ],
            "label": "20",
            "method": "animate"
           },
           {
            "args": [
             [
              "21"
             ],
             {
              "frame": {
               "duration": 0,
               "redraw": true
              },
              "fromcurrent": true,
              "mode": "immediate",
              "transition": {
               "duration": 0,
               "easing": "linear"
              }
             }
            ],
            "label": "21",
            "method": "animate"
           },
           {
            "args": [
             [
              "22"
             ],
             {
              "frame": {
               "duration": 0,
               "redraw": true
              },
              "fromcurrent": true,
              "mode": "immediate",
              "transition": {
               "duration": 0,
               "easing": "linear"
              }
             }
            ],
            "label": "22",
            "method": "animate"
           },
           {
            "args": [
             [
              "23"
             ],
             {
              "frame": {
               "duration": 0,
               "redraw": true
              },
              "fromcurrent": true,
              "mode": "immediate",
              "transition": {
               "duration": 0,
               "easing": "linear"
              }
             }
            ],
            "label": "23",
            "method": "animate"
           }
          ],
          "x": 0.1,
          "xanchor": "left",
          "y": 0,
          "yanchor": "top"
         }
        ],
        "template": {
         "data": {
          "bar": [
           {
            "error_x": {
             "color": "#2a3f5f"
            },
            "error_y": {
             "color": "#2a3f5f"
            },
            "marker": {
             "line": {
              "color": "#E5ECF6",
              "width": 0.5
             }
            },
            "type": "bar"
           }
          ],
          "barpolar": [
           {
            "marker": {
             "line": {
              "color": "#E5ECF6",
              "width": 0.5
             }
            },
            "type": "barpolar"
           }
          ],
          "carpet": [
           {
            "aaxis": {
             "endlinecolor": "#2a3f5f",
             "gridcolor": "white",
             "linecolor": "white",
             "minorgridcolor": "white",
             "startlinecolor": "#2a3f5f"
            },
            "baxis": {
             "endlinecolor": "#2a3f5f",
             "gridcolor": "white",
             "linecolor": "white",
             "minorgridcolor": "white",
             "startlinecolor": "#2a3f5f"
            },
            "type": "carpet"
           }
          ],
          "choropleth": [
           {
            "colorbar": {
             "outlinewidth": 0,
             "ticks": ""
            },
            "type": "choropleth"
           }
          ],
          "contour": [
           {
            "colorbar": {
             "outlinewidth": 0,
             "ticks": ""
            },
            "colorscale": [
             [
              0,
              "#0d0887"
             ],
             [
              0.1111111111111111,
              "#46039f"
             ],
             [
              0.2222222222222222,
              "#7201a8"
             ],
             [
              0.3333333333333333,
              "#9c179e"
             ],
             [
              0.4444444444444444,
              "#bd3786"
             ],
             [
              0.5555555555555556,
              "#d8576b"
             ],
             [
              0.6666666666666666,
              "#ed7953"
             ],
             [
              0.7777777777777778,
              "#fb9f3a"
             ],
             [
              0.8888888888888888,
              "#fdca26"
             ],
             [
              1,
              "#f0f921"
             ]
            ],
            "type": "contour"
           }
          ],
          "contourcarpet": [
           {
            "colorbar": {
             "outlinewidth": 0,
             "ticks": ""
            },
            "type": "contourcarpet"
           }
          ],
          "heatmap": [
           {
            "colorbar": {
             "outlinewidth": 0,
             "ticks": ""
            },
            "colorscale": [
             [
              0,
              "#0d0887"
             ],
             [
              0.1111111111111111,
              "#46039f"
             ],
             [
              0.2222222222222222,
              "#7201a8"
             ],
             [
              0.3333333333333333,
              "#9c179e"
             ],
             [
              0.4444444444444444,
              "#bd3786"
             ],
             [
              0.5555555555555556,
              "#d8576b"
             ],
             [
              0.6666666666666666,
              "#ed7953"
             ],
             [
              0.7777777777777778,
              "#fb9f3a"
             ],
             [
              0.8888888888888888,
              "#fdca26"
             ],
             [
              1,
              "#f0f921"
             ]
            ],
            "type": "heatmap"
           }
          ],
          "heatmapgl": [
           {
            "colorbar": {
             "outlinewidth": 0,
             "ticks": ""
            },
            "colorscale": [
             [
              0,
              "#0d0887"
             ],
             [
              0.1111111111111111,
              "#46039f"
             ],
             [
              0.2222222222222222,
              "#7201a8"
             ],
             [
              0.3333333333333333,
              "#9c179e"
             ],
             [
              0.4444444444444444,
              "#bd3786"
             ],
             [
              0.5555555555555556,
              "#d8576b"
             ],
             [
              0.6666666666666666,
              "#ed7953"
             ],
             [
              0.7777777777777778,
              "#fb9f3a"
             ],
             [
              0.8888888888888888,
              "#fdca26"
             ],
             [
              1,
              "#f0f921"
             ]
            ],
            "type": "heatmapgl"
           }
          ],
          "histogram": [
           {
            "marker": {
             "colorbar": {
              "outlinewidth": 0,
              "ticks": ""
             }
            },
            "type": "histogram"
           }
          ],
          "histogram2d": [
           {
            "colorbar": {
             "outlinewidth": 0,
             "ticks": ""
            },
            "colorscale": [
             [
              0,
              "#0d0887"
             ],
             [
              0.1111111111111111,
              "#46039f"
             ],
             [
              0.2222222222222222,
              "#7201a8"
             ],
             [
              0.3333333333333333,
              "#9c179e"
             ],
             [
              0.4444444444444444,
              "#bd3786"
             ],
             [
              0.5555555555555556,
              "#d8576b"
             ],
             [
              0.6666666666666666,
              "#ed7953"
             ],
             [
              0.7777777777777778,
              "#fb9f3a"
             ],
             [
              0.8888888888888888,
              "#fdca26"
             ],
             [
              1,
              "#f0f921"
             ]
            ],
            "type": "histogram2d"
           }
          ],
          "histogram2dcontour": [
           {
            "colorbar": {
             "outlinewidth": 0,
             "ticks": ""
            },
            "colorscale": [
             [
              0,
              "#0d0887"
             ],
             [
              0.1111111111111111,
              "#46039f"
             ],
             [
              0.2222222222222222,
              "#7201a8"
             ],
             [
              0.3333333333333333,
              "#9c179e"
             ],
             [
              0.4444444444444444,
              "#bd3786"
             ],
             [
              0.5555555555555556,
              "#d8576b"
             ],
             [
              0.6666666666666666,
              "#ed7953"
             ],
             [
              0.7777777777777778,
              "#fb9f3a"
             ],
             [
              0.8888888888888888,
              "#fdca26"
             ],
             [
              1,
              "#f0f921"
             ]
            ],
            "type": "histogram2dcontour"
           }
          ],
          "mesh3d": [
           {
            "colorbar": {
             "outlinewidth": 0,
             "ticks": ""
            },
            "type": "mesh3d"
           }
          ],
          "parcoords": [
           {
            "line": {
             "colorbar": {
              "outlinewidth": 0,
              "ticks": ""
             }
            },
            "type": "parcoords"
           }
          ],
          "pie": [
           {
            "automargin": true,
            "type": "pie"
           }
          ],
          "scatter": [
           {
            "marker": {
             "colorbar": {
              "outlinewidth": 0,
              "ticks": ""
             }
            },
            "type": "scatter"
           }
          ],
          "scatter3d": [
           {
            "line": {
             "colorbar": {
              "outlinewidth": 0,
              "ticks": ""
             }
            },
            "marker": {
             "colorbar": {
              "outlinewidth": 0,
              "ticks": ""
             }
            },
            "type": "scatter3d"
           }
          ],
          "scattercarpet": [
           {
            "marker": {
             "colorbar": {
              "outlinewidth": 0,
              "ticks": ""
             }
            },
            "type": "scattercarpet"
           }
          ],
          "scattergeo": [
           {
            "marker": {
             "colorbar": {
              "outlinewidth": 0,
              "ticks": ""
             }
            },
            "type": "scattergeo"
           }
          ],
          "scattergl": [
           {
            "marker": {
             "colorbar": {
              "outlinewidth": 0,
              "ticks": ""
             }
            },
            "type": "scattergl"
           }
          ],
          "scattermapbox": [
           {
            "marker": {
             "colorbar": {
              "outlinewidth": 0,
              "ticks": ""
             }
            },
            "type": "scattermapbox"
           }
          ],
          "scatterpolar": [
           {
            "marker": {
             "colorbar": {
              "outlinewidth": 0,
              "ticks": ""
             }
            },
            "type": "scatterpolar"
           }
          ],
          "scatterpolargl": [
           {
            "marker": {
             "colorbar": {
              "outlinewidth": 0,
              "ticks": ""
             }
            },
            "type": "scatterpolargl"
           }
          ],
          "scatterternary": [
           {
            "marker": {
             "colorbar": {
              "outlinewidth": 0,
              "ticks": ""
             }
            },
            "type": "scatterternary"
           }
          ],
          "surface": [
           {
            "colorbar": {
             "outlinewidth": 0,
             "ticks": ""
            },
            "colorscale": [
             [
              0,
              "#0d0887"
             ],
             [
              0.1111111111111111,
              "#46039f"
             ],
             [
              0.2222222222222222,
              "#7201a8"
             ],
             [
              0.3333333333333333,
              "#9c179e"
             ],
             [
              0.4444444444444444,
              "#bd3786"
             ],
             [
              0.5555555555555556,
              "#d8576b"
             ],
             [
              0.6666666666666666,
              "#ed7953"
             ],
             [
              0.7777777777777778,
              "#fb9f3a"
             ],
             [
              0.8888888888888888,
              "#fdca26"
             ],
             [
              1,
              "#f0f921"
             ]
            ],
            "type": "surface"
           }
          ],
          "table": [
           {
            "cells": {
             "fill": {
              "color": "#EBF0F8"
             },
             "line": {
              "color": "white"
             }
            },
            "header": {
             "fill": {
              "color": "#C8D4E3"
             },
             "line": {
              "color": "white"
             }
            },
            "type": "table"
           }
          ]
         },
         "layout": {
          "annotationdefaults": {
           "arrowcolor": "#2a3f5f",
           "arrowhead": 0,
           "arrowwidth": 1
          },
          "coloraxis": {
           "colorbar": {
            "outlinewidth": 0,
            "ticks": ""
           }
          },
          "colorscale": {
           "diverging": [
            [
             0,
             "#8e0152"
            ],
            [
             0.1,
             "#c51b7d"
            ],
            [
             0.2,
             "#de77ae"
            ],
            [
             0.3,
             "#f1b6da"
            ],
            [
             0.4,
             "#fde0ef"
            ],
            [
             0.5,
             "#f7f7f7"
            ],
            [
             0.6,
             "#e6f5d0"
            ],
            [
             0.7,
             "#b8e186"
            ],
            [
             0.8,
             "#7fbc41"
            ],
            [
             0.9,
             "#4d9221"
            ],
            [
             1,
             "#276419"
            ]
           ],
           "sequential": [
            [
             0,
             "#0d0887"
            ],
            [
             0.1111111111111111,
             "#46039f"
            ],
            [
             0.2222222222222222,
             "#7201a8"
            ],
            [
             0.3333333333333333,
             "#9c179e"
            ],
            [
             0.4444444444444444,
             "#bd3786"
            ],
            [
             0.5555555555555556,
             "#d8576b"
            ],
            [
             0.6666666666666666,
             "#ed7953"
            ],
            [
             0.7777777777777778,
             "#fb9f3a"
            ],
            [
             0.8888888888888888,
             "#fdca26"
            ],
            [
             1,
             "#f0f921"
            ]
           ],
           "sequentialminus": [
            [
             0,
             "#0d0887"
            ],
            [
             0.1111111111111111,
             "#46039f"
            ],
            [
             0.2222222222222222,
             "#7201a8"
            ],
            [
             0.3333333333333333,
             "#9c179e"
            ],
            [
             0.4444444444444444,
             "#bd3786"
            ],
            [
             0.5555555555555556,
             "#d8576b"
            ],
            [
             0.6666666666666666,
             "#ed7953"
            ],
            [
             0.7777777777777778,
             "#fb9f3a"
            ],
            [
             0.8888888888888888,
             "#fdca26"
            ],
            [
             1,
             "#f0f921"
            ]
           ]
          },
          "colorway": [
           "#636efa",
           "#EF553B",
           "#00cc96",
           "#ab63fa",
           "#FFA15A",
           "#19d3f3",
           "#FF6692",
           "#B6E880",
           "#FF97FF",
           "#FECB52"
          ],
          "font": {
           "color": "#2a3f5f"
          },
          "geo": {
           "bgcolor": "white",
           "lakecolor": "white",
           "landcolor": "#E5ECF6",
           "showlakes": true,
           "showland": true,
           "subunitcolor": "white"
          },
          "hoverlabel": {
           "align": "left"
          },
          "hovermode": "closest",
          "mapbox": {
           "style": "light"
          },
          "paper_bgcolor": "white",
          "plot_bgcolor": "#E5ECF6",
          "polar": {
           "angularaxis": {
            "gridcolor": "white",
            "linecolor": "white",
            "ticks": ""
           },
           "bgcolor": "#E5ECF6",
           "radialaxis": {
            "gridcolor": "white",
            "linecolor": "white",
            "ticks": ""
           }
          },
          "scene": {
           "xaxis": {
            "backgroundcolor": "#E5ECF6",
            "gridcolor": "white",
            "gridwidth": 2,
            "linecolor": "white",
            "showbackground": true,
            "ticks": "",
            "zerolinecolor": "white"
           },
           "yaxis": {
            "backgroundcolor": "#E5ECF6",
            "gridcolor": "white",
            "gridwidth": 2,
            "linecolor": "white",
            "showbackground": true,
            "ticks": "",
            "zerolinecolor": "white"
           },
           "zaxis": {
            "backgroundcolor": "#E5ECF6",
            "gridcolor": "white",
            "gridwidth": 2,
            "linecolor": "white",
            "showbackground": true,
            "ticks": "",
            "zerolinecolor": "white"
           }
          },
          "shapedefaults": {
           "line": {
            "color": "#2a3f5f"
           }
          },
          "ternary": {
           "aaxis": {
            "gridcolor": "white",
            "linecolor": "white",
            "ticks": ""
           },
           "baxis": {
            "gridcolor": "white",
            "linecolor": "white",
            "ticks": ""
           },
           "bgcolor": "#E5ECF6",
           "caxis": {
            "gridcolor": "white",
            "linecolor": "white",
            "ticks": ""
           }
          },
          "title": {
           "x": 0.05
          },
          "xaxis": {
           "automargin": true,
           "gridcolor": "white",
           "linecolor": "white",
           "ticks": "",
           "title": {
            "standoff": 15
           },
           "zerolinecolor": "white",
           "zerolinewidth": 2
          },
          "yaxis": {
           "automargin": true,
           "gridcolor": "white",
           "linecolor": "white",
           "ticks": "",
           "title": {
            "standoff": 15
           },
           "zerolinecolor": "white",
           "zerolinewidth": 2
          }
         }
        },
        "title": {
         "text": "Average waiting time of Elevator Calls by Floor on weekend"
        },
        "updatemenus": [
         {
          "buttons": [
           {
            "args": [
             null,
             {
              "frame": {
               "duration": 500,
               "redraw": true
              },
              "fromcurrent": true,
              "mode": "immediate",
              "transition": {
               "duration": 500,
               "easing": "linear"
              }
             }
            ],
            "label": "&#9654;",
            "method": "animate"
           },
           {
            "args": [
             [
              null
             ],
             {
              "frame": {
               "duration": 0,
               "redraw": true
              },
              "fromcurrent": true,
              "mode": "immediate",
              "transition": {
               "duration": 0,
               "easing": "linear"
              }
             }
            ],
            "label": "&#9724;",
            "method": "animate"
           }
          ],
          "direction": "left",
          "pad": {
           "r": 10,
           "t": 70
          },
          "showactive": false,
          "type": "buttons",
          "x": 0.1,
          "xanchor": "right",
          "y": 0,
          "yanchor": "top"
         }
        ],
        "xaxis": {
         "anchor": "y",
         "categoryarray": [
          "1",
          "2",
          "3",
          "4",
          "5",
          "6",
          "7",
          "8",
          "9",
          "10",
          "11",
          "12",
          "13",
          "14",
          "15",
          "B1",
          "B2",
          "B3",
          "B4"
         ],
         "domain": [
          0,
          0.49
         ],
         "nticks": 19,
         "title": {
          "text": "floor"
         },
         "type": "category"
        },
        "xaxis2": {
         "anchor": "y2",
         "categoryarray": [
          "1",
          "2",
          "3",
          "4",
          "5",
          "6",
          "7",
          "8",
          "9",
          "10",
          "11",
          "12",
          "13",
          "14",
          "15",
          "B1",
          "B2",
          "B3",
          "B4"
         ],
         "domain": [
          0.51,
          1
         ],
         "matches": "x",
         "nticks": 19,
         "title": {
          "text": "floor"
         },
         "type": "category"
        },
        "yaxis": {
         "anchor": "x",
         "domain": [
          0,
          1
         ],
         "range": [
          0,
          200
         ],
         "title": {
          "text": "avgWait_weekend"
         }
        },
        "yaxis2": {
         "anchor": "x2",
         "domain": [
          0,
          1
         ],
         "matches": "y",
         "range": [
          0,
          200
         ],
         "showticklabels": false
        }
       }
      },
      "text/html": [
       "<div>\n",
       "        \n",
       "        \n",
       "            <div id=\"69b51343-9c49-494a-8b8e-68393acee026\" class=\"plotly-graph-div\" style=\"height:525px; width:100%;\"></div>\n",
       "            <script type=\"text/javascript\">\n",
       "                require([\"plotly\"], function(Plotly) {\n",
       "                    window.PLOTLYENV=window.PLOTLYENV || {};\n",
       "                    \n",
       "                if (document.getElementById(\"69b51343-9c49-494a-8b8e-68393acee026\")) {\n",
       "                    Plotly.newPlot(\n",
       "                        '69b51343-9c49-494a-8b8e-68393acee026',\n",
       "                        [{\"alignmentgroup\": \"True\", \"hovertemplate\": \"direction=down<br>Local Time (GMT+8)=0<br>floor=%{x}<br>avgWait_weekend=%{y}<extra></extra>\", \"legendgroup\": \"down\", \"marker\": {\"color\": \"#636efa\"}, \"name\": \"down\", \"offsetgroup\": \"down\", \"orientation\": \"v\", \"showlegend\": true, \"textposition\": \"auto\", \"type\": \"bar\", \"x\": [\"1\", \"4\", \"8\", \"9\", \"10\", \"11\", \"12\", \"13\", \"14\", \"15\"], \"xaxis\": \"x\", \"y\": [8.504999999999999, 24.701818181818187, 21.319090909090907, 17.285, 19.735, 22.485294117647058, 19.459696969696967, 19.858611111111113, 16.496363636363636, 28.746923076923075], \"yaxis\": \"y\"}, {\"alignmentgroup\": \"True\", \"hovertemplate\": \"direction=up<br>Local Time (GMT+8)=0<br>floor=%{x}<br>avgWait_weekend=%{y}<extra></extra>\", \"legendgroup\": \"up\", \"marker\": {\"color\": \"#EF553B\"}, \"name\": \"up\", \"offsetgroup\": \"up\", \"orientation\": \"v\", \"showlegend\": true, \"textposition\": \"auto\", \"type\": \"bar\", \"x\": [\"1\", \"4\", \"8\", \"12\", \"B1\"], \"xaxis\": \"x2\", \"y\": [9.260576923076922, 18.59, 22.745, 22.070000000000004, 15.760000000000002], \"yaxis\": \"y2\"}],\n",
       "                        {\"annotations\": [{\"font\": {}, \"showarrow\": false, \"text\": \"direction=down\", \"x\": 0.245, \"xanchor\": \"center\", \"xref\": \"paper\", \"y\": 1.0, \"yanchor\": \"bottom\", \"yref\": \"paper\"}, {\"font\": {}, \"showarrow\": false, \"text\": \"direction=up\", \"x\": 0.755, \"xanchor\": \"center\", \"xref\": \"paper\", \"y\": 1.0, \"yanchor\": \"bottom\", \"yref\": \"paper\"}], \"barmode\": \"relative\", \"legend\": {\"title\": {\"text\": \"direction\"}, \"tracegroupgap\": 0}, \"margin\": {\"t\": 60}, \"sliders\": [{\"active\": 0, \"currentvalue\": {\"prefix\": \"Local Time (GMT+8)=\"}, \"len\": 0.9, \"pad\": {\"b\": 10, \"t\": 60}, \"steps\": [{\"args\": [[\"0\"], {\"frame\": {\"duration\": 0, \"redraw\": true}, \"fromcurrent\": true, \"mode\": \"immediate\", \"transition\": {\"duration\": 0, \"easing\": \"linear\"}}], \"label\": \"0\", \"method\": \"animate\"}, {\"args\": [[\"1\"], {\"frame\": {\"duration\": 0, \"redraw\": true}, \"fromcurrent\": true, \"mode\": \"immediate\", \"transition\": {\"duration\": 0, \"easing\": \"linear\"}}], \"label\": \"1\", \"method\": \"animate\"}, {\"args\": [[\"2\"], {\"frame\": {\"duration\": 0, \"redraw\": true}, \"fromcurrent\": true, \"mode\": \"immediate\", \"transition\": {\"duration\": 0, \"easing\": \"linear\"}}], \"label\": \"2\", \"method\": \"animate\"}, {\"args\": [[\"3\"], {\"frame\": {\"duration\": 0, \"redraw\": true}, \"fromcurrent\": true, \"mode\": \"immediate\", \"transition\": {\"duration\": 0, \"easing\": \"linear\"}}], \"label\": \"3\", \"method\": \"animate\"}, {\"args\": [[\"4\"], {\"frame\": {\"duration\": 0, \"redraw\": true}, \"fromcurrent\": true, \"mode\": \"immediate\", \"transition\": {\"duration\": 0, \"easing\": \"linear\"}}], \"label\": \"4\", \"method\": \"animate\"}, {\"args\": [[\"5\"], {\"frame\": {\"duration\": 0, \"redraw\": true}, \"fromcurrent\": true, \"mode\": \"immediate\", \"transition\": {\"duration\": 0, \"easing\": \"linear\"}}], \"label\": \"5\", \"method\": \"animate\"}, {\"args\": [[\"6\"], {\"frame\": {\"duration\": 0, \"redraw\": true}, \"fromcurrent\": true, \"mode\": \"immediate\", \"transition\": {\"duration\": 0, \"easing\": \"linear\"}}], \"label\": \"6\", \"method\": \"animate\"}, {\"args\": [[\"7\"], {\"frame\": {\"duration\": 0, \"redraw\": true}, \"fromcurrent\": true, \"mode\": \"immediate\", \"transition\": {\"duration\": 0, \"easing\": \"linear\"}}], \"label\": \"7\", \"method\": \"animate\"}, {\"args\": [[\"8\"], {\"frame\": {\"duration\": 0, \"redraw\": true}, \"fromcurrent\": true, \"mode\": \"immediate\", \"transition\": {\"duration\": 0, \"easing\": \"linear\"}}], \"label\": \"8\", \"method\": \"animate\"}, {\"args\": [[\"9\"], {\"frame\": {\"duration\": 0, \"redraw\": true}, \"fromcurrent\": true, \"mode\": \"immediate\", \"transition\": {\"duration\": 0, \"easing\": \"linear\"}}], \"label\": \"9\", \"method\": \"animate\"}, {\"args\": [[\"10\"], {\"frame\": {\"duration\": 0, \"redraw\": true}, \"fromcurrent\": true, \"mode\": \"immediate\", \"transition\": {\"duration\": 0, \"easing\": \"linear\"}}], \"label\": \"10\", \"method\": \"animate\"}, {\"args\": [[\"11\"], {\"frame\": {\"duration\": 0, \"redraw\": true}, \"fromcurrent\": true, \"mode\": \"immediate\", \"transition\": {\"duration\": 0, \"easing\": \"linear\"}}], \"label\": \"11\", \"method\": \"animate\"}, {\"args\": [[\"12\"], {\"frame\": {\"duration\": 0, \"redraw\": true}, \"fromcurrent\": true, \"mode\": \"immediate\", \"transition\": {\"duration\": 0, \"easing\": \"linear\"}}], \"label\": \"12\", \"method\": \"animate\"}, {\"args\": [[\"13\"], {\"frame\": {\"duration\": 0, \"redraw\": true}, \"fromcurrent\": true, \"mode\": \"immediate\", \"transition\": {\"duration\": 0, \"easing\": \"linear\"}}], \"label\": \"13\", \"method\": \"animate\"}, {\"args\": [[\"14\"], {\"frame\": {\"duration\": 0, \"redraw\": true}, \"fromcurrent\": true, \"mode\": \"immediate\", \"transition\": {\"duration\": 0, \"easing\": \"linear\"}}], \"label\": \"14\", \"method\": \"animate\"}, {\"args\": [[\"15\"], {\"frame\": {\"duration\": 0, \"redraw\": true}, \"fromcurrent\": true, \"mode\": \"immediate\", \"transition\": {\"duration\": 0, \"easing\": \"linear\"}}], \"label\": \"15\", \"method\": \"animate\"}, {\"args\": [[\"16\"], {\"frame\": {\"duration\": 0, \"redraw\": true}, \"fromcurrent\": true, \"mode\": \"immediate\", \"transition\": {\"duration\": 0, \"easing\": \"linear\"}}], \"label\": \"16\", \"method\": \"animate\"}, {\"args\": [[\"17\"], {\"frame\": {\"duration\": 0, \"redraw\": true}, \"fromcurrent\": true, \"mode\": \"immediate\", \"transition\": {\"duration\": 0, \"easing\": \"linear\"}}], \"label\": \"17\", \"method\": \"animate\"}, {\"args\": [[\"18\"], {\"frame\": {\"duration\": 0, \"redraw\": true}, \"fromcurrent\": true, \"mode\": \"immediate\", \"transition\": {\"duration\": 0, \"easing\": \"linear\"}}], \"label\": \"18\", \"method\": \"animate\"}, {\"args\": [[\"19\"], {\"frame\": {\"duration\": 0, \"redraw\": true}, \"fromcurrent\": true, \"mode\": \"immediate\", \"transition\": {\"duration\": 0, \"easing\": \"linear\"}}], \"label\": \"19\", \"method\": \"animate\"}, {\"args\": [[\"20\"], {\"frame\": {\"duration\": 0, \"redraw\": true}, \"fromcurrent\": true, \"mode\": \"immediate\", \"transition\": {\"duration\": 0, \"easing\": \"linear\"}}], \"label\": \"20\", \"method\": \"animate\"}, {\"args\": [[\"21\"], {\"frame\": {\"duration\": 0, \"redraw\": true}, \"fromcurrent\": true, \"mode\": \"immediate\", \"transition\": {\"duration\": 0, \"easing\": \"linear\"}}], \"label\": \"21\", \"method\": \"animate\"}, {\"args\": [[\"22\"], {\"frame\": {\"duration\": 0, \"redraw\": true}, \"fromcurrent\": true, \"mode\": \"immediate\", \"transition\": {\"duration\": 0, \"easing\": \"linear\"}}], \"label\": \"22\", \"method\": \"animate\"}, {\"args\": [[\"23\"], {\"frame\": {\"duration\": 0, \"redraw\": true}, \"fromcurrent\": true, \"mode\": \"immediate\", \"transition\": {\"duration\": 0, \"easing\": \"linear\"}}], \"label\": \"23\", \"method\": \"animate\"}], \"x\": 0.1, \"xanchor\": \"left\", \"y\": 0, \"yanchor\": \"top\"}], \"template\": {\"data\": {\"bar\": [{\"error_x\": {\"color\": \"#2a3f5f\"}, \"error_y\": {\"color\": \"#2a3f5f\"}, \"marker\": {\"line\": {\"color\": \"#E5ECF6\", \"width\": 0.5}}, \"type\": \"bar\"}], \"barpolar\": [{\"marker\": {\"line\": {\"color\": \"#E5ECF6\", \"width\": 0.5}}, \"type\": \"barpolar\"}], \"carpet\": [{\"aaxis\": {\"endlinecolor\": \"#2a3f5f\", \"gridcolor\": \"white\", \"linecolor\": \"white\", \"minorgridcolor\": \"white\", \"startlinecolor\": \"#2a3f5f\"}, \"baxis\": {\"endlinecolor\": \"#2a3f5f\", \"gridcolor\": \"white\", \"linecolor\": \"white\", \"minorgridcolor\": \"white\", \"startlinecolor\": \"#2a3f5f\"}, \"type\": \"carpet\"}], \"choropleth\": [{\"colorbar\": {\"outlinewidth\": 0, \"ticks\": \"\"}, \"type\": \"choropleth\"}], \"contour\": [{\"colorbar\": {\"outlinewidth\": 0, \"ticks\": \"\"}, \"colorscale\": [[0.0, \"#0d0887\"], [0.1111111111111111, \"#46039f\"], [0.2222222222222222, \"#7201a8\"], [0.3333333333333333, \"#9c179e\"], [0.4444444444444444, \"#bd3786\"], [0.5555555555555556, \"#d8576b\"], [0.6666666666666666, \"#ed7953\"], [0.7777777777777778, \"#fb9f3a\"], [0.8888888888888888, \"#fdca26\"], [1.0, \"#f0f921\"]], \"type\": \"contour\"}], \"contourcarpet\": [{\"colorbar\": {\"outlinewidth\": 0, \"ticks\": \"\"}, \"type\": \"contourcarpet\"}], \"heatmap\": [{\"colorbar\": {\"outlinewidth\": 0, \"ticks\": \"\"}, \"colorscale\": [[0.0, \"#0d0887\"], [0.1111111111111111, \"#46039f\"], [0.2222222222222222, \"#7201a8\"], [0.3333333333333333, \"#9c179e\"], [0.4444444444444444, \"#bd3786\"], [0.5555555555555556, \"#d8576b\"], [0.6666666666666666, \"#ed7953\"], [0.7777777777777778, \"#fb9f3a\"], [0.8888888888888888, \"#fdca26\"], [1.0, \"#f0f921\"]], \"type\": \"heatmap\"}], \"heatmapgl\": [{\"colorbar\": {\"outlinewidth\": 0, \"ticks\": \"\"}, \"colorscale\": [[0.0, \"#0d0887\"], [0.1111111111111111, \"#46039f\"], [0.2222222222222222, \"#7201a8\"], [0.3333333333333333, \"#9c179e\"], [0.4444444444444444, \"#bd3786\"], [0.5555555555555556, \"#d8576b\"], [0.6666666666666666, \"#ed7953\"], [0.7777777777777778, \"#fb9f3a\"], [0.8888888888888888, \"#fdca26\"], [1.0, \"#f0f921\"]], \"type\": \"heatmapgl\"}], \"histogram\": [{\"marker\": {\"colorbar\": {\"outlinewidth\": 0, \"ticks\": \"\"}}, \"type\": \"histogram\"}], \"histogram2d\": [{\"colorbar\": {\"outlinewidth\": 0, \"ticks\": \"\"}, \"colorscale\": [[0.0, \"#0d0887\"], [0.1111111111111111, \"#46039f\"], [0.2222222222222222, \"#7201a8\"], [0.3333333333333333, \"#9c179e\"], [0.4444444444444444, \"#bd3786\"], [0.5555555555555556, \"#d8576b\"], [0.6666666666666666, \"#ed7953\"], [0.7777777777777778, \"#fb9f3a\"], [0.8888888888888888, \"#fdca26\"], [1.0, \"#f0f921\"]], \"type\": \"histogram2d\"}], \"histogram2dcontour\": [{\"colorbar\": {\"outlinewidth\": 0, \"ticks\": \"\"}, \"colorscale\": [[0.0, \"#0d0887\"], [0.1111111111111111, \"#46039f\"], [0.2222222222222222, \"#7201a8\"], [0.3333333333333333, \"#9c179e\"], [0.4444444444444444, \"#bd3786\"], [0.5555555555555556, \"#d8576b\"], [0.6666666666666666, \"#ed7953\"], [0.7777777777777778, \"#fb9f3a\"], [0.8888888888888888, \"#fdca26\"], [1.0, \"#f0f921\"]], \"type\": \"histogram2dcontour\"}], \"mesh3d\": [{\"colorbar\": {\"outlinewidth\": 0, \"ticks\": \"\"}, \"type\": \"mesh3d\"}], \"parcoords\": [{\"line\": {\"colorbar\": {\"outlinewidth\": 0, \"ticks\": \"\"}}, \"type\": \"parcoords\"}], \"pie\": [{\"automargin\": true, \"type\": \"pie\"}], \"scatter\": [{\"marker\": {\"colorbar\": {\"outlinewidth\": 0, \"ticks\": \"\"}}, \"type\": \"scatter\"}], \"scatter3d\": [{\"line\": {\"colorbar\": {\"outlinewidth\": 0, \"ticks\": \"\"}}, \"marker\": {\"colorbar\": {\"outlinewidth\": 0, \"ticks\": \"\"}}, \"type\": \"scatter3d\"}], \"scattercarpet\": [{\"marker\": {\"colorbar\": {\"outlinewidth\": 0, \"ticks\": \"\"}}, \"type\": \"scattercarpet\"}], \"scattergeo\": [{\"marker\": {\"colorbar\": {\"outlinewidth\": 0, \"ticks\": \"\"}}, \"type\": \"scattergeo\"}], \"scattergl\": [{\"marker\": {\"colorbar\": {\"outlinewidth\": 0, \"ticks\": \"\"}}, \"type\": \"scattergl\"}], \"scattermapbox\": [{\"marker\": {\"colorbar\": {\"outlinewidth\": 0, \"ticks\": \"\"}}, \"type\": \"scattermapbox\"}], \"scatterpolar\": [{\"marker\": {\"colorbar\": {\"outlinewidth\": 0, \"ticks\": \"\"}}, \"type\": \"scatterpolar\"}], \"scatterpolargl\": [{\"marker\": {\"colorbar\": {\"outlinewidth\": 0, \"ticks\": \"\"}}, \"type\": \"scatterpolargl\"}], \"scatterternary\": [{\"marker\": {\"colorbar\": {\"outlinewidth\": 0, \"ticks\": \"\"}}, \"type\": \"scatterternary\"}], \"surface\": [{\"colorbar\": {\"outlinewidth\": 0, \"ticks\": \"\"}, \"colorscale\": [[0.0, \"#0d0887\"], [0.1111111111111111, \"#46039f\"], [0.2222222222222222, \"#7201a8\"], [0.3333333333333333, \"#9c179e\"], [0.4444444444444444, \"#bd3786\"], [0.5555555555555556, \"#d8576b\"], [0.6666666666666666, \"#ed7953\"], [0.7777777777777778, \"#fb9f3a\"], [0.8888888888888888, \"#fdca26\"], [1.0, \"#f0f921\"]], \"type\": \"surface\"}], \"table\": [{\"cells\": {\"fill\": {\"color\": \"#EBF0F8\"}, \"line\": {\"color\": \"white\"}}, \"header\": {\"fill\": {\"color\": \"#C8D4E3\"}, \"line\": {\"color\": \"white\"}}, \"type\": \"table\"}]}, \"layout\": {\"annotationdefaults\": {\"arrowcolor\": \"#2a3f5f\", \"arrowhead\": 0, \"arrowwidth\": 1}, \"coloraxis\": {\"colorbar\": {\"outlinewidth\": 0, \"ticks\": \"\"}}, \"colorscale\": {\"diverging\": [[0, \"#8e0152\"], [0.1, \"#c51b7d\"], [0.2, \"#de77ae\"], [0.3, \"#f1b6da\"], [0.4, \"#fde0ef\"], [0.5, \"#f7f7f7\"], [0.6, \"#e6f5d0\"], [0.7, \"#b8e186\"], [0.8, \"#7fbc41\"], [0.9, \"#4d9221\"], [1, \"#276419\"]], \"sequential\": [[0.0, \"#0d0887\"], [0.1111111111111111, \"#46039f\"], [0.2222222222222222, \"#7201a8\"], [0.3333333333333333, \"#9c179e\"], [0.4444444444444444, \"#bd3786\"], [0.5555555555555556, \"#d8576b\"], [0.6666666666666666, \"#ed7953\"], [0.7777777777777778, \"#fb9f3a\"], [0.8888888888888888, \"#fdca26\"], [1.0, \"#f0f921\"]], \"sequentialminus\": [[0.0, \"#0d0887\"], [0.1111111111111111, \"#46039f\"], [0.2222222222222222, \"#7201a8\"], [0.3333333333333333, \"#9c179e\"], [0.4444444444444444, \"#bd3786\"], [0.5555555555555556, \"#d8576b\"], [0.6666666666666666, \"#ed7953\"], [0.7777777777777778, \"#fb9f3a\"], [0.8888888888888888, \"#fdca26\"], [1.0, \"#f0f921\"]]}, \"colorway\": [\"#636efa\", \"#EF553B\", \"#00cc96\", \"#ab63fa\", \"#FFA15A\", \"#19d3f3\", \"#FF6692\", \"#B6E880\", \"#FF97FF\", \"#FECB52\"], \"font\": {\"color\": \"#2a3f5f\"}, \"geo\": {\"bgcolor\": \"white\", \"lakecolor\": \"white\", \"landcolor\": \"#E5ECF6\", \"showlakes\": true, \"showland\": true, \"subunitcolor\": \"white\"}, \"hoverlabel\": {\"align\": \"left\"}, \"hovermode\": \"closest\", \"mapbox\": {\"style\": \"light\"}, \"paper_bgcolor\": \"white\", \"plot_bgcolor\": \"#E5ECF6\", \"polar\": {\"angularaxis\": {\"gridcolor\": \"white\", \"linecolor\": \"white\", \"ticks\": \"\"}, \"bgcolor\": \"#E5ECF6\", \"radialaxis\": {\"gridcolor\": \"white\", \"linecolor\": \"white\", \"ticks\": \"\"}}, \"scene\": {\"xaxis\": {\"backgroundcolor\": \"#E5ECF6\", \"gridcolor\": \"white\", \"gridwidth\": 2, \"linecolor\": \"white\", \"showbackground\": true, \"ticks\": \"\", \"zerolinecolor\": \"white\"}, \"yaxis\": {\"backgroundcolor\": \"#E5ECF6\", \"gridcolor\": \"white\", \"gridwidth\": 2, \"linecolor\": \"white\", \"showbackground\": true, \"ticks\": \"\", \"zerolinecolor\": \"white\"}, \"zaxis\": {\"backgroundcolor\": \"#E5ECF6\", \"gridcolor\": \"white\", \"gridwidth\": 2, \"linecolor\": \"white\", \"showbackground\": true, \"ticks\": \"\", \"zerolinecolor\": \"white\"}}, \"shapedefaults\": {\"line\": {\"color\": \"#2a3f5f\"}}, \"ternary\": {\"aaxis\": {\"gridcolor\": \"white\", \"linecolor\": \"white\", \"ticks\": \"\"}, \"baxis\": {\"gridcolor\": \"white\", \"linecolor\": \"white\", \"ticks\": \"\"}, \"bgcolor\": \"#E5ECF6\", \"caxis\": {\"gridcolor\": \"white\", \"linecolor\": \"white\", \"ticks\": \"\"}}, \"title\": {\"x\": 0.05}, \"xaxis\": {\"automargin\": true, \"gridcolor\": \"white\", \"linecolor\": \"white\", \"ticks\": \"\", \"title\": {\"standoff\": 15}, \"zerolinecolor\": \"white\", \"zerolinewidth\": 2}, \"yaxis\": {\"automargin\": true, \"gridcolor\": \"white\", \"linecolor\": \"white\", \"ticks\": \"\", \"title\": {\"standoff\": 15}, \"zerolinecolor\": \"white\", \"zerolinewidth\": 2}}}, \"title\": {\"text\": \"Average waiting time of Elevator Calls by Floor on weekend\"}, \"updatemenus\": [{\"buttons\": [{\"args\": [null, {\"frame\": {\"duration\": 500, \"redraw\": true}, \"fromcurrent\": true, \"mode\": \"immediate\", \"transition\": {\"duration\": 500, \"easing\": \"linear\"}}], \"label\": \"&#9654;\", \"method\": \"animate\"}, {\"args\": [[null], {\"frame\": {\"duration\": 0, \"redraw\": true}, \"fromcurrent\": true, \"mode\": \"immediate\", \"transition\": {\"duration\": 0, \"easing\": \"linear\"}}], \"label\": \"&#9724;\", \"method\": \"animate\"}], \"direction\": \"left\", \"pad\": {\"r\": 10, \"t\": 70}, \"showactive\": false, \"type\": \"buttons\", \"x\": 0.1, \"xanchor\": \"right\", \"y\": 0, \"yanchor\": \"top\"}], \"xaxis\": {\"anchor\": \"y\", \"categoryarray\": [\"1\", \"2\", \"3\", \"4\", \"5\", \"6\", \"7\", \"8\", \"9\", \"10\", \"11\", \"12\", \"13\", \"14\", \"15\", \"B1\", \"B2\", \"B3\", \"B4\"], \"domain\": [0.0, 0.49], \"nticks\": 19, \"title\": {\"text\": \"floor\"}, \"type\": \"category\"}, \"xaxis2\": {\"anchor\": \"y2\", \"categoryarray\": [\"1\", \"2\", \"3\", \"4\", \"5\", \"6\", \"7\", \"8\", \"9\", \"10\", \"11\", \"12\", \"13\", \"14\", \"15\", \"B1\", \"B2\", \"B3\", \"B4\"], \"domain\": [0.51, 1.0], \"matches\": \"x\", \"nticks\": 19, \"title\": {\"text\": \"floor\"}, \"type\": \"category\"}, \"yaxis\": {\"anchor\": \"x\", \"domain\": [0.0, 1.0], \"range\": [0, 200], \"title\": {\"text\": \"avgWait_weekend\"}}, \"yaxis2\": {\"anchor\": \"x2\", \"domain\": [0.0, 1.0], \"matches\": \"y\", \"range\": [0, 200], \"showticklabels\": false}},\n",
       "                        {\"responsive\": true}\n",
       "                    ).then(function(){\n",
       "                            Plotly.addFrames('69b51343-9c49-494a-8b8e-68393acee026', [{\"data\": [{\"alignmentgroup\": \"True\", \"hovertemplate\": \"direction=down<br>Local Time (GMT+8)=0<br>floor=%{x}<br>avgWait_weekend=%{y}<extra></extra>\", \"legendgroup\": \"down\", \"marker\": {\"color\": \"#636efa\"}, \"name\": \"down\", \"offsetgroup\": \"down\", \"orientation\": \"v\", \"showlegend\": true, \"textposition\": \"auto\", \"x\": [\"1\", \"4\", \"8\", \"9\", \"10\", \"11\", \"12\", \"13\", \"14\", \"15\"], \"xaxis\": \"x\", \"y\": [8.504999999999999, 24.701818181818187, 21.319090909090907, 17.285, 19.735, 22.485294117647058, 19.459696969696967, 19.858611111111113, 16.496363636363636, 28.746923076923075], \"yaxis\": \"y\", \"type\": \"bar\"}, {\"alignmentgroup\": \"True\", \"hovertemplate\": \"direction=up<br>Local Time (GMT+8)=0<br>floor=%{x}<br>avgWait_weekend=%{y}<extra></extra>\", \"legendgroup\": \"up\", \"marker\": {\"color\": \"#EF553B\"}, \"name\": \"up\", \"offsetgroup\": \"up\", \"orientation\": \"v\", \"showlegend\": true, \"textposition\": \"auto\", \"x\": [\"1\", \"4\", \"8\", \"12\", \"B1\"], \"xaxis\": \"x2\", \"y\": [9.260576923076922, 18.59, 22.745, 22.070000000000004, 15.760000000000002], \"yaxis\": \"y2\", \"type\": \"bar\"}], \"name\": \"0\"}, {\"data\": [{\"alignmentgroup\": \"True\", \"hovertemplate\": \"direction=down<br>Local Time (GMT+8)=1<br>floor=%{x}<br>avgWait_weekend=%{y}<extra></extra>\", \"legendgroup\": \"down\", \"marker\": {\"color\": \"#636efa\"}, \"name\": \"down\", \"offsetgroup\": \"down\", \"orientation\": \"v\", \"showlegend\": true, \"textposition\": \"auto\", \"x\": [\"1\", \"4\", \"8\", \"9\", \"10\", \"11\", \"12\", \"13\", \"14\", \"15\"], \"xaxis\": \"x\", \"y\": [2.1925, 27.90888888888889, 25.00642857142857, 15.017647058823528, 21.53, 13.908, 18.031923076923075, 22.6655, 26.396666666666665, 22.92833333333333], \"yaxis\": \"y\", \"type\": \"bar\"}, {\"alignmentgroup\": \"True\", \"hovertemplate\": \"direction=up<br>Local Time (GMT+8)=1<br>floor=%{x}<br>avgWait_weekend=%{y}<extra></extra>\", \"legendgroup\": \"up\", \"marker\": {\"color\": \"#EF553B\"}, \"name\": \"up\", \"offsetgroup\": \"up\", \"orientation\": \"v\", \"showlegend\": true, \"textposition\": \"auto\", \"x\": [\"1\", \"4\", \"8\", \"B1\"], \"xaxis\": \"x2\", \"y\": [6.564871794871794, 22.845, 11.876666666666667, 4.3740000000000006], \"yaxis\": \"y2\", \"type\": \"bar\"}], \"name\": \"1\"}, {\"data\": [{\"alignmentgroup\": \"True\", \"hovertemplate\": \"direction=down<br>Local Time (GMT+8)=2<br>floor=%{x}<br>avgWait_weekend=%{y}<extra></extra>\", \"legendgroup\": \"down\", \"marker\": {\"color\": \"#636efa\"}, \"name\": \"down\", \"offsetgroup\": \"down\", \"orientation\": \"v\", \"showlegend\": true, \"textposition\": \"auto\", \"x\": [\"1\", \"2\", \"4\", \"8\", \"9\", \"10\", \"11\", \"12\", \"13\", \"14\", \"15\"], \"xaxis\": \"x\", \"y\": [10.803333333333333, 16.18, 38.12000000000001, 15.616666666666665, 19.92058823529411, 0.25, 18.071, 16.846153846153847, 17.288, 21.088888888888892, 29.84666666666667], \"yaxis\": \"y\", \"type\": \"bar\"}, {\"alignmentgroup\": \"True\", \"hovertemplate\": \"direction=up<br>Local Time (GMT+8)=2<br>floor=%{x}<br>avgWait_weekend=%{y}<extra></extra>\", \"legendgroup\": \"up\", \"marker\": {\"color\": \"#EF553B\"}, \"name\": \"up\", \"offsetgroup\": \"up\", \"orientation\": \"v\", \"showlegend\": true, \"textposition\": \"auto\", \"x\": [\"1\", \"4\", \"B1\"], \"xaxis\": \"x2\", \"y\": [6.360888888888888, 13.36, 6.9620000000000015], \"yaxis\": \"y2\", \"type\": \"bar\"}], \"name\": \"2\"}, {\"data\": [{\"alignmentgroup\": \"True\", \"hovertemplate\": \"direction=down<br>Local Time (GMT+8)=3<br>floor=%{x}<br>avgWait_weekend=%{y}<extra></extra>\", \"legendgroup\": \"down\", \"marker\": {\"color\": \"#636efa\"}, \"name\": \"down\", \"offsetgroup\": \"down\", \"orientation\": \"v\", \"showlegend\": true, \"textposition\": \"auto\", \"x\": [\"1\", \"4\", \"8\", \"9\", \"11\", \"12\", \"13\", \"14\", \"15\"], \"xaxis\": \"x\", \"y\": [3.433333333333333, 24.855, 24.29375, 20.77833333333333, 9.98923076923077, 12.2175, 23.188000000000002, 17.286666666666665, 9.34], \"yaxis\": \"y\", \"type\": \"bar\"}, {\"alignmentgroup\": \"True\", \"hovertemplate\": \"direction=up<br>Local Time (GMT+8)=3<br>floor=%{x}<br>avgWait_weekend=%{y}<extra></extra>\", \"legendgroup\": \"up\", \"marker\": {\"color\": \"#EF553B\"}, \"name\": \"up\", \"offsetgroup\": \"up\", \"orientation\": \"v\", \"showlegend\": true, \"textposition\": \"auto\", \"x\": [\"1\", \"B1\"], \"xaxis\": \"x2\", \"y\": [8.64102564102564, 10.1275], \"yaxis\": \"y2\", \"type\": \"bar\"}], \"name\": \"3\"}, {\"data\": [{\"alignmentgroup\": \"True\", \"hovertemplate\": \"direction=down<br>Local Time (GMT+8)=4<br>floor=%{x}<br>avgWait_weekend=%{y}<extra></extra>\", \"legendgroup\": \"down\", \"marker\": {\"color\": \"#636efa\"}, \"name\": \"down\", \"offsetgroup\": \"down\", \"orientation\": \"v\", \"showlegend\": true, \"textposition\": \"auto\", \"x\": [\"1\", \"2\", \"4\", \"8\", \"9\", \"11\", \"12\", \"13\", \"14\", \"15\"], \"xaxis\": \"x\", \"y\": [6.408, 24.78, 18.648333333333333, 15.355, 24.153846153846153, 16.836666666666666, 22.05857142857143, 17.125, 17.664285714285715, 27.0925], \"yaxis\": \"y\", \"type\": \"bar\"}, {\"alignmentgroup\": \"True\", \"hovertemplate\": \"direction=up<br>Local Time (GMT+8)=4<br>floor=%{x}<br>avgWait_weekend=%{y}<extra></extra>\", \"legendgroup\": \"up\", \"marker\": {\"color\": \"#EF553B\"}, \"name\": \"up\", \"offsetgroup\": \"up\", \"orientation\": \"v\", \"showlegend\": true, \"textposition\": \"auto\", \"x\": [\"1\", \"2\", \"4\", \"B1\"], \"xaxis\": \"x2\", \"y\": [10.06125, 5.44, 28.7, 8.245], \"yaxis\": \"y2\", \"type\": \"bar\"}], \"name\": \"4\"}, {\"data\": [{\"alignmentgroup\": \"True\", \"hovertemplate\": \"direction=down<br>Local Time (GMT+8)=5<br>floor=%{x}<br>avgWait_weekend=%{y}<extra></extra>\", \"legendgroup\": \"down\", \"marker\": {\"color\": \"#636efa\"}, \"name\": \"down\", \"offsetgroup\": \"down\", \"orientation\": \"v\", \"showlegend\": true, \"textposition\": \"auto\", \"x\": [\"1\", \"2\", \"4\", \"8\", \"9\", \"10\", \"11\", \"12\", \"13\", \"14\", \"15\", \"B1\"], \"xaxis\": \"x\", \"y\": [14.952857142857145, 16.54, 25.975, 20.775, 15.202142857142857, 0.76, 20.439285714285713, 22.68409090909091, 19.58153846153846, 21.476428571428574, 15.96583333333333, 53.95], \"yaxis\": \"y\", \"type\": \"bar\"}, {\"alignmentgroup\": \"True\", \"hovertemplate\": \"direction=up<br>Local Time (GMT+8)=5<br>floor=%{x}<br>avgWait_weekend=%{y}<extra></extra>\", \"legendgroup\": \"up\", \"marker\": {\"color\": \"#EF553B\"}, \"name\": \"up\", \"offsetgroup\": \"up\", \"orientation\": \"v\", \"showlegend\": true, \"textposition\": \"auto\", \"x\": [\"1\", \"4\", \"8\", \"9\", \"10\", \"11\", \"13\", \"14\", \"B1\"], \"xaxis\": \"x2\", \"y\": [10.305774647887324, 15.43, 12.73, 26.97, 1.56, 17.45, 25.805, 23.975, 9.844666666666667], \"yaxis\": \"y2\", \"type\": \"bar\"}], \"name\": \"5\"}, {\"data\": [{\"alignmentgroup\": \"True\", \"hovertemplate\": \"direction=down<br>Local Time (GMT+8)=6<br>floor=%{x}<br>avgWait_weekend=%{y}<extra></extra>\", \"legendgroup\": \"down\", \"marker\": {\"color\": \"#636efa\"}, \"name\": \"down\", \"offsetgroup\": \"down\", \"orientation\": \"v\", \"showlegend\": true, \"textposition\": \"auto\", \"x\": [\"1\", \"2\", \"4\", \"8\", \"9\", \"11\", \"12\", \"13\", \"14\", \"15\", \"B1\"], \"xaxis\": \"x\", \"y\": [31.16500000000001, 10.89, 67.745, 21.783428571428576, 25.10967741935484, 28.71163636363636, 34.2963768115942, 23.085416666666664, 25.548840579710145, 34.661944444444444, 32.322], \"yaxis\": \"y\", \"type\": \"bar\"}, {\"alignmentgroup\": \"True\", \"hovertemplate\": \"direction=up<br>Local Time (GMT+8)=6<br>floor=%{x}<br>avgWait_weekend=%{y}<extra></extra>\", \"legendgroup\": \"up\", \"marker\": {\"color\": \"#EF553B\"}, \"name\": \"up\", \"offsetgroup\": \"up\", \"orientation\": \"v\", \"showlegend\": true, \"textposition\": \"auto\", \"x\": [\"1\", \"4\", \"8\", \"9\", \"10\", \"11\", \"12\", \"13\", \"14\", \"B1\"], \"xaxis\": \"x2\", \"y\": [22.1937890625, 13.475, 23.955, 21.805999999999997, 13.83, 52.19333333333333, 47.12333333333334, 14.383333333333333, 27.034, 28.860238095238103], \"yaxis\": \"y2\", \"type\": \"bar\"}], \"name\": \"6\"}, {\"data\": [{\"alignmentgroup\": \"True\", \"hovertemplate\": \"direction=down<br>Local Time (GMT+8)=7<br>floor=%{x}<br>avgWait_weekend=%{y}<extra></extra>\", \"legendgroup\": \"down\", \"marker\": {\"color\": \"#636efa\"}, \"name\": \"down\", \"offsetgroup\": \"down\", \"orientation\": \"v\", \"showlegend\": true, \"textposition\": \"auto\", \"x\": [\"1\", \"2\", \"4\", \"8\", \"9\", \"10\", \"11\", \"12\", \"13\", \"14\", \"15\", \"B1\"], \"xaxis\": \"x\", \"y\": [66.7595, 32.88333333333333, 106.0942857142857, 21.132266666666666, 27.65943181818182, 9.86285714285714, 29.092650602409638, 49.17707070707071, 41.20500000000001, 37.627692307692314, 43.0436, 29.18875], \"yaxis\": \"y\", \"type\": \"bar\"}, {\"alignmentgroup\": \"True\", \"hovertemplate\": \"direction=up<br>Local Time (GMT+8)=7<br>floor=%{x}<br>avgWait_weekend=%{y}<extra></extra>\", \"legendgroup\": \"up\", \"marker\": {\"color\": \"#EF553B\"}, \"name\": \"up\", \"offsetgroup\": \"up\", \"orientation\": \"v\", \"showlegend\": true, \"textposition\": \"auto\", \"x\": [\"1\", \"2\", \"4\", \"8\", \"9\", \"10\", \"11\", \"12\", \"13\", \"14\", \"B1\"], \"xaxis\": \"x2\", \"y\": [24.95310638297872, 15.988, 14.74206896551724, 65.79821428571428, 65.65166666666667, 46.15, 56.1925, 66.27666666666667, 69.36800000000001, 50.19750000000001, 54.81061452513968], \"yaxis\": \"y2\", \"type\": \"bar\"}], \"name\": \"7\"}, {\"data\": [{\"alignmentgroup\": \"True\", \"hovertemplate\": \"direction=down<br>Local Time (GMT+8)=8<br>floor=%{x}<br>avgWait_weekend=%{y}<extra></extra>\", \"legendgroup\": \"down\", \"marker\": {\"color\": \"#636efa\"}, \"name\": \"down\", \"offsetgroup\": \"down\", \"orientation\": \"v\", \"showlegend\": true, \"textposition\": \"auto\", \"x\": [\"1\", \"2\", \"4\", \"8\", \"9\", \"10\", \"11\", \"12\", \"13\", \"14\", \"15\", \"B1\"], \"xaxis\": \"x\", \"y\": [63.398684210526326, 70.77375, 101.54022222222223, 17.310925925925925, 21.271374045801533, 18.41, 26.53716814159292, 36.30753968253968, 33.359918699187006, 40.044363636363634, 54.660319148936175, 43.03083333333333], \"yaxis\": \"y\", \"type\": \"bar\"}, {\"alignmentgroup\": \"True\", \"hovertemplate\": \"direction=up<br>Local Time (GMT+8)=8<br>floor=%{x}<br>avgWait_weekend=%{y}<extra></extra>\", \"legendgroup\": \"up\", \"marker\": {\"color\": \"#EF553B\"}, \"name\": \"up\", \"offsetgroup\": \"up\", \"orientation\": \"v\", \"showlegend\": true, \"textposition\": \"auto\", \"x\": [\"1\", \"2\", \"4\", \"8\", \"9\", \"10\", \"11\", \"12\", \"13\", \"14\", \"B1\"], \"xaxis\": \"x2\", \"y\": [29.847853658536586, 11.962592592592593, 15.093953488372092, 74.29617647058822, 54.9005, 64.35548387096775, 35.735, 17.588, 63.83900000000001, 80.485, 67.26494318181818], \"yaxis\": \"y2\", \"type\": \"bar\"}], \"name\": \"8\"}, {\"data\": [{\"alignmentgroup\": \"True\", \"hovertemplate\": \"direction=down<br>Local Time (GMT+8)=9<br>floor=%{x}<br>avgWait_weekend=%{y}<extra></extra>\", \"legendgroup\": \"down\", \"marker\": {\"color\": \"#636efa\"}, \"name\": \"down\", \"offsetgroup\": \"down\", \"orientation\": \"v\", \"showlegend\": true, \"textposition\": \"auto\", \"x\": [\"1\", \"2\", \"4\", \"8\", \"9\", \"10\", \"11\", \"12\", \"13\", \"14\", \"15\", \"B1\"], \"xaxis\": \"x\", \"y\": [35.088, 52.88777777777778, 71.82518518518519, 16.29018018018018, 19.947615384615386, 12.92128205128205, 22.655535714285715, 41.2234328358209, 27.193898305084748, 37.596160714285716, 55.669611650485436, 65.86999999999999], \"yaxis\": \"y\", \"type\": \"bar\"}, {\"alignmentgroup\": \"True\", \"hovertemplate\": \"direction=up<br>Local Time (GMT+8)=9<br>floor=%{x}<br>avgWait_weekend=%{y}<extra></extra>\", \"legendgroup\": \"up\", \"marker\": {\"color\": \"#EF553B\"}, \"name\": \"up\", \"offsetgroup\": \"up\", \"orientation\": \"v\", \"showlegend\": true, \"textposition\": \"auto\", \"x\": [\"1\", \"2\", \"4\", \"8\", \"9\", \"10\", \"11\", \"12\", \"13\", \"14\", \"B1\"], \"xaxis\": \"x2\", \"y\": [31.846604651162792, 9.220833333333333, 11.806818181818182, 84.4506818181818, 72.4223076923077, 42.214666666666666, 15.842, 34.73571428571429, 79.16333333333334, 58.3225, 61.33326666666667], \"yaxis\": \"y2\", \"type\": \"bar\"}], \"name\": \"9\"}, {\"data\": [{\"alignmentgroup\": \"True\", \"hovertemplate\": \"direction=down<br>Local Time (GMT+8)=10<br>floor=%{x}<br>avgWait_weekend=%{y}<extra></extra>\", \"legendgroup\": \"down\", \"marker\": {\"color\": \"#636efa\"}, \"name\": \"down\", \"offsetgroup\": \"down\", \"orientation\": \"v\", \"showlegend\": true, \"textposition\": \"auto\", \"x\": [\"1\", \"2\", \"4\", \"8\", \"9\", \"10\", \"11\", \"12\", \"13\", \"14\", \"15\", \"B1\"], \"xaxis\": \"x\", \"y\": [63.98265306122449, 61.04545454545455, 98.18947368421051, 14.138125, 16.412661290322582, 16.84923076923077, 28.556608695652177, 49.823150684931505, 27.85709401709401, 45.61757575757575, 62.24307692307693, 96.042], \"yaxis\": \"y\", \"type\": \"bar\"}, {\"alignmentgroup\": \"True\", \"hovertemplate\": \"direction=up<br>Local Time (GMT+8)=10<br>floor=%{x}<br>avgWait_weekend=%{y}<extra></extra>\", \"legendgroup\": \"up\", \"marker\": {\"color\": \"#EF553B\"}, \"name\": \"up\", \"offsetgroup\": \"up\", \"orientation\": \"v\", \"showlegend\": true, \"textposition\": \"auto\", \"x\": [\"1\", \"2\", \"4\", \"8\", \"9\", \"10\", \"11\", \"12\", \"13\", \"14\", \"B1\"], \"xaxis\": \"x2\", \"y\": [33.074473684210524, 13.018157894736841, 16.014999999999993, 74.58154929577466, 25.05789473684211, 40.78333333333333, 39.9775, 49.25363636363636, 96.64, 107.431, 69.13268456375839], \"yaxis\": \"y2\", \"type\": \"bar\"}], \"name\": \"10\"}, {\"data\": [{\"alignmentgroup\": \"True\", \"hovertemplate\": \"direction=down<br>Local Time (GMT+8)=11<br>floor=%{x}<br>avgWait_weekend=%{y}<extra></extra>\", \"legendgroup\": \"down\", \"marker\": {\"color\": \"#636efa\"}, \"name\": \"down\", \"offsetgroup\": \"down\", \"orientation\": \"v\", \"showlegend\": true, \"textposition\": \"auto\", \"x\": [\"1\", \"2\", \"4\", \"8\", \"9\", \"10\", \"11\", \"12\", \"13\", \"14\", \"15\", \"B1\"], \"xaxis\": \"x\", \"y\": [52.87042553191489, 42.97103448275864, 81.154776119403, 15.798878504672894, 16.616985294117647, 16.98, 27.827841726618704, 48.02463768115942, 23.567235772357726, 34.752265625, 66.1494262295082, 33.138125], \"yaxis\": \"y\", \"type\": \"bar\"}, {\"alignmentgroup\": \"True\", \"hovertemplate\": \"direction=up<br>Local Time (GMT+8)=11<br>floor=%{x}<br>avgWait_weekend=%{y}<extra></extra>\", \"legendgroup\": \"up\", \"marker\": {\"color\": \"#EF553B\"}, \"name\": \"up\", \"offsetgroup\": \"up\", \"orientation\": \"v\", \"showlegend\": true, \"textposition\": \"auto\", \"x\": [\"1\", \"2\", \"4\", \"8\", \"9\", \"10\", \"11\", \"12\", \"13\", \"14\", \"B1\"], \"xaxis\": \"x2\", \"y\": [23.208023952095807, 9.4212, 12.651290322580644, 86.45122807017543, 42.05, 48.473103448275864, 45.105, 24.239285714285717, 75.35249999999998, 74.11777777777776, 91.04565517241379], \"yaxis\": \"y2\", \"type\": \"bar\"}], \"name\": \"11\"}, {\"data\": [{\"alignmentgroup\": \"True\", \"hovertemplate\": \"direction=down<br>Local Time (GMT+8)=12<br>floor=%{x}<br>avgWait_weekend=%{y}<extra></extra>\", \"legendgroup\": \"down\", \"marker\": {\"color\": \"#636efa\"}, \"name\": \"down\", \"offsetgroup\": \"down\", \"orientation\": \"v\", \"showlegend\": true, \"textposition\": \"auto\", \"x\": [\"1\", \"2\", \"4\", \"8\", \"9\", \"10\", \"11\", \"12\", \"13\", \"14\", \"15\", \"B1\"], \"xaxis\": \"x\", \"y\": [39.85593220338985, 54.58947368421053, 87.7298795180723, 13.083305084745762, 17.69914893617021, 15.293863636363636, 31.026269841269848, 61.783, 18.44032, 43.49305970149253, 68.02016666666667, 50.475], \"yaxis\": \"y\", \"type\": \"bar\"}, {\"alignmentgroup\": \"True\", \"hovertemplate\": \"direction=up<br>Local Time (GMT+8)=12<br>floor=%{x}<br>avgWait_weekend=%{y}<extra></extra>\", \"legendgroup\": \"up\", \"marker\": {\"color\": \"#EF553B\"}, \"name\": \"up\", \"offsetgroup\": \"up\", \"orientation\": \"v\", \"showlegend\": true, \"textposition\": \"auto\", \"x\": [\"1\", \"2\", \"4\", \"8\", \"9\", \"10\", \"11\", \"12\", \"13\", \"14\", \"B1\"], \"xaxis\": \"x2\", \"y\": [23.462529411764702, 12.41625, 12.41641509433962, 96.11137254901962, 72.3725, 62.662222222222226, 25.21272727272727, 52.071538461538466, 92.11833333333334, 81.05866666666667, 93.88804878048781], \"yaxis\": \"y2\", \"type\": \"bar\"}], \"name\": \"12\"}, {\"data\": [{\"alignmentgroup\": \"True\", \"hovertemplate\": \"direction=down<br>Local Time (GMT+8)=13<br>floor=%{x}<br>avgWait_weekend=%{y}<extra></extra>\", \"legendgroup\": \"down\", \"marker\": {\"color\": \"#636efa\"}, \"name\": \"down\", \"offsetgroup\": \"down\", \"orientation\": \"v\", \"showlegend\": true, \"textposition\": \"auto\", \"x\": [\"1\", \"2\", \"4\", \"8\", \"9\", \"10\", \"11\", \"12\", \"13\", \"14\", \"15\", \"B1\"], \"xaxis\": \"x\", \"y\": [49.87125, 36.065714285714286, 84.29984126984127, 14.726145833333335, 17.885748031496068, 23.782352941176466, 28.926984126984127, 48.561034482758615, 27.42588235294118, 38.996885245901645, 58.71575757575758, 39.41583333333333], \"yaxis\": \"y\", \"type\": \"bar\"}, {\"alignmentgroup\": \"True\", \"hovertemplate\": \"direction=up<br>Local Time (GMT+8)=13<br>floor=%{x}<br>avgWait_weekend=%{y}<extra></extra>\", \"legendgroup\": \"up\", \"marker\": {\"color\": \"#EF553B\"}, \"name\": \"up\", \"offsetgroup\": \"up\", \"orientation\": \"v\", \"showlegend\": true, \"textposition\": \"auto\", \"x\": [\"1\", \"2\", \"4\", \"8\", \"9\", \"10\", \"11\", \"12\", \"13\", \"14\", \"B1\"], \"xaxis\": \"x2\", \"y\": [26.526237113402058, 13.91777777777778, 15.388181818181815, 79.60950819672132, 70.78777777777776, 41.0540909090909, 20.731250000000006, 27.008333333333336, 101.624, 114.45100000000001, 79.76855421686747], \"yaxis\": \"y2\", \"type\": \"bar\"}], \"name\": \"13\"}, {\"data\": [{\"alignmentgroup\": \"True\", \"hovertemplate\": \"direction=down<br>Local Time (GMT+8)=14<br>floor=%{x}<br>avgWait_weekend=%{y}<extra></extra>\", \"legendgroup\": \"down\", \"marker\": {\"color\": \"#636efa\"}, \"name\": \"down\", \"offsetgroup\": \"down\", \"orientation\": \"v\", \"showlegend\": true, \"textposition\": \"auto\", \"x\": [\"1\", \"2\", \"4\", \"8\", \"9\", \"10\", \"11\", \"12\", \"13\", \"14\", \"15\", \"B1\"], \"xaxis\": \"x\", \"y\": [41.893333333333345, 51.07086956521738, 72.17915254237288, 16.919999999999998, 21.53362068965517, 14.346428571428572, 28.294285714285717, 42.709920000000004, 29.38411290322581, 46.55663366336635, 57.564040404040405, 69.605], \"yaxis\": \"y\", \"type\": \"bar\"}, {\"alignmentgroup\": \"True\", \"hovertemplate\": \"direction=up<br>Local Time (GMT+8)=14<br>floor=%{x}<br>avgWait_weekend=%{y}<extra></extra>\", \"legendgroup\": \"up\", \"marker\": {\"color\": \"#EF553B\"}, \"name\": \"up\", \"offsetgroup\": \"up\", \"orientation\": \"v\", \"showlegend\": true, \"textposition\": \"auto\", \"x\": [\"1\", \"2\", \"4\", \"8\", \"9\", \"10\", \"11\", \"12\", \"13\", \"14\", \"B1\"], \"xaxis\": \"x2\", \"y\": [28.255215311004786, 14.4525, 14.24782608695652, 90.32314814814815, 18.42130434782609, 46.65000000000001, 45.134827586206896, 29.862857142857145, 101.429, 87.93230769230769, 70.81630136986301], \"yaxis\": \"y2\", \"type\": \"bar\"}], \"name\": \"14\"}, {\"data\": [{\"alignmentgroup\": \"True\", \"hovertemplate\": \"direction=down<br>Local Time (GMT+8)=15<br>floor=%{x}<br>avgWait_weekend=%{y}<extra></extra>\", \"legendgroup\": \"down\", \"marker\": {\"color\": \"#636efa\"}, \"name\": \"down\", \"offsetgroup\": \"down\", \"orientation\": \"v\", \"showlegend\": true, \"textposition\": \"auto\", \"x\": [\"1\", \"2\", \"4\", \"8\", \"9\", \"10\", \"11\", \"12\", \"13\", \"14\", \"15\", \"B1\"], \"xaxis\": \"x\", \"y\": [54.76884615384616, 66.3, 86.55408450704228, 19.005673076923078, 19.740625, 12.375945945945945, 30.85065040650407, 45.95452380952381, 30.714444444444453, 39.56390476190476, 58.11030303030303, 28.40285714285714], \"yaxis\": \"y\", \"type\": \"bar\"}, {\"alignmentgroup\": \"True\", \"hovertemplate\": \"direction=up<br>Local Time (GMT+8)=15<br>floor=%{x}<br>avgWait_weekend=%{y}<extra></extra>\", \"legendgroup\": \"up\", \"marker\": {\"color\": \"#EF553B\"}, \"name\": \"up\", \"offsetgroup\": \"up\", \"orientation\": \"v\", \"showlegend\": true, \"textposition\": \"auto\", \"x\": [\"1\", \"2\", \"4\", \"8\", \"9\", \"10\", \"11\", \"12\", \"13\", \"14\", \"B1\"], \"xaxis\": \"x2\", \"y\": [31.4622009569378, 14.005217391304347, 14.546140350877195, 78.52345454545456, 65.46300000000001, 60.74058823529411, 23.652142857142852, 47.3675, 97.69285714285715, 85.58, 64.27181818181819], \"yaxis\": \"y2\", \"type\": \"bar\"}], \"name\": \"15\"}, {\"data\": [{\"alignmentgroup\": \"True\", \"hovertemplate\": \"direction=down<br>Local Time (GMT+8)=16<br>floor=%{x}<br>avgWait_weekend=%{y}<extra></extra>\", \"legendgroup\": \"down\", \"marker\": {\"color\": \"#636efa\"}, \"name\": \"down\", \"offsetgroup\": \"down\", \"orientation\": \"v\", \"showlegend\": true, \"textposition\": \"auto\", \"x\": [\"1\", \"2\", \"4\", \"8\", \"9\", \"10\", \"11\", \"12\", \"13\", \"14\", \"15\", \"B1\"], \"xaxis\": \"x\", \"y\": [77.25, 38.871, 74.68581395348836, 14.163362068965515, 16.326739130434785, 13.437222222222225, 24.86887323943662, 45.15303703703704, 25.090461538461536, 37.73826771653543, 57.41460317460318, 62.97333333333333], \"yaxis\": \"y\", \"type\": \"bar\"}, {\"alignmentgroup\": \"True\", \"hovertemplate\": \"direction=up<br>Local Time (GMT+8)=16<br>floor=%{x}<br>avgWait_weekend=%{y}<extra></extra>\", \"legendgroup\": \"up\", \"marker\": {\"color\": \"#EF553B\"}, \"name\": \"up\", \"offsetgroup\": \"up\", \"orientation\": \"v\", \"showlegend\": true, \"textposition\": \"auto\", \"x\": [\"1\", \"2\", \"4\", \"8\", \"9\", \"10\", \"11\", \"12\", \"13\", \"14\", \"B1\"], \"xaxis\": \"x2\", \"y\": [34.54395, 10.885806451612904, 14.399534883720932, 72.33791666666667, 46.0555, 36.57655172413793, 30.92875, 23.579, 96.512, 46.64333333333334, 67.3472549019608], \"yaxis\": \"y2\", \"type\": \"bar\"}], \"name\": \"16\"}, {\"data\": [{\"alignmentgroup\": \"True\", \"hovertemplate\": \"direction=down<br>Local Time (GMT+8)=17<br>floor=%{x}<br>avgWait_weekend=%{y}<extra></extra>\", \"legendgroup\": \"down\", \"marker\": {\"color\": \"#636efa\"}, \"name\": \"down\", \"offsetgroup\": \"down\", \"orientation\": \"v\", \"showlegend\": true, \"textposition\": \"auto\", \"x\": [\"1\", \"2\", \"4\", \"8\", \"9\", \"10\", \"11\", \"12\", \"13\", \"14\", \"15\", \"B1\"], \"xaxis\": \"x\", \"y\": [70.1246875, 39.13, 92.03915254237288, 12.294471544715448, 15.614276315789473, 12.51625, 21.671298701298703, 48.4581560283688, 22.07033783783784, 41.63385714285714, 64.59532258064516, 58.288999999999994], \"yaxis\": \"y\", \"type\": \"bar\"}, {\"alignmentgroup\": \"True\", \"hovertemplate\": \"direction=up<br>Local Time (GMT+8)=17<br>floor=%{x}<br>avgWait_weekend=%{y}<extra></extra>\", \"legendgroup\": \"up\", \"marker\": {\"color\": \"#EF553B\"}, \"name\": \"up\", \"offsetgroup\": \"up\", \"orientation\": \"v\", \"showlegend\": true, \"textposition\": \"auto\", \"x\": [\"1\", \"2\", \"4\", \"8\", \"9\", \"10\", \"11\", \"12\", \"13\", \"14\", \"B1\"], \"xaxis\": \"x2\", \"y\": [24.3325, 16.980833333333333, 12.55945945945946, 80.46227272727273, 47.28000000000001, 57.31866666666667, 66.02888888888889, 43.832, 106.56625, 139.0575, 79.90323353293414], \"yaxis\": \"y2\", \"type\": \"bar\"}], \"name\": \"17\"}, {\"data\": [{\"alignmentgroup\": \"True\", \"hovertemplate\": \"direction=down<br>Local Time (GMT+8)=18<br>floor=%{x}<br>avgWait_weekend=%{y}<extra></extra>\", \"legendgroup\": \"down\", \"marker\": {\"color\": \"#636efa\"}, \"name\": \"down\", \"offsetgroup\": \"down\", \"orientation\": \"v\", \"showlegend\": true, \"textposition\": \"auto\", \"x\": [\"1\", \"2\", \"4\", \"8\", \"9\", \"10\", \"11\", \"12\", \"13\", \"14\", \"15\", \"B1\"], \"xaxis\": \"x\", \"y\": [74.42454545454545, 93.49666666666668, 102.42911764705885, 16.349519230769232, 19.776962962962962, 17.462162162162162, 26.794741379310345, 46.74878048780488, 24.434094488188983, 34.51381679389313, 52.55877358490565, 73.8275], \"yaxis\": \"y\", \"type\": \"bar\"}, {\"alignmentgroup\": \"True\", \"hovertemplate\": \"direction=up<br>Local Time (GMT+8)=18<br>floor=%{x}<br>avgWait_weekend=%{y}<extra></extra>\", \"legendgroup\": \"up\", \"marker\": {\"color\": \"#EF553B\"}, \"name\": \"up\", \"offsetgroup\": \"up\", \"orientation\": \"v\", \"showlegend\": true, \"textposition\": \"auto\", \"x\": [\"1\", \"2\", \"4\", \"8\", \"9\", \"10\", \"11\", \"12\", \"13\", \"14\", \"B1\"], \"xaxis\": \"x2\", \"y\": [27.131676646706588, 15.946666666666667, 14.713703703703704, 61.01390243902439, 41.06384615384616, 28.7, 39.13428571428572, 38.88333333333333, 146.12, 96.48166666666668, 76.9034375], \"yaxis\": \"y2\", \"type\": \"bar\"}], \"name\": \"18\"}, {\"data\": [{\"alignmentgroup\": \"True\", \"hovertemplate\": \"direction=down<br>Local Time (GMT+8)=19<br>floor=%{x}<br>avgWait_weekend=%{y}<extra></extra>\", \"legendgroup\": \"down\", \"marker\": {\"color\": \"#636efa\"}, \"name\": \"down\", \"offsetgroup\": \"down\", \"orientation\": \"v\", \"showlegend\": true, \"textposition\": \"auto\", \"x\": [\"1\", \"2\", \"4\", \"8\", \"9\", \"10\", \"11\", \"12\", \"13\", \"14\", \"15\", \"B1\"], \"xaxis\": \"x\", \"y\": [44.913703703703696, 3.77, 78.38432432432433, 17.436559139784947, 21.83934959349593, 9.719333333333333, 32.53323809523809, 40.461083333333335, 31.05336206896552, 40.41266666666667, 49.22790697674419, 54.246], \"yaxis\": \"y\", \"type\": \"bar\"}, {\"alignmentgroup\": \"True\", \"hovertemplate\": \"direction=up<br>Local Time (GMT+8)=19<br>floor=%{x}<br>avgWait_weekend=%{y}<extra></extra>\", \"legendgroup\": \"up\", \"marker\": {\"color\": \"#EF553B\"}, \"name\": \"up\", \"offsetgroup\": \"up\", \"orientation\": \"v\", \"showlegend\": true, \"textposition\": \"auto\", \"x\": [\"1\", \"2\", \"4\", \"8\", \"9\", \"10\", \"11\", \"12\", \"13\", \"14\", \"B1\"], \"xaxis\": \"x2\", \"y\": [31.274386792452827, 19.108, 16.69086956521739, 93.24894736842106, 45.684, 28.09, 87.4325, 43.03714285714285, 6.8, 77.86333333333333, 60.55710691823899], \"yaxis\": \"y2\", \"type\": \"bar\"}], \"name\": \"19\"}, {\"data\": [{\"alignmentgroup\": \"True\", \"hovertemplate\": \"direction=down<br>Local Time (GMT+8)=20<br>floor=%{x}<br>avgWait_weekend=%{y}<extra></extra>\", \"legendgroup\": \"down\", \"marker\": {\"color\": \"#636efa\"}, \"name\": \"down\", \"offsetgroup\": \"down\", \"orientation\": \"v\", \"showlegend\": true, \"textposition\": \"auto\", \"x\": [\"1\", \"2\", \"4\", \"8\", \"9\", \"10\", \"11\", \"12\", \"13\", \"14\", \"15\", \"B1\"], \"xaxis\": \"x\", \"y\": [43.70857142857143, 50.795, 70.00493506493507, 20.19114942528736, 21.623303571428565, 20.73, 27.219702970297032, 39.2025925925926, 28.447884615384613, 35.496021505376355, 41.942352941176466, 52.25666666666667], \"yaxis\": \"y\", \"type\": \"bar\"}, {\"alignmentgroup\": \"True\", \"hovertemplate\": \"direction=up<br>Local Time (GMT+8)=20<br>floor=%{x}<br>avgWait_weekend=%{y}<extra></extra>\", \"legendgroup\": \"up\", \"marker\": {\"color\": \"#EF553B\"}, \"name\": \"up\", \"offsetgroup\": \"up\", \"orientation\": \"v\", \"showlegend\": true, \"textposition\": \"auto\", \"x\": [\"1\", \"2\", \"4\", \"8\", \"9\", \"11\", \"12\", \"13\", \"14\", \"B1\"], \"xaxis\": \"x2\", \"y\": [33.26905172413793, 21.435, 13.69909090909091, 39.15933333333333, 31.78, 71.77, 48.175, 44.6775, 67.64833333333334, 44.342761194029855], \"yaxis\": \"y2\", \"type\": \"bar\"}], \"name\": \"20\"}, {\"data\": [{\"alignmentgroup\": \"True\", \"hovertemplate\": \"direction=down<br>Local Time (GMT+8)=21<br>floor=%{x}<br>avgWait_weekend=%{y}<extra></extra>\", \"legendgroup\": \"down\", \"marker\": {\"color\": \"#636efa\"}, \"name\": \"down\", \"offsetgroup\": \"down\", \"orientation\": \"v\", \"showlegend\": true, \"textposition\": \"auto\", \"x\": [\"1\", \"2\", \"4\", \"8\", \"9\", \"10\", \"11\", \"12\", \"13\", \"14\", \"15\", \"B1\"], \"xaxis\": \"x\", \"y\": [16.97153846153846, 69.36, 52.10290322580646, 18.01662337662337, 22.992352941176478, 14.878333333333336, 28.062771084337353, 31.221960784313726, 31.789259259259254, 27.27714285714286, 37.17869565217392, 36.37000000000001], \"yaxis\": \"y\", \"type\": \"bar\"}, {\"alignmentgroup\": \"True\", \"hovertemplate\": \"direction=up<br>Local Time (GMT+8)=21<br>floor=%{x}<br>avgWait_weekend=%{y}<extra></extra>\", \"legendgroup\": \"up\", \"marker\": {\"color\": \"#EF553B\"}, \"name\": \"up\", \"offsetgroup\": \"up\", \"orientation\": \"v\", \"showlegend\": true, \"textposition\": \"auto\", \"x\": [\"1\", \"2\", \"4\", \"8\", \"9\", \"11\", \"12\", \"13\", \"14\", \"B1\"], \"xaxis\": \"x2\", \"y\": [26.409285714285716, 6.565, 19.5, 52.20857142857143, 57.53333333333333, 69.82, 36.145, 39.972, 79.08, 30.213835616438352], \"yaxis\": \"y2\", \"type\": \"bar\"}], \"name\": \"21\"}, {\"data\": [{\"alignmentgroup\": \"True\", \"hovertemplate\": \"direction=down<br>Local Time (GMT+8)=22<br>floor=%{x}<br>avgWait_weekend=%{y}<extra></extra>\", \"legendgroup\": \"down\", \"marker\": {\"color\": \"#636efa\"}, \"name\": \"down\", \"offsetgroup\": \"down\", \"orientation\": \"v\", \"showlegend\": true, \"textposition\": \"auto\", \"x\": [\"1\", \"4\", \"8\", \"9\", \"10\", \"11\", \"12\", \"13\", \"14\", \"15\"], \"xaxis\": \"x\", \"y\": [38.5009090909091, 34.950588235294106, 19.262222222222224, 17.194444444444443, 27.253529411764703, 31.074324324324326, 25.759259259259263, 22.853103448275863, 22.26304347826087, 29.853829787234048], \"yaxis\": \"y\", \"type\": \"bar\"}, {\"alignmentgroup\": \"True\", \"hovertemplate\": \"direction=up<br>Local Time (GMT+8)=22<br>floor=%{x}<br>avgWait_weekend=%{y}<extra></extra>\", \"legendgroup\": \"up\", \"marker\": {\"color\": \"#EF553B\"}, \"name\": \"up\", \"offsetgroup\": \"up\", \"orientation\": \"v\", \"showlegend\": true, \"textposition\": \"auto\", \"x\": [\"1\", \"2\", \"4\", \"8\", \"9\", \"10\", \"11\", \"12\", \"13\", \"B1\"], \"xaxis\": \"x2\", \"y\": [16.618206106870232, 27.21, 20.632, 32.085454545454546, 14.8325, 23.02, 23.95, 15.114285714285714, 14.16, 20.64934782608696], \"yaxis\": \"y2\", \"type\": \"bar\"}], \"name\": \"22\"}, {\"data\": [{\"alignmentgroup\": \"True\", \"hovertemplate\": \"direction=down<br>Local Time (GMT+8)=23<br>floor=%{x}<br>avgWait_weekend=%{y}<extra></extra>\", \"legendgroup\": \"down\", \"marker\": {\"color\": \"#636efa\"}, \"name\": \"down\", \"offsetgroup\": \"down\", \"orientation\": \"v\", \"showlegend\": true, \"textposition\": \"auto\", \"x\": [\"1\", \"2\", \"4\", \"8\", \"9\", \"10\", \"11\", \"12\", \"13\", \"14\", \"15\", \"B1\"], \"xaxis\": \"x\", \"y\": [14.165555555555557, 24.04, 17.128, 17.608235294117648, 17.403181818181814, 10.0, 23.658235294117645, 22.6522641509434, 24.859705882352944, 25.34447368421053, 20.2675, 21.71], \"yaxis\": \"y\", \"type\": \"bar\"}, {\"alignmentgroup\": \"True\", \"hovertemplate\": \"direction=up<br>Local Time (GMT+8)=23<br>floor=%{x}<br>avgWait_weekend=%{y}<extra></extra>\", \"legendgroup\": \"up\", \"marker\": {\"color\": \"#EF553B\"}, \"name\": \"up\", \"offsetgroup\": \"up\", \"orientation\": \"v\", \"showlegend\": true, \"textposition\": \"auto\", \"x\": [\"1\", \"4\", \"8\", \"9\", \"12\", \"B1\"], \"xaxis\": \"x2\", \"y\": [13.922369668246446, 21.3775, 28.902, 24.325, 15.8, 19.1364], \"yaxis\": \"y2\", \"type\": \"bar\"}], \"name\": \"23\"}]);\n",
       "                        }).then(function(){\n",
       "                            \n",
       "var gd = document.getElementById('69b51343-9c49-494a-8b8e-68393acee026');\n",
       "var x = new MutationObserver(function (mutations, observer) {{\n",
       "        var display = window.getComputedStyle(gd).display;\n",
       "        if (!display || display === 'none') {{\n",
       "            console.log([gd, 'removed!']);\n",
       "            Plotly.purge(gd);\n",
       "            observer.disconnect();\n",
       "        }}\n",
       "}});\n",
       "\n",
       "// Listen for the removal of the full notebook cells\n",
       "var notebookContainer = gd.closest('#notebook-container');\n",
       "if (notebookContainer) {{\n",
       "    x.observe(notebookContainer, {childList: true});\n",
       "}}\n",
       "\n",
       "// Listen for the clearing of the current output cell\n",
       "var outputEl = gd.closest('.output');\n",
       "if (outputEl) {{\n",
       "    x.observe(outputEl, {childList: true});\n",
       "}}\n",
       "\n",
       "                        })\n",
       "                };\n",
       "                });\n",
       "            </script>\n",
       "        </div>"
      ]
     },
     "metadata": {},
     "output_type": "display_data"
    }
   ],
   "source": [
    "# floor_list = ['B4','B3', 'B2','B1','01', '02', '03', '04', '05', '06', '07', '08', '09', '10', '11','12', '13', '14', '15']\n",
    "\n",
    "df_s_weekend.floor.unique()\n",
    "\n",
    "fig = px.bar(data_frame=df_s_weekend, \n",
    "             \n",
    "             ## 這裡的data frame都先用 R aggregate過了，以節省運算時間\n",
    "             x = \"floor\", y = \"avgWait_weekend\",\n",
    "             \n",
    "             ## 以方向分兩張圖，並上色\n",
    "             facet_col=\"direction\",color=\"direction\",\n",
    "             \n",
    "             ## 自動生成slider\n",
    "             animation_frame=\"hour\",\n",
    "             \n",
    "             \n",
    "             labels={\"count\":\"avgWait_weekend\",\n",
    "                     \"hour\":\"Local Time (GMT+8)\"})\n",
    "\n",
    "# X axis\n",
    "fig.update_xaxes(nticks=len(floor_name), ##指定breaks的數量\n",
    "                 \n",
    "                 ## 手動將X的類別排序\n",
    "                 type=\"category\",\n",
    "                 categoryarray=floor_name)\n",
    "\n",
    "# Y axis\n",
    "fig.update_yaxes(range=[0, 200])\n",
    "\n",
    "# Layout\n",
    "fig.update_layout(title_text='Average waiting time of Elevator Calls by Floor on weekend')\n",
    "\n",
    "fig.show()"
   ]
  },
  {
   "cell_type": "code",
   "execution_count": 17,
   "metadata": {},
   "outputs": [
    {
     "data": {
      "application/vnd.plotly.v1+json": {
       "config": {
        "plotlyServerURL": "https://plot.ly"
       },
       "data": [
        {
         "alignmentgroup": "True",
         "hovertemplate": "direction=down<br>floor=1<br>Local Time (GMT+8)=%{x}<br>avgWait_weekday=%{y}<extra></extra>",
         "legendgroup": "down",
         "marker": {
          "color": "#636efa"
         },
         "name": "down",
         "offsetgroup": "down",
         "orientation": "v",
         "showlegend": true,
         "textposition": "auto",
         "type": "bar",
         "x": [
          0,
          1,
          2,
          3,
          4,
          5,
          6,
          7,
          8,
          9,
          10,
          11,
          12,
          13,
          14,
          15,
          16,
          17,
          18,
          19,
          20,
          21,
          22,
          23
         ],
         "xaxis": "x",
         "y": [
          9.37857142857143,
          9.708333333333334,
          26.242,
          6.81,
          10.595999999999998,
          5.3100000000000005,
          30.61159420289855,
          64.75900763358779,
          57.68022988505746,
          51.85513513513514,
          43.8990977443609,
          43.218934426229495,
          39.74880341880342,
          54.59816993464053,
          50.61556390977444,
          35.12908333333333,
          44.353529411764704,
          46.82776470588235,
          61.505531914893616,
          48.871129032258075,
          43.678125,
          37.884,
          29.93148148148148,
          22.710555555555555
         ],
         "yaxis": "y"
        },
        {
         "alignmentgroup": "True",
         "hovertemplate": "direction=up<br>floor=1<br>Local Time (GMT+8)=%{x}<br>avgWait_weekday=%{y}<extra></extra>",
         "legendgroup": "up",
         "marker": {
          "color": "#EF553B"
         },
         "name": "up",
         "offsetgroup": "up",
         "orientation": "v",
         "showlegend": true,
         "textposition": "auto",
         "type": "bar",
         "x": [
          0,
          1,
          2,
          3,
          4,
          5,
          6,
          7,
          8,
          9,
          10,
          11,
          12,
          13,
          14,
          15,
          16,
          17,
          18,
          19,
          20,
          21,
          22,
          23
         ],
         "xaxis": "x2",
         "y": [
          9.164668989547039,
          8.071036269430053,
          12.5278,
          10.288984375,
          8.551573033707866,
          9.02481865284974,
          20.864676753782668,
          25.834209677419352,
          25.359718875502008,
          29.888060606060602,
          28.641800000000003,
          23.414677002583982,
          22.402623762376237,
          24.059929742388764,
          27.586139088729013,
          32.094860215053764,
          28.54580717488789,
          24.3322641509434,
          23.794084210526318,
          31.74199630314233,
          33.71367834394904,
          27.089190600522194,
          19.17528936742934,
          14.320814159292036
         ],
         "yaxis": "y2"
        }
       ],
       "frames": [
        {
         "data": [
          {
           "alignmentgroup": "True",
           "hovertemplate": "direction=down<br>floor=1<br>Local Time (GMT+8)=%{x}<br>avgWait_weekday=%{y}<extra></extra>",
           "legendgroup": "down",
           "marker": {
            "color": "#636efa"
           },
           "name": "down",
           "offsetgroup": "down",
           "orientation": "v",
           "showlegend": true,
           "textposition": "auto",
           "type": "bar",
           "x": [
            0,
            1,
            2,
            3,
            4,
            5,
            6,
            7,
            8,
            9,
            10,
            11,
            12,
            13,
            14,
            15,
            16,
            17,
            18,
            19,
            20,
            21,
            22,
            23
           ],
           "xaxis": "x",
           "y": [
            9.37857142857143,
            9.708333333333334,
            26.242,
            6.81,
            10.595999999999998,
            5.3100000000000005,
            30.61159420289855,
            64.75900763358779,
            57.68022988505746,
            51.85513513513514,
            43.8990977443609,
            43.218934426229495,
            39.74880341880342,
            54.59816993464053,
            50.61556390977444,
            35.12908333333333,
            44.353529411764704,
            46.82776470588235,
            61.505531914893616,
            48.871129032258075,
            43.678125,
            37.884,
            29.93148148148148,
            22.710555555555555
           ],
           "yaxis": "y"
          },
          {
           "alignmentgroup": "True",
           "hovertemplate": "direction=up<br>floor=1<br>Local Time (GMT+8)=%{x}<br>avgWait_weekday=%{y}<extra></extra>",
           "legendgroup": "up",
           "marker": {
            "color": "#EF553B"
           },
           "name": "up",
           "offsetgroup": "up",
           "orientation": "v",
           "showlegend": true,
           "textposition": "auto",
           "type": "bar",
           "x": [
            0,
            1,
            2,
            3,
            4,
            5,
            6,
            7,
            8,
            9,
            10,
            11,
            12,
            13,
            14,
            15,
            16,
            17,
            18,
            19,
            20,
            21,
            22,
            23
           ],
           "xaxis": "x2",
           "y": [
            9.164668989547039,
            8.071036269430053,
            12.5278,
            10.288984375,
            8.551573033707866,
            9.02481865284974,
            20.864676753782668,
            25.834209677419352,
            25.359718875502008,
            29.888060606060602,
            28.641800000000003,
            23.414677002583982,
            22.402623762376237,
            24.059929742388764,
            27.586139088729013,
            32.094860215053764,
            28.54580717488789,
            24.3322641509434,
            23.794084210526318,
            31.74199630314233,
            33.71367834394904,
            27.089190600522194,
            19.17528936742934,
            14.320814159292036
           ],
           "yaxis": "y2"
          }
         ],
         "name": "1"
        },
        {
         "data": [
          {
           "alignmentgroup": "True",
           "hovertemplate": "direction=down<br>floor=2<br>Local Time (GMT+8)=%{x}<br>avgWait_weekday=%{y}<extra></extra>",
           "legendgroup": "down",
           "marker": {
            "color": "#636efa"
           },
           "name": "down",
           "offsetgroup": "down",
           "orientation": "v",
           "showlegend": true,
           "textposition": "auto",
           "type": "bar",
           "x": [
            0,
            3,
            5,
            6,
            7,
            8,
            9,
            10,
            11,
            12,
            13,
            14,
            15,
            16,
            17,
            18,
            19,
            20,
            21,
            22,
            23
           ],
           "xaxis": "x",
           "y": [
            21.12,
            2.41,
            11.75,
            55.57285714285714,
            56.83333333333334,
            75.43162790697674,
            62.1632876712329,
            49.284285714285716,
            33.03046875,
            40.66952380952381,
            62.17583333333333,
            60.09783783783784,
            46.83315068493151,
            52.05177419354839,
            44.67828571428571,
            57.8556,
            74.378,
            34.214,
            21.5075,
            19.9725,
            7.649999999999999
           ],
           "yaxis": "y"
          },
          {
           "alignmentgroup": "True",
           "hovertemplate": "direction=up<br>floor=2<br>Local Time (GMT+8)=%{x}<br>avgWait_weekday=%{y}<extra></extra>",
           "legendgroup": "up",
           "marker": {
            "color": "#EF553B"
           },
           "name": "up",
           "offsetgroup": "up",
           "orientation": "v",
           "showlegend": true,
           "textposition": "auto",
           "type": "bar",
           "x": [
            4,
            6,
            7,
            8,
            9,
            10,
            11,
            12,
            13,
            14,
            15,
            16,
            17,
            18,
            19,
            20,
            21,
            22,
            23
           ],
           "xaxis": "x2",
           "y": [
            9.815,
            19.663333333333334,
            11.269000000000002,
            12.885089285714288,
            14.114380952380955,
            13.24934065934066,
            12.466792452830187,
            10.842716049382718,
            11.415346534653466,
            11.496521739130433,
            15.171553398058252,
            13.711196581196582,
            14.251408450704224,
            12.302083333333336,
            17.055294117647062,
            18.465,
            3.5475000000000003,
            18.661666666666665,
            7.325
           ],
           "yaxis": "y2"
          }
         ],
         "name": "2"
        },
        {
         "data": [
          {
           "alignmentgroup": "True",
           "hovertemplate": "direction=down<br>floor=4<br>Local Time (GMT+8)=%{x}<br>avgWait_weekday=%{y}<extra></extra>",
           "legendgroup": "down",
           "marker": {
            "color": "#636efa"
           },
           "name": "down",
           "offsetgroup": "down",
           "orientation": "v",
           "showlegend": true,
           "textposition": "auto",
           "type": "bar",
           "x": [
            0,
            1,
            2,
            3,
            6,
            7,
            8,
            9,
            10,
            11,
            12,
            13,
            14,
            15,
            16,
            17,
            18,
            19,
            20,
            21,
            22,
            23
           ],
           "xaxis": "x",
           "y": [
            24.979677419354843,
            19.747857142857143,
            32.12428571428571,
            14.01125,
            48.61533333333333,
            71.21490196078432,
            94.17018181818182,
            85.94744897959184,
            90.6477118644068,
            110.58026178010472,
            106.00479069767441,
            93.03228758169935,
            89.61132183908045,
            89.32922705314009,
            85.40559523809523,
            97.45184971098269,
            89.09142857142858,
            83.73402061855668,
            70.7636170212766,
            44.39735294117647,
            36.78222222222222,
            22.3025
           ],
           "yaxis": "y"
          },
          {
           "alignmentgroup": "True",
           "hovertemplate": "direction=up<br>floor=4<br>Local Time (GMT+8)=%{x}<br>avgWait_weekday=%{y}<extra></extra>",
           "legendgroup": "up",
           "marker": {
            "color": "#EF553B"
           },
           "name": "up",
           "offsetgroup": "up",
           "orientation": "v",
           "showlegend": true,
           "textposition": "auto",
           "type": "bar",
           "x": [
            0,
            1,
            2,
            3,
            4,
            5,
            6,
            7,
            8,
            9,
            10,
            11,
            12,
            13,
            14,
            15,
            16,
            17,
            18,
            19,
            20,
            21,
            22,
            23
           ],
           "xaxis": "x2",
           "y": [
            17.064285714285713,
            17.06,
            12.81,
            20.133333333333333,
            11.21,
            16.314999999999998,
            19.2475,
            15.472545454545456,
            14.267191011235955,
            13.448431372549019,
            15.773828125,
            13.725602836879432,
            12.462045454545455,
            11.53758389261745,
            13.304135802469135,
            12.520454545454545,
            14.722684563758392,
            14.928931297709925,
            14.351470588235292,
            16.432625,
            15.437777777777779,
            21.0684,
            17.434545454545454,
            16.716666666666665
           ],
           "yaxis": "y2"
          }
         ],
         "name": "4"
        },
        {
         "data": [
          {
           "alignmentgroup": "True",
           "hovertemplate": "direction=down<br>floor=8<br>Local Time (GMT+8)=%{x}<br>avgWait_weekday=%{y}<extra></extra>",
           "legendgroup": "down",
           "marker": {
            "color": "#636efa"
           },
           "name": "down",
           "offsetgroup": "down",
           "orientation": "v",
           "showlegend": true,
           "textposition": "auto",
           "type": "bar",
           "x": [
            0,
            1,
            2,
            3,
            4,
            5,
            6,
            7,
            8,
            9,
            10,
            11,
            12,
            13,
            14,
            15,
            16,
            17,
            18,
            19,
            20,
            21,
            22,
            23
           ],
           "xaxis": "x",
           "y": [
            21.222631578947368,
            17.219615384615384,
            18.504615384615384,
            20.33333333333333,
            21.14428571428571,
            20.728571428571428,
            22.690291262135922,
            21.890473933649286,
            16.998652482269506,
            14.533642172523965,
            14.06243445692884,
            13.628785714285712,
            13.314731543624161,
            16.23679104477612,
            15.646497890295358,
            14.709550561797752,
            14.636734693877552,
            11.811308139534885,
            12.991310975609755,
            17.76142405063291,
            15.351511627906977,
            19.587305936073054,
            18.158155339805823,
            21.074
           ],
           "yaxis": "y"
          },
          {
           "alignmentgroup": "True",
           "hovertemplate": "direction=up<br>floor=8<br>Local Time (GMT+8)=%{x}<br>avgWait_weekday=%{y}<extra></extra>",
           "legendgroup": "up",
           "marker": {
            "color": "#EF553B"
           },
           "name": "up",
           "offsetgroup": "up",
           "orientation": "v",
           "showlegend": true,
           "textposition": "auto",
           "type": "bar",
           "x": [
            0,
            1,
            2,
            3,
            4,
            5,
            6,
            7,
            8,
            9,
            10,
            11,
            12,
            13,
            14,
            15,
            16,
            17,
            18,
            19,
            20,
            21,
            22,
            23
           ],
           "xaxis": "x2",
           "y": [
            21.055,
            16.89,
            43.28666666666667,
            23.07,
            18.23,
            22.29,
            38.86625,
            77.95829268292681,
            69.92392,
            84.69403846153847,
            76.7843046357616,
            93.32466666666666,
            93.6412408759124,
            100.53477707006368,
            75.33247126436783,
            83.61222972972972,
            83.80812499999998,
            84.64689320388351,
            99.77336363636364,
            69.92509803921568,
            59.70892307692308,
            48.505102040816325,
            26.33625,
            29.025
           ],
           "yaxis": "y2"
          }
         ],
         "name": "8"
        },
        {
         "data": [
          {
           "alignmentgroup": "True",
           "hovertemplate": "direction=down<br>floor=9<br>Local Time (GMT+8)=%{x}<br>avgWait_weekday=%{y}<extra></extra>",
           "legendgroup": "down",
           "marker": {
            "color": "#636efa"
           },
           "name": "down",
           "offsetgroup": "down",
           "orientation": "v",
           "showlegend": true,
           "textposition": "auto",
           "type": "bar",
           "x": [
            0,
            1,
            2,
            3,
            4,
            5,
            6,
            7,
            8,
            9,
            10,
            11,
            12,
            13,
            14,
            15,
            16,
            17,
            18,
            19,
            20,
            21,
            22,
            23
           ],
           "xaxis": "x",
           "y": [
            18.990625,
            20.74921052631579,
            19.31913043478261,
            22.366666666666664,
            18.133636363636363,
            21.636486486486486,
            26.370994475138122,
            27.283880597014928,
            20.485062893081764,
            20.915701219512197,
            17.32553459119497,
            15.665386904761903,
            15.89558988764045,
            17.23714285714286,
            19.082392638036808,
            18.63558823529411,
            18.372464183381087,
            13.844570707070705,
            18.37563725490196,
            20.80616901408451,
            22.444642857142853,
            20.8041447368421,
            24.228294117647057,
            20.155454545454546
           ],
           "yaxis": "y"
          },
          {
           "alignmentgroup": "True",
           "hovertemplate": "direction=up<br>floor=9<br>Local Time (GMT+8)=%{x}<br>avgWait_weekday=%{y}<extra></extra>",
           "legendgroup": "up",
           "marker": {
            "color": "#EF553B"
           },
           "name": "up",
           "offsetgroup": "up",
           "orientation": "v",
           "showlegend": true,
           "textposition": "auto",
           "type": "bar",
           "x": [
            0,
            1,
            2,
            5,
            6,
            7,
            8,
            9,
            10,
            11,
            12,
            13,
            14,
            15,
            16,
            17,
            18,
            19,
            20,
            21,
            22,
            23
           ],
           "xaxis": "x2",
           "y": [
            23.33,
            14.392,
            1.26,
            20.73,
            63.42307692307693,
            62.690526315789484,
            52.99266666666667,
            47.80979166666666,
            37.47375,
            43.03148936170212,
            58.8,
            51.063508771929826,
            51.87114285714286,
            52.3363829787234,
            55.500921052631575,
            44.702790697674416,
            44.59400000000001,
            57.47833333333333,
            65.39307692307692,
            23.931666666666665,
            31.09,
            20.545
           ],
           "yaxis": "y2"
          }
         ],
         "name": "9"
        },
        {
         "data": [
          {
           "alignmentgroup": "True",
           "hovertemplate": "direction=down<br>floor=10<br>Local Time (GMT+8)=%{x}<br>avgWait_weekday=%{y}<extra></extra>",
           "legendgroup": "down",
           "marker": {
            "color": "#636efa"
           },
           "name": "down",
           "offsetgroup": "down",
           "orientation": "v",
           "showlegend": true,
           "textposition": "auto",
           "type": "bar",
           "x": [
            0,
            1,
            3,
            5,
            6,
            7,
            8,
            9,
            10,
            11,
            12,
            13,
            14,
            15,
            16,
            17,
            18,
            19,
            20,
            21,
            22,
            23
           ],
           "xaxis": "x",
           "y": [
            14.925000000000002,
            20.385,
            9.8175,
            0.56,
            38.43,
            27.2040625,
            17.653492063492067,
            18.80713043478261,
            16.456040268456377,
            14.527976878612714,
            16.457666666666668,
            15.81373913043478,
            14.894587155963302,
            14.5545,
            13.99688622754491,
            14.842663934426227,
            16.795,
            15.729142857142856,
            17.67745098039216,
            22.28733333333333,
            18.536756756756755,
            9.753333333333332
           ],
           "yaxis": "y"
          },
          {
           "alignmentgroup": "True",
           "hovertemplate": "direction=up<br>floor=10<br>Local Time (GMT+8)=%{x}<br>avgWait_weekday=%{y}<extra></extra>",
           "legendgroup": "up",
           "marker": {
            "color": "#EF553B"
           },
           "name": "up",
           "offsetgroup": "up",
           "orientation": "v",
           "showlegend": true,
           "textposition": "auto",
           "type": "bar",
           "x": [
            0,
            1,
            3,
            7,
            8,
            9,
            10,
            11,
            12,
            13,
            14,
            15,
            16,
            17,
            18,
            19,
            20,
            21,
            22
           ],
           "xaxis": "x2",
           "y": [
            21.74,
            29.87,
            2.39,
            45.5275,
            45.25766666666666,
            60.947017543859644,
            55.163291139240506,
            43.42728395061729,
            64.0785294117647,
            49.33070175438597,
            35.14842465753425,
            52.36333333333333,
            62.26836363636364,
            48.711388888888884,
            68.58333333333333,
            51.10333333333333,
            65.08533333333334,
            43.389,
            50.67
           ],
           "yaxis": "y2"
          }
         ],
         "name": "10"
        },
        {
         "data": [
          {
           "alignmentgroup": "True",
           "hovertemplate": "direction=down<br>floor=11<br>Local Time (GMT+8)=%{x}<br>avgWait_weekday=%{y}<extra></extra>",
           "legendgroup": "down",
           "marker": {
            "color": "#636efa"
           },
           "name": "down",
           "offsetgroup": "down",
           "orientation": "v",
           "showlegend": true,
           "textposition": "auto",
           "type": "bar",
           "x": [
            0,
            1,
            2,
            3,
            4,
            5,
            6,
            7,
            8,
            9,
            10,
            11,
            12,
            13,
            14,
            15,
            16,
            17,
            18,
            19,
            20,
            21,
            22,
            23
           ],
           "xaxis": "x",
           "y": [
            20.28977528089888,
            19.22636363636364,
            19.9795,
            15.944666666666668,
            19.7775,
            18.132926829268293,
            30.35161016949152,
            34.13450643776824,
            28.310398671096355,
            26.01223484848485,
            24.8687987012987,
            25.23207920792079,
            23.987275641025644,
            30.64038834951457,
            26.954630225080386,
            26.057305194805192,
            25.329093484419264,
            23.331680672268906,
            26.455043731778428,
            26.038885630498534,
            27.065358255451713,
            23.931198501872657,
            22.104697986577182,
            20.09094117647059
           ],
           "yaxis": "y"
          },
          {
           "alignmentgroup": "True",
           "hovertemplate": "direction=up<br>floor=11<br>Local Time (GMT+8)=%{x}<br>avgWait_weekday=%{y}<extra></extra>",
           "legendgroup": "up",
           "marker": {
            "color": "#EF553B"
           },
           "name": "up",
           "offsetgroup": "up",
           "orientation": "v",
           "showlegend": true,
           "textposition": "auto",
           "type": "bar",
           "x": [
            0,
            1,
            2,
            3,
            5,
            6,
            7,
            8,
            9,
            10,
            11,
            12,
            13,
            14,
            15,
            16,
            17,
            18,
            19,
            20,
            21,
            22,
            23
           ],
           "xaxis": "x2",
           "y": [
            1.59,
            13.6,
            22.61,
            9.375,
            20.6875,
            44.49,
            81.86928571428572,
            55.63052631578947,
            36.36151515151516,
            33.123749999999994,
            46.10764705882352,
            44.133421052631576,
            45.5304,
            32.11096774193548,
            48.876607142857154,
            25.82731707317073,
            50.299230769230775,
            53.8275,
            52.60466666666666,
            72.06941176470589,
            54.39,
            28.8,
            38.41
           ],
           "yaxis": "y2"
          }
         ],
         "name": "11"
        },
        {
         "data": [
          {
           "alignmentgroup": "True",
           "hovertemplate": "direction=down<br>floor=12<br>Local Time (GMT+8)=%{x}<br>avgWait_weekday=%{y}<extra></extra>",
           "legendgroup": "down",
           "marker": {
            "color": "#636efa"
           },
           "name": "down",
           "offsetgroup": "down",
           "orientation": "v",
           "showlegend": true,
           "textposition": "auto",
           "type": "bar",
           "x": [
            0,
            1,
            2,
            3,
            4,
            5,
            6,
            7,
            8,
            9,
            10,
            11,
            12,
            13,
            14,
            15,
            16,
            17,
            18,
            19,
            20,
            21,
            22,
            23
           ],
           "xaxis": "x",
           "y": [
            22.89237623762377,
            21.458441558441557,
            20.12,
            21.76090909090909,
            12.852105263157895,
            18.594444444444445,
            32.3171511627907,
            44.90282868525896,
            45.144035087719296,
            45.078674698795176,
            45.92576470588235,
            56.635852090032145,
            58.26958208955223,
            48.754933333333334,
            51.10778501628665,
            49.777476340694,
            52.42342182890856,
            50.48618798955614,
            45.37758904109589,
            38.650518134715036,
            39.15650704225352,
            29.71578125,
            25.53367346938775,
            23.41533898305084
           ],
           "yaxis": "y"
          },
          {
           "alignmentgroup": "True",
           "hovertemplate": "direction=up<br>floor=12<br>Local Time (GMT+8)=%{x}<br>avgWait_weekday=%{y}<extra></extra>",
           "legendgroup": "up",
           "marker": {
            "color": "#EF553B"
           },
           "name": "up",
           "offsetgroup": "up",
           "orientation": "v",
           "showlegend": true,
           "textposition": "auto",
           "type": "bar",
           "x": [
            0,
            1,
            3,
            5,
            6,
            7,
            8,
            9,
            10,
            11,
            12,
            13,
            14,
            15,
            16,
            17,
            18,
            19,
            20,
            21,
            22,
            23
           ],
           "xaxis": "x2",
           "y": [
            24.54666666666667,
            9.975,
            8.69,
            19.04,
            34.489999999999995,
            60.18785714285714,
            35.228235294117646,
            46.93242424242424,
            38.07521739130435,
            54.4725,
            70.15709677419355,
            68.459,
            36.78787878787879,
            30.101470588235287,
            48.69043478260869,
            46.82045454545455,
            49.334722222222226,
            69.6376923076923,
            35.44428571428572,
            33.04666666666667,
            31.932631578947372,
            29.735
           ],
           "yaxis": "y2"
          }
         ],
         "name": "12"
        },
        {
         "data": [
          {
           "alignmentgroup": "True",
           "hovertemplate": "direction=down<br>floor=13<br>Local Time (GMT+8)=%{x}<br>avgWait_weekday=%{y}<extra></extra>",
           "legendgroup": "down",
           "marker": {
            "color": "#636efa"
           },
           "name": "down",
           "offsetgroup": "down",
           "orientation": "v",
           "showlegend": true,
           "textposition": "auto",
           "type": "bar",
           "x": [
            0,
            1,
            2,
            3,
            4,
            5,
            6,
            7,
            8,
            9,
            10,
            11,
            12,
            13,
            14,
            15,
            16,
            17,
            18,
            19,
            20,
            21,
            22,
            23
           ],
           "xaxis": "x",
           "y": [
            22.933177570093452,
            17.30625,
            23.99,
            13.91642857142857,
            17.57133333333333,
            22.271607142857146,
            31.28696132596685,
            35.05127049180328,
            28.808675496688746,
            25.798928571428572,
            30.939890109890108,
            23.154355400696865,
            21.762839879154075,
            24.42943333333333,
            27.666323024054986,
            27.001470588235296,
            24.05681681681682,
            20.987897727272728,
            22.985,
            26.006016260162607,
            28.977507418397625,
            26.785016722408024,
            23.95748502994012,
            17.634777777777778
           ],
           "yaxis": "y"
          },
          {
           "alignmentgroup": "True",
           "hovertemplate": "direction=up<br>floor=13<br>Local Time (GMT+8)=%{x}<br>avgWait_weekday=%{y}<extra></extra>",
           "legendgroup": "up",
           "marker": {
            "color": "#EF553B"
           },
           "name": "up",
           "offsetgroup": "up",
           "orientation": "v",
           "showlegend": true,
           "textposition": "auto",
           "type": "bar",
           "x": [
            0,
            1,
            3,
            5,
            6,
            7,
            8,
            9,
            10,
            11,
            12,
            13,
            14,
            15,
            16,
            17,
            18,
            19,
            20,
            21,
            22,
            23
           ],
           "xaxis": "x2",
           "y": [
            42.393333333333345,
            14.663333333333336,
            16.175,
            6.11,
            44.0075,
            92.21692307692308,
            85.80214285714284,
            80.85529411764708,
            53.267894736842095,
            103.536,
            100.08521739130435,
            113,
            76.846875,
            84.86970588235295,
            59.04435897435896,
            82.0448275862069,
            72.56444444444443,
            82.03526315789476,
            67.08818181818182,
            36.9725,
            28.014285714285712,
            12.03
           ],
           "yaxis": "y2"
          }
         ],
         "name": "13"
        },
        {
         "data": [
          {
           "alignmentgroup": "True",
           "hovertemplate": "direction=down<br>floor=14<br>Local Time (GMT+8)=%{x}<br>avgWait_weekday=%{y}<extra></extra>",
           "legendgroup": "down",
           "marker": {
            "color": "#636efa"
           },
           "name": "down",
           "offsetgroup": "down",
           "orientation": "v",
           "showlegend": true,
           "textposition": "auto",
           "type": "bar",
           "x": [
            0,
            1,
            2,
            3,
            4,
            5,
            6,
            7,
            8,
            9,
            10,
            11,
            12,
            13,
            14,
            15,
            16,
            17,
            18,
            19,
            20,
            21,
            22,
            23
           ],
           "xaxis": "x",
           "y": [
            25.19351648351649,
            19.742465753424657,
            22.716800000000006,
            15.91125,
            17.252857142857142,
            19.99289855072464,
            29.301526315789477,
            41.67968627450981,
            40.06931372549019,
            37.7078,
            39.48445692883895,
            33.833754266211606,
            32.170450450450446,
            41.450415335463255,
            41.74787456445994,
            35.97754901960784,
            33.165524691358016,
            33.338846153846156,
            41.4958908045977,
            39.230783132530114,
            36.40923875432526,
            30.962907488986783,
            24.406034482758628,
            22.080630630630626
           ],
           "yaxis": "y"
          },
          {
           "alignmentgroup": "True",
           "hovertemplate": "direction=up<br>floor=14<br>Local Time (GMT+8)=%{x}<br>avgWait_weekday=%{y}<extra></extra>",
           "legendgroup": "up",
           "marker": {
            "color": "#EF553B"
           },
           "name": "up",
           "offsetgroup": "up",
           "orientation": "v",
           "showlegend": true,
           "textposition": "auto",
           "type": "bar",
           "x": [
            0,
            1,
            4,
            5,
            6,
            7,
            8,
            9,
            10,
            11,
            12,
            13,
            14,
            15,
            16,
            17,
            18,
            19,
            20,
            21,
            22,
            23
           ],
           "xaxis": "x2",
           "y": [
            26.79666666666667,
            22.95,
            19.65,
            22.885,
            37.864285714285714,
            69.51428571428572,
            61.00600000000001,
            95.68941176470587,
            98.38083333333331,
            105.61391304347826,
            85.31739130434784,
            134.48624999999998,
            93.59875,
            79.14769230769231,
            94.53285714285713,
            84.36933333333333,
            87.23478260869565,
            83.64823529411764,
            78.35799999999998,
            62.74833333333334,
            30.54,
            12.585
           ],
           "yaxis": "y2"
          }
         ],
         "name": "14"
        },
        {
         "data": [
          {
           "alignmentgroup": "True",
           "hovertemplate": "direction=down<br>floor=15<br>Local Time (GMT+8)=%{x}<br>avgWait_weekday=%{y}<extra></extra>",
           "legendgroup": "down",
           "marker": {
            "color": "#636efa"
           },
           "name": "down",
           "offsetgroup": "down",
           "orientation": "v",
           "showlegend": true,
           "textposition": "auto",
           "type": "bar",
           "x": [
            0,
            1,
            2,
            3,
            4,
            5,
            6,
            7,
            8,
            9,
            10,
            11,
            12,
            13,
            14,
            15,
            16,
            17,
            18,
            19,
            20,
            21,
            22,
            23
           ],
           "xaxis": "x",
           "y": [
            21.935842696629205,
            28.14326530612245,
            30.31523809523809,
            22.39454545454545,
            18.506666666666668,
            18.057142857142857,
            31.853154362416106,
            51.713951219512204,
            58.47088235294117,
            67.44108552631579,
            67.70614173228347,
            80.53881028938906,
            74.32409375,
            63.44982578397212,
            69.51138059701493,
            60.54217993079586,
            66.30420560747665,
            70.61633720930233,
            58.19761744966443,
            50.102733564013846,
            46.76043137254902,
            37.76882096069868,
            27.359718309859158,
            23.973625
           ],
           "yaxis": "y"
          }
         ],
         "name": "15"
        },
        {
         "data": [
          {
           "alignmentgroup": "True",
           "hovertemplate": "direction=down<br>floor=B1<br>Local Time (GMT+8)=%{x}<br>avgWait_weekday=%{y}<extra></extra>",
           "legendgroup": "down",
           "marker": {
            "color": "#636efa"
           },
           "name": "down",
           "offsetgroup": "down",
           "orientation": "v",
           "showlegend": true,
           "textposition": "auto",
           "type": "bar",
           "x": [
            1,
            2,
            3,
            4,
            5,
            6,
            7,
            8,
            9,
            10,
            11,
            12,
            13,
            14,
            15,
            16,
            17,
            18,
            19,
            20,
            21,
            22,
            23
           ],
           "xaxis": "x",
           "y": [
            49.4,
            15.09,
            1.59,
            1.35,
            6.4766666666666675,
            35.53100000000001,
            49.82903225806453,
            66.28333333333333,
            57.032068965517226,
            55.10704545454546,
            42.86032258064515,
            28.39660377358491,
            40.333666666666666,
            39.03517241379311,
            55.93400000000001,
            45.84290322580645,
            54.232,
            100.46166666666666,
            51.323888888888895,
            24.575714285714287,
            49.82,
            21.23,
            28.7
           ],
           "yaxis": "y"
          },
          {
           "alignmentgroup": "True",
           "hovertemplate": "direction=up<br>floor=B1<br>Local Time (GMT+8)=%{x}<br>avgWait_weekday=%{y}<extra></extra>",
           "legendgroup": "up",
           "marker": {
            "color": "#EF553B"
           },
           "name": "up",
           "offsetgroup": "up",
           "orientation": "v",
           "showlegend": true,
           "textposition": "auto",
           "type": "bar",
           "x": [
            0,
            1,
            2,
            3,
            4,
            5,
            6,
            7,
            8,
            9,
            10,
            11,
            12,
            13,
            14,
            15,
            16,
            17,
            18,
            19,
            20,
            21,
            22,
            23
           ],
           "xaxis": "x2",
           "y": [
            9.73181818181818,
            6.219600000000002,
            11.376,
            5.855,
            6.65875,
            16.922307692307697,
            29.658118811881188,
            64.55537698412698,
            72.66171764705881,
            75.24890025575448,
            82.43951008645534,
            103.25052924791088,
            102.24617721518987,
            93.13381909547738,
            92.1629916897507,
            74.73814323607427,
            79.41941828254849,
            92.93457070707069,
            87.20654462242564,
            68.78420323325635,
            50.439262086514,
            32.57666666666667,
            23.20926174496644,
            17.86888888888889
           ],
           "yaxis": "y2"
          }
         ],
         "name": "B1"
        }
       ],
       "layout": {
        "annotations": [
         {
          "font": {},
          "showarrow": false,
          "text": "direction=down",
          "x": 0.245,
          "xanchor": "center",
          "xref": "paper",
          "y": 1,
          "yanchor": "bottom",
          "yref": "paper"
         },
         {
          "font": {},
          "showarrow": false,
          "text": "direction=up",
          "x": 0.755,
          "xanchor": "center",
          "xref": "paper",
          "y": 1,
          "yanchor": "bottom",
          "yref": "paper"
         }
        ],
        "barmode": "relative",
        "legend": {
         "title": {
          "text": "direction"
         },
         "tracegroupgap": 0
        },
        "margin": {
         "t": 60
        },
        "sliders": [
         {
          "active": 0,
          "currentvalue": {
           "prefix": "floor="
          },
          "len": 0.9,
          "pad": {
           "b": 10,
           "t": 60
          },
          "steps": [
           {
            "args": [
             [
              "1"
             ],
             {
              "frame": {
               "duration": 0,
               "redraw": true
              },
              "fromcurrent": true,
              "mode": "immediate",
              "transition": {
               "duration": 0,
               "easing": "linear"
              }
             }
            ],
            "label": "1",
            "method": "animate"
           },
           {
            "args": [
             [
              "2"
             ],
             {
              "frame": {
               "duration": 0,
               "redraw": true
              },
              "fromcurrent": true,
              "mode": "immediate",
              "transition": {
               "duration": 0,
               "easing": "linear"
              }
             }
            ],
            "label": "2",
            "method": "animate"
           },
           {
            "args": [
             [
              "4"
             ],
             {
              "frame": {
               "duration": 0,
               "redraw": true
              },
              "fromcurrent": true,
              "mode": "immediate",
              "transition": {
               "duration": 0,
               "easing": "linear"
              }
             }
            ],
            "label": "4",
            "method": "animate"
           },
           {
            "args": [
             [
              "8"
             ],
             {
              "frame": {
               "duration": 0,
               "redraw": true
              },
              "fromcurrent": true,
              "mode": "immediate",
              "transition": {
               "duration": 0,
               "easing": "linear"
              }
             }
            ],
            "label": "8",
            "method": "animate"
           },
           {
            "args": [
             [
              "9"
             ],
             {
              "frame": {
               "duration": 0,
               "redraw": true
              },
              "fromcurrent": true,
              "mode": "immediate",
              "transition": {
               "duration": 0,
               "easing": "linear"
              }
             }
            ],
            "label": "9",
            "method": "animate"
           },
           {
            "args": [
             [
              "10"
             ],
             {
              "frame": {
               "duration": 0,
               "redraw": true
              },
              "fromcurrent": true,
              "mode": "immediate",
              "transition": {
               "duration": 0,
               "easing": "linear"
              }
             }
            ],
            "label": "10",
            "method": "animate"
           },
           {
            "args": [
             [
              "11"
             ],
             {
              "frame": {
               "duration": 0,
               "redraw": true
              },
              "fromcurrent": true,
              "mode": "immediate",
              "transition": {
               "duration": 0,
               "easing": "linear"
              }
             }
            ],
            "label": "11",
            "method": "animate"
           },
           {
            "args": [
             [
              "12"
             ],
             {
              "frame": {
               "duration": 0,
               "redraw": true
              },
              "fromcurrent": true,
              "mode": "immediate",
              "transition": {
               "duration": 0,
               "easing": "linear"
              }
             }
            ],
            "label": "12",
            "method": "animate"
           },
           {
            "args": [
             [
              "13"
             ],
             {
              "frame": {
               "duration": 0,
               "redraw": true
              },
              "fromcurrent": true,
              "mode": "immediate",
              "transition": {
               "duration": 0,
               "easing": "linear"
              }
             }
            ],
            "label": "13",
            "method": "animate"
           },
           {
            "args": [
             [
              "14"
             ],
             {
              "frame": {
               "duration": 0,
               "redraw": true
              },
              "fromcurrent": true,
              "mode": "immediate",
              "transition": {
               "duration": 0,
               "easing": "linear"
              }
             }
            ],
            "label": "14",
            "method": "animate"
           },
           {
            "args": [
             [
              "15"
             ],
             {
              "frame": {
               "duration": 0,
               "redraw": true
              },
              "fromcurrent": true,
              "mode": "immediate",
              "transition": {
               "duration": 0,
               "easing": "linear"
              }
             }
            ],
            "label": "15",
            "method": "animate"
           },
           {
            "args": [
             [
              "B1"
             ],
             {
              "frame": {
               "duration": 0,
               "redraw": true
              },
              "fromcurrent": true,
              "mode": "immediate",
              "transition": {
               "duration": 0,
               "easing": "linear"
              }
             }
            ],
            "label": "B1",
            "method": "animate"
           }
          ],
          "x": 0.1,
          "xanchor": "left",
          "y": 0,
          "yanchor": "top"
         }
        ],
        "template": {
         "data": {
          "bar": [
           {
            "error_x": {
             "color": "#2a3f5f"
            },
            "error_y": {
             "color": "#2a3f5f"
            },
            "marker": {
             "line": {
              "color": "#E5ECF6",
              "width": 0.5
             }
            },
            "type": "bar"
           }
          ],
          "barpolar": [
           {
            "marker": {
             "line": {
              "color": "#E5ECF6",
              "width": 0.5
             }
            },
            "type": "barpolar"
           }
          ],
          "carpet": [
           {
            "aaxis": {
             "endlinecolor": "#2a3f5f",
             "gridcolor": "white",
             "linecolor": "white",
             "minorgridcolor": "white",
             "startlinecolor": "#2a3f5f"
            },
            "baxis": {
             "endlinecolor": "#2a3f5f",
             "gridcolor": "white",
             "linecolor": "white",
             "minorgridcolor": "white",
             "startlinecolor": "#2a3f5f"
            },
            "type": "carpet"
           }
          ],
          "choropleth": [
           {
            "colorbar": {
             "outlinewidth": 0,
             "ticks": ""
            },
            "type": "choropleth"
           }
          ],
          "contour": [
           {
            "colorbar": {
             "outlinewidth": 0,
             "ticks": ""
            },
            "colorscale": [
             [
              0,
              "#0d0887"
             ],
             [
              0.1111111111111111,
              "#46039f"
             ],
             [
              0.2222222222222222,
              "#7201a8"
             ],
             [
              0.3333333333333333,
              "#9c179e"
             ],
             [
              0.4444444444444444,
              "#bd3786"
             ],
             [
              0.5555555555555556,
              "#d8576b"
             ],
             [
              0.6666666666666666,
              "#ed7953"
             ],
             [
              0.7777777777777778,
              "#fb9f3a"
             ],
             [
              0.8888888888888888,
              "#fdca26"
             ],
             [
              1,
              "#f0f921"
             ]
            ],
            "type": "contour"
           }
          ],
          "contourcarpet": [
           {
            "colorbar": {
             "outlinewidth": 0,
             "ticks": ""
            },
            "type": "contourcarpet"
           }
          ],
          "heatmap": [
           {
            "colorbar": {
             "outlinewidth": 0,
             "ticks": ""
            },
            "colorscale": [
             [
              0,
              "#0d0887"
             ],
             [
              0.1111111111111111,
              "#46039f"
             ],
             [
              0.2222222222222222,
              "#7201a8"
             ],
             [
              0.3333333333333333,
              "#9c179e"
             ],
             [
              0.4444444444444444,
              "#bd3786"
             ],
             [
              0.5555555555555556,
              "#d8576b"
             ],
             [
              0.6666666666666666,
              "#ed7953"
             ],
             [
              0.7777777777777778,
              "#fb9f3a"
             ],
             [
              0.8888888888888888,
              "#fdca26"
             ],
             [
              1,
              "#f0f921"
             ]
            ],
            "type": "heatmap"
           }
          ],
          "heatmapgl": [
           {
            "colorbar": {
             "outlinewidth": 0,
             "ticks": ""
            },
            "colorscale": [
             [
              0,
              "#0d0887"
             ],
             [
              0.1111111111111111,
              "#46039f"
             ],
             [
              0.2222222222222222,
              "#7201a8"
             ],
             [
              0.3333333333333333,
              "#9c179e"
             ],
             [
              0.4444444444444444,
              "#bd3786"
             ],
             [
              0.5555555555555556,
              "#d8576b"
             ],
             [
              0.6666666666666666,
              "#ed7953"
             ],
             [
              0.7777777777777778,
              "#fb9f3a"
             ],
             [
              0.8888888888888888,
              "#fdca26"
             ],
             [
              1,
              "#f0f921"
             ]
            ],
            "type": "heatmapgl"
           }
          ],
          "histogram": [
           {
            "marker": {
             "colorbar": {
              "outlinewidth": 0,
              "ticks": ""
             }
            },
            "type": "histogram"
           }
          ],
          "histogram2d": [
           {
            "colorbar": {
             "outlinewidth": 0,
             "ticks": ""
            },
            "colorscale": [
             [
              0,
              "#0d0887"
             ],
             [
              0.1111111111111111,
              "#46039f"
             ],
             [
              0.2222222222222222,
              "#7201a8"
             ],
             [
              0.3333333333333333,
              "#9c179e"
             ],
             [
              0.4444444444444444,
              "#bd3786"
             ],
             [
              0.5555555555555556,
              "#d8576b"
             ],
             [
              0.6666666666666666,
              "#ed7953"
             ],
             [
              0.7777777777777778,
              "#fb9f3a"
             ],
             [
              0.8888888888888888,
              "#fdca26"
             ],
             [
              1,
              "#f0f921"
             ]
            ],
            "type": "histogram2d"
           }
          ],
          "histogram2dcontour": [
           {
            "colorbar": {
             "outlinewidth": 0,
             "ticks": ""
            },
            "colorscale": [
             [
              0,
              "#0d0887"
             ],
             [
              0.1111111111111111,
              "#46039f"
             ],
             [
              0.2222222222222222,
              "#7201a8"
             ],
             [
              0.3333333333333333,
              "#9c179e"
             ],
             [
              0.4444444444444444,
              "#bd3786"
             ],
             [
              0.5555555555555556,
              "#d8576b"
             ],
             [
              0.6666666666666666,
              "#ed7953"
             ],
             [
              0.7777777777777778,
              "#fb9f3a"
             ],
             [
              0.8888888888888888,
              "#fdca26"
             ],
             [
              1,
              "#f0f921"
             ]
            ],
            "type": "histogram2dcontour"
           }
          ],
          "mesh3d": [
           {
            "colorbar": {
             "outlinewidth": 0,
             "ticks": ""
            },
            "type": "mesh3d"
           }
          ],
          "parcoords": [
           {
            "line": {
             "colorbar": {
              "outlinewidth": 0,
              "ticks": ""
             }
            },
            "type": "parcoords"
           }
          ],
          "pie": [
           {
            "automargin": true,
            "type": "pie"
           }
          ],
          "scatter": [
           {
            "marker": {
             "colorbar": {
              "outlinewidth": 0,
              "ticks": ""
             }
            },
            "type": "scatter"
           }
          ],
          "scatter3d": [
           {
            "line": {
             "colorbar": {
              "outlinewidth": 0,
              "ticks": ""
             }
            },
            "marker": {
             "colorbar": {
              "outlinewidth": 0,
              "ticks": ""
             }
            },
            "type": "scatter3d"
           }
          ],
          "scattercarpet": [
           {
            "marker": {
             "colorbar": {
              "outlinewidth": 0,
              "ticks": ""
             }
            },
            "type": "scattercarpet"
           }
          ],
          "scattergeo": [
           {
            "marker": {
             "colorbar": {
              "outlinewidth": 0,
              "ticks": ""
             }
            },
            "type": "scattergeo"
           }
          ],
          "scattergl": [
           {
            "marker": {
             "colorbar": {
              "outlinewidth": 0,
              "ticks": ""
             }
            },
            "type": "scattergl"
           }
          ],
          "scattermapbox": [
           {
            "marker": {
             "colorbar": {
              "outlinewidth": 0,
              "ticks": ""
             }
            },
            "type": "scattermapbox"
           }
          ],
          "scatterpolar": [
           {
            "marker": {
             "colorbar": {
              "outlinewidth": 0,
              "ticks": ""
             }
            },
            "type": "scatterpolar"
           }
          ],
          "scatterpolargl": [
           {
            "marker": {
             "colorbar": {
              "outlinewidth": 0,
              "ticks": ""
             }
            },
            "type": "scatterpolargl"
           }
          ],
          "scatterternary": [
           {
            "marker": {
             "colorbar": {
              "outlinewidth": 0,
              "ticks": ""
             }
            },
            "type": "scatterternary"
           }
          ],
          "surface": [
           {
            "colorbar": {
             "outlinewidth": 0,
             "ticks": ""
            },
            "colorscale": [
             [
              0,
              "#0d0887"
             ],
             [
              0.1111111111111111,
              "#46039f"
             ],
             [
              0.2222222222222222,
              "#7201a8"
             ],
             [
              0.3333333333333333,
              "#9c179e"
             ],
             [
              0.4444444444444444,
              "#bd3786"
             ],
             [
              0.5555555555555556,
              "#d8576b"
             ],
             [
              0.6666666666666666,
              "#ed7953"
             ],
             [
              0.7777777777777778,
              "#fb9f3a"
             ],
             [
              0.8888888888888888,
              "#fdca26"
             ],
             [
              1,
              "#f0f921"
             ]
            ],
            "type": "surface"
           }
          ],
          "table": [
           {
            "cells": {
             "fill": {
              "color": "#EBF0F8"
             },
             "line": {
              "color": "white"
             }
            },
            "header": {
             "fill": {
              "color": "#C8D4E3"
             },
             "line": {
              "color": "white"
             }
            },
            "type": "table"
           }
          ]
         },
         "layout": {
          "annotationdefaults": {
           "arrowcolor": "#2a3f5f",
           "arrowhead": 0,
           "arrowwidth": 1
          },
          "coloraxis": {
           "colorbar": {
            "outlinewidth": 0,
            "ticks": ""
           }
          },
          "colorscale": {
           "diverging": [
            [
             0,
             "#8e0152"
            ],
            [
             0.1,
             "#c51b7d"
            ],
            [
             0.2,
             "#de77ae"
            ],
            [
             0.3,
             "#f1b6da"
            ],
            [
             0.4,
             "#fde0ef"
            ],
            [
             0.5,
             "#f7f7f7"
            ],
            [
             0.6,
             "#e6f5d0"
            ],
            [
             0.7,
             "#b8e186"
            ],
            [
             0.8,
             "#7fbc41"
            ],
            [
             0.9,
             "#4d9221"
            ],
            [
             1,
             "#276419"
            ]
           ],
           "sequential": [
            [
             0,
             "#0d0887"
            ],
            [
             0.1111111111111111,
             "#46039f"
            ],
            [
             0.2222222222222222,
             "#7201a8"
            ],
            [
             0.3333333333333333,
             "#9c179e"
            ],
            [
             0.4444444444444444,
             "#bd3786"
            ],
            [
             0.5555555555555556,
             "#d8576b"
            ],
            [
             0.6666666666666666,
             "#ed7953"
            ],
            [
             0.7777777777777778,
             "#fb9f3a"
            ],
            [
             0.8888888888888888,
             "#fdca26"
            ],
            [
             1,
             "#f0f921"
            ]
           ],
           "sequentialminus": [
            [
             0,
             "#0d0887"
            ],
            [
             0.1111111111111111,
             "#46039f"
            ],
            [
             0.2222222222222222,
             "#7201a8"
            ],
            [
             0.3333333333333333,
             "#9c179e"
            ],
            [
             0.4444444444444444,
             "#bd3786"
            ],
            [
             0.5555555555555556,
             "#d8576b"
            ],
            [
             0.6666666666666666,
             "#ed7953"
            ],
            [
             0.7777777777777778,
             "#fb9f3a"
            ],
            [
             0.8888888888888888,
             "#fdca26"
            ],
            [
             1,
             "#f0f921"
            ]
           ]
          },
          "colorway": [
           "#636efa",
           "#EF553B",
           "#00cc96",
           "#ab63fa",
           "#FFA15A",
           "#19d3f3",
           "#FF6692",
           "#B6E880",
           "#FF97FF",
           "#FECB52"
          ],
          "font": {
           "color": "#2a3f5f"
          },
          "geo": {
           "bgcolor": "white",
           "lakecolor": "white",
           "landcolor": "#E5ECF6",
           "showlakes": true,
           "showland": true,
           "subunitcolor": "white"
          },
          "hoverlabel": {
           "align": "left"
          },
          "hovermode": "closest",
          "mapbox": {
           "style": "light"
          },
          "paper_bgcolor": "white",
          "plot_bgcolor": "#E5ECF6",
          "polar": {
           "angularaxis": {
            "gridcolor": "white",
            "linecolor": "white",
            "ticks": ""
           },
           "bgcolor": "#E5ECF6",
           "radialaxis": {
            "gridcolor": "white",
            "linecolor": "white",
            "ticks": ""
           }
          },
          "scene": {
           "xaxis": {
            "backgroundcolor": "#E5ECF6",
            "gridcolor": "white",
            "gridwidth": 2,
            "linecolor": "white",
            "showbackground": true,
            "ticks": "",
            "zerolinecolor": "white"
           },
           "yaxis": {
            "backgroundcolor": "#E5ECF6",
            "gridcolor": "white",
            "gridwidth": 2,
            "linecolor": "white",
            "showbackground": true,
            "ticks": "",
            "zerolinecolor": "white"
           },
           "zaxis": {
            "backgroundcolor": "#E5ECF6",
            "gridcolor": "white",
            "gridwidth": 2,
            "linecolor": "white",
            "showbackground": true,
            "ticks": "",
            "zerolinecolor": "white"
           }
          },
          "shapedefaults": {
           "line": {
            "color": "#2a3f5f"
           }
          },
          "ternary": {
           "aaxis": {
            "gridcolor": "white",
            "linecolor": "white",
            "ticks": ""
           },
           "baxis": {
            "gridcolor": "white",
            "linecolor": "white",
            "ticks": ""
           },
           "bgcolor": "#E5ECF6",
           "caxis": {
            "gridcolor": "white",
            "linecolor": "white",
            "ticks": ""
           }
          },
          "title": {
           "x": 0.05
          },
          "xaxis": {
           "automargin": true,
           "gridcolor": "white",
           "linecolor": "white",
           "ticks": "",
           "title": {
            "standoff": 15
           },
           "zerolinecolor": "white",
           "zerolinewidth": 2
          },
          "yaxis": {
           "automargin": true,
           "gridcolor": "white",
           "linecolor": "white",
           "ticks": "",
           "title": {
            "standoff": 15
           },
           "zerolinecolor": "white",
           "zerolinewidth": 2
          }
         }
        },
        "title": {
         "text": "Average waiting time of Elevator Calls by Time"
        },
        "updatemenus": [
         {
          "buttons": [
           {
            "args": [
             null,
             {
              "frame": {
               "duration": 500,
               "redraw": true
              },
              "fromcurrent": true,
              "mode": "immediate",
              "transition": {
               "duration": 500,
               "easing": "linear"
              }
             }
            ],
            "label": "&#9654;",
            "method": "animate"
           },
           {
            "args": [
             [
              null
             ],
             {
              "frame": {
               "duration": 0,
               "redraw": true
              },
              "fromcurrent": true,
              "mode": "immediate",
              "transition": {
               "duration": 0,
               "easing": "linear"
              }
             }
            ],
            "label": "&#9724;",
            "method": "animate"
           }
          ],
          "direction": "left",
          "pad": {
           "r": 10,
           "t": 70
          },
          "showactive": false,
          "type": "buttons",
          "x": 0.1,
          "xanchor": "right",
          "y": 0,
          "yanchor": "top"
         }
        ],
        "xaxis": {
         "anchor": "y",
         "categoryarray": [
          0,
          24
         ],
         "domain": [
          0,
          0.49
         ],
         "nticks": 19,
         "title": {
          "text": "Local Time (GMT+8)"
         },
         "type": "category"
        },
        "xaxis2": {
         "anchor": "y2",
         "categoryarray": [
          0,
          24
         ],
         "domain": [
          0.51,
          1
         ],
         "matches": "x",
         "nticks": 19,
         "title": {
          "text": "Local Time (GMT+8)"
         },
         "type": "category"
        },
        "yaxis": {
         "anchor": "x",
         "domain": [
          0,
          1
         ],
         "range": [
          0,
          300
         ],
         "title": {
          "text": "avgWait_weekday"
         }
        },
        "yaxis2": {
         "anchor": "x2",
         "domain": [
          0,
          1
         ],
         "matches": "y",
         "range": [
          0,
          300
         ],
         "showticklabels": false
        }
       }
      },
      "text/html": [
       "<div>\n",
       "        \n",
       "        \n",
       "            <div id=\"60c118e9-6bac-4e3b-b31e-74c01d908d02\" class=\"plotly-graph-div\" style=\"height:525px; width:100%;\"></div>\n",
       "            <script type=\"text/javascript\">\n",
       "                require([\"plotly\"], function(Plotly) {\n",
       "                    window.PLOTLYENV=window.PLOTLYENV || {};\n",
       "                    \n",
       "                if (document.getElementById(\"60c118e9-6bac-4e3b-b31e-74c01d908d02\")) {\n",
       "                    Plotly.newPlot(\n",
       "                        '60c118e9-6bac-4e3b-b31e-74c01d908d02',\n",
       "                        [{\"alignmentgroup\": \"True\", \"hovertemplate\": \"direction=down<br>floor=1<br>Local Time (GMT+8)=%{x}<br>avgWait_weekday=%{y}<extra></extra>\", \"legendgroup\": \"down\", \"marker\": {\"color\": \"#636efa\"}, \"name\": \"down\", \"offsetgroup\": \"down\", \"orientation\": \"v\", \"showlegend\": true, \"textposition\": \"auto\", \"type\": \"bar\", \"x\": [0, 1, 2, 3, 4, 5, 6, 7, 8, 9, 10, 11, 12, 13, 14, 15, 16, 17, 18, 19, 20, 21, 22, 23], \"xaxis\": \"x\", \"y\": [9.37857142857143, 9.708333333333334, 26.242, 6.81, 10.595999999999998, 5.3100000000000005, 30.61159420289855, 64.75900763358779, 57.68022988505746, 51.85513513513514, 43.8990977443609, 43.218934426229495, 39.74880341880342, 54.59816993464053, 50.61556390977444, 35.12908333333333, 44.353529411764704, 46.82776470588235, 61.505531914893616, 48.871129032258075, 43.678125, 37.884, 29.93148148148148, 22.710555555555555], \"yaxis\": \"y\"}, {\"alignmentgroup\": \"True\", \"hovertemplate\": \"direction=up<br>floor=1<br>Local Time (GMT+8)=%{x}<br>avgWait_weekday=%{y}<extra></extra>\", \"legendgroup\": \"up\", \"marker\": {\"color\": \"#EF553B\"}, \"name\": \"up\", \"offsetgroup\": \"up\", \"orientation\": \"v\", \"showlegend\": true, \"textposition\": \"auto\", \"type\": \"bar\", \"x\": [0, 1, 2, 3, 4, 5, 6, 7, 8, 9, 10, 11, 12, 13, 14, 15, 16, 17, 18, 19, 20, 21, 22, 23], \"xaxis\": \"x2\", \"y\": [9.164668989547039, 8.071036269430053, 12.5278, 10.288984375, 8.551573033707866, 9.02481865284974, 20.864676753782668, 25.834209677419352, 25.359718875502008, 29.888060606060602, 28.641800000000003, 23.414677002583982, 22.402623762376237, 24.059929742388764, 27.586139088729013, 32.094860215053764, 28.54580717488789, 24.3322641509434, 23.794084210526318, 31.74199630314233, 33.71367834394904, 27.089190600522194, 19.17528936742934, 14.320814159292036], \"yaxis\": \"y2\"}],\n",
       "                        {\"annotations\": [{\"font\": {}, \"showarrow\": false, \"text\": \"direction=down\", \"x\": 0.245, \"xanchor\": \"center\", \"xref\": \"paper\", \"y\": 1.0, \"yanchor\": \"bottom\", \"yref\": \"paper\"}, {\"font\": {}, \"showarrow\": false, \"text\": \"direction=up\", \"x\": 0.755, \"xanchor\": \"center\", \"xref\": \"paper\", \"y\": 1.0, \"yanchor\": \"bottom\", \"yref\": \"paper\"}], \"barmode\": \"relative\", \"legend\": {\"title\": {\"text\": \"direction\"}, \"tracegroupgap\": 0}, \"margin\": {\"t\": 60}, \"sliders\": [{\"active\": 0, \"currentvalue\": {\"prefix\": \"floor=\"}, \"len\": 0.9, \"pad\": {\"b\": 10, \"t\": 60}, \"steps\": [{\"args\": [[\"1\"], {\"frame\": {\"duration\": 0, \"redraw\": true}, \"fromcurrent\": true, \"mode\": \"immediate\", \"transition\": {\"duration\": 0, \"easing\": \"linear\"}}], \"label\": \"1\", \"method\": \"animate\"}, {\"args\": [[\"2\"], {\"frame\": {\"duration\": 0, \"redraw\": true}, \"fromcurrent\": true, \"mode\": \"immediate\", \"transition\": {\"duration\": 0, \"easing\": \"linear\"}}], \"label\": \"2\", \"method\": \"animate\"}, {\"args\": [[\"4\"], {\"frame\": {\"duration\": 0, \"redraw\": true}, \"fromcurrent\": true, \"mode\": \"immediate\", \"transition\": {\"duration\": 0, \"easing\": \"linear\"}}], \"label\": \"4\", \"method\": \"animate\"}, {\"args\": [[\"8\"], {\"frame\": {\"duration\": 0, \"redraw\": true}, \"fromcurrent\": true, \"mode\": \"immediate\", \"transition\": {\"duration\": 0, \"easing\": \"linear\"}}], \"label\": \"8\", \"method\": \"animate\"}, {\"args\": [[\"9\"], {\"frame\": {\"duration\": 0, \"redraw\": true}, \"fromcurrent\": true, \"mode\": \"immediate\", \"transition\": {\"duration\": 0, \"easing\": \"linear\"}}], \"label\": \"9\", \"method\": \"animate\"}, {\"args\": [[\"10\"], {\"frame\": {\"duration\": 0, \"redraw\": true}, \"fromcurrent\": true, \"mode\": \"immediate\", \"transition\": {\"duration\": 0, \"easing\": \"linear\"}}], \"label\": \"10\", \"method\": \"animate\"}, {\"args\": [[\"11\"], {\"frame\": {\"duration\": 0, \"redraw\": true}, \"fromcurrent\": true, \"mode\": \"immediate\", \"transition\": {\"duration\": 0, \"easing\": \"linear\"}}], \"label\": \"11\", \"method\": \"animate\"}, {\"args\": [[\"12\"], {\"frame\": {\"duration\": 0, \"redraw\": true}, \"fromcurrent\": true, \"mode\": \"immediate\", \"transition\": {\"duration\": 0, \"easing\": \"linear\"}}], \"label\": \"12\", \"method\": \"animate\"}, {\"args\": [[\"13\"], {\"frame\": {\"duration\": 0, \"redraw\": true}, \"fromcurrent\": true, \"mode\": \"immediate\", \"transition\": {\"duration\": 0, \"easing\": \"linear\"}}], \"label\": \"13\", \"method\": \"animate\"}, {\"args\": [[\"14\"], {\"frame\": {\"duration\": 0, \"redraw\": true}, \"fromcurrent\": true, \"mode\": \"immediate\", \"transition\": {\"duration\": 0, \"easing\": \"linear\"}}], \"label\": \"14\", \"method\": \"animate\"}, {\"args\": [[\"15\"], {\"frame\": {\"duration\": 0, \"redraw\": true}, \"fromcurrent\": true, \"mode\": \"immediate\", \"transition\": {\"duration\": 0, \"easing\": \"linear\"}}], \"label\": \"15\", \"method\": \"animate\"}, {\"args\": [[\"B1\"], {\"frame\": {\"duration\": 0, \"redraw\": true}, \"fromcurrent\": true, \"mode\": \"immediate\", \"transition\": {\"duration\": 0, \"easing\": \"linear\"}}], \"label\": \"B1\", \"method\": \"animate\"}], \"x\": 0.1, \"xanchor\": \"left\", \"y\": 0, \"yanchor\": \"top\"}], \"template\": {\"data\": {\"bar\": [{\"error_x\": {\"color\": \"#2a3f5f\"}, \"error_y\": {\"color\": \"#2a3f5f\"}, \"marker\": {\"line\": {\"color\": \"#E5ECF6\", \"width\": 0.5}}, \"type\": \"bar\"}], \"barpolar\": [{\"marker\": {\"line\": {\"color\": \"#E5ECF6\", \"width\": 0.5}}, \"type\": \"barpolar\"}], \"carpet\": [{\"aaxis\": {\"endlinecolor\": \"#2a3f5f\", \"gridcolor\": \"white\", \"linecolor\": \"white\", \"minorgridcolor\": \"white\", \"startlinecolor\": \"#2a3f5f\"}, \"baxis\": {\"endlinecolor\": \"#2a3f5f\", \"gridcolor\": \"white\", \"linecolor\": \"white\", \"minorgridcolor\": \"white\", \"startlinecolor\": \"#2a3f5f\"}, \"type\": \"carpet\"}], \"choropleth\": [{\"colorbar\": {\"outlinewidth\": 0, \"ticks\": \"\"}, \"type\": \"choropleth\"}], \"contour\": [{\"colorbar\": {\"outlinewidth\": 0, \"ticks\": \"\"}, \"colorscale\": [[0.0, \"#0d0887\"], [0.1111111111111111, \"#46039f\"], [0.2222222222222222, \"#7201a8\"], [0.3333333333333333, \"#9c179e\"], [0.4444444444444444, \"#bd3786\"], [0.5555555555555556, \"#d8576b\"], [0.6666666666666666, \"#ed7953\"], [0.7777777777777778, \"#fb9f3a\"], [0.8888888888888888, \"#fdca26\"], [1.0, \"#f0f921\"]], \"type\": \"contour\"}], \"contourcarpet\": [{\"colorbar\": {\"outlinewidth\": 0, \"ticks\": \"\"}, \"type\": \"contourcarpet\"}], \"heatmap\": [{\"colorbar\": {\"outlinewidth\": 0, \"ticks\": \"\"}, \"colorscale\": [[0.0, \"#0d0887\"], [0.1111111111111111, \"#46039f\"], [0.2222222222222222, \"#7201a8\"], [0.3333333333333333, \"#9c179e\"], [0.4444444444444444, \"#bd3786\"], [0.5555555555555556, \"#d8576b\"], [0.6666666666666666, \"#ed7953\"], [0.7777777777777778, \"#fb9f3a\"], [0.8888888888888888, \"#fdca26\"], [1.0, \"#f0f921\"]], \"type\": \"heatmap\"}], \"heatmapgl\": [{\"colorbar\": {\"outlinewidth\": 0, \"ticks\": \"\"}, \"colorscale\": [[0.0, \"#0d0887\"], [0.1111111111111111, \"#46039f\"], [0.2222222222222222, \"#7201a8\"], [0.3333333333333333, \"#9c179e\"], [0.4444444444444444, \"#bd3786\"], [0.5555555555555556, \"#d8576b\"], [0.6666666666666666, \"#ed7953\"], [0.7777777777777778, \"#fb9f3a\"], [0.8888888888888888, \"#fdca26\"], [1.0, \"#f0f921\"]], \"type\": \"heatmapgl\"}], \"histogram\": [{\"marker\": {\"colorbar\": {\"outlinewidth\": 0, \"ticks\": \"\"}}, \"type\": \"histogram\"}], \"histogram2d\": [{\"colorbar\": {\"outlinewidth\": 0, \"ticks\": \"\"}, \"colorscale\": [[0.0, \"#0d0887\"], [0.1111111111111111, \"#46039f\"], [0.2222222222222222, \"#7201a8\"], [0.3333333333333333, \"#9c179e\"], [0.4444444444444444, \"#bd3786\"], [0.5555555555555556, \"#d8576b\"], [0.6666666666666666, \"#ed7953\"], [0.7777777777777778, \"#fb9f3a\"], [0.8888888888888888, \"#fdca26\"], [1.0, \"#f0f921\"]], \"type\": \"histogram2d\"}], \"histogram2dcontour\": [{\"colorbar\": {\"outlinewidth\": 0, \"ticks\": \"\"}, \"colorscale\": [[0.0, \"#0d0887\"], [0.1111111111111111, \"#46039f\"], [0.2222222222222222, \"#7201a8\"], [0.3333333333333333, \"#9c179e\"], [0.4444444444444444, \"#bd3786\"], [0.5555555555555556, \"#d8576b\"], [0.6666666666666666, \"#ed7953\"], [0.7777777777777778, \"#fb9f3a\"], [0.8888888888888888, \"#fdca26\"], [1.0, \"#f0f921\"]], \"type\": \"histogram2dcontour\"}], \"mesh3d\": [{\"colorbar\": {\"outlinewidth\": 0, \"ticks\": \"\"}, \"type\": \"mesh3d\"}], \"parcoords\": [{\"line\": {\"colorbar\": {\"outlinewidth\": 0, \"ticks\": \"\"}}, \"type\": \"parcoords\"}], \"pie\": [{\"automargin\": true, \"type\": \"pie\"}], \"scatter\": [{\"marker\": {\"colorbar\": {\"outlinewidth\": 0, \"ticks\": \"\"}}, \"type\": \"scatter\"}], \"scatter3d\": [{\"line\": {\"colorbar\": {\"outlinewidth\": 0, \"ticks\": \"\"}}, \"marker\": {\"colorbar\": {\"outlinewidth\": 0, \"ticks\": \"\"}}, \"type\": \"scatter3d\"}], \"scattercarpet\": [{\"marker\": {\"colorbar\": {\"outlinewidth\": 0, \"ticks\": \"\"}}, \"type\": \"scattercarpet\"}], \"scattergeo\": [{\"marker\": {\"colorbar\": {\"outlinewidth\": 0, \"ticks\": \"\"}}, \"type\": \"scattergeo\"}], \"scattergl\": [{\"marker\": {\"colorbar\": {\"outlinewidth\": 0, \"ticks\": \"\"}}, \"type\": \"scattergl\"}], \"scattermapbox\": [{\"marker\": {\"colorbar\": {\"outlinewidth\": 0, \"ticks\": \"\"}}, \"type\": \"scattermapbox\"}], \"scatterpolar\": [{\"marker\": {\"colorbar\": {\"outlinewidth\": 0, \"ticks\": \"\"}}, \"type\": \"scatterpolar\"}], \"scatterpolargl\": [{\"marker\": {\"colorbar\": {\"outlinewidth\": 0, \"ticks\": \"\"}}, \"type\": \"scatterpolargl\"}], \"scatterternary\": [{\"marker\": {\"colorbar\": {\"outlinewidth\": 0, \"ticks\": \"\"}}, \"type\": \"scatterternary\"}], \"surface\": [{\"colorbar\": {\"outlinewidth\": 0, \"ticks\": \"\"}, \"colorscale\": [[0.0, \"#0d0887\"], [0.1111111111111111, \"#46039f\"], [0.2222222222222222, \"#7201a8\"], [0.3333333333333333, \"#9c179e\"], [0.4444444444444444, \"#bd3786\"], [0.5555555555555556, \"#d8576b\"], [0.6666666666666666, \"#ed7953\"], [0.7777777777777778, \"#fb9f3a\"], [0.8888888888888888, \"#fdca26\"], [1.0, \"#f0f921\"]], \"type\": \"surface\"}], \"table\": [{\"cells\": {\"fill\": {\"color\": \"#EBF0F8\"}, \"line\": {\"color\": \"white\"}}, \"header\": {\"fill\": {\"color\": \"#C8D4E3\"}, \"line\": {\"color\": \"white\"}}, \"type\": \"table\"}]}, \"layout\": {\"annotationdefaults\": {\"arrowcolor\": \"#2a3f5f\", \"arrowhead\": 0, \"arrowwidth\": 1}, \"coloraxis\": {\"colorbar\": {\"outlinewidth\": 0, \"ticks\": \"\"}}, \"colorscale\": {\"diverging\": [[0, \"#8e0152\"], [0.1, \"#c51b7d\"], [0.2, \"#de77ae\"], [0.3, \"#f1b6da\"], [0.4, \"#fde0ef\"], [0.5, \"#f7f7f7\"], [0.6, \"#e6f5d0\"], [0.7, \"#b8e186\"], [0.8, \"#7fbc41\"], [0.9, \"#4d9221\"], [1, \"#276419\"]], \"sequential\": [[0.0, \"#0d0887\"], [0.1111111111111111, \"#46039f\"], [0.2222222222222222, \"#7201a8\"], [0.3333333333333333, \"#9c179e\"], [0.4444444444444444, \"#bd3786\"], [0.5555555555555556, \"#d8576b\"], [0.6666666666666666, \"#ed7953\"], [0.7777777777777778, \"#fb9f3a\"], [0.8888888888888888, \"#fdca26\"], [1.0, \"#f0f921\"]], \"sequentialminus\": [[0.0, \"#0d0887\"], [0.1111111111111111, \"#46039f\"], [0.2222222222222222, \"#7201a8\"], [0.3333333333333333, \"#9c179e\"], [0.4444444444444444, \"#bd3786\"], [0.5555555555555556, \"#d8576b\"], [0.6666666666666666, \"#ed7953\"], [0.7777777777777778, \"#fb9f3a\"], [0.8888888888888888, \"#fdca26\"], [1.0, \"#f0f921\"]]}, \"colorway\": [\"#636efa\", \"#EF553B\", \"#00cc96\", \"#ab63fa\", \"#FFA15A\", \"#19d3f3\", \"#FF6692\", \"#B6E880\", \"#FF97FF\", \"#FECB52\"], \"font\": {\"color\": \"#2a3f5f\"}, \"geo\": {\"bgcolor\": \"white\", \"lakecolor\": \"white\", \"landcolor\": \"#E5ECF6\", \"showlakes\": true, \"showland\": true, \"subunitcolor\": \"white\"}, \"hoverlabel\": {\"align\": \"left\"}, \"hovermode\": \"closest\", \"mapbox\": {\"style\": \"light\"}, \"paper_bgcolor\": \"white\", \"plot_bgcolor\": \"#E5ECF6\", \"polar\": {\"angularaxis\": {\"gridcolor\": \"white\", \"linecolor\": \"white\", \"ticks\": \"\"}, \"bgcolor\": \"#E5ECF6\", \"radialaxis\": {\"gridcolor\": \"white\", \"linecolor\": \"white\", \"ticks\": \"\"}}, \"scene\": {\"xaxis\": {\"backgroundcolor\": \"#E5ECF6\", \"gridcolor\": \"white\", \"gridwidth\": 2, \"linecolor\": \"white\", \"showbackground\": true, \"ticks\": \"\", \"zerolinecolor\": \"white\"}, \"yaxis\": {\"backgroundcolor\": \"#E5ECF6\", \"gridcolor\": \"white\", \"gridwidth\": 2, \"linecolor\": \"white\", \"showbackground\": true, \"ticks\": \"\", \"zerolinecolor\": \"white\"}, \"zaxis\": {\"backgroundcolor\": \"#E5ECF6\", \"gridcolor\": \"white\", \"gridwidth\": 2, \"linecolor\": \"white\", \"showbackground\": true, \"ticks\": \"\", \"zerolinecolor\": \"white\"}}, \"shapedefaults\": {\"line\": {\"color\": \"#2a3f5f\"}}, \"ternary\": {\"aaxis\": {\"gridcolor\": \"white\", \"linecolor\": \"white\", \"ticks\": \"\"}, \"baxis\": {\"gridcolor\": \"white\", \"linecolor\": \"white\", \"ticks\": \"\"}, \"bgcolor\": \"#E5ECF6\", \"caxis\": {\"gridcolor\": \"white\", \"linecolor\": \"white\", \"ticks\": \"\"}}, \"title\": {\"x\": 0.05}, \"xaxis\": {\"automargin\": true, \"gridcolor\": \"white\", \"linecolor\": \"white\", \"ticks\": \"\", \"title\": {\"standoff\": 15}, \"zerolinecolor\": \"white\", \"zerolinewidth\": 2}, \"yaxis\": {\"automargin\": true, \"gridcolor\": \"white\", \"linecolor\": \"white\", \"ticks\": \"\", \"title\": {\"standoff\": 15}, \"zerolinecolor\": \"white\", \"zerolinewidth\": 2}}}, \"title\": {\"text\": \"Average waiting time of Elevator Calls by Time\"}, \"updatemenus\": [{\"buttons\": [{\"args\": [null, {\"frame\": {\"duration\": 500, \"redraw\": true}, \"fromcurrent\": true, \"mode\": \"immediate\", \"transition\": {\"duration\": 500, \"easing\": \"linear\"}}], \"label\": \"&#9654;\", \"method\": \"animate\"}, {\"args\": [[null], {\"frame\": {\"duration\": 0, \"redraw\": true}, \"fromcurrent\": true, \"mode\": \"immediate\", \"transition\": {\"duration\": 0, \"easing\": \"linear\"}}], \"label\": \"&#9724;\", \"method\": \"animate\"}], \"direction\": \"left\", \"pad\": {\"r\": 10, \"t\": 70}, \"showactive\": false, \"type\": \"buttons\", \"x\": 0.1, \"xanchor\": \"right\", \"y\": 0, \"yanchor\": \"top\"}], \"xaxis\": {\"anchor\": \"y\", \"categoryarray\": [0, 24], \"domain\": [0.0, 0.49], \"nticks\": 19, \"title\": {\"text\": \"Local Time (GMT+8)\"}, \"type\": \"category\"}, \"xaxis2\": {\"anchor\": \"y2\", \"categoryarray\": [0, 24], \"domain\": [0.51, 1.0], \"matches\": \"x\", \"nticks\": 19, \"title\": {\"text\": \"Local Time (GMT+8)\"}, \"type\": \"category\"}, \"yaxis\": {\"anchor\": \"x\", \"domain\": [0.0, 1.0], \"range\": [0, 300], \"title\": {\"text\": \"avgWait_weekday\"}}, \"yaxis2\": {\"anchor\": \"x2\", \"domain\": [0.0, 1.0], \"matches\": \"y\", \"range\": [0, 300], \"showticklabels\": false}},\n",
       "                        {\"responsive\": true}\n",
       "                    ).then(function(){\n",
       "                            Plotly.addFrames('60c118e9-6bac-4e3b-b31e-74c01d908d02', [{\"data\": [{\"alignmentgroup\": \"True\", \"hovertemplate\": \"direction=down<br>floor=1<br>Local Time (GMT+8)=%{x}<br>avgWait_weekday=%{y}<extra></extra>\", \"legendgroup\": \"down\", \"marker\": {\"color\": \"#636efa\"}, \"name\": \"down\", \"offsetgroup\": \"down\", \"orientation\": \"v\", \"showlegend\": true, \"textposition\": \"auto\", \"x\": [0, 1, 2, 3, 4, 5, 6, 7, 8, 9, 10, 11, 12, 13, 14, 15, 16, 17, 18, 19, 20, 21, 22, 23], \"xaxis\": \"x\", \"y\": [9.37857142857143, 9.708333333333334, 26.242, 6.81, 10.595999999999998, 5.3100000000000005, 30.61159420289855, 64.75900763358779, 57.68022988505746, 51.85513513513514, 43.8990977443609, 43.218934426229495, 39.74880341880342, 54.59816993464053, 50.61556390977444, 35.12908333333333, 44.353529411764704, 46.82776470588235, 61.505531914893616, 48.871129032258075, 43.678125, 37.884, 29.93148148148148, 22.710555555555555], \"yaxis\": \"y\", \"type\": \"bar\"}, {\"alignmentgroup\": \"True\", \"hovertemplate\": \"direction=up<br>floor=1<br>Local Time (GMT+8)=%{x}<br>avgWait_weekday=%{y}<extra></extra>\", \"legendgroup\": \"up\", \"marker\": {\"color\": \"#EF553B\"}, \"name\": \"up\", \"offsetgroup\": \"up\", \"orientation\": \"v\", \"showlegend\": true, \"textposition\": \"auto\", \"x\": [0, 1, 2, 3, 4, 5, 6, 7, 8, 9, 10, 11, 12, 13, 14, 15, 16, 17, 18, 19, 20, 21, 22, 23], \"xaxis\": \"x2\", \"y\": [9.164668989547039, 8.071036269430053, 12.5278, 10.288984375, 8.551573033707866, 9.02481865284974, 20.864676753782668, 25.834209677419352, 25.359718875502008, 29.888060606060602, 28.641800000000003, 23.414677002583982, 22.402623762376237, 24.059929742388764, 27.586139088729013, 32.094860215053764, 28.54580717488789, 24.3322641509434, 23.794084210526318, 31.74199630314233, 33.71367834394904, 27.089190600522194, 19.17528936742934, 14.320814159292036], \"yaxis\": \"y2\", \"type\": \"bar\"}], \"name\": \"1\"}, {\"data\": [{\"alignmentgroup\": \"True\", \"hovertemplate\": \"direction=down<br>floor=2<br>Local Time (GMT+8)=%{x}<br>avgWait_weekday=%{y}<extra></extra>\", \"legendgroup\": \"down\", \"marker\": {\"color\": \"#636efa\"}, \"name\": \"down\", \"offsetgroup\": \"down\", \"orientation\": \"v\", \"showlegend\": true, \"textposition\": \"auto\", \"x\": [0, 3, 5, 6, 7, 8, 9, 10, 11, 12, 13, 14, 15, 16, 17, 18, 19, 20, 21, 22, 23], \"xaxis\": \"x\", \"y\": [21.12, 2.41, 11.75, 55.57285714285714, 56.83333333333334, 75.43162790697674, 62.1632876712329, 49.284285714285716, 33.03046875, 40.66952380952381, 62.17583333333333, 60.09783783783784, 46.83315068493151, 52.05177419354839, 44.67828571428571, 57.8556, 74.378, 34.214, 21.5075, 19.9725, 7.649999999999999], \"yaxis\": \"y\", \"type\": \"bar\"}, {\"alignmentgroup\": \"True\", \"hovertemplate\": \"direction=up<br>floor=2<br>Local Time (GMT+8)=%{x}<br>avgWait_weekday=%{y}<extra></extra>\", \"legendgroup\": \"up\", \"marker\": {\"color\": \"#EF553B\"}, \"name\": \"up\", \"offsetgroup\": \"up\", \"orientation\": \"v\", \"showlegend\": true, \"textposition\": \"auto\", \"x\": [4, 6, 7, 8, 9, 10, 11, 12, 13, 14, 15, 16, 17, 18, 19, 20, 21, 22, 23], \"xaxis\": \"x2\", \"y\": [9.815, 19.663333333333334, 11.269000000000002, 12.885089285714288, 14.114380952380955, 13.24934065934066, 12.466792452830187, 10.842716049382718, 11.415346534653466, 11.496521739130433, 15.171553398058252, 13.711196581196582, 14.251408450704224, 12.302083333333336, 17.055294117647062, 18.465, 3.5475000000000003, 18.661666666666665, 7.325], \"yaxis\": \"y2\", \"type\": \"bar\"}], \"name\": \"2\"}, {\"data\": [{\"alignmentgroup\": \"True\", \"hovertemplate\": \"direction=down<br>floor=4<br>Local Time (GMT+8)=%{x}<br>avgWait_weekday=%{y}<extra></extra>\", \"legendgroup\": \"down\", \"marker\": {\"color\": \"#636efa\"}, \"name\": \"down\", \"offsetgroup\": \"down\", \"orientation\": \"v\", \"showlegend\": true, \"textposition\": \"auto\", \"x\": [0, 1, 2, 3, 6, 7, 8, 9, 10, 11, 12, 13, 14, 15, 16, 17, 18, 19, 20, 21, 22, 23], \"xaxis\": \"x\", \"y\": [24.979677419354843, 19.747857142857143, 32.12428571428571, 14.01125, 48.61533333333333, 71.21490196078432, 94.17018181818182, 85.94744897959184, 90.6477118644068, 110.58026178010472, 106.00479069767441, 93.03228758169935, 89.61132183908045, 89.32922705314009, 85.40559523809523, 97.45184971098269, 89.09142857142858, 83.73402061855668, 70.7636170212766, 44.39735294117647, 36.78222222222222, 22.3025], \"yaxis\": \"y\", \"type\": \"bar\"}, {\"alignmentgroup\": \"True\", \"hovertemplate\": \"direction=up<br>floor=4<br>Local Time (GMT+8)=%{x}<br>avgWait_weekday=%{y}<extra></extra>\", \"legendgroup\": \"up\", \"marker\": {\"color\": \"#EF553B\"}, \"name\": \"up\", \"offsetgroup\": \"up\", \"orientation\": \"v\", \"showlegend\": true, \"textposition\": \"auto\", \"x\": [0, 1, 2, 3, 4, 5, 6, 7, 8, 9, 10, 11, 12, 13, 14, 15, 16, 17, 18, 19, 20, 21, 22, 23], \"xaxis\": \"x2\", \"y\": [17.064285714285713, 17.06, 12.81, 20.133333333333333, 11.21, 16.314999999999998, 19.2475, 15.472545454545456, 14.267191011235955, 13.448431372549019, 15.773828125, 13.725602836879432, 12.462045454545455, 11.53758389261745, 13.304135802469135, 12.520454545454545, 14.722684563758392, 14.928931297709925, 14.351470588235292, 16.432625, 15.437777777777779, 21.0684, 17.434545454545454, 16.716666666666665], \"yaxis\": \"y2\", \"type\": \"bar\"}], \"name\": \"4\"}, {\"data\": [{\"alignmentgroup\": \"True\", \"hovertemplate\": \"direction=down<br>floor=8<br>Local Time (GMT+8)=%{x}<br>avgWait_weekday=%{y}<extra></extra>\", \"legendgroup\": \"down\", \"marker\": {\"color\": \"#636efa\"}, \"name\": \"down\", \"offsetgroup\": \"down\", \"orientation\": \"v\", \"showlegend\": true, \"textposition\": \"auto\", \"x\": [0, 1, 2, 3, 4, 5, 6, 7, 8, 9, 10, 11, 12, 13, 14, 15, 16, 17, 18, 19, 20, 21, 22, 23], \"xaxis\": \"x\", \"y\": [21.222631578947368, 17.219615384615384, 18.504615384615384, 20.33333333333333, 21.14428571428571, 20.728571428571428, 22.690291262135922, 21.890473933649286, 16.998652482269506, 14.533642172523965, 14.06243445692884, 13.628785714285712, 13.314731543624161, 16.23679104477612, 15.646497890295358, 14.709550561797752, 14.636734693877552, 11.811308139534885, 12.991310975609755, 17.76142405063291, 15.351511627906977, 19.587305936073054, 18.158155339805823, 21.074], \"yaxis\": \"y\", \"type\": \"bar\"}, {\"alignmentgroup\": \"True\", \"hovertemplate\": \"direction=up<br>floor=8<br>Local Time (GMT+8)=%{x}<br>avgWait_weekday=%{y}<extra></extra>\", \"legendgroup\": \"up\", \"marker\": {\"color\": \"#EF553B\"}, \"name\": \"up\", \"offsetgroup\": \"up\", \"orientation\": \"v\", \"showlegend\": true, \"textposition\": \"auto\", \"x\": [0, 1, 2, 3, 4, 5, 6, 7, 8, 9, 10, 11, 12, 13, 14, 15, 16, 17, 18, 19, 20, 21, 22, 23], \"xaxis\": \"x2\", \"y\": [21.055, 16.89, 43.28666666666667, 23.07, 18.23, 22.29, 38.86625, 77.95829268292681, 69.92392, 84.69403846153847, 76.7843046357616, 93.32466666666666, 93.6412408759124, 100.53477707006368, 75.33247126436783, 83.61222972972972, 83.80812499999998, 84.64689320388351, 99.77336363636364, 69.92509803921568, 59.70892307692308, 48.505102040816325, 26.33625, 29.025], \"yaxis\": \"y2\", \"type\": \"bar\"}], \"name\": \"8\"}, {\"data\": [{\"alignmentgroup\": \"True\", \"hovertemplate\": \"direction=down<br>floor=9<br>Local Time (GMT+8)=%{x}<br>avgWait_weekday=%{y}<extra></extra>\", \"legendgroup\": \"down\", \"marker\": {\"color\": \"#636efa\"}, \"name\": \"down\", \"offsetgroup\": \"down\", \"orientation\": \"v\", \"showlegend\": true, \"textposition\": \"auto\", \"x\": [0, 1, 2, 3, 4, 5, 6, 7, 8, 9, 10, 11, 12, 13, 14, 15, 16, 17, 18, 19, 20, 21, 22, 23], \"xaxis\": \"x\", \"y\": [18.990625, 20.74921052631579, 19.31913043478261, 22.366666666666664, 18.133636363636363, 21.636486486486486, 26.370994475138122, 27.283880597014928, 20.485062893081764, 20.915701219512197, 17.32553459119497, 15.665386904761903, 15.89558988764045, 17.23714285714286, 19.082392638036808, 18.63558823529411, 18.372464183381087, 13.844570707070705, 18.37563725490196, 20.80616901408451, 22.444642857142853, 20.8041447368421, 24.228294117647057, 20.155454545454546], \"yaxis\": \"y\", \"type\": \"bar\"}, {\"alignmentgroup\": \"True\", \"hovertemplate\": \"direction=up<br>floor=9<br>Local Time (GMT+8)=%{x}<br>avgWait_weekday=%{y}<extra></extra>\", \"legendgroup\": \"up\", \"marker\": {\"color\": \"#EF553B\"}, \"name\": \"up\", \"offsetgroup\": \"up\", \"orientation\": \"v\", \"showlegend\": true, \"textposition\": \"auto\", \"x\": [0, 1, 2, 5, 6, 7, 8, 9, 10, 11, 12, 13, 14, 15, 16, 17, 18, 19, 20, 21, 22, 23], \"xaxis\": \"x2\", \"y\": [23.33, 14.392, 1.26, 20.73, 63.42307692307693, 62.690526315789484, 52.99266666666667, 47.80979166666666, 37.47375, 43.03148936170212, 58.8, 51.063508771929826, 51.87114285714286, 52.3363829787234, 55.500921052631575, 44.702790697674416, 44.59400000000001, 57.47833333333333, 65.39307692307692, 23.931666666666665, 31.09, 20.545], \"yaxis\": \"y2\", \"type\": \"bar\"}], \"name\": \"9\"}, {\"data\": [{\"alignmentgroup\": \"True\", \"hovertemplate\": \"direction=down<br>floor=10<br>Local Time (GMT+8)=%{x}<br>avgWait_weekday=%{y}<extra></extra>\", \"legendgroup\": \"down\", \"marker\": {\"color\": \"#636efa\"}, \"name\": \"down\", \"offsetgroup\": \"down\", \"orientation\": \"v\", \"showlegend\": true, \"textposition\": \"auto\", \"x\": [0, 1, 3, 5, 6, 7, 8, 9, 10, 11, 12, 13, 14, 15, 16, 17, 18, 19, 20, 21, 22, 23], \"xaxis\": \"x\", \"y\": [14.925000000000002, 20.385, 9.8175, 0.56, 38.43, 27.2040625, 17.653492063492067, 18.80713043478261, 16.456040268456377, 14.527976878612714, 16.457666666666668, 15.81373913043478, 14.894587155963302, 14.5545, 13.99688622754491, 14.842663934426227, 16.795, 15.729142857142856, 17.67745098039216, 22.28733333333333, 18.536756756756755, 9.753333333333332], \"yaxis\": \"y\", \"type\": \"bar\"}, {\"alignmentgroup\": \"True\", \"hovertemplate\": \"direction=up<br>floor=10<br>Local Time (GMT+8)=%{x}<br>avgWait_weekday=%{y}<extra></extra>\", \"legendgroup\": \"up\", \"marker\": {\"color\": \"#EF553B\"}, \"name\": \"up\", \"offsetgroup\": \"up\", \"orientation\": \"v\", \"showlegend\": true, \"textposition\": \"auto\", \"x\": [0, 1, 3, 7, 8, 9, 10, 11, 12, 13, 14, 15, 16, 17, 18, 19, 20, 21, 22], \"xaxis\": \"x2\", \"y\": [21.74, 29.87, 2.39, 45.5275, 45.25766666666666, 60.947017543859644, 55.163291139240506, 43.42728395061729, 64.0785294117647, 49.33070175438597, 35.14842465753425, 52.36333333333333, 62.26836363636364, 48.711388888888884, 68.58333333333333, 51.10333333333333, 65.08533333333334, 43.389, 50.67], \"yaxis\": \"y2\", \"type\": \"bar\"}], \"name\": \"10\"}, {\"data\": [{\"alignmentgroup\": \"True\", \"hovertemplate\": \"direction=down<br>floor=11<br>Local Time (GMT+8)=%{x}<br>avgWait_weekday=%{y}<extra></extra>\", \"legendgroup\": \"down\", \"marker\": {\"color\": \"#636efa\"}, \"name\": \"down\", \"offsetgroup\": \"down\", \"orientation\": \"v\", \"showlegend\": true, \"textposition\": \"auto\", \"x\": [0, 1, 2, 3, 4, 5, 6, 7, 8, 9, 10, 11, 12, 13, 14, 15, 16, 17, 18, 19, 20, 21, 22, 23], \"xaxis\": \"x\", \"y\": [20.28977528089888, 19.22636363636364, 19.9795, 15.944666666666668, 19.7775, 18.132926829268293, 30.35161016949152, 34.13450643776824, 28.310398671096355, 26.01223484848485, 24.8687987012987, 25.23207920792079, 23.987275641025644, 30.64038834951457, 26.954630225080386, 26.057305194805192, 25.329093484419264, 23.331680672268906, 26.455043731778428, 26.038885630498534, 27.065358255451713, 23.931198501872657, 22.104697986577182, 20.09094117647059], \"yaxis\": \"y\", \"type\": \"bar\"}, {\"alignmentgroup\": \"True\", \"hovertemplate\": \"direction=up<br>floor=11<br>Local Time (GMT+8)=%{x}<br>avgWait_weekday=%{y}<extra></extra>\", \"legendgroup\": \"up\", \"marker\": {\"color\": \"#EF553B\"}, \"name\": \"up\", \"offsetgroup\": \"up\", \"orientation\": \"v\", \"showlegend\": true, \"textposition\": \"auto\", \"x\": [0, 1, 2, 3, 5, 6, 7, 8, 9, 10, 11, 12, 13, 14, 15, 16, 17, 18, 19, 20, 21, 22, 23], \"xaxis\": \"x2\", \"y\": [1.59, 13.6, 22.61, 9.375, 20.6875, 44.49, 81.86928571428572, 55.63052631578947, 36.36151515151516, 33.123749999999994, 46.10764705882352, 44.133421052631576, 45.5304, 32.11096774193548, 48.876607142857154, 25.82731707317073, 50.299230769230775, 53.8275, 52.60466666666666, 72.06941176470589, 54.39, 28.8, 38.41], \"yaxis\": \"y2\", \"type\": \"bar\"}], \"name\": \"11\"}, {\"data\": [{\"alignmentgroup\": \"True\", \"hovertemplate\": \"direction=down<br>floor=12<br>Local Time (GMT+8)=%{x}<br>avgWait_weekday=%{y}<extra></extra>\", \"legendgroup\": \"down\", \"marker\": {\"color\": \"#636efa\"}, \"name\": \"down\", \"offsetgroup\": \"down\", \"orientation\": \"v\", \"showlegend\": true, \"textposition\": \"auto\", \"x\": [0, 1, 2, 3, 4, 5, 6, 7, 8, 9, 10, 11, 12, 13, 14, 15, 16, 17, 18, 19, 20, 21, 22, 23], \"xaxis\": \"x\", \"y\": [22.89237623762377, 21.458441558441557, 20.12, 21.76090909090909, 12.852105263157895, 18.594444444444445, 32.3171511627907, 44.90282868525896, 45.144035087719296, 45.078674698795176, 45.92576470588235, 56.635852090032145, 58.26958208955223, 48.754933333333334, 51.10778501628665, 49.777476340694, 52.42342182890856, 50.48618798955614, 45.37758904109589, 38.650518134715036, 39.15650704225352, 29.71578125, 25.53367346938775, 23.41533898305084], \"yaxis\": \"y\", \"type\": \"bar\"}, {\"alignmentgroup\": \"True\", \"hovertemplate\": \"direction=up<br>floor=12<br>Local Time (GMT+8)=%{x}<br>avgWait_weekday=%{y}<extra></extra>\", \"legendgroup\": \"up\", \"marker\": {\"color\": \"#EF553B\"}, \"name\": \"up\", \"offsetgroup\": \"up\", \"orientation\": \"v\", \"showlegend\": true, \"textposition\": \"auto\", \"x\": [0, 1, 3, 5, 6, 7, 8, 9, 10, 11, 12, 13, 14, 15, 16, 17, 18, 19, 20, 21, 22, 23], \"xaxis\": \"x2\", \"y\": [24.54666666666667, 9.975, 8.69, 19.04, 34.489999999999995, 60.18785714285714, 35.228235294117646, 46.93242424242424, 38.07521739130435, 54.4725, 70.15709677419355, 68.459, 36.78787878787879, 30.101470588235287, 48.69043478260869, 46.82045454545455, 49.334722222222226, 69.6376923076923, 35.44428571428572, 33.04666666666667, 31.932631578947372, 29.735], \"yaxis\": \"y2\", \"type\": \"bar\"}], \"name\": \"12\"}, {\"data\": [{\"alignmentgroup\": \"True\", \"hovertemplate\": \"direction=down<br>floor=13<br>Local Time (GMT+8)=%{x}<br>avgWait_weekday=%{y}<extra></extra>\", \"legendgroup\": \"down\", \"marker\": {\"color\": \"#636efa\"}, \"name\": \"down\", \"offsetgroup\": \"down\", \"orientation\": \"v\", \"showlegend\": true, \"textposition\": \"auto\", \"x\": [0, 1, 2, 3, 4, 5, 6, 7, 8, 9, 10, 11, 12, 13, 14, 15, 16, 17, 18, 19, 20, 21, 22, 23], \"xaxis\": \"x\", \"y\": [22.933177570093452, 17.30625, 23.99, 13.91642857142857, 17.57133333333333, 22.271607142857146, 31.28696132596685, 35.05127049180328, 28.808675496688746, 25.798928571428572, 30.939890109890108, 23.154355400696865, 21.762839879154075, 24.42943333333333, 27.666323024054986, 27.001470588235296, 24.05681681681682, 20.987897727272728, 22.985, 26.006016260162607, 28.977507418397625, 26.785016722408024, 23.95748502994012, 17.634777777777778], \"yaxis\": \"y\", \"type\": \"bar\"}, {\"alignmentgroup\": \"True\", \"hovertemplate\": \"direction=up<br>floor=13<br>Local Time (GMT+8)=%{x}<br>avgWait_weekday=%{y}<extra></extra>\", \"legendgroup\": \"up\", \"marker\": {\"color\": \"#EF553B\"}, \"name\": \"up\", \"offsetgroup\": \"up\", \"orientation\": \"v\", \"showlegend\": true, \"textposition\": \"auto\", \"x\": [0, 1, 3, 5, 6, 7, 8, 9, 10, 11, 12, 13, 14, 15, 16, 17, 18, 19, 20, 21, 22, 23], \"xaxis\": \"x2\", \"y\": [42.393333333333345, 14.663333333333336, 16.175, 6.11, 44.0075, 92.21692307692308, 85.80214285714284, 80.85529411764708, 53.267894736842095, 103.536, 100.08521739130435, 113.0, 76.846875, 84.86970588235295, 59.04435897435896, 82.0448275862069, 72.56444444444443, 82.03526315789476, 67.08818181818182, 36.9725, 28.014285714285712, 12.03], \"yaxis\": \"y2\", \"type\": \"bar\"}], \"name\": \"13\"}, {\"data\": [{\"alignmentgroup\": \"True\", \"hovertemplate\": \"direction=down<br>floor=14<br>Local Time (GMT+8)=%{x}<br>avgWait_weekday=%{y}<extra></extra>\", \"legendgroup\": \"down\", \"marker\": {\"color\": \"#636efa\"}, \"name\": \"down\", \"offsetgroup\": \"down\", \"orientation\": \"v\", \"showlegend\": true, \"textposition\": \"auto\", \"x\": [0, 1, 2, 3, 4, 5, 6, 7, 8, 9, 10, 11, 12, 13, 14, 15, 16, 17, 18, 19, 20, 21, 22, 23], \"xaxis\": \"x\", \"y\": [25.19351648351649, 19.742465753424657, 22.716800000000006, 15.91125, 17.252857142857142, 19.99289855072464, 29.301526315789477, 41.67968627450981, 40.06931372549019, 37.7078, 39.48445692883895, 33.833754266211606, 32.170450450450446, 41.450415335463255, 41.74787456445994, 35.97754901960784, 33.165524691358016, 33.338846153846156, 41.4958908045977, 39.230783132530114, 36.40923875432526, 30.962907488986783, 24.406034482758628, 22.080630630630626], \"yaxis\": \"y\", \"type\": \"bar\"}, {\"alignmentgroup\": \"True\", \"hovertemplate\": \"direction=up<br>floor=14<br>Local Time (GMT+8)=%{x}<br>avgWait_weekday=%{y}<extra></extra>\", \"legendgroup\": \"up\", \"marker\": {\"color\": \"#EF553B\"}, \"name\": \"up\", \"offsetgroup\": \"up\", \"orientation\": \"v\", \"showlegend\": true, \"textposition\": \"auto\", \"x\": [0, 1, 4, 5, 6, 7, 8, 9, 10, 11, 12, 13, 14, 15, 16, 17, 18, 19, 20, 21, 22, 23], \"xaxis\": \"x2\", \"y\": [26.79666666666667, 22.95, 19.65, 22.885, 37.864285714285714, 69.51428571428572, 61.00600000000001, 95.68941176470587, 98.38083333333331, 105.61391304347826, 85.31739130434784, 134.48624999999998, 93.59875, 79.14769230769231, 94.53285714285713, 84.36933333333333, 87.23478260869565, 83.64823529411764, 78.35799999999998, 62.74833333333334, 30.54, 12.585], \"yaxis\": \"y2\", \"type\": \"bar\"}], \"name\": \"14\"}, {\"data\": [{\"alignmentgroup\": \"True\", \"hovertemplate\": \"direction=down<br>floor=15<br>Local Time (GMT+8)=%{x}<br>avgWait_weekday=%{y}<extra></extra>\", \"legendgroup\": \"down\", \"marker\": {\"color\": \"#636efa\"}, \"name\": \"down\", \"offsetgroup\": \"down\", \"orientation\": \"v\", \"showlegend\": true, \"textposition\": \"auto\", \"x\": [0, 1, 2, 3, 4, 5, 6, 7, 8, 9, 10, 11, 12, 13, 14, 15, 16, 17, 18, 19, 20, 21, 22, 23], \"xaxis\": \"x\", \"y\": [21.935842696629205, 28.14326530612245, 30.31523809523809, 22.39454545454545, 18.506666666666668, 18.057142857142857, 31.853154362416106, 51.713951219512204, 58.47088235294117, 67.44108552631579, 67.70614173228347, 80.53881028938906, 74.32409375, 63.44982578397212, 69.51138059701493, 60.54217993079586, 66.30420560747665, 70.61633720930233, 58.19761744966443, 50.102733564013846, 46.76043137254902, 37.76882096069868, 27.359718309859158, 23.973625], \"yaxis\": \"y\", \"type\": \"bar\"}], \"name\": \"15\"}, {\"data\": [{\"alignmentgroup\": \"True\", \"hovertemplate\": \"direction=down<br>floor=B1<br>Local Time (GMT+8)=%{x}<br>avgWait_weekday=%{y}<extra></extra>\", \"legendgroup\": \"down\", \"marker\": {\"color\": \"#636efa\"}, \"name\": \"down\", \"offsetgroup\": \"down\", \"orientation\": \"v\", \"showlegend\": true, \"textposition\": \"auto\", \"x\": [1, 2, 3, 4, 5, 6, 7, 8, 9, 10, 11, 12, 13, 14, 15, 16, 17, 18, 19, 20, 21, 22, 23], \"xaxis\": \"x\", \"y\": [49.4, 15.09, 1.59, 1.35, 6.4766666666666675, 35.53100000000001, 49.82903225806453, 66.28333333333333, 57.032068965517226, 55.10704545454546, 42.86032258064515, 28.39660377358491, 40.333666666666666, 39.03517241379311, 55.93400000000001, 45.84290322580645, 54.232, 100.46166666666666, 51.323888888888895, 24.575714285714287, 49.82, 21.23, 28.7], \"yaxis\": \"y\", \"type\": \"bar\"}, {\"alignmentgroup\": \"True\", \"hovertemplate\": \"direction=up<br>floor=B1<br>Local Time (GMT+8)=%{x}<br>avgWait_weekday=%{y}<extra></extra>\", \"legendgroup\": \"up\", \"marker\": {\"color\": \"#EF553B\"}, \"name\": \"up\", \"offsetgroup\": \"up\", \"orientation\": \"v\", \"showlegend\": true, \"textposition\": \"auto\", \"x\": [0, 1, 2, 3, 4, 5, 6, 7, 8, 9, 10, 11, 12, 13, 14, 15, 16, 17, 18, 19, 20, 21, 22, 23], \"xaxis\": \"x2\", \"y\": [9.73181818181818, 6.219600000000002, 11.376, 5.855, 6.65875, 16.922307692307697, 29.658118811881188, 64.55537698412698, 72.66171764705881, 75.24890025575448, 82.43951008645534, 103.25052924791088, 102.24617721518987, 93.13381909547738, 92.1629916897507, 74.73814323607427, 79.41941828254849, 92.93457070707069, 87.20654462242564, 68.78420323325635, 50.439262086514, 32.57666666666667, 23.20926174496644, 17.86888888888889], \"yaxis\": \"y2\", \"type\": \"bar\"}], \"name\": \"B1\"}]);\n",
       "                        }).then(function(){\n",
       "                            \n",
       "var gd = document.getElementById('60c118e9-6bac-4e3b-b31e-74c01d908d02');\n",
       "var x = new MutationObserver(function (mutations, observer) {{\n",
       "        var display = window.getComputedStyle(gd).display;\n",
       "        if (!display || display === 'none') {{\n",
       "            console.log([gd, 'removed!']);\n",
       "            Plotly.purge(gd);\n",
       "            observer.disconnect();\n",
       "        }}\n",
       "}});\n",
       "\n",
       "// Listen for the removal of the full notebook cells\n",
       "var notebookContainer = gd.closest('#notebook-container');\n",
       "if (notebookContainer) {{\n",
       "    x.observe(notebookContainer, {childList: true});\n",
       "}}\n",
       "\n",
       "// Listen for the clearing of the current output cell\n",
       "var outputEl = gd.closest('.output');\n",
       "if (outputEl) {{\n",
       "    x.observe(outputEl, {childList: true});\n",
       "}}\n",
       "\n",
       "                        })\n",
       "                };\n",
       "                });\n",
       "            </script>\n",
       "        </div>"
      ]
     },
     "metadata": {},
     "output_type": "display_data"
    }
   ],
   "source": [
    "df_s_weekday.floor.unique()\n",
    "fig = px.bar(data_frame=df_s_weekday, \n",
    "             x = \"hour\", y = \"avgWait_weekday\",\n",
    "             facet_col=\"direction\",color=\"direction\",\n",
    "             animation_frame=\"floor\",\n",
    "             labels={\"count\":\"avgWait_weekday\",\n",
    "                     \"hour\":\"Local Time (GMT+8)\"})\n",
    "# X axis\n",
    "fig.update_xaxes(nticks=len(floor_name),\n",
    "                 type=\"category\",\n",
    "                 categoryarray=[0,24])\n",
    "\n",
    "# Y axis\n",
    "fig.update_yaxes(range=[0, 300])\n",
    "\n",
    "# Layout\n",
    "fig.update_layout(title_text='Average waiting time of Elevator Calls by Time')\n",
    "\n",
    "fig.show()"
   ]
  },
  {
   "cell_type": "code",
   "execution_count": 18,
   "metadata": {},
   "outputs": [
    {
     "data": {
      "application/vnd.plotly.v1+json": {
       "config": {
        "plotlyServerURL": "https://plot.ly"
       },
       "data": [
        {
         "alignmentgroup": "True",
         "hovertemplate": "direction=down<br>floor=1<br>Local Time (GMT+8)=%{x}<br>avgWait_weekend=%{y}<extra></extra>",
         "legendgroup": "down",
         "marker": {
          "color": "#636efa"
         },
         "name": "down",
         "offsetgroup": "down",
         "orientation": "v",
         "showlegend": true,
         "textposition": "auto",
         "type": "bar",
         "x": [
          0,
          1,
          2,
          3,
          4,
          5,
          6,
          7,
          8,
          9,
          10,
          11,
          12,
          13,
          14,
          15,
          16,
          17,
          18,
          19,
          20,
          21,
          22,
          23
         ],
         "xaxis": "x",
         "y": [
          8.504999999999999,
          2.1925,
          10.803333333333333,
          3.433333333333333,
          6.408,
          14.952857142857145,
          31.16500000000001,
          66.7595,
          63.398684210526326,
          35.088,
          63.98265306122449,
          52.87042553191489,
          39.85593220338985,
          49.87125,
          41.893333333333345,
          54.76884615384616,
          77.25,
          70.1246875,
          74.42454545454545,
          44.913703703703696,
          43.70857142857143,
          16.97153846153846,
          38.5009090909091,
          14.165555555555557
         ],
         "yaxis": "y"
        },
        {
         "alignmentgroup": "True",
         "hovertemplate": "direction=up<br>floor=1<br>Local Time (GMT+8)=%{x}<br>avgWait_weekend=%{y}<extra></extra>",
         "legendgroup": "up",
         "marker": {
          "color": "#EF553B"
         },
         "name": "up",
         "offsetgroup": "up",
         "orientation": "v",
         "showlegend": true,
         "textposition": "auto",
         "type": "bar",
         "x": [
          0,
          1,
          2,
          3,
          4,
          5,
          6,
          7,
          8,
          9,
          10,
          11,
          12,
          13,
          14,
          15,
          16,
          17,
          18,
          19,
          20,
          21,
          22,
          23
         ],
         "xaxis": "x2",
         "y": [
          9.260576923076922,
          6.564871794871794,
          6.360888888888888,
          8.64102564102564,
          10.06125,
          10.305774647887324,
          22.1937890625,
          24.95310638297872,
          29.847853658536586,
          31.846604651162792,
          33.074473684210524,
          23.208023952095807,
          23.462529411764702,
          26.526237113402058,
          28.255215311004786,
          31.4622009569378,
          34.54395,
          24.3325,
          27.131676646706588,
          31.274386792452827,
          33.26905172413793,
          26.409285714285716,
          16.618206106870232,
          13.922369668246446
         ],
         "yaxis": "y2"
        }
       ],
       "frames": [
        {
         "data": [
          {
           "alignmentgroup": "True",
           "hovertemplate": "direction=down<br>floor=1<br>Local Time (GMT+8)=%{x}<br>avgWait_weekend=%{y}<extra></extra>",
           "legendgroup": "down",
           "marker": {
            "color": "#636efa"
           },
           "name": "down",
           "offsetgroup": "down",
           "orientation": "v",
           "showlegend": true,
           "textposition": "auto",
           "type": "bar",
           "x": [
            0,
            1,
            2,
            3,
            4,
            5,
            6,
            7,
            8,
            9,
            10,
            11,
            12,
            13,
            14,
            15,
            16,
            17,
            18,
            19,
            20,
            21,
            22,
            23
           ],
           "xaxis": "x",
           "y": [
            8.504999999999999,
            2.1925,
            10.803333333333333,
            3.433333333333333,
            6.408,
            14.952857142857145,
            31.16500000000001,
            66.7595,
            63.398684210526326,
            35.088,
            63.98265306122449,
            52.87042553191489,
            39.85593220338985,
            49.87125,
            41.893333333333345,
            54.76884615384616,
            77.25,
            70.1246875,
            74.42454545454545,
            44.913703703703696,
            43.70857142857143,
            16.97153846153846,
            38.5009090909091,
            14.165555555555557
           ],
           "yaxis": "y"
          },
          {
           "alignmentgroup": "True",
           "hovertemplate": "direction=up<br>floor=1<br>Local Time (GMT+8)=%{x}<br>avgWait_weekend=%{y}<extra></extra>",
           "legendgroup": "up",
           "marker": {
            "color": "#EF553B"
           },
           "name": "up",
           "offsetgroup": "up",
           "orientation": "v",
           "showlegend": true,
           "textposition": "auto",
           "type": "bar",
           "x": [
            0,
            1,
            2,
            3,
            4,
            5,
            6,
            7,
            8,
            9,
            10,
            11,
            12,
            13,
            14,
            15,
            16,
            17,
            18,
            19,
            20,
            21,
            22,
            23
           ],
           "xaxis": "x2",
           "y": [
            9.260576923076922,
            6.564871794871794,
            6.360888888888888,
            8.64102564102564,
            10.06125,
            10.305774647887324,
            22.1937890625,
            24.95310638297872,
            29.847853658536586,
            31.846604651162792,
            33.074473684210524,
            23.208023952095807,
            23.462529411764702,
            26.526237113402058,
            28.255215311004786,
            31.4622009569378,
            34.54395,
            24.3325,
            27.131676646706588,
            31.274386792452827,
            33.26905172413793,
            26.409285714285716,
            16.618206106870232,
            13.922369668246446
           ],
           "yaxis": "y2"
          }
         ],
         "name": "1"
        },
        {
         "data": [
          {
           "alignmentgroup": "True",
           "hovertemplate": "direction=down<br>floor=2<br>Local Time (GMT+8)=%{x}<br>avgWait_weekend=%{y}<extra></extra>",
           "legendgroup": "down",
           "marker": {
            "color": "#636efa"
           },
           "name": "down",
           "offsetgroup": "down",
           "orientation": "v",
           "showlegend": true,
           "textposition": "auto",
           "type": "bar",
           "x": [
            2,
            4,
            5,
            6,
            7,
            8,
            9,
            10,
            11,
            12,
            13,
            14,
            15,
            16,
            17,
            18,
            19,
            20,
            21,
            23
           ],
           "xaxis": "x",
           "y": [
            16.18,
            24.78,
            16.54,
            10.89,
            32.88333333333333,
            70.77375,
            52.88777777777778,
            61.04545454545455,
            42.97103448275864,
            54.58947368421053,
            36.065714285714286,
            51.07086956521738,
            66.3,
            38.871,
            39.13,
            93.49666666666668,
            3.77,
            50.795,
            69.36,
            24.04
           ],
           "yaxis": "y"
          },
          {
           "alignmentgroup": "True",
           "hovertemplate": "direction=up<br>floor=2<br>Local Time (GMT+8)=%{x}<br>avgWait_weekend=%{y}<extra></extra>",
           "legendgroup": "up",
           "marker": {
            "color": "#EF553B"
           },
           "name": "up",
           "offsetgroup": "up",
           "orientation": "v",
           "showlegend": true,
           "textposition": "auto",
           "type": "bar",
           "x": [
            4,
            7,
            8,
            9,
            10,
            11,
            12,
            13,
            14,
            15,
            16,
            17,
            18,
            19,
            20,
            21,
            22
           ],
           "xaxis": "x2",
           "y": [
            5.44,
            15.988,
            11.962592592592593,
            9.220833333333333,
            13.018157894736841,
            9.4212,
            12.41625,
            13.91777777777778,
            14.4525,
            14.005217391304347,
            10.885806451612904,
            16.980833333333333,
            15.946666666666667,
            19.108,
            21.435,
            6.565,
            27.21
           ],
           "yaxis": "y2"
          }
         ],
         "name": "2"
        },
        {
         "data": [
          {
           "alignmentgroup": "True",
           "hovertemplate": "direction=down<br>floor=4<br>Local Time (GMT+8)=%{x}<br>avgWait_weekend=%{y}<extra></extra>",
           "legendgroup": "down",
           "marker": {
            "color": "#636efa"
           },
           "name": "down",
           "offsetgroup": "down",
           "orientation": "v",
           "showlegend": true,
           "textposition": "auto",
           "type": "bar",
           "x": [
            0,
            1,
            2,
            3,
            4,
            5,
            6,
            7,
            8,
            9,
            10,
            11,
            12,
            13,
            14,
            15,
            16,
            17,
            18,
            19,
            20,
            21,
            22,
            23
           ],
           "xaxis": "x",
           "y": [
            24.701818181818187,
            27.90888888888889,
            38.12000000000001,
            24.855,
            18.648333333333333,
            25.975,
            67.745,
            106.0942857142857,
            101.54022222222223,
            71.82518518518519,
            98.18947368421051,
            81.154776119403,
            87.7298795180723,
            84.29984126984127,
            72.17915254237288,
            86.55408450704228,
            74.68581395348836,
            92.03915254237288,
            102.42911764705885,
            78.38432432432433,
            70.00493506493507,
            52.10290322580646,
            34.950588235294106,
            17.128
           ],
           "yaxis": "y"
          },
          {
           "alignmentgroup": "True",
           "hovertemplate": "direction=up<br>floor=4<br>Local Time (GMT+8)=%{x}<br>avgWait_weekend=%{y}<extra></extra>",
           "legendgroup": "up",
           "marker": {
            "color": "#EF553B"
           },
           "name": "up",
           "offsetgroup": "up",
           "orientation": "v",
           "showlegend": true,
           "textposition": "auto",
           "type": "bar",
           "x": [
            0,
            1,
            2,
            4,
            5,
            6,
            7,
            8,
            9,
            10,
            11,
            12,
            13,
            14,
            15,
            16,
            17,
            18,
            19,
            20,
            21,
            22,
            23
           ],
           "xaxis": "x2",
           "y": [
            18.59,
            22.845,
            13.36,
            28.7,
            15.43,
            13.475,
            14.74206896551724,
            15.093953488372092,
            11.806818181818182,
            16.014999999999993,
            12.651290322580644,
            12.41641509433962,
            15.388181818181815,
            14.24782608695652,
            14.546140350877195,
            14.399534883720932,
            12.55945945945946,
            14.713703703703704,
            16.69086956521739,
            13.69909090909091,
            19.5,
            20.632,
            21.3775
           ],
           "yaxis": "y2"
          }
         ],
         "name": "4"
        },
        {
         "data": [
          {
           "alignmentgroup": "True",
           "hovertemplate": "direction=down<br>floor=8<br>Local Time (GMT+8)=%{x}<br>avgWait_weekend=%{y}<extra></extra>",
           "legendgroup": "down",
           "marker": {
            "color": "#636efa"
           },
           "name": "down",
           "offsetgroup": "down",
           "orientation": "v",
           "showlegend": true,
           "textposition": "auto",
           "type": "bar",
           "x": [
            0,
            1,
            2,
            3,
            4,
            5,
            6,
            7,
            8,
            9,
            10,
            11,
            12,
            13,
            14,
            15,
            16,
            17,
            18,
            19,
            20,
            21,
            22,
            23
           ],
           "xaxis": "x",
           "y": [
            21.319090909090907,
            25.00642857142857,
            15.616666666666665,
            24.29375,
            15.355,
            20.775,
            21.783428571428576,
            21.132266666666666,
            17.310925925925925,
            16.29018018018018,
            14.138125,
            15.798878504672894,
            13.083305084745762,
            14.726145833333335,
            16.919999999999998,
            19.005673076923078,
            14.163362068965515,
            12.294471544715448,
            16.349519230769232,
            17.436559139784947,
            20.19114942528736,
            18.01662337662337,
            19.262222222222224,
            17.608235294117648
           ],
           "yaxis": "y"
          },
          {
           "alignmentgroup": "True",
           "hovertemplate": "direction=up<br>floor=8<br>Local Time (GMT+8)=%{x}<br>avgWait_weekend=%{y}<extra></extra>",
           "legendgroup": "up",
           "marker": {
            "color": "#EF553B"
           },
           "name": "up",
           "offsetgroup": "up",
           "orientation": "v",
           "showlegend": true,
           "textposition": "auto",
           "type": "bar",
           "x": [
            0,
            1,
            5,
            6,
            7,
            8,
            9,
            10,
            11,
            12,
            13,
            14,
            15,
            16,
            17,
            18,
            19,
            20,
            21,
            22,
            23
           ],
           "xaxis": "x2",
           "y": [
            22.745,
            11.876666666666667,
            12.73,
            23.955,
            65.79821428571428,
            74.29617647058822,
            84.4506818181818,
            74.58154929577466,
            86.45122807017543,
            96.11137254901962,
            79.60950819672132,
            90.32314814814815,
            78.52345454545456,
            72.33791666666667,
            80.46227272727273,
            61.01390243902439,
            93.24894736842106,
            39.15933333333333,
            52.20857142857143,
            32.085454545454546,
            28.902
           ],
           "yaxis": "y2"
          }
         ],
         "name": "8"
        },
        {
         "data": [
          {
           "alignmentgroup": "True",
           "hovertemplate": "direction=down<br>floor=9<br>Local Time (GMT+8)=%{x}<br>avgWait_weekend=%{y}<extra></extra>",
           "legendgroup": "down",
           "marker": {
            "color": "#636efa"
           },
           "name": "down",
           "offsetgroup": "down",
           "orientation": "v",
           "showlegend": true,
           "textposition": "auto",
           "type": "bar",
           "x": [
            0,
            1,
            2,
            3,
            4,
            5,
            6,
            7,
            8,
            9,
            10,
            11,
            12,
            13,
            14,
            15,
            16,
            17,
            18,
            19,
            20,
            21,
            22,
            23
           ],
           "xaxis": "x",
           "y": [
            17.285,
            15.017647058823528,
            19.92058823529411,
            20.77833333333333,
            24.153846153846153,
            15.202142857142857,
            25.10967741935484,
            27.65943181818182,
            21.271374045801533,
            19.947615384615386,
            16.412661290322582,
            16.616985294117647,
            17.69914893617021,
            17.885748031496068,
            21.53362068965517,
            19.740625,
            16.326739130434785,
            15.614276315789473,
            19.776962962962962,
            21.83934959349593,
            21.623303571428565,
            22.992352941176478,
            17.194444444444443,
            17.403181818181814
           ],
           "yaxis": "y"
          },
          {
           "alignmentgroup": "True",
           "hovertemplate": "direction=up<br>floor=9<br>Local Time (GMT+8)=%{x}<br>avgWait_weekend=%{y}<extra></extra>",
           "legendgroup": "up",
           "marker": {
            "color": "#EF553B"
           },
           "name": "up",
           "offsetgroup": "up",
           "orientation": "v",
           "showlegend": true,
           "textposition": "auto",
           "type": "bar",
           "x": [
            5,
            6,
            7,
            8,
            9,
            10,
            11,
            12,
            13,
            14,
            15,
            16,
            17,
            18,
            19,
            20,
            21,
            22,
            23
           ],
           "xaxis": "x2",
           "y": [
            26.97,
            21.805999999999997,
            65.65166666666667,
            54.9005,
            72.4223076923077,
            25.05789473684211,
            42.05,
            72.3725,
            70.78777777777776,
            18.42130434782609,
            65.46300000000001,
            46.0555,
            47.28000000000001,
            41.06384615384616,
            45.684,
            31.78,
            57.53333333333333,
            14.8325,
            24.325
           ],
           "yaxis": "y2"
          }
         ],
         "name": "9"
        },
        {
         "data": [
          {
           "alignmentgroup": "True",
           "hovertemplate": "direction=down<br>floor=10<br>Local Time (GMT+8)=%{x}<br>avgWait_weekend=%{y}<extra></extra>",
           "legendgroup": "down",
           "marker": {
            "color": "#636efa"
           },
           "name": "down",
           "offsetgroup": "down",
           "orientation": "v",
           "showlegend": true,
           "textposition": "auto",
           "type": "bar",
           "x": [
            0,
            1,
            2,
            5,
            7,
            8,
            9,
            10,
            11,
            12,
            13,
            14,
            15,
            16,
            17,
            18,
            19,
            20,
            21,
            22,
            23
           ],
           "xaxis": "x",
           "y": [
            19.735,
            21.53,
            0.25,
            0.76,
            9.86285714285714,
            18.41,
            12.92128205128205,
            16.84923076923077,
            16.98,
            15.293863636363636,
            23.782352941176466,
            14.346428571428572,
            12.375945945945945,
            13.437222222222225,
            12.51625,
            17.462162162162162,
            9.719333333333333,
            20.73,
            14.878333333333336,
            27.253529411764703,
            10
           ],
           "yaxis": "y"
          },
          {
           "alignmentgroup": "True",
           "hovertemplate": "direction=up<br>floor=10<br>Local Time (GMT+8)=%{x}<br>avgWait_weekend=%{y}<extra></extra>",
           "legendgroup": "up",
           "marker": {
            "color": "#EF553B"
           },
           "name": "up",
           "offsetgroup": "up",
           "orientation": "v",
           "showlegend": true,
           "textposition": "auto",
           "type": "bar",
           "x": [
            5,
            6,
            7,
            8,
            9,
            10,
            11,
            12,
            13,
            14,
            15,
            16,
            17,
            18,
            19,
            22
           ],
           "xaxis": "x2",
           "y": [
            1.56,
            13.83,
            46.15,
            64.35548387096775,
            42.214666666666666,
            40.78333333333333,
            48.473103448275864,
            62.662222222222226,
            41.0540909090909,
            46.65000000000001,
            60.74058823529411,
            36.57655172413793,
            57.31866666666667,
            28.7,
            28.09,
            23.02
           ],
           "yaxis": "y2"
          }
         ],
         "name": "10"
        },
        {
         "data": [
          {
           "alignmentgroup": "True",
           "hovertemplate": "direction=down<br>floor=11<br>Local Time (GMT+8)=%{x}<br>avgWait_weekend=%{y}<extra></extra>",
           "legendgroup": "down",
           "marker": {
            "color": "#636efa"
           },
           "name": "down",
           "offsetgroup": "down",
           "orientation": "v",
           "showlegend": true,
           "textposition": "auto",
           "type": "bar",
           "x": [
            0,
            1,
            2,
            3,
            4,
            5,
            6,
            7,
            8,
            9,
            10,
            11,
            12,
            13,
            14,
            15,
            16,
            17,
            18,
            19,
            20,
            21,
            22,
            23
           ],
           "xaxis": "x",
           "y": [
            22.485294117647058,
            13.908,
            18.071,
            9.98923076923077,
            16.836666666666666,
            20.439285714285713,
            28.71163636363636,
            29.092650602409638,
            26.53716814159292,
            22.655535714285715,
            28.556608695652177,
            27.827841726618704,
            31.026269841269848,
            28.926984126984127,
            28.294285714285717,
            30.85065040650407,
            24.86887323943662,
            21.671298701298703,
            26.794741379310345,
            32.53323809523809,
            27.219702970297032,
            28.062771084337353,
            31.074324324324326,
            23.658235294117645
           ],
           "yaxis": "y"
          },
          {
           "alignmentgroup": "True",
           "hovertemplate": "direction=up<br>floor=11<br>Local Time (GMT+8)=%{x}<br>avgWait_weekend=%{y}<extra></extra>",
           "legendgroup": "up",
           "marker": {
            "color": "#EF553B"
           },
           "name": "up",
           "offsetgroup": "up",
           "orientation": "v",
           "showlegend": true,
           "textposition": "auto",
           "type": "bar",
           "x": [
            5,
            6,
            7,
            8,
            9,
            10,
            11,
            12,
            13,
            14,
            15,
            16,
            17,
            18,
            19,
            20,
            21,
            22
           ],
           "xaxis": "x2",
           "y": [
            17.45,
            52.19333333333333,
            56.1925,
            35.735,
            15.842,
            39.9775,
            45.105,
            25.21272727272727,
            20.731250000000006,
            45.134827586206896,
            23.652142857142852,
            30.92875,
            66.02888888888889,
            39.13428571428572,
            87.4325,
            71.77,
            69.82,
            23.95
           ],
           "yaxis": "y2"
          }
         ],
         "name": "11"
        },
        {
         "data": [
          {
           "alignmentgroup": "True",
           "hovertemplate": "direction=down<br>floor=12<br>Local Time (GMT+8)=%{x}<br>avgWait_weekend=%{y}<extra></extra>",
           "legendgroup": "down",
           "marker": {
            "color": "#636efa"
           },
           "name": "down",
           "offsetgroup": "down",
           "orientation": "v",
           "showlegend": true,
           "textposition": "auto",
           "type": "bar",
           "x": [
            0,
            1,
            2,
            3,
            4,
            5,
            6,
            7,
            8,
            9,
            10,
            11,
            12,
            13,
            14,
            15,
            16,
            17,
            18,
            19,
            20,
            21,
            22,
            23
           ],
           "xaxis": "x",
           "y": [
            19.459696969696967,
            18.031923076923075,
            16.846153846153847,
            12.2175,
            22.05857142857143,
            22.68409090909091,
            34.2963768115942,
            49.17707070707071,
            36.30753968253968,
            41.2234328358209,
            49.823150684931505,
            48.02463768115942,
            61.783,
            48.561034482758615,
            42.709920000000004,
            45.95452380952381,
            45.15303703703704,
            48.4581560283688,
            46.74878048780488,
            40.461083333333335,
            39.2025925925926,
            31.221960784313726,
            25.759259259259263,
            22.6522641509434
           ],
           "yaxis": "y"
          },
          {
           "alignmentgroup": "True",
           "hovertemplate": "direction=up<br>floor=12<br>Local Time (GMT+8)=%{x}<br>avgWait_weekend=%{y}<extra></extra>",
           "legendgroup": "up",
           "marker": {
            "color": "#EF553B"
           },
           "name": "up",
           "offsetgroup": "up",
           "orientation": "v",
           "showlegend": true,
           "textposition": "auto",
           "type": "bar",
           "x": [
            0,
            6,
            7,
            8,
            9,
            10,
            11,
            12,
            13,
            14,
            15,
            16,
            17,
            18,
            19,
            20,
            21,
            22,
            23
           ],
           "xaxis": "x2",
           "y": [
            22.070000000000004,
            47.12333333333334,
            66.27666666666667,
            17.588,
            34.73571428571429,
            49.25363636363636,
            24.239285714285717,
            52.071538461538466,
            27.008333333333336,
            29.862857142857145,
            47.3675,
            23.579,
            43.832,
            38.88333333333333,
            43.03714285714285,
            48.175,
            36.145,
            15.114285714285714,
            15.8
           ],
           "yaxis": "y2"
          }
         ],
         "name": "12"
        },
        {
         "data": [
          {
           "alignmentgroup": "True",
           "hovertemplate": "direction=down<br>floor=13<br>Local Time (GMT+8)=%{x}<br>avgWait_weekend=%{y}<extra></extra>",
           "legendgroup": "down",
           "marker": {
            "color": "#636efa"
           },
           "name": "down",
           "offsetgroup": "down",
           "orientation": "v",
           "showlegend": true,
           "textposition": "auto",
           "type": "bar",
           "x": [
            0,
            1,
            2,
            3,
            4,
            5,
            6,
            7,
            8,
            9,
            10,
            11,
            12,
            13,
            14,
            15,
            16,
            17,
            18,
            19,
            20,
            21,
            22,
            23
           ],
           "xaxis": "x",
           "y": [
            19.858611111111113,
            22.6655,
            17.288,
            23.188000000000002,
            17.125,
            19.58153846153846,
            23.085416666666664,
            41.20500000000001,
            33.359918699187006,
            27.193898305084748,
            27.85709401709401,
            23.567235772357726,
            18.44032,
            27.42588235294118,
            29.38411290322581,
            30.714444444444453,
            25.090461538461536,
            22.07033783783784,
            24.434094488188983,
            31.05336206896552,
            28.447884615384613,
            31.789259259259254,
            22.853103448275863,
            24.859705882352944
           ],
           "yaxis": "y"
          },
          {
           "alignmentgroup": "True",
           "hovertemplate": "direction=up<br>floor=13<br>Local Time (GMT+8)=%{x}<br>avgWait_weekend=%{y}<extra></extra>",
           "legendgroup": "up",
           "marker": {
            "color": "#EF553B"
           },
           "name": "up",
           "offsetgroup": "up",
           "orientation": "v",
           "showlegend": true,
           "textposition": "auto",
           "type": "bar",
           "x": [
            5,
            6,
            7,
            8,
            9,
            10,
            11,
            12,
            13,
            14,
            15,
            16,
            17,
            18,
            19,
            20,
            21,
            22
           ],
           "xaxis": "x2",
           "y": [
            25.805,
            14.383333333333333,
            69.36800000000001,
            63.83900000000001,
            79.16333333333334,
            96.64,
            75.35249999999998,
            92.11833333333334,
            101.624,
            101.429,
            97.69285714285715,
            96.512,
            106.56625,
            146.12,
            6.8,
            44.6775,
            39.972,
            14.16
           ],
           "yaxis": "y2"
          }
         ],
         "name": "13"
        },
        {
         "data": [
          {
           "alignmentgroup": "True",
           "hovertemplate": "direction=down<br>floor=14<br>Local Time (GMT+8)=%{x}<br>avgWait_weekend=%{y}<extra></extra>",
           "legendgroup": "down",
           "marker": {
            "color": "#636efa"
           },
           "name": "down",
           "offsetgroup": "down",
           "orientation": "v",
           "showlegend": true,
           "textposition": "auto",
           "type": "bar",
           "x": [
            0,
            1,
            2,
            3,
            4,
            5,
            6,
            7,
            8,
            9,
            10,
            11,
            12,
            13,
            14,
            15,
            16,
            17,
            18,
            19,
            20,
            21,
            22,
            23
           ],
           "xaxis": "x",
           "y": [
            16.496363636363636,
            26.396666666666665,
            21.088888888888892,
            17.286666666666665,
            17.664285714285715,
            21.476428571428574,
            25.548840579710145,
            37.627692307692314,
            40.044363636363634,
            37.596160714285716,
            45.61757575757575,
            34.752265625,
            43.49305970149253,
            38.996885245901645,
            46.55663366336635,
            39.56390476190476,
            37.73826771653543,
            41.63385714285714,
            34.51381679389313,
            40.41266666666667,
            35.496021505376355,
            27.27714285714286,
            22.26304347826087,
            25.34447368421053
           ],
           "yaxis": "y"
          },
          {
           "alignmentgroup": "True",
           "hovertemplate": "direction=up<br>floor=14<br>Local Time (GMT+8)=%{x}<br>avgWait_weekend=%{y}<extra></extra>",
           "legendgroup": "up",
           "marker": {
            "color": "#EF553B"
           },
           "name": "up",
           "offsetgroup": "up",
           "orientation": "v",
           "showlegend": true,
           "textposition": "auto",
           "type": "bar",
           "x": [
            5,
            6,
            7,
            8,
            9,
            10,
            11,
            12,
            13,
            14,
            15,
            16,
            17,
            18,
            19,
            20,
            21
           ],
           "xaxis": "x2",
           "y": [
            23.975,
            27.034,
            50.19750000000001,
            80.485,
            58.3225,
            107.431,
            74.11777777777776,
            81.05866666666667,
            114.45100000000001,
            87.93230769230769,
            85.58,
            46.64333333333334,
            139.0575,
            96.48166666666668,
            77.86333333333333,
            67.64833333333334,
            79.08
           ],
           "yaxis": "y2"
          }
         ],
         "name": "14"
        },
        {
         "data": [
          {
           "alignmentgroup": "True",
           "hovertemplate": "direction=down<br>floor=15<br>Local Time (GMT+8)=%{x}<br>avgWait_weekend=%{y}<extra></extra>",
           "legendgroup": "down",
           "marker": {
            "color": "#636efa"
           },
           "name": "down",
           "offsetgroup": "down",
           "orientation": "v",
           "showlegend": true,
           "textposition": "auto",
           "type": "bar",
           "x": [
            0,
            1,
            2,
            3,
            4,
            5,
            6,
            7,
            8,
            9,
            10,
            11,
            12,
            13,
            14,
            15,
            16,
            17,
            18,
            19,
            20,
            21,
            22,
            23
           ],
           "xaxis": "x",
           "y": [
            28.746923076923075,
            22.92833333333333,
            29.84666666666667,
            9.34,
            27.0925,
            15.96583333333333,
            34.661944444444444,
            43.0436,
            54.660319148936175,
            55.669611650485436,
            62.24307692307693,
            66.1494262295082,
            68.02016666666667,
            58.71575757575758,
            57.564040404040405,
            58.11030303030303,
            57.41460317460318,
            64.59532258064516,
            52.55877358490565,
            49.22790697674419,
            41.942352941176466,
            37.17869565217392,
            29.853829787234048,
            20.2675
           ],
           "yaxis": "y"
          }
         ],
         "name": "15"
        },
        {
         "data": [
          {
           "alignmentgroup": "True",
           "hovertemplate": "direction=down<br>floor=B1<br>Local Time (GMT+8)=%{x}<br>avgWait_weekend=%{y}<extra></extra>",
           "legendgroup": "down",
           "marker": {
            "color": "#636efa"
           },
           "name": "down",
           "offsetgroup": "down",
           "orientation": "v",
           "showlegend": true,
           "textposition": "auto",
           "type": "bar",
           "x": [
            5,
            6,
            7,
            8,
            9,
            10,
            11,
            12,
            13,
            14,
            15,
            16,
            17,
            18,
            19,
            20,
            21,
            23
           ],
           "xaxis": "x",
           "y": [
            53.95,
            32.322,
            29.18875,
            43.03083333333333,
            65.86999999999999,
            96.042,
            33.138125,
            50.475,
            39.41583333333333,
            69.605,
            28.40285714285714,
            62.97333333333333,
            58.288999999999994,
            73.8275,
            54.246,
            52.25666666666667,
            36.37000000000001,
            21.71
           ],
           "yaxis": "y"
          },
          {
           "alignmentgroup": "True",
           "hovertemplate": "direction=up<br>floor=B1<br>Local Time (GMT+8)=%{x}<br>avgWait_weekend=%{y}<extra></extra>",
           "legendgroup": "up",
           "marker": {
            "color": "#EF553B"
           },
           "name": "up",
           "offsetgroup": "up",
           "orientation": "v",
           "showlegend": true,
           "textposition": "auto",
           "type": "bar",
           "x": [
            0,
            1,
            2,
            3,
            4,
            5,
            6,
            7,
            8,
            9,
            10,
            11,
            12,
            13,
            14,
            15,
            16,
            17,
            18,
            19,
            20,
            21,
            22,
            23
           ],
           "xaxis": "x2",
           "y": [
            15.760000000000002,
            4.3740000000000006,
            6.9620000000000015,
            10.1275,
            8.245,
            9.844666666666667,
            28.860238095238103,
            54.81061452513968,
            67.26494318181818,
            61.33326666666667,
            69.13268456375839,
            91.04565517241379,
            93.88804878048781,
            79.76855421686747,
            70.81630136986301,
            64.27181818181819,
            67.3472549019608,
            79.90323353293414,
            76.9034375,
            60.55710691823899,
            44.342761194029855,
            30.213835616438352,
            20.64934782608696,
            19.1364
           ],
           "yaxis": "y2"
          }
         ],
         "name": "B1"
        }
       ],
       "layout": {
        "annotations": [
         {
          "font": {},
          "showarrow": false,
          "text": "direction=down",
          "x": 0.245,
          "xanchor": "center",
          "xref": "paper",
          "y": 1,
          "yanchor": "bottom",
          "yref": "paper"
         },
         {
          "font": {},
          "showarrow": false,
          "text": "direction=up",
          "x": 0.755,
          "xanchor": "center",
          "xref": "paper",
          "y": 1,
          "yanchor": "bottom",
          "yref": "paper"
         }
        ],
        "barmode": "relative",
        "legend": {
         "title": {
          "text": "direction"
         },
         "tracegroupgap": 0
        },
        "margin": {
         "t": 60
        },
        "sliders": [
         {
          "active": 0,
          "currentvalue": {
           "prefix": "floor="
          },
          "len": 0.9,
          "pad": {
           "b": 10,
           "t": 60
          },
          "steps": [
           {
            "args": [
             [
              "1"
             ],
             {
              "frame": {
               "duration": 0,
               "redraw": true
              },
              "fromcurrent": true,
              "mode": "immediate",
              "transition": {
               "duration": 0,
               "easing": "linear"
              }
             }
            ],
            "label": "1",
            "method": "animate"
           },
           {
            "args": [
             [
              "2"
             ],
             {
              "frame": {
               "duration": 0,
               "redraw": true
              },
              "fromcurrent": true,
              "mode": "immediate",
              "transition": {
               "duration": 0,
               "easing": "linear"
              }
             }
            ],
            "label": "2",
            "method": "animate"
           },
           {
            "args": [
             [
              "4"
             ],
             {
              "frame": {
               "duration": 0,
               "redraw": true
              },
              "fromcurrent": true,
              "mode": "immediate",
              "transition": {
               "duration": 0,
               "easing": "linear"
              }
             }
            ],
            "label": "4",
            "method": "animate"
           },
           {
            "args": [
             [
              "8"
             ],
             {
              "frame": {
               "duration": 0,
               "redraw": true
              },
              "fromcurrent": true,
              "mode": "immediate",
              "transition": {
               "duration": 0,
               "easing": "linear"
              }
             }
            ],
            "label": "8",
            "method": "animate"
           },
           {
            "args": [
             [
              "9"
             ],
             {
              "frame": {
               "duration": 0,
               "redraw": true
              },
              "fromcurrent": true,
              "mode": "immediate",
              "transition": {
               "duration": 0,
               "easing": "linear"
              }
             }
            ],
            "label": "9",
            "method": "animate"
           },
           {
            "args": [
             [
              "10"
             ],
             {
              "frame": {
               "duration": 0,
               "redraw": true
              },
              "fromcurrent": true,
              "mode": "immediate",
              "transition": {
               "duration": 0,
               "easing": "linear"
              }
             }
            ],
            "label": "10",
            "method": "animate"
           },
           {
            "args": [
             [
              "11"
             ],
             {
              "frame": {
               "duration": 0,
               "redraw": true
              },
              "fromcurrent": true,
              "mode": "immediate",
              "transition": {
               "duration": 0,
               "easing": "linear"
              }
             }
            ],
            "label": "11",
            "method": "animate"
           },
           {
            "args": [
             [
              "12"
             ],
             {
              "frame": {
               "duration": 0,
               "redraw": true
              },
              "fromcurrent": true,
              "mode": "immediate",
              "transition": {
               "duration": 0,
               "easing": "linear"
              }
             }
            ],
            "label": "12",
            "method": "animate"
           },
           {
            "args": [
             [
              "13"
             ],
             {
              "frame": {
               "duration": 0,
               "redraw": true
              },
              "fromcurrent": true,
              "mode": "immediate",
              "transition": {
               "duration": 0,
               "easing": "linear"
              }
             }
            ],
            "label": "13",
            "method": "animate"
           },
           {
            "args": [
             [
              "14"
             ],
             {
              "frame": {
               "duration": 0,
               "redraw": true
              },
              "fromcurrent": true,
              "mode": "immediate",
              "transition": {
               "duration": 0,
               "easing": "linear"
              }
             }
            ],
            "label": "14",
            "method": "animate"
           },
           {
            "args": [
             [
              "15"
             ],
             {
              "frame": {
               "duration": 0,
               "redraw": true
              },
              "fromcurrent": true,
              "mode": "immediate",
              "transition": {
               "duration": 0,
               "easing": "linear"
              }
             }
            ],
            "label": "15",
            "method": "animate"
           },
           {
            "args": [
             [
              "B1"
             ],
             {
              "frame": {
               "duration": 0,
               "redraw": true
              },
              "fromcurrent": true,
              "mode": "immediate",
              "transition": {
               "duration": 0,
               "easing": "linear"
              }
             }
            ],
            "label": "B1",
            "method": "animate"
           }
          ],
          "x": 0.1,
          "xanchor": "left",
          "y": 0,
          "yanchor": "top"
         }
        ],
        "template": {
         "data": {
          "bar": [
           {
            "error_x": {
             "color": "#2a3f5f"
            },
            "error_y": {
             "color": "#2a3f5f"
            },
            "marker": {
             "line": {
              "color": "#E5ECF6",
              "width": 0.5
             }
            },
            "type": "bar"
           }
          ],
          "barpolar": [
           {
            "marker": {
             "line": {
              "color": "#E5ECF6",
              "width": 0.5
             }
            },
            "type": "barpolar"
           }
          ],
          "carpet": [
           {
            "aaxis": {
             "endlinecolor": "#2a3f5f",
             "gridcolor": "white",
             "linecolor": "white",
             "minorgridcolor": "white",
             "startlinecolor": "#2a3f5f"
            },
            "baxis": {
             "endlinecolor": "#2a3f5f",
             "gridcolor": "white",
             "linecolor": "white",
             "minorgridcolor": "white",
             "startlinecolor": "#2a3f5f"
            },
            "type": "carpet"
           }
          ],
          "choropleth": [
           {
            "colorbar": {
             "outlinewidth": 0,
             "ticks": ""
            },
            "type": "choropleth"
           }
          ],
          "contour": [
           {
            "colorbar": {
             "outlinewidth": 0,
             "ticks": ""
            },
            "colorscale": [
             [
              0,
              "#0d0887"
             ],
             [
              0.1111111111111111,
              "#46039f"
             ],
             [
              0.2222222222222222,
              "#7201a8"
             ],
             [
              0.3333333333333333,
              "#9c179e"
             ],
             [
              0.4444444444444444,
              "#bd3786"
             ],
             [
              0.5555555555555556,
              "#d8576b"
             ],
             [
              0.6666666666666666,
              "#ed7953"
             ],
             [
              0.7777777777777778,
              "#fb9f3a"
             ],
             [
              0.8888888888888888,
              "#fdca26"
             ],
             [
              1,
              "#f0f921"
             ]
            ],
            "type": "contour"
           }
          ],
          "contourcarpet": [
           {
            "colorbar": {
             "outlinewidth": 0,
             "ticks": ""
            },
            "type": "contourcarpet"
           }
          ],
          "heatmap": [
           {
            "colorbar": {
             "outlinewidth": 0,
             "ticks": ""
            },
            "colorscale": [
             [
              0,
              "#0d0887"
             ],
             [
              0.1111111111111111,
              "#46039f"
             ],
             [
              0.2222222222222222,
              "#7201a8"
             ],
             [
              0.3333333333333333,
              "#9c179e"
             ],
             [
              0.4444444444444444,
              "#bd3786"
             ],
             [
              0.5555555555555556,
              "#d8576b"
             ],
             [
              0.6666666666666666,
              "#ed7953"
             ],
             [
              0.7777777777777778,
              "#fb9f3a"
             ],
             [
              0.8888888888888888,
              "#fdca26"
             ],
             [
              1,
              "#f0f921"
             ]
            ],
            "type": "heatmap"
           }
          ],
          "heatmapgl": [
           {
            "colorbar": {
             "outlinewidth": 0,
             "ticks": ""
            },
            "colorscale": [
             [
              0,
              "#0d0887"
             ],
             [
              0.1111111111111111,
              "#46039f"
             ],
             [
              0.2222222222222222,
              "#7201a8"
             ],
             [
              0.3333333333333333,
              "#9c179e"
             ],
             [
              0.4444444444444444,
              "#bd3786"
             ],
             [
              0.5555555555555556,
              "#d8576b"
             ],
             [
              0.6666666666666666,
              "#ed7953"
             ],
             [
              0.7777777777777778,
              "#fb9f3a"
             ],
             [
              0.8888888888888888,
              "#fdca26"
             ],
             [
              1,
              "#f0f921"
             ]
            ],
            "type": "heatmapgl"
           }
          ],
          "histogram": [
           {
            "marker": {
             "colorbar": {
              "outlinewidth": 0,
              "ticks": ""
             }
            },
            "type": "histogram"
           }
          ],
          "histogram2d": [
           {
            "colorbar": {
             "outlinewidth": 0,
             "ticks": ""
            },
            "colorscale": [
             [
              0,
              "#0d0887"
             ],
             [
              0.1111111111111111,
              "#46039f"
             ],
             [
              0.2222222222222222,
              "#7201a8"
             ],
             [
              0.3333333333333333,
              "#9c179e"
             ],
             [
              0.4444444444444444,
              "#bd3786"
             ],
             [
              0.5555555555555556,
              "#d8576b"
             ],
             [
              0.6666666666666666,
              "#ed7953"
             ],
             [
              0.7777777777777778,
              "#fb9f3a"
             ],
             [
              0.8888888888888888,
              "#fdca26"
             ],
             [
              1,
              "#f0f921"
             ]
            ],
            "type": "histogram2d"
           }
          ],
          "histogram2dcontour": [
           {
            "colorbar": {
             "outlinewidth": 0,
             "ticks": ""
            },
            "colorscale": [
             [
              0,
              "#0d0887"
             ],
             [
              0.1111111111111111,
              "#46039f"
             ],
             [
              0.2222222222222222,
              "#7201a8"
             ],
             [
              0.3333333333333333,
              "#9c179e"
             ],
             [
              0.4444444444444444,
              "#bd3786"
             ],
             [
              0.5555555555555556,
              "#d8576b"
             ],
             [
              0.6666666666666666,
              "#ed7953"
             ],
             [
              0.7777777777777778,
              "#fb9f3a"
             ],
             [
              0.8888888888888888,
              "#fdca26"
             ],
             [
              1,
              "#f0f921"
             ]
            ],
            "type": "histogram2dcontour"
           }
          ],
          "mesh3d": [
           {
            "colorbar": {
             "outlinewidth": 0,
             "ticks": ""
            },
            "type": "mesh3d"
           }
          ],
          "parcoords": [
           {
            "line": {
             "colorbar": {
              "outlinewidth": 0,
              "ticks": ""
             }
            },
            "type": "parcoords"
           }
          ],
          "pie": [
           {
            "automargin": true,
            "type": "pie"
           }
          ],
          "scatter": [
           {
            "marker": {
             "colorbar": {
              "outlinewidth": 0,
              "ticks": ""
             }
            },
            "type": "scatter"
           }
          ],
          "scatter3d": [
           {
            "line": {
             "colorbar": {
              "outlinewidth": 0,
              "ticks": ""
             }
            },
            "marker": {
             "colorbar": {
              "outlinewidth": 0,
              "ticks": ""
             }
            },
            "type": "scatter3d"
           }
          ],
          "scattercarpet": [
           {
            "marker": {
             "colorbar": {
              "outlinewidth": 0,
              "ticks": ""
             }
            },
            "type": "scattercarpet"
           }
          ],
          "scattergeo": [
           {
            "marker": {
             "colorbar": {
              "outlinewidth": 0,
              "ticks": ""
             }
            },
            "type": "scattergeo"
           }
          ],
          "scattergl": [
           {
            "marker": {
             "colorbar": {
              "outlinewidth": 0,
              "ticks": ""
             }
            },
            "type": "scattergl"
           }
          ],
          "scattermapbox": [
           {
            "marker": {
             "colorbar": {
              "outlinewidth": 0,
              "ticks": ""
             }
            },
            "type": "scattermapbox"
           }
          ],
          "scatterpolar": [
           {
            "marker": {
             "colorbar": {
              "outlinewidth": 0,
              "ticks": ""
             }
            },
            "type": "scatterpolar"
           }
          ],
          "scatterpolargl": [
           {
            "marker": {
             "colorbar": {
              "outlinewidth": 0,
              "ticks": ""
             }
            },
            "type": "scatterpolargl"
           }
          ],
          "scatterternary": [
           {
            "marker": {
             "colorbar": {
              "outlinewidth": 0,
              "ticks": ""
             }
            },
            "type": "scatterternary"
           }
          ],
          "surface": [
           {
            "colorbar": {
             "outlinewidth": 0,
             "ticks": ""
            },
            "colorscale": [
             [
              0,
              "#0d0887"
             ],
             [
              0.1111111111111111,
              "#46039f"
             ],
             [
              0.2222222222222222,
              "#7201a8"
             ],
             [
              0.3333333333333333,
              "#9c179e"
             ],
             [
              0.4444444444444444,
              "#bd3786"
             ],
             [
              0.5555555555555556,
              "#d8576b"
             ],
             [
              0.6666666666666666,
              "#ed7953"
             ],
             [
              0.7777777777777778,
              "#fb9f3a"
             ],
             [
              0.8888888888888888,
              "#fdca26"
             ],
             [
              1,
              "#f0f921"
             ]
            ],
            "type": "surface"
           }
          ],
          "table": [
           {
            "cells": {
             "fill": {
              "color": "#EBF0F8"
             },
             "line": {
              "color": "white"
             }
            },
            "header": {
             "fill": {
              "color": "#C8D4E3"
             },
             "line": {
              "color": "white"
             }
            },
            "type": "table"
           }
          ]
         },
         "layout": {
          "annotationdefaults": {
           "arrowcolor": "#2a3f5f",
           "arrowhead": 0,
           "arrowwidth": 1
          },
          "coloraxis": {
           "colorbar": {
            "outlinewidth": 0,
            "ticks": ""
           }
          },
          "colorscale": {
           "diverging": [
            [
             0,
             "#8e0152"
            ],
            [
             0.1,
             "#c51b7d"
            ],
            [
             0.2,
             "#de77ae"
            ],
            [
             0.3,
             "#f1b6da"
            ],
            [
             0.4,
             "#fde0ef"
            ],
            [
             0.5,
             "#f7f7f7"
            ],
            [
             0.6,
             "#e6f5d0"
            ],
            [
             0.7,
             "#b8e186"
            ],
            [
             0.8,
             "#7fbc41"
            ],
            [
             0.9,
             "#4d9221"
            ],
            [
             1,
             "#276419"
            ]
           ],
           "sequential": [
            [
             0,
             "#0d0887"
            ],
            [
             0.1111111111111111,
             "#46039f"
            ],
            [
             0.2222222222222222,
             "#7201a8"
            ],
            [
             0.3333333333333333,
             "#9c179e"
            ],
            [
             0.4444444444444444,
             "#bd3786"
            ],
            [
             0.5555555555555556,
             "#d8576b"
            ],
            [
             0.6666666666666666,
             "#ed7953"
            ],
            [
             0.7777777777777778,
             "#fb9f3a"
            ],
            [
             0.8888888888888888,
             "#fdca26"
            ],
            [
             1,
             "#f0f921"
            ]
           ],
           "sequentialminus": [
            [
             0,
             "#0d0887"
            ],
            [
             0.1111111111111111,
             "#46039f"
            ],
            [
             0.2222222222222222,
             "#7201a8"
            ],
            [
             0.3333333333333333,
             "#9c179e"
            ],
            [
             0.4444444444444444,
             "#bd3786"
            ],
            [
             0.5555555555555556,
             "#d8576b"
            ],
            [
             0.6666666666666666,
             "#ed7953"
            ],
            [
             0.7777777777777778,
             "#fb9f3a"
            ],
            [
             0.8888888888888888,
             "#fdca26"
            ],
            [
             1,
             "#f0f921"
            ]
           ]
          },
          "colorway": [
           "#636efa",
           "#EF553B",
           "#00cc96",
           "#ab63fa",
           "#FFA15A",
           "#19d3f3",
           "#FF6692",
           "#B6E880",
           "#FF97FF",
           "#FECB52"
          ],
          "font": {
           "color": "#2a3f5f"
          },
          "geo": {
           "bgcolor": "white",
           "lakecolor": "white",
           "landcolor": "#E5ECF6",
           "showlakes": true,
           "showland": true,
           "subunitcolor": "white"
          },
          "hoverlabel": {
           "align": "left"
          },
          "hovermode": "closest",
          "mapbox": {
           "style": "light"
          },
          "paper_bgcolor": "white",
          "plot_bgcolor": "#E5ECF6",
          "polar": {
           "angularaxis": {
            "gridcolor": "white",
            "linecolor": "white",
            "ticks": ""
           },
           "bgcolor": "#E5ECF6",
           "radialaxis": {
            "gridcolor": "white",
            "linecolor": "white",
            "ticks": ""
           }
          },
          "scene": {
           "xaxis": {
            "backgroundcolor": "#E5ECF6",
            "gridcolor": "white",
            "gridwidth": 2,
            "linecolor": "white",
            "showbackground": true,
            "ticks": "",
            "zerolinecolor": "white"
           },
           "yaxis": {
            "backgroundcolor": "#E5ECF6",
            "gridcolor": "white",
            "gridwidth": 2,
            "linecolor": "white",
            "showbackground": true,
            "ticks": "",
            "zerolinecolor": "white"
           },
           "zaxis": {
            "backgroundcolor": "#E5ECF6",
            "gridcolor": "white",
            "gridwidth": 2,
            "linecolor": "white",
            "showbackground": true,
            "ticks": "",
            "zerolinecolor": "white"
           }
          },
          "shapedefaults": {
           "line": {
            "color": "#2a3f5f"
           }
          },
          "ternary": {
           "aaxis": {
            "gridcolor": "white",
            "linecolor": "white",
            "ticks": ""
           },
           "baxis": {
            "gridcolor": "white",
            "linecolor": "white",
            "ticks": ""
           },
           "bgcolor": "#E5ECF6",
           "caxis": {
            "gridcolor": "white",
            "linecolor": "white",
            "ticks": ""
           }
          },
          "title": {
           "x": 0.05
          },
          "xaxis": {
           "automargin": true,
           "gridcolor": "white",
           "linecolor": "white",
           "ticks": "",
           "title": {
            "standoff": 15
           },
           "zerolinecolor": "white",
           "zerolinewidth": 2
          },
          "yaxis": {
           "automargin": true,
           "gridcolor": "white",
           "linecolor": "white",
           "ticks": "",
           "title": {
            "standoff": 15
           },
           "zerolinecolor": "white",
           "zerolinewidth": 2
          }
         }
        },
        "title": {
         "text": "Average waiting time of Elevator Calls by Time"
        },
        "updatemenus": [
         {
          "buttons": [
           {
            "args": [
             null,
             {
              "frame": {
               "duration": 500,
               "redraw": true
              },
              "fromcurrent": true,
              "mode": "immediate",
              "transition": {
               "duration": 500,
               "easing": "linear"
              }
             }
            ],
            "label": "&#9654;",
            "method": "animate"
           },
           {
            "args": [
             [
              null
             ],
             {
              "frame": {
               "duration": 0,
               "redraw": true
              },
              "fromcurrent": true,
              "mode": "immediate",
              "transition": {
               "duration": 0,
               "easing": "linear"
              }
             }
            ],
            "label": "&#9724;",
            "method": "animate"
           }
          ],
          "direction": "left",
          "pad": {
           "r": 10,
           "t": 70
          },
          "showactive": false,
          "type": "buttons",
          "x": 0.1,
          "xanchor": "right",
          "y": 0,
          "yanchor": "top"
         }
        ],
        "xaxis": {
         "anchor": "y",
         "categoryarray": [
          0,
          24
         ],
         "domain": [
          0,
          0.49
         ],
         "nticks": 19,
         "title": {
          "text": "Local Time (GMT+8)"
         },
         "type": "category"
        },
        "xaxis2": {
         "anchor": "y2",
         "categoryarray": [
          0,
          24
         ],
         "domain": [
          0.51,
          1
         ],
         "matches": "x",
         "nticks": 19,
         "title": {
          "text": "Local Time (GMT+8)"
         },
         "type": "category"
        },
        "yaxis": {
         "anchor": "x",
         "domain": [
          0,
          1
         ],
         "range": [
          0,
          300
         ],
         "title": {
          "text": "avgWait_weekend"
         }
        },
        "yaxis2": {
         "anchor": "x2",
         "domain": [
          0,
          1
         ],
         "matches": "y",
         "range": [
          0,
          300
         ],
         "showticklabels": false
        }
       }
      },
      "text/html": [
       "<div>\n",
       "        \n",
       "        \n",
       "            <div id=\"369971f4-f778-43fe-9e75-19d00dafa6d1\" class=\"plotly-graph-div\" style=\"height:525px; width:100%;\"></div>\n",
       "            <script type=\"text/javascript\">\n",
       "                require([\"plotly\"], function(Plotly) {\n",
       "                    window.PLOTLYENV=window.PLOTLYENV || {};\n",
       "                    \n",
       "                if (document.getElementById(\"369971f4-f778-43fe-9e75-19d00dafa6d1\")) {\n",
       "                    Plotly.newPlot(\n",
       "                        '369971f4-f778-43fe-9e75-19d00dafa6d1',\n",
       "                        [{\"alignmentgroup\": \"True\", \"hovertemplate\": \"direction=down<br>floor=1<br>Local Time (GMT+8)=%{x}<br>avgWait_weekend=%{y}<extra></extra>\", \"legendgroup\": \"down\", \"marker\": {\"color\": \"#636efa\"}, \"name\": \"down\", \"offsetgroup\": \"down\", \"orientation\": \"v\", \"showlegend\": true, \"textposition\": \"auto\", \"type\": \"bar\", \"x\": [0, 1, 2, 3, 4, 5, 6, 7, 8, 9, 10, 11, 12, 13, 14, 15, 16, 17, 18, 19, 20, 21, 22, 23], \"xaxis\": \"x\", \"y\": [8.504999999999999, 2.1925, 10.803333333333333, 3.433333333333333, 6.408, 14.952857142857145, 31.16500000000001, 66.7595, 63.398684210526326, 35.088, 63.98265306122449, 52.87042553191489, 39.85593220338985, 49.87125, 41.893333333333345, 54.76884615384616, 77.25, 70.1246875, 74.42454545454545, 44.913703703703696, 43.70857142857143, 16.97153846153846, 38.5009090909091, 14.165555555555557], \"yaxis\": \"y\"}, {\"alignmentgroup\": \"True\", \"hovertemplate\": \"direction=up<br>floor=1<br>Local Time (GMT+8)=%{x}<br>avgWait_weekend=%{y}<extra></extra>\", \"legendgroup\": \"up\", \"marker\": {\"color\": \"#EF553B\"}, \"name\": \"up\", \"offsetgroup\": \"up\", \"orientation\": \"v\", \"showlegend\": true, \"textposition\": \"auto\", \"type\": \"bar\", \"x\": [0, 1, 2, 3, 4, 5, 6, 7, 8, 9, 10, 11, 12, 13, 14, 15, 16, 17, 18, 19, 20, 21, 22, 23], \"xaxis\": \"x2\", \"y\": [9.260576923076922, 6.564871794871794, 6.360888888888888, 8.64102564102564, 10.06125, 10.305774647887324, 22.1937890625, 24.95310638297872, 29.847853658536586, 31.846604651162792, 33.074473684210524, 23.208023952095807, 23.462529411764702, 26.526237113402058, 28.255215311004786, 31.4622009569378, 34.54395, 24.3325, 27.131676646706588, 31.274386792452827, 33.26905172413793, 26.409285714285716, 16.618206106870232, 13.922369668246446], \"yaxis\": \"y2\"}],\n",
       "                        {\"annotations\": [{\"font\": {}, \"showarrow\": false, \"text\": \"direction=down\", \"x\": 0.245, \"xanchor\": \"center\", \"xref\": \"paper\", \"y\": 1.0, \"yanchor\": \"bottom\", \"yref\": \"paper\"}, {\"font\": {}, \"showarrow\": false, \"text\": \"direction=up\", \"x\": 0.755, \"xanchor\": \"center\", \"xref\": \"paper\", \"y\": 1.0, \"yanchor\": \"bottom\", \"yref\": \"paper\"}], \"barmode\": \"relative\", \"legend\": {\"title\": {\"text\": \"direction\"}, \"tracegroupgap\": 0}, \"margin\": {\"t\": 60}, \"sliders\": [{\"active\": 0, \"currentvalue\": {\"prefix\": \"floor=\"}, \"len\": 0.9, \"pad\": {\"b\": 10, \"t\": 60}, \"steps\": [{\"args\": [[\"1\"], {\"frame\": {\"duration\": 0, \"redraw\": true}, \"fromcurrent\": true, \"mode\": \"immediate\", \"transition\": {\"duration\": 0, \"easing\": \"linear\"}}], \"label\": \"1\", \"method\": \"animate\"}, {\"args\": [[\"2\"], {\"frame\": {\"duration\": 0, \"redraw\": true}, \"fromcurrent\": true, \"mode\": \"immediate\", \"transition\": {\"duration\": 0, \"easing\": \"linear\"}}], \"label\": \"2\", \"method\": \"animate\"}, {\"args\": [[\"4\"], {\"frame\": {\"duration\": 0, \"redraw\": true}, \"fromcurrent\": true, \"mode\": \"immediate\", \"transition\": {\"duration\": 0, \"easing\": \"linear\"}}], \"label\": \"4\", \"method\": \"animate\"}, {\"args\": [[\"8\"], {\"frame\": {\"duration\": 0, \"redraw\": true}, \"fromcurrent\": true, \"mode\": \"immediate\", \"transition\": {\"duration\": 0, \"easing\": \"linear\"}}], \"label\": \"8\", \"method\": \"animate\"}, {\"args\": [[\"9\"], {\"frame\": {\"duration\": 0, \"redraw\": true}, \"fromcurrent\": true, \"mode\": \"immediate\", \"transition\": {\"duration\": 0, \"easing\": \"linear\"}}], \"label\": \"9\", \"method\": \"animate\"}, {\"args\": [[\"10\"], {\"frame\": {\"duration\": 0, \"redraw\": true}, \"fromcurrent\": true, \"mode\": \"immediate\", \"transition\": {\"duration\": 0, \"easing\": \"linear\"}}], \"label\": \"10\", \"method\": \"animate\"}, {\"args\": [[\"11\"], {\"frame\": {\"duration\": 0, \"redraw\": true}, \"fromcurrent\": true, \"mode\": \"immediate\", \"transition\": {\"duration\": 0, \"easing\": \"linear\"}}], \"label\": \"11\", \"method\": \"animate\"}, {\"args\": [[\"12\"], {\"frame\": {\"duration\": 0, \"redraw\": true}, \"fromcurrent\": true, \"mode\": \"immediate\", \"transition\": {\"duration\": 0, \"easing\": \"linear\"}}], \"label\": \"12\", \"method\": \"animate\"}, {\"args\": [[\"13\"], {\"frame\": {\"duration\": 0, \"redraw\": true}, \"fromcurrent\": true, \"mode\": \"immediate\", \"transition\": {\"duration\": 0, \"easing\": \"linear\"}}], \"label\": \"13\", \"method\": \"animate\"}, {\"args\": [[\"14\"], {\"frame\": {\"duration\": 0, \"redraw\": true}, \"fromcurrent\": true, \"mode\": \"immediate\", \"transition\": {\"duration\": 0, \"easing\": \"linear\"}}], \"label\": \"14\", \"method\": \"animate\"}, {\"args\": [[\"15\"], {\"frame\": {\"duration\": 0, \"redraw\": true}, \"fromcurrent\": true, \"mode\": \"immediate\", \"transition\": {\"duration\": 0, \"easing\": \"linear\"}}], \"label\": \"15\", \"method\": \"animate\"}, {\"args\": [[\"B1\"], {\"frame\": {\"duration\": 0, \"redraw\": true}, \"fromcurrent\": true, \"mode\": \"immediate\", \"transition\": {\"duration\": 0, \"easing\": \"linear\"}}], \"label\": \"B1\", \"method\": \"animate\"}], \"x\": 0.1, \"xanchor\": \"left\", \"y\": 0, \"yanchor\": \"top\"}], \"template\": {\"data\": {\"bar\": [{\"error_x\": {\"color\": \"#2a3f5f\"}, \"error_y\": {\"color\": \"#2a3f5f\"}, \"marker\": {\"line\": {\"color\": \"#E5ECF6\", \"width\": 0.5}}, \"type\": \"bar\"}], \"barpolar\": [{\"marker\": {\"line\": {\"color\": \"#E5ECF6\", \"width\": 0.5}}, \"type\": \"barpolar\"}], \"carpet\": [{\"aaxis\": {\"endlinecolor\": \"#2a3f5f\", \"gridcolor\": \"white\", \"linecolor\": \"white\", \"minorgridcolor\": \"white\", \"startlinecolor\": \"#2a3f5f\"}, \"baxis\": {\"endlinecolor\": \"#2a3f5f\", \"gridcolor\": \"white\", \"linecolor\": \"white\", \"minorgridcolor\": \"white\", \"startlinecolor\": \"#2a3f5f\"}, \"type\": \"carpet\"}], \"choropleth\": [{\"colorbar\": {\"outlinewidth\": 0, \"ticks\": \"\"}, \"type\": \"choropleth\"}], \"contour\": [{\"colorbar\": {\"outlinewidth\": 0, \"ticks\": \"\"}, \"colorscale\": [[0.0, \"#0d0887\"], [0.1111111111111111, \"#46039f\"], [0.2222222222222222, \"#7201a8\"], [0.3333333333333333, \"#9c179e\"], [0.4444444444444444, \"#bd3786\"], [0.5555555555555556, \"#d8576b\"], [0.6666666666666666, \"#ed7953\"], [0.7777777777777778, \"#fb9f3a\"], [0.8888888888888888, \"#fdca26\"], [1.0, \"#f0f921\"]], \"type\": \"contour\"}], \"contourcarpet\": [{\"colorbar\": {\"outlinewidth\": 0, \"ticks\": \"\"}, \"type\": \"contourcarpet\"}], \"heatmap\": [{\"colorbar\": {\"outlinewidth\": 0, \"ticks\": \"\"}, \"colorscale\": [[0.0, \"#0d0887\"], [0.1111111111111111, \"#46039f\"], [0.2222222222222222, \"#7201a8\"], [0.3333333333333333, \"#9c179e\"], [0.4444444444444444, \"#bd3786\"], [0.5555555555555556, \"#d8576b\"], [0.6666666666666666, \"#ed7953\"], [0.7777777777777778, \"#fb9f3a\"], [0.8888888888888888, \"#fdca26\"], [1.0, \"#f0f921\"]], \"type\": \"heatmap\"}], \"heatmapgl\": [{\"colorbar\": {\"outlinewidth\": 0, \"ticks\": \"\"}, \"colorscale\": [[0.0, \"#0d0887\"], [0.1111111111111111, \"#46039f\"], [0.2222222222222222, \"#7201a8\"], [0.3333333333333333, \"#9c179e\"], [0.4444444444444444, \"#bd3786\"], [0.5555555555555556, \"#d8576b\"], [0.6666666666666666, \"#ed7953\"], [0.7777777777777778, \"#fb9f3a\"], [0.8888888888888888, \"#fdca26\"], [1.0, \"#f0f921\"]], \"type\": \"heatmapgl\"}], \"histogram\": [{\"marker\": {\"colorbar\": {\"outlinewidth\": 0, \"ticks\": \"\"}}, \"type\": \"histogram\"}], \"histogram2d\": [{\"colorbar\": {\"outlinewidth\": 0, \"ticks\": \"\"}, \"colorscale\": [[0.0, \"#0d0887\"], [0.1111111111111111, \"#46039f\"], [0.2222222222222222, \"#7201a8\"], [0.3333333333333333, \"#9c179e\"], [0.4444444444444444, \"#bd3786\"], [0.5555555555555556, \"#d8576b\"], [0.6666666666666666, \"#ed7953\"], [0.7777777777777778, \"#fb9f3a\"], [0.8888888888888888, \"#fdca26\"], [1.0, \"#f0f921\"]], \"type\": \"histogram2d\"}], \"histogram2dcontour\": [{\"colorbar\": {\"outlinewidth\": 0, \"ticks\": \"\"}, \"colorscale\": [[0.0, \"#0d0887\"], [0.1111111111111111, \"#46039f\"], [0.2222222222222222, \"#7201a8\"], [0.3333333333333333, \"#9c179e\"], [0.4444444444444444, \"#bd3786\"], [0.5555555555555556, \"#d8576b\"], [0.6666666666666666, \"#ed7953\"], [0.7777777777777778, \"#fb9f3a\"], [0.8888888888888888, \"#fdca26\"], [1.0, \"#f0f921\"]], \"type\": \"histogram2dcontour\"}], \"mesh3d\": [{\"colorbar\": {\"outlinewidth\": 0, \"ticks\": \"\"}, \"type\": \"mesh3d\"}], \"parcoords\": [{\"line\": {\"colorbar\": {\"outlinewidth\": 0, \"ticks\": \"\"}}, \"type\": \"parcoords\"}], \"pie\": [{\"automargin\": true, \"type\": \"pie\"}], \"scatter\": [{\"marker\": {\"colorbar\": {\"outlinewidth\": 0, \"ticks\": \"\"}}, \"type\": \"scatter\"}], \"scatter3d\": [{\"line\": {\"colorbar\": {\"outlinewidth\": 0, \"ticks\": \"\"}}, \"marker\": {\"colorbar\": {\"outlinewidth\": 0, \"ticks\": \"\"}}, \"type\": \"scatter3d\"}], \"scattercarpet\": [{\"marker\": {\"colorbar\": {\"outlinewidth\": 0, \"ticks\": \"\"}}, \"type\": \"scattercarpet\"}], \"scattergeo\": [{\"marker\": {\"colorbar\": {\"outlinewidth\": 0, \"ticks\": \"\"}}, \"type\": \"scattergeo\"}], \"scattergl\": [{\"marker\": {\"colorbar\": {\"outlinewidth\": 0, \"ticks\": \"\"}}, \"type\": \"scattergl\"}], \"scattermapbox\": [{\"marker\": {\"colorbar\": {\"outlinewidth\": 0, \"ticks\": \"\"}}, \"type\": \"scattermapbox\"}], \"scatterpolar\": [{\"marker\": {\"colorbar\": {\"outlinewidth\": 0, \"ticks\": \"\"}}, \"type\": \"scatterpolar\"}], \"scatterpolargl\": [{\"marker\": {\"colorbar\": {\"outlinewidth\": 0, \"ticks\": \"\"}}, \"type\": \"scatterpolargl\"}], \"scatterternary\": [{\"marker\": {\"colorbar\": {\"outlinewidth\": 0, \"ticks\": \"\"}}, \"type\": \"scatterternary\"}], \"surface\": [{\"colorbar\": {\"outlinewidth\": 0, \"ticks\": \"\"}, \"colorscale\": [[0.0, \"#0d0887\"], [0.1111111111111111, \"#46039f\"], [0.2222222222222222, \"#7201a8\"], [0.3333333333333333, \"#9c179e\"], [0.4444444444444444, \"#bd3786\"], [0.5555555555555556, \"#d8576b\"], [0.6666666666666666, \"#ed7953\"], [0.7777777777777778, \"#fb9f3a\"], [0.8888888888888888, \"#fdca26\"], [1.0, \"#f0f921\"]], \"type\": \"surface\"}], \"table\": [{\"cells\": {\"fill\": {\"color\": \"#EBF0F8\"}, \"line\": {\"color\": \"white\"}}, \"header\": {\"fill\": {\"color\": \"#C8D4E3\"}, \"line\": {\"color\": \"white\"}}, \"type\": \"table\"}]}, \"layout\": {\"annotationdefaults\": {\"arrowcolor\": \"#2a3f5f\", \"arrowhead\": 0, \"arrowwidth\": 1}, \"coloraxis\": {\"colorbar\": {\"outlinewidth\": 0, \"ticks\": \"\"}}, \"colorscale\": {\"diverging\": [[0, \"#8e0152\"], [0.1, \"#c51b7d\"], [0.2, \"#de77ae\"], [0.3, \"#f1b6da\"], [0.4, \"#fde0ef\"], [0.5, \"#f7f7f7\"], [0.6, \"#e6f5d0\"], [0.7, \"#b8e186\"], [0.8, \"#7fbc41\"], [0.9, \"#4d9221\"], [1, \"#276419\"]], \"sequential\": [[0.0, \"#0d0887\"], [0.1111111111111111, \"#46039f\"], [0.2222222222222222, \"#7201a8\"], [0.3333333333333333, \"#9c179e\"], [0.4444444444444444, \"#bd3786\"], [0.5555555555555556, \"#d8576b\"], [0.6666666666666666, \"#ed7953\"], [0.7777777777777778, \"#fb9f3a\"], [0.8888888888888888, \"#fdca26\"], [1.0, \"#f0f921\"]], \"sequentialminus\": [[0.0, \"#0d0887\"], [0.1111111111111111, \"#46039f\"], [0.2222222222222222, \"#7201a8\"], [0.3333333333333333, \"#9c179e\"], [0.4444444444444444, \"#bd3786\"], [0.5555555555555556, \"#d8576b\"], [0.6666666666666666, \"#ed7953\"], [0.7777777777777778, \"#fb9f3a\"], [0.8888888888888888, \"#fdca26\"], [1.0, \"#f0f921\"]]}, \"colorway\": [\"#636efa\", \"#EF553B\", \"#00cc96\", \"#ab63fa\", \"#FFA15A\", \"#19d3f3\", \"#FF6692\", \"#B6E880\", \"#FF97FF\", \"#FECB52\"], \"font\": {\"color\": \"#2a3f5f\"}, \"geo\": {\"bgcolor\": \"white\", \"lakecolor\": \"white\", \"landcolor\": \"#E5ECF6\", \"showlakes\": true, \"showland\": true, \"subunitcolor\": \"white\"}, \"hoverlabel\": {\"align\": \"left\"}, \"hovermode\": \"closest\", \"mapbox\": {\"style\": \"light\"}, \"paper_bgcolor\": \"white\", \"plot_bgcolor\": \"#E5ECF6\", \"polar\": {\"angularaxis\": {\"gridcolor\": \"white\", \"linecolor\": \"white\", \"ticks\": \"\"}, \"bgcolor\": \"#E5ECF6\", \"radialaxis\": {\"gridcolor\": \"white\", \"linecolor\": \"white\", \"ticks\": \"\"}}, \"scene\": {\"xaxis\": {\"backgroundcolor\": \"#E5ECF6\", \"gridcolor\": \"white\", \"gridwidth\": 2, \"linecolor\": \"white\", \"showbackground\": true, \"ticks\": \"\", \"zerolinecolor\": \"white\"}, \"yaxis\": {\"backgroundcolor\": \"#E5ECF6\", \"gridcolor\": \"white\", \"gridwidth\": 2, \"linecolor\": \"white\", \"showbackground\": true, \"ticks\": \"\", \"zerolinecolor\": \"white\"}, \"zaxis\": {\"backgroundcolor\": \"#E5ECF6\", \"gridcolor\": \"white\", \"gridwidth\": 2, \"linecolor\": \"white\", \"showbackground\": true, \"ticks\": \"\", \"zerolinecolor\": \"white\"}}, \"shapedefaults\": {\"line\": {\"color\": \"#2a3f5f\"}}, \"ternary\": {\"aaxis\": {\"gridcolor\": \"white\", \"linecolor\": \"white\", \"ticks\": \"\"}, \"baxis\": {\"gridcolor\": \"white\", \"linecolor\": \"white\", \"ticks\": \"\"}, \"bgcolor\": \"#E5ECF6\", \"caxis\": {\"gridcolor\": \"white\", \"linecolor\": \"white\", \"ticks\": \"\"}}, \"title\": {\"x\": 0.05}, \"xaxis\": {\"automargin\": true, \"gridcolor\": \"white\", \"linecolor\": \"white\", \"ticks\": \"\", \"title\": {\"standoff\": 15}, \"zerolinecolor\": \"white\", \"zerolinewidth\": 2}, \"yaxis\": {\"automargin\": true, \"gridcolor\": \"white\", \"linecolor\": \"white\", \"ticks\": \"\", \"title\": {\"standoff\": 15}, \"zerolinecolor\": \"white\", \"zerolinewidth\": 2}}}, \"title\": {\"text\": \"Average waiting time of Elevator Calls by Time\"}, \"updatemenus\": [{\"buttons\": [{\"args\": [null, {\"frame\": {\"duration\": 500, \"redraw\": true}, \"fromcurrent\": true, \"mode\": \"immediate\", \"transition\": {\"duration\": 500, \"easing\": \"linear\"}}], \"label\": \"&#9654;\", \"method\": \"animate\"}, {\"args\": [[null], {\"frame\": {\"duration\": 0, \"redraw\": true}, \"fromcurrent\": true, \"mode\": \"immediate\", \"transition\": {\"duration\": 0, \"easing\": \"linear\"}}], \"label\": \"&#9724;\", \"method\": \"animate\"}], \"direction\": \"left\", \"pad\": {\"r\": 10, \"t\": 70}, \"showactive\": false, \"type\": \"buttons\", \"x\": 0.1, \"xanchor\": \"right\", \"y\": 0, \"yanchor\": \"top\"}], \"xaxis\": {\"anchor\": \"y\", \"categoryarray\": [0, 24], \"domain\": [0.0, 0.49], \"nticks\": 19, \"title\": {\"text\": \"Local Time (GMT+8)\"}, \"type\": \"category\"}, \"xaxis2\": {\"anchor\": \"y2\", \"categoryarray\": [0, 24], \"domain\": [0.51, 1.0], \"matches\": \"x\", \"nticks\": 19, \"title\": {\"text\": \"Local Time (GMT+8)\"}, \"type\": \"category\"}, \"yaxis\": {\"anchor\": \"x\", \"domain\": [0.0, 1.0], \"range\": [0, 300], \"title\": {\"text\": \"avgWait_weekend\"}}, \"yaxis2\": {\"anchor\": \"x2\", \"domain\": [0.0, 1.0], \"matches\": \"y\", \"range\": [0, 300], \"showticklabels\": false}},\n",
       "                        {\"responsive\": true}\n",
       "                    ).then(function(){\n",
       "                            Plotly.addFrames('369971f4-f778-43fe-9e75-19d00dafa6d1', [{\"data\": [{\"alignmentgroup\": \"True\", \"hovertemplate\": \"direction=down<br>floor=1<br>Local Time (GMT+8)=%{x}<br>avgWait_weekend=%{y}<extra></extra>\", \"legendgroup\": \"down\", \"marker\": {\"color\": \"#636efa\"}, \"name\": \"down\", \"offsetgroup\": \"down\", \"orientation\": \"v\", \"showlegend\": true, \"textposition\": \"auto\", \"x\": [0, 1, 2, 3, 4, 5, 6, 7, 8, 9, 10, 11, 12, 13, 14, 15, 16, 17, 18, 19, 20, 21, 22, 23], \"xaxis\": \"x\", \"y\": [8.504999999999999, 2.1925, 10.803333333333333, 3.433333333333333, 6.408, 14.952857142857145, 31.16500000000001, 66.7595, 63.398684210526326, 35.088, 63.98265306122449, 52.87042553191489, 39.85593220338985, 49.87125, 41.893333333333345, 54.76884615384616, 77.25, 70.1246875, 74.42454545454545, 44.913703703703696, 43.70857142857143, 16.97153846153846, 38.5009090909091, 14.165555555555557], \"yaxis\": \"y\", \"type\": \"bar\"}, {\"alignmentgroup\": \"True\", \"hovertemplate\": \"direction=up<br>floor=1<br>Local Time (GMT+8)=%{x}<br>avgWait_weekend=%{y}<extra></extra>\", \"legendgroup\": \"up\", \"marker\": {\"color\": \"#EF553B\"}, \"name\": \"up\", \"offsetgroup\": \"up\", \"orientation\": \"v\", \"showlegend\": true, \"textposition\": \"auto\", \"x\": [0, 1, 2, 3, 4, 5, 6, 7, 8, 9, 10, 11, 12, 13, 14, 15, 16, 17, 18, 19, 20, 21, 22, 23], \"xaxis\": \"x2\", \"y\": [9.260576923076922, 6.564871794871794, 6.360888888888888, 8.64102564102564, 10.06125, 10.305774647887324, 22.1937890625, 24.95310638297872, 29.847853658536586, 31.846604651162792, 33.074473684210524, 23.208023952095807, 23.462529411764702, 26.526237113402058, 28.255215311004786, 31.4622009569378, 34.54395, 24.3325, 27.131676646706588, 31.274386792452827, 33.26905172413793, 26.409285714285716, 16.618206106870232, 13.922369668246446], \"yaxis\": \"y2\", \"type\": \"bar\"}], \"name\": \"1\"}, {\"data\": [{\"alignmentgroup\": \"True\", \"hovertemplate\": \"direction=down<br>floor=2<br>Local Time (GMT+8)=%{x}<br>avgWait_weekend=%{y}<extra></extra>\", \"legendgroup\": \"down\", \"marker\": {\"color\": \"#636efa\"}, \"name\": \"down\", \"offsetgroup\": \"down\", \"orientation\": \"v\", \"showlegend\": true, \"textposition\": \"auto\", \"x\": [2, 4, 5, 6, 7, 8, 9, 10, 11, 12, 13, 14, 15, 16, 17, 18, 19, 20, 21, 23], \"xaxis\": \"x\", \"y\": [16.18, 24.78, 16.54, 10.89, 32.88333333333333, 70.77375, 52.88777777777778, 61.04545454545455, 42.97103448275864, 54.58947368421053, 36.065714285714286, 51.07086956521738, 66.3, 38.871, 39.13, 93.49666666666668, 3.77, 50.795, 69.36, 24.04], \"yaxis\": \"y\", \"type\": \"bar\"}, {\"alignmentgroup\": \"True\", \"hovertemplate\": \"direction=up<br>floor=2<br>Local Time (GMT+8)=%{x}<br>avgWait_weekend=%{y}<extra></extra>\", \"legendgroup\": \"up\", \"marker\": {\"color\": \"#EF553B\"}, \"name\": \"up\", \"offsetgroup\": \"up\", \"orientation\": \"v\", \"showlegend\": true, \"textposition\": \"auto\", \"x\": [4, 7, 8, 9, 10, 11, 12, 13, 14, 15, 16, 17, 18, 19, 20, 21, 22], \"xaxis\": \"x2\", \"y\": [5.44, 15.988, 11.962592592592593, 9.220833333333333, 13.018157894736841, 9.4212, 12.41625, 13.91777777777778, 14.4525, 14.005217391304347, 10.885806451612904, 16.980833333333333, 15.946666666666667, 19.108, 21.435, 6.565, 27.21], \"yaxis\": \"y2\", \"type\": \"bar\"}], \"name\": \"2\"}, {\"data\": [{\"alignmentgroup\": \"True\", \"hovertemplate\": \"direction=down<br>floor=4<br>Local Time (GMT+8)=%{x}<br>avgWait_weekend=%{y}<extra></extra>\", \"legendgroup\": \"down\", \"marker\": {\"color\": \"#636efa\"}, \"name\": \"down\", \"offsetgroup\": \"down\", \"orientation\": \"v\", \"showlegend\": true, \"textposition\": \"auto\", \"x\": [0, 1, 2, 3, 4, 5, 6, 7, 8, 9, 10, 11, 12, 13, 14, 15, 16, 17, 18, 19, 20, 21, 22, 23], \"xaxis\": \"x\", \"y\": [24.701818181818187, 27.90888888888889, 38.12000000000001, 24.855, 18.648333333333333, 25.975, 67.745, 106.0942857142857, 101.54022222222223, 71.82518518518519, 98.18947368421051, 81.154776119403, 87.7298795180723, 84.29984126984127, 72.17915254237288, 86.55408450704228, 74.68581395348836, 92.03915254237288, 102.42911764705885, 78.38432432432433, 70.00493506493507, 52.10290322580646, 34.950588235294106, 17.128], \"yaxis\": \"y\", \"type\": \"bar\"}, {\"alignmentgroup\": \"True\", \"hovertemplate\": \"direction=up<br>floor=4<br>Local Time (GMT+8)=%{x}<br>avgWait_weekend=%{y}<extra></extra>\", \"legendgroup\": \"up\", \"marker\": {\"color\": \"#EF553B\"}, \"name\": \"up\", \"offsetgroup\": \"up\", \"orientation\": \"v\", \"showlegend\": true, \"textposition\": \"auto\", \"x\": [0, 1, 2, 4, 5, 6, 7, 8, 9, 10, 11, 12, 13, 14, 15, 16, 17, 18, 19, 20, 21, 22, 23], \"xaxis\": \"x2\", \"y\": [18.59, 22.845, 13.36, 28.7, 15.43, 13.475, 14.74206896551724, 15.093953488372092, 11.806818181818182, 16.014999999999993, 12.651290322580644, 12.41641509433962, 15.388181818181815, 14.24782608695652, 14.546140350877195, 14.399534883720932, 12.55945945945946, 14.713703703703704, 16.69086956521739, 13.69909090909091, 19.5, 20.632, 21.3775], \"yaxis\": \"y2\", \"type\": \"bar\"}], \"name\": \"4\"}, {\"data\": [{\"alignmentgroup\": \"True\", \"hovertemplate\": \"direction=down<br>floor=8<br>Local Time (GMT+8)=%{x}<br>avgWait_weekend=%{y}<extra></extra>\", \"legendgroup\": \"down\", \"marker\": {\"color\": \"#636efa\"}, \"name\": \"down\", \"offsetgroup\": \"down\", \"orientation\": \"v\", \"showlegend\": true, \"textposition\": \"auto\", \"x\": [0, 1, 2, 3, 4, 5, 6, 7, 8, 9, 10, 11, 12, 13, 14, 15, 16, 17, 18, 19, 20, 21, 22, 23], \"xaxis\": \"x\", \"y\": [21.319090909090907, 25.00642857142857, 15.616666666666665, 24.29375, 15.355, 20.775, 21.783428571428576, 21.132266666666666, 17.310925925925925, 16.29018018018018, 14.138125, 15.798878504672894, 13.083305084745762, 14.726145833333335, 16.919999999999998, 19.005673076923078, 14.163362068965515, 12.294471544715448, 16.349519230769232, 17.436559139784947, 20.19114942528736, 18.01662337662337, 19.262222222222224, 17.608235294117648], \"yaxis\": \"y\", \"type\": \"bar\"}, {\"alignmentgroup\": \"True\", \"hovertemplate\": \"direction=up<br>floor=8<br>Local Time (GMT+8)=%{x}<br>avgWait_weekend=%{y}<extra></extra>\", \"legendgroup\": \"up\", \"marker\": {\"color\": \"#EF553B\"}, \"name\": \"up\", \"offsetgroup\": \"up\", \"orientation\": \"v\", \"showlegend\": true, \"textposition\": \"auto\", \"x\": [0, 1, 5, 6, 7, 8, 9, 10, 11, 12, 13, 14, 15, 16, 17, 18, 19, 20, 21, 22, 23], \"xaxis\": \"x2\", \"y\": [22.745, 11.876666666666667, 12.73, 23.955, 65.79821428571428, 74.29617647058822, 84.4506818181818, 74.58154929577466, 86.45122807017543, 96.11137254901962, 79.60950819672132, 90.32314814814815, 78.52345454545456, 72.33791666666667, 80.46227272727273, 61.01390243902439, 93.24894736842106, 39.15933333333333, 52.20857142857143, 32.085454545454546, 28.902], \"yaxis\": \"y2\", \"type\": \"bar\"}], \"name\": \"8\"}, {\"data\": [{\"alignmentgroup\": \"True\", \"hovertemplate\": \"direction=down<br>floor=9<br>Local Time (GMT+8)=%{x}<br>avgWait_weekend=%{y}<extra></extra>\", \"legendgroup\": \"down\", \"marker\": {\"color\": \"#636efa\"}, \"name\": \"down\", \"offsetgroup\": \"down\", \"orientation\": \"v\", \"showlegend\": true, \"textposition\": \"auto\", \"x\": [0, 1, 2, 3, 4, 5, 6, 7, 8, 9, 10, 11, 12, 13, 14, 15, 16, 17, 18, 19, 20, 21, 22, 23], \"xaxis\": \"x\", \"y\": [17.285, 15.017647058823528, 19.92058823529411, 20.77833333333333, 24.153846153846153, 15.202142857142857, 25.10967741935484, 27.65943181818182, 21.271374045801533, 19.947615384615386, 16.412661290322582, 16.616985294117647, 17.69914893617021, 17.885748031496068, 21.53362068965517, 19.740625, 16.326739130434785, 15.614276315789473, 19.776962962962962, 21.83934959349593, 21.623303571428565, 22.992352941176478, 17.194444444444443, 17.403181818181814], \"yaxis\": \"y\", \"type\": \"bar\"}, {\"alignmentgroup\": \"True\", \"hovertemplate\": \"direction=up<br>floor=9<br>Local Time (GMT+8)=%{x}<br>avgWait_weekend=%{y}<extra></extra>\", \"legendgroup\": \"up\", \"marker\": {\"color\": \"#EF553B\"}, \"name\": \"up\", \"offsetgroup\": \"up\", \"orientation\": \"v\", \"showlegend\": true, \"textposition\": \"auto\", \"x\": [5, 6, 7, 8, 9, 10, 11, 12, 13, 14, 15, 16, 17, 18, 19, 20, 21, 22, 23], \"xaxis\": \"x2\", \"y\": [26.97, 21.805999999999997, 65.65166666666667, 54.9005, 72.4223076923077, 25.05789473684211, 42.05, 72.3725, 70.78777777777776, 18.42130434782609, 65.46300000000001, 46.0555, 47.28000000000001, 41.06384615384616, 45.684, 31.78, 57.53333333333333, 14.8325, 24.325], \"yaxis\": \"y2\", \"type\": \"bar\"}], \"name\": \"9\"}, {\"data\": [{\"alignmentgroup\": \"True\", \"hovertemplate\": \"direction=down<br>floor=10<br>Local Time (GMT+8)=%{x}<br>avgWait_weekend=%{y}<extra></extra>\", \"legendgroup\": \"down\", \"marker\": {\"color\": \"#636efa\"}, \"name\": \"down\", \"offsetgroup\": \"down\", \"orientation\": \"v\", \"showlegend\": true, \"textposition\": \"auto\", \"x\": [0, 1, 2, 5, 7, 8, 9, 10, 11, 12, 13, 14, 15, 16, 17, 18, 19, 20, 21, 22, 23], \"xaxis\": \"x\", \"y\": [19.735, 21.53, 0.25, 0.76, 9.86285714285714, 18.41, 12.92128205128205, 16.84923076923077, 16.98, 15.293863636363636, 23.782352941176466, 14.346428571428572, 12.375945945945945, 13.437222222222225, 12.51625, 17.462162162162162, 9.719333333333333, 20.73, 14.878333333333336, 27.253529411764703, 10.0], \"yaxis\": \"y\", \"type\": \"bar\"}, {\"alignmentgroup\": \"True\", \"hovertemplate\": \"direction=up<br>floor=10<br>Local Time (GMT+8)=%{x}<br>avgWait_weekend=%{y}<extra></extra>\", \"legendgroup\": \"up\", \"marker\": {\"color\": \"#EF553B\"}, \"name\": \"up\", \"offsetgroup\": \"up\", \"orientation\": \"v\", \"showlegend\": true, \"textposition\": \"auto\", \"x\": [5, 6, 7, 8, 9, 10, 11, 12, 13, 14, 15, 16, 17, 18, 19, 22], \"xaxis\": \"x2\", \"y\": [1.56, 13.83, 46.15, 64.35548387096775, 42.214666666666666, 40.78333333333333, 48.473103448275864, 62.662222222222226, 41.0540909090909, 46.65000000000001, 60.74058823529411, 36.57655172413793, 57.31866666666667, 28.7, 28.09, 23.02], \"yaxis\": \"y2\", \"type\": \"bar\"}], \"name\": \"10\"}, {\"data\": [{\"alignmentgroup\": \"True\", \"hovertemplate\": \"direction=down<br>floor=11<br>Local Time (GMT+8)=%{x}<br>avgWait_weekend=%{y}<extra></extra>\", \"legendgroup\": \"down\", \"marker\": {\"color\": \"#636efa\"}, \"name\": \"down\", \"offsetgroup\": \"down\", \"orientation\": \"v\", \"showlegend\": true, \"textposition\": \"auto\", \"x\": [0, 1, 2, 3, 4, 5, 6, 7, 8, 9, 10, 11, 12, 13, 14, 15, 16, 17, 18, 19, 20, 21, 22, 23], \"xaxis\": \"x\", \"y\": [22.485294117647058, 13.908, 18.071, 9.98923076923077, 16.836666666666666, 20.439285714285713, 28.71163636363636, 29.092650602409638, 26.53716814159292, 22.655535714285715, 28.556608695652177, 27.827841726618704, 31.026269841269848, 28.926984126984127, 28.294285714285717, 30.85065040650407, 24.86887323943662, 21.671298701298703, 26.794741379310345, 32.53323809523809, 27.219702970297032, 28.062771084337353, 31.074324324324326, 23.658235294117645], \"yaxis\": \"y\", \"type\": \"bar\"}, {\"alignmentgroup\": \"True\", \"hovertemplate\": \"direction=up<br>floor=11<br>Local Time (GMT+8)=%{x}<br>avgWait_weekend=%{y}<extra></extra>\", \"legendgroup\": \"up\", \"marker\": {\"color\": \"#EF553B\"}, \"name\": \"up\", \"offsetgroup\": \"up\", \"orientation\": \"v\", \"showlegend\": true, \"textposition\": \"auto\", \"x\": [5, 6, 7, 8, 9, 10, 11, 12, 13, 14, 15, 16, 17, 18, 19, 20, 21, 22], \"xaxis\": \"x2\", \"y\": [17.45, 52.19333333333333, 56.1925, 35.735, 15.842, 39.9775, 45.105, 25.21272727272727, 20.731250000000006, 45.134827586206896, 23.652142857142852, 30.92875, 66.02888888888889, 39.13428571428572, 87.4325, 71.77, 69.82, 23.95], \"yaxis\": \"y2\", \"type\": \"bar\"}], \"name\": \"11\"}, {\"data\": [{\"alignmentgroup\": \"True\", \"hovertemplate\": \"direction=down<br>floor=12<br>Local Time (GMT+8)=%{x}<br>avgWait_weekend=%{y}<extra></extra>\", \"legendgroup\": \"down\", \"marker\": {\"color\": \"#636efa\"}, \"name\": \"down\", \"offsetgroup\": \"down\", \"orientation\": \"v\", \"showlegend\": true, \"textposition\": \"auto\", \"x\": [0, 1, 2, 3, 4, 5, 6, 7, 8, 9, 10, 11, 12, 13, 14, 15, 16, 17, 18, 19, 20, 21, 22, 23], \"xaxis\": \"x\", \"y\": [19.459696969696967, 18.031923076923075, 16.846153846153847, 12.2175, 22.05857142857143, 22.68409090909091, 34.2963768115942, 49.17707070707071, 36.30753968253968, 41.2234328358209, 49.823150684931505, 48.02463768115942, 61.783, 48.561034482758615, 42.709920000000004, 45.95452380952381, 45.15303703703704, 48.4581560283688, 46.74878048780488, 40.461083333333335, 39.2025925925926, 31.221960784313726, 25.759259259259263, 22.6522641509434], \"yaxis\": \"y\", \"type\": \"bar\"}, {\"alignmentgroup\": \"True\", \"hovertemplate\": \"direction=up<br>floor=12<br>Local Time (GMT+8)=%{x}<br>avgWait_weekend=%{y}<extra></extra>\", \"legendgroup\": \"up\", \"marker\": {\"color\": \"#EF553B\"}, \"name\": \"up\", \"offsetgroup\": \"up\", \"orientation\": \"v\", \"showlegend\": true, \"textposition\": \"auto\", \"x\": [0, 6, 7, 8, 9, 10, 11, 12, 13, 14, 15, 16, 17, 18, 19, 20, 21, 22, 23], \"xaxis\": \"x2\", \"y\": [22.070000000000004, 47.12333333333334, 66.27666666666667, 17.588, 34.73571428571429, 49.25363636363636, 24.239285714285717, 52.071538461538466, 27.008333333333336, 29.862857142857145, 47.3675, 23.579, 43.832, 38.88333333333333, 43.03714285714285, 48.175, 36.145, 15.114285714285714, 15.8], \"yaxis\": \"y2\", \"type\": \"bar\"}], \"name\": \"12\"}, {\"data\": [{\"alignmentgroup\": \"True\", \"hovertemplate\": \"direction=down<br>floor=13<br>Local Time (GMT+8)=%{x}<br>avgWait_weekend=%{y}<extra></extra>\", \"legendgroup\": \"down\", \"marker\": {\"color\": \"#636efa\"}, \"name\": \"down\", \"offsetgroup\": \"down\", \"orientation\": \"v\", \"showlegend\": true, \"textposition\": \"auto\", \"x\": [0, 1, 2, 3, 4, 5, 6, 7, 8, 9, 10, 11, 12, 13, 14, 15, 16, 17, 18, 19, 20, 21, 22, 23], \"xaxis\": \"x\", \"y\": [19.858611111111113, 22.6655, 17.288, 23.188000000000002, 17.125, 19.58153846153846, 23.085416666666664, 41.20500000000001, 33.359918699187006, 27.193898305084748, 27.85709401709401, 23.567235772357726, 18.44032, 27.42588235294118, 29.38411290322581, 30.714444444444453, 25.090461538461536, 22.07033783783784, 24.434094488188983, 31.05336206896552, 28.447884615384613, 31.789259259259254, 22.853103448275863, 24.859705882352944], \"yaxis\": \"y\", \"type\": \"bar\"}, {\"alignmentgroup\": \"True\", \"hovertemplate\": \"direction=up<br>floor=13<br>Local Time (GMT+8)=%{x}<br>avgWait_weekend=%{y}<extra></extra>\", \"legendgroup\": \"up\", \"marker\": {\"color\": \"#EF553B\"}, \"name\": \"up\", \"offsetgroup\": \"up\", \"orientation\": \"v\", \"showlegend\": true, \"textposition\": \"auto\", \"x\": [5, 6, 7, 8, 9, 10, 11, 12, 13, 14, 15, 16, 17, 18, 19, 20, 21, 22], \"xaxis\": \"x2\", \"y\": [25.805, 14.383333333333333, 69.36800000000001, 63.83900000000001, 79.16333333333334, 96.64, 75.35249999999998, 92.11833333333334, 101.624, 101.429, 97.69285714285715, 96.512, 106.56625, 146.12, 6.8, 44.6775, 39.972, 14.16], \"yaxis\": \"y2\", \"type\": \"bar\"}], \"name\": \"13\"}, {\"data\": [{\"alignmentgroup\": \"True\", \"hovertemplate\": \"direction=down<br>floor=14<br>Local Time (GMT+8)=%{x}<br>avgWait_weekend=%{y}<extra></extra>\", \"legendgroup\": \"down\", \"marker\": {\"color\": \"#636efa\"}, \"name\": \"down\", \"offsetgroup\": \"down\", \"orientation\": \"v\", \"showlegend\": true, \"textposition\": \"auto\", \"x\": [0, 1, 2, 3, 4, 5, 6, 7, 8, 9, 10, 11, 12, 13, 14, 15, 16, 17, 18, 19, 20, 21, 22, 23], \"xaxis\": \"x\", \"y\": [16.496363636363636, 26.396666666666665, 21.088888888888892, 17.286666666666665, 17.664285714285715, 21.476428571428574, 25.548840579710145, 37.627692307692314, 40.044363636363634, 37.596160714285716, 45.61757575757575, 34.752265625, 43.49305970149253, 38.996885245901645, 46.55663366336635, 39.56390476190476, 37.73826771653543, 41.63385714285714, 34.51381679389313, 40.41266666666667, 35.496021505376355, 27.27714285714286, 22.26304347826087, 25.34447368421053], \"yaxis\": \"y\", \"type\": \"bar\"}, {\"alignmentgroup\": \"True\", \"hovertemplate\": \"direction=up<br>floor=14<br>Local Time (GMT+8)=%{x}<br>avgWait_weekend=%{y}<extra></extra>\", \"legendgroup\": \"up\", \"marker\": {\"color\": \"#EF553B\"}, \"name\": \"up\", \"offsetgroup\": \"up\", \"orientation\": \"v\", \"showlegend\": true, \"textposition\": \"auto\", \"x\": [5, 6, 7, 8, 9, 10, 11, 12, 13, 14, 15, 16, 17, 18, 19, 20, 21], \"xaxis\": \"x2\", \"y\": [23.975, 27.034, 50.19750000000001, 80.485, 58.3225, 107.431, 74.11777777777776, 81.05866666666667, 114.45100000000001, 87.93230769230769, 85.58, 46.64333333333334, 139.0575, 96.48166666666668, 77.86333333333333, 67.64833333333334, 79.08], \"yaxis\": \"y2\", \"type\": \"bar\"}], \"name\": \"14\"}, {\"data\": [{\"alignmentgroup\": \"True\", \"hovertemplate\": \"direction=down<br>floor=15<br>Local Time (GMT+8)=%{x}<br>avgWait_weekend=%{y}<extra></extra>\", \"legendgroup\": \"down\", \"marker\": {\"color\": \"#636efa\"}, \"name\": \"down\", \"offsetgroup\": \"down\", \"orientation\": \"v\", \"showlegend\": true, \"textposition\": \"auto\", \"x\": [0, 1, 2, 3, 4, 5, 6, 7, 8, 9, 10, 11, 12, 13, 14, 15, 16, 17, 18, 19, 20, 21, 22, 23], \"xaxis\": \"x\", \"y\": [28.746923076923075, 22.92833333333333, 29.84666666666667, 9.34, 27.0925, 15.96583333333333, 34.661944444444444, 43.0436, 54.660319148936175, 55.669611650485436, 62.24307692307693, 66.1494262295082, 68.02016666666667, 58.71575757575758, 57.564040404040405, 58.11030303030303, 57.41460317460318, 64.59532258064516, 52.55877358490565, 49.22790697674419, 41.942352941176466, 37.17869565217392, 29.853829787234048, 20.2675], \"yaxis\": \"y\", \"type\": \"bar\"}], \"name\": \"15\"}, {\"data\": [{\"alignmentgroup\": \"True\", \"hovertemplate\": \"direction=down<br>floor=B1<br>Local Time (GMT+8)=%{x}<br>avgWait_weekend=%{y}<extra></extra>\", \"legendgroup\": \"down\", \"marker\": {\"color\": \"#636efa\"}, \"name\": \"down\", \"offsetgroup\": \"down\", \"orientation\": \"v\", \"showlegend\": true, \"textposition\": \"auto\", \"x\": [5, 6, 7, 8, 9, 10, 11, 12, 13, 14, 15, 16, 17, 18, 19, 20, 21, 23], \"xaxis\": \"x\", \"y\": [53.95, 32.322, 29.18875, 43.03083333333333, 65.86999999999999, 96.042, 33.138125, 50.475, 39.41583333333333, 69.605, 28.40285714285714, 62.97333333333333, 58.288999999999994, 73.8275, 54.246, 52.25666666666667, 36.37000000000001, 21.71], \"yaxis\": \"y\", \"type\": \"bar\"}, {\"alignmentgroup\": \"True\", \"hovertemplate\": \"direction=up<br>floor=B1<br>Local Time (GMT+8)=%{x}<br>avgWait_weekend=%{y}<extra></extra>\", \"legendgroup\": \"up\", \"marker\": {\"color\": \"#EF553B\"}, \"name\": \"up\", \"offsetgroup\": \"up\", \"orientation\": \"v\", \"showlegend\": true, \"textposition\": \"auto\", \"x\": [0, 1, 2, 3, 4, 5, 6, 7, 8, 9, 10, 11, 12, 13, 14, 15, 16, 17, 18, 19, 20, 21, 22, 23], \"xaxis\": \"x2\", \"y\": [15.760000000000002, 4.3740000000000006, 6.9620000000000015, 10.1275, 8.245, 9.844666666666667, 28.860238095238103, 54.81061452513968, 67.26494318181818, 61.33326666666667, 69.13268456375839, 91.04565517241379, 93.88804878048781, 79.76855421686747, 70.81630136986301, 64.27181818181819, 67.3472549019608, 79.90323353293414, 76.9034375, 60.55710691823899, 44.342761194029855, 30.213835616438352, 20.64934782608696, 19.1364], \"yaxis\": \"y2\", \"type\": \"bar\"}], \"name\": \"B1\"}]);\n",
       "                        }).then(function(){\n",
       "                            \n",
       "var gd = document.getElementById('369971f4-f778-43fe-9e75-19d00dafa6d1');\n",
       "var x = new MutationObserver(function (mutations, observer) {{\n",
       "        var display = window.getComputedStyle(gd).display;\n",
       "        if (!display || display === 'none') {{\n",
       "            console.log([gd, 'removed!']);\n",
       "            Plotly.purge(gd);\n",
       "            observer.disconnect();\n",
       "        }}\n",
       "}});\n",
       "\n",
       "// Listen for the removal of the full notebook cells\n",
       "var notebookContainer = gd.closest('#notebook-container');\n",
       "if (notebookContainer) {{\n",
       "    x.observe(notebookContainer, {childList: true});\n",
       "}}\n",
       "\n",
       "// Listen for the clearing of the current output cell\n",
       "var outputEl = gd.closest('.output');\n",
       "if (outputEl) {{\n",
       "    x.observe(outputEl, {childList: true});\n",
       "}}\n",
       "\n",
       "                        })\n",
       "                };\n",
       "                });\n",
       "            </script>\n",
       "        </div>"
      ]
     },
     "metadata": {},
     "output_type": "display_data"
    }
   ],
   "source": [
    "df_s_weekend.floor.unique()\n",
    "\n",
    "fig = px.bar(data_frame=df_s_weekend, \n",
    "             x = \"hour\", y = \"avgWait_weekend\",\n",
    "             facet_col=\"direction\",color=\"direction\",\n",
    "             animation_frame=\"floor\",\n",
    "             labels={\"count\":\"avgWait_weekend\",\n",
    "                     \"hour\":\"Local Time (GMT+8)\"})\n",
    "# X axis\n",
    "fig.update_xaxes(nticks=len(floor_name),\n",
    "                 type=\"category\",\n",
    "                 categoryarray=[0,24])\n",
    "\n",
    "# Y axis\n",
    "fig.update_yaxes(range=[0, 300])\n",
    "\n",
    "# Layout\n",
    "fig.update_layout(title_text='Average waiting time of Elevator Calls by Time')\n",
    "\n",
    "fig.show()"
   ]
  }
 ],
 "metadata": {
  "kernelspec": {
   "display_name": "Python 3",
   "language": "python",
   "name": "python3"
  },
  "language_info": {
   "codemirror_mode": {
    "name": "ipython",
    "version": 3
   },
   "file_extension": ".py",
   "mimetype": "text/x-python",
   "name": "python",
   "nbconvert_exporter": "python",
   "pygments_lexer": "ipython3",
   "version": "3.7.6"
  }
 },
 "nbformat": 4,
 "nbformat_minor": 2
}
