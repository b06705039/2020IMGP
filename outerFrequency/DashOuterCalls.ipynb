{
 "cells": [
  {
   "cell_type": "code",
   "execution_count": 1,
   "metadata": {},
   "outputs": [
    {
     "data": {
      "text/html": [
       "        <script type=\"text/javascript\">\n",
       "        window.PlotlyConfig = {MathJaxConfig: 'local'};\n",
       "        if (window.MathJax) {MathJax.Hub.Config({SVG: {font: \"STIX-Web\"}});}\n",
       "        if (typeof require !== 'undefined') {\n",
       "        require.undef(\"plotly\");\n",
       "        requirejs.config({\n",
       "            paths: {\n",
       "                'plotly': ['https://cdn.plot.ly/plotly-latest.min']\n",
       "            }\n",
       "        });\n",
       "        require(['plotly'], function(Plotly) {\n",
       "            window._Plotly = Plotly;\n",
       "        });\n",
       "        }\n",
       "        </script>\n",
       "        "
      ]
     },
     "metadata": {},
     "output_type": "display_data"
    }
   ],
   "source": [
    "import pandas as pd\n",
    "import numpy as np\n",
    "import plotly\n",
    "from plotly.offline import download_plotlyjs, init_notebook_mode, plot, iplot\n",
    "init_notebook_mode(connected=True)"
   ]
  },
  {
   "cell_type": "markdown",
   "metadata": {},
   "source": [
    "# Plotly Express\n"
   ]
  },
  {
   "cell_type": "code",
   "execution_count": 2,
   "metadata": {},
   "outputs": [],
   "source": [
    "import plotly.express as px"
   ]
  },
  {
   "cell_type": "code",
   "execution_count": 3,
   "metadata": {},
   "outputs": [
    {
     "name": "stdout",
     "output_type": "stream",
     "text": [
      "   hour floor direction     week  count\n",
      "1     0    01      down  weekday     31\n",
      "2     1    01      down  weekday     17\n",
      "3     2    01      down  weekday      3\n",
      "4     3    01      down  weekday     11\n",
      "5     4    01      down  weekday     19\n",
      "      hour floor direction     week  count\n",
      "1724    19    B4        up  weekend     21\n",
      "1725    20    B4        up  weekend     16\n",
      "1726    21    B4        up  weekend     18\n",
      "1727    22    B4        up  weekend      1\n",
      "1728    23    B4        up  weekend      5\n"
     ]
    }
   ],
   "source": [
    "df_s = pd.read_csv('南棟客梯.csv',index_col = 0)  \n",
    "print(df_s.head())\n",
    "print(df_s.tail())"
   ]
  },
  {
   "cell_type": "markdown",
   "metadata": {},
   "source": [
    "plotly express 有點像是 ggplot in R，<br>\n",
    "只要指定x,y,color等就能自動幫你分類，<br>\n",
    "下面的圖表以南棟電梯的外部電梯呼叫資料為例，<br>\n",
    "x軸為樓層、以方向分開並上色，最後以時間(小時)作為動畫影格。"
   ]
  },
  {
   "cell_type": "code",
   "execution_count": 4,
   "metadata": {},
   "outputs": [
    {
     "data": {
      "application/vnd.plotly.v1+json": {
       "config": {
        "plotlyServerURL": "https://plot.ly"
       },
       "data": [
        {
         "alignmentgroup": "True",
         "hovertemplate": "direction=down<br>Local Time (GMT+8)=0<br>floor=%{x}<br>Frequency=%{y}<extra></extra>",
         "legendgroup": "down",
         "marker": {
          "color": "#636efa"
         },
         "name": "down",
         "offsetgroup": "down",
         "orientation": "v",
         "showlegend": true,
         "textposition": "auto",
         "type": "bar",
         "x": [
          "01",
          "02",
          "03",
          "04",
          "05",
          "06",
          "07",
          "08",
          "09",
          "10",
          "11",
          "12",
          "13",
          "14",
          "15",
          "B1",
          "B3",
          "B4",
          "01",
          "02",
          "03",
          "04",
          "05",
          "06",
          "07",
          "08",
          "09",
          "10",
          "11",
          "12",
          "13",
          "14",
          "15",
          "B1",
          "B3",
          "B4"
         ],
         "xaxis": "x",
         "y": [
          31,
          1,
          93,
          190,
          56,
          59,
          78,
          128,
          65,
          8,
          59,
          77,
          49,
          54,
          30,
          5,
          1,
          0,
          16,
          0,
          39,
          67,
          13,
          34,
          18,
          54,
          25,
          3,
          18,
          31,
          15,
          20,
          17,
          3,
          0,
          0
         ],
         "yaxis": "y"
        },
        {
         "alignmentgroup": "True",
         "hovertemplate": "direction=up<br>Local Time (GMT+8)=0<br>floor=%{x}<br>Frequency=%{y}<extra></extra>",
         "legendgroup": "up",
         "marker": {
          "color": "#EF553B"
         },
         "name": "up",
         "offsetgroup": "up",
         "orientation": "v",
         "showlegend": true,
         "textposition": "auto",
         "type": "bar",
         "x": [
          "01",
          "02",
          "03",
          "04",
          "05",
          "06",
          "07",
          "08",
          "09",
          "10",
          "11",
          "12",
          "13",
          "14",
          "15",
          "B1",
          "B3",
          "B4",
          "01",
          "02",
          "03",
          "04",
          "05",
          "06",
          "07",
          "08",
          "09",
          "10",
          "11",
          "12",
          "13",
          "14",
          "15",
          "B1",
          "B3",
          "B4"
         ],
         "xaxis": "x2",
         "y": [
          358,
          0,
          8,
          7,
          3,
          7,
          7,
          2,
          2,
          0,
          1,
          2,
          3,
          1,
          0,
          39,
          1,
          9,
          138,
          0,
          2,
          1,
          7,
          0,
          0,
          0,
          1,
          0,
          0,
          1,
          0,
          1,
          0,
          16,
          1,
          3
         ],
         "yaxis": "y2"
        }
       ],
       "frames": [
        {
         "data": [
          {
           "alignmentgroup": "True",
           "hovertemplate": "direction=down<br>Local Time (GMT+8)=0<br>floor=%{x}<br>Frequency=%{y}<extra></extra>",
           "legendgroup": "down",
           "marker": {
            "color": "#636efa"
           },
           "name": "down",
           "offsetgroup": "down",
           "orientation": "v",
           "showlegend": true,
           "textposition": "auto",
           "type": "bar",
           "x": [
            "01",
            "02",
            "03",
            "04",
            "05",
            "06",
            "07",
            "08",
            "09",
            "10",
            "11",
            "12",
            "13",
            "14",
            "15",
            "B1",
            "B3",
            "B4",
            "01",
            "02",
            "03",
            "04",
            "05",
            "06",
            "07",
            "08",
            "09",
            "10",
            "11",
            "12",
            "13",
            "14",
            "15",
            "B1",
            "B3",
            "B4"
           ],
           "xaxis": "x",
           "y": [
            31,
            1,
            93,
            190,
            56,
            59,
            78,
            128,
            65,
            8,
            59,
            77,
            49,
            54,
            30,
            5,
            1,
            0,
            16,
            0,
            39,
            67,
            13,
            34,
            18,
            54,
            25,
            3,
            18,
            31,
            15,
            20,
            17,
            3,
            0,
            0
           ],
           "yaxis": "y"
          },
          {
           "alignmentgroup": "True",
           "hovertemplate": "direction=up<br>Local Time (GMT+8)=0<br>floor=%{x}<br>Frequency=%{y}<extra></extra>",
           "legendgroup": "up",
           "marker": {
            "color": "#EF553B"
           },
           "name": "up",
           "offsetgroup": "up",
           "orientation": "v",
           "showlegend": true,
           "textposition": "auto",
           "type": "bar",
           "x": [
            "01",
            "02",
            "03",
            "04",
            "05",
            "06",
            "07",
            "08",
            "09",
            "10",
            "11",
            "12",
            "13",
            "14",
            "15",
            "B1",
            "B3",
            "B4",
            "01",
            "02",
            "03",
            "04",
            "05",
            "06",
            "07",
            "08",
            "09",
            "10",
            "11",
            "12",
            "13",
            "14",
            "15",
            "B1",
            "B3",
            "B4"
           ],
           "xaxis": "x2",
           "y": [
            358,
            0,
            8,
            7,
            3,
            7,
            7,
            2,
            2,
            0,
            1,
            2,
            3,
            1,
            0,
            39,
            1,
            9,
            138,
            0,
            2,
            1,
            7,
            0,
            0,
            0,
            1,
            0,
            0,
            1,
            0,
            1,
            0,
            16,
            1,
            3
           ],
           "yaxis": "y2"
          }
         ],
         "name": "0"
        },
        {
         "data": [
          {
           "alignmentgroup": "True",
           "hovertemplate": "direction=down<br>Local Time (GMT+8)=1<br>floor=%{x}<br>Frequency=%{y}<extra></extra>",
           "legendgroup": "down",
           "marker": {
            "color": "#636efa"
           },
           "name": "down",
           "offsetgroup": "down",
           "orientation": "v",
           "showlegend": true,
           "textposition": "auto",
           "type": "bar",
           "x": [
            "01",
            "02",
            "03",
            "04",
            "05",
            "06",
            "07",
            "08",
            "09",
            "10",
            "11",
            "12",
            "13",
            "14",
            "15",
            "B1",
            "B3",
            "B4",
            "01",
            "02",
            "03",
            "04",
            "05",
            "06",
            "07",
            "08",
            "09",
            "10",
            "11",
            "12",
            "13",
            "14",
            "15",
            "B1",
            "B3",
            "B4"
           ],
           "xaxis": "x",
           "y": [
            17,
            2,
            48,
            45,
            54,
            58,
            54,
            42,
            61,
            5,
            26,
            63,
            19,
            86,
            10,
            18,
            0,
            0,
            3,
            0,
            10,
            16,
            16,
            12,
            20,
            15,
            15,
            2,
            11,
            20,
            9,
            21,
            7,
            3,
            0,
            0
           ],
           "yaxis": "y"
          },
          {
           "alignmentgroup": "True",
           "hovertemplate": "direction=up<br>Local Time (GMT+8)=1<br>floor=%{x}<br>Frequency=%{y}<extra></extra>",
           "legendgroup": "up",
           "marker": {
            "color": "#EF553B"
           },
           "name": "up",
           "offsetgroup": "up",
           "orientation": "v",
           "showlegend": true,
           "textposition": "auto",
           "type": "bar",
           "x": [
            "01",
            "02",
            "03",
            "04",
            "05",
            "06",
            "07",
            "08",
            "09",
            "10",
            "11",
            "12",
            "13",
            "14",
            "15",
            "B1",
            "B3",
            "B4",
            "01",
            "02",
            "03",
            "04",
            "05",
            "06",
            "07",
            "08",
            "09",
            "10",
            "11",
            "12",
            "13",
            "14",
            "15",
            "B1",
            "B3",
            "B4"
           ],
           "xaxis": "x2",
           "y": [
            227,
            5,
            11,
            2,
            5,
            2,
            2,
            5,
            2,
            0,
            0,
            1,
            1,
            1,
            0,
            39,
            1,
            4,
            72,
            0,
            3,
            2,
            0,
            3,
            2,
            0,
            0,
            0,
            0,
            1,
            1,
            1,
            0,
            14,
            1,
            0
           ],
           "yaxis": "y2"
          }
         ],
         "name": "1"
        },
        {
         "data": [
          {
           "alignmentgroup": "True",
           "hovertemplate": "direction=down<br>Local Time (GMT+8)=2<br>floor=%{x}<br>Frequency=%{y}<extra></extra>",
           "legendgroup": "down",
           "marker": {
            "color": "#636efa"
           },
           "name": "down",
           "offsetgroup": "down",
           "orientation": "v",
           "showlegend": true,
           "textposition": "auto",
           "type": "bar",
           "x": [
            "01",
            "02",
            "03",
            "04",
            "05",
            "06",
            "07",
            "08",
            "09",
            "10",
            "11",
            "12",
            "13",
            "14",
            "15",
            "B1",
            "B3",
            "B4",
            "01",
            "02",
            "03",
            "04",
            "05",
            "06",
            "07",
            "08",
            "09",
            "10",
            "11",
            "12",
            "13",
            "14",
            "15",
            "B1",
            "B3",
            "B4"
           ],
           "xaxis": "x",
           "y": [
            3,
            1,
            16,
            11,
            33,
            21,
            49,
            25,
            12,
            4,
            11,
            35,
            19,
            20,
            0,
            1,
            0,
            0,
            2,
            0,
            3,
            5,
            5,
            5,
            23,
            6,
            8,
            1,
            7,
            19,
            5,
            11,
            2,
            0,
            0,
            0
           ],
           "yaxis": "y"
          },
          {
           "alignmentgroup": "True",
           "hovertemplate": "direction=up<br>Local Time (GMT+8)=2<br>floor=%{x}<br>Frequency=%{y}<extra></extra>",
           "legendgroup": "up",
           "marker": {
            "color": "#EF553B"
           },
           "name": "up",
           "offsetgroup": "up",
           "orientation": "v",
           "showlegend": true,
           "textposition": "auto",
           "type": "bar",
           "x": [
            "01",
            "02",
            "03",
            "04",
            "05",
            "06",
            "07",
            "08",
            "09",
            "10",
            "11",
            "12",
            "13",
            "14",
            "15",
            "B1",
            "B3",
            "B4",
            "01",
            "02",
            "03",
            "04",
            "05",
            "06",
            "07",
            "08",
            "09",
            "10",
            "11",
            "12",
            "13",
            "14",
            "15",
            "B1",
            "B3",
            "B4"
           ],
           "xaxis": "x2",
           "y": [
            123,
            1,
            5,
            3,
            5,
            3,
            0,
            0,
            1,
            1,
            1,
            0,
            0,
            0,
            0,
            18,
            0,
            4,
            50,
            0,
            7,
            1,
            2,
            0,
            0,
            0,
            0,
            0,
            0,
            0,
            1,
            0,
            0,
            11,
            0,
            0
           ],
           "yaxis": "y2"
          }
         ],
         "name": "2"
        },
        {
         "data": [
          {
           "alignmentgroup": "True",
           "hovertemplate": "direction=down<br>Local Time (GMT+8)=3<br>floor=%{x}<br>Frequency=%{y}<extra></extra>",
           "legendgroup": "down",
           "marker": {
            "color": "#636efa"
           },
           "name": "down",
           "offsetgroup": "down",
           "orientation": "v",
           "showlegend": true,
           "textposition": "auto",
           "type": "bar",
           "x": [
            "01",
            "02",
            "03",
            "04",
            "05",
            "06",
            "07",
            "08",
            "09",
            "10",
            "11",
            "12",
            "13",
            "14",
            "15",
            "B1",
            "B3",
            "B4",
            "01",
            "02",
            "03",
            "04",
            "05",
            "06",
            "07",
            "08",
            "09",
            "10",
            "11",
            "12",
            "13",
            "14",
            "15",
            "B1",
            "B3",
            "B4"
           ],
           "xaxis": "x",
           "y": [
            11,
            2,
            10,
            7,
            15,
            20,
            34,
            13,
            5,
            4,
            8,
            10,
            22,
            14,
            3,
            1,
            0,
            0,
            3,
            0,
            3,
            4,
            3,
            8,
            7,
            1,
            4,
            0,
            3,
            12,
            3,
            5,
            3,
            0,
            0,
            0
           ],
           "yaxis": "y"
          },
          {
           "alignmentgroup": "True",
           "hovertemplate": "direction=up<br>Local Time (GMT+8)=3<br>floor=%{x}<br>Frequency=%{y}<extra></extra>",
           "legendgroup": "up",
           "marker": {
            "color": "#EF553B"
           },
           "name": "up",
           "offsetgroup": "up",
           "orientation": "v",
           "showlegend": true,
           "textposition": "auto",
           "type": "bar",
           "x": [
            "01",
            "02",
            "03",
            "04",
            "05",
            "06",
            "07",
            "08",
            "09",
            "10",
            "11",
            "12",
            "13",
            "14",
            "15",
            "B1",
            "B3",
            "B4",
            "01",
            "02",
            "03",
            "04",
            "05",
            "06",
            "07",
            "08",
            "09",
            "10",
            "11",
            "12",
            "13",
            "14",
            "15",
            "B1",
            "B3",
            "B4"
           ],
           "xaxis": "x2",
           "y": [
            82,
            3,
            4,
            2,
            4,
            2,
            2,
            0,
            0,
            0,
            0,
            0,
            0,
            0,
            0,
            24,
            0,
            4,
            31,
            2,
            2,
            2,
            0,
            0,
            2,
            0,
            1,
            0,
            1,
            1,
            0,
            1,
            0,
            8,
            0,
            2
           ],
           "yaxis": "y2"
          }
         ],
         "name": "3"
        },
        {
         "data": [
          {
           "alignmentgroup": "True",
           "hovertemplate": "direction=down<br>Local Time (GMT+8)=4<br>floor=%{x}<br>Frequency=%{y}<extra></extra>",
           "legendgroup": "down",
           "marker": {
            "color": "#636efa"
           },
           "name": "down",
           "offsetgroup": "down",
           "orientation": "v",
           "showlegend": true,
           "textposition": "auto",
           "type": "bar",
           "x": [
            "01",
            "02",
            "03",
            "04",
            "05",
            "06",
            "07",
            "08",
            "09",
            "10",
            "11",
            "12",
            "13",
            "14",
            "15",
            "B1",
            "B3",
            "B4",
            "01",
            "02",
            "03",
            "04",
            "05",
            "06",
            "07",
            "08",
            "09",
            "10",
            "11",
            "12",
            "13",
            "14",
            "15",
            "B1",
            "B3",
            "B4"
           ],
           "xaxis": "x",
           "y": [
            19,
            4,
            9,
            7,
            13,
            23,
            20,
            17,
            12,
            3,
            7,
            18,
            18,
            17,
            0,
            0,
            0,
            0,
            6,
            0,
            3,
            7,
            3,
            6,
            7,
            4,
            4,
            2,
            2,
            9,
            3,
            4,
            0,
            0,
            0,
            0
           ],
           "yaxis": "y"
          },
          {
           "alignmentgroup": "True",
           "hovertemplate": "direction=up<br>Local Time (GMT+8)=4<br>floor=%{x}<br>Frequency=%{y}<extra></extra>",
           "legendgroup": "up",
           "marker": {
            "color": "#EF553B"
           },
           "name": "up",
           "offsetgroup": "up",
           "orientation": "v",
           "showlegend": true,
           "textposition": "auto",
           "type": "bar",
           "x": [
            "01",
            "02",
            "03",
            "04",
            "05",
            "06",
            "07",
            "08",
            "09",
            "10",
            "11",
            "12",
            "13",
            "14",
            "15",
            "B1",
            "B3",
            "B4",
            "01",
            "02",
            "03",
            "04",
            "05",
            "06",
            "07",
            "08",
            "09",
            "10",
            "11",
            "12",
            "13",
            "14",
            "15",
            "B1",
            "B3",
            "B4"
           ],
           "xaxis": "x2",
           "y": [
            115,
            0,
            5,
            3,
            3,
            1,
            4,
            0,
            0,
            0,
            0,
            0,
            0,
            0,
            0,
            27,
            2,
            4,
            36,
            0,
            3,
            1,
            2,
            0,
            0,
            0,
            0,
            0,
            0,
            0,
            0,
            0,
            0,
            5,
            1,
            2
           ],
           "yaxis": "y2"
          }
         ],
         "name": "4"
        },
        {
         "data": [
          {
           "alignmentgroup": "True",
           "hovertemplate": "direction=down<br>Local Time (GMT+8)=5<br>floor=%{x}<br>Frequency=%{y}<extra></extra>",
           "legendgroup": "down",
           "marker": {
            "color": "#636efa"
           },
           "name": "down",
           "offsetgroup": "down",
           "orientation": "v",
           "showlegend": true,
           "textposition": "auto",
           "type": "bar",
           "x": [
            "01",
            "02",
            "03",
            "04",
            "05",
            "06",
            "07",
            "08",
            "09",
            "10",
            "11",
            "12",
            "13",
            "14",
            "15",
            "B1",
            "B3",
            "B4",
            "01",
            "02",
            "03",
            "04",
            "05",
            "06",
            "07",
            "08",
            "09",
            "10",
            "11",
            "12",
            "13",
            "14",
            "15",
            "B1",
            "B3",
            "B4"
           ],
           "xaxis": "x",
           "y": [
            20,
            0,
            9,
            8,
            28,
            60,
            60,
            28,
            27,
            3,
            41,
            66,
            42,
            48,
            4,
            0,
            0,
            0,
            6,
            0,
            2,
            3,
            8,
            21,
            17,
            12,
            13,
            0,
            19,
            13,
            14,
            14,
            1,
            0,
            0,
            0
           ],
           "yaxis": "y"
          },
          {
           "alignmentgroup": "True",
           "hovertemplate": "direction=up<br>Local Time (GMT+8)=5<br>floor=%{x}<br>Frequency=%{y}<extra></extra>",
           "legendgroup": "up",
           "marker": {
            "color": "#EF553B"
           },
           "name": "up",
           "offsetgroup": "up",
           "orientation": "v",
           "showlegend": true,
           "textposition": "auto",
           "type": "bar",
           "x": [
            "01",
            "02",
            "03",
            "04",
            "05",
            "06",
            "07",
            "08",
            "09",
            "10",
            "11",
            "12",
            "13",
            "14",
            "15",
            "B1",
            "B3",
            "B4",
            "01",
            "02",
            "03",
            "04",
            "05",
            "06",
            "07",
            "08",
            "09",
            "10",
            "11",
            "12",
            "13",
            "14",
            "15",
            "B1",
            "B3",
            "B4"
           ],
           "xaxis": "x2",
           "y": [
            260,
            0,
            4,
            3,
            1,
            4,
            1,
            1,
            0,
            0,
            2,
            2,
            5,
            1,
            0,
            35,
            1,
            14,
            79,
            0,
            2,
            1,
            1,
            2,
            0,
            1,
            3,
            0,
            0,
            1,
            0,
            0,
            0,
            25,
            3,
            2
           ],
           "yaxis": "y2"
          }
         ],
         "name": "5"
        },
        {
         "data": [
          {
           "alignmentgroup": "True",
           "hovertemplate": "direction=down<br>Local Time (GMT+8)=6<br>floor=%{x}<br>Frequency=%{y}<extra></extra>",
           "legendgroup": "down",
           "marker": {
            "color": "#636efa"
           },
           "name": "down",
           "offsetgroup": "down",
           "orientation": "v",
           "showlegend": true,
           "textposition": "auto",
           "type": "bar",
           "x": [
            "01",
            "02",
            "03",
            "04",
            "05",
            "06",
            "07",
            "08",
            "09",
            "10",
            "11",
            "12",
            "13",
            "14",
            "15",
            "B1",
            "B3",
            "B4",
            "01",
            "02",
            "03",
            "04",
            "05",
            "06",
            "07",
            "08",
            "09",
            "10",
            "11",
            "12",
            "13",
            "14",
            "15",
            "B1",
            "B3",
            "B4"
           ],
           "xaxis": "x",
           "y": [
            102,
            19,
            111,
            23,
            83,
            216,
            195,
            155,
            103,
            0,
            146,
            129,
            173,
            209,
            6,
            40,
            1,
            0,
            24,
            4,
            23,
            16,
            25,
            63,
            46,
            49,
            43,
            0,
            62,
            28,
            44,
            65,
            6,
            5,
            0,
            0
           ],
           "yaxis": "y"
          },
          {
           "alignmentgroup": "True",
           "hovertemplate": "direction=up<br>Local Time (GMT+8)=6<br>floor=%{x}<br>Frequency=%{y}<extra></extra>",
           "legendgroup": "up",
           "marker": {
            "color": "#EF553B"
           },
           "name": "up",
           "offsetgroup": "up",
           "orientation": "v",
           "showlegend": true,
           "textposition": "auto",
           "type": "bar",
           "x": [
            "01",
            "02",
            "03",
            "04",
            "05",
            "06",
            "07",
            "08",
            "09",
            "10",
            "11",
            "12",
            "13",
            "14",
            "15",
            "B1",
            "B3",
            "B4",
            "01",
            "02",
            "03",
            "04",
            "05",
            "06",
            "07",
            "08",
            "09",
            "10",
            "11",
            "12",
            "13",
            "14",
            "15",
            "B1",
            "B3",
            "B4"
           ],
           "xaxis": "x2",
           "y": [
            971,
            0,
            9,
            11,
            16,
            66,
            6,
            7,
            5,
            3,
            3,
            7,
            13,
            14,
            0,
            381,
            33,
            81,
            299,
            1,
            0,
            3,
            3,
            18,
            0,
            3,
            0,
            0,
            0,
            1,
            6,
            0,
            0,
            140,
            3,
            7
           ],
           "yaxis": "y2"
          }
         ],
         "name": "6"
        },
        {
         "data": [
          {
           "alignmentgroup": "True",
           "hovertemplate": "direction=down<br>Local Time (GMT+8)=7<br>floor=%{x}<br>Frequency=%{y}<extra></extra>",
           "legendgroup": "down",
           "marker": {
            "color": "#636efa"
           },
           "name": "down",
           "offsetgroup": "down",
           "orientation": "v",
           "showlegend": true,
           "textposition": "auto",
           "type": "bar",
           "x": [
            "01",
            "02",
            "03",
            "04",
            "05",
            "06",
            "07",
            "08",
            "09",
            "10",
            "11",
            "12",
            "13",
            "14",
            "15",
            "B1",
            "B3",
            "B4",
            "01",
            "02",
            "03",
            "04",
            "05",
            "06",
            "07",
            "08",
            "09",
            "10",
            "11",
            "12",
            "13",
            "14",
            "15",
            "B1",
            "B3",
            "B4"
           ],
           "xaxis": "x",
           "y": [
            182,
            14,
            134,
            82,
            145,
            266,
            251,
            290,
            250,
            15,
            273,
            276,
            297,
            270,
            81,
            65,
            17,
            0,
            34,
            7,
            31,
            19,
            47,
            82,
            83,
            81,
            59,
            0,
            100,
            89,
            73,
            92,
            15,
            20,
            2,
            0
           ],
           "yaxis": "y"
          },
          {
           "alignmentgroup": "True",
           "hovertemplate": "direction=up<br>Local Time (GMT+8)=7<br>floor=%{x}<br>Frequency=%{y}<extra></extra>",
           "legendgroup": "up",
           "marker": {
            "color": "#EF553B"
           },
           "name": "up",
           "offsetgroup": "up",
           "orientation": "v",
           "showlegend": true,
           "textposition": "auto",
           "type": "bar",
           "x": [
            "01",
            "02",
            "03",
            "04",
            "05",
            "06",
            "07",
            "08",
            "09",
            "10",
            "11",
            "12",
            "13",
            "14",
            "15",
            "B1",
            "B3",
            "B4",
            "01",
            "02",
            "03",
            "04",
            "05",
            "06",
            "07",
            "08",
            "09",
            "10",
            "11",
            "12",
            "13",
            "14",
            "15",
            "B1",
            "B3",
            "B4"
           ],
           "xaxis": "x2",
           "y": [
            689,
            39,
            93,
            68,
            41,
            84,
            29,
            25,
            46,
            3,
            11,
            15,
            34,
            10,
            0,
            602,
            225,
            311,
            339,
            6,
            7,
            12,
            6,
            11,
            5,
            5,
            9,
            0,
            4,
            3,
            7,
            2,
            0,
            256,
            20,
            33
           ],
           "yaxis": "y2"
          }
         ],
         "name": "7"
        },
        {
         "data": [
          {
           "alignmentgroup": "True",
           "hovertemplate": "direction=down<br>Local Time (GMT+8)=8<br>floor=%{x}<br>Frequency=%{y}<extra></extra>",
           "legendgroup": "down",
           "marker": {
            "color": "#636efa"
           },
           "name": "down",
           "offsetgroup": "down",
           "orientation": "v",
           "showlegend": true,
           "textposition": "auto",
           "type": "bar",
           "x": [
            "01",
            "02",
            "03",
            "04",
            "05",
            "06",
            "07",
            "08",
            "09",
            "10",
            "11",
            "12",
            "13",
            "14",
            "15",
            "B1",
            "B3",
            "B4",
            "01",
            "02",
            "03",
            "04",
            "05",
            "06",
            "07",
            "08",
            "09",
            "10",
            "11",
            "12",
            "13",
            "14",
            "15",
            "B1",
            "B3",
            "B4"
           ],
           "xaxis": "x",
           "y": [
            212,
            32,
            225,
            194,
            192,
            334,
            295,
            354,
            365,
            53,
            363,
            286,
            322,
            294,
            139,
            98,
            15,
            0,
            42,
            0,
            45,
            53,
            53,
            90,
            79,
            96,
            109,
            7,
            88,
            110,
            110,
            92,
            31,
            12,
            0,
            0
           ],
           "yaxis": "y"
          },
          {
           "alignmentgroup": "True",
           "hovertemplate": "direction=up<br>Local Time (GMT+8)=8<br>floor=%{x}<br>Frequency=%{y}<extra></extra>",
           "legendgroup": "up",
           "marker": {
            "color": "#EF553B"
           },
           "name": "up",
           "offsetgroup": "up",
           "orientation": "v",
           "showlegend": true,
           "textposition": "auto",
           "type": "bar",
           "x": [
            "01",
            "02",
            "03",
            "04",
            "05",
            "06",
            "07",
            "08",
            "09",
            "10",
            "11",
            "12",
            "13",
            "14",
            "15",
            "B1",
            "B3",
            "B4",
            "01",
            "02",
            "03",
            "04",
            "05",
            "06",
            "07",
            "08",
            "09",
            "10",
            "11",
            "12",
            "13",
            "14",
            "15",
            "B1",
            "B3",
            "B4"
           ],
           "xaxis": "x2",
           "y": [
            642,
            66,
            146,
            106,
            52,
            50,
            39,
            20,
            27,
            10,
            8,
            13,
            7,
            16,
            0,
            567,
            179,
            286,
            302,
            2,
            17,
            11,
            12,
            3,
            6,
            3,
            3,
            0,
            1,
            5,
            4,
            2,
            0,
            224,
            18,
            44
           ],
           "yaxis": "y2"
          }
         ],
         "name": "8"
        },
        {
         "data": [
          {
           "alignmentgroup": "True",
           "hovertemplate": "direction=down<br>Local Time (GMT+8)=9<br>floor=%{x}<br>Frequency=%{y}<extra></extra>",
           "legendgroup": "down",
           "marker": {
            "color": "#636efa"
           },
           "name": "down",
           "offsetgroup": "down",
           "orientation": "v",
           "showlegend": true,
           "textposition": "auto",
           "type": "bar",
           "x": [
            "01",
            "02",
            "03",
            "04",
            "05",
            "06",
            "07",
            "08",
            "09",
            "10",
            "11",
            "12",
            "13",
            "14",
            "15",
            "B1",
            "B3",
            "B4",
            "01",
            "02",
            "03",
            "04",
            "05",
            "06",
            "07",
            "08",
            "09",
            "10",
            "11",
            "12",
            "13",
            "14",
            "15",
            "B1",
            "B3",
            "B4"
           ],
           "xaxis": "x",
           "y": [
            176,
            57,
            197,
            196,
            239,
            309,
            287,
            312,
            313,
            144,
            303,
            301,
            332,
            323,
            164,
            100,
            18,
            0,
            32,
            5,
            50,
            27,
            64,
            110,
            102,
            99,
            100,
            2,
            102,
            91,
            115,
            128,
            31,
            16,
            0,
            0
           ],
           "yaxis": "y"
          },
          {
           "alignmentgroup": "True",
           "hovertemplate": "direction=up<br>Local Time (GMT+8)=9<br>floor=%{x}<br>Frequency=%{y}<extra></extra>",
           "legendgroup": "up",
           "marker": {
            "color": "#EF553B"
           },
           "name": "up",
           "offsetgroup": "up",
           "orientation": "v",
           "showlegend": true,
           "textposition": "auto",
           "type": "bar",
           "x": [
            "01",
            "02",
            "03",
            "04",
            "05",
            "06",
            "07",
            "08",
            "09",
            "10",
            "11",
            "12",
            "13",
            "14",
            "15",
            "B1",
            "B3",
            "B4",
            "01",
            "02",
            "03",
            "04",
            "05",
            "06",
            "07",
            "08",
            "09",
            "10",
            "11",
            "12",
            "13",
            "14",
            "15",
            "B1",
            "B3",
            "B4"
           ],
           "xaxis": "x2",
           "y": [
            572,
            125,
            135,
            186,
            90,
            43,
            65,
            47,
            44,
            12,
            14,
            12,
            21,
            10,
            0,
            460,
            161,
            242,
            305,
            0,
            16,
            11,
            14,
            6,
            7,
            8,
            14,
            0,
            2,
            4,
            2,
            2,
            0,
            221,
            13,
            56
           ],
           "yaxis": "y2"
          }
         ],
         "name": "9"
        },
        {
         "data": [
          {
           "alignmentgroup": "True",
           "hovertemplate": "direction=down<br>Local Time (GMT+8)=10<br>floor=%{x}<br>Frequency=%{y}<extra></extra>",
           "legendgroup": "down",
           "marker": {
            "color": "#636efa"
           },
           "name": "down",
           "offsetgroup": "down",
           "orientation": "v",
           "showlegend": true,
           "textposition": "auto",
           "type": "bar",
           "x": [
            "01",
            "02",
            "03",
            "04",
            "05",
            "06",
            "07",
            "08",
            "09",
            "10",
            "11",
            "12",
            "13",
            "14",
            "15",
            "B1",
            "B3",
            "B4",
            "01",
            "02",
            "03",
            "04",
            "05",
            "06",
            "07",
            "08",
            "09",
            "10",
            "11",
            "12",
            "13",
            "14",
            "15",
            "B1",
            "B3",
            "B4"
           ],
           "xaxis": "x",
           "y": [
            203,
            53,
            224,
            199,
            232,
            312,
            289,
            301,
            293,
            163,
            283,
            286,
            307,
            302,
            148,
            105,
            31,
            0,
            35,
            3,
            39,
            27,
            70,
            115,
            109,
            131,
            120,
            8,
            123,
            102,
            96,
            110,
            29,
            12,
            0,
            0
           ],
           "yaxis": "y"
          },
          {
           "alignmentgroup": "True",
           "hovertemplate": "direction=up<br>Local Time (GMT+8)=10<br>floor=%{x}<br>Frequency=%{y}<extra></extra>",
           "legendgroup": "up",
           "marker": {
            "color": "#EF553B"
           },
           "name": "up",
           "offsetgroup": "up",
           "orientation": "v",
           "showlegend": true,
           "textposition": "auto",
           "type": "bar",
           "x": [
            "01",
            "02",
            "03",
            "04",
            "05",
            "06",
            "07",
            "08",
            "09",
            "10",
            "11",
            "12",
            "13",
            "14",
            "15",
            "B1",
            "B3",
            "B4",
            "01",
            "02",
            "03",
            "04",
            "05",
            "06",
            "07",
            "08",
            "09",
            "10",
            "11",
            "12",
            "13",
            "14",
            "15",
            "B1",
            "B3",
            "B4"
           ],
           "xaxis": "x2",
           "y": [
            494,
            90,
            148,
            128,
            81,
            83,
            75,
            80,
            35,
            28,
            29,
            37,
            11,
            8,
            0,
            411,
            113,
            257,
            283,
            2,
            14,
            15,
            10,
            11,
            14,
            6,
            6,
            1,
            5,
            3,
            5,
            1,
            0,
            196,
            25,
            28
           ],
           "yaxis": "y2"
          }
         ],
         "name": "10"
        },
        {
         "data": [
          {
           "alignmentgroup": "True",
           "hovertemplate": "direction=down<br>Local Time (GMT+8)=11<br>floor=%{x}<br>Frequency=%{y}<extra></extra>",
           "legendgroup": "down",
           "marker": {
            "color": "#636efa"
           },
           "name": "down",
           "offsetgroup": "down",
           "orientation": "v",
           "showlegend": true,
           "textposition": "auto",
           "type": "bar",
           "x": [
            "01",
            "02",
            "03",
            "04",
            "05",
            "06",
            "07",
            "08",
            "09",
            "10",
            "11",
            "12",
            "13",
            "14",
            "15",
            "B1",
            "B3",
            "B4",
            "01",
            "02",
            "03",
            "04",
            "05",
            "06",
            "07",
            "08",
            "09",
            "10",
            "11",
            "12",
            "13",
            "14",
            "15",
            "B1",
            "B3",
            "B4"
           ],
           "xaxis": "x",
           "y": [
            219,
            63,
            227,
            207,
            195,
            232,
            281,
            288,
            286,
            150,
            289,
            322,
            333,
            340,
            204,
            129,
            29,
            0,
            34,
            3,
            83,
            69,
            71,
            130,
            146,
            137,
            130,
            10,
            131,
            130,
            124,
            118,
            62,
            19,
            3,
            0
           ],
           "yaxis": "y"
          },
          {
           "alignmentgroup": "True",
           "hovertemplate": "direction=up<br>Local Time (GMT+8)=11<br>floor=%{x}<br>Frequency=%{y}<extra></extra>",
           "legendgroup": "up",
           "marker": {
            "color": "#EF553B"
           },
           "name": "up",
           "offsetgroup": "up",
           "orientation": "v",
           "showlegend": true,
           "textposition": "auto",
           "type": "bar",
           "x": [
            "01",
            "02",
            "03",
            "04",
            "05",
            "06",
            "07",
            "08",
            "09",
            "10",
            "11",
            "12",
            "13",
            "14",
            "15",
            "B1",
            "B3",
            "B4",
            "01",
            "02",
            "03",
            "04",
            "05",
            "06",
            "07",
            "08",
            "09",
            "10",
            "11",
            "12",
            "13",
            "14",
            "15",
            "B1",
            "B3",
            "B4"
           ],
           "xaxis": "x2",
           "y": [
            427,
            110,
            157,
            146,
            82,
            81,
            89,
            62,
            45,
            32,
            28,
            48,
            33,
            13,
            0,
            469,
            108,
            264,
            228,
            9,
            18,
            26,
            16,
            10,
            6,
            9,
            13,
            0,
            11,
            9,
            5,
            5,
            0,
            205,
            40,
            34
           ],
           "yaxis": "y2"
          }
         ],
         "name": "11"
        },
        {
         "data": [
          {
           "alignmentgroup": "True",
           "hovertemplate": "direction=down<br>Local Time (GMT+8)=12<br>floor=%{x}<br>Frequency=%{y}<extra></extra>",
           "legendgroup": "down",
           "marker": {
            "color": "#636efa"
           },
           "name": "down",
           "offsetgroup": "down",
           "orientation": "v",
           "showlegend": true,
           "textposition": "auto",
           "type": "bar",
           "x": [
            "01",
            "02",
            "03",
            "04",
            "05",
            "06",
            "07",
            "08",
            "09",
            "10",
            "11",
            "12",
            "13",
            "14",
            "15",
            "B1",
            "B3",
            "B4",
            "01",
            "02",
            "03",
            "04",
            "05",
            "06",
            "07",
            "08",
            "09",
            "10",
            "11",
            "12",
            "13",
            "14",
            "15",
            "B1",
            "B3",
            "B4"
           ],
           "xaxis": "x",
           "y": [
            196,
            42,
            210,
            221,
            203,
            249,
            286,
            302,
            290,
            154,
            306,
            341,
            349,
            354,
            204,
            134,
            28,
            0,
            36,
            3,
            86,
            97,
            87,
            117,
            143,
            129,
            135,
            11,
            119,
            125,
            112,
            129,
            30,
            30,
            3,
            0
           ],
           "yaxis": "y"
          },
          {
           "alignmentgroup": "True",
           "hovertemplate": "direction=up<br>Local Time (GMT+8)=12<br>floor=%{x}<br>Frequency=%{y}<extra></extra>",
           "legendgroup": "up",
           "marker": {
            "color": "#EF553B"
           },
           "name": "up",
           "offsetgroup": "up",
           "orientation": "v",
           "showlegend": true,
           "textposition": "auto",
           "type": "bar",
           "x": [
            "01",
            "02",
            "03",
            "04",
            "05",
            "06",
            "07",
            "08",
            "09",
            "10",
            "11",
            "12",
            "13",
            "14",
            "15",
            "B1",
            "B3",
            "B4",
            "01",
            "02",
            "03",
            "04",
            "05",
            "06",
            "07",
            "08",
            "09",
            "10",
            "11",
            "12",
            "13",
            "14",
            "15",
            "B1",
            "B3",
            "B4"
           ],
           "xaxis": "x2",
           "y": [
            471,
            89,
            125,
            95,
            81,
            61,
            105,
            50,
            27,
            15,
            14,
            27,
            13,
            14,
            0,
            499,
            117,
            200,
            252,
            3,
            26,
            19,
            15,
            9,
            20,
            8,
            11,
            2,
            5,
            3,
            2,
            2,
            0,
            221,
            15,
            32
           ],
           "yaxis": "y2"
          }
         ],
         "name": "12"
        },
        {
         "data": [
          {
           "alignmentgroup": "True",
           "hovertemplate": "direction=down<br>Local Time (GMT+8)=13<br>floor=%{x}<br>Frequency=%{y}<extra></extra>",
           "legendgroup": "down",
           "marker": {
            "color": "#636efa"
           },
           "name": "down",
           "offsetgroup": "down",
           "orientation": "v",
           "showlegend": true,
           "textposition": "auto",
           "type": "bar",
           "x": [
            "01",
            "02",
            "03",
            "04",
            "05",
            "06",
            "07",
            "08",
            "09",
            "10",
            "11",
            "12",
            "13",
            "14",
            "15",
            "B1",
            "B3",
            "B4",
            "01",
            "02",
            "03",
            "04",
            "05",
            "06",
            "07",
            "08",
            "09",
            "10",
            "11",
            "12",
            "13",
            "14",
            "15",
            "B1",
            "B3",
            "B4"
           ],
           "xaxis": "x",
           "y": [
            197,
            69,
            223,
            193,
            220,
            262,
            311,
            322,
            298,
            158,
            336,
            362,
            333,
            321,
            165,
            142,
            17,
            0,
            41,
            4,
            59,
            39,
            53,
            93,
            123,
            118,
            94,
            8,
            102,
            105,
            80,
            112,
            23,
            16,
            1,
            0
           ],
           "yaxis": "y"
          },
          {
           "alignmentgroup": "True",
           "hovertemplate": "direction=up<br>Local Time (GMT+8)=13<br>floor=%{x}<br>Frequency=%{y}<extra></extra>",
           "legendgroup": "up",
           "marker": {
            "color": "#EF553B"
           },
           "name": "up",
           "offsetgroup": "up",
           "orientation": "v",
           "showlegend": true,
           "textposition": "auto",
           "type": "bar",
           "x": [
            "01",
            "02",
            "03",
            "04",
            "05",
            "06",
            "07",
            "08",
            "09",
            "10",
            "11",
            "12",
            "13",
            "14",
            "15",
            "B1",
            "B3",
            "B4",
            "01",
            "02",
            "03",
            "04",
            "05",
            "06",
            "07",
            "08",
            "09",
            "10",
            "11",
            "12",
            "13",
            "14",
            "15",
            "B1",
            "B3",
            "B4"
           ],
           "xaxis": "x2",
           "y": [
            503,
            102,
            180,
            149,
            92,
            49,
            88,
            50,
            33,
            26,
            23,
            29,
            20,
            20,
            0,
            454,
            103,
            251,
            292,
            0,
            30,
            8,
            15,
            10,
            13,
            5,
            6,
            2,
            9,
            5,
            2,
            4,
            0,
            235,
            19,
            37
           ],
           "yaxis": "y2"
          }
         ],
         "name": "13"
        },
        {
         "data": [
          {
           "alignmentgroup": "True",
           "hovertemplate": "direction=down<br>Local Time (GMT+8)=14<br>floor=%{x}<br>Frequency=%{y}<extra></extra>",
           "legendgroup": "down",
           "marker": {
            "color": "#636efa"
           },
           "name": "down",
           "offsetgroup": "down",
           "orientation": "v",
           "showlegend": true,
           "textposition": "auto",
           "type": "bar",
           "x": [
            "01",
            "02",
            "03",
            "04",
            "05",
            "06",
            "07",
            "08",
            "09",
            "10",
            "11",
            "12",
            "13",
            "14",
            "15",
            "B1",
            "B3",
            "B4",
            "01",
            "02",
            "03",
            "04",
            "05",
            "06",
            "07",
            "08",
            "09",
            "10",
            "11",
            "12",
            "13",
            "14",
            "15",
            "B1",
            "B3",
            "B4"
           ],
           "xaxis": "x",
           "y": [
            185,
            54,
            236,
            259,
            240,
            275,
            305,
            300,
            300,
            179,
            272,
            314,
            331,
            307,
            149,
            124,
            26,
            0,
            29,
            0,
            67,
            69,
            58,
            113,
            117,
            108,
            106,
            5,
            112,
            115,
            99,
            98,
            30,
            13,
            4,
            0
           ],
           "yaxis": "y"
          },
          {
           "alignmentgroup": "True",
           "hovertemplate": "direction=up<br>Local Time (GMT+8)=14<br>floor=%{x}<br>Frequency=%{y}<extra></extra>",
           "legendgroup": "up",
           "marker": {
            "color": "#EF553B"
           },
           "name": "up",
           "offsetgroup": "up",
           "orientation": "v",
           "showlegend": true,
           "textposition": "auto",
           "type": "bar",
           "x": [
            "01",
            "02",
            "03",
            "04",
            "05",
            "06",
            "07",
            "08",
            "09",
            "10",
            "11",
            "12",
            "13",
            "14",
            "15",
            "B1",
            "B3",
            "B4",
            "01",
            "02",
            "03",
            "04",
            "05",
            "06",
            "07",
            "08",
            "09",
            "10",
            "11",
            "12",
            "13",
            "14",
            "15",
            "B1",
            "B3",
            "B4"
           ],
           "xaxis": "x2",
           "y": [
            527,
            84,
            183,
            192,
            120,
            101,
            69,
            70,
            39,
            19,
            20,
            28,
            12,
            17,
            0,
            461,
            89,
            287,
            292,
            6,
            27,
            13,
            25,
            9,
            13,
            8,
            11,
            0,
            1,
            4,
            3,
            1,
            0,
            205,
            36,
            42
           ],
           "yaxis": "y2"
          }
         ],
         "name": "14"
        },
        {
         "data": [
          {
           "alignmentgroup": "True",
           "hovertemplate": "direction=down<br>Local Time (GMT+8)=15<br>floor=%{x}<br>Frequency=%{y}<extra></extra>",
           "legendgroup": "down",
           "marker": {
            "color": "#636efa"
           },
           "name": "down",
           "offsetgroup": "down",
           "orientation": "v",
           "showlegend": true,
           "textposition": "auto",
           "type": "bar",
           "x": [
            "01",
            "02",
            "03",
            "04",
            "05",
            "06",
            "07",
            "08",
            "09",
            "10",
            "11",
            "12",
            "13",
            "14",
            "15",
            "B1",
            "B3",
            "B4",
            "01",
            "02",
            "03",
            "04",
            "05",
            "06",
            "07",
            "08",
            "09",
            "10",
            "11",
            "12",
            "13",
            "14",
            "15",
            "B1",
            "B3",
            "B4"
           ],
           "xaxis": "x",
           "y": [
            202,
            63,
            293,
            296,
            230,
            315,
            314,
            313,
            322,
            204,
            306,
            330,
            334,
            342,
            186,
            101,
            37,
            0,
            52,
            0,
            106,
            93,
            65,
            106,
            110,
            125,
            99,
            9,
            102,
            102,
            106,
            92,
            27,
            10,
            1,
            0
           ],
           "yaxis": "y"
          },
          {
           "alignmentgroup": "True",
           "hovertemplate": "direction=up<br>Local Time (GMT+8)=15<br>floor=%{x}<br>Frequency=%{y}<extra></extra>",
           "legendgroup": "up",
           "marker": {
            "color": "#EF553B"
           },
           "name": "up",
           "offsetgroup": "up",
           "orientation": "v",
           "showlegend": true,
           "textposition": "auto",
           "type": "bar",
           "x": [
            "01",
            "02",
            "03",
            "04",
            "05",
            "06",
            "07",
            "08",
            "09",
            "10",
            "11",
            "12",
            "13",
            "14",
            "15",
            "B1",
            "B3",
            "B4",
            "01",
            "02",
            "03",
            "04",
            "05",
            "06",
            "07",
            "08",
            "09",
            "10",
            "11",
            "12",
            "13",
            "14",
            "15",
            "B1",
            "B3",
            "B4"
           ],
           "xaxis": "x2",
           "y": [
            538,
            106,
            175,
            146,
            106,
            85,
            91,
            76,
            55,
            34,
            22,
            32,
            18,
            5,
            0,
            440,
            116,
            299,
            306,
            3,
            17,
            11,
            12,
            4,
            13,
            9,
            6,
            1,
            2,
            8,
            6,
            5,
            0,
            184,
            13,
            33
           ],
           "yaxis": "y2"
          }
         ],
         "name": "15"
        },
        {
         "data": [
          {
           "alignmentgroup": "True",
           "hovertemplate": "direction=down<br>Local Time (GMT+8)=16<br>floor=%{x}<br>Frequency=%{y}<extra></extra>",
           "legendgroup": "down",
           "marker": {
            "color": "#636efa"
           },
           "name": "down",
           "offsetgroup": "down",
           "orientation": "v",
           "showlegend": true,
           "textposition": "auto",
           "type": "bar",
           "x": [
            "01",
            "02",
            "03",
            "04",
            "05",
            "06",
            "07",
            "08",
            "09",
            "10",
            "11",
            "12",
            "13",
            "14",
            "15",
            "B1",
            "B3",
            "B4",
            "01",
            "02",
            "03",
            "04",
            "05",
            "06",
            "07",
            "08",
            "09",
            "10",
            "11",
            "12",
            "13",
            "14",
            "15",
            "B1",
            "B3",
            "B4"
           ],
           "xaxis": "x",
           "y": [
            206,
            60,
            275,
            306,
            264,
            307,
            316,
            366,
            327,
            177,
            320,
            339,
            369,
            363,
            204,
            132,
            37,
            0,
            34,
            2,
            68,
            60,
            80,
            113,
            123,
            147,
            142,
            21,
            111,
            131,
            116,
            114,
            56,
            15,
            0,
            0
           ],
           "yaxis": "y"
          },
          {
           "alignmentgroup": "True",
           "hovertemplate": "direction=up<br>Local Time (GMT+8)=16<br>floor=%{x}<br>Frequency=%{y}<extra></extra>",
           "legendgroup": "up",
           "marker": {
            "color": "#EF553B"
           },
           "name": "up",
           "offsetgroup": "up",
           "orientation": "v",
           "showlegend": true,
           "textposition": "auto",
           "type": "bar",
           "x": [
            "01",
            "02",
            "03",
            "04",
            "05",
            "06",
            "07",
            "08",
            "09",
            "10",
            "11",
            "12",
            "13",
            "14",
            "15",
            "B1",
            "B3",
            "B4",
            "01",
            "02",
            "03",
            "04",
            "05",
            "06",
            "07",
            "08",
            "09",
            "10",
            "11",
            "12",
            "13",
            "14",
            "15",
            "B1",
            "B3",
            "B4"
           ],
           "xaxis": "x2",
           "y": [
            542,
            117,
            155,
            165,
            115,
            83,
            86,
            65,
            59,
            40,
            18,
            20,
            28,
            21,
            0,
            463,
            90,
            302,
            285,
            7,
            14,
            12,
            10,
            13,
            8,
            13,
            17,
            2,
            1,
            5,
            1,
            4,
            0,
            194,
            13,
            38
           ],
           "yaxis": "y2"
          }
         ],
         "name": "16"
        },
        {
         "data": [
          {
           "alignmentgroup": "True",
           "hovertemplate": "direction=down<br>Local Time (GMT+8)=17<br>floor=%{x}<br>Frequency=%{y}<extra></extra>",
           "legendgroup": "down",
           "marker": {
            "color": "#636efa"
           },
           "name": "down",
           "offsetgroup": "down",
           "orientation": "v",
           "showlegend": true,
           "textposition": "auto",
           "type": "bar",
           "x": [
            "01",
            "02",
            "03",
            "04",
            "05",
            "06",
            "07",
            "08",
            "09",
            "10",
            "11",
            "12",
            "13",
            "14",
            "15",
            "B1",
            "B3",
            "B4",
            "01",
            "02",
            "03",
            "04",
            "05",
            "06",
            "07",
            "08",
            "09",
            "10",
            "11",
            "12",
            "13",
            "14",
            "15",
            "B1",
            "B3",
            "B4"
           ],
           "xaxis": "x",
           "y": [
            163,
            32,
            284,
            189,
            264,
            305,
            340,
            371,
            368,
            221,
            381,
            403,
            405,
            409,
            224,
            121,
            8,
            0,
            46,
            3,
            75,
            40,
            69,
            128,
            154,
            135,
            143,
            9,
            138,
            146,
            121,
            119,
            45,
            16,
            0,
            0
           ],
           "yaxis": "y"
          },
          {
           "alignmentgroup": "True",
           "hovertemplate": "direction=up<br>Local Time (GMT+8)=17<br>floor=%{x}<br>Frequency=%{y}<extra></extra>",
           "legendgroup": "up",
           "marker": {
            "color": "#EF553B"
           },
           "name": "up",
           "offsetgroup": "up",
           "orientation": "v",
           "showlegend": true,
           "textposition": "auto",
           "type": "bar",
           "x": [
            "01",
            "02",
            "03",
            "04",
            "05",
            "06",
            "07",
            "08",
            "09",
            "10",
            "11",
            "12",
            "13",
            "14",
            "15",
            "B1",
            "B3",
            "B4",
            "01",
            "02",
            "03",
            "04",
            "05",
            "06",
            "07",
            "08",
            "09",
            "10",
            "11",
            "12",
            "13",
            "14",
            "15",
            "B1",
            "B3",
            "B4"
           ],
           "xaxis": "x2",
           "y": [
            574,
            71,
            143,
            116,
            89,
            57,
            82,
            32,
            42,
            36,
            20,
            20,
            17,
            14,
            0,
            535,
            69,
            270,
            256,
            1,
            25,
            8,
            11,
            12,
            11,
            5,
            12,
            0,
            2,
            6,
            4,
            3,
            0,
            220,
            8,
            29
           ],
           "yaxis": "y2"
          }
         ],
         "name": "17"
        },
        {
         "data": [
          {
           "alignmentgroup": "True",
           "hovertemplate": "direction=down<br>Local Time (GMT+8)=18<br>floor=%{x}<br>Frequency=%{y}<extra></extra>",
           "legendgroup": "down",
           "marker": {
            "color": "#636efa"
           },
           "name": "down",
           "offsetgroup": "down",
           "orientation": "v",
           "showlegend": true,
           "textposition": "auto",
           "type": "bar",
           "x": [
            "01",
            "02",
            "03",
            "04",
            "05",
            "06",
            "07",
            "08",
            "09",
            "10",
            "11",
            "12",
            "13",
            "14",
            "15",
            "B1",
            "B3",
            "B4",
            "01",
            "02",
            "03",
            "04",
            "05",
            "06",
            "07",
            "08",
            "09",
            "10",
            "11",
            "12",
            "13",
            "14",
            "15",
            "B1",
            "B3",
            "B4"
           ],
           "xaxis": "x",
           "y": [
            136,
            33,
            240,
            141,
            261,
            349,
            369,
            389,
            391,
            151,
            380,
            398,
            391,
            402,
            114,
            71,
            2,
            0,
            43,
            1,
            63,
            28,
            67,
            117,
            138,
            130,
            135,
            10,
            127,
            135,
            111,
            129,
            25,
            20,
            0,
            0
           ],
           "yaxis": "y"
          },
          {
           "alignmentgroup": "True",
           "hovertemplate": "direction=up<br>Local Time (GMT+8)=18<br>floor=%{x}<br>Frequency=%{y}<extra></extra>",
           "legendgroup": "up",
           "marker": {
            "color": "#EF553B"
           },
           "name": "up",
           "offsetgroup": "up",
           "orientation": "v",
           "showlegend": true,
           "textposition": "auto",
           "type": "bar",
           "x": [
            "01",
            "02",
            "03",
            "04",
            "05",
            "06",
            "07",
            "08",
            "09",
            "10",
            "11",
            "12",
            "13",
            "14",
            "15",
            "B1",
            "B3",
            "B4",
            "01",
            "02",
            "03",
            "04",
            "05",
            "06",
            "07",
            "08",
            "09",
            "10",
            "11",
            "12",
            "13",
            "14",
            "15",
            "B1",
            "B3",
            "B4"
           ],
           "xaxis": "x2",
           "y": [
            611,
            27,
            86,
            56,
            80,
            36,
            60,
            29,
            22,
            12,
            6,
            10,
            9,
            4,
            0,
            558,
            45,
            161,
            265,
            0,
            8,
            5,
            12,
            11,
            10,
            5,
            6,
            0,
            5,
            5,
            4,
            1,
            0,
            231,
            5,
            24
           ],
           "yaxis": "y2"
          }
         ],
         "name": "18"
        },
        {
         "data": [
          {
           "alignmentgroup": "True",
           "hovertemplate": "direction=down<br>Local Time (GMT+8)=19<br>floor=%{x}<br>Frequency=%{y}<extra></extra>",
           "legendgroup": "down",
           "marker": {
            "color": "#636efa"
           },
           "name": "down",
           "offsetgroup": "down",
           "orientation": "v",
           "showlegend": true,
           "textposition": "auto",
           "type": "bar",
           "x": [
            "01",
            "02",
            "03",
            "04",
            "05",
            "06",
            "07",
            "08",
            "09",
            "10",
            "11",
            "12",
            "13",
            "14",
            "15",
            "B1",
            "B3",
            "B4",
            "01",
            "02",
            "03",
            "04",
            "05",
            "06",
            "07",
            "08",
            "09",
            "10",
            "11",
            "12",
            "13",
            "14",
            "15",
            "B1",
            "B3",
            "B4"
           ],
           "xaxis": "x",
           "y": [
            120,
            23,
            211,
            131,
            271,
            339,
            411,
            383,
            364,
            104,
            341,
            339,
            346,
            372,
            93,
            64,
            4,
            0,
            40,
            1,
            65,
            38,
            58,
            111,
            136,
            119,
            102,
            5,
            103,
            96,
            96,
            110,
            15,
            13,
            0,
            0
           ],
           "yaxis": "y"
          },
          {
           "alignmentgroup": "True",
           "hovertemplate": "direction=up<br>Local Time (GMT+8)=19<br>floor=%{x}<br>Frequency=%{y}<extra></extra>",
           "legendgroup": "up",
           "marker": {
            "color": "#EF553B"
           },
           "name": "up",
           "offsetgroup": "up",
           "orientation": "v",
           "showlegend": true,
           "textposition": "auto",
           "type": "bar",
           "x": [
            "01",
            "02",
            "03",
            "04",
            "05",
            "06",
            "07",
            "08",
            "09",
            "10",
            "11",
            "12",
            "13",
            "14",
            "15",
            "B1",
            "B3",
            "B4",
            "01",
            "02",
            "03",
            "04",
            "05",
            "06",
            "07",
            "08",
            "09",
            "10",
            "11",
            "12",
            "13",
            "14",
            "15",
            "B1",
            "B3",
            "B4"
           ],
           "xaxis": "x2",
           "y": [
            681,
            7,
            82,
            41,
            70,
            29,
            45,
            19,
            13,
            18,
            9,
            12,
            12,
            6,
            0,
            533,
            45,
            100,
            311,
            0,
            18,
            3,
            13,
            12,
            8,
            7,
            6,
            1,
            2,
            5,
            6,
            2,
            0,
            217,
            5,
            21
           ],
           "yaxis": "y2"
          }
         ],
         "name": "19"
        },
        {
         "data": [
          {
           "alignmentgroup": "True",
           "hovertemplate": "direction=down<br>Local Time (GMT+8)=20<br>floor=%{x}<br>Frequency=%{y}<extra></extra>",
           "legendgroup": "down",
           "marker": {
            "color": "#636efa"
           },
           "name": "down",
           "offsetgroup": "down",
           "orientation": "v",
           "showlegend": true,
           "textposition": "auto",
           "type": "bar",
           "x": [
            "01",
            "02",
            "03",
            "04",
            "05",
            "06",
            "07",
            "08",
            "09",
            "10",
            "11",
            "12",
            "13",
            "14",
            "15",
            "B1",
            "B3",
            "B4",
            "01",
            "02",
            "03",
            "04",
            "05",
            "06",
            "07",
            "08",
            "09",
            "10",
            "11",
            "12",
            "13",
            "14",
            "15",
            "B1",
            "B3",
            "B4"
           ],
           "xaxis": "x",
           "y": [
            65,
            17,
            291,
            344,
            223,
            345,
            402,
            370,
            317,
            56,
            310,
            316,
            292,
            327,
            66,
            47,
            0,
            0,
            31,
            2,
            111,
            120,
            45,
            89,
            115,
            112,
            80,
            3,
            88,
            79,
            82,
            88,
            15,
            11,
            0,
            0
           ],
           "yaxis": "y"
          },
          {
           "alignmentgroup": "True",
           "hovertemplate": "direction=up<br>Local Time (GMT+8)=20<br>floor=%{x}<br>Frequency=%{y}<extra></extra>",
           "legendgroup": "up",
           "marker": {
            "color": "#EF553B"
           },
           "name": "up",
           "offsetgroup": "up",
           "orientation": "v",
           "showlegend": true,
           "textposition": "auto",
           "type": "bar",
           "x": [
            "01",
            "02",
            "03",
            "04",
            "05",
            "06",
            "07",
            "08",
            "09",
            "10",
            "11",
            "12",
            "13",
            "14",
            "15",
            "B1",
            "B3",
            "B4",
            "01",
            "02",
            "03",
            "04",
            "05",
            "06",
            "07",
            "08",
            "09",
            "10",
            "11",
            "12",
            "13",
            "14",
            "15",
            "B1",
            "B3",
            "B4"
           ],
           "xaxis": "x2",
           "y": [
            846,
            4,
            50,
            39,
            22,
            16,
            30,
            9,
            21,
            5,
            8,
            13,
            8,
            5,
            0,
            546,
            14,
            66,
            329,
            1,
            9,
            7,
            4,
            4,
            9,
            5,
            1,
            1,
            2,
            1,
            4,
            2,
            0,
            159,
            5,
            16
           ],
           "yaxis": "y2"
          }
         ],
         "name": "20"
        },
        {
         "data": [
          {
           "alignmentgroup": "True",
           "hovertemplate": "direction=down<br>Local Time (GMT+8)=21<br>floor=%{x}<br>Frequency=%{y}<extra></extra>",
           "legendgroup": "down",
           "marker": {
            "color": "#636efa"
           },
           "name": "down",
           "offsetgroup": "down",
           "orientation": "v",
           "showlegend": true,
           "textposition": "auto",
           "type": "bar",
           "x": [
            "01",
            "02",
            "03",
            "04",
            "05",
            "06",
            "07",
            "08",
            "09",
            "10",
            "11",
            "12",
            "13",
            "14",
            "15",
            "B1",
            "B3",
            "B4",
            "01",
            "02",
            "03",
            "04",
            "05",
            "06",
            "07",
            "08",
            "09",
            "10",
            "11",
            "12",
            "13",
            "14",
            "15",
            "B1",
            "B3",
            "B4"
           ],
           "xaxis": "x",
           "y": [
            63,
            7,
            170,
            105,
            170,
            281,
            344,
            317,
            279,
            26,
            250,
            210,
            230,
            252,
            48,
            34,
            3,
            0,
            18,
            0,
            29,
            33,
            36,
            82,
            95,
            90,
            82,
            7,
            70,
            55,
            55,
            65,
            9,
            3,
            1,
            0
           ],
           "yaxis": "y"
          },
          {
           "alignmentgroup": "True",
           "hovertemplate": "direction=up<br>Local Time (GMT+8)=21<br>floor=%{x}<br>Frequency=%{y}<extra></extra>",
           "legendgroup": "up",
           "marker": {
            "color": "#EF553B"
           },
           "name": "up",
           "offsetgroup": "up",
           "orientation": "v",
           "showlegend": true,
           "textposition": "auto",
           "type": "bar",
           "x": [
            "01",
            "02",
            "03",
            "04",
            "05",
            "06",
            "07",
            "08",
            "09",
            "10",
            "11",
            "12",
            "13",
            "14",
            "15",
            "B1",
            "B3",
            "B4",
            "01",
            "02",
            "03",
            "04",
            "05",
            "06",
            "07",
            "08",
            "09",
            "10",
            "11",
            "12",
            "13",
            "14",
            "15",
            "B1",
            "B3",
            "B4"
           ],
           "xaxis": "x2",
           "y": [
            989,
            3,
            38,
            27,
            52,
            15,
            41,
            11,
            17,
            2,
            4,
            10,
            7,
            13,
            0,
            354,
            22,
            63,
            330,
            0,
            11,
            3,
            7,
            3,
            1,
            1,
            4,
            0,
            2,
            4,
            1,
            4,
            0,
            96,
            5,
            18
           ],
           "yaxis": "y2"
          }
         ],
         "name": "21"
        },
        {
         "data": [
          {
           "alignmentgroup": "True",
           "hovertemplate": "direction=down<br>Local Time (GMT+8)=22<br>floor=%{x}<br>Frequency=%{y}<extra></extra>",
           "legendgroup": "down",
           "marker": {
            "color": "#636efa"
           },
           "name": "down",
           "offsetgroup": "down",
           "orientation": "v",
           "showlegend": true,
           "textposition": "auto",
           "type": "bar",
           "x": [
            "01",
            "02",
            "03",
            "04",
            "05",
            "06",
            "07",
            "08",
            "09",
            "10",
            "11",
            "12",
            "13",
            "14",
            "15",
            "B1",
            "B3",
            "B4",
            "01",
            "02",
            "03",
            "04",
            "05",
            "06",
            "07",
            "08",
            "09",
            "10",
            "11",
            "12",
            "13",
            "14",
            "15",
            "B1",
            "B3",
            "B4"
           ],
           "xaxis": "x",
           "y": [
            43,
            3,
            261,
            60,
            101,
            153,
            194,
            203,
            127,
            20,
            151,
            127,
            138,
            208,
            27,
            12,
            1,
            0,
            14,
            3,
            64,
            15,
            21,
            43,
            48,
            62,
            44,
            3,
            42,
            33,
            34,
            40,
            4,
            4,
            3,
            0
           ],
           "yaxis": "y"
          },
          {
           "alignmentgroup": "True",
           "hovertemplate": "direction=up<br>Local Time (GMT+8)=22<br>floor=%{x}<br>Frequency=%{y}<extra></extra>",
           "legendgroup": "up",
           "marker": {
            "color": "#EF553B"
           },
           "name": "up",
           "offsetgroup": "up",
           "orientation": "v",
           "showlegend": true,
           "textposition": "auto",
           "type": "bar",
           "x": [
            "01",
            "02",
            "03",
            "04",
            "05",
            "06",
            "07",
            "08",
            "09",
            "10",
            "11",
            "12",
            "13",
            "14",
            "15",
            "B1",
            "B3",
            "B4",
            "01",
            "02",
            "03",
            "04",
            "05",
            "06",
            "07",
            "08",
            "09",
            "10",
            "11",
            "12",
            "13",
            "14",
            "15",
            "B1",
            "B3",
            "B4"
           ],
           "xaxis": "x2",
           "y": [
            945,
            0,
            23,
            15,
            11,
            12,
            15,
            3,
            6,
            2,
            5,
            8,
            2,
            4,
            0,
            234,
            16,
            12,
            272,
            0,
            5,
            1,
            8,
            7,
            3,
            2,
            3,
            2,
            1,
            3,
            0,
            4,
            0,
            79,
            14,
            1
           ],
           "yaxis": "y2"
          }
         ],
         "name": "22"
        },
        {
         "data": [
          {
           "alignmentgroup": "True",
           "hovertemplate": "direction=down<br>Local Time (GMT+8)=23<br>floor=%{x}<br>Frequency=%{y}<extra></extra>",
           "legendgroup": "down",
           "marker": {
            "color": "#636efa"
           },
           "name": "down",
           "offsetgroup": "down",
           "orientation": "v",
           "showlegend": true,
           "textposition": "auto",
           "type": "bar",
           "x": [
            "01",
            "02",
            "03",
            "04",
            "05",
            "06",
            "07",
            "08",
            "09",
            "10",
            "11",
            "12",
            "13",
            "14",
            "15",
            "B1",
            "B3",
            "B4",
            "01",
            "02",
            "03",
            "04",
            "05",
            "06",
            "07",
            "08",
            "09",
            "10",
            "11",
            "12",
            "13",
            "14",
            "15",
            "B1",
            "B3",
            "B4"
           ],
           "xaxis": "x",
           "y": [
            40,
            2,
            238,
            66,
            37,
            75,
            95,
            87,
            59,
            8,
            72,
            47,
            79,
            69,
            28,
            11,
            0,
            0,
            11,
            0,
            43,
            16,
            11,
            23,
            42,
            24,
            12,
            3,
            24,
            19,
            19,
            25,
            5,
            0,
            0,
            0
           ],
           "yaxis": "y"
          },
          {
           "alignmentgroup": "True",
           "hovertemplate": "direction=up<br>Local Time (GMT+8)=23<br>floor=%{x}<br>Frequency=%{y}<extra></extra>",
           "legendgroup": "up",
           "marker": {
            "color": "#EF553B"
           },
           "name": "up",
           "offsetgroup": "up",
           "orientation": "v",
           "showlegend": true,
           "textposition": "auto",
           "type": "bar",
           "x": [
            "01",
            "02",
            "03",
            "04",
            "05",
            "06",
            "07",
            "08",
            "09",
            "10",
            "11",
            "12",
            "13",
            "14",
            "15",
            "B1",
            "B3",
            "B4",
            "01",
            "02",
            "03",
            "04",
            "05",
            "06",
            "07",
            "08",
            "09",
            "10",
            "11",
            "12",
            "13",
            "14",
            "15",
            "B1",
            "B3",
            "B4"
           ],
           "xaxis": "x2",
           "y": [
            668,
            4,
            11,
            10,
            13,
            22,
            6,
            1,
            1,
            0,
            2,
            5,
            1,
            1,
            0,
            167,
            11,
            29,
            242,
            1,
            3,
            2,
            7,
            8,
            3,
            2,
            0,
            0,
            2,
            3,
            1,
            0,
            0,
            70,
            9,
            5
           ],
           "yaxis": "y2"
          }
         ],
         "name": "23"
        }
       ],
       "layout": {
        "annotations": [
         {
          "font": {},
          "showarrow": false,
          "text": "direction=down",
          "x": 0.245,
          "xanchor": "center",
          "xref": "paper",
          "y": 1,
          "yanchor": "bottom",
          "yref": "paper"
         },
         {
          "font": {},
          "showarrow": false,
          "text": "direction=up",
          "x": 0.755,
          "xanchor": "center",
          "xref": "paper",
          "y": 1,
          "yanchor": "bottom",
          "yref": "paper"
         }
        ],
        "barmode": "relative",
        "legend": {
         "title": {
          "text": "direction"
         },
         "tracegroupgap": 0
        },
        "margin": {
         "t": 60
        },
        "sliders": [
         {
          "active": 0,
          "currentvalue": {
           "prefix": "Local Time (GMT+8)="
          },
          "len": 0.9,
          "pad": {
           "b": 10,
           "t": 60
          },
          "steps": [
           {
            "args": [
             [
              "0"
             ],
             {
              "frame": {
               "duration": 0,
               "redraw": true
              },
              "fromcurrent": true,
              "mode": "immediate",
              "transition": {
               "duration": 0,
               "easing": "linear"
              }
             }
            ],
            "label": "0",
            "method": "animate"
           },
           {
            "args": [
             [
              "1"
             ],
             {
              "frame": {
               "duration": 0,
               "redraw": true
              },
              "fromcurrent": true,
              "mode": "immediate",
              "transition": {
               "duration": 0,
               "easing": "linear"
              }
             }
            ],
            "label": "1",
            "method": "animate"
           },
           {
            "args": [
             [
              "2"
             ],
             {
              "frame": {
               "duration": 0,
               "redraw": true
              },
              "fromcurrent": true,
              "mode": "immediate",
              "transition": {
               "duration": 0,
               "easing": "linear"
              }
             }
            ],
            "label": "2",
            "method": "animate"
           },
           {
            "args": [
             [
              "3"
             ],
             {
              "frame": {
               "duration": 0,
               "redraw": true
              },
              "fromcurrent": true,
              "mode": "immediate",
              "transition": {
               "duration": 0,
               "easing": "linear"
              }
             }
            ],
            "label": "3",
            "method": "animate"
           },
           {
            "args": [
             [
              "4"
             ],
             {
              "frame": {
               "duration": 0,
               "redraw": true
              },
              "fromcurrent": true,
              "mode": "immediate",
              "transition": {
               "duration": 0,
               "easing": "linear"
              }
             }
            ],
            "label": "4",
            "method": "animate"
           },
           {
            "args": [
             [
              "5"
             ],
             {
              "frame": {
               "duration": 0,
               "redraw": true
              },
              "fromcurrent": true,
              "mode": "immediate",
              "transition": {
               "duration": 0,
               "easing": "linear"
              }
             }
            ],
            "label": "5",
            "method": "animate"
           },
           {
            "args": [
             [
              "6"
             ],
             {
              "frame": {
               "duration": 0,
               "redraw": true
              },
              "fromcurrent": true,
              "mode": "immediate",
              "transition": {
               "duration": 0,
               "easing": "linear"
              }
             }
            ],
            "label": "6",
            "method": "animate"
           },
           {
            "args": [
             [
              "7"
             ],
             {
              "frame": {
               "duration": 0,
               "redraw": true
              },
              "fromcurrent": true,
              "mode": "immediate",
              "transition": {
               "duration": 0,
               "easing": "linear"
              }
             }
            ],
            "label": "7",
            "method": "animate"
           },
           {
            "args": [
             [
              "8"
             ],
             {
              "frame": {
               "duration": 0,
               "redraw": true
              },
              "fromcurrent": true,
              "mode": "immediate",
              "transition": {
               "duration": 0,
               "easing": "linear"
              }
             }
            ],
            "label": "8",
            "method": "animate"
           },
           {
            "args": [
             [
              "9"
             ],
             {
              "frame": {
               "duration": 0,
               "redraw": true
              },
              "fromcurrent": true,
              "mode": "immediate",
              "transition": {
               "duration": 0,
               "easing": "linear"
              }
             }
            ],
            "label": "9",
            "method": "animate"
           },
           {
            "args": [
             [
              "10"
             ],
             {
              "frame": {
               "duration": 0,
               "redraw": true
              },
              "fromcurrent": true,
              "mode": "immediate",
              "transition": {
               "duration": 0,
               "easing": "linear"
              }
             }
            ],
            "label": "10",
            "method": "animate"
           },
           {
            "args": [
             [
              "11"
             ],
             {
              "frame": {
               "duration": 0,
               "redraw": true
              },
              "fromcurrent": true,
              "mode": "immediate",
              "transition": {
               "duration": 0,
               "easing": "linear"
              }
             }
            ],
            "label": "11",
            "method": "animate"
           },
           {
            "args": [
             [
              "12"
             ],
             {
              "frame": {
               "duration": 0,
               "redraw": true
              },
              "fromcurrent": true,
              "mode": "immediate",
              "transition": {
               "duration": 0,
               "easing": "linear"
              }
             }
            ],
            "label": "12",
            "method": "animate"
           },
           {
            "args": [
             [
              "13"
             ],
             {
              "frame": {
               "duration": 0,
               "redraw": true
              },
              "fromcurrent": true,
              "mode": "immediate",
              "transition": {
               "duration": 0,
               "easing": "linear"
              }
             }
            ],
            "label": "13",
            "method": "animate"
           },
           {
            "args": [
             [
              "14"
             ],
             {
              "frame": {
               "duration": 0,
               "redraw": true
              },
              "fromcurrent": true,
              "mode": "immediate",
              "transition": {
               "duration": 0,
               "easing": "linear"
              }
             }
            ],
            "label": "14",
            "method": "animate"
           },
           {
            "args": [
             [
              "15"
             ],
             {
              "frame": {
               "duration": 0,
               "redraw": true
              },
              "fromcurrent": true,
              "mode": "immediate",
              "transition": {
               "duration": 0,
               "easing": "linear"
              }
             }
            ],
            "label": "15",
            "method": "animate"
           },
           {
            "args": [
             [
              "16"
             ],
             {
              "frame": {
               "duration": 0,
               "redraw": true
              },
              "fromcurrent": true,
              "mode": "immediate",
              "transition": {
               "duration": 0,
               "easing": "linear"
              }
             }
            ],
            "label": "16",
            "method": "animate"
           },
           {
            "args": [
             [
              "17"
             ],
             {
              "frame": {
               "duration": 0,
               "redraw": true
              },
              "fromcurrent": true,
              "mode": "immediate",
              "transition": {
               "duration": 0,
               "easing": "linear"
              }
             }
            ],
            "label": "17",
            "method": "animate"
           },
           {
            "args": [
             [
              "18"
             ],
             {
              "frame": {
               "duration": 0,
               "redraw": true
              },
              "fromcurrent": true,
              "mode": "immediate",
              "transition": {
               "duration": 0,
               "easing": "linear"
              }
             }
            ],
            "label": "18",
            "method": "animate"
           },
           {
            "args": [
             [
              "19"
             ],
             {
              "frame": {
               "duration": 0,
               "redraw": true
              },
              "fromcurrent": true,
              "mode": "immediate",
              "transition": {
               "duration": 0,
               "easing": "linear"
              }
             }
            ],
            "label": "19",
            "method": "animate"
           },
           {
            "args": [
             [
              "20"
             ],
             {
              "frame": {
               "duration": 0,
               "redraw": true
              },
              "fromcurrent": true,
              "mode": "immediate",
              "transition": {
               "duration": 0,
               "easing": "linear"
              }
             }
            ],
            "label": "20",
            "method": "animate"
           },
           {
            "args": [
             [
              "21"
             ],
             {
              "frame": {
               "duration": 0,
               "redraw": true
              },
              "fromcurrent": true,
              "mode": "immediate",
              "transition": {
               "duration": 0,
               "easing": "linear"
              }
             }
            ],
            "label": "21",
            "method": "animate"
           },
           {
            "args": [
             [
              "22"
             ],
             {
              "frame": {
               "duration": 0,
               "redraw": true
              },
              "fromcurrent": true,
              "mode": "immediate",
              "transition": {
               "duration": 0,
               "easing": "linear"
              }
             }
            ],
            "label": "22",
            "method": "animate"
           },
           {
            "args": [
             [
              "23"
             ],
             {
              "frame": {
               "duration": 0,
               "redraw": true
              },
              "fromcurrent": true,
              "mode": "immediate",
              "transition": {
               "duration": 0,
               "easing": "linear"
              }
             }
            ],
            "label": "23",
            "method": "animate"
           }
          ],
          "x": 0.1,
          "xanchor": "left",
          "y": 0,
          "yanchor": "top"
         }
        ],
        "template": {
         "data": {
          "bar": [
           {
            "error_x": {
             "color": "#2a3f5f"
            },
            "error_y": {
             "color": "#2a3f5f"
            },
            "marker": {
             "line": {
              "color": "#E5ECF6",
              "width": 0.5
             }
            },
            "type": "bar"
           }
          ],
          "barpolar": [
           {
            "marker": {
             "line": {
              "color": "#E5ECF6",
              "width": 0.5
             }
            },
            "type": "barpolar"
           }
          ],
          "carpet": [
           {
            "aaxis": {
             "endlinecolor": "#2a3f5f",
             "gridcolor": "white",
             "linecolor": "white",
             "minorgridcolor": "white",
             "startlinecolor": "#2a3f5f"
            },
            "baxis": {
             "endlinecolor": "#2a3f5f",
             "gridcolor": "white",
             "linecolor": "white",
             "minorgridcolor": "white",
             "startlinecolor": "#2a3f5f"
            },
            "type": "carpet"
           }
          ],
          "choropleth": [
           {
            "colorbar": {
             "outlinewidth": 0,
             "ticks": ""
            },
            "type": "choropleth"
           }
          ],
          "contour": [
           {
            "colorbar": {
             "outlinewidth": 0,
             "ticks": ""
            },
            "colorscale": [
             [
              0,
              "#0d0887"
             ],
             [
              0.1111111111111111,
              "#46039f"
             ],
             [
              0.2222222222222222,
              "#7201a8"
             ],
             [
              0.3333333333333333,
              "#9c179e"
             ],
             [
              0.4444444444444444,
              "#bd3786"
             ],
             [
              0.5555555555555556,
              "#d8576b"
             ],
             [
              0.6666666666666666,
              "#ed7953"
             ],
             [
              0.7777777777777778,
              "#fb9f3a"
             ],
             [
              0.8888888888888888,
              "#fdca26"
             ],
             [
              1,
              "#f0f921"
             ]
            ],
            "type": "contour"
           }
          ],
          "contourcarpet": [
           {
            "colorbar": {
             "outlinewidth": 0,
             "ticks": ""
            },
            "type": "contourcarpet"
           }
          ],
          "heatmap": [
           {
            "colorbar": {
             "outlinewidth": 0,
             "ticks": ""
            },
            "colorscale": [
             [
              0,
              "#0d0887"
             ],
             [
              0.1111111111111111,
              "#46039f"
             ],
             [
              0.2222222222222222,
              "#7201a8"
             ],
             [
              0.3333333333333333,
              "#9c179e"
             ],
             [
              0.4444444444444444,
              "#bd3786"
             ],
             [
              0.5555555555555556,
              "#d8576b"
             ],
             [
              0.6666666666666666,
              "#ed7953"
             ],
             [
              0.7777777777777778,
              "#fb9f3a"
             ],
             [
              0.8888888888888888,
              "#fdca26"
             ],
             [
              1,
              "#f0f921"
             ]
            ],
            "type": "heatmap"
           }
          ],
          "heatmapgl": [
           {
            "colorbar": {
             "outlinewidth": 0,
             "ticks": ""
            },
            "colorscale": [
             [
              0,
              "#0d0887"
             ],
             [
              0.1111111111111111,
              "#46039f"
             ],
             [
              0.2222222222222222,
              "#7201a8"
             ],
             [
              0.3333333333333333,
              "#9c179e"
             ],
             [
              0.4444444444444444,
              "#bd3786"
             ],
             [
              0.5555555555555556,
              "#d8576b"
             ],
             [
              0.6666666666666666,
              "#ed7953"
             ],
             [
              0.7777777777777778,
              "#fb9f3a"
             ],
             [
              0.8888888888888888,
              "#fdca26"
             ],
             [
              1,
              "#f0f921"
             ]
            ],
            "type": "heatmapgl"
           }
          ],
          "histogram": [
           {
            "marker": {
             "colorbar": {
              "outlinewidth": 0,
              "ticks": ""
             }
            },
            "type": "histogram"
           }
          ],
          "histogram2d": [
           {
            "colorbar": {
             "outlinewidth": 0,
             "ticks": ""
            },
            "colorscale": [
             [
              0,
              "#0d0887"
             ],
             [
              0.1111111111111111,
              "#46039f"
             ],
             [
              0.2222222222222222,
              "#7201a8"
             ],
             [
              0.3333333333333333,
              "#9c179e"
             ],
             [
              0.4444444444444444,
              "#bd3786"
             ],
             [
              0.5555555555555556,
              "#d8576b"
             ],
             [
              0.6666666666666666,
              "#ed7953"
             ],
             [
              0.7777777777777778,
              "#fb9f3a"
             ],
             [
              0.8888888888888888,
              "#fdca26"
             ],
             [
              1,
              "#f0f921"
             ]
            ],
            "type": "histogram2d"
           }
          ],
          "histogram2dcontour": [
           {
            "colorbar": {
             "outlinewidth": 0,
             "ticks": ""
            },
            "colorscale": [
             [
              0,
              "#0d0887"
             ],
             [
              0.1111111111111111,
              "#46039f"
             ],
             [
              0.2222222222222222,
              "#7201a8"
             ],
             [
              0.3333333333333333,
              "#9c179e"
             ],
             [
              0.4444444444444444,
              "#bd3786"
             ],
             [
              0.5555555555555556,
              "#d8576b"
             ],
             [
              0.6666666666666666,
              "#ed7953"
             ],
             [
              0.7777777777777778,
              "#fb9f3a"
             ],
             [
              0.8888888888888888,
              "#fdca26"
             ],
             [
              1,
              "#f0f921"
             ]
            ],
            "type": "histogram2dcontour"
           }
          ],
          "mesh3d": [
           {
            "colorbar": {
             "outlinewidth": 0,
             "ticks": ""
            },
            "type": "mesh3d"
           }
          ],
          "parcoords": [
           {
            "line": {
             "colorbar": {
              "outlinewidth": 0,
              "ticks": ""
             }
            },
            "type": "parcoords"
           }
          ],
          "pie": [
           {
            "automargin": true,
            "type": "pie"
           }
          ],
          "scatter": [
           {
            "marker": {
             "colorbar": {
              "outlinewidth": 0,
              "ticks": ""
             }
            },
            "type": "scatter"
           }
          ],
          "scatter3d": [
           {
            "line": {
             "colorbar": {
              "outlinewidth": 0,
              "ticks": ""
             }
            },
            "marker": {
             "colorbar": {
              "outlinewidth": 0,
              "ticks": ""
             }
            },
            "type": "scatter3d"
           }
          ],
          "scattercarpet": [
           {
            "marker": {
             "colorbar": {
              "outlinewidth": 0,
              "ticks": ""
             }
            },
            "type": "scattercarpet"
           }
          ],
          "scattergeo": [
           {
            "marker": {
             "colorbar": {
              "outlinewidth": 0,
              "ticks": ""
             }
            },
            "type": "scattergeo"
           }
          ],
          "scattergl": [
           {
            "marker": {
             "colorbar": {
              "outlinewidth": 0,
              "ticks": ""
             }
            },
            "type": "scattergl"
           }
          ],
          "scattermapbox": [
           {
            "marker": {
             "colorbar": {
              "outlinewidth": 0,
              "ticks": ""
             }
            },
            "type": "scattermapbox"
           }
          ],
          "scatterpolar": [
           {
            "marker": {
             "colorbar": {
              "outlinewidth": 0,
              "ticks": ""
             }
            },
            "type": "scatterpolar"
           }
          ],
          "scatterpolargl": [
           {
            "marker": {
             "colorbar": {
              "outlinewidth": 0,
              "ticks": ""
             }
            },
            "type": "scatterpolargl"
           }
          ],
          "scatterternary": [
           {
            "marker": {
             "colorbar": {
              "outlinewidth": 0,
              "ticks": ""
             }
            },
            "type": "scatterternary"
           }
          ],
          "surface": [
           {
            "colorbar": {
             "outlinewidth": 0,
             "ticks": ""
            },
            "colorscale": [
             [
              0,
              "#0d0887"
             ],
             [
              0.1111111111111111,
              "#46039f"
             ],
             [
              0.2222222222222222,
              "#7201a8"
             ],
             [
              0.3333333333333333,
              "#9c179e"
             ],
             [
              0.4444444444444444,
              "#bd3786"
             ],
             [
              0.5555555555555556,
              "#d8576b"
             ],
             [
              0.6666666666666666,
              "#ed7953"
             ],
             [
              0.7777777777777778,
              "#fb9f3a"
             ],
             [
              0.8888888888888888,
              "#fdca26"
             ],
             [
              1,
              "#f0f921"
             ]
            ],
            "type": "surface"
           }
          ],
          "table": [
           {
            "cells": {
             "fill": {
              "color": "#EBF0F8"
             },
             "line": {
              "color": "white"
             }
            },
            "header": {
             "fill": {
              "color": "#C8D4E3"
             },
             "line": {
              "color": "white"
             }
            },
            "type": "table"
           }
          ]
         },
         "layout": {
          "annotationdefaults": {
           "arrowcolor": "#2a3f5f",
           "arrowhead": 0,
           "arrowwidth": 1
          },
          "coloraxis": {
           "colorbar": {
            "outlinewidth": 0,
            "ticks": ""
           }
          },
          "colorscale": {
           "diverging": [
            [
             0,
             "#8e0152"
            ],
            [
             0.1,
             "#c51b7d"
            ],
            [
             0.2,
             "#de77ae"
            ],
            [
             0.3,
             "#f1b6da"
            ],
            [
             0.4,
             "#fde0ef"
            ],
            [
             0.5,
             "#f7f7f7"
            ],
            [
             0.6,
             "#e6f5d0"
            ],
            [
             0.7,
             "#b8e186"
            ],
            [
             0.8,
             "#7fbc41"
            ],
            [
             0.9,
             "#4d9221"
            ],
            [
             1,
             "#276419"
            ]
           ],
           "sequential": [
            [
             0,
             "#0d0887"
            ],
            [
             0.1111111111111111,
             "#46039f"
            ],
            [
             0.2222222222222222,
             "#7201a8"
            ],
            [
             0.3333333333333333,
             "#9c179e"
            ],
            [
             0.4444444444444444,
             "#bd3786"
            ],
            [
             0.5555555555555556,
             "#d8576b"
            ],
            [
             0.6666666666666666,
             "#ed7953"
            ],
            [
             0.7777777777777778,
             "#fb9f3a"
            ],
            [
             0.8888888888888888,
             "#fdca26"
            ],
            [
             1,
             "#f0f921"
            ]
           ],
           "sequentialminus": [
            [
             0,
             "#0d0887"
            ],
            [
             0.1111111111111111,
             "#46039f"
            ],
            [
             0.2222222222222222,
             "#7201a8"
            ],
            [
             0.3333333333333333,
             "#9c179e"
            ],
            [
             0.4444444444444444,
             "#bd3786"
            ],
            [
             0.5555555555555556,
             "#d8576b"
            ],
            [
             0.6666666666666666,
             "#ed7953"
            ],
            [
             0.7777777777777778,
             "#fb9f3a"
            ],
            [
             0.8888888888888888,
             "#fdca26"
            ],
            [
             1,
             "#f0f921"
            ]
           ]
          },
          "colorway": [
           "#636efa",
           "#EF553B",
           "#00cc96",
           "#ab63fa",
           "#FFA15A",
           "#19d3f3",
           "#FF6692",
           "#B6E880",
           "#FF97FF",
           "#FECB52"
          ],
          "font": {
           "color": "#2a3f5f"
          },
          "geo": {
           "bgcolor": "white",
           "lakecolor": "white",
           "landcolor": "#E5ECF6",
           "showlakes": true,
           "showland": true,
           "subunitcolor": "white"
          },
          "hoverlabel": {
           "align": "left"
          },
          "hovermode": "closest",
          "mapbox": {
           "style": "light"
          },
          "paper_bgcolor": "white",
          "plot_bgcolor": "#E5ECF6",
          "polar": {
           "angularaxis": {
            "gridcolor": "white",
            "linecolor": "white",
            "ticks": ""
           },
           "bgcolor": "#E5ECF6",
           "radialaxis": {
            "gridcolor": "white",
            "linecolor": "white",
            "ticks": ""
           }
          },
          "scene": {
           "xaxis": {
            "backgroundcolor": "#E5ECF6",
            "gridcolor": "white",
            "gridwidth": 2,
            "linecolor": "white",
            "showbackground": true,
            "ticks": "",
            "zerolinecolor": "white"
           },
           "yaxis": {
            "backgroundcolor": "#E5ECF6",
            "gridcolor": "white",
            "gridwidth": 2,
            "linecolor": "white",
            "showbackground": true,
            "ticks": "",
            "zerolinecolor": "white"
           },
           "zaxis": {
            "backgroundcolor": "#E5ECF6",
            "gridcolor": "white",
            "gridwidth": 2,
            "linecolor": "white",
            "showbackground": true,
            "ticks": "",
            "zerolinecolor": "white"
           }
          },
          "shapedefaults": {
           "line": {
            "color": "#2a3f5f"
           }
          },
          "ternary": {
           "aaxis": {
            "gridcolor": "white",
            "linecolor": "white",
            "ticks": ""
           },
           "baxis": {
            "gridcolor": "white",
            "linecolor": "white",
            "ticks": ""
           },
           "bgcolor": "#E5ECF6",
           "caxis": {
            "gridcolor": "white",
            "linecolor": "white",
            "ticks": ""
           }
          },
          "title": {
           "x": 0.05
          },
          "xaxis": {
           "automargin": true,
           "gridcolor": "white",
           "linecolor": "white",
           "ticks": "",
           "title": {
            "standoff": 15
           },
           "zerolinecolor": "white",
           "zerolinewidth": 2
          },
          "yaxis": {
           "automargin": true,
           "gridcolor": "white",
           "linecolor": "white",
           "ticks": "",
           "title": {
            "standoff": 15
           },
           "zerolinecolor": "white",
           "zerolinewidth": 2
          }
         }
        },
        "title": {
         "text": "Frequency of Elevator Calls by Floor"
        },
        "updatemenus": [
         {
          "buttons": [
           {
            "args": [
             null,
             {
              "frame": {
               "duration": 500,
               "redraw": true
              },
              "fromcurrent": true,
              "mode": "immediate",
              "transition": {
               "duration": 500,
               "easing": "linear"
              }
             }
            ],
            "label": "&#9654;",
            "method": "animate"
           },
           {
            "args": [
             [
              null
             ],
             {
              "frame": {
               "duration": 0,
               "redraw": true
              },
              "fromcurrent": true,
              "mode": "immediate",
              "transition": {
               "duration": 0,
               "easing": "linear"
              }
             }
            ],
            "label": "&#9724;",
            "method": "animate"
           }
          ],
          "direction": "left",
          "pad": {
           "r": 10,
           "t": 70
          },
          "showactive": false,
          "type": "buttons",
          "x": 0.1,
          "xanchor": "right",
          "y": 0,
          "yanchor": "top"
         }
        ],
        "xaxis": {
         "anchor": "y",
         "categoryarray": [
          "B4",
          "B3",
          "B2",
          "B1",
          "01",
          "02",
          "03",
          "04",
          "05",
          "06",
          "07",
          "08",
          "09",
          "10",
          "11",
          "12",
          "13",
          "14",
          "15"
         ],
         "domain": [
          0,
          0.49
         ],
         "nticks": 19,
         "title": {
          "text": "floor"
         },
         "type": "category"
        },
        "xaxis2": {
         "anchor": "y2",
         "categoryarray": [
          "B4",
          "B3",
          "B2",
          "B1",
          "01",
          "02",
          "03",
          "04",
          "05",
          "06",
          "07",
          "08",
          "09",
          "10",
          "11",
          "12",
          "13",
          "14",
          "15"
         ],
         "domain": [
          0.51,
          1
         ],
         "matches": "x",
         "nticks": 19,
         "title": {
          "text": "floor"
         },
         "type": "category"
        },
        "yaxis": {
         "anchor": "x",
         "domain": [
          0,
          1
         ],
         "range": [
          0,
          1000
         ],
         "title": {
          "text": "Frequency"
         }
        },
        "yaxis2": {
         "anchor": "x2",
         "domain": [
          0,
          1
         ],
         "matches": "y",
         "range": [
          0,
          1000
         ],
         "showticklabels": false
        }
       }
      },
      "text/html": [
       "<div>\n",
       "        \n",
       "        \n",
       "            <div id=\"3f80010a-94f3-4ed4-953f-34b8c3ad41cf\" class=\"plotly-graph-div\" style=\"height:525px; width:100%;\"></div>\n",
       "            <script type=\"text/javascript\">\n",
       "                require([\"plotly\"], function(Plotly) {\n",
       "                    window.PLOTLYENV=window.PLOTLYENV || {};\n",
       "                    \n",
       "                if (document.getElementById(\"3f80010a-94f3-4ed4-953f-34b8c3ad41cf\")) {\n",
       "                    Plotly.newPlot(\n",
       "                        '3f80010a-94f3-4ed4-953f-34b8c3ad41cf',\n",
       "                        [{\"alignmentgroup\": \"True\", \"hovertemplate\": \"direction=down<br>Local Time (GMT+8)=0<br>floor=%{x}<br>Frequency=%{y}<extra></extra>\", \"legendgroup\": \"down\", \"marker\": {\"color\": \"#636efa\"}, \"name\": \"down\", \"offsetgroup\": \"down\", \"orientation\": \"v\", \"showlegend\": true, \"textposition\": \"auto\", \"type\": \"bar\", \"x\": [\"01\", \"02\", \"03\", \"04\", \"05\", \"06\", \"07\", \"08\", \"09\", \"10\", \"11\", \"12\", \"13\", \"14\", \"15\", \"B1\", \"B3\", \"B4\", \"01\", \"02\", \"03\", \"04\", \"05\", \"06\", \"07\", \"08\", \"09\", \"10\", \"11\", \"12\", \"13\", \"14\", \"15\", \"B1\", \"B3\", \"B4\"], \"xaxis\": \"x\", \"y\": [31, 1, 93, 190, 56, 59, 78, 128, 65, 8, 59, 77, 49, 54, 30, 5, 1, 0, 16, 0, 39, 67, 13, 34, 18, 54, 25, 3, 18, 31, 15, 20, 17, 3, 0, 0], \"yaxis\": \"y\"}, {\"alignmentgroup\": \"True\", \"hovertemplate\": \"direction=up<br>Local Time (GMT+8)=0<br>floor=%{x}<br>Frequency=%{y}<extra></extra>\", \"legendgroup\": \"up\", \"marker\": {\"color\": \"#EF553B\"}, \"name\": \"up\", \"offsetgroup\": \"up\", \"orientation\": \"v\", \"showlegend\": true, \"textposition\": \"auto\", \"type\": \"bar\", \"x\": [\"01\", \"02\", \"03\", \"04\", \"05\", \"06\", \"07\", \"08\", \"09\", \"10\", \"11\", \"12\", \"13\", \"14\", \"15\", \"B1\", \"B3\", \"B4\", \"01\", \"02\", \"03\", \"04\", \"05\", \"06\", \"07\", \"08\", \"09\", \"10\", \"11\", \"12\", \"13\", \"14\", \"15\", \"B1\", \"B3\", \"B4\"], \"xaxis\": \"x2\", \"y\": [358, 0, 8, 7, 3, 7, 7, 2, 2, 0, 1, 2, 3, 1, 0, 39, 1, 9, 138, 0, 2, 1, 7, 0, 0, 0, 1, 0, 0, 1, 0, 1, 0, 16, 1, 3], \"yaxis\": \"y2\"}],\n",
       "                        {\"annotations\": [{\"font\": {}, \"showarrow\": false, \"text\": \"direction=down\", \"x\": 0.245, \"xanchor\": \"center\", \"xref\": \"paper\", \"y\": 1.0, \"yanchor\": \"bottom\", \"yref\": \"paper\"}, {\"font\": {}, \"showarrow\": false, \"text\": \"direction=up\", \"x\": 0.755, \"xanchor\": \"center\", \"xref\": \"paper\", \"y\": 1.0, \"yanchor\": \"bottom\", \"yref\": \"paper\"}], \"barmode\": \"relative\", \"legend\": {\"title\": {\"text\": \"direction\"}, \"tracegroupgap\": 0}, \"margin\": {\"t\": 60}, \"sliders\": [{\"active\": 0, \"currentvalue\": {\"prefix\": \"Local Time (GMT+8)=\"}, \"len\": 0.9, \"pad\": {\"b\": 10, \"t\": 60}, \"steps\": [{\"args\": [[\"0\"], {\"frame\": {\"duration\": 0, \"redraw\": true}, \"fromcurrent\": true, \"mode\": \"immediate\", \"transition\": {\"duration\": 0, \"easing\": \"linear\"}}], \"label\": \"0\", \"method\": \"animate\"}, {\"args\": [[\"1\"], {\"frame\": {\"duration\": 0, \"redraw\": true}, \"fromcurrent\": true, \"mode\": \"immediate\", \"transition\": {\"duration\": 0, \"easing\": \"linear\"}}], \"label\": \"1\", \"method\": \"animate\"}, {\"args\": [[\"2\"], {\"frame\": {\"duration\": 0, \"redraw\": true}, \"fromcurrent\": true, \"mode\": \"immediate\", \"transition\": {\"duration\": 0, \"easing\": \"linear\"}}], \"label\": \"2\", \"method\": \"animate\"}, {\"args\": [[\"3\"], {\"frame\": {\"duration\": 0, \"redraw\": true}, \"fromcurrent\": true, \"mode\": \"immediate\", \"transition\": {\"duration\": 0, \"easing\": \"linear\"}}], \"label\": \"3\", \"method\": \"animate\"}, {\"args\": [[\"4\"], {\"frame\": {\"duration\": 0, \"redraw\": true}, \"fromcurrent\": true, \"mode\": \"immediate\", \"transition\": {\"duration\": 0, \"easing\": \"linear\"}}], \"label\": \"4\", \"method\": \"animate\"}, {\"args\": [[\"5\"], {\"frame\": {\"duration\": 0, \"redraw\": true}, \"fromcurrent\": true, \"mode\": \"immediate\", \"transition\": {\"duration\": 0, \"easing\": \"linear\"}}], \"label\": \"5\", \"method\": \"animate\"}, {\"args\": [[\"6\"], {\"frame\": {\"duration\": 0, \"redraw\": true}, \"fromcurrent\": true, \"mode\": \"immediate\", \"transition\": {\"duration\": 0, \"easing\": \"linear\"}}], \"label\": \"6\", \"method\": \"animate\"}, {\"args\": [[\"7\"], {\"frame\": {\"duration\": 0, \"redraw\": true}, \"fromcurrent\": true, \"mode\": \"immediate\", \"transition\": {\"duration\": 0, \"easing\": \"linear\"}}], \"label\": \"7\", \"method\": \"animate\"}, {\"args\": [[\"8\"], {\"frame\": {\"duration\": 0, \"redraw\": true}, \"fromcurrent\": true, \"mode\": \"immediate\", \"transition\": {\"duration\": 0, \"easing\": \"linear\"}}], \"label\": \"8\", \"method\": \"animate\"}, {\"args\": [[\"9\"], {\"frame\": {\"duration\": 0, \"redraw\": true}, \"fromcurrent\": true, \"mode\": \"immediate\", \"transition\": {\"duration\": 0, \"easing\": \"linear\"}}], \"label\": \"9\", \"method\": \"animate\"}, {\"args\": [[\"10\"], {\"frame\": {\"duration\": 0, \"redraw\": true}, \"fromcurrent\": true, \"mode\": \"immediate\", \"transition\": {\"duration\": 0, \"easing\": \"linear\"}}], \"label\": \"10\", \"method\": \"animate\"}, {\"args\": [[\"11\"], {\"frame\": {\"duration\": 0, \"redraw\": true}, \"fromcurrent\": true, \"mode\": \"immediate\", \"transition\": {\"duration\": 0, \"easing\": \"linear\"}}], \"label\": \"11\", \"method\": \"animate\"}, {\"args\": [[\"12\"], {\"frame\": {\"duration\": 0, \"redraw\": true}, \"fromcurrent\": true, \"mode\": \"immediate\", \"transition\": {\"duration\": 0, \"easing\": \"linear\"}}], \"label\": \"12\", \"method\": \"animate\"}, {\"args\": [[\"13\"], {\"frame\": {\"duration\": 0, \"redraw\": true}, \"fromcurrent\": true, \"mode\": \"immediate\", \"transition\": {\"duration\": 0, \"easing\": \"linear\"}}], \"label\": \"13\", \"method\": \"animate\"}, {\"args\": [[\"14\"], {\"frame\": {\"duration\": 0, \"redraw\": true}, \"fromcurrent\": true, \"mode\": \"immediate\", \"transition\": {\"duration\": 0, \"easing\": \"linear\"}}], \"label\": \"14\", \"method\": \"animate\"}, {\"args\": [[\"15\"], {\"frame\": {\"duration\": 0, \"redraw\": true}, \"fromcurrent\": true, \"mode\": \"immediate\", \"transition\": {\"duration\": 0, \"easing\": \"linear\"}}], \"label\": \"15\", \"method\": \"animate\"}, {\"args\": [[\"16\"], {\"frame\": {\"duration\": 0, \"redraw\": true}, \"fromcurrent\": true, \"mode\": \"immediate\", \"transition\": {\"duration\": 0, \"easing\": \"linear\"}}], \"label\": \"16\", \"method\": \"animate\"}, {\"args\": [[\"17\"], {\"frame\": {\"duration\": 0, \"redraw\": true}, \"fromcurrent\": true, \"mode\": \"immediate\", \"transition\": {\"duration\": 0, \"easing\": \"linear\"}}], \"label\": \"17\", \"method\": \"animate\"}, {\"args\": [[\"18\"], {\"frame\": {\"duration\": 0, \"redraw\": true}, \"fromcurrent\": true, \"mode\": \"immediate\", \"transition\": {\"duration\": 0, \"easing\": \"linear\"}}], \"label\": \"18\", \"method\": \"animate\"}, {\"args\": [[\"19\"], {\"frame\": {\"duration\": 0, \"redraw\": true}, \"fromcurrent\": true, \"mode\": \"immediate\", \"transition\": {\"duration\": 0, \"easing\": \"linear\"}}], \"label\": \"19\", \"method\": \"animate\"}, {\"args\": [[\"20\"], {\"frame\": {\"duration\": 0, \"redraw\": true}, \"fromcurrent\": true, \"mode\": \"immediate\", \"transition\": {\"duration\": 0, \"easing\": \"linear\"}}], \"label\": \"20\", \"method\": \"animate\"}, {\"args\": [[\"21\"], {\"frame\": {\"duration\": 0, \"redraw\": true}, \"fromcurrent\": true, \"mode\": \"immediate\", \"transition\": {\"duration\": 0, \"easing\": \"linear\"}}], \"label\": \"21\", \"method\": \"animate\"}, {\"args\": [[\"22\"], {\"frame\": {\"duration\": 0, \"redraw\": true}, \"fromcurrent\": true, \"mode\": \"immediate\", \"transition\": {\"duration\": 0, \"easing\": \"linear\"}}], \"label\": \"22\", \"method\": \"animate\"}, {\"args\": [[\"23\"], {\"frame\": {\"duration\": 0, \"redraw\": true}, \"fromcurrent\": true, \"mode\": \"immediate\", \"transition\": {\"duration\": 0, \"easing\": \"linear\"}}], \"label\": \"23\", \"method\": \"animate\"}], \"x\": 0.1, \"xanchor\": \"left\", \"y\": 0, \"yanchor\": \"top\"}], \"template\": {\"data\": {\"bar\": [{\"error_x\": {\"color\": \"#2a3f5f\"}, \"error_y\": {\"color\": \"#2a3f5f\"}, \"marker\": {\"line\": {\"color\": \"#E5ECF6\", \"width\": 0.5}}, \"type\": \"bar\"}], \"barpolar\": [{\"marker\": {\"line\": {\"color\": \"#E5ECF6\", \"width\": 0.5}}, \"type\": \"barpolar\"}], \"carpet\": [{\"aaxis\": {\"endlinecolor\": \"#2a3f5f\", \"gridcolor\": \"white\", \"linecolor\": \"white\", \"minorgridcolor\": \"white\", \"startlinecolor\": \"#2a3f5f\"}, \"baxis\": {\"endlinecolor\": \"#2a3f5f\", \"gridcolor\": \"white\", \"linecolor\": \"white\", \"minorgridcolor\": \"white\", \"startlinecolor\": \"#2a3f5f\"}, \"type\": \"carpet\"}], \"choropleth\": [{\"colorbar\": {\"outlinewidth\": 0, \"ticks\": \"\"}, \"type\": \"choropleth\"}], \"contour\": [{\"colorbar\": {\"outlinewidth\": 0, \"ticks\": \"\"}, \"colorscale\": [[0.0, \"#0d0887\"], [0.1111111111111111, \"#46039f\"], [0.2222222222222222, \"#7201a8\"], [0.3333333333333333, \"#9c179e\"], [0.4444444444444444, \"#bd3786\"], [0.5555555555555556, \"#d8576b\"], [0.6666666666666666, \"#ed7953\"], [0.7777777777777778, \"#fb9f3a\"], [0.8888888888888888, \"#fdca26\"], [1.0, \"#f0f921\"]], \"type\": \"contour\"}], \"contourcarpet\": [{\"colorbar\": {\"outlinewidth\": 0, \"ticks\": \"\"}, \"type\": \"contourcarpet\"}], \"heatmap\": [{\"colorbar\": {\"outlinewidth\": 0, \"ticks\": \"\"}, \"colorscale\": [[0.0, \"#0d0887\"], [0.1111111111111111, \"#46039f\"], [0.2222222222222222, \"#7201a8\"], [0.3333333333333333, \"#9c179e\"], [0.4444444444444444, \"#bd3786\"], [0.5555555555555556, \"#d8576b\"], [0.6666666666666666, \"#ed7953\"], [0.7777777777777778, \"#fb9f3a\"], [0.8888888888888888, \"#fdca26\"], [1.0, \"#f0f921\"]], \"type\": \"heatmap\"}], \"heatmapgl\": [{\"colorbar\": {\"outlinewidth\": 0, \"ticks\": \"\"}, \"colorscale\": [[0.0, \"#0d0887\"], [0.1111111111111111, \"#46039f\"], [0.2222222222222222, \"#7201a8\"], [0.3333333333333333, \"#9c179e\"], [0.4444444444444444, \"#bd3786\"], [0.5555555555555556, \"#d8576b\"], [0.6666666666666666, \"#ed7953\"], [0.7777777777777778, \"#fb9f3a\"], [0.8888888888888888, \"#fdca26\"], [1.0, \"#f0f921\"]], \"type\": \"heatmapgl\"}], \"histogram\": [{\"marker\": {\"colorbar\": {\"outlinewidth\": 0, \"ticks\": \"\"}}, \"type\": \"histogram\"}], \"histogram2d\": [{\"colorbar\": {\"outlinewidth\": 0, \"ticks\": \"\"}, \"colorscale\": [[0.0, \"#0d0887\"], [0.1111111111111111, \"#46039f\"], [0.2222222222222222, \"#7201a8\"], [0.3333333333333333, \"#9c179e\"], [0.4444444444444444, \"#bd3786\"], [0.5555555555555556, \"#d8576b\"], [0.6666666666666666, \"#ed7953\"], [0.7777777777777778, \"#fb9f3a\"], [0.8888888888888888, \"#fdca26\"], [1.0, \"#f0f921\"]], \"type\": \"histogram2d\"}], \"histogram2dcontour\": [{\"colorbar\": {\"outlinewidth\": 0, \"ticks\": \"\"}, \"colorscale\": [[0.0, \"#0d0887\"], [0.1111111111111111, \"#46039f\"], [0.2222222222222222, \"#7201a8\"], [0.3333333333333333, \"#9c179e\"], [0.4444444444444444, \"#bd3786\"], [0.5555555555555556, \"#d8576b\"], [0.6666666666666666, \"#ed7953\"], [0.7777777777777778, \"#fb9f3a\"], [0.8888888888888888, \"#fdca26\"], [1.0, \"#f0f921\"]], \"type\": \"histogram2dcontour\"}], \"mesh3d\": [{\"colorbar\": {\"outlinewidth\": 0, \"ticks\": \"\"}, \"type\": \"mesh3d\"}], \"parcoords\": [{\"line\": {\"colorbar\": {\"outlinewidth\": 0, \"ticks\": \"\"}}, \"type\": \"parcoords\"}], \"pie\": [{\"automargin\": true, \"type\": \"pie\"}], \"scatter\": [{\"marker\": {\"colorbar\": {\"outlinewidth\": 0, \"ticks\": \"\"}}, \"type\": \"scatter\"}], \"scatter3d\": [{\"line\": {\"colorbar\": {\"outlinewidth\": 0, \"ticks\": \"\"}}, \"marker\": {\"colorbar\": {\"outlinewidth\": 0, \"ticks\": \"\"}}, \"type\": \"scatter3d\"}], \"scattercarpet\": [{\"marker\": {\"colorbar\": {\"outlinewidth\": 0, \"ticks\": \"\"}}, \"type\": \"scattercarpet\"}], \"scattergeo\": [{\"marker\": {\"colorbar\": {\"outlinewidth\": 0, \"ticks\": \"\"}}, \"type\": \"scattergeo\"}], \"scattergl\": [{\"marker\": {\"colorbar\": {\"outlinewidth\": 0, \"ticks\": \"\"}}, \"type\": \"scattergl\"}], \"scattermapbox\": [{\"marker\": {\"colorbar\": {\"outlinewidth\": 0, \"ticks\": \"\"}}, \"type\": \"scattermapbox\"}], \"scatterpolar\": [{\"marker\": {\"colorbar\": {\"outlinewidth\": 0, \"ticks\": \"\"}}, \"type\": \"scatterpolar\"}], \"scatterpolargl\": [{\"marker\": {\"colorbar\": {\"outlinewidth\": 0, \"ticks\": \"\"}}, \"type\": \"scatterpolargl\"}], \"scatterternary\": [{\"marker\": {\"colorbar\": {\"outlinewidth\": 0, \"ticks\": \"\"}}, \"type\": \"scatterternary\"}], \"surface\": [{\"colorbar\": {\"outlinewidth\": 0, \"ticks\": \"\"}, \"colorscale\": [[0.0, \"#0d0887\"], [0.1111111111111111, \"#46039f\"], [0.2222222222222222, \"#7201a8\"], [0.3333333333333333, \"#9c179e\"], [0.4444444444444444, \"#bd3786\"], [0.5555555555555556, \"#d8576b\"], [0.6666666666666666, \"#ed7953\"], [0.7777777777777778, \"#fb9f3a\"], [0.8888888888888888, \"#fdca26\"], [1.0, \"#f0f921\"]], \"type\": \"surface\"}], \"table\": [{\"cells\": {\"fill\": {\"color\": \"#EBF0F8\"}, \"line\": {\"color\": \"white\"}}, \"header\": {\"fill\": {\"color\": \"#C8D4E3\"}, \"line\": {\"color\": \"white\"}}, \"type\": \"table\"}]}, \"layout\": {\"annotationdefaults\": {\"arrowcolor\": \"#2a3f5f\", \"arrowhead\": 0, \"arrowwidth\": 1}, \"coloraxis\": {\"colorbar\": {\"outlinewidth\": 0, \"ticks\": \"\"}}, \"colorscale\": {\"diverging\": [[0, \"#8e0152\"], [0.1, \"#c51b7d\"], [0.2, \"#de77ae\"], [0.3, \"#f1b6da\"], [0.4, \"#fde0ef\"], [0.5, \"#f7f7f7\"], [0.6, \"#e6f5d0\"], [0.7, \"#b8e186\"], [0.8, \"#7fbc41\"], [0.9, \"#4d9221\"], [1, \"#276419\"]], \"sequential\": [[0.0, \"#0d0887\"], [0.1111111111111111, \"#46039f\"], [0.2222222222222222, \"#7201a8\"], [0.3333333333333333, \"#9c179e\"], [0.4444444444444444, \"#bd3786\"], [0.5555555555555556, \"#d8576b\"], [0.6666666666666666, \"#ed7953\"], [0.7777777777777778, \"#fb9f3a\"], [0.8888888888888888, \"#fdca26\"], [1.0, \"#f0f921\"]], \"sequentialminus\": [[0.0, \"#0d0887\"], [0.1111111111111111, \"#46039f\"], [0.2222222222222222, \"#7201a8\"], [0.3333333333333333, \"#9c179e\"], [0.4444444444444444, \"#bd3786\"], [0.5555555555555556, \"#d8576b\"], [0.6666666666666666, \"#ed7953\"], [0.7777777777777778, \"#fb9f3a\"], [0.8888888888888888, \"#fdca26\"], [1.0, \"#f0f921\"]]}, \"colorway\": [\"#636efa\", \"#EF553B\", \"#00cc96\", \"#ab63fa\", \"#FFA15A\", \"#19d3f3\", \"#FF6692\", \"#B6E880\", \"#FF97FF\", \"#FECB52\"], \"font\": {\"color\": \"#2a3f5f\"}, \"geo\": {\"bgcolor\": \"white\", \"lakecolor\": \"white\", \"landcolor\": \"#E5ECF6\", \"showlakes\": true, \"showland\": true, \"subunitcolor\": \"white\"}, \"hoverlabel\": {\"align\": \"left\"}, \"hovermode\": \"closest\", \"mapbox\": {\"style\": \"light\"}, \"paper_bgcolor\": \"white\", \"plot_bgcolor\": \"#E5ECF6\", \"polar\": {\"angularaxis\": {\"gridcolor\": \"white\", \"linecolor\": \"white\", \"ticks\": \"\"}, \"bgcolor\": \"#E5ECF6\", \"radialaxis\": {\"gridcolor\": \"white\", \"linecolor\": \"white\", \"ticks\": \"\"}}, \"scene\": {\"xaxis\": {\"backgroundcolor\": \"#E5ECF6\", \"gridcolor\": \"white\", \"gridwidth\": 2, \"linecolor\": \"white\", \"showbackground\": true, \"ticks\": \"\", \"zerolinecolor\": \"white\"}, \"yaxis\": {\"backgroundcolor\": \"#E5ECF6\", \"gridcolor\": \"white\", \"gridwidth\": 2, \"linecolor\": \"white\", \"showbackground\": true, \"ticks\": \"\", \"zerolinecolor\": \"white\"}, \"zaxis\": {\"backgroundcolor\": \"#E5ECF6\", \"gridcolor\": \"white\", \"gridwidth\": 2, \"linecolor\": \"white\", \"showbackground\": true, \"ticks\": \"\", \"zerolinecolor\": \"white\"}}, \"shapedefaults\": {\"line\": {\"color\": \"#2a3f5f\"}}, \"ternary\": {\"aaxis\": {\"gridcolor\": \"white\", \"linecolor\": \"white\", \"ticks\": \"\"}, \"baxis\": {\"gridcolor\": \"white\", \"linecolor\": \"white\", \"ticks\": \"\"}, \"bgcolor\": \"#E5ECF6\", \"caxis\": {\"gridcolor\": \"white\", \"linecolor\": \"white\", \"ticks\": \"\"}}, \"title\": {\"x\": 0.05}, \"xaxis\": {\"automargin\": true, \"gridcolor\": \"white\", \"linecolor\": \"white\", \"ticks\": \"\", \"title\": {\"standoff\": 15}, \"zerolinecolor\": \"white\", \"zerolinewidth\": 2}, \"yaxis\": {\"automargin\": true, \"gridcolor\": \"white\", \"linecolor\": \"white\", \"ticks\": \"\", \"title\": {\"standoff\": 15}, \"zerolinecolor\": \"white\", \"zerolinewidth\": 2}}}, \"title\": {\"text\": \"Frequency of Elevator Calls by Floor\"}, \"updatemenus\": [{\"buttons\": [{\"args\": [null, {\"frame\": {\"duration\": 500, \"redraw\": true}, \"fromcurrent\": true, \"mode\": \"immediate\", \"transition\": {\"duration\": 500, \"easing\": \"linear\"}}], \"label\": \"&#9654;\", \"method\": \"animate\"}, {\"args\": [[null], {\"frame\": {\"duration\": 0, \"redraw\": true}, \"fromcurrent\": true, \"mode\": \"immediate\", \"transition\": {\"duration\": 0, \"easing\": \"linear\"}}], \"label\": \"&#9724;\", \"method\": \"animate\"}], \"direction\": \"left\", \"pad\": {\"r\": 10, \"t\": 70}, \"showactive\": false, \"type\": \"buttons\", \"x\": 0.1, \"xanchor\": \"right\", \"y\": 0, \"yanchor\": \"top\"}], \"xaxis\": {\"anchor\": \"y\", \"categoryarray\": [\"B4\", \"B3\", \"B2\", \"B1\", \"01\", \"02\", \"03\", \"04\", \"05\", \"06\", \"07\", \"08\", \"09\", \"10\", \"11\", \"12\", \"13\", \"14\", \"15\"], \"domain\": [0.0, 0.49], \"nticks\": 19, \"title\": {\"text\": \"floor\"}, \"type\": \"category\"}, \"xaxis2\": {\"anchor\": \"y2\", \"categoryarray\": [\"B4\", \"B3\", \"B2\", \"B1\", \"01\", \"02\", \"03\", \"04\", \"05\", \"06\", \"07\", \"08\", \"09\", \"10\", \"11\", \"12\", \"13\", \"14\", \"15\"], \"domain\": [0.51, 1.0], \"matches\": \"x\", \"nticks\": 19, \"title\": {\"text\": \"floor\"}, \"type\": \"category\"}, \"yaxis\": {\"anchor\": \"x\", \"domain\": [0.0, 1.0], \"range\": [0, 1000], \"title\": {\"text\": \"Frequency\"}}, \"yaxis2\": {\"anchor\": \"x2\", \"domain\": [0.0, 1.0], \"matches\": \"y\", \"range\": [0, 1000], \"showticklabels\": false}},\n",
       "                        {\"responsive\": true}\n",
       "                    ).then(function(){\n",
       "                            Plotly.addFrames('3f80010a-94f3-4ed4-953f-34b8c3ad41cf', [{\"data\": [{\"alignmentgroup\": \"True\", \"hovertemplate\": \"direction=down<br>Local Time (GMT+8)=0<br>floor=%{x}<br>Frequency=%{y}<extra></extra>\", \"legendgroup\": \"down\", \"marker\": {\"color\": \"#636efa\"}, \"name\": \"down\", \"offsetgroup\": \"down\", \"orientation\": \"v\", \"showlegend\": true, \"textposition\": \"auto\", \"x\": [\"01\", \"02\", \"03\", \"04\", \"05\", \"06\", \"07\", \"08\", \"09\", \"10\", \"11\", \"12\", \"13\", \"14\", \"15\", \"B1\", \"B3\", \"B4\", \"01\", \"02\", \"03\", \"04\", \"05\", \"06\", \"07\", \"08\", \"09\", \"10\", \"11\", \"12\", \"13\", \"14\", \"15\", \"B1\", \"B3\", \"B4\"], \"xaxis\": \"x\", \"y\": [31, 1, 93, 190, 56, 59, 78, 128, 65, 8, 59, 77, 49, 54, 30, 5, 1, 0, 16, 0, 39, 67, 13, 34, 18, 54, 25, 3, 18, 31, 15, 20, 17, 3, 0, 0], \"yaxis\": \"y\", \"type\": \"bar\"}, {\"alignmentgroup\": \"True\", \"hovertemplate\": \"direction=up<br>Local Time (GMT+8)=0<br>floor=%{x}<br>Frequency=%{y}<extra></extra>\", \"legendgroup\": \"up\", \"marker\": {\"color\": \"#EF553B\"}, \"name\": \"up\", \"offsetgroup\": \"up\", \"orientation\": \"v\", \"showlegend\": true, \"textposition\": \"auto\", \"x\": [\"01\", \"02\", \"03\", \"04\", \"05\", \"06\", \"07\", \"08\", \"09\", \"10\", \"11\", \"12\", \"13\", \"14\", \"15\", \"B1\", \"B3\", \"B4\", \"01\", \"02\", \"03\", \"04\", \"05\", \"06\", \"07\", \"08\", \"09\", \"10\", \"11\", \"12\", \"13\", \"14\", \"15\", \"B1\", \"B3\", \"B4\"], \"xaxis\": \"x2\", \"y\": [358, 0, 8, 7, 3, 7, 7, 2, 2, 0, 1, 2, 3, 1, 0, 39, 1, 9, 138, 0, 2, 1, 7, 0, 0, 0, 1, 0, 0, 1, 0, 1, 0, 16, 1, 3], \"yaxis\": \"y2\", \"type\": \"bar\"}], \"name\": \"0\"}, {\"data\": [{\"alignmentgroup\": \"True\", \"hovertemplate\": \"direction=down<br>Local Time (GMT+8)=1<br>floor=%{x}<br>Frequency=%{y}<extra></extra>\", \"legendgroup\": \"down\", \"marker\": {\"color\": \"#636efa\"}, \"name\": \"down\", \"offsetgroup\": \"down\", \"orientation\": \"v\", \"showlegend\": true, \"textposition\": \"auto\", \"x\": [\"01\", \"02\", \"03\", \"04\", \"05\", \"06\", \"07\", \"08\", \"09\", \"10\", \"11\", \"12\", \"13\", \"14\", \"15\", \"B1\", \"B3\", \"B4\", \"01\", \"02\", \"03\", \"04\", \"05\", \"06\", \"07\", \"08\", \"09\", \"10\", \"11\", \"12\", \"13\", \"14\", \"15\", \"B1\", \"B3\", \"B4\"], \"xaxis\": \"x\", \"y\": [17, 2, 48, 45, 54, 58, 54, 42, 61, 5, 26, 63, 19, 86, 10, 18, 0, 0, 3, 0, 10, 16, 16, 12, 20, 15, 15, 2, 11, 20, 9, 21, 7, 3, 0, 0], \"yaxis\": \"y\", \"type\": \"bar\"}, {\"alignmentgroup\": \"True\", \"hovertemplate\": \"direction=up<br>Local Time (GMT+8)=1<br>floor=%{x}<br>Frequency=%{y}<extra></extra>\", \"legendgroup\": \"up\", \"marker\": {\"color\": \"#EF553B\"}, \"name\": \"up\", \"offsetgroup\": \"up\", \"orientation\": \"v\", \"showlegend\": true, \"textposition\": \"auto\", \"x\": [\"01\", \"02\", \"03\", \"04\", \"05\", \"06\", \"07\", \"08\", \"09\", \"10\", \"11\", \"12\", \"13\", \"14\", \"15\", \"B1\", \"B3\", \"B4\", \"01\", \"02\", \"03\", \"04\", \"05\", \"06\", \"07\", \"08\", \"09\", \"10\", \"11\", \"12\", \"13\", \"14\", \"15\", \"B1\", \"B3\", \"B4\"], \"xaxis\": \"x2\", \"y\": [227, 5, 11, 2, 5, 2, 2, 5, 2, 0, 0, 1, 1, 1, 0, 39, 1, 4, 72, 0, 3, 2, 0, 3, 2, 0, 0, 0, 0, 1, 1, 1, 0, 14, 1, 0], \"yaxis\": \"y2\", \"type\": \"bar\"}], \"name\": \"1\"}, {\"data\": [{\"alignmentgroup\": \"True\", \"hovertemplate\": \"direction=down<br>Local Time (GMT+8)=2<br>floor=%{x}<br>Frequency=%{y}<extra></extra>\", \"legendgroup\": \"down\", \"marker\": {\"color\": \"#636efa\"}, \"name\": \"down\", \"offsetgroup\": \"down\", \"orientation\": \"v\", \"showlegend\": true, \"textposition\": \"auto\", \"x\": [\"01\", \"02\", \"03\", \"04\", \"05\", \"06\", \"07\", \"08\", \"09\", \"10\", \"11\", \"12\", \"13\", \"14\", \"15\", \"B1\", \"B3\", \"B4\", \"01\", \"02\", \"03\", \"04\", \"05\", \"06\", \"07\", \"08\", \"09\", \"10\", \"11\", \"12\", \"13\", \"14\", \"15\", \"B1\", \"B3\", \"B4\"], \"xaxis\": \"x\", \"y\": [3, 1, 16, 11, 33, 21, 49, 25, 12, 4, 11, 35, 19, 20, 0, 1, 0, 0, 2, 0, 3, 5, 5, 5, 23, 6, 8, 1, 7, 19, 5, 11, 2, 0, 0, 0], \"yaxis\": \"y\", \"type\": \"bar\"}, {\"alignmentgroup\": \"True\", \"hovertemplate\": \"direction=up<br>Local Time (GMT+8)=2<br>floor=%{x}<br>Frequency=%{y}<extra></extra>\", \"legendgroup\": \"up\", \"marker\": {\"color\": \"#EF553B\"}, \"name\": \"up\", \"offsetgroup\": \"up\", \"orientation\": \"v\", \"showlegend\": true, \"textposition\": \"auto\", \"x\": [\"01\", \"02\", \"03\", \"04\", \"05\", \"06\", \"07\", \"08\", \"09\", \"10\", \"11\", \"12\", \"13\", \"14\", \"15\", \"B1\", \"B3\", \"B4\", \"01\", \"02\", \"03\", \"04\", \"05\", \"06\", \"07\", \"08\", \"09\", \"10\", \"11\", \"12\", \"13\", \"14\", \"15\", \"B1\", \"B3\", \"B4\"], \"xaxis\": \"x2\", \"y\": [123, 1, 5, 3, 5, 3, 0, 0, 1, 1, 1, 0, 0, 0, 0, 18, 0, 4, 50, 0, 7, 1, 2, 0, 0, 0, 0, 0, 0, 0, 1, 0, 0, 11, 0, 0], \"yaxis\": \"y2\", \"type\": \"bar\"}], \"name\": \"2\"}, {\"data\": [{\"alignmentgroup\": \"True\", \"hovertemplate\": \"direction=down<br>Local Time (GMT+8)=3<br>floor=%{x}<br>Frequency=%{y}<extra></extra>\", \"legendgroup\": \"down\", \"marker\": {\"color\": \"#636efa\"}, \"name\": \"down\", \"offsetgroup\": \"down\", \"orientation\": \"v\", \"showlegend\": true, \"textposition\": \"auto\", \"x\": [\"01\", \"02\", \"03\", \"04\", \"05\", \"06\", \"07\", \"08\", \"09\", \"10\", \"11\", \"12\", \"13\", \"14\", \"15\", \"B1\", \"B3\", \"B4\", \"01\", \"02\", \"03\", \"04\", \"05\", \"06\", \"07\", \"08\", \"09\", \"10\", \"11\", \"12\", \"13\", \"14\", \"15\", \"B1\", \"B3\", \"B4\"], \"xaxis\": \"x\", \"y\": [11, 2, 10, 7, 15, 20, 34, 13, 5, 4, 8, 10, 22, 14, 3, 1, 0, 0, 3, 0, 3, 4, 3, 8, 7, 1, 4, 0, 3, 12, 3, 5, 3, 0, 0, 0], \"yaxis\": \"y\", \"type\": \"bar\"}, {\"alignmentgroup\": \"True\", \"hovertemplate\": \"direction=up<br>Local Time (GMT+8)=3<br>floor=%{x}<br>Frequency=%{y}<extra></extra>\", \"legendgroup\": \"up\", \"marker\": {\"color\": \"#EF553B\"}, \"name\": \"up\", \"offsetgroup\": \"up\", \"orientation\": \"v\", \"showlegend\": true, \"textposition\": \"auto\", \"x\": [\"01\", \"02\", \"03\", \"04\", \"05\", \"06\", \"07\", \"08\", \"09\", \"10\", \"11\", \"12\", \"13\", \"14\", \"15\", \"B1\", \"B3\", \"B4\", \"01\", \"02\", \"03\", \"04\", \"05\", \"06\", \"07\", \"08\", \"09\", \"10\", \"11\", \"12\", \"13\", \"14\", \"15\", \"B1\", \"B3\", \"B4\"], \"xaxis\": \"x2\", \"y\": [82, 3, 4, 2, 4, 2, 2, 0, 0, 0, 0, 0, 0, 0, 0, 24, 0, 4, 31, 2, 2, 2, 0, 0, 2, 0, 1, 0, 1, 1, 0, 1, 0, 8, 0, 2], \"yaxis\": \"y2\", \"type\": \"bar\"}], \"name\": \"3\"}, {\"data\": [{\"alignmentgroup\": \"True\", \"hovertemplate\": \"direction=down<br>Local Time (GMT+8)=4<br>floor=%{x}<br>Frequency=%{y}<extra></extra>\", \"legendgroup\": \"down\", \"marker\": {\"color\": \"#636efa\"}, \"name\": \"down\", \"offsetgroup\": \"down\", \"orientation\": \"v\", \"showlegend\": true, \"textposition\": \"auto\", \"x\": [\"01\", \"02\", \"03\", \"04\", \"05\", \"06\", \"07\", \"08\", \"09\", \"10\", \"11\", \"12\", \"13\", \"14\", \"15\", \"B1\", \"B3\", \"B4\", \"01\", \"02\", \"03\", \"04\", \"05\", \"06\", \"07\", \"08\", \"09\", \"10\", \"11\", \"12\", \"13\", \"14\", \"15\", \"B1\", \"B3\", \"B4\"], \"xaxis\": \"x\", \"y\": [19, 4, 9, 7, 13, 23, 20, 17, 12, 3, 7, 18, 18, 17, 0, 0, 0, 0, 6, 0, 3, 7, 3, 6, 7, 4, 4, 2, 2, 9, 3, 4, 0, 0, 0, 0], \"yaxis\": \"y\", \"type\": \"bar\"}, {\"alignmentgroup\": \"True\", \"hovertemplate\": \"direction=up<br>Local Time (GMT+8)=4<br>floor=%{x}<br>Frequency=%{y}<extra></extra>\", \"legendgroup\": \"up\", \"marker\": {\"color\": \"#EF553B\"}, \"name\": \"up\", \"offsetgroup\": \"up\", \"orientation\": \"v\", \"showlegend\": true, \"textposition\": \"auto\", \"x\": [\"01\", \"02\", \"03\", \"04\", \"05\", \"06\", \"07\", \"08\", \"09\", \"10\", \"11\", \"12\", \"13\", \"14\", \"15\", \"B1\", \"B3\", \"B4\", \"01\", \"02\", \"03\", \"04\", \"05\", \"06\", \"07\", \"08\", \"09\", \"10\", \"11\", \"12\", \"13\", \"14\", \"15\", \"B1\", \"B3\", \"B4\"], \"xaxis\": \"x2\", \"y\": [115, 0, 5, 3, 3, 1, 4, 0, 0, 0, 0, 0, 0, 0, 0, 27, 2, 4, 36, 0, 3, 1, 2, 0, 0, 0, 0, 0, 0, 0, 0, 0, 0, 5, 1, 2], \"yaxis\": \"y2\", \"type\": \"bar\"}], \"name\": \"4\"}, {\"data\": [{\"alignmentgroup\": \"True\", \"hovertemplate\": \"direction=down<br>Local Time (GMT+8)=5<br>floor=%{x}<br>Frequency=%{y}<extra></extra>\", \"legendgroup\": \"down\", \"marker\": {\"color\": \"#636efa\"}, \"name\": \"down\", \"offsetgroup\": \"down\", \"orientation\": \"v\", \"showlegend\": true, \"textposition\": \"auto\", \"x\": [\"01\", \"02\", \"03\", \"04\", \"05\", \"06\", \"07\", \"08\", \"09\", \"10\", \"11\", \"12\", \"13\", \"14\", \"15\", \"B1\", \"B3\", \"B4\", \"01\", \"02\", \"03\", \"04\", \"05\", \"06\", \"07\", \"08\", \"09\", \"10\", \"11\", \"12\", \"13\", \"14\", \"15\", \"B1\", \"B3\", \"B4\"], \"xaxis\": \"x\", \"y\": [20, 0, 9, 8, 28, 60, 60, 28, 27, 3, 41, 66, 42, 48, 4, 0, 0, 0, 6, 0, 2, 3, 8, 21, 17, 12, 13, 0, 19, 13, 14, 14, 1, 0, 0, 0], \"yaxis\": \"y\", \"type\": \"bar\"}, {\"alignmentgroup\": \"True\", \"hovertemplate\": \"direction=up<br>Local Time (GMT+8)=5<br>floor=%{x}<br>Frequency=%{y}<extra></extra>\", \"legendgroup\": \"up\", \"marker\": {\"color\": \"#EF553B\"}, \"name\": \"up\", \"offsetgroup\": \"up\", \"orientation\": \"v\", \"showlegend\": true, \"textposition\": \"auto\", \"x\": [\"01\", \"02\", \"03\", \"04\", \"05\", \"06\", \"07\", \"08\", \"09\", \"10\", \"11\", \"12\", \"13\", \"14\", \"15\", \"B1\", \"B3\", \"B4\", \"01\", \"02\", \"03\", \"04\", \"05\", \"06\", \"07\", \"08\", \"09\", \"10\", \"11\", \"12\", \"13\", \"14\", \"15\", \"B1\", \"B3\", \"B4\"], \"xaxis\": \"x2\", \"y\": [260, 0, 4, 3, 1, 4, 1, 1, 0, 0, 2, 2, 5, 1, 0, 35, 1, 14, 79, 0, 2, 1, 1, 2, 0, 1, 3, 0, 0, 1, 0, 0, 0, 25, 3, 2], \"yaxis\": \"y2\", \"type\": \"bar\"}], \"name\": \"5\"}, {\"data\": [{\"alignmentgroup\": \"True\", \"hovertemplate\": \"direction=down<br>Local Time (GMT+8)=6<br>floor=%{x}<br>Frequency=%{y}<extra></extra>\", \"legendgroup\": \"down\", \"marker\": {\"color\": \"#636efa\"}, \"name\": \"down\", \"offsetgroup\": \"down\", \"orientation\": \"v\", \"showlegend\": true, \"textposition\": \"auto\", \"x\": [\"01\", \"02\", \"03\", \"04\", \"05\", \"06\", \"07\", \"08\", \"09\", \"10\", \"11\", \"12\", \"13\", \"14\", \"15\", \"B1\", \"B3\", \"B4\", \"01\", \"02\", \"03\", \"04\", \"05\", \"06\", \"07\", \"08\", \"09\", \"10\", \"11\", \"12\", \"13\", \"14\", \"15\", \"B1\", \"B3\", \"B4\"], \"xaxis\": \"x\", \"y\": [102, 19, 111, 23, 83, 216, 195, 155, 103, 0, 146, 129, 173, 209, 6, 40, 1, 0, 24, 4, 23, 16, 25, 63, 46, 49, 43, 0, 62, 28, 44, 65, 6, 5, 0, 0], \"yaxis\": \"y\", \"type\": \"bar\"}, {\"alignmentgroup\": \"True\", \"hovertemplate\": \"direction=up<br>Local Time (GMT+8)=6<br>floor=%{x}<br>Frequency=%{y}<extra></extra>\", \"legendgroup\": \"up\", \"marker\": {\"color\": \"#EF553B\"}, \"name\": \"up\", \"offsetgroup\": \"up\", \"orientation\": \"v\", \"showlegend\": true, \"textposition\": \"auto\", \"x\": [\"01\", \"02\", \"03\", \"04\", \"05\", \"06\", \"07\", \"08\", \"09\", \"10\", \"11\", \"12\", \"13\", \"14\", \"15\", \"B1\", \"B3\", \"B4\", \"01\", \"02\", \"03\", \"04\", \"05\", \"06\", \"07\", \"08\", \"09\", \"10\", \"11\", \"12\", \"13\", \"14\", \"15\", \"B1\", \"B3\", \"B4\"], \"xaxis\": \"x2\", \"y\": [971, 0, 9, 11, 16, 66, 6, 7, 5, 3, 3, 7, 13, 14, 0, 381, 33, 81, 299, 1, 0, 3, 3, 18, 0, 3, 0, 0, 0, 1, 6, 0, 0, 140, 3, 7], \"yaxis\": \"y2\", \"type\": \"bar\"}], \"name\": \"6\"}, {\"data\": [{\"alignmentgroup\": \"True\", \"hovertemplate\": \"direction=down<br>Local Time (GMT+8)=7<br>floor=%{x}<br>Frequency=%{y}<extra></extra>\", \"legendgroup\": \"down\", \"marker\": {\"color\": \"#636efa\"}, \"name\": \"down\", \"offsetgroup\": \"down\", \"orientation\": \"v\", \"showlegend\": true, \"textposition\": \"auto\", \"x\": [\"01\", \"02\", \"03\", \"04\", \"05\", \"06\", \"07\", \"08\", \"09\", \"10\", \"11\", \"12\", \"13\", \"14\", \"15\", \"B1\", \"B3\", \"B4\", \"01\", \"02\", \"03\", \"04\", \"05\", \"06\", \"07\", \"08\", \"09\", \"10\", \"11\", \"12\", \"13\", \"14\", \"15\", \"B1\", \"B3\", \"B4\"], \"xaxis\": \"x\", \"y\": [182, 14, 134, 82, 145, 266, 251, 290, 250, 15, 273, 276, 297, 270, 81, 65, 17, 0, 34, 7, 31, 19, 47, 82, 83, 81, 59, 0, 100, 89, 73, 92, 15, 20, 2, 0], \"yaxis\": \"y\", \"type\": \"bar\"}, {\"alignmentgroup\": \"True\", \"hovertemplate\": \"direction=up<br>Local Time (GMT+8)=7<br>floor=%{x}<br>Frequency=%{y}<extra></extra>\", \"legendgroup\": \"up\", \"marker\": {\"color\": \"#EF553B\"}, \"name\": \"up\", \"offsetgroup\": \"up\", \"orientation\": \"v\", \"showlegend\": true, \"textposition\": \"auto\", \"x\": [\"01\", \"02\", \"03\", \"04\", \"05\", \"06\", \"07\", \"08\", \"09\", \"10\", \"11\", \"12\", \"13\", \"14\", \"15\", \"B1\", \"B3\", \"B4\", \"01\", \"02\", \"03\", \"04\", \"05\", \"06\", \"07\", \"08\", \"09\", \"10\", \"11\", \"12\", \"13\", \"14\", \"15\", \"B1\", \"B3\", \"B4\"], \"xaxis\": \"x2\", \"y\": [689, 39, 93, 68, 41, 84, 29, 25, 46, 3, 11, 15, 34, 10, 0, 602, 225, 311, 339, 6, 7, 12, 6, 11, 5, 5, 9, 0, 4, 3, 7, 2, 0, 256, 20, 33], \"yaxis\": \"y2\", \"type\": \"bar\"}], \"name\": \"7\"}, {\"data\": [{\"alignmentgroup\": \"True\", \"hovertemplate\": \"direction=down<br>Local Time (GMT+8)=8<br>floor=%{x}<br>Frequency=%{y}<extra></extra>\", \"legendgroup\": \"down\", \"marker\": {\"color\": \"#636efa\"}, \"name\": \"down\", \"offsetgroup\": \"down\", \"orientation\": \"v\", \"showlegend\": true, \"textposition\": \"auto\", \"x\": [\"01\", \"02\", \"03\", \"04\", \"05\", \"06\", \"07\", \"08\", \"09\", \"10\", \"11\", \"12\", \"13\", \"14\", \"15\", \"B1\", \"B3\", \"B4\", \"01\", \"02\", \"03\", \"04\", \"05\", \"06\", \"07\", \"08\", \"09\", \"10\", \"11\", \"12\", \"13\", \"14\", \"15\", \"B1\", \"B3\", \"B4\"], \"xaxis\": \"x\", \"y\": [212, 32, 225, 194, 192, 334, 295, 354, 365, 53, 363, 286, 322, 294, 139, 98, 15, 0, 42, 0, 45, 53, 53, 90, 79, 96, 109, 7, 88, 110, 110, 92, 31, 12, 0, 0], \"yaxis\": \"y\", \"type\": \"bar\"}, {\"alignmentgroup\": \"True\", \"hovertemplate\": \"direction=up<br>Local Time (GMT+8)=8<br>floor=%{x}<br>Frequency=%{y}<extra></extra>\", \"legendgroup\": \"up\", \"marker\": {\"color\": \"#EF553B\"}, \"name\": \"up\", \"offsetgroup\": \"up\", \"orientation\": \"v\", \"showlegend\": true, \"textposition\": \"auto\", \"x\": [\"01\", \"02\", \"03\", \"04\", \"05\", \"06\", \"07\", \"08\", \"09\", \"10\", \"11\", \"12\", \"13\", \"14\", \"15\", \"B1\", \"B3\", \"B4\", \"01\", \"02\", \"03\", \"04\", \"05\", \"06\", \"07\", \"08\", \"09\", \"10\", \"11\", \"12\", \"13\", \"14\", \"15\", \"B1\", \"B3\", \"B4\"], \"xaxis\": \"x2\", \"y\": [642, 66, 146, 106, 52, 50, 39, 20, 27, 10, 8, 13, 7, 16, 0, 567, 179, 286, 302, 2, 17, 11, 12, 3, 6, 3, 3, 0, 1, 5, 4, 2, 0, 224, 18, 44], \"yaxis\": \"y2\", \"type\": \"bar\"}], \"name\": \"8\"}, {\"data\": [{\"alignmentgroup\": \"True\", \"hovertemplate\": \"direction=down<br>Local Time (GMT+8)=9<br>floor=%{x}<br>Frequency=%{y}<extra></extra>\", \"legendgroup\": \"down\", \"marker\": {\"color\": \"#636efa\"}, \"name\": \"down\", \"offsetgroup\": \"down\", \"orientation\": \"v\", \"showlegend\": true, \"textposition\": \"auto\", \"x\": [\"01\", \"02\", \"03\", \"04\", \"05\", \"06\", \"07\", \"08\", \"09\", \"10\", \"11\", \"12\", \"13\", \"14\", \"15\", \"B1\", \"B3\", \"B4\", \"01\", \"02\", \"03\", \"04\", \"05\", \"06\", \"07\", \"08\", \"09\", \"10\", \"11\", \"12\", \"13\", \"14\", \"15\", \"B1\", \"B3\", \"B4\"], \"xaxis\": \"x\", \"y\": [176, 57, 197, 196, 239, 309, 287, 312, 313, 144, 303, 301, 332, 323, 164, 100, 18, 0, 32, 5, 50, 27, 64, 110, 102, 99, 100, 2, 102, 91, 115, 128, 31, 16, 0, 0], \"yaxis\": \"y\", \"type\": \"bar\"}, {\"alignmentgroup\": \"True\", \"hovertemplate\": \"direction=up<br>Local Time (GMT+8)=9<br>floor=%{x}<br>Frequency=%{y}<extra></extra>\", \"legendgroup\": \"up\", \"marker\": {\"color\": \"#EF553B\"}, \"name\": \"up\", \"offsetgroup\": \"up\", \"orientation\": \"v\", \"showlegend\": true, \"textposition\": \"auto\", \"x\": [\"01\", \"02\", \"03\", \"04\", \"05\", \"06\", \"07\", \"08\", \"09\", \"10\", \"11\", \"12\", \"13\", \"14\", \"15\", \"B1\", \"B3\", \"B4\", \"01\", \"02\", \"03\", \"04\", \"05\", \"06\", \"07\", \"08\", \"09\", \"10\", \"11\", \"12\", \"13\", \"14\", \"15\", \"B1\", \"B3\", \"B4\"], \"xaxis\": \"x2\", \"y\": [572, 125, 135, 186, 90, 43, 65, 47, 44, 12, 14, 12, 21, 10, 0, 460, 161, 242, 305, 0, 16, 11, 14, 6, 7, 8, 14, 0, 2, 4, 2, 2, 0, 221, 13, 56], \"yaxis\": \"y2\", \"type\": \"bar\"}], \"name\": \"9\"}, {\"data\": [{\"alignmentgroup\": \"True\", \"hovertemplate\": \"direction=down<br>Local Time (GMT+8)=10<br>floor=%{x}<br>Frequency=%{y}<extra></extra>\", \"legendgroup\": \"down\", \"marker\": {\"color\": \"#636efa\"}, \"name\": \"down\", \"offsetgroup\": \"down\", \"orientation\": \"v\", \"showlegend\": true, \"textposition\": \"auto\", \"x\": [\"01\", \"02\", \"03\", \"04\", \"05\", \"06\", \"07\", \"08\", \"09\", \"10\", \"11\", \"12\", \"13\", \"14\", \"15\", \"B1\", \"B3\", \"B4\", \"01\", \"02\", \"03\", \"04\", \"05\", \"06\", \"07\", \"08\", \"09\", \"10\", \"11\", \"12\", \"13\", \"14\", \"15\", \"B1\", \"B3\", \"B4\"], \"xaxis\": \"x\", \"y\": [203, 53, 224, 199, 232, 312, 289, 301, 293, 163, 283, 286, 307, 302, 148, 105, 31, 0, 35, 3, 39, 27, 70, 115, 109, 131, 120, 8, 123, 102, 96, 110, 29, 12, 0, 0], \"yaxis\": \"y\", \"type\": \"bar\"}, {\"alignmentgroup\": \"True\", \"hovertemplate\": \"direction=up<br>Local Time (GMT+8)=10<br>floor=%{x}<br>Frequency=%{y}<extra></extra>\", \"legendgroup\": \"up\", \"marker\": {\"color\": \"#EF553B\"}, \"name\": \"up\", \"offsetgroup\": \"up\", \"orientation\": \"v\", \"showlegend\": true, \"textposition\": \"auto\", \"x\": [\"01\", \"02\", \"03\", \"04\", \"05\", \"06\", \"07\", \"08\", \"09\", \"10\", \"11\", \"12\", \"13\", \"14\", \"15\", \"B1\", \"B3\", \"B4\", \"01\", \"02\", \"03\", \"04\", \"05\", \"06\", \"07\", \"08\", \"09\", \"10\", \"11\", \"12\", \"13\", \"14\", \"15\", \"B1\", \"B3\", \"B4\"], \"xaxis\": \"x2\", \"y\": [494, 90, 148, 128, 81, 83, 75, 80, 35, 28, 29, 37, 11, 8, 0, 411, 113, 257, 283, 2, 14, 15, 10, 11, 14, 6, 6, 1, 5, 3, 5, 1, 0, 196, 25, 28], \"yaxis\": \"y2\", \"type\": \"bar\"}], \"name\": \"10\"}, {\"data\": [{\"alignmentgroup\": \"True\", \"hovertemplate\": \"direction=down<br>Local Time (GMT+8)=11<br>floor=%{x}<br>Frequency=%{y}<extra></extra>\", \"legendgroup\": \"down\", \"marker\": {\"color\": \"#636efa\"}, \"name\": \"down\", \"offsetgroup\": \"down\", \"orientation\": \"v\", \"showlegend\": true, \"textposition\": \"auto\", \"x\": [\"01\", \"02\", \"03\", \"04\", \"05\", \"06\", \"07\", \"08\", \"09\", \"10\", \"11\", \"12\", \"13\", \"14\", \"15\", \"B1\", \"B3\", \"B4\", \"01\", \"02\", \"03\", \"04\", \"05\", \"06\", \"07\", \"08\", \"09\", \"10\", \"11\", \"12\", \"13\", \"14\", \"15\", \"B1\", \"B3\", \"B4\"], \"xaxis\": \"x\", \"y\": [219, 63, 227, 207, 195, 232, 281, 288, 286, 150, 289, 322, 333, 340, 204, 129, 29, 0, 34, 3, 83, 69, 71, 130, 146, 137, 130, 10, 131, 130, 124, 118, 62, 19, 3, 0], \"yaxis\": \"y\", \"type\": \"bar\"}, {\"alignmentgroup\": \"True\", \"hovertemplate\": \"direction=up<br>Local Time (GMT+8)=11<br>floor=%{x}<br>Frequency=%{y}<extra></extra>\", \"legendgroup\": \"up\", \"marker\": {\"color\": \"#EF553B\"}, \"name\": \"up\", \"offsetgroup\": \"up\", \"orientation\": \"v\", \"showlegend\": true, \"textposition\": \"auto\", \"x\": [\"01\", \"02\", \"03\", \"04\", \"05\", \"06\", \"07\", \"08\", \"09\", \"10\", \"11\", \"12\", \"13\", \"14\", \"15\", \"B1\", \"B3\", \"B4\", \"01\", \"02\", \"03\", \"04\", \"05\", \"06\", \"07\", \"08\", \"09\", \"10\", \"11\", \"12\", \"13\", \"14\", \"15\", \"B1\", \"B3\", \"B4\"], \"xaxis\": \"x2\", \"y\": [427, 110, 157, 146, 82, 81, 89, 62, 45, 32, 28, 48, 33, 13, 0, 469, 108, 264, 228, 9, 18, 26, 16, 10, 6, 9, 13, 0, 11, 9, 5, 5, 0, 205, 40, 34], \"yaxis\": \"y2\", \"type\": \"bar\"}], \"name\": \"11\"}, {\"data\": [{\"alignmentgroup\": \"True\", \"hovertemplate\": \"direction=down<br>Local Time (GMT+8)=12<br>floor=%{x}<br>Frequency=%{y}<extra></extra>\", \"legendgroup\": \"down\", \"marker\": {\"color\": \"#636efa\"}, \"name\": \"down\", \"offsetgroup\": \"down\", \"orientation\": \"v\", \"showlegend\": true, \"textposition\": \"auto\", \"x\": [\"01\", \"02\", \"03\", \"04\", \"05\", \"06\", \"07\", \"08\", \"09\", \"10\", \"11\", \"12\", \"13\", \"14\", \"15\", \"B1\", \"B3\", \"B4\", \"01\", \"02\", \"03\", \"04\", \"05\", \"06\", \"07\", \"08\", \"09\", \"10\", \"11\", \"12\", \"13\", \"14\", \"15\", \"B1\", \"B3\", \"B4\"], \"xaxis\": \"x\", \"y\": [196, 42, 210, 221, 203, 249, 286, 302, 290, 154, 306, 341, 349, 354, 204, 134, 28, 0, 36, 3, 86, 97, 87, 117, 143, 129, 135, 11, 119, 125, 112, 129, 30, 30, 3, 0], \"yaxis\": \"y\", \"type\": \"bar\"}, {\"alignmentgroup\": \"True\", \"hovertemplate\": \"direction=up<br>Local Time (GMT+8)=12<br>floor=%{x}<br>Frequency=%{y}<extra></extra>\", \"legendgroup\": \"up\", \"marker\": {\"color\": \"#EF553B\"}, \"name\": \"up\", \"offsetgroup\": \"up\", \"orientation\": \"v\", \"showlegend\": true, \"textposition\": \"auto\", \"x\": [\"01\", \"02\", \"03\", \"04\", \"05\", \"06\", \"07\", \"08\", \"09\", \"10\", \"11\", \"12\", \"13\", \"14\", \"15\", \"B1\", \"B3\", \"B4\", \"01\", \"02\", \"03\", \"04\", \"05\", \"06\", \"07\", \"08\", \"09\", \"10\", \"11\", \"12\", \"13\", \"14\", \"15\", \"B1\", \"B3\", \"B4\"], \"xaxis\": \"x2\", \"y\": [471, 89, 125, 95, 81, 61, 105, 50, 27, 15, 14, 27, 13, 14, 0, 499, 117, 200, 252, 3, 26, 19, 15, 9, 20, 8, 11, 2, 5, 3, 2, 2, 0, 221, 15, 32], \"yaxis\": \"y2\", \"type\": \"bar\"}], \"name\": \"12\"}, {\"data\": [{\"alignmentgroup\": \"True\", \"hovertemplate\": \"direction=down<br>Local Time (GMT+8)=13<br>floor=%{x}<br>Frequency=%{y}<extra></extra>\", \"legendgroup\": \"down\", \"marker\": {\"color\": \"#636efa\"}, \"name\": \"down\", \"offsetgroup\": \"down\", \"orientation\": \"v\", \"showlegend\": true, \"textposition\": \"auto\", \"x\": [\"01\", \"02\", \"03\", \"04\", \"05\", \"06\", \"07\", \"08\", \"09\", \"10\", \"11\", \"12\", \"13\", \"14\", \"15\", \"B1\", \"B3\", \"B4\", \"01\", \"02\", \"03\", \"04\", \"05\", \"06\", \"07\", \"08\", \"09\", \"10\", \"11\", \"12\", \"13\", \"14\", \"15\", \"B1\", \"B3\", \"B4\"], \"xaxis\": \"x\", \"y\": [197, 69, 223, 193, 220, 262, 311, 322, 298, 158, 336, 362, 333, 321, 165, 142, 17, 0, 41, 4, 59, 39, 53, 93, 123, 118, 94, 8, 102, 105, 80, 112, 23, 16, 1, 0], \"yaxis\": \"y\", \"type\": \"bar\"}, {\"alignmentgroup\": \"True\", \"hovertemplate\": \"direction=up<br>Local Time (GMT+8)=13<br>floor=%{x}<br>Frequency=%{y}<extra></extra>\", \"legendgroup\": \"up\", \"marker\": {\"color\": \"#EF553B\"}, \"name\": \"up\", \"offsetgroup\": \"up\", \"orientation\": \"v\", \"showlegend\": true, \"textposition\": \"auto\", \"x\": [\"01\", \"02\", \"03\", \"04\", \"05\", \"06\", \"07\", \"08\", \"09\", \"10\", \"11\", \"12\", \"13\", \"14\", \"15\", \"B1\", \"B3\", \"B4\", \"01\", \"02\", \"03\", \"04\", \"05\", \"06\", \"07\", \"08\", \"09\", \"10\", \"11\", \"12\", \"13\", \"14\", \"15\", \"B1\", \"B3\", \"B4\"], \"xaxis\": \"x2\", \"y\": [503, 102, 180, 149, 92, 49, 88, 50, 33, 26, 23, 29, 20, 20, 0, 454, 103, 251, 292, 0, 30, 8, 15, 10, 13, 5, 6, 2, 9, 5, 2, 4, 0, 235, 19, 37], \"yaxis\": \"y2\", \"type\": \"bar\"}], \"name\": \"13\"}, {\"data\": [{\"alignmentgroup\": \"True\", \"hovertemplate\": \"direction=down<br>Local Time (GMT+8)=14<br>floor=%{x}<br>Frequency=%{y}<extra></extra>\", \"legendgroup\": \"down\", \"marker\": {\"color\": \"#636efa\"}, \"name\": \"down\", \"offsetgroup\": \"down\", \"orientation\": \"v\", \"showlegend\": true, \"textposition\": \"auto\", \"x\": [\"01\", \"02\", \"03\", \"04\", \"05\", \"06\", \"07\", \"08\", \"09\", \"10\", \"11\", \"12\", \"13\", \"14\", \"15\", \"B1\", \"B3\", \"B4\", \"01\", \"02\", \"03\", \"04\", \"05\", \"06\", \"07\", \"08\", \"09\", \"10\", \"11\", \"12\", \"13\", \"14\", \"15\", \"B1\", \"B3\", \"B4\"], \"xaxis\": \"x\", \"y\": [185, 54, 236, 259, 240, 275, 305, 300, 300, 179, 272, 314, 331, 307, 149, 124, 26, 0, 29, 0, 67, 69, 58, 113, 117, 108, 106, 5, 112, 115, 99, 98, 30, 13, 4, 0], \"yaxis\": \"y\", \"type\": \"bar\"}, {\"alignmentgroup\": \"True\", \"hovertemplate\": \"direction=up<br>Local Time (GMT+8)=14<br>floor=%{x}<br>Frequency=%{y}<extra></extra>\", \"legendgroup\": \"up\", \"marker\": {\"color\": \"#EF553B\"}, \"name\": \"up\", \"offsetgroup\": \"up\", \"orientation\": \"v\", \"showlegend\": true, \"textposition\": \"auto\", \"x\": [\"01\", \"02\", \"03\", \"04\", \"05\", \"06\", \"07\", \"08\", \"09\", \"10\", \"11\", \"12\", \"13\", \"14\", \"15\", \"B1\", \"B3\", \"B4\", \"01\", \"02\", \"03\", \"04\", \"05\", \"06\", \"07\", \"08\", \"09\", \"10\", \"11\", \"12\", \"13\", \"14\", \"15\", \"B1\", \"B3\", \"B4\"], \"xaxis\": \"x2\", \"y\": [527, 84, 183, 192, 120, 101, 69, 70, 39, 19, 20, 28, 12, 17, 0, 461, 89, 287, 292, 6, 27, 13, 25, 9, 13, 8, 11, 0, 1, 4, 3, 1, 0, 205, 36, 42], \"yaxis\": \"y2\", \"type\": \"bar\"}], \"name\": \"14\"}, {\"data\": [{\"alignmentgroup\": \"True\", \"hovertemplate\": \"direction=down<br>Local Time (GMT+8)=15<br>floor=%{x}<br>Frequency=%{y}<extra></extra>\", \"legendgroup\": \"down\", \"marker\": {\"color\": \"#636efa\"}, \"name\": \"down\", \"offsetgroup\": \"down\", \"orientation\": \"v\", \"showlegend\": true, \"textposition\": \"auto\", \"x\": [\"01\", \"02\", \"03\", \"04\", \"05\", \"06\", \"07\", \"08\", \"09\", \"10\", \"11\", \"12\", \"13\", \"14\", \"15\", \"B1\", \"B3\", \"B4\", \"01\", \"02\", \"03\", \"04\", \"05\", \"06\", \"07\", \"08\", \"09\", \"10\", \"11\", \"12\", \"13\", \"14\", \"15\", \"B1\", \"B3\", \"B4\"], \"xaxis\": \"x\", \"y\": [202, 63, 293, 296, 230, 315, 314, 313, 322, 204, 306, 330, 334, 342, 186, 101, 37, 0, 52, 0, 106, 93, 65, 106, 110, 125, 99, 9, 102, 102, 106, 92, 27, 10, 1, 0], \"yaxis\": \"y\", \"type\": \"bar\"}, {\"alignmentgroup\": \"True\", \"hovertemplate\": \"direction=up<br>Local Time (GMT+8)=15<br>floor=%{x}<br>Frequency=%{y}<extra></extra>\", \"legendgroup\": \"up\", \"marker\": {\"color\": \"#EF553B\"}, \"name\": \"up\", \"offsetgroup\": \"up\", \"orientation\": \"v\", \"showlegend\": true, \"textposition\": \"auto\", \"x\": [\"01\", \"02\", \"03\", \"04\", \"05\", \"06\", \"07\", \"08\", \"09\", \"10\", \"11\", \"12\", \"13\", \"14\", \"15\", \"B1\", \"B3\", \"B4\", \"01\", \"02\", \"03\", \"04\", \"05\", \"06\", \"07\", \"08\", \"09\", \"10\", \"11\", \"12\", \"13\", \"14\", \"15\", \"B1\", \"B3\", \"B4\"], \"xaxis\": \"x2\", \"y\": [538, 106, 175, 146, 106, 85, 91, 76, 55, 34, 22, 32, 18, 5, 0, 440, 116, 299, 306, 3, 17, 11, 12, 4, 13, 9, 6, 1, 2, 8, 6, 5, 0, 184, 13, 33], \"yaxis\": \"y2\", \"type\": \"bar\"}], \"name\": \"15\"}, {\"data\": [{\"alignmentgroup\": \"True\", \"hovertemplate\": \"direction=down<br>Local Time (GMT+8)=16<br>floor=%{x}<br>Frequency=%{y}<extra></extra>\", \"legendgroup\": \"down\", \"marker\": {\"color\": \"#636efa\"}, \"name\": \"down\", \"offsetgroup\": \"down\", \"orientation\": \"v\", \"showlegend\": true, \"textposition\": \"auto\", \"x\": [\"01\", \"02\", \"03\", \"04\", \"05\", \"06\", \"07\", \"08\", \"09\", \"10\", \"11\", \"12\", \"13\", \"14\", \"15\", \"B1\", \"B3\", \"B4\", \"01\", \"02\", \"03\", \"04\", \"05\", \"06\", \"07\", \"08\", \"09\", \"10\", \"11\", \"12\", \"13\", \"14\", \"15\", \"B1\", \"B3\", \"B4\"], \"xaxis\": \"x\", \"y\": [206, 60, 275, 306, 264, 307, 316, 366, 327, 177, 320, 339, 369, 363, 204, 132, 37, 0, 34, 2, 68, 60, 80, 113, 123, 147, 142, 21, 111, 131, 116, 114, 56, 15, 0, 0], \"yaxis\": \"y\", \"type\": \"bar\"}, {\"alignmentgroup\": \"True\", \"hovertemplate\": \"direction=up<br>Local Time (GMT+8)=16<br>floor=%{x}<br>Frequency=%{y}<extra></extra>\", \"legendgroup\": \"up\", \"marker\": {\"color\": \"#EF553B\"}, \"name\": \"up\", \"offsetgroup\": \"up\", \"orientation\": \"v\", \"showlegend\": true, \"textposition\": \"auto\", \"x\": [\"01\", \"02\", \"03\", \"04\", \"05\", \"06\", \"07\", \"08\", \"09\", \"10\", \"11\", \"12\", \"13\", \"14\", \"15\", \"B1\", \"B3\", \"B4\", \"01\", \"02\", \"03\", \"04\", \"05\", \"06\", \"07\", \"08\", \"09\", \"10\", \"11\", \"12\", \"13\", \"14\", \"15\", \"B1\", \"B3\", \"B4\"], \"xaxis\": \"x2\", \"y\": [542, 117, 155, 165, 115, 83, 86, 65, 59, 40, 18, 20, 28, 21, 0, 463, 90, 302, 285, 7, 14, 12, 10, 13, 8, 13, 17, 2, 1, 5, 1, 4, 0, 194, 13, 38], \"yaxis\": \"y2\", \"type\": \"bar\"}], \"name\": \"16\"}, {\"data\": [{\"alignmentgroup\": \"True\", \"hovertemplate\": \"direction=down<br>Local Time (GMT+8)=17<br>floor=%{x}<br>Frequency=%{y}<extra></extra>\", \"legendgroup\": \"down\", \"marker\": {\"color\": \"#636efa\"}, \"name\": \"down\", \"offsetgroup\": \"down\", \"orientation\": \"v\", \"showlegend\": true, \"textposition\": \"auto\", \"x\": [\"01\", \"02\", \"03\", \"04\", \"05\", \"06\", \"07\", \"08\", \"09\", \"10\", \"11\", \"12\", \"13\", \"14\", \"15\", \"B1\", \"B3\", \"B4\", \"01\", \"02\", \"03\", \"04\", \"05\", \"06\", \"07\", \"08\", \"09\", \"10\", \"11\", \"12\", \"13\", \"14\", \"15\", \"B1\", \"B3\", \"B4\"], \"xaxis\": \"x\", \"y\": [163, 32, 284, 189, 264, 305, 340, 371, 368, 221, 381, 403, 405, 409, 224, 121, 8, 0, 46, 3, 75, 40, 69, 128, 154, 135, 143, 9, 138, 146, 121, 119, 45, 16, 0, 0], \"yaxis\": \"y\", \"type\": \"bar\"}, {\"alignmentgroup\": \"True\", \"hovertemplate\": \"direction=up<br>Local Time (GMT+8)=17<br>floor=%{x}<br>Frequency=%{y}<extra></extra>\", \"legendgroup\": \"up\", \"marker\": {\"color\": \"#EF553B\"}, \"name\": \"up\", \"offsetgroup\": \"up\", \"orientation\": \"v\", \"showlegend\": true, \"textposition\": \"auto\", \"x\": [\"01\", \"02\", \"03\", \"04\", \"05\", \"06\", \"07\", \"08\", \"09\", \"10\", \"11\", \"12\", \"13\", \"14\", \"15\", \"B1\", \"B3\", \"B4\", \"01\", \"02\", \"03\", \"04\", \"05\", \"06\", \"07\", \"08\", \"09\", \"10\", \"11\", \"12\", \"13\", \"14\", \"15\", \"B1\", \"B3\", \"B4\"], \"xaxis\": \"x2\", \"y\": [574, 71, 143, 116, 89, 57, 82, 32, 42, 36, 20, 20, 17, 14, 0, 535, 69, 270, 256, 1, 25, 8, 11, 12, 11, 5, 12, 0, 2, 6, 4, 3, 0, 220, 8, 29], \"yaxis\": \"y2\", \"type\": \"bar\"}], \"name\": \"17\"}, {\"data\": [{\"alignmentgroup\": \"True\", \"hovertemplate\": \"direction=down<br>Local Time (GMT+8)=18<br>floor=%{x}<br>Frequency=%{y}<extra></extra>\", \"legendgroup\": \"down\", \"marker\": {\"color\": \"#636efa\"}, \"name\": \"down\", \"offsetgroup\": \"down\", \"orientation\": \"v\", \"showlegend\": true, \"textposition\": \"auto\", \"x\": [\"01\", \"02\", \"03\", \"04\", \"05\", \"06\", \"07\", \"08\", \"09\", \"10\", \"11\", \"12\", \"13\", \"14\", \"15\", \"B1\", \"B3\", \"B4\", \"01\", \"02\", \"03\", \"04\", \"05\", \"06\", \"07\", \"08\", \"09\", \"10\", \"11\", \"12\", \"13\", \"14\", \"15\", \"B1\", \"B3\", \"B4\"], \"xaxis\": \"x\", \"y\": [136, 33, 240, 141, 261, 349, 369, 389, 391, 151, 380, 398, 391, 402, 114, 71, 2, 0, 43, 1, 63, 28, 67, 117, 138, 130, 135, 10, 127, 135, 111, 129, 25, 20, 0, 0], \"yaxis\": \"y\", \"type\": \"bar\"}, {\"alignmentgroup\": \"True\", \"hovertemplate\": \"direction=up<br>Local Time (GMT+8)=18<br>floor=%{x}<br>Frequency=%{y}<extra></extra>\", \"legendgroup\": \"up\", \"marker\": {\"color\": \"#EF553B\"}, \"name\": \"up\", \"offsetgroup\": \"up\", \"orientation\": \"v\", \"showlegend\": true, \"textposition\": \"auto\", \"x\": [\"01\", \"02\", \"03\", \"04\", \"05\", \"06\", \"07\", \"08\", \"09\", \"10\", \"11\", \"12\", \"13\", \"14\", \"15\", \"B1\", \"B3\", \"B4\", \"01\", \"02\", \"03\", \"04\", \"05\", \"06\", \"07\", \"08\", \"09\", \"10\", \"11\", \"12\", \"13\", \"14\", \"15\", \"B1\", \"B3\", \"B4\"], \"xaxis\": \"x2\", \"y\": [611, 27, 86, 56, 80, 36, 60, 29, 22, 12, 6, 10, 9, 4, 0, 558, 45, 161, 265, 0, 8, 5, 12, 11, 10, 5, 6, 0, 5, 5, 4, 1, 0, 231, 5, 24], \"yaxis\": \"y2\", \"type\": \"bar\"}], \"name\": \"18\"}, {\"data\": [{\"alignmentgroup\": \"True\", \"hovertemplate\": \"direction=down<br>Local Time (GMT+8)=19<br>floor=%{x}<br>Frequency=%{y}<extra></extra>\", \"legendgroup\": \"down\", \"marker\": {\"color\": \"#636efa\"}, \"name\": \"down\", \"offsetgroup\": \"down\", \"orientation\": \"v\", \"showlegend\": true, \"textposition\": \"auto\", \"x\": [\"01\", \"02\", \"03\", \"04\", \"05\", \"06\", \"07\", \"08\", \"09\", \"10\", \"11\", \"12\", \"13\", \"14\", \"15\", \"B1\", \"B3\", \"B4\", \"01\", \"02\", \"03\", \"04\", \"05\", \"06\", \"07\", \"08\", \"09\", \"10\", \"11\", \"12\", \"13\", \"14\", \"15\", \"B1\", \"B3\", \"B4\"], \"xaxis\": \"x\", \"y\": [120, 23, 211, 131, 271, 339, 411, 383, 364, 104, 341, 339, 346, 372, 93, 64, 4, 0, 40, 1, 65, 38, 58, 111, 136, 119, 102, 5, 103, 96, 96, 110, 15, 13, 0, 0], \"yaxis\": \"y\", \"type\": \"bar\"}, {\"alignmentgroup\": \"True\", \"hovertemplate\": \"direction=up<br>Local Time (GMT+8)=19<br>floor=%{x}<br>Frequency=%{y}<extra></extra>\", \"legendgroup\": \"up\", \"marker\": {\"color\": \"#EF553B\"}, \"name\": \"up\", \"offsetgroup\": \"up\", \"orientation\": \"v\", \"showlegend\": true, \"textposition\": \"auto\", \"x\": [\"01\", \"02\", \"03\", \"04\", \"05\", \"06\", \"07\", \"08\", \"09\", \"10\", \"11\", \"12\", \"13\", \"14\", \"15\", \"B1\", \"B3\", \"B4\", \"01\", \"02\", \"03\", \"04\", \"05\", \"06\", \"07\", \"08\", \"09\", \"10\", \"11\", \"12\", \"13\", \"14\", \"15\", \"B1\", \"B3\", \"B4\"], \"xaxis\": \"x2\", \"y\": [681, 7, 82, 41, 70, 29, 45, 19, 13, 18, 9, 12, 12, 6, 0, 533, 45, 100, 311, 0, 18, 3, 13, 12, 8, 7, 6, 1, 2, 5, 6, 2, 0, 217, 5, 21], \"yaxis\": \"y2\", \"type\": \"bar\"}], \"name\": \"19\"}, {\"data\": [{\"alignmentgroup\": \"True\", \"hovertemplate\": \"direction=down<br>Local Time (GMT+8)=20<br>floor=%{x}<br>Frequency=%{y}<extra></extra>\", \"legendgroup\": \"down\", \"marker\": {\"color\": \"#636efa\"}, \"name\": \"down\", \"offsetgroup\": \"down\", \"orientation\": \"v\", \"showlegend\": true, \"textposition\": \"auto\", \"x\": [\"01\", \"02\", \"03\", \"04\", \"05\", \"06\", \"07\", \"08\", \"09\", \"10\", \"11\", \"12\", \"13\", \"14\", \"15\", \"B1\", \"B3\", \"B4\", \"01\", \"02\", \"03\", \"04\", \"05\", \"06\", \"07\", \"08\", \"09\", \"10\", \"11\", \"12\", \"13\", \"14\", \"15\", \"B1\", \"B3\", \"B4\"], \"xaxis\": \"x\", \"y\": [65, 17, 291, 344, 223, 345, 402, 370, 317, 56, 310, 316, 292, 327, 66, 47, 0, 0, 31, 2, 111, 120, 45, 89, 115, 112, 80, 3, 88, 79, 82, 88, 15, 11, 0, 0], \"yaxis\": \"y\", \"type\": \"bar\"}, {\"alignmentgroup\": \"True\", \"hovertemplate\": \"direction=up<br>Local Time (GMT+8)=20<br>floor=%{x}<br>Frequency=%{y}<extra></extra>\", \"legendgroup\": \"up\", \"marker\": {\"color\": \"#EF553B\"}, \"name\": \"up\", \"offsetgroup\": \"up\", \"orientation\": \"v\", \"showlegend\": true, \"textposition\": \"auto\", \"x\": [\"01\", \"02\", \"03\", \"04\", \"05\", \"06\", \"07\", \"08\", \"09\", \"10\", \"11\", \"12\", \"13\", \"14\", \"15\", \"B1\", \"B3\", \"B4\", \"01\", \"02\", \"03\", \"04\", \"05\", \"06\", \"07\", \"08\", \"09\", \"10\", \"11\", \"12\", \"13\", \"14\", \"15\", \"B1\", \"B3\", \"B4\"], \"xaxis\": \"x2\", \"y\": [846, 4, 50, 39, 22, 16, 30, 9, 21, 5, 8, 13, 8, 5, 0, 546, 14, 66, 329, 1, 9, 7, 4, 4, 9, 5, 1, 1, 2, 1, 4, 2, 0, 159, 5, 16], \"yaxis\": \"y2\", \"type\": \"bar\"}], \"name\": \"20\"}, {\"data\": [{\"alignmentgroup\": \"True\", \"hovertemplate\": \"direction=down<br>Local Time (GMT+8)=21<br>floor=%{x}<br>Frequency=%{y}<extra></extra>\", \"legendgroup\": \"down\", \"marker\": {\"color\": \"#636efa\"}, \"name\": \"down\", \"offsetgroup\": \"down\", \"orientation\": \"v\", \"showlegend\": true, \"textposition\": \"auto\", \"x\": [\"01\", \"02\", \"03\", \"04\", \"05\", \"06\", \"07\", \"08\", \"09\", \"10\", \"11\", \"12\", \"13\", \"14\", \"15\", \"B1\", \"B3\", \"B4\", \"01\", \"02\", \"03\", \"04\", \"05\", \"06\", \"07\", \"08\", \"09\", \"10\", \"11\", \"12\", \"13\", \"14\", \"15\", \"B1\", \"B3\", \"B4\"], \"xaxis\": \"x\", \"y\": [63, 7, 170, 105, 170, 281, 344, 317, 279, 26, 250, 210, 230, 252, 48, 34, 3, 0, 18, 0, 29, 33, 36, 82, 95, 90, 82, 7, 70, 55, 55, 65, 9, 3, 1, 0], \"yaxis\": \"y\", \"type\": \"bar\"}, {\"alignmentgroup\": \"True\", \"hovertemplate\": \"direction=up<br>Local Time (GMT+8)=21<br>floor=%{x}<br>Frequency=%{y}<extra></extra>\", \"legendgroup\": \"up\", \"marker\": {\"color\": \"#EF553B\"}, \"name\": \"up\", \"offsetgroup\": \"up\", \"orientation\": \"v\", \"showlegend\": true, \"textposition\": \"auto\", \"x\": [\"01\", \"02\", \"03\", \"04\", \"05\", \"06\", \"07\", \"08\", \"09\", \"10\", \"11\", \"12\", \"13\", \"14\", \"15\", \"B1\", \"B3\", \"B4\", \"01\", \"02\", \"03\", \"04\", \"05\", \"06\", \"07\", \"08\", \"09\", \"10\", \"11\", \"12\", \"13\", \"14\", \"15\", \"B1\", \"B3\", \"B4\"], \"xaxis\": \"x2\", \"y\": [989, 3, 38, 27, 52, 15, 41, 11, 17, 2, 4, 10, 7, 13, 0, 354, 22, 63, 330, 0, 11, 3, 7, 3, 1, 1, 4, 0, 2, 4, 1, 4, 0, 96, 5, 18], \"yaxis\": \"y2\", \"type\": \"bar\"}], \"name\": \"21\"}, {\"data\": [{\"alignmentgroup\": \"True\", \"hovertemplate\": \"direction=down<br>Local Time (GMT+8)=22<br>floor=%{x}<br>Frequency=%{y}<extra></extra>\", \"legendgroup\": \"down\", \"marker\": {\"color\": \"#636efa\"}, \"name\": \"down\", \"offsetgroup\": \"down\", \"orientation\": \"v\", \"showlegend\": true, \"textposition\": \"auto\", \"x\": [\"01\", \"02\", \"03\", \"04\", \"05\", \"06\", \"07\", \"08\", \"09\", \"10\", \"11\", \"12\", \"13\", \"14\", \"15\", \"B1\", \"B3\", \"B4\", \"01\", \"02\", \"03\", \"04\", \"05\", \"06\", \"07\", \"08\", \"09\", \"10\", \"11\", \"12\", \"13\", \"14\", \"15\", \"B1\", \"B3\", \"B4\"], \"xaxis\": \"x\", \"y\": [43, 3, 261, 60, 101, 153, 194, 203, 127, 20, 151, 127, 138, 208, 27, 12, 1, 0, 14, 3, 64, 15, 21, 43, 48, 62, 44, 3, 42, 33, 34, 40, 4, 4, 3, 0], \"yaxis\": \"y\", \"type\": \"bar\"}, {\"alignmentgroup\": \"True\", \"hovertemplate\": \"direction=up<br>Local Time (GMT+8)=22<br>floor=%{x}<br>Frequency=%{y}<extra></extra>\", \"legendgroup\": \"up\", \"marker\": {\"color\": \"#EF553B\"}, \"name\": \"up\", \"offsetgroup\": \"up\", \"orientation\": \"v\", \"showlegend\": true, \"textposition\": \"auto\", \"x\": [\"01\", \"02\", \"03\", \"04\", \"05\", \"06\", \"07\", \"08\", \"09\", \"10\", \"11\", \"12\", \"13\", \"14\", \"15\", \"B1\", \"B3\", \"B4\", \"01\", \"02\", \"03\", \"04\", \"05\", \"06\", \"07\", \"08\", \"09\", \"10\", \"11\", \"12\", \"13\", \"14\", \"15\", \"B1\", \"B3\", \"B4\"], \"xaxis\": \"x2\", \"y\": [945, 0, 23, 15, 11, 12, 15, 3, 6, 2, 5, 8, 2, 4, 0, 234, 16, 12, 272, 0, 5, 1, 8, 7, 3, 2, 3, 2, 1, 3, 0, 4, 0, 79, 14, 1], \"yaxis\": \"y2\", \"type\": \"bar\"}], \"name\": \"22\"}, {\"data\": [{\"alignmentgroup\": \"True\", \"hovertemplate\": \"direction=down<br>Local Time (GMT+8)=23<br>floor=%{x}<br>Frequency=%{y}<extra></extra>\", \"legendgroup\": \"down\", \"marker\": {\"color\": \"#636efa\"}, \"name\": \"down\", \"offsetgroup\": \"down\", \"orientation\": \"v\", \"showlegend\": true, \"textposition\": \"auto\", \"x\": [\"01\", \"02\", \"03\", \"04\", \"05\", \"06\", \"07\", \"08\", \"09\", \"10\", \"11\", \"12\", \"13\", \"14\", \"15\", \"B1\", \"B3\", \"B4\", \"01\", \"02\", \"03\", \"04\", \"05\", \"06\", \"07\", \"08\", \"09\", \"10\", \"11\", \"12\", \"13\", \"14\", \"15\", \"B1\", \"B3\", \"B4\"], \"xaxis\": \"x\", \"y\": [40, 2, 238, 66, 37, 75, 95, 87, 59, 8, 72, 47, 79, 69, 28, 11, 0, 0, 11, 0, 43, 16, 11, 23, 42, 24, 12, 3, 24, 19, 19, 25, 5, 0, 0, 0], \"yaxis\": \"y\", \"type\": \"bar\"}, {\"alignmentgroup\": \"True\", \"hovertemplate\": \"direction=up<br>Local Time (GMT+8)=23<br>floor=%{x}<br>Frequency=%{y}<extra></extra>\", \"legendgroup\": \"up\", \"marker\": {\"color\": \"#EF553B\"}, \"name\": \"up\", \"offsetgroup\": \"up\", \"orientation\": \"v\", \"showlegend\": true, \"textposition\": \"auto\", \"x\": [\"01\", \"02\", \"03\", \"04\", \"05\", \"06\", \"07\", \"08\", \"09\", \"10\", \"11\", \"12\", \"13\", \"14\", \"15\", \"B1\", \"B3\", \"B4\", \"01\", \"02\", \"03\", \"04\", \"05\", \"06\", \"07\", \"08\", \"09\", \"10\", \"11\", \"12\", \"13\", \"14\", \"15\", \"B1\", \"B3\", \"B4\"], \"xaxis\": \"x2\", \"y\": [668, 4, 11, 10, 13, 22, 6, 1, 1, 0, 2, 5, 1, 1, 0, 167, 11, 29, 242, 1, 3, 2, 7, 8, 3, 2, 0, 0, 2, 3, 1, 0, 0, 70, 9, 5], \"yaxis\": \"y2\", \"type\": \"bar\"}], \"name\": \"23\"}]);\n",
       "                        }).then(function(){\n",
       "                            \n",
       "var gd = document.getElementById('3f80010a-94f3-4ed4-953f-34b8c3ad41cf');\n",
       "var x = new MutationObserver(function (mutations, observer) {{\n",
       "        var display = window.getComputedStyle(gd).display;\n",
       "        if (!display || display === 'none') {{\n",
       "            console.log([gd, 'removed!']);\n",
       "            Plotly.purge(gd);\n",
       "            observer.disconnect();\n",
       "        }}\n",
       "}});\n",
       "\n",
       "// Listen for the removal of the full notebook cells\n",
       "var notebookContainer = gd.closest('#notebook-container');\n",
       "if (notebookContainer) {{\n",
       "    x.observe(notebookContainer, {childList: true});\n",
       "}}\n",
       "\n",
       "// Listen for the clearing of the current output cell\n",
       "var outputEl = gd.closest('.output');\n",
       "if (outputEl) {{\n",
       "    x.observe(outputEl, {childList: true});\n",
       "}}\n",
       "\n",
       "                        })\n",
       "                };\n",
       "                });\n",
       "            </script>\n",
       "        </div>"
      ]
     },
     "metadata": {},
     "output_type": "display_data"
    }
   ],
   "source": [
    "floor_list = ['B4','B3', 'B2','B1','01', '02', '03', '04', '05', '06', '07', '08', '09', '10', '11',\n",
    "       '12', '13', '14', '15']\n",
    "\n",
    "fig = px.bar(data_frame=df_s, \n",
    "             \n",
    "             ## 這裡的data frame都先用 R aggregate過了，以節省運算時間\n",
    "             x = \"floor\", y = \"count\",\n",
    "             \n",
    "             ## 以方向分兩張圖，並上色\n",
    "             facet_col=\"direction\",color=\"direction\",\n",
    "             \n",
    "             ## 自動生成slider\n",
    "             animation_frame=\"hour\",\n",
    "             \n",
    "             labels={\"count\":\"Frequency\",\n",
    "                     \"hour\":\"Local Time (GMT+8)\"})\n",
    "\n",
    "# X axis\n",
    "fig.update_xaxes(nticks=len(floor_list), ##指定breaks的數量\n",
    "                 \n",
    "                 ## 手動將X的類別排序\n",
    "                 type=\"category\",\n",
    "                 categoryarray=floor_list)\n",
    "\n",
    "# Y axis\n",
    "fig.update_yaxes(range=[0, 1000])\n",
    "\n",
    "# Layout\n",
    "fig.update_layout(title_text='Frequency of Elevator Calls by Floor')\n",
    "\n",
    "fig.show()"
   ]
  },
  {
   "cell_type": "code",
   "execution_count": 5,
   "metadata": {},
   "outputs": [
    {
     "data": {
      "application/vnd.plotly.v1+json": {
       "config": {
        "plotlyServerURL": "https://plot.ly"
       },
       "data": [
        {
         "alignmentgroup": "True",
         "hovertemplate": "direction=down<br>floor=01<br>Local Time (GMT+8)=%{x}<br>Frequency=%{y}<extra></extra>",
         "legendgroup": "down",
         "marker": {
          "color": "#636efa"
         },
         "name": "down",
         "offsetgroup": "down",
         "orientation": "v",
         "showlegend": true,
         "textposition": "auto",
         "type": "bar",
         "x": [
          0,
          1,
          2,
          3,
          4,
          5,
          6,
          7,
          8,
          9,
          10,
          11,
          12,
          13,
          14,
          15,
          16,
          17,
          18,
          19,
          20,
          21,
          22,
          23,
          0,
          1,
          2,
          3,
          4,
          5,
          6,
          7,
          8,
          9,
          10,
          11,
          12,
          13,
          14,
          15,
          16,
          17,
          18,
          19,
          20,
          21,
          22,
          23
         ],
         "xaxis": "x",
         "y": [
          31,
          17,
          3,
          11,
          19,
          20,
          102,
          182,
          212,
          176,
          203,
          219,
          196,
          197,
          185,
          202,
          206,
          163,
          136,
          120,
          65,
          63,
          43,
          40,
          16,
          3,
          2,
          3,
          6,
          6,
          24,
          34,
          42,
          32,
          35,
          34,
          36,
          41,
          29,
          52,
          34,
          46,
          43,
          40,
          31,
          18,
          14,
          11
         ],
         "yaxis": "y"
        },
        {
         "alignmentgroup": "True",
         "hovertemplate": "direction=up<br>floor=01<br>Local Time (GMT+8)=%{x}<br>Frequency=%{y}<extra></extra>",
         "legendgroup": "up",
         "marker": {
          "color": "#EF553B"
         },
         "name": "up",
         "offsetgroup": "up",
         "orientation": "v",
         "showlegend": true,
         "textposition": "auto",
         "type": "bar",
         "x": [
          0,
          1,
          2,
          3,
          4,
          5,
          6,
          7,
          8,
          9,
          10,
          11,
          12,
          13,
          14,
          15,
          16,
          17,
          18,
          19,
          20,
          21,
          22,
          23,
          0,
          1,
          2,
          3,
          4,
          5,
          6,
          7,
          8,
          9,
          10,
          11,
          12,
          13,
          14,
          15,
          16,
          17,
          18,
          19,
          20,
          21,
          22,
          23
         ],
         "xaxis": "x2",
         "y": [
          358,
          227,
          123,
          82,
          115,
          260,
          971,
          689,
          642,
          572,
          494,
          427,
          471,
          503,
          527,
          538,
          542,
          574,
          611,
          681,
          846,
          989,
          945,
          668,
          138,
          72,
          50,
          31,
          36,
          79,
          299,
          339,
          302,
          305,
          283,
          228,
          252,
          292,
          292,
          306,
          285,
          256,
          265,
          311,
          329,
          330,
          272,
          242
         ],
         "yaxis": "y2"
        }
       ],
       "frames": [
        {
         "data": [
          {
           "alignmentgroup": "True",
           "hovertemplate": "direction=down<br>floor=01<br>Local Time (GMT+8)=%{x}<br>Frequency=%{y}<extra></extra>",
           "legendgroup": "down",
           "marker": {
            "color": "#636efa"
           },
           "name": "down",
           "offsetgroup": "down",
           "orientation": "v",
           "showlegend": true,
           "textposition": "auto",
           "type": "bar",
           "x": [
            0,
            1,
            2,
            3,
            4,
            5,
            6,
            7,
            8,
            9,
            10,
            11,
            12,
            13,
            14,
            15,
            16,
            17,
            18,
            19,
            20,
            21,
            22,
            23,
            0,
            1,
            2,
            3,
            4,
            5,
            6,
            7,
            8,
            9,
            10,
            11,
            12,
            13,
            14,
            15,
            16,
            17,
            18,
            19,
            20,
            21,
            22,
            23
           ],
           "xaxis": "x",
           "y": [
            31,
            17,
            3,
            11,
            19,
            20,
            102,
            182,
            212,
            176,
            203,
            219,
            196,
            197,
            185,
            202,
            206,
            163,
            136,
            120,
            65,
            63,
            43,
            40,
            16,
            3,
            2,
            3,
            6,
            6,
            24,
            34,
            42,
            32,
            35,
            34,
            36,
            41,
            29,
            52,
            34,
            46,
            43,
            40,
            31,
            18,
            14,
            11
           ],
           "yaxis": "y"
          },
          {
           "alignmentgroup": "True",
           "hovertemplate": "direction=up<br>floor=01<br>Local Time (GMT+8)=%{x}<br>Frequency=%{y}<extra></extra>",
           "legendgroup": "up",
           "marker": {
            "color": "#EF553B"
           },
           "name": "up",
           "offsetgroup": "up",
           "orientation": "v",
           "showlegend": true,
           "textposition": "auto",
           "type": "bar",
           "x": [
            0,
            1,
            2,
            3,
            4,
            5,
            6,
            7,
            8,
            9,
            10,
            11,
            12,
            13,
            14,
            15,
            16,
            17,
            18,
            19,
            20,
            21,
            22,
            23,
            0,
            1,
            2,
            3,
            4,
            5,
            6,
            7,
            8,
            9,
            10,
            11,
            12,
            13,
            14,
            15,
            16,
            17,
            18,
            19,
            20,
            21,
            22,
            23
           ],
           "xaxis": "x2",
           "y": [
            358,
            227,
            123,
            82,
            115,
            260,
            971,
            689,
            642,
            572,
            494,
            427,
            471,
            503,
            527,
            538,
            542,
            574,
            611,
            681,
            846,
            989,
            945,
            668,
            138,
            72,
            50,
            31,
            36,
            79,
            299,
            339,
            302,
            305,
            283,
            228,
            252,
            292,
            292,
            306,
            285,
            256,
            265,
            311,
            329,
            330,
            272,
            242
           ],
           "yaxis": "y2"
          }
         ],
         "name": "01"
        },
        {
         "data": [
          {
           "alignmentgroup": "True",
           "hovertemplate": "direction=down<br>floor=02<br>Local Time (GMT+8)=%{x}<br>Frequency=%{y}<extra></extra>",
           "legendgroup": "down",
           "marker": {
            "color": "#636efa"
           },
           "name": "down",
           "offsetgroup": "down",
           "orientation": "v",
           "showlegend": true,
           "textposition": "auto",
           "type": "bar",
           "x": [
            0,
            1,
            2,
            3,
            4,
            5,
            6,
            7,
            8,
            9,
            10,
            11,
            12,
            13,
            14,
            15,
            16,
            17,
            18,
            19,
            20,
            21,
            22,
            23,
            0,
            1,
            2,
            3,
            4,
            5,
            6,
            7,
            8,
            9,
            10,
            11,
            12,
            13,
            14,
            15,
            16,
            17,
            18,
            19,
            20,
            21,
            22,
            23
           ],
           "xaxis": "x",
           "y": [
            1,
            2,
            1,
            2,
            4,
            0,
            19,
            14,
            32,
            57,
            53,
            63,
            42,
            69,
            54,
            63,
            60,
            32,
            33,
            23,
            17,
            7,
            3,
            2,
            0,
            0,
            0,
            0,
            0,
            0,
            4,
            7,
            0,
            5,
            3,
            3,
            3,
            4,
            0,
            0,
            2,
            3,
            1,
            1,
            2,
            0,
            3,
            0
           ],
           "yaxis": "y"
          },
          {
           "alignmentgroup": "True",
           "hovertemplate": "direction=up<br>floor=02<br>Local Time (GMT+8)=%{x}<br>Frequency=%{y}<extra></extra>",
           "legendgroup": "up",
           "marker": {
            "color": "#EF553B"
           },
           "name": "up",
           "offsetgroup": "up",
           "orientation": "v",
           "showlegend": true,
           "textposition": "auto",
           "type": "bar",
           "x": [
            0,
            1,
            2,
            3,
            4,
            5,
            6,
            7,
            8,
            9,
            10,
            11,
            12,
            13,
            14,
            15,
            16,
            17,
            18,
            19,
            20,
            21,
            22,
            23,
            0,
            1,
            2,
            3,
            4,
            5,
            6,
            7,
            8,
            9,
            10,
            11,
            12,
            13,
            14,
            15,
            16,
            17,
            18,
            19,
            20,
            21,
            22,
            23
           ],
           "xaxis": "x2",
           "y": [
            0,
            5,
            1,
            3,
            0,
            0,
            0,
            39,
            66,
            125,
            90,
            110,
            89,
            102,
            84,
            106,
            117,
            71,
            27,
            7,
            4,
            3,
            0,
            4,
            0,
            0,
            0,
            2,
            0,
            0,
            1,
            6,
            2,
            0,
            2,
            9,
            3,
            0,
            6,
            3,
            7,
            1,
            0,
            0,
            1,
            0,
            0,
            1
           ],
           "yaxis": "y2"
          }
         ],
         "name": "02"
        },
        {
         "data": [
          {
           "alignmentgroup": "True",
           "hovertemplate": "direction=down<br>floor=03<br>Local Time (GMT+8)=%{x}<br>Frequency=%{y}<extra></extra>",
           "legendgroup": "down",
           "marker": {
            "color": "#636efa"
           },
           "name": "down",
           "offsetgroup": "down",
           "orientation": "v",
           "showlegend": true,
           "textposition": "auto",
           "type": "bar",
           "x": [
            0,
            1,
            2,
            3,
            4,
            5,
            6,
            7,
            8,
            9,
            10,
            11,
            12,
            13,
            14,
            15,
            16,
            17,
            18,
            19,
            20,
            21,
            22,
            23,
            0,
            1,
            2,
            3,
            4,
            5,
            6,
            7,
            8,
            9,
            10,
            11,
            12,
            13,
            14,
            15,
            16,
            17,
            18,
            19,
            20,
            21,
            22,
            23
           ],
           "xaxis": "x",
           "y": [
            93,
            48,
            16,
            10,
            9,
            9,
            111,
            134,
            225,
            197,
            224,
            227,
            210,
            223,
            236,
            293,
            275,
            284,
            240,
            211,
            291,
            170,
            261,
            238,
            39,
            10,
            3,
            3,
            3,
            2,
            23,
            31,
            45,
            50,
            39,
            83,
            86,
            59,
            67,
            106,
            68,
            75,
            63,
            65,
            111,
            29,
            64,
            43
           ],
           "yaxis": "y"
          },
          {
           "alignmentgroup": "True",
           "hovertemplate": "direction=up<br>floor=03<br>Local Time (GMT+8)=%{x}<br>Frequency=%{y}<extra></extra>",
           "legendgroup": "up",
           "marker": {
            "color": "#EF553B"
           },
           "name": "up",
           "offsetgroup": "up",
           "orientation": "v",
           "showlegend": true,
           "textposition": "auto",
           "type": "bar",
           "x": [
            0,
            1,
            2,
            3,
            4,
            5,
            6,
            7,
            8,
            9,
            10,
            11,
            12,
            13,
            14,
            15,
            16,
            17,
            18,
            19,
            20,
            21,
            22,
            23,
            0,
            1,
            2,
            3,
            4,
            5,
            6,
            7,
            8,
            9,
            10,
            11,
            12,
            13,
            14,
            15,
            16,
            17,
            18,
            19,
            20,
            21,
            22,
            23
           ],
           "xaxis": "x2",
           "y": [
            8,
            11,
            5,
            4,
            5,
            4,
            9,
            93,
            146,
            135,
            148,
            157,
            125,
            180,
            183,
            175,
            155,
            143,
            86,
            82,
            50,
            38,
            23,
            11,
            2,
            3,
            7,
            2,
            3,
            2,
            0,
            7,
            17,
            16,
            14,
            18,
            26,
            30,
            27,
            17,
            14,
            25,
            8,
            18,
            9,
            11,
            5,
            3
           ],
           "yaxis": "y2"
          }
         ],
         "name": "03"
        },
        {
         "data": [
          {
           "alignmentgroup": "True",
           "hovertemplate": "direction=down<br>floor=04<br>Local Time (GMT+8)=%{x}<br>Frequency=%{y}<extra></extra>",
           "legendgroup": "down",
           "marker": {
            "color": "#636efa"
           },
           "name": "down",
           "offsetgroup": "down",
           "orientation": "v",
           "showlegend": true,
           "textposition": "auto",
           "type": "bar",
           "x": [
            0,
            1,
            2,
            3,
            4,
            5,
            6,
            7,
            8,
            9,
            10,
            11,
            12,
            13,
            14,
            15,
            16,
            17,
            18,
            19,
            20,
            21,
            22,
            23,
            0,
            1,
            2,
            3,
            4,
            5,
            6,
            7,
            8,
            9,
            10,
            11,
            12,
            13,
            14,
            15,
            16,
            17,
            18,
            19,
            20,
            21,
            22,
            23
           ],
           "xaxis": "x",
           "y": [
            190,
            45,
            11,
            7,
            7,
            8,
            23,
            82,
            194,
            196,
            199,
            207,
            221,
            193,
            259,
            296,
            306,
            189,
            141,
            131,
            344,
            105,
            60,
            66,
            67,
            16,
            5,
            4,
            7,
            3,
            16,
            19,
            53,
            27,
            27,
            69,
            97,
            39,
            69,
            93,
            60,
            40,
            28,
            38,
            120,
            33,
            15,
            16
           ],
           "yaxis": "y"
          },
          {
           "alignmentgroup": "True",
           "hovertemplate": "direction=up<br>floor=04<br>Local Time (GMT+8)=%{x}<br>Frequency=%{y}<extra></extra>",
           "legendgroup": "up",
           "marker": {
            "color": "#EF553B"
           },
           "name": "up",
           "offsetgroup": "up",
           "orientation": "v",
           "showlegend": true,
           "textposition": "auto",
           "type": "bar",
           "x": [
            0,
            1,
            2,
            3,
            4,
            5,
            6,
            7,
            8,
            9,
            10,
            11,
            12,
            13,
            14,
            15,
            16,
            17,
            18,
            19,
            20,
            21,
            22,
            23,
            0,
            1,
            2,
            3,
            4,
            5,
            6,
            7,
            8,
            9,
            10,
            11,
            12,
            13,
            14,
            15,
            16,
            17,
            18,
            19,
            20,
            21,
            22,
            23
           ],
           "xaxis": "x2",
           "y": [
            7,
            2,
            3,
            2,
            3,
            3,
            11,
            68,
            106,
            186,
            128,
            146,
            95,
            149,
            192,
            146,
            165,
            116,
            56,
            41,
            39,
            27,
            15,
            10,
            1,
            2,
            1,
            2,
            1,
            1,
            3,
            12,
            11,
            11,
            15,
            26,
            19,
            8,
            13,
            11,
            12,
            8,
            5,
            3,
            7,
            3,
            1,
            2
           ],
           "yaxis": "y2"
          }
         ],
         "name": "04"
        },
        {
         "data": [
          {
           "alignmentgroup": "True",
           "hovertemplate": "direction=down<br>floor=05<br>Local Time (GMT+8)=%{x}<br>Frequency=%{y}<extra></extra>",
           "legendgroup": "down",
           "marker": {
            "color": "#636efa"
           },
           "name": "down",
           "offsetgroup": "down",
           "orientation": "v",
           "showlegend": true,
           "textposition": "auto",
           "type": "bar",
           "x": [
            0,
            1,
            2,
            3,
            4,
            5,
            6,
            7,
            8,
            9,
            10,
            11,
            12,
            13,
            14,
            15,
            16,
            17,
            18,
            19,
            20,
            21,
            22,
            23,
            0,
            1,
            2,
            3,
            4,
            5,
            6,
            7,
            8,
            9,
            10,
            11,
            12,
            13,
            14,
            15,
            16,
            17,
            18,
            19,
            20,
            21,
            22,
            23
           ],
           "xaxis": "x",
           "y": [
            56,
            54,
            33,
            15,
            13,
            28,
            83,
            145,
            192,
            239,
            232,
            195,
            203,
            220,
            240,
            230,
            264,
            264,
            261,
            271,
            223,
            170,
            101,
            37,
            13,
            16,
            5,
            3,
            3,
            8,
            25,
            47,
            53,
            64,
            70,
            71,
            87,
            53,
            58,
            65,
            80,
            69,
            67,
            58,
            45,
            36,
            21,
            11
           ],
           "yaxis": "y"
          },
          {
           "alignmentgroup": "True",
           "hovertemplate": "direction=up<br>floor=05<br>Local Time (GMT+8)=%{x}<br>Frequency=%{y}<extra></extra>",
           "legendgroup": "up",
           "marker": {
            "color": "#EF553B"
           },
           "name": "up",
           "offsetgroup": "up",
           "orientation": "v",
           "showlegend": true,
           "textposition": "auto",
           "type": "bar",
           "x": [
            0,
            1,
            2,
            3,
            4,
            5,
            6,
            7,
            8,
            9,
            10,
            11,
            12,
            13,
            14,
            15,
            16,
            17,
            18,
            19,
            20,
            21,
            22,
            23,
            0,
            1,
            2,
            3,
            4,
            5,
            6,
            7,
            8,
            9,
            10,
            11,
            12,
            13,
            14,
            15,
            16,
            17,
            18,
            19,
            20,
            21,
            22,
            23
           ],
           "xaxis": "x2",
           "y": [
            3,
            5,
            5,
            4,
            3,
            1,
            16,
            41,
            52,
            90,
            81,
            82,
            81,
            92,
            120,
            106,
            115,
            89,
            80,
            70,
            22,
            52,
            11,
            13,
            7,
            0,
            2,
            0,
            2,
            1,
            3,
            6,
            12,
            14,
            10,
            16,
            15,
            15,
            25,
            12,
            10,
            11,
            12,
            13,
            4,
            7,
            8,
            7
           ],
           "yaxis": "y2"
          }
         ],
         "name": "05"
        },
        {
         "data": [
          {
           "alignmentgroup": "True",
           "hovertemplate": "direction=down<br>floor=06<br>Local Time (GMT+8)=%{x}<br>Frequency=%{y}<extra></extra>",
           "legendgroup": "down",
           "marker": {
            "color": "#636efa"
           },
           "name": "down",
           "offsetgroup": "down",
           "orientation": "v",
           "showlegend": true,
           "textposition": "auto",
           "type": "bar",
           "x": [
            0,
            1,
            2,
            3,
            4,
            5,
            6,
            7,
            8,
            9,
            10,
            11,
            12,
            13,
            14,
            15,
            16,
            17,
            18,
            19,
            20,
            21,
            22,
            23,
            0,
            1,
            2,
            3,
            4,
            5,
            6,
            7,
            8,
            9,
            10,
            11,
            12,
            13,
            14,
            15,
            16,
            17,
            18,
            19,
            20,
            21,
            22,
            23
           ],
           "xaxis": "x",
           "y": [
            59,
            58,
            21,
            20,
            23,
            60,
            216,
            266,
            334,
            309,
            312,
            232,
            249,
            262,
            275,
            315,
            307,
            305,
            349,
            339,
            345,
            281,
            153,
            75,
            34,
            12,
            5,
            8,
            6,
            21,
            63,
            82,
            90,
            110,
            115,
            130,
            117,
            93,
            113,
            106,
            113,
            128,
            117,
            111,
            89,
            82,
            43,
            23
           ],
           "yaxis": "y"
          },
          {
           "alignmentgroup": "True",
           "hovertemplate": "direction=up<br>floor=06<br>Local Time (GMT+8)=%{x}<br>Frequency=%{y}<extra></extra>",
           "legendgroup": "up",
           "marker": {
            "color": "#EF553B"
           },
           "name": "up",
           "offsetgroup": "up",
           "orientation": "v",
           "showlegend": true,
           "textposition": "auto",
           "type": "bar",
           "x": [
            0,
            1,
            2,
            3,
            4,
            5,
            6,
            7,
            8,
            9,
            10,
            11,
            12,
            13,
            14,
            15,
            16,
            17,
            18,
            19,
            20,
            21,
            22,
            23,
            0,
            1,
            2,
            3,
            4,
            5,
            6,
            7,
            8,
            9,
            10,
            11,
            12,
            13,
            14,
            15,
            16,
            17,
            18,
            19,
            20,
            21,
            22,
            23
           ],
           "xaxis": "x2",
           "y": [
            7,
            2,
            3,
            2,
            1,
            4,
            66,
            84,
            50,
            43,
            83,
            81,
            61,
            49,
            101,
            85,
            83,
            57,
            36,
            29,
            16,
            15,
            12,
            22,
            0,
            3,
            0,
            0,
            0,
            2,
            18,
            11,
            3,
            6,
            11,
            10,
            9,
            10,
            9,
            4,
            13,
            12,
            11,
            12,
            4,
            3,
            7,
            8
           ],
           "yaxis": "y2"
          }
         ],
         "name": "06"
        },
        {
         "data": [
          {
           "alignmentgroup": "True",
           "hovertemplate": "direction=down<br>floor=07<br>Local Time (GMT+8)=%{x}<br>Frequency=%{y}<extra></extra>",
           "legendgroup": "down",
           "marker": {
            "color": "#636efa"
           },
           "name": "down",
           "offsetgroup": "down",
           "orientation": "v",
           "showlegend": true,
           "textposition": "auto",
           "type": "bar",
           "x": [
            0,
            1,
            2,
            3,
            4,
            5,
            6,
            7,
            8,
            9,
            10,
            11,
            12,
            13,
            14,
            15,
            16,
            17,
            18,
            19,
            20,
            21,
            22,
            23,
            0,
            1,
            2,
            3,
            4,
            5,
            6,
            7,
            8,
            9,
            10,
            11,
            12,
            13,
            14,
            15,
            16,
            17,
            18,
            19,
            20,
            21,
            22,
            23
           ],
           "xaxis": "x",
           "y": [
            78,
            54,
            49,
            34,
            20,
            60,
            195,
            251,
            295,
            287,
            289,
            281,
            286,
            311,
            305,
            314,
            316,
            340,
            369,
            411,
            402,
            344,
            194,
            95,
            18,
            20,
            23,
            7,
            7,
            17,
            46,
            83,
            79,
            102,
            109,
            146,
            143,
            123,
            117,
            110,
            123,
            154,
            138,
            136,
            115,
            95,
            48,
            42
           ],
           "yaxis": "y"
          },
          {
           "alignmentgroup": "True",
           "hovertemplate": "direction=up<br>floor=07<br>Local Time (GMT+8)=%{x}<br>Frequency=%{y}<extra></extra>",
           "legendgroup": "up",
           "marker": {
            "color": "#EF553B"
           },
           "name": "up",
           "offsetgroup": "up",
           "orientation": "v",
           "showlegend": true,
           "textposition": "auto",
           "type": "bar",
           "x": [
            0,
            1,
            2,
            3,
            4,
            5,
            6,
            7,
            8,
            9,
            10,
            11,
            12,
            13,
            14,
            15,
            16,
            17,
            18,
            19,
            20,
            21,
            22,
            23,
            0,
            1,
            2,
            3,
            4,
            5,
            6,
            7,
            8,
            9,
            10,
            11,
            12,
            13,
            14,
            15,
            16,
            17,
            18,
            19,
            20,
            21,
            22,
            23
           ],
           "xaxis": "x2",
           "y": [
            7,
            2,
            0,
            2,
            4,
            1,
            6,
            29,
            39,
            65,
            75,
            89,
            105,
            88,
            69,
            91,
            86,
            82,
            60,
            45,
            30,
            41,
            15,
            6,
            0,
            2,
            0,
            2,
            0,
            0,
            0,
            5,
            6,
            7,
            14,
            6,
            20,
            13,
            13,
            13,
            8,
            11,
            10,
            8,
            9,
            1,
            3,
            3
           ],
           "yaxis": "y2"
          }
         ],
         "name": "07"
        },
        {
         "data": [
          {
           "alignmentgroup": "True",
           "hovertemplate": "direction=down<br>floor=08<br>Local Time (GMT+8)=%{x}<br>Frequency=%{y}<extra></extra>",
           "legendgroup": "down",
           "marker": {
            "color": "#636efa"
           },
           "name": "down",
           "offsetgroup": "down",
           "orientation": "v",
           "showlegend": true,
           "textposition": "auto",
           "type": "bar",
           "x": [
            0,
            1,
            2,
            3,
            4,
            5,
            6,
            7,
            8,
            9,
            10,
            11,
            12,
            13,
            14,
            15,
            16,
            17,
            18,
            19,
            20,
            21,
            22,
            23,
            0,
            1,
            2,
            3,
            4,
            5,
            6,
            7,
            8,
            9,
            10,
            11,
            12,
            13,
            14,
            15,
            16,
            17,
            18,
            19,
            20,
            21,
            22,
            23
           ],
           "xaxis": "x",
           "y": [
            128,
            42,
            25,
            13,
            17,
            28,
            155,
            290,
            354,
            312,
            301,
            288,
            302,
            322,
            300,
            313,
            366,
            371,
            389,
            383,
            370,
            317,
            203,
            87,
            54,
            15,
            6,
            1,
            4,
            12,
            49,
            81,
            96,
            99,
            131,
            137,
            129,
            118,
            108,
            125,
            147,
            135,
            130,
            119,
            112,
            90,
            62,
            24
           ],
           "yaxis": "y"
          },
          {
           "alignmentgroup": "True",
           "hovertemplate": "direction=up<br>floor=08<br>Local Time (GMT+8)=%{x}<br>Frequency=%{y}<extra></extra>",
           "legendgroup": "up",
           "marker": {
            "color": "#EF553B"
           },
           "name": "up",
           "offsetgroup": "up",
           "orientation": "v",
           "showlegend": true,
           "textposition": "auto",
           "type": "bar",
           "x": [
            0,
            1,
            2,
            3,
            4,
            5,
            6,
            7,
            8,
            9,
            10,
            11,
            12,
            13,
            14,
            15,
            16,
            17,
            18,
            19,
            20,
            21,
            22,
            23,
            0,
            1,
            2,
            3,
            4,
            5,
            6,
            7,
            8,
            9,
            10,
            11,
            12,
            13,
            14,
            15,
            16,
            17,
            18,
            19,
            20,
            21,
            22,
            23
           ],
           "xaxis": "x2",
           "y": [
            2,
            5,
            0,
            0,
            0,
            1,
            7,
            25,
            20,
            47,
            80,
            62,
            50,
            50,
            70,
            76,
            65,
            32,
            29,
            19,
            9,
            11,
            3,
            1,
            0,
            0,
            0,
            0,
            0,
            1,
            3,
            5,
            3,
            8,
            6,
            9,
            8,
            5,
            8,
            9,
            13,
            5,
            5,
            7,
            5,
            1,
            2,
            2
           ],
           "yaxis": "y2"
          }
         ],
         "name": "08"
        },
        {
         "data": [
          {
           "alignmentgroup": "True",
           "hovertemplate": "direction=down<br>floor=09<br>Local Time (GMT+8)=%{x}<br>Frequency=%{y}<extra></extra>",
           "legendgroup": "down",
           "marker": {
            "color": "#636efa"
           },
           "name": "down",
           "offsetgroup": "down",
           "orientation": "v",
           "showlegend": true,
           "textposition": "auto",
           "type": "bar",
           "x": [
            0,
            1,
            2,
            3,
            4,
            5,
            6,
            7,
            8,
            9,
            10,
            11,
            12,
            13,
            14,
            15,
            16,
            17,
            18,
            19,
            20,
            21,
            22,
            23,
            0,
            1,
            2,
            3,
            4,
            5,
            6,
            7,
            8,
            9,
            10,
            11,
            12,
            13,
            14,
            15,
            16,
            17,
            18,
            19,
            20,
            21,
            22,
            23
           ],
           "xaxis": "x",
           "y": [
            65,
            61,
            12,
            5,
            12,
            27,
            103,
            250,
            365,
            313,
            293,
            286,
            290,
            298,
            300,
            322,
            327,
            368,
            391,
            364,
            317,
            279,
            127,
            59,
            25,
            15,
            8,
            4,
            4,
            13,
            43,
            59,
            109,
            100,
            120,
            130,
            135,
            94,
            106,
            99,
            142,
            143,
            135,
            102,
            80,
            82,
            44,
            12
           ],
           "yaxis": "y"
          },
          {
           "alignmentgroup": "True",
           "hovertemplate": "direction=up<br>floor=09<br>Local Time (GMT+8)=%{x}<br>Frequency=%{y}<extra></extra>",
           "legendgroup": "up",
           "marker": {
            "color": "#EF553B"
           },
           "name": "up",
           "offsetgroup": "up",
           "orientation": "v",
           "showlegend": true,
           "textposition": "auto",
           "type": "bar",
           "x": [
            0,
            1,
            2,
            3,
            4,
            5,
            6,
            7,
            8,
            9,
            10,
            11,
            12,
            13,
            14,
            15,
            16,
            17,
            18,
            19,
            20,
            21,
            22,
            23,
            0,
            1,
            2,
            3,
            4,
            5,
            6,
            7,
            8,
            9,
            10,
            11,
            12,
            13,
            14,
            15,
            16,
            17,
            18,
            19,
            20,
            21,
            22,
            23
           ],
           "xaxis": "x2",
           "y": [
            2,
            2,
            1,
            0,
            0,
            0,
            5,
            46,
            27,
            44,
            35,
            45,
            27,
            33,
            39,
            55,
            59,
            42,
            22,
            13,
            21,
            17,
            6,
            1,
            1,
            0,
            0,
            1,
            0,
            3,
            0,
            9,
            3,
            14,
            6,
            13,
            11,
            6,
            11,
            6,
            17,
            12,
            6,
            6,
            1,
            4,
            3,
            0
           ],
           "yaxis": "y2"
          }
         ],
         "name": "09"
        },
        {
         "data": [
          {
           "alignmentgroup": "True",
           "hovertemplate": "direction=down<br>floor=10<br>Local Time (GMT+8)=%{x}<br>Frequency=%{y}<extra></extra>",
           "legendgroup": "down",
           "marker": {
            "color": "#636efa"
           },
           "name": "down",
           "offsetgroup": "down",
           "orientation": "v",
           "showlegend": true,
           "textposition": "auto",
           "type": "bar",
           "x": [
            0,
            1,
            2,
            3,
            4,
            5,
            6,
            7,
            8,
            9,
            10,
            11,
            12,
            13,
            14,
            15,
            16,
            17,
            18,
            19,
            20,
            21,
            22,
            23,
            0,
            1,
            2,
            3,
            4,
            5,
            6,
            7,
            8,
            9,
            10,
            11,
            12,
            13,
            14,
            15,
            16,
            17,
            18,
            19,
            20,
            21,
            22,
            23
           ],
           "xaxis": "x",
           "y": [
            8,
            5,
            4,
            4,
            3,
            3,
            0,
            15,
            53,
            144,
            163,
            150,
            154,
            158,
            179,
            204,
            177,
            221,
            151,
            104,
            56,
            26,
            20,
            8,
            3,
            2,
            1,
            0,
            2,
            0,
            0,
            0,
            7,
            2,
            8,
            10,
            11,
            8,
            5,
            9,
            21,
            9,
            10,
            5,
            3,
            7,
            3,
            3
           ],
           "yaxis": "y"
          },
          {
           "alignmentgroup": "True",
           "hovertemplate": "direction=up<br>floor=10<br>Local Time (GMT+8)=%{x}<br>Frequency=%{y}<extra></extra>",
           "legendgroup": "up",
           "marker": {
            "color": "#EF553B"
           },
           "name": "up",
           "offsetgroup": "up",
           "orientation": "v",
           "showlegend": true,
           "textposition": "auto",
           "type": "bar",
           "x": [
            0,
            1,
            2,
            3,
            4,
            5,
            6,
            7,
            8,
            9,
            10,
            11,
            12,
            13,
            14,
            15,
            16,
            17,
            18,
            19,
            20,
            21,
            22,
            23,
            0,
            1,
            2,
            3,
            4,
            5,
            6,
            7,
            8,
            9,
            10,
            11,
            12,
            13,
            14,
            15,
            16,
            17,
            18,
            19,
            20,
            21,
            22,
            23
           ],
           "xaxis": "x2",
           "y": [
            0,
            0,
            1,
            0,
            0,
            0,
            3,
            3,
            10,
            12,
            28,
            32,
            15,
            26,
            19,
            34,
            40,
            36,
            12,
            18,
            5,
            2,
            2,
            0,
            0,
            0,
            0,
            0,
            0,
            0,
            0,
            0,
            0,
            0,
            1,
            0,
            2,
            2,
            0,
            1,
            2,
            0,
            0,
            1,
            1,
            0,
            2,
            0
           ],
           "yaxis": "y2"
          }
         ],
         "name": "10"
        },
        {
         "data": [
          {
           "alignmentgroup": "True",
           "hovertemplate": "direction=down<br>floor=11<br>Local Time (GMT+8)=%{x}<br>Frequency=%{y}<extra></extra>",
           "legendgroup": "down",
           "marker": {
            "color": "#636efa"
           },
           "name": "down",
           "offsetgroup": "down",
           "orientation": "v",
           "showlegend": true,
           "textposition": "auto",
           "type": "bar",
           "x": [
            0,
            1,
            2,
            3,
            4,
            5,
            6,
            7,
            8,
            9,
            10,
            11,
            12,
            13,
            14,
            15,
            16,
            17,
            18,
            19,
            20,
            21,
            22,
            23,
            0,
            1,
            2,
            3,
            4,
            5,
            6,
            7,
            8,
            9,
            10,
            11,
            12,
            13,
            14,
            15,
            16,
            17,
            18,
            19,
            20,
            21,
            22,
            23
           ],
           "xaxis": "x",
           "y": [
            59,
            26,
            11,
            8,
            7,
            41,
            146,
            273,
            363,
            303,
            283,
            289,
            306,
            336,
            272,
            306,
            320,
            381,
            380,
            341,
            310,
            250,
            151,
            72,
            18,
            11,
            7,
            3,
            2,
            19,
            62,
            100,
            88,
            102,
            123,
            131,
            119,
            102,
            112,
            102,
            111,
            138,
            127,
            103,
            88,
            70,
            42,
            24
           ],
           "yaxis": "y"
          },
          {
           "alignmentgroup": "True",
           "hovertemplate": "direction=up<br>floor=11<br>Local Time (GMT+8)=%{x}<br>Frequency=%{y}<extra></extra>",
           "legendgroup": "up",
           "marker": {
            "color": "#EF553B"
           },
           "name": "up",
           "offsetgroup": "up",
           "orientation": "v",
           "showlegend": true,
           "textposition": "auto",
           "type": "bar",
           "x": [
            0,
            1,
            2,
            3,
            4,
            5,
            6,
            7,
            8,
            9,
            10,
            11,
            12,
            13,
            14,
            15,
            16,
            17,
            18,
            19,
            20,
            21,
            22,
            23,
            0,
            1,
            2,
            3,
            4,
            5,
            6,
            7,
            8,
            9,
            10,
            11,
            12,
            13,
            14,
            15,
            16,
            17,
            18,
            19,
            20,
            21,
            22,
            23
           ],
           "xaxis": "x2",
           "y": [
            1,
            0,
            1,
            0,
            0,
            2,
            3,
            11,
            8,
            14,
            29,
            28,
            14,
            23,
            20,
            22,
            18,
            20,
            6,
            9,
            8,
            4,
            5,
            2,
            0,
            0,
            0,
            1,
            0,
            0,
            0,
            4,
            1,
            2,
            5,
            11,
            5,
            9,
            1,
            2,
            1,
            2,
            5,
            2,
            2,
            2,
            1,
            2
           ],
           "yaxis": "y2"
          }
         ],
         "name": "11"
        },
        {
         "data": [
          {
           "alignmentgroup": "True",
           "hovertemplate": "direction=down<br>floor=12<br>Local Time (GMT+8)=%{x}<br>Frequency=%{y}<extra></extra>",
           "legendgroup": "down",
           "marker": {
            "color": "#636efa"
           },
           "name": "down",
           "offsetgroup": "down",
           "orientation": "v",
           "showlegend": true,
           "textposition": "auto",
           "type": "bar",
           "x": [
            0,
            1,
            2,
            3,
            4,
            5,
            6,
            7,
            8,
            9,
            10,
            11,
            12,
            13,
            14,
            15,
            16,
            17,
            18,
            19,
            20,
            21,
            22,
            23,
            0,
            1,
            2,
            3,
            4,
            5,
            6,
            7,
            8,
            9,
            10,
            11,
            12,
            13,
            14,
            15,
            16,
            17,
            18,
            19,
            20,
            21,
            22,
            23
           ],
           "xaxis": "x",
           "y": [
            77,
            63,
            35,
            10,
            18,
            66,
            129,
            276,
            286,
            301,
            286,
            322,
            341,
            362,
            314,
            330,
            339,
            403,
            398,
            339,
            316,
            210,
            127,
            47,
            31,
            20,
            19,
            12,
            9,
            13,
            28,
            89,
            110,
            91,
            102,
            130,
            125,
            105,
            115,
            102,
            131,
            146,
            135,
            96,
            79,
            55,
            33,
            19
           ],
           "yaxis": "y"
          },
          {
           "alignmentgroup": "True",
           "hovertemplate": "direction=up<br>floor=12<br>Local Time (GMT+8)=%{x}<br>Frequency=%{y}<extra></extra>",
           "legendgroup": "up",
           "marker": {
            "color": "#EF553B"
           },
           "name": "up",
           "offsetgroup": "up",
           "orientation": "v",
           "showlegend": true,
           "textposition": "auto",
           "type": "bar",
           "x": [
            0,
            1,
            2,
            3,
            4,
            5,
            6,
            7,
            8,
            9,
            10,
            11,
            12,
            13,
            14,
            15,
            16,
            17,
            18,
            19,
            20,
            21,
            22,
            23,
            0,
            1,
            2,
            3,
            4,
            5,
            6,
            7,
            8,
            9,
            10,
            11,
            12,
            13,
            14,
            15,
            16,
            17,
            18,
            19,
            20,
            21,
            22,
            23
           ],
           "xaxis": "x2",
           "y": [
            2,
            1,
            0,
            0,
            0,
            2,
            7,
            15,
            13,
            12,
            37,
            48,
            27,
            29,
            28,
            32,
            20,
            20,
            10,
            12,
            13,
            10,
            8,
            5,
            1,
            1,
            0,
            1,
            0,
            1,
            1,
            3,
            5,
            4,
            3,
            9,
            3,
            5,
            4,
            8,
            5,
            6,
            5,
            5,
            1,
            4,
            3,
            3
           ],
           "yaxis": "y2"
          }
         ],
         "name": "12"
        },
        {
         "data": [
          {
           "alignmentgroup": "True",
           "hovertemplate": "direction=down<br>floor=13<br>Local Time (GMT+8)=%{x}<br>Frequency=%{y}<extra></extra>",
           "legendgroup": "down",
           "marker": {
            "color": "#636efa"
           },
           "name": "down",
           "offsetgroup": "down",
           "orientation": "v",
           "showlegend": true,
           "textposition": "auto",
           "type": "bar",
           "x": [
            0,
            1,
            2,
            3,
            4,
            5,
            6,
            7,
            8,
            9,
            10,
            11,
            12,
            13,
            14,
            15,
            16,
            17,
            18,
            19,
            20,
            21,
            22,
            23,
            0,
            1,
            2,
            3,
            4,
            5,
            6,
            7,
            8,
            9,
            10,
            11,
            12,
            13,
            14,
            15,
            16,
            17,
            18,
            19,
            20,
            21,
            22,
            23
           ],
           "xaxis": "x",
           "y": [
            49,
            19,
            19,
            22,
            18,
            42,
            173,
            297,
            322,
            332,
            307,
            333,
            349,
            333,
            331,
            334,
            369,
            405,
            391,
            346,
            292,
            230,
            138,
            79,
            15,
            9,
            5,
            3,
            3,
            14,
            44,
            73,
            110,
            115,
            96,
            124,
            112,
            80,
            99,
            106,
            116,
            121,
            111,
            96,
            82,
            55,
            34,
            19
           ],
           "yaxis": "y"
          },
          {
           "alignmentgroup": "True",
           "hovertemplate": "direction=up<br>floor=13<br>Local Time (GMT+8)=%{x}<br>Frequency=%{y}<extra></extra>",
           "legendgroup": "up",
           "marker": {
            "color": "#EF553B"
           },
           "name": "up",
           "offsetgroup": "up",
           "orientation": "v",
           "showlegend": true,
           "textposition": "auto",
           "type": "bar",
           "x": [
            0,
            1,
            2,
            3,
            4,
            5,
            6,
            7,
            8,
            9,
            10,
            11,
            12,
            13,
            14,
            15,
            16,
            17,
            18,
            19,
            20,
            21,
            22,
            23,
            0,
            1,
            2,
            3,
            4,
            5,
            6,
            7,
            8,
            9,
            10,
            11,
            12,
            13,
            14,
            15,
            16,
            17,
            18,
            19,
            20,
            21,
            22,
            23
           ],
           "xaxis": "x2",
           "y": [
            3,
            1,
            0,
            0,
            0,
            5,
            13,
            34,
            7,
            21,
            11,
            33,
            13,
            20,
            12,
            18,
            28,
            17,
            9,
            12,
            8,
            7,
            2,
            1,
            0,
            1,
            1,
            0,
            0,
            0,
            6,
            7,
            4,
            2,
            5,
            5,
            2,
            2,
            3,
            6,
            1,
            4,
            4,
            6,
            4,
            1,
            0,
            1
           ],
           "yaxis": "y2"
          }
         ],
         "name": "13"
        },
        {
         "data": [
          {
           "alignmentgroup": "True",
           "hovertemplate": "direction=down<br>floor=14<br>Local Time (GMT+8)=%{x}<br>Frequency=%{y}<extra></extra>",
           "legendgroup": "down",
           "marker": {
            "color": "#636efa"
           },
           "name": "down",
           "offsetgroup": "down",
           "orientation": "v",
           "showlegend": true,
           "textposition": "auto",
           "type": "bar",
           "x": [
            0,
            1,
            2,
            3,
            4,
            5,
            6,
            7,
            8,
            9,
            10,
            11,
            12,
            13,
            14,
            15,
            16,
            17,
            18,
            19,
            20,
            21,
            22,
            23,
            0,
            1,
            2,
            3,
            4,
            5,
            6,
            7,
            8,
            9,
            10,
            11,
            12,
            13,
            14,
            15,
            16,
            17,
            18,
            19,
            20,
            21,
            22,
            23
           ],
           "xaxis": "x",
           "y": [
            54,
            86,
            20,
            14,
            17,
            48,
            209,
            270,
            294,
            323,
            302,
            340,
            354,
            321,
            307,
            342,
            363,
            409,
            402,
            372,
            327,
            252,
            208,
            69,
            20,
            21,
            11,
            5,
            4,
            14,
            65,
            92,
            92,
            128,
            110,
            118,
            129,
            112,
            98,
            92,
            114,
            119,
            129,
            110,
            88,
            65,
            40,
            25
           ],
           "yaxis": "y"
          },
          {
           "alignmentgroup": "True",
           "hovertemplate": "direction=up<br>floor=14<br>Local Time (GMT+8)=%{x}<br>Frequency=%{y}<extra></extra>",
           "legendgroup": "up",
           "marker": {
            "color": "#EF553B"
           },
           "name": "up",
           "offsetgroup": "up",
           "orientation": "v",
           "showlegend": true,
           "textposition": "auto",
           "type": "bar",
           "x": [
            0,
            1,
            2,
            3,
            4,
            5,
            6,
            7,
            8,
            9,
            10,
            11,
            12,
            13,
            14,
            15,
            16,
            17,
            18,
            19,
            20,
            21,
            22,
            23,
            0,
            1,
            2,
            3,
            4,
            5,
            6,
            7,
            8,
            9,
            10,
            11,
            12,
            13,
            14,
            15,
            16,
            17,
            18,
            19,
            20,
            21,
            22,
            23
           ],
           "xaxis": "x2",
           "y": [
            1,
            1,
            0,
            0,
            0,
            1,
            14,
            10,
            16,
            10,
            8,
            13,
            14,
            20,
            17,
            5,
            21,
            14,
            4,
            6,
            5,
            13,
            4,
            1,
            1,
            1,
            0,
            1,
            0,
            0,
            0,
            2,
            2,
            2,
            1,
            5,
            2,
            4,
            1,
            5,
            4,
            3,
            1,
            2,
            2,
            4,
            4,
            0
           ],
           "yaxis": "y2"
          }
         ],
         "name": "14"
        },
        {
         "data": [
          {
           "alignmentgroup": "True",
           "hovertemplate": "direction=down<br>floor=15<br>Local Time (GMT+8)=%{x}<br>Frequency=%{y}<extra></extra>",
           "legendgroup": "down",
           "marker": {
            "color": "#636efa"
           },
           "name": "down",
           "offsetgroup": "down",
           "orientation": "v",
           "showlegend": true,
           "textposition": "auto",
           "type": "bar",
           "x": [
            0,
            1,
            2,
            3,
            4,
            5,
            6,
            7,
            8,
            9,
            10,
            11,
            12,
            13,
            14,
            15,
            16,
            17,
            18,
            19,
            20,
            21,
            22,
            23,
            0,
            1,
            2,
            3,
            4,
            5,
            6,
            7,
            8,
            9,
            10,
            11,
            12,
            13,
            14,
            15,
            16,
            17,
            18,
            19,
            20,
            21,
            22,
            23
           ],
           "xaxis": "x",
           "y": [
            30,
            10,
            0,
            3,
            0,
            4,
            6,
            81,
            139,
            164,
            148,
            204,
            204,
            165,
            149,
            186,
            204,
            224,
            114,
            93,
            66,
            48,
            27,
            28,
            17,
            7,
            2,
            3,
            0,
            1,
            6,
            15,
            31,
            31,
            29,
            62,
            30,
            23,
            30,
            27,
            56,
            45,
            25,
            15,
            15,
            9,
            4,
            5
           ],
           "yaxis": "y"
          },
          {
           "alignmentgroup": "True",
           "hovertemplate": "direction=up<br>floor=15<br>Local Time (GMT+8)=%{x}<br>Frequency=%{y}<extra></extra>",
           "legendgroup": "up",
           "marker": {
            "color": "#EF553B"
           },
           "name": "up",
           "offsetgroup": "up",
           "orientation": "v",
           "showlegend": true,
           "textposition": "auto",
           "type": "bar",
           "x": [
            0,
            1,
            2,
            3,
            4,
            5,
            6,
            7,
            8,
            9,
            10,
            11,
            12,
            13,
            14,
            15,
            16,
            17,
            18,
            19,
            20,
            21,
            22,
            23,
            0,
            1,
            2,
            3,
            4,
            5,
            6,
            7,
            8,
            9,
            10,
            11,
            12,
            13,
            14,
            15,
            16,
            17,
            18,
            19,
            20,
            21,
            22,
            23
           ],
           "xaxis": "x2",
           "y": [
            0,
            0,
            0,
            0,
            0,
            0,
            0,
            0,
            0,
            0,
            0,
            0,
            0,
            0,
            0,
            0,
            0,
            0,
            0,
            0,
            0,
            0,
            0,
            0,
            0,
            0,
            0,
            0,
            0,
            0,
            0,
            0,
            0,
            0,
            0,
            0,
            0,
            0,
            0,
            0,
            0,
            0,
            0,
            0,
            0,
            0,
            0,
            0
           ],
           "yaxis": "y2"
          }
         ],
         "name": "15"
        },
        {
         "data": [
          {
           "alignmentgroup": "True",
           "hovertemplate": "direction=down<br>floor=B1<br>Local Time (GMT+8)=%{x}<br>Frequency=%{y}<extra></extra>",
           "legendgroup": "down",
           "marker": {
            "color": "#636efa"
           },
           "name": "down",
           "offsetgroup": "down",
           "orientation": "v",
           "showlegend": true,
           "textposition": "auto",
           "type": "bar",
           "x": [
            0,
            1,
            2,
            3,
            4,
            5,
            6,
            7,
            8,
            9,
            10,
            11,
            12,
            13,
            14,
            15,
            16,
            17,
            18,
            19,
            20,
            21,
            22,
            23,
            0,
            1,
            2,
            3,
            4,
            5,
            6,
            7,
            8,
            9,
            10,
            11,
            12,
            13,
            14,
            15,
            16,
            17,
            18,
            19,
            20,
            21,
            22,
            23
           ],
           "xaxis": "x",
           "y": [
            5,
            18,
            1,
            1,
            0,
            0,
            40,
            65,
            98,
            100,
            105,
            129,
            134,
            142,
            124,
            101,
            132,
            121,
            71,
            64,
            47,
            34,
            12,
            11,
            3,
            3,
            0,
            0,
            0,
            0,
            5,
            20,
            12,
            16,
            12,
            19,
            30,
            16,
            13,
            10,
            15,
            16,
            20,
            13,
            11,
            3,
            4,
            0
           ],
           "yaxis": "y"
          },
          {
           "alignmentgroup": "True",
           "hovertemplate": "direction=up<br>floor=B1<br>Local Time (GMT+8)=%{x}<br>Frequency=%{y}<extra></extra>",
           "legendgroup": "up",
           "marker": {
            "color": "#EF553B"
           },
           "name": "up",
           "offsetgroup": "up",
           "orientation": "v",
           "showlegend": true,
           "textposition": "auto",
           "type": "bar",
           "x": [
            0,
            1,
            2,
            3,
            4,
            5,
            6,
            7,
            8,
            9,
            10,
            11,
            12,
            13,
            14,
            15,
            16,
            17,
            18,
            19,
            20,
            21,
            22,
            23,
            0,
            1,
            2,
            3,
            4,
            5,
            6,
            7,
            8,
            9,
            10,
            11,
            12,
            13,
            14,
            15,
            16,
            17,
            18,
            19,
            20,
            21,
            22,
            23
           ],
           "xaxis": "x2",
           "y": [
            39,
            39,
            18,
            24,
            27,
            35,
            381,
            602,
            567,
            460,
            411,
            469,
            499,
            454,
            461,
            440,
            463,
            535,
            558,
            533,
            546,
            354,
            234,
            167,
            16,
            14,
            11,
            8,
            5,
            25,
            140,
            256,
            224,
            221,
            196,
            205,
            221,
            235,
            205,
            184,
            194,
            220,
            231,
            217,
            159,
            96,
            79,
            70
           ],
           "yaxis": "y2"
          }
         ],
         "name": "B1"
        },
        {
         "data": [
          {
           "alignmentgroup": "True",
           "hovertemplate": "direction=down<br>floor=B3<br>Local Time (GMT+8)=%{x}<br>Frequency=%{y}<extra></extra>",
           "legendgroup": "down",
           "marker": {
            "color": "#636efa"
           },
           "name": "down",
           "offsetgroup": "down",
           "orientation": "v",
           "showlegend": true,
           "textposition": "auto",
           "type": "bar",
           "x": [
            0,
            1,
            2,
            3,
            4,
            5,
            6,
            7,
            8,
            9,
            10,
            11,
            12,
            13,
            14,
            15,
            16,
            17,
            18,
            19,
            20,
            21,
            22,
            23,
            0,
            1,
            2,
            3,
            4,
            5,
            6,
            7,
            8,
            9,
            10,
            11,
            12,
            13,
            14,
            15,
            16,
            17,
            18,
            19,
            20,
            21,
            22,
            23
           ],
           "xaxis": "x",
           "y": [
            1,
            0,
            0,
            0,
            0,
            0,
            1,
            17,
            15,
            18,
            31,
            29,
            28,
            17,
            26,
            37,
            37,
            8,
            2,
            4,
            0,
            3,
            1,
            0,
            0,
            0,
            0,
            0,
            0,
            0,
            0,
            2,
            0,
            0,
            0,
            3,
            3,
            1,
            4,
            1,
            0,
            0,
            0,
            0,
            0,
            1,
            3,
            0
           ],
           "yaxis": "y"
          },
          {
           "alignmentgroup": "True",
           "hovertemplate": "direction=up<br>floor=B3<br>Local Time (GMT+8)=%{x}<br>Frequency=%{y}<extra></extra>",
           "legendgroup": "up",
           "marker": {
            "color": "#EF553B"
           },
           "name": "up",
           "offsetgroup": "up",
           "orientation": "v",
           "showlegend": true,
           "textposition": "auto",
           "type": "bar",
           "x": [
            0,
            1,
            2,
            3,
            4,
            5,
            6,
            7,
            8,
            9,
            10,
            11,
            12,
            13,
            14,
            15,
            16,
            17,
            18,
            19,
            20,
            21,
            22,
            23,
            0,
            1,
            2,
            3,
            4,
            5,
            6,
            7,
            8,
            9,
            10,
            11,
            12,
            13,
            14,
            15,
            16,
            17,
            18,
            19,
            20,
            21,
            22,
            23
           ],
           "xaxis": "x2",
           "y": [
            1,
            1,
            0,
            0,
            2,
            1,
            33,
            225,
            179,
            161,
            113,
            108,
            117,
            103,
            89,
            116,
            90,
            69,
            45,
            45,
            14,
            22,
            16,
            11,
            1,
            1,
            0,
            0,
            1,
            3,
            3,
            20,
            18,
            13,
            25,
            40,
            15,
            19,
            36,
            13,
            13,
            8,
            5,
            5,
            5,
            5,
            14,
            9
           ],
           "yaxis": "y2"
          }
         ],
         "name": "B3"
        },
        {
         "data": [
          {
           "alignmentgroup": "True",
           "hovertemplate": "direction=down<br>floor=B4<br>Local Time (GMT+8)=%{x}<br>Frequency=%{y}<extra></extra>",
           "legendgroup": "down",
           "marker": {
            "color": "#636efa"
           },
           "name": "down",
           "offsetgroup": "down",
           "orientation": "v",
           "showlegend": true,
           "textposition": "auto",
           "type": "bar",
           "x": [
            0,
            1,
            2,
            3,
            4,
            5,
            6,
            7,
            8,
            9,
            10,
            11,
            12,
            13,
            14,
            15,
            16,
            17,
            18,
            19,
            20,
            21,
            22,
            23,
            0,
            1,
            2,
            3,
            4,
            5,
            6,
            7,
            8,
            9,
            10,
            11,
            12,
            13,
            14,
            15,
            16,
            17,
            18,
            19,
            20,
            21,
            22,
            23
           ],
           "xaxis": "x",
           "y": [
            0,
            0,
            0,
            0,
            0,
            0,
            0,
            0,
            0,
            0,
            0,
            0,
            0,
            0,
            0,
            0,
            0,
            0,
            0,
            0,
            0,
            0,
            0,
            0,
            0,
            0,
            0,
            0,
            0,
            0,
            0,
            0,
            0,
            0,
            0,
            0,
            0,
            0,
            0,
            0,
            0,
            0,
            0,
            0,
            0,
            0,
            0,
            0
           ],
           "yaxis": "y"
          },
          {
           "alignmentgroup": "True",
           "hovertemplate": "direction=up<br>floor=B4<br>Local Time (GMT+8)=%{x}<br>Frequency=%{y}<extra></extra>",
           "legendgroup": "up",
           "marker": {
            "color": "#EF553B"
           },
           "name": "up",
           "offsetgroup": "up",
           "orientation": "v",
           "showlegend": true,
           "textposition": "auto",
           "type": "bar",
           "x": [
            0,
            1,
            2,
            3,
            4,
            5,
            6,
            7,
            8,
            9,
            10,
            11,
            12,
            13,
            14,
            15,
            16,
            17,
            18,
            19,
            20,
            21,
            22,
            23,
            0,
            1,
            2,
            3,
            4,
            5,
            6,
            7,
            8,
            9,
            10,
            11,
            12,
            13,
            14,
            15,
            16,
            17,
            18,
            19,
            20,
            21,
            22,
            23
           ],
           "xaxis": "x2",
           "y": [
            9,
            4,
            4,
            4,
            4,
            14,
            81,
            311,
            286,
            242,
            257,
            264,
            200,
            251,
            287,
            299,
            302,
            270,
            161,
            100,
            66,
            63,
            12,
            29,
            3,
            0,
            0,
            2,
            2,
            2,
            7,
            33,
            44,
            56,
            28,
            34,
            32,
            37,
            42,
            33,
            38,
            29,
            24,
            21,
            16,
            18,
            1,
            5
           ],
           "yaxis": "y2"
          }
         ],
         "name": "B4"
        }
       ],
       "layout": {
        "annotations": [
         {
          "font": {},
          "showarrow": false,
          "text": "direction=down",
          "x": 0.245,
          "xanchor": "center",
          "xref": "paper",
          "y": 1,
          "yanchor": "bottom",
          "yref": "paper"
         },
         {
          "font": {},
          "showarrow": false,
          "text": "direction=up",
          "x": 0.755,
          "xanchor": "center",
          "xref": "paper",
          "y": 1,
          "yanchor": "bottom",
          "yref": "paper"
         }
        ],
        "barmode": "relative",
        "legend": {
         "title": {
          "text": "direction"
         },
         "tracegroupgap": 0
        },
        "margin": {
         "t": 60
        },
        "sliders": [
         {
          "active": 0,
          "currentvalue": {
           "prefix": "floor="
          },
          "len": 0.9,
          "pad": {
           "b": 10,
           "t": 60
          },
          "steps": [
           {
            "args": [
             [
              "01"
             ],
             {
              "frame": {
               "duration": 0,
               "redraw": true
              },
              "fromcurrent": true,
              "mode": "immediate",
              "transition": {
               "duration": 0,
               "easing": "linear"
              }
             }
            ],
            "label": "01",
            "method": "animate"
           },
           {
            "args": [
             [
              "02"
             ],
             {
              "frame": {
               "duration": 0,
               "redraw": true
              },
              "fromcurrent": true,
              "mode": "immediate",
              "transition": {
               "duration": 0,
               "easing": "linear"
              }
             }
            ],
            "label": "02",
            "method": "animate"
           },
           {
            "args": [
             [
              "03"
             ],
             {
              "frame": {
               "duration": 0,
               "redraw": true
              },
              "fromcurrent": true,
              "mode": "immediate",
              "transition": {
               "duration": 0,
               "easing": "linear"
              }
             }
            ],
            "label": "03",
            "method": "animate"
           },
           {
            "args": [
             [
              "04"
             ],
             {
              "frame": {
               "duration": 0,
               "redraw": true
              },
              "fromcurrent": true,
              "mode": "immediate",
              "transition": {
               "duration": 0,
               "easing": "linear"
              }
             }
            ],
            "label": "04",
            "method": "animate"
           },
           {
            "args": [
             [
              "05"
             ],
             {
              "frame": {
               "duration": 0,
               "redraw": true
              },
              "fromcurrent": true,
              "mode": "immediate",
              "transition": {
               "duration": 0,
               "easing": "linear"
              }
             }
            ],
            "label": "05",
            "method": "animate"
           },
           {
            "args": [
             [
              "06"
             ],
             {
              "frame": {
               "duration": 0,
               "redraw": true
              },
              "fromcurrent": true,
              "mode": "immediate",
              "transition": {
               "duration": 0,
               "easing": "linear"
              }
             }
            ],
            "label": "06",
            "method": "animate"
           },
           {
            "args": [
             [
              "07"
             ],
             {
              "frame": {
               "duration": 0,
               "redraw": true
              },
              "fromcurrent": true,
              "mode": "immediate",
              "transition": {
               "duration": 0,
               "easing": "linear"
              }
             }
            ],
            "label": "07",
            "method": "animate"
           },
           {
            "args": [
             [
              "08"
             ],
             {
              "frame": {
               "duration": 0,
               "redraw": true
              },
              "fromcurrent": true,
              "mode": "immediate",
              "transition": {
               "duration": 0,
               "easing": "linear"
              }
             }
            ],
            "label": "08",
            "method": "animate"
           },
           {
            "args": [
             [
              "09"
             ],
             {
              "frame": {
               "duration": 0,
               "redraw": true
              },
              "fromcurrent": true,
              "mode": "immediate",
              "transition": {
               "duration": 0,
               "easing": "linear"
              }
             }
            ],
            "label": "09",
            "method": "animate"
           },
           {
            "args": [
             [
              "10"
             ],
             {
              "frame": {
               "duration": 0,
               "redraw": true
              },
              "fromcurrent": true,
              "mode": "immediate",
              "transition": {
               "duration": 0,
               "easing": "linear"
              }
             }
            ],
            "label": "10",
            "method": "animate"
           },
           {
            "args": [
             [
              "11"
             ],
             {
              "frame": {
               "duration": 0,
               "redraw": true
              },
              "fromcurrent": true,
              "mode": "immediate",
              "transition": {
               "duration": 0,
               "easing": "linear"
              }
             }
            ],
            "label": "11",
            "method": "animate"
           },
           {
            "args": [
             [
              "12"
             ],
             {
              "frame": {
               "duration": 0,
               "redraw": true
              },
              "fromcurrent": true,
              "mode": "immediate",
              "transition": {
               "duration": 0,
               "easing": "linear"
              }
             }
            ],
            "label": "12",
            "method": "animate"
           },
           {
            "args": [
             [
              "13"
             ],
             {
              "frame": {
               "duration": 0,
               "redraw": true
              },
              "fromcurrent": true,
              "mode": "immediate",
              "transition": {
               "duration": 0,
               "easing": "linear"
              }
             }
            ],
            "label": "13",
            "method": "animate"
           },
           {
            "args": [
             [
              "14"
             ],
             {
              "frame": {
               "duration": 0,
               "redraw": true
              },
              "fromcurrent": true,
              "mode": "immediate",
              "transition": {
               "duration": 0,
               "easing": "linear"
              }
             }
            ],
            "label": "14",
            "method": "animate"
           },
           {
            "args": [
             [
              "15"
             ],
             {
              "frame": {
               "duration": 0,
               "redraw": true
              },
              "fromcurrent": true,
              "mode": "immediate",
              "transition": {
               "duration": 0,
               "easing": "linear"
              }
             }
            ],
            "label": "15",
            "method": "animate"
           },
           {
            "args": [
             [
              "B1"
             ],
             {
              "frame": {
               "duration": 0,
               "redraw": true
              },
              "fromcurrent": true,
              "mode": "immediate",
              "transition": {
               "duration": 0,
               "easing": "linear"
              }
             }
            ],
            "label": "B1",
            "method": "animate"
           },
           {
            "args": [
             [
              "B3"
             ],
             {
              "frame": {
               "duration": 0,
               "redraw": true
              },
              "fromcurrent": true,
              "mode": "immediate",
              "transition": {
               "duration": 0,
               "easing": "linear"
              }
             }
            ],
            "label": "B3",
            "method": "animate"
           },
           {
            "args": [
             [
              "B4"
             ],
             {
              "frame": {
               "duration": 0,
               "redraw": true
              },
              "fromcurrent": true,
              "mode": "immediate",
              "transition": {
               "duration": 0,
               "easing": "linear"
              }
             }
            ],
            "label": "B4",
            "method": "animate"
           }
          ],
          "x": 0.1,
          "xanchor": "left",
          "y": 0,
          "yanchor": "top"
         }
        ],
        "template": {
         "data": {
          "bar": [
           {
            "error_x": {
             "color": "#2a3f5f"
            },
            "error_y": {
             "color": "#2a3f5f"
            },
            "marker": {
             "line": {
              "color": "#E5ECF6",
              "width": 0.5
             }
            },
            "type": "bar"
           }
          ],
          "barpolar": [
           {
            "marker": {
             "line": {
              "color": "#E5ECF6",
              "width": 0.5
             }
            },
            "type": "barpolar"
           }
          ],
          "carpet": [
           {
            "aaxis": {
             "endlinecolor": "#2a3f5f",
             "gridcolor": "white",
             "linecolor": "white",
             "minorgridcolor": "white",
             "startlinecolor": "#2a3f5f"
            },
            "baxis": {
             "endlinecolor": "#2a3f5f",
             "gridcolor": "white",
             "linecolor": "white",
             "minorgridcolor": "white",
             "startlinecolor": "#2a3f5f"
            },
            "type": "carpet"
           }
          ],
          "choropleth": [
           {
            "colorbar": {
             "outlinewidth": 0,
             "ticks": ""
            },
            "type": "choropleth"
           }
          ],
          "contour": [
           {
            "colorbar": {
             "outlinewidth": 0,
             "ticks": ""
            },
            "colorscale": [
             [
              0,
              "#0d0887"
             ],
             [
              0.1111111111111111,
              "#46039f"
             ],
             [
              0.2222222222222222,
              "#7201a8"
             ],
             [
              0.3333333333333333,
              "#9c179e"
             ],
             [
              0.4444444444444444,
              "#bd3786"
             ],
             [
              0.5555555555555556,
              "#d8576b"
             ],
             [
              0.6666666666666666,
              "#ed7953"
             ],
             [
              0.7777777777777778,
              "#fb9f3a"
             ],
             [
              0.8888888888888888,
              "#fdca26"
             ],
             [
              1,
              "#f0f921"
             ]
            ],
            "type": "contour"
           }
          ],
          "contourcarpet": [
           {
            "colorbar": {
             "outlinewidth": 0,
             "ticks": ""
            },
            "type": "contourcarpet"
           }
          ],
          "heatmap": [
           {
            "colorbar": {
             "outlinewidth": 0,
             "ticks": ""
            },
            "colorscale": [
             [
              0,
              "#0d0887"
             ],
             [
              0.1111111111111111,
              "#46039f"
             ],
             [
              0.2222222222222222,
              "#7201a8"
             ],
             [
              0.3333333333333333,
              "#9c179e"
             ],
             [
              0.4444444444444444,
              "#bd3786"
             ],
             [
              0.5555555555555556,
              "#d8576b"
             ],
             [
              0.6666666666666666,
              "#ed7953"
             ],
             [
              0.7777777777777778,
              "#fb9f3a"
             ],
             [
              0.8888888888888888,
              "#fdca26"
             ],
             [
              1,
              "#f0f921"
             ]
            ],
            "type": "heatmap"
           }
          ],
          "heatmapgl": [
           {
            "colorbar": {
             "outlinewidth": 0,
             "ticks": ""
            },
            "colorscale": [
             [
              0,
              "#0d0887"
             ],
             [
              0.1111111111111111,
              "#46039f"
             ],
             [
              0.2222222222222222,
              "#7201a8"
             ],
             [
              0.3333333333333333,
              "#9c179e"
             ],
             [
              0.4444444444444444,
              "#bd3786"
             ],
             [
              0.5555555555555556,
              "#d8576b"
             ],
             [
              0.6666666666666666,
              "#ed7953"
             ],
             [
              0.7777777777777778,
              "#fb9f3a"
             ],
             [
              0.8888888888888888,
              "#fdca26"
             ],
             [
              1,
              "#f0f921"
             ]
            ],
            "type": "heatmapgl"
           }
          ],
          "histogram": [
           {
            "marker": {
             "colorbar": {
              "outlinewidth": 0,
              "ticks": ""
             }
            },
            "type": "histogram"
           }
          ],
          "histogram2d": [
           {
            "colorbar": {
             "outlinewidth": 0,
             "ticks": ""
            },
            "colorscale": [
             [
              0,
              "#0d0887"
             ],
             [
              0.1111111111111111,
              "#46039f"
             ],
             [
              0.2222222222222222,
              "#7201a8"
             ],
             [
              0.3333333333333333,
              "#9c179e"
             ],
             [
              0.4444444444444444,
              "#bd3786"
             ],
             [
              0.5555555555555556,
              "#d8576b"
             ],
             [
              0.6666666666666666,
              "#ed7953"
             ],
             [
              0.7777777777777778,
              "#fb9f3a"
             ],
             [
              0.8888888888888888,
              "#fdca26"
             ],
             [
              1,
              "#f0f921"
             ]
            ],
            "type": "histogram2d"
           }
          ],
          "histogram2dcontour": [
           {
            "colorbar": {
             "outlinewidth": 0,
             "ticks": ""
            },
            "colorscale": [
             [
              0,
              "#0d0887"
             ],
             [
              0.1111111111111111,
              "#46039f"
             ],
             [
              0.2222222222222222,
              "#7201a8"
             ],
             [
              0.3333333333333333,
              "#9c179e"
             ],
             [
              0.4444444444444444,
              "#bd3786"
             ],
             [
              0.5555555555555556,
              "#d8576b"
             ],
             [
              0.6666666666666666,
              "#ed7953"
             ],
             [
              0.7777777777777778,
              "#fb9f3a"
             ],
             [
              0.8888888888888888,
              "#fdca26"
             ],
             [
              1,
              "#f0f921"
             ]
            ],
            "type": "histogram2dcontour"
           }
          ],
          "mesh3d": [
           {
            "colorbar": {
             "outlinewidth": 0,
             "ticks": ""
            },
            "type": "mesh3d"
           }
          ],
          "parcoords": [
           {
            "line": {
             "colorbar": {
              "outlinewidth": 0,
              "ticks": ""
             }
            },
            "type": "parcoords"
           }
          ],
          "pie": [
           {
            "automargin": true,
            "type": "pie"
           }
          ],
          "scatter": [
           {
            "marker": {
             "colorbar": {
              "outlinewidth": 0,
              "ticks": ""
             }
            },
            "type": "scatter"
           }
          ],
          "scatter3d": [
           {
            "line": {
             "colorbar": {
              "outlinewidth": 0,
              "ticks": ""
             }
            },
            "marker": {
             "colorbar": {
              "outlinewidth": 0,
              "ticks": ""
             }
            },
            "type": "scatter3d"
           }
          ],
          "scattercarpet": [
           {
            "marker": {
             "colorbar": {
              "outlinewidth": 0,
              "ticks": ""
             }
            },
            "type": "scattercarpet"
           }
          ],
          "scattergeo": [
           {
            "marker": {
             "colorbar": {
              "outlinewidth": 0,
              "ticks": ""
             }
            },
            "type": "scattergeo"
           }
          ],
          "scattergl": [
           {
            "marker": {
             "colorbar": {
              "outlinewidth": 0,
              "ticks": ""
             }
            },
            "type": "scattergl"
           }
          ],
          "scattermapbox": [
           {
            "marker": {
             "colorbar": {
              "outlinewidth": 0,
              "ticks": ""
             }
            },
            "type": "scattermapbox"
           }
          ],
          "scatterpolar": [
           {
            "marker": {
             "colorbar": {
              "outlinewidth": 0,
              "ticks": ""
             }
            },
            "type": "scatterpolar"
           }
          ],
          "scatterpolargl": [
           {
            "marker": {
             "colorbar": {
              "outlinewidth": 0,
              "ticks": ""
             }
            },
            "type": "scatterpolargl"
           }
          ],
          "scatterternary": [
           {
            "marker": {
             "colorbar": {
              "outlinewidth": 0,
              "ticks": ""
             }
            },
            "type": "scatterternary"
           }
          ],
          "surface": [
           {
            "colorbar": {
             "outlinewidth": 0,
             "ticks": ""
            },
            "colorscale": [
             [
              0,
              "#0d0887"
             ],
             [
              0.1111111111111111,
              "#46039f"
             ],
             [
              0.2222222222222222,
              "#7201a8"
             ],
             [
              0.3333333333333333,
              "#9c179e"
             ],
             [
              0.4444444444444444,
              "#bd3786"
             ],
             [
              0.5555555555555556,
              "#d8576b"
             ],
             [
              0.6666666666666666,
              "#ed7953"
             ],
             [
              0.7777777777777778,
              "#fb9f3a"
             ],
             [
              0.8888888888888888,
              "#fdca26"
             ],
             [
              1,
              "#f0f921"
             ]
            ],
            "type": "surface"
           }
          ],
          "table": [
           {
            "cells": {
             "fill": {
              "color": "#EBF0F8"
             },
             "line": {
              "color": "white"
             }
            },
            "header": {
             "fill": {
              "color": "#C8D4E3"
             },
             "line": {
              "color": "white"
             }
            },
            "type": "table"
           }
          ]
         },
         "layout": {
          "annotationdefaults": {
           "arrowcolor": "#2a3f5f",
           "arrowhead": 0,
           "arrowwidth": 1
          },
          "coloraxis": {
           "colorbar": {
            "outlinewidth": 0,
            "ticks": ""
           }
          },
          "colorscale": {
           "diverging": [
            [
             0,
             "#8e0152"
            ],
            [
             0.1,
             "#c51b7d"
            ],
            [
             0.2,
             "#de77ae"
            ],
            [
             0.3,
             "#f1b6da"
            ],
            [
             0.4,
             "#fde0ef"
            ],
            [
             0.5,
             "#f7f7f7"
            ],
            [
             0.6,
             "#e6f5d0"
            ],
            [
             0.7,
             "#b8e186"
            ],
            [
             0.8,
             "#7fbc41"
            ],
            [
             0.9,
             "#4d9221"
            ],
            [
             1,
             "#276419"
            ]
           ],
           "sequential": [
            [
             0,
             "#0d0887"
            ],
            [
             0.1111111111111111,
             "#46039f"
            ],
            [
             0.2222222222222222,
             "#7201a8"
            ],
            [
             0.3333333333333333,
             "#9c179e"
            ],
            [
             0.4444444444444444,
             "#bd3786"
            ],
            [
             0.5555555555555556,
             "#d8576b"
            ],
            [
             0.6666666666666666,
             "#ed7953"
            ],
            [
             0.7777777777777778,
             "#fb9f3a"
            ],
            [
             0.8888888888888888,
             "#fdca26"
            ],
            [
             1,
             "#f0f921"
            ]
           ],
           "sequentialminus": [
            [
             0,
             "#0d0887"
            ],
            [
             0.1111111111111111,
             "#46039f"
            ],
            [
             0.2222222222222222,
             "#7201a8"
            ],
            [
             0.3333333333333333,
             "#9c179e"
            ],
            [
             0.4444444444444444,
             "#bd3786"
            ],
            [
             0.5555555555555556,
             "#d8576b"
            ],
            [
             0.6666666666666666,
             "#ed7953"
            ],
            [
             0.7777777777777778,
             "#fb9f3a"
            ],
            [
             0.8888888888888888,
             "#fdca26"
            ],
            [
             1,
             "#f0f921"
            ]
           ]
          },
          "colorway": [
           "#636efa",
           "#EF553B",
           "#00cc96",
           "#ab63fa",
           "#FFA15A",
           "#19d3f3",
           "#FF6692",
           "#B6E880",
           "#FF97FF",
           "#FECB52"
          ],
          "font": {
           "color": "#2a3f5f"
          },
          "geo": {
           "bgcolor": "white",
           "lakecolor": "white",
           "landcolor": "#E5ECF6",
           "showlakes": true,
           "showland": true,
           "subunitcolor": "white"
          },
          "hoverlabel": {
           "align": "left"
          },
          "hovermode": "closest",
          "mapbox": {
           "style": "light"
          },
          "paper_bgcolor": "white",
          "plot_bgcolor": "#E5ECF6",
          "polar": {
           "angularaxis": {
            "gridcolor": "white",
            "linecolor": "white",
            "ticks": ""
           },
           "bgcolor": "#E5ECF6",
           "radialaxis": {
            "gridcolor": "white",
            "linecolor": "white",
            "ticks": ""
           }
          },
          "scene": {
           "xaxis": {
            "backgroundcolor": "#E5ECF6",
            "gridcolor": "white",
            "gridwidth": 2,
            "linecolor": "white",
            "showbackground": true,
            "ticks": "",
            "zerolinecolor": "white"
           },
           "yaxis": {
            "backgroundcolor": "#E5ECF6",
            "gridcolor": "white",
            "gridwidth": 2,
            "linecolor": "white",
            "showbackground": true,
            "ticks": "",
            "zerolinecolor": "white"
           },
           "zaxis": {
            "backgroundcolor": "#E5ECF6",
            "gridcolor": "white",
            "gridwidth": 2,
            "linecolor": "white",
            "showbackground": true,
            "ticks": "",
            "zerolinecolor": "white"
           }
          },
          "shapedefaults": {
           "line": {
            "color": "#2a3f5f"
           }
          },
          "ternary": {
           "aaxis": {
            "gridcolor": "white",
            "linecolor": "white",
            "ticks": ""
           },
           "baxis": {
            "gridcolor": "white",
            "linecolor": "white",
            "ticks": ""
           },
           "bgcolor": "#E5ECF6",
           "caxis": {
            "gridcolor": "white",
            "linecolor": "white",
            "ticks": ""
           }
          },
          "title": {
           "x": 0.05
          },
          "xaxis": {
           "automargin": true,
           "gridcolor": "white",
           "linecolor": "white",
           "ticks": "",
           "title": {
            "standoff": 15
           },
           "zerolinecolor": "white",
           "zerolinewidth": 2
          },
          "yaxis": {
           "automargin": true,
           "gridcolor": "white",
           "linecolor": "white",
           "ticks": "",
           "title": {
            "standoff": 15
           },
           "zerolinecolor": "white",
           "zerolinewidth": 2
          }
         }
        },
        "title": {
         "text": "Frequency of Elevator Calls by Time"
        },
        "updatemenus": [
         {
          "buttons": [
           {
            "args": [
             null,
             {
              "frame": {
               "duration": 500,
               "redraw": true
              },
              "fromcurrent": true,
              "mode": "immediate",
              "transition": {
               "duration": 500,
               "easing": "linear"
              }
             }
            ],
            "label": "&#9654;",
            "method": "animate"
           },
           {
            "args": [
             [
              null
             ],
             {
              "frame": {
               "duration": 0,
               "redraw": true
              },
              "fromcurrent": true,
              "mode": "immediate",
              "transition": {
               "duration": 0,
               "easing": "linear"
              }
             }
            ],
            "label": "&#9724;",
            "method": "animate"
           }
          ],
          "direction": "left",
          "pad": {
           "r": 10,
           "t": 70
          },
          "showactive": false,
          "type": "buttons",
          "x": 0.1,
          "xanchor": "right",
          "y": 0,
          "yanchor": "top"
         }
        ],
        "xaxis": {
         "anchor": "y",
         "categoryarray": [
          0,
          24
         ],
         "domain": [
          0,
          0.49
         ],
         "nticks": 19,
         "title": {
          "text": "Local Time (GMT+8)"
         },
         "type": "category"
        },
        "xaxis2": {
         "anchor": "y2",
         "categoryarray": [
          0,
          24
         ],
         "domain": [
          0.51,
          1
         ],
         "matches": "x",
         "nticks": 19,
         "title": {
          "text": "Local Time (GMT+8)"
         },
         "type": "category"
        },
        "yaxis": {
         "anchor": "x",
         "domain": [
          0,
          1
         ],
         "range": [
          0,
          1000
         ],
         "title": {
          "text": "Frequency"
         }
        },
        "yaxis2": {
         "anchor": "x2",
         "domain": [
          0,
          1
         ],
         "matches": "y",
         "range": [
          0,
          1000
         ],
         "showticklabels": false
        }
       }
      },
      "text/html": [
       "<div>\n",
       "        \n",
       "        \n",
       "            <div id=\"a8ad92eb-fe4c-4e67-8760-8efa8452a4b9\" class=\"plotly-graph-div\" style=\"height:525px; width:100%;\"></div>\n",
       "            <script type=\"text/javascript\">\n",
       "                require([\"plotly\"], function(Plotly) {\n",
       "                    window.PLOTLYENV=window.PLOTLYENV || {};\n",
       "                    \n",
       "                if (document.getElementById(\"a8ad92eb-fe4c-4e67-8760-8efa8452a4b9\")) {\n",
       "                    Plotly.newPlot(\n",
       "                        'a8ad92eb-fe4c-4e67-8760-8efa8452a4b9',\n",
       "                        [{\"alignmentgroup\": \"True\", \"hovertemplate\": \"direction=down<br>floor=01<br>Local Time (GMT+8)=%{x}<br>Frequency=%{y}<extra></extra>\", \"legendgroup\": \"down\", \"marker\": {\"color\": \"#636efa\"}, \"name\": \"down\", \"offsetgroup\": \"down\", \"orientation\": \"v\", \"showlegend\": true, \"textposition\": \"auto\", \"type\": \"bar\", \"x\": [0, 1, 2, 3, 4, 5, 6, 7, 8, 9, 10, 11, 12, 13, 14, 15, 16, 17, 18, 19, 20, 21, 22, 23, 0, 1, 2, 3, 4, 5, 6, 7, 8, 9, 10, 11, 12, 13, 14, 15, 16, 17, 18, 19, 20, 21, 22, 23], \"xaxis\": \"x\", \"y\": [31, 17, 3, 11, 19, 20, 102, 182, 212, 176, 203, 219, 196, 197, 185, 202, 206, 163, 136, 120, 65, 63, 43, 40, 16, 3, 2, 3, 6, 6, 24, 34, 42, 32, 35, 34, 36, 41, 29, 52, 34, 46, 43, 40, 31, 18, 14, 11], \"yaxis\": \"y\"}, {\"alignmentgroup\": \"True\", \"hovertemplate\": \"direction=up<br>floor=01<br>Local Time (GMT+8)=%{x}<br>Frequency=%{y}<extra></extra>\", \"legendgroup\": \"up\", \"marker\": {\"color\": \"#EF553B\"}, \"name\": \"up\", \"offsetgroup\": \"up\", \"orientation\": \"v\", \"showlegend\": true, \"textposition\": \"auto\", \"type\": \"bar\", \"x\": [0, 1, 2, 3, 4, 5, 6, 7, 8, 9, 10, 11, 12, 13, 14, 15, 16, 17, 18, 19, 20, 21, 22, 23, 0, 1, 2, 3, 4, 5, 6, 7, 8, 9, 10, 11, 12, 13, 14, 15, 16, 17, 18, 19, 20, 21, 22, 23], \"xaxis\": \"x2\", \"y\": [358, 227, 123, 82, 115, 260, 971, 689, 642, 572, 494, 427, 471, 503, 527, 538, 542, 574, 611, 681, 846, 989, 945, 668, 138, 72, 50, 31, 36, 79, 299, 339, 302, 305, 283, 228, 252, 292, 292, 306, 285, 256, 265, 311, 329, 330, 272, 242], \"yaxis\": \"y2\"}],\n",
       "                        {\"annotations\": [{\"font\": {}, \"showarrow\": false, \"text\": \"direction=down\", \"x\": 0.245, \"xanchor\": \"center\", \"xref\": \"paper\", \"y\": 1.0, \"yanchor\": \"bottom\", \"yref\": \"paper\"}, {\"font\": {}, \"showarrow\": false, \"text\": \"direction=up\", \"x\": 0.755, \"xanchor\": \"center\", \"xref\": \"paper\", \"y\": 1.0, \"yanchor\": \"bottom\", \"yref\": \"paper\"}], \"barmode\": \"relative\", \"legend\": {\"title\": {\"text\": \"direction\"}, \"tracegroupgap\": 0}, \"margin\": {\"t\": 60}, \"sliders\": [{\"active\": 0, \"currentvalue\": {\"prefix\": \"floor=\"}, \"len\": 0.9, \"pad\": {\"b\": 10, \"t\": 60}, \"steps\": [{\"args\": [[\"01\"], {\"frame\": {\"duration\": 0, \"redraw\": true}, \"fromcurrent\": true, \"mode\": \"immediate\", \"transition\": {\"duration\": 0, \"easing\": \"linear\"}}], \"label\": \"01\", \"method\": \"animate\"}, {\"args\": [[\"02\"], {\"frame\": {\"duration\": 0, \"redraw\": true}, \"fromcurrent\": true, \"mode\": \"immediate\", \"transition\": {\"duration\": 0, \"easing\": \"linear\"}}], \"label\": \"02\", \"method\": \"animate\"}, {\"args\": [[\"03\"], {\"frame\": {\"duration\": 0, \"redraw\": true}, \"fromcurrent\": true, \"mode\": \"immediate\", \"transition\": {\"duration\": 0, \"easing\": \"linear\"}}], \"label\": \"03\", \"method\": \"animate\"}, {\"args\": [[\"04\"], {\"frame\": {\"duration\": 0, \"redraw\": true}, \"fromcurrent\": true, \"mode\": \"immediate\", \"transition\": {\"duration\": 0, \"easing\": \"linear\"}}], \"label\": \"04\", \"method\": \"animate\"}, {\"args\": [[\"05\"], {\"frame\": {\"duration\": 0, \"redraw\": true}, \"fromcurrent\": true, \"mode\": \"immediate\", \"transition\": {\"duration\": 0, \"easing\": \"linear\"}}], \"label\": \"05\", \"method\": \"animate\"}, {\"args\": [[\"06\"], {\"frame\": {\"duration\": 0, \"redraw\": true}, \"fromcurrent\": true, \"mode\": \"immediate\", \"transition\": {\"duration\": 0, \"easing\": \"linear\"}}], \"label\": \"06\", \"method\": \"animate\"}, {\"args\": [[\"07\"], {\"frame\": {\"duration\": 0, \"redraw\": true}, \"fromcurrent\": true, \"mode\": \"immediate\", \"transition\": {\"duration\": 0, \"easing\": \"linear\"}}], \"label\": \"07\", \"method\": \"animate\"}, {\"args\": [[\"08\"], {\"frame\": {\"duration\": 0, \"redraw\": true}, \"fromcurrent\": true, \"mode\": \"immediate\", \"transition\": {\"duration\": 0, \"easing\": \"linear\"}}], \"label\": \"08\", \"method\": \"animate\"}, {\"args\": [[\"09\"], {\"frame\": {\"duration\": 0, \"redraw\": true}, \"fromcurrent\": true, \"mode\": \"immediate\", \"transition\": {\"duration\": 0, \"easing\": \"linear\"}}], \"label\": \"09\", \"method\": \"animate\"}, {\"args\": [[\"10\"], {\"frame\": {\"duration\": 0, \"redraw\": true}, \"fromcurrent\": true, \"mode\": \"immediate\", \"transition\": {\"duration\": 0, \"easing\": \"linear\"}}], \"label\": \"10\", \"method\": \"animate\"}, {\"args\": [[\"11\"], {\"frame\": {\"duration\": 0, \"redraw\": true}, \"fromcurrent\": true, \"mode\": \"immediate\", \"transition\": {\"duration\": 0, \"easing\": \"linear\"}}], \"label\": \"11\", \"method\": \"animate\"}, {\"args\": [[\"12\"], {\"frame\": {\"duration\": 0, \"redraw\": true}, \"fromcurrent\": true, \"mode\": \"immediate\", \"transition\": {\"duration\": 0, \"easing\": \"linear\"}}], \"label\": \"12\", \"method\": \"animate\"}, {\"args\": [[\"13\"], {\"frame\": {\"duration\": 0, \"redraw\": true}, \"fromcurrent\": true, \"mode\": \"immediate\", \"transition\": {\"duration\": 0, \"easing\": \"linear\"}}], \"label\": \"13\", \"method\": \"animate\"}, {\"args\": [[\"14\"], {\"frame\": {\"duration\": 0, \"redraw\": true}, \"fromcurrent\": true, \"mode\": \"immediate\", \"transition\": {\"duration\": 0, \"easing\": \"linear\"}}], \"label\": \"14\", \"method\": \"animate\"}, {\"args\": [[\"15\"], {\"frame\": {\"duration\": 0, \"redraw\": true}, \"fromcurrent\": true, \"mode\": \"immediate\", \"transition\": {\"duration\": 0, \"easing\": \"linear\"}}], \"label\": \"15\", \"method\": \"animate\"}, {\"args\": [[\"B1\"], {\"frame\": {\"duration\": 0, \"redraw\": true}, \"fromcurrent\": true, \"mode\": \"immediate\", \"transition\": {\"duration\": 0, \"easing\": \"linear\"}}], \"label\": \"B1\", \"method\": \"animate\"}, {\"args\": [[\"B3\"], {\"frame\": {\"duration\": 0, \"redraw\": true}, \"fromcurrent\": true, \"mode\": \"immediate\", \"transition\": {\"duration\": 0, \"easing\": \"linear\"}}], \"label\": \"B3\", \"method\": \"animate\"}, {\"args\": [[\"B4\"], {\"frame\": {\"duration\": 0, \"redraw\": true}, \"fromcurrent\": true, \"mode\": \"immediate\", \"transition\": {\"duration\": 0, \"easing\": \"linear\"}}], \"label\": \"B4\", \"method\": \"animate\"}], \"x\": 0.1, \"xanchor\": \"left\", \"y\": 0, \"yanchor\": \"top\"}], \"template\": {\"data\": {\"bar\": [{\"error_x\": {\"color\": \"#2a3f5f\"}, \"error_y\": {\"color\": \"#2a3f5f\"}, \"marker\": {\"line\": {\"color\": \"#E5ECF6\", \"width\": 0.5}}, \"type\": \"bar\"}], \"barpolar\": [{\"marker\": {\"line\": {\"color\": \"#E5ECF6\", \"width\": 0.5}}, \"type\": \"barpolar\"}], \"carpet\": [{\"aaxis\": {\"endlinecolor\": \"#2a3f5f\", \"gridcolor\": \"white\", \"linecolor\": \"white\", \"minorgridcolor\": \"white\", \"startlinecolor\": \"#2a3f5f\"}, \"baxis\": {\"endlinecolor\": \"#2a3f5f\", \"gridcolor\": \"white\", \"linecolor\": \"white\", \"minorgridcolor\": \"white\", \"startlinecolor\": \"#2a3f5f\"}, \"type\": \"carpet\"}], \"choropleth\": [{\"colorbar\": {\"outlinewidth\": 0, \"ticks\": \"\"}, \"type\": \"choropleth\"}], \"contour\": [{\"colorbar\": {\"outlinewidth\": 0, \"ticks\": \"\"}, \"colorscale\": [[0.0, \"#0d0887\"], [0.1111111111111111, \"#46039f\"], [0.2222222222222222, \"#7201a8\"], [0.3333333333333333, \"#9c179e\"], [0.4444444444444444, \"#bd3786\"], [0.5555555555555556, \"#d8576b\"], [0.6666666666666666, \"#ed7953\"], [0.7777777777777778, \"#fb9f3a\"], [0.8888888888888888, \"#fdca26\"], [1.0, \"#f0f921\"]], \"type\": \"contour\"}], \"contourcarpet\": [{\"colorbar\": {\"outlinewidth\": 0, \"ticks\": \"\"}, \"type\": \"contourcarpet\"}], \"heatmap\": [{\"colorbar\": {\"outlinewidth\": 0, \"ticks\": \"\"}, \"colorscale\": [[0.0, \"#0d0887\"], [0.1111111111111111, \"#46039f\"], [0.2222222222222222, \"#7201a8\"], [0.3333333333333333, \"#9c179e\"], [0.4444444444444444, \"#bd3786\"], [0.5555555555555556, \"#d8576b\"], [0.6666666666666666, \"#ed7953\"], [0.7777777777777778, \"#fb9f3a\"], [0.8888888888888888, \"#fdca26\"], [1.0, \"#f0f921\"]], \"type\": \"heatmap\"}], \"heatmapgl\": [{\"colorbar\": {\"outlinewidth\": 0, \"ticks\": \"\"}, \"colorscale\": [[0.0, \"#0d0887\"], [0.1111111111111111, \"#46039f\"], [0.2222222222222222, \"#7201a8\"], [0.3333333333333333, \"#9c179e\"], [0.4444444444444444, \"#bd3786\"], [0.5555555555555556, \"#d8576b\"], [0.6666666666666666, \"#ed7953\"], [0.7777777777777778, \"#fb9f3a\"], [0.8888888888888888, \"#fdca26\"], [1.0, \"#f0f921\"]], \"type\": \"heatmapgl\"}], \"histogram\": [{\"marker\": {\"colorbar\": {\"outlinewidth\": 0, \"ticks\": \"\"}}, \"type\": \"histogram\"}], \"histogram2d\": [{\"colorbar\": {\"outlinewidth\": 0, \"ticks\": \"\"}, \"colorscale\": [[0.0, \"#0d0887\"], [0.1111111111111111, \"#46039f\"], [0.2222222222222222, \"#7201a8\"], [0.3333333333333333, \"#9c179e\"], [0.4444444444444444, \"#bd3786\"], [0.5555555555555556, \"#d8576b\"], [0.6666666666666666, \"#ed7953\"], [0.7777777777777778, \"#fb9f3a\"], [0.8888888888888888, \"#fdca26\"], [1.0, \"#f0f921\"]], \"type\": \"histogram2d\"}], \"histogram2dcontour\": [{\"colorbar\": {\"outlinewidth\": 0, \"ticks\": \"\"}, \"colorscale\": [[0.0, \"#0d0887\"], [0.1111111111111111, \"#46039f\"], [0.2222222222222222, \"#7201a8\"], [0.3333333333333333, \"#9c179e\"], [0.4444444444444444, \"#bd3786\"], [0.5555555555555556, \"#d8576b\"], [0.6666666666666666, \"#ed7953\"], [0.7777777777777778, \"#fb9f3a\"], [0.8888888888888888, \"#fdca26\"], [1.0, \"#f0f921\"]], \"type\": \"histogram2dcontour\"}], \"mesh3d\": [{\"colorbar\": {\"outlinewidth\": 0, \"ticks\": \"\"}, \"type\": \"mesh3d\"}], \"parcoords\": [{\"line\": {\"colorbar\": {\"outlinewidth\": 0, \"ticks\": \"\"}}, \"type\": \"parcoords\"}], \"pie\": [{\"automargin\": true, \"type\": \"pie\"}], \"scatter\": [{\"marker\": {\"colorbar\": {\"outlinewidth\": 0, \"ticks\": \"\"}}, \"type\": \"scatter\"}], \"scatter3d\": [{\"line\": {\"colorbar\": {\"outlinewidth\": 0, \"ticks\": \"\"}}, \"marker\": {\"colorbar\": {\"outlinewidth\": 0, \"ticks\": \"\"}}, \"type\": \"scatter3d\"}], \"scattercarpet\": [{\"marker\": {\"colorbar\": {\"outlinewidth\": 0, \"ticks\": \"\"}}, \"type\": \"scattercarpet\"}], \"scattergeo\": [{\"marker\": {\"colorbar\": {\"outlinewidth\": 0, \"ticks\": \"\"}}, \"type\": \"scattergeo\"}], \"scattergl\": [{\"marker\": {\"colorbar\": {\"outlinewidth\": 0, \"ticks\": \"\"}}, \"type\": \"scattergl\"}], \"scattermapbox\": [{\"marker\": {\"colorbar\": {\"outlinewidth\": 0, \"ticks\": \"\"}}, \"type\": \"scattermapbox\"}], \"scatterpolar\": [{\"marker\": {\"colorbar\": {\"outlinewidth\": 0, \"ticks\": \"\"}}, \"type\": \"scatterpolar\"}], \"scatterpolargl\": [{\"marker\": {\"colorbar\": {\"outlinewidth\": 0, \"ticks\": \"\"}}, \"type\": \"scatterpolargl\"}], \"scatterternary\": [{\"marker\": {\"colorbar\": {\"outlinewidth\": 0, \"ticks\": \"\"}}, \"type\": \"scatterternary\"}], \"surface\": [{\"colorbar\": {\"outlinewidth\": 0, \"ticks\": \"\"}, \"colorscale\": [[0.0, \"#0d0887\"], [0.1111111111111111, \"#46039f\"], [0.2222222222222222, \"#7201a8\"], [0.3333333333333333, \"#9c179e\"], [0.4444444444444444, \"#bd3786\"], [0.5555555555555556, \"#d8576b\"], [0.6666666666666666, \"#ed7953\"], [0.7777777777777778, \"#fb9f3a\"], [0.8888888888888888, \"#fdca26\"], [1.0, \"#f0f921\"]], \"type\": \"surface\"}], \"table\": [{\"cells\": {\"fill\": {\"color\": \"#EBF0F8\"}, \"line\": {\"color\": \"white\"}}, \"header\": {\"fill\": {\"color\": \"#C8D4E3\"}, \"line\": {\"color\": \"white\"}}, \"type\": \"table\"}]}, \"layout\": {\"annotationdefaults\": {\"arrowcolor\": \"#2a3f5f\", \"arrowhead\": 0, \"arrowwidth\": 1}, \"coloraxis\": {\"colorbar\": {\"outlinewidth\": 0, \"ticks\": \"\"}}, \"colorscale\": {\"diverging\": [[0, \"#8e0152\"], [0.1, \"#c51b7d\"], [0.2, \"#de77ae\"], [0.3, \"#f1b6da\"], [0.4, \"#fde0ef\"], [0.5, \"#f7f7f7\"], [0.6, \"#e6f5d0\"], [0.7, \"#b8e186\"], [0.8, \"#7fbc41\"], [0.9, \"#4d9221\"], [1, \"#276419\"]], \"sequential\": [[0.0, \"#0d0887\"], [0.1111111111111111, \"#46039f\"], [0.2222222222222222, \"#7201a8\"], [0.3333333333333333, \"#9c179e\"], [0.4444444444444444, \"#bd3786\"], [0.5555555555555556, \"#d8576b\"], [0.6666666666666666, \"#ed7953\"], [0.7777777777777778, \"#fb9f3a\"], [0.8888888888888888, \"#fdca26\"], [1.0, \"#f0f921\"]], \"sequentialminus\": [[0.0, \"#0d0887\"], [0.1111111111111111, \"#46039f\"], [0.2222222222222222, \"#7201a8\"], [0.3333333333333333, \"#9c179e\"], [0.4444444444444444, \"#bd3786\"], [0.5555555555555556, \"#d8576b\"], [0.6666666666666666, \"#ed7953\"], [0.7777777777777778, \"#fb9f3a\"], [0.8888888888888888, \"#fdca26\"], [1.0, \"#f0f921\"]]}, \"colorway\": [\"#636efa\", \"#EF553B\", \"#00cc96\", \"#ab63fa\", \"#FFA15A\", \"#19d3f3\", \"#FF6692\", \"#B6E880\", \"#FF97FF\", \"#FECB52\"], \"font\": {\"color\": \"#2a3f5f\"}, \"geo\": {\"bgcolor\": \"white\", \"lakecolor\": \"white\", \"landcolor\": \"#E5ECF6\", \"showlakes\": true, \"showland\": true, \"subunitcolor\": \"white\"}, \"hoverlabel\": {\"align\": \"left\"}, \"hovermode\": \"closest\", \"mapbox\": {\"style\": \"light\"}, \"paper_bgcolor\": \"white\", \"plot_bgcolor\": \"#E5ECF6\", \"polar\": {\"angularaxis\": {\"gridcolor\": \"white\", \"linecolor\": \"white\", \"ticks\": \"\"}, \"bgcolor\": \"#E5ECF6\", \"radialaxis\": {\"gridcolor\": \"white\", \"linecolor\": \"white\", \"ticks\": \"\"}}, \"scene\": {\"xaxis\": {\"backgroundcolor\": \"#E5ECF6\", \"gridcolor\": \"white\", \"gridwidth\": 2, \"linecolor\": \"white\", \"showbackground\": true, \"ticks\": \"\", \"zerolinecolor\": \"white\"}, \"yaxis\": {\"backgroundcolor\": \"#E5ECF6\", \"gridcolor\": \"white\", \"gridwidth\": 2, \"linecolor\": \"white\", \"showbackground\": true, \"ticks\": \"\", \"zerolinecolor\": \"white\"}, \"zaxis\": {\"backgroundcolor\": \"#E5ECF6\", \"gridcolor\": \"white\", \"gridwidth\": 2, \"linecolor\": \"white\", \"showbackground\": true, \"ticks\": \"\", \"zerolinecolor\": \"white\"}}, \"shapedefaults\": {\"line\": {\"color\": \"#2a3f5f\"}}, \"ternary\": {\"aaxis\": {\"gridcolor\": \"white\", \"linecolor\": \"white\", \"ticks\": \"\"}, \"baxis\": {\"gridcolor\": \"white\", \"linecolor\": \"white\", \"ticks\": \"\"}, \"bgcolor\": \"#E5ECF6\", \"caxis\": {\"gridcolor\": \"white\", \"linecolor\": \"white\", \"ticks\": \"\"}}, \"title\": {\"x\": 0.05}, \"xaxis\": {\"automargin\": true, \"gridcolor\": \"white\", \"linecolor\": \"white\", \"ticks\": \"\", \"title\": {\"standoff\": 15}, \"zerolinecolor\": \"white\", \"zerolinewidth\": 2}, \"yaxis\": {\"automargin\": true, \"gridcolor\": \"white\", \"linecolor\": \"white\", \"ticks\": \"\", \"title\": {\"standoff\": 15}, \"zerolinecolor\": \"white\", \"zerolinewidth\": 2}}}, \"title\": {\"text\": \"Frequency of Elevator Calls by Time\"}, \"updatemenus\": [{\"buttons\": [{\"args\": [null, {\"frame\": {\"duration\": 500, \"redraw\": true}, \"fromcurrent\": true, \"mode\": \"immediate\", \"transition\": {\"duration\": 500, \"easing\": \"linear\"}}], \"label\": \"&#9654;\", \"method\": \"animate\"}, {\"args\": [[null], {\"frame\": {\"duration\": 0, \"redraw\": true}, \"fromcurrent\": true, \"mode\": \"immediate\", \"transition\": {\"duration\": 0, \"easing\": \"linear\"}}], \"label\": \"&#9724;\", \"method\": \"animate\"}], \"direction\": \"left\", \"pad\": {\"r\": 10, \"t\": 70}, \"showactive\": false, \"type\": \"buttons\", \"x\": 0.1, \"xanchor\": \"right\", \"y\": 0, \"yanchor\": \"top\"}], \"xaxis\": {\"anchor\": \"y\", \"categoryarray\": [0, 24], \"domain\": [0.0, 0.49], \"nticks\": 19, \"title\": {\"text\": \"Local Time (GMT+8)\"}, \"type\": \"category\"}, \"xaxis2\": {\"anchor\": \"y2\", \"categoryarray\": [0, 24], \"domain\": [0.51, 1.0], \"matches\": \"x\", \"nticks\": 19, \"title\": {\"text\": \"Local Time (GMT+8)\"}, \"type\": \"category\"}, \"yaxis\": {\"anchor\": \"x\", \"domain\": [0.0, 1.0], \"range\": [0, 1000], \"title\": {\"text\": \"Frequency\"}}, \"yaxis2\": {\"anchor\": \"x2\", \"domain\": [0.0, 1.0], \"matches\": \"y\", \"range\": [0, 1000], \"showticklabels\": false}},\n",
       "                        {\"responsive\": true}\n",
       "                    ).then(function(){\n",
       "                            Plotly.addFrames('a8ad92eb-fe4c-4e67-8760-8efa8452a4b9', [{\"data\": [{\"alignmentgroup\": \"True\", \"hovertemplate\": \"direction=down<br>floor=01<br>Local Time (GMT+8)=%{x}<br>Frequency=%{y}<extra></extra>\", \"legendgroup\": \"down\", \"marker\": {\"color\": \"#636efa\"}, \"name\": \"down\", \"offsetgroup\": \"down\", \"orientation\": \"v\", \"showlegend\": true, \"textposition\": \"auto\", \"x\": [0, 1, 2, 3, 4, 5, 6, 7, 8, 9, 10, 11, 12, 13, 14, 15, 16, 17, 18, 19, 20, 21, 22, 23, 0, 1, 2, 3, 4, 5, 6, 7, 8, 9, 10, 11, 12, 13, 14, 15, 16, 17, 18, 19, 20, 21, 22, 23], \"xaxis\": \"x\", \"y\": [31, 17, 3, 11, 19, 20, 102, 182, 212, 176, 203, 219, 196, 197, 185, 202, 206, 163, 136, 120, 65, 63, 43, 40, 16, 3, 2, 3, 6, 6, 24, 34, 42, 32, 35, 34, 36, 41, 29, 52, 34, 46, 43, 40, 31, 18, 14, 11], \"yaxis\": \"y\", \"type\": \"bar\"}, {\"alignmentgroup\": \"True\", \"hovertemplate\": \"direction=up<br>floor=01<br>Local Time (GMT+8)=%{x}<br>Frequency=%{y}<extra></extra>\", \"legendgroup\": \"up\", \"marker\": {\"color\": \"#EF553B\"}, \"name\": \"up\", \"offsetgroup\": \"up\", \"orientation\": \"v\", \"showlegend\": true, \"textposition\": \"auto\", \"x\": [0, 1, 2, 3, 4, 5, 6, 7, 8, 9, 10, 11, 12, 13, 14, 15, 16, 17, 18, 19, 20, 21, 22, 23, 0, 1, 2, 3, 4, 5, 6, 7, 8, 9, 10, 11, 12, 13, 14, 15, 16, 17, 18, 19, 20, 21, 22, 23], \"xaxis\": \"x2\", \"y\": [358, 227, 123, 82, 115, 260, 971, 689, 642, 572, 494, 427, 471, 503, 527, 538, 542, 574, 611, 681, 846, 989, 945, 668, 138, 72, 50, 31, 36, 79, 299, 339, 302, 305, 283, 228, 252, 292, 292, 306, 285, 256, 265, 311, 329, 330, 272, 242], \"yaxis\": \"y2\", \"type\": \"bar\"}], \"name\": \"01\"}, {\"data\": [{\"alignmentgroup\": \"True\", \"hovertemplate\": \"direction=down<br>floor=02<br>Local Time (GMT+8)=%{x}<br>Frequency=%{y}<extra></extra>\", \"legendgroup\": \"down\", \"marker\": {\"color\": \"#636efa\"}, \"name\": \"down\", \"offsetgroup\": \"down\", \"orientation\": \"v\", \"showlegend\": true, \"textposition\": \"auto\", \"x\": [0, 1, 2, 3, 4, 5, 6, 7, 8, 9, 10, 11, 12, 13, 14, 15, 16, 17, 18, 19, 20, 21, 22, 23, 0, 1, 2, 3, 4, 5, 6, 7, 8, 9, 10, 11, 12, 13, 14, 15, 16, 17, 18, 19, 20, 21, 22, 23], \"xaxis\": \"x\", \"y\": [1, 2, 1, 2, 4, 0, 19, 14, 32, 57, 53, 63, 42, 69, 54, 63, 60, 32, 33, 23, 17, 7, 3, 2, 0, 0, 0, 0, 0, 0, 4, 7, 0, 5, 3, 3, 3, 4, 0, 0, 2, 3, 1, 1, 2, 0, 3, 0], \"yaxis\": \"y\", \"type\": \"bar\"}, {\"alignmentgroup\": \"True\", \"hovertemplate\": \"direction=up<br>floor=02<br>Local Time (GMT+8)=%{x}<br>Frequency=%{y}<extra></extra>\", \"legendgroup\": \"up\", \"marker\": {\"color\": \"#EF553B\"}, \"name\": \"up\", \"offsetgroup\": \"up\", \"orientation\": \"v\", \"showlegend\": true, \"textposition\": \"auto\", \"x\": [0, 1, 2, 3, 4, 5, 6, 7, 8, 9, 10, 11, 12, 13, 14, 15, 16, 17, 18, 19, 20, 21, 22, 23, 0, 1, 2, 3, 4, 5, 6, 7, 8, 9, 10, 11, 12, 13, 14, 15, 16, 17, 18, 19, 20, 21, 22, 23], \"xaxis\": \"x2\", \"y\": [0, 5, 1, 3, 0, 0, 0, 39, 66, 125, 90, 110, 89, 102, 84, 106, 117, 71, 27, 7, 4, 3, 0, 4, 0, 0, 0, 2, 0, 0, 1, 6, 2, 0, 2, 9, 3, 0, 6, 3, 7, 1, 0, 0, 1, 0, 0, 1], \"yaxis\": \"y2\", \"type\": \"bar\"}], \"name\": \"02\"}, {\"data\": [{\"alignmentgroup\": \"True\", \"hovertemplate\": \"direction=down<br>floor=03<br>Local Time (GMT+8)=%{x}<br>Frequency=%{y}<extra></extra>\", \"legendgroup\": \"down\", \"marker\": {\"color\": \"#636efa\"}, \"name\": \"down\", \"offsetgroup\": \"down\", \"orientation\": \"v\", \"showlegend\": true, \"textposition\": \"auto\", \"x\": [0, 1, 2, 3, 4, 5, 6, 7, 8, 9, 10, 11, 12, 13, 14, 15, 16, 17, 18, 19, 20, 21, 22, 23, 0, 1, 2, 3, 4, 5, 6, 7, 8, 9, 10, 11, 12, 13, 14, 15, 16, 17, 18, 19, 20, 21, 22, 23], \"xaxis\": \"x\", \"y\": [93, 48, 16, 10, 9, 9, 111, 134, 225, 197, 224, 227, 210, 223, 236, 293, 275, 284, 240, 211, 291, 170, 261, 238, 39, 10, 3, 3, 3, 2, 23, 31, 45, 50, 39, 83, 86, 59, 67, 106, 68, 75, 63, 65, 111, 29, 64, 43], \"yaxis\": \"y\", \"type\": \"bar\"}, {\"alignmentgroup\": \"True\", \"hovertemplate\": \"direction=up<br>floor=03<br>Local Time (GMT+8)=%{x}<br>Frequency=%{y}<extra></extra>\", \"legendgroup\": \"up\", \"marker\": {\"color\": \"#EF553B\"}, \"name\": \"up\", \"offsetgroup\": \"up\", \"orientation\": \"v\", \"showlegend\": true, \"textposition\": \"auto\", \"x\": [0, 1, 2, 3, 4, 5, 6, 7, 8, 9, 10, 11, 12, 13, 14, 15, 16, 17, 18, 19, 20, 21, 22, 23, 0, 1, 2, 3, 4, 5, 6, 7, 8, 9, 10, 11, 12, 13, 14, 15, 16, 17, 18, 19, 20, 21, 22, 23], \"xaxis\": \"x2\", \"y\": [8, 11, 5, 4, 5, 4, 9, 93, 146, 135, 148, 157, 125, 180, 183, 175, 155, 143, 86, 82, 50, 38, 23, 11, 2, 3, 7, 2, 3, 2, 0, 7, 17, 16, 14, 18, 26, 30, 27, 17, 14, 25, 8, 18, 9, 11, 5, 3], \"yaxis\": \"y2\", \"type\": \"bar\"}], \"name\": \"03\"}, {\"data\": [{\"alignmentgroup\": \"True\", \"hovertemplate\": \"direction=down<br>floor=04<br>Local Time (GMT+8)=%{x}<br>Frequency=%{y}<extra></extra>\", \"legendgroup\": \"down\", \"marker\": {\"color\": \"#636efa\"}, \"name\": \"down\", \"offsetgroup\": \"down\", \"orientation\": \"v\", \"showlegend\": true, \"textposition\": \"auto\", \"x\": [0, 1, 2, 3, 4, 5, 6, 7, 8, 9, 10, 11, 12, 13, 14, 15, 16, 17, 18, 19, 20, 21, 22, 23, 0, 1, 2, 3, 4, 5, 6, 7, 8, 9, 10, 11, 12, 13, 14, 15, 16, 17, 18, 19, 20, 21, 22, 23], \"xaxis\": \"x\", \"y\": [190, 45, 11, 7, 7, 8, 23, 82, 194, 196, 199, 207, 221, 193, 259, 296, 306, 189, 141, 131, 344, 105, 60, 66, 67, 16, 5, 4, 7, 3, 16, 19, 53, 27, 27, 69, 97, 39, 69, 93, 60, 40, 28, 38, 120, 33, 15, 16], \"yaxis\": \"y\", \"type\": \"bar\"}, {\"alignmentgroup\": \"True\", \"hovertemplate\": \"direction=up<br>floor=04<br>Local Time (GMT+8)=%{x}<br>Frequency=%{y}<extra></extra>\", \"legendgroup\": \"up\", \"marker\": {\"color\": \"#EF553B\"}, \"name\": \"up\", \"offsetgroup\": \"up\", \"orientation\": \"v\", \"showlegend\": true, \"textposition\": \"auto\", \"x\": [0, 1, 2, 3, 4, 5, 6, 7, 8, 9, 10, 11, 12, 13, 14, 15, 16, 17, 18, 19, 20, 21, 22, 23, 0, 1, 2, 3, 4, 5, 6, 7, 8, 9, 10, 11, 12, 13, 14, 15, 16, 17, 18, 19, 20, 21, 22, 23], \"xaxis\": \"x2\", \"y\": [7, 2, 3, 2, 3, 3, 11, 68, 106, 186, 128, 146, 95, 149, 192, 146, 165, 116, 56, 41, 39, 27, 15, 10, 1, 2, 1, 2, 1, 1, 3, 12, 11, 11, 15, 26, 19, 8, 13, 11, 12, 8, 5, 3, 7, 3, 1, 2], \"yaxis\": \"y2\", \"type\": \"bar\"}], \"name\": \"04\"}, {\"data\": [{\"alignmentgroup\": \"True\", \"hovertemplate\": \"direction=down<br>floor=05<br>Local Time (GMT+8)=%{x}<br>Frequency=%{y}<extra></extra>\", \"legendgroup\": \"down\", \"marker\": {\"color\": \"#636efa\"}, \"name\": \"down\", \"offsetgroup\": \"down\", \"orientation\": \"v\", \"showlegend\": true, \"textposition\": \"auto\", \"x\": [0, 1, 2, 3, 4, 5, 6, 7, 8, 9, 10, 11, 12, 13, 14, 15, 16, 17, 18, 19, 20, 21, 22, 23, 0, 1, 2, 3, 4, 5, 6, 7, 8, 9, 10, 11, 12, 13, 14, 15, 16, 17, 18, 19, 20, 21, 22, 23], \"xaxis\": \"x\", \"y\": [56, 54, 33, 15, 13, 28, 83, 145, 192, 239, 232, 195, 203, 220, 240, 230, 264, 264, 261, 271, 223, 170, 101, 37, 13, 16, 5, 3, 3, 8, 25, 47, 53, 64, 70, 71, 87, 53, 58, 65, 80, 69, 67, 58, 45, 36, 21, 11], \"yaxis\": \"y\", \"type\": \"bar\"}, {\"alignmentgroup\": \"True\", \"hovertemplate\": \"direction=up<br>floor=05<br>Local Time (GMT+8)=%{x}<br>Frequency=%{y}<extra></extra>\", \"legendgroup\": \"up\", \"marker\": {\"color\": \"#EF553B\"}, \"name\": \"up\", \"offsetgroup\": \"up\", \"orientation\": \"v\", \"showlegend\": true, \"textposition\": \"auto\", \"x\": [0, 1, 2, 3, 4, 5, 6, 7, 8, 9, 10, 11, 12, 13, 14, 15, 16, 17, 18, 19, 20, 21, 22, 23, 0, 1, 2, 3, 4, 5, 6, 7, 8, 9, 10, 11, 12, 13, 14, 15, 16, 17, 18, 19, 20, 21, 22, 23], \"xaxis\": \"x2\", \"y\": [3, 5, 5, 4, 3, 1, 16, 41, 52, 90, 81, 82, 81, 92, 120, 106, 115, 89, 80, 70, 22, 52, 11, 13, 7, 0, 2, 0, 2, 1, 3, 6, 12, 14, 10, 16, 15, 15, 25, 12, 10, 11, 12, 13, 4, 7, 8, 7], \"yaxis\": \"y2\", \"type\": \"bar\"}], \"name\": \"05\"}, {\"data\": [{\"alignmentgroup\": \"True\", \"hovertemplate\": \"direction=down<br>floor=06<br>Local Time (GMT+8)=%{x}<br>Frequency=%{y}<extra></extra>\", \"legendgroup\": \"down\", \"marker\": {\"color\": \"#636efa\"}, \"name\": \"down\", \"offsetgroup\": \"down\", \"orientation\": \"v\", \"showlegend\": true, \"textposition\": \"auto\", \"x\": [0, 1, 2, 3, 4, 5, 6, 7, 8, 9, 10, 11, 12, 13, 14, 15, 16, 17, 18, 19, 20, 21, 22, 23, 0, 1, 2, 3, 4, 5, 6, 7, 8, 9, 10, 11, 12, 13, 14, 15, 16, 17, 18, 19, 20, 21, 22, 23], \"xaxis\": \"x\", \"y\": [59, 58, 21, 20, 23, 60, 216, 266, 334, 309, 312, 232, 249, 262, 275, 315, 307, 305, 349, 339, 345, 281, 153, 75, 34, 12, 5, 8, 6, 21, 63, 82, 90, 110, 115, 130, 117, 93, 113, 106, 113, 128, 117, 111, 89, 82, 43, 23], \"yaxis\": \"y\", \"type\": \"bar\"}, {\"alignmentgroup\": \"True\", \"hovertemplate\": \"direction=up<br>floor=06<br>Local Time (GMT+8)=%{x}<br>Frequency=%{y}<extra></extra>\", \"legendgroup\": \"up\", \"marker\": {\"color\": \"#EF553B\"}, \"name\": \"up\", \"offsetgroup\": \"up\", \"orientation\": \"v\", \"showlegend\": true, \"textposition\": \"auto\", \"x\": [0, 1, 2, 3, 4, 5, 6, 7, 8, 9, 10, 11, 12, 13, 14, 15, 16, 17, 18, 19, 20, 21, 22, 23, 0, 1, 2, 3, 4, 5, 6, 7, 8, 9, 10, 11, 12, 13, 14, 15, 16, 17, 18, 19, 20, 21, 22, 23], \"xaxis\": \"x2\", \"y\": [7, 2, 3, 2, 1, 4, 66, 84, 50, 43, 83, 81, 61, 49, 101, 85, 83, 57, 36, 29, 16, 15, 12, 22, 0, 3, 0, 0, 0, 2, 18, 11, 3, 6, 11, 10, 9, 10, 9, 4, 13, 12, 11, 12, 4, 3, 7, 8], \"yaxis\": \"y2\", \"type\": \"bar\"}], \"name\": \"06\"}, {\"data\": [{\"alignmentgroup\": \"True\", \"hovertemplate\": \"direction=down<br>floor=07<br>Local Time (GMT+8)=%{x}<br>Frequency=%{y}<extra></extra>\", \"legendgroup\": \"down\", \"marker\": {\"color\": \"#636efa\"}, \"name\": \"down\", \"offsetgroup\": \"down\", \"orientation\": \"v\", \"showlegend\": true, \"textposition\": \"auto\", \"x\": [0, 1, 2, 3, 4, 5, 6, 7, 8, 9, 10, 11, 12, 13, 14, 15, 16, 17, 18, 19, 20, 21, 22, 23, 0, 1, 2, 3, 4, 5, 6, 7, 8, 9, 10, 11, 12, 13, 14, 15, 16, 17, 18, 19, 20, 21, 22, 23], \"xaxis\": \"x\", \"y\": [78, 54, 49, 34, 20, 60, 195, 251, 295, 287, 289, 281, 286, 311, 305, 314, 316, 340, 369, 411, 402, 344, 194, 95, 18, 20, 23, 7, 7, 17, 46, 83, 79, 102, 109, 146, 143, 123, 117, 110, 123, 154, 138, 136, 115, 95, 48, 42], \"yaxis\": \"y\", \"type\": \"bar\"}, {\"alignmentgroup\": \"True\", \"hovertemplate\": \"direction=up<br>floor=07<br>Local Time (GMT+8)=%{x}<br>Frequency=%{y}<extra></extra>\", \"legendgroup\": \"up\", \"marker\": {\"color\": \"#EF553B\"}, \"name\": \"up\", \"offsetgroup\": \"up\", \"orientation\": \"v\", \"showlegend\": true, \"textposition\": \"auto\", \"x\": [0, 1, 2, 3, 4, 5, 6, 7, 8, 9, 10, 11, 12, 13, 14, 15, 16, 17, 18, 19, 20, 21, 22, 23, 0, 1, 2, 3, 4, 5, 6, 7, 8, 9, 10, 11, 12, 13, 14, 15, 16, 17, 18, 19, 20, 21, 22, 23], \"xaxis\": \"x2\", \"y\": [7, 2, 0, 2, 4, 1, 6, 29, 39, 65, 75, 89, 105, 88, 69, 91, 86, 82, 60, 45, 30, 41, 15, 6, 0, 2, 0, 2, 0, 0, 0, 5, 6, 7, 14, 6, 20, 13, 13, 13, 8, 11, 10, 8, 9, 1, 3, 3], \"yaxis\": \"y2\", \"type\": \"bar\"}], \"name\": \"07\"}, {\"data\": [{\"alignmentgroup\": \"True\", \"hovertemplate\": \"direction=down<br>floor=08<br>Local Time (GMT+8)=%{x}<br>Frequency=%{y}<extra></extra>\", \"legendgroup\": \"down\", \"marker\": {\"color\": \"#636efa\"}, \"name\": \"down\", \"offsetgroup\": \"down\", \"orientation\": \"v\", \"showlegend\": true, \"textposition\": \"auto\", \"x\": [0, 1, 2, 3, 4, 5, 6, 7, 8, 9, 10, 11, 12, 13, 14, 15, 16, 17, 18, 19, 20, 21, 22, 23, 0, 1, 2, 3, 4, 5, 6, 7, 8, 9, 10, 11, 12, 13, 14, 15, 16, 17, 18, 19, 20, 21, 22, 23], \"xaxis\": \"x\", \"y\": [128, 42, 25, 13, 17, 28, 155, 290, 354, 312, 301, 288, 302, 322, 300, 313, 366, 371, 389, 383, 370, 317, 203, 87, 54, 15, 6, 1, 4, 12, 49, 81, 96, 99, 131, 137, 129, 118, 108, 125, 147, 135, 130, 119, 112, 90, 62, 24], \"yaxis\": \"y\", \"type\": \"bar\"}, {\"alignmentgroup\": \"True\", \"hovertemplate\": \"direction=up<br>floor=08<br>Local Time (GMT+8)=%{x}<br>Frequency=%{y}<extra></extra>\", \"legendgroup\": \"up\", \"marker\": {\"color\": \"#EF553B\"}, \"name\": \"up\", \"offsetgroup\": \"up\", \"orientation\": \"v\", \"showlegend\": true, \"textposition\": \"auto\", \"x\": [0, 1, 2, 3, 4, 5, 6, 7, 8, 9, 10, 11, 12, 13, 14, 15, 16, 17, 18, 19, 20, 21, 22, 23, 0, 1, 2, 3, 4, 5, 6, 7, 8, 9, 10, 11, 12, 13, 14, 15, 16, 17, 18, 19, 20, 21, 22, 23], \"xaxis\": \"x2\", \"y\": [2, 5, 0, 0, 0, 1, 7, 25, 20, 47, 80, 62, 50, 50, 70, 76, 65, 32, 29, 19, 9, 11, 3, 1, 0, 0, 0, 0, 0, 1, 3, 5, 3, 8, 6, 9, 8, 5, 8, 9, 13, 5, 5, 7, 5, 1, 2, 2], \"yaxis\": \"y2\", \"type\": \"bar\"}], \"name\": \"08\"}, {\"data\": [{\"alignmentgroup\": \"True\", \"hovertemplate\": \"direction=down<br>floor=09<br>Local Time (GMT+8)=%{x}<br>Frequency=%{y}<extra></extra>\", \"legendgroup\": \"down\", \"marker\": {\"color\": \"#636efa\"}, \"name\": \"down\", \"offsetgroup\": \"down\", \"orientation\": \"v\", \"showlegend\": true, \"textposition\": \"auto\", \"x\": [0, 1, 2, 3, 4, 5, 6, 7, 8, 9, 10, 11, 12, 13, 14, 15, 16, 17, 18, 19, 20, 21, 22, 23, 0, 1, 2, 3, 4, 5, 6, 7, 8, 9, 10, 11, 12, 13, 14, 15, 16, 17, 18, 19, 20, 21, 22, 23], \"xaxis\": \"x\", \"y\": [65, 61, 12, 5, 12, 27, 103, 250, 365, 313, 293, 286, 290, 298, 300, 322, 327, 368, 391, 364, 317, 279, 127, 59, 25, 15, 8, 4, 4, 13, 43, 59, 109, 100, 120, 130, 135, 94, 106, 99, 142, 143, 135, 102, 80, 82, 44, 12], \"yaxis\": \"y\", \"type\": \"bar\"}, {\"alignmentgroup\": \"True\", \"hovertemplate\": \"direction=up<br>floor=09<br>Local Time (GMT+8)=%{x}<br>Frequency=%{y}<extra></extra>\", \"legendgroup\": \"up\", \"marker\": {\"color\": \"#EF553B\"}, \"name\": \"up\", \"offsetgroup\": \"up\", \"orientation\": \"v\", \"showlegend\": true, \"textposition\": \"auto\", \"x\": [0, 1, 2, 3, 4, 5, 6, 7, 8, 9, 10, 11, 12, 13, 14, 15, 16, 17, 18, 19, 20, 21, 22, 23, 0, 1, 2, 3, 4, 5, 6, 7, 8, 9, 10, 11, 12, 13, 14, 15, 16, 17, 18, 19, 20, 21, 22, 23], \"xaxis\": \"x2\", \"y\": [2, 2, 1, 0, 0, 0, 5, 46, 27, 44, 35, 45, 27, 33, 39, 55, 59, 42, 22, 13, 21, 17, 6, 1, 1, 0, 0, 1, 0, 3, 0, 9, 3, 14, 6, 13, 11, 6, 11, 6, 17, 12, 6, 6, 1, 4, 3, 0], \"yaxis\": \"y2\", \"type\": \"bar\"}], \"name\": \"09\"}, {\"data\": [{\"alignmentgroup\": \"True\", \"hovertemplate\": \"direction=down<br>floor=10<br>Local Time (GMT+8)=%{x}<br>Frequency=%{y}<extra></extra>\", \"legendgroup\": \"down\", \"marker\": {\"color\": \"#636efa\"}, \"name\": \"down\", \"offsetgroup\": \"down\", \"orientation\": \"v\", \"showlegend\": true, \"textposition\": \"auto\", \"x\": [0, 1, 2, 3, 4, 5, 6, 7, 8, 9, 10, 11, 12, 13, 14, 15, 16, 17, 18, 19, 20, 21, 22, 23, 0, 1, 2, 3, 4, 5, 6, 7, 8, 9, 10, 11, 12, 13, 14, 15, 16, 17, 18, 19, 20, 21, 22, 23], \"xaxis\": \"x\", \"y\": [8, 5, 4, 4, 3, 3, 0, 15, 53, 144, 163, 150, 154, 158, 179, 204, 177, 221, 151, 104, 56, 26, 20, 8, 3, 2, 1, 0, 2, 0, 0, 0, 7, 2, 8, 10, 11, 8, 5, 9, 21, 9, 10, 5, 3, 7, 3, 3], \"yaxis\": \"y\", \"type\": \"bar\"}, {\"alignmentgroup\": \"True\", \"hovertemplate\": \"direction=up<br>floor=10<br>Local Time (GMT+8)=%{x}<br>Frequency=%{y}<extra></extra>\", \"legendgroup\": \"up\", \"marker\": {\"color\": \"#EF553B\"}, \"name\": \"up\", \"offsetgroup\": \"up\", \"orientation\": \"v\", \"showlegend\": true, \"textposition\": \"auto\", \"x\": [0, 1, 2, 3, 4, 5, 6, 7, 8, 9, 10, 11, 12, 13, 14, 15, 16, 17, 18, 19, 20, 21, 22, 23, 0, 1, 2, 3, 4, 5, 6, 7, 8, 9, 10, 11, 12, 13, 14, 15, 16, 17, 18, 19, 20, 21, 22, 23], \"xaxis\": \"x2\", \"y\": [0, 0, 1, 0, 0, 0, 3, 3, 10, 12, 28, 32, 15, 26, 19, 34, 40, 36, 12, 18, 5, 2, 2, 0, 0, 0, 0, 0, 0, 0, 0, 0, 0, 0, 1, 0, 2, 2, 0, 1, 2, 0, 0, 1, 1, 0, 2, 0], \"yaxis\": \"y2\", \"type\": \"bar\"}], \"name\": \"10\"}, {\"data\": [{\"alignmentgroup\": \"True\", \"hovertemplate\": \"direction=down<br>floor=11<br>Local Time (GMT+8)=%{x}<br>Frequency=%{y}<extra></extra>\", \"legendgroup\": \"down\", \"marker\": {\"color\": \"#636efa\"}, \"name\": \"down\", \"offsetgroup\": \"down\", \"orientation\": \"v\", \"showlegend\": true, \"textposition\": \"auto\", \"x\": [0, 1, 2, 3, 4, 5, 6, 7, 8, 9, 10, 11, 12, 13, 14, 15, 16, 17, 18, 19, 20, 21, 22, 23, 0, 1, 2, 3, 4, 5, 6, 7, 8, 9, 10, 11, 12, 13, 14, 15, 16, 17, 18, 19, 20, 21, 22, 23], \"xaxis\": \"x\", \"y\": [59, 26, 11, 8, 7, 41, 146, 273, 363, 303, 283, 289, 306, 336, 272, 306, 320, 381, 380, 341, 310, 250, 151, 72, 18, 11, 7, 3, 2, 19, 62, 100, 88, 102, 123, 131, 119, 102, 112, 102, 111, 138, 127, 103, 88, 70, 42, 24], \"yaxis\": \"y\", \"type\": \"bar\"}, {\"alignmentgroup\": \"True\", \"hovertemplate\": \"direction=up<br>floor=11<br>Local Time (GMT+8)=%{x}<br>Frequency=%{y}<extra></extra>\", \"legendgroup\": \"up\", \"marker\": {\"color\": \"#EF553B\"}, \"name\": \"up\", \"offsetgroup\": \"up\", \"orientation\": \"v\", \"showlegend\": true, \"textposition\": \"auto\", \"x\": [0, 1, 2, 3, 4, 5, 6, 7, 8, 9, 10, 11, 12, 13, 14, 15, 16, 17, 18, 19, 20, 21, 22, 23, 0, 1, 2, 3, 4, 5, 6, 7, 8, 9, 10, 11, 12, 13, 14, 15, 16, 17, 18, 19, 20, 21, 22, 23], \"xaxis\": \"x2\", \"y\": [1, 0, 1, 0, 0, 2, 3, 11, 8, 14, 29, 28, 14, 23, 20, 22, 18, 20, 6, 9, 8, 4, 5, 2, 0, 0, 0, 1, 0, 0, 0, 4, 1, 2, 5, 11, 5, 9, 1, 2, 1, 2, 5, 2, 2, 2, 1, 2], \"yaxis\": \"y2\", \"type\": \"bar\"}], \"name\": \"11\"}, {\"data\": [{\"alignmentgroup\": \"True\", \"hovertemplate\": \"direction=down<br>floor=12<br>Local Time (GMT+8)=%{x}<br>Frequency=%{y}<extra></extra>\", \"legendgroup\": \"down\", \"marker\": {\"color\": \"#636efa\"}, \"name\": \"down\", \"offsetgroup\": \"down\", \"orientation\": \"v\", \"showlegend\": true, \"textposition\": \"auto\", \"x\": [0, 1, 2, 3, 4, 5, 6, 7, 8, 9, 10, 11, 12, 13, 14, 15, 16, 17, 18, 19, 20, 21, 22, 23, 0, 1, 2, 3, 4, 5, 6, 7, 8, 9, 10, 11, 12, 13, 14, 15, 16, 17, 18, 19, 20, 21, 22, 23], \"xaxis\": \"x\", \"y\": [77, 63, 35, 10, 18, 66, 129, 276, 286, 301, 286, 322, 341, 362, 314, 330, 339, 403, 398, 339, 316, 210, 127, 47, 31, 20, 19, 12, 9, 13, 28, 89, 110, 91, 102, 130, 125, 105, 115, 102, 131, 146, 135, 96, 79, 55, 33, 19], \"yaxis\": \"y\", \"type\": \"bar\"}, {\"alignmentgroup\": \"True\", \"hovertemplate\": \"direction=up<br>floor=12<br>Local Time (GMT+8)=%{x}<br>Frequency=%{y}<extra></extra>\", \"legendgroup\": \"up\", \"marker\": {\"color\": \"#EF553B\"}, \"name\": \"up\", \"offsetgroup\": \"up\", \"orientation\": \"v\", \"showlegend\": true, \"textposition\": \"auto\", \"x\": [0, 1, 2, 3, 4, 5, 6, 7, 8, 9, 10, 11, 12, 13, 14, 15, 16, 17, 18, 19, 20, 21, 22, 23, 0, 1, 2, 3, 4, 5, 6, 7, 8, 9, 10, 11, 12, 13, 14, 15, 16, 17, 18, 19, 20, 21, 22, 23], \"xaxis\": \"x2\", \"y\": [2, 1, 0, 0, 0, 2, 7, 15, 13, 12, 37, 48, 27, 29, 28, 32, 20, 20, 10, 12, 13, 10, 8, 5, 1, 1, 0, 1, 0, 1, 1, 3, 5, 4, 3, 9, 3, 5, 4, 8, 5, 6, 5, 5, 1, 4, 3, 3], \"yaxis\": \"y2\", \"type\": \"bar\"}], \"name\": \"12\"}, {\"data\": [{\"alignmentgroup\": \"True\", \"hovertemplate\": \"direction=down<br>floor=13<br>Local Time (GMT+8)=%{x}<br>Frequency=%{y}<extra></extra>\", \"legendgroup\": \"down\", \"marker\": {\"color\": \"#636efa\"}, \"name\": \"down\", \"offsetgroup\": \"down\", \"orientation\": \"v\", \"showlegend\": true, \"textposition\": \"auto\", \"x\": [0, 1, 2, 3, 4, 5, 6, 7, 8, 9, 10, 11, 12, 13, 14, 15, 16, 17, 18, 19, 20, 21, 22, 23, 0, 1, 2, 3, 4, 5, 6, 7, 8, 9, 10, 11, 12, 13, 14, 15, 16, 17, 18, 19, 20, 21, 22, 23], \"xaxis\": \"x\", \"y\": [49, 19, 19, 22, 18, 42, 173, 297, 322, 332, 307, 333, 349, 333, 331, 334, 369, 405, 391, 346, 292, 230, 138, 79, 15, 9, 5, 3, 3, 14, 44, 73, 110, 115, 96, 124, 112, 80, 99, 106, 116, 121, 111, 96, 82, 55, 34, 19], \"yaxis\": \"y\", \"type\": \"bar\"}, {\"alignmentgroup\": \"True\", \"hovertemplate\": \"direction=up<br>floor=13<br>Local Time (GMT+8)=%{x}<br>Frequency=%{y}<extra></extra>\", \"legendgroup\": \"up\", \"marker\": {\"color\": \"#EF553B\"}, \"name\": \"up\", \"offsetgroup\": \"up\", \"orientation\": \"v\", \"showlegend\": true, \"textposition\": \"auto\", \"x\": [0, 1, 2, 3, 4, 5, 6, 7, 8, 9, 10, 11, 12, 13, 14, 15, 16, 17, 18, 19, 20, 21, 22, 23, 0, 1, 2, 3, 4, 5, 6, 7, 8, 9, 10, 11, 12, 13, 14, 15, 16, 17, 18, 19, 20, 21, 22, 23], \"xaxis\": \"x2\", \"y\": [3, 1, 0, 0, 0, 5, 13, 34, 7, 21, 11, 33, 13, 20, 12, 18, 28, 17, 9, 12, 8, 7, 2, 1, 0, 1, 1, 0, 0, 0, 6, 7, 4, 2, 5, 5, 2, 2, 3, 6, 1, 4, 4, 6, 4, 1, 0, 1], \"yaxis\": \"y2\", \"type\": \"bar\"}], \"name\": \"13\"}, {\"data\": [{\"alignmentgroup\": \"True\", \"hovertemplate\": \"direction=down<br>floor=14<br>Local Time (GMT+8)=%{x}<br>Frequency=%{y}<extra></extra>\", \"legendgroup\": \"down\", \"marker\": {\"color\": \"#636efa\"}, \"name\": \"down\", \"offsetgroup\": \"down\", \"orientation\": \"v\", \"showlegend\": true, \"textposition\": \"auto\", \"x\": [0, 1, 2, 3, 4, 5, 6, 7, 8, 9, 10, 11, 12, 13, 14, 15, 16, 17, 18, 19, 20, 21, 22, 23, 0, 1, 2, 3, 4, 5, 6, 7, 8, 9, 10, 11, 12, 13, 14, 15, 16, 17, 18, 19, 20, 21, 22, 23], \"xaxis\": \"x\", \"y\": [54, 86, 20, 14, 17, 48, 209, 270, 294, 323, 302, 340, 354, 321, 307, 342, 363, 409, 402, 372, 327, 252, 208, 69, 20, 21, 11, 5, 4, 14, 65, 92, 92, 128, 110, 118, 129, 112, 98, 92, 114, 119, 129, 110, 88, 65, 40, 25], \"yaxis\": \"y\", \"type\": \"bar\"}, {\"alignmentgroup\": \"True\", \"hovertemplate\": \"direction=up<br>floor=14<br>Local Time (GMT+8)=%{x}<br>Frequency=%{y}<extra></extra>\", \"legendgroup\": \"up\", \"marker\": {\"color\": \"#EF553B\"}, \"name\": \"up\", \"offsetgroup\": \"up\", \"orientation\": \"v\", \"showlegend\": true, \"textposition\": \"auto\", \"x\": [0, 1, 2, 3, 4, 5, 6, 7, 8, 9, 10, 11, 12, 13, 14, 15, 16, 17, 18, 19, 20, 21, 22, 23, 0, 1, 2, 3, 4, 5, 6, 7, 8, 9, 10, 11, 12, 13, 14, 15, 16, 17, 18, 19, 20, 21, 22, 23], \"xaxis\": \"x2\", \"y\": [1, 1, 0, 0, 0, 1, 14, 10, 16, 10, 8, 13, 14, 20, 17, 5, 21, 14, 4, 6, 5, 13, 4, 1, 1, 1, 0, 1, 0, 0, 0, 2, 2, 2, 1, 5, 2, 4, 1, 5, 4, 3, 1, 2, 2, 4, 4, 0], \"yaxis\": \"y2\", \"type\": \"bar\"}], \"name\": \"14\"}, {\"data\": [{\"alignmentgroup\": \"True\", \"hovertemplate\": \"direction=down<br>floor=15<br>Local Time (GMT+8)=%{x}<br>Frequency=%{y}<extra></extra>\", \"legendgroup\": \"down\", \"marker\": {\"color\": \"#636efa\"}, \"name\": \"down\", \"offsetgroup\": \"down\", \"orientation\": \"v\", \"showlegend\": true, \"textposition\": \"auto\", \"x\": [0, 1, 2, 3, 4, 5, 6, 7, 8, 9, 10, 11, 12, 13, 14, 15, 16, 17, 18, 19, 20, 21, 22, 23, 0, 1, 2, 3, 4, 5, 6, 7, 8, 9, 10, 11, 12, 13, 14, 15, 16, 17, 18, 19, 20, 21, 22, 23], \"xaxis\": \"x\", \"y\": [30, 10, 0, 3, 0, 4, 6, 81, 139, 164, 148, 204, 204, 165, 149, 186, 204, 224, 114, 93, 66, 48, 27, 28, 17, 7, 2, 3, 0, 1, 6, 15, 31, 31, 29, 62, 30, 23, 30, 27, 56, 45, 25, 15, 15, 9, 4, 5], \"yaxis\": \"y\", \"type\": \"bar\"}, {\"alignmentgroup\": \"True\", \"hovertemplate\": \"direction=up<br>floor=15<br>Local Time (GMT+8)=%{x}<br>Frequency=%{y}<extra></extra>\", \"legendgroup\": \"up\", \"marker\": {\"color\": \"#EF553B\"}, \"name\": \"up\", \"offsetgroup\": \"up\", \"orientation\": \"v\", \"showlegend\": true, \"textposition\": \"auto\", \"x\": [0, 1, 2, 3, 4, 5, 6, 7, 8, 9, 10, 11, 12, 13, 14, 15, 16, 17, 18, 19, 20, 21, 22, 23, 0, 1, 2, 3, 4, 5, 6, 7, 8, 9, 10, 11, 12, 13, 14, 15, 16, 17, 18, 19, 20, 21, 22, 23], \"xaxis\": \"x2\", \"y\": [0, 0, 0, 0, 0, 0, 0, 0, 0, 0, 0, 0, 0, 0, 0, 0, 0, 0, 0, 0, 0, 0, 0, 0, 0, 0, 0, 0, 0, 0, 0, 0, 0, 0, 0, 0, 0, 0, 0, 0, 0, 0, 0, 0, 0, 0, 0, 0], \"yaxis\": \"y2\", \"type\": \"bar\"}], \"name\": \"15\"}, {\"data\": [{\"alignmentgroup\": \"True\", \"hovertemplate\": \"direction=down<br>floor=B1<br>Local Time (GMT+8)=%{x}<br>Frequency=%{y}<extra></extra>\", \"legendgroup\": \"down\", \"marker\": {\"color\": \"#636efa\"}, \"name\": \"down\", \"offsetgroup\": \"down\", \"orientation\": \"v\", \"showlegend\": true, \"textposition\": \"auto\", \"x\": [0, 1, 2, 3, 4, 5, 6, 7, 8, 9, 10, 11, 12, 13, 14, 15, 16, 17, 18, 19, 20, 21, 22, 23, 0, 1, 2, 3, 4, 5, 6, 7, 8, 9, 10, 11, 12, 13, 14, 15, 16, 17, 18, 19, 20, 21, 22, 23], \"xaxis\": \"x\", \"y\": [5, 18, 1, 1, 0, 0, 40, 65, 98, 100, 105, 129, 134, 142, 124, 101, 132, 121, 71, 64, 47, 34, 12, 11, 3, 3, 0, 0, 0, 0, 5, 20, 12, 16, 12, 19, 30, 16, 13, 10, 15, 16, 20, 13, 11, 3, 4, 0], \"yaxis\": \"y\", \"type\": \"bar\"}, {\"alignmentgroup\": \"True\", \"hovertemplate\": \"direction=up<br>floor=B1<br>Local Time (GMT+8)=%{x}<br>Frequency=%{y}<extra></extra>\", \"legendgroup\": \"up\", \"marker\": {\"color\": \"#EF553B\"}, \"name\": \"up\", \"offsetgroup\": \"up\", \"orientation\": \"v\", \"showlegend\": true, \"textposition\": \"auto\", \"x\": [0, 1, 2, 3, 4, 5, 6, 7, 8, 9, 10, 11, 12, 13, 14, 15, 16, 17, 18, 19, 20, 21, 22, 23, 0, 1, 2, 3, 4, 5, 6, 7, 8, 9, 10, 11, 12, 13, 14, 15, 16, 17, 18, 19, 20, 21, 22, 23], \"xaxis\": \"x2\", \"y\": [39, 39, 18, 24, 27, 35, 381, 602, 567, 460, 411, 469, 499, 454, 461, 440, 463, 535, 558, 533, 546, 354, 234, 167, 16, 14, 11, 8, 5, 25, 140, 256, 224, 221, 196, 205, 221, 235, 205, 184, 194, 220, 231, 217, 159, 96, 79, 70], \"yaxis\": \"y2\", \"type\": \"bar\"}], \"name\": \"B1\"}, {\"data\": [{\"alignmentgroup\": \"True\", \"hovertemplate\": \"direction=down<br>floor=B3<br>Local Time (GMT+8)=%{x}<br>Frequency=%{y}<extra></extra>\", \"legendgroup\": \"down\", \"marker\": {\"color\": \"#636efa\"}, \"name\": \"down\", \"offsetgroup\": \"down\", \"orientation\": \"v\", \"showlegend\": true, \"textposition\": \"auto\", \"x\": [0, 1, 2, 3, 4, 5, 6, 7, 8, 9, 10, 11, 12, 13, 14, 15, 16, 17, 18, 19, 20, 21, 22, 23, 0, 1, 2, 3, 4, 5, 6, 7, 8, 9, 10, 11, 12, 13, 14, 15, 16, 17, 18, 19, 20, 21, 22, 23], \"xaxis\": \"x\", \"y\": [1, 0, 0, 0, 0, 0, 1, 17, 15, 18, 31, 29, 28, 17, 26, 37, 37, 8, 2, 4, 0, 3, 1, 0, 0, 0, 0, 0, 0, 0, 0, 2, 0, 0, 0, 3, 3, 1, 4, 1, 0, 0, 0, 0, 0, 1, 3, 0], \"yaxis\": \"y\", \"type\": \"bar\"}, {\"alignmentgroup\": \"True\", \"hovertemplate\": \"direction=up<br>floor=B3<br>Local Time (GMT+8)=%{x}<br>Frequency=%{y}<extra></extra>\", \"legendgroup\": \"up\", \"marker\": {\"color\": \"#EF553B\"}, \"name\": \"up\", \"offsetgroup\": \"up\", \"orientation\": \"v\", \"showlegend\": true, \"textposition\": \"auto\", \"x\": [0, 1, 2, 3, 4, 5, 6, 7, 8, 9, 10, 11, 12, 13, 14, 15, 16, 17, 18, 19, 20, 21, 22, 23, 0, 1, 2, 3, 4, 5, 6, 7, 8, 9, 10, 11, 12, 13, 14, 15, 16, 17, 18, 19, 20, 21, 22, 23], \"xaxis\": \"x2\", \"y\": [1, 1, 0, 0, 2, 1, 33, 225, 179, 161, 113, 108, 117, 103, 89, 116, 90, 69, 45, 45, 14, 22, 16, 11, 1, 1, 0, 0, 1, 3, 3, 20, 18, 13, 25, 40, 15, 19, 36, 13, 13, 8, 5, 5, 5, 5, 14, 9], \"yaxis\": \"y2\", \"type\": \"bar\"}], \"name\": \"B3\"}, {\"data\": [{\"alignmentgroup\": \"True\", \"hovertemplate\": \"direction=down<br>floor=B4<br>Local Time (GMT+8)=%{x}<br>Frequency=%{y}<extra></extra>\", \"legendgroup\": \"down\", \"marker\": {\"color\": \"#636efa\"}, \"name\": \"down\", \"offsetgroup\": \"down\", \"orientation\": \"v\", \"showlegend\": true, \"textposition\": \"auto\", \"x\": [0, 1, 2, 3, 4, 5, 6, 7, 8, 9, 10, 11, 12, 13, 14, 15, 16, 17, 18, 19, 20, 21, 22, 23, 0, 1, 2, 3, 4, 5, 6, 7, 8, 9, 10, 11, 12, 13, 14, 15, 16, 17, 18, 19, 20, 21, 22, 23], \"xaxis\": \"x\", \"y\": [0, 0, 0, 0, 0, 0, 0, 0, 0, 0, 0, 0, 0, 0, 0, 0, 0, 0, 0, 0, 0, 0, 0, 0, 0, 0, 0, 0, 0, 0, 0, 0, 0, 0, 0, 0, 0, 0, 0, 0, 0, 0, 0, 0, 0, 0, 0, 0], \"yaxis\": \"y\", \"type\": \"bar\"}, {\"alignmentgroup\": \"True\", \"hovertemplate\": \"direction=up<br>floor=B4<br>Local Time (GMT+8)=%{x}<br>Frequency=%{y}<extra></extra>\", \"legendgroup\": \"up\", \"marker\": {\"color\": \"#EF553B\"}, \"name\": \"up\", \"offsetgroup\": \"up\", \"orientation\": \"v\", \"showlegend\": true, \"textposition\": \"auto\", \"x\": [0, 1, 2, 3, 4, 5, 6, 7, 8, 9, 10, 11, 12, 13, 14, 15, 16, 17, 18, 19, 20, 21, 22, 23, 0, 1, 2, 3, 4, 5, 6, 7, 8, 9, 10, 11, 12, 13, 14, 15, 16, 17, 18, 19, 20, 21, 22, 23], \"xaxis\": \"x2\", \"y\": [9, 4, 4, 4, 4, 14, 81, 311, 286, 242, 257, 264, 200, 251, 287, 299, 302, 270, 161, 100, 66, 63, 12, 29, 3, 0, 0, 2, 2, 2, 7, 33, 44, 56, 28, 34, 32, 37, 42, 33, 38, 29, 24, 21, 16, 18, 1, 5], \"yaxis\": \"y2\", \"type\": \"bar\"}], \"name\": \"B4\"}]);\n",
       "                        }).then(function(){\n",
       "                            \n",
       "var gd = document.getElementById('a8ad92eb-fe4c-4e67-8760-8efa8452a4b9');\n",
       "var x = new MutationObserver(function (mutations, observer) {{\n",
       "        var display = window.getComputedStyle(gd).display;\n",
       "        if (!display || display === 'none') {{\n",
       "            console.log([gd, 'removed!']);\n",
       "            Plotly.purge(gd);\n",
       "            observer.disconnect();\n",
       "        }}\n",
       "}});\n",
       "\n",
       "// Listen for the removal of the full notebook cells\n",
       "var notebookContainer = gd.closest('#notebook-container');\n",
       "if (notebookContainer) {{\n",
       "    x.observe(notebookContainer, {childList: true});\n",
       "}}\n",
       "\n",
       "// Listen for the clearing of the current output cell\n",
       "var outputEl = gd.closest('.output');\n",
       "if (outputEl) {{\n",
       "    x.observe(outputEl, {childList: true});\n",
       "}}\n",
       "\n",
       "                        })\n",
       "                };\n",
       "                });\n",
       "            </script>\n",
       "        </div>"
      ]
     },
     "metadata": {},
     "output_type": "display_data"
    }
   ],
   "source": [
    "fig = px.bar(data_frame=df_s, \n",
    "             x = \"hour\", y = \"count\",\n",
    "             facet_col=\"direction\",color=\"direction\",\n",
    "             animation_frame=\"floor\",\n",
    "             labels={\"count\":\"Frequency\",\n",
    "                     \"hour\":\"Local Time (GMT+8)\"})\n",
    "# X axis\n",
    "fig.update_xaxes(nticks=len(floor_list),\n",
    "                 type=\"category\",\n",
    "                 categoryarray=[0,24])\n",
    "\n",
    "# Y axis\n",
    "fig.update_yaxes(range=[0, 1000])\n",
    "\n",
    "# Layout\n",
    "fig.update_layout(title_text='Frequency of Elevator Calls by Time')\n",
    "\n",
    "fig.show()"
   ]
  },
  {
   "cell_type": "markdown",
   "metadata": {},
   "source": [
    "## Data"
   ]
  },
  {
   "cell_type": "code",
   "execution_count": 6,
   "metadata": {},
   "outputs": [],
   "source": [
    "import plotly.graph_objects as go\n",
    "from ipywidgets import widgets"
   ]
  },
  {
   "cell_type": "markdown",
   "metadata": {},
   "source": [
    "將不同大樓資料混在一起，依大樓名稱貼標"
   ]
  },
  {
   "cell_type": "code",
   "execution_count": null,
   "metadata": {},
   "outputs": [],
   "source": [
    "## 檔案名(註:資料是arregate後的table)\n",
    "\n",
    "files_list = ['研究大樓','北棟病床梯','南棟客梯', '南棟病床梯', '北棟客梯']\n",
    "\n",
    "df = pd.DataFrame()\n",
    "\n",
    "for i in files_list:\n",
    "    data = pd.read_csv(i+'.csv', index_col = 0)\n",
    "    data['building'] = i\n",
    "    print(i)\n",
    "    print(data.shape)\n",
    "    \n",
    "    df = df.append(data, ignore_index = True) \n",
    "\n",
    "## 請檢查表格的數量是否正確 有些表格有缺失(e.g.北棟客梯)\n",
    "    \n",
    "print(df.shape)\n",
    "print(df.head())"
   ]
  },
  {
   "cell_type": "markdown",
   "metadata": {},
   "source": [
    "## Dash"
   ]
  },
  {
   "cell_type": "code",
   "execution_count": null,
   "metadata": {},
   "outputs": [
    {
     "name": "stdout",
     "output_type": "stream",
     "text": [
      "Running on http://127.0.0.1:8050/\n",
      "Debugger PIN: 024-494-665\n",
      " * Serving Flask app \"__main__\" (lazy loading)\n",
      " * Environment: production\n",
      "   WARNING: Do not use the development server in a production environment.\n",
      "   Use a production WSGI server instead.\n",
      " * Debug mode: on\n"
     ]
    }
   ],
   "source": [
    "import dash\n",
    "import dash_core_components as dcc\n",
    "import dash_html_components as html\n",
    "from dash.dependencies import Input, Output\n",
    "\n",
    "app = dash.Dash()\n",
    "app.layout = html.Div([\n",
    "    html.H1('Outer calls'),\n",
    "    html.H3('By Floor'),\n",
    "    dcc.Dropdown(\n",
    "        id=\"building1\",\n",
    "        options=[\n",
    "            {'label': '研究大樓', 'value': '研究大樓'},\n",
    "            {'label': '北棟病床梯', 'value': '北棟病床梯'},\n",
    "            {'label': '南棟電梯', 'value': '南棟電梯'}\n",
    "        ],\n",
    "        value='研究大樓'\n",
    "    ),\n",
    "    dcc.Dropdown(\n",
    "        id=\"week1\",\n",
    "        options=[\n",
    "            {'label': '全日', 'value': 'total'},\n",
    "            {'label': '平日', 'value': 'weekday'},\n",
    "            {'label': '假日', 'value': 'weekend'}\n",
    "        ],\n",
    "        value='total'\n",
    "    ),\n",
    "    dcc.Graph(id=\"graph1\"),\n",
    "    \n",
    "    \n",
    "    html.H3('By Hour'),\n",
    "    dcc.Dropdown(\n",
    "        id=\"building2\",\n",
    "        options=[\n",
    "            {'label': '研究大樓', 'value': '研究大樓'},\n",
    "            {'label': '北棟病床梯', 'value': '北棟病床梯'},\n",
    "            {'label': '北棟病床梯', 'value': '北棟病床梯'},\n",
    "            {'label': '南棟電梯', 'value': '南棟電梯'},\n",
    "            {'label': '南棟病床梯', 'value': '南棟病床梯'}\n",
    "        ],\n",
    "        value='研究大樓'\n",
    "    ),\n",
    "        dcc.Dropdown(\n",
    "        id=\"week2\",\n",
    "        options=[\n",
    "            {'label': '全日', 'value': 'total'},\n",
    "            {'label': '平日', 'value': 'weekday'},\n",
    "            {'label': '假日', 'value': 'weekend'}\n",
    "        ],\n",
    "        value='total'\n",
    "    ),\n",
    "    dcc.Graph(id=\"graph2\")\n",
    "])\n",
    "\n",
    "@app.callback(\n",
    "    Output('graph1', 'figure'),\n",
    "    [Input('building1', 'value'),\n",
    "     Input('week1', 'value')])\n",
    "def update_figure(selected_building, selected_week):\n",
    "    \n",
    "    ## Building\n",
    "    temp = df[df.building == selected_building]\n",
    "    \n",
    "    ## Weekday / Weekend\n",
    "    if (selected_week != 'total'):\n",
    "        temp = temp[temp.week == selected_week]\n",
    "        \n",
    "        \n",
    "    fig = px.bar(data_frame=temp,\n",
    "                 x = \"floor\", y = \"count\",\n",
    "                 facet_col=\"direction\",color=\"direction\",\n",
    "                 animation_frame=\"hour\",\n",
    "                 labels={\"count\":\"Frequency\",\n",
    "                         \"hour\":\"Local Time (GMT+8)\"})\n",
    "    fig.update_xaxes(nticks=len(floor_list),\n",
    "                     type=\"category\",\n",
    "                    categoryarray=floor_list)\n",
    "    fig.update_yaxes(range=[0, 1000])\n",
    "    fig.update_layout(title_text='Frequency of Elevator Calls in ' + selected_building + ' ('+ selected_week +')')\n",
    "    \n",
    "    return fig\n",
    "\n",
    "\n",
    "\n",
    "@app.callback(\n",
    "    Output('graph2', 'figure'),\n",
    "    [Input('building2', 'value'),\n",
    "     Input('week2', 'value')])\n",
    "def update_figure(selected_building, selected_week):\n",
    "    \n",
    "    ## Building\n",
    "    temp = df[df.building == selected_building]\n",
    "    \n",
    "    ## Weekday / Weekend\n",
    "    if (selected_week != 'total'):\n",
    "        temp = temp[temp.week == selected_week]\n",
    "        \n",
    "    \n",
    "    fig = px.bar(data_frame=temp, \n",
    "             x = \"hour\", y = \"count\",\n",
    "             facet_col=\"direction\",color=\"direction\",\n",
    "             animation_frame=\"floor\",\n",
    "             labels={\"count\":\"Frequency\",\n",
    "                     \"hour\":\"Local Time (GMT+8)\"})\n",
    "    fig.update_xaxes(nticks=len(floor_list),\n",
    "                     type=\"category\",\n",
    "                     categoryarray=[0,24])\n",
    "    fig.update_yaxes(range=[0, 1000])\n",
    "    fig.update_layout(title_text='Frequency of Elevator Calls by Time in ' + selected_building + ' ('+ selected_week +')')\n",
    "    return fig\n",
    "        \n",
    "app.run_server(debug=True, use_reloader=False)"
   ]
  }
 ],
 "metadata": {
  "kernelspec": {
   "display_name": "Python 3",
   "language": "python",
   "name": "python3"
  },
  "language_info": {
   "codemirror_mode": {
    "name": "ipython",
    "version": 3
   },
   "file_extension": ".py",
   "mimetype": "text/x-python",
   "name": "python",
   "nbconvert_exporter": "python",
   "pygments_lexer": "ipython3",
   "version": "3.7.3"
  }
 },
 "nbformat": 4,
 "nbformat_minor": 2
}
